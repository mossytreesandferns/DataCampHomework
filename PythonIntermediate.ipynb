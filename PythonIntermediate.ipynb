{
  "nbformat": 4,
  "nbformat_minor": 0,
  "metadata": {
    "colab": {
      "name": "PythonIntermediate.ipynb",
      "provenance": [],
      "authorship_tag": "ABX9TyN50O44kfjMxVLfLSk11jyO",
      "include_colab_link": true
    },
    "kernelspec": {
      "name": "python3",
      "display_name": "Python 3"
    }
  },
  "cells": [
    {
      "cell_type": "markdown",
      "metadata": {
        "id": "view-in-github",
        "colab_type": "text"
      },
      "source": [
        "<a href=\"https://colab.research.google.com/github/mossytreesandferns/DataCampHomework/blob/master/PythonIntermediate.ipynb\" target=\"_parent\"><img src=\"https://colab.research.google.com/assets/colab-badge.svg\" alt=\"Open In Colab\"/></a>"
      ]
    },
    {
      "cell_type": "code",
      "metadata": {
        "id": "hMWJq7-Y6J0R",
        "colab_type": "code",
        "outputId": "de9fce74-e539-4a35-9bcc-ef84249a3beb",
        "colab": {
          "base_uri": "https://localhost:8080/",
          "height": 122
        }
      },
      "source": [
        "#Mount my drive- run the code, go to the link, accept.\n",
        "from google.colab import drive\n",
        "drive.mount('/content/gdrive')"
      ],
      "execution_count": 1,
      "outputs": [
        {
          "output_type": "stream",
          "text": [
            "Go to this URL in a browser: https://accounts.google.com/o/oauth2/auth?client_id=947318989803-6bn6qk8qdgf4n4g3pfee6491hc0brc4i.apps.googleusercontent.com&redirect_uri=urn%3aietf%3awg%3aoauth%3a2.0%3aoob&response_type=code&scope=email%20https%3a%2f%2fwww.googleapis.com%2fauth%2fdocs.test%20https%3a%2f%2fwww.googleapis.com%2fauth%2fdrive%20https%3a%2f%2fwww.googleapis.com%2fauth%2fdrive.photos.readonly%20https%3a%2f%2fwww.googleapis.com%2fauth%2fpeopleapi.readonly\n",
            "\n",
            "Enter your authorization code:\n",
            "··········\n",
            "Mounted at /content/gdrive\n"
          ],
          "name": "stdout"
        }
      ]
    },
    {
      "cell_type": "code",
      "metadata": {
        "id": "sdIC6lp26Pb3",
        "colab_type": "code",
        "outputId": "3953e60b-dd0a-4130-d951-059bef653271",
        "colab": {
          "base_uri": "https://localhost:8080/",
          "height": 34
        }
      },
      "source": [
        "#Change working directory to make it easier to access the files\n",
        "import os\n",
        "os.chdir(\"/content/gdrive/My Drive/Colab Notebooks/\")\n",
        "os.getcwd()"
      ],
      "execution_count": 2,
      "outputs": [
        {
          "output_type": "execute_result",
          "data": {
            "text/plain": [
              "'/content/gdrive/My Drive/Colab Notebooks'"
            ]
          },
          "metadata": {
            "tags": []
          },
          "execution_count": 2
        }
      ]
    },
    {
      "cell_type": "markdown",
      "metadata": {
        "id": "NXInrduV6S4T",
        "colab_type": "text"
      },
      "source": [
        "# Matplotlib"
      ]
    },
    {
      "cell_type": "markdown",
      "metadata": {
        "id": "ZGBHtO2cITGM",
        "colab_type": "text"
      },
      "source": [
        "### Line plots and scatterplots"
      ]
    },
    {
      "cell_type": "code",
      "metadata": {
        "id": "dsD2lNXO6PgE",
        "colab_type": "code",
        "outputId": "5bc774c8-be3d-4475-bb55-e6a4c0a5a0f5",
        "colab": {
          "base_uri": "https://localhost:8080/",
          "height": 265
        }
      },
      "source": [
        "import matplotlib.pyplot as plt\n",
        "year = [1950, 1970, 1990, 2010]\n",
        "population = [2.519, 3.692,5.263, 6.541]\n",
        "plt.plot(year, population)\n",
        "plt.show()"
      ],
      "execution_count": 0,
      "outputs": [
        {
          "output_type": "display_data",
          "data": {
            "image/png": "[encoded data removed]",
            "text/plain": [
              "<Figure size 432x288 with 1 Axes>"
            ]
          },
          "metadata": {
            "tags": []
          }
        }
      ]
    },
    {
      "cell_type": "code",
      "metadata": {
        "id": "Hwv0Jm6GFMda",
        "colab_type": "code",
        "outputId": "68c55bdd-801f-4b1f-d550-2bedffde6a80",
        "colab": {
          "base_uri": "https://localhost:8080/",
          "height": 265
        }
      },
      "source": [
        "import matplotlib.pyplot as plt\n",
        "year = [1950, 1970, 1990, 2010]\n",
        "population = [2.519, 3.692,5.263, 6.541]\n",
        "plt.scatter(year, population)\n",
        "plt.show()\n"
      ],
      "execution_count": 0,
      "outputs": [
        {
          "output_type": "display_data",
          "data": {
            "image/png": "[encoded data removed]",
            "text/plain": [
              "<Figure size 432x288 with 1 Axes>"
            ]
          },
          "metadata": {
            "tags": []
          }
        }
      ]
    },
    {
      "cell_type": "code",
      "metadata": {
        "id": "LnxO4TyOFQEe",
        "colab_type": "code",
        "outputId": "ec207d17-90eb-4831-a0f6-03d6155514a3",
        "colab": {
          "base_uri": "https://localhost:8080/",
          "height": 34
        }
      },
      "source": [
        "print(year[-1], population[-1])"
      ],
      "execution_count": 0,
      "outputs": [
        {
          "output_type": "stream",
          "text": [
            "2010 6.541\n"
          ],
          "name": "stdout"
        }
      ]
    },
    {
      "cell_type": "code",
      "metadata": {
        "id": "EsP2yoVrGXM1",
        "colab_type": "code",
        "outputId": "43ef89d8-89d5-4c6a-b3ab-ce3774f1fa9a",
        "colab": {
          "base_uri": "https://localhost:8080/",
          "height": 268
        }
      },
      "source": [
        "import matplotlib.pyplot as plt\n",
        "year = [1950, 1970, 1990, 2010, 2030, 2050]\n",
        "population = [2.519, 3.692,5.263, 6.541, 8.5, 9.8]\n",
        "plt.xscale('log')\n",
        "plt.scatter(year, population)\n",
        "plt.show()"
      ],
      "execution_count": 0,
      "outputs": [
        {
          "output_type": "display_data",
          "data": {
            "image/png": "[encoded data removed]",
            "text/plain": [
              "<Figure size 432x288 with 1 Axes>"
            ]
          },
          "metadata": {
            "tags": []
          }
        }
      ]
    },
    {
      "cell_type": "markdown",
      "metadata": {
        "id": "bKeG97d5IYav",
        "colab_type": "text"
      },
      "source": [
        "### Histograms"
      ]
    },
    {
      "cell_type": "code",
      "metadata": {
        "id": "kkGPGmGHG6gB",
        "colab_type": "code",
        "colab": {}
      },
      "source": [
        "#help(plt.hist)"
      ],
      "execution_count": 0,
      "outputs": []
    },
    {
      "cell_type": "code",
      "metadata": {
        "id": "RRqvH3VbItWa",
        "colab_type": "code",
        "outputId": "85373356-99d8-461f-8a88-c3c151b57e89",
        "colab": {
          "base_uri": "https://localhost:8080/",
          "height": 282
        }
      },
      "source": [
        "floats = [0.9, 1.1, 1.3, 2.3, 3.3, 2.2, 2.9, 3.5, 4.5, 5.2, 7.0]\n",
        "plt.hist(floats)\n",
        "plt.show()\n",
        "plt.clf()"
      ],
      "execution_count": 0,
      "outputs": [
        {
          "output_type": "display_data",
          "data": {
            "image/png": "[encoded data removed]",
            "text/plain": [
              "<Figure size 432x288 with 1 Axes>"
            ]
          },
          "metadata": {
            "tags": []
          }
        },
        {
          "output_type": "display_data",
          "data": {
            "text/plain": [
              "<Figure size 432x288 with 0 Axes>"
            ]
          },
          "metadata": {
            "tags": []
          }
        }
      ]
    },
    {
      "cell_type": "code",
      "metadata": {
        "id": "_zqlRWmtJU9I",
        "colab_type": "code",
        "outputId": "3632f862-b40d-47db-a0e8-097f24959847",
        "colab": {
          "base_uri": "https://localhost:8080/",
          "height": 282
        }
      },
      "source": [
        "floats = [0.9, 1.1, 1.3, 2.3, 3.3, 2.2, 2.9, 3.5, 4.5, 5.2, 7.0]\n",
        "plt.hist(floats, bins=[0,2,4,6,8])\n",
        "plt.show()\n",
        "plt.clf()"
      ],
      "execution_count": 0,
      "outputs": [
        {
          "output_type": "display_data",
          "data": {
            "image/png": "[encoded data removed]",
            "text/plain": [
              "<Figure size 432x288 with 1 Axes>"
            ]
          },
          "metadata": {
            "tags": []
          }
        },
        {
          "output_type": "display_data",
          "data": {
            "text/plain": [
              "<Figure size 432x288 with 0 Axes>"
            ]
          },
          "metadata": {
            "tags": []
          }
        }
      ]
    },
    {
      "cell_type": "markdown",
      "metadata": {
        "id": "uk6Nz0fxJV2V",
        "colab_type": "text"
      },
      "source": [
        "### Customization"
      ]
    },
    {
      "cell_type": "code",
      "metadata": {
        "id": "xQ__gaUDGmtJ",
        "colab_type": "code",
        "outputId": "878c1687-61fd-4761-e625-3efd364e6065",
        "colab": {
          "base_uri": "https://localhost:8080/",
          "height": 295
        }
      },
      "source": [
        "year = [1950, 1970, 1990, 2010]\n",
        "population = [2.519, 3.692,5.263, 6.541]\n",
        "\n",
        "# Add more data\n",
        "year = [1850, 1890, 1930] + year\n",
        "population = [1.1, 1.5, 1.9] + population\n",
        "\n",
        "plt.plot(year, population)\n",
        "\n",
        "plt.xlabel(\"Year\")\n",
        "plt.ylabel(\"Population\")\n",
        "plt.title(\"Population Over Time\")\n",
        "plt.yticks([0,2,4,6,8],[\"0\",\"2b\",\"4b\",\"6b\",\"8b\"])\n",
        "# Can do the same for xticks\n",
        "\n",
        "\n",
        "plt.show()"
      ],
      "execution_count": 0,
      "outputs": [
        {
          "output_type": "display_data",
          "data": {
            "image/png": "[encoded data removed]",
            "text/plain": [
              "<Figure size 432x288 with 1 Axes>"
            ]
          },
          "metadata": {
            "tags": []
          }
        }
      ]
    },
    {
      "cell_type": "code",
      "metadata": {
        "id": "yvBWzbHJJ5bc",
        "colab_type": "code",
        "outputId": "224a70e0-c1d8-4502-d68a-9f21cb89d8af",
        "colab": {
          "base_uri": "https://localhost:8080/",
          "height": 295
        }
      },
      "source": [
        "year = [1950, 1970, 1990, 2010]\n",
        "population = [2.519, 3.692,5.263, 6.541]\n",
        "\n",
        "# Add more data\n",
        "year = [1850, 1890, 1930] + year\n",
        "population = [1.1, 1.5, 1.9] + population\n",
        "\n",
        "plt.scatter(year, population)\n",
        "\n",
        "plt.xlabel(\"Year\")\n",
        "plt.ylabel(\"Population\")\n",
        "plt.title(\"Population Over Time\")\n",
        "plt.yticks([0,2,4,6,8],[\"0\",\"2b\",\"4b\",\"6b\",\"8b\"])\n",
        "# Can do the same for xticks\n",
        "\n",
        "\n",
        "plt.show()"
      ],
      "execution_count": 0,
      "outputs": [
        {
          "output_type": "display_data",
          "data": {
            "image/png": "[encoded data removed]",
            "text/plain": [
              "<Figure size 432x288 with 1 Axes>"
            ]
          },
          "metadata": {
            "tags": []
          }
        }
      ]
    },
    {
      "cell_type": "code",
      "metadata": {
        "id": "Fj8qrz-LL7Ub",
        "colab_type": "code",
        "outputId": "b113a971-755f-4926-b414-65b0100feebb",
        "colab": {
          "base_uri": "https://localhost:8080/",
          "height": 295
        }
      },
      "source": [
        "\n",
        "year = [1950, 1970, 1990, 2010]\n",
        "population = [2.519, 3.692,5.263, 6.541]\n",
        "import numpy as np\n",
        "\n",
        "year = [1850, 1890, 1930] + year\n",
        "population = [1.1, 1.5, 1.9] + population\n",
        "np_pop = np.array(population)\n",
        "np_pop = np_pop**2\n",
        "\n",
        "plt.scatter(year,population, s=np_pop)\n",
        "\n",
        "plt.xlabel(\"Year\")\n",
        "plt.ylabel(\"Population\")\n",
        "plt.title(\"Population Over Time\")\n",
        "plt.yticks([0,2,4,6,8],[\"0\",\"2b\",\"4b\",\"6b\",\"8b\"])\n",
        "# Can do the same for xticks\n",
        "\n",
        "\n",
        "plt.show()\n"
      ],
      "execution_count": 0,
      "outputs": [
        {
          "output_type": "display_data",
          "data": {
            "image/png": "[encoded data removed]",
            "text/plain": [
              "<Figure size 432x288 with 1 Axes>"
            ]
          },
          "metadata": {
            "tags": []
          }
        }
      ]
    },
    {
      "cell_type": "code",
      "metadata": {
        "id": "N-QQ1YMyMtBE",
        "colab_type": "code",
        "outputId": "b3671650-9b9a-4dde-9430-6fed64d710c9",
        "colab": {
          "base_uri": "https://localhost:8080/",
          "height": 295
        }
      },
      "source": [
        "year = [1950, 1970, 1990, 2010]\n",
        "population = [2.519, 3.692,5.263, 6.541]\n",
        "import numpy as np\n",
        "\n",
        "year = [1850, 1890, 1930] + year\n",
        "population = [1.1, 1.5, 1.9] + population\n",
        "np_pop = np.array(population)\n",
        "np_pop = np_pop**2\n",
        "\n",
        "plt.scatter(year,population, s=np_pop, c=\"goldenrod\")\n",
        "\n",
        "plt.xlabel(\"Year\")\n",
        "plt.ylabel(\"Population\")\n",
        "plt.title(\"Population Over Time\")\n",
        "plt.yticks([0,2,4,6,8],[\"0\",\"2b\",\"4b\",\"6b\",\"8b\"])\n",
        "# Can do the same for xticks\n",
        "\n",
        "\n",
        "plt.show()\n"
      ],
      "execution_count": 0,
      "outputs": [
        {
          "output_type": "display_data",
          "data": {
            "image/png": "[encoded data removed]",
            "text/plain": [
              "<Figure size 432x288 with 1 Axes>"
            ]
          },
          "metadata": {
            "tags": []
          }
        }
      ]
    },
    {
      "cell_type": "code",
      "metadata": {
        "id": "oRjR3xhiPI2f",
        "colab_type": "code",
        "outputId": "d3be8bda-ee6e-4937-dd9d-103a3201d6ad",
        "colab": {
          "base_uri": "https://localhost:8080/",
          "height": 295
        }
      },
      "source": [
        "year = [1950, 1970, 1990, 2010]\n",
        "population = [2.519, 3.692,5.263, 6.541]\n",
        "import numpy as np\n",
        "\n",
        "year = [1850, 1890, 1930] + year\n",
        "population = [1.1, 1.5, 1.9] + population\n",
        "np_pop = np.array(population)\n",
        "np_pop = np_pop**2\n",
        "\n",
        "plt.scatter(year,population, s=np_pop, c=\"goldenrod\", alpha=.8)\n",
        "\n",
        "plt.xlabel(\"Year\")\n",
        "plt.ylabel(\"Population\")\n",
        "plt.title(\"Population Over Time\")\n",
        "plt.yticks([0,2,4,6,8],[\"0\",\"2b\",\"4b\",\"6b\",\"8b\"])# Can do the same for xticks\n",
        "\n",
        "plt.text(year[1],population[5],\"this is the x text\",fontsize=12)\n",
        "plt.grid(True)\n",
        "plt.show()"
      ],
      "execution_count": 0,
      "outputs": [
        {
          "output_type": "display_data",
          "data": {
            "image/png": "[encoded data removed]",
            "text/plain": [
              "<Figure size 432x288 with 1 Axes>"
            ]
          },
          "metadata": {
            "tags": []
          }
        }
      ]
    },
    {
      "cell_type": "markdown",
      "metadata": {
        "id": "2ikEsDlgpwzL",
        "colab_type": "text"
      },
      "source": [
        "# **Dictionaries with Pandas**"
      ]
    },
    {
      "cell_type": "code",
      "metadata": {
        "id": "rVVAq4jVP66C",
        "colab_type": "code",
        "outputId": "04f901d4-32d7-4f05-eea3-518cc085dcf3",
        "colab": {
          "base_uri": "https://localhost:8080/",
          "height": 34
        }
      },
      "source": [
        "# Definition of countries and capital\n",
        "countries = ['spain', 'france', 'germany', 'norway']\n",
        "capitals = ['madrid', 'paris', 'berlin', 'oslo']\n",
        "\n",
        "# From string in countries and capitals, create dictionary europe\n",
        "europe = { 'spain':'madrid','france':'paris','germany':'berlin','norway':'oslo'  }\n",
        "\n",
        "# Print europe\n",
        "europe"
      ],
      "execution_count": 0,
      "outputs": [
        {
          "output_type": "execute_result",
          "data": {
            "text/plain": [
              "{'france': 'paris', 'germany': 'berlin', 'norway': 'oslo', 'spain': 'madrid'}"
            ]
          },
          "metadata": {
            "tags": []
          },
          "execution_count": 46
        }
      ]
    },
    {
      "cell_type": "code",
      "metadata": {
        "id": "Tjnh8dnUrPU3",
        "colab_type": "code",
        "outputId": "d423013c-52d5-4b31-8b34-2dad8e9c9b3a",
        "colab": {
          "base_uri": "https://localhost:8080/",
          "height": 34
        }
      },
      "source": [
        "europe.keys(), europe['norway']"
      ],
      "execution_count": 0,
      "outputs": [
        {
          "output_type": "execute_result",
          "data": {
            "text/plain": [
              "(dict_keys(['spain', 'france', 'germany', 'norway']), 'oslo')"
            ]
          },
          "metadata": {
            "tags": []
          },
          "execution_count": 47
        }
      ]
    },
    {
      "cell_type": "code",
      "metadata": {
        "id": "9GtYFzyPrmNX",
        "colab_type": "code",
        "outputId": "3ea1eb51-d3c7-4e14-b727-aca7a2511666",
        "colab": {
          "base_uri": "https://localhost:8080/",
          "height": 119
        }
      },
      "source": [
        "europe = {'spain':'madrid', 'france':'paris', 'germany':'bonn',\n",
        "          'norway':'oslo', 'italy':'rome', 'poland':'warsaw',\n",
        "          'australia':'vienna' }\n",
        "europe['germany'] = 'berlin'\n",
        "del(europe['australia'])\n",
        "europe"
      ],
      "execution_count": 0,
      "outputs": [
        {
          "output_type": "execute_result",
          "data": {
            "text/plain": [
              "{'france': 'paris',\n",
              " 'germany': 'berlin',\n",
              " 'italy': 'rome',\n",
              " 'norway': 'oslo',\n",
              " 'poland': 'warsaw',\n",
              " 'spain': 'madrid'}"
            ]
          },
          "metadata": {
            "tags": []
          },
          "execution_count": 48
        }
      ]
    },
    {
      "cell_type": "code",
      "metadata": {
        "id": "6b6XdvyTsuDd",
        "colab_type": "code",
        "outputId": "791c345c-ea30-4db6-81d8-d9c14e32f421",
        "colab": {
          "base_uri": "https://localhost:8080/",
          "height": 34
        }
      },
      "source": [
        "europe = { 'spain': { 'capital':'madrid', 'population':46.77 },\n",
        "           'france': { 'capital':'paris', 'population':66.03 },\n",
        "           'germany': { 'capital':'berlin', 'population':80.62 },\n",
        "           'norway': { 'capital':'oslo', 'population':5.084 } }\n",
        "europe['france']['capital'], europe['france']['population'],           "
      ],
      "execution_count": 0,
      "outputs": [
        {
          "output_type": "execute_result",
          "data": {
            "text/plain": [
              "('paris', 66.03)"
            ]
          },
          "metadata": {
            "tags": []
          },
          "execution_count": 49
        }
      ]
    },
    {
      "cell_type": "markdown",
      "metadata": {
        "id": "JgTgqeS8ub99",
        "colab_type": "text"
      },
      "source": [
        "### Dataframe from dictionary"
      ]
    },
    {
      "cell_type": "code",
      "metadata": {
        "id": "T4mCfFOutO0_",
        "colab_type": "code",
        "outputId": "7daeb73b-0b05-4e9d-9819-d4d6a1da305a",
        "colab": {
          "base_uri": "https://localhost:8080/",
          "height": 170
        }
      },
      "source": [
        "names = ['United States', 'Australia', 'Japan', 'India', 'Russia', 'Morocco', 'Egypt']\n",
        "dr =  [True, False, False, False, True, True, True]\n",
        "cpc = [809, 731, 588, 18, 200, 70, 45]\n",
        "my_dict = {'countries':names, 'drives right': dr, 'cars per capita':cpc}\n",
        "my_dict"
      ],
      "execution_count": 0,
      "outputs": [
        {
          "output_type": "execute_result",
          "data": {
            "text/plain": [
              "{'cars per capita': [809, 731, 588, 18, 200, 70, 45],\n",
              " 'countries': ['United States',\n",
              "  'Australia',\n",
              "  'Japan',\n",
              "  'India',\n",
              "  'Russia',\n",
              "  'Morocco',\n",
              "  'Egypt'],\n",
              " 'drives right': [True, False, False, False, True, True, True]}"
            ]
          },
          "metadata": {
            "tags": []
          },
          "execution_count": 50
        }
      ]
    },
    {
      "cell_type": "code",
      "metadata": {
        "id": "YI6P7hPlveZK",
        "colab_type": "code",
        "outputId": "393c9203-91bb-4d5e-b65d-7a5479354ccd",
        "colab": {
          "base_uri": "https://localhost:8080/",
          "height": 266
        }
      },
      "source": [
        "import pandas as pd\n",
        "my_dict=pd.DataFrame(my_dict)\n",
        "my_dict"
      ],
      "execution_count": 0,
      "outputs": [
        {
          "output_type": "execute_result",
          "data": {
            "text/html": [
              "<div>\n",
              "<style scoped>\n",
              "    .dataframe tbody tr th:only-of-type {\n",
              "        vertical-align: middle;\n",
              "    }\n",
              "\n",
              "    .dataframe tbody tr th {\n",
              "        vertical-align: top;\n",
              "    }\n",
              "\n",
              "    .dataframe thead th {\n",
              "        text-align: right;\n",
              "    }\n",
              "</style>\n",
              "<table border=\"1\" class=\"dataframe\">\n",
              "  <thead>\n",
              "    <tr style=\"text-align: right;\">\n",
              "      <th></th>\n",
              "      <th>countries</th>\n",
              "      <th>drives right</th>\n",
              "      <th>cars per capita</th>\n",
              "    </tr>\n",
              "  </thead>\n",
              "  <tbody>\n",
              "    <tr>\n",
              "      <th>0</th>\n",
              "      <td>United States</td>\n",
              "      <td>True</td>\n",
              "      <td>809</td>\n",
              "    </tr>\n",
              "    <tr>\n",
              "      <th>1</th>\n",
              "      <td>Australia</td>\n",
              "      <td>False</td>\n",
              "      <td>731</td>\n",
              "    </tr>\n",
              "    <tr>\n",
              "      <th>2</th>\n",
              "      <td>Japan</td>\n",
              "      <td>False</td>\n",
              "      <td>588</td>\n",
              "    </tr>\n",
              "    <tr>\n",
              "      <th>3</th>\n",
              "      <td>India</td>\n",
              "      <td>False</td>\n",
              "      <td>18</td>\n",
              "    </tr>\n",
              "    <tr>\n",
              "      <th>4</th>\n",
              "      <td>Russia</td>\n",
              "      <td>True</td>\n",
              "      <td>200</td>\n",
              "    </tr>\n",
              "    <tr>\n",
              "      <th>5</th>\n",
              "      <td>Morocco</td>\n",
              "      <td>True</td>\n",
              "      <td>70</td>\n",
              "    </tr>\n",
              "    <tr>\n",
              "      <th>6</th>\n",
              "      <td>Egypt</td>\n",
              "      <td>True</td>\n",
              "      <td>45</td>\n",
              "    </tr>\n",
              "  </tbody>\n",
              "</table>\n",
              "</div>"
            ],
            "text/plain": [
              "       countries  drives right  cars per capita\n",
              "0  United States          True              809\n",
              "1      Australia         False              731\n",
              "2          Japan         False              588\n",
              "3          India         False               18\n",
              "4         Russia          True              200\n",
              "5        Morocco          True               70\n",
              "6          Egypt          True               45"
            ]
          },
          "metadata": {
            "tags": []
          },
          "execution_count": 51
        }
      ]
    },
    {
      "cell_type": "code",
      "metadata": {
        "id": "vcccO6GsvoYf",
        "colab_type": "code",
        "outputId": "8f26685c-e85a-4b6f-97eb-20b37d1fab4d",
        "colab": {
          "base_uri": "https://localhost:8080/",
          "height": 266
        }
      },
      "source": [
        "my_dict.index = ['us','au','ja','in','ru','mo','eg']\n",
        "my_dict\n"
      ],
      "execution_count": 0,
      "outputs": [
        {
          "output_type": "execute_result",
          "data": {
            "text/html": [
              "<div>\n",
              "<style scoped>\n",
              "    .dataframe tbody tr th:only-of-type {\n",
              "        vertical-align: middle;\n",
              "    }\n",
              "\n",
              "    .dataframe tbody tr th {\n",
              "        vertical-align: top;\n",
              "    }\n",
              "\n",
              "    .dataframe thead th {\n",
              "        text-align: right;\n",
              "    }\n",
              "</style>\n",
              "<table border=\"1\" class=\"dataframe\">\n",
              "  <thead>\n",
              "    <tr style=\"text-align: right;\">\n",
              "      <th></th>\n",
              "      <th>countries</th>\n",
              "      <th>drives right</th>\n",
              "      <th>cars per capita</th>\n",
              "    </tr>\n",
              "  </thead>\n",
              "  <tbody>\n",
              "    <tr>\n",
              "      <th>us</th>\n",
              "      <td>United States</td>\n",
              "      <td>True</td>\n",
              "      <td>809</td>\n",
              "    </tr>\n",
              "    <tr>\n",
              "      <th>au</th>\n",
              "      <td>Australia</td>\n",
              "      <td>False</td>\n",
              "      <td>731</td>\n",
              "    </tr>\n",
              "    <tr>\n",
              "      <th>ja</th>\n",
              "      <td>Japan</td>\n",
              "      <td>False</td>\n",
              "      <td>588</td>\n",
              "    </tr>\n",
              "    <tr>\n",
              "      <th>in</th>\n",
              "      <td>India</td>\n",
              "      <td>False</td>\n",
              "      <td>18</td>\n",
              "    </tr>\n",
              "    <tr>\n",
              "      <th>ru</th>\n",
              "      <td>Russia</td>\n",
              "      <td>True</td>\n",
              "      <td>200</td>\n",
              "    </tr>\n",
              "    <tr>\n",
              "      <th>mo</th>\n",
              "      <td>Morocco</td>\n",
              "      <td>True</td>\n",
              "      <td>70</td>\n",
              "    </tr>\n",
              "    <tr>\n",
              "      <th>eg</th>\n",
              "      <td>Egypt</td>\n",
              "      <td>True</td>\n",
              "      <td>45</td>\n",
              "    </tr>\n",
              "  </tbody>\n",
              "</table>\n",
              "</div>"
            ],
            "text/plain": [
              "        countries  drives right  cars per capita\n",
              "us  United States          True              809\n",
              "au      Australia         False              731\n",
              "ja          Japan         False              588\n",
              "in          India         False               18\n",
              "ru         Russia          True              200\n",
              "mo        Morocco          True               70\n",
              "eg          Egypt          True               45"
            ]
          },
          "metadata": {
            "tags": []
          },
          "execution_count": 52
        }
      ]
    },
    {
      "cell_type": "code",
      "metadata": {
        "id": "RGmT4vG6w1xt",
        "colab_type": "code",
        "outputId": "4bfc62b5-6166-47cb-95d8-5ea7e190b993",
        "colab": {
          "base_uri": "https://localhost:8080/",
          "height": 428
        }
      },
      "source": [
        "data = pd.read_csv('products.csv', error_bad_lines=False)\n",
        "data.head()\n"
      ],
      "execution_count": 0,
      "outputs": [
        {
          "output_type": "stream",
          "text": [
            "b'Skipping line 2001: expected 16 fields, saw 31\\nSkipping line 4000: expected 16 fields, saw 31\\nSkipping line 5999: expected 16 fields, saw 31\\nSkipping line 7998: expected 16 fields, saw 31\\n'\n"
          ],
          "name": "stderr"
        },
        {
          "output_type": "execute_result",
          "data": {
            "text/html": [
              "<div>\n",
              "<style scoped>\n",
              "    .dataframe tbody tr th:only-of-type {\n",
              "        vertical-align: middle;\n",
              "    }\n",
              "\n",
              "    .dataframe tbody tr th {\n",
              "        vertical-align: top;\n",
              "    }\n",
              "\n",
              "    .dataframe thead th {\n",
              "        text-align: right;\n",
              "    }\n",
              "</style>\n",
              "<table border=\"1\" class=\"dataframe\">\n",
              "  <thead>\n",
              "    <tr style=\"text-align: right;\">\n",
              "      <th></th>\n",
              "      <th>item_no</th>\n",
              "      <th>category_name</th>\n",
              "      <th>item_description</th>\n",
              "      <th>vendor</th>\n",
              "      <th>vendor_name</th>\n",
              "      <th>bottle_size</th>\n",
              "      <th>pack</th>\n",
              "      <th>inner_pack</th>\n",
              "      <th>age</th>\n",
              "      <th>proof</th>\n",
              "      <th>list_date</th>\n",
              "      <th>upc</th>\n",
              "      <th>scc</th>\n",
              "      <th>bottle_price</th>\n",
              "      <th>shelf_price</th>\n",
              "      <th>case_cost</th>\n",
              "    </tr>\n",
              "  </thead>\n",
              "  <tbody>\n",
              "    <tr>\n",
              "      <th>0</th>\n",
              "      <td>904616</td>\n",
              "      <td>MISC. AMERICAN CORDIALS &amp; LIQUEURS</td>\n",
              "      <td>Travis Hasse Apple Pie</td>\n",
              "      <td>305</td>\n",
              "      <td>Mhw Ltd</td>\n",
              "      <td>750</td>\n",
              "      <td>12</td>\n",
              "      <td>1</td>\n",
              "      <td>NaN</td>\n",
              "      <td>40</td>\n",
              "      <td>2009-02-11 00:00:00</td>\n",
              "      <td>NaN</td>\n",
              "      <td>NaN</td>\n",
              "      <td>$9.77</td>\n",
              "      <td>14.66</td>\n",
              "      <td>117.22</td>\n",
              "    </tr>\n",
              "    <tr>\n",
              "      <th>1</th>\n",
              "      <td>904617</td>\n",
              "      <td>MISC. IMPORTED CORDIALS &amp; LIQUEURS</td>\n",
              "      <td>D'aristi Xtabentun</td>\n",
              "      <td>391</td>\n",
              "      <td>Anchor Distilling (preiss Imports)</td>\n",
              "      <td>750</td>\n",
              "      <td>12</td>\n",
              "      <td>1</td>\n",
              "      <td>NaN</td>\n",
              "      <td>60</td>\n",
              "      <td>2009-04-24 00:00:00</td>\n",
              "      <td>NaN</td>\n",
              "      <td>NaN</td>\n",
              "      <td>$14.12</td>\n",
              "      <td>21.18</td>\n",
              "      <td>169.40</td>\n",
              "    </tr>\n",
              "    <tr>\n",
              "      <th>2</th>\n",
              "      <td>904618</td>\n",
              "      <td>PEACH BRANDIES</td>\n",
              "      <td>Hiram Walker Peach Brandy</td>\n",
              "      <td>370</td>\n",
              "      <td>Pernod Ricard Usa/austin Nichols</td>\n",
              "      <td>1000</td>\n",
              "      <td>12</td>\n",
              "      <td>1</td>\n",
              "      <td>NaN</td>\n",
              "      <td>60</td>\n",
              "      <td>2009-12-16 00:00:00</td>\n",
              "      <td>NaN</td>\n",
              "      <td>8.954050e+10</td>\n",
              "      <td>$6.50</td>\n",
              "      <td>9.74</td>\n",
              "      <td>77.94</td>\n",
              "    </tr>\n",
              "    <tr>\n",
              "      <th>3</th>\n",
              "      <td>904619</td>\n",
              "      <td>SCOTCH WHISKIES</td>\n",
              "      <td>Oak Cross Whisky</td>\n",
              "      <td>305</td>\n",
              "      <td>Mhw Ltd</td>\n",
              "      <td>750</td>\n",
              "      <td>6</td>\n",
              "      <td>1</td>\n",
              "      <td>NaN</td>\n",
              "      <td>86</td>\n",
              "      <td>2009-12-24 00:00:00</td>\n",
              "      <td>NaN</td>\n",
              "      <td>NaN</td>\n",
              "      <td>$25.33</td>\n",
              "      <td>38.00</td>\n",
              "      <td>152.00</td>\n",
              "    </tr>\n",
              "    <tr>\n",
              "      <th>4</th>\n",
              "      <td>904620</td>\n",
              "      <td>FLAVORED VODKA</td>\n",
              "      <td>Uv Red(cherry) Vodka</td>\n",
              "      <td>380</td>\n",
              "      <td>Phillips Beverage Company</td>\n",
              "      <td>200</td>\n",
              "      <td>24</td>\n",
              "      <td>1</td>\n",
              "      <td>NaN</td>\n",
              "      <td>60</td>\n",
              "      <td>2009-11-05 00:00:00</td>\n",
              "      <td>NaN</td>\n",
              "      <td>1.008710e+13</td>\n",
              "      <td>$1.97</td>\n",
              "      <td>2.96</td>\n",
              "      <td>47.30</td>\n",
              "    </tr>\n",
              "  </tbody>\n",
              "</table>\n",
              "</div>"
            ],
            "text/plain": [
              "   item_no                       category_name  ... shelf_price  case_cost\n",
              "0   904616  MISC. AMERICAN CORDIALS & LIQUEURS  ...       14.66     117.22\n",
              "1   904617  MISC. IMPORTED CORDIALS & LIQUEURS  ...       21.18     169.40\n",
              "2   904618                      PEACH BRANDIES  ...        9.74      77.94\n",
              "3   904619                     SCOTCH WHISKIES  ...       38.00     152.00\n",
              "4   904620                      FLAVORED VODKA  ...        2.96      47.30\n",
              "\n",
              "[5 rows x 16 columns]"
            ]
          },
          "metadata": {
            "tags": []
          },
          "execution_count": 52
        }
      ]
    },
    {
      "cell_type": "code",
      "metadata": {
        "id": "ixyr1PX4xbdu",
        "colab_type": "code",
        "outputId": "fdaa749e-9966-4498-fc6e-40f4b592da50",
        "colab": {
          "base_uri": "https://localhost:8080/",
          "height": 459
        }
      },
      "source": [
        "data = pd.read_csv('products.csv', index_col=0, error_bad_lines=False)\n",
        "data.head()"
      ],
      "execution_count": 0,
      "outputs": [
        {
          "output_type": "stream",
          "text": [
            "b'Skipping line 2001: expected 16 fields, saw 31\\nSkipping line 4000: expected 16 fields, saw 31\\nSkipping line 5999: expected 16 fields, saw 31\\nSkipping line 7998: expected 16 fields, saw 31\\n'\n"
          ],
          "name": "stderr"
        },
        {
          "output_type": "execute_result",
          "data": {
            "text/html": [
              "<div>\n",
              "<style scoped>\n",
              "    .dataframe tbody tr th:only-of-type {\n",
              "        vertical-align: middle;\n",
              "    }\n",
              "\n",
              "    .dataframe tbody tr th {\n",
              "        vertical-align: top;\n",
              "    }\n",
              "\n",
              "    .dataframe thead th {\n",
              "        text-align: right;\n",
              "    }\n",
              "</style>\n",
              "<table border=\"1\" class=\"dataframe\">\n",
              "  <thead>\n",
              "    <tr style=\"text-align: right;\">\n",
              "      <th></th>\n",
              "      <th>category_name</th>\n",
              "      <th>item_description</th>\n",
              "      <th>vendor</th>\n",
              "      <th>vendor_name</th>\n",
              "      <th>bottle_size</th>\n",
              "      <th>pack</th>\n",
              "      <th>inner_pack</th>\n",
              "      <th>age</th>\n",
              "      <th>proof</th>\n",
              "      <th>list_date</th>\n",
              "      <th>upc</th>\n",
              "      <th>scc</th>\n",
              "      <th>bottle_price</th>\n",
              "      <th>shelf_price</th>\n",
              "      <th>case_cost</th>\n",
              "    </tr>\n",
              "    <tr>\n",
              "      <th>item_no</th>\n",
              "      <th></th>\n",
              "      <th></th>\n",
              "      <th></th>\n",
              "      <th></th>\n",
              "      <th></th>\n",
              "      <th></th>\n",
              "      <th></th>\n",
              "      <th></th>\n",
              "      <th></th>\n",
              "      <th></th>\n",
              "      <th></th>\n",
              "      <th></th>\n",
              "      <th></th>\n",
              "      <th></th>\n",
              "      <th></th>\n",
              "    </tr>\n",
              "  </thead>\n",
              "  <tbody>\n",
              "    <tr>\n",
              "      <th>904616</th>\n",
              "      <td>MISC. AMERICAN CORDIALS &amp; LIQUEURS</td>\n",
              "      <td>Travis Hasse Apple Pie</td>\n",
              "      <td>305</td>\n",
              "      <td>Mhw Ltd</td>\n",
              "      <td>750</td>\n",
              "      <td>12</td>\n",
              "      <td>1</td>\n",
              "      <td>NaN</td>\n",
              "      <td>40</td>\n",
              "      <td>2009-02-11 00:00:00</td>\n",
              "      <td>NaN</td>\n",
              "      <td>NaN</td>\n",
              "      <td>$9.77</td>\n",
              "      <td>14.66</td>\n",
              "      <td>117.22</td>\n",
              "    </tr>\n",
              "    <tr>\n",
              "      <th>904617</th>\n",
              "      <td>MISC. IMPORTED CORDIALS &amp; LIQUEURS</td>\n",
              "      <td>D'aristi Xtabentun</td>\n",
              "      <td>391</td>\n",
              "      <td>Anchor Distilling (preiss Imports)</td>\n",
              "      <td>750</td>\n",
              "      <td>12</td>\n",
              "      <td>1</td>\n",
              "      <td>NaN</td>\n",
              "      <td>60</td>\n",
              "      <td>2009-04-24 00:00:00</td>\n",
              "      <td>NaN</td>\n",
              "      <td>NaN</td>\n",
              "      <td>$14.12</td>\n",
              "      <td>21.18</td>\n",
              "      <td>169.40</td>\n",
              "    </tr>\n",
              "    <tr>\n",
              "      <th>904618</th>\n",
              "      <td>PEACH BRANDIES</td>\n",
              "      <td>Hiram Walker Peach Brandy</td>\n",
              "      <td>370</td>\n",
              "      <td>Pernod Ricard Usa/austin Nichols</td>\n",
              "      <td>1000</td>\n",
              "      <td>12</td>\n",
              "      <td>1</td>\n",
              "      <td>NaN</td>\n",
              "      <td>60</td>\n",
              "      <td>2009-12-16 00:00:00</td>\n",
              "      <td>NaN</td>\n",
              "      <td>8.954050e+10</td>\n",
              "      <td>$6.50</td>\n",
              "      <td>9.74</td>\n",
              "      <td>77.94</td>\n",
              "    </tr>\n",
              "    <tr>\n",
              "      <th>904619</th>\n",
              "      <td>SCOTCH WHISKIES</td>\n",
              "      <td>Oak Cross Whisky</td>\n",
              "      <td>305</td>\n",
              "      <td>Mhw Ltd</td>\n",
              "      <td>750</td>\n",
              "      <td>6</td>\n",
              "      <td>1</td>\n",
              "      <td>NaN</td>\n",
              "      <td>86</td>\n",
              "      <td>2009-12-24 00:00:00</td>\n",
              "      <td>NaN</td>\n",
              "      <td>NaN</td>\n",
              "      <td>$25.33</td>\n",
              "      <td>38.00</td>\n",
              "      <td>152.00</td>\n",
              "    </tr>\n",
              "    <tr>\n",
              "      <th>904620</th>\n",
              "      <td>FLAVORED VODKA</td>\n",
              "      <td>Uv Red(cherry) Vodka</td>\n",
              "      <td>380</td>\n",
              "      <td>Phillips Beverage Company</td>\n",
              "      <td>200</td>\n",
              "      <td>24</td>\n",
              "      <td>1</td>\n",
              "      <td>NaN</td>\n",
              "      <td>60</td>\n",
              "      <td>2009-11-05 00:00:00</td>\n",
              "      <td>NaN</td>\n",
              "      <td>1.008710e+13</td>\n",
              "      <td>$1.97</td>\n",
              "      <td>2.96</td>\n",
              "      <td>47.30</td>\n",
              "    </tr>\n",
              "  </tbody>\n",
              "</table>\n",
              "</div>"
            ],
            "text/plain": [
              "                              category_name  ... case_cost\n",
              "item_no                                      ...          \n",
              "904616   MISC. AMERICAN CORDIALS & LIQUEURS  ...    117.22\n",
              "904617   MISC. IMPORTED CORDIALS & LIQUEURS  ...    169.40\n",
              "904618                       PEACH BRANDIES  ...     77.94\n",
              "904619                      SCOTCH WHISKIES  ...    152.00\n",
              "904620                       FLAVORED VODKA  ...     47.30\n",
              "\n",
              "[5 rows x 15 columns]"
            ]
          },
          "metadata": {
            "tags": []
          },
          "execution_count": 51
        }
      ]
    },
    {
      "cell_type": "markdown",
      "metadata": {
        "id": "NY3mBaav06Hh",
        "colab_type": "text"
      },
      "source": [
        "### Use Double Brackets to create new dataframe"
      ]
    },
    {
      "cell_type": "code",
      "metadata": {
        "id": "8YRox8HDxjM7",
        "colab_type": "code",
        "outputId": "1edbabed-a851-4a26-f4a8-e4e5095c0174",
        "colab": {
          "base_uri": "https://localhost:8080/",
          "height": 255
        }
      },
      "source": [
        "# use double brackets [[]] to extract column(s) in dataframe form\n",
        "data1=data[['item_no','category_name']]\n",
        "data1,type(data1)"
      ],
      "execution_count": 0,
      "outputs": [
        {
          "output_type": "execute_result",
          "data": {
            "text/plain": [
              "(      item_no                       category_name\n",
              " 0      904616  MISC. AMERICAN CORDIALS & LIQUEURS\n",
              " 1      904617  MISC. IMPORTED CORDIALS & LIQUEURS\n",
              " 2      904618                      PEACH BRANDIES\n",
              " 3      904619                     SCOTCH WHISKIES\n",
              " 4      904620                      FLAVORED VODKA\n",
              " ...       ...                                 ...\n",
              " 9964   904611                      CREAM LIQUEURS\n",
              " 9965   904612                  SINGLE MALT SCOTCH\n",
              " 9966   904613         DISTILLED SPIRITS SPECIALTY\n",
              " 9967   904614  MISC. AMERICAN CORDIALS & LIQUEURS\n",
              " 9968   904615                      FLAVORED VODKA\n",
              " \n",
              " [9969 rows x 2 columns], pandas.core.frame.DataFrame)"
            ]
          },
          "metadata": {
            "tags": []
          },
          "execution_count": 53
        }
      ]
    },
    {
      "cell_type": "code",
      "metadata": {
        "id": "qEEsHeOQ01xt",
        "colab_type": "code",
        "outputId": "cdfa379d-8697-40d8-e906-6bfb4510a12f",
        "colab": {
          "base_uri": "https://localhost:8080/",
          "height": 620
        }
      },
      "source": [
        "#slicing, can only slice rows\n",
        "data2 = data[1:10]\n",
        "data2 "
      ],
      "execution_count": 0,
      "outputs": [
        {
          "output_type": "execute_result",
          "data": {
            "text/html": [
              "<div>\n",
              "<style scoped>\n",
              "    .dataframe tbody tr th:only-of-type {\n",
              "        vertical-align: middle;\n",
              "    }\n",
              "\n",
              "    .dataframe tbody tr th {\n",
              "        vertical-align: top;\n",
              "    }\n",
              "\n",
              "    .dataframe thead th {\n",
              "        text-align: right;\n",
              "    }\n",
              "</style>\n",
              "<table border=\"1\" class=\"dataframe\">\n",
              "  <thead>\n",
              "    <tr style=\"text-align: right;\">\n",
              "      <th></th>\n",
              "      <th>item_no</th>\n",
              "      <th>category_name</th>\n",
              "      <th>item_description</th>\n",
              "      <th>vendor</th>\n",
              "      <th>vendor_name</th>\n",
              "      <th>bottle_size</th>\n",
              "      <th>pack</th>\n",
              "      <th>inner_pack</th>\n",
              "      <th>age</th>\n",
              "      <th>proof</th>\n",
              "      <th>list_date</th>\n",
              "      <th>upc</th>\n",
              "      <th>scc</th>\n",
              "      <th>bottle_price</th>\n",
              "      <th>shelf_price</th>\n",
              "      <th>case_cost</th>\n",
              "    </tr>\n",
              "  </thead>\n",
              "  <tbody>\n",
              "    <tr>\n",
              "      <th>1</th>\n",
              "      <td>904617</td>\n",
              "      <td>MISC. IMPORTED CORDIALS &amp; LIQUEURS</td>\n",
              "      <td>D'aristi Xtabentun</td>\n",
              "      <td>391</td>\n",
              "      <td>Anchor Distilling (preiss Imports)</td>\n",
              "      <td>750</td>\n",
              "      <td>12</td>\n",
              "      <td>1</td>\n",
              "      <td>NaN</td>\n",
              "      <td>60</td>\n",
              "      <td>2009-04-24 00:00:00</td>\n",
              "      <td>NaN</td>\n",
              "      <td>NaN</td>\n",
              "      <td>$14.12</td>\n",
              "      <td>21.18</td>\n",
              "      <td>169.40</td>\n",
              "    </tr>\n",
              "    <tr>\n",
              "      <th>2</th>\n",
              "      <td>904618</td>\n",
              "      <td>PEACH BRANDIES</td>\n",
              "      <td>Hiram Walker Peach Brandy</td>\n",
              "      <td>370</td>\n",
              "      <td>Pernod Ricard Usa/austin Nichols</td>\n",
              "      <td>1000</td>\n",
              "      <td>12</td>\n",
              "      <td>1</td>\n",
              "      <td>NaN</td>\n",
              "      <td>60</td>\n",
              "      <td>2009-12-16 00:00:00</td>\n",
              "      <td>NaN</td>\n",
              "      <td>8.954050e+10</td>\n",
              "      <td>$6.50</td>\n",
              "      <td>9.74</td>\n",
              "      <td>77.94</td>\n",
              "    </tr>\n",
              "    <tr>\n",
              "      <th>3</th>\n",
              "      <td>904619</td>\n",
              "      <td>SCOTCH WHISKIES</td>\n",
              "      <td>Oak Cross Whisky</td>\n",
              "      <td>305</td>\n",
              "      <td>Mhw Ltd</td>\n",
              "      <td>750</td>\n",
              "      <td>6</td>\n",
              "      <td>1</td>\n",
              "      <td>NaN</td>\n",
              "      <td>86</td>\n",
              "      <td>2009-12-24 00:00:00</td>\n",
              "      <td>NaN</td>\n",
              "      <td>NaN</td>\n",
              "      <td>$25.33</td>\n",
              "      <td>38.00</td>\n",
              "      <td>152.00</td>\n",
              "    </tr>\n",
              "    <tr>\n",
              "      <th>4</th>\n",
              "      <td>904620</td>\n",
              "      <td>FLAVORED VODKA</td>\n",
              "      <td>Uv Red(cherry) Vodka</td>\n",
              "      <td>380</td>\n",
              "      <td>Phillips Beverage Company</td>\n",
              "      <td>200</td>\n",
              "      <td>24</td>\n",
              "      <td>1</td>\n",
              "      <td>NaN</td>\n",
              "      <td>60</td>\n",
              "      <td>2009-11-05 00:00:00</td>\n",
              "      <td>NaN</td>\n",
              "      <td>1.008710e+13</td>\n",
              "      <td>$1.97</td>\n",
              "      <td>2.96</td>\n",
              "      <td>47.30</td>\n",
              "    </tr>\n",
              "    <tr>\n",
              "      <th>5</th>\n",
              "      <td>904621</td>\n",
              "      <td>STRAIGHT BOURBON WHISKIES</td>\n",
              "      <td>Heaven Hill Old Style White Label</td>\n",
              "      <td>259</td>\n",
              "      <td>Heaven Hill Distilleries Inc.</td>\n",
              "      <td>750</td>\n",
              "      <td>12</td>\n",
              "      <td>1</td>\n",
              "      <td>NaN</td>\n",
              "      <td>80</td>\n",
              "      <td>2009-12-04 00:00:00</td>\n",
              "      <td>NaN</td>\n",
              "      <td>NaN</td>\n",
              "      <td>$6.37</td>\n",
              "      <td>9.55</td>\n",
              "      <td>76.40</td>\n",
              "    </tr>\n",
              "    <tr>\n",
              "      <th>6</th>\n",
              "      <td>904622</td>\n",
              "      <td>MISC. AMERICAN CORDIALS &amp; LIQUEURS</td>\n",
              "      <td>Hyde Herbal Liqueur</td>\n",
              "      <td>194</td>\n",
              "      <td>Fire Tail Brands Llc</td>\n",
              "      <td>750</td>\n",
              "      <td>12</td>\n",
              "      <td>1</td>\n",
              "      <td>NaN</td>\n",
              "      <td>80</td>\n",
              "      <td>2010-02-05 00:00:00</td>\n",
              "      <td>NaN</td>\n",
              "      <td>9.046220e+05</td>\n",
              "      <td>$5.06</td>\n",
              "      <td>7.59</td>\n",
              "      <td>60.70</td>\n",
              "    </tr>\n",
              "    <tr>\n",
              "      <th>7</th>\n",
              "      <td>904623</td>\n",
              "      <td>MISCELLANEOUS BRANDIES</td>\n",
              "      <td>Dupont Calvados Fine Reserve</td>\n",
              "      <td>403</td>\n",
              "      <td>Robert Kacher Selections</td>\n",
              "      <td>750</td>\n",
              "      <td>12</td>\n",
              "      <td>1</td>\n",
              "      <td>NaN</td>\n",
              "      <td>80</td>\n",
              "      <td>2009-12-24 00:00:00</td>\n",
              "      <td>NaN</td>\n",
              "      <td>NaN</td>\n",
              "      <td>$23.61</td>\n",
              "      <td>35.42</td>\n",
              "      <td>283.33</td>\n",
              "    </tr>\n",
              "    <tr>\n",
              "      <th>8</th>\n",
              "      <td>904624</td>\n",
              "      <td>IMPORTED VODKA</td>\n",
              "      <td>Sobieski Cytron Vodka</td>\n",
              "      <td>267</td>\n",
              "      <td>Imperial Brands Inc.</td>\n",
              "      <td>750</td>\n",
              "      <td>12</td>\n",
              "      <td>1</td>\n",
              "      <td>NaN</td>\n",
              "      <td>80</td>\n",
              "      <td>2009-12-29 00:00:00</td>\n",
              "      <td>NaN</td>\n",
              "      <td>1.008900e+13</td>\n",
              "      <td>$5.69</td>\n",
              "      <td>8.54</td>\n",
              "      <td>68.32</td>\n",
              "    </tr>\n",
              "    <tr>\n",
              "      <th>9</th>\n",
              "      <td>904625</td>\n",
              "      <td>FLAVORED RUM</td>\n",
              "      <td>Captain Morgan Parrot Bay Strawberry</td>\n",
              "      <td>260</td>\n",
              "      <td>Diageo Americas</td>\n",
              "      <td>750</td>\n",
              "      <td>12</td>\n",
              "      <td>1</td>\n",
              "      <td>NaN</td>\n",
              "      <td>42</td>\n",
              "      <td>2010-01-12 00:00:00</td>\n",
              "      <td>NaN</td>\n",
              "      <td>8.200076e+10</td>\n",
              "      <td>$7.49</td>\n",
              "      <td>11.24</td>\n",
              "      <td>89.84</td>\n",
              "    </tr>\n",
              "  </tbody>\n",
              "</table>\n",
              "</div>"
            ],
            "text/plain": [
              "   item_no                       category_name  ... shelf_price  case_cost\n",
              "1   904617  MISC. IMPORTED CORDIALS & LIQUEURS  ...       21.18     169.40\n",
              "2   904618                      PEACH BRANDIES  ...        9.74      77.94\n",
              "3   904619                     SCOTCH WHISKIES  ...       38.00     152.00\n",
              "4   904620                      FLAVORED VODKA  ...        2.96      47.30\n",
              "5   904621           STRAIGHT BOURBON WHISKIES  ...        9.55      76.40\n",
              "6   904622  MISC. AMERICAN CORDIALS & LIQUEURS  ...        7.59      60.70\n",
              "7   904623              MISCELLANEOUS BRANDIES  ...       35.42     283.33\n",
              "8   904624                      IMPORTED VODKA  ...        8.54      68.32\n",
              "9   904625                        FLAVORED RUM  ...       11.24      89.84\n",
              "\n",
              "[9 rows x 16 columns]"
            ]
          },
          "metadata": {
            "tags": []
          },
          "execution_count": 64
        }
      ]
    },
    {
      "cell_type": "markdown",
      "metadata": {
        "id": "nj44l_qv3ze1",
        "colab_type": "text"
      },
      "source": [
        "## loc and iloc"
      ]
    },
    {
      "cell_type": "code",
      "metadata": {
        "id": "NO-Gau7M3qnQ",
        "colab_type": "code",
        "colab": {}
      },
      "source": [
        "# loc: label based, iloc: integer position based"
      ],
      "execution_count": 0,
      "outputs": []
    },
    {
      "cell_type": "code",
      "metadata": {
        "id": "yk_HnX7e35Ch",
        "colab_type": "code",
        "colab": {}
      },
      "source": [
        "#Using extra square brackets also creates a dataframe\n",
        "#data.loc[\"strig label\"], data.loc[['string label']]\n"
      ],
      "execution_count": 0,
      "outputs": []
    },
    {
      "cell_type": "code",
      "metadata": {
        "id": "awZqY5Bp4fqH",
        "colab_type": "code",
        "colab": {}
      },
      "source": [
        "#data.loc[['stringlabel1', 'stringlabel2','stringlabel3'],['columnname1','columnname2']]\n",
        "#data.loc[:,['columnname1','columnname2']]"
      ],
      "execution_count": 0,
      "outputs": []
    },
    {
      "cell_type": "code",
      "metadata": {
        "id": "7plxK8UB6Moc",
        "colab_type": "code",
        "outputId": "4fc73fcc-bfb3-461f-80ad-0cd66ef48fa5",
        "colab": {
          "base_uri": "https://localhost:8080/",
          "height": 329
        }
      },
      "source": [
        "data.iloc[[1,2,3,4]]"
      ],
      "execution_count": 0,
      "outputs": [
        {
          "output_type": "execute_result",
          "data": {
            "text/html": [
              "<div>\n",
              "<style scoped>\n",
              "    .dataframe tbody tr th:only-of-type {\n",
              "        vertical-align: middle;\n",
              "    }\n",
              "\n",
              "    .dataframe tbody tr th {\n",
              "        vertical-align: top;\n",
              "    }\n",
              "\n",
              "    .dataframe thead th {\n",
              "        text-align: right;\n",
              "    }\n",
              "</style>\n",
              "<table border=\"1\" class=\"dataframe\">\n",
              "  <thead>\n",
              "    <tr style=\"text-align: right;\">\n",
              "      <th></th>\n",
              "      <th>item_no</th>\n",
              "      <th>category_name</th>\n",
              "      <th>item_description</th>\n",
              "      <th>vendor</th>\n",
              "      <th>vendor_name</th>\n",
              "      <th>bottle_size</th>\n",
              "      <th>pack</th>\n",
              "      <th>inner_pack</th>\n",
              "      <th>age</th>\n",
              "      <th>proof</th>\n",
              "      <th>list_date</th>\n",
              "      <th>upc</th>\n",
              "      <th>scc</th>\n",
              "      <th>bottle_price</th>\n",
              "      <th>shelf_price</th>\n",
              "      <th>case_cost</th>\n",
              "    </tr>\n",
              "  </thead>\n",
              "  <tbody>\n",
              "    <tr>\n",
              "      <th>1</th>\n",
              "      <td>904617</td>\n",
              "      <td>MISC. IMPORTED CORDIALS &amp; LIQUEURS</td>\n",
              "      <td>D'aristi Xtabentun</td>\n",
              "      <td>391</td>\n",
              "      <td>Anchor Distilling (preiss Imports)</td>\n",
              "      <td>750</td>\n",
              "      <td>12</td>\n",
              "      <td>1</td>\n",
              "      <td>NaN</td>\n",
              "      <td>60</td>\n",
              "      <td>2009-04-24 00:00:00</td>\n",
              "      <td>NaN</td>\n",
              "      <td>NaN</td>\n",
              "      <td>$14.12</td>\n",
              "      <td>21.18</td>\n",
              "      <td>169.40</td>\n",
              "    </tr>\n",
              "    <tr>\n",
              "      <th>2</th>\n",
              "      <td>904618</td>\n",
              "      <td>PEACH BRANDIES</td>\n",
              "      <td>Hiram Walker Peach Brandy</td>\n",
              "      <td>370</td>\n",
              "      <td>Pernod Ricard Usa/austin Nichols</td>\n",
              "      <td>1000</td>\n",
              "      <td>12</td>\n",
              "      <td>1</td>\n",
              "      <td>NaN</td>\n",
              "      <td>60</td>\n",
              "      <td>2009-12-16 00:00:00</td>\n",
              "      <td>NaN</td>\n",
              "      <td>8.954050e+10</td>\n",
              "      <td>$6.50</td>\n",
              "      <td>9.74</td>\n",
              "      <td>77.94</td>\n",
              "    </tr>\n",
              "    <tr>\n",
              "      <th>3</th>\n",
              "      <td>904619</td>\n",
              "      <td>SCOTCH WHISKIES</td>\n",
              "      <td>Oak Cross Whisky</td>\n",
              "      <td>305</td>\n",
              "      <td>Mhw Ltd</td>\n",
              "      <td>750</td>\n",
              "      <td>6</td>\n",
              "      <td>1</td>\n",
              "      <td>NaN</td>\n",
              "      <td>86</td>\n",
              "      <td>2009-12-24 00:00:00</td>\n",
              "      <td>NaN</td>\n",
              "      <td>NaN</td>\n",
              "      <td>$25.33</td>\n",
              "      <td>38.00</td>\n",
              "      <td>152.00</td>\n",
              "    </tr>\n",
              "    <tr>\n",
              "      <th>4</th>\n",
              "      <td>904620</td>\n",
              "      <td>FLAVORED VODKA</td>\n",
              "      <td>Uv Red(cherry) Vodka</td>\n",
              "      <td>380</td>\n",
              "      <td>Phillips Beverage Company</td>\n",
              "      <td>200</td>\n",
              "      <td>24</td>\n",
              "      <td>1</td>\n",
              "      <td>NaN</td>\n",
              "      <td>60</td>\n",
              "      <td>2009-11-05 00:00:00</td>\n",
              "      <td>NaN</td>\n",
              "      <td>1.008710e+13</td>\n",
              "      <td>$1.97</td>\n",
              "      <td>2.96</td>\n",
              "      <td>47.30</td>\n",
              "    </tr>\n",
              "  </tbody>\n",
              "</table>\n",
              "</div>"
            ],
            "text/plain": [
              "   item_no                       category_name  ... shelf_price  case_cost\n",
              "1   904617  MISC. IMPORTED CORDIALS & LIQUEURS  ...       21.18     169.40\n",
              "2   904618                      PEACH BRANDIES  ...        9.74      77.94\n",
              "3   904619                     SCOTCH WHISKIES  ...       38.00     152.00\n",
              "4   904620                      FLAVORED VODKA  ...        2.96      47.30\n",
              "\n",
              "[4 rows x 16 columns]"
            ]
          },
          "metadata": {
            "tags": []
          },
          "execution_count": 66
        }
      ]
    },
    {
      "cell_type": "code",
      "metadata": {
        "id": "KUu_5ihl6Pqp",
        "colab_type": "code",
        "outputId": "534807ea-68e6-4418-c903-5bf7d5dba823",
        "colab": {
          "base_uri": "https://localhost:8080/",
          "height": 173
        }
      },
      "source": [
        "data.iloc[[1,2,3,4],[0,1,2]]"
      ],
      "execution_count": 0,
      "outputs": [
        {
          "output_type": "execute_result",
          "data": {
            "text/html": [
              "<div>\n",
              "<style scoped>\n",
              "    .dataframe tbody tr th:only-of-type {\n",
              "        vertical-align: middle;\n",
              "    }\n",
              "\n",
              "    .dataframe tbody tr th {\n",
              "        vertical-align: top;\n",
              "    }\n",
              "\n",
              "    .dataframe thead th {\n",
              "        text-align: right;\n",
              "    }\n",
              "</style>\n",
              "<table border=\"1\" class=\"dataframe\">\n",
              "  <thead>\n",
              "    <tr style=\"text-align: right;\">\n",
              "      <th></th>\n",
              "      <th>item_no</th>\n",
              "      <th>category_name</th>\n",
              "      <th>item_description</th>\n",
              "    </tr>\n",
              "  </thead>\n",
              "  <tbody>\n",
              "    <tr>\n",
              "      <th>1</th>\n",
              "      <td>904617</td>\n",
              "      <td>MISC. IMPORTED CORDIALS &amp; LIQUEURS</td>\n",
              "      <td>D'aristi Xtabentun</td>\n",
              "    </tr>\n",
              "    <tr>\n",
              "      <th>2</th>\n",
              "      <td>904618</td>\n",
              "      <td>PEACH BRANDIES</td>\n",
              "      <td>Hiram Walker Peach Brandy</td>\n",
              "    </tr>\n",
              "    <tr>\n",
              "      <th>3</th>\n",
              "      <td>904619</td>\n",
              "      <td>SCOTCH WHISKIES</td>\n",
              "      <td>Oak Cross Whisky</td>\n",
              "    </tr>\n",
              "    <tr>\n",
              "      <th>4</th>\n",
              "      <td>904620</td>\n",
              "      <td>FLAVORED VODKA</td>\n",
              "      <td>Uv Red(cherry) Vodka</td>\n",
              "    </tr>\n",
              "  </tbody>\n",
              "</table>\n",
              "</div>"
            ],
            "text/plain": [
              "   item_no                       category_name           item_description\n",
              "1   904617  MISC. IMPORTED CORDIALS & LIQUEURS         D'aristi Xtabentun\n",
              "2   904618                      PEACH BRANDIES  Hiram Walker Peach Brandy\n",
              "3   904619                     SCOTCH WHISKIES           Oak Cross Whisky\n",
              "4   904620                      FLAVORED VODKA       Uv Red(cherry) Vodka"
            ]
          },
          "metadata": {
            "tags": []
          },
          "execution_count": 67
        }
      ]
    },
    {
      "cell_type": "code",
      "metadata": {
        "id": "_TmPIm4_6hSi",
        "colab_type": "code",
        "outputId": "d7578b49-22ac-4a6b-f5ac-9e6d4698ef86",
        "colab": {
          "base_uri": "https://localhost:8080/",
          "height": 436
        }
      },
      "source": [
        "data.iloc[:,[0,1,2,3]]"
      ],
      "execution_count": 0,
      "outputs": [
        {
          "output_type": "stream",
          "text": [
            "ERROR! Session/line number was not unique in database. History logging moved to new session 63\n"
          ],
          "name": "stdout"
        },
        {
          "output_type": "execute_result",
          "data": {
            "text/html": [
              "<div>\n",
              "<style scoped>\n",
              "    .dataframe tbody tr th:only-of-type {\n",
              "        vertical-align: middle;\n",
              "    }\n",
              "\n",
              "    .dataframe tbody tr th {\n",
              "        vertical-align: top;\n",
              "    }\n",
              "\n",
              "    .dataframe thead th {\n",
              "        text-align: right;\n",
              "    }\n",
              "</style>\n",
              "<table border=\"1\" class=\"dataframe\">\n",
              "  <thead>\n",
              "    <tr style=\"text-align: right;\">\n",
              "      <th></th>\n",
              "      <th>item_no</th>\n",
              "      <th>category_name</th>\n",
              "      <th>item_description</th>\n",
              "      <th>vendor</th>\n",
              "    </tr>\n",
              "  </thead>\n",
              "  <tbody>\n",
              "    <tr>\n",
              "      <th>0</th>\n",
              "      <td>904616</td>\n",
              "      <td>MISC. AMERICAN CORDIALS &amp; LIQUEURS</td>\n",
              "      <td>Travis Hasse Apple Pie</td>\n",
              "      <td>305</td>\n",
              "    </tr>\n",
              "    <tr>\n",
              "      <th>1</th>\n",
              "      <td>904617</td>\n",
              "      <td>MISC. IMPORTED CORDIALS &amp; LIQUEURS</td>\n",
              "      <td>D'aristi Xtabentun</td>\n",
              "      <td>391</td>\n",
              "    </tr>\n",
              "    <tr>\n",
              "      <th>2</th>\n",
              "      <td>904618</td>\n",
              "      <td>PEACH BRANDIES</td>\n",
              "      <td>Hiram Walker Peach Brandy</td>\n",
              "      <td>370</td>\n",
              "    </tr>\n",
              "    <tr>\n",
              "      <th>3</th>\n",
              "      <td>904619</td>\n",
              "      <td>SCOTCH WHISKIES</td>\n",
              "      <td>Oak Cross Whisky</td>\n",
              "      <td>305</td>\n",
              "    </tr>\n",
              "    <tr>\n",
              "      <th>4</th>\n",
              "      <td>904620</td>\n",
              "      <td>FLAVORED VODKA</td>\n",
              "      <td>Uv Red(cherry) Vodka</td>\n",
              "      <td>380</td>\n",
              "    </tr>\n",
              "    <tr>\n",
              "      <th>...</th>\n",
              "      <td>...</td>\n",
              "      <td>...</td>\n",
              "      <td>...</td>\n",
              "      <td>...</td>\n",
              "    </tr>\n",
              "    <tr>\n",
              "      <th>9964</th>\n",
              "      <td>904611</td>\n",
              "      <td>CREAM LIQUEURS</td>\n",
              "      <td>1921 Tequila Cream</td>\n",
              "      <td>109</td>\n",
              "    </tr>\n",
              "    <tr>\n",
              "      <th>9965</th>\n",
              "      <td>904612</td>\n",
              "      <td>SINGLE MALT SCOTCH</td>\n",
              "      <td>Glendronach 15yo</td>\n",
              "      <td>391</td>\n",
              "    </tr>\n",
              "    <tr>\n",
              "      <th>9966</th>\n",
              "      <td>904613</td>\n",
              "      <td>DISTILLED SPIRITS SPECIALTY</td>\n",
              "      <td>Junior Johnson's Midnight Moon Lemonade(dno)</td>\n",
              "      <td>384</td>\n",
              "    </tr>\n",
              "    <tr>\n",
              "      <th>9967</th>\n",
              "      <td>904614</td>\n",
              "      <td>MISC. AMERICAN CORDIALS &amp; LIQUEURS</td>\n",
              "      <td>Jekyll Berry Liqueur</td>\n",
              "      <td>194</td>\n",
              "    </tr>\n",
              "    <tr>\n",
              "      <th>9968</th>\n",
              "      <td>904615</td>\n",
              "      <td>FLAVORED VODKA</td>\n",
              "      <td>Smirnoff Twist Of Citrus Mini</td>\n",
              "      <td>260</td>\n",
              "    </tr>\n",
              "  </tbody>\n",
              "</table>\n",
              "<p>9969 rows × 4 columns</p>\n",
              "</div>"
            ],
            "text/plain": [
              "      item_no  ... vendor\n",
              "0      904616  ...    305\n",
              "1      904617  ...    391\n",
              "2      904618  ...    370\n",
              "3      904619  ...    305\n",
              "4      904620  ...    380\n",
              "...       ...  ...    ...\n",
              "9964   904611  ...    109\n",
              "9965   904612  ...    391\n",
              "9966   904613  ...    384\n",
              "9967   904614  ...    194\n",
              "9968   904615  ...    260\n",
              "\n",
              "[9969 rows x 4 columns]"
            ]
          },
          "metadata": {
            "tags": []
          },
          "execution_count": 69
        }
      ]
    },
    {
      "cell_type": "markdown",
      "metadata": {
        "id": "F1570rJNQiP1",
        "colab_type": "text"
      },
      "source": [
        "### logical operators"
      ]
    },
    {
      "cell_type": "code",
      "metadata": {
        "id": "Uqbsb5Ma6pfn",
        "colab_type": "code",
        "colab": {}
      },
      "source": [
        "#logical_not()\n",
        "# if b=5\n",
        "#logical_and(b>3, b<8) ==> b>3 and b<8\n",
        "#logical_or()\n"
      ],
      "execution_count": 0,
      "outputs": []
    },
    {
      "cell_type": "markdown",
      "metadata": {
        "id": "dfzriHnkSJEH",
        "colab_type": "text"
      },
      "source": [
        "### Filtering Dataframes"
      ]
    },
    {
      "cell_type": "code",
      "metadata": {
        "id": "bMR9wbc1Q_hB",
        "colab_type": "code",
        "outputId": "65d7b717-52b6-45d6-ee5d-869661417257",
        "colab": {
          "base_uri": "https://localhost:8080/",
          "height": 221
        }
      },
      "source": [
        "data['bottle_size']> 300"
      ],
      "execution_count": 0,
      "outputs": [
        {
          "output_type": "execute_result",
          "data": {
            "text/plain": [
              "0        True\n",
              "1        True\n",
              "2        True\n",
              "3        True\n",
              "4       False\n",
              "        ...  \n",
              "9964     True\n",
              "9965     True\n",
              "9966     True\n",
              "9967     True\n",
              "9968     True\n",
              "Name: bottle_size, Length: 9969, dtype: bool"
            ]
          },
          "metadata": {
            "tags": []
          },
          "execution_count": 70
        }
      ]
    },
    {
      "cell_type": "code",
      "metadata": {
        "id": "Vj7YYYP6YF83",
        "colab_type": "code",
        "outputId": "cab67c34-2048-4dd6-ae7c-60330f0dd0e1",
        "colab": {
          "base_uri": "https://localhost:8080/",
          "height": 796
        }
      },
      "source": [
        "big_bottles=data['bottle_size']> 300\n",
        "data[big_bottles]"
      ],
      "execution_count": 0,
      "outputs": [
        {
          "output_type": "execute_result",
          "data": {
            "text/html": [
              "<div>\n",
              "<style scoped>\n",
              "    .dataframe tbody tr th:only-of-type {\n",
              "        vertical-align: middle;\n",
              "    }\n",
              "\n",
              "    .dataframe tbody tr th {\n",
              "        vertical-align: top;\n",
              "    }\n",
              "\n",
              "    .dataframe thead th {\n",
              "        text-align: right;\n",
              "    }\n",
              "</style>\n",
              "<table border=\"1\" class=\"dataframe\">\n",
              "  <thead>\n",
              "    <tr style=\"text-align: right;\">\n",
              "      <th></th>\n",
              "      <th>item_no</th>\n",
              "      <th>category_name</th>\n",
              "      <th>item_description</th>\n",
              "      <th>vendor</th>\n",
              "      <th>vendor_name</th>\n",
              "      <th>bottle_size</th>\n",
              "      <th>pack</th>\n",
              "      <th>inner_pack</th>\n",
              "      <th>age</th>\n",
              "      <th>proof</th>\n",
              "      <th>list_date</th>\n",
              "      <th>upc</th>\n",
              "      <th>scc</th>\n",
              "      <th>bottle_price</th>\n",
              "      <th>shelf_price</th>\n",
              "      <th>case_cost</th>\n",
              "    </tr>\n",
              "  </thead>\n",
              "  <tbody>\n",
              "    <tr>\n",
              "      <th>0</th>\n",
              "      <td>904616</td>\n",
              "      <td>MISC. AMERICAN CORDIALS &amp; LIQUEURS</td>\n",
              "      <td>Travis Hasse Apple Pie</td>\n",
              "      <td>305</td>\n",
              "      <td>Mhw Ltd</td>\n",
              "      <td>750</td>\n",
              "      <td>12</td>\n",
              "      <td>1</td>\n",
              "      <td>NaN</td>\n",
              "      <td>40</td>\n",
              "      <td>2009-02-11 00:00:00</td>\n",
              "      <td>NaN</td>\n",
              "      <td>NaN</td>\n",
              "      <td>$9.77</td>\n",
              "      <td>14.66</td>\n",
              "      <td>117.22</td>\n",
              "    </tr>\n",
              "    <tr>\n",
              "      <th>1</th>\n",
              "      <td>904617</td>\n",
              "      <td>MISC. IMPORTED CORDIALS &amp; LIQUEURS</td>\n",
              "      <td>D'aristi Xtabentun</td>\n",
              "      <td>391</td>\n",
              "      <td>Anchor Distilling (preiss Imports)</td>\n",
              "      <td>750</td>\n",
              "      <td>12</td>\n",
              "      <td>1</td>\n",
              "      <td>NaN</td>\n",
              "      <td>60</td>\n",
              "      <td>2009-04-24 00:00:00</td>\n",
              "      <td>NaN</td>\n",
              "      <td>NaN</td>\n",
              "      <td>$14.12</td>\n",
              "      <td>21.18</td>\n",
              "      <td>169.40</td>\n",
              "    </tr>\n",
              "    <tr>\n",
              "      <th>2</th>\n",
              "      <td>904618</td>\n",
              "      <td>PEACH BRANDIES</td>\n",
              "      <td>Hiram Walker Peach Brandy</td>\n",
              "      <td>370</td>\n",
              "      <td>Pernod Ricard Usa/austin Nichols</td>\n",
              "      <td>1000</td>\n",
              "      <td>12</td>\n",
              "      <td>1</td>\n",
              "      <td>NaN</td>\n",
              "      <td>60</td>\n",
              "      <td>2009-12-16 00:00:00</td>\n",
              "      <td>NaN</td>\n",
              "      <td>8.954050e+10</td>\n",
              "      <td>$6.50</td>\n",
              "      <td>9.74</td>\n",
              "      <td>77.94</td>\n",
              "    </tr>\n",
              "    <tr>\n",
              "      <th>3</th>\n",
              "      <td>904619</td>\n",
              "      <td>SCOTCH WHISKIES</td>\n",
              "      <td>Oak Cross Whisky</td>\n",
              "      <td>305</td>\n",
              "      <td>Mhw Ltd</td>\n",
              "      <td>750</td>\n",
              "      <td>6</td>\n",
              "      <td>1</td>\n",
              "      <td>NaN</td>\n",
              "      <td>86</td>\n",
              "      <td>2009-12-24 00:00:00</td>\n",
              "      <td>NaN</td>\n",
              "      <td>NaN</td>\n",
              "      <td>$25.33</td>\n",
              "      <td>38.00</td>\n",
              "      <td>152.00</td>\n",
              "    </tr>\n",
              "    <tr>\n",
              "      <th>5</th>\n",
              "      <td>904621</td>\n",
              "      <td>STRAIGHT BOURBON WHISKIES</td>\n",
              "      <td>Heaven Hill Old Style White Label</td>\n",
              "      <td>259</td>\n",
              "      <td>Heaven Hill Distilleries Inc.</td>\n",
              "      <td>750</td>\n",
              "      <td>12</td>\n",
              "      <td>1</td>\n",
              "      <td>NaN</td>\n",
              "      <td>80</td>\n",
              "      <td>2009-12-04 00:00:00</td>\n",
              "      <td>NaN</td>\n",
              "      <td>NaN</td>\n",
              "      <td>$6.37</td>\n",
              "      <td>9.55</td>\n",
              "      <td>76.40</td>\n",
              "    </tr>\n",
              "    <tr>\n",
              "      <th>...</th>\n",
              "      <td>...</td>\n",
              "      <td>...</td>\n",
              "      <td>...</td>\n",
              "      <td>...</td>\n",
              "      <td>...</td>\n",
              "      <td>...</td>\n",
              "      <td>...</td>\n",
              "      <td>...</td>\n",
              "      <td>...</td>\n",
              "      <td>...</td>\n",
              "      <td>...</td>\n",
              "      <td>...</td>\n",
              "      <td>...</td>\n",
              "      <td>...</td>\n",
              "      <td>...</td>\n",
              "      <td>...</td>\n",
              "    </tr>\n",
              "    <tr>\n",
              "      <th>9964</th>\n",
              "      <td>904611</td>\n",
              "      <td>CREAM LIQUEURS</td>\n",
              "      <td>1921 Tequila Cream</td>\n",
              "      <td>109</td>\n",
              "      <td>Casa 1921 Llc</td>\n",
              "      <td>750</td>\n",
              "      <td>6</td>\n",
              "      <td>1</td>\n",
              "      <td>NaN</td>\n",
              "      <td>30</td>\n",
              "      <td>2009-12-08 00:00:00</td>\n",
              "      <td>NaN</td>\n",
              "      <td>1.060860e+13</td>\n",
              "      <td>$18.84</td>\n",
              "      <td>28.26</td>\n",
              "      <td>113.00</td>\n",
              "    </tr>\n",
              "    <tr>\n",
              "      <th>9965</th>\n",
              "      <td>904612</td>\n",
              "      <td>SINGLE MALT SCOTCH</td>\n",
              "      <td>Glendronach 15yo</td>\n",
              "      <td>391</td>\n",
              "      <td>Anchor Distilling (preiss Imports)</td>\n",
              "      <td>750</td>\n",
              "      <td>1</td>\n",
              "      <td>1</td>\n",
              "      <td>NaN</td>\n",
              "      <td>92</td>\n",
              "      <td>2009-12-09 00:00:00</td>\n",
              "      <td>NaN</td>\n",
              "      <td>9.046120e+05</td>\n",
              "      <td>$63.00</td>\n",
              "      <td>94.50</td>\n",
              "      <td>63.00</td>\n",
              "    </tr>\n",
              "    <tr>\n",
              "      <th>9966</th>\n",
              "      <td>904613</td>\n",
              "      <td>DISTILLED SPIRITS SPECIALTY</td>\n",
              "      <td>Junior Johnson's Midnight Moon Lemonade(dno)</td>\n",
              "      <td>384</td>\n",
              "      <td>Piedmont Distillers</td>\n",
              "      <td>750</td>\n",
              "      <td>6</td>\n",
              "      <td>1</td>\n",
              "      <td>NaN</td>\n",
              "      <td>80</td>\n",
              "      <td>2009-12-15 00:00:00</td>\n",
              "      <td>8.517670e+11</td>\n",
              "      <td>1.085180e+13</td>\n",
              "      <td>$13.56</td>\n",
              "      <td>20.34</td>\n",
              "      <td>81.35</td>\n",
              "    </tr>\n",
              "    <tr>\n",
              "      <th>9967</th>\n",
              "      <td>904614</td>\n",
              "      <td>MISC. AMERICAN CORDIALS &amp; LIQUEURS</td>\n",
              "      <td>Jekyll Berry Liqueur</td>\n",
              "      <td>194</td>\n",
              "      <td>Fire Tail Brands Llc</td>\n",
              "      <td>750</td>\n",
              "      <td>12</td>\n",
              "      <td>1</td>\n",
              "      <td>NaN</td>\n",
              "      <td>60</td>\n",
              "      <td>2010-02-05 00:00:00</td>\n",
              "      <td>9.046100e+04</td>\n",
              "      <td>9.046140e+05</td>\n",
              "      <td>$5.06</td>\n",
              "      <td>7.59</td>\n",
              "      <td>60.70</td>\n",
              "    </tr>\n",
              "    <tr>\n",
              "      <th>9968</th>\n",
              "      <td>904615</td>\n",
              "      <td>FLAVORED VODKA</td>\n",
              "      <td>Smirnoff Twist Of Citrus Mini</td>\n",
              "      <td>260</td>\n",
              "      <td>Diageo Americas</td>\n",
              "      <td>502</td>\n",
              "      <td>12</td>\n",
              "      <td>10</td>\n",
              "      <td>NaN</td>\n",
              "      <td>70</td>\n",
              "      <td>2009-12-04 00:00:00</td>\n",
              "      <td>8.200077e+10</td>\n",
              "      <td>NaN</td>\n",
              "      <td>$5.72</td>\n",
              "      <td>8.58</td>\n",
              "      <td>68.58</td>\n",
              "    </tr>\n",
              "  </tbody>\n",
              "</table>\n",
              "<p>9045 rows × 16 columns</p>\n",
              "</div>"
            ],
            "text/plain": [
              "      item_no                       category_name  ... shelf_price  case_cost\n",
              "0      904616  MISC. AMERICAN CORDIALS & LIQUEURS  ...       14.66     117.22\n",
              "1      904617  MISC. IMPORTED CORDIALS & LIQUEURS  ...       21.18     169.40\n",
              "2      904618                      PEACH BRANDIES  ...        9.74      77.94\n",
              "3      904619                     SCOTCH WHISKIES  ...       38.00     152.00\n",
              "5      904621           STRAIGHT BOURBON WHISKIES  ...        9.55      76.40\n",
              "...       ...                                 ...  ...         ...        ...\n",
              "9964   904611                      CREAM LIQUEURS  ...       28.26     113.00\n",
              "9965   904612                  SINGLE MALT SCOTCH  ...       94.50      63.00\n",
              "9966   904613         DISTILLED SPIRITS SPECIALTY  ...       20.34      81.35\n",
              "9967   904614  MISC. AMERICAN CORDIALS & LIQUEURS  ...        7.59      60.70\n",
              "9968   904615                      FLAVORED VODKA  ...        8.58      68.58\n",
              "\n",
              "[9045 rows x 16 columns]"
            ]
          },
          "metadata": {
            "tags": []
          },
          "execution_count": 71
        }
      ]
    },
    {
      "cell_type": "code",
      "metadata": {
        "id": "iRw_HaJEYSJ9",
        "colab_type": "code",
        "outputId": "d55ee93d-947c-41e9-8a9e-c0b7ad76e66d",
        "colab": {
          "base_uri": "https://localhost:8080/",
          "height": 796
        }
      },
      "source": [
        "# one line\n",
        "data[data[\"bottle_size\"]>300]"
      ],
      "execution_count": 0,
      "outputs": [
        {
          "output_type": "execute_result",
          "data": {
            "text/html": [
              "<div>\n",
              "<style scoped>\n",
              "    .dataframe tbody tr th:only-of-type {\n",
              "        vertical-align: middle;\n",
              "    }\n",
              "\n",
              "    .dataframe tbody tr th {\n",
              "        vertical-align: top;\n",
              "    }\n",
              "\n",
              "    .dataframe thead th {\n",
              "        text-align: right;\n",
              "    }\n",
              "</style>\n",
              "<table border=\"1\" class=\"dataframe\">\n",
              "  <thead>\n",
              "    <tr style=\"text-align: right;\">\n",
              "      <th></th>\n",
              "      <th>item_no</th>\n",
              "      <th>category_name</th>\n",
              "      <th>item_description</th>\n",
              "      <th>vendor</th>\n",
              "      <th>vendor_name</th>\n",
              "      <th>bottle_size</th>\n",
              "      <th>pack</th>\n",
              "      <th>inner_pack</th>\n",
              "      <th>age</th>\n",
              "      <th>proof</th>\n",
              "      <th>list_date</th>\n",
              "      <th>upc</th>\n",
              "      <th>scc</th>\n",
              "      <th>bottle_price</th>\n",
              "      <th>shelf_price</th>\n",
              "      <th>case_cost</th>\n",
              "    </tr>\n",
              "  </thead>\n",
              "  <tbody>\n",
              "    <tr>\n",
              "      <th>0</th>\n",
              "      <td>904616</td>\n",
              "      <td>MISC. AMERICAN CORDIALS &amp; LIQUEURS</td>\n",
              "      <td>Travis Hasse Apple Pie</td>\n",
              "      <td>305</td>\n",
              "      <td>Mhw Ltd</td>\n",
              "      <td>750</td>\n",
              "      <td>12</td>\n",
              "      <td>1</td>\n",
              "      <td>NaN</td>\n",
              "      <td>40</td>\n",
              "      <td>2009-02-11 00:00:00</td>\n",
              "      <td>NaN</td>\n",
              "      <td>NaN</td>\n",
              "      <td>$9.77</td>\n",
              "      <td>14.66</td>\n",
              "      <td>117.22</td>\n",
              "    </tr>\n",
              "    <tr>\n",
              "      <th>1</th>\n",
              "      <td>904617</td>\n",
              "      <td>MISC. IMPORTED CORDIALS &amp; LIQUEURS</td>\n",
              "      <td>D'aristi Xtabentun</td>\n",
              "      <td>391</td>\n",
              "      <td>Anchor Distilling (preiss Imports)</td>\n",
              "      <td>750</td>\n",
              "      <td>12</td>\n",
              "      <td>1</td>\n",
              "      <td>NaN</td>\n",
              "      <td>60</td>\n",
              "      <td>2009-04-24 00:00:00</td>\n",
              "      <td>NaN</td>\n",
              "      <td>NaN</td>\n",
              "      <td>$14.12</td>\n",
              "      <td>21.18</td>\n",
              "      <td>169.40</td>\n",
              "    </tr>\n",
              "    <tr>\n",
              "      <th>2</th>\n",
              "      <td>904618</td>\n",
              "      <td>PEACH BRANDIES</td>\n",
              "      <td>Hiram Walker Peach Brandy</td>\n",
              "      <td>370</td>\n",
              "      <td>Pernod Ricard Usa/austin Nichols</td>\n",
              "      <td>1000</td>\n",
              "      <td>12</td>\n",
              "      <td>1</td>\n",
              "      <td>NaN</td>\n",
              "      <td>60</td>\n",
              "      <td>2009-12-16 00:00:00</td>\n",
              "      <td>NaN</td>\n",
              "      <td>8.954050e+10</td>\n",
              "      <td>$6.50</td>\n",
              "      <td>9.74</td>\n",
              "      <td>77.94</td>\n",
              "    </tr>\n",
              "    <tr>\n",
              "      <th>3</th>\n",
              "      <td>904619</td>\n",
              "      <td>SCOTCH WHISKIES</td>\n",
              "      <td>Oak Cross Whisky</td>\n",
              "      <td>305</td>\n",
              "      <td>Mhw Ltd</td>\n",
              "      <td>750</td>\n",
              "      <td>6</td>\n",
              "      <td>1</td>\n",
              "      <td>NaN</td>\n",
              "      <td>86</td>\n",
              "      <td>2009-12-24 00:00:00</td>\n",
              "      <td>NaN</td>\n",
              "      <td>NaN</td>\n",
              "      <td>$25.33</td>\n",
              "      <td>38.00</td>\n",
              "      <td>152.00</td>\n",
              "    </tr>\n",
              "    <tr>\n",
              "      <th>5</th>\n",
              "      <td>904621</td>\n",
              "      <td>STRAIGHT BOURBON WHISKIES</td>\n",
              "      <td>Heaven Hill Old Style White Label</td>\n",
              "      <td>259</td>\n",
              "      <td>Heaven Hill Distilleries Inc.</td>\n",
              "      <td>750</td>\n",
              "      <td>12</td>\n",
              "      <td>1</td>\n",
              "      <td>NaN</td>\n",
              "      <td>80</td>\n",
              "      <td>2009-12-04 00:00:00</td>\n",
              "      <td>NaN</td>\n",
              "      <td>NaN</td>\n",
              "      <td>$6.37</td>\n",
              "      <td>9.55</td>\n",
              "      <td>76.40</td>\n",
              "    </tr>\n",
              "    <tr>\n",
              "      <th>...</th>\n",
              "      <td>...</td>\n",
              "      <td>...</td>\n",
              "      <td>...</td>\n",
              "      <td>...</td>\n",
              "      <td>...</td>\n",
              "      <td>...</td>\n",
              "      <td>...</td>\n",
              "      <td>...</td>\n",
              "      <td>...</td>\n",
              "      <td>...</td>\n",
              "      <td>...</td>\n",
              "      <td>...</td>\n",
              "      <td>...</td>\n",
              "      <td>...</td>\n",
              "      <td>...</td>\n",
              "      <td>...</td>\n",
              "    </tr>\n",
              "    <tr>\n",
              "      <th>9964</th>\n",
              "      <td>904611</td>\n",
              "      <td>CREAM LIQUEURS</td>\n",
              "      <td>1921 Tequila Cream</td>\n",
              "      <td>109</td>\n",
              "      <td>Casa 1921 Llc</td>\n",
              "      <td>750</td>\n",
              "      <td>6</td>\n",
              "      <td>1</td>\n",
              "      <td>NaN</td>\n",
              "      <td>30</td>\n",
              "      <td>2009-12-08 00:00:00</td>\n",
              "      <td>NaN</td>\n",
              "      <td>1.060860e+13</td>\n",
              "      <td>$18.84</td>\n",
              "      <td>28.26</td>\n",
              "      <td>113.00</td>\n",
              "    </tr>\n",
              "    <tr>\n",
              "      <th>9965</th>\n",
              "      <td>904612</td>\n",
              "      <td>SINGLE MALT SCOTCH</td>\n",
              "      <td>Glendronach 15yo</td>\n",
              "      <td>391</td>\n",
              "      <td>Anchor Distilling (preiss Imports)</td>\n",
              "      <td>750</td>\n",
              "      <td>1</td>\n",
              "      <td>1</td>\n",
              "      <td>NaN</td>\n",
              "      <td>92</td>\n",
              "      <td>2009-12-09 00:00:00</td>\n",
              "      <td>NaN</td>\n",
              "      <td>9.046120e+05</td>\n",
              "      <td>$63.00</td>\n",
              "      <td>94.50</td>\n",
              "      <td>63.00</td>\n",
              "    </tr>\n",
              "    <tr>\n",
              "      <th>9966</th>\n",
              "      <td>904613</td>\n",
              "      <td>DISTILLED SPIRITS SPECIALTY</td>\n",
              "      <td>Junior Johnson's Midnight Moon Lemonade(dno)</td>\n",
              "      <td>384</td>\n",
              "      <td>Piedmont Distillers</td>\n",
              "      <td>750</td>\n",
              "      <td>6</td>\n",
              "      <td>1</td>\n",
              "      <td>NaN</td>\n",
              "      <td>80</td>\n",
              "      <td>2009-12-15 00:00:00</td>\n",
              "      <td>8.517670e+11</td>\n",
              "      <td>1.085180e+13</td>\n",
              "      <td>$13.56</td>\n",
              "      <td>20.34</td>\n",
              "      <td>81.35</td>\n",
              "    </tr>\n",
              "    <tr>\n",
              "      <th>9967</th>\n",
              "      <td>904614</td>\n",
              "      <td>MISC. AMERICAN CORDIALS &amp; LIQUEURS</td>\n",
              "      <td>Jekyll Berry Liqueur</td>\n",
              "      <td>194</td>\n",
              "      <td>Fire Tail Brands Llc</td>\n",
              "      <td>750</td>\n",
              "      <td>12</td>\n",
              "      <td>1</td>\n",
              "      <td>NaN</td>\n",
              "      <td>60</td>\n",
              "      <td>2010-02-05 00:00:00</td>\n",
              "      <td>9.046100e+04</td>\n",
              "      <td>9.046140e+05</td>\n",
              "      <td>$5.06</td>\n",
              "      <td>7.59</td>\n",
              "      <td>60.70</td>\n",
              "    </tr>\n",
              "    <tr>\n",
              "      <th>9968</th>\n",
              "      <td>904615</td>\n",
              "      <td>FLAVORED VODKA</td>\n",
              "      <td>Smirnoff Twist Of Citrus Mini</td>\n",
              "      <td>260</td>\n",
              "      <td>Diageo Americas</td>\n",
              "      <td>502</td>\n",
              "      <td>12</td>\n",
              "      <td>10</td>\n",
              "      <td>NaN</td>\n",
              "      <td>70</td>\n",
              "      <td>2009-12-04 00:00:00</td>\n",
              "      <td>8.200077e+10</td>\n",
              "      <td>NaN</td>\n",
              "      <td>$5.72</td>\n",
              "      <td>8.58</td>\n",
              "      <td>68.58</td>\n",
              "    </tr>\n",
              "  </tbody>\n",
              "</table>\n",
              "<p>9045 rows × 16 columns</p>\n",
              "</div>"
            ],
            "text/plain": [
              "      item_no                       category_name  ... shelf_price  case_cost\n",
              "0      904616  MISC. AMERICAN CORDIALS & LIQUEURS  ...       14.66     117.22\n",
              "1      904617  MISC. IMPORTED CORDIALS & LIQUEURS  ...       21.18     169.40\n",
              "2      904618                      PEACH BRANDIES  ...        9.74      77.94\n",
              "3      904619                     SCOTCH WHISKIES  ...       38.00     152.00\n",
              "5      904621           STRAIGHT BOURBON WHISKIES  ...        9.55      76.40\n",
              "...       ...                                 ...  ...         ...        ...\n",
              "9964   904611                      CREAM LIQUEURS  ...       28.26     113.00\n",
              "9965   904612                  SINGLE MALT SCOTCH  ...       94.50      63.00\n",
              "9966   904613         DISTILLED SPIRITS SPECIALTY  ...       20.34      81.35\n",
              "9967   904614  MISC. AMERICAN CORDIALS & LIQUEURS  ...        7.59      60.70\n",
              "9968   904615                      FLAVORED VODKA  ...        8.58      68.58\n",
              "\n",
              "[9045 rows x 16 columns]"
            ]
          },
          "metadata": {
            "tags": []
          },
          "execution_count": 74
        }
      ]
    },
    {
      "cell_type": "code",
      "metadata": {
        "id": "UnxRDa8sYgy2",
        "colab_type": "code",
        "outputId": "691054e8-f72b-45a8-9f3b-906c78853966",
        "colab": {
          "base_uri": "https://localhost:8080/",
          "height": 813
        }
      },
      "source": [
        "import numpy as np\n",
        "data[np.logical_and(data[\"bottle_size\"]>300, data[\"bottle_size\"]<1000)]"
      ],
      "execution_count": 0,
      "outputs": [
        {
          "output_type": "execute_result",
          "data": {
            "text/html": [
              "<div>\n",
              "<style scoped>\n",
              "    .dataframe tbody tr th:only-of-type {\n",
              "        vertical-align: middle;\n",
              "    }\n",
              "\n",
              "    .dataframe tbody tr th {\n",
              "        vertical-align: top;\n",
              "    }\n",
              "\n",
              "    .dataframe thead th {\n",
              "        text-align: right;\n",
              "    }\n",
              "</style>\n",
              "<table border=\"1\" class=\"dataframe\">\n",
              "  <thead>\n",
              "    <tr style=\"text-align: right;\">\n",
              "      <th></th>\n",
              "      <th>item_no</th>\n",
              "      <th>category_name</th>\n",
              "      <th>item_description</th>\n",
              "      <th>vendor</th>\n",
              "      <th>vendor_name</th>\n",
              "      <th>bottle_size</th>\n",
              "      <th>pack</th>\n",
              "      <th>inner_pack</th>\n",
              "      <th>age</th>\n",
              "      <th>proof</th>\n",
              "      <th>list_date</th>\n",
              "      <th>upc</th>\n",
              "      <th>scc</th>\n",
              "      <th>bottle_price</th>\n",
              "      <th>shelf_price</th>\n",
              "      <th>case_cost</th>\n",
              "    </tr>\n",
              "  </thead>\n",
              "  <tbody>\n",
              "    <tr>\n",
              "      <th>0</th>\n",
              "      <td>904616</td>\n",
              "      <td>MISC. AMERICAN CORDIALS &amp; LIQUEURS</td>\n",
              "      <td>Travis Hasse Apple Pie</td>\n",
              "      <td>305</td>\n",
              "      <td>Mhw Ltd</td>\n",
              "      <td>750</td>\n",
              "      <td>12</td>\n",
              "      <td>1</td>\n",
              "      <td>NaN</td>\n",
              "      <td>40</td>\n",
              "      <td>2009-02-11 00:00:00</td>\n",
              "      <td>NaN</td>\n",
              "      <td>NaN</td>\n",
              "      <td>$9.77</td>\n",
              "      <td>14.66</td>\n",
              "      <td>117.22</td>\n",
              "    </tr>\n",
              "    <tr>\n",
              "      <th>1</th>\n",
              "      <td>904617</td>\n",
              "      <td>MISC. IMPORTED CORDIALS &amp; LIQUEURS</td>\n",
              "      <td>D'aristi Xtabentun</td>\n",
              "      <td>391</td>\n",
              "      <td>Anchor Distilling (preiss Imports)</td>\n",
              "      <td>750</td>\n",
              "      <td>12</td>\n",
              "      <td>1</td>\n",
              "      <td>NaN</td>\n",
              "      <td>60</td>\n",
              "      <td>2009-04-24 00:00:00</td>\n",
              "      <td>NaN</td>\n",
              "      <td>NaN</td>\n",
              "      <td>$14.12</td>\n",
              "      <td>21.18</td>\n",
              "      <td>169.40</td>\n",
              "    </tr>\n",
              "    <tr>\n",
              "      <th>3</th>\n",
              "      <td>904619</td>\n",
              "      <td>SCOTCH WHISKIES</td>\n",
              "      <td>Oak Cross Whisky</td>\n",
              "      <td>305</td>\n",
              "      <td>Mhw Ltd</td>\n",
              "      <td>750</td>\n",
              "      <td>6</td>\n",
              "      <td>1</td>\n",
              "      <td>NaN</td>\n",
              "      <td>86</td>\n",
              "      <td>2009-12-24 00:00:00</td>\n",
              "      <td>NaN</td>\n",
              "      <td>NaN</td>\n",
              "      <td>$25.33</td>\n",
              "      <td>38.00</td>\n",
              "      <td>152.00</td>\n",
              "    </tr>\n",
              "    <tr>\n",
              "      <th>5</th>\n",
              "      <td>904621</td>\n",
              "      <td>STRAIGHT BOURBON WHISKIES</td>\n",
              "      <td>Heaven Hill Old Style White Label</td>\n",
              "      <td>259</td>\n",
              "      <td>Heaven Hill Distilleries Inc.</td>\n",
              "      <td>750</td>\n",
              "      <td>12</td>\n",
              "      <td>1</td>\n",
              "      <td>NaN</td>\n",
              "      <td>80</td>\n",
              "      <td>2009-12-04 00:00:00</td>\n",
              "      <td>NaN</td>\n",
              "      <td>NaN</td>\n",
              "      <td>$6.37</td>\n",
              "      <td>9.55</td>\n",
              "      <td>76.40</td>\n",
              "    </tr>\n",
              "    <tr>\n",
              "      <th>6</th>\n",
              "      <td>904622</td>\n",
              "      <td>MISC. AMERICAN CORDIALS &amp; LIQUEURS</td>\n",
              "      <td>Hyde Herbal Liqueur</td>\n",
              "      <td>194</td>\n",
              "      <td>Fire Tail Brands Llc</td>\n",
              "      <td>750</td>\n",
              "      <td>12</td>\n",
              "      <td>1</td>\n",
              "      <td>NaN</td>\n",
              "      <td>80</td>\n",
              "      <td>2010-02-05 00:00:00</td>\n",
              "      <td>NaN</td>\n",
              "      <td>9.046220e+05</td>\n",
              "      <td>$5.06</td>\n",
              "      <td>7.59</td>\n",
              "      <td>60.70</td>\n",
              "    </tr>\n",
              "    <tr>\n",
              "      <th>...</th>\n",
              "      <td>...</td>\n",
              "      <td>...</td>\n",
              "      <td>...</td>\n",
              "      <td>...</td>\n",
              "      <td>...</td>\n",
              "      <td>...</td>\n",
              "      <td>...</td>\n",
              "      <td>...</td>\n",
              "      <td>...</td>\n",
              "      <td>...</td>\n",
              "      <td>...</td>\n",
              "      <td>...</td>\n",
              "      <td>...</td>\n",
              "      <td>...</td>\n",
              "      <td>...</td>\n",
              "      <td>...</td>\n",
              "    </tr>\n",
              "    <tr>\n",
              "      <th>9964</th>\n",
              "      <td>904611</td>\n",
              "      <td>CREAM LIQUEURS</td>\n",
              "      <td>1921 Tequila Cream</td>\n",
              "      <td>109</td>\n",
              "      <td>Casa 1921 Llc</td>\n",
              "      <td>750</td>\n",
              "      <td>6</td>\n",
              "      <td>1</td>\n",
              "      <td>NaN</td>\n",
              "      <td>30</td>\n",
              "      <td>2009-12-08 00:00:00</td>\n",
              "      <td>NaN</td>\n",
              "      <td>1.060860e+13</td>\n",
              "      <td>$18.84</td>\n",
              "      <td>28.26</td>\n",
              "      <td>113.00</td>\n",
              "    </tr>\n",
              "    <tr>\n",
              "      <th>9965</th>\n",
              "      <td>904612</td>\n",
              "      <td>SINGLE MALT SCOTCH</td>\n",
              "      <td>Glendronach 15yo</td>\n",
              "      <td>391</td>\n",
              "      <td>Anchor Distilling (preiss Imports)</td>\n",
              "      <td>750</td>\n",
              "      <td>1</td>\n",
              "      <td>1</td>\n",
              "      <td>NaN</td>\n",
              "      <td>92</td>\n",
              "      <td>2009-12-09 00:00:00</td>\n",
              "      <td>NaN</td>\n",
              "      <td>9.046120e+05</td>\n",
              "      <td>$63.00</td>\n",
              "      <td>94.50</td>\n",
              "      <td>63.00</td>\n",
              "    </tr>\n",
              "    <tr>\n",
              "      <th>9966</th>\n",
              "      <td>904613</td>\n",
              "      <td>DISTILLED SPIRITS SPECIALTY</td>\n",
              "      <td>Junior Johnson's Midnight Moon Lemonade(dno)</td>\n",
              "      <td>384</td>\n",
              "      <td>Piedmont Distillers</td>\n",
              "      <td>750</td>\n",
              "      <td>6</td>\n",
              "      <td>1</td>\n",
              "      <td>NaN</td>\n",
              "      <td>80</td>\n",
              "      <td>2009-12-15 00:00:00</td>\n",
              "      <td>8.517670e+11</td>\n",
              "      <td>1.085180e+13</td>\n",
              "      <td>$13.56</td>\n",
              "      <td>20.34</td>\n",
              "      <td>81.35</td>\n",
              "    </tr>\n",
              "    <tr>\n",
              "      <th>9967</th>\n",
              "      <td>904614</td>\n",
              "      <td>MISC. AMERICAN CORDIALS &amp; LIQUEURS</td>\n",
              "      <td>Jekyll Berry Liqueur</td>\n",
              "      <td>194</td>\n",
              "      <td>Fire Tail Brands Llc</td>\n",
              "      <td>750</td>\n",
              "      <td>12</td>\n",
              "      <td>1</td>\n",
              "      <td>NaN</td>\n",
              "      <td>60</td>\n",
              "      <td>2010-02-05 00:00:00</td>\n",
              "      <td>9.046100e+04</td>\n",
              "      <td>9.046140e+05</td>\n",
              "      <td>$5.06</td>\n",
              "      <td>7.59</td>\n",
              "      <td>60.70</td>\n",
              "    </tr>\n",
              "    <tr>\n",
              "      <th>9968</th>\n",
              "      <td>904615</td>\n",
              "      <td>FLAVORED VODKA</td>\n",
              "      <td>Smirnoff Twist Of Citrus Mini</td>\n",
              "      <td>260</td>\n",
              "      <td>Diageo Americas</td>\n",
              "      <td>502</td>\n",
              "      <td>12</td>\n",
              "      <td>10</td>\n",
              "      <td>NaN</td>\n",
              "      <td>70</td>\n",
              "      <td>2009-12-04 00:00:00</td>\n",
              "      <td>8.200077e+10</td>\n",
              "      <td>NaN</td>\n",
              "      <td>$5.72</td>\n",
              "      <td>8.58</td>\n",
              "      <td>68.58</td>\n",
              "    </tr>\n",
              "  </tbody>\n",
              "</table>\n",
              "<p>7022 rows × 16 columns</p>\n",
              "</div>"
            ],
            "text/plain": [
              "      item_no                       category_name  ... shelf_price  case_cost\n",
              "0      904616  MISC. AMERICAN CORDIALS & LIQUEURS  ...       14.66     117.22\n",
              "1      904617  MISC. IMPORTED CORDIALS & LIQUEURS  ...       21.18     169.40\n",
              "3      904619                     SCOTCH WHISKIES  ...       38.00     152.00\n",
              "5      904621           STRAIGHT BOURBON WHISKIES  ...        9.55      76.40\n",
              "6      904622  MISC. AMERICAN CORDIALS & LIQUEURS  ...        7.59      60.70\n",
              "...       ...                                 ...  ...         ...        ...\n",
              "9964   904611                      CREAM LIQUEURS  ...       28.26     113.00\n",
              "9965   904612                  SINGLE MALT SCOTCH  ...       94.50      63.00\n",
              "9966   904613         DISTILLED SPIRITS SPECIALTY  ...       20.34      81.35\n",
              "9967   904614  MISC. AMERICAN CORDIALS & LIQUEURS  ...        7.59      60.70\n",
              "9968   904615                      FLAVORED VODKA  ...        8.58      68.58\n",
              "\n",
              "[7022 rows x 16 columns]"
            ]
          },
          "metadata": {
            "tags": []
          },
          "execution_count": 75
        }
      ]
    },
    {
      "cell_type": "markdown",
      "metadata": {
        "id": "D9bsU8tor0hd",
        "colab_type": "text"
      },
      "source": [
        "# While Loops"
      ]
    },
    {
      "cell_type": "code",
      "metadata": {
        "id": "ikVIBnPJZcLB",
        "colab_type": "code",
        "outputId": "3a197b9c-b2cb-45bc-d7a8-05e7e40f2c64",
        "colab": {
          "base_uri": "https://localhost:8080/",
          "height": 68
        }
      },
      "source": [
        "x = 1\n",
        "while x < 4 :\n",
        "    print(x)\n",
        "    x = x + 1"
      ],
      "execution_count": 0,
      "outputs": [
        {
          "output_type": "stream",
          "text": [
            "1\n",
            "2\n",
            "3\n"
          ],
          "name": "stdout"
        }
      ]
    },
    {
      "cell_type": "code",
      "metadata": {
        "id": "ZLQkMkmZsUtg",
        "colab_type": "code",
        "outputId": "757bec91-549f-428c-9473-f5057877a8ab",
        "colab": {
          "base_uri": "https://localhost:8080/",
          "height": 289
        }
      },
      "source": [
        "offset = 8\n",
        "while offset != 0:\n",
        "  print('correcting...')\n",
        "  offset = offset - 1\n",
        "  print(offset)"
      ],
      "execution_count": 0,
      "outputs": [
        {
          "output_type": "stream",
          "text": [
            "correcting...\n",
            "7\n",
            "correcting...\n",
            "6\n",
            "correcting...\n",
            "5\n",
            "correcting...\n",
            "4\n",
            "correcting...\n",
            "3\n",
            "correcting...\n",
            "2\n",
            "correcting...\n",
            "1\n",
            "correcting...\n",
            "0\n"
          ],
          "name": "stdout"
        }
      ]
    },
    {
      "cell_type": "code",
      "metadata": {
        "id": "9_OcEyHis-Ay",
        "colab_type": "code",
        "outputId": "757e6316-11c4-4159-c24f-5019aad158b5",
        "colab": {
          "base_uri": "https://localhost:8080/",
          "height": 289
        }
      },
      "source": [
        "offset = -8\n",
        "while offset != 0:\n",
        "  print('correcting...')\n",
        "  if offset > 0:\n",
        "    offset = offset - 1\n",
        "  else: \n",
        "    offset = offset + 1  \n",
        "  if offset == 0:\n",
        "    print('False!')\n",
        "  else:  \n",
        "    print(offset)"
      ],
      "execution_count": 0,
      "outputs": [
        {
          "output_type": "stream",
          "text": [
            "correcting...\n",
            "-7\n",
            "correcting...\n",
            "-6\n",
            "correcting...\n",
            "-5\n",
            "correcting...\n",
            "-4\n",
            "correcting...\n",
            "-3\n",
            "correcting...\n",
            "-2\n",
            "correcting...\n",
            "-1\n",
            "correcting...\n",
            "False!\n"
          ],
          "name": "stdout"
        }
      ]
    },
    {
      "cell_type": "markdown",
      "metadata": {
        "id": "CbvCgIdPuwQ5",
        "colab_type": "text"
      },
      "source": [
        "# For Loops"
      ]
    },
    {
      "cell_type": "code",
      "metadata": {
        "id": "hIfw1B18tjyN",
        "colab_type": "code",
        "outputId": "63142f57-d452-4a96-bb5c-8c16d2a37897",
        "colab": {
          "base_uri": "https://localhost:8080/",
          "height": 102
        }
      },
      "source": [
        "areas = [11.25, 18.0, 20.0, 10.75, 9.50]\n",
        "for item in areas:\n",
        "  print(item)"
      ],
      "execution_count": 0,
      "outputs": [
        {
          "output_type": "stream",
          "text": [
            "11.25\n",
            "18.0\n",
            "20.0\n",
            "10.75\n",
            "9.5\n"
          ],
          "name": "stdout"
        }
      ]
    },
    {
      "cell_type": "code",
      "metadata": {
        "id": "TkvtSvJvvA6e",
        "colab_type": "code",
        "outputId": "37757038-04bf-4dc8-a7e5-26ec74db93ac",
        "colab": {
          "base_uri": "https://localhost:8080/",
          "height": 102
        }
      },
      "source": [
        "areas = [11.25, 18.0, 20.0, 10.75, 9.50]\n",
        "for index, area in enumerate(areas):\n",
        "  print(\"index \" + str(index) + \": \" + str(area))"
      ],
      "execution_count": 0,
      "outputs": [
        {
          "output_type": "stream",
          "text": [
            "index 0: 11.25\n",
            "index 1: 18.0\n",
            "index 2: 20.0\n",
            "index 3: 10.75\n",
            "index 4: 9.5\n"
          ],
          "name": "stdout"
        }
      ]
    },
    {
      "cell_type": "code",
      "metadata": {
        "id": "heNSmUS6vdZx",
        "colab_type": "code",
        "outputId": "c51e17b6-af93-4652-80cb-bd0c04c8029d",
        "colab": {
          "base_uri": "https://localhost:8080/",
          "height": 102
        }
      },
      "source": [
        "areas = [11.25, 18.0, 20.0, 10.75, 9.50]\n",
        "for room, area in enumerate(areas, start=1):\n",
        "  print(\"room \" + str(room) + \": \" + str(area))"
      ],
      "execution_count": 0,
      "outputs": [
        {
          "output_type": "stream",
          "text": [
            "room 1: 11.25\n",
            "room 2: 18.0\n",
            "room 3: 20.0\n",
            "room 4: 10.75\n",
            "room 5: 9.5\n"
          ],
          "name": "stdout"
        }
      ]
    },
    {
      "cell_type": "code",
      "metadata": {
        "id": "IdwTn2eAwJym",
        "colab_type": "code",
        "outputId": "99c3a167-894a-46b5-e83f-99812882333d",
        "colab": {
          "base_uri": "https://localhost:8080/",
          "height": 119
        }
      },
      "source": [
        "house = [[\"hallway\", 11.25], \n",
        "         [\"kitchen\", 18.0], \n",
        "         [\"living room\", 20.0], \n",
        "         [\"bedroom\", 10.75], \n",
        "         [\"bathroom\", 9.50]]\n",
        "\n",
        "for room in house:\n",
        "  x = room[0]\n",
        "  y = room[1]\n",
        "  #print(str(y))\n",
        "  #print(x, y)\n",
        "  print(\"The \" + x + ' is ' + str(y) + ' square feet.')      "
      ],
      "execution_count": 0,
      "outputs": [
        {
          "output_type": "stream",
          "text": [
            "The hallway is 11.25 square feet.\n",
            "The kitchen is 18.0 square feet.\n",
            "The living room is 20.0 square feet.\n",
            "The bedroom is 10.75 square feet.\n",
            "The bathroom is 9.5 square feet.\n",
            "ERROR! Session/line number was not unique in database. History logging moved to new session 61\n"
          ],
          "name": "stdout"
        }
      ]
    },
    {
      "cell_type": "markdown",
      "metadata": {
        "id": "L7tOCv8v7BuH",
        "colab_type": "text"
      },
      "source": [
        "#### Iterating over dictionaries"
      ]
    },
    {
      "cell_type": "code",
      "metadata": {
        "id": "HH4cefFRxBRI",
        "colab_type": "code",
        "outputId": "0c96d8e5-f2ff-451c-edbe-e4187dfd2df9",
        "colab": {
          "base_uri": "https://localhost:8080/",
          "height": 153
        }
      },
      "source": [
        "europe = {'spain':'madrid', 'france':'paris', 'germany':'berlin',\n",
        "          'norway':'oslo', 'italy':'rome', 'poland':'warsaw', 'austria':'vienna' }\n",
        "for key, value in europe.items():\n",
        "  print(\"The capital of \" + key + ' is ' + value)          "
      ],
      "execution_count": 0,
      "outputs": [
        {
          "output_type": "stream",
          "text": [
            "The capital of spain is madrid\n",
            "The capital of france is paris\n",
            "The capital of germany is berlin\n",
            "The capital of norway is oslo\n",
            "The capital of italy is rome\n",
            "The capital of poland is warsaw\n",
            "The capital of austria is vienna\n",
            "ERROR! Session/line number was not unique in database. History logging moved to new session 63\n"
          ],
          "name": "stdout"
        }
      ]
    },
    {
      "cell_type": "markdown",
      "metadata": {
        "id": "r-ueXq5S9DrW",
        "colab_type": "text"
      },
      "source": [
        "#### Iterating over numpy arrays"
      ]
    },
    {
      "cell_type": "code",
      "metadata": {
        "id": "J1AkEA0N8fDW",
        "colab_type": "code",
        "outputId": "6e2354c5-52b2-4337-d346-ad6e2e9cff4f",
        "colab": {
          "base_uri": "https://localhost:8080/",
          "height": 153
        }
      },
      "source": [
        "import numpy as np\n",
        "\n",
        "years = [1950, 1970, 1990, 2010]\n",
        "np_years = np.array(years)\n",
        "\n",
        "for year in np_years:\n",
        "  print(year)"
      ],
      "execution_count": 0,
      "outputs": [
        {
          "output_type": "stream",
          "text": [
            "1950\n",
            "1970\n",
            "1990\n",
            "2010\n",
            "1950\n",
            "1970\n",
            "1990\n",
            "2010\n"
          ],
          "name": "stdout"
        }
      ]
    },
    {
      "cell_type": "code",
      "metadata": {
        "id": "eOls9hvm9dql",
        "colab_type": "code",
        "outputId": "f30aca59-605d-4afa-80c2-2074dca5e6d5",
        "colab": {
          "base_uri": "https://localhost:8080/",
          "height": 51
        }
      },
      "source": [
        "year = [1950, 1970, 1990, 2010]\n",
        "population = [2.519, 3.692,5.263, 6.541]\n",
        "np_years = np.array(year)\n",
        "np_pop = np.array(population)\n",
        "pop_growth = np.array([np_years, np_pop])\n",
        "\n",
        "for item in pop_growth:\n",
        "  print(item)"
      ],
      "execution_count": 0,
      "outputs": [
        {
          "output_type": "stream",
          "text": [
            "[1950. 1970. 1990. 2010.]\n",
            "[2.519 3.692 5.263 6.541]\n"
          ],
          "name": "stdout"
        }
      ]
    },
    {
      "cell_type": "code",
      "metadata": {
        "id": "EWm0Z533_iUi",
        "colab_type": "code",
        "outputId": "5ef8eae9-20c7-4a11-e33b-13f3db4f3db1",
        "colab": {
          "base_uri": "https://localhost:8080/",
          "height": 153
        }
      },
      "source": [
        "for item in np.nditer(pop_growth):\n",
        "  print(item)"
      ],
      "execution_count": 0,
      "outputs": [
        {
          "output_type": "stream",
          "text": [
            "1950.0\n",
            "1970.0\n",
            "1990.0\n",
            "2010.0\n",
            "2.519\n",
            "3.692\n",
            "5.263\n",
            "6.541\n"
          ],
          "name": "stdout"
        }
      ]
    },
    {
      "cell_type": "markdown",
      "metadata": {
        "id": "ZqmLfs2n_16Y",
        "colab_type": "text"
      },
      "source": [
        "#### Looping over Dataframe"
      ]
    },
    {
      "cell_type": "code",
      "metadata": {
        "id": "rch8rj7G_uKr",
        "colab_type": "code",
        "outputId": "089a533a-7dae-4e80-b960-7ea5f42e3710",
        "colab": {
          "base_uri": "https://localhost:8080/",
          "height": 266
        }
      },
      "source": [
        "names = ['United States', 'Australia', 'Japan', 'India', 'Russia', 'Morocco', 'Egypt']\n",
        "dr =  [True, False, False, False, True, True, True]\n",
        "cpc = [809, 731, 588, 18, 200, 70, 45]\n",
        "my_dict = {'countries':names, 'drives right': dr, 'cars per capita':cpc}\n",
        "\n",
        "\n",
        "#my_dict\n",
        "import pandas as pd\n",
        "countries=pd.DataFrame(my_dict)\n",
        "countries.index = ['us','au','ja','in','ru','mo','eg']\n",
        "countries"
      ],
      "execution_count": 0,
      "outputs": [
        {
          "output_type": "execute_result",
          "data": {
            "text/html": [
              "<div>\n",
              "<style scoped>\n",
              "    .dataframe tbody tr th:only-of-type {\n",
              "        vertical-align: middle;\n",
              "    }\n",
              "\n",
              "    .dataframe tbody tr th {\n",
              "        vertical-align: top;\n",
              "    }\n",
              "\n",
              "    .dataframe thead th {\n",
              "        text-align: right;\n",
              "    }\n",
              "</style>\n",
              "<table border=\"1\" class=\"dataframe\">\n",
              "  <thead>\n",
              "    <tr style=\"text-align: right;\">\n",
              "      <th></th>\n",
              "      <th>countries</th>\n",
              "      <th>drives right</th>\n",
              "      <th>cars per capita</th>\n",
              "    </tr>\n",
              "  </thead>\n",
              "  <tbody>\n",
              "    <tr>\n",
              "      <th>us</th>\n",
              "      <td>United States</td>\n",
              "      <td>True</td>\n",
              "      <td>809</td>\n",
              "    </tr>\n",
              "    <tr>\n",
              "      <th>au</th>\n",
              "      <td>Australia</td>\n",
              "      <td>False</td>\n",
              "      <td>731</td>\n",
              "    </tr>\n",
              "    <tr>\n",
              "      <th>ja</th>\n",
              "      <td>Japan</td>\n",
              "      <td>False</td>\n",
              "      <td>588</td>\n",
              "    </tr>\n",
              "    <tr>\n",
              "      <th>in</th>\n",
              "      <td>India</td>\n",
              "      <td>False</td>\n",
              "      <td>18</td>\n",
              "    </tr>\n",
              "    <tr>\n",
              "      <th>ru</th>\n",
              "      <td>Russia</td>\n",
              "      <td>True</td>\n",
              "      <td>200</td>\n",
              "    </tr>\n",
              "    <tr>\n",
              "      <th>mo</th>\n",
              "      <td>Morocco</td>\n",
              "      <td>True</td>\n",
              "      <td>70</td>\n",
              "    </tr>\n",
              "    <tr>\n",
              "      <th>eg</th>\n",
              "      <td>Egypt</td>\n",
              "      <td>True</td>\n",
              "      <td>45</td>\n",
              "    </tr>\n",
              "  </tbody>\n",
              "</table>\n",
              "</div>"
            ],
            "text/plain": [
              "        countries  drives right  cars per capita\n",
              "us  United States          True              809\n",
              "au      Australia         False              731\n",
              "ja          Japan         False              588\n",
              "in          India         False               18\n",
              "ru         Russia          True              200\n",
              "mo        Morocco          True               70\n",
              "eg          Egypt          True               45"
            ]
          },
          "metadata": {
            "tags": []
          },
          "execution_count": 61
        }
      ]
    },
    {
      "cell_type": "code",
      "metadata": {
        "id": "KQYzZzYQAtf_",
        "colab_type": "code",
        "outputId": "52f66ae3-f20c-4295-de84-bcd27cc9d1ed",
        "colab": {
          "base_uri": "https://localhost:8080/",
          "height": 612
        }
      },
      "source": [
        "for label, row in countries.iterrows():\n",
        "  print(label)\n",
        "  print(row)"
      ],
      "execution_count": 0,
      "outputs": [
        {
          "output_type": "stream",
          "text": [
            "us\n",
            "countries          United States\n",
            "drives right                True\n",
            "cars per capita              809\n",
            "Name: us, dtype: object\n",
            "au\n",
            "countries          Australia\n",
            "drives right           False\n",
            "cars per capita          731\n",
            "Name: au, dtype: object\n",
            "ja\n",
            "countries          Japan\n",
            "drives right       False\n",
            "cars per capita      588\n",
            "Name: ja, dtype: object\n",
            "in\n",
            "countries          India\n",
            "drives right       False\n",
            "cars per capita       18\n",
            "Name: in, dtype: object\n",
            "ru\n",
            "countries          Russia\n",
            "drives right         True\n",
            "cars per capita       200\n",
            "Name: ru, dtype: object\n",
            "mo\n",
            "countries          Morocco\n",
            "drives right          True\n",
            "cars per capita         70\n",
            "Name: mo, dtype: object\n",
            "eg\n",
            "countries          Egypt\n",
            "drives right        True\n",
            "cars per capita       45\n",
            "Name: eg, dtype: object\n"
          ],
          "name": "stdout"
        }
      ]
    },
    {
      "cell_type": "code",
      "metadata": {
        "id": "_pFNuhHZBGs5",
        "colab_type": "code",
        "outputId": "5666bb87-70bd-4fed-f038-2631981a14c9",
        "colab": {
          "base_uri": "https://localhost:8080/",
          "height": 136
        }
      },
      "source": [
        "for label, row in countries.iterrows():\n",
        "  print(label + ': ' + row['countries'])\n",
        " "
      ],
      "execution_count": 0,
      "outputs": [
        {
          "output_type": "stream",
          "text": [
            "us: United States\n",
            "au: Australia\n",
            "ja: Japan\n",
            "in: India\n",
            "ru: Russia\n",
            "mo: Morocco\n",
            "eg: Egypt\n"
          ],
          "name": "stdout"
        }
      ]
    },
    {
      "cell_type": "code",
      "metadata": {
        "id": "rnFe4PKcCGUh",
        "colab_type": "code",
        "outputId": "2e4f33fe-cb77-4b52-d804-376a9a060fb2",
        "colab": {
          "base_uri": "https://localhost:8080/",
          "height": 136
        }
      },
      "source": [
        "for label, row in countries.iterrows():\n",
        "  print(label + ': ' + str(row['cars per capita']))\n",
        "\n"
      ],
      "execution_count": 0,
      "outputs": [
        {
          "output_type": "stream",
          "text": [
            "us: 809\n",
            "au: 731\n",
            "ja: 588\n",
            "in: 18\n",
            "ru: 200\n",
            "mo: 70\n",
            "eg: 45\n"
          ],
          "name": "stdout"
        }
      ]
    },
    {
      "cell_type": "code",
      "metadata": {
        "id": "IsMjKdW5C2oO",
        "colab_type": "code",
        "colab": {}
      },
      "source": [
        "# ADDING A NEW COLUMN"
      ],
      "execution_count": 0,
      "outputs": []
    },
    {
      "cell_type": "code",
      "metadata": {
        "id": "gReIpNsgEhTu",
        "colab_type": "code",
        "outputId": "7046819f-ad34-4e57-9353-547604142afa",
        "colab": {
          "base_uri": "https://localhost:8080/",
          "height": 266
        }
      },
      "source": [
        "# okay for small datasets\n",
        "for label, row in countries.iterrows():\n",
        "  countries.loc[label, \"length_name\"] = len(row['countries'])\n",
        "countries  "
      ],
      "execution_count": 0,
      "outputs": [
        {
          "output_type": "execute_result",
          "data": {
            "text/html": [
              "<div>\n",
              "<style scoped>\n",
              "    .dataframe tbody tr th:only-of-type {\n",
              "        vertical-align: middle;\n",
              "    }\n",
              "\n",
              "    .dataframe tbody tr th {\n",
              "        vertical-align: top;\n",
              "    }\n",
              "\n",
              "    .dataframe thead th {\n",
              "        text-align: right;\n",
              "    }\n",
              "</style>\n",
              "<table border=\"1\" class=\"dataframe\">\n",
              "  <thead>\n",
              "    <tr style=\"text-align: right;\">\n",
              "      <th></th>\n",
              "      <th>countries</th>\n",
              "      <th>drives right</th>\n",
              "      <th>cars per capita</th>\n",
              "      <th>length_name</th>\n",
              "    </tr>\n",
              "  </thead>\n",
              "  <tbody>\n",
              "    <tr>\n",
              "      <th>us</th>\n",
              "      <td>United States</td>\n",
              "      <td>True</td>\n",
              "      <td>809</td>\n",
              "      <td>13.0</td>\n",
              "    </tr>\n",
              "    <tr>\n",
              "      <th>au</th>\n",
              "      <td>Australia</td>\n",
              "      <td>False</td>\n",
              "      <td>731</td>\n",
              "      <td>9.0</td>\n",
              "    </tr>\n",
              "    <tr>\n",
              "      <th>ja</th>\n",
              "      <td>Japan</td>\n",
              "      <td>False</td>\n",
              "      <td>588</td>\n",
              "      <td>5.0</td>\n",
              "    </tr>\n",
              "    <tr>\n",
              "      <th>in</th>\n",
              "      <td>India</td>\n",
              "      <td>False</td>\n",
              "      <td>18</td>\n",
              "      <td>5.0</td>\n",
              "    </tr>\n",
              "    <tr>\n",
              "      <th>ru</th>\n",
              "      <td>Russia</td>\n",
              "      <td>True</td>\n",
              "      <td>200</td>\n",
              "      <td>6.0</td>\n",
              "    </tr>\n",
              "    <tr>\n",
              "      <th>mo</th>\n",
              "      <td>Morocco</td>\n",
              "      <td>True</td>\n",
              "      <td>70</td>\n",
              "      <td>7.0</td>\n",
              "    </tr>\n",
              "    <tr>\n",
              "      <th>eg</th>\n",
              "      <td>Egypt</td>\n",
              "      <td>True</td>\n",
              "      <td>45</td>\n",
              "      <td>5.0</td>\n",
              "    </tr>\n",
              "  </tbody>\n",
              "</table>\n",
              "</div>"
            ],
            "text/plain": [
              "        countries  drives right  cars per capita  length_name\n",
              "us  United States          True              809         13.0\n",
              "au      Australia         False              731          9.0\n",
              "ja          Japan         False              588          5.0\n",
              "in          India         False               18          5.0\n",
              "ru         Russia          True              200          6.0\n",
              "mo        Morocco          True               70          7.0\n",
              "eg          Egypt          True               45          5.0"
            ]
          },
          "metadata": {
            "tags": []
          },
          "execution_count": 72
        }
      ]
    },
    {
      "cell_type": "code",
      "metadata": {
        "id": "jS1xUy90FYP8",
        "colab_type": "code",
        "outputId": "bd847248-6cd7-4cfe-f263-1dc1e69c7bb9",
        "colab": {
          "base_uri": "https://localhost:8080/",
          "height": 266
        }
      },
      "source": [
        "# better for larger datasets\n",
        "countries['length_drive'] = countries['countries'].apply(len)\n",
        "countries"
      ],
      "execution_count": 0,
      "outputs": [
        {
          "output_type": "execute_result",
          "data": {
            "text/html": [
              "<div>\n",
              "<style scoped>\n",
              "    .dataframe tbody tr th:only-of-type {\n",
              "        vertical-align: middle;\n",
              "    }\n",
              "\n",
              "    .dataframe tbody tr th {\n",
              "        vertical-align: top;\n",
              "    }\n",
              "\n",
              "    .dataframe thead th {\n",
              "        text-align: right;\n",
              "    }\n",
              "</style>\n",
              "<table border=\"1\" class=\"dataframe\">\n",
              "  <thead>\n",
              "    <tr style=\"text-align: right;\">\n",
              "      <th></th>\n",
              "      <th>countries</th>\n",
              "      <th>drives right</th>\n",
              "      <th>cars per capita</th>\n",
              "      <th>length_name</th>\n",
              "      <th>length_drive</th>\n",
              "    </tr>\n",
              "  </thead>\n",
              "  <tbody>\n",
              "    <tr>\n",
              "      <th>us</th>\n",
              "      <td>United States</td>\n",
              "      <td>True</td>\n",
              "      <td>809</td>\n",
              "      <td>13.0</td>\n",
              "      <td>13</td>\n",
              "    </tr>\n",
              "    <tr>\n",
              "      <th>au</th>\n",
              "      <td>Australia</td>\n",
              "      <td>False</td>\n",
              "      <td>731</td>\n",
              "      <td>9.0</td>\n",
              "      <td>9</td>\n",
              "    </tr>\n",
              "    <tr>\n",
              "      <th>ja</th>\n",
              "      <td>Japan</td>\n",
              "      <td>False</td>\n",
              "      <td>588</td>\n",
              "      <td>5.0</td>\n",
              "      <td>5</td>\n",
              "    </tr>\n",
              "    <tr>\n",
              "      <th>in</th>\n",
              "      <td>India</td>\n",
              "      <td>False</td>\n",
              "      <td>18</td>\n",
              "      <td>5.0</td>\n",
              "      <td>5</td>\n",
              "    </tr>\n",
              "    <tr>\n",
              "      <th>ru</th>\n",
              "      <td>Russia</td>\n",
              "      <td>True</td>\n",
              "      <td>200</td>\n",
              "      <td>6.0</td>\n",
              "      <td>6</td>\n",
              "    </tr>\n",
              "    <tr>\n",
              "      <th>mo</th>\n",
              "      <td>Morocco</td>\n",
              "      <td>True</td>\n",
              "      <td>70</td>\n",
              "      <td>7.0</td>\n",
              "      <td>7</td>\n",
              "    </tr>\n",
              "    <tr>\n",
              "      <th>eg</th>\n",
              "      <td>Egypt</td>\n",
              "      <td>True</td>\n",
              "      <td>45</td>\n",
              "      <td>5.0</td>\n",
              "      <td>5</td>\n",
              "    </tr>\n",
              "  </tbody>\n",
              "</table>\n",
              "</div>"
            ],
            "text/plain": [
              "        countries  drives right  cars per capita  length_name  length_drive\n",
              "us  United States          True              809         13.0            13\n",
              "au      Australia         False              731          9.0             9\n",
              "ja          Japan         False              588          5.0             5\n",
              "in          India         False               18          5.0             5\n",
              "ru         Russia          True              200          6.0             6\n",
              "mo        Morocco          True               70          7.0             7\n",
              "eg          Egypt          True               45          5.0             5"
            ]
          },
          "metadata": {
            "tags": []
          },
          "execution_count": 76
        }
      ]
    },
    {
      "cell_type": "code",
      "metadata": {
        "id": "2xcW7ey_G3jd",
        "colab_type": "code",
        "outputId": "3ddf164b-e3df-413d-93b9-19a2bb85f68a",
        "colab": {
          "base_uri": "https://localhost:8080/",
          "height": 266
        }
      },
      "source": [
        "for label, row in countries.iterrows():\n",
        "  countries.loc[label, \"upper\"] = row['countries'].upper()\n",
        "countries "
      ],
      "execution_count": 0,
      "outputs": [
        {
          "output_type": "execute_result",
          "data": {
            "text/html": [
              "<div>\n",
              "<style scoped>\n",
              "    .dataframe tbody tr th:only-of-type {\n",
              "        vertical-align: middle;\n",
              "    }\n",
              "\n",
              "    .dataframe tbody tr th {\n",
              "        vertical-align: top;\n",
              "    }\n",
              "\n",
              "    .dataframe thead th {\n",
              "        text-align: right;\n",
              "    }\n",
              "</style>\n",
              "<table border=\"1\" class=\"dataframe\">\n",
              "  <thead>\n",
              "    <tr style=\"text-align: right;\">\n",
              "      <th></th>\n",
              "      <th>countries</th>\n",
              "      <th>drives right</th>\n",
              "      <th>cars per capita</th>\n",
              "      <th>length_name</th>\n",
              "      <th>length_drive</th>\n",
              "      <th>upper</th>\n",
              "    </tr>\n",
              "  </thead>\n",
              "  <tbody>\n",
              "    <tr>\n",
              "      <th>us</th>\n",
              "      <td>United States</td>\n",
              "      <td>True</td>\n",
              "      <td>809</td>\n",
              "      <td>13.0</td>\n",
              "      <td>13</td>\n",
              "      <td>UNITED STATES</td>\n",
              "    </tr>\n",
              "    <tr>\n",
              "      <th>au</th>\n",
              "      <td>Australia</td>\n",
              "      <td>False</td>\n",
              "      <td>731</td>\n",
              "      <td>9.0</td>\n",
              "      <td>9</td>\n",
              "      <td>AUSTRALIA</td>\n",
              "    </tr>\n",
              "    <tr>\n",
              "      <th>ja</th>\n",
              "      <td>Japan</td>\n",
              "      <td>False</td>\n",
              "      <td>588</td>\n",
              "      <td>5.0</td>\n",
              "      <td>5</td>\n",
              "      <td>JAPAN</td>\n",
              "    </tr>\n",
              "    <tr>\n",
              "      <th>in</th>\n",
              "      <td>India</td>\n",
              "      <td>False</td>\n",
              "      <td>18</td>\n",
              "      <td>5.0</td>\n",
              "      <td>5</td>\n",
              "      <td>INDIA</td>\n",
              "    </tr>\n",
              "    <tr>\n",
              "      <th>ru</th>\n",
              "      <td>Russia</td>\n",
              "      <td>True</td>\n",
              "      <td>200</td>\n",
              "      <td>6.0</td>\n",
              "      <td>6</td>\n",
              "      <td>RUSSIA</td>\n",
              "    </tr>\n",
              "    <tr>\n",
              "      <th>mo</th>\n",
              "      <td>Morocco</td>\n",
              "      <td>True</td>\n",
              "      <td>70</td>\n",
              "      <td>7.0</td>\n",
              "      <td>7</td>\n",
              "      <td>MOROCCO</td>\n",
              "    </tr>\n",
              "    <tr>\n",
              "      <th>eg</th>\n",
              "      <td>Egypt</td>\n",
              "      <td>True</td>\n",
              "      <td>45</td>\n",
              "      <td>5.0</td>\n",
              "      <td>5</td>\n",
              "      <td>EGYPT</td>\n",
              "    </tr>\n",
              "  </tbody>\n",
              "</table>\n",
              "</div>"
            ],
            "text/plain": [
              "        countries  drives right  ...  length_drive          upper\n",
              "us  United States          True  ...            13  UNITED STATES\n",
              "au      Australia         False  ...             9      AUSTRALIA\n",
              "ja          Japan         False  ...             5          JAPAN\n",
              "in          India         False  ...             5          INDIA\n",
              "ru         Russia          True  ...             6         RUSSIA\n",
              "mo        Morocco          True  ...             7        MOROCCO\n",
              "eg          Egypt          True  ...             5          EGYPT\n",
              "\n",
              "[7 rows x 6 columns]"
            ]
          },
          "metadata": {
            "tags": []
          },
          "execution_count": 78
        }
      ]
    },
    {
      "cell_type": "markdown",
      "metadata": {
        "id": "aGfseYzoI1vL",
        "colab_type": "text"
      },
      "source": [
        "### Random numbers and Probability"
      ]
    },
    {
      "cell_type": "code",
      "metadata": {
        "id": "PHSNcc_1HqD1",
        "colab_type": "code",
        "colab": {
          "base_uri": "https://localhost:8080/",
          "height": 34
        },
        "outputId": "95b881dc-ee05-44cd-84ac-23fb37e0cb34"
      },
      "source": [
        "import numpy as np\n",
        "np.random.rand()"
      ],
      "execution_count": 4,
      "outputs": [
        {
          "output_type": "execute_result",
          "data": {
            "text/plain": [
              "0.2376733042904151"
            ]
          },
          "metadata": {
            "tags": []
          },
          "execution_count": 4
        }
      ]
    },
    {
      "cell_type": "code",
      "metadata": {
        "id": "9GPSwKd2oNyC",
        "colab_type": "code",
        "colab": {
          "base_uri": "https://localhost:8080/",
          "height": 34
        },
        "outputId": "475445f7-ae82-4989-a89d-6334f94e9565"
      },
      "source": [
        "np.random.seed(452)\n",
        "np.random.rand(),np.random.rand()"
      ],
      "execution_count": 7,
      "outputs": [
        {
          "output_type": "execute_result",
          "data": {
            "text/plain": [
              "(0.8864286863256481, 0.4267770061162103)"
            ]
          },
          "metadata": {
            "tags": []
          },
          "execution_count": 7
        }
      ]
    },
    {
      "cell_type": "code",
      "metadata": {
        "id": "G2_CLTT2ohVw",
        "colab_type": "code",
        "colab": {
          "base_uri": "https://localhost:8080/",
          "height": 34
        },
        "outputId": "b17d7a22-32d1-4f20-ccf6-0969db958660"
      },
      "source": [
        "np.random.seed(452)\n",
        "np.random.rand(),np.random.rand()"
      ],
      "execution_count": 8,
      "outputs": [
        {
          "output_type": "execute_result",
          "data": {
            "text/plain": [
              "(0.8864286863256481, 0.4267770061162103)"
            ]
          },
          "metadata": {
            "tags": []
          },
          "execution_count": 8
        }
      ]
    },
    {
      "cell_type": "code",
      "metadata": {
        "id": "CW7KC1Pzoub_",
        "colab_type": "code",
        "colab": {
          "base_uri": "https://localhost:8080/",
          "height": 34
        },
        "outputId": "216374b1-2db3-462d-e3d4-6789175f5f5f"
      },
      "source": [
        "number = np.random.randint(0,100)\n",
        "number"
      ],
      "execution_count": 10,
      "outputs": [
        {
          "output_type": "execute_result",
          "data": {
            "text/plain": [
              "48"
            ]
          },
          "metadata": {
            "tags": []
          },
          "execution_count": 10
        }
      ]
    },
    {
      "cell_type": "code",
      "metadata": {
        "id": "9GamOc9ro1p3",
        "colab_type": "code",
        "colab": {
          "base_uri": "https://localhost:8080/",
          "height": 34
        },
        "outputId": "edad3ee5-4cd5-4b04-d975-740cbb0b54d1"
      },
      "source": [
        "np.random.seed(45)\n",
        "coin = np.random.randint(0,2)\n",
        "if coin == 0:\n",
        "  print(\"heads\")\n",
        "else:\n",
        "  print(\"tails\")  "
      ],
      "execution_count": 15,
      "outputs": [
        {
          "output_type": "stream",
          "text": [
            "tails\n"
          ],
          "name": "stdout"
        }
      ]
    },
    {
      "cell_type": "code",
      "metadata": {
        "id": "NEkvZb0ypVWE",
        "colab_type": "code",
        "colab": {
          "base_uri": "https://localhost:8080/",
          "height": 34
        },
        "outputId": "90bcc595-acda-4ead-c1bf-7dc80173ea47"
      },
      "source": [
        "step = 50\n",
        "dice = np.random.randint(0,7)\n",
        "if dice in [1,2]:\n",
        "  step -= 1\n",
        "elif dice in [3,5,5]:\n",
        "  step +=1\n",
        "else:\n",
        "  step += 0 \n",
        "print(dice, step)  \n",
        "\n",
        "\n"
      ],
      "execution_count": 25,
      "outputs": [
        {
          "output_type": "stream",
          "text": [
            "0 50\n"
          ],
          "name": "stdout"
        }
      ]
    },
    {
      "cell_type": "code",
      "metadata": {
        "id": "1f4aRLUGq9f5",
        "colab_type": "code",
        "colab": {
          "base_uri": "https://localhost:8080/",
          "height": 71
        },
        "outputId": "f2568fcd-2f4c-405e-c6bf-295eaa98113e"
      },
      "source": [
        "# Flipping a Coin\n",
        "np.random.seed(721)\n",
        "results=[]\n",
        "for x in range(100):\n",
        "  flip = np.random.randint(0,2)\n",
        "  if flip == 0:\n",
        "    results.append(0)\n",
        "  else:\n",
        "    results.append(1) \n",
        "print(results) \n",
        "print(results.count(0), results.count(1))    "
      ],
      "execution_count": 31,
      "outputs": [
        {
          "output_type": "stream",
          "text": [
            "[1, 1, 0, 0, 1, 0, 1, 1, 1, 1, 0, 1, 0, 0, 1, 1, 1, 0, 0, 0, 0, 0, 0, 1, 0, 1, 1, 0, 0, 1, 1, 0, 0, 1, 1, 0, 0, 1, 1, 0, 0, 1, 0, 1, 1, 0, 1, 0, 1, 0, 0, 1, 0, 0, 0, 0, 1, 0, 1, 1, 1, 1, 1, 0, 0, 0, 0, 1, 1, 1, 0, 1, 0, 0, 1, 1, 0, 0, 0, 0, 0, 0, 1, 1, 0, 0, 1, 0, 0, 0, 1, 1, 0, 0, 1, 1, 1, 0, 0, 1]\n",
            "53 47\n"
          ],
          "name": "stdout"
        }
      ]
    },
    {
      "cell_type": "code",
      "metadata": {
        "id": "8bYiYKvxvJ2k",
        "colab_type": "code",
        "colab": {
          "base_uri": "https://localhost:8080/",
          "height": 71
        },
        "outputId": "c3a7d56a-3a9f-4cae-964e-e483f498e925"
      },
      "source": [
        "# Random Walk\n",
        "np.random.seed(885)\n",
        "tails=[0]\n",
        "for x in range(10):\n",
        "  coin = np.random.randint(0,2)\n",
        "  tails.append(tails[x] + coin)\n",
        "print(tails)\n",
        "print(tails[-1])  "
      ],
      "execution_count": 33,
      "outputs": [
        {
          "output_type": "stream",
          "text": [
            "[0, 0, 0, 1, 2, 2, 3, 4, 5, 5, 5, 6, 7, 8, 9, 9, 9, 9, 9, 9, 9, 9, 9, 10, 10, 11, 11, 11, 12, 13, 14, 15, 16, 17, 17, 18, 19, 19, 20, 21, 21, 22, 22, 22, 23, 24, 25, 25, 26, 27, 28, 28, 28, 28, 29, 30, 30, 31, 31, 31, 32, 33, 34, 34, 34, 34, 35, 36, 36, 36, 36, 37, 38, 39, 39, 40, 40, 40, 40, 40, 40, 41, 42, 42, 42, 43, 43, 43, 44, 44, 45, 46, 47, 48, 48, 48, 48, 48, 49, 50, 51]\n",
            "51\n"
          ],
          "name": "stdout"
        }
      ]
    },
    {
      "cell_type": "code",
      "metadata": {
        "id": "MHUI7uiOyAIl",
        "colab_type": "code",
        "colab": {
          "base_uri": "https://localhost:8080/",
          "height": 71
        },
        "outputId": "c651843c-0bd7-4716-a030-22939bfe5bc2"
      },
      "source": [
        "import numpy as np\n",
        "np.random.seed(664)\n",
        "# Initialize random_walk\n",
        "random_walk = [0]\n",
        "\n",
        "for x in range(100) :\n",
        "    step = random_walk[-1]\n",
        "    dice = np.random.randint(1,7)\n",
        "    if dice <= 2:\n",
        "        # Replace below: use max to make sure step can't go below 0\n",
        "        step = max(0, step - 1)\n",
        "    elif dice <= 5:\n",
        "        step = step + 1\n",
        "    else:\n",
        "        step = step + np.random.randint(1,7)\n",
        "\n",
        "    random_walk.append(step)\n",
        "\n",
        "print(random_walk)\n",
        "print(random_walk[-1])   \n"
      ],
      "execution_count": 35,
      "outputs": [
        {
          "output_type": "stream",
          "text": [
            "[0, 0, 1, 2, 1, 2, 1, 2, 3, 4, 5, 4, 5, 6, 5, 6, 9, 10, 16, 15, 14, 15, 16, 17, 16, 17, 18, 19, 18, 20, 19, 20, 19, 25, 26, 25, 26, 30, 31, 32, 31, 32, 36, 37, 38, 37, 38, 37, 38, 39, 40, 46, 47, 48, 51, 53, 54, 53, 52, 56, 57, 56, 57, 58, 57, 60, 61, 62, 63, 62, 61, 62, 63, 64, 63, 62, 63, 67, 72, 73, 74, 73, 74, 76, 77, 76, 77, 76, 77, 78, 79, 80, 81, 82, 83, 84, 89, 90, 89, 90, 89]\n",
            "89\n"
          ],
          "name": "stdout"
        }
      ]
    },
    {
      "cell_type": "code",
      "metadata": {
        "id": "-gOFfXwzztVy",
        "colab_type": "code",
        "colab": {
          "base_uri": "https://localhost:8080/",
          "height": 265
        },
        "outputId": "a3dd76d2-08da-448c-b1da-c6c19aa2c484"
      },
      "source": [
        "import matplotlib.pyplot as plt\n",
        "plt.plot(random_walk)\n",
        "plt.show()"
      ],
      "execution_count": 36,
      "outputs": [
        {
          "output_type": "display_data",
          "data": {
            "image/png": "[encoded data removed]",
            "text/plain": [
              "<Figure size 432x288 with 1 Axes>"
            ]
          },
          "metadata": {
            "tags": []
          }
        }
      ]
    },
    {
      "cell_type": "code",
      "metadata": {
        "id": "eI97kBE702Gh",
        "colab_type": "code",
        "colab": {
          "base_uri": "https://localhost:8080/",
          "height": 316
        },
        "outputId": "29ba5937-4779-4930-80a0-a3d5f60849ff"
      },
      "source": [
        "np.random.seed(885)\n",
        "final_tails = []\n",
        "for x in range(100):\n",
        "  tails=[0]\n",
        "  for x in range(10):\n",
        "    coin = np.random.randint(0,2)\n",
        "    tails.append(tails[x] + coin)\n",
        "  final_tails.append(tails[-1])  \n",
        "# print(tails)\n",
        "# print(tails[-1])\n",
        "#print(final_tails)\n",
        "plt.hist(final_tails, bins=10)\n"
      ],
      "execution_count": 38,
      "outputs": [
        {
          "output_type": "execute_result",
          "data": {
            "text/plain": [
              "(array([ 2., 14., 23.,  0., 27., 20.,  0.,  9.,  4.,  1.]),\n",
              " array([2. , 2.7, 3.4, 4.1, 4.8, 5.5, 6.2, 6.9, 7.6, 8.3, 9. ]),\n",
              " <a list of 10 Patch objects>)"
            ]
          },
          "metadata": {
            "tags": []
          },
          "execution_count": 38
        },
        {
          "output_type": "display_data",
          "data": {
            "image/png": "[encoded data removed]",
            "text/plain": [
              "<Figure size 432x288 with 1 Axes>"
            ]
          },
          "metadata": {
            "tags": []
          }
        }
      ]
    },
    {
      "cell_type": "code",
      "metadata": {
        "id": "Szs74zs148Y4",
        "colab_type": "code",
        "colab": {}
      },
      "source": [
        "np.random.seed(885)\n",
        "final_tails = []\n",
        "for x in range(100):\n",
        "  tails=[0]\n",
        "  for x in range(10):\n",
        "    coin = np.random.randint(0,2)\n",
        "    tails.append(tails[x] + coin)\n",
        "  final_tails.append(tails[-1])\n",
        "plt.hist(final_tails, bins=10)"
      ],
      "execution_count": 0,
      "outputs": []
    },
    {
      "cell_type": "code",
      "metadata": {
        "id": "bNilZeIw5piq",
        "colab_type": "code",
        "colab": {
          "base_uri": "https://localhost:8080/",
          "height": 316
        },
        "outputId": "82abc975-1d27-4ade-8c1a-48f4b9b75c3b"
      },
      "source": [
        "np.random.seed(885)\n",
        "final_tails = []\n",
        "for x in range(1000):\n",
        "  tails=[0]\n",
        "  for x in range(10):\n",
        "    coin = np.random.randint(0,2)\n",
        "    tails.append(tails[x] + coin)\n",
        "  final_tails.append(tails[-1])\n",
        "plt.hist(final_tails, bins=10)"
      ],
      "execution_count": 39,
      "outputs": [
        {
          "output_type": "execute_result",
          "data": {
            "text/plain": [
              "(array([ 12.,  37., 112., 206., 257., 203., 118.,  44.,  10.,   1.]),\n",
              " array([ 1. ,  1.9,  2.8,  3.7,  4.6,  5.5,  6.4,  7.3,  8.2,  9.1, 10. ]),\n",
              " <a list of 10 Patch objects>)"
            ]
          },
          "metadata": {
            "tags": []
          },
          "execution_count": 39
        },
        {
          "output_type": "display_data",
          "data": {
            "image/png": "[encoded data removed]",
            "text/plain": [
              "<Figure size 432x288 with 1 Axes>"
            ]
          },
          "metadata": {
            "tags": []
          }
        }
      ]
    },
    {
      "cell_type": "code",
      "metadata": {
        "id": "o_6rCWq_5tma",
        "colab_type": "code",
        "colab": {
          "base_uri": "https://localhost:8080/",
          "height": 333
        },
        "outputId": "7a00d704-5a9c-4740-9373-6c98c2bf7392"
      },
      "source": [
        "# approaches normal distribution...\n",
        "np.random.seed(885)\n",
        "final_tails = []\n",
        "for x in range(10000):\n",
        "  tails=[0]\n",
        "  for x in range(10):\n",
        "    coin = np.random.randint(0,2)\n",
        "    tails.append(tails[x] + coin)\n",
        "  final_tails.append(tails[-1])\n",
        "plt.hist(final_tails, bins=10)"
      ],
      "execution_count": 40,
      "outputs": [
        {
          "output_type": "execute_result",
          "data": {
            "text/plain": [
              "(array([   7.,   99.,  475., 1156., 2078., 2502., 1942., 1183.,  445.,\n",
              "         113.]),\n",
              " array([ 0.,  1.,  2.,  3.,  4.,  5.,  6.,  7.,  8.,  9., 10.]),\n",
              " <a list of 10 Patch objects>)"
            ]
          },
          "metadata": {
            "tags": []
          },
          "execution_count": 40
        },
        {
          "output_type": "display_data",
          "data": {
            "image/png": "[encoded data removed]",
            "text/plain": [
              "<Figure size 432x288 with 1 Axes>"
            ]
          },
          "metadata": {
            "tags": []
          }
        }
      ]
    },
    {
      "cell_type": "code",
      "metadata": {
        "id": "2-wQXg2e5z-C",
        "colab_type": "code",
        "colab": {}
      },
      "source": [
        "# np.random.seed(885)\n",
        "# final_tails = []\n",
        "# for x in range(100):\n",
        "#   tails=[0]\n",
        "#   for x in range(1000000):\n",
        "#     coin = np.random.randint(0,2)\n",
        "#     tails.append(tails[x] + coin)\n",
        "#   final_tails.append(tails[-1])\n",
        "# plt.hist(final_tails, bins=10)"
      ],
      "execution_count": 0,
      "outputs": []
    },
    {
      "cell_type": "code",
      "metadata": {
        "id": "-ze3h7JN56Tv",
        "colab_type": "code",
        "colab": {
          "base_uri": "https://localhost:8080/",
          "height": 54
        },
        "outputId": "44eb4679-e2cf-4a53-b9d9-1b9f85541076"
      },
      "source": [
        "# back to staircase\n",
        "np.random.seed(682)\n",
        "all_walks = []\n",
        "for i in range(10):\n",
        "  random_walk = [0]\n",
        "  for x in range(100) :\n",
        "      step = random_walk[-1]\n",
        "      dice = np.random.randint(1,7)\n",
        "      if dice <= 2:\n",
        "          # Replace below: use max to make sure step can't go below 0\n",
        "          step = max(0, step - 1)\n",
        "      elif dice <= 5:\n",
        "          step = step + 1\n",
        "      else:\n",
        "          step = step + np.random.randint(1,7)\n",
        "\n",
        "      random_walk.append(step)\n",
        "  all_walks.append(random_walk)      \n",
        "print(all_walks)\n"
      ],
      "execution_count": 44,
      "outputs": [
        {
          "output_type": "stream",
          "text": [
            "[[0, 4, 5, 6, 5, 7, 8, 9, 10, 11, 10, 11, 12, 17, 18, 19, 20, 21, 22, 23, 24, 25, 28, 29, 30, 31, 37, 38, 39, 40, 41, 40, 41, 42, 43, 49, 50, 51, 55, 54, 53, 52, 51, 50, 55, 54, 53, 52, 53, 54, 53, 54, 55, 56, 57, 61, 62, 63, 62, 63, 64, 65, 66, 67, 66, 70, 69, 68, 67, 68, 69, 70, 71, 76, 75, 74, 73, 79, 80, 79, 80, 83, 84, 85, 91, 92, 93, 94, 93, 94, 95, 96, 97, 96, 95, 96, 97, 96, 95, 98, 99], [0, 1, 2, 1, 0, 0, 1, 2, 6, 7, 6, 7, 8, 7, 6, 7, 8, 9, 8, 9, 10, 11, 10, 9, 13, 12, 13, 12, 13, 14, 20, 21, 22, 21, 22, 23, 24, 25, 24, 29, 30, 29, 28, 27, 28, 29, 28, 29, 28, 29, 30, 31, 30, 31, 32, 33, 34, 33, 34, 33, 34, 35, 36, 37, 39, 38, 39, 40, 39, 40, 41, 40, 45, 46, 47, 48, 49, 48, 47, 46, 47, 48, 54, 53, 54, 55, 54, 55, 56, 55, 56, 55, 56, 57, 56, 57, 56, 55, 57, 56, 57], [0, 1, 0, 1, 0, 1, 2, 3, 4, 5, 6, 10, 9, 8, 7, 8, 7, 8, 9, 10, 9, 10, 9, 8, 12, 11, 10, 12, 16, 19, 20, 21, 20, 19, 20, 21, 20, 21, 22, 23, 24, 25, 24, 25, 26, 25, 24, 25, 26, 25, 24, 23, 22, 21, 22, 23, 24, 28, 29, 30, 31, 32, 33, 32, 37, 38, 42, 45, 44, 43, 44, 45, 46, 47, 48, 47, 46, 45, 44, 45, 46, 45, 46, 45, 46, 47, 48, 47, 48, 47, 49, 48, 47, 48, 49, 48, 47, 51, 52, 53, 54], [0, 0, 2, 3, 6, 7, 8, 9, 8, 7, 12, 13, 14, 19, 20, 19, 20, 21, 26, 27, 28, 34, 33, 36, 35, 39, 40, 41, 40, 41, 42, 43, 42, 43, 42, 41, 42, 41, 42, 43, 42, 48, 47, 48, 47, 48, 49, 48, 49, 48, 50, 51, 55, 61, 60, 66, 65, 64, 65, 64, 65, 66, 70, 71, 72, 76, 77, 76, 77, 78, 77, 76, 80, 82, 81, 80, 81, 82, 81, 86, 85, 86, 90, 91, 92, 93, 92, 91, 90, 89, 88, 92, 93, 92, 93, 95, 96, 95, 100, 101, 102], [0, 2, 3, 2, 1, 2, 3, 4, 5, 6, 7, 13, 14, 15, 16, 15, 16, 17, 18, 19, 20, 21, 22, 21, 22, 23, 24, 25, 26, 27, 28, 29, 28, 29, 30, 31, 30, 29, 28, 29, 30, 31, 37, 38, 37, 38, 39, 38, 37, 38, 37, 38, 39, 40, 41, 42, 43, 48, 49, 52, 53, 52, 53, 52, 51, 52, 51, 50, 49, 50, 49, 48, 47, 52, 53, 52, 53, 54, 55, 54, 53, 58, 59, 58, 59, 60, 61, 63, 64, 67, 66, 67, 68, 67, 72, 74, 75, 76, 75, 74, 75], [0, 1, 6, 7, 12, 13, 14, 15, 16, 18, 23, 24, 27, 29, 30, 33, 34, 38, 37, 36, 35, 38, 39, 38, 42, 41, 40, 39, 40, 41, 42, 48, 49, 50, 55, 56, 62, 63, 64, 63, 64, 65, 64, 65, 70, 71, 72, 71, 72, 71, 72, 71, 72, 71, 74, 73, 72, 71, 74, 75, 74, 73, 74, 75, 76, 77, 83, 84, 85, 90, 91, 90, 95, 94, 93, 94, 95, 100, 99, 98, 97, 101, 100, 101, 102, 103, 104, 103, 104, 105, 106, 105, 106, 111, 110, 109, 108, 107, 106, 105, 104], [0, 3, 9, 10, 11, 10, 9, 10, 11, 12, 13, 14, 15, 16, 17, 20, 21, 23, 22, 23, 24, 25, 26, 27, 28, 27, 32, 35, 36, 37, 38, 39, 38, 37, 36, 41, 43, 42, 43, 42, 44, 45, 46, 47, 48, 49, 50, 51, 50, 51, 50, 54, 53, 52, 51, 52, 51, 52, 53, 54, 55, 57, 58, 59, 62, 65, 68, 71, 75, 76, 77, 78, 80, 81, 82, 81, 80, 79, 80, 79, 78, 77, 76, 77, 78, 79, 80, 79, 78, 84, 85, 88, 87, 86, 87, 88, 93, 94, 95, 94, 95], [0, 1, 0, 0, 1, 2, 3, 4, 5, 4, 7, 8, 9, 10, 11, 10, 11, 12, 13, 12, 11, 12, 11, 12, 11, 15, 16, 15, 16, 15, 16, 21, 22, 21, 22, 23, 24, 25, 24, 25, 24, 25, 24, 25, 24, 25, 26, 30, 31, 32, 38, 44, 45, 46, 47, 46, 50, 49, 50, 51, 50, 49, 48, 49, 50, 51, 50, 49, 50, 51, 53, 54, 53, 54, 55, 56, 58, 57, 58, 59, 60, 61, 65, 68, 67, 68, 67, 66, 67, 69, 70, 69, 73, 72, 73, 74, 80, 81, 82, 83, 84], [0, 2, 3, 2, 3, 2, 1, 4, 3, 2, 3, 4, 5, 7, 9, 10, 9, 10, 9, 10, 9, 10, 9, 8, 10, 11, 12, 13, 14, 15, 16, 15, 14, 15, 16, 15, 16, 17, 18, 19, 20, 21, 20, 24, 25, 24, 25, 26, 27, 28, 29, 30, 34, 33, 32, 33, 32, 33, 32, 33, 34, 33, 34, 33, 32, 33, 39, 40, 41, 42, 43, 49, 50, 49, 50, 49, 50, 49, 48, 49, 54, 55, 59, 60, 61, 60, 59, 62, 61, 62, 61, 67, 73, 72, 73, 72, 73, 74, 75, 76, 77], [0, 0, 0, 1, 0, 0, 0, 1, 0, 1, 2, 3, 4, 5, 6, 7, 6, 5, 4, 5, 4, 7, 8, 9, 8, 7, 6, 9, 8, 9, 10, 11, 12, 17, 18, 19, 25, 26, 27, 28, 29, 30, 31, 30, 29, 28, 29, 30, 31, 30, 29, 30, 31, 32, 33, 34, 33, 34, 33, 32, 34, 35, 36, 37, 36, 35, 36, 37, 36, 37, 36, 37, 38, 37, 38, 39, 44, 45, 44, 43, 44, 45, 46, 47, 53, 52, 51, 50, 49, 50, 51, 52, 51, 52, 53, 54, 55, 56, 58, 59, 60]]\n"
          ],
          "name": "stdout"
        }
      ]
    },
    {
      "cell_type": "code",
      "metadata": {
        "id": "o5n1cW5_CucS",
        "colab_type": "code",
        "colab": {
          "base_uri": "https://localhost:8080/",
          "height": 265
        },
        "outputId": "133423de-667c-481e-add2-3282653dccb3"
      },
      "source": [
        "#wrong\n",
        "np_aw = np.array(all_walks)\n",
        "plt.plot(np_aw)\n",
        "plt.show()"
      ],
      "execution_count": 45,
      "outputs": [
        {
          "output_type": "display_data",
          "data": {
            "image/png": "[encoded data removed]",
            "text/plain": [
              "<Figure size 432x288 with 1 Axes>"
            ]
          },
          "metadata": {
            "tags": []
          }
        }
      ]
    },
    {
      "cell_type": "code",
      "metadata": {
        "id": "6MR4S1GFDyhl",
        "colab_type": "code",
        "colab": {
          "base_uri": "https://localhost:8080/",
          "height": 265
        },
        "outputId": "b3fc985a-1d48-4a9b-9396-886ae54e2134"
      },
      "source": [
        "np_awt = np.transpose(np_aw)\n",
        "plt.plot(np_awt)\n",
        "plt.show()"
      ],
      "execution_count": 47,
      "outputs": [
        {
          "output_type": "display_data",
          "data": {
            "image/png": "[encoded data removed]",
            "text/plain": [
              "<Figure size 432x288 with 1 Axes>"
            ]
          },
          "metadata": {
            "tags": []
          }
        }
      ]
    },
    {
      "cell_type": "code",
      "metadata": {
        "id": "bPKsZ9N_EFuG",
        "colab_type": "code",
        "colab": {
          "base_uri": "https://localhost:8080/",
          "height": 71
        },
        "outputId": "e451f65f-5550-4096-e1a1-0853689f2add"
      },
      "source": [
        "# Accounting for clumsiness\n",
        "np.random.seed(622)\n",
        "all_walks = []\n",
        "ends = []\n",
        "for i in range(500):\n",
        "  random_walk = [0]\n",
        "  for x in range(100) :\n",
        "      step = random_walk[-1]\n",
        "      dice = np.random.randint(1,7)\n",
        "      clumsiness = np.random.rand()\n",
        "      if clumsiness <= .001:\n",
        "        step = 0\n",
        "      if dice <= 2:\n",
        "          # Replace below: use max to make sure step can't go below 0\n",
        "          step = max(0, step - 1)\n",
        "      elif dice <= 5:\n",
        "          step = step + 1\n",
        "      else:\n",
        "          step = step + np.random.randint(1,7)\n",
        "\n",
        "      random_walk.append(step)\n",
        "  all_walks.append(random_walk) \n",
        "  ends.append(random_walk[-1])     \n",
        "print(all_walks)\n",
        "print(ends)"
      ],
      "execution_count": 52,
      "outputs": [
        {
          "output_type": "stream",
          "text": [
            "[[0, 0, 3, 4, 5, 6, 7, 8, 10, 11, 10, 11, 10, 11, 15, 14, 15, 16, 18, 17, 16, 15, 16, 15, 14, 15, 21, 22, 21, 27, 28, 27, 26, 25, 24, 29, 30, 36, 37, 38, 39, 40, 41, 42, 41, 42, 41, 43, 42, 46, 47, 48, 49, 52, 51, 52, 58, 59, 60, 61, 62, 65, 66, 65, 64, 70, 69, 74, 79, 78, 77, 78, 79, 80, 79, 78, 77, 78, 79, 78, 77, 76, 81, 84, 85, 84, 85, 84, 83, 84, 83, 82, 81, 82, 85, 86, 87, 86, 85, 86, 87], [0, 0, 1, 0, 0, 1, 0, 1, 0, 0, 1, 2, 3, 4, 5, 6, 11, 12, 13, 14, 19, 20, 22, 23, 24, 25, 26, 27, 26, 27, 26, 27, 26, 25, 24, 25, 31, 30, 31, 32, 31, 33, 32, 38, 39, 40, 41, 42, 43, 42, 41, 44, 47, 46, 47, 48, 49, 53, 52, 53, 54, 55, 56, 57, 58, 59, 60, 61, 62, 61, 60, 59, 60, 63, 64, 65, 66, 67, 70, 71, 72, 71, 72, 71, 70, 71, 72, 76, 75, 74, 79, 80, 81, 82, 83, 84, 90, 89, 90, 89, 88], [0, 0, 0, 0, 1, 2, 3, 2, 1, 2, 1, 0, 4, 5, 4, 5, 6, 5, 6, 7, 6, 10, 11, 12, 13, 12, 14, 13, 14, 15, 19, 18, 19, 20, 21, 22, 23, 22, 27, 26, 27, 28, 29, 28, 29, 30, 34, 35, 34, 33, 32, 31, 30, 31, 30, 31, 30, 31, 30, 31, 32, 31, 32, 31, 36, 35, 36, 37, 38, 39, 38, 37, 36, 37, 38, 39, 40, 39, 40, 41, 42, 43, 42, 43, 42, 41, 42, 45, 46, 45, 46, 52, 53, 52, 51, 52, 51, 50, 51, 54, 55], [0, 0, 0, 0, 1, 2, 7, 8, 7, 8, 9, 10, 11, 10, 9, 12, 13, 14, 13, 14, 19, 18, 23, 22, 23, 22, 23, 22, 23, 24, 28, 29, 28, 27, 32, 33, 39, 40, 39, 38, 37, 38, 39, 40, 39, 40, 41, 42, 43, 42, 43, 44, 45, 46, 47, 46, 47, 48, 47, 46, 47, 52, 58, 59, 58, 57, 56, 55, 59, 60, 59, 60, 59, 58, 59, 60, 61, 66, 67, 68, 67, 68, 67, 68, 70, 71, 72, 73, 78, 77, 76, 81, 82, 81, 82, 83, 84, 83, 82, 83, 84], [0, 2, 3, 4, 3, 4, 5, 4, 3, 6, 11, 12, 13, 18, 19, 20, 21, 22, 21, 22, 25, 26, 27, 28, 29, 30, 31, 32, 33, 32, 35, 36, 35, 36, 37, 38, 39, 40, 41, 40, 39, 40, 39, 38, 37, 38, 41, 45, 46, 48, 49, 48, 49, 48, 49, 50, 51, 50, 51, 52, 53, 54, 55, 56, 57, 58, 59, 60, 59, 58, 57, 61, 62, 67, 68, 69, 70, 73, 74, 73, 74, 75, 76, 77, 76, 75, 76, 78, 79, 80, 79, 80, 79, 78, 79, 78, 77, 78, 79, 78, 77], [0, 3, 2, 3, 4, 5, 10, 11, 10, 11, 12, 11, 12, 13, 14, 13, 12, 13, 12, 13, 14, 13, 12, 13, 12, 11, 12, 11, 12, 13, 14, 15, 16, 17, 18, 21, 22, 23, 22, 23, 27, 28, 29, 30, 29, 28, 29, 28, 31, 30, 29, 30, 31, 30, 31, 32, 31, 35, 34, 35, 36, 35, 36, 37, 38, 37, 36, 35, 34, 33, 32, 31, 32, 36, 37, 36, 41, 42, 44, 45, 44, 45, 47, 48, 49, 50, 51, 50, 49, 48, 49, 48, 49, 48, 49, 52, 51, 53, 54, 53, 52], [0, 1, 2, 1, 2, 1, 2, 4, 5, 4, 5, 4, 3, 4, 9, 10, 11, 12, 13, 12, 13, 14, 17, 20, 21, 22, 21, 22, 23, 22, 23, 24, 23, 22, 23, 29, 28, 29, 31, 32, 33, 32, 31, 32, 33, 34, 36, 37, 36, 37, 36, 39, 38, 39, 40, 46, 45, 46, 45, 46, 50, 49, 54, 53, 56, 57, 59, 60, 61, 62, 63, 62, 63, 64, 65, 66, 65, 66, 67, 66, 67, 68, 67, 68, 69, 68, 67, 68, 69, 68, 67, 66, 67, 66, 69, 68, 72, 76, 77, 78, 81], [0, 0, 1, 0, 1, 2, 3, 2, 3, 4, 5, 4, 3, 4, 5, 4, 3, 6, 8, 7, 6, 7, 8, 9, 10, 9, 10, 9, 10, 15, 16, 17, 16, 17, 18, 19, 20, 21, 22, 21, 22, 23, 22, 21, 20, 21, 20, 19, 20, 21, 20, 19, 18, 19, 20, 19, 20, 19, 20, 21, 20, 21, 22, 21, 20, 21, 20, 21, 22, 21, 22, 21, 23, 27, 26, 27, 28, 29, 28, 29, 28, 27, 28, 27, 28, 27, 26, 25, 26, 27, 29, 30, 31, 32, 33, 34, 35, 36, 35, 36, 37], [0, 5, 6, 7, 6, 7, 6, 5, 6, 7, 8, 7, 8, 9, 8, 9, 10, 11, 12, 13, 14, 17, 18, 17, 18, 17, 18, 17, 16, 17, 18, 17, 19, 18, 19, 20, 22, 23, 24, 25, 31, 32, 33, 34, 35, 36, 35, 36, 37, 36, 37, 38, 37, 38, 39, 38, 37, 40, 41, 40, 41, 42, 44, 49, 48, 49, 50, 49, 50, 51, 56, 57, 58, 59, 58, 61, 65, 66, 67, 68, 69, 68, 69, 70, 69, 70, 71, 72, 71, 72, 71, 72, 73, 72, 71, 72, 73, 74, 75, 76, 77], [0, 6, 7, 12, 13, 12, 13, 12, 13, 12, 11, 12, 11, 10, 9, 10, 14, 13, 12, 13, 14, 15, 16, 15, 16, 17, 18, 17, 18, 19, 20, 21, 22, 23, 22, 21, 24, 23, 22, 23, 24, 27, 28, 29, 30, 29, 30, 31, 32, 31, 30, 31, 33, 34, 35, 36, 37, 38, 37, 38, 39, 40, 41, 40, 39, 38, 43, 44, 45, 46, 47, 50, 56, 57, 63, 62, 68, 67, 66, 67, 69, 70, 71, 72, 73, 72, 73, 78, 77, 78, 79, 78, 77, 78, 79, 80, 84, 86, 87, 86, 91], [0, 1, 3, 2, 3, 4, 5, 6, 7, 8, 9, 15, 14, 15, 20, 21, 20, 21, 20, 19, 20, 21, 20, 21, 20, 19, 20, 19, 24, 25, 24, 25, 24, 25, 26, 25, 26, 27, 30, 36, 35, 36, 35, 34, 35, 34, 33, 32, 31, 32, 31, 30, 29, 30, 31, 32, 36, 37, 38, 37, 38, 39, 40, 39, 40, 39, 40, 41, 42, 43, 44, 48, 49, 50, 51, 52, 53, 54, 55, 54, 59, 60, 61, 67, 68, 69, 68, 67, 68, 69, 74, 75, 74, 75, 74, 73, 77, 76, 75, 76, 75], [0, 1, 4, 3, 4, 5, 6, 5, 6, 5, 6, 7, 6, 7, 6, 7, 8, 9, 10, 11, 12, 11, 15, 18, 19, 18, 17, 23, 24, 23, 24, 25, 26, 0, 0, 1, 2, 1, 2, 3, 5, 6, 7, 6, 7, 8, 9, 10, 9, 10, 9, 14, 13, 14, 16, 17, 18, 19, 18, 19, 20, 21, 20, 19, 20, 26, 25, 28, 27, 31, 32, 31, 32, 33, 32, 31, 32, 31, 34, 37, 38, 39, 40, 41, 40, 41, 42, 41, 42, 41, 42, 43, 44, 46, 50, 49, 50, 51, 52, 53, 52], [0, 1, 6, 7, 8, 9, 8, 14, 15, 16, 17, 18, 19, 20, 19, 20, 21, 22, 21, 22, 23, 24, 23, 22, 25, 24, 25, 26, 32, 33, 34, 35, 34, 35, 36, 35, 40, 41, 42, 48, 49, 54, 55, 54, 53, 52, 57, 58, 57, 58, 57, 62, 63, 64, 65, 66, 69, 73, 74, 75, 76, 78, 84, 88, 87, 88, 89, 90, 89, 90, 89, 90, 91, 92, 98, 97, 96, 97, 98, 97, 96, 95, 96, 97, 98, 97, 98, 97, 98, 99, 100, 101, 102, 103, 102, 103, 104, 103, 108, 110, 111], [0, 1, 2, 1, 0, 1, 5, 6, 5, 4, 8, 9, 10, 9, 8, 9, 8, 9, 15, 14, 13, 14, 13, 14, 13, 14, 15, 14, 13, 12, 11, 12, 11, 13, 0, 0, 1, 0, 1, 5, 6, 7, 10, 11, 12, 17, 18, 19, 18, 19, 20, 21, 25, 26, 27, 26, 27, 28, 27, 28, 34, 33, 32, 31, 30, 31, 32, 33, 34, 35, 36, 39, 40, 41, 40, 39, 40, 41, 42, 41, 40, 41, 43, 46, 52, 53, 54, 55, 54, 53, 52, 51, 52, 53, 52, 53, 58, 57, 58, 57, 63], [0, 0, 0, 0, 0, 1, 2, 1, 0, 6, 7, 8, 7, 8, 7, 13, 18, 17, 16, 15, 16, 17, 16, 17, 18, 19, 18, 17, 16, 15, 14, 15, 14, 13, 14, 15, 16, 17, 16, 17, 16, 15, 14, 15, 14, 13, 14, 19, 1, 5, 6, 7, 8, 9, 10, 9, 8, 9, 10, 11, 12, 13, 12, 13, 14, 16, 15, 18, 19, 20, 21, 20, 21, 20, 19, 20, 21, 22, 21, 20, 21, 22, 21, 20, 23, 24, 23, 24, 23, 24, 25, 26, 25, 26, 25, 29, 30, 31, 30, 29, 28], [0, 0, 0, 0, 1, 7, 8, 9, 10, 11, 12, 13, 12, 13, 14, 20, 26, 25, 26, 27, 28, 30, 29, 30, 31, 30, 31, 30, 29, 30, 31, 30, 31, 32, 33, 34, 33, 32, 31, 30, 32, 31, 30, 31, 32, 33, 34, 35, 36, 37, 36, 35, 40, 41, 40, 41, 42, 43, 42, 43, 44, 45, 44, 45, 46, 47, 48, 49, 50, 49, 48, 47, 46, 47, 48, 49, 50, 51, 52, 51, 52, 53, 54, 55, 56, 57, 58, 57, 56, 57, 58, 59, 60, 61, 62, 63, 64, 65, 64, 63, 62], [0, 1, 2, 3, 4, 3, 2, 8, 9, 10, 14, 15, 16, 17, 16, 17, 23, 24, 25, 24, 25, 24, 23, 24, 28, 30, 32, 31, 32, 33, 34, 38, 44, 43, 44, 45, 44, 45, 46, 45, 44, 45, 46, 51, 52, 53, 52, 53, 52, 53, 54, 58, 57, 56, 0, 3, 2, 3, 2, 3, 4, 5, 4, 5, 6, 7, 10, 15, 14, 15, 14, 15, 16, 17, 18, 17, 16, 17, 18, 22, 21, 22, 23, 24, 25, 28, 27, 30, 32, 31, 30, 31, 34, 35, 34, 35, 36, 41, 43, 44, 45], [0, 1, 2, 1, 0, 0, 1, 2, 1, 2, 3, 2, 1, 0, 1, 0, 4, 5, 6, 5, 10, 11, 12, 11, 12, 13, 17, 18, 17, 16, 19, 20, 21, 20, 21, 22, 21, 22, 28, 29, 32, 36, 37, 42, 43, 44, 45, 44, 45, 46, 52, 53, 54, 56, 55, 56, 55, 56, 57, 58, 59, 58, 57, 60, 59, 60, 61, 62, 61, 60, 59, 58, 59, 64, 65, 66, 65, 66, 65, 71, 72, 71, 70, 69, 70, 71, 72, 75, 74, 75, 74, 73, 74, 73, 72, 73, 74, 75, 74, 73, 72], [0, 0, 1, 2, 6, 10, 13, 12, 17, 22, 21, 22, 21, 22, 21, 22, 27, 26, 25, 24, 25, 26, 27, 26, 25, 26, 27, 26, 27, 28, 27, 26, 25, 27, 28, 29, 30, 31, 32, 33, 34, 38, 39, 43, 42, 41, 42, 46, 49, 48, 49, 50, 54, 55, 54, 55, 56, 55, 56, 57, 58, 59, 58, 59, 60, 64, 63, 62, 68, 67, 72, 71, 72, 73, 74, 73, 74, 75, 76, 77, 78, 77, 78, 80, 81, 85, 86, 87, 88, 89, 88, 89, 90, 89, 88, 87, 88, 87, 93, 94, 95], [0, 0, 1, 0, 2, 1, 2, 3, 8, 11, 10, 9, 10, 9, 10, 16, 17, 18, 19, 20, 21, 22, 21, 22, 25, 26, 25, 24, 26, 27, 28, 29, 30, 36, 37, 38, 39, 41, 40, 41, 40, 39, 40, 41, 42, 41, 42, 43, 44, 43, 44, 48, 47, 48, 47, 46, 47, 48, 49, 50, 49, 50, 56, 55, 54, 55, 56, 55, 56, 57, 60, 59, 62, 63, 64, 63, 62, 61, 60, 61, 62, 63, 65, 64, 67, 68, 67, 66, 68, 69, 75, 81, 82, 83, 82, 83, 82, 83, 84, 83, 84], [0, 1, 2, 3, 4, 5, 6, 9, 10, 11, 12, 18, 19, 18, 17, 23, 22, 21, 22, 23, 24, 25, 24, 25, 24, 27, 28, 31, 33, 34, 35, 34, 35, 34, 35, 36, 35, 37, 1, 2, 1, 2, 3, 7, 8, 9, 10, 9, 15, 16, 17, 18, 19, 20, 19, 20, 19, 20, 21, 22, 23, 29, 30, 35, 34, 33, 34, 35, 36, 42, 43, 44, 43, 44, 45, 46, 45, 46, 47, 46, 52, 51, 52, 54, 55, 56, 57, 58, 57, 62, 63, 64, 63, 62, 61, 65, 66, 69, 68, 67, 66], [0, 0, 0, 1, 0, 0, 0, 1, 2, 3, 8, 9, 8, 9, 8, 7, 6, 7, 6, 5, 4, 3, 4, 3, 4, 3, 4, 3, 9, 10, 11, 10, 11, 15, 14, 15, 16, 17, 18, 17, 18, 17, 16, 17, 16, 17, 18, 22, 21, 26, 25, 26, 25, 24, 25, 26, 25, 29, 30, 29, 28, 27, 28, 29, 30, 31, 34, 33, 34, 35, 41, 42, 41, 42, 43, 42, 41, 40, 41, 40, 41, 40, 41, 46, 45, 46, 45, 44, 45, 46, 45, 46, 47, 51, 52, 53, 54, 60, 64, 65, 70], [0, 1, 2, 1, 2, 3, 2, 3, 4, 3, 2, 4, 5, 6, 7, 8, 9, 8, 7, 8, 9, 10, 11, 12, 14, 15, 16, 15, 17, 18, 19, 18, 19, 20, 24, 23, 22, 21, 20, 19, 20, 19, 20, 19, 24, 25, 24, 23, 24, 23, 29, 28, 32, 31, 32, 33, 37, 38, 40, 41, 42, 43, 42, 43, 44, 45, 46, 47, 46, 45, 46, 47, 46, 45, 44, 43, 44, 45, 46, 45, 44, 50, 49, 53, 52, 53, 52, 53, 57, 61, 62, 61, 62, 63, 62, 64, 65, 66, 67, 68, 69], [0, 1, 6, 5, 6, 5, 6, 12, 13, 17, 16, 17, 18, 19, 20, 21, 20, 21, 22, 23, 22, 21, 22, 23, 24, 23, 24, 25, 26, 25, 26, 27, 28, 31, 32, 33, 32, 33, 34, 35, 34, 33, 34, 33, 38, 39, 40, 41, 42, 43, 44, 43, 42, 41, 42, 43, 45, 46, 47, 46, 47, 48, 49, 50, 49, 51, 50, 52, 53, 54, 53, 58, 59, 58, 59, 60, 61, 60, 65, 66, 67, 66, 67, 72, 73, 72, 73, 74, 75, 74, 73, 72, 73, 72, 71, 72, 75, 79, 80, 81, 80], [0, 1, 2, 3, 2, 7, 8, 9, 10, 9, 10, 11, 10, 11, 10, 9, 12, 13, 14, 13, 12, 11, 12, 11, 13, 14, 15, 14, 13, 14, 15, 14, 15, 16, 15, 14, 20, 19, 20, 19, 24, 26, 27, 28, 29, 28, 29, 31, 30, 29, 32, 33, 34, 33, 34, 35, 36, 35, 34, 38, 39, 42, 41, 42, 43, 42, 41, 42, 43, 42, 41, 46, 47, 46, 47, 46, 47, 46, 47, 50, 51, 52, 53, 52, 53, 54, 55, 56, 57, 58, 59, 65, 64, 63, 64, 63, 64, 65, 64, 65, 66], [0, 1, 2, 3, 4, 3, 9, 10, 11, 14, 16, 15, 14, 15, 14, 13, 14, 13, 19, 18, 17, 16, 22, 23, 24, 25, 26, 27, 26, 31, 30, 31, 30, 31, 32, 33, 34, 35, 36, 42, 41, 40, 41, 42, 43, 44, 45, 44, 45, 46, 47, 48, 49, 55, 56, 58, 57, 58, 59, 58, 60, 59, 60, 59, 60, 61, 60, 59, 58, 59, 60, 61, 62, 63, 64, 65, 64, 65, 66, 65, 67, 66, 71, 72, 73, 74, 75, 76, 75, 76, 75, 74, 75, 78, 79, 85, 86, 88, 89, 90, 89], [0, 1, 2, 3, 4, 5, 11, 12, 11, 12, 11, 10, 11, 16, 15, 21, 20, 19, 20, 21, 22, 23, 24, 23, 27, 26, 25, 27, 28, 31, 32, 33, 32, 33, 32, 33, 34, 37, 36, 35, 34, 33, 34, 36, 35, 34, 35, 34, 35, 34, 40, 39, 40, 41, 42, 44, 43, 42, 43, 45, 46, 51, 52, 56, 57, 56, 55, 54, 55, 56, 57, 56, 55, 61, 62, 61, 62, 63, 62, 65, 64, 65, 64, 65, 66, 65, 66, 70, 71, 72, 73, 72, 73, 77, 78, 81, 82, 83, 88, 87, 88], [0, 5, 6, 7, 8, 14, 15, 16, 19, 18, 19, 20, 19, 20, 21, 22, 23, 24, 27, 28, 27, 28, 27, 28, 29, 31, 2, 3, 2, 8, 13, 14, 15, 16, 17, 19, 20, 19, 18, 17, 18, 24, 25, 26, 27, 26, 25, 26, 27, 28, 27, 28, 29, 30, 31, 30, 31, 32, 31, 32, 33, 32, 34, 33, 34, 35, 39, 40, 45, 46, 47, 48, 47, 48, 49, 50, 49, 50, 55, 56, 57, 61, 65, 71, 72, 71, 70, 71, 70, 71, 72, 73, 77, 76, 75, 74, 75, 76, 77, 83, 87], [0, 1, 2, 3, 2, 3, 2, 1, 2, 3, 2, 1, 2, 3, 4, 10, 16, 17, 16, 17, 18, 20, 21, 20, 19, 20, 21, 20, 19, 20, 21, 22, 23, 24, 25, 24, 23, 22, 23, 24, 25, 26, 27, 28, 27, 28, 27, 28, 27, 28, 27, 28, 33, 35, 34, 38, 37, 39, 40, 39, 38, 37, 38, 42, 43, 44, 47, 48, 49, 48, 47, 46, 47, 52, 57, 58, 64, 65, 70, 71, 72, 71, 70, 72, 73, 74, 75, 74, 75, 76, 75, 76, 77, 79, 82, 81, 80, 79, 78, 80, 81], [0, 0, 1, 2, 1, 2, 3, 4, 3, 2, 4, 3, 4, 7, 8, 12, 11, 10, 11, 12, 11, 10, 9, 10, 9, 10, 11, 12, 11, 13, 16, 17, 18, 17, 22, 23, 24, 23, 29, 28, 29, 28, 29, 32, 33, 34, 35, 36, 37, 38, 37, 38, 39, 38, 40, 41, 42, 46, 47, 48, 47, 46, 45, 46, 47, 48, 47, 46, 45, 44, 45, 44, 45, 44, 45, 44, 45, 49, 50, 53, 54, 55, 54, 55, 56, 55, 57, 58, 59, 60, 62, 61, 62, 64, 63, 64, 66, 65, 66, 67, 68], [0, 0, 1, 2, 3, 4, 5, 4, 3, 4, 9, 11, 12, 13, 12, 11, 12, 11, 10, 9, 10, 9, 10, 9, 10, 11, 13, 19, 24, 23, 24, 25, 26, 25, 26, 25, 26, 27, 26, 25, 26, 27, 28, 27, 26, 25, 29, 28, 29, 28, 27, 26, 25, 27, 26, 27, 28, 34, 35, 34, 40, 41, 42, 43, 42, 43, 44, 45, 50, 51, 52, 51, 50, 51, 50, 49, 50, 55, 56, 57, 56, 57, 56, 55, 61, 62, 68, 67, 68, 67, 68, 70, 71, 72, 73, 74, 75, 76, 81, 80, 79], [0, 6, 7, 8, 7, 6, 7, 8, 9, 10, 11, 10, 11, 10, 9, 10, 11, 12, 18, 19, 18, 17, 16, 20, 21, 20, 24, 25, 26, 30, 31, 30, 29, 28, 29, 30, 29, 30, 29, 28, 27, 26, 27, 26, 28, 29, 30, 33, 34, 35, 36, 35, 36, 37, 36, 37, 43, 42, 43, 44, 43, 44, 45, 46, 47, 48, 49, 48, 47, 46, 47, 46, 47, 46, 47, 46, 50, 51, 50, 51, 52, 51, 50, 51, 52, 51, 52, 51, 50, 51, 52, 53, 54, 53, 54, 53, 54, 53, 54, 53, 52], [0, 3, 2, 3, 4, 5, 6, 7, 6, 7, 12, 13, 14, 15, 14, 15, 14, 13, 14, 15, 14, 13, 14, 13, 17, 18, 19, 20, 21, 22, 21, 20, 19, 20, 19, 21, 22, 23, 24, 25, 27, 28, 27, 26, 27, 28, 27, 29, 30, 31, 32, 33, 32, 33, 32, 33, 34, 33, 34, 38, 37, 38, 37, 38, 44, 43, 44, 45, 46, 45, 44, 43, 42, 43, 42, 43, 44, 45, 44, 43, 44, 48, 47, 48, 53, 56, 55, 54, 53, 59, 60, 59, 60, 59, 60, 59, 60, 61, 62, 68, 67], [0, 1, 2, 1, 0, 0, 1, 0, 0, 1, 0, 0, 0, 1, 2, 3, 2, 1, 0, 1, 2, 3, 2, 4, 5, 4, 5, 6, 7, 6, 7, 8, 7, 8, 7, 6, 5, 6, 5, 6, 12, 11, 12, 11, 10, 14, 15, 16, 15, 16, 17, 16, 17, 18, 17, 16, 17, 16, 15, 16, 17, 18, 24, 30, 29, 30, 31, 30, 29, 30, 31, 30, 29, 30, 29, 30, 31, 32, 31, 32, 33, 34, 33, 32, 31, 30, 29, 28, 29, 30, 31, 37, 36, 35, 34, 35, 36, 35, 36, 35, 36], [0, 0, 1, 0, 1, 2, 1, 2, 3, 4, 5, 11, 10, 11, 12, 16, 17, 16, 17, 18, 17, 16, 17, 18, 19, 20, 21, 20, 21, 25, 26, 29, 28, 29, 28, 29, 28, 29, 28, 29, 30, 29, 30, 31, 36, 35, 36, 37, 43, 46, 47, 48, 49, 50, 51, 52, 53, 52, 53, 54, 53, 52, 53, 52, 51, 52, 51, 50, 51, 50, 51, 53, 54, 53, 54, 55, 56, 55, 56, 57, 58, 57, 58, 64, 65, 66, 67, 68, 67, 68, 67, 66, 67, 66, 65, 69, 68, 73, 72, 73, 74], [0, 0, 1, 2, 3, 4, 7, 11, 10, 11, 15, 16, 15, 14, 13, 14, 15, 14, 15, 16, 15, 16, 17, 16, 17, 18, 19, 20, 21, 22, 23, 24, 25, 24, 25, 24, 25, 26, 25, 26, 25, 30, 31, 32, 31, 32, 33, 32, 31, 32, 33, 34, 35, 36, 35, 34, 35, 40, 39, 43, 42, 41, 40, 41, 44, 43, 42, 43, 44, 43, 44, 48, 47, 48, 47, 48, 53, 54, 53, 54, 53, 52, 53, 54, 53, 54, 53, 54, 55, 56, 57, 58, 57, 56, 57, 56, 57, 58, 57, 58, 57], [0, 0, 1, 2, 3, 5, 9, 11, 12, 11, 12, 13, 12, 13, 12, 13, 12, 15, 16, 17, 18, 19, 18, 17, 18, 17, 18, 17, 16, 17, 16, 17, 18, 17, 18, 19, 20, 21, 20, 23, 22, 21, 22, 23, 22, 23, 22, 23, 24, 25, 26, 25, 26, 27, 26, 25, 24, 26, 27, 31, 35, 36, 35, 40, 41, 42, 43, 44, 45, 44, 43, 44, 45, 44, 43, 49, 50, 56, 55, 54, 55, 54, 53, 54, 55, 54, 55, 56, 55, 54, 53, 54, 55, 54, 57, 58, 57, 58, 59, 60, 61], [0, 1, 3, 4, 9, 12, 11, 13, 14, 15, 14, 15, 21, 22, 23, 26, 29, 30, 31, 30, 31, 32, 33, 34, 35, 36, 35, 34, 40, 39, 38, 39, 40, 41, 42, 43, 42, 43, 44, 45, 44, 43, 49, 48, 49, 50, 49, 50, 51, 52, 53, 54, 55, 56, 57, 61, 62, 63, 64, 66, 67, 68, 73, 74, 75, 76, 77, 78, 79, 78, 79, 80, 86, 87, 88, 89, 88, 94, 95, 96, 95, 96, 97, 99, 100, 99, 98, 104, 103, 104, 103, 102, 101, 102, 103, 104, 103, 104, 103, 104, 105], [0, 0, 0, 1, 2, 1, 0, 1, 0, 0, 1, 2, 3, 4, 3, 4, 5, 4, 5, 6, 7, 2, 7, 8, 9, 10, 11, 17, 18, 19, 20, 19, 18, 17, 18, 17, 16, 15, 16, 17, 18, 17, 18, 19, 18, 19, 18, 17, 16, 15, 16, 17, 18, 21, 20, 19, 18, 17, 19, 20, 21, 27, 28, 29, 30, 34, 35, 34, 33, 32, 33, 34, 35, 39, 40, 39, 38, 37, 36, 37, 36, 35, 36, 37, 38, 39, 40, 42, 41, 44, 45, 46, 49, 48, 49, 48, 49, 48, 49, 50, 55], [0, 0, 1, 0, 0, 0, 4, 5, 4, 3, 4, 9, 14, 15, 14, 15, 14, 20, 21, 22, 23, 22, 23, 22, 28, 33, 34, 35, 34, 35, 36, 35, 36, 37, 41, 42, 43, 42, 41, 40, 39, 38, 39, 40, 41, 42, 43, 44, 43, 42, 43, 44, 45, 44, 43, 46, 45, 44, 43, 44, 43, 44, 43, 47, 46, 49, 50, 51, 57, 62, 65, 66, 67, 66, 67, 66, 67, 66, 65, 67, 68, 69, 70, 71, 72, 71, 72, 71, 70, 69, 70, 71, 70, 71, 72, 73, 74, 75, 76, 75, 76], [0, 1, 2, 3, 8, 9, 15, 14, 15, 16, 17, 18, 19, 20, 21, 20, 19, 24, 23, 24, 23, 22, 23, 24, 25, 30, 34, 35, 36, 37, 38, 37, 38, 39, 40, 39, 40, 41, 42, 43, 47, 52, 53, 52, 53, 52, 53, 52, 53, 54, 55, 56, 62, 63, 62, 61, 62, 63, 62, 61, 63, 69, 70, 71, 70, 69, 68, 67, 66, 67, 68, 69, 70, 69, 70, 71, 72, 71, 72, 71, 72, 73, 72, 71, 72, 73, 74, 75, 74, 73, 72, 73, 76, 77, 76, 77, 76, 79, 81, 80, 81], [0, 0, 0, 1, 5, 4, 5, 4, 5, 4, 3, 4, 7, 8, 7, 6, 7, 6, 7, 6, 7, 6, 5, 7, 6, 10, 16, 15, 16, 17, 16, 15, 16, 19, 18, 19, 18, 17, 18, 19, 20, 21, 22, 27, 28, 29, 34, 33, 34, 35, 34, 33, 32, 33, 34, 35, 39, 40, 39, 38, 39, 45, 46, 47, 48, 49, 50, 55, 54, 55, 56, 57, 58, 59, 60, 59, 60, 65, 66, 67, 68, 69, 68, 69, 68, 69, 70, 69, 70, 71, 72, 73, 74, 75, 76, 77, 78, 79, 78, 79, 80], [0, 2, 7, 6, 7, 6, 7, 8, 9, 15, 14, 13, 12, 11, 10, 11, 10, 11, 12, 11, 10, 11, 12, 13, 14, 13, 14, 13, 14, 18, 17, 18, 17, 16, 17, 18, 20, 21, 22, 23, 24, 23, 22, 23, 22, 23, 22, 21, 26, 32, 34, 33, 39, 41, 42, 46, 47, 48, 49, 48, 49, 50, 51, 50, 51, 50, 49, 50, 51, 52, 51, 52, 53, 52, 53, 52, 58, 59, 58, 59, 60, 59, 58, 63, 64, 65, 64, 65, 66, 65, 66, 65, 66, 67, 68, 69, 70, 71, 72, 71, 72], [0, 1, 0, 0, 1, 0, 1, 2, 8, 7, 8, 7, 6, 7, 8, 9, 10, 11, 10, 9, 10, 9, 8, 9, 8, 14, 15, 16, 15, 16, 17, 21, 22, 23, 24, 23, 22, 21, 20, 19, 20, 19, 18, 19, 20, 19, 20, 21, 22, 21, 22, 26, 27, 26, 27, 28, 29, 32, 33, 34, 35, 34, 35, 36, 37, 38, 39, 40, 41, 40, 39, 40, 41, 42, 41, 40, 41, 42, 41, 42, 43, 42, 41, 42, 43, 44, 45, 46, 45, 46, 45, 46, 47, 48, 53, 54, 53, 54, 53, 56, 55], [0, 0, 6, 7, 8, 7, 6, 7, 8, 9, 10, 11, 12, 13, 14, 13, 14, 13, 17, 20, 19, 18, 17, 18, 19, 22, 26, 27, 28, 29, 35, 36, 35, 36, 35, 36, 35, 34, 35, 34, 35, 36, 37, 38, 44, 43, 44, 45, 46, 51, 50, 49, 50, 51, 53, 52, 55, 59, 58, 57, 58, 64, 65, 66, 67, 68, 73, 72, 71, 72, 71, 70, 71, 70, 72, 73, 74, 75, 76, 75, 76, 75, 79, 80, 83, 82, 83, 84, 83, 82, 84, 85, 86, 85, 86, 87, 91, 96, 97, 98, 97], [0, 0, 0, 0, 1, 2, 3, 5, 4, 3, 4, 3, 4, 3, 7, 8, 7, 10, 9, 10, 9, 8, 7, 8, 7, 8, 7, 8, 9, 8, 7, 6, 5, 6, 9, 8, 9, 10, 14, 13, 12, 13, 12, 13, 12, 18, 19, 20, 22, 23, 24, 23, 22, 23, 22, 21, 20, 21, 22, 23, 24, 25, 26, 27, 28, 27, 28, 29, 30, 31, 30, 31, 32, 31, 32, 31, 32, 31, 30, 31, 32, 31, 32, 31, 32, 34, 33, 34, 35, 36, 40, 39, 38, 44, 43, 42, 48, 47, 48, 47, 48], [0, 0, 0, 0, 1, 0, 1, 2, 1, 5, 8, 9, 15, 16, 15, 16, 17, 18, 19, 20, 21, 23, 24, 23, 22, 23, 24, 25, 26, 29, 30, 31, 30, 31, 32, 35, 36, 37, 38, 43, 44, 45, 46, 47, 49, 50, 49, 48, 49, 50, 49, 50, 52, 55, 56, 57, 58, 59, 58, 59, 58, 59, 60, 62, 66, 65, 64, 68, 67, 68, 69, 68, 67, 68, 67, 68, 69, 73, 74, 75, 76, 75, 76, 79, 80, 81, 82, 83, 82, 83, 82, 83, 84, 85, 84, 83, 84, 83, 84, 83, 82], [0, 1, 2, 3, 2, 3, 2, 6, 7, 6, 7, 8, 7, 8, 14, 13, 14, 13, 12, 18, 19, 20, 19, 20, 19, 18, 17, 16, 17, 18, 19, 20, 21, 20, 21, 22, 26, 27, 28, 27, 28, 29, 30, 31, 30, 29, 35, 38, 39, 40, 39, 40, 45, 50, 51, 50, 49, 48, 47, 46, 45, 46, 45, 46, 45, 46, 47, 46, 45, 44, 43, 42, 44, 45, 46, 47, 48, 49, 48, 49, 50, 51, 52, 51, 52, 53, 54, 53, 54, 57, 58, 59, 60, 59, 60, 61, 62, 66, 67, 70, 71], [0, 1, 0, 0, 6, 7, 8, 7, 6, 7, 9, 8, 9, 8, 14, 15, 16, 17, 18, 19, 18, 19, 18, 19, 18, 19, 18, 17, 16, 17, 18, 20, 21, 22, 21, 22, 21, 22, 23, 24, 23, 22, 26, 27, 26, 27, 26, 27, 28, 27, 30, 31, 32, 33, 34, 40, 41, 42, 43, 44, 45, 50, 53, 54, 55, 60, 62, 61, 60, 59, 58, 60, 64, 65, 68, 71, 72, 71, 72, 73, 74, 75, 74, 75, 78, 79, 80, 81, 80, 79, 82, 84, 83, 84, 85, 86, 85, 86, 87, 88, 89], [0, 0, 1, 3, 2, 3, 4, 3, 4, 3, 4, 3, 2, 3, 4, 5, 10, 11, 12, 15, 14, 15, 16, 22, 23, 22, 23, 24, 25, 27, 28, 29, 28, 29, 28, 30, 31, 33, 34, 33, 34, 35, 36, 37, 36, 37, 38, 39, 38, 39, 40, 39, 40, 41, 42, 41, 42, 43, 44, 43, 44, 45, 44, 43, 44, 45, 46, 47, 50, 51, 55, 54, 55, 1, 2, 6, 7, 8, 7, 8, 9, 14, 17, 16, 15, 14, 20, 21, 22, 27, 33, 37, 38, 39, 38, 40, 41, 44, 45, 44, 43], [0, 0, 0, 0, 1, 2, 3, 4, 10, 11, 10, 11, 12, 11, 15, 16, 17, 18, 19, 21, 22, 23, 22, 21, 26, 27, 28, 29, 30, 29, 30, 29, 30, 29, 30, 31, 32, 31, 32, 31, 32, 31, 32, 38, 43, 44, 45, 46, 47, 46, 47, 48, 49, 48, 50, 51, 52, 53, 54, 55, 56, 57, 58, 59, 60, 61, 64, 65, 66, 67, 66, 67, 66, 67, 68, 67, 68, 67, 68, 73, 79, 85, 86, 87, 88, 89, 90, 95, 94, 93, 92, 91, 90, 91, 90, 91, 90, 91, 92, 93, 92], [0, 1, 2, 3, 8, 7, 8, 9, 8, 7, 8, 9, 10, 11, 12, 11, 15, 16, 17, 18, 19, 21, 20, 19, 20, 19, 20, 19, 20, 21, 20, 19, 20, 21, 20, 19, 18, 17, 23, 22, 27, 30, 29, 30, 31, 32, 31, 32, 31, 30, 31, 30, 31, 32, 33, 34, 35, 34, 35, 36, 35, 36, 37, 38, 44, 45, 46, 47, 46, 45, 46, 47, 48, 49, 48, 47, 48, 49, 48, 49, 50, 51, 53, 54, 53, 52, 54, 55, 56, 57, 58, 60, 61, 64, 65, 64, 65, 66, 72, 73, 72], [0, 1, 2, 1, 6, 5, 4, 5, 6, 7, 6, 7, 9, 8, 9, 14, 13, 12, 13, 16, 17, 16, 15, 16, 15, 16, 17, 16, 15, 14, 13, 15, 16, 17, 18, 17, 18, 20, 21, 25, 26, 27, 28, 27, 28, 29, 30, 29, 28, 29, 30, 29, 30, 29, 30, 31, 30, 31, 30, 29, 33, 34, 35, 38, 39, 40, 39, 40, 39, 38, 39, 44, 49, 48, 52, 51, 52, 53, 54, 53, 54, 55, 54, 55, 54, 55, 56, 57, 56, 55, 54, 53, 52, 53, 54, 57, 62, 63, 62, 63, 64], [0, 0, 3, 7, 9, 14, 13, 15, 16, 15, 16, 17, 18, 17, 18, 17, 18, 19, 18, 19, 18, 23, 22, 21, 26, 27, 28, 27, 32, 33, 34, 33, 34, 35, 34, 35, 36, 35, 36, 41, 40, 39, 40, 41, 42, 41, 40, 39, 38, 39, 40, 39, 40, 45, 50, 51, 52, 51, 57, 58, 59, 60, 61, 62, 63, 69, 73, 72, 73, 72, 73, 72, 73, 74, 75, 74, 75, 76, 77, 78, 79, 80, 79, 80, 84, 85, 84, 85, 84, 83, 82, 83, 82, 83, 84, 83, 86, 85, 84, 85, 86], [0, 0, 5, 6, 9, 10, 11, 12, 13, 14, 15, 16, 15, 16, 21, 20, 19, 20, 26, 27, 28, 27, 33, 34, 35, 36, 40, 39, 40, 41, 40, 41, 42, 43, 42, 41, 42, 43, 46, 47, 46, 45, 46, 45, 47, 52, 51, 54, 55, 54, 55, 58, 59, 62, 63, 62, 63, 64, 65, 64, 65, 64, 63, 64, 69, 70, 71, 72, 76, 75, 74, 75, 74, 75, 76, 75, 76, 75, 77, 76, 75, 79, 80, 79, 80, 84, 88, 89, 90, 89, 90, 91, 92, 93, 92, 91, 90, 91, 90, 91, 97], [0, 1, 2, 6, 5, 4, 3, 4, 5, 6, 7, 8, 9, 10, 9, 10, 9, 12, 13, 14, 15, 14, 13, 12, 13, 14, 13, 14, 15, 17, 16, 15, 14, 13, 12, 13, 14, 20, 21, 22, 21, 22, 23, 24, 25, 26, 25, 31, 32, 31, 30, 31, 30, 31, 30, 31, 34, 33, 38, 39, 40, 41, 40, 41, 42, 43, 47, 48, 52, 51, 52, 53, 54, 55, 56, 57, 56, 55, 54, 53, 54, 53, 54, 53, 52, 54, 53, 54, 53, 59, 60, 59, 64, 65, 66, 67, 66, 72, 73, 72, 71], [0, 0, 1, 0, 1, 0, 1, 0, 1, 0, 0, 0, 0, 0, 1, 0, 1, 2, 1, 6, 5, 6, 10, 9, 10, 16, 22, 23, 24, 25, 24, 29, 30, 29, 32, 33, 34, 33, 32, 33, 32, 31, 32, 33, 34, 35, 34, 33, 34, 35, 38, 43, 44, 43, 44, 45, 44, 43, 42, 41, 42, 41, 40, 39, 41, 42, 43, 46, 47, 48, 49, 50, 51, 50, 51, 57, 58, 57, 56, 55, 56, 57, 58, 59, 60, 59, 60, 59, 60, 59, 58, 59, 58, 57, 56, 57, 58, 59, 58, 59, 60], [0, 0, 5, 6, 7, 6, 7, 11, 10, 9, 10, 11, 12, 13, 14, 15, 20, 24, 25, 26, 27, 26, 27, 26, 25, 26, 27, 26, 25, 31, 32, 31, 36, 37, 38, 39, 38, 37, 36, 37, 38, 39, 38, 39, 38, 37, 36, 41, 42, 41, 42, 43, 42, 41, 40, 41, 42, 43, 44, 43, 44, 45, 50, 49, 50, 51, 52, 51, 50, 49, 52, 57, 56, 57, 58, 59, 58, 59, 60, 66, 67, 72, 71, 70, 69, 70, 71, 70, 69, 68, 74, 75, 74, 75, 76, 75, 76, 75, 76, 80, 86], [0, 1, 0, 1, 2, 1, 0, 1, 2, 1, 0, 6, 5, 4, 5, 4, 3, 2, 1, 0, 3, 4, 3, 4, 5, 6, 5, 6, 5, 6, 12, 11, 12, 13, 14, 13, 14, 15, 16, 15, 16, 22, 21, 20, 19, 20, 21, 27, 26, 25, 26, 25, 24, 25, 26, 25, 26, 30, 29, 30, 29, 30, 29, 30, 29, 28, 29, 30, 31, 32, 33, 34, 39, 40, 39, 38, 37, 36, 35, 34, 39, 38, 39, 38, 39, 40, 41, 40, 41, 42, 43, 46, 45, 47, 46, 47, 48, 47, 51, 52, 53], [0, 6, 7, 6, 7, 8, 9, 8, 9, 8, 11, 16, 20, 21, 22, 23, 22, 21, 22, 21, 24, 25, 26, 25, 26, 25, 24, 23, 24, 23, 25, 26, 25, 26, 27, 26, 27, 28, 29, 30, 31, 32, 33, 32, 31, 32, 31, 37, 36, 39, 40, 46, 45, 44, 45, 48, 49, 48, 49, 50, 54, 55, 56, 55, 54, 60, 59, 60, 59, 58, 57, 56, 57, 56, 57, 63, 64, 65, 66, 67, 66, 68, 69, 74, 75, 76, 77, 81, 82, 83, 84, 83, 82, 83, 86, 85, 86, 87, 88, 87, 89], [0, 5, 4, 3, 7, 6, 9, 10, 9, 10, 11, 12, 13, 14, 15, 16, 17, 18, 17, 16, 17, 18, 17, 16, 17, 18, 17, 18, 17, 18, 19, 18, 19, 18, 19, 20, 19, 20, 19, 18, 19, 20, 21, 22, 21, 22, 23, 22, 23, 24, 27, 33, 34, 35, 34, 35, 36, 37, 36, 37, 36, 37, 36, 37, 40, 44, 47, 48, 49, 50, 51, 56, 57, 58, 57, 58, 61, 62, 66, 71, 70, 75, 76, 75, 74, 75, 74, 73, 74, 77, 78, 79, 78, 79, 78, 77, 76, 80, 81, 82, 83], [0, 1, 2, 3, 2, 3, 4, 3, 4, 3, 2, 3, 2, 3, 4, 5, 10, 11, 12, 13, 18, 22, 21, 22, 23, 24, 25, 30, 29, 30, 31, 32, 31, 32, 31, 32, 38, 39, 38, 39, 40, 39, 38, 39, 40, 39, 38, 37, 36, 37, 36, 37, 36, 37, 38, 37, 38, 37, 36, 37, 36, 37, 36, 37, 43, 44, 43, 42, 43, 42, 43, 44, 45, 46, 45, 44, 43, 44, 43, 42, 43, 42, 41, 42, 41, 42, 41, 42, 43, 44, 45, 46, 51, 52, 51, 50, 51, 50, 51, 52, 51], [0, 1, 6, 5, 6, 7, 6, 7, 8, 7, 8, 12, 13, 19, 20, 21, 20, 21, 22, 27, 28, 27, 29, 30, 31, 30, 31, 32, 33, 38, 39, 40, 41, 42, 47, 48, 49, 50, 54, 57, 60, 59, 60, 64, 63, 64, 65, 66, 67, 68, 67, 68, 67, 72, 71, 76, 77, 78, 79, 80, 79, 78, 79, 80, 81, 82, 83, 82, 87, 86, 85, 86, 87, 88, 94, 99, 98, 99, 100, 99, 100, 101, 100, 101, 102, 101, 102, 103, 102, 101, 102, 108, 109, 108, 109, 110, 111, 112, 111, 116, 117], [0, 1, 5, 6, 7, 8, 13, 12, 13, 14, 18, 19, 25, 26, 27, 32, 31, 32, 33, 34, 35, 34, 35, 41, 43, 44, 45, 46, 45, 46, 47, 46, 47, 46, 49, 50, 49, 48, 49, 50, 49, 48, 49, 50, 51, 50, 49, 50, 51, 50, 51, 52, 54, 55, 56, 55, 56, 59, 58, 57, 58, 59, 60, 59, 60, 59, 60, 61, 62, 63, 64, 65, 64, 63, 62, 61, 62, 61, 62, 63, 64, 65, 66, 65, 64, 66, 67, 68, 69, 70, 71, 70, 71, 70, 71, 72, 73, 74, 73, 74, 75], [0, 1, 5, 6, 7, 8, 7, 8, 9, 10, 11, 10, 11, 10, 11, 10, 11, 12, 14, 15, 16, 17, 19, 18, 19, 20, 21, 22, 23, 22, 24, 25, 26, 25, 28, 29, 30, 29, 30, 29, 34, 35, 34, 33, 36, 37, 36, 37, 38, 37, 38, 39, 40, 41, 42, 43, 42, 43, 44, 45, 46, 45, 48, 47, 46, 47, 48, 47, 48, 49, 50, 49, 52, 53, 57, 56, 57, 56, 62, 63, 64, 65, 64, 69, 70, 71, 74, 75, 74, 79, 80, 86, 87, 88, 91, 92, 93, 94, 95, 96, 98], [0, 1, 0, 1, 2, 3, 2, 1, 2, 3, 4, 3, 4, 3, 4, 3, 2, 3, 4, 5, 4, 3, 5, 4, 5, 6, 7, 8, 9, 8, 10, 11, 10, 16, 15, 19, 20, 21, 20, 21, 23, 24, 23, 24, 23, 28, 34, 35, 36, 35, 34, 35, 36, 35, 40, 41, 42, 48, 47, 48, 49, 50, 51, 50, 55, 56, 57, 58, 59, 60, 59, 64, 65, 67, 72, 71, 72, 73, 72, 71, 72, 71, 70, 71, 70, 69, 70, 71, 70, 69, 70, 71, 72, 73, 74, 75, 74, 80, 81, 82, 81], [0, 1, 7, 8, 7, 8, 9, 8, 9, 10, 9, 8, 9, 10, 9, 8, 7, 6, 5, 4, 5, 6, 7, 8, 7, 6, 7, 6, 7, 8, 9, 8, 9, 8, 11, 12, 11, 12, 13, 14, 18, 19, 18, 22, 23, 24, 25, 26, 25, 26, 27, 26, 27, 28, 27, 26, 27, 28, 27, 28, 30, 31, 30, 36, 37, 38, 39, 38, 44, 43, 49, 48, 49, 50, 51, 52, 51, 52, 57, 58, 63, 62, 64, 65, 64, 65, 64, 65, 66, 67, 68, 67, 66, 67, 68, 69, 70, 71, 72, 73, 74], [0, 1, 2, 3, 4, 6, 7, 8, 9, 10, 9, 10, 16, 17, 16, 17, 18, 17, 18, 19, 23, 24, 25, 24, 29, 31, 32, 33, 34, 35, 36, 37, 38, 39, 40, 39, 45, 44, 47, 48, 47, 48, 47, 46, 47, 52, 53, 54, 55, 54, 53, 56, 55, 54, 55, 54, 56, 60, 61, 60, 61, 62, 63, 62, 61, 66, 67, 68, 69, 73, 72, 73, 77, 78, 77, 76, 75, 74, 75, 76, 75, 76, 77, 76, 77, 81, 82, 81, 83, 82, 81, 80, 81, 87, 86, 87, 88, 90, 89, 88, 89], [0, 1, 0, 6, 5, 6, 7, 9, 10, 9, 8, 7, 12, 13, 14, 13, 12, 13, 12, 13, 12, 13, 12, 14, 15, 14, 15, 14, 13, 12, 13, 14, 17, 16, 15, 20, 21, 22, 23, 24, 25, 26, 25, 26, 27, 28, 29, 35, 36, 39, 41, 40, 42, 43, 44, 43, 44, 43, 44, 45, 46, 47, 46, 47, 48, 47, 48, 49, 50, 49, 50, 51, 52, 53, 57, 56, 57, 58, 59, 60, 59, 58, 59, 58, 57, 59, 65, 70, 71, 70, 71, 72, 71, 70, 71, 72, 73, 75, 74, 75, 76], [0, 1, 0, 0, 1, 2, 1, 0, 1, 0, 0, 1, 2, 1, 0, 1, 5, 6, 7, 9, 10, 13, 12, 13, 14, 15, 14, 15, 16, 19, 18, 23, 22, 23, 24, 23, 22, 23, 25, 26, 27, 28, 34, 35, 36, 37, 38, 37, 38, 39, 38, 39, 41, 42, 43, 42, 44, 43, 44, 45, 44, 45, 44, 45, 44, 43, 49, 50, 51, 52, 53, 54, 55, 54, 55, 56, 58, 59, 60, 61, 60, 61, 66, 67, 66, 65, 66, 65, 66, 72, 75, 74, 73, 74, 75, 76, 75, 76, 77, 76, 75], [0, 1, 2, 1, 0, 4, 5, 6, 7, 6, 10, 11, 12, 11, 10, 9, 8, 7, 6, 10, 11, 12, 18, 19, 18, 19, 20, 21, 20, 21, 22, 23, 26, 27, 28, 29, 30, 31, 32, 31, 32, 33, 32, 31, 36, 41, 40, 41, 40, 41, 42, 41, 40, 39, 40, 41, 40, 41, 42, 43, 44, 45, 46, 47, 48, 47, 46, 45, 47, 48, 49, 48, 49, 50, 51, 50, 49, 51, 50, 51, 52, 57, 56, 60, 59, 60, 61, 60, 61, 62, 61, 62, 63, 62, 63, 64, 65, 64, 69, 70, 75], [0, 2, 1, 3, 2, 3, 2, 3, 7, 6, 7, 8, 9, 8, 9, 8, 9, 8, 7, 8, 7, 8, 9, 1, 2, 3, 4, 5, 6, 5, 6, 5, 6, 8, 7, 9, 14, 13, 14, 15, 16, 1, 0, 1, 0, 1, 5, 6, 5, 6, 7, 6, 7, 8, 14, 15, 14, 17, 18, 19, 20, 23, 22, 21, 20, 21, 20, 21, 22, 21, 22, 23, 22, 21, 22, 23, 22, 23, 22, 21, 20, 19, 22, 25, 31, 30, 31, 32, 33, 32, 33, 32, 33, 32, 33, 38, 37, 38, 39, 40, 39], [0, 1, 2, 3, 2, 4, 3, 4, 5, 9, 10, 13, 14, 15, 16, 15, 17, 18, 19, 20, 19, 20, 19, 18, 17, 16, 15, 14, 15, 16, 17, 16, 15, 16, 15, 14, 15, 19, 20, 19, 20, 21, 20, 19, 20, 19, 20, 26, 25, 24, 23, 24, 25, 26, 27, 26, 27, 28, 27, 29, 35, 38, 39, 42, 43, 44, 45, 46, 47, 48, 47, 48, 49, 50, 49, 50, 49, 48, 49, 53, 52, 51, 52, 51, 50, 49, 54, 55, 54, 55, 56, 57, 61, 67, 66, 67, 68, 71, 72, 75, 74], [0, 0, 1, 2, 7, 6, 5, 11, 10, 13, 12, 17, 18, 17, 18, 19, 18, 19, 20, 21, 20, 21, 22, 21, 22, 21, 22, 23, 24, 25, 26, 27, 26, 25, 26, 27, 28, 29, 30, 29, 30, 29, 28, 27, 28, 29, 30, 29, 30, 29, 28, 29, 28, 32, 33, 32, 34, 33, 34, 35, 34, 40, 41, 40, 41, 42, 48, 49, 50, 51, 52, 53, 52, 51, 52, 51, 52, 53, 52, 53, 52, 53, 54, 55, 56, 57, 58, 59, 60, 61, 60, 59, 60, 61, 62, 66, 65, 71, 74, 73, 74], [0, 1, 0, 1, 5, 6, 7, 8, 12, 11, 17, 18, 19, 18, 17, 16, 15, 17, 18, 24, 23, 29, 31, 30, 31, 32, 33, 34, 35, 39, 38, 39, 38, 39, 45, 46, 45, 50, 51, 52, 53, 54, 60, 59, 58, 57, 56, 55, 54, 53, 54, 53, 52, 58, 57, 56, 59, 60, 61, 62, 61, 60, 59, 60, 61, 62, 63, 64, 70, 76, 75, 76, 77, 76, 77, 78, 77, 76, 75, 80, 81, 80, 81, 86, 87, 86, 88, 89, 90, 91, 97, 102, 103, 104, 105, 106, 105, 106, 107, 108, 107], [0, 1, 7, 6, 7, 6, 7, 11, 12, 13, 16, 17, 16, 15, 14, 15, 14, 15, 19, 20, 19, 18, 19, 20, 24, 25, 24, 25, 31, 32, 36, 41, 40, 41, 42, 43, 44, 45, 44, 45, 44, 45, 44, 45, 46, 47, 46, 45, 44, 45, 46, 47, 50, 49, 1, 4, 3, 4, 5, 4, 3, 4, 3, 4, 3, 4, 5, 6, 10, 11, 12, 13, 14, 18, 19, 20, 21, 24, 25, 26, 25, 24, 23, 22, 23, 25, 26, 27, 28, 29, 28, 27, 28, 27, 26, 25, 26, 25, 27, 28, 29], [0, 1, 3, 2, 5, 6, 5, 6, 7, 6, 7, 6, 5, 6, 8, 9, 8, 7, 8, 9, 10, 11, 13, 16, 17, 18, 19, 20, 19, 20, 21, 20, 21, 22, 23, 24, 23, 24, 25, 27, 28, 29, 30, 29, 30, 31, 32, 33, 34, 35, 34, 33, 34, 35, 34, 35, 36, 37, 38, 39, 40, 41, 42, 41, 40, 39, 38, 39, 40, 41, 45, 51, 52, 57, 58, 59, 60, 59, 60, 59, 65, 64, 65, 64, 63, 64, 63, 62, 63, 62, 61, 60, 61, 64, 65, 66, 67, 68, 69, 68, 67], [0, 1, 2, 3, 6, 5, 4, 3, 2, 3, 9, 8, 7, 8, 11, 17, 16, 15, 20, 21, 24, 23, 22, 23, 24, 25, 26, 27, 28, 29, 30, 29, 30, 31, 30, 29, 30, 31, 32, 33, 32, 33, 32, 31, 32, 33, 34, 35, 34, 35, 34, 35, 36, 35, 36, 38, 39, 40, 43, 42, 43, 44, 45, 44, 46, 45, 46, 47, 46, 45, 44, 43, 42, 43, 44, 45, 44, 45, 46, 45, 51, 52, 54, 59, 60, 59, 60, 61, 62, 63, 64, 63, 64, 65, 66, 67, 68, 69, 70, 71, 70], [0, 4, 5, 6, 5, 6, 7, 6, 5, 6, 7, 8, 7, 6, 5, 4, 3, 4, 5, 6, 5, 6, 5, 6, 7, 8, 9, 13, 18, 17, 16, 21, 20, 21, 22, 21, 22, 21, 22, 23, 24, 25, 26, 25, 30, 29, 35, 36, 35, 36, 37, 43, 44, 43, 44, 45, 50, 51, 50, 49, 50, 53, 52, 56, 55, 54, 53, 52, 51, 55, 59, 60, 61, 67, 66, 67, 68, 67, 68, 69, 74, 73, 74, 73, 74, 73, 72, 73, 72, 73, 74, 75, 76, 75, 81, 80, 81, 80, 84, 85, 84], [0, 1, 0, 0, 1, 2, 3, 4, 5, 6, 8, 9, 10, 13, 14, 20, 23, 22, 27, 28, 29, 30, 31, 30, 29, 30, 31, 32, 33, 34, 33, 32, 31, 32, 33, 32, 33, 34, 35, 38, 37, 38, 37, 38, 37, 38, 39, 40, 41, 40, 39, 41, 42, 43, 42, 43, 44, 49, 50, 49, 55, 56, 57, 58, 59, 60, 59, 60, 59, 60, 66, 67, 66, 67, 68, 69, 73, 72, 71, 70, 69, 70, 71, 72, 71, 70, 69, 68, 69, 72, 71, 72, 73, 72, 71, 72, 73, 72, 73, 78, 79], [0, 0, 1, 2, 1, 2, 1, 0, 1, 2, 3, 4, 3, 4, 3, 2, 3, 4, 5, 6, 9, 10, 11, 10, 9, 8, 14, 13, 14, 15, 16, 20, 19, 25, 24, 25, 24, 26, 27, 26, 27, 26, 25, 31, 33, 34, 35, 36, 38, 39, 38, 39, 44, 45, 51, 52, 51, 52, 54, 55, 56, 58, 57, 58, 59, 60, 59, 58, 59, 60, 61, 60, 59, 58, 57, 58, 57, 58, 59, 58, 59, 63, 64, 68, 71, 72, 73, 77, 76, 77, 78, 79, 83, 82, 83, 84, 83, 84, 85, 86, 85], [0, 1, 0, 1, 2, 1, 2, 3, 4, 5, 11, 10, 16, 20, 19, 20, 19, 18, 19, 18, 17, 16, 15, 16, 17, 16, 15, 16, 17, 18, 17, 16, 21, 22, 21, 22, 23, 22, 21, 25, 26, 25, 26, 25, 26, 27, 28, 33, 34, 37, 38, 37, 41, 42, 43, 42, 43, 44, 45, 44, 45, 46, 47, 46, 47, 49, 53, 52, 58, 57, 56, 57, 56, 57, 56, 62, 63, 62, 66, 67, 66, 67, 66, 72, 71, 70, 71, 75, 74, 73, 74, 75, 76, 75, 76, 77, 76, 77, 76, 77, 78], [0, 1, 2, 3, 4, 9, 8, 14, 19, 18, 17, 18, 19, 20, 21, 22, 23, 22, 23, 26, 27, 28, 27, 29, 28, 27, 28, 29, 30, 31, 32, 33, 34, 33, 32, 33, 32, 37, 40, 41, 42, 43, 44, 45, 46, 47, 48, 52, 51, 56, 57, 61, 60, 61, 62, 63, 62, 61, 66, 65, 66, 70, 69, 70, 71, 70, 71, 72, 71, 72, 73, 74, 75, 74, 75, 76, 77, 76, 77, 76, 77, 78, 79, 80, 81, 80, 79, 78, 77, 76, 75, 76, 81, 80, 79, 80, 81, 87, 88, 87, 88], [0, 1, 0, 1, 0, 5, 6, 5, 4, 9, 10, 9, 10, 9, 10, 11, 12, 11, 12, 16, 15, 14, 15, 19, 20, 21, 22, 21, 22, 26, 25, 26, 25, 24, 23, 24, 25, 24, 23, 25, 24, 25, 29, 30, 31, 30, 31, 37, 38, 37, 40, 41, 40, 39, 38, 39, 44, 43, 44, 46, 45, 44, 45, 49, 48, 53, 54, 55, 56, 55, 57, 58, 59, 60, 59, 58, 59, 64, 65, 67, 71, 72, 73, 74, 75, 76, 77, 80, 81, 80, 83, 84, 83, 86, 87, 86, 89, 88, 89, 88, 87], [0, 3, 7, 8, 7, 8, 9, 10, 9, 10, 9, 10, 9, 8, 11, 10, 9, 15, 16, 15, 14, 15, 16, 19, 18, 17, 16, 17, 18, 19, 23, 24, 25, 24, 25, 26, 27, 28, 29, 30, 31, 32, 33, 34, 33, 34, 35, 36, 35, 36, 35, 34, 39, 40, 43, 44, 47, 48, 49, 50, 49, 48, 49, 50, 51, 52, 53, 52, 51, 52, 53, 54, 56, 57, 59, 60, 65, 66, 67, 68, 69, 72, 73, 72, 73, 74, 76, 75, 80, 85, 86, 87, 90, 91, 92, 91, 90, 89, 90, 89, 90], [0, 5, 7, 6, 5, 11, 12, 13, 14, 15, 14, 18, 17, 16, 15, 16, 17, 16, 17, 21, 20, 21, 20, 21, 22, 26, 31, 32, 33, 34, 35, 34, 35, 34, 35, 36, 35, 36, 35, 34, 33, 34, 38, 39, 40, 41, 42, 43, 44, 45, 46, 45, 49, 48, 49, 50, 51, 52, 53, 52, 51, 50, 55, 61, 67, 66, 67, 71, 70, 73, 74, 75, 79, 85, 86, 87, 86, 85, 88, 89, 88, 87, 86, 85, 84, 88, 89, 90, 91, 92, 91, 92, 93, 94, 95, 96, 101, 102, 103, 104, 103], [0, 1, 0, 1, 2, 3, 5, 6, 5, 6, 5, 6, 5, 6, 5, 4, 5, 4, 5, 6, 7, 8, 7, 8, 7, 6, 7, 11, 12, 11, 10, 12, 13, 12, 11, 12, 13, 14, 15, 14, 15, 21, 20, 19, 22, 23, 24, 23, 22, 23, 24, 23, 28, 29, 30, 31, 32, 37, 40, 42, 41, 42, 41, 40, 41, 42, 41, 42, 41, 42, 41, 40, 41, 42, 43, 42, 41, 40, 41, 40, 43, 44, 45, 44, 43, 49, 55, 54, 53, 52, 51, 52, 53, 52, 53, 54, 53, 55, 54, 55, 56], [0, 0, 1, 2, 3, 4, 5, 4, 3, 4, 5, 6, 10, 15, 17, 18, 20, 19, 18, 19, 18, 17, 18, 17, 18, 17, 16, 21, 20, 22, 26, 25, 24, 25, 24, 25, 26, 25, 26, 27, 28, 29, 30, 29, 30, 31, 30, 29, 28, 29, 28, 27, 28, 29, 30, 29, 30, 31, 30, 29, 28, 33, 34, 33, 37, 42, 45, 46, 48, 49, 48, 49, 48, 54, 56, 57, 58, 59, 58, 59, 58, 60, 61, 62, 63, 64, 63, 67, 66, 67, 68, 69, 70, 69, 68, 69, 70, 71, 70, 71, 70], [0, 1, 2, 3, 4, 5, 6, 7, 6, 8, 7, 10, 9, 8, 7, 6, 7, 6, 11, 12, 14, 13, 17, 22, 23, 24, 25, 26, 30, 31, 32, 38, 37, 36, 37, 42, 43, 44, 45, 44, 43, 44, 43, 44, 45, 44, 45, 44, 45, 51, 50, 52, 53, 54, 55, 54, 55, 54, 55, 54, 55, 56, 59, 60, 59, 58, 59, 58, 64, 65, 66, 67, 68, 69, 72, 71, 73, 74, 73, 74, 75, 76, 77, 83, 84, 86, 91, 92, 95, 96, 95, 94, 95, 94, 93, 92, 97, 98, 99, 100, 102], [0, 0, 4, 3, 2, 3, 4, 3, 4, 5, 6, 5, 6, 7, 8, 7, 6, 5, 6, 7, 12, 13, 12, 11, 10, 15, 14, 13, 14, 13, 12, 13, 14, 17, 18, 17, 22, 21, 22, 21, 22, 23, 22, 23, 22, 23, 24, 25, 31, 30, 31, 32, 31, 30, 29, 30, 31, 32, 31, 35, 36, 35, 34, 33, 34, 35, 34, 38, 39, 38, 39, 40, 44, 43, 44, 43, 44, 43, 44, 43, 42, 43, 44, 48, 49, 50, 49, 50, 51, 50, 49, 50, 49, 48, 47, 46, 45, 46, 47, 46, 47], [0, 0, 1, 2, 6, 5, 6, 7, 8, 9, 14, 15, 14, 19, 25, 26, 31, 30, 29, 30, 29, 33, 32, 36, 39, 40, 39, 40, 41, 40, 41, 40, 39, 40, 44, 45, 44, 43, 44, 45, 46, 49, 50, 53, 52, 53, 54, 53, 54, 55, 54, 55, 54, 53, 52, 53, 54, 59, 58, 57, 58, 59, 58, 59, 58, 59, 60, 59, 65, 66, 67, 70, 69, 70, 71, 72, 71, 72, 71, 75, 76, 77, 78, 79, 81, 80, 81, 82, 85, 87, 88, 87, 88, 91, 90, 91, 90, 91, 93, 94, 93], [0, 1, 2, 4, 3, 4, 5, 4, 9, 8, 7, 9, 10, 11, 12, 11, 10, 9, 8, 9, 10, 11, 12, 16, 17, 18, 20, 21, 22, 23, 24, 23, 24, 6, 7, 8, 9, 8, 7, 6, 5, 6, 7, 6, 5, 6, 5, 4, 5, 4, 5, 9, 10, 9, 8, 7, 6, 10, 11, 12, 13, 14, 15, 16, 15, 19, 20, 21, 22, 21, 22, 23, 24, 23, 22, 27, 26, 27, 26, 27, 26, 27, 28, 29, 30, 29, 28, 29, 30, 33, 32, 33, 38, 39, 42, 41, 40, 46, 45, 44, 45], [0, 0, 1, 2, 3, 4, 3, 4, 5, 4, 3, 2, 3, 4, 3, 4, 3, 4, 5, 4, 3, 2, 3, 4, 3, 2, 1, 2, 3, 4, 5, 4, 5, 4, 5, 4, 5, 6, 7, 8, 9, 13, 14, 13, 15, 20, 26, 27, 26, 27, 28, 30, 32, 31, 30, 31, 32, 33, 32, 33, 34, 35, 36, 37, 38, 39, 40, 41, 40, 39, 38, 37, 36, 37, 36, 35, 39, 40, 39, 40, 43, 42, 43, 42, 46, 45, 44, 45, 46, 47, 46, 45, 46, 51, 50, 51, 53, 52, 54, 55, 56], [0, 1, 4, 9, 10, 11, 10, 11, 12, 11, 12, 16, 20, 25, 24, 28, 29, 30, 31, 32, 37, 36, 35, 34, 35, 34, 35, 41, 42, 43, 44, 43, 44, 43, 42, 43, 42, 41, 43, 44, 43, 44, 45, 47, 48, 49, 50, 51, 52, 53, 52, 51, 52, 51, 52, 53, 52, 53, 52, 53, 54, 58, 62, 63, 62, 61, 65, 66, 67, 68, 67, 70, 71, 70, 72, 73, 74, 75, 76, 80, 81, 82, 83, 84, 85, 84, 85, 90, 91, 90, 91, 92, 95, 94, 95, 96, 97, 96, 95, 94, 93], [0, 1, 5, 6, 7, 6, 7, 8, 9, 8, 9, 10, 11, 10, 11, 12, 11, 10, 11, 12, 11, 10, 11, 10, 11, 12, 13, 12, 16, 17, 18, 19, 25, 31, 32, 33, 32, 31, 30, 31, 32, 38, 37, 38, 43, 42, 43, 44, 43, 42, 43, 44, 43, 47, 53, 52, 53, 54, 53, 54, 59, 60, 59, 62, 63, 64, 69, 75, 76, 77, 78, 77, 76, 77, 78, 77, 76, 75, 76, 77, 81, 82, 81, 82, 83, 84, 85, 84, 85, 86, 85, 86, 87, 88, 87, 88, 89, 88, 87, 93, 99], [0, 0, 0, 0, 5, 9, 8, 7, 13, 14, 15, 16, 17, 18, 22, 21, 22, 23, 24, 29, 30, 29, 30, 35, 34, 40, 41, 42, 41, 40, 39, 38, 39, 42, 43, 42, 43, 42, 41, 42, 43, 44, 45, 44, 45, 46, 47, 48, 49, 48, 49, 52, 51, 52, 53, 52, 51, 52, 53, 54, 53, 54, 55, 54, 59, 60, 59, 60, 61, 62, 63, 64, 65, 66, 67, 66, 65, 66, 67, 68, 69, 68, 69, 70, 69, 68, 69, 70, 71, 70, 69, 68, 67, 66, 67, 68, 67, 68, 69, 73, 74], [0, 1, 3, 4, 5, 8, 9, 10, 9, 8, 7, 8, 9, 8, 7, 8, 11, 10, 11, 12, 13, 14, 15, 19, 20, 19, 20, 21, 22, 23, 22, 27, 28, 27, 28, 29, 33, 32, 33, 34, 35, 36, 37, 36, 35, 34, 35, 36, 37, 38, 39, 40, 41, 43, 44, 45, 44, 43, 42, 44, 43, 44, 45, 44, 45, 46, 47, 48, 49, 48, 47, 49, 50, 51, 52, 51, 50, 54, 55, 60, 59, 60, 61, 62, 61, 62, 64, 65, 66, 65, 64, 63, 68, 69, 68, 69, 70, 71, 72, 73, 74], [0, 0, 0, 2, 3, 4, 3, 2, 3, 2, 3, 4, 5, 4, 5, 4, 5, 6, 5, 6, 5, 4, 5, 4, 9, 10, 9, 10, 9, 10, 11, 13, 18, 17, 18, 19, 20, 21, 22, 21, 22, 23, 22, 21, 22, 21, 20, 21, 23, 24, 23, 29, 30, 31, 32, 36, 35, 36, 35, 34, 35, 36, 39, 41, 42, 43, 44, 45, 44, 43, 42, 41, 40, 41, 40, 39, 40, 41, 42, 41, 46, 47, 48, 49, 50, 49, 48, 49, 48, 49, 48, 49, 50, 51, 52, 53, 54, 55, 56, 55, 56], [0, 0, 1, 0, 1, 2, 5, 6, 5, 4, 8, 9, 10, 9, 8, 7, 6, 7, 6, 7, 8, 7, 6, 7, 8, 7, 8, 9, 10, 9, 10, 11, 10, 11, 12, 11, 12, 17, 16, 15, 16, 15, 14, 15, 14, 15, 19, 23, 24, 23, 24, 28, 29, 30, 29, 30, 29, 28, 27, 28, 27, 28, 29, 30, 31, 34, 35, 36, 37, 36, 35, 34, 33, 34, 35, 36, 37, 36, 39, 40, 41, 40, 41, 42, 46, 45, 46, 47, 51, 50, 49, 50, 51, 52, 51, 54, 56, 55, 54, 53, 54], [0, 1, 0, 0, 1, 4, 3, 2, 3, 4, 6, 5, 7, 8, 9, 10, 11, 12, 13, 12, 11, 12, 11, 12, 13, 14, 15, 14, 15, 16, 17, 16, 18, 19, 18, 19, 18, 23, 22, 27, 33, 34, 40, 39, 40, 41, 40, 41, 47, 48, 51, 52, 55, 56, 57, 56, 58, 57, 58, 57, 61, 60, 61, 60, 59, 58, 57, 56, 55, 60, 61, 60, 61, 62, 63, 62, 68, 69, 74, 75, 74, 73, 74, 73, 78, 79, 80, 81, 82, 83, 84, 83, 82, 81, 82, 88, 87, 86, 87, 86, 87], [0, 0, 1, 2, 6, 5, 6, 7, 8, 9, 8, 10, 9, 10, 11, 10, 9, 8, 11, 17, 16, 17, 18, 19, 23, 22, 28, 29, 30, 29, 30, 31, 30, 29, 28, 31, 30, 36, 35, 40, 41, 40, 45, 46, 49, 48, 49, 48, 52, 53, 54, 55, 60, 59, 64, 65, 66, 65, 64, 69, 68, 69, 70, 71, 70, 69, 70, 71, 72, 73, 77, 78, 79, 78, 79, 80, 81, 80, 79, 80, 79, 80, 83, 82, 83, 84, 83, 84, 83, 84, 83, 84, 85, 86, 85, 86, 87, 88, 89, 90, 91], [0, 1, 0, 0, 1, 0, 2, 1, 2, 1, 0, 0, 0, 0, 1, 2, 3, 8, 7, 10, 16, 15, 21, 22, 21, 1, 2, 3, 2, 3, 2, 3, 4, 3, 4, 10, 9, 8, 7, 6, 7, 6, 7, 8, 9, 8, 9, 10, 13, 14, 15, 16, 20, 21, 22, 23, 24, 25, 26, 27, 28, 27, 28, 29, 30, 29, 28, 27, 28, 34, 35, 34, 33, 34, 33, 32, 33, 34, 33, 34, 35, 36, 39, 38, 37, 40, 44, 47, 48, 49, 55, 56, 57, 58, 64, 63, 62, 63, 62, 64, 63], [0, 1, 6, 5, 4, 8, 7, 8, 7, 9, 12, 13, 14, 15, 16, 17, 16, 15, 16, 17, 18, 19, 18, 22, 27, 26, 27, 28, 27, 26, 25, 24, 23, 27, 28, 34, 33, 34, 33, 36, 35, 36, 35, 39, 40, 42, 41, 40, 39, 38, 44, 45, 46, 47, 51, 50, 53, 54, 55, 56, 55, 58, 59, 60, 59, 64, 66, 67, 68, 67, 68, 73, 78, 77, 78, 79, 80, 81, 82, 83, 82, 83, 82, 83, 84, 83, 84, 83, 84, 83, 88, 89, 88, 87, 88, 89, 90, 91, 90, 95, 94], [0, 0, 1, 2, 1, 3, 4, 5, 6, 5, 4, 5, 4, 3, 4, 5, 6, 7, 6, 7, 6, 7, 8, 7, 9, 10, 9, 8, 13, 14, 13, 12, 13, 14, 19, 20, 19, 18, 19, 18, 17, 19, 20, 19, 20, 21, 20, 22, 23, 29, 30, 31, 36, 37, 38, 39, 42, 41, 42, 48, 50, 49, 48, 47, 46, 47, 48, 49, 50, 49, 50, 49, 54, 53, 54, 53, 57, 62, 63, 65, 66, 67, 68, 67, 66, 70, 71, 75, 76, 77, 78, 79, 85, 84, 87, 88, 89, 90, 89, 88, 87], [0, 0, 1, 2, 1, 2, 3, 4, 5, 10, 11, 12, 13, 14, 15, 16, 15, 16, 17, 21, 22, 23, 26, 27, 28, 29, 28, 29, 30, 29, 30, 31, 30, 29, 30, 29, 28, 29, 30, 31, 32, 33, 34, 35, 34, 35, 37, 38, 39, 1, 5, 6, 7, 8, 9, 10, 9, 10, 11, 10, 11, 10, 9, 10, 11, 10, 11, 12, 13, 16, 21, 22, 21, 22, 23, 24, 25, 24, 23, 29, 30, 29, 30, 33, 32, 31, 32, 33, 34, 1, 2, 3, 4, 3, 2, 1, 0, 1, 0, 0, 2], [0, 1, 0, 0, 0, 1, 0, 6, 5, 7, 6, 5, 6, 7, 6, 5, 6, 7, 8, 9, 8, 9, 8, 9, 8, 10, 11, 10, 9, 8, 14, 15, 16, 21, 22, 21, 22, 23, 22, 23, 24, 25, 28, 27, 28, 29, 33, 34, 35, 34, 35, 36, 37, 38, 39, 40, 43, 42, 41, 42, 41, 42, 43, 44, 43, 44, 46, 47, 48, 47, 48, 49, 48, 49, 52, 51, 50, 49, 48, 49, 53, 54, 55, 59, 60, 61, 62, 61, 62, 63, 64, 65, 64, 65, 64, 63, 64, 65, 66, 67, 66], [0, 0, 3, 2, 3, 4, 3, 4, 5, 6, 7, 8, 10, 14, 15, 14, 15, 16, 21, 24, 28, 29, 30, 29, 30, 29, 30, 29, 30, 31, 32, 33, 32, 31, 32, 33, 34, 35, 36, 39, 40, 39, 38, 42, 43, 44, 43, 44, 45, 46, 47, 50, 51, 55, 58, 57, 56, 55, 56, 57, 58, 59, 58, 57, 56, 55, 54, 58, 59, 58, 57, 56, 57, 56, 57, 63, 64, 65, 64, 65, 69, 70, 72, 71, 70, 71, 72, 73, 74, 75, 81, 80, 84, 88, 89, 88, 89, 90, 89, 88, 87], [0, 1, 2, 1, 3, 4, 3, 4, 10, 11, 12, 13, 14, 13, 14, 13, 12, 11, 12, 11, 10, 9, 10, 12, 13, 14, 15, 14, 13, 16, 22, 21, 22, 21, 20, 19, 22, 23, 22, 23, 22, 21, 23, 26, 27, 28, 29, 28, 29, 30, 29, 30, 31, 32, 33, 34, 35, 37, 38, 42, 43, 44, 45, 46, 45, 46, 50, 51, 50, 51, 50, 51, 52, 53, 54, 53, 58, 59, 60, 63, 62, 61, 62, 61, 62, 63, 64, 65, 66, 67, 70, 69, 72, 73, 74, 77, 79, 78, 77, 78, 79], [0, 1, 0, 0, 0, 1, 2, 3, 2, 1, 0, 0, 1, 2, 3, 2, 3, 4, 5, 4, 8, 9, 10, 9, 10, 11, 10, 15, 14, 13, 18, 19, 20, 21, 27, 26, 27, 28, 29, 28, 31, 30, 29, 28, 29, 28, 27, 28, 27, 28, 27, 28, 29, 28, 29, 28, 29, 31, 30, 31, 32, 33, 34, 33, 34, 35, 39, 40, 39, 40, 41, 40, 41, 40, 46, 45, 44, 45, 44, 45, 46, 49, 50, 51, 50, 49, 50, 51, 50, 49, 48, 47, 46, 45, 46, 0, 0, 2, 3, 4, 3], [0, 1, 2, 1, 2, 4, 5, 6, 5, 6, 7, 8, 9, 8, 9, 8, 11, 10, 11, 12, 13, 12, 11, 12, 13, 12, 11, 12, 16, 21, 20, 19, 20, 21, 22, 25, 31, 35, 34, 33, 34, 33, 34, 35, 34, 33, 34, 35, 36, 37, 38, 39, 44, 45, 44, 49, 50, 49, 50, 51, 52, 53, 54, 56, 59, 63, 64, 63, 64, 63, 62, 63, 65, 64, 63, 62, 61, 62, 63, 64, 65, 71, 72, 73, 74, 75, 74, 75, 74, 73, 74, 75, 76, 77, 78, 77, 78, 77, 78, 77, 76], [0, 1, 2, 3, 4, 5, 6, 7, 8, 7, 6, 7, 6, 5, 6, 5, 6, 7, 6, 7, 6, 7, 8, 9, 10, 9, 8, 14, 15, 14, 13, 12, 13, 12, 13, 12, 11, 12, 11, 16, 21, 22, 23, 24, 25, 24, 25, 26, 27, 28, 30, 35, 36, 35, 34, 35, 34, 33, 34, 33, 34, 35, 36, 37, 36, 37, 41, 40, 44, 45, 46, 47, 48, 49, 48, 47, 48, 49, 54, 58, 59, 60, 61, 62, 63, 64, 63, 64, 65, 66, 67, 68, 69, 70, 69, 68, 69, 70, 69, 71, 72], [0, 1, 2, 1, 2, 1, 2, 3, 4, 5, 6, 10, 11, 12, 13, 12, 13, 14, 15, 16, 15, 14, 15, 16, 17, 18, 19, 18, 17, 18, 17, 16, 17, 16, 17, 18, 17, 18, 17, 18, 17, 16, 17, 18, 17, 16, 17, 18, 17, 18, 19, 20, 19, 20, 21, 22, 21, 22, 21, 24, 25, 24, 25, 24, 23, 22, 23, 22, 25, 24, 26, 27, 28, 27, 32, 37, 42, 41, 40, 41, 40, 39, 40, 42, 43, 42, 43, 44, 43, 42, 43, 44, 48, 49, 48, 47, 48, 49, 50, 51, 50], [0, 4, 9, 8, 7, 6, 7, 12, 11, 12, 13, 14, 15, 19, 21, 20, 19, 22, 23, 22, 23, 22, 23, 24, 25, 24, 25, 26, 25, 26, 27, 33, 34, 35, 36, 35, 36, 35, 36, 35, 36, 35, 39, 40, 41, 42, 41, 40, 41, 42, 43, 42, 41, 40, 39, 38, 39, 40, 39, 40, 39, 38, 39, 40, 39, 45, 46, 47, 52, 53, 56, 57, 58, 57, 58, 57, 58, 57, 58, 59, 58, 59, 58, 59, 58, 60, 61, 60, 61, 62, 66, 65, 66, 67, 68, 73, 72, 73, 72, 73, 72], [0, 1, 2, 3, 4, 5, 4, 9, 10, 11, 10, 11, 12, 13, 14, 19, 18, 19, 18, 19, 20, 21, 22, 23, 24, 23, 22, 26, 27, 33, 34, 33, 37, 42, 43, 44, 45, 46, 51, 50, 49, 50, 49, 48, 47, 46, 47, 48, 49, 50, 49, 50, 51, 52, 53, 52, 51, 52, 53, 58, 57, 60, 61, 63, 62, 63, 64, 65, 66, 67, 66, 67, 66, 67, 69, 68, 67, 66, 65, 64, 65, 66, 65, 64, 63, 64, 65, 66, 65, 66, 70, 69, 75, 74, 73, 74, 75, 74, 75, 76, 78], [0, 1, 0, 4, 3, 2, 1, 2, 1, 0, 1, 3, 2, 3, 4, 5, 7, 6, 7, 8, 9, 8, 9, 10, 11, 12, 13, 14, 13, 14, 17, 18, 17, 18, 17, 18, 19, 20, 26, 27, 28, 27, 32, 31, 32, 31, 37, 36, 37, 40, 43, 45, 44, 45, 44, 45, 44, 45, 44, 43, 44, 43, 42, 45, 46, 47, 48, 47, 48, 49, 50, 49, 48, 49, 55, 54, 55, 56, 59, 58, 59, 58, 59, 60, 59, 58, 57, 56, 55, 56, 57, 58, 59, 58, 59, 58, 59, 58, 57, 56, 55], [0, 1, 2, 7, 6, 7, 8, 13, 14, 15, 16, 15, 16, 15, 16, 17, 16, 17, 16, 17, 18, 19, 20, 21, 22, 21, 22, 23, 24, 25, 24, 25, 26, 27, 26, 27, 26, 27, 32, 33, 34, 33, 38, 39, 40, 41, 40, 39, 40, 41, 42, 41, 42, 41, 42, 43, 44, 43, 42, 41, 40, 41, 40, 39, 38, 39, 40, 41, 42, 43, 45, 46, 47, 50, 51, 50, 53, 54, 53, 54, 55, 58, 59, 58, 59, 58, 57, 58, 59, 60, 59, 62, 63, 64, 65, 66, 65, 64, 67, 71, 77], [0, 1, 0, 1, 2, 3, 4, 5, 6, 7, 6, 5, 6, 7, 6, 5, 6, 7, 6, 7, 6, 5, 6, 7, 8, 9, 14, 15, 14, 15, 16, 15, 17, 18, 19, 20, 21, 23, 24, 25, 24, 25, 24, 23, 24, 23, 22, 23, 22, 23, 28, 29, 28, 29, 30, 29, 30, 31, 30, 29, 31, 30, 31, 32, 31, 30, 31, 30, 33, 34, 33, 34, 37, 36, 35, 36, 35, 36, 37, 38, 39, 45, 44, 43, 42, 43, 42, 41, 42, 43, 48, 47, 46, 47, 48, 49, 50, 51, 57, 58, 59], [0, 5, 6, 10, 11, 10, 16, 15, 16, 17, 18, 17, 18, 17, 18, 24, 23, 24, 23, 24, 23, 24, 25, 26, 27, 28, 27, 26, 25, 26, 25, 24, 23, 22, 25, 24, 28, 32, 31, 34, 35, 34, 33, 34, 35, 36, 37, 38, 37, 38, 37, 36, 37, 38, 39, 38, 39, 38, 37, 36, 35, 36, 37, 40, 39, 40, 41, 42, 43, 44, 43, 44, 43, 42, 43, 44, 49, 48, 49, 48, 49, 50, 52, 54, 57, 56, 55, 58, 59, 61, 62, 61, 62, 63, 62, 61, 62, 61, 62, 63, 64], [0, 1, 0, 6, 12, 13, 12, 11, 10, 9, 8, 7, 10, 11, 12, 13, 14, 13, 14, 13, 14, 15, 18, 19, 23, 22, 23, 24, 30, 31, 34, 33, 38, 39, 38, 39, 40, 41, 42, 43, 44, 45, 46, 47, 48, 49, 50, 55, 56, 55, 56, 57, 58, 59, 58, 57, 58, 59, 60, 59, 58, 57, 56, 57, 56, 62, 61, 60, 59, 60, 64, 63, 64, 63, 62, 63, 64, 66, 71, 70, 71, 70, 71, 76, 75, 74, 75, 77, 76, 77, 83, 84, 85, 86, 87, 88, 92, 91, 90, 91, 90], [0, 1, 2, 1, 2, 3, 2, 1, 2, 3, 4, 3, 2, 1, 0, 0, 1, 0, 0, 1, 2, 3, 4, 3, 2, 3, 2, 3, 4, 6, 7, 8, 9, 10, 9, 8, 9, 11, 10, 11, 15, 18, 17, 23, 22, 23, 22, 21, 20, 21, 22, 23, 24, 25, 28, 32, 33, 39, 40, 41, 42, 43, 44, 43, 45, 46, 50, 51, 52, 53, 54, 55, 56, 58, 59, 60, 59, 58, 59, 58, 59, 60, 61, 62, 63, 64, 65, 71, 70, 73, 72, 71, 70, 69, 68, 69, 68, 67, 68, 69, 70], [0, 1, 5, 9, 10, 11, 10, 11, 12, 13, 14, 13, 14, 13, 14, 13, 12, 13, 12, 13, 14, 15, 16, 17, 18, 19, 20, 21, 22, 23, 24, 25, 24, 23, 22, 21, 20, 19, 20, 21, 20, 24, 23, 27, 28, 27, 28, 27, 28, 29, 30, 31, 30, 29, 30, 31, 32, 38, 37, 38, 37, 41, 42, 41, 42, 41, 42, 43, 44, 43, 42, 43, 44, 43, 44, 45, 44, 45, 44, 43, 44, 45, 44, 45, 46, 45, 46, 47, 46, 50, 49, 48, 49, 48, 49, 50, 55, 57, 62, 63, 64], [0, 5, 4, 5, 4, 7, 8, 7, 6, 7, 6, 7, 6, 5, 8, 9, 8, 7, 6, 7, 6, 7, 6, 7, 11, 10, 11, 10, 9, 8, 9, 8, 9, 12, 13, 18, 19, 20, 21, 27, 28, 29, 28, 29, 28, 27, 28, 29, 28, 27, 26, 27, 26, 27, 26, 25, 26, 27, 26, 27, 26, 27, 26, 27, 26, 25, 26, 25, 26, 27, 28, 27, 26, 27, 26, 27, 26, 28, 33, 34, 35, 36, 37, 36, 37, 38, 39, 40, 39, 38, 37, 36, 39, 40, 39, 40, 39, 40, 39, 40, 41], [0, 1, 0, 1, 0, 0, 1, 5, 6, 5, 6, 5, 6, 5, 4, 3, 4, 3, 4, 8, 9, 8, 9, 8, 9, 10, 11, 10, 11, 12, 13, 14, 15, 16, 17, 16, 17, 16, 17, 16, 17, 16, 18, 23, 22, 23, 24, 23, 24, 25, 26, 27, 28, 29, 32, 31, 32, 31, 35, 37, 36, 35, 34, 33, 38, 39, 38, 39, 40, 41, 42, 41, 42, 41, 40, 39, 38, 39, 40, 39, 38, 39, 40, 41, 40, 41, 40, 39, 38, 39, 40, 39, 40, 42, 43, 42, 43, 44, 49, 50, 49], [0, 1, 2, 1, 2, 3, 9, 11, 10, 11, 12, 11, 12, 13, 14, 15, 16, 17, 16, 17, 16, 17, 18, 19, 18, 21, 22, 23, 22, 21, 27, 28, 29, 28, 29, 28, 27, 26, 27, 26, 27, 28, 29, 30, 31, 30, 31, 30, 29, 28, 29, 30, 29, 28, 29, 30, 31, 32, 33, 32, 33, 32, 35, 36, 37, 38, 37, 38, 39, 40, 41, 40, 41, 40, 42, 43, 44, 50, 51, 52, 51, 53, 52, 51, 55, 59, 60, 62, 63, 62, 61, 63, 62, 61, 64, 65, 66, 67, 68, 69, 70], [0, 1, 2, 1, 0, 1, 6, 7, 10, 9, 8, 9, 10, 14, 13, 14, 15, 14, 13, 14, 15, 21, 22, 23, 24, 23, 22, 21, 22, 23, 22, 23, 24, 25, 26, 27, 26, 27, 28, 29, 30, 29, 28, 27, 26, 25, 26, 27, 28, 29, 30, 32, 33, 34, 35, 36, 38, 39, 38, 37, 36, 35, 36, 37, 39, 40, 41, 40, 43, 44, 45, 44, 43, 42, 41, 42, 43, 42, 43, 48, 50, 51, 52, 53, 54, 55, 56, 57, 58, 59, 61, 67, 68, 69, 68, 69, 68, 74, 75, 78, 79], [0, 1, 2, 3, 2, 7, 8, 7, 6, 5, 4, 5, 6, 7, 6, 7, 8, 7, 8, 9, 8, 7, 8, 7, 8, 7, 8, 7, 8, 7, 8, 9, 8, 7, 8, 7, 8, 14, 15, 16, 17, 18, 17, 16, 17, 20, 21, 22, 23, 27, 26, 25, 26, 27, 26, 27, 28, 29, 30, 31, 34, 33, 34, 35, 34, 35, 36, 42, 44, 45, 49, 50, 51, 52, 53, 54, 53, 54, 53, 54, 53, 52, 53, 52, 53, 55, 56, 55, 58, 59, 60, 59, 58, 62, 63, 62, 63, 64, 63, 62, 63], [0, 0, 1, 2, 5, 6, 11, 10, 9, 8, 7, 11, 13, 14, 13, 12, 17, 16, 22, 23, 22, 21, 22, 27, 26, 27, 26, 27, 28, 31, 32, 33, 34, 35, 37, 38, 37, 36, 37, 38, 37, 36, 35, 34, 35, 34, 35, 34, 35, 39, 42, 41, 42, 43, 44, 45, 44, 43, 42, 43, 44, 50, 51, 52, 55, 54, 55, 56, 57, 60, 59, 58, 59, 60, 61, 62, 61, 60, 61, 62, 63, 64, 63, 64, 65, 64, 63, 64, 65, 64, 65, 66, 65, 64, 65, 64, 67, 68, 67, 66, 65], [0, 1, 2, 3, 2, 3, 4, 3, 4, 5, 6, 5, 4, 5, 4, 5, 6, 8, 9, 10, 15, 16, 17, 21, 26, 25, 26, 27, 26, 27, 28, 29, 30, 31, 30, 31, 32, 33, 32, 33, 34, 36, 37, 38, 37, 40, 41, 42, 43, 42, 43, 42, 41, 43, 48, 49, 48, 54, 55, 56, 55, 54, 53, 54, 55, 56, 57, 56, 59, 60, 59, 60, 62, 63, 65, 64, 66, 67, 66, 67, 68, 69, 70, 73, 74, 73, 74, 73, 74, 73, 74, 75, 74, 73, 74, 73, 74, 75, 76, 75, 74], [0, 0, 0, 1, 0, 0, 0, 1, 2, 1, 0, 5, 6, 7, 6, 5, 6, 7, 8, 9, 8, 9, 8, 9, 10, 9, 8, 7, 8, 9, 10, 9, 8, 14, 15, 18, 19, 20, 19, 20, 21, 22, 27, 26, 27, 26, 25, 29, 31, 32, 31, 32, 33, 34, 35, 36, 37, 38, 39, 38, 39, 40, 39, 40, 46, 45, 51, 52, 51, 52, 53, 54, 57, 58, 59, 60, 61, 60, 61, 62, 63, 64, 63, 64, 65, 64, 65, 66, 67, 68, 74, 73, 74, 77, 78, 77, 76, 81, 85, 86, 85], [0, 0, 0, 1, 0, 1, 0, 0, 1, 2, 1, 2, 5, 6, 11, 12, 13, 16, 15, 17, 16, 17, 23, 22, 23, 24, 25, 26, 27, 28, 29, 30, 31, 32, 33, 34, 35, 34, 33, 34, 35, 36, 35, 34, 35, 34, 35, 36, 35, 36, 35, 34, 40, 39, 40, 41, 40, 41, 42, 47, 48, 49, 50, 55, 56, 55, 58, 59, 60, 59, 63, 62, 63, 64, 65, 64, 63, 62, 61, 62, 63, 64, 65, 66, 67, 68, 69, 68, 67, 66, 70, 71, 72, 78, 79, 78, 77, 78, 77, 76, 75], [0, 1, 2, 1, 0, 0, 0, 3, 2, 1, 2, 3, 4, 5, 4, 3, 4, 5, 6, 7, 6, 7, 8, 9, 10, 11, 16, 17, 16, 17, 16, 15, 20, 19, 20, 19, 18, 17, 18, 19, 20, 19, 20, 19, 18, 21, 26, 27, 28, 27, 28, 27, 26, 27, 28, 29, 30, 29, 30, 31, 36, 38, 43, 44, 45, 46, 47, 48, 53, 52, 53, 56, 57, 58, 57, 58, 57, 58, 59, 58, 63, 64, 65, 66, 65, 66, 65, 71, 70, 71, 72, 71, 72, 73, 72, 73, 74, 73, 74, 73, 74], [0, 0, 1, 2, 1, 5, 6, 7, 6, 7, 6, 7, 8, 12, 11, 12, 11, 12, 13, 17, 18, 24, 25, 26, 28, 27, 28, 29, 28, 29, 28, 29, 30, 29, 30, 29, 30, 31, 32, 31, 32, 33, 32, 35, 36, 35, 36, 37, 38, 37, 36, 37, 38, 37, 38, 39, 38, 41, 40, 39, 40, 39, 38, 39, 40, 41, 42, 41, 42, 43, 48, 47, 48, 49, 54, 59, 60, 59, 60, 61, 64, 65, 70, 71, 70, 73, 72, 73, 74, 73, 72, 71, 70, 71, 72, 73, 72, 71, 72, 71, 70], [0, 0, 6, 7, 8, 11, 12, 11, 12, 13, 12, 13, 14, 13, 15, 18, 19, 18, 17, 18, 17, 18, 24, 25, 26, 28, 29, 28, 34, 35, 34, 35, 36, 39, 40, 39, 38, 44, 45, 50, 54, 55, 56, 60, 61, 62, 63, 64, 65, 66, 65, 66, 65, 64, 65, 66, 67, 68, 69, 70, 71, 70, 69, 68, 69, 68, 74, 75, 76, 77, 78, 79, 80, 81, 83, 82, 83, 82, 83, 82, 81, 82, 83, 82, 83, 84, 83, 84, 85, 86, 87, 88, 89, 90, 91, 95, 98, 97, 102, 103, 102], [0, 3, 4, 5, 4, 5, 4, 3, 2, 1, 2, 3, 2, 5, 11, 12, 17, 16, 15, 16, 15, 16, 17, 18, 17, 18, 23, 29, 28, 29, 28, 27, 28, 27, 26, 25, 27, 28, 29, 30, 29, 28, 27, 28, 29, 30, 31, 32, 31, 32, 33, 37, 38, 39, 38, 39, 42, 41, 42, 41, 42, 43, 48, 47, 46, 50, 51, 50, 51, 54, 53, 52, 51, 52, 53, 54, 56, 57, 56, 57, 63, 64, 66, 67, 68, 69, 70, 71, 72, 73, 74, 75, 74, 75, 76, 75, 81, 80, 81, 83, 84], [0, 1, 0, 0, 1, 0, 6, 9, 13, 14, 13, 12, 11, 12, 13, 14, 13, 12, 13, 12, 11, 17, 19, 20, 21, 25, 28, 27, 28, 27, 28, 29, 31, 30, 29, 28, 27, 26, 27, 32, 33, 34, 35, 37, 36, 35, 36, 42, 43, 42, 43, 44, 46, 45, 46, 45, 46, 47, 51, 52, 51, 50, 49, 50, 56, 55, 56, 57, 58, 57, 58, 59, 60, 59, 60, 59, 60, 59, 58, 59, 58, 57, 56, 57, 56, 57, 58, 59, 58, 62, 61, 60, 61, 62, 63, 64, 65, 66, 65, 66, 67], [0, 1, 4, 3, 4, 5, 6, 5, 4, 3, 4, 9, 8, 14, 13, 12, 11, 12, 13, 14, 13, 14, 15, 18, 17, 18, 19, 20, 21, 22, 23, 24, 25, 26, 25, 24, 23, 22, 21, 22, 21, 22, 23, 22, 23, 24, 23, 24, 29, 28, 30, 31, 32, 33, 32, 33, 34, 35, 34, 33, 34, 36, 37, 36, 37, 43, 45, 44, 43, 44, 47, 46, 45, 46, 47, 48, 49, 48, 49, 50, 51, 52, 51, 50, 51, 54, 55, 54, 53, 52, 53, 54, 53, 54, 55, 56, 62, 63, 64, 65, 66], [0, 1, 7, 11, 12, 13, 14, 15, 16, 15, 16, 15, 16, 18, 19, 18, 24, 25, 24, 23, 22, 21, 20, 21, 20, 21, 22, 24, 25, 24, 23, 22, 21, 22, 23, 22, 21, 22, 23, 29, 30, 33, 34, 33, 34, 36, 37, 40, 45, 46, 45, 50, 56, 55, 56, 62, 63, 62, 61, 60, 61, 60, 61, 62, 68, 70, 71, 72, 73, 72, 78, 79, 80, 81, 82, 83, 82, 83, 84, 90, 89, 88, 89, 90, 91, 96, 95, 94, 93, 92, 93, 92, 93, 94, 93, 94, 95, 94, 96, 95, 94], [0, 1, 5, 6, 5, 6, 5, 6, 9, 15, 16, 17, 18, 17, 16, 17, 22, 23, 22, 21, 22, 21, 20, 21, 20, 21, 22, 21, 22, 21, 22, 21, 22, 21, 20, 19, 20, 19, 20, 21, 20, 21, 20, 19, 18, 19, 20, 19, 18, 19, 20, 21, 22, 23, 22, 23, 24, 25, 26, 27, 26, 25, 24, 25, 26, 28, 27, 28, 29, 28, 29, 28, 29, 30, 29, 30, 29, 30, 31, 30, 31, 32, 33, 32, 33, 34, 35, 36, 35, 36, 35, 36, 37, 36, 35, 34, 35, 34, 33, 34, 33], [0, 0, 0, 2, 1, 0, 1, 2, 1, 2, 3, 4, 5, 4, 5, 6, 7, 11, 10, 16, 17, 16, 17, 18, 19, 20, 19, 20, 21, 22, 23, 24, 25, 24, 25, 26, 27, 29, 35, 34, 35, 34, 33, 34, 35, 34, 35, 34, 33, 32, 33, 34, 35, 36, 35, 34, 35, 36, 37, 38, 39, 40, 41, 42, 43, 42, 43, 49, 50, 49, 48, 47, 48, 47, 49, 48, 47, 46, 45, 46, 47, 46, 47, 52, 51, 52, 51, 52, 53, 54, 55, 56, 55, 56, 57, 63, 62, 68, 69, 70, 73], [0, 3, 2, 1, 2, 3, 6, 7, 6, 7, 13, 12, 13, 14, 15, 14, 19, 25, 26, 25, 24, 23, 22, 23, 28, 31, 32, 31, 32, 31, 32, 33, 32, 31, 30, 31, 32, 35, 39, 38, 39, 40, 41, 42, 43, 44, 45, 44, 45, 46, 47, 48, 49, 50, 51, 56, 55, 56, 55, 56, 55, 60, 61, 60, 59, 60, 59, 60, 66, 67, 68, 69, 70, 71, 72, 71, 72, 73, 74, 75, 76, 77, 81, 82, 83, 82, 81, 82, 81, 80, 81, 82, 81, 82, 83, 82, 81, 82, 83, 84, 83], [0, 1, 2, 6, 9, 8, 9, 11, 12, 13, 14, 15, 14, 13, 14, 13, 14, 19, 18, 17, 18, 19, 20, 19, 18, 17, 18, 19, 20, 21, 22, 21, 22, 21, 20, 21, 20, 21, 26, 29, 30, 31, 32, 33, 32, 31, 32, 34, 37, 36, 37, 38, 37, 36, 37, 38, 37, 38, 39, 40, 39, 38, 39, 40, 39, 40, 41, 40, 39, 40, 39, 38, 39, 40, 41, 47, 48, 47, 49, 52, 53, 56, 57, 58, 59, 60, 61, 60, 61, 62, 63, 64, 66, 65, 66, 67, 68, 67, 66, 67, 68], [0, 1, 3, 2, 7, 6, 7, 8, 9, 10, 11, 12, 13, 12, 13, 14, 13, 14, 15, 20, 19, 20, 19, 18, 24, 26, 27, 28, 29, 30, 29, 30, 31, 30, 29, 28, 29, 28, 27, 26, 27, 28, 33, 32, 31, 32, 33, 34, 33, 34, 35, 34, 33, 36, 37, 38, 39, 45, 50, 51, 50, 49, 48, 49, 50, 55, 56, 55, 54, 55, 56, 57, 62, 61, 60, 61, 60, 59, 60, 59, 60, 62, 61, 60, 61, 62, 63, 64, 63, 64, 67, 68, 70, 71, 70, 71, 70, 71, 70, 71, 72], [0, 1, 0, 0, 4, 3, 5, 4, 5, 6, 7, 8, 7, 6, 7, 6, 5, 6, 7, 11, 10, 9, 8, 9, 10, 11, 10, 11, 12, 11, 12, 13, 14, 19, 20, 21, 20, 19, 20, 21, 20, 21, 22, 21, 20, 19, 18, 19, 20, 19, 20, 22, 23, 24, 25, 24, 25, 31, 32, 31, 30, 36, 35, 36, 35, 36, 35, 34, 36, 37, 36, 39, 40, 39, 40, 39, 40, 41, 40, 44, 43, 49, 50, 49, 53, 54, 53, 52, 53, 54, 55, 56, 57, 58, 57, 58, 62, 63, 64, 65, 64], [0, 0, 0, 1, 2, 1, 0, 3, 2, 3, 2, 1, 3, 4, 10, 9, 8, 12, 11, 10, 11, 12, 18, 24, 25, 26, 27, 28, 34, 35, 36, 35, 36, 35, 34, 33, 32, 31, 32, 33, 34, 35, 34, 40, 41, 42, 43, 44, 45, 51, 50, 49, 50, 55, 56, 57, 56, 57, 56, 57, 58, 59, 58, 57, 56, 57, 56, 61, 62, 61, 62, 63, 62, 61, 60, 61, 62, 61, 60, 61, 62, 61, 62, 63, 64, 65, 66, 67, 68, 72, 71, 72, 73, 74, 78, 77, 81, 80, 79, 80, 81], [0, 0, 1, 2, 1, 2, 1, 0, 0, 1, 2, 3, 4, 5, 4, 3, 2, 3, 2, 7, 8, 9, 10, 9, 10, 11, 12, 13, 14, 13, 14, 13, 14, 13, 18, 20, 21, 22, 23, 29, 30, 29, 28, 27, 28, 27, 32, 33, 34, 33, 34, 35, 36, 37, 38, 43, 42, 43, 46, 45, 46, 45, 46, 45, 44, 45, 46, 45, 44, 43, 44, 43, 47, 48, 49, 50, 49, 48, 47, 48, 47, 46, 47, 48, 49, 53, 54, 55, 56, 57, 58, 59, 60, 59, 60, 59, 60, 61, 66, 67, 68], [0, 1, 2, 3, 4, 5, 8, 11, 10, 11, 12, 15, 16, 17, 16, 17, 21, 22, 23, 24, 25, 26, 25, 26, 27, 26, 31, 30, 31, 37, 36, 37, 36, 37, 38, 39, 40, 41, 42, 47, 46, 47, 52, 51, 57, 58, 59, 60, 64, 65, 64, 63, 62, 63, 65, 67, 66, 72, 73, 72, 73, 74, 75, 74, 75, 76, 77, 78, 77, 76, 75, 76, 81, 80, 79, 80, 81, 80, 79, 80, 79, 78, 79, 78, 83, 84, 85, 84, 85, 86, 87, 86, 90, 92, 93, 92, 91, 92, 93, 94, 93], [0, 1, 2, 1, 2, 3, 2, 1, 2, 3, 4, 3, 9, 8, 9, 10, 14, 20, 19, 20, 19, 20, 21, 20, 19, 18, 17, 18, 19, 18, 19, 25, 26, 32, 33, 34, 40, 41, 42, 44, 45, 44, 45, 46, 45, 51, 52, 53, 54, 53, 54, 53, 54, 53, 55, 58, 59, 58, 59, 60, 61, 62, 61, 62, 61, 62, 63, 64, 63, 67, 68, 67, 68, 69, 68, 69, 70, 69, 70, 69, 71, 72, 73, 72, 73, 76, 75, 74, 73, 78, 80, 79, 78, 77, 78, 83, 84, 85, 86, 87, 88], [0, 1, 2, 3, 2, 1, 0, 1, 0, 0, 0, 0, 1, 0, 1, 2, 1, 2, 3, 4, 3, 4, 10, 11, 12, 15, 16, 17, 18, 19, 20, 21, 22, 23, 24, 25, 24, 23, 27, 26, 27, 28, 29, 30, 31, 30, 29, 28, 29, 34, 35, 34, 33, 32, 33, 32, 31, 32, 33, 34, 35, 34, 35, 36, 41, 40, 41, 42, 43, 42, 41, 40, 41, 42, 43, 42, 41, 42, 41, 40, 39, 38, 39, 38, 43, 44, 45, 44, 47, 46, 45, 44, 47, 48, 49, 50, 53, 54, 53, 54, 53], [0, 1, 0, 4, 3, 4, 8, 7, 8, 9, 8, 9, 10, 9, 10, 11, 10, 9, 10, 9, 10, 11, 10, 11, 12, 13, 12, 11, 16, 17, 18, 19, 18, 19, 18, 19, 20, 19, 20, 25, 24, 25, 26, 29, 28, 27, 28, 29, 30, 29, 30, 36, 42, 43, 44, 45, 46, 47, 49, 51, 50, 51, 50, 51, 50, 51, 50, 49, 50, 51, 55, 54, 55, 56, 57, 58, 59, 61, 62, 61, 66, 65, 66, 65, 64, 65, 67, 68, 67, 68, 67, 66, 67, 68, 69, 70, 71, 72, 75, 76, 77], [0, 0, 1, 0, 0, 1, 2, 3, 2, 3, 4, 3, 4, 3, 4, 5, 6, 7, 8, 7, 8, 7, 8, 9, 8, 9, 10, 9, 10, 11, 12, 13, 12, 11, 10, 11, 10, 11, 10, 9, 10, 11, 10, 9, 10, 12, 11, 10, 9, 8, 7, 8, 7, 12, 13, 15, 14, 15, 16, 15, 14, 15, 16, 17, 22, 21, 22, 23, 22, 21, 22, 23, 25, 26, 25, 26, 27, 30, 31, 32, 31, 32, 33, 32, 33, 34, 33, 34, 38, 44, 46, 47, 48, 47, 51, 50, 51, 50, 54, 53, 52], [0, 0, 1, 2, 3, 4, 3, 4, 5, 6, 5, 4, 6, 5, 6, 5, 8, 7, 8, 14, 13, 17, 18, 17, 18, 21, 24, 23, 22, 23, 24, 23, 24, 25, 24, 25, 24, 28, 29, 28, 29, 30, 31, 30, 31, 32, 33, 34, 35, 36, 35, 36, 37, 36, 35, 38, 37, 36, 37, 43, 42, 41, 40, 43, 48, 47, 46, 47, 53, 54, 53, 54, 53, 54, 53, 54, 53, 52, 53, 58, 60, 65, 66, 67, 68, 69, 68, 69, 74, 80, 81, 85, 86, 87, 88, 87, 88, 89, 90, 91, 92], [0, 1, 0, 2, 1, 0, 6, 7, 8, 14, 16, 15, 14, 13, 12, 11, 16, 22, 23, 24, 25, 26, 25, 26, 27, 28, 27, 33, 34, 35, 34, 33, 34, 33, 32, 31, 32, 33, 34, 35, 34, 33, 32, 33, 34, 35, 36, 35, 36, 37, 36, 39, 40, 41, 42, 41, 42, 43, 44, 45, 46, 47, 48, 47, 46, 47, 52, 51, 50, 52, 53, 54, 56, 57, 58, 59, 60, 61, 60, 59, 60, 61, 62, 61, 64, 63, 62, 63, 62, 63, 62, 61, 60, 61, 60, 59, 60, 61, 62, 63, 62], [0, 0, 1, 0, 0, 1, 2, 1, 2, 8, 7, 8, 7, 6, 5, 6, 7, 8, 9, 8, 7, 6, 5, 4, 3, 4, 5, 4, 3, 4, 5, 6, 7, 6, 7, 8, 9, 10, 11, 10, 11, 12, 11, 12, 17, 18, 17, 18, 19, 20, 19, 23, 27, 26, 27, 26, 27, 28, 29, 31, 30, 31, 32, 35, 36, 37, 36, 37, 38, 39, 38, 39, 40, 41, 42, 43, 44, 43, 44, 45, 44, 45, 46, 52, 51, 52, 51, 57, 56, 57, 56, 57, 56, 62, 63, 64, 63, 64, 65, 67, 68], [0, 0, 1, 7, 8, 10, 11, 12, 16, 17, 19, 20, 21, 20, 21, 20, 19, 20, 22, 23, 22, 21, 20, 19, 20, 21, 22, 23, 24, 23, 24, 25, 24, 23, 22, 21, 22, 23, 24, 23, 22, 23, 22, 21, 23, 24, 25, 26, 27, 33, 32, 31, 34, 35, 41, 43, 44, 45, 47, 48, 49, 53, 54, 53, 56, 55, 56, 55, 56, 55, 56, 55, 54, 53, 54, 55, 54, 55, 57, 58, 57, 56, 55, 54, 55, 56, 55, 56, 60, 59, 60, 59, 58, 59, 58, 59, 58, 57, 58, 57, 58], [0, 1, 5, 6, 7, 6, 10, 11, 15, 14, 15, 16, 17, 18, 19, 18, 19, 20, 21, 20, 21, 20, 19, 20, 19, 20, 19, 20, 19, 20, 21, 22, 21, 22, 26, 25, 26, 25, 30, 31, 30, 31, 30, 31, 32, 31, 30, 31, 32, 33, 32, 35, 36, 37, 36, 37, 38, 39, 40, 39, 38, 37, 36, 37, 36, 37, 36, 35, 36, 35, 37, 36, 37, 38, 41, 42, 43, 42, 43, 46, 47, 46, 45, 44, 43, 42, 43, 44, 45, 47, 46, 45, 44, 43, 42, 43, 42, 43, 42, 43, 44], [0, 1, 2, 1, 2, 1, 2, 1, 5, 6, 12, 13, 17, 16, 17, 18, 17, 22, 23, 24, 23, 24, 23, 22, 28, 30, 36, 37, 38, 37, 38, 42, 45, 46, 47, 49, 48, 49, 52, 53, 54, 53, 52, 53, 54, 55, 54, 53, 54, 53, 54, 55, 56, 55, 54, 55, 56, 55, 59, 60, 59, 60, 62, 63, 68, 69, 70, 71, 72, 71, 72, 73, 74, 73, 72, 73, 74, 80, 79, 80, 81, 82, 83, 84, 85, 84, 85, 86, 87, 88, 94, 93, 92, 91, 95, 96, 97, 98, 97, 101, 102], [0, 1, 2, 7, 8, 7, 12, 11, 10, 11, 12, 11, 12, 11, 12, 13, 14, 15, 16, 17, 18, 17, 18, 17, 21, 22, 23, 22, 21, 22, 23, 22, 24, 30, 29, 30, 29, 28, 29, 30, 31, 30, 29, 28, 30, 29, 30, 29, 28, 29, 28, 29, 33, 34, 35, 36, 35, 36, 35, 36, 37, 38, 39, 40, 39, 40, 41, 43, 44, 43, 42, 43, 42, 43, 42, 43, 44, 45, 44, 45, 44, 45, 44, 43, 44, 45, 46, 45, 46, 47, 46, 45, 46, 47, 46, 47, 48, 49, 1, 2, 3], [0, 1, 2, 1, 2, 1, 0, 1, 2, 1, 0, 1, 2, 1, 0, 0, 1, 0, 1, 2, 3, 6, 5, 11, 10, 9, 10, 14, 15, 16, 17, 18, 17, 22, 21, 22, 23, 29, 28, 27, 28, 29, 35, 36, 40, 41, 42, 41, 40, 41, 40, 41, 42, 41, 42, 46, 45, 44, 45, 44, 43, 44, 45, 50, 49, 48, 47, 46, 45, 46, 47, 46, 47, 48, 47, 49, 50, 51, 50, 51, 52, 53, 54, 55, 54, 60, 59, 58, 57, 56, 55, 56, 57, 58, 59, 58, 57, 58, 59, 60, 59], [0, 1, 0, 1, 2, 3, 4, 3, 4, 5, 6, 9, 10, 11, 10, 11, 10, 11, 10, 9, 10, 12, 13, 12, 13, 17, 18, 19, 20, 21, 20, 21, 20, 21, 22, 23, 24, 23, 22, 23, 22, 23, 24, 25, 26, 27, 28, 27, 28, 29, 35, 34, 35, 34, 35, 36, 35, 34, 33, 34, 35, 38, 39, 40, 41, 42, 43, 46, 47, 46, 47, 48, 49, 48, 47, 46, 45, 46, 47, 46, 45, 44, 45, 49, 48, 47, 48, 47, 48, 49, 50, 51, 52, 51, 52, 51, 50, 51, 52, 57, 58], [0, 1, 2, 1, 0, 2, 3, 2, 1, 2, 3, 4, 3, 2, 1, 0, 4, 3, 4, 5, 4, 10, 11, 10, 13, 19, 20, 21, 22, 23, 28, 27, 28, 27, 28, 27, 31, 32, 37, 42, 43, 44, 43, 44, 45, 44, 43, 44, 45, 46, 47, 52, 51, 52, 53, 52, 51, 50, 49, 50, 51, 52, 51, 50, 52, 55, 54, 55, 57, 61, 60, 61, 66, 67, 68, 69, 70, 72, 73, 76, 75, 76, 77, 76, 82, 81, 85, 91, 92, 93, 94, 95, 94, 95, 96, 97, 98, 97, 96, 97, 98], [0, 0, 0, 4, 6, 5, 4, 5, 6, 5, 6, 7, 8, 9, 10, 9, 10, 11, 12, 13, 12, 13, 12, 11, 12, 13, 12, 13, 12, 13, 14, 15, 14, 15, 14, 15, 18, 22, 27, 26, 27, 26, 27, 28, 29, 30, 29, 30, 31, 32, 33, 34, 37, 36, 37, 38, 37, 38, 39, 38, 39, 40, 46, 45, 46, 47, 48, 49, 48, 49, 48, 49, 50, 49, 54, 55, 56, 57, 58, 59, 60, 61, 67, 66, 67, 68, 72, 73, 74, 75, 76, 82, 83, 85, 84, 85, 91, 92, 93, 92, 91], [0, 4, 3, 4, 3, 2, 3, 4, 5, 6, 7, 8, 9, 10, 9, 8, 7, 8, 7, 6, 5, 6, 7, 8, 7, 8, 9, 10, 9, 10, 11, 10, 9, 14, 17, 18, 19, 20, 21, 22, 23, 24, 23, 25, 30, 31, 32, 33, 32, 33, 34, 35, 34, 38, 39, 38, 37, 38, 39, 40, 41, 42, 43, 44, 43, 42, 43, 44, 48, 50, 51, 52, 53, 54, 53, 54, 53, 52, 54, 55, 54, 55, 57, 60, 65, 64, 63, 65, 64, 63, 67, 68, 71, 70, 71, 72, 71, 75, 74, 73, 72], [0, 1, 0, 3, 2, 1, 2, 3, 2, 1, 0, 1, 2, 8, 9, 12, 13, 14, 20, 21, 20, 21, 22, 21, 20, 19, 20, 19, 20, 19, 20, 21, 20, 21, 20, 22, 26, 27, 28, 29, 30, 31, 32, 33, 34, 35, 36, 35, 41, 40, 41, 40, 41, 42, 44, 45, 44, 45, 46, 47, 46, 45, 46, 45, 46, 51, 50, 51, 50, 49, 50, 51, 54, 55, 56, 57, 58, 57, 56, 55, 61, 60, 59, 58, 59, 58, 59, 62, 67, 66, 65, 70, 71, 72, 73, 74, 75, 74, 75, 76, 77], [0, 5, 6, 5, 10, 11, 12, 11, 16, 15, 14, 20, 21, 20, 21, 22, 23, 29, 35, 40, 41, 46, 47, 46, 45, 44, 43, 45, 46, 45, 46, 47, 48, 47, 48, 47, 48, 47, 46, 47, 48, 49, 48, 49, 50, 51, 50, 51, 52, 53, 54, 53, 54, 53, 57, 58, 57, 59, 60, 64, 63, 64, 65, 66, 67, 68, 69, 70, 76, 77, 78, 77, 76, 75, 74, 75, 80, 81, 82, 83, 84, 88, 89, 88, 89, 88, 89, 88, 89, 90, 89, 90, 91, 92, 93, 92, 93, 94, 95, 96, 95], [0, 0, 1, 2, 3, 4, 5, 7, 8, 7, 8, 7, 6, 7, 12, 11, 13, 14, 15, 16, 17, 19, 20, 19, 20, 21, 22, 21, 20, 21, 20, 19, 20, 19, 20, 21, 22, 23, 24, 25, 24, 25, 24, 23, 24, 25, 26, 25, 26, 27, 28, 29, 30, 31, 32, 33, 32, 33, 34, 35, 36, 35, 34, 35, 36, 38, 37, 38, 39, 41, 40, 44, 45, 48, 52, 55, 54, 56, 57, 56, 57, 58, 63, 64, 65, 66, 67, 66, 67, 68, 72, 73, 74, 77, 76, 75, 76, 75, 76, 77, 78], [0, 1, 0, 1, 2, 3, 4, 5, 6, 5, 6, 5, 6, 5, 6, 7, 6, 7, 6, 7, 6, 5, 6, 7, 6, 5, 4, 3, 4, 5, 6, 5, 6, 5, 6, 5, 6, 7, 6, 7, 6, 12, 13, 14, 15, 16, 17, 16, 15, 19, 20, 21, 22, 27, 28, 30, 32, 33, 32, 33, 34, 40, 39, 38, 39, 38, 37, 39, 40, 41, 40, 42, 43, 44, 45, 46, 47, 46, 51, 52, 53, 54, 53, 54, 55, 60, 61, 65, 64, 67, 70, 74, 73, 74, 75, 74, 75, 74, 75, 76, 77], [0, 5, 6, 10, 11, 12, 13, 14, 15, 16, 15, 16, 15, 14, 15, 16, 17, 18, 19, 20, 19, 18, 19, 20, 19, 23, 24, 25, 24, 25, 26, 25, 24, 28, 29, 31, 32, 33, 32, 31, 32, 31, 30, 31, 32, 34, 35, 40, 42, 43, 47, 48, 53, 52, 53, 54, 53, 54, 55, 56, 57, 58, 59, 58, 63, 64, 63, 62, 63, 66, 67, 66, 67, 66, 65, 66, 65, 66, 67, 68, 69, 70, 69, 71, 72, 73, 74, 75, 78, 77, 78, 77, 78, 77, 78, 77, 78, 77, 78, 77, 78], [0, 6, 7, 6, 5, 6, 5, 6, 7, 8, 9, 10, 9, 8, 9, 10, 9, 8, 7, 8, 7, 6, 5, 4, 5, 4, 5, 6, 7, 8, 9, 8, 7, 8, 9, 8, 7, 8, 9, 10, 11, 10, 11, 12, 11, 16, 17, 18, 17, 18, 19, 18, 19, 24, 25, 27, 26, 27, 26, 27, 33, 37, 38, 39, 38, 41, 42, 43, 44, 45, 44, 45, 46, 47, 48, 49, 50, 51, 50, 51, 52, 53, 58, 59, 58, 59, 62, 63, 66, 67, 68, 73, 72, 73, 74, 75, 76, 77, 78, 83, 84], [0, 0, 1, 2, 3, 4, 8, 7, 8, 9, 8, 7, 6, 7, 8, 9, 8, 7, 8, 7, 8, 13, 14, 16, 15, 14, 19, 20, 26, 25, 24, 23, 24, 25, 24, 25, 26, 27, 28, 27, 28, 29, 32, 38, 37, 38, 39, 38, 37, 38, 37, 38, 40, 41, 42, 41, 40, 41, 46, 45, 51, 55, 57, 56, 55, 54, 53, 52, 51, 56, 57, 56, 57, 58, 57, 56, 57, 60, 59, 60, 61, 67, 66, 65, 66, 69, 70, 71, 70, 69, 74, 73, 72, 73, 72, 77, 80, 79, 80, 85, 84], [0, 1, 2, 3, 4, 3, 2, 3, 4, 3, 2, 3, 4, 5, 6, 7, 8, 9, 10, 9, 14, 13, 12, 11, 10, 11, 10, 11, 10, 9, 10, 11, 17, 18, 17, 18, 19, 20, 19, 18, 19, 18, 17, 18, 17, 18, 17, 16, 15, 16, 17, 16, 15, 14, 13, 14, 15, 16, 17, 16, 17, 16, 17, 23, 22, 23, 29, 32, 33, 34, 35, 38, 41, 42, 46, 45, 46, 49, 51, 52, 53, 59, 60, 61, 63, 62, 63, 64, 63, 64, 65, 64, 63, 62, 63, 62, 61, 63, 62, 61, 60], [0, 1, 0, 1, 2, 1, 0, 1, 0, 0, 1, 5, 4, 5, 4, 5, 6, 7, 8, 9, 10, 9, 8, 9, 8, 9, 10, 11, 10, 11, 12, 11, 10, 9, 12, 18, 19, 24, 25, 31, 30, 29, 30, 31, 34, 35, 34, 35, 36, 37, 36, 35, 36, 37, 40, 41, 47, 48, 49, 50, 51, 57, 58, 59, 60, 61, 60, 61, 60, 59, 60, 59, 58, 59, 60, 59, 60, 61, 62, 63, 64, 65, 66, 67, 72, 71, 72, 71, 72, 77, 76, 81, 87, 91, 92, 91, 90, 93, 94, 95, 96], [0, 0, 1, 2, 3, 4, 5, 6, 5, 6, 7, 8, 9, 10, 9, 8, 14, 15, 16, 15, 16, 21, 22, 23, 29, 28, 29, 30, 31, 32, 33, 32, 33, 34, 33, 34, 35, 34, 33, 32, 33, 34, 35, 36, 37, 38, 39, 40, 41, 42, 41, 42, 41, 40, 39, 40, 41, 40, 41, 40, 41, 40, 41, 42, 43, 42, 43, 42, 41, 40, 41, 46, 45, 46, 47, 48, 49, 50, 51, 50, 49, 50, 51, 50, 51, 52, 51, 54, 53, 54, 53, 54, 55, 56, 55, 56, 55, 54, 53, 54, 55], [0, 1, 2, 3, 2, 1, 2, 1, 2, 3, 2, 1, 0, 0, 1, 2, 1, 0, 1, 0, 2, 3, 4, 5, 11, 10, 9, 10, 9, 10, 11, 12, 13, 19, 24, 25, 26, 27, 26, 27, 28, 29, 30, 29, 35, 34, 38, 37, 38, 39, 38, 41, 42, 43, 44, 45, 46, 45, 47, 48, 53, 52, 54, 53, 54, 53, 52, 51, 52, 53, 58, 57, 56, 59, 58, 57, 58, 59, 65, 66, 65, 71, 72, 73, 75, 76, 80, 81, 80, 81, 82, 83, 82, 86, 85, 86, 92, 91, 92, 94, 93], [0, 6, 5, 4, 5, 6, 5, 6, 5, 4, 5, 6, 5, 6, 7, 6, 5, 6, 7, 9, 8, 9, 10, 11, 10, 11, 12, 13, 12, 13, 14, 15, 14, 13, 14, 15, 16, 17, 16, 17, 18, 19, 18, 24, 23, 22, 23, 24, 25, 26, 29, 30, 29, 28, 27, 30, 29, 30, 29, 30, 31, 32, 33, 34, 33, 38, 39, 40, 44, 45, 46, 45, 46, 47, 48, 49, 51, 52, 51, 50, 51, 52, 53, 54, 53, 54, 58, 57, 58, 64, 65, 64, 63, 64, 65, 67, 68, 69, 68, 69, 70], [0, 0, 1, 2, 3, 2, 1, 2, 1, 5, 6, 11, 12, 13, 14, 15, 16, 15, 16, 17, 20, 19, 23, 29, 30, 29, 30, 32, 33, 34, 35, 34, 33, 34, 38, 37, 38, 37, 39, 40, 41, 40, 39, 40, 41, 44, 45, 48, 47, 48, 49, 50, 51, 56, 57, 56, 55, 56, 57, 58, 59, 58, 59, 58, 59, 61, 62, 61, 65, 66, 67, 68, 71, 70, 69, 68, 69, 68, 71, 72, 73, 74, 75, 76, 79, 78, 77, 76, 75, 76, 77, 78, 79, 82, 83, 84, 83, 84, 83, 86, 87], [0, 1, 0, 1, 0, 1, 2, 3, 4, 3, 4, 5, 6, 5, 4, 5, 6, 5, 11, 12, 13, 12, 11, 13, 12, 11, 12, 13, 14, 20, 25, 24, 25, 26, 27, 30, 29, 33, 34, 33, 35, 34, 35, 36, 35, 37, 36, 37, 36, 35, 36, 37, 38, 39, 38, 39, 40, 39, 41, 42, 43, 44, 45, 44, 45, 46, 45, 44, 45, 46, 47, 48, 49, 48, 47, 49, 48, 51, 52, 51, 52, 53, 52, 51, 52, 53, 52, 53, 55, 54, 55, 54, 55, 56, 57, 58, 59, 60, 59, 60, 59], [0, 0, 0, 1, 2, 3, 4, 5, 6, 7, 8, 9, 10, 9, 8, 7, 6, 7, 8, 9, 10, 9, 15, 16, 17, 16, 17, 18, 19, 20, 21, 20, 21, 22, 23, 22, 27, 26, 32, 33, 34, 35, 34, 33, 32, 31, 30, 29, 33, 34, 33, 34, 33, 34, 35, 34, 33, 34, 35, 36, 37, 36, 37, 41, 42, 41, 40, 42, 41, 42, 43, 44, 43, 44, 45, 48, 47, 46, 45, 44, 43, 48, 49, 50, 49, 50, 54, 55, 54, 55, 57, 58, 59, 60, 62, 61, 67, 68, 70, 71, 74], [0, 1, 2, 4, 5, 4, 5, 6, 5, 4, 5, 4, 5, 7, 8, 9, 10, 11, 10, 9, 13, 14, 15, 16, 22, 23, 24, 23, 27, 28, 29, 30, 31, 32, 31, 32, 33, 32, 33, 34, 33, 34, 33, 32, 33, 34, 35, 36, 37, 38, 37, 38, 39, 40, 41, 40, 41, 43, 42, 43, 44, 45, 46, 45, 46, 45, 46, 47, 46, 45, 44, 45, 44, 43, 44, 45, 44, 43, 44, 45, 44, 45, 46, 47, 48, 47, 48, 49, 48, 49, 48, 49, 50, 51, 50, 51, 52, 53, 52, 51, 53], [0, 1, 0, 1, 0, 0, 0, 1, 0, 1, 0, 0, 0, 0, 1, 5, 11, 13, 16, 17, 16, 20, 19, 20, 21, 22, 21, 22, 23, 22, 21, 20, 21, 20, 21, 20, 21, 22, 23, 24, 25, 26, 27, 28, 29, 30, 35, 34, 35, 41, 42, 43, 44, 45, 46, 52, 53, 54, 59, 60, 59, 58, 57, 56, 57, 58, 57, 58, 59, 60, 61, 65, 64, 63, 62, 61, 67, 66, 67, 68, 69, 70, 71, 72, 71, 75, 74, 75, 76, 77, 78, 79, 78, 79, 78, 81, 80, 81, 82, 81, 80], [0, 2, 1, 2, 1, 0, 0, 1, 2, 3, 4, 5, 4, 8, 9, 8, 9, 11, 12, 13, 14, 15, 14, 13, 14, 13, 14, 15, 14, 15, 16, 15, 14, 15, 16, 21, 22, 23, 24, 25, 24, 25, 27, 28, 29, 30, 31, 30, 29, 28, 29, 30, 31, 37, 38, 39, 38, 39, 41, 42, 43, 44, 45, 44, 43, 44, 43, 47, 48, 49, 50, 49, 50, 51, 52, 53, 54, 55, 58, 59, 58, 59, 58, 59, 60, 66, 65, 66, 65, 66, 65, 66, 65, 70, 69, 68, 70, 71, 72, 71, 72], [0, 0, 0, 1, 2, 3, 6, 7, 6, 5, 7, 8, 7, 8, 7, 6, 7, 8, 9, 8, 7, 12, 11, 12, 14, 15, 16, 15, 14, 13, 12, 13, 14, 13, 14, 15, 14, 13, 12, 11, 10, 11, 12, 13, 14, 15, 14, 15, 21, 20, 19, 24, 25, 24, 23, 24, 23, 27, 26, 25, 26, 27, 28, 29, 30, 36, 40, 42, 48, 47, 46, 47, 46, 47, 51, 50, 51, 54, 53, 52, 51, 50, 49, 55, 54, 55, 54, 53, 54, 55, 58, 59, 60, 61, 62, 61, 60, 59, 60, 61, 62], [0, 5, 4, 5, 4, 5, 6, 12, 13, 12, 11, 12, 11, 12, 14, 13, 14, 15, 17, 16, 17, 18, 21, 22, 21, 20, 21, 20, 21, 20, 19, 18, 17, 18, 19, 18, 19, 20, 21, 22, 23, 24, 25, 24, 25, 24, 25, 26, 27, 26, 27, 28, 27, 28, 32, 31, 32, 33, 32, 31, 36, 39, 42, 45, 46, 47, 48, 49, 50, 49, 55, 56, 57, 58, 59, 60, 65, 64, 65, 66, 65, 64, 63, 64, 65, 68, 69, 70, 71, 70, 71, 72, 73, 74, 76, 77, 78, 79, 78, 83, 88], [0, 0, 0, 0, 4, 3, 4, 10, 11, 14, 13, 14, 13, 14, 13, 14, 20, 21, 27, 26, 32, 33, 34, 33, 34, 40, 41, 45, 51, 52, 53, 52, 54, 53, 54, 55, 54, 53, 54, 55, 54, 57, 58, 57, 58, 64, 65, 64, 63, 62, 68, 69, 70, 71, 72, 73, 72, 71, 72, 73, 72, 73, 74, 75, 76, 75, 76, 75, 76, 77, 78, 77, 78, 79, 80, 79, 78, 79, 81, 82, 83, 84, 89, 88, 87, 88, 87, 88, 89, 90, 91, 90, 91, 96, 95, 96, 95, 96, 97, 98, 97], [0, 1, 2, 3, 2, 6, 7, 8, 11, 10, 14, 15, 16, 18, 19, 20, 19, 18, 17, 18, 22, 21, 20, 21, 22, 21, 25, 26, 25, 26, 27, 28, 29, 30, 29, 28, 27, 32, 33, 32, 31, 32, 31, 32, 31, 30, 31, 32, 37, 38, 37, 36, 35, 34, 33, 34, 33, 34, 35, 39, 38, 39, 40, 41, 44, 43, 44, 43, 47, 48, 52, 56, 57, 56, 59, 60, 61, 62, 63, 64, 63, 62, 61, 62, 63, 64, 63, 64, 65, 66, 67, 66, 67, 68, 69, 68, 67, 68, 69, 70, 71], [0, 1, 2, 1, 0, 0, 0, 1, 4, 5, 6, 7, 6, 5, 6, 5, 6, 7, 13, 12, 13, 14, 13, 12, 13, 14, 13, 12, 11, 12, 13, 14, 13, 15, 14, 13, 14, 15, 16, 15, 14, 15, 16, 15, 14, 15, 16, 17, 18, 17, 18, 19, 20, 21, 20, 21, 20, 21, 20, 21, 20, 21, 22, 23, 22, 23, 22, 21, 20, 19, 23, 22, 21, 20, 21, 22, 21, 20, 26, 25, 31, 36, 37, 38, 37, 38, 37, 38, 37, 38, 37, 38, 39, 38, 39, 41, 40, 41, 42, 41, 42], [0, 1, 2, 1, 2, 8, 11, 12, 16, 17, 18, 17, 18, 19, 18, 19, 20, 19, 18, 19, 21, 23, 24, 25, 26, 27, 28, 29, 31, 32, 31, 30, 31, 30, 29, 33, 34, 33, 38, 39, 45, 46, 45, 51, 50, 51, 52, 53, 54, 55, 56, 57, 56, 61, 67, 68, 69, 68, 69, 70, 69, 70, 71, 70, 69, 70, 71, 77, 78, 79, 80, 81, 82, 84, 85, 84, 83, 86, 91, 92, 93, 92, 91, 92, 98, 99, 98, 99, 100, 101, 102, 103, 107, 106, 107, 112, 113, 114, 115, 116, 115], [0, 0, 1, 2, 1, 0, 1, 5, 6, 11, 12, 13, 14, 13, 14, 15, 16, 19, 20, 19, 20, 21, 22, 28, 34, 38, 37, 38, 39, 40, 41, 42, 41, 42, 43, 42, 43, 45, 46, 45, 46, 45, 44, 45, 44, 43, 44, 45, 44, 49, 50, 51, 50, 51, 50, 52, 53, 54, 55, 56, 55, 54, 53, 55, 56, 57, 58, 61, 60, 61, 62, 61, 62, 61, 62, 63, 62, 63, 62, 63, 62, 63, 64, 65, 66, 65, 69, 70, 69, 70, 69, 72, 73, 74, 75, 76, 75, 76, 75, 76, 75], [0, 0, 1, 0, 1, 0, 1, 2, 3, 4, 5, 11, 12, 13, 14, 15, 16, 15, 14, 15, 16, 15, 16, 17, 18, 22, 25, 26, 32, 35, 34, 35, 36, 41, 42, 41, 42, 43, 42, 41, 45, 46, 45, 47, 51, 56, 55, 56, 55, 56, 62, 61, 60, 59, 60, 59, 60, 64, 65, 64, 63, 62, 63, 64, 63, 62, 61, 62, 63, 65, 64, 65, 66, 67, 68, 73, 72, 73, 72, 71, 72, 71, 72, 71, 73, 74, 75, 76, 75, 76, 77, 76, 77, 83, 84, 83, 84, 83, 84, 83, 85], [0, 1, 3, 4, 5, 10, 11, 12, 13, 14, 16, 18, 19, 18, 19, 24, 30, 32, 31, 30, 31, 36, 37, 38, 37, 38, 37, 39, 40, 41, 43, 44, 45, 44, 45, 44, 43, 42, 41, 40, 41, 43, 44, 45, 48, 50, 52, 53, 54, 53, 52, 51, 50, 49, 50, 51, 52, 53, 54, 53, 57, 56, 57, 58, 59, 60, 61, 62, 61, 62, 61, 62, 63, 64, 63, 62, 63, 62, 61, 60, 59, 58, 59, 60, 59, 58, 59, 61, 60, 59, 60, 61, 60, 59, 58, 59, 60, 61, 62, 61, 62], [0, 1, 0, 0, 1, 0, 1, 2, 1, 0, 1, 6, 8, 7, 6, 7, 8, 9, 10, 9, 10, 11, 12, 11, 12, 13, 14, 15, 16, 15, 14, 13, 15, 16, 17, 16, 17, 18, 19, 20, 19, 21, 24, 25, 26, 25, 26, 25, 28, 29, 30, 31, 32, 38, 42, 43, 46, 48, 47, 48, 47, 48, 49, 50, 49, 50, 51, 52, 53, 54, 55, 56, 57, 56, 55, 56, 55, 54, 57, 56, 55, 54, 55, 54, 53, 54, 55, 60, 59, 60, 61, 62, 63, 62, 61, 60, 63, 64, 63, 64, 63], [0, 0, 3, 2, 3, 4, 3, 4, 3, 4, 10, 12, 13, 14, 20, 19, 18, 19, 18, 17, 16, 17, 18, 19, 20, 21, 22, 21, 20, 19, 18, 22, 23, 24, 25, 26, 25, 28, 29, 28, 27, 26, 27, 28, 29, 28, 27, 28, 29, 28, 29, 30, 31, 32, 31, 32, 33, 37, 38, 39, 40, 41, 44, 45, 51, 52, 53, 56, 55, 54, 55, 57, 56, 57, 56, 61, 62, 63, 64, 63, 64, 63, 62, 63, 64, 65, 64, 68, 67, 66, 71, 70, 71, 72, 73, 74, 73, 74, 73, 74, 73], [0, 1, 2, 6, 7, 8, 9, 10, 9, 14, 15, 16, 15, 14, 15, 19, 18, 17, 18, 19, 20, 21, 23, 26, 25, 26, 27, 29, 28, 29, 28, 27, 26, 27, 28, 27, 26, 25, 26, 25, 24, 28, 29, 30, 31, 33, 34, 33, 34, 33, 34, 35, 34, 36, 37, 36, 35, 36, 37, 43, 42, 41, 40, 41, 40, 41, 42, 43, 44, 50, 51, 50, 49, 52, 51, 52, 51, 52, 51, 54, 53, 54, 59, 2, 3, 2, 8, 12, 13, 14, 15, 16, 17, 18, 19, 24, 25, 26, 25, 26, 25], [0, 1, 2, 1, 0, 1, 4, 5, 4, 3, 4, 3, 4, 7, 8, 9, 8, 7, 8, 9, 10, 11, 12, 13, 14, 15, 16, 17, 16, 15, 14, 13, 16, 15, 1, 2, 4, 6, 5, 4, 3, 4, 5, 6, 5, 11, 17, 23, 24, 25, 26, 27, 28, 29, 30, 33, 32, 38, 37, 38, 37, 39, 38, 39, 40, 44, 45, 46, 50, 51, 50, 51, 50, 49, 48, 49, 50, 51, 52, 55, 57, 60, 61, 67, 68, 69, 70, 73, 72, 71, 72, 75, 74, 75, 79, 80, 86, 85, 84, 85, 84], [0, 4, 3, 6, 5, 4, 3, 7, 8, 10, 9, 10, 9, 8, 7, 6, 5, 4, 3, 2, 1, 2, 1, 0, 1, 2, 3, 4, 3, 4, 5, 4, 5, 4, 5, 6, 5, 4, 5, 6, 7, 8, 9, 8, 9, 10, 9, 10, 9, 10, 12, 13, 14, 15, 16, 17, 16, 15, 19, 25, 30, 33, 34, 33, 34, 35, 36, 35, 38, 39, 40, 41, 40, 39, 40, 39, 38, 39, 40, 39, 40, 41, 44, 45, 46, 52, 51, 52, 53, 54, 53, 54, 55, 54, 55, 56, 57, 63, 62, 64, 65], [0, 1, 2, 3, 4, 5, 4, 3, 2, 3, 4, 3, 4, 5, 11, 10, 11, 15, 14, 13, 12, 13, 14, 15, 16, 15, 16, 17, 16, 21, 22, 23, 22, 23, 22, 21, 22, 23, 24, 23, 22, 23, 26, 27, 28, 29, 30, 31, 30, 29, 31, 32, 33, 32, 33, 32, 31, 30, 31, 32, 33, 32, 33, 38, 39, 38, 39, 41, 42, 47, 46, 47, 48, 49, 50, 49, 48, 49, 53, 54, 55, 56, 55, 56, 57, 58, 59, 60, 59, 60, 59, 60, 61, 60, 59, 60, 59, 58, 57, 60, 65], [0, 0, 1, 0, 0, 0, 0, 3, 2, 3, 8, 9, 10, 11, 12, 13, 14, 15, 16, 17, 20, 26, 25, 26, 27, 26, 30, 29, 30, 31, 32, 37, 38, 39, 40, 41, 40, 46, 52, 51, 50, 53, 52, 56, 55, 54, 55, 56, 57, 62, 67, 66, 65, 66, 69, 70, 71, 73, 72, 73, 72, 73, 72, 73, 74, 75, 78, 79, 80, 79, 80, 81, 80, 81, 80, 79, 80, 83, 82, 83, 84, 86, 87, 88, 87, 88, 87, 86, 87, 86, 85, 86, 87, 88, 87, 86, 87, 88, 91, 92, 91], [0, 0, 0, 0, 1, 4, 5, 6, 7, 6, 7, 8, 9, 10, 9, 10, 9, 10, 11, 12, 11, 12, 11, 10, 11, 12, 13, 14, 15, 14, 15, 16, 17, 16, 17, 23, 24, 23, 22, 25, 26, 29, 33, 37, 36, 35, 39, 43, 44, 43, 48, 47, 53, 54, 55, 54, 53, 54, 53, 54, 55, 59, 60, 61, 62, 67, 68, 70, 71, 72, 73, 72, 73, 74, 75, 74, 73, 74, 73, 74, 77, 78, 83, 84, 85, 86, 85, 86, 87, 88, 89, 90, 91, 92, 93, 94, 93, 92, 93, 94, 93], [0, 0, 1, 3, 4, 5, 6, 7, 8, 9, 13, 12, 13, 14, 13, 12, 13, 12, 13, 14, 15, 16, 17, 16, 17, 16, 15, 16, 15, 16, 17, 18, 19, 20, 21, 22, 23, 24, 25, 26, 25, 24, 23, 25, 24, 23, 22, 24, 23, 22, 21, 20, 19, 23, 24, 25, 26, 27, 28, 29, 30, 31, 32, 31, 32, 33, 32, 31, 34, 35, 37, 38, 44, 45, 46, 47, 48, 49, 50, 51, 50, 51, 52, 53, 52, 53, 54, 53, 54, 53, 56, 57, 58, 60, 62, 63, 62, 61, 62, 61, 60], [0, 1, 2, 1, 2, 3, 2, 1, 2, 3, 6, 7, 8, 9, 10, 11, 10, 11, 12, 13, 14, 13, 14, 15, 16, 17, 20, 19, 20, 19, 18, 17, 16, 17, 18, 19, 20, 21, 27, 30, 31, 30, 29, 30, 36, 37, 38, 39, 40, 39, 40, 39, 38, 37, 38, 37, 38, 39, 38, 37, 36, 37, 38, 39, 38, 39, 40, 41, 42, 43, 42, 41, 42, 43, 44, 48, 47, 48, 49, 50, 49, 50, 51, 50, 51, 55, 56, 57, 56, 57, 58, 59, 60, 61, 62, 65, 66, 67, 68, 69, 70], [0, 1, 2, 3, 4, 3, 4, 5, 6, 5, 4, 6, 7, 6, 7, 6, 7, 6, 7, 8, 7, 6, 12, 13, 14, 15, 14, 15, 14, 18, 17, 16, 18, 19, 18, 20, 21, 20, 24, 25, 26, 25, 26, 32, 31, 32, 33, 34, 33, 32, 31, 30, 29, 30, 29, 30, 35, 36, 37, 36, 35, 36, 40, 39, 38, 41, 42, 41, 40, 41, 42, 48, 49, 48, 49, 48, 47, 46, 52, 51, 52, 51, 50, 49, 50, 51, 50, 51, 52, 53, 59, 58, 57, 58, 64, 65, 66, 65, 64, 66, 67], [0, 0, 1, 2, 3, 2, 3, 4, 5, 6, 11, 12, 13, 14, 19, 18, 17, 18, 17, 18, 22, 23, 24, 23, 24, 23, 22, 26, 27, 26, 27, 31, 32, 33, 32, 33, 34, 33, 32, 37, 38, 37, 38, 37, 38, 37, 39, 38, 37, 36, 39, 40, 41, 40, 39, 40, 39, 40, 41, 40, 41, 45, 48, 47, 48, 47, 46, 47, 46, 45, 44, 45, 44, 45, 44, 45, 46, 47, 48, 47, 48, 49, 48, 47, 46, 45, 46, 45, 44, 45, 46, 45, 46, 45, 46, 47, 53, 58, 64, 65, 66], [0, 0, 0, 1, 2, 3, 2, 3, 5, 6, 7, 10, 11, 12, 11, 12, 13, 14, 17, 18, 17, 16, 15, 16, 17, 18, 17, 16, 17, 16, 17, 18, 19, 18, 19, 20, 21, 22, 23, 22, 26, 32, 31, 30, 31, 32, 35, 34, 35, 39, 40, 41, 40, 41, 42, 43, 42, 41, 47, 46, 49, 50, 51, 52, 53, 52, 53, 54, 55, 54, 55, 54, 55, 56, 57, 58, 57, 56, 57, 56, 57, 58, 59, 58, 59, 60, 62, 68, 69, 68, 70, 71, 70, 71, 75, 74, 73, 74, 75, 74, 75], [0, 1, 0, 1, 2, 1, 3, 4, 5, 4, 5, 6, 10, 11, 12, 11, 10, 9, 8, 7, 8, 9, 10, 11, 10, 11, 14, 13, 12, 16, 17, 18, 19, 20, 19, 18, 19, 20, 21, 22, 28, 29, 28, 29, 30, 31, 30, 31, 32, 33, 37, 38, 39, 38, 39, 40, 39, 44, 45, 46, 45, 44, 45, 44, 50, 49, 50, 49, 48, 47, 48, 47, 48, 49, 50, 49, 48, 47, 46, 52, 51, 50, 51, 52, 56, 57, 56, 61, 62, 63, 62, 67, 66, 67, 68, 67, 68, 67, 69, 68, 67], [0, 0, 1, 2, 1, 0, 1, 2, 3, 4, 5, 6, 7, 8, 10, 9, 8, 7, 6, 7, 8, 9, 14, 15, 14, 15, 14, 15, 16, 20, 24, 25, 24, 23, 22, 23, 24, 25, 26, 25, 26, 27, 31, 32, 33, 35, 34, 37, 41, 40, 39, 41, 42, 41, 40, 41, 42, 43, 42, 41, 40, 41, 42, 43, 44, 45, 49, 53, 54, 53, 57, 56, 57, 58, 57, 58, 57, 58, 57, 58, 59, 58, 57, 58, 59, 58, 59, 58, 59, 58, 59, 60, 61, 62, 61, 62, 63, 67, 66, 67, 68], [0, 0, 0, 1, 0, 1, 2, 3, 2, 1, 2, 3, 9, 14, 19, 18, 17, 18, 20, 19, 20, 19, 18, 17, 18, 19, 24, 25, 24, 25, 26, 27, 26, 27, 28, 27, 28, 29, 30, 29, 30, 36, 37, 38, 39, 40, 39, 40, 41, 42, 43, 44, 45, 46, 45, 46, 47, 48, 47, 48, 49, 48, 49, 50, 49, 48, 49, 48, 49, 50, 49, 48, 49, 50, 49, 50, 54, 55, 56, 55, 54, 53, 54, 55, 54, 56, 57, 58, 59, 61, 67, 68, 69, 71, 70, 71, 75, 74, 78, 79, 80], [0, 1, 2, 1, 2, 1, 2, 1, 2, 1, 2, 3, 4, 3, 4, 3, 4, 5, 6, 9, 10, 9, 10, 9, 10, 9, 10, 9, 10, 9, 10, 9, 10, 9, 10, 9, 8, 9, 10, 11, 10, 11, 12, 13, 14, 15, 16, 17, 16, 15, 19, 23, 22, 23, 24, 25, 26, 27, 28, 29, 31, 34, 35, 34, 35, 34, 33, 32, 33, 34, 35, 36, 37, 38, 37, 38, 39, 40, 39, 40, 41, 42, 43, 42, 43, 42, 43, 44, 43, 42, 41, 42, 41, 42, 43, 44, 45, 44, 45, 46, 47], [0, 1, 0, 0, 1, 2, 3, 9, 8, 9, 10, 9, 10, 9, 10, 11, 12, 11, 12, 17, 20, 21, 20, 22, 21, 20, 21, 22, 21, 22, 23, 24, 23, 27, 28, 29, 30, 29, 30, 35, 36, 39, 40, 41, 40, 46, 51, 57, 58, 57, 58, 62, 63, 64, 65, 66, 67, 68, 67, 66, 69, 70, 69, 68, 67, 68, 69, 70, 69, 70, 69, 70, 71, 70, 71, 72, 78, 79, 80, 81, 82, 83, 88, 92, 93, 98, 100, 106, 105, 107, 108, 109, 108, 107, 108, 109, 110, 111, 116, 115, 116], [0, 0, 0, 0, 1, 2, 1, 2, 3, 2, 3, 7, 8, 9, 10, 9, 10, 11, 12, 11, 14, 20, 21, 22, 21, 20, 21, 20, 21, 20, 21, 22, 21, 22, 23, 1, 2, 1, 3, 2, 3, 2, 1, 2, 1, 0, 1, 2, 1, 2, 1, 0, 1, 0, 1, 0, 0, 1, 2, 1, 2, 3, 2, 1, 6, 5, 6, 7, 6, 7, 6, 8, 9, 10, 9, 10, 11, 12, 13, 14, 13, 14, 13, 14, 13, 12, 11, 12, 13, 12, 13, 14, 15, 14, 15, 16, 21, 20, 19, 18, 19], [0, 0, 1, 2, 6, 5, 6, 7, 6, 5, 4, 3, 2, 3, 2, 3, 2, 1, 2, 3, 2, 3, 4, 3, 4, 8, 7, 8, 7, 8, 9, 15, 16, 17, 16, 15, 16, 22, 28, 27, 29, 28, 29, 28, 29, 28, 29, 35, 34, 33, 34, 33, 34, 33, 35, 36, 37, 36, 37, 40, 41, 42, 41, 40, 39, 40, 39, 38, 39, 42, 44, 43, 42, 45, 44, 45, 44, 43, 44, 43, 42, 43, 44, 45, 46, 47, 48, 49, 51, 52, 53, 52, 51, 52, 53, 54, 55, 54, 53, 52, 51], [0, 1, 3, 6, 7, 6, 5, 8, 9, 10, 14, 13, 12, 11, 14, 15, 16, 22, 23, 24, 25, 24, 27, 28, 29, 30, 31, 35, 34, 35, 34, 39, 40, 39, 44, 43, 42, 43, 42, 43, 47, 46, 47, 46, 45, 46, 47, 46, 47, 48, 52, 53, 54, 53, 52, 51, 50, 52, 51, 57, 58, 57, 58, 57, 56, 57, 58, 62, 63, 64, 65, 66, 68, 69, 70, 71, 70, 69, 70, 71, 72, 71, 70, 71, 70, 76, 78, 77, 76, 75, 74, 73, 72, 73, 72, 73, 74, 75, 76, 77, 78], [0, 1, 2, 6, 7, 8, 7, 6, 7, 8, 7, 11, 12, 17, 18, 19, 20, 23, 24, 25, 26, 27, 28, 27, 28, 27, 32, 31, 32, 31, 30, 31, 32, 33, 34, 35, 38, 39, 40, 41, 42, 43, 42, 41, 40, 39, 38, 39, 42, 41, 42, 41, 40, 41, 42, 45, 46, 45, 44, 43, 42, 43, 44, 49, 50, 51, 57, 56, 55, 54, 55, 54, 53, 54, 55, 54, 55, 56, 62, 63, 62, 68, 69, 70, 69, 75, 74, 75, 74, 75, 76, 75, 79, 78, 77, 78, 77, 76, 77, 78, 84], [0, 0, 4, 5, 6, 7, 6, 7, 6, 7, 6, 7, 8, 9, 10, 11, 10, 9, 10, 14, 17, 21, 20, 21, 22, 27, 26, 31, 32, 33, 34, 33, 34, 33, 32, 31, 30, 29, 28, 29, 33, 32, 33, 34, 33, 34, 35, 34, 35, 34, 33, 34, 38, 37, 36, 37, 38, 39, 38, 37, 36, 37, 36, 35, 34, 33, 39, 38, 39, 42, 41, 40, 39, 40, 41, 42, 43, 44, 43, 44, 45, 46, 45, 46, 45, 44, 45, 46, 45, 44, 49, 54, 53, 57, 58, 62, 63, 62, 63, 64, 66], [0, 1, 2, 1, 7, 8, 12, 11, 16, 15, 16, 17, 18, 20, 19, 20, 19, 18, 19, 24, 25, 29, 30, 31, 30, 31, 32, 33, 38, 39, 40, 41, 40, 41, 42, 43, 49, 50, 51, 52, 53, 52, 51, 50, 49, 52, 51, 50, 49, 55, 56, 57, 58, 59, 60, 59, 60, 59, 60, 61, 62, 61, 62, 63, 64, 65, 64, 63, 64, 65, 66, 67, 68, 69, 68, 69, 70, 73, 74, 75, 74, 73, 72, 73, 79, 78, 83, 87, 86, 87, 88, 89, 95, 96, 97, 98, 97, 99, 98, 99, 98], [0, 0, 0, 0, 1, 0, 1, 2, 3, 2, 3, 4, 5, 6, 5, 4, 3, 2, 3, 8, 14, 13, 14, 15, 16, 15, 16, 15, 14, 13, 14, 15, 14, 13, 14, 15, 17, 18, 19, 18, 17, 16, 17, 18, 19, 18, 17, 16, 17, 18, 19, 20, 19, 20, 21, 20, 21, 20, 22, 21, 22, 23, 24, 25, 24, 23, 24, 25, 31, 32, 33, 34, 36, 35, 38, 39, 40, 41, 42, 41, 47, 52, 53, 54, 53, 54, 53, 52, 53, 54, 53, 54, 53, 54, 55, 54, 56, 55, 60, 59, 60], [0, 1, 2, 1, 2, 1, 2, 1, 2, 3, 4, 3, 7, 8, 7, 8, 12, 11, 10, 11, 10, 16, 17, 18, 19, 20, 21, 22, 21, 20, 19, 20, 21, 22, 26, 25, 26, 27, 26, 27, 28, 29, 28, 27, 26, 27, 26, 25, 26, 27, 28, 27, 26, 27, 28, 29, 30, 31, 30, 31, 30, 29, 28, 27, 26, 25, 24, 25, 28, 29, 28, 34, 35, 41, 40, 39, 40, 41, 40, 39, 41, 42, 44, 43, 44, 45, 46, 47, 48, 47, 48, 47, 48, 47, 46, 45, 44, 45, 46, 47, 48], [0, 1, 3, 2, 3, 4, 3, 2, 1, 2, 3, 2, 4, 3, 4, 3, 2, 8, 7, 8, 9, 15, 16, 17, 18, 17, 18, 17, 16, 15, 16, 15, 16, 15, 14, 13, 14, 13, 12, 11, 12, 17, 21, 22, 21, 22, 23, 24, 26, 27, 28, 29, 28, 27, 30, 31, 32, 31, 33, 32, 33, 34, 33, 34, 36, 37, 39, 40, 39, 40, 41, 42, 43, 42, 43, 44, 45, 46, 47, 53, 54, 59, 60, 61, 60, 64, 65, 66, 65, 69, 70, 69, 70, 71, 72, 73, 74, 76, 77, 78, 79], [0, 1, 2, 1, 2, 3, 4, 3, 4, 5, 4, 5, 6, 7, 10, 12, 17, 18, 17, 18, 19, 20, 21, 20, 19, 20, 21, 22, 25, 26, 27, 26, 25, 26, 27, 30, 31, 32, 31, 30, 29, 35, 39, 38, 37, 36, 41, 40, 41, 42, 43, 42, 41, 42, 41, 40, 39, 40, 41, 42, 43, 44, 43, 42, 41, 40, 41, 43, 42, 41, 40, 41, 42, 43, 44, 45, 44, 45, 50, 52, 54, 55, 56, 57, 56, 57, 58, 57, 56, 57, 56, 57, 56, 57, 56, 57, 58, 57, 58, 59, 60], [0, 0, 0, 0, 1, 0, 1, 2, 1, 2, 1, 2, 4, 5, 4, 5, 6, 12, 14, 15, 16, 17, 18, 19, 20, 23, 25, 26, 27, 28, 34, 35, 36, 37, 38, 40, 39, 40, 44, 43, 44, 43, 42, 41, 40, 41, 42, 43, 42, 41, 40, 39, 40, 41, 40, 41, 40, 41, 40, 41, 40, 41, 42, 43, 42, 43, 45, 47, 46, 47, 50, 49, 50, 49, 50, 51, 57, 58, 62, 63, 64, 65, 64, 68, 69, 68, 67, 66, 65, 66, 69, 71, 72, 75, 76, 77, 76, 77, 78, 79, 78], [0, 1, 5, 4, 9, 13, 16, 17, 16, 17, 19, 18, 19, 18, 19, 18, 19, 20, 19, 20, 21, 24, 23, 22, 24, 25, 26, 32, 33, 32, 35, 36, 35, 34, 35, 36, 37, 38, 39, 40, 41, 40, 39, 38, 39, 40, 41, 42, 41, 42, 43, 46, 45, 46, 47, 48, 49, 50, 51, 55, 61, 62, 61, 65, 66, 67, 68, 67, 66, 68, 69, 68, 70, 76, 77, 78, 77, 83, 82, 83, 82, 81, 82, 81, 82, 83, 84, 83, 84, 85, 86, 87, 88, 89, 94, 95, 98, 99, 100, 101, 100], [0, 0, 1, 2, 3, 4, 5, 4, 3, 4, 3, 4, 5, 6, 5, 6, 5, 6, 7, 8, 9, 10, 9, 10, 9, 10, 11, 12, 13, 16, 15, 16, 17, 18, 19, 18, 19, 20, 21, 20, 21, 22, 23, 22, 23, 24, 23, 22, 23, 22, 23, 29, 30, 31, 30, 31, 32, 31, 30, 31, 32, 33, 32, 33, 32, 31, 30, 29, 28, 29, 28, 27, 26, 27, 28, 34, 38, 40, 41, 42, 41, 46, 47, 48, 47, 48, 49, 48, 49, 50, 51, 52, 53, 52, 55, 56, 57, 58, 57, 58, 57], [0, 1, 2, 3, 4, 5, 6, 7, 6, 7, 6, 7, 8, 7, 8, 7, 8, 14, 13, 14, 13, 14, 13, 14, 13, 14, 15, 16, 17, 18, 17, 21, 20, 1, 2, 7, 9, 8, 7, 8, 9, 10, 11, 17, 18, 19, 20, 19, 24, 23, 24, 23, 24, 23, 22, 23, 22, 21, 22, 21, 22, 21, 22, 21, 23, 24, 25, 26, 27, 26, 25, 24, 25, 26, 27, 26, 27, 28, 29, 30, 29, 30, 31, 35, 34, 33, 34, 35, 34, 35, 36, 37, 38, 37, 38, 39, 43, 49, 50, 49, 50], [0, 1, 2, 3, 2, 1, 2, 3, 2, 7, 6, 5, 6, 7, 8, 9, 8, 7, 10, 11, 10, 12, 16, 15, 16, 17, 18, 19, 20, 25, 24, 25, 26, 27, 28, 31, 34, 35, 40, 41, 45, 46, 47, 48, 49, 48, 49, 50, 51, 57, 56, 55, 56, 57, 60, 62, 63, 64, 65, 66, 70, 72, 71, 70, 71, 70, 69, 70, 71, 72, 73, 74, 75, 74, 78, 79, 80, 81, 80, 81, 80, 81, 82, 81, 82, 83, 82, 88, 89, 92, 93, 92, 93, 94, 95, 96, 97, 98, 97, 98, 99], [0, 0, 0, 1, 2, 3, 2, 3, 2, 3, 4, 5, 6, 7, 6, 10, 9, 10, 9, 15, 16, 17, 16, 15, 16, 17, 16, 19, 20, 19, 20, 19, 20, 21, 24, 25, 26, 27, 28, 27, 28, 27, 26, 30, 31, 30, 31, 30, 31, 34, 35, 36, 37, 38, 37, 36, 37, 38, 39, 38, 39, 38, 39, 40, 41, 40, 45, 46, 50, 49, 48, 49, 48, 47, 48, 51, 57, 63, 62, 61, 63, 64, 68, 69, 68, 67, 68, 69, 70, 71, 73, 72, 71, 70, 69, 70, 71, 72, 71, 72, 73], [0, 6, 7, 6, 5, 4, 5, 6, 7, 8, 9, 10, 11, 12, 15, 16, 15, 16, 17, 21, 23, 24, 28, 29, 34, 35, 36, 37, 38, 37, 38, 39, 38, 39, 40, 39, 40, 45, 46, 45, 46, 47, 48, 47, 48, 49, 48, 47, 46, 47, 48, 49, 48, 49, 50, 49, 50, 51, 52, 51, 50, 49, 54, 53, 54, 53, 54, 53, 54, 53, 52, 53, 52, 57, 58, 59, 58, 59, 60, 65, 71, 70, 72, 71, 72, 73, 72, 73, 74, 75, 76, 75, 74, 75, 74, 75, 74, 75, 74, 80, 81], [0, 1, 2, 3, 4, 3, 4, 9, 8, 9, 15, 21, 22, 21, 22, 23, 24, 25, 26, 25, 26, 25, 24, 25, 24, 25, 24, 25, 26, 29, 28, 27, 26, 27, 28, 27, 28, 33, 38, 39, 38, 39, 38, 39, 40, 39, 42, 47, 48, 47, 48, 49, 48, 47, 46, 47, 48, 47, 51, 52, 53, 52, 53, 52, 56, 57, 63, 64, 68, 69, 70, 69, 74, 75, 76, 77, 78, 77, 76, 77, 78, 79, 78, 79, 81, 82, 83, 0, 2, 3, 7, 8, 9, 8, 7, 8, 9, 14, 15, 14, 15], [0, 0, 0, 1, 2, 3, 4, 5, 8, 9, 10, 9, 10, 16, 15, 14, 15, 16, 17, 22, 21, 22, 23, 22, 24, 25, 26, 25, 24, 25, 24, 25, 26, 27, 30, 31, 30, 31, 30, 31, 32, 33, 34, 33, 35, 36, 37, 38, 37, 38, 39, 43, 44, 50, 51, 50, 55, 56, 57, 56, 55, 56, 57, 58, 60, 61, 62, 63, 67, 68, 67, 66, 65, 66, 68, 72, 78, 79, 78, 79, 80, 81, 80, 79, 80, 81, 80, 81, 82, 85, 86, 87, 88, 87, 88, 89, 90, 89, 90, 91, 90], [0, 0, 1, 0, 1, 5, 6, 7, 13, 14, 15, 18, 17, 18, 19, 20, 21, 22, 25, 24, 23, 24, 25, 26, 27, 28, 27, 26, 25, 26, 32, 31, 30, 31, 32, 33, 34, 35, 36, 38, 39, 40, 41, 40, 41, 42, 41, 42, 46, 45, 46, 47, 46, 50, 49, 48, 49, 48, 49, 50, 49, 48, 52, 53, 54, 59, 60, 61, 60, 59, 65, 64, 65, 64, 65, 66, 67, 66, 67, 66, 67, 66, 65, 64, 63, 64, 65, 66, 68, 67, 68, 69, 72, 71, 72, 73, 76, 77, 78, 79, 80], [0, 2, 3, 4, 3, 4, 5, 4, 5, 6, 5, 4, 5, 4, 5, 4, 8, 7, 8, 7, 10, 9, 10, 9, 8, 9, 11, 12, 11, 10, 11, 12, 13, 14, 15, 16, 17, 16, 15, 14, 13, 15, 16, 17, 18, 22, 23, 24, 23, 24, 25, 26, 27, 28, 29, 33, 34, 35, 40, 39, 40, 41, 40, 39, 38, 39, 45, 46, 47, 48, 47, 48, 47, 46, 45, 50, 49, 50, 49, 50, 52, 53, 54, 53, 52, 51, 50, 51, 52, 51, 50, 51, 52, 53, 52, 53, 52, 51, 55, 56, 57], [0, 0, 1, 2, 3, 4, 3, 2, 1, 2, 3, 4, 5, 8, 10, 11, 12, 13, 14, 15, 16, 17, 18, 19, 18, 19, 23, 22, 21, 27, 26, 25, 26, 27, 26, 30, 31, 33, 32, 35, 34, 35, 36, 37, 43, 42, 43, 44, 45, 44, 45, 46, 47, 48, 49, 50, 49, 50, 51, 52, 53, 52, 51, 50, 51, 52, 51, 50, 49, 48, 49, 48, 49, 50, 51, 54, 55, 59, 60, 59, 60, 59, 58, 59, 58, 59, 60, 61, 60, 59, 60, 61, 62, 61, 62, 61, 62, 61, 60, 0, 1], [0, 1, 0, 0, 1, 2, 3, 5, 4, 3, 2, 3, 9, 10, 9, 10, 11, 12, 11, 10, 11, 12, 14, 15, 17, 18, 19, 18, 21, 25, 24, 25, 24, 23, 22, 23, 24, 28, 29, 28, 29, 30, 31, 32, 31, 32, 31, 32, 31, 32, 31, 32, 33, 34, 35, 41, 43, 42, 43, 44, 47, 46, 45, 44, 50, 55, 56, 55, 58, 57, 61, 62, 63, 64, 65, 64, 66, 65, 66, 67, 68, 69, 70, 71, 72, 71, 70, 69, 74, 75, 76, 77, 78, 79, 80, 79, 78, 79, 80, 83, 84], [0, 1, 0, 0, 1, 0, 5, 6, 5, 6, 7, 8, 9, 10, 11, 12, 13, 17, 16, 17, 16, 15, 14, 16, 18, 17, 19, 20, 21, 20, 21, 20, 21, 25, 26, 27, 28, 30, 31, 32, 33, 34, 35, 34, 35, 40, 41, 44, 43, 49, 55, 54, 55, 56, 58, 59, 65, 66, 65, 66, 67, 68, 67, 68, 69, 70, 76, 75, 76, 75, 74, 78, 77, 76, 75, 74, 73, 72, 73, 74, 73, 72, 73, 72, 73, 74, 75, 76, 77, 78, 79, 80, 81, 82, 83, 84, 83, 82, 81, 82, 81], [0, 1, 0, 0, 1, 2, 3, 4, 3, 2, 3, 6, 8, 9, 15, 16, 17, 18, 19, 18, 17, 18, 19, 18, 19, 18, 19, 18, 19, 20, 19, 18, 17, 18, 17, 16, 15, 14, 13, 14, 15, 19, 18, 17, 18, 19, 18, 17, 18, 17, 18, 19, 23, 28, 27, 28, 32, 37, 36, 35, 37, 36, 41, 42, 43, 44, 43, 42, 43, 44, 45, 46, 47, 48, 49, 48, 49, 50, 49, 50, 51, 50, 49, 51, 52, 51, 52, 53, 57, 58, 57, 58, 63, 62, 63, 64, 65, 71, 75, 76, 75], [0, 1, 2, 8, 7, 8, 9, 8, 7, 8, 7, 8, 9, 8, 1, 2, 1, 2, 5, 6, 5, 6, 7, 6, 11, 12, 13, 12, 13, 12, 13, 14, 13, 14, 15, 14, 13, 14, 13, 12, 13, 19, 20, 21, 22, 23, 22, 23, 22, 21, 22, 23, 26, 25, 26, 27, 28, 27, 28, 34, 35, 34, 33, 32, 38, 37, 38, 40, 41, 45, 49, 50, 51, 54, 55, 56, 57, 58, 64, 63, 64, 63, 64, 68, 69, 73, 74, 75, 76, 77, 82, 83, 84, 89, 90, 91, 92, 91, 90, 89, 90], [0, 0, 0, 0, 0, 0, 1, 0, 1, 0, 1, 2, 3, 4, 5, 4, 5, 6, 5, 4, 5, 4, 3, 8, 7, 8, 9, 8, 7, 8, 9, 10, 11, 12, 13, 18, 17, 18, 17, 18, 17, 16, 17, 22, 21, 20, 19, 18, 17, 16, 17, 18, 19, 18, 17, 18, 19, 25, 26, 25, 27, 28, 29, 30, 36, 40, 41, 44, 45, 44, 43, 44, 45, 46, 45, 46, 45, 46, 47, 46, 45, 44, 45, 44, 43, 44, 45, 48, 47, 46, 45, 46, 47, 46, 47, 50, 51, 50, 51, 50, 51], [0, 1, 2, 1, 2, 3, 2, 3, 4, 5, 6, 7, 8, 9, 10, 11, 12, 13, 12, 14, 13, 14, 15, 14, 13, 18, 23, 24, 25, 26, 27, 28, 27, 28, 27, 28, 30, 36, 37, 41, 42, 43, 48, 47, 48, 51, 57, 58, 62, 61, 62, 68, 67, 66, 67, 66, 69, 73, 74, 75, 74, 75, 74, 73, 74, 75, 76, 79, 80, 81, 83, 82, 83, 82, 83, 82, 83, 82, 81, 82, 85, 86, 87, 88, 93, 95, 94, 97, 98, 0, 1, 2, 1, 2, 3, 4, 5, 10, 9, 14, 19], [0, 1, 4, 5, 4, 3, 4, 5, 4, 5, 4, 8, 7, 6, 5, 6, 5, 9, 10, 9, 10, 12, 11, 12, 11, 13, 19, 20, 25, 30, 31, 32, 37, 36, 37, 38, 37, 36, 35, 40, 41, 42, 43, 48, 49, 48, 49, 50, 51, 52, 53, 52, 53, 52, 53, 52, 51, 52, 56, 57, 58, 57, 58, 59, 58, 61, 63, 62, 61, 60, 59, 58, 59, 60, 59, 58, 57, 56, 57, 56, 57, 56, 57, 56, 57, 58, 59, 60, 65, 66, 65, 66, 71, 73, 74, 75, 74, 75, 76, 77, 78], [0, 1, 2, 3, 2, 3, 4, 3, 2, 1, 7, 13, 12, 11, 12, 13, 12, 11, 10, 14, 15, 14, 15, 14, 18, 19, 22, 21, 20, 19, 20, 21, 22, 21, 20, 21, 20, 19, 18, 19, 18, 23, 24, 25, 31, 32, 33, 32, 33, 39, 40, 41, 40, 39, 40, 41, 42, 41, 42, 43, 42, 43, 42, 43, 44, 43, 44, 43, 44, 45, 46, 45, 50, 51, 52, 53, 54, 57, 58, 59, 60, 63, 68, 69, 68, 69, 73, 77, 76, 78, 77, 83, 84, 85, 86, 85, 84, 85, 86, 85, 84], [0, 1, 2, 3, 4, 3, 4, 6, 8, 9, 10, 12, 11, 12, 13, 14, 13, 12, 11, 12, 13, 16, 17, 18, 17, 18, 19, 18, 17, 18, 19, 18, 19, 18, 19, 18, 17, 18, 19, 20, 21, 22, 23, 24, 25, 24, 28, 29, 28, 29, 30, 31, 30, 31, 30, 31, 32, 37, 36, 40, 41, 42, 43, 42, 43, 42, 44, 45, 46, 47, 48, 47, 48, 49, 50, 51, 50, 51, 52, 51, 52, 53, 54, 53, 54, 55, 54, 60, 61, 62, 61, 60, 61, 60, 59, 60, 59, 65, 66, 65, 64], [0, 1, 2, 3, 2, 3, 2, 6, 7, 8, 9, 8, 9, 11, 12, 13, 18, 19, 20, 21, 22, 23, 26, 25, 24, 25, 24, 25, 29, 30, 29, 30, 31, 34, 37, 38, 43, 44, 43, 44, 48, 52, 58, 59, 60, 64, 63, 64, 63, 64, 63, 64, 63, 64, 65, 66, 65, 66, 67, 66, 67, 68, 69, 75, 76, 77, 78, 77, 78, 77, 78, 79, 80, 79, 80, 81, 80, 81, 82, 83, 84, 85, 86, 87, 88, 89, 88, 89, 90, 91, 92, 98, 99, 100, 99, 100, 101, 100, 101, 102, 103], [0, 4, 3, 9, 10, 16, 17, 16, 17, 18, 19, 20, 19, 18, 17, 20, 19, 18, 24, 25, 24, 25, 24, 27, 26, 30, 31, 30, 31, 33, 34, 35, 34, 33, 32, 31, 32, 31, 30, 31, 32, 31, 30, 36, 37, 39, 40, 39, 40, 41, 42, 44, 45, 46, 45, 46, 47, 46, 47, 48, 47, 48, 47, 48, 49, 48, 49, 48, 47, 49, 50, 49, 50, 49, 48, 51, 52, 51, 53, 54, 55, 56, 57, 58, 59, 58, 59, 58, 59, 58, 59, 60, 59, 58, 57, 58, 59, 60, 61, 60, 62], [0, 1, 6, 7, 8, 9, 0, 4, 5, 6, 5, 4, 5, 4, 5, 4, 5, 1, 4, 5, 6, 5, 6, 7, 10, 11, 10, 11, 10, 9, 10, 11, 12, 13, 14, 13, 12, 13, 14, 15, 16, 20, 19, 18, 17, 16, 17, 16, 15, 16, 19, 20, 23, 22, 24, 26, 25, 26, 27, 28, 29, 30, 36, 37, 38, 39, 45, 46, 47, 49, 50, 51, 50, 51, 50, 51, 50, 51, 50, 51, 52, 53, 52, 53, 57, 58, 59, 60, 62, 61, 60, 61, 62, 63, 62, 67, 68, 74, 73, 76, 77], [0, 1, 6, 7, 8, 9, 10, 9, 10, 9, 8, 7, 6, 5, 4, 3, 7, 8, 7, 8, 9, 10, 9, 8, 9, 8, 9, 8, 7, 6, 7, 8, 9, 10, 11, 12, 13, 14, 13, 12, 14, 15, 14, 15, 19, 18, 20, 25, 26, 27, 28, 33, 32, 33, 34, 35, 37, 38, 39, 40, 41, 46, 47, 46, 50, 49, 48, 49, 50, 49, 48, 49, 50, 51, 55, 54, 55, 54, 55, 56, 57, 58, 59, 60, 63, 62, 67, 66, 65, 66, 67, 68, 69, 70, 71, 72, 73, 72, 71, 72, 73], [0, 1, 0, 1, 2, 3, 2, 6, 7, 6, 5, 6, 5, 4, 3, 4, 3, 2, 3, 2, 3, 2, 3, 4, 5, 4, 3, 4, 5, 6, 11, 12, 11, 12, 15, 16, 17, 18, 24, 23, 24, 25, 26, 25, 24, 27, 29, 28, 34, 39, 40, 41, 40, 43, 48, 47, 48, 49, 50, 51, 50, 49, 48, 49, 48, 51, 52, 51, 52, 53, 54, 55, 56, 55, 54, 55, 56, 55, 56, 57, 62, 61, 62, 61, 60, 61, 62, 63, 64, 65, 66, 65, 66, 65, 69, 68, 67, 66, 65, 66, 67], [0, 1, 2, 3, 4, 5, 6, 7, 8, 7, 6, 7, 10, 9, 10, 9, 10, 9, 8, 9, 10, 11, 12, 11, 12, 11, 12, 17, 16, 17, 16, 17, 23, 22, 23, 24, 23, 22, 21, 20, 26, 29, 28, 31, 36, 37, 38, 39, 40, 41, 42, 41, 42, 43, 44, 43, 45, 46, 45, 44, 43, 44, 46, 47, 51, 52, 53, 54, 53, 54, 55, 54, 55, 56, 55, 56, 57, 56, 57, 56, 57, 58, 62, 61, 63, 64, 67, 70, 71, 72, 71, 70, 71, 72, 71, 70, 71, 70, 71, 72, 76], [0, 5, 6, 5, 6, 7, 12, 11, 12, 13, 16, 17, 20, 21, 25, 24, 25, 31, 32, 31, 32, 31, 32, 33, 32, 33, 32, 31, 32, 33, 32, 33, 32, 31, 32, 31, 30, 29, 30, 31, 33, 34, 35, 39, 40, 39, 40, 41, 42, 41, 42, 41, 42, 43, 47, 48, 49, 50, 49, 48, 47, 48, 47, 48, 47, 48, 49, 50, 55, 54, 55, 56, 57, 58, 59, 60, 59, 58, 57, 62, 63, 67, 66, 65, 64, 63, 64, 63, 64, 68, 69, 68, 69, 68, 67, 69, 68, 69, 70, 71, 70], [0, 0, 1, 6, 12, 11, 12, 13, 15, 16, 21, 20, 25, 26, 27, 28, 27, 28, 31, 32, 33, 34, 33, 34, 35, 36, 35, 36, 37, 39, 40, 41, 42, 41, 40, 39, 38, 39, 38, 39, 40, 39, 40, 41, 42, 41, 42, 43, 42, 43, 42, 43, 44, 45, 50, 51, 52, 53, 52, 51, 50, 49, 50, 49, 50, 49, 50, 54, 53, 52, 51, 52, 53, 54, 53, 54, 53, 54, 55, 57, 58, 57, 58, 59, 58, 57, 58, 57, 56, 57, 58, 59, 60, 65, 66, 67, 68, 69, 68, 67, 70], [0, 1, 2, 3, 4, 5, 6, 7, 8, 7, 8, 7, 6, 7, 9, 10, 9, 15, 16, 17, 16, 17, 16, 17, 16, 21, 20, 21, 22, 25, 26, 27, 28, 27, 26, 27, 28, 29, 28, 29, 30, 31, 32, 31, 34, 33, 34, 33, 34, 35, 34, 35, 36, 37, 39, 40, 39, 40, 39, 40, 39, 40, 39, 40, 39, 40, 44, 43, 44, 43, 44, 45, 47, 46, 45, 46, 47, 46, 47, 48, 47, 46, 47, 48, 49, 52, 51, 50, 55, 61, 62, 61, 60, 59, 58, 59, 58, 59, 60, 59, 60], [0, 0, 1, 2, 3, 2, 1, 2, 3, 5, 4, 5, 4, 5, 6, 7, 11, 12, 13, 12, 11, 10, 11, 10, 11, 12, 13, 15, 21, 20, 21, 22, 21, 22, 23, 24, 25, 26, 27, 26, 27, 26, 27, 28, 29, 30, 31, 30, 29, 30, 29, 30, 31, 30, 34, 33, 32, 31, 32, 33, 34, 35, 36, 37, 42, 43, 44, 43, 42, 41, 40, 41, 42, 43, 44, 43, 42, 43, 46, 52, 53, 54, 55, 54, 55, 61, 62, 63, 64, 65, 66, 67, 68, 67, 68, 74, 76, 75, 76, 77, 81], [0, 1, 0, 1, 2, 3, 7, 6, 5, 6, 5, 6, 5, 6, 5, 6, 7, 8, 7, 8, 12, 13, 19, 20, 21, 20, 21, 22, 26, 25, 29, 30, 31, 30, 29, 30, 31, 32, 33, 32, 33, 34, 35, 36, 37, 36, 37, 36, 41, 40, 39, 38, 43, 44, 46, 47, 53, 54, 55, 58, 62, 63, 62, 63, 64, 65, 66, 65, 66, 65, 64, 63, 64, 65, 67, 68, 67, 66, 67, 70, 75, 76, 77, 78, 83, 84, 83, 82, 81, 82, 81, 82, 83, 84, 83, 87, 86, 85, 84, 89, 90], [0, 1, 2, 3, 4, 3, 4, 3, 2, 3, 2, 3, 4, 5, 4, 5, 4, 6, 7, 8, 9, 14, 13, 12, 11, 10, 9, 10, 11, 10, 9, 10, 9, 10, 9, 8, 9, 8, 9, 10, 9, 10, 11, 10, 11, 12, 13, 12, 11, 17, 23, 24, 25, 24, 25, 26, 27, 26, 25, 26, 25, 26, 27, 28, 34, 35, 34, 35, 34, 35, 36, 37, 38, 37, 36, 37, 36, 35, 34, 35, 36, 35, 34, 35, 36, 35, 36, 35, 36, 37, 38, 39, 38, 39, 38, 39, 40, 39, 40, 39, 40], [0, 1, 0, 1, 2, 1, 0, 1, 2, 3, 4, 3, 2, 3, 2, 5, 6, 7, 8, 7, 8, 9, 11, 15, 16, 17, 18, 19, 18, 19, 18, 19, 18, 23, 22, 21, 22, 21, 22, 23, 24, 23, 24, 26, 27, 28, 29, 30, 29, 28, 27, 28, 29, 32, 31, 37, 38, 42, 41, 40, 39, 40, 39, 38, 39, 40, 41, 42, 43, 45, 46, 47, 48, 47, 48, 49, 50, 51, 52, 51, 52, 53, 54, 55, 56, 55, 56, 57, 58, 59, 62, 61, 62, 61, 60, 59, 60, 59, 58, 59, 58], [0, 0, 5, 8, 9, 8, 9, 8, 9, 8, 7, 8, 7, 8, 7, 8, 9, 10, 15, 21, 22, 21, 22, 23, 22, 24, 23, 22, 23, 22, 21, 22, 23, 24, 25, 29, 33, 34, 35, 34, 35, 36, 35, 36, 37, 38, 37, 38, 39, 40, 42, 43, 44, 45, 46, 45, 46, 47, 48, 49, 48, 49, 54, 55, 56, 55, 56, 61, 62, 61, 60, 61, 62, 63, 64, 65, 67, 68, 69, 70, 71, 70, 71, 72, 73, 79, 80, 79, 80, 79, 78, 79, 80, 81, 82, 81, 82, 81, 82, 83, 84], [0, 6, 7, 8, 9, 10, 11, 12, 11, 10, 11, 12, 13, 14, 15, 18, 20, 19, 18, 17, 16, 15, 16, 15, 16, 17, 16, 17, 18, 19, 18, 19, 23, 24, 23, 24, 25, 24, 25, 26, 25, 26, 25, 26, 27, 26, 25, 30, 29, 30, 31, 30, 29, 30, 31, 32, 33, 32, 31, 32, 33, 34, 35, 36, 35, 36, 37, 36, 35, 37, 42, 47, 46, 47, 48, 47, 52, 53, 52, 51, 50, 51, 50, 49, 50, 56, 55, 56, 55, 54, 55, 56, 57, 58, 57, 56, 57, 56, 57, 58, 57], [0, 2, 3, 4, 5, 4, 8, 9, 10, 9, 8, 9, 14, 13, 14, 13, 14, 15, 21, 22, 23, 24, 25, 26, 27, 28, 29, 28, 30, 32, 33, 34, 35, 34, 35, 36, 35, 36, 37, 36, 37, 38, 40, 39, 38, 43, 45, 46, 47, 52, 53, 54, 57, 58, 59, 60, 59, 60, 64, 65, 68, 67, 68, 69, 70, 75, 74, 73, 72, 75, 74, 73, 74, 75, 74, 73, 72, 71, 72, 73, 72, 73, 72, 73, 72, 73, 72, 74, 80, 81, 82, 83, 84, 83, 82, 83, 84, 90, 91, 92, 93], [0, 1, 0, 1, 0, 1, 2, 3, 4, 5, 6, 7, 8, 9, 10, 14, 15, 14, 15, 14, 13, 14, 15, 14, 15, 14, 13, 14, 13, 18, 17, 21, 22, 23, 24, 25, 26, 27, 28, 30, 31, 35, 34, 35, 34, 33, 34, 35, 36, 37, 38, 42, 41, 40, 39, 40, 39, 40, 39, 40, 44, 46, 45, 47, 46, 47, 48, 49, 50, 51, 52, 53, 54, 55, 56, 57, 58, 59, 60, 62, 63, 62, 61, 66, 67, 72, 73, 72, 73, 72, 73, 72, 71, 70, 69, 68, 69, 70, 71, 72, 71], [0, 0, 0, 0, 1, 2, 3, 2, 3, 4, 5, 8, 7, 8, 9, 8, 7, 8, 7, 12, 13, 12, 11, 10, 11, 10, 11, 10, 11, 10, 9, 10, 9, 10, 11, 10, 11, 12, 18, 19, 20, 19, 20, 21, 22, 28, 33, 32, 31, 32, 33, 34, 35, 36, 37, 38, 39, 40, 39, 40, 46, 47, 48, 49, 50, 49, 48, 49, 50, 51, 52, 55, 57, 58, 59, 60, 59, 60, 66, 65, 66, 65, 66, 67, 68, 67, 66, 67, 68, 69, 70, 69, 70, 71, 74, 75, 76, 77, 76, 75, 76], [0, 0, 0, 3, 4, 5, 6, 7, 8, 9, 10, 11, 10, 11, 17, 16, 15, 16, 17, 18, 19, 18, 19, 22, 23, 24, 25, 26, 25, 26, 27, 28, 27, 28, 29, 30, 31, 30, 31, 32, 33, 32, 35, 36, 35, 36, 35, 34, 35, 36, 37, 38, 39, 40, 39, 40, 41, 42, 41, 42, 43, 44, 47, 46, 47, 46, 47, 48, 47, 53, 54, 55, 54, 55, 56, 55, 57, 56, 55, 54, 55, 56, 57, 56, 57, 58, 63, 64, 63, 64, 69, 70, 71, 72, 71, 75, 74, 76, 77, 78, 77], [0, 1, 0, 1, 0, 1, 0, 3, 4, 3, 2, 3, 9, 8, 13, 12, 15, 16, 15, 16, 15, 16, 17, 18, 19, 20, 21, 22, 23, 29, 30, 29, 30, 31, 32, 35, 36, 35, 34, 35, 36, 35, 36, 35, 36, 37, 38, 39, 40, 39, 38, 39, 40, 41, 40, 41, 43, 47, 48, 49, 48, 49, 51, 56, 55, 56, 57, 58, 59, 60, 61, 62, 63, 64, 65, 64, 63, 62, 63, 64, 63, 62, 61, 60, 64, 65, 66, 67, 66, 65, 66, 65, 64, 65, 64, 63, 62, 63, 64, 63, 65], [0, 4, 5, 11, 15, 14, 17, 18, 17, 18, 19, 23, 22, 21, 23, 24, 30, 31, 32, 33, 39, 38, 39, 40, 41, 42, 43, 42, 46, 45, 46, 47, 48, 49, 51, 52, 51, 52, 51, 50, 51, 52, 53, 55, 56, 57, 56, 59, 60, 59, 58, 57, 56, 57, 58, 57, 58, 57, 63, 64, 63, 62, 61, 60, 59, 64, 65, 64, 63, 62, 61, 67, 71, 72, 71, 70, 71, 72, 73, 74, 75, 76, 77, 78, 77, 76, 77, 76, 77, 78, 79, 80, 81, 82, 81, 80, 81, 82, 81, 82, 83], [0, 1, 6, 9, 10, 11, 10, 9, 10, 9, 14, 15, 14, 15, 17, 16, 19, 21, 20, 21, 22, 26, 27, 28, 29, 28, 29, 33, 32, 31, 32, 31, 30, 29, 30, 29, 28, 29, 28, 27, 28, 29, 30, 31, 32, 33, 34, 35, 34, 35, 36, 37, 36, 37, 36, 35, 36, 37, 36, 41, 40, 39, 38, 42, 41, 42, 41, 42, 41, 40, 39, 40, 41, 42, 43, 42, 41, 42, 48, 49, 50, 49, 48, 47, 48, 50, 51, 57, 56, 55, 56, 57, 58, 57, 58, 59, 60, 61, 60, 61, 60], [0, 6, 12, 13, 12, 13, 12, 13, 14, 15, 16, 17, 18, 19, 25, 26, 27, 26, 27, 26, 27, 28, 29, 31, 32, 31, 32, 33, 32, 33, 34, 33, 34, 35, 36, 37, 36, 37, 36, 38, 37, 38, 39, 38, 39, 44, 45, 44, 43, 42, 41, 43, 44, 43, 44, 45, 46, 47, 48, 47, 48, 47, 46, 45, 46, 48, 47, 48, 49, 50, 55, 54, 53, 54, 55, 54, 55, 54, 53, 52, 51, 52, 53, 54, 53, 54, 55, 56, 57, 62, 67, 68, 71, 72, 73, 72, 73, 74, 75, 76, 77], [0, 1, 0, 0, 1, 2, 5, 8, 9, 12, 13, 14, 13, 14, 15, 14, 16, 15, 21, 23, 29, 28, 27, 28, 29, 30, 31, 32, 33, 32, 31, 30, 31, 30, 29, 34, 33, 34, 35, 38, 39, 40, 41, 42, 41, 42, 46, 47, 48, 50, 49, 48, 49, 48, 54, 55, 56, 57, 56, 57, 62, 61, 66, 65, 64, 65, 66, 67, 66, 67, 70, 73, 79, 80, 79, 78, 77, 78, 83, 84, 85, 84, 85, 86, 87, 88, 87, 88, 87, 88, 89, 90, 91, 92, 93, 94, 95, 94, 95, 101, 100], [0, 0, 1, 2, 3, 4, 3, 4, 5, 8, 9, 10, 13, 14, 15, 16, 19, 23, 27, 28, 27, 26, 27, 26, 27, 33, 32, 33, 34, 36, 35, 36, 37, 36, 37, 38, 39, 40, 39, 38, 39, 40, 39, 43, 47, 48, 49, 1, 2, 3, 4, 7, 8, 9, 10, 11, 12, 13, 16, 15, 17, 18, 17, 18, 17, 16, 15, 14, 15, 14, 15, 16, 15, 16, 15, 14, 15, 16, 19, 23, 22, 27, 31, 30, 35, 34, 35, 36, 37, 38, 37, 36, 37, 40, 45, 46, 47, 48, 50, 56, 57], [0, 1, 2, 1, 0, 0, 0, 2, 3, 2, 1, 0, 1, 2, 8, 7, 8, 7, 8, 7, 6, 7, 6, 5, 4, 5, 6, 7, 8, 7, 6, 5, 9, 10, 11, 12, 18, 19, 20, 19, 20, 19, 18, 17, 16, 15, 14, 13, 14, 15, 16, 17, 18, 19, 18, 19, 24, 23, 24, 23, 24, 25, 26, 30, 31, 32, 33, 32, 31, 30, 29, 28, 33, 37, 36, 35, 34, 33, 34, 35, 36, 37, 38, 39, 40, 41, 40, 39, 38, 37, 38, 39, 40, 39, 41, 42, 41, 42, 43, 42, 41], [0, 3, 2, 3, 6, 7, 6, 7, 8, 7, 6, 7, 8, 9, 10, 11, 14, 18, 19, 20, 23, 22, 23, 24, 25, 30, 29, 28, 29, 28, 29, 30, 31, 30, 31, 30, 34, 33, 32, 33, 32, 34, 35, 36, 35, 34, 37, 36, 37, 38, 37, 36, 37, 38, 39, 40, 44, 45, 44, 45, 46, 47, 46, 47, 48, 47, 51, 50, 53, 58, 57, 59, 60, 61, 62, 61, 62, 63, 62, 63, 62, 61, 60, 59, 60, 66, 65, 64, 65, 68, 67, 68, 67, 66, 67, 73, 72, 71, 74, 75, 74], [0, 4, 3, 4, 5, 6, 5, 6, 5, 6, 7, 8, 9, 10, 9, 8, 7, 8, 7, 8, 9, 10, 9, 10, 11, 12, 13, 12, 11, 10, 11, 12, 13, 18, 23, 24, 28, 29, 28, 31, 30, 31, 30, 29, 28, 29, 28, 27, 28, 27, 28, 29, 30, 35, 40, 41, 47, 48, 53, 56, 55, 61, 62, 63, 64, 65, 64, 63, 65, 66, 67, 68, 67, 68, 69, 70, 71, 72, 71, 72, 71, 70, 71, 72, 78, 79, 80, 79, 80, 81, 82, 83, 82, 83, 86, 87, 88, 89, 90, 91, 92], [0, 2, 7, 6, 7, 8, 11, 12, 13, 12, 11, 16, 17, 20, 21, 23, 24, 29, 28, 29, 30, 31, 30, 31, 37, 36, 35, 36, 40, 39, 40, 41, 44, 45, 46, 45, 46, 47, 46, 47, 48, 49, 48, 47, 48, 49, 48, 54, 53, 52, 53, 52, 53, 52, 51, 52, 51, 56, 57, 56, 57, 59, 60, 61, 60, 61, 60, 61, 62, 61, 62, 61, 62, 63, 64, 65, 66, 68, 69, 70, 71, 72, 73, 72, 71, 72, 73, 74, 75, 76, 77, 76, 75, 76, 77, 76, 77, 78, 77, 78, 79], [0, 1, 2, 3, 2, 3, 4, 5, 8, 9, 10, 11, 12, 13, 12, 11, 12, 13, 14, 13, 14, 15, 16, 18, 19, 20, 25, 26, 27, 26, 32, 38, 39, 40, 39, 40, 39, 38, 39, 44, 45, 44, 43, 44, 45, 44, 43, 44, 45, 44, 43, 44, 48, 49, 50, 51, 50, 49, 50, 51, 56, 55, 56, 57, 63, 64, 65, 66, 67, 68, 69, 70, 71, 70, 71, 70, 69, 68, 67, 68, 69, 70, 71, 75, 76, 75, 76, 77, 78, 79, 80, 81, 82, 83, 82, 81, 85, 91, 90, 91, 92], [0, 0, 1, 4, 3, 4, 5, 4, 5, 6, 5, 6, 7, 8, 7, 6, 7, 6, 7, 6, 8, 9, 8, 7, 6, 7, 13, 12, 13, 14, 15, 16, 15, 14, 15, 14, 17, 16, 17, 18, 17, 16, 15, 16, 15, 16, 15, 16, 15, 16, 17, 18, 19, 18, 19, 21, 22, 23, 22, 26, 25, 24, 25, 24, 23, 22, 23, 24, 25, 24, 25, 24, 25, 26, 25, 31, 32, 38, 39, 40, 46, 45, 44, 45, 48, 47, 46, 47, 48, 47, 46, 45, 46, 47, 48, 49, 54, 55, 56, 57, 56], [0, 1, 0, 1, 0, 1, 2, 3, 2, 1, 4, 3, 2, 3, 2, 7, 6, 12, 13, 14, 15, 16, 17, 18, 19, 18, 19, 20, 21, 20, 21, 22, 23, 22, 21, 20, 19, 20, 25, 28, 31, 32, 33, 32, 33, 34, 33, 32, 33, 32, 33, 34, 35, 34, 35, 36, 37, 38, 37, 36, 37, 36, 37, 38, 37, 36, 37, 38, 37, 36, 37, 38, 39, 40, 41, 40, 41, 42, 41, 42, 41, 42, 41, 42, 43, 46, 45, 46, 45, 50, 51, 50, 49, 50, 51, 50, 49, 48, 47, 46, 45], [0, 1, 0, 2, 1, 2, 3, 4, 5, 6, 7, 8, 9, 8, 9, 10, 9, 10, 11, 10, 16, 17, 16, 15, 20, 19, 20, 21, 20, 21, 22, 21, 22, 23, 24, 23, 28, 29, 28, 29, 33, 37, 38, 39, 38, 40, 41, 42, 43, 1, 2, 7, 8, 9, 10, 11, 10, 11, 15, 14, 15, 16, 17, 16, 17, 18, 17, 18, 19, 20, 19, 23, 22, 21, 22, 23, 22, 23, 24, 30, 35, 36, 37, 36, 35, 34, 33, 34, 33, 34, 35, 36, 37, 36, 41, 42, 41, 42, 41, 42, 43], [0, 1, 2, 1, 2, 1, 2, 8, 9, 10, 11, 10, 11, 12, 15, 20, 21, 22, 27, 32, 31, 32, 31, 35, 34, 33, 32, 33, 34, 33, 32, 33, 34, 33, 38, 37, 38, 39, 38, 39, 40, 41, 42, 41, 40, 39, 38, 39, 38, 37, 36, 35, 36, 37, 38, 39, 38, 39, 44, 45, 46, 47, 48, 49, 48, 49, 50, 51, 50, 49, 50, 56, 57, 60, 59, 60, 61, 60, 59, 58, 59, 60, 59, 60, 59, 58, 59, 61, 60, 59, 60, 59, 58, 59, 60, 61, 60, 64, 63, 64, 65], [0, 1, 2, 3, 4, 5, 6, 5, 6, 7, 8, 9, 8, 13, 17, 16, 15, 14, 13, 12, 11, 12, 11, 10, 9, 8, 9, 10, 9, 10, 11, 12, 11, 15, 16, 21, 22, 21, 22, 23, 24, 23, 22, 21, 20, 21, 24, 27, 30, 36, 37, 38, 37, 38, 37, 36, 35, 36, 39, 40, 41, 42, 41, 42, 43, 44, 45, 44, 45, 46, 45, 44, 49, 50, 49, 48, 47, 48, 47, 48, 49, 50, 51, 50, 51, 50, 49, 48, 47, 49, 50, 51, 52, 53, 54, 53, 52, 53, 52, 51, 50], [0, 1, 2, 1, 0, 0, 1, 3, 4, 7, 8, 7, 6, 5, 7, 8, 14, 15, 14, 13, 12, 13, 17, 18, 19, 20, 19, 21, 22, 21, 22, 21, 22, 28, 29, 30, 31, 30, 31, 30, 35, 36, 37, 38, 39, 44, 45, 44, 43, 44, 43, 44, 45, 46, 47, 50, 49, 50, 51, 50, 49, 48, 49, 50, 51, 52, 53, 56, 55, 56, 57, 58, 59, 60, 61, 60, 61, 62, 65, 66, 68, 69, 68, 67, 68, 67, 72, 73, 74, 75, 76, 78, 80, 81, 85, 84, 85, 86, 87, 89, 90], [0, 2, 3, 2, 1, 2, 1, 0, 1, 2, 3, 4, 5, 7, 6, 5, 6, 5, 6, 5, 4, 3, 2, 3, 2, 3, 4, 5, 6, 7, 8, 7, 8, 7, 8, 11, 12, 13, 14, 13, 12, 13, 14, 18, 19, 25, 27, 28, 29, 31, 32, 33, 36, 37, 38, 39, 42, 43, 44, 45, 46, 51, 52, 53, 52, 51, 52, 51, 52, 53, 54, 55, 54, 53, 52, 51, 52, 51, 50, 49, 50, 51, 50, 49, 50, 51, 52, 51, 52, 53, 54, 55, 56, 57, 58, 59, 60, 61, 60, 61, 60], [0, 1, 2, 3, 7, 8, 11, 12, 11, 17, 23, 24, 25, 26, 27, 26, 29, 33, 36, 35, 36, 35, 39, 38, 37, 39, 40, 41, 40, 41, 40, 39, 40, 41, 42, 41, 42, 43, 44, 45, 46, 47, 46, 47, 46, 47, 48, 49, 48, 49, 50, 49, 50, 51, 50, 51, 54, 55, 57, 58, 57, 58, 59, 62, 65, 66, 67, 68, 67, 69, 70, 74, 73, 74, 75, 76, 77, 83, 82, 88, 87, 86, 91, 92, 93, 92, 93, 92, 93, 94, 93, 94, 93, 94, 93, 94, 95, 96, 97, 98, 97], [0, 1, 2, 3, 4, 3, 2, 3, 4, 5, 6, 5, 4, 3, 4, 3, 2, 1, 4, 5, 6, 5, 6, 7, 6, 7, 8, 9, 10, 16, 17, 16, 17, 16, 15, 16, 17, 19, 18, 22, 21, 22, 21, 22, 21, 22, 23, 24, 23, 22, 21, 22, 21, 22, 23, 22, 28, 33, 34, 38, 39, 40, 39, 40, 41, 42, 43, 42, 43, 48, 47, 48, 53, 54, 53, 54, 55, 54, 55, 54, 55, 56, 55, 54, 53, 54, 55, 56, 57, 56, 57, 56, 57, 56, 57, 56, 57, 58, 59, 60, 59], [0, 0, 1, 2, 3, 2, 3, 2, 3, 7, 11, 16, 17, 18, 17, 18, 19, 23, 22, 23, 22, 25, 24, 25, 24, 25, 26, 30, 29, 30, 29, 31, 32, 33, 34, 33, 32, 31, 32, 37, 39, 40, 39, 40, 41, 40, 45, 46, 47, 48, 49, 50, 51, 54, 55, 56, 57, 58, 59, 58, 59, 60, 61, 62, 61, 67, 66, 72, 71, 75, 76, 77, 78, 79, 80, 81, 82, 84, 85, 86, 87, 88, 89, 90, 91, 90, 91, 92, 91, 90, 91, 90, 91, 92, 91, 92, 93, 94, 95, 96, 98], [0, 2, 8, 9, 10, 9, 10, 9, 8, 10, 9, 10, 9, 10, 11, 17, 18, 17, 16, 17, 18, 17, 23, 24, 25, 26, 25, 26, 27, 28, 27, 28, 29, 30, 29, 30, 31, 34, 35, 36, 35, 38, 39, 38, 39, 38, 37, 38, 37, 36, 37, 38, 44, 43, 47, 48, 51, 52, 54, 57, 56, 55, 56, 57, 58, 60, 59, 65, 66, 67, 72, 71, 72, 73, 74, 73, 72, 71, 72, 73, 75, 74, 75, 76, 75, 74, 75, 80, 81, 82, 83, 84, 83, 87, 88, 87, 86, 85, 86, 85, 86], [0, 0, 0, 1, 2, 3, 2, 1, 2, 3, 4, 8, 9, 10, 9, 13, 14, 15, 14, 15, 16, 17, 16, 15, 20, 21, 20, 19, 20, 25, 26, 25, 26, 27, 28, 29, 28, 29, 28, 29, 28, 33, 34, 33, 32, 31, 32, 36, 37, 36, 35, 36, 35, 36, 37, 38, 39, 40, 46, 47, 48, 49, 48, 49, 50, 54, 53, 52, 53, 54, 53, 52, 53, 59, 60, 61, 60, 61, 62, 63, 64, 63, 64, 65, 66, 67, 66, 65, 66, 71, 72, 71, 73, 74, 75, 76, 75, 76, 75, 78, 77], [0, 1, 0, 3, 4, 5, 4, 3, 4, 3, 4, 5, 4, 5, 4, 5, 6, 7, 8, 7, 8, 9, 10, 11, 12, 11, 12, 13, 12, 13, 18, 19, 20, 22, 23, 24, 25, 26, 27, 28, 29, 30, 31, 32, 33, 34, 35, 34, 35, 36, 37, 38, 37, 38, 39, 40, 41, 40, 41, 42, 47, 46, 45, 44, 45, 44, 45, 46, 45, 44, 46, 47, 46, 50, 49, 54, 55, 54, 53, 54, 55, 56, 58, 59, 61, 60, 59, 58, 59, 62, 1, 0, 1, 2, 1, 2, 1, 6, 7, 8, 7], [0, 1, 0, 6, 5, 6, 7, 8, 9, 10, 11, 12, 13, 14, 13, 12, 11, 12, 11, 12, 11, 13, 14, 19, 20, 19, 20, 21, 20, 23, 22, 23, 24, 25, 26, 27, 28, 31, 30, 31, 30, 31, 30, 29, 30, 31, 30, 31, 32, 31, 32, 33, 34, 33, 34, 35, 34, 33, 32, 33, 32, 31, 30, 31, 32, 33, 34, 35, 36, 35, 36, 35, 36, 41, 46, 45, 46, 47, 48, 49, 48, 49, 50, 51, 50, 49, 50, 56, 57, 58, 62, 63, 64, 65, 66, 67, 66, 67, 68, 69, 70], [0, 0, 1, 2, 7, 8, 9, 8, 9, 8, 9, 10, 11, 16, 15, 16, 17, 22, 23, 24, 25, 26, 25, 26, 27, 28, 29, 30, 29, 28, 29, 28, 29, 30, 29, 28, 29, 28, 29, 28, 29, 28, 27, 31, 36, 39, 38, 37, 38, 37, 38, 39, 38, 37, 36, 37, 38, 39, 41, 40, 39, 40, 39, 45, 44, 45, 46, 47, 48, 49, 48, 49, 50, 51, 52, 53, 59, 60, 61, 60, 59, 64, 63, 66, 71, 72, 73, 74, 73, 78, 84, 85, 86, 92, 91, 90, 89, 90, 91, 92, 93], [0, 1, 2, 3, 2, 1, 0, 0, 0, 1, 5, 4, 5, 6, 7, 8, 7, 8, 9, 13, 14, 13, 14, 15, 14, 15, 14, 15, 16, 17, 16, 18, 19, 20, 19, 20, 21, 20, 19, 20, 19, 20, 19, 20, 21, 22, 21, 22, 23, 22, 21, 22, 21, 20, 19, 20, 21, 22, 21, 22, 21, 22, 23, 24, 23, 24, 23, 24, 25, 24, 27, 28, 27, 28, 31, 36, 35, 36, 37, 38, 37, 38, 39, 40, 41, 40, 41, 42, 43, 42, 41, 42, 43, 44, 45, 48, 47, 48, 49, 50, 51], [0, 0, 0, 1, 2, 3, 4, 3, 2, 3, 4, 3, 4, 9, 10, 11, 12, 11, 12, 13, 12, 13, 18, 17, 16, 17, 16, 17, 16, 17, 16, 15, 16, 17, 18, 24, 1, 2, 1, 2, 1, 0, 6, 10, 9, 10, 11, 10, 14, 15, 16, 17, 18, 19, 18, 24, 25, 24, 25, 24, 25, 24, 25, 26, 27, 28, 29, 28, 29, 30, 31, 32, 33, 32, 33, 34, 33, 34, 35, 36, 37, 38, 39, 40, 39, 38, 37, 42, 41, 42, 41, 42, 43, 44, 43, 42, 43, 42, 41, 40, 41], [0, 0, 4, 5, 6, 5, 6, 10, 9, 13, 12, 13, 14, 15, 16, 17, 18, 19, 20, 21, 22, 23, 24, 23, 24, 30, 31, 32, 31, 36, 35, 36, 37, 36, 37, 42, 43, 46, 52, 51, 56, 55, 54, 53, 54, 53, 54, 55, 54, 56, 55, 54, 53, 54, 55, 54, 59, 60, 64, 65, 64, 65, 66, 65, 66, 67, 66, 69, 70, 69, 70, 71, 72, 73, 72, 73, 79, 78, 81, 82, 81, 80, 81, 80, 79, 80, 81, 80, 81, 85, 86, 87, 88, 89, 88, 89, 90, 91, 92, 93, 92], [0, 1, 2, 3, 4, 5, 6, 7, 6, 7, 8, 7, 6, 5, 6, 7, 8, 9, 10, 11, 17, 16, 15, 20, 21, 20, 21, 20, 19, 18, 19, 21, 22, 21, 20, 22, 28, 29, 30, 31, 32, 35, 36, 35, 36, 35, 36, 37, 38, 37, 38, 39, 40, 41, 42, 43, 44, 45, 46, 47, 46, 47, 46, 47, 52, 53, 54, 57, 56, 58, 62, 63, 64, 65, 64, 65, 66, 72, 71, 77, 78, 77, 81, 82, 86, 87, 92, 93, 99, 98, 100, 101, 102, 107, 106, 105, 106, 107, 106, 107, 108], [0, 1, 0, 1, 0, 0, 0, 0, 1, 2, 1, 0, 0, 0, 5, 6, 12, 15, 17, 18, 21, 22, 21, 20, 19, 20, 21, 20, 19, 20, 21, 22, 21, 20, 21, 20, 21, 22, 23, 24, 25, 26, 29, 30, 31, 32, 31, 30, 29, 30, 29, 28, 27, 28, 31, 32, 33, 32, 33, 32, 31, 33, 32, 38, 39, 40, 39, 38, 39, 40, 41, 43, 42, 41, 40, 42, 43, 44, 43, 44, 45, 46, 47, 48, 49, 48, 47, 46, 48, 49, 50, 51, 52, 53, 52, 53, 54, 55, 58, 57, 58], [0, 1, 7, 8, 7, 6, 5, 4, 5, 4, 3, 2, 1, 0, 1, 2, 3, 4, 5, 6, 7, 6, 10, 11, 14, 15, 16, 17, 18, 19, 20, 21, 22, 25, 26, 31, 32, 31, 30, 31, 30, 31, 37, 42, 43, 42, 41, 42, 41, 45, 46, 45, 48, 49, 50, 49, 50, 51, 50, 49, 50, 49, 50, 51, 50, 51, 52, 53, 54, 53, 54, 55, 54, 55, 56, 57, 56, 57, 56, 57, 58, 64, 65, 64, 65, 64, 65, 70, 71, 72, 73, 74, 75, 76, 77, 79, 80, 81, 82, 81, 82], [0, 1, 2, 1, 0, 0, 1, 0, 0, 1, 0, 1, 2, 1, 0, 3, 4, 3, 4, 5, 11, 12, 13, 14, 13, 12, 15, 16, 17, 18, 19, 20, 21, 20, 19, 24, 23, 24, 25, 26, 25, 26, 29, 30, 31, 30, 29, 30, 31, 32, 33, 32, 31, 32, 33, 32, 33, 32, 33, 35, 34, 33, 34, 35, 36, 35, 34, 33, 34, 35, 34, 36, 37, 36, 42, 43, 44, 45, 46, 45, 46, 51, 52, 53, 54, 55, 56, 57, 56, 57, 63, 64, 65, 66, 67, 68, 69, 70, 71, 72, 71], [0, 1, 2, 1, 0, 1, 2, 1, 2, 1, 0, 2, 3, 4, 5, 6, 10, 11, 10, 11, 10, 9, 10, 11, 12, 13, 14, 13, 12, 11, 12, 11, 10, 11, 12, 14, 15, 16, 17, 18, 17, 23, 22, 23, 24, 28, 29, 28, 29, 28, 29, 30, 31, 30, 29, 28, 29, 28, 29, 30, 29, 30, 35, 36, 37, 38, 39, 40, 45, 46, 47, 46, 47, 48, 49, 50, 51, 52, 53, 52, 51, 52, 53, 54, 55, 56, 55, 56, 61, 60, 61, 60, 61, 60, 61, 67, 66, 67, 68, 69, 68], [0, 0, 6, 5, 6, 5, 6, 7, 13, 14, 13, 12, 13, 12, 11, 10, 9, 10, 11, 12, 13, 14, 13, 14, 15, 14, 15, 16, 17, 16, 15, 16, 17, 18, 19, 20, 21, 22, 23, 24, 25, 26, 27, 28, 29, 30, 35, 34, 35, 36, 37, 38, 37, 36, 35, 34, 33, 34, 35, 34, 35, 36, 37, 38, 39, 40, 39, 38, 39, 40, 42, 41, 42, 43, 44, 45, 46, 47, 46, 45, 46, 45, 46, 49, 50, 49, 50, 55, 56, 55, 56, 55, 57, 58, 59, 60, 61, 62, 65, 64, 65], [0, 1, 0, 6, 5, 6, 5, 6, 7, 10, 12, 13, 14, 15, 14, 15, 16, 17, 18, 17, 18, 19, 25, 26, 27, 28, 27, 28, 27, 28, 32, 31, 30, 31, 32, 34, 33, 34, 36, 39, 41, 40, 43, 44, 45, 46, 47, 48, 49, 50, 49, 48, 49, 48, 50, 53, 55, 56, 57, 63, 62, 63, 64, 65, 66, 67, 66, 67, 68, 69, 70, 71, 72, 73, 72, 73, 74, 75, 76, 77, 78, 77, 78, 79, 80, 79, 80, 83, 84, 85, 86, 87, 88, 87, 86, 87, 88, 89, 88, 87, 86], [0, 1, 0, 1, 0, 1, 0, 1, 2, 3, 4, 3, 4, 7, 6, 12, 11, 10, 11, 10, 11, 12, 11, 12, 11, 17, 16, 15, 16, 17, 16, 18, 17, 16, 17, 20, 19, 20, 21, 22, 26, 27, 28, 27, 28, 29, 30, 29, 30, 31, 30, 31, 32, 31, 32, 31, 32, 31, 37, 38, 39, 40, 41, 40, 41, 42, 47, 46, 47, 46, 51, 50, 51, 50, 51, 52, 53, 52, 53, 54, 53, 59, 65, 64, 65, 66, 67, 66, 67, 68, 70, 71, 72, 71, 72, 71, 72, 73, 72, 71, 72], [0, 2, 1, 2, 1, 2, 3, 4, 3, 7, 8, 9, 10, 11, 12, 13, 12, 15, 14, 15, 16, 15, 16, 17, 16, 15, 16, 15, 16, 17, 18, 24, 25, 24, 25, 26, 27, 28, 32, 31, 30, 29, 33, 34, 33, 35, 36, 35, 34, 38, 37, 38, 37, 38, 39, 38, 39, 40, 41, 42, 43, 44, 45, 46, 52, 53, 54, 57, 58, 59, 58, 59, 60, 59, 58, 59, 60, 62, 63, 64, 63, 64, 65, 64, 63, 62, 64, 65, 64, 65, 66, 67, 66, 67, 68, 67, 68, 73, 74, 75, 79], [0, 3, 4, 5, 4, 8, 11, 10, 11, 12, 13, 12, 11, 12, 11, 12, 13, 14, 15, 16, 17, 18, 19, 20, 21, 22, 27, 28, 27, 26, 31, 32, 33, 32, 31, 30, 31, 32, 31, 30, 29, 30, 29, 34, 36, 41, 42, 43, 44, 45, 44, 43, 42, 41, 42, 43, 42, 41, 43, 44, 45, 44, 45, 46, 47, 48, 47, 46, 45, 44, 43, 44, 49, 51, 52, 53, 54, 55, 56, 61, 60, 61, 62, 61, 63, 64, 63, 64, 63, 62, 63, 64, 65, 66, 69, 68, 67, 68, 67, 66, 70], [0, 1, 2, 1, 0, 1, 6, 7, 6, 7, 9, 10, 11, 12, 16, 18, 24, 23, 24, 23, 25, 26, 27, 26, 25, 24, 23, 24, 25, 26, 25, 26, 27, 26, 27, 28, 34, 33, 34, 35, 36, 37, 38, 39, 44, 45, 46, 45, 46, 47, 48, 49, 48, 47, 48, 47, 46, 47, 52, 53, 52, 53, 52, 53, 59, 58, 57, 56, 59, 63, 62, 66, 67, 68, 67, 66, 67, 68, 69, 70, 71, 70, 71, 70, 76, 75, 76, 75, 74, 73, 74, 80, 81, 82, 81, 80, 81, 82, 81, 82, 83], [0, 1, 0, 3, 6, 7, 6, 7, 12, 15, 16, 22, 25, 28, 29, 28, 27, 26, 29, 30, 31, 30, 29, 28, 30, 29, 28, 29, 30, 35, 34, 33, 34, 35, 36, 35, 36, 37, 38, 37, 36, 37, 36, 35, 36, 37, 38, 39, 41, 42, 41, 42, 43, 44, 43, 44, 45, 46, 47, 48, 49, 50, 49, 50, 51, 52, 53, 54, 60, 59, 58, 59, 58, 59, 58, 57, 58, 57, 62, 63, 64, 66, 67, 68, 67, 66, 70, 72, 76, 75, 74, 73, 74, 75, 74, 75, 76, 77, 78, 81, 82], [0, 0, 1, 2, 1, 1, 7, 8, 7, 13, 14, 15, 14, 13, 14, 13, 14, 15, 14, 15, 16, 17, 21, 20, 21, 22, 23, 22, 23, 24, 23, 25, 26, 27, 28, 27, 33, 34, 35, 34, 35, 34, 35, 36, 42, 41, 42, 41, 42, 43, 42, 41, 40, 39, 38, 39, 40, 41, 42, 43, 44, 45, 44, 45, 44, 45, 44, 45, 48, 47, 50, 51, 52, 53, 52, 53, 54, 57, 56, 58, 64, 67, 68, 67, 66, 68, 69, 68, 69, 68, 67, 66, 65, 66, 67, 66, 72, 73, 74, 73, 74], [0, 0, 1, 2, 3, 2, 3, 4, 3, 4, 5, 6, 5, 4, 5, 4, 7, 8, 9, 8, 9, 10, 9, 15, 16, 15, 20, 25, 29, 33, 34, 35, 34, 33, 32, 31, 35, 34, 33, 34, 33, 34, 33, 34, 33, 32, 33, 38, 39, 40, 41, 45, 46, 45, 44, 45, 46, 45, 44, 43, 42, 43, 48, 49, 50, 51, 57, 58, 59, 60, 61, 60, 61, 60, 61, 62, 63, 64, 65, 68, 67, 71, 72, 74, 73, 74, 75, 76, 77, 76, 80, 81, 82, 85, 86, 87, 88, 94, 95, 100, 99], [0, 1, 0, 0, 0, 1, 2, 3, 4, 5, 4, 3, 2, 3, 2, 1, 2, 1, 0, 1, 2, 3, 6, 7, 9, 10, 11, 12, 13, 14, 15, 21, 23, 22, 25, 26, 27, 28, 29, 28, 29, 30, 29, 28, 29, 30, 29, 30, 29, 30, 35, 34, 35, 34, 35, 34, 33, 34, 40, 39, 44, 43, 44, 43, 46, 47, 50, 49, 48, 47, 48, 49, 48, 49, 48, 49, 50, 51, 52, 51, 52, 57, 58, 57, 61, 62, 63, 67, 66, 70, 69, 74, 80, 81, 82, 83, 88, 87, 88, 89, 90], [0, 2, 8, 7, 8, 7, 8, 9, 8, 7, 8, 7, 6, 11, 12, 13, 14, 13, 14, 15, 16, 15, 14, 13, 14, 15, 18, 17, 16, 15, 19, 21, 22, 23, 24, 25, 24, 25, 24, 23, 22, 23, 24, 25, 26, 27, 26, 28, 29, 30, 29, 30, 31, 32, 33, 37, 42, 44, 45, 46, 45, 44, 45, 48, 49, 50, 49, 50, 51, 52, 53, 54, 55, 56, 57, 56, 57, 56, 57, 58, 59, 64, 65, 71, 70, 69, 70, 69, 68, 73, 72, 71, 72, 73, 74, 75, 76, 77, 78, 79, 80], [0, 1, 2, 3, 2, 8, 9, 10, 13, 12, 13, 12, 17, 23, 24, 23, 22, 23, 24, 26, 25, 26, 25, 24, 25, 26, 27, 32, 33, 34, 33, 34, 39, 38, 39, 40, 39, 38, 39, 40, 39, 38, 37, 38, 39, 40, 44, 43, 44, 43, 42, 45, 46, 47, 48, 47, 48, 49, 48, 49, 48, 49, 51, 52, 57, 58, 57, 58, 59, 60, 61, 60, 61, 60, 59, 58, 59, 60, 61, 60, 59, 60, 59, 58, 57, 58, 59, 58, 64, 63, 64, 65, 66, 67, 68, 69, 70, 71, 70, 71, 70], [0, 0, 6, 5, 9, 10, 11, 12, 11, 12, 13, 19, 18, 19, 18, 17, 18, 17, 22, 21, 22, 21, 22, 21, 20, 21, 22, 23, 22, 21, 25, 26, 27, 26, 25, 26, 27, 28, 27, 32, 31, 32, 33, 34, 35, 36, 37, 38, 40, 41, 40, 41, 42, 43, 44, 45, 44, 43, 44, 43, 42, 43, 44, 45, 46, 47, 48, 52, 53, 52, 53, 54, 55, 56, 58, 57, 56, 57, 59, 60, 65, 64, 63, 64, 65, 66, 67, 69, 70, 74, 73, 74, 75, 78, 79, 80, 81, 80, 86, 85, 86], [0, 0, 0, 3, 2, 3, 4, 6, 5, 4, 3, 4, 5, 6, 7, 6, 8, 7, 6, 7, 8, 13, 14, 15, 16, 17, 18, 19, 20, 21, 22, 23, 22, 21, 26, 25, 26, 27, 26, 27, 26, 27, 28, 27, 26, 27, 28, 27, 28, 29, 31, 32, 33, 32, 31, 32, 36, 35, 34, 33, 34, 38, 42, 43, 47, 49, 50, 51, 50, 51, 52, 53, 59, 58, 57, 60, 61, 62, 63, 64, 65, 66, 65, 64, 63, 64, 63, 62, 63, 64, 65, 66, 67, 68, 69, 70, 71, 70, 73, 74, 75], [0, 1, 2, 3, 9, 10, 11, 12, 11, 10, 11, 17, 18, 19, 20, 21, 22, 21, 20, 19, 20, 19, 20, 21, 22, 23, 24, 23, 26, 27, 28, 29, 28, 29, 30, 31, 32, 31, 32, 31, 30, 31, 30, 29, 28, 29, 28, 27, 26, 27, 28, 29, 30, 29, 30, 31, 32, 33, 34, 33, 35, 34, 35, 36, 41, 42, 41, 42, 43, 48, 54, 55, 56, 57, 63, 62, 61, 62, 61, 60, 61, 62, 61, 62, 61, 60, 61, 63, 62, 63, 62, 63, 64, 65, 66, 65, 66, 67, 66, 67, 68], [0, 0, 0, 1, 2, 1, 2, 1, 2, 3, 5, 10, 11, 10, 9, 14, 15, 16, 21, 22, 23, 24, 25, 24, 25, 24, 25, 26, 27, 26, 27, 28, 29, 30, 31, 36, 37, 38, 39, 38, 40, 41, 42, 43, 44, 45, 46, 47, 46, 47, 46, 47, 48, 47, 46, 45, 46, 45, 46, 47, 48, 47, 48, 47, 46, 47, 48, 53, 52, 58, 59, 60, 61, 62, 63, 62, 61, 60, 61, 63, 62, 63, 64, 63, 64, 63, 62, 63, 62, 61, 60, 61, 60, 61, 60, 59, 58, 59, 60, 61, 60], [0, 0, 1, 0, 3, 2, 1, 0, 1, 0, 0, 0, 1, 0, 1, 5, 4, 3, 2, 3, 2, 3, 2, 3, 2, 3, 4, 5, 4, 5, 4, 6, 7, 8, 9, 10, 13, 12, 11, 12, 11, 10, 11, 16, 15, 16, 15, 17, 18, 22, 21, 20, 26, 27, 31, 30, 29, 30, 29, 30, 31, 32, 33, 34, 39, 38, 39, 38, 44, 45, 46, 47, 49, 53, 52, 51, 57, 56, 55, 56, 55, 56, 55, 59, 63, 64, 65, 66, 67, 68, 69, 70, 74, 75, 74, 75, 76, 75, 74, 73, 74], [0, 0, 6, 5, 4, 5, 4, 5, 6, 7, 6, 5, 6, 5, 6, 5, 6, 7, 6, 5, 6, 10, 11, 12, 11, 10, 9, 10, 11, 12, 17, 18, 19, 18, 19, 20, 19, 18, 19, 18, 17, 18, 19, 20, 19, 18, 22, 21, 20, 19, 18, 24, 27, 28, 29, 28, 29, 30, 31, 32, 33, 32, 33, 32, 36, 37, 43, 42, 43, 44, 43, 44, 45, 46, 47, 48, 47, 52, 51, 52, 51, 52, 53, 54, 57, 58, 59, 58, 59, 58, 60, 61, 62, 63, 64, 68, 74, 77, 76, 75, 76], [0, 0, 0, 1, 5, 6, 7, 6, 7, 8, 7, 8, 10, 9, 10, 13, 14, 15, 16, 18, 17, 18, 19, 20, 19, 20, 21, 22, 21, 22, 21, 20, 19, 18, 19, 20, 19, 18, 17, 18, 19, 25, 26, 25, 24, 23, 24, 25, 26, 25, 26, 27, 28, 29, 30, 31, 30, 33, 32, 33, 34, 35, 34, 35, 36, 39, 40, 43, 44, 45, 46, 50, 51, 52, 53, 52, 51, 50, 56, 57, 58, 57, 56, 57, 56, 57, 56, 60, 59, 58, 59, 58, 57, 58, 57, 56, 61, 62, 63, 64, 63], [0, 5, 4, 5, 6, 5, 6, 7, 6, 7, 10, 9, 15, 16, 17, 20, 21, 20, 21, 23, 22, 23, 24, 28, 29, 28, 27, 29, 34, 33, 36, 35, 34, 33, 32, 31, 32, 31, 32, 31, 32, 31, 32, 31, 32, 31, 32, 33, 34, 33, 32, 33, 34, 35, 36, 35, 34, 33, 34, 35, 36, 37, 38, 37, 38, 37, 38, 39, 42, 41, 42, 43, 42, 43, 48, 47, 48, 49, 50, 55, 56, 55, 56, 60, 59, 65, 64, 63, 64, 63, 62, 63, 64, 65, 66, 65, 71, 72, 73, 74, 75], [0, 3, 4, 5, 6, 10, 13, 14, 15, 14, 13, 14, 15, 14, 19, 18, 20, 21, 20, 21, 20, 19, 20, 21, 22, 23, 22, 21, 27, 28, 27, 28, 33, 32, 33, 34, 40, 39, 40, 41, 42, 41, 44, 43, 42, 45, 46, 47, 46, 47, 46, 47, 49, 48, 54, 55, 58, 59, 58, 57, 56, 57, 58, 59, 60, 59, 58, 62, 63, 64, 65, 66, 65, 64, 63, 64, 63, 62, 61, 64, 65, 64, 65, 64, 70, 69, 74, 73, 74, 75, 76, 75, 74, 73, 76, 77, 78, 77, 78, 77, 78], [0, 1, 2, 1, 0, 0, 1, 2, 3, 4, 3, 4, 5, 6, 9, 10, 11, 12, 11, 12, 13, 12, 13, 14, 18, 17, 18, 17, 16, 17, 18, 22, 23, 24, 25, 26, 27, 26, 25, 31, 30, 29, 31, 32, 31, 32, 33, 34, 35, 36, 37, 38, 37, 36, 37, 36, 38, 39, 38, 39, 38, 39, 38, 39, 40, 41, 42, 43, 44, 47, 48, 49, 50, 51, 52, 54, 55, 56, 57, 56, 57, 56, 57, 56, 57, 56, 57, 56, 57, 56, 55, 59, 61, 60, 61, 62, 63, 67, 68, 69, 68], [0, 1, 0, 1, 0, 1, 2, 3, 2, 1, 2, 3, 2, 3, 4, 3, 2, 3, 2, 3, 4, 5, 6, 7, 8, 7, 6, 5, 10, 11, 12, 13, 14, 15, 14, 13, 14, 18, 17, 18, 19, 20, 21, 20, 21, 24, 25, 26, 25, 26, 25, 27, 28, 29, 30, 31, 37, 36, 37, 38, 39, 40, 39, 38, 40, 39, 38, 39, 40, 42, 43, 44, 43, 44, 45, 46, 49, 48, 51, 50, 49, 50, 51, 52, 51, 52, 53, 52, 53, 52, 53, 54, 55, 58, 59, 65, 66, 67, 66, 67, 68], [0, 1, 2, 3, 4, 5, 6, 7, 8, 9, 8, 7, 6, 7, 6, 9, 8, 9, 10, 11, 12, 13, 14, 15, 16, 17, 16, 17, 18, 19, 20, 21, 20, 19, 20, 19, 20, 19, 20, 21, 22, 21, 22, 23, 22, 4, 3, 4, 5, 6, 7, 6, 10, 11, 17, 21, 22, 23, 27, 28, 27, 28, 29, 30, 29, 30, 29, 32, 33, 32, 33, 34, 33, 32, 33, 32, 31, 32, 31, 30, 29, 30, 29, 30, 31, 32, 33, 32, 33, 32, 33, 34, 33, 34, 40, 41, 40, 39, 38, 44, 48], [0, 0, 0, 0, 1, 2, 3, 4, 5, 6, 7, 6, 7, 11, 10, 9, 8, 12, 11, 12, 15, 16, 15, 14, 13, 12, 11, 10, 9, 15, 14, 20, 21, 22, 25, 26, 27, 26, 27, 26, 25, 26, 27, 28, 29, 32, 33, 32, 33, 32, 31, 34, 33, 34, 33, 34, 33, 32, 33, 34, 40, 41, 42, 43, 44, 47, 52, 56, 55, 56, 57, 56, 55, 54, 53, 57, 58, 59, 63, 62, 63, 64, 65, 66, 67, 68, 73, 72, 71, 72, 77, 78, 79, 80, 81, 82, 83, 82, 81, 82, 81], [0, 0, 0, 1, 2, 1, 2, 3, 2, 1, 0, 1, 6, 7, 8, 7, 8, 9, 12, 13, 14, 15, 21, 22, 21, 20, 24, 23, 24, 25, 26, 27, 26, 27, 26, 25, 26, 27, 30, 31, 30, 31, 32, 33, 34, 39, 40, 43, 44, 43, 42, 41, 43, 42, 43, 44, 45, 50, 54, 53, 52, 53, 52, 51, 52, 53, 54, 55, 54, 55, 56, 57, 56, 57, 58, 59, 58, 62, 63, 62, 63, 62, 63, 67, 68, 67, 66, 67, 66, 65, 66, 67, 68, 69, 70, 71, 70, 69, 70, 69, 68], [0, 5, 6, 7, 8, 7, 6, 7, 8, 9, 10, 9, 15, 16, 17, 22, 23, 22, 26, 27, 29, 30, 31, 32, 34, 33, 34, 33, 34, 33, 34, 35, 41, 43, 44, 45, 46, 45, 44, 47, 48, 49, 48, 47, 46, 45, 46, 47, 48, 54, 58, 63, 62, 61, 62, 66, 68, 70, 71, 73, 74, 75, 74, 78, 81, 80, 86, 85, 86, 89, 91, 92, 91, 92, 93, 94, 93, 94, 95, 96, 97, 98, 103, 104, 110, 115, 114, 115, 114, 113, 112, 118, 119, 118, 117, 118, 119, 125, 124, 125, 124], [0, 1, 2, 3, 4, 3, 4, 5, 11, 12, 11, 12, 13, 12, 18, 19, 20, 21, 20, 21, 22, 21, 22, 24, 26, 25, 26, 27, 32, 34, 40, 41, 42, 41, 47, 46, 47, 48, 47, 46, 47, 48, 49, 50, 51, 50, 51, 52, 53, 54, 53, 56, 55, 54, 55, 54, 55, 54, 53, 52, 51, 57, 58, 63, 62, 64, 65, 64, 65, 66, 67, 68, 69, 68, 69, 70, 69, 70, 71, 72, 71, 72, 71, 70, 71, 70, 71, 70, 69, 70, 71, 70, 73, 74, 75, 74, 73, 74, 75, 76, 77], [0, 1, 0, 0, 1, 6, 7, 13, 14, 13, 14, 15, 21, 22, 25, 26, 25, 29, 30, 31, 30, 32, 33, 34, 35, 36, 35, 36, 37, 36, 37, 36, 35, 36, 35, 34, 33, 32, 33, 32, 31, 35, 34, 35, 36, 37, 38, 37, 38, 37, 38, 39, 40, 41, 40, 41, 42, 46, 45, 51, 52, 53, 55, 56, 59, 60, 59, 58, 59, 60, 61, 60, 61, 62, 61, 60, 61, 62, 63, 64, 65, 64, 63, 67, 68, 69, 70, 69, 70, 69, 68, 69, 70, 71, 72, 76, 82, 81, 80, 81, 84], [0, 6, 7, 8, 9, 14, 15, 16, 17, 18, 17, 18, 19, 18, 17, 18, 22, 23, 24, 25, 30, 29, 28, 29, 30, 31, 32, 33, 32, 33, 34, 35, 38, 39, 38, 39, 38, 37, 36, 38, 39, 38, 37, 41, 45, 46, 45, 44, 45, 46, 50, 51, 53, 52, 51, 52, 54, 53, 59, 60, 63, 64, 65, 66, 67, 66, 65, 71, 72, 78, 79, 80, 81, 80, 79, 80, 81, 80, 81, 80, 81, 82, 83, 84, 83, 82, 83, 82, 83, 82, 81, 80, 79, 78, 79, 80, 81, 80, 81, 80, 81], [0, 1, 0, 1, 2, 3, 2, 3, 4, 7, 6, 7, 6, 5, 7, 8, 9, 10, 9, 14, 15, 14, 15, 16, 17, 18, 17, 18, 19, 20, 19, 18, 19, 20, 22, 23, 24, 23, 26, 32, 31, 30, 31, 33, 34, 38, 39, 38, 39, 40, 39, 38, 39, 40, 41, 42, 41, 43, 44, 45, 46, 47, 48, 49, 50, 51, 57, 56, 55, 56, 57, 59, 60, 61, 62, 66, 65, 66, 67, 66, 67, 68, 69, 68, 69, 70, 69, 70, 74, 73, 72, 71, 72, 73, 72, 73, 72, 73, 72, 77, 78], [0, 1, 0, 1, 0, 1, 0, 0, 0, 3, 2, 3, 4, 5, 6, 7, 9, 10, 11, 12, 11, 16, 15, 16, 17, 18, 17, 21, 22, 23, 22, 21, 26, 27, 28, 27, 28, 33, 32, 33, 34, 40, 44, 43, 44, 43, 44, 43, 44, 43, 44, 45, 46, 47, 48, 50, 51, 52, 51, 50, 51, 50, 51, 52, 54, 53, 54, 53, 54, 55, 58, 61, 63, 62, 63, 62, 68, 69, 70, 71, 72, 71, 70, 69, 75, 76, 77, 78, 77, 76, 77, 76, 77, 76, 77, 76, 77, 76, 82, 81, 82], [0, 1, 2, 1, 2, 1, 2, 1, 3, 2, 1, 0, 1, 2, 3, 4, 3, 4, 5, 4, 3, 5, 6, 7, 6, 7, 8, 14, 13, 14, 13, 12, 13, 14, 13, 18, 19, 20, 23, 24, 25, 24, 29, 30, 29, 35, 34, 38, 39, 40, 42, 46, 45, 46, 47, 48, 47, 48, 49, 48, 47, 48, 47, 48, 49, 50, 51, 50, 51, 52, 53, 52, 53, 52, 58, 57, 58, 57, 56, 57, 58, 59, 58, 57, 58, 57, 58, 59, 58, 57, 56, 57, 58, 60, 61, 62, 61, 60, 59, 60, 65], [0, 0, 4, 9, 10, 13, 15, 17, 18, 17, 16, 17, 18, 19, 18, 24, 27, 28, 27, 30, 29, 30, 31, 32, 33, 34, 35, 36, 35, 36, 37, 38, 37, 36, 35, 36, 37, 38, 39, 40, 42, 43, 44, 43, 42, 43, 42, 43, 42, 41, 40, 41, 40, 41, 40, 41, 42, 46, 45, 44, 43, 42, 41, 40, 41, 40, 41, 42, 43, 44, 43, 44, 45, 46, 45, 48, 49, 50, 51, 52, 53, 54, 53, 52, 51, 50, 49, 50, 49, 50, 49, 48, 49, 48, 49, 48, 49, 48, 49, 48, 49], [0, 1, 2, 3, 2, 3, 2, 3, 2, 1, 2, 1, 2, 1, 2, 3, 2, 3, 4, 3, 2, 3, 2, 1, 2, 3, 2, 1, 0, 1, 2, 3, 2, 3, 2, 3, 2, 5, 4, 5, 4, 3, 4, 7, 8, 9, 11, 12, 13, 12, 13, 14, 13, 14, 15, 16, 20, 19, 25, 26, 27, 28, 29, 28, 29, 30, 34, 33, 32, 33, 35, 36, 38, 37, 36, 35, 36, 37, 38, 37, 38, 37, 38, 39, 38, 39, 38, 43, 44, 45, 46, 47, 48, 54, 53, 52, 58, 59, 60, 61, 62], [0, 1, 7, 8, 14, 15, 16, 15, 17, 22, 23, 22, 21, 22, 23, 24, 29, 28, 29, 30, 31, 32, 33, 34, 33, 32, 33, 34, 35, 36, 37, 38, 39, 41, 40, 39, 40, 41, 42, 43, 44, 45, 46, 45, 46, 47, 48, 49, 50, 51, 50, 51, 52, 53, 54, 53, 54, 55, 56, 55, 56, 57, 58, 59, 60, 61, 62, 63, 64, 63, 65, 64, 65, 66, 67, 66, 67, 66, 67, 66, 68, 69, 73, 74, 75, 74, 78, 79, 80, 79, 83, 82, 83, 84, 83, 82, 83, 87, 88, 89, 88], [0, 1, 0, 1, 2, 3, 4, 5, 4, 3, 2, 1, 2, 3, 2, 3, 2, 1, 2, 3, 2, 3, 2, 3, 2, 1, 0, 1, 2, 1, 6, 7, 6, 8, 10, 9, 8, 7, 8, 9, 10, 11, 12, 11, 12, 13, 14, 13, 18, 17, 18, 19, 18, 19, 20, 19, 20, 19, 20, 21, 22, 23, 22, 23, 22, 21, 26, 27, 31, 32, 33, 36, 39, 43, 0, 0, 0, 4, 5, 6, 5, 9, 8, 9, 8, 6, 5, 10, 15, 14, 15, 16, 17, 16, 17, 18, 19, 20, 21, 20, 24], [0, 1, 7, 8, 9, 10, 9, 8, 9, 11, 10, 15, 14, 15, 21, 27, 28, 27, 26, 27, 28, 29, 28, 27, 28, 29, 33, 34, 35, 36, 37, 36, 35, 36, 37, 38, 39, 40, 41, 40, 39, 38, 37, 38, 39, 40, 41, 42, 43, 46, 47, 46, 45, 51, 52, 51, 50, 51, 55, 56, 57, 59, 60, 59, 60, 61, 62, 65, 64, 63, 62, 63, 67, 68, 69, 70, 71, 70, 71, 72, 73, 72, 73, 74, 75, 76, 81, 80, 81, 80, 81, 86, 87, 88, 87, 86, 87, 88, 89, 90, 91], [0, 1, 0, 1, 2, 1, 2, 1, 0, 1, 2, 3, 2, 5, 6, 7, 6, 5, 4, 5, 6, 7, 6, 7, 8, 9, 10, 11, 10, 11, 12, 11, 10, 9, 10, 11, 10, 11, 10, 15, 14, 15, 16, 15, 16, 17, 18, 17, 18, 17, 22, 23, 24, 25, 24, 25, 26, 27, 28, 27, 33, 32, 33, 34, 33, 34, 35, 34, 35, 34, 35, 40, 41, 40, 46, 47, 48, 49, 50, 51, 55, 56, 57, 63, 67, 68, 67, 68, 67, 66, 67, 73, 74, 78, 79, 80, 81, 82, 83, 84, 85], [0, 1, 0, 4, 3, 7, 8, 9, 12, 11, 12, 11, 13, 14, 15, 14, 13, 14, 13, 12, 13, 14, 17, 18, 19, 22, 21, 22, 23, 24, 23, 24, 25, 26, 25, 26, 27, 26, 25, 26, 25, 24, 28, 29, 30, 31, 37, 36, 35, 36, 37, 38, 39, 40, 39, 40, 41, 42, 43, 44, 45, 46, 47, 46, 47, 46, 45, 46, 47, 48, 49, 50, 49, 48, 47, 48, 49, 48, 47, 48, 50, 51, 50, 51, 50, 51, 54, 53, 54, 55, 54, 57, 58, 57, 56, 57, 56, 57, 58, 59, 58], [0, 1, 2, 3, 2, 3, 8, 9, 10, 15, 14, 15, 16, 15, 16, 17, 18, 19, 18, 19, 18, 17, 21, 22, 25, 26, 27, 28, 27, 28, 27, 29, 30, 29, 30, 29, 30, 31, 32, 33, 32, 31, 32, 33, 34, 35, 36, 37, 38, 39, 41, 42, 43, 44, 45, 44, 43, 42, 44, 45, 46, 45, 46, 47, 48, 49, 48, 47, 46, 45, 46, 47, 46, 52, 53, 52, 51, 52, 53, 58, 59, 65, 64, 65, 64, 63, 62, 61, 60, 61, 62, 63, 62, 61, 62, 63, 64, 65, 64, 65, 66], [0, 1, 2, 5, 9, 13, 14, 13, 12, 13, 14, 15, 16, 17, 18, 19, 18, 17, 18, 17, 18, 24, 23, 24, 23, 22, 21, 20, 19, 20, 21, 20, 21, 20, 22, 21, 27, 31, 30, 31, 30, 31, 32, 33, 32, 33, 34, 33, 34, 35, 34, 33, 34, 33, 32, 31, 30, 31, 32, 31, 30, 29, 28, 27, 28, 29, 28, 31, 30, 29, 28, 29, 30, 33, 32, 31, 32, 31, 32, 33, 34, 33, 34, 35, 34, 35, 39, 38, 37, 38, 37, 38, 37, 38, 40, 41, 42, 43, 42, 43, 42], [0, 1, 0, 1, 7, 8, 9, 15, 16, 15, 14, 13, 15, 16, 15, 16, 17, 18, 23, 24, 25, 24, 25, 26, 30, 32, 33, 34, 35, 37, 36, 42, 43, 42, 43, 44, 45, 44, 48, 49, 50, 51, 50, 51, 57, 61, 62, 63, 64, 63, 64, 63, 62, 61, 62, 61, 67, 66, 67, 68, 67, 68, 69, 70, 71, 72, 73, 74, 73, 79, 80, 79, 80, 81, 82, 88, 87, 88, 89, 88, 87, 86, 87, 88, 87, 90, 91, 90, 91, 92, 93, 94, 93, 92, 93, 92, 91, 92, 93, 92, 91], [0, 3, 4, 5, 11, 12, 13, 14, 13, 14, 15, 16, 15, 16, 15, 16, 17, 18, 19, 20, 21, 20, 19, 18, 17, 16, 17, 18, 17, 20, 19, 20, 21, 22, 23, 24, 23, 24, 23, 22, 23, 24, 27, 26, 25, 24, 25, 24, 25, 26, 25, 24, 25, 24, 25, 24, 25, 26, 25, 26, 27, 28, 30, 34, 33, 34, 35, 36, 37, 36, 35, 34, 38, 39, 40, 39, 38, 37, 38, 40, 41, 40, 39, 40, 41, 42, 41, 40, 46, 47, 46, 45, 46, 47, 48, 49, 50, 53, 54, 55, 54], [0, 0, 1, 2, 3, 4, 5, 6, 7, 6, 7, 8, 7, 8, 7, 10, 9, 10, 11, 12, 11, 10, 9, 10, 9, 10, 11, 12, 11, 10, 9, 8, 9, 10, 11, 10, 11, 12, 13, 12, 11, 10, 11, 15, 16, 17, 16, 17, 18, 17, 18, 19, 20, 21, 22, 23, 22, 23, 24, 25, 31, 32, 31, 36, 37, 36, 37, 38, 37, 38, 37, 36, 37, 38, 39, 38, 40, 41, 42, 41, 42, 41, 42, 41, 40, 39, 38, 39, 40, 41, 40, 41, 40, 39, 38, 39, 40, 41, 42, 43, 42], [0, 1, 6, 5, 4, 3, 2, 3, 2, 3, 7, 6, 9, 8, 7, 8, 9, 8, 11, 15, 16, 20, 19, 20, 21, 20, 19, 20, 24, 25, 30, 29, 33, 34, 35, 36, 37, 38, 39, 40, 41, 47, 48, 51, 50, 51, 52, 53, 54, 53, 55, 56, 57, 56, 55, 56, 57, 59, 58, 57, 60, 59, 58, 59, 58, 59, 60, 61, 60, 59, 58, 59, 60, 59, 60, 61, 62, 61, 60, 61, 62, 63, 62, 61, 60, 61, 60, 65, 64, 65, 70, 71, 72, 71, 70, 73, 74, 75, 80, 79, 78], [0, 0, 0, 0, 1, 2, 1, 0, 0, 0, 1, 0, 0, 1, 6, 7, 6, 7, 6, 7, 8, 9, 8, 7, 8, 9, 10, 11, 10, 9, 8, 9, 10, 15, 16, 19, 18, 17, 18, 17, 18, 19, 18, 19, 20, 19, 20, 19, 20, 21, 22, 23, 24, 25, 26, 27, 26, 29, 30, 29, 28, 30, 29, 30, 31, 30, 32, 31, 30, 32, 38, 39, 38, 39, 45, 46, 47, 48, 51, 52, 53, 54, 59, 58, 59, 60, 61, 62, 61, 64, 69, 70, 71, 70, 69, 68, 73, 72, 73, 72, 73], [0, 0, 1, 0, 1, 2, 1, 0, 1, 2, 3, 4, 5, 6, 7, 6, 7, 6, 7, 8, 9, 10, 11, 16, 18, 17, 18, 19, 18, 17, 18, 19, 20, 19, 18, 19, 18, 19, 18, 17, 16, 21, 22, 21, 20, 19, 20, 21, 20, 19, 20, 21, 22, 23, 24, 23, 24, 25, 26, 27, 26, 25, 26, 25, 24, 27, 30, 29, 30, 31, 34, 35, 36, 37, 38, 37, 36, 35, 39, 40, 43, 44, 43, 44, 45, 51, 52, 51, 54, 55, 56, 57, 56, 55, 58, 62, 63, 62, 61, 62, 61], [0, 6, 7, 6, 5, 6, 7, 8, 9, 8, 9, 10, 11, 12, 13, 14, 15, 18, 23, 22, 23, 22, 23, 24, 23, 22, 21, 22, 21, 22, 23, 22, 23, 24, 25, 26, 29, 28, 34, 40, 41, 42, 43, 44, 45, 49, 53, 58, 59, 60, 61, 62, 63, 64, 63, 64, 68, 69, 70, 71, 70, 71, 72, 73, 74, 73, 72, 73, 77, 78, 79, 78, 79, 80, 79, 80, 81, 82, 83, 82, 81, 82, 83, 82, 83, 82, 87, 88, 87, 88, 90, 89, 90, 89, 92, 93, 92, 93, 94, 95, 96], [0, 1, 2, 1, 0, 1, 0, 1, 2, 5, 4, 5, 4, 3, 4, 5, 6, 7, 8, 7, 8, 9, 10, 11, 10, 11, 12, 11, 12, 13, 12, 13, 14, 13, 12, 13, 16, 17, 18, 19, 18, 17, 18, 19, 20, 21, 20, 21, 20, 24, 25, 26, 25, 26, 27, 26, 27, 28, 29, 33, 34, 35, 36, 35, 36, 37, 38, 37, 36, 35, 34, 35, 36, 38, 39, 38, 37, 38, 39, 38, 39, 38, 39, 40, 45, 44, 45, 44, 45, 46, 47, 48, 49, 50, 49, 48, 47, 48, 49, 48, 49], [0, 0, 1, 0, 1, 2, 7, 8, 13, 14, 13, 18, 17, 18, 19, 18, 17, 18, 19, 18, 19, 20, 21, 22, 21, 27, 26, 27, 31, 30, 31, 30, 31, 32, 33, 39, 40, 41, 42, 43, 44, 46, 48, 47, 48, 49, 50, 51, 52, 53, 52, 53, 58, 59, 60, 61, 62, 61, 67, 68, 74, 73, 74, 75, 76, 77, 78, 77, 76, 77, 78, 79, 81, 85, 84, 85, 84, 83, 82, 83, 82, 81, 82, 83, 84, 83, 84, 83, 84, 85, 86, 87, 88, 89, 88, 92, 97, 96, 97, 98, 99], [0, 1, 2, 3, 2, 1, 2, 3, 6, 10, 11, 16, 17, 18, 19, 20, 21, 20, 21, 26, 27, 29, 30, 31, 32, 31, 32, 33, 34, 33, 34, 33, 32, 31, 32, 33, 39, 40, 41, 42, 43, 47, 48, 49, 48, 49, 48, 47, 46, 47, 48, 47, 46, 45, 44, 45, 44, 45, 44, 47, 46, 45, 46, 47, 46, 45, 46, 47, 48, 49, 48, 47, 53, 54, 55, 56, 55, 56, 57, 58, 59, 60, 61, 62, 63, 64, 68, 69, 70, 74, 75, 76, 75, 76, 77, 76, 82, 81, 82, 83, 82], [0, 0, 1, 2, 3, 4, 9, 10, 12, 11, 12, 13, 14, 13, 14, 15, 16, 15, 16, 17, 18, 17, 18, 19, 18, 19, 20, 22, 23, 22, 23, 22, 23, 26, 32, 33, 32, 35, 36, 37, 36, 40, 41, 42, 41, 40, 39, 40, 41, 42, 43, 44, 49, 48, 47, 53, 54, 55, 54, 55, 56, 57, 58, 59, 58, 59, 60, 59, 60, 61, 62, 64, 69, 70, 71, 73, 75, 74, 73, 72, 73, 72, 73, 74, 73, 74, 73, 75, 76, 77, 79, 80, 81, 82, 81, 82, 81, 82, 83, 84, 85], [0, 1, 2, 3, 2, 1, 2, 4, 5, 11, 17, 16, 15, 16, 17, 19, 22, 21, 20, 19, 20, 19, 20, 21, 27, 26, 25, 24, 25, 29, 30, 29, 28, 27, 30, 31, 33, 32, 31, 32, 33, 32, 33, 37, 41, 40, 42, 41, 40, 41, 42, 43, 42, 43, 46, 50, 51, 57, 56, 57, 56, 55, 54, 55, 56, 57, 63, 64, 63, 64, 63, 66, 67, 68, 69, 70, 69, 70, 71, 70, 71, 77, 78, 79, 85, 84, 83, 89, 90, 91, 95, 94, 95, 98, 99, 100, 99, 100, 101, 102, 103], [0, 1, 0, 0, 0, 1, 2, 1, 2, 3, 4, 5, 6, 7, 6, 7, 6, 5, 6, 5, 6, 5, 6, 11, 12, 13, 14, 15, 16, 17, 16, 17, 18, 17, 18, 17, 16, 17, 18, 19, 20, 19, 18, 19, 18, 24, 23, 29, 35, 34, 35, 36, 35, 36, 35, 36, 37, 36, 37, 39, 44, 45, 46, 47, 46, 45, 46, 47, 48, 49, 50, 51, 52, 53, 59, 58, 57, 58, 57, 58, 59, 62, 63, 62, 63, 62, 61, 67, 68, 69, 68, 67, 70, 71, 72, 73, 72, 73, 74, 75, 76], [0, 5, 6, 11, 13, 17, 16, 15, 16, 20, 19, 25, 26, 25, 26, 27, 26, 27, 28, 29, 30, 29, 30, 31, 30, 29, 30, 29, 30, 31, 32, 33, 32, 33, 34, 35, 39, 38, 39, 40, 41, 40, 41, 42, 41, 42, 41, 40, 39, 40, 41, 42, 46, 47, 49, 50, 49, 50, 49, 48, 49, 50, 49, 48, 49, 48, 53, 52, 53, 52, 53, 54, 53, 59, 61, 60, 59, 60, 59, 60, 61, 60, 65, 64, 63, 64, 63, 64, 65, 64, 65, 66, 67, 66, 69, 68, 69, 70, 71, 70, 71], [0, 0, 1, 2, 3, 4, 5, 4, 9, 8, 9, 10, 9, 15, 16, 15, 16, 15, 16, 17, 16, 15, 16, 17, 20, 21, 20, 25, 26, 27, 28, 27, 28, 27, 33, 39, 38, 39, 41, 42, 43, 42, 43, 42, 43, 44, 45, 44, 45, 46, 47, 48, 49, 50, 51, 50, 51, 54, 53, 54, 55, 56, 55, 56, 57, 58, 64, 65, 64, 63, 62, 65, 66, 65, 66, 67, 70, 69, 70, 72, 78, 79, 78, 83, 87, 88, 91, 92, 93, 92, 91, 92, 91, 97, 98, 99, 98, 101, 102, 103, 102], [0, 1, 0, 0, 1, 0, 1, 2, 1, 2, 3, 4, 5, 6, 11, 17, 18, 19, 21, 20, 19, 20, 21, 22, 21, 22, 23, 25, 26, 25, 26, 25, 26, 27, 28, 29, 28, 29, 30, 35, 34, 35, 34, 35, 36, 37, 36, 37, 36, 39, 40, 39, 41, 42, 48, 49, 53, 52, 51, 52, 53, 54, 53, 52, 51, 52, 53, 54, 59, 62, 63, 62, 61, 60, 61, 62, 63, 62, 63, 64, 69, 68, 67, 68, 69, 70, 71, 72, 78, 77, 76, 75, 74, 73, 74, 75, 74, 75, 74, 75, 76], [0, 0, 0, 5, 10, 11, 12, 13, 12, 13, 12, 11, 10, 14, 13, 14, 13, 14, 15, 16, 17, 16, 17, 16, 18, 19, 20, 19, 22, 21, 20, 21, 22, 23, 24, 25, 26, 25, 26, 25, 24, 28, 31, 35, 34, 35, 34, 38, 39, 40, 39, 38, 39, 40, 41, 40, 41, 40, 41, 47, 46, 52, 57, 58, 63, 68, 67, 69, 70, 71, 72, 73, 76, 77, 78, 79, 78, 79, 80, 79, 78, 79, 80, 81, 82, 83, 84, 85, 87, 88, 87, 88, 89, 90, 89, 88, 89, 90, 89, 94, 93], [0, 0, 1, 4, 3, 2, 3, 4, 10, 9, 8, 9, 10, 11, 15, 16, 20, 21, 20, 19, 18, 17, 16, 17, 18, 19, 18, 17, 16, 15, 16, 17, 18, 24, 23, 22, 21, 20, 21, 20, 21, 22, 23, 24, 25, 24, 26, 25, 24, 23, 22, 23, 24, 29, 28, 29, 28, 29, 28, 27, 29, 30, 31, 32, 31, 30, 36, 41, 40, 39, 38, 39, 40, 41, 42, 41, 42, 41, 40, 39, 40, 39, 40, 41, 46, 47, 48, 47, 46, 45, 44, 45, 47, 49, 50, 49, 50, 51, 52, 53, 54], [0, 1, 2, 4, 3, 4, 10, 12, 13, 14, 15, 14, 15, 14, 16, 20, 21, 22, 23, 24, 25, 29, 28, 27, 26, 25, 24, 25, 30, 31, 30, 31, 30, 29, 30, 31, 30, 31, 32, 31, 32, 31, 30, 31, 30, 29, 30, 36, 37, 38, 39, 40, 41, 42, 1, 2, 3, 4, 5, 6, 5, 6, 7, 8, 9, 13, 18, 19, 18, 19, 18, 19, 20, 19, 23, 28, 29, 30, 29, 30, 31, 32, 38, 39, 38, 39, 38, 44, 47, 48, 49, 50, 51, 52, 51, 52, 53, 54, 55, 56, 57], [0, 1, 2, 1, 2, 7, 6, 7, 6, 7, 8, 9, 10, 9, 8, 9, 10, 11, 12, 13, 12, 17, 18, 19, 18, 19, 18, 19, 20, 21, 20, 19, 20, 19, 20, 19, 20, 19, 20, 25, 26, 32, 31, 30, 29, 30, 31, 32, 33, 34, 33, 34, 35, 34, 33, 34, 33, 32, 37, 38, 39, 40, 41, 42, 47, 48, 47, 48, 49, 48, 49, 48, 47, 46, 45, 46, 47, 48, 54, 55, 54, 57, 58, 59, 58, 59, 58, 57, 56, 57, 56, 55, 54, 55, 56, 55, 54, 53, 54, 55, 56], [0, 1, 6, 1, 3, 2, 3, 4, 5, 8, 7, 8, 9, 10, 14, 13, 14, 13, 14, 19, 20, 21, 20, 21, 22, 21, 22, 23, 24, 25, 27, 28, 27, 28, 27, 26, 27, 28, 27, 26, 27, 28, 27, 26, 27, 28, 29, 28, 27, 28, 27, 28, 29, 30, 31, 32, 33, 34, 40, 39, 44, 45, 44, 45, 44, 45, 48, 47, 48, 49, 50, 51, 52, 53, 54, 55, 57, 58, 64, 63, 62, 65, 69, 68, 67, 71, 72, 73, 74, 78, 79, 78, 77, 76, 77, 81, 80, 79, 78, 81, 80], [0, 1, 0, 3, 4, 5, 9, 10, 15, 16, 17, 16, 17, 16, 17, 18, 19, 20, 23, 24, 23, 24, 23, 27, 30, 31, 32, 33, 34, 33, 34, 33, 34, 35, 34, 35, 36, 37, 36, 37, 42, 43, 44, 43, 44, 45, 46, 47, 46, 47, 48, 49, 48, 49, 50, 51, 50, 53, 52, 53, 54, 55, 54, 53, 54, 56, 55, 54, 56, 62, 61, 62, 61, 60, 61, 62, 63, 64, 63, 62, 63, 64, 65, 66, 67, 68, 69, 70, 71, 72, 77, 78, 82, 83, 82, 83, 82, 83, 84, 83, 82], [0, 1, 2, 3, 4, 3, 2, 1, 2, 1, 2, 1, 0, 0, 1, 0, 5, 4, 10, 9, 10, 11, 10, 9, 10, 9, 8, 12, 13, 14, 13, 14, 17, 18, 19, 20, 19, 20, 19, 20, 21, 22, 21, 22, 28, 32, 36, 42, 41, 40, 39, 40, 41, 40, 39, 38, 39, 41, 42, 41, 42, 41, 42, 41, 40, 39, 38, 37, 40, 44, 43, 44, 43, 49, 50, 51, 52, 53, 52, 53, 52, 51, 52, 51, 54, 57, 58, 59, 58, 59, 60, 63, 64, 65, 66, 67, 68, 69, 70, 69, 70], [0, 1, 0, 0, 1, 2, 1, 0, 0, 0, 0, 1, 2, 1, 0, 0, 0, 0, 1, 0, 0, 3, 4, 5, 8, 13, 12, 11, 17, 19, 18, 19, 20, 22, 28, 29, 28, 27, 28, 29, 30, 35, 36, 37, 38, 37, 38, 37, 36, 37, 38, 39, 38, 41, 40, 44, 45, 44, 45, 48, 49, 48, 52, 51, 50, 51, 52, 53, 55, 56, 55, 56, 55, 60, 59, 58, 59, 60, 61, 62, 63, 64, 63, 64, 65, 66, 67, 68, 67, 68, 67, 68, 69, 68, 67, 66, 67, 66, 68, 67, 68], [0, 0, 1, 2, 3, 7, 8, 7, 8, 9, 12, 13, 12, 13, 12, 13, 14, 13, 12, 13, 12, 13, 15, 14, 15, 14, 13, 16, 17, 18, 19, 25, 24, 23, 22, 23, 24, 25, 26, 27, 28, 29, 30, 31, 32, 34, 35, 39, 41, 42, 43, 44, 45, 46, 45, 44, 45, 46, 47, 48, 49, 50, 51, 50, 51, 52, 51, 52, 51, 50, 51, 50, 49, 50, 51, 52, 53, 52, 53, 54, 55, 54, 55, 56, 55, 56, 57, 58, 59, 58, 59, 60, 61, 64, 63, 64, 65, 66, 65, 66, 72], [0, 1, 0, 5, 6, 5, 1, 2, 6, 5, 6, 7, 6, 7, 6, 7, 13, 14, 15, 14, 13, 14, 15, 16, 15, 14, 15, 16, 15, 16, 17, 16, 15, 18, 19, 20, 21, 22, 23, 24, 25, 26, 27, 28, 29, 30, 29, 30, 29, 30, 29, 28, 29, 31, 30, 29, 30, 31, 30, 29, 30, 31, 30, 31, 32, 33, 34, 33, 34, 35, 34, 33, 38, 40, 41, 42, 43, 44, 43, 42, 43, 44, 45, 46, 51, 50, 51, 50, 49, 50, 51, 52, 51, 53, 52, 51, 50, 51, 52, 51, 52], [0, 1, 2, 3, 2, 5, 6, 7, 6, 7, 8, 7, 8, 9, 8, 9, 8, 7, 8, 9, 8, 9, 8, 9, 10, 11, 15, 18, 19, 20, 21, 22, 21, 22, 23, 24, 26, 27, 26, 27, 28, 27, 29, 30, 31, 30, 29, 30, 31, 32, 33, 32, 33, 34, 39, 40, 39, 38, 37, 42, 43, 44, 45, 44, 46, 45, 44, 45, 46, 47, 48, 49, 54, 53, 52, 53, 54, 58, 59, 60, 59, 60, 61, 60, 61, 62, 63, 64, 63, 62, 61, 60, 61, 62, 61, 60, 61, 62, 63, 62, 63], [0, 1, 2, 1, 0, 1, 2, 3, 4, 3, 2, 3, 2, 1, 2, 6, 5, 6, 7, 8, 7, 6, 7, 8, 7, 11, 10, 11, 12, 13, 12, 11, 12, 11, 12, 11, 12, 11, 10, 16, 15, 14, 13, 12, 13, 14, 15, 16, 15, 16, 20, 19, 18, 19, 20, 21, 22, 25, 24, 23, 24, 26, 25, 29, 30, 31, 32, 33, 34, 35, 37, 36, 35, 34, 35, 36, 35, 37, 43, 44, 45, 46, 49, 50, 51, 52, 51, 52, 53, 52, 53, 54, 55, 56, 61, 67, 71, 70, 69, 72, 73], [0, 1, 0, 1, 2, 1, 5, 6, 5, 6, 7, 8, 9, 10, 11, 12, 11, 15, 14, 15, 14, 16, 17, 16, 20, 24, 23, 1, 2, 3, 4, 3, 4, 5, 6, 7, 8, 7, 8, 14, 15, 16, 15, 20, 19, 20, 19, 20, 21, 20, 19, 20, 19, 23, 24, 30, 31, 32, 33, 34, 35, 34, 36, 37, 43, 42, 43, 44, 43, 44, 43, 44, 43, 44, 43, 44, 43, 42, 41, 40, 41, 47, 48, 54, 53, 52, 53, 52, 51, 52, 57, 56, 57, 58, 57, 58, 59, 63, 68, 69, 68], [0, 1, 0, 1, 5, 6, 5, 6, 10, 9, 12, 13, 18, 23, 24, 25, 26, 27, 28, 29, 32, 31, 30, 31, 32, 33, 38, 39, 40, 41, 40, 41, 42, 45, 46, 47, 50, 49, 50, 49, 50, 49, 50, 49, 50, 51, 52, 53, 54, 53, 54, 53, 54, 55, 56, 55, 56, 60, 59, 58, 57, 58, 59, 58, 57, 56, 55, 56, 57, 58, 59, 63, 64, 68, 69, 70, 71, 70, 71, 72, 73, 74, 73, 74, 75, 80, 81, 83, 82, 87, 88, 89, 90, 89, 88, 89, 90, 89, 91, 92, 93], [0, 0, 0, 1, 2, 3, 4, 5, 4, 6, 5, 6, 5, 6, 5, 6, 7, 12, 13, 12, 11, 10, 11, 12, 13, 14, 15, 16, 15, 16, 15, 16, 17, 18, 19, 18, 19, 18, 19, 20, 19, 22, 24, 25, 29, 28, 31, 30, 29, 30, 31, 30, 29, 30, 35, 40, 39, 45, 46, 49, 48, 49, 48, 53, 54, 55, 56, 60, 61, 62, 63, 65, 64, 63, 64, 69, 70, 71, 72, 71, 72, 73, 72, 71, 70, 69, 75, 74, 75, 76, 77, 78, 77, 78, 79, 80, 81, 84, 83, 82, 83], [0, 1, 2, 3, 2, 3, 4, 5, 11, 10, 11, 12, 14, 13, 14, 13, 18, 19, 20, 21, 22, 21, 20, 21, 20, 21, 20, 19, 18, 19, 20, 19, 18, 19, 20, 21, 20, 19, 18, 17, 18, 19, 20, 21, 20, 19, 21, 22, 21, 22, 23, 24, 25, 26, 25, 26, 27, 28, 29, 30, 31, 32, 33, 32, 31, 32, 33, 32, 36, 37, 36, 37, 38, 39, 40, 41, 40, 39, 38, 39, 40, 45, 46, 47, 48, 49, 50, 51, 52, 53, 54, 53, 54, 55, 56, 57, 58, 57, 58, 64, 65], [0, 0, 0, 1, 2, 3, 7, 8, 9, 10, 11, 12, 13, 14, 13, 12, 11, 12, 14, 16, 17, 18, 21, 27, 28, 27, 26, 27, 26, 25, 26, 27, 28, 29, 28, 27, 26, 27, 28, 33, 34, 33, 36, 37, 38, 39, 40, 41, 40, 39, 38, 37, 40, 41, 42, 43, 49, 48, 49, 50, 51, 52, 53, 54, 53, 52, 51, 52, 53, 52, 51, 50, 51, 52, 51, 52, 53, 54, 53, 54, 56, 57, 56, 55, 56, 57, 58, 60, 61, 63, 69, 68, 69, 70, 69, 70, 69, 70, 69, 68, 69], [0, 1, 2, 3, 2, 3, 9, 8, 9, 10, 11, 15, 16, 15, 16, 15, 14, 15, 16, 15, 16, 19, 25, 31, 30, 31, 32, 33, 34, 33, 32, 33, 32, 33, 34, 35, 37, 40, 41, 42, 43, 44, 43, 44, 45, 44, 45, 46, 47, 48, 47, 46, 45, 44, 45, 46, 45, 46, 45, 46, 47, 48, 47, 50, 51, 57, 58, 57, 58, 59, 60, 61, 62, 63, 64, 65, 64, 65, 66, 67, 66, 65, 66, 65, 64, 65, 66, 69, 70, 72, 73, 74, 73, 72, 73, 72, 77, 76, 75, 74, 75], [0, 0, 0, 0, 1, 2, 3, 4, 5, 6, 7, 8, 7, 8, 7, 8, 7, 6, 7, 8, 7, 8, 7, 6, 7, 8, 9, 8, 7, 6, 5, 6, 7, 8, 7, 10, 11, 10, 9, 10, 9, 13, 14, 13, 15, 14, 15, 16, 17, 18, 19, 25, 24, 23, 24, 23, 22, 24, 25, 26, 25, 26, 25, 26, 27, 28, 29, 33, 34, 33, 34, 35, 36, 37, 38, 44, 43, 46, 47, 48, 47, 46, 47, 48, 47, 46, 49, 50, 49, 50, 49, 50, 52, 51, 50, 49, 48, 49, 50, 51, 50], [0, 0, 0, 1, 0, 1, 2, 1, 0, 1, 2, 1, 2, 5, 6, 5, 6, 10, 11, 10, 11, 12, 13, 14, 17, 18, 19, 21, 20, 21, 20, 19, 18, 17, 18, 17, 22, 23, 24, 25, 24, 23, 24, 25, 26, 31, 32, 31, 32, 33, 37, 38, 37, 38, 39, 40, 39, 44, 45, 46, 47, 51, 57, 58, 57, 58, 59, 58, 59, 58, 59, 58, 62, 63, 64, 65, 66, 70, 71, 70, 71, 74, 73, 79, 80, 84, 85, 84, 83, 82, 83, 82, 83, 82, 83, 84, 83, 84, 83, 84, 85], [0, 1, 2, 3, 8, 7, 8, 7, 6, 5, 4, 3, 9, 8, 12, 13, 12, 13, 12, 13, 12, 11, 14, 15, 16, 17, 16, 20, 21, 23, 28, 29, 30, 29, 35, 36, 39, 40, 41, 42, 41, 42, 41, 42, 41, 42, 45, 44, 45, 46, 47, 46, 47, 46, 47, 48, 49, 50, 51, 50, 56, 57, 58, 63, 64, 65, 66, 67, 68, 67, 66, 65, 66, 71, 72, 73, 74, 77, 76, 75, 76, 75, 74, 73, 72, 73, 79, 80, 81, 82, 83, 84, 85, 86, 87, 88, 89, 90, 91, 92, 93], [0, 1, 2, 5, 6, 7, 8, 7, 8, 9, 10, 14, 15, 14, 15, 16, 15, 14, 13, 12, 13, 14, 15, 16, 21, 22, 23, 27, 26, 27, 26, 25, 24, 30, 31, 30, 29, 30, 31, 32, 34, 38, 39, 38, 39, 40, 41, 44, 43, 44, 48, 54, 53, 59, 58, 59, 61, 60, 64, 66, 67, 68, 67, 68, 69, 68, 67, 66, 67, 68, 67, 66, 65, 66, 65, 66, 67, 68, 69, 70, 71, 72, 73, 72, 71, 70, 71, 75, 76, 75, 76, 75, 76, 75, 74, 75, 74, 73, 72, 71, 70], [0, 1, 3, 4, 5, 6, 7, 8, 7, 6, 7, 6, 7, 6, 5, 7, 6, 7, 8, 7, 6, 8, 9, 10, 9, 10, 9, 14, 15, 21, 22, 23, 24, 23, 22, 23, 22, 21, 22, 23, 24, 23, 24, 25, 24, 23, 22, 21, 20, 19, 20, 19, 20, 19, 20, 19, 20, 19, 20, 21, 22, 23, 24, 23, 24, 25, 26, 25, 30, 29, 30, 32, 33, 32, 36, 35, 37, 38, 37, 36, 42, 43, 42, 43, 44, 45, 44, 45, 44, 45, 46, 47, 48, 47, 48, 52, 53, 54, 55, 54, 55], [0, 1, 0, 1, 2, 3, 4, 5, 9, 8, 7, 10, 11, 12, 11, 12, 15, 14, 15, 16, 17, 16, 15, 16, 15, 16, 15, 19, 20, 21, 20, 21, 22, 23, 24, 23, 22, 25, 24, 23, 22, 21, 26, 25, 28, 27, 26, 27, 26, 27, 30, 31, 30, 31, 30, 31, 34, 35, 36, 37, 38, 39, 42, 43, 42, 43, 44, 45, 48, 49, 48, 54, 55, 56, 57, 56, 57, 58, 59, 58, 59, 60, 62, 63, 67, 68, 69, 70, 69, 70, 69, 70, 71, 72, 73, 74, 73, 74, 77, 79, 80], [0, 4, 5, 7, 8, 9, 13, 14, 18, 17, 23, 22, 23, 22, 23, 24, 25, 24, 27, 29, 28, 27, 28, 29, 28, 29, 30, 31, 32, 33, 34, 39, 38, 37, 38, 39, 38, 39, 40, 41, 42, 43, 49, 50, 49, 50, 49, 48, 49, 48, 47, 48, 49, 51, 57, 56, 57, 58, 64, 65, 64, 65, 66, 65, 66, 70, 76, 78, 77, 76, 77, 78, 77, 78, 83, 84, 85, 84, 85, 86, 85, 84, 85, 86, 87, 89, 92, 93, 99, 100, 101, 102, 101, 102, 101, 104, 105, 110, 112, 111, 112], [0, 1, 2, 1, 4, 3, 2, 7, 8, 9, 10, 11, 10, 11, 10, 11, 12, 13, 17, 16, 17, 18, 19, 20, 21, 22, 21, 25, 26, 27, 28, 27, 26, 25, 26, 25, 28, 29, 30, 32, 31, 30, 29, 30, 34, 35, 36, 37, 38, 37, 36, 35, 34, 33, 32, 31, 35, 36, 37, 36, 39, 40, 39, 38, 39, 41, 42, 41, 40, 41, 40, 45, 50, 52, 53, 54, 53, 58, 57, 58, 57, 56, 60, 65, 64, 65, 64, 65, 64, 63, 69, 70, 69, 70, 69, 70, 69, 70, 71, 72, 78], [0, 1, 2, 1, 0, 0, 1, 0, 4, 5, 4, 5, 4, 6, 5, 6, 5, 4, 3, 4, 5, 4, 5, 4, 3, 5, 4, 3, 2, 3, 2, 3, 4, 5, 8, 7, 12, 13, 14, 15, 16, 15, 16, 15, 16, 17, 16, 17, 16, 17, 18, 17, 23, 24, 25, 30, 31, 32, 31, 32, 31, 30, 31, 35, 36, 37, 42, 43, 44, 47, 51, 52, 53, 52, 51, 52, 53, 54, 57, 58, 59, 60, 61, 62, 63, 64, 63, 62, 64, 65, 66, 67, 68, 67, 68, 67, 66, 67, 68, 67, 72], [0, 6, 8, 9, 10, 9, 10, 11, 10, 11, 10, 11, 10, 11, 10, 11, 10, 9, 10, 11, 12, 18, 19, 20, 19, 20, 19, 20, 21, 20, 19, 20, 19, 20, 26, 27, 26, 25, 26, 25, 24, 27, 32, 33, 34, 37, 36, 35, 36, 40, 39, 40, 39, 40, 41, 42, 47, 48, 49, 50, 51, 52, 51, 52, 51, 53, 55, 56, 58, 57, 58, 57, 58, 59, 58, 64, 65, 66, 65, 66, 67, 66, 67, 66, 67, 68, 69, 70, 71, 72, 73, 74, 79, 80, 81, 85, 86, 87, 86, 87, 90], [0, 0, 1, 2, 3, 7, 6, 5, 4, 5, 6, 7, 8, 9, 14, 13, 12, 15, 16, 17, 16, 15, 14, 13, 12, 13, 14, 13, 12, 16, 20, 21, 20, 24, 25, 26, 27, 28, 29, 30, 31, 34, 35, 36, 37, 38, 39, 40, 41, 42, 41, 40, 39, 40, 45, 44, 43, 42, 43, 44, 45, 46, 47, 48, 47, 48, 47, 52, 53, 52, 53, 52, 53, 54, 55, 54, 58, 59, 60, 59, 58, 59, 60, 63, 64, 65, 66, 65, 66, 67, 66, 67, 68, 69, 70, 71, 72, 73, 74, 76, 75], [0, 1, 2, 3, 4, 5, 4, 10, 9, 10, 9, 8, 7, 8, 7, 6, 7, 8, 9, 8, 7, 12, 11, 10, 11, 10, 11, 10, 14, 15, 14, 15, 16, 20, 21, 22, 23, 24, 25, 24, 23, 24, 25, 28, 34, 35, 34, 33, 32, 31, 30, 31, 34, 38, 44, 45, 44, 43, 44, 45, 46, 47, 53, 54, 55, 57, 58, 59, 60, 61, 60, 61, 62, 63, 64, 63, 62, 63, 65, 64, 65, 64, 65, 66, 67, 66, 67, 66, 67, 66, 67, 68, 67, 71, 70, 69, 68, 69, 68, 69, 74], [0, 0, 0, 1, 0, 3, 2, 3, 4, 5, 4, 3, 4, 5, 6, 5, 10, 9, 10, 9, 13, 12, 11, 12, 11, 16, 17, 16, 15, 16, 15, 16, 15, 14, 15, 16, 21, 22, 23, 24, 25, 28, 29, 30, 29, 30, 31, 32, 33, 34, 40, 41, 42, 46, 45, 44, 45, 44, 45, 44, 43, 44, 47, 48, 49, 48, 52, 51, 52, 51, 52, 53, 54, 55, 54, 55, 56, 55, 54, 55, 56, 57, 60, 59, 60, 63, 64, 63, 64, 65, 66, 69, 70, 74, 80, 81, 82, 83, 84, 83, 84], [0, 0, 2, 1, 0, 0, 1, 0, 0, 1, 0, 0, 0, 1, 2, 1, 0, 0, 6, 5, 11, 12, 13, 12, 13, 12, 13, 14, 15, 14, 15, 14, 13, 12, 11, 12, 11, 12, 11, 10, 11, 10, 11, 12, 14, 13, 14, 13, 15, 16, 17, 16, 15, 16, 17, 16, 22, 23, 29, 30, 29, 28, 32, 33, 34, 33, 32, 33, 32, 31, 37, 38, 37, 38, 40, 41, 42, 43, 44, 48, 49, 54, 55, 57, 61, 60, 59, 60, 59, 58, 59, 60, 59, 65, 66, 67, 68, 69, 73, 74, 75], [0, 0, 1, 0, 0, 6, 7, 8, 9, 10, 11, 12, 13, 14, 13, 12, 13, 12, 11, 12, 18, 19, 20, 21, 20, 19, 22, 23, 26, 27, 26, 25, 26, 27, 28, 27, 28, 27, 28, 29, 30, 29, 30, 31, 30, 31, 32, 35, 34, 35, 36, 37, 41, 42, 43, 44, 48, 47, 48, 49, 50, 51, 50, 52, 53, 54, 55, 56, 57, 58, 59, 60, 61, 66, 65, 66, 67, 68, 69, 70, 74, 73, 74, 75, 76, 81, 80, 79, 80, 79, 78, 79, 80, 79, 78, 79, 78, 77, 79, 80, 81], [0, 6, 7, 8, 9, 8, 7, 8, 7, 8, 7, 8, 7, 8, 9, 8, 7, 8, 7, 6, 11, 10, 9, 8, 9, 10, 9, 8, 9, 8, 7, 8, 7, 6, 7, 6, 7, 8, 9, 11, 10, 9, 10, 11, 10, 11, 12, 11, 16, 15, 14, 13, 14, 17, 18, 17, 19, 20, 23, 24, 25, 26, 27, 28, 33, 36, 37, 36, 37, 38, 39, 44, 43, 42, 46, 47, 48, 49, 50, 49, 50, 49, 50, 51, 56, 61, 62, 68, 69, 70, 71, 70, 71, 72, 73, 79, 78, 77, 81, 80, 81], [0, 6, 7, 8, 9, 10, 11, 12, 18, 19, 18, 19, 18, 17, 21, 22, 23, 24, 25, 24, 25, 26, 25, 24, 25, 26, 27, 26, 25, 24, 25, 26, 25, 24, 23, 24, 29, 28, 27, 26, 25, 26, 25, 24, 25, 29, 30, 31, 32, 31, 32, 31, 35, 36, 37, 42, 43, 42, 43, 42, 41, 42, 43, 44, 45, 44, 45, 46, 45, 51, 50, 49, 50, 49, 48, 47, 52, 51, 52, 51, 52, 57, 56, 57, 60, 66, 67, 68, 67, 68, 69, 68, 71, 70, 71, 72, 76, 75, 76, 80, 81], [0, 0, 2, 3, 2, 5, 7, 6, 7, 10, 11, 12, 11, 12, 13, 17, 16, 15, 16, 17, 18, 19, 18, 17, 19, 18, 19, 20, 19, 20, 21, 20, 19, 20, 21, 22, 23, 29, 30, 31, 33, 34, 35, 36, 37, 38, 37, 38, 39, 38, 37, 36, 40, 39, 40, 39, 38, 37, 38, 39, 40, 39, 40, 41, 40, 41, 40, 39, 40, 41, 42, 43, 44, 45, 44, 45, 44, 43, 48, 49, 50, 51, 52, 53, 54, 53, 58, 59, 60, 61, 60, 61, 60, 59, 58, 59, 60, 66, 67, 70, 71], [0, 1, 0, 0, 1, 0, 2, 8, 9, 14, 15, 20, 23, 24, 25, 24, 23, 24, 25, 24, 25, 24, 25, 26, 27, 26, 25, 26, 25, 27, 28, 29, 30, 31, 30, 31, 32, 36, 37, 38, 39, 38, 39, 40, 39, 44, 45, 51, 50, 49, 50, 51, 50, 51, 50, 51, 52, 53, 52, 53, 55, 54, 55, 54, 53, 52, 54, 59, 60, 65, 70, 69, 70, 69, 70, 69, 74, 73, 72, 73, 72, 71, 72, 71, 72, 73, 75, 76, 77, 80, 81, 82, 83, 84, 85, 86, 87, 88, 90, 94, 93], [0, 1, 2, 1, 2, 3, 2, 3, 2, 1, 2, 3, 4, 3, 8, 7, 8, 7, 8, 9, 10, 9, 10, 11, 12, 13, 14, 13, 14, 15, 16, 15, 16, 17, 22, 26, 25, 26, 27, 26, 31, 32, 31, 30, 32, 33, 34, 35, 34, 35, 36, 37, 38, 42, 41, 40, 39, 38, 39, 40, 41, 42, 43, 44, 45, 46, 47, 48, 47, 48, 49, 50, 51, 52, 53, 58, 59, 60, 61, 60, 59, 64, 63, 62, 63, 62, 61, 62, 63, 62, 63, 65, 69, 70, 69, 70, 69, 70, 69, 68, 67], [0, 0, 1, 0, 1, 0, 0, 2, 6, 7, 13, 12, 13, 14, 15, 16, 15, 16, 15, 14, 15, 16, 15, 14, 13, 16, 17, 18, 19, 18, 17, 16, 17, 18, 23, 22, 23, 24, 23, 26, 27, 26, 27, 26, 27, 26, 25, 26, 25, 24, 26, 27, 26, 0, 0, 0, 0, 1, 2, 3, 4, 5, 11, 10, 11, 12, 13, 12, 13, 12, 17, 16, 17, 16, 15, 14, 17, 23, 27, 28, 29, 28, 29, 33, 34, 36, 37, 42, 45, 50, 49, 54, 58, 57, 56, 57, 56, 57, 58, 57, 58], [0, 1, 2, 4, 3, 4, 5, 6, 7, 6, 7, 13, 17, 16, 15, 16, 17, 18, 17, 23, 24, 23, 22, 21, 22, 21, 22, 23, 22, 23, 24, 25, 26, 25, 26, 27, 28, 27, 28, 34, 35, 34, 33, 34, 35, 34, 33, 39, 40, 41, 42, 41, 40, 39, 40, 41, 45, 46, 47, 49, 50, 51, 50, 51, 52, 51, 52, 53, 58, 59, 64, 63, 64, 67, 66, 67, 68, 69, 70, 69, 68, 67, 68, 67, 68, 69, 70, 75, 76, 75, 76, 77, 78, 77, 76, 77, 78, 77, 76, 82, 81], [0, 1, 0, 0, 0, 0, 1, 2, 3, 4, 3, 4, 9, 8, 7, 8, 9, 10, 9, 8, 9, 10, 9, 15, 14, 13, 16, 18, 19, 22, 21, 20, 19, 20, 21, 22, 23, 22, 23, 22, 23, 24, 23, 22, 23, 24, 25, 26, 27, 28, 27, 26, 29, 30, 31, 32, 31, 33, 34, 35, 36, 37, 38, 37, 38, 39, 40, 43, 44, 45, 48, 49, 50, 51, 50, 49, 50, 51, 50, 49, 50, 51, 52, 51, 52, 51, 56, 55, 59, 58, 59, 60, 59, 60, 61, 62, 63, 62, 63, 62, 63], [0, 0, 0, 1, 0, 1, 2, 3, 7, 13, 14, 15, 16, 15, 16, 15, 14, 15, 20, 25, 24, 25, 24, 23, 22, 23, 27, 26, 28, 29, 30, 29, 28, 29, 31, 32, 31, 34, 33, 38, 37, 40, 39, 38, 43, 48, 47, 48, 47, 52, 56, 57, 62, 61, 62, 63, 68, 69, 70, 69, 68, 67, 68, 73, 74, 75, 74, 73, 74, 73, 74, 78, 77, 78, 77, 78, 79, 78, 79, 78, 79, 80, 81, 86, 85, 84, 85, 90, 91, 90, 89, 90, 89, 90, 91, 92, 91, 90, 89, 90, 93], [0, 1, 2, 3, 4, 7, 6, 7, 6, 5, 4, 3, 4, 3, 4, 3, 2, 7, 8, 9, 8, 7, 8, 13, 14, 13, 14, 19, 24, 25, 24, 25, 24, 30, 31, 32, 36, 37, 38, 39, 40, 41, 43, 44, 43, 42, 43, 44, 45, 46, 47, 46, 45, 46, 47, 50, 51, 57, 58, 57, 58, 57, 56, 60, 61, 62, 63, 64, 63, 64, 63, 64, 63, 62, 67, 66, 67, 68, 69, 70, 69, 70, 71, 72, 73, 74, 75, 76, 77, 82, 83, 84, 85, 86, 87, 88, 87, 86, 87, 88, 87], [0, 1, 2, 1, 2, 5, 6, 9, 15, 16, 15, 14, 13, 14, 13, 14, 18, 21, 22, 21, 23, 24, 23, 24, 26, 30, 31, 32, 38, 37, 36, 39, 44, 45, 46, 47, 48, 47, 46, 45, 50, 49, 50, 51, 50, 49, 51, 50, 49, 50, 51, 54, 53, 54, 55, 54, 55, 54, 53, 52, 53, 52, 53, 54, 55, 56, 55, 56, 55, 54, 53, 52, 53, 54, 55, 56, 55, 60, 59, 60, 61, 62, 61, 62, 63, 62, 63, 67, 73, 72, 77, 78, 79, 78, 84, 85, 84, 83, 84, 85, 84], [0, 1, 3, 4, 3, 4, 3, 4, 5, 6, 7, 6, 5, 6, 7, 6, 7, 8, 12, 11, 12, 18, 17, 18, 19, 20, 21, 22, 23, 22, 23, 24, 25, 26, 27, 28, 29, 30, 29, 28, 27, 26, 27, 28, 29, 30, 31, 30, 29, 28, 27, 28, 27, 28, 27, 26, 27, 28, 29, 28, 29, 32, 33, 34, 40, 41, 43, 42, 43, 46, 47, 46, 45, 44, 45, 44, 45, 46, 47, 48, 47, 48, 49, 48, 49, 50, 51, 52, 53, 52, 53, 54, 53, 56, 57, 56, 55, 54, 55, 56, 55], [0, 0, 0, 0, 4, 3, 4, 5, 4, 3, 4, 5, 6, 7, 8, 9, 10, 9, 8, 7, 8, 7, 8, 9, 10, 9, 8, 9, 15, 16, 17, 18, 19, 20, 19, 18, 17, 18, 17, 18, 20, 21, 22, 23, 26, 27, 28, 29, 30, 33, 32, 33, 34, 33, 39, 42, 41, 45, 44, 43, 42, 41, 42, 41, 42, 43, 44, 43, 42, 43, 44, 43, 44, 43, 44, 43, 42, 43, 47, 46, 45, 46, 51, 52, 51, 53, 54, 55, 56, 57, 56, 55, 56, 57, 56, 55, 54, 55, 54, 53, 54], [0, 1, 4, 3, 4, 5, 6, 7, 6, 7, 8, 7, 6, 7, 6, 5, 6, 7, 8, 7, 8, 7, 8, 13, 14, 13, 17, 20, 21, 22, 21, 22, 21, 22, 25, 26, 27, 28, 29, 34, 35, 34, 33, 34, 35, 36, 37, 38, 37, 38, 39, 38, 37, 38, 37, 36, 35, 34, 35, 36, 37, 39, 42, 43, 44, 46, 47, 52, 53, 54, 55, 56, 57, 56, 57, 58, 60, 61, 60, 61, 62, 67, 66, 65, 66, 69, 70, 71, 70, 69, 72, 73, 72, 76, 75, 74, 78, 82, 83, 84, 85], [0, 0, 1, 0, 1, 2, 1, 2, 1, 2, 3, 2, 3, 4, 5, 4, 5, 6, 5, 4, 5, 4, 3, 4, 5, 6, 5, 6, 7, 6, 5, 4, 3, 2, 1, 2, 1, 2, 7, 6, 5, 6, 5, 6, 7, 8, 9, 10, 9, 10, 9, 8, 14, 13, 14, 13, 14, 15, 20, 22, 23, 22, 23, 24, 25, 24, 25, 26, 27, 26, 27, 31, 30, 35, 34, 33, 32, 33, 35, 40, 39, 38, 37, 38, 41, 42, 41, 42, 43, 42, 41, 43, 44, 45, 44, 45, 49, 53, 52, 51, 52], [0, 0, 0, 1, 6, 7, 8, 9, 10, 11, 12, 13, 14, 15, 17, 16, 21, 22, 21, 20, 22, 23, 24, 25, 30, 31, 32, 33, 32, 31, 32, 33, 34, 35, 34, 33, 32, 31, 30, 31, 30, 31, 32, 33, 32, 33, 38, 39, 45, 46, 45, 46, 45, 44, 43, 44, 43, 42, 41, 42, 41, 42, 43, 44, 46, 47, 48, 49, 48, 49, 48, 49, 48, 54, 55, 56, 57, 61, 62, 65, 64, 68, 71, 72, 71, 72, 73, 74, 75, 81, 82, 83, 84, 89, 88, 89, 90, 89, 90, 91, 92], [0, 1, 2, 3, 4, 3, 8, 9, 10, 9, 10, 11, 17, 22, 23, 22, 21, 22, 21, 27, 28, 32, 35, 36, 37, 36, 37, 36, 39, 42, 41, 40, 41, 42, 47, 48, 47, 48, 47, 48, 47, 48, 49, 52, 53, 52, 57, 63, 62, 61, 63, 62, 63, 64, 69, 70, 69, 70, 71, 72, 73, 74, 73, 72, 73, 75, 76, 77, 78, 79, 80, 81, 80, 79, 84, 85, 89, 88, 92, 93, 94, 93, 98, 97, 98, 99, 100, 101, 102, 103, 102, 103, 104, 105, 104, 105, 106, 105, 110, 111, 110], [0, 1, 2, 3, 2, 3, 4, 3, 2, 3, 4, 3, 4, 10, 11, 12, 13, 16, 15, 16, 20, 19, 24, 25, 24, 23, 29, 28, 29, 30, 31, 30, 31, 30, 29, 30, 31, 32, 33, 32, 31, 30, 29, 28, 29, 28, 33, 32, 31, 30, 34, 35, 36, 41, 40, 41, 40, 39, 38, 39, 38, 37, 38, 37, 38, 39, 38, 39, 40, 41, 40, 39, 40, 39, 40, 39, 38, 39, 41, 40, 41, 42, 41, 47, 48, 47, 50, 51, 50, 51, 52, 53, 52, 51, 52, 53, 56, 58, 59, 60, 59], [0, 1, 2, 3, 4, 5, 4, 5, 6, 5, 10, 9, 8, 10, 11, 10, 9, 8, 9, 10, 9, 10, 9, 10, 9, 13, 12, 11, 12, 13, 14, 15, 19, 18, 19, 18, 19, 20, 21, 20, 21, 22, 21, 22, 23, 22, 23, 24, 25, 26, 25, 24, 27, 33, 34, 35, 34, 35, 34, 35, 34, 39, 40, 41, 40, 41, 42, 43, 49, 50, 49, 55, 56, 55, 54, 55, 56, 55, 56, 55, 56, 57, 58, 59, 58, 59, 60, 59, 61, 60, 59, 58, 59, 60, 59, 58, 59, 60, 59, 60, 61], [0, 1, 2, 3, 4, 3, 4, 5, 6, 5, 10, 11, 12, 14, 13, 12, 13, 19, 24, 23, 24, 25, 26, 25, 24, 23, 24, 23, 28, 29, 28, 29, 30, 34, 33, 35, 36, 41, 44, 45, 44, 43, 48, 49, 48, 47, 46, 47, 48, 49, 48, 49, 50, 51, 52, 53, 52, 53, 59, 58, 62, 63, 68, 67, 68, 67, 68, 67, 68, 69, 70, 71, 70, 71, 70, 71, 70, 71, 72, 73, 74, 75, 74, 75, 76, 77, 76, 75, 76, 77, 76, 75, 74, 75, 76, 77, 76, 75, 76, 77, 76], [0, 0, 1, 0, 0, 0, 1, 2, 3, 4, 5, 6, 7, 8, 7, 6, 7, 6, 7, 6, 5, 8, 7, 8, 10, 11, 10, 11, 17, 18, 17, 16, 17, 16, 15, 16, 17, 18, 19, 18, 17, 19, 2, 7, 8, 9, 10, 11, 12, 13, 12, 16, 15, 16, 15, 16, 17, 16, 18, 19, 20, 21, 22, 21, 23, 22, 23, 22, 23, 22, 23, 22, 23, 24, 25, 26, 25, 24, 1, 2, 3, 2, 3, 4, 3, 2, 3, 4, 3, 4, 5, 6, 7, 8, 7, 6, 7, 8, 9, 10, 11], [0, 0, 6, 7, 8, 7, 6, 7, 8, 9, 8, 9, 10, 14, 15, 16, 17, 16, 17, 20, 21, 20, 21, 22, 21, 22, 23, 24, 25, 24, 25, 24, 25, 28, 29, 30, 31, 30, 29, 30, 29, 31, 37, 38, 40, 41, 42, 43, 44, 45, 51, 52, 51, 52, 51, 52, 55, 56, 55, 56, 57, 58, 57, 58, 59, 60, 59, 58, 57, 56, 55, 54, 53, 54, 58, 63, 65, 66, 65, 66, 71, 70, 75, 74, 75, 74, 73, 74, 75, 74, 73, 72, 71, 73, 72, 73, 74, 73, 74, 75, 80], [0, 1, 0, 1, 0, 1, 0, 0, 0, 0, 1, 2, 3, 9, 8, 9, 10, 9, 8, 9, 10, 14, 13, 14, 15, 14, 13, 14, 15, 16, 15, 16, 17, 18, 23, 24, 23, 22, 23, 27, 28, 29, 30, 29, 30, 31, 30, 31, 32, 33, 32, 33, 34, 35, 36, 35, 41, 42, 41, 40, 41, 45, 46, 47, 46, 47, 48, 47, 48, 52, 53, 52, 51, 52, 53, 54, 55, 56, 55, 56, 57, 56, 57, 58, 61, 65, 66, 67, 66, 67, 68, 69, 70, 71, 72, 73, 74, 73, 74, 77, 78], [0, 1, 0, 0, 1, 0, 1, 2, 3, 4, 5, 4, 5, 4, 5, 6, 7, 8, 9, 10, 11, 12, 11, 13, 14, 13, 19, 20, 19, 20, 21, 22, 23, 24, 23, 22, 21, 22, 21, 20, 21, 20, 22, 23, 22, 21, 22, 21, 22, 23, 22, 23, 24, 25, 29, 30, 31, 32, 31, 35, 36, 37, 38, 37, 38, 39, 40, 39, 40, 41, 42, 41, 42, 41, 40, 39, 40, 44, 43, 44, 43, 44, 45, 48, 49, 50, 51, 50, 51, 50, 53, 54, 58, 59, 60, 59, 60, 61, 62, 63, 62], [0, 1, 0, 1, 5, 4, 5, 6, 7, 6, 7, 6, 7, 8, 9, 8, 13, 14, 15, 20, 19, 20, 21, 20, 23, 22, 21, 20, 19, 25, 29, 30, 29, 30, 31, 30, 31, 34, 33, 34, 35, 36, 37, 36, 35, 36, 37, 38, 43, 49, 50, 55, 59, 60, 66, 67, 68, 67, 66, 65, 64, 67, 66, 65, 64, 65, 66, 67, 66, 67, 68, 70, 71, 72, 73, 74, 80, 81, 80, 79, 78, 79, 80, 86, 87, 91, 92, 93, 94, 93, 92, 91, 92, 98, 99, 100, 99, 100, 99, 100, 101], [0, 0, 1, 0, 1, 2, 1, 2, 3, 4, 5, 6, 5, 6, 5, 7, 8, 9, 12, 13, 14, 15, 19, 18, 19, 20, 21, 20, 19, 24, 25, 26, 27, 28, 29, 34, 35, 34, 35, 34, 35, 36, 37, 38, 37, 38, 37, 36, 37, 38, 39, 40, 39, 40, 41, 46, 47, 48, 49, 50, 49, 50, 51, 52, 53, 54, 53, 58, 59, 60, 61, 62, 66, 65, 64, 65, 64, 63, 65, 0, 0, 1, 0, 2, 3, 2, 1, 5, 4, 5, 4, 3, 2, 3, 4, 5, 4, 9, 8, 7, 8], [0, 0, 4, 5, 6, 5, 4, 3, 5, 4, 3, 2, 3, 4, 8, 9, 8, 9, 8, 7, 6, 12, 13, 17, 18, 19, 20, 21, 22, 21, 26, 27, 28, 29, 30, 31, 32, 33, 34, 35, 34, 35, 36, 37, 38, 39, 45, 44, 49, 50, 49, 48, 47, 48, 49, 48, 47, 48, 49, 48, 49, 50, 51, 50, 51, 50, 49, 48, 50, 51, 50, 51, 52, 53, 52, 51, 52, 53, 52, 51, 50, 51, 53, 54, 55, 56, 55, 60, 62, 61, 62, 64, 65, 64, 63, 62, 63, 64, 63, 64, 65], [0, 1, 2, 1, 0, 1, 2, 3, 4, 5, 4, 7, 8, 9, 10, 9, 8, 9, 8, 9, 10, 11, 12, 13, 14, 15, 14, 18, 23, 24, 23, 24, 25, 31, 32, 33, 34, 35, 34, 38, 39, 38, 39, 40, 39, 38, 37, 36, 37, 36, 35, 34, 33, 34, 33, 32, 36, 37, 42, 43, 44, 45, 44, 43, 42, 43, 42, 43, 44, 43, 44, 45, 46, 45, 46, 45, 46, 47, 46, 47, 46, 45, 46, 47, 48, 49, 50, 49, 48, 50, 51, 52, 51, 52, 51, 52, 53, 54, 55, 56, 57], [0, 1, 2, 1, 7, 6, 5, 4, 3, 2, 3, 8, 9, 10, 9, 10, 9, 8, 9, 15, 14, 13, 14, 15, 21, 24, 23, 22, 23, 22, 23, 22, 23, 24, 25, 31, 36, 35, 37, 39, 40, 39, 40, 41, 42, 41, 42, 43, 44, 49, 50, 51, 52, 53, 54, 55, 56, 55, 56, 57, 58, 57, 56, 57, 58, 59, 60, 61, 60, 61, 67, 71, 72, 71, 72, 73, 72, 73, 77, 81, 82, 83, 82, 83, 84, 85, 84, 85, 86, 85, 84, 85, 86, 87, 88, 89, 91, 92, 91, 90, 91], [0, 0, 1, 2, 8, 11, 12, 13, 18, 19, 20, 19, 20, 21, 22, 23, 22, 21, 20, 19, 18, 19, 20, 21, 22, 23, 22, 23, 24, 29, 28, 32, 33, 34, 33, 32, 31, 33, 34, 35, 37, 36, 37, 40, 39, 40, 46, 45, 44, 45, 46, 47, 48, 53, 55, 60, 59, 65, 66, 68, 69, 68, 70, 71, 70, 71, 72, 73, 72, 71, 72, 71, 77, 76, 75, 74, 73, 72, 71, 72, 71, 72, 75, 76, 77, 76, 77, 76, 77, 78, 77, 76, 77, 78, 77, 78, 79, 85, 86, 85, 84], [0, 1, 0, 1, 2, 4, 5, 4, 3, 4, 5, 6, 7, 9, 8, 9, 10, 11, 12, 11, 12, 11, 12, 13, 12, 13, 14, 13, 14, 13, 14, 15, 14, 13, 14, 15, 14, 15, 14, 15, 14, 15, 14, 15, 16, 21, 22, 23, 22, 23, 24, 25, 24, 23, 29, 28, 29, 30, 29, 31, 30, 29, 33, 34, 39, 40, 39, 40, 45, 46, 47, 48, 49, 48, 49, 50, 51, 50, 49, 51, 50, 49, 48, 53, 52, 53, 52, 53, 54, 55, 54, 55, 56, 57, 56, 57, 56, 59, 58, 59, 60], [0, 0, 3, 2, 3, 2, 1, 2, 7, 9, 10, 11, 12, 18, 17, 18, 20, 19, 20, 21, 20, 21, 20, 21, 25, 24, 23, 24, 25, 26, 25, 26, 27, 28, 30, 31, 30, 34, 35, 36, 37, 36, 37, 43, 42, 41, 42, 41, 42, 43, 44, 45, 46, 47, 48, 49, 50, 49, 50, 51, 50, 49, 50, 49, 54, 53, 54, 55, 54, 53, 52, 51, 50, 49, 48, 49, 50, 49, 50, 51, 50, 51, 52, 53, 54, 53, 52, 51, 50, 49, 48, 50, 51, 52, 53, 54, 55, 54, 56, 57, 58], [0, 1, 2, 3, 4, 10, 9, 10, 9, 8, 10, 11, 10, 11, 13, 14, 13, 14, 13, 14, 15, 16, 22, 23, 22, 23, 22, 23, 24, 25, 24, 25, 26, 25, 24, 25, 29, 32, 33, 32, 31, 35, 36, 42, 46, 47, 48, 49, 48, 47, 46, 47, 48, 49, 50, 51, 52, 53, 57, 58, 59, 60, 59, 60, 61, 60, 61, 63, 65, 68, 69, 70, 71, 70, 69, 75, 76, 77, 76, 78, 77, 76, 77, 76, 75, 76, 77, 76, 77, 78, 77, 76, 75, 76, 80, 79, 80, 79, 78, 79, 80], [0, 0, 0, 0, 0, 0, 1, 2, 8, 9, 10, 11, 12, 11, 12, 13, 12, 13, 14, 15, 16, 15, 16, 15, 14, 15, 14, 15, 14, 15, 16, 15, 16, 17, 18, 22, 23, 24, 25, 24, 25, 24, 23, 22, 21, 27, 26, 27, 26, 27, 28, 29, 28, 27, 26, 27, 26, 27, 26, 27, 28, 29, 28, 29, 30, 31, 32, 38, 37, 38, 39, 40, 41, 40, 44, 45, 46, 47, 48, 54, 53, 54, 53, 58, 57, 56, 55, 56, 55, 54, 53, 52, 53, 54, 55, 56, 57, 60, 59, 60, 61], [0, 1, 0, 0, 1, 0, 4, 7, 6, 7, 8, 9, 8, 7, 8, 9, 8, 12, 11, 12, 18, 19, 22, 23, 24, 28, 29, 30, 29, 30, 29, 30, 29, 30, 29, 35, 34, 35, 36, 37, 38, 37, 38, 39, 44, 49, 48, 49, 50, 49, 50, 51, 52, 51, 52, 58, 57, 58, 59, 58, 59, 60, 62, 63, 62, 63, 64, 63, 64, 63, 64, 65, 64, 63, 64, 63, 69, 70, 71, 72, 76, 75, 76, 77, 78, 77, 78, 83, 82, 81, 80, 81, 82, 83, 84, 83, 82, 81, 82, 81, 82], [0, 0, 1, 2, 1, 2, 1, 5, 6, 12, 13, 12, 11, 10, 9, 10, 11, 10, 9, 15, 16, 17, 18, 17, 18, 19, 18, 17, 18, 19, 20, 21, 20, 23, 22, 21, 25, 26, 27, 28, 34, 35, 36, 37, 38, 37, 38, 37, 38, 39, 40, 46, 47, 48, 49, 50, 51, 52, 51, 52, 53, 52, 56, 57, 58, 59, 58, 63, 64, 63, 64, 65, 66, 67, 68, 67, 66, 67, 68, 69, 70, 71, 70, 71, 70, 75, 76, 77, 78, 80, 82, 83, 87, 86, 90, 91, 90, 89, 90, 89, 90], [0, 1, 2, 1, 2, 5, 6, 7, 8, 9, 10, 14, 13, 12, 13, 12, 13, 17, 16, 17, 18, 19, 20, 21, 20, 24, 25, 27, 26, 25, 26, 27, 28, 29, 28, 27, 28, 27, 28, 29, 28, 29, 30, 31, 37, 38, 37, 38, 39, 40, 39, 40, 41, 40, 41, 42, 41, 42, 43, 48, 49, 48, 52, 53, 54, 55, 54, 53, 58, 61, 60, 61, 62, 63, 64, 63, 64, 63, 62, 63, 64, 63, 62, 63, 64, 69, 70, 71, 70, 69, 70, 71, 70, 69, 70, 71, 76, 77, 76, 82, 83], [0, 0, 1, 0, 0, 0, 1, 2, 1, 4, 3, 2, 6, 7, 8, 7, 8, 9, 8, 9, 8, 9, 10, 9, 10, 9, 8, 9, 10, 11, 12, 11, 15, 16, 17, 18, 19, 18, 19, 20, 21, 22, 26, 27, 28, 27, 28, 27, 28, 29, 28, 29, 28, 34, 35, 40, 39, 40, 39, 40, 41, 42, 41, 42, 45, 44, 45, 44, 45, 46, 47, 48, 47, 46, 47, 46, 45, 51, 50, 49, 48, 47, 48, 53, 52, 53, 52, 51, 57, 56, 57, 56, 55, 56, 57, 59, 58, 59, 58, 59, 60], [0, 6, 5, 4, 5, 4, 5, 6, 5, 8, 9, 10, 11, 12, 13, 14, 15, 14, 13, 14, 13, 14, 15, 16, 17, 22, 23, 24, 25, 24, 25, 24, 25, 24, 25, 26, 25, 24, 30, 29, 30, 32, 36, 35, 36, 35, 36, 37, 36, 37, 36, 37, 36, 37, 38, 39, 40, 41, 40, 45, 49, 50, 53, 52, 56, 57, 62, 63, 65, 64, 63, 62, 63, 64, 65, 64, 65, 64, 65, 66, 68, 67, 68, 67, 66, 67, 68, 67, 68, 71, 72, 73, 76, 75, 74, 75, 76, 77, 76, 77, 78], [0, 1, 0, 1, 2, 3, 4, 3, 7, 13, 16, 15, 16, 17, 18, 22, 23, 27, 28, 32, 31, 32, 33, 32, 31, 34, 35, 36, 37, 36, 35, 34, 33, 34, 35, 36, 37, 38, 44, 43, 44, 45, 49, 50, 49, 48, 51, 53, 54, 55, 54, 53, 54, 53, 56, 57, 58, 57, 56, 55, 56, 57, 58, 60, 61, 62, 63, 64, 63, 62, 63, 64, 65, 64, 63, 64, 63, 64, 65, 70, 69, 70, 71, 72, 73, 72, 73, 78, 79, 78, 77, 76, 75, 76, 75, 76, 77, 78, 77, 78, 77], [0, 1, 2, 1, 2, 3, 2, 5, 4, 5, 6, 5, 6, 5, 6, 12, 13, 12, 13, 14, 15, 16, 21, 22, 21, 20, 21, 20, 22, 25, 26, 32, 31, 32, 31, 30, 31, 32, 31, 32, 33, 32, 33, 34, 33, 32, 31, 30, 31, 30, 29, 30, 31, 35, 36, 35, 36, 40, 41, 43, 42, 41, 40, 41, 42, 41, 42, 43, 44, 50, 49, 50, 54, 55, 56, 57, 58, 57, 58, 59, 60, 61, 66, 65, 66, 67, 66, 65, 66, 65, 64, 65, 64, 65, 64, 63, 62, 63, 65, 66, 67], [0, 1, 0, 1, 2, 1, 0, 1, 2, 1, 2, 6, 5, 6, 5, 4, 5, 4, 5, 6, 7, 6, 7, 8, 9, 10, 9, 10, 11, 17, 18, 19, 20, 19, 22, 21, 22, 25, 26, 27, 28, 27, 28, 30, 29, 30, 29, 33, 34, 36, 35, 40, 41, 42, 41, 44, 45, 44, 45, 50, 49, 48, 47, 48, 49, 50, 51, 52, 53, 54, 55, 54, 55, 54, 53, 54, 55, 61, 60, 59, 60, 61, 60, 61, 66, 70, 69, 68, 67, 66, 67, 66, 67, 68, 67, 68, 69, 68, 67, 69, 73], [0, 0, 0, 1, 0, 1, 2, 3, 4, 3, 5, 9, 10, 9, 12, 11, 12, 13, 12, 11, 10, 11, 10, 12, 13, 14, 15, 16, 17, 18, 19, 23, 22, 24, 23, 24, 25, 26, 25, 24, 23, 24, 23, 22, 21, 22, 21, 23, 22, 21, 25, 24, 25, 24, 29, 30, 31, 30, 31, 32, 33, 34, 35, 36, 37, 36, 35, 34, 33, 34, 35, 36, 37, 36, 37, 36, 37, 38, 42, 43, 44, 45, 46, 47, 48, 49, 50, 49, 50, 49, 50, 49, 50, 51, 52, 53, 54, 55, 54, 57, 58], [0, 0, 0, 1, 0, 3, 2, 7, 11, 12, 11, 10, 11, 10, 11, 15, 16, 17, 16, 17, 16, 17, 18, 21, 22, 23, 24, 25, 24, 26, 32, 33, 32, 33, 32, 33, 32, 33, 34, 33, 39, 40, 41, 40, 44, 50, 52, 53, 54, 53, 54, 56, 60, 59, 60, 59, 60, 61, 60, 62, 64, 63, 64, 70, 71, 70, 69, 70, 69, 68, 67, 66, 67, 66, 67, 68, 67, 73, 79, 78, 79, 78, 79, 78, 79, 80, 81, 80, 83, 84, 85, 86, 87, 88, 89, 88, 87, 88, 89, 88, 87], [0, 1, 2, 3, 2, 6, 7, 8, 7, 8, 9, 10, 16, 15, 21, 20, 22, 21, 20, 21, 20, 21, 22, 23, 24, 25, 26, 27, 26, 27, 31, 36, 37, 38, 37, 38, 39, 40, 39, 40, 39, 40, 41, 42, 41, 42, 41, 40, 39, 40, 41, 40, 39, 40, 41, 45, 46, 45, 44, 43, 42, 41, 42, 43, 42, 43, 44, 43, 44, 46, 47, 46, 52, 51, 52, 53, 54, 53, 54, 55, 56, 57, 56, 60, 66, 67, 68, 69, 70, 71, 72, 73, 77, 76, 77, 78, 84, 85, 89, 88, 89], [0, 1, 2, 1, 4, 5, 4, 9, 10, 9, 8, 9, 8, 9, 8, 9, 10, 11, 10, 11, 12, 11, 12, 11, 13, 12, 13, 12, 11, 12, 13, 12, 13, 12, 13, 14, 13, 18, 19, 20, 19, 25, 26, 27, 26, 27, 28, 29, 30, 31, 30, 31, 32, 33, 34, 33, 34, 33, 34, 39, 38, 40, 39, 38, 40, 41, 40, 41, 45, 44, 48, 49, 55, 54, 55, 54, 53, 54, 57, 58, 62, 61, 60, 61, 60, 61, 62, 67, 68, 69, 70, 71, 73, 74, 73, 77, 76, 77, 78, 79, 78], [0, 0, 0, 0, 1, 2, 5, 6, 8, 9, 14, 15, 16, 17, 18, 19, 20, 21, 20, 19, 20, 24, 25, 24, 25, 26, 29, 30, 31, 30, 31, 32, 33, 32, 31, 30, 29, 30, 29, 31, 32, 31, 35, 36, 37, 36, 35, 36, 35, 36, 37, 40, 39, 38, 39, 40, 41, 42, 45, 46, 45, 46, 47, 48, 49, 48, 47, 48, 49, 50, 49, 50, 49, 48, 47, 48, 47, 46, 45, 46, 45, 44, 45, 46, 47, 50, 49, 48, 47, 49, 48, 52, 57, 58, 59, 60, 61, 62, 61, 62, 67], [0, 0, 0, 0, 1, 0, 1, 2, 1, 2, 3, 2, 1, 2, 3, 2, 3, 8, 7, 8, 7, 6, 7, 8, 9, 14, 15, 16, 15, 16, 17, 18, 19, 20, 21, 22, 21, 27, 26, 31, 32, 33, 34, 35, 34, 35, 41, 40, 41, 42, 43, 46, 45, 44, 45, 50, 51, 50, 49, 48, 47, 48, 52, 53, 54, 55, 56, 62, 63, 64, 63, 67, 66, 71, 72, 71, 72, 73, 74, 73, 74, 75, 74, 75, 74, 75, 76, 75, 81, 82, 81, 82, 87, 88, 89, 88, 89, 90, 91, 92, 93], [0, 0, 1, 2, 1, 2, 1, 2, 3, 4, 5, 6, 5, 11, 12, 11, 12, 11, 13, 14, 15, 16, 20, 23, 24, 29, 35, 34, 33, 39, 40, 39, 40, 41, 40, 41, 40, 41, 47, 48, 47, 52, 53, 54, 55, 59, 60, 61, 62, 63, 64, 65, 64, 63, 62, 63, 64, 65, 66, 68, 69, 70, 71, 70, 72, 73, 74, 77, 78, 77, 78, 77, 76, 75, 76, 77, 78, 79, 78, 79, 78, 77, 78, 79, 78, 77, 76, 75, 74, 75, 74, 73, 74, 75, 76, 77, 78, 79, 80, 79, 85], [0, 0, 1, 2, 3, 4, 5, 6, 7, 8, 9, 8, 9, 10, 11, 12, 11, 12, 13, 14, 15, 21, 22, 21, 22, 21, 22, 23, 29, 30, 29, 30, 31, 35, 36, 41, 42, 48, 47, 48, 49, 50, 51, 52, 58, 59, 60, 61, 66, 67, 68, 67, 68, 67, 66, 67, 69, 72, 75, 74, 76, 82, 83, 82, 83, 84, 85, 86, 85, 90, 89, 90, 94, 95, 96, 97, 98, 99, 100, 101, 102, 103, 102, 101, 102, 101, 102, 103, 105, 104, 105, 106, 107, 106, 105, 106, 105, 106, 107, 108, 109], [0, 1, 2, 1, 5, 6, 7, 8, 9, 10, 11, 12, 11, 12, 11, 10, 9, 10, 11, 12, 11, 10, 12, 11, 12, 11, 16, 17, 18, 19, 20, 19, 18, 17, 18, 19, 20, 21, 20, 21, 22, 1, 0, 1, 0, 1, 2, 3, 4, 5, 6, 7, 8, 7, 8, 7, 6, 7, 6, 5, 4, 5, 6, 7, 8, 12, 13, 14, 15, 14, 15, 16, 17, 16, 17, 16, 17, 16, 15, 16, 15, 14, 15, 21, 20, 19, 23, 24, 25, 30, 31, 32, 37, 36, 37, 38, 37, 40, 39, 38, 39], [0, 1, 2, 3, 4, 5, 9, 10, 9, 8, 9, 13, 12, 13, 12, 13, 14, 17, 18, 17, 18, 17, 18, 17, 23, 24, 25, 24, 25, 26, 27, 28, 27, 26, 27, 28, 29, 30, 29, 28, 27, 28, 29, 30, 32, 33, 34, 35, 36, 35, 34, 35, 38, 37, 38, 39, 40, 41, 40, 45, 46, 47, 46, 47, 48, 47, 48, 49, 48, 49, 48, 49, 52, 53, 54, 53, 52, 53, 54, 53, 52, 51, 50, 56, 59, 58, 59, 58, 57, 56, 57, 59, 60, 61, 64, 63, 62, 61, 60, 63, 62], [0, 0, 1, 0, 1, 2, 1, 2, 1, 2, 1, 5, 10, 14, 15, 14, 18, 19, 18, 17, 16, 17, 18, 24, 23, 25, 24, 25, 27, 28, 29, 30, 31, 32, 33, 32, 31, 32, 31, 36, 37, 36, 37, 38, 43, 42, 47, 53, 54, 56, 55, 56, 55, 56, 57, 59, 58, 57, 58, 57, 58, 57, 58, 57, 58, 57, 58, 59, 60, 61, 60, 61, 64, 68, 73, 74, 75, 79, 80, 83, 87, 88, 89, 90, 91, 92, 93, 94, 95, 98, 102, 103, 102, 101, 100, 99, 105, 108, 109, 108, 107], [0, 0, 1, 3, 2, 7, 6, 7, 6, 5, 6, 5, 6, 7, 13, 12, 11, 10, 9, 13, 12, 13, 17, 16, 18, 17, 16, 17, 16, 17, 16, 17, 18, 19, 18, 19, 20, 19, 20, 19, 20, 19, 23, 22, 23, 24, 25, 26, 25, 26, 27, 26, 27, 28, 29, 30, 29, 28, 27, 28, 29, 28, 33, 36, 37, 38, 37, 42, 43, 44, 45, 46, 47, 48, 47, 49, 50, 55, 56, 57, 58, 57, 58, 57, 56, 57, 58, 57, 58, 59, 61, 67, 66, 67, 66, 65, 64, 63, 66, 67, 70], [0, 1, 2, 1, 4, 5, 4, 5, 4, 5, 6, 7, 8, 7, 6, 5, 8, 9, 10, 11, 10, 11, 10, 9, 10, 9, 10, 11, 10, 11, 12, 13, 14, 16, 17, 16, 17, 18, 17, 16, 17, 18, 17, 16, 17, 18, 17, 16, 15, 16, 17, 18, 17, 18, 17, 16, 17, 18, 22, 26, 25, 24, 30, 31, 32, 31, 33, 32, 37, 39, 38, 39, 44, 45, 46, 47, 46, 45, 44, 45, 46, 47, 46, 45, 50, 51, 52, 53, 58, 57, 56, 57, 59, 64, 63, 62, 63, 62, 63, 62, 63], [0, 4, 3, 2, 3, 2, 3, 2, 3, 4, 5, 6, 5, 6, 11, 15, 16, 17, 18, 19, 20, 19, 18, 19, 20, 19, 20, 22, 23, 24, 23, 24, 25, 24, 23, 24, 25, 24, 25, 26, 27, 28, 29, 30, 31, 30, 31, 30, 31, 30, 29, 28, 29, 30, 29, 30, 31, 32, 33, 34, 35, 36, 37, 38, 37, 36, 35, 40, 41, 42, 41, 1, 2, 1, 0, 0, 1, 2, 1, 0, 0, 1, 0, 0, 0, 1, 2, 4, 3, 2, 3, 2, 3, 4, 5, 4, 5, 4, 5, 4, 3], [0, 1, 5, 4, 3, 4, 5, 4, 3, 4, 5, 6, 5, 6, 7, 8, 9, 8, 7, 6, 11, 12, 13, 12, 11, 12, 13, 12, 11, 10, 9, 10, 11, 12, 13, 14, 15, 16, 17, 18, 17, 16, 17, 18, 17, 18, 17, 18, 19, 18, 19, 18, 17, 19, 20, 21, 22, 21, 26, 27, 28, 34, 33, 32, 35, 34, 35, 36, 37, 36, 37, 38, 37, 36, 37, 38, 37, 38, 39, 40, 41, 40, 41, 40, 41, 42, 48, 49, 50, 49, 50, 49, 48, 47, 48, 49, 50, 51, 52, 53, 54], [0, 1, 2, 1, 0, 0, 0, 1, 3, 4, 3, 4, 3, 4, 5, 11, 12, 13, 15, 16, 15, 14, 15, 16, 17, 16, 17, 18, 19, 18, 19, 20, 23, 24, 25, 27, 26, 27, 29, 30, 31, 32, 33, 32, 33, 32, 37, 38, 37, 41, 43, 42, 43, 44, 45, 46, 45, 46, 47, 48, 49, 53, 55, 56, 57, 58, 59, 60, 59, 63, 64, 63, 68, 69, 70, 69, 70, 71, 76, 75, 76, 77, 76, 77, 76, 78, 82, 83, 82, 83, 82, 83, 84, 85, 86, 88, 87, 88, 87, 88, 89], [0, 6, 7, 8, 9, 14, 15, 18, 17, 16, 17, 18, 23, 24, 25, 24, 23, 29, 30, 29, 34, 35, 34, 35, 36, 35, 36, 37, 38, 39, 40, 45, 48, 51, 52, 51, 50, 51, 50, 55, 56, 55, 54, 55, 56, 55, 56, 55, 56, 55, 56, 55, 56, 55, 54, 59, 60, 59, 58, 57, 58, 59, 60, 61, 62, 61, 62, 61, 60, 61, 62, 68, 72, 73, 77, 76, 75, 77, 78, 79, 80, 83, 82, 81, 82, 81, 80, 81, 82, 81, 82, 84, 83, 82, 83, 85, 86, 85, 86, 87, 86], [0, 1, 2, 1, 2, 1, 2, 1, 4, 5, 9, 10, 11, 10, 11, 12, 18, 19, 18, 23, 22, 23, 24, 27, 26, 27, 28, 29, 30, 31, 32, 33, 34, 35, 36, 37, 40, 41, 40, 41, 40, 39, 40, 39, 38, 39, 38, 39, 40, 41, 42, 43, 46, 47, 48, 53, 54, 55, 56, 55, 54, 53, 54, 59, 60, 59, 60, 65, 66, 65, 66, 67, 68, 67, 66, 67, 66, 67, 66, 67, 68, 69, 70, 71, 72, 73, 74, 75, 77, 78, 82, 83, 84, 85, 88, 89, 90, 91, 92, 93, 94], [0, 0, 1, 0, 1, 2, 3, 2, 1, 0, 1, 2, 3, 4, 5, 6, 10, 11, 12, 13, 14, 17, 16, 17, 16, 17, 18, 17, 16, 21, 20, 21, 22, 23, 22, 23, 24, 23, 26, 25, 24, 23, 22, 25, 26, 25, 24, 28, 27, 28, 27, 26, 27, 28, 32, 33, 36, 35, 34, 37, 38, 39, 38, 41, 40, 39, 40, 41, 40, 41, 40, 41, 42, 43, 44, 45, 46, 47, 48, 49, 55, 56, 57, 58, 59, 64, 63, 69, 70, 69, 70, 71, 70, 75, 76, 77, 78, 83, 82, 83, 82], [0, 4, 5, 6, 10, 11, 14, 13, 12, 13, 14, 15, 16, 15, 16, 17, 16, 15, 16, 22, 23, 24, 25, 26, 27, 28, 33, 34, 35, 34, 35, 36, 37, 36, 41, 42, 43, 45, 44, 45, 46, 47, 48, 49, 50, 49, 48, 47, 50, 51, 52, 57, 58, 59, 60, 61, 60, 59, 60, 61, 62, 61, 62, 63, 62, 63, 64, 65, 66, 67, 68, 67, 66, 67, 68, 67, 68, 67, 69, 70, 71, 70, 75, 76, 77, 78, 79, 80, 81, 80, 79, 80, 79, 82, 86, 87, 88, 89, 90, 89, 90], [0, 3, 4, 5, 6, 7, 6, 7, 8, 9, 10, 9, 10, 9, 8, 7, 8, 9, 10, 11, 13, 14, 15, 16, 15, 14, 13, 15, 14, 15, 16, 17, 16, 21, 20, 21, 22, 21, 27, 26, 25, 26, 25, 26, 29, 30, 29, 30, 31, 30, 29, 30, 33, 34, 35, 39, 44, 45, 46, 47, 46, 45, 44, 49, 48, 47, 48, 49, 48, 53, 52, 53, 54, 53, 52, 53, 52, 51, 52, 51, 52, 53, 52, 54, 55, 56, 55, 56, 57, 56, 55, 56, 55, 54, 55, 56, 62, 66, 67, 68, 73], [0, 1, 0, 5, 4, 5, 11, 12, 13, 19, 20, 19, 20, 19, 18, 17, 18, 17, 21, 22, 23, 24, 26, 25, 26, 25, 26, 29, 28, 30, 35, 40, 41, 42, 47, 48, 47, 46, 47, 48, 49, 48, 51, 52, 51, 50, 51, 52, 51, 52, 53, 54, 53, 52, 51, 53, 54, 55, 56, 57, 56, 57, 62, 67, 68, 69, 74, 73, 72, 73, 78, 79, 80, 81, 80, 81, 82, 83, 82, 81, 80, 84, 83, 82, 83, 84, 85, 91, 92, 93, 92, 93, 92, 91, 92, 91, 90, 91, 92, 93, 92], [0, 1, 0, 1, 0, 1, 0, 1, 6, 12, 11, 12, 13, 14, 15, 16, 15, 16, 15, 16, 15, 16, 17, 18, 19, 20, 19, 20, 21, 22, 24, 23, 22, 23, 26, 27, 31, 30, 29, 28, 29, 30, 31, 32, 33, 34, 33, 34, 33, 32, 33, 32, 33, 32, 34, 35, 36, 37, 38, 39, 40, 41, 42, 46, 45, 46, 47, 46, 47, 48, 47, 48, 47, 50, 51, 57, 56, 57, 58, 59, 60, 61, 60, 61, 60, 62, 63, 62, 61, 60, 61, 62, 61, 60, 59, 60, 59, 60, 59, 60, 59], [0, 1, 0, 1, 0, 0, 1, 0, 0, 1, 2, 3, 4, 3, 4, 5, 6, 5, 4, 5, 6, 7, 8, 10, 9, 8, 7, 6, 5, 4, 5, 4, 5, 4, 5, 4, 5, 4, 5, 6, 7, 6, 7, 8, 9, 8, 11, 13, 12, 11, 10, 9, 13, 12, 13, 14, 13, 14, 17, 18, 19, 20, 21, 22, 23, 22, 23, 24, 25, 24, 23, 24, 30, 31, 32, 33, 32, 33, 34, 33, 34, 35, 37, 38, 37, 40, 41, 42, 43, 42, 43, 44, 45, 46, 47, 48, 49, 50, 51, 50, 51], [0, 6, 8, 9, 10, 13, 12, 11, 12, 13, 12, 13, 15, 16, 17, 18, 23, 24, 25, 26, 27, 28, 27, 28, 29, 28, 29, 30, 31, 32, 33, 34, 35, 36, 40, 41, 40, 41, 42, 43, 42, 46, 45, 44, 45, 46, 45, 46, 48, 49, 54, 53, 54, 55, 58, 59, 60, 61, 60, 61, 62, 67, 68, 67, 73, 76, 77, 78, 77, 76, 77, 76, 77, 78, 77, 76, 75, 76, 77, 76, 77, 76, 77, 76, 77, 79, 80, 79, 80, 81, 80, 79, 80, 81, 80, 81, 80, 81, 82, 83, 84], [0, 0, 1, 2, 3, 2, 3, 4, 5, 6, 7, 8, 7, 8, 7, 12, 11, 14, 15, 16, 17, 18, 19, 18, 17, 20, 21, 23, 22, 21, 25, 24, 23, 24, 25, 27, 28, 34, 35, 34, 33, 34, 33, 37, 36, 39, 38, 37, 38, 39, 38, 37, 36, 37, 40, 39, 40, 39, 40, 39, 38, 39, 38, 39, 40, 41, 42, 41, 42, 41, 42, 43, 44, 43, 42, 41, 42, 41, 42, 41, 42, 43, 44, 45, 51, 52, 53, 52, 53, 54, 59, 60, 59, 58, 57, 58, 62, 64, 70, 71, 70], [0, 1, 2, 3, 4, 6, 5, 6, 5, 4, 3, 4, 5, 6, 7, 6, 7, 8, 9, 12, 13, 12, 11, 12, 15, 16, 17, 18, 21, 20, 21, 22, 23, 24, 23, 22, 23, 24, 23, 26, 27, 26, 27, 31, 30, 31, 33, 34, 35, 34, 35, 34, 38, 39, 40, 41, 42, 41, 40, 39, 40, 41, 40, 41, 40, 39, 40, 41, 42, 43, 45, 46, 45, 44, 45, 46, 45, 51, 52, 53, 52, 51, 50, 51, 52, 53, 54, 55, 60, 61, 60, 59, 60, 59, 58, 61, 60, 64, 65, 71, 76], [0, 1, 2, 1, 2, 3, 4, 3, 2, 1, 2, 1, 6, 7, 6, 5, 4, 3, 2, 1, 0, 6, 7, 6, 5, 4, 3, 4, 5, 10, 11, 10, 9, 10, 11, 10, 11, 12, 11, 10, 11, 10, 15, 16, 15, 14, 13, 16, 15, 20, 21, 22, 23, 24, 25, 26, 27, 30, 29, 28, 29, 30, 31, 32, 33, 32, 31, 32, 33, 34, 35, 36, 35, 36, 37, 36, 35, 36, 35, 34, 35, 36, 42, 43, 49, 50, 51, 52, 53, 59, 60, 61, 62, 61, 62, 61, 60, 61, 60, 61, 62], [0, 1, 2, 3, 8, 7, 8, 9, 10, 11, 12, 15, 16, 17, 16, 17, 18, 19, 18, 19, 20, 26, 27, 28, 29, 28, 27, 28, 27, 28, 27, 28, 29, 34, 35, 36, 37, 38, 37, 38, 39, 40, 44, 45, 44, 43, 44, 45, 46, 45, 46, 45, 44, 43, 44, 46, 47, 48, 49, 50, 49, 53, 52, 53, 52, 53, 52, 51, 52, 53, 52, 51, 52, 53, 54, 53, 54, 53, 52, 51, 57, 56, 55, 56, 57, 56, 57, 56, 57, 58, 57, 56, 57, 58, 59, 60, 59, 58, 59, 60, 59], [0, 1, 7, 8, 7, 8, 7, 8, 9, 8, 9, 10, 16, 21, 22, 27, 26, 27, 30, 31, 30, 29, 28, 27, 26, 25, 26, 27, 26, 29, 30, 32, 35, 37, 36, 35, 36, 35, 36, 37, 36, 37, 36, 37, 38, 39, 40, 41, 42, 48, 47, 48, 50, 49, 50, 49, 51, 52, 53, 54, 53, 58, 59, 60, 59, 60, 59, 58, 57, 58, 64, 63, 64, 65, 66, 67, 68, 67, 72, 78, 79, 83, 82, 83, 82, 87, 88, 94, 93, 94, 95, 94, 95, 98, 97, 96, 95, 94, 93, 94, 95], [0, 0, 1, 2, 7, 6, 7, 8, 7, 8, 9, 8, 9, 8, 9, 15, 14, 13, 18, 20, 19, 24, 23, 24, 26, 27, 28, 29, 32, 31, 30, 29, 30, 29, 30, 31, 32, 33, 34, 33, 32, 33, 35, 34, 33, 34, 33, 34, 35, 36, 37, 38, 39, 38, 39, 38, 44, 45, 44, 43, 42, 48, 49, 48, 49, 50, 51, 50, 51, 56, 57, 58, 57, 56, 55, 56, 55, 56, 57, 58, 57, 63, 62, 63, 64, 68, 69, 70, 71, 70, 71, 70, 71, 72, 73, 72, 73, 76, 80, 81, 82], [0, 0, 1, 0, 1, 3, 4, 5, 4, 5, 4, 5, 6, 7, 8, 7, 11, 12, 13, 16, 19, 18, 17, 22, 21, 20, 21, 22, 23, 22, 21, 20, 19, 20, 21, 22, 23, 24, 25, 24, 28, 29, 30, 31, 32, 33, 34, 35, 34, 35, 36, 37, 38, 43, 42, 43, 44, 43, 47, 48, 47, 48, 49, 50, 51, 52, 51, 57, 56, 61, 62, 61, 62, 63, 62, 63, 62, 61, 62, 63, 67, 71, 74, 75, 76, 81, 82, 83, 82, 83, 84, 83, 82, 81, 82, 83, 82, 83, 84, 85, 84], [0, 0, 1, 2, 1, 2, 3, 2, 3, 6, 11, 17, 18, 19, 20, 21, 22, 21, 27, 28, 29, 30, 31, 30, 31, 30, 29, 30, 31, 32, 31, 32, 33, 32, 33, 34, 33, 32, 33, 32, 33, 34, 33, 34, 39, 40, 41, 40, 39, 40, 41, 42, 41, 40, 39, 38, 39, 38, 37, 36, 37, 36, 37, 36, 35, 36, 35, 34, 36, 37, 38, 37, 38, 37, 38, 41, 40, 41, 40, 41, 42, 43, 42, 46, 45, 46, 47, 50, 49, 50, 51, 52, 53, 52, 53, 54, 57, 56, 57, 58, 60], [0, 0, 1, 2, 4, 5, 6, 7, 8, 12, 13, 14, 13, 14, 16, 15, 14, 13, 14, 15, 14, 13, 14, 13, 12, 11, 12, 11, 12, 11, 10, 11, 10, 11, 12, 11, 12, 13, 18, 17, 22, 27, 26, 25, 26, 27, 30, 29, 30, 31, 34, 35, 34, 35, 36, 35, 36, 42, 41, 42, 47, 46, 45, 46, 47, 48, 49, 53, 55, 54, 55, 57, 58, 64, 65, 66, 70, 69, 70, 69, 70, 71, 75, 76, 75, 81, 82, 84, 85, 91, 92, 93, 92, 91, 92, 93, 94, 93, 94, 95, 94], [0, 1, 0, 1, 5, 6, 7, 6, 7, 6, 5, 4, 5, 6, 5, 7, 6, 5, 7, 8, 7, 8, 9, 10, 9, 10, 11, 17, 18, 17, 18, 19, 18, 24, 25, 24, 23, 22, 21, 20, 23, 27, 26, 27, 26, 27, 28, 27, 26, 25, 26, 25, 24, 25, 24, 25, 26, 27, 33, 32, 33, 1, 2, 3, 4, 5, 10, 11, 12, 13, 14, 13, 12, 13, 14, 13, 14, 15, 16, 15, 16, 15, 21, 20, 21, 22, 23, 22, 23, 22, 23, 24, 25, 24, 25, 26, 25, 26, 25, 24, 25], [0, 1, 0, 1, 0, 1, 0, 1, 2, 5, 6, 5, 6, 7, 6, 7, 8, 7, 10, 9, 13, 14, 15, 16, 21, 22, 24, 23, 24, 23, 29, 28, 29, 30, 29, 30, 31, 30, 29, 28, 33, 37, 36, 37, 41, 40, 42, 41, 42, 41, 40, 41, 40, 44, 45, 46, 47, 48, 49, 55, 56, 57, 56, 55, 56, 57, 58, 57, 58, 60, 59, 65, 66, 67, 66, 67, 66, 67, 66, 67, 68, 69, 70, 69, 70, 71, 72, 73, 74, 75, 76, 77, 79, 80, 83, 85, 84, 83, 84, 85, 86], [0, 1, 0, 1, 0, 0, 0, 0, 0, 0, 1, 0, 0, 0, 0, 0, 0, 1, 3, 4, 3, 5, 6, 7, 8, 9, 10, 9, 10, 9, 10, 9, 15, 16, 17, 23, 22, 23, 22, 21, 22, 23, 22, 23, 24, 25, 24, 23, 22, 23, 29, 30, 31, 30, 31, 37, 36, 37, 36, 37, 38, 42, 43, 44, 43, 44, 45, 44, 45, 44, 45, 44, 45, 44, 49, 48, 47, 48, 49, 53, 54, 55, 54, 55, 54, 53, 59, 60, 61, 62, 63, 62, 61, 62, 61, 62, 61, 65, 64, 69, 70], [0, 0, 3, 4, 5, 4, 5, 6, 7, 6, 5, 4, 6, 7, 6, 7, 6, 10, 11, 13, 17, 18, 21, 22, 23, 22, 21, 20, 21, 22, 23, 22, 23, 22, 23, 22, 23, 22, 23, 22, 23, 24, 23, 22, 21, 22, 23, 22, 23, 24, 23, 22, 21, 22, 23, 26, 27, 26, 27, 28, 27, 28, 29, 28, 27, 26, 25, 26, 25, 24, 23, 24, 23, 22, 21, 22, 27, 26, 27, 26, 27, 28, 27, 26, 27, 26, 27, 28, 29, 30, 35, 36, 37, 38, 37, 38, 37, 36, 37, 36, 37], [0, 1, 0, 1, 2, 3, 4, 3, 2, 3, 8, 9, 10, 11, 12, 17, 18, 19, 18, 19, 18, 22, 23, 22, 21, 20, 21, 22, 21, 26, 27, 26, 25, 24, 23, 24, 23, 22, 21, 27, 26, 27, 28, 29, 31, 32, 33, 32, 33, 34, 33, 34, 33, 39, 40, 41, 40, 41, 42, 43, 44, 45, 46, 47, 48, 47, 46, 47, 48, 49, 53, 54, 55, 54, 53, 54, 55, 56, 55, 56, 55, 56, 61, 62, 61, 62, 63, 64, 65, 66, 67, 66, 0, 2, 1, 0, 0, 1, 2, 5, 6], [0, 0, 1, 2, 1, 0, 1, 0, 0, 1, 0, 0, 1, 0, 6, 5, 6, 7, 8, 9, 8, 7, 8, 9, 8, 7, 11, 10, 16, 19, 20, 21, 20, 21, 22, 24, 23, 26, 25, 24, 25, 26, 27, 26, 27, 26, 27, 28, 29, 30, 29, 30, 29, 30, 29, 30, 31, 30, 34, 35, 34, 39, 40, 41, 42, 43, 48, 47, 48, 49, 50, 51, 52, 53, 52, 51, 50, 49, 53, 54, 55, 59, 60, 59, 58, 57, 58, 59, 58, 57, 58, 57, 58, 57, 61, 64, 65, 66, 67, 68, 67], [0, 1, 0, 2, 1, 2, 3, 2, 1, 6, 5, 4, 3, 2, 8, 9, 8, 9, 10, 9, 8, 9, 8, 12, 13, 14, 15, 16, 15, 16, 17, 18, 19, 25, 24, 25, 26, 27, 28, 27, 28, 29, 30, 29, 30, 31, 32, 33, 32, 35, 36, 35, 36, 37, 36, 37, 36, 35, 37, 38, 37, 38, 39, 40, 39, 40, 41, 40, 41, 40, 43, 42, 43, 44, 43, 42, 41, 40, 41, 42, 41, 40, 39, 38, 39, 38, 41, 42, 43, 45, 46, 47, 48, 47, 46, 50, 51, 50, 49, 53, 54], [0, 4, 3, 9, 8, 7, 8, 9, 8, 7, 8, 7, 10, 9, 10, 9, 15, 21, 20, 19, 18, 19, 23, 24, 25, 26, 27, 26, 30, 31, 32, 33, 32, 33, 34, 33, 36, 37, 38, 43, 42, 43, 46, 47, 46, 45, 46, 47, 48, 49, 50, 51, 50, 49, 48, 49, 50, 49, 55, 61, 60, 59, 60, 59, 58, 57, 58, 59, 60, 59, 60, 61, 62, 63, 62, 63, 62, 66, 67, 72, 71, 72, 71, 72, 73, 74, 73, 74, 73, 74, 73, 74, 75, 76, 75, 76, 75, 78, 81, 82, 87], [0, 0, 1, 2, 3, 4, 3, 7, 11, 12, 11, 12, 18, 22, 21, 22, 26, 25, 24, 25, 26, 25, 26, 27, 28, 32, 38, 44, 46, 50, 49, 50, 51, 52, 54, 53, 52, 51, 50, 51, 57, 58, 57, 56, 57, 56, 57, 58, 64, 68, 71, 72, 73, 74, 75, 76, 78, 83, 84, 85, 91, 90, 91, 90, 89, 91, 90, 91, 90, 91, 96, 97, 96, 97, 98, 99, 100, 103, 104, 105, 104, 108, 107, 108, 109, 110, 111, 110, 109, 110, 111, 110, 111, 112, 113, 114, 113, 118, 117, 118, 119], [0, 1, 2, 1, 0, 5, 6, 7, 8, 7, 6, 7, 8, 12, 11, 10, 11, 12, 11, 10, 11, 10, 11, 10, 9, 10, 9, 10, 9, 10, 11, 16, 17, 16, 15, 19, 18, 19, 20, 25, 26, 27, 28, 29, 35, 36, 37, 36, 37, 36, 37, 38, 39, 38, 37, 36, 37, 38, 43, 44, 45, 46, 47, 48, 49, 50, 51, 50, 54, 53, 54, 53, 52, 51, 52, 53, 52, 51, 52, 53, 54, 53, 54, 59, 58, 59, 64, 65, 66, 67, 68, 67, 73, 74, 73, 74, 73, 72, 73, 74, 75], [0, 0, 0, 0, 1, 0, 6, 12, 15, 14, 13, 16, 17, 18, 19, 18, 19, 23, 24, 25, 26, 27, 30, 29, 30, 31, 32, 31, 32, 35, 34, 35, 36, 35, 34, 39, 40, 42, 41, 42, 43, 42, 41, 42, 43, 42, 43, 44, 45, 46, 45, 46, 47, 46, 45, 46, 52, 53, 55, 56, 55, 60, 61, 60, 59, 58, 59, 60, 61, 62, 63, 62, 63, 64, 67, 68, 67, 68, 67, 73, 74, 73, 72, 78, 77, 78, 77, 76, 77, 76, 77, 78, 79, 80, 81, 80, 79, 80, 85, 86, 88], [0, 4, 5, 6, 7, 8, 9, 12, 13, 14, 13, 14, 15, 16, 17, 23, 26, 27, 26, 27, 26, 27, 26, 32, 37, 38, 39, 38, 40, 41, 42, 43, 44, 45, 51, 52, 58, 61, 62, 63, 62, 63, 64, 65, 68, 69, 70, 69, 70, 76, 77, 76, 77, 79, 80, 79, 78, 79, 78, 79, 82, 81, 82, 83, 84, 89, 90, 89, 88, 89, 90, 89, 90, 91, 92, 98, 103, 104, 103, 102, 101, 106, 105, 104, 106, 105, 106, 111, 112, 113, 114, 115, 116, 115, 116, 118, 119, 118, 123, 122, 123], [0, 5, 4, 5, 6, 7, 9, 10, 9, 8, 9, 8, 7, 8, 9, 10, 14, 15, 14, 15, 16, 17, 18, 17, 18, 19, 18, 17, 18, 17, 18, 19, 20, 19, 20, 26, 27, 28, 27, 31, 32, 33, 32, 31, 32, 33, 34, 35, 36, 37, 38, 37, 38, 39, 40, 41, 42, 43, 44, 45, 50, 49, 55, 56, 57, 56, 57, 58, 60, 59, 60, 65, 64, 65, 66, 67, 68, 69, 70, 71, 72, 73, 74, 75, 79, 80, 79, 82, 87, 88, 93, 94, 95, 96, 95, 101, 100, 99, 100, 101, 102], [0, 1, 2, 3, 2, 1, 2, 3, 4, 6, 7, 6, 7, 12, 13, 14, 13, 12, 13, 14, 15, 16, 17, 16, 15, 14, 13, 12, 13, 14, 15, 16, 17, 18, 17, 19, 18, 21, 22, 23, 22, 23, 24, 25, 24, 23, 24, 23, 22, 21, 20, 19, 20, 19, 20, 21, 22, 23, 22, 23, 22, 23, 22, 23, 24, 23, 22, 23, 26, 28, 29, 30, 31, 32, 31, 32, 38, 37, 38, 37, 36, 35, 40, 41, 42, 43, 42, 43, 44, 45, 46, 47, 48, 49, 50, 49, 48, 49, 51, 50, 49], [0, 1, 2, 3, 7, 8, 7, 8, 9, 10, 9, 10, 11, 10, 11, 12, 11, 15, 19, 18, 23, 25, 24, 25, 24, 23, 24, 23, 29, 28, 27, 28, 29, 28, 29, 30, 29, 30, 29, 30, 29, 28, 27, 26, 27, 28, 29, 28, 33, 34, 33, 32, 31, 30, 29, 30, 29, 28, 30, 31, 32, 33, 32, 31, 32, 38, 37, 36, 37, 38, 39, 38, 39, 40, 39, 40, 39, 44, 45, 44, 45, 46, 47, 48, 49, 54, 1, 0, 0, 0, 1, 2, 1, 0, 1, 0, 0, 1, 2, 1, 0], [0, 0, 1, 2, 3, 2, 3, 4, 5, 4, 5, 4, 10, 12, 11, 10, 11, 12, 18, 22, 21, 20, 21, 20, 25, 24, 23, 22, 23, 22, 21, 23, 24, 23, 24, 23, 24, 29, 30, 29, 28, 29, 28, 29, 30, 29, 30, 31, 30, 35, 36, 35, 36, 37, 41, 44, 43, 42, 41, 40, 41, 40, 39, 45, 44, 43, 44, 43, 46, 45, 50, 51, 52, 51, 50, 51, 52, 53, 52, 53, 52, 53, 54, 56, 61, 62, 64, 63, 62, 63, 64, 63, 64, 65, 66, 65, 66, 67, 66, 65, 66], [0, 1, 0, 1, 0, 2, 3, 4, 3, 2, 3, 4, 5, 11, 12, 13, 16, 17, 18, 19, 20, 21, 22, 21, 20, 21, 22, 24, 25, 26, 27, 28, 27, 28, 29, 28, 31, 32, 33, 34, 35, 36, 35, 40, 41, 42, 43, 42, 41, 42, 41, 40, 39, 38, 37, 38, 37, 38, 39, 40, 39, 40, 41, 42, 41, 40, 42, 41, 44, 43, 42, 43, 44, 43, 42, 43, 44, 43, 44, 45, 46, 49, 50, 51, 53, 52, 51, 52, 53, 59, 58, 59, 60, 61, 62, 61, 62, 63, 62, 63, 62], [0, 0, 1, 3, 8, 9, 10, 9, 10, 9, 10, 9, 10, 11, 12, 11, 12, 11, 10, 11, 12, 16, 17, 16, 15, 19, 20, 19, 20, 26, 31, 32, 33, 32, 33, 32, 33, 32, 31, 32, 31, 32, 33, 32, 31, 32, 33, 32, 33, 32, 33, 34, 35, 36, 37, 38, 39, 40, 39, 38, 39, 38, 39, 40, 41, 40, 41, 42, 41, 42, 41, 42, 41, 40, 39, 40, 39, 40, 45, 46, 45, 44, 45, 49, 48, 49, 48, 47, 48, 52, 53, 54, 53, 54, 53, 54, 55, 56, 57, 58, 57], [0, 0, 0, 1, 2, 1, 6, 7, 8, 9, 8, 9, 13, 19, 18, 19, 18, 24, 25, 28, 27, 26, 27, 28, 29, 28, 27, 26, 27, 28, 29, 34, 33, 34, 33, 32, 31, 30, 31, 33, 34, 35, 34, 35, 36, 35, 36, 38, 39, 40, 41, 42, 43, 49, 48, 47, 53, 52, 57, 58, 59, 64, 65, 64, 63, 64, 65, 70, 69, 73, 74, 73, 74, 73, 74, 73, 74, 75, 76, 75, 76, 81, 86, 87, 88, 87, 86, 85, 84, 83, 88, 89, 90, 91, 92, 91, 92, 93, 98, 97, 101], [0, 1, 2, 7, 6, 7, 8, 9, 8, 7, 8, 11, 12, 13, 14, 13, 12, 13, 14, 15, 14, 17, 18, 17, 18, 24, 23, 22, 21, 22, 21, 27, 28, 29, 30, 31, 30, 31, 30, 31, 32, 33, 39, 38, 37, 38, 37, 36, 39, 40, 41, 42, 43, 44, 43, 42, 41, 40, 39, 38, 37, 36, 40, 41, 43, 44, 45, 46, 45, 44, 45, 51, 52, 51, 50, 52, 53, 52, 53, 52, 53, 54, 60, 61, 60, 59, 58, 59, 60, 59, 60, 61, 60, 61, 62, 61, 62, 63, 64, 65, 66], [0, 1, 2, 3, 4, 6, 7, 10, 9, 8, 9, 8, 9, 10, 12, 13, 12, 13, 12, 13, 14, 15, 16, 17, 18, 24, 25, 28, 29, 30, 29, 34, 35, 36, 37, 38, 37, 38, 44, 45, 46, 45, 49, 52, 53, 54, 53, 52, 53, 52, 53, 55, 56, 55, 56, 57, 58, 57, 58, 59, 60, 61, 60, 59, 60, 61, 62, 61, 62, 63, 64, 65, 64, 65, 66, 67, 66, 65, 66, 67, 68, 67, 66, 67, 68, 73, 74, 77, 76, 77, 78, 79, 84, 83, 88, 89, 88, 93, 94, 93, 94], [0, 1, 2, 1, 2, 3, 8, 9, 8, 7, 8, 9, 8, 7, 10, 12, 13, 12, 13, 14, 15, 14, 13, 18, 17, 18, 17, 18, 19, 20, 19, 20, 22, 26, 27, 26, 27, 28, 27, 32, 33, 34, 35, 36, 35, 36, 37, 36, 37, 36, 35, 34, 33, 32, 31, 34, 35, 34, 35, 36, 37, 38, 39, 38, 39, 41, 40, 41, 40, 41, 42, 43, 44, 45, 44, 45, 51, 52, 51, 52, 55, 56, 57, 60, 61, 62, 61, 60, 63, 62, 67, 66, 67, 68, 69, 71, 72, 73, 72, 73, 74], [0, 1, 2, 3, 9, 8, 9, 10, 11, 10, 11, 12, 11, 12, 13, 15, 16, 17, 18, 17, 20, 21, 20, 19, 18, 19, 20, 21, 20, 26, 27, 28, 27, 26, 27, 26, 27, 28, 27, 28, 33, 32, 33, 32, 33, 34, 33, 39, 40, 39, 40, 43, 42, 43, 44, 45, 46, 47, 48, 51, 50, 51, 52, 51, 52, 53, 57, 58, 57, 58, 57, 58, 59, 65, 66, 72, 73, 76, 77, 78, 79, 80, 81, 80, 79, 80, 79, 78, 77, 80, 79, 80, 81, 86, 87, 86, 85, 86, 87, 88, 89], [0, 0, 4, 5, 6, 9, 10, 9, 10, 9, 10, 11, 12, 13, 14, 13, 12, 14, 13, 14, 15, 16, 15, 16, 20, 19, 18, 19, 25, 24, 23, 24, 23, 22, 21, 22, 23, 24, 25, 26, 27, 33, 32, 33, 34, 33, 34, 33, 32, 35, 36, 37, 38, 37, 38, 39, 40, 39, 40, 45, 46, 45, 2, 3, 4, 8, 9, 10, 11, 12, 11, 12, 11, 10, 9, 8, 9, 8, 7, 6, 7, 8, 9, 10, 11, 12, 13, 14, 20, 19, 23, 27, 30, 35, 36, 35, 34, 35, 36, 37, 38], [0, 5, 4, 5, 6, 7, 8, 9, 8, 9, 10, 11, 12, 11, 12, 13, 14, 15, 14, 19, 20, 21, 25, 24, 25, 26, 27, 26, 31, 32, 31, 30, 31, 32, 35, 34, 35, 34, 33, 37, 38, 39, 38, 37, 38, 39, 38, 39, 40, 39, 40, 39, 40, 43, 44, 45, 46, 47, 46, 49, 48, 49, 48, 49, 53, 54, 53, 56, 57, 56, 57, 58, 59, 60, 61, 63, 62, 61, 62, 68, 69, 70, 71, 72, 73, 74, 75, 76, 82, 83, 82, 81, 80, 81, 82, 83, 84, 89, 90, 89, 90], [0, 1, 4, 5, 4, 6, 5, 4, 3, 4, 3, 2, 3, 4, 8, 9, 10, 11, 10, 11, 10, 11, 12, 16, 17, 18, 17, 16, 17, 18, 17, 18, 21, 20, 21, 20, 21, 22, 21, 22, 23, 24, 25, 26, 27, 28, 27, 28, 27, 26, 27, 26, 25, 26, 28, 29, 30, 31, 32, 33, 34, 33, 32, 33, 32, 31, 32, 33, 32, 31, 32, 33, 34, 35, 34, 33, 34, 33, 32, 33, 32, 33, 34, 35, 34, 35, 38, 37, 36, 42, 41, 44, 45, 46, 47, 48, 49, 48, 49, 48, 53], [0, 1, 3, 9, 10, 9, 10, 9, 8, 7, 6, 7, 6, 11, 12, 13, 14, 13, 14, 19, 22, 23, 29, 28, 29, 30, 36, 41, 42, 43, 44, 45, 46, 45, 44, 43, 42, 43, 44, 45, 46, 48, 49, 50, 49, 50, 51, 52, 51, 52, 51, 52, 53, 54, 53, 54, 55, 54, 53, 52, 51, 52, 53, 54, 55, 56, 57, 58, 59, 58, 59, 61, 62, 66, 71, 75, 76, 75, 74, 75, 74, 75, 76, 77, 80, 81, 80, 79, 80, 81, 80, 81, 82, 83, 84, 90, 91, 92, 93, 94, 93], [0, 0, 4, 5, 4, 5, 11, 12, 13, 12, 11, 10, 9, 8, 7, 6, 7, 8, 7, 6, 7, 6, 12, 13, 12, 11, 17, 18, 22, 23, 22, 21, 22, 21, 22, 23, 24, 30, 31, 30, 29, 30, 31, 32, 31, 30, 31, 32, 33, 32, 33, 34, 35, 34, 35, 41, 47, 48, 47, 46, 47, 48, 49, 50, 49, 50, 51, 54, 53, 54, 59, 58, 57, 58, 57, 58, 57, 56, 57, 56, 57, 58, 57, 56, 55, 54, 53, 54, 53, 54, 55, 56, 55, 57, 59, 60, 61, 62, 64, 63, 62], [0, 1, 2, 3, 4, 5, 6, 12, 13, 19, 18, 17, 16, 15, 17, 18, 19, 20, 21, 20, 21, 22, 23, 24, 25, 24, 25, 26, 27, 33, 32, 37, 38, 39, 40, 42, 43, 46, 47, 48, 47, 46, 45, 49, 50, 49, 48, 52, 53, 54, 53, 54, 58, 57, 56, 57, 58, 57, 58, 59, 58, 59, 63, 65, 64, 63, 62, 63, 64, 68, 67, 66, 71, 72, 71, 70, 71, 72, 73, 79, 78, 77, 78, 79, 80, 82, 83, 82, 83, 82, 81, 80, 86, 87, 88, 89, 90, 91, 92, 93, 94], [0, 0, 0, 1, 0, 1, 2, 3, 2, 6, 7, 8, 7, 8, 7, 8, 9, 15, 20, 21, 20, 22, 21, 20, 23, 22, 23, 24, 29, 30, 31, 32, 38, 37, 36, 37, 36, 37, 38, 39, 38, 39, 40, 41, 40, 41, 42, 46, 47, 52, 53, 52, 58, 57, 59, 60, 61, 62, 63, 64, 63, 64, 65, 64, 65, 66, 67, 68, 67, 68, 69, 70, 72, 71, 70, 71, 72, 73, 74, 75, 74, 73, 72, 75, 76, 75, 76, 75, 76, 77, 78, 79, 78, 77, 78, 82, 85, 84, 85, 90, 89], [0, 1, 0, 0, 0, 1, 0, 3, 9, 14, 16, 15, 20, 21, 22, 23, 22, 23, 24, 25, 24, 25, 31, 30, 31, 32, 33, 34, 35, 36, 37, 38, 39, 38, 39, 40, 41, 40, 41, 45, 44, 43, 44, 43, 44, 43, 44, 45, 49, 48, 49, 50, 51, 50, 52, 53, 54, 55, 56, 58, 59, 60, 59, 58, 57, 58, 57, 58, 59, 60, 61, 62, 63, 62, 61, 62, 63, 64, 65, 64, 65, 66, 65, 64, 65, 66, 67, 66, 65, 64, 63, 62, 63, 62, 66, 67, 68, 69, 68, 67, 68], [0, 1, 2, 1, 0, 0, 0, 5, 11, 10, 9, 11, 10, 12, 11, 16, 15, 14, 13, 12, 14, 15, 14, 13, 12, 17, 18, 19, 20, 21, 22, 23, 29, 30, 29, 28, 29, 30, 31, 30, 31, 30, 31, 32, 34, 37, 38, 39, 40, 41, 42, 43, 48, 49, 50, 51, 52, 53, 52, 53, 54, 53, 54, 55, 56, 57, 58, 59, 60, 65, 64, 65, 64, 65, 66, 67, 66, 65, 66, 67, 66, 67, 68, 71, 77, 78, 79, 78, 77, 81, 82, 83, 82, 81, 80, 85, 86, 92, 93, 92, 93], [0, 2, 1, 2, 1, 3, 4, 10, 11, 10, 11, 15, 16, 17, 16, 17, 18, 19, 18, 17, 16, 17, 16, 17, 16, 17, 18, 20, 21, 22, 23, 24, 26, 31, 30, 29, 31, 32, 31, 32, 33, 37, 38, 37, 36, 37, 40, 39, 40, 39, 40, 41, 44, 43, 42, 43, 42, 43, 44, 49, 48, 47, 48, 47, 48, 49, 48, 47, 48, 47, 48, 47, 46, 45, 46, 48, 52, 53, 52, 53, 54, 53, 54, 55, 54, 55, 56, 57, 56, 57, 63, 62, 61, 60, 59, 63, 62, 63, 64, 63, 64], [0, 1, 0, 0, 0, 1, 0, 1, 0, 1, 2, 1, 2, 3, 4, 3, 7, 8, 9, 10, 11, 12, 13, 12, 13, 14, 15, 16, 17, 18, 19, 18, 19, 20, 21, 22, 23, 24, 23, 24, 25, 24, 29, 30, 31, 32, 33, 32, 33, 32, 33, 32, 33, 34, 35, 36, 41, 42, 43, 42, 41, 40, 41, 42, 43, 44, 0, 0, 1, 6, 10, 11, 10, 11, 10, 9, 10, 11, 12, 13, 14, 13, 14, 15, 19, 18, 19, 18, 17, 18, 19, 18, 17, 18, 24, 25, 24, 25, 24, 30, 31], [0, 1, 0, 1, 0, 0, 1, 2, 3, 2, 3, 2, 3, 8, 9, 10, 9, 8, 9, 11, 12, 14, 13, 12, 13, 12, 11, 10, 11, 10, 11, 10, 11, 12, 13, 19, 20, 21, 24, 25, 26, 27, 28, 29, 30, 31, 32, 33, 34, 35, 36, 35, 36, 35, 36, 35, 34, 37, 38, 37, 38, 39, 38, 39, 40, 41, 47, 48, 47, 48, 49, 48, 47, 48, 49, 50, 51, 52, 53, 52, 51, 56, 55, 56, 57, 56, 57, 58, 59, 60, 61, 62, 61, 60, 66, 72, 73, 74, 76, 75, 78], [0, 0, 0, 6, 7, 8, 9, 8, 9, 10, 11, 10, 11, 12, 13, 14, 13, 12, 13, 14, 15, 14, 15, 14, 15, 14, 13, 12, 11, 12, 11, 15, 16, 20, 24, 25, 26, 27, 26, 27, 31, 32, 33, 34, 35, 40, 39, 40, 45, 46, 47, 48, 49, 48, 49, 50, 51, 52, 53, 54, 53, 52, 53, 54, 55, 54, 57, 56, 55, 54, 58, 59, 58, 57, 56, 55, 54, 55, 54, 55, 54, 55, 56, 57, 56, 57, 60, 61, 60, 61, 60, 59, 60, 59, 58, 59, 58, 59, 61, 60, 59], [0, 5, 8, 7, 8, 9, 8, 9, 8, 7, 6, 11, 10, 11, 14, 15, 16, 17, 18, 19, 18, 19, 20, 19, 20, 21, 22, 23, 24, 23, 24, 25, 26, 25, 26, 27, 28, 29, 30, 31, 30, 31, 32, 33, 32, 31, 33, 34, 35, 36, 42, 43, 44, 49, 48, 49, 50, 51, 52, 51, 50, 51, 53, 52, 53, 52, 51, 52, 51, 50, 51, 52, 51, 50, 51, 52, 51, 52, 53, 54, 55, 54, 55, 56, 57, 59, 61, 66, 67, 68, 69, 70, 71, 76, 77, 78, 77, 76, 75, 74, 75], [0, 0, 1, 2, 3, 2, 7, 8, 9, 10, 9, 14, 13, 14, 13, 12, 17, 18, 24, 23, 22, 23, 26, 25, 26, 25, 24, 25, 24, 27, 26, 27, 28, 29, 28, 27, 28, 29, 30, 29, 30, 31, 30, 29, 30, 31, 30, 29, 30, 31, 32, 33, 32, 33, 34, 35, 34, 33, 34, 36, 35, 34, 33, 32, 33, 32, 31, 30, 31, 30, 29, 32, 33, 34, 33, 39, 38, 43, 44, 45, 44, 47, 46, 48, 49, 50, 51, 50, 51, 50, 51, 52, 56, 57, 58, 59, 58, 59, 63, 64, 65], [0, 1, 2, 3, 2, 1, 0, 0, 1, 2, 3, 7, 8, 12, 13, 15, 14, 15, 16, 17, 18, 17, 18, 19, 20, 21, 22, 23, 24, 30, 29, 32, 33, 32, 31, 36, 40, 41, 42, 43, 44, 43, 42, 41, 40, 41, 40, 39, 38, 43, 44, 43, 42, 43, 44, 45, 44, 45, 46, 47, 46, 49, 48, 47, 48, 49, 50, 49, 50, 55, 56, 55, 56, 55, 54, 60, 61, 62, 63, 64, 65, 64, 65, 66, 71, 70, 71, 70, 71, 70, 69, 68, 69, 72, 71, 72, 73, 72, 73, 74, 75], [0, 0, 0, 1, 2, 3, 2, 1, 0, 1, 0, 1, 2, 1, 2, 3, 2, 1, 6, 7, 8, 12, 13, 14, 15, 16, 15, 16, 17, 18, 19, 20, 21, 22, 23, 24, 30, 31, 34, 35, 36, 37, 36, 37, 36, 37, 36, 35, 36, 35, 40, 39, 40, 41, 42, 46, 48, 47, 50, 51, 50, 49, 48, 47, 46, 45, 46, 45, 46, 51, 50, 51, 50, 51, 55, 56, 55, 54, 59, 58, 59, 60, 63, 64, 65, 64, 65, 66, 65, 64, 66, 67, 66, 65, 64, 65, 66, 65, 64, 63, 62], [0, 6, 7, 8, 9, 8, 7, 6, 5, 6, 9, 8, 7, 9, 15, 16, 17, 18, 19, 18, 19, 24, 23, 24, 23, 24, 23, 24, 23, 24, 23, 24, 25, 26, 27, 28, 29, 28, 27, 28, 27, 28, 32, 31, 32, 33, 35, 36, 37, 38, 40, 39, 40, 42, 43, 44, 45, 46, 45, 46, 47, 48, 49, 50, 51, 50, 49, 48, 49, 48, 47, 48, 49, 50, 49, 50, 51, 52, 53, 54, 55, 56, 60, 61, 60, 59, 60, 61, 60, 61, 67, 68, 69, 68, 69, 68, 67, 66, 67, 66, 65], [0, 1, 0, 1, 2, 1, 2, 1, 2, 3, 2, 1, 2, 1, 2, 3, 2, 1, 2, 6, 7, 8, 7, 12, 11, 10, 11, 16, 18, 19, 18, 19, 20, 19, 18, 17, 18, 17, 18, 19, 21, 20, 1, 2, 3, 2, 4, 7, 8, 9, 10, 11, 12, 16, 15, 17, 18, 19, 20, 23, 24, 23, 24, 25, 26, 25, 24, 30, 29, 30, 31, 37, 36, 37, 38, 37, 36, 37, 38, 37, 40, 45, 44, 43, 42, 43, 44, 43, 44, 43, 44, 45, 46, 45, 44, 45, 49, 50, 49, 51, 50]]\n",
            "[87, 88, 55, 84, 77, 52, 81, 37, 77, 91, 75, 52, 111, 63, 28, 62, 45, 72, 95, 84, 66, 70, 69, 80, 66, 89, 88, 87, 81, 68, 79, 52, 67, 36, 74, 57, 61, 105, 55, 76, 81, 80, 72, 55, 97, 48, 82, 71, 89, 43, 92, 72, 64, 86, 97, 71, 60, 86, 53, 89, 83, 51, 117, 75, 98, 81, 74, 89, 76, 75, 75, 39, 74, 74, 107, 29, 67, 70, 84, 79, 85, 78, 88, 87, 90, 103, 56, 70, 102, 47, 93, 45, 56, 93, 99, 74, 74, 56, 54, 87, 91, 63, 94, 87, 2, 66, 87, 79, 3, 76, 72, 50, 72, 78, 55, 77, 59, 64, 90, 70, 64, 41, 49, 70, 79, 63, 65, 74, 85, 75, 74, 70, 102, 84, 67, 66, 94, 33, 73, 83, 68, 72, 64, 81, 68, 93, 88, 53, 77, 52, 92, 62, 68, 58, 44, 102, 3, 59, 58, 98, 91, 72, 77, 95, 78, 77, 78, 84, 84, 60, 96, 55, 93, 70, 87, 59, 74, 53, 80, 72, 62, 88, 97, 71, 42, 115, 75, 85, 62, 63, 73, 25, 84, 65, 65, 91, 93, 60, 70, 67, 66, 75, 67, 68, 80, 47, 116, 19, 51, 78, 84, 66, 98, 60, 48, 79, 60, 78, 100, 57, 50, 99, 73, 81, 15, 90, 80, 57, 1, 84, 81, 75, 90, 51, 19, 78, 84, 64, 103, 62, 77, 73, 67, 76, 70, 70, 60, 81, 90, 40, 58, 84, 57, 93, 71, 76, 77, 65, 83, 60, 77, 100, 57, 41, 74, 92, 79, 92, 56, 45, 43, 65, 50, 90, 60, 97, 59, 98, 86, 77, 7, 70, 93, 51, 41, 92, 108, 58, 82, 71, 68, 65, 86, 72, 79, 70, 83, 82, 74, 99, 90, 80, 70, 86, 75, 68, 60, 74, 76, 63, 75, 78, 68, 68, 48, 81, 68, 124, 77, 84, 81, 78, 82, 65, 49, 62, 88, 24, 91, 85, 58, 66, 42, 91, 54, 42, 78, 73, 61, 96, 49, 99, 82, 85, 103, 76, 71, 102, 76, 93, 54, 57, 56, 80, 82, 70, 68, 72, 52, 63, 73, 68, 93, 83, 65, 69, 75, 50, 85, 93, 70, 55, 80, 112, 78, 72, 90, 75, 74, 84, 75, 81, 81, 81, 71, 93, 67, 58, 81, 63, 93, 87, 84, 55, 54, 85, 52, 92, 110, 59, 61, 76, 11, 80, 78, 62, 101, 8, 65, 57, 91, 84, 60, 58, 80, 61, 82, 90, 83, 60, 78, 77, 67, 73, 58, 87, 89, 78, 67, 93, 85, 109, 39, 62, 107, 70, 63, 3, 54, 89, 86, 94, 82, 90, 73, 92, 59, 51, 84, 70, 76, 62, 59, 95, 82, 84, 60, 94, 25, 86, 70, 37, 6, 67, 54, 87, 119, 75, 88, 123, 102, 49, 0, 66, 62, 57, 101, 66, 94, 74, 89, 38, 90, 53, 93, 62, 94, 89, 68, 93, 64, 31, 78, 59, 75, 65, 75, 62, 65, 50]\n"
          ],
          "name": "stdout"
        }
      ]
    },
    {
      "cell_type": "code",
      "metadata": {
        "id": "b6KfFB9XE0UE",
        "colab_type": "code",
        "colab": {
          "base_uri": "https://localhost:8080/",
          "height": 265
        },
        "outputId": "2be59fe1-66d1-4e5e-bbd5-316a8934e102"
      },
      "source": [
        "plt.hist(ends)\n",
        "plt.show()"
      ],
      "execution_count": 53,
      "outputs": [
        {
          "output_type": "display_data",
          "data": {
            "image/png": "[encoded data removed]",
            "text/plain": [
              "<Figure size 432x288 with 1 Axes>"
            ]
          },
          "metadata": {
            "tags": []
          }
        }
      ]
    },
    {
      "cell_type": "code",
      "metadata": {
        "id": "c3rhNxnVHF0p",
        "colab_type": "code",
        "colab": {
          "base_uri": "https://localhost:8080/",
          "height": 34
        },
        "outputId": "f91a4647-d9f8-46a9-ba13-728601d39599"
      },
      "source": [
        "ends = np.array(ends)\n",
        "high = ends >= 60\n",
        "len(ends[high])"
      ],
      "execution_count": 60,
      "outputs": [
        {
          "output_type": "execute_result",
          "data": {
            "text/plain": [
              "390"
            ]
          },
          "metadata": {
            "tags": []
          },
          "execution_count": 60
        }
      ]
    },
    {
      "cell_type": "code",
      "metadata": {
        "id": "w23dQnmXHi9j",
        "colab_type": "code",
        "colab": {
          "base_uri": "https://localhost:8080/",
          "height": 34
        },
        "outputId": "5e63c311-e20f-4efb-8cd9-2172290ee139"
      },
      "source": [
        "390/500"
      ],
      "execution_count": 61,
      "outputs": [
        {
          "output_type": "execute_result",
          "data": {
            "text/plain": [
              "0.78"
            ]
          },
          "metadata": {
            "tags": []
          },
          "execution_count": 61
        }
      ]
    },
    {
      "cell_type": "code",
      "metadata": {
        "id": "gCqA3vJRIQbT",
        "colab_type": "code",
        "colab": {}
      },
      "source": [
        ""
      ],
      "execution_count": 0,
      "outputs": []
    }
  ]
}