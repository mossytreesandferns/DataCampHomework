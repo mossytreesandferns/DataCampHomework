{
  "nbformat": 4,
  "nbformat_minor": 0,
  "metadata": {
    "colab": {
      "name": "DCAnalyzingPoliceData.ipynb",
      "provenance": [],
      "collapsed_sections": [],
      "authorship_tag": "ABX9TyPfE7S7w2lWX1nzGwNhftIz",
      "include_colab_link": true
    },
    "kernelspec": {
      "name": "python3",
      "display_name": "Python 3"
    }
  },
  "cells": [
    {
      "cell_type": "markdown",
      "metadata": {
        "id": "view-in-github",
        "colab_type": "text"
      },
      "source": [
        "<a href=\"https://colab.research.google.com/github/mossytreesandferns/DataCampHomework/blob/master/DCAnalyzingPoliceData.ipynb\" target=\"_parent\"><img src=\"https://colab.research.google.com/assets/colab-badge.svg\" alt=\"Open In Colab\"/></a>"
      ]
    },
    {
      "cell_type": "code",
      "metadata": {
        "id": "l4pAUEeJ1Lhy",
        "colab_type": "code",
        "outputId": "6f77cdc6-7dba-4dbf-b926-507fc3286483",
        "colab": {
          "base_uri": "https://localhost:8080/",
          "height": 122
        }
      },
      "source": [
        "#Mount my drive- run the code, go to the link, accept.\n",
        "from google.colab import drive\n",
        "drive.mount('/content/gdrive')"
      ],
      "execution_count": 1,
      "outputs": [
        {
          "output_type": "stream",
          "text": [
            "Go to this URL in a browser: https://accounts.google.com/o/oauth2/auth?client_id=947318989803-6bn6qk8qdgf4n4g3pfee6491hc0brc4i.apps.googleusercontent.com&redirect_uri=urn%3aietf%3awg%3aoauth%3a2.0%3aoob&response_type=code&scope=email%20https%3a%2f%2fwww.googleapis.com%2fauth%2fdocs.test%20https%3a%2f%2fwww.googleapis.com%2fauth%2fdrive%20https%3a%2f%2fwww.googleapis.com%2fauth%2fdrive.photos.readonly%20https%3a%2f%2fwww.googleapis.com%2fauth%2fpeopleapi.readonly\n",
            "\n",
            "Enter your authorization code:\n",
            "··········\n",
            "Mounted at /content/gdrive\n"
          ],
          "name": "stdout"
        }
      ]
    },
    {
      "cell_type": "code",
      "metadata": {
        "id": "DU2nqx0P1-xL",
        "colab_type": "code",
        "outputId": "23a08091-ec85-4ca6-a1fe-59f090813128",
        "colab": {
          "base_uri": "https://localhost:8080/",
          "height": 34
        }
      },
      "source": [
        "#Change working directory to make it easier to access the files\n",
        "import os\n",
        "os.chdir(\"/content/gdrive/My Drive/DCAnalyzingPoliceActivity/\")\n",
        "os.getcwd()"
      ],
      "execution_count": 2,
      "outputs": [
        {
          "output_type": "execute_result",
          "data": {
            "text/plain": [
              "'/content/gdrive/My Drive/DCAnalyzingPoliceActivity'"
            ]
          },
          "metadata": {
            "tags": []
          },
          "execution_count": 2
        }
      ]
    },
    {
      "cell_type": "markdown",
      "metadata": {
        "id": "-ow5BrOI1-9h",
        "colab_type": "text"
      },
      "source": [
        "# Preparing Data for Analysis\n",
        "### Stanford Open Policing Project\n",
        "full data set: https://openpolicing.stanford.edu/"
      ]
    },
    {
      "cell_type": "code",
      "metadata": {
        "id": "EHZLhzKO1_JR",
        "colab_type": "code",
        "outputId": "d7e25a77-fd82-4edd-9c21-b9282022bd04",
        "colab": {
          "base_uri": "https://localhost:8080/",
          "height": 241
        }
      },
      "source": [
        "import pandas as pd\n",
        "ri = pd.read_csv('police.csv')\n",
        "ri.head()"
      ],
      "execution_count": 138,
      "outputs": [
        {
          "output_type": "execute_result",
          "data": {
            "text/html": [
              "<div>\n",
              "<style scoped>\n",
              "    .dataframe tbody tr th:only-of-type {\n",
              "        vertical-align: middle;\n",
              "    }\n",
              "\n",
              "    .dataframe tbody tr th {\n",
              "        vertical-align: top;\n",
              "    }\n",
              "\n",
              "    .dataframe thead th {\n",
              "        text-align: right;\n",
              "    }\n",
              "</style>\n",
              "<table border=\"1\" class=\"dataframe\">\n",
              "  <thead>\n",
              "    <tr style=\"text-align: right;\">\n",
              "      <th></th>\n",
              "      <th>state</th>\n",
              "      <th>stop_date</th>\n",
              "      <th>stop_time</th>\n",
              "      <th>county_name</th>\n",
              "      <th>driver_gender</th>\n",
              "      <th>driver_race</th>\n",
              "      <th>violation_raw</th>\n",
              "      <th>violation</th>\n",
              "      <th>search_conducted</th>\n",
              "      <th>search_type</th>\n",
              "      <th>stop_outcome</th>\n",
              "      <th>is_arrested</th>\n",
              "      <th>stop_duration</th>\n",
              "      <th>drugs_related_stop</th>\n",
              "      <th>district</th>\n",
              "    </tr>\n",
              "  </thead>\n",
              "  <tbody>\n",
              "    <tr>\n",
              "      <th>0</th>\n",
              "      <td>RI</td>\n",
              "      <td>2005-01-04</td>\n",
              "      <td>12:55</td>\n",
              "      <td>NaN</td>\n",
              "      <td>M</td>\n",
              "      <td>White</td>\n",
              "      <td>Equipment/Inspection Violation</td>\n",
              "      <td>Equipment</td>\n",
              "      <td>False</td>\n",
              "      <td>NaN</td>\n",
              "      <td>Citation</td>\n",
              "      <td>False</td>\n",
              "      <td>0-15 Min</td>\n",
              "      <td>False</td>\n",
              "      <td>Zone X4</td>\n",
              "    </tr>\n",
              "    <tr>\n",
              "      <th>1</th>\n",
              "      <td>RI</td>\n",
              "      <td>2005-01-23</td>\n",
              "      <td>23:15</td>\n",
              "      <td>NaN</td>\n",
              "      <td>M</td>\n",
              "      <td>White</td>\n",
              "      <td>Speeding</td>\n",
              "      <td>Speeding</td>\n",
              "      <td>False</td>\n",
              "      <td>NaN</td>\n",
              "      <td>Citation</td>\n",
              "      <td>False</td>\n",
              "      <td>0-15 Min</td>\n",
              "      <td>False</td>\n",
              "      <td>Zone K3</td>\n",
              "    </tr>\n",
              "    <tr>\n",
              "      <th>2</th>\n",
              "      <td>RI</td>\n",
              "      <td>2005-02-17</td>\n",
              "      <td>04:15</td>\n",
              "      <td>NaN</td>\n",
              "      <td>M</td>\n",
              "      <td>White</td>\n",
              "      <td>Speeding</td>\n",
              "      <td>Speeding</td>\n",
              "      <td>False</td>\n",
              "      <td>NaN</td>\n",
              "      <td>Citation</td>\n",
              "      <td>False</td>\n",
              "      <td>0-15 Min</td>\n",
              "      <td>False</td>\n",
              "      <td>Zone X4</td>\n",
              "    </tr>\n",
              "    <tr>\n",
              "      <th>3</th>\n",
              "      <td>RI</td>\n",
              "      <td>2005-02-20</td>\n",
              "      <td>17:15</td>\n",
              "      <td>NaN</td>\n",
              "      <td>M</td>\n",
              "      <td>White</td>\n",
              "      <td>Call for Service</td>\n",
              "      <td>Other</td>\n",
              "      <td>False</td>\n",
              "      <td>NaN</td>\n",
              "      <td>Arrest Driver</td>\n",
              "      <td>True</td>\n",
              "      <td>16-30 Min</td>\n",
              "      <td>False</td>\n",
              "      <td>Zone X1</td>\n",
              "    </tr>\n",
              "    <tr>\n",
              "      <th>4</th>\n",
              "      <td>RI</td>\n",
              "      <td>2005-02-24</td>\n",
              "      <td>01:20</td>\n",
              "      <td>NaN</td>\n",
              "      <td>F</td>\n",
              "      <td>White</td>\n",
              "      <td>Speeding</td>\n",
              "      <td>Speeding</td>\n",
              "      <td>False</td>\n",
              "      <td>NaN</td>\n",
              "      <td>Citation</td>\n",
              "      <td>False</td>\n",
              "      <td>0-15 Min</td>\n",
              "      <td>False</td>\n",
              "      <td>Zone X3</td>\n",
              "    </tr>\n",
              "  </tbody>\n",
              "</table>\n",
              "</div>"
            ],
            "text/plain": [
              "  state   stop_date stop_time  ...  stop_duration drugs_related_stop district\n",
              "0    RI  2005-01-04     12:55  ...       0-15 Min              False  Zone X4\n",
              "1    RI  2005-01-23     23:15  ...       0-15 Min              False  Zone K3\n",
              "2    RI  2005-02-17     04:15  ...       0-15 Min              False  Zone X4\n",
              "3    RI  2005-02-20     17:15  ...      16-30 Min              False  Zone X1\n",
              "4    RI  2005-02-24     01:20  ...       0-15 Min              False  Zone X3\n",
              "\n",
              "[5 rows x 15 columns]"
            ]
          },
          "metadata": {
            "tags": []
          },
          "execution_count": 138
        }
      ]
    },
    {
      "cell_type": "code",
      "metadata": {
        "id": "opUcpPId63DE",
        "colab_type": "code",
        "outputId": "ebd81576-1b46-4faf-dbe6-136e200bc5d1",
        "colab": {
          "base_uri": "https://localhost:8080/",
          "height": 34
        }
      },
      "source": [
        "ri.shape"
      ],
      "execution_count": 139,
      "outputs": [
        {
          "output_type": "execute_result",
          "data": {
            "text/plain": [
              "(91741, 15)"
            ]
          },
          "metadata": {
            "tags": []
          },
          "execution_count": 139
        }
      ]
    },
    {
      "cell_type": "code",
      "metadata": {
        "id": "UV7FX0tN6iJK",
        "colab_type": "code",
        "outputId": "0f86bc15-96fe-488e-a1b6-2cb85f4b0d4a",
        "colab": {
          "base_uri": "https://localhost:8080/",
          "height": 289
        }
      },
      "source": [
        "ri.isnull().sum()"
      ],
      "execution_count": 140,
      "outputs": [
        {
          "output_type": "execute_result",
          "data": {
            "text/plain": [
              "state                     0\n",
              "stop_date                 0\n",
              "stop_time                 0\n",
              "county_name           91741\n",
              "driver_gender          5205\n",
              "driver_race            5202\n",
              "violation_raw          5202\n",
              "violation              5202\n",
              "search_conducted          0\n",
              "search_type           88434\n",
              "stop_outcome           5202\n",
              "is_arrested            5202\n",
              "stop_duration          5202\n",
              "drugs_related_stop        0\n",
              "district                  0\n",
              "dtype: int64"
            ]
          },
          "metadata": {
            "tags": []
          },
          "execution_count": 140
        }
      ]
    },
    {
      "cell_type": "code",
      "metadata": {
        "id": "GKtRT99p6zon",
        "colab_type": "code",
        "outputId": "e60cf40e-8bf9-46d0-b1a9-4ced1a885950",
        "colab": {
          "base_uri": "https://localhost:8080/",
          "height": 272
        }
      },
      "source": [
        "# drop() for columns or rows, dropna() for rows or columns\n",
        "\n",
        "ri.drop('county_name', axis=1, inplace=True)\n",
        "ri.isnull().sum()"
      ],
      "execution_count": 141,
      "outputs": [
        {
          "output_type": "execute_result",
          "data": {
            "text/plain": [
              "state                     0\n",
              "stop_date                 0\n",
              "stop_time                 0\n",
              "driver_gender          5205\n",
              "driver_race            5202\n",
              "violation_raw          5202\n",
              "violation              5202\n",
              "search_conducted          0\n",
              "search_type           88434\n",
              "stop_outcome           5202\n",
              "is_arrested            5202\n",
              "stop_duration          5202\n",
              "drugs_related_stop        0\n",
              "district                  0\n",
              "dtype: int64"
            ]
          },
          "metadata": {
            "tags": []
          },
          "execution_count": 141
        }
      ]
    },
    {
      "cell_type": "code",
      "metadata": {
        "id": "M0uLB24K7Ppf",
        "colab_type": "code",
        "colab": {}
      },
      "source": [
        "'''Drop rows with null values in critical rows '''\n",
        "\n",
        "# Drop rows with null values in critical rows \n",
        "ri.dropna(subset=['stop_date','stop_time'], inplace=True)"
      ],
      "execution_count": 0,
      "outputs": []
    },
    {
      "cell_type": "code",
      "metadata": {
        "id": "RY76pLS17uib",
        "colab_type": "code",
        "outputId": "803f9d52-9b52-4d34-8081-52893f697e75",
        "colab": {
          "base_uri": "https://localhost:8080/",
          "height": 544
        }
      },
      "source": [
        "\n",
        "# Count the number of missing values in each column\n",
        "print(ri.isnull().sum())\n",
        "\n",
        "# Drop all rows that are missing 'driver_gender'\n",
        "ri.dropna(subset=['driver_gender'], inplace=True)\n",
        "\n",
        "# Count the number of missing values in each column (again)\n",
        "print(ri.isnull().sum())\n",
        "\n",
        "# Examine the shape of the DataFrame\n",
        "print(ri.shape)"
      ],
      "execution_count": 143,
      "outputs": [
        {
          "output_type": "stream",
          "text": [
            "state                     0\n",
            "stop_date                 0\n",
            "stop_time                 0\n",
            "driver_gender          5205\n",
            "driver_race            5202\n",
            "violation_raw          5202\n",
            "violation              5202\n",
            "search_conducted          0\n",
            "search_type           88434\n",
            "stop_outcome           5202\n",
            "is_arrested            5202\n",
            "stop_duration          5202\n",
            "drugs_related_stop        0\n",
            "district                  0\n",
            "dtype: int64\n",
            "state                     0\n",
            "stop_date                 0\n",
            "stop_time                 0\n",
            "driver_gender             0\n",
            "driver_race               0\n",
            "violation_raw             0\n",
            "violation                 0\n",
            "search_conducted          0\n",
            "search_type           83229\n",
            "stop_outcome              0\n",
            "is_arrested               0\n",
            "stop_duration             0\n",
            "drugs_related_stop        0\n",
            "district                  0\n",
            "dtype: int64\n",
            "(86536, 14)\n"
          ],
          "name": "stdout"
        }
      ]
    },
    {
      "cell_type": "markdown",
      "metadata": {
        "id": "k56CmRQu9vdV",
        "colab_type": "text"
      },
      "source": [
        "### Using Proper Data Types"
      ]
    },
    {
      "cell_type": "code",
      "metadata": {
        "id": "wJs72K339Yse",
        "colab_type": "code",
        "outputId": "d8b0f96e-ff99-4033-cf92-4bc6f1df23b0",
        "colab": {
          "base_uri": "https://localhost:8080/",
          "height": 272
        }
      },
      "source": [
        "# avoid storing numerical, boolean, categorical, or dates as strings.  Change them to appropriate types to minimize resource usage.\n",
        "ri.dtypes"
      ],
      "execution_count": 144,
      "outputs": [
        {
          "output_type": "execute_result",
          "data": {
            "text/plain": [
              "state                 object\n",
              "stop_date             object\n",
              "stop_time             object\n",
              "driver_gender         object\n",
              "driver_race           object\n",
              "violation_raw         object\n",
              "violation             object\n",
              "search_conducted        bool\n",
              "search_type           object\n",
              "stop_outcome          object\n",
              "is_arrested           object\n",
              "stop_duration         object\n",
              "drugs_related_stop      bool\n",
              "district              object\n",
              "dtype: object"
            ]
          },
          "metadata": {
            "tags": []
          },
          "execution_count": 144
        }
      ]
    },
    {
      "cell_type": "code",
      "metadata": {
        "id": "Y80VdR7s91Y9",
        "colab_type": "code",
        "outputId": "12ab534b-b7a6-47f3-a494-6a8270c55c90",
        "colab": {
          "base_uri": "https://localhost:8080/",
          "height": 136
        }
      },
      "source": [
        "# Bracket notation is necessary for variable assignments\n",
        "\n",
        "# Examine the head of the 'is_arrested' column\n",
        "print(ri.is_arrested.head())\n",
        "\n",
        "# Change the data type of 'is_arrested' to 'bool'\n",
        "ri['is_arrested'] = ri.is_arrested.astype('bool')\n",
        "\n",
        "# Check the data type of 'is_arrested' \n",
        "print(ri.is_arrested.dtype)"
      ],
      "execution_count": 145,
      "outputs": [
        {
          "output_type": "stream",
          "text": [
            "0    False\n",
            "1    False\n",
            "2    False\n",
            "3     True\n",
            "4    False\n",
            "Name: is_arrested, dtype: object\n",
            "bool\n"
          ],
          "name": "stdout"
        }
      ]
    },
    {
      "cell_type": "markdown",
      "metadata": {
        "id": "D25paW1FAuQf",
        "colab_type": "text"
      },
      "source": [
        "### Creating a Datetime Index"
      ]
    },
    {
      "cell_type": "code",
      "metadata": {
        "id": "3FsEckYdALoq",
        "colab_type": "code",
        "outputId": "ebc84bbe-41b8-4976-c71d-d518f29eb0bc",
        "colab": {
          "base_uri": "https://localhost:8080/",
          "height": 148
        }
      },
      "source": [
        "ri.head(2)"
      ],
      "execution_count": 146,
      "outputs": [
        {
          "output_type": "execute_result",
          "data": {
            "text/html": [
              "<div>\n",
              "<style scoped>\n",
              "    .dataframe tbody tr th:only-of-type {\n",
              "        vertical-align: middle;\n",
              "    }\n",
              "\n",
              "    .dataframe tbody tr th {\n",
              "        vertical-align: top;\n",
              "    }\n",
              "\n",
              "    .dataframe thead th {\n",
              "        text-align: right;\n",
              "    }\n",
              "</style>\n",
              "<table border=\"1\" class=\"dataframe\">\n",
              "  <thead>\n",
              "    <tr style=\"text-align: right;\">\n",
              "      <th></th>\n",
              "      <th>state</th>\n",
              "      <th>stop_date</th>\n",
              "      <th>stop_time</th>\n",
              "      <th>driver_gender</th>\n",
              "      <th>driver_race</th>\n",
              "      <th>violation_raw</th>\n",
              "      <th>violation</th>\n",
              "      <th>search_conducted</th>\n",
              "      <th>search_type</th>\n",
              "      <th>stop_outcome</th>\n",
              "      <th>is_arrested</th>\n",
              "      <th>stop_duration</th>\n",
              "      <th>drugs_related_stop</th>\n",
              "      <th>district</th>\n",
              "    </tr>\n",
              "  </thead>\n",
              "  <tbody>\n",
              "    <tr>\n",
              "      <th>0</th>\n",
              "      <td>RI</td>\n",
              "      <td>2005-01-04</td>\n",
              "      <td>12:55</td>\n",
              "      <td>M</td>\n",
              "      <td>White</td>\n",
              "      <td>Equipment/Inspection Violation</td>\n",
              "      <td>Equipment</td>\n",
              "      <td>False</td>\n",
              "      <td>NaN</td>\n",
              "      <td>Citation</td>\n",
              "      <td>False</td>\n",
              "      <td>0-15 Min</td>\n",
              "      <td>False</td>\n",
              "      <td>Zone X4</td>\n",
              "    </tr>\n",
              "    <tr>\n",
              "      <th>1</th>\n",
              "      <td>RI</td>\n",
              "      <td>2005-01-23</td>\n",
              "      <td>23:15</td>\n",
              "      <td>M</td>\n",
              "      <td>White</td>\n",
              "      <td>Speeding</td>\n",
              "      <td>Speeding</td>\n",
              "      <td>False</td>\n",
              "      <td>NaN</td>\n",
              "      <td>Citation</td>\n",
              "      <td>False</td>\n",
              "      <td>0-15 Min</td>\n",
              "      <td>False</td>\n",
              "      <td>Zone K3</td>\n",
              "    </tr>\n",
              "  </tbody>\n",
              "</table>\n",
              "</div>"
            ],
            "text/plain": [
              "  state   stop_date stop_time  ... stop_duration drugs_related_stop district\n",
              "0    RI  2005-01-04     12:55  ...      0-15 Min              False  Zone X4\n",
              "1    RI  2005-01-23     23:15  ...      0-15 Min              False  Zone K3\n",
              "\n",
              "[2 rows x 14 columns]"
            ]
          },
          "metadata": {
            "tags": []
          },
          "execution_count": 146
        }
      ]
    },
    {
      "cell_type": "code",
      "metadata": {
        "id": "uc94w-CtA-DM",
        "colab_type": "code",
        "outputId": "797bd1e4-28bc-4d6a-b8f5-250f25852903",
        "colab": {
          "base_uri": "https://localhost:8080/",
          "height": 148
        }
      },
      "source": [
        "# Combine stop_date and stop_time so that a datetime object can be created\n",
        "ri.stop_date = ri.stop_date.str.replace('-','/') # variable assignment was necessary to get the string method to work-no kwarg inplace=True\n",
        "ri.head(2)"
      ],
      "execution_count": 147,
      "outputs": [
        {
          "output_type": "execute_result",
          "data": {
            "text/html": [
              "<div>\n",
              "<style scoped>\n",
              "    .dataframe tbody tr th:only-of-type {\n",
              "        vertical-align: middle;\n",
              "    }\n",
              "\n",
              "    .dataframe tbody tr th {\n",
              "        vertical-align: top;\n",
              "    }\n",
              "\n",
              "    .dataframe thead th {\n",
              "        text-align: right;\n",
              "    }\n",
              "</style>\n",
              "<table border=\"1\" class=\"dataframe\">\n",
              "  <thead>\n",
              "    <tr style=\"text-align: right;\">\n",
              "      <th></th>\n",
              "      <th>state</th>\n",
              "      <th>stop_date</th>\n",
              "      <th>stop_time</th>\n",
              "      <th>driver_gender</th>\n",
              "      <th>driver_race</th>\n",
              "      <th>violation_raw</th>\n",
              "      <th>violation</th>\n",
              "      <th>search_conducted</th>\n",
              "      <th>search_type</th>\n",
              "      <th>stop_outcome</th>\n",
              "      <th>is_arrested</th>\n",
              "      <th>stop_duration</th>\n",
              "      <th>drugs_related_stop</th>\n",
              "      <th>district</th>\n",
              "    </tr>\n",
              "  </thead>\n",
              "  <tbody>\n",
              "    <tr>\n",
              "      <th>0</th>\n",
              "      <td>RI</td>\n",
              "      <td>2005/01/04</td>\n",
              "      <td>12:55</td>\n",
              "      <td>M</td>\n",
              "      <td>White</td>\n",
              "      <td>Equipment/Inspection Violation</td>\n",
              "      <td>Equipment</td>\n",
              "      <td>False</td>\n",
              "      <td>NaN</td>\n",
              "      <td>Citation</td>\n",
              "      <td>False</td>\n",
              "      <td>0-15 Min</td>\n",
              "      <td>False</td>\n",
              "      <td>Zone X4</td>\n",
              "    </tr>\n",
              "    <tr>\n",
              "      <th>1</th>\n",
              "      <td>RI</td>\n",
              "      <td>2005/01/23</td>\n",
              "      <td>23:15</td>\n",
              "      <td>M</td>\n",
              "      <td>White</td>\n",
              "      <td>Speeding</td>\n",
              "      <td>Speeding</td>\n",
              "      <td>False</td>\n",
              "      <td>NaN</td>\n",
              "      <td>Citation</td>\n",
              "      <td>False</td>\n",
              "      <td>0-15 Min</td>\n",
              "      <td>False</td>\n",
              "      <td>Zone K3</td>\n",
              "    </tr>\n",
              "  </tbody>\n",
              "</table>\n",
              "</div>"
            ],
            "text/plain": [
              "  state   stop_date stop_time  ... stop_duration drugs_related_stop district\n",
              "0    RI  2005/01/04     12:55  ...      0-15 Min              False  Zone X4\n",
              "1    RI  2005/01/23     23:15  ...      0-15 Min              False  Zone K3\n",
              "\n",
              "[2 rows x 14 columns]"
            ]
          },
          "metadata": {
            "tags": []
          },
          "execution_count": 147
        }
      ]
    },
    {
      "cell_type": "code",
      "metadata": {
        "id": "rmEpPB3_C6E6",
        "colab_type": "code",
        "outputId": "53aa2dc5-e54b-444e-988f-eb83a00aaaba",
        "colab": {
          "base_uri": "https://localhost:8080/",
          "height": 221
        }
      },
      "source": [
        "# combine columns into series object\n",
        "combined = ri.stop_date.str.cat(ri.stop_time, sep=' ')\n",
        "combined"
      ],
      "execution_count": 148,
      "outputs": [
        {
          "output_type": "execute_result",
          "data": {
            "text/plain": [
              "0        2005/01/04 12:55\n",
              "1        2005/01/23 23:15\n",
              "2        2005/02/17 04:15\n",
              "3        2005/02/20 17:15\n",
              "4        2005/02/24 01:20\n",
              "               ...       \n",
              "91736    2015/12/31 21:21\n",
              "91737    2015/12/31 21:59\n",
              "91738    2015/12/31 22:04\n",
              "91739    2015/12/31 22:09\n",
              "91740    2015/12/31 22:47\n",
              "Name: stop_date, Length: 86536, dtype: object"
            ]
          },
          "metadata": {
            "tags": []
          },
          "execution_count": 148
        }
      ]
    },
    {
      "cell_type": "code",
      "metadata": {
        "id": "3GP8j6tjDYEA",
        "colab_type": "code",
        "outputId": "4d2ed659-96ee-4ce5-a0ef-d545d95db077",
        "colab": {
          "base_uri": "https://localhost:8080/",
          "height": 289
        }
      },
      "source": [
        "ri['date_and_time'] = combined\n",
        "ri['date_and_time'] = pd.to_datetime(ri['date_and_time'])\n",
        "ri.dtypes"
      ],
      "execution_count": 149,
      "outputs": [
        {
          "output_type": "execute_result",
          "data": {
            "text/plain": [
              "state                         object\n",
              "stop_date                     object\n",
              "stop_time                     object\n",
              "driver_gender                 object\n",
              "driver_race                   object\n",
              "violation_raw                 object\n",
              "violation                     object\n",
              "search_conducted                bool\n",
              "search_type                   object\n",
              "stop_outcome                  object\n",
              "is_arrested                     bool\n",
              "stop_duration                 object\n",
              "drugs_related_stop              bool\n",
              "district                      object\n",
              "date_and_time         datetime64[ns]\n",
              "dtype: object"
            ]
          },
          "metadata": {
            "tags": []
          },
          "execution_count": 149
        }
      ]
    },
    {
      "cell_type": "code",
      "metadata": {
        "id": "177jYyeUEG9l",
        "colab_type": "code",
        "outputId": "d2c43ddb-27c4-45f7-de67-3a2349a1eefa",
        "colab": {
          "base_uri": "https://localhost:8080/",
          "height": 340
        }
      },
      "source": [
        "ri.set_index('date_and_time', inplace=True) # Dotting column to df in key parameter keeps the column from dropping of the end of the df\n",
        "ri.head()"
      ],
      "execution_count": 150,
      "outputs": [
        {
          "output_type": "execute_result",
          "data": {
            "text/html": [
              "<div>\n",
              "<style scoped>\n",
              "    .dataframe tbody tr th:only-of-type {\n",
              "        vertical-align: middle;\n",
              "    }\n",
              "\n",
              "    .dataframe tbody tr th {\n",
              "        vertical-align: top;\n",
              "    }\n",
              "\n",
              "    .dataframe thead th {\n",
              "        text-align: right;\n",
              "    }\n",
              "</style>\n",
              "<table border=\"1\" class=\"dataframe\">\n",
              "  <thead>\n",
              "    <tr style=\"text-align: right;\">\n",
              "      <th></th>\n",
              "      <th>state</th>\n",
              "      <th>stop_date</th>\n",
              "      <th>stop_time</th>\n",
              "      <th>driver_gender</th>\n",
              "      <th>driver_race</th>\n",
              "      <th>violation_raw</th>\n",
              "      <th>violation</th>\n",
              "      <th>search_conducted</th>\n",
              "      <th>search_type</th>\n",
              "      <th>stop_outcome</th>\n",
              "      <th>is_arrested</th>\n",
              "      <th>stop_duration</th>\n",
              "      <th>drugs_related_stop</th>\n",
              "      <th>district</th>\n",
              "    </tr>\n",
              "    <tr>\n",
              "      <th>date_and_time</th>\n",
              "      <th></th>\n",
              "      <th></th>\n",
              "      <th></th>\n",
              "      <th></th>\n",
              "      <th></th>\n",
              "      <th></th>\n",
              "      <th></th>\n",
              "      <th></th>\n",
              "      <th></th>\n",
              "      <th></th>\n",
              "      <th></th>\n",
              "      <th></th>\n",
              "      <th></th>\n",
              "      <th></th>\n",
              "    </tr>\n",
              "  </thead>\n",
              "  <tbody>\n",
              "    <tr>\n",
              "      <th>2005-01-04 12:55:00</th>\n",
              "      <td>RI</td>\n",
              "      <td>2005/01/04</td>\n",
              "      <td>12:55</td>\n",
              "      <td>M</td>\n",
              "      <td>White</td>\n",
              "      <td>Equipment/Inspection Violation</td>\n",
              "      <td>Equipment</td>\n",
              "      <td>False</td>\n",
              "      <td>NaN</td>\n",
              "      <td>Citation</td>\n",
              "      <td>False</td>\n",
              "      <td>0-15 Min</td>\n",
              "      <td>False</td>\n",
              "      <td>Zone X4</td>\n",
              "    </tr>\n",
              "    <tr>\n",
              "      <th>2005-01-23 23:15:00</th>\n",
              "      <td>RI</td>\n",
              "      <td>2005/01/23</td>\n",
              "      <td>23:15</td>\n",
              "      <td>M</td>\n",
              "      <td>White</td>\n",
              "      <td>Speeding</td>\n",
              "      <td>Speeding</td>\n",
              "      <td>False</td>\n",
              "      <td>NaN</td>\n",
              "      <td>Citation</td>\n",
              "      <td>False</td>\n",
              "      <td>0-15 Min</td>\n",
              "      <td>False</td>\n",
              "      <td>Zone K3</td>\n",
              "    </tr>\n",
              "    <tr>\n",
              "      <th>2005-02-17 04:15:00</th>\n",
              "      <td>RI</td>\n",
              "      <td>2005/02/17</td>\n",
              "      <td>04:15</td>\n",
              "      <td>M</td>\n",
              "      <td>White</td>\n",
              "      <td>Speeding</td>\n",
              "      <td>Speeding</td>\n",
              "      <td>False</td>\n",
              "      <td>NaN</td>\n",
              "      <td>Citation</td>\n",
              "      <td>False</td>\n",
              "      <td>0-15 Min</td>\n",
              "      <td>False</td>\n",
              "      <td>Zone X4</td>\n",
              "    </tr>\n",
              "    <tr>\n",
              "      <th>2005-02-20 17:15:00</th>\n",
              "      <td>RI</td>\n",
              "      <td>2005/02/20</td>\n",
              "      <td>17:15</td>\n",
              "      <td>M</td>\n",
              "      <td>White</td>\n",
              "      <td>Call for Service</td>\n",
              "      <td>Other</td>\n",
              "      <td>False</td>\n",
              "      <td>NaN</td>\n",
              "      <td>Arrest Driver</td>\n",
              "      <td>True</td>\n",
              "      <td>16-30 Min</td>\n",
              "      <td>False</td>\n",
              "      <td>Zone X1</td>\n",
              "    </tr>\n",
              "    <tr>\n",
              "      <th>2005-02-24 01:20:00</th>\n",
              "      <td>RI</td>\n",
              "      <td>2005/02/24</td>\n",
              "      <td>01:20</td>\n",
              "      <td>F</td>\n",
              "      <td>White</td>\n",
              "      <td>Speeding</td>\n",
              "      <td>Speeding</td>\n",
              "      <td>False</td>\n",
              "      <td>NaN</td>\n",
              "      <td>Citation</td>\n",
              "      <td>False</td>\n",
              "      <td>0-15 Min</td>\n",
              "      <td>False</td>\n",
              "      <td>Zone X3</td>\n",
              "    </tr>\n",
              "  </tbody>\n",
              "</table>\n",
              "</div>"
            ],
            "text/plain": [
              "                    state   stop_date  ... drugs_related_stop district\n",
              "date_and_time                          ...                            \n",
              "2005-01-04 12:55:00    RI  2005/01/04  ...              False  Zone X4\n",
              "2005-01-23 23:15:00    RI  2005/01/23  ...              False  Zone K3\n",
              "2005-02-17 04:15:00    RI  2005/02/17  ...              False  Zone X4\n",
              "2005-02-20 17:15:00    RI  2005/02/20  ...              False  Zone X1\n",
              "2005-02-24 01:20:00    RI  2005/02/24  ...              False  Zone X3\n",
              "\n",
              "[5 rows x 14 columns]"
            ]
          },
          "metadata": {
            "tags": []
          },
          "execution_count": 150
        }
      ]
    },
    {
      "cell_type": "markdown",
      "metadata": {
        "id": "rucXssAwGQa7",
        "colab_type": "text"
      },
      "source": [
        "# Exploring the relationship between gender and policing\n",
        "### Do the genders commit different violations?"
      ]
    },
    {
      "cell_type": "code",
      "metadata": {
        "id": "xVh1mSRpEpCI",
        "colab_type": "code",
        "outputId": "6411c96b-5fa7-4d36-e292-f8986f887f73",
        "colab": {
          "base_uri": "https://localhost:8080/",
          "height": 136
        }
      },
      "source": [
        "ri.stop_outcome.value_counts()"
      ],
      "execution_count": 16,
      "outputs": [
        {
          "output_type": "execute_result",
          "data": {
            "text/plain": [
              "Citation            77091\n",
              "Warning              5136\n",
              "Arrest Driver        2735\n",
              "No Action             624\n",
              "N/D                   607\n",
              "Arrest Passenger      343\n",
              "Name: stop_outcome, dtype: int64"
            ]
          },
          "metadata": {
            "tags": []
          },
          "execution_count": 16
        }
      ]
    },
    {
      "cell_type": "code",
      "metadata": {
        "id": "wSrjeDYbdSmL",
        "colab_type": "code",
        "outputId": "48bbb878-0f54-4597-bc72-0ad5ab1f4962",
        "colab": {
          "base_uri": "https://localhost:8080/",
          "height": 34
        }
      },
      "source": [
        "ri.stop_outcome.value_counts().sum()"
      ],
      "execution_count": 17,
      "outputs": [
        {
          "output_type": "execute_result",
          "data": {
            "text/plain": [
              "86536"
            ]
          },
          "metadata": {
            "tags": []
          },
          "execution_count": 17
        }
      ]
    },
    {
      "cell_type": "code",
      "metadata": {
        "id": "l22lyFTsdWN4",
        "colab_type": "code",
        "outputId": "d584c98a-b077-418e-871a-a6c27125f23e",
        "colab": {
          "base_uri": "https://localhost:8080/",
          "height": 34
        }
      },
      "source": [
        "ri.shape"
      ],
      "execution_count": 18,
      "outputs": [
        {
          "output_type": "execute_result",
          "data": {
            "text/plain": [
              "(86536, 14)"
            ]
          },
          "metadata": {
            "tags": []
          },
          "execution_count": 18
        }
      ]
    },
    {
      "cell_type": "code",
      "metadata": {
        "id": "C3qpP1-WdlcQ",
        "colab_type": "code",
        "outputId": "7d440b55-5456-4854-c217-f59783207498",
        "colab": {
          "base_uri": "https://localhost:8080/",
          "height": 34
        }
      },
      "source": [
        "# Calculate proportions if desired or normalize (next cell)\n",
        "77091/86536"
      ],
      "execution_count": 19,
      "outputs": [
        {
          "output_type": "execute_result",
          "data": {
            "text/plain": [
              "0.8908546731995932"
            ]
          },
          "metadata": {
            "tags": []
          },
          "execution_count": 19
        }
      ]
    },
    {
      "cell_type": "code",
      "metadata": {
        "id": "pL43uTNcdx03",
        "colab_type": "code",
        "outputId": "9e2169c1-9d37-4acc-fa94-f166497b1a85",
        "colab": {
          "base_uri": "https://localhost:8080/",
          "height": 136
        }
      },
      "source": [
        "ri.stop_outcome.value_counts(normalize=True)"
      ],
      "execution_count": 20,
      "outputs": [
        {
          "output_type": "execute_result",
          "data": {
            "text/plain": [
              "Citation            0.890855\n",
              "Warning             0.059351\n",
              "Arrest Driver       0.031605\n",
              "No Action           0.007211\n",
              "N/D                 0.007014\n",
              "Arrest Passenger    0.003964\n",
              "Name: stop_outcome, dtype: float64"
            ]
          },
          "metadata": {
            "tags": []
          },
          "execution_count": 20
        }
      ]
    },
    {
      "cell_type": "code",
      "metadata": {
        "id": "yI1RjLojd8_v",
        "colab_type": "code",
        "outputId": "3eb90357-d969-4461-f300-577f1603aa18",
        "colab": {
          "base_uri": "https://localhost:8080/",
          "height": 323
        }
      },
      "source": [
        "ri.driver_race.value_counts, ri.driver_race.value_counts(normalize=True)"
      ],
      "execution_count": 21,
      "outputs": [
        {
          "output_type": "execute_result",
          "data": {
            "text/plain": [
              "(<bound method IndexOpsMixin.value_counts of date_and_time\n",
              " 2005-01-04 12:55:00       White\n",
              " 2005-01-23 23:15:00       White\n",
              " 2005-02-17 04:15:00       White\n",
              " 2005-02-20 17:15:00       White\n",
              " 2005-02-24 01:20:00       White\n",
              "                          ...   \n",
              " 2015-12-31 21:21:00       Black\n",
              " 2015-12-31 21:59:00       White\n",
              " 2015-12-31 22:04:00       White\n",
              " 2015-12-31 22:09:00    Hispanic\n",
              " 2015-12-31 22:47:00       White\n",
              " Name: driver_race, Length: 86536, dtype: object>, White       0.714963\n",
              " Black       0.141964\n",
              " Hispanic    0.112404\n",
              " Asian       0.027607\n",
              " Other       0.003062\n",
              " Name: driver_race, dtype: float64)"
            ]
          },
          "metadata": {
            "tags": []
          },
          "execution_count": 21
        }
      ]
    },
    {
      "cell_type": "code",
      "metadata": {
        "id": "cCN4pNwFeQs0",
        "colab_type": "code",
        "outputId": "ea7b562a-db63-4678-d38b-d5a3e3752e06",
        "colab": {
          "base_uri": "https://localhost:8080/",
          "height": 640
        }
      },
      "source": [
        "hispanic = ri[ri.driver_race=='Hispanic']\n",
        "hispanic"
      ],
      "execution_count": 22,
      "outputs": [
        {
          "output_type": "execute_result",
          "data": {
            "text/html": [
              "<div>\n",
              "<style scoped>\n",
              "    .dataframe tbody tr th:only-of-type {\n",
              "        vertical-align: middle;\n",
              "    }\n",
              "\n",
              "    .dataframe tbody tr th {\n",
              "        vertical-align: top;\n",
              "    }\n",
              "\n",
              "    .dataframe thead th {\n",
              "        text-align: right;\n",
              "    }\n",
              "</style>\n",
              "<table border=\"1\" class=\"dataframe\">\n",
              "  <thead>\n",
              "    <tr style=\"text-align: right;\">\n",
              "      <th></th>\n",
              "      <th>state</th>\n",
              "      <th>stop_date</th>\n",
              "      <th>stop_time</th>\n",
              "      <th>driver_gender</th>\n",
              "      <th>driver_race</th>\n",
              "      <th>violation_raw</th>\n",
              "      <th>violation</th>\n",
              "      <th>search_conducted</th>\n",
              "      <th>search_type</th>\n",
              "      <th>stop_outcome</th>\n",
              "      <th>is_arrested</th>\n",
              "      <th>stop_duration</th>\n",
              "      <th>drugs_related_stop</th>\n",
              "      <th>district</th>\n",
              "    </tr>\n",
              "    <tr>\n",
              "      <th>date_and_time</th>\n",
              "      <th></th>\n",
              "      <th></th>\n",
              "      <th></th>\n",
              "      <th></th>\n",
              "      <th></th>\n",
              "      <th></th>\n",
              "      <th></th>\n",
              "      <th></th>\n",
              "      <th></th>\n",
              "      <th></th>\n",
              "      <th></th>\n",
              "      <th></th>\n",
              "      <th></th>\n",
              "      <th></th>\n",
              "    </tr>\n",
              "  </thead>\n",
              "  <tbody>\n",
              "    <tr>\n",
              "      <th>2005-10-05 19:23:00</th>\n",
              "      <td>RI</td>\n",
              "      <td>2005/10/05</td>\n",
              "      <td>19:23</td>\n",
              "      <td>M</td>\n",
              "      <td>Hispanic</td>\n",
              "      <td>Other Traffic Violation</td>\n",
              "      <td>Moving violation</td>\n",
              "      <td>False</td>\n",
              "      <td>NaN</td>\n",
              "      <td>Warning</td>\n",
              "      <td>False</td>\n",
              "      <td>16-30 Min</td>\n",
              "      <td>False</td>\n",
              "      <td>Zone X4</td>\n",
              "    </tr>\n",
              "    <tr>\n",
              "      <th>2005-10-11 21:55:00</th>\n",
              "      <td>RI</td>\n",
              "      <td>2005/10/11</td>\n",
              "      <td>21:55</td>\n",
              "      <td>M</td>\n",
              "      <td>Hispanic</td>\n",
              "      <td>Speeding</td>\n",
              "      <td>Speeding</td>\n",
              "      <td>False</td>\n",
              "      <td>NaN</td>\n",
              "      <td>Citation</td>\n",
              "      <td>False</td>\n",
              "      <td>0-15 Min</td>\n",
              "      <td>False</td>\n",
              "      <td>Zone K3</td>\n",
              "    </tr>\n",
              "    <tr>\n",
              "      <th>2005-10-12 20:30:00</th>\n",
              "      <td>RI</td>\n",
              "      <td>2005/10/12</td>\n",
              "      <td>20:30</td>\n",
              "      <td>M</td>\n",
              "      <td>Hispanic</td>\n",
              "      <td>Other Traffic Violation</td>\n",
              "      <td>Moving violation</td>\n",
              "      <td>True</td>\n",
              "      <td>Protective Frisk</td>\n",
              "      <td>Arrest Driver</td>\n",
              "      <td>True</td>\n",
              "      <td>0-15 Min</td>\n",
              "      <td>False</td>\n",
              "      <td>Zone K3</td>\n",
              "    </tr>\n",
              "    <tr>\n",
              "      <th>2005-10-13 03:00:00</th>\n",
              "      <td>RI</td>\n",
              "      <td>2005/10/13</td>\n",
              "      <td>03:00</td>\n",
              "      <td>M</td>\n",
              "      <td>Hispanic</td>\n",
              "      <td>Speeding</td>\n",
              "      <td>Speeding</td>\n",
              "      <td>False</td>\n",
              "      <td>NaN</td>\n",
              "      <td>Citation</td>\n",
              "      <td>False</td>\n",
              "      <td>0-15 Min</td>\n",
              "      <td>False</td>\n",
              "      <td>Zone K3</td>\n",
              "    </tr>\n",
              "    <tr>\n",
              "      <th>2005-10-15 16:30:00</th>\n",
              "      <td>RI</td>\n",
              "      <td>2005/10/15</td>\n",
              "      <td>16:30</td>\n",
              "      <td>F</td>\n",
              "      <td>Hispanic</td>\n",
              "      <td>Speeding</td>\n",
              "      <td>Speeding</td>\n",
              "      <td>False</td>\n",
              "      <td>NaN</td>\n",
              "      <td>Citation</td>\n",
              "      <td>False</td>\n",
              "      <td>0-15 Min</td>\n",
              "      <td>False</td>\n",
              "      <td>Zone K3</td>\n",
              "    </tr>\n",
              "    <tr>\n",
              "      <th>...</th>\n",
              "      <td>...</td>\n",
              "      <td>...</td>\n",
              "      <td>...</td>\n",
              "      <td>...</td>\n",
              "      <td>...</td>\n",
              "      <td>...</td>\n",
              "      <td>...</td>\n",
              "      <td>...</td>\n",
              "      <td>...</td>\n",
              "      <td>...</td>\n",
              "      <td>...</td>\n",
              "      <td>...</td>\n",
              "      <td>...</td>\n",
              "      <td>...</td>\n",
              "    </tr>\n",
              "    <tr>\n",
              "      <th>2015-12-30 22:52:00</th>\n",
              "      <td>RI</td>\n",
              "      <td>2015/12/30</td>\n",
              "      <td>22:52</td>\n",
              "      <td>M</td>\n",
              "      <td>Hispanic</td>\n",
              "      <td>Seatbelt Violation</td>\n",
              "      <td>Seat belt</td>\n",
              "      <td>False</td>\n",
              "      <td>NaN</td>\n",
              "      <td>Citation</td>\n",
              "      <td>False</td>\n",
              "      <td>0-15 Min</td>\n",
              "      <td>False</td>\n",
              "      <td>Zone X3</td>\n",
              "    </tr>\n",
              "    <tr>\n",
              "      <th>2015-12-30 23:26:00</th>\n",
              "      <td>RI</td>\n",
              "      <td>2015/12/30</td>\n",
              "      <td>23:26</td>\n",
              "      <td>F</td>\n",
              "      <td>Hispanic</td>\n",
              "      <td>Speeding</td>\n",
              "      <td>Speeding</td>\n",
              "      <td>False</td>\n",
              "      <td>NaN</td>\n",
              "      <td>Citation</td>\n",
              "      <td>False</td>\n",
              "      <td>0-15 Min</td>\n",
              "      <td>False</td>\n",
              "      <td>Zone X4</td>\n",
              "    </tr>\n",
              "    <tr>\n",
              "      <th>2015-12-31 07:14:00</th>\n",
              "      <td>RI</td>\n",
              "      <td>2015/12/31</td>\n",
              "      <td>07:14</td>\n",
              "      <td>M</td>\n",
              "      <td>Hispanic</td>\n",
              "      <td>Registration Violation</td>\n",
              "      <td>Registration/plates</td>\n",
              "      <td>False</td>\n",
              "      <td>NaN</td>\n",
              "      <td>Citation</td>\n",
              "      <td>False</td>\n",
              "      <td>0-15 Min</td>\n",
              "      <td>False</td>\n",
              "      <td>Zone X4</td>\n",
              "    </tr>\n",
              "    <tr>\n",
              "      <th>2015-12-31 09:23:00</th>\n",
              "      <td>RI</td>\n",
              "      <td>2015/12/31</td>\n",
              "      <td>09:23</td>\n",
              "      <td>M</td>\n",
              "      <td>Hispanic</td>\n",
              "      <td>Registration Violation</td>\n",
              "      <td>Registration/plates</td>\n",
              "      <td>False</td>\n",
              "      <td>NaN</td>\n",
              "      <td>Citation</td>\n",
              "      <td>False</td>\n",
              "      <td>0-15 Min</td>\n",
              "      <td>False</td>\n",
              "      <td>Zone K3</td>\n",
              "    </tr>\n",
              "    <tr>\n",
              "      <th>2015-12-31 22:09:00</th>\n",
              "      <td>RI</td>\n",
              "      <td>2015/12/31</td>\n",
              "      <td>22:09</td>\n",
              "      <td>F</td>\n",
              "      <td>Hispanic</td>\n",
              "      <td>Equipment/Inspection Violation</td>\n",
              "      <td>Equipment</td>\n",
              "      <td>False</td>\n",
              "      <td>NaN</td>\n",
              "      <td>Warning</td>\n",
              "      <td>False</td>\n",
              "      <td>0-15 Min</td>\n",
              "      <td>False</td>\n",
              "      <td>Zone K3</td>\n",
              "    </tr>\n",
              "  </tbody>\n",
              "</table>\n",
              "<p>9727 rows × 14 columns</p>\n",
              "</div>"
            ],
            "text/plain": [
              "                    state   stop_date  ... drugs_related_stop district\n",
              "date_and_time                          ...                            \n",
              "2005-10-05 19:23:00    RI  2005/10/05  ...              False  Zone X4\n",
              "2005-10-11 21:55:00    RI  2005/10/11  ...              False  Zone K3\n",
              "2005-10-12 20:30:00    RI  2005/10/12  ...              False  Zone K3\n",
              "2005-10-13 03:00:00    RI  2005/10/13  ...              False  Zone K3\n",
              "2005-10-15 16:30:00    RI  2005/10/15  ...              False  Zone K3\n",
              "...                   ...         ...  ...                ...      ...\n",
              "2015-12-30 22:52:00    RI  2015/12/30  ...              False  Zone X3\n",
              "2015-12-30 23:26:00    RI  2015/12/30  ...              False  Zone X4\n",
              "2015-12-31 07:14:00    RI  2015/12/31  ...              False  Zone X4\n",
              "2015-12-31 09:23:00    RI  2015/12/31  ...              False  Zone K3\n",
              "2015-12-31 22:09:00    RI  2015/12/31  ...              False  Zone K3\n",
              "\n",
              "[9727 rows x 14 columns]"
            ]
          },
          "metadata": {
            "tags": []
          },
          "execution_count": 22
        }
      ]
    },
    {
      "cell_type": "code",
      "metadata": {
        "id": "A9Js1biieab0",
        "colab_type": "code",
        "outputId": "6bd61f37-0e64-4b47-aca1-e84e7b643054",
        "colab": {
          "base_uri": "https://localhost:8080/",
          "height": 34
        }
      },
      "source": [
        "hispanic.shape"
      ],
      "execution_count": 23,
      "outputs": [
        {
          "output_type": "execute_result",
          "data": {
            "text/plain": [
              "(9727, 14)"
            ]
          },
          "metadata": {
            "tags": []
          },
          "execution_count": 23
        }
      ]
    },
    {
      "cell_type": "code",
      "metadata": {
        "id": "RC5qEsHXewjS",
        "colab_type": "code",
        "outputId": "5b5fc2c6-0c2a-492a-893b-cc8bcf2b83aa",
        "colab": {
          "base_uri": "https://localhost:8080/",
          "height": 136
        }
      },
      "source": [
        "hispanic.stop_outcome.value_counts()"
      ],
      "execution_count": 24,
      "outputs": [
        {
          "output_type": "execute_result",
          "data": {
            "text/plain": [
              "Citation            8288\n",
              "Warning              656\n",
              "Arrest Driver        538\n",
              "N/D                   92\n",
              "No Action             86\n",
              "Arrest Passenger      67\n",
              "Name: stop_outcome, dtype: int64"
            ]
          },
          "metadata": {
            "tags": []
          },
          "execution_count": 24
        }
      ]
    },
    {
      "cell_type": "code",
      "metadata": {
        "id": "A6TBn91ne-MO",
        "colab_type": "code",
        "outputId": "a66130ce-78e3-4f4a-cf2d-273bac29ff74",
        "colab": {
          "base_uri": "https://localhost:8080/",
          "height": 255
        }
      },
      "source": [
        "# Count the unique values in 'violation'\n",
        "print(ri.violation.value_counts())\n",
        "\n",
        "# Express the counts as proportions\n",
        "print(ri.violation.value_counts(normalize=True))"
      ],
      "execution_count": 25,
      "outputs": [
        {
          "output_type": "stream",
          "text": [
            "Speeding               48423\n",
            "Moving violation       16224\n",
            "Equipment              10921\n",
            "Other                   4409\n",
            "Registration/plates     3703\n",
            "Seat belt               2856\n",
            "Name: violation, dtype: int64\n",
            "Speeding               0.559571\n",
            "Moving violation       0.187483\n",
            "Equipment              0.126202\n",
            "Other                  0.050950\n",
            "Registration/plates    0.042791\n",
            "Seat belt              0.033004\n",
            "Name: violation, dtype: float64\n"
          ],
          "name": "stdout"
        }
      ]
    },
    {
      "cell_type": "code",
      "metadata": {
        "id": "EOnl2yFGf72P",
        "colab_type": "code",
        "outputId": "3801f19d-fb3b-424a-de28-545842402f4e",
        "colab": {
          "base_uri": "https://localhost:8080/",
          "height": 255
        }
      },
      "source": [
        "# Create a DataFrame of female drivers\n",
        "female = ri[ri['driver_gender'] == 'F']\n",
        "\n",
        "# Create a DataFrame of male drivers\n",
        "male = ri[ri['driver_gender'] == 'M']\n",
        "\n",
        "# Compute the violations by female drivers (as proportions)\n",
        "print(female.violation.value_counts(normalize=True))\n",
        "\n",
        "# Compute the violations by male drivers (as proportions)\n",
        "print(male.violation.value_counts(normalize=True))"
      ],
      "execution_count": 26,
      "outputs": [
        {
          "output_type": "stream",
          "text": [
            "Speeding               0.658114\n",
            "Moving violation       0.138218\n",
            "Equipment              0.105199\n",
            "Registration/plates    0.044418\n",
            "Other                  0.029738\n",
            "Seat belt              0.024312\n",
            "Name: violation, dtype: float64\n",
            "Speeding               0.522243\n",
            "Moving violation       0.206144\n",
            "Equipment              0.134158\n",
            "Other                  0.058985\n",
            "Registration/plates    0.042175\n",
            "Seat belt              0.036296\n",
            "Name: violation, dtype: float64\n"
          ],
          "name": "stdout"
        }
      ]
    },
    {
      "cell_type": "markdown",
      "metadata": {
        "id": "SHFW4H2lgkZR",
        "colab_type": "text"
      },
      "source": [
        "### Does Gender Affect Who Gets a Ticket for Speeding?"
      ]
    },
    {
      "cell_type": "code",
      "metadata": {
        "id": "wzeZFD3hggT1",
        "colab_type": "code",
        "outputId": "c7e3710a-6db6-45bc-b0a1-1aa5c5f4b3ff",
        "colab": {
          "base_uri": "https://localhost:8080/",
          "height": 34
        }
      },
      "source": [
        "# logical and &\n",
        "female_and_arrested = ri[(ri.driver_gender == 'F') & (ri.is_arrested == True)]\n",
        "female_and_arrested.shape"
      ],
      "execution_count": 27,
      "outputs": [
        {
          "output_type": "execute_result",
          "data": {
            "text/plain": [
              "(669, 14)"
            ]
          },
          "metadata": {
            "tags": []
          },
          "execution_count": 27
        }
      ]
    },
    {
      "cell_type": "code",
      "metadata": {
        "id": "VKcZd0VRi8eJ",
        "colab_type": "code",
        "outputId": "d2f6bb96-bd65-4023-cb70-5f598edd4b16",
        "colab": {
          "base_uri": "https://localhost:8080/",
          "height": 34
        }
      },
      "source": [
        "# logical and &\n",
        "male_and_arrested = ri[(ri.driver_gender == 'M') & (ri.is_arrested == True)]\n",
        "male_and_arrested.shape, type(male_and_arrested)"
      ],
      "execution_count": 28,
      "outputs": [
        {
          "output_type": "execute_result",
          "data": {
            "text/plain": [
              "((2409, 14), pandas.core.frame.DataFrame)"
            ]
          },
          "metadata": {
            "tags": []
          },
          "execution_count": 28
        }
      ]
    },
    {
      "cell_type": "code",
      "metadata": {
        "id": "rxU_dp5fjBLM",
        "colab_type": "code",
        "outputId": "b3ab44e6-3655-42f1-b047-17bbb510da8d",
        "colab": {
          "base_uri": "https://localhost:8080/",
          "height": 34
        }
      },
      "source": [
        "# logical or |\n",
        "female_or_arrested = ri[(ri.driver_gender == 'F') | (ri.is_arrested == True)]\n",
        "female_or_arrested.shape"
      ],
      "execution_count": 29,
      "outputs": [
        {
          "output_type": "execute_result",
          "data": {
            "text/plain": [
              "(26183, 14)"
            ]
          },
          "metadata": {
            "tags": []
          },
          "execution_count": 29
        }
      ]
    },
    {
      "cell_type": "code",
      "metadata": {
        "id": "h7TFr5B2jaTU",
        "colab_type": "code",
        "outputId": "c8b5eaeb-33f6-4b30-8a35-52d46f0951a7",
        "colab": {
          "base_uri": "https://localhost:8080/",
          "height": 34
        }
      },
      "source": [
        "female_and_speeding = ri[(ri.driver_gender == 'F') & (ri.violation == 'Speeding')]\n",
        "female_and_speeding.shape"
      ],
      "execution_count": 30,
      "outputs": [
        {
          "output_type": "execute_result",
          "data": {
            "text/plain": [
              "(15646, 14)"
            ]
          },
          "metadata": {
            "tags": []
          },
          "execution_count": 30
        }
      ]
    },
    {
      "cell_type": "code",
      "metadata": {
        "id": "GF12S2Egl3hD",
        "colab_type": "code",
        "colab": {}
      },
      "source": [
        "# Create a DataFrame of male drivers stopped for speeding\n",
        "male_and_speeding = ri[(ri.driver_gender == 'M') & (ri.violation == 'Speeding')]"
      ],
      "execution_count": 0,
      "outputs": []
    },
    {
      "cell_type": "code",
      "metadata": {
        "id": "K3tvxirikMEW",
        "colab_type": "code",
        "outputId": "1cc1db78-f43d-40fd-8406-eef35145fcc8",
        "colab": {
          "base_uri": "https://localhost:8080/",
          "height": 255
        }
      },
      "source": [
        "# Compute the stop outcomes for female drivers (as proportions)\n",
        "print(female_and_speeding.stop_outcome.value_counts(normalize=True))\n",
        "\n",
        "# Compute the stop outcomes for male drivers (as proportions)\n",
        "print(male_and_speeding.stop_outcome.value_counts(normalize=True))"
      ],
      "execution_count": 32,
      "outputs": [
        {
          "output_type": "stream",
          "text": [
            "Citation            0.952192\n",
            "Warning             0.040074\n",
            "Arrest Driver       0.005752\n",
            "N/D                 0.000959\n",
            "Arrest Passenger    0.000639\n",
            "No Action           0.000383\n",
            "Name: stop_outcome, dtype: float64\n",
            "Citation            0.944595\n",
            "Warning             0.036184\n",
            "Arrest Driver       0.015895\n",
            "Arrest Passenger    0.001281\n",
            "No Action           0.001068\n",
            "N/D                 0.000976\n",
            "Name: stop_outcome, dtype: float64\n"
          ],
          "name": "stdout"
        }
      ]
    },
    {
      "cell_type": "markdown",
      "metadata": {
        "id": "b9LycOqlmBO2",
        "colab_type": "text"
      },
      "source": [
        "### Does Gender Affect Whose Vehicle is Searched?"
      ]
    },
    {
      "cell_type": "code",
      "metadata": {
        "id": "zIaleqR8lzbY",
        "colab_type": "code",
        "outputId": "128052ff-e67c-4d1a-d6f9-96a8756023f6",
        "colab": {
          "base_uri": "https://localhost:8080/",
          "height": 272
        }
      },
      "source": [
        "ri.isnull().sum()"
      ],
      "execution_count": 33,
      "outputs": [
        {
          "output_type": "execute_result",
          "data": {
            "text/plain": [
              "state                     0\n",
              "stop_date                 0\n",
              "stop_time                 0\n",
              "driver_gender             0\n",
              "driver_race               0\n",
              "violation_raw             0\n",
              "violation                 0\n",
              "search_conducted          0\n",
              "search_type           83229\n",
              "stop_outcome              0\n",
              "is_arrested               0\n",
              "stop_duration             0\n",
              "drugs_related_stop        0\n",
              "district                  0\n",
              "dtype: int64"
            ]
          },
          "metadata": {
            "tags": []
          },
          "execution_count": 33
        }
      ]
    },
    {
      "cell_type": "code",
      "metadata": {
        "id": "nNcKC-K7mnas",
        "colab_type": "code",
        "outputId": "7a095ee6-a94c-4930-eea2-8d132ea3e89c",
        "colab": {
          "base_uri": "https://localhost:8080/",
          "height": 68
        }
      },
      "source": [
        "# The mean of a boolean series is the percent of values that are true\n",
        "ri.is_arrested.value_counts(normalize=True)"
      ],
      "execution_count": 34,
      "outputs": [
        {
          "output_type": "execute_result",
          "data": {
            "text/plain": [
              "False    0.964431\n",
              "True     0.035569\n",
              "Name: is_arrested, dtype: float64"
            ]
          },
          "metadata": {
            "tags": []
          },
          "execution_count": 34
        }
      ]
    },
    {
      "cell_type": "code",
      "metadata": {
        "id": "sl1vybTlnA7h",
        "colab_type": "code",
        "outputId": "b6b91efe-581a-419e-a4a4-524066d3b0b1",
        "colab": {
          "base_uri": "https://localhost:8080/",
          "height": 34
        }
      },
      "source": [
        "ri.is_arrested.mean()"
      ],
      "execution_count": 35,
      "outputs": [
        {
          "output_type": "execute_result",
          "data": {
            "text/plain": [
              "0.0355690117407784"
            ]
          },
          "metadata": {
            "tags": []
          },
          "execution_count": 35
        }
      ]
    },
    {
      "cell_type": "code",
      "metadata": {
        "id": "47ix80uPnLsj",
        "colab_type": "code",
        "outputId": "b9d47876-c206-49e9-ea88-7e26bf26a65d",
        "colab": {
          "base_uri": "https://localhost:8080/",
          "height": 51
        }
      },
      "source": [
        "ri.district.unique()"
      ],
      "execution_count": 36,
      "outputs": [
        {
          "output_type": "execute_result",
          "data": {
            "text/plain": [
              "array(['Zone X4', 'Zone K3', 'Zone X1', 'Zone X3', 'Zone K1', 'Zone K2'],\n",
              "      dtype=object)"
            ]
          },
          "metadata": {
            "tags": []
          },
          "execution_count": 36
        }
      ]
    },
    {
      "cell_type": "code",
      "metadata": {
        "id": "ziNN1HXKnj99",
        "colab_type": "code",
        "outputId": "5f80892f-979f-411b-dbbf-f2a1b76b1e80",
        "colab": {
          "base_uri": "https://localhost:8080/",
          "height": 34
        }
      },
      "source": [
        "ri[(ri.district == 'Zone K1')].is_arrested.mean()"
      ],
      "execution_count": 37,
      "outputs": [
        {
          "output_type": "execute_result",
          "data": {
            "text/plain": [
              "0.024349083895853423"
            ]
          },
          "metadata": {
            "tags": []
          },
          "execution_count": 37
        }
      ]
    },
    {
      "cell_type": "code",
      "metadata": {
        "id": "CFSAz_1tns6H",
        "colab_type": "code",
        "outputId": "f64c53fc-4597-48ad-e75c-2b2d41d67998",
        "colab": {
          "base_uri": "https://localhost:8080/",
          "height": 153
        }
      },
      "source": [
        "# The easy way to get means of different districts is to use groupby\n",
        "\n",
        "ri.groupby('district').is_arrested.mean()"
      ],
      "execution_count": 38,
      "outputs": [
        {
          "output_type": "execute_result",
          "data": {
            "text/plain": [
              "district\n",
              "Zone K1    0.024349\n",
              "Zone K2    0.030801\n",
              "Zone K3    0.032311\n",
              "Zone X1    0.023494\n",
              "Zone X3    0.034871\n",
              "Zone X4    0.048038\n",
              "Name: is_arrested, dtype: float64"
            ]
          },
          "metadata": {
            "tags": []
          },
          "execution_count": 38
        }
      ]
    },
    {
      "cell_type": "code",
      "metadata": {
        "id": "z4lL5RDFoB4C",
        "colab_type": "code",
        "outputId": "760bd1bd-075f-4770-fb60-e4ada47850fc",
        "colab": {
          "base_uri": "https://localhost:8080/",
          "height": 255
        }
      },
      "source": [
        "ri.groupby(['district','driver_gender']).is_arrested.mean()"
      ],
      "execution_count": 39,
      "outputs": [
        {
          "output_type": "execute_result",
          "data": {
            "text/plain": [
              "district  driver_gender\n",
              "Zone K1   F                0.019169\n",
              "          M                0.026588\n",
              "Zone K2   F                0.022196\n",
              "          M                0.034285\n",
              "Zone K3   F                0.025156\n",
              "          M                0.034961\n",
              "Zone X1   F                0.019646\n",
              "          M                0.024563\n",
              "Zone X3   F                0.027188\n",
              "          M                0.038166\n",
              "Zone X4   F                0.042149\n",
              "          M                0.049956\n",
              "Name: is_arrested, dtype: float64"
            ]
          },
          "metadata": {
            "tags": []
          },
          "execution_count": 39
        }
      ]
    },
    {
      "cell_type": "code",
      "metadata": {
        "id": "QejExP-boQI2",
        "colab_type": "code",
        "outputId": "37bdb739-4735-4484-cbd2-fb123b6bdecc",
        "colab": {
          "base_uri": "https://localhost:8080/",
          "height": 255
        }
      },
      "source": [
        "ri.groupby(['driver_gender', 'district']).is_arrested.mean()"
      ],
      "execution_count": 40,
      "outputs": [
        {
          "output_type": "execute_result",
          "data": {
            "text/plain": [
              "driver_gender  district\n",
              "F              Zone K1     0.019169\n",
              "               Zone K2     0.022196\n",
              "               Zone K3     0.025156\n",
              "               Zone X1     0.019646\n",
              "               Zone X3     0.027188\n",
              "               Zone X4     0.042149\n",
              "M              Zone K1     0.026588\n",
              "               Zone K2     0.034285\n",
              "               Zone K3     0.034961\n",
              "               Zone X1     0.024563\n",
              "               Zone X3     0.038166\n",
              "               Zone X4     0.049956\n",
              "Name: is_arrested, dtype: float64"
            ]
          },
          "metadata": {
            "tags": []
          },
          "execution_count": 40
        }
      ]
    },
    {
      "cell_type": "code",
      "metadata": {
        "id": "UHYgHinQoko3",
        "colab_type": "code",
        "outputId": "7930c0f9-d16e-4486-dc15-40174b0b8078",
        "colab": {
          "base_uri": "https://localhost:8080/",
          "height": 102
        }
      },
      "source": [
        "# Check the data type of 'search_conducted'\n",
        "print(ri.search_conducted.dtype)\n",
        "\n",
        "# Calculate the search rate by counting the values\n",
        "print(ri.search_conducted.value_counts(normalize=True))\n",
        "\n",
        "# Calculate the search rate by taking the mean\n",
        "print(ri.search_conducted.mean())"
      ],
      "execution_count": 41,
      "outputs": [
        {
          "output_type": "stream",
          "text": [
            "bool\n",
            "False    0.961785\n",
            "True     0.038215\n",
            "Name: search_conducted, dtype: float64\n",
            "0.0382153092354627\n"
          ],
          "name": "stdout"
        }
      ]
    },
    {
      "cell_type": "code",
      "metadata": {
        "id": "Z6AQEuJwo_1U",
        "colab_type": "code",
        "outputId": "17518967-21b1-4034-aace-0f506e7ffe29",
        "colab": {
          "base_uri": "https://localhost:8080/",
          "height": 119
        }
      },
      "source": [
        "# Calculate the search rate for female drivers\n",
        "print(ri[ri.driver_gender=='F'].search_conducted.mean())\n",
        "\n",
        "# Calculate the search rate for male drivers\n",
        "print(ri[ri.driver_gender=='M'].search_conducted.mean())\n",
        "\n",
        "# Calculate the search rate for both groups simultaneously\n",
        "print(ri.groupby('driver_gender').search_conducted.mean())"
      ],
      "execution_count": 42,
      "outputs": [
        {
          "output_type": "stream",
          "text": [
            "0.019180617481282074\n",
            "0.04542557598546892\n",
            "driver_gender\n",
            "F    0.019181\n",
            "M    0.045426\n",
            "Name: search_conducted, dtype: float64\n"
          ],
          "name": "stdout"
        }
      ]
    },
    {
      "cell_type": "code",
      "metadata": {
        "id": "k33_LBMUptbZ",
        "colab_type": "code",
        "outputId": "f966f26b-b543-4755-d9e0-ae08a4b9f15b",
        "colab": {
          "base_uri": "https://localhost:8080/",
          "height": 493
        }
      },
      "source": [
        "# Calculate the search rate for each combination of gender and violation\n",
        "print(ri.groupby(['driver_gender','violation']).search_conducted.mean())\n",
        "\n",
        "# Reverse the ordering to group by violation before gender\n",
        "print(ri.groupby(['violation','driver_gender']).search_conducted.mean())"
      ],
      "execution_count": 43,
      "outputs": [
        {
          "output_type": "stream",
          "text": [
            "driver_gender  violation          \n",
            "F              Equipment              0.039984\n",
            "               Moving violation       0.039257\n",
            "               Other                  0.041018\n",
            "               Registration/plates    0.054924\n",
            "               Seat belt              0.017301\n",
            "               Speeding               0.008309\n",
            "M              Equipment              0.071496\n",
            "               Moving violation       0.061524\n",
            "               Other                  0.046191\n",
            "               Registration/plates    0.108802\n",
            "               Seat belt              0.035119\n",
            "               Speeding               0.027885\n",
            "Name: search_conducted, dtype: float64\n",
            "violation            driver_gender\n",
            "Equipment            F                0.039984\n",
            "                     M                0.071496\n",
            "Moving violation     F                0.039257\n",
            "                     M                0.061524\n",
            "Other                F                0.041018\n",
            "                     M                0.046191\n",
            "Registration/plates  F                0.054924\n",
            "                     M                0.108802\n",
            "Seat belt            F                0.017301\n",
            "                     M                0.035119\n",
            "Speeding             F                0.008309\n",
            "                     M                0.027885\n",
            "Name: search_conducted, dtype: float64\n"
          ],
          "name": "stdout"
        }
      ]
    },
    {
      "cell_type": "markdown",
      "metadata": {
        "id": "QCscuTeiqcx_",
        "colab_type": "text"
      },
      "source": [
        "### Does Gender Affect Who Is Searched?"
      ]
    },
    {
      "cell_type": "code",
      "metadata": {
        "id": "Qwnw1ag3qW-O",
        "colab_type": "code",
        "outputId": "ea1879c7-5407-4ca9-f14c-90d9faa29e1a",
        "colab": {
          "base_uri": "https://localhost:8080/",
          "height": 68
        }
      },
      "source": [
        "ri.search_conducted.value_counts()"
      ],
      "execution_count": 44,
      "outputs": [
        {
          "output_type": "execute_result",
          "data": {
            "text/plain": [
              "False    83229\n",
              "True      3307\n",
              "Name: search_conducted, dtype: int64"
            ]
          },
          "metadata": {
            "tags": []
          },
          "execution_count": 44
        }
      ]
    },
    {
      "cell_type": "code",
      "metadata": {
        "id": "FCFM0yCeq-Di",
        "colab_type": "code",
        "outputId": "ec3a2948-74da-4f6a-dacc-fbf2ce09fb3c",
        "colab": {
          "base_uri": "https://localhost:8080/",
          "height": 476
        }
      },
      "source": [
        "# NaN values number the same as false search_conducted\n",
        "ri.search_type.value_counts(dropna=False) # Null values are dropped by default"
      ],
      "execution_count": 45,
      "outputs": [
        {
          "output_type": "execute_result",
          "data": {
            "text/plain": [
              "NaN                                                         83229\n",
              "Incident to Arrest                                           1290\n",
              "Probable Cause                                                924\n",
              "Inventory                                                     219\n",
              "Reasonable Suspicion                                          214\n",
              "Protective Frisk                                              164\n",
              "Incident to Arrest,Inventory                                  123\n",
              "Incident to Arrest,Probable Cause                             100\n",
              "Probable Cause,Reasonable Suspicion                            54\n",
              "Probable Cause,Protective Frisk                                35\n",
              "Incident to Arrest,Inventory,Probable Cause                    35\n",
              "Incident to Arrest,Protective Frisk                            33\n",
              "Inventory,Probable Cause                                       25\n",
              "Protective Frisk,Reasonable Suspicion                          19\n",
              "Incident to Arrest,Inventory,Protective Frisk                  18\n",
              "Incident to Arrest,Probable Cause,Protective Frisk             13\n",
              "Inventory,Protective Frisk                                     12\n",
              "Incident to Arrest,Reasonable Suspicion                         8\n",
              "Probable Cause,Protective Frisk,Reasonable Suspicion            5\n",
              "Incident to Arrest,Probable Cause,Reasonable Suspicion          5\n",
              "Incident to Arrest,Inventory,Reasonable Suspicion               4\n",
              "Incident to Arrest,Protective Frisk,Reasonable Suspicion        2\n",
              "Inventory,Reasonable Suspicion                                  2\n",
              "Inventory,Probable Cause,Protective Frisk                       1\n",
              "Inventory,Protective Frisk,Reasonable Suspicion                 1\n",
              "Inventory,Probable Cause,Reasonable Suspicion                   1\n",
              "Name: search_type, dtype: int64"
            ]
          },
          "metadata": {
            "tags": []
          },
          "execution_count": 45
        }
      ]
    },
    {
      "cell_type": "code",
      "metadata": {
        "id": "vo33_gKorNxE",
        "colab_type": "code",
        "outputId": "a9163538-efc4-4eca-dd93-e9f106c6bd51",
        "colab": {
          "base_uri": "https://localhost:8080/",
          "height": 340
        }
      },
      "source": [
        "# To access columns where a value is included with other values\n",
        "ri['inventory'] = ri.search_type.str.contains('Inventory', na=False) # returns false when it finds a missing value\n",
        "ri.head()"
      ],
      "execution_count": 46,
      "outputs": [
        {
          "output_type": "execute_result",
          "data": {
            "text/html": [
              "<div>\n",
              "<style scoped>\n",
              "    .dataframe tbody tr th:only-of-type {\n",
              "        vertical-align: middle;\n",
              "    }\n",
              "\n",
              "    .dataframe tbody tr th {\n",
              "        vertical-align: top;\n",
              "    }\n",
              "\n",
              "    .dataframe thead th {\n",
              "        text-align: right;\n",
              "    }\n",
              "</style>\n",
              "<table border=\"1\" class=\"dataframe\">\n",
              "  <thead>\n",
              "    <tr style=\"text-align: right;\">\n",
              "      <th></th>\n",
              "      <th>state</th>\n",
              "      <th>stop_date</th>\n",
              "      <th>stop_time</th>\n",
              "      <th>driver_gender</th>\n",
              "      <th>driver_race</th>\n",
              "      <th>violation_raw</th>\n",
              "      <th>violation</th>\n",
              "      <th>search_conducted</th>\n",
              "      <th>search_type</th>\n",
              "      <th>stop_outcome</th>\n",
              "      <th>is_arrested</th>\n",
              "      <th>stop_duration</th>\n",
              "      <th>drugs_related_stop</th>\n",
              "      <th>district</th>\n",
              "      <th>inventory</th>\n",
              "    </tr>\n",
              "    <tr>\n",
              "      <th>date_and_time</th>\n",
              "      <th></th>\n",
              "      <th></th>\n",
              "      <th></th>\n",
              "      <th></th>\n",
              "      <th></th>\n",
              "      <th></th>\n",
              "      <th></th>\n",
              "      <th></th>\n",
              "      <th></th>\n",
              "      <th></th>\n",
              "      <th></th>\n",
              "      <th></th>\n",
              "      <th></th>\n",
              "      <th></th>\n",
              "      <th></th>\n",
              "    </tr>\n",
              "  </thead>\n",
              "  <tbody>\n",
              "    <tr>\n",
              "      <th>2005-01-04 12:55:00</th>\n",
              "      <td>RI</td>\n",
              "      <td>2005/01/04</td>\n",
              "      <td>12:55</td>\n",
              "      <td>M</td>\n",
              "      <td>White</td>\n",
              "      <td>Equipment/Inspection Violation</td>\n",
              "      <td>Equipment</td>\n",
              "      <td>False</td>\n",
              "      <td>NaN</td>\n",
              "      <td>Citation</td>\n",
              "      <td>False</td>\n",
              "      <td>0-15 Min</td>\n",
              "      <td>False</td>\n",
              "      <td>Zone X4</td>\n",
              "      <td>False</td>\n",
              "    </tr>\n",
              "    <tr>\n",
              "      <th>2005-01-23 23:15:00</th>\n",
              "      <td>RI</td>\n",
              "      <td>2005/01/23</td>\n",
              "      <td>23:15</td>\n",
              "      <td>M</td>\n",
              "      <td>White</td>\n",
              "      <td>Speeding</td>\n",
              "      <td>Speeding</td>\n",
              "      <td>False</td>\n",
              "      <td>NaN</td>\n",
              "      <td>Citation</td>\n",
              "      <td>False</td>\n",
              "      <td>0-15 Min</td>\n",
              "      <td>False</td>\n",
              "      <td>Zone K3</td>\n",
              "      <td>False</td>\n",
              "    </tr>\n",
              "    <tr>\n",
              "      <th>2005-02-17 04:15:00</th>\n",
              "      <td>RI</td>\n",
              "      <td>2005/02/17</td>\n",
              "      <td>04:15</td>\n",
              "      <td>M</td>\n",
              "      <td>White</td>\n",
              "      <td>Speeding</td>\n",
              "      <td>Speeding</td>\n",
              "      <td>False</td>\n",
              "      <td>NaN</td>\n",
              "      <td>Citation</td>\n",
              "      <td>False</td>\n",
              "      <td>0-15 Min</td>\n",
              "      <td>False</td>\n",
              "      <td>Zone X4</td>\n",
              "      <td>False</td>\n",
              "    </tr>\n",
              "    <tr>\n",
              "      <th>2005-02-20 17:15:00</th>\n",
              "      <td>RI</td>\n",
              "      <td>2005/02/20</td>\n",
              "      <td>17:15</td>\n",
              "      <td>M</td>\n",
              "      <td>White</td>\n",
              "      <td>Call for Service</td>\n",
              "      <td>Other</td>\n",
              "      <td>False</td>\n",
              "      <td>NaN</td>\n",
              "      <td>Arrest Driver</td>\n",
              "      <td>True</td>\n",
              "      <td>16-30 Min</td>\n",
              "      <td>False</td>\n",
              "      <td>Zone X1</td>\n",
              "      <td>False</td>\n",
              "    </tr>\n",
              "    <tr>\n",
              "      <th>2005-02-24 01:20:00</th>\n",
              "      <td>RI</td>\n",
              "      <td>2005/02/24</td>\n",
              "      <td>01:20</td>\n",
              "      <td>F</td>\n",
              "      <td>White</td>\n",
              "      <td>Speeding</td>\n",
              "      <td>Speeding</td>\n",
              "      <td>False</td>\n",
              "      <td>NaN</td>\n",
              "      <td>Citation</td>\n",
              "      <td>False</td>\n",
              "      <td>0-15 Min</td>\n",
              "      <td>False</td>\n",
              "      <td>Zone X3</td>\n",
              "      <td>False</td>\n",
              "    </tr>\n",
              "  </tbody>\n",
              "</table>\n",
              "</div>"
            ],
            "text/plain": [
              "                    state   stop_date  ... district inventory\n",
              "date_and_time                          ...                   \n",
              "2005-01-04 12:55:00    RI  2005/01/04  ...  Zone X4     False\n",
              "2005-01-23 23:15:00    RI  2005/01/23  ...  Zone K3     False\n",
              "2005-02-17 04:15:00    RI  2005/02/17  ...  Zone X4     False\n",
              "2005-02-20 17:15:00    RI  2005/02/20  ...  Zone X1     False\n",
              "2005-02-24 01:20:00    RI  2005/02/24  ...  Zone X3     False\n",
              "\n",
              "[5 rows x 15 columns]"
            ]
          },
          "metadata": {
            "tags": []
          },
          "execution_count": 46
        }
      ]
    },
    {
      "cell_type": "code",
      "metadata": {
        "id": "liXK2QZ_tXVe",
        "colab_type": "code",
        "outputId": "7950ab98-f2c2-443a-860c-80ff6424235d",
        "colab": {
          "base_uri": "https://localhost:8080/",
          "height": 68
        }
      },
      "source": [
        "ri.inventory.value_counts()"
      ],
      "execution_count": 47,
      "outputs": [
        {
          "output_type": "execute_result",
          "data": {
            "text/plain": [
              "False    86095\n",
              "True       441\n",
              "Name: inventory, dtype: int64"
            ]
          },
          "metadata": {
            "tags": []
          },
          "execution_count": 47
        }
      ]
    },
    {
      "cell_type": "code",
      "metadata": {
        "id": "AKWu9w0Xtdnt",
        "colab_type": "code",
        "outputId": "9c624554-055e-4757-b149-854c5d606b3e",
        "colab": {
          "base_uri": "https://localhost:8080/",
          "height": 34
        }
      },
      "source": [
        "# taking mean of inventory where search was conducted\n",
        "search_conducted = ri[ri.search_conducted==True]\n",
        "search_conducted.inventory.mean()"
      ],
      "execution_count": 48,
      "outputs": [
        {
          "output_type": "execute_result",
          "data": {
            "text/plain": [
              "0.13335349259147264"
            ]
          },
          "metadata": {
            "tags": []
          },
          "execution_count": 48
        }
      ]
    },
    {
      "cell_type": "code",
      "metadata": {
        "id": "Oe1bl-8TuEDC",
        "colab_type": "code",
        "outputId": "caab8402-361f-43f4-daae-fa7a1d66f4b5",
        "colab": {
          "base_uri": "https://localhost:8080/",
          "height": 51
        }
      },
      "source": [
        "# Count the 'search_type' values\n",
        "#print(ri.search_type.value_counts())\n",
        "\n",
        "# Check if 'search_type' contains the string 'Protective Frisk'\n",
        "ri['frisk'] = ri.search_type.str.contains('Protective Frisk', na=False)\n",
        "\n",
        "# Check the data type of 'frisk'\n",
        "print(ri.frisk.dtype)\n",
        "\n",
        "# Take the sum of 'frisk'\n",
        "print(ri.frisk.sum())"
      ],
      "execution_count": 49,
      "outputs": [
        {
          "output_type": "stream",
          "text": [
            "bool\n",
            "303\n"
          ],
          "name": "stdout"
        }
      ]
    },
    {
      "cell_type": "code",
      "metadata": {
        "id": "xMfvPzYaulWv",
        "colab_type": "code",
        "outputId": "58411336-0150-4f8b-e9a7-5c5de4d39cc8",
        "colab": {
          "base_uri": "https://localhost:8080/",
          "height": 102
        }
      },
      "source": [
        "\n",
        "# Create a DataFrame of stops in which a search was conducted\n",
        "searched = ri[ri.search_conducted == True]\n",
        "\n",
        "# Calculate the overall frisk rate by taking the mean of 'frisk'\n",
        "print(searched.frisk.mean())\n",
        "\n",
        "# Calculate the frisk rate for each gender\n",
        "print(searched.groupby('driver_gender').frisk.mean())"
      ],
      "execution_count": 50,
      "outputs": [
        {
          "output_type": "stream",
          "text": [
            "0.09162382824312065\n",
            "driver_gender\n",
            "F    0.074561\n",
            "M    0.094353\n",
            "Name: frisk, dtype: float64\n"
          ],
          "name": "stdout"
        }
      ]
    },
    {
      "cell_type": "markdown",
      "metadata": {
        "id": "GkfuugtowH3l",
        "colab_type": "text"
      },
      "source": [
        "# Visual Exploratory Data Analysis\n",
        "### Does Time of Day Affect Arrest Rate"
      ]
    },
    {
      "cell_type": "code",
      "metadata": {
        "id": "rVX6O_PzwHS8",
        "colab_type": "code",
        "outputId": "51118b5b-b7b4-4abd-9e50-08b36525e7d4",
        "colab": {
          "base_uri": "https://localhost:8080/",
          "height": 255
        }
      },
      "source": [
        "# Grouping by time units\n",
        "monthly_frisk = ri.groupby(ri.index.month).frisk.mean()\n",
        "monthly_frisk"
      ],
      "execution_count": 51,
      "outputs": [
        {
          "output_type": "execute_result",
          "data": {
            "text/plain": [
              "date_and_time\n",
              "1     0.004429\n",
              "2     0.003786\n",
              "3     0.002728\n",
              "4     0.002997\n",
              "5     0.003212\n",
              "6     0.003680\n",
              "7     0.003474\n",
              "8     0.003908\n",
              "9     0.002787\n",
              "10    0.003134\n",
              "11    0.003953\n",
              "12    0.003887\n",
              "Name: frisk, dtype: float64"
            ]
          },
          "metadata": {
            "tags": []
          },
          "execution_count": 51
        }
      ]
    },
    {
      "cell_type": "code",
      "metadata": {
        "id": "ocV67cwWwCv0",
        "colab_type": "code",
        "outputId": "ffaa0259-9ddc-4f94-cf78-669e099e8005",
        "colab": {
          "base_uri": "https://localhost:8080/",
          "height": 308
        }
      },
      "source": [
        "import matplotlib.pyplot as plt\n",
        "plt.plot(monthly_frisk)\n",
        "plt.xlabel('Month')\n",
        "plt.ylabel('Percent Frisking')\n",
        "plt.suptitle('Percent Frisking Over Time')\n",
        "plt.show()"
      ],
      "execution_count": 52,
      "outputs": [
        {
          "output_type": "display_data",
          "data": {
            "image/png": "[encoded data removed]",
            "text/plain": [
              "<Figure size 432x288 with 1 Axes>"
            ]
          },
          "metadata": {
            "tags": [],
            "needs_background": "light"
          }
        }
      ]
    },
    {
      "cell_type": "code",
      "metadata": {
        "id": "wrEGhhE02nCP",
        "colab_type": "code",
        "outputId": "7745199c-422c-48c9-d65d-ccfde80a6e13",
        "colab": {
          "base_uri": "https://localhost:8080/",
          "height": 476
        }
      },
      "source": [
        "# Calculate the overall arrest rate\n",
        "print(ri.is_arrested.mean())\n",
        "\n",
        "# Calculate the hourly arrest rate\n",
        "print(ri.groupby(ri.index.hour).is_arrested.mean())\n",
        "\n",
        "# Save the hourly arrest rate\n",
        "hourly_arrest_rate = ri.groupby(ri.index.hour).is_arrested.mean()"
      ],
      "execution_count": 53,
      "outputs": [
        {
          "output_type": "stream",
          "text": [
            "0.0355690117407784\n",
            "date_and_time\n",
            "0     0.051431\n",
            "1     0.064932\n",
            "2     0.060798\n",
            "3     0.060549\n",
            "4     0.048000\n",
            "5     0.042781\n",
            "6     0.013813\n",
            "7     0.013032\n",
            "8     0.021854\n",
            "9     0.025206\n",
            "10    0.028213\n",
            "11    0.028897\n",
            "12    0.037399\n",
            "13    0.030776\n",
            "14    0.030605\n",
            "15    0.030679\n",
            "16    0.035281\n",
            "17    0.040619\n",
            "18    0.038204\n",
            "19    0.032245\n",
            "20    0.038107\n",
            "21    0.064541\n",
            "22    0.048666\n",
            "23    0.047592\n",
            "Name: is_arrested, dtype: float64\n"
          ],
          "name": "stdout"
        }
      ]
    },
    {
      "cell_type": "code",
      "metadata": {
        "id": "O7g4JMt_37Sn",
        "colab_type": "code",
        "outputId": "c090f345-17a9-4f7a-b00c-238843e7dbfb",
        "colab": {
          "base_uri": "https://localhost:8080/",
          "height": 295
        }
      },
      "source": [
        "# Create a line plot of 'hourly_arrest_rate'\n",
        "plt.plot(hourly_arrest_rate)\n",
        "\n",
        "# Add the xlabel, ylabel, and title\n",
        "plt.xlabel('Hour')\n",
        "plt.ylabel('Arrest Rate')\n",
        "plt.title('Arrest Rate by Time of Day')\n",
        "\n",
        "# Display the plot\n",
        "plt.show()"
      ],
      "execution_count": 54,
      "outputs": [
        {
          "output_type": "display_data",
          "data": {
            "image/png": "[encoded data removed]",
            "text/plain": [
              "<Figure size 432x288 with 1 Axes>"
            ]
          },
          "metadata": {
            "tags": [],
            "needs_background": "light"
          }
        }
      ]
    },
    {
      "cell_type": "markdown",
      "metadata": {
        "id": "Y0WfUZTT8R87",
        "colab_type": "text"
      },
      "source": [
        "### Are Drug Related Stops on the Rise?\n",
        "Resampling, changing frequency of time series operations."
      ]
    },
    {
      "cell_type": "code",
      "metadata": {
        "id": "6XXSUtPv4qxl",
        "colab_type": "code",
        "outputId": "c11b0361-df78-417b-c157-968c5173ecd8",
        "colab": {
          "base_uri": "https://localhost:8080/",
          "height": 238
        }
      },
      "source": [
        "monthly_frisk = ri.frisk.resample('M').mean()\n",
        "monthly_frisk"
      ],
      "execution_count": 55,
      "outputs": [
        {
          "output_type": "execute_result",
          "data": {
            "text/plain": [
              "date_and_time\n",
              "2005-01-31    0.000000\n",
              "2005-02-28    0.000000\n",
              "2005-03-31    0.000000\n",
              "2005-04-30    0.000000\n",
              "2005-05-31         NaN\n",
              "                ...   \n",
              "2015-08-31    0.002326\n",
              "2015-09-30    0.003390\n",
              "2015-10-31    0.000000\n",
              "2015-11-30    0.000000\n",
              "2015-12-31    0.003636\n",
              "Freq: M, Name: frisk, Length: 132, dtype: float64"
            ]
          },
          "metadata": {
            "tags": []
          },
          "execution_count": 55
        }
      ]
    },
    {
      "cell_type": "code",
      "metadata": {
        "id": "HFGdNzjx89eD",
        "colab_type": "code",
        "outputId": "a4de3e6d-a987-41ec-ece2-0b2fd75d5335",
        "colab": {
          "base_uri": "https://localhost:8080/",
          "height": 238
        }
      },
      "source": [
        "# Calculate the annual rate of drug-related stops\n",
        "print(ri.drugs_related_stop.resample('A').mean())\n",
        "\n",
        "# Save the annual rate of drug-related stops\n",
        "annual_drug_rate = ri.drugs_related_stop.resample('A').mean()\n"
      ],
      "execution_count": 56,
      "outputs": [
        {
          "output_type": "stream",
          "text": [
            "date_and_time\n",
            "2005-12-31    0.006501\n",
            "2006-12-31    0.007258\n",
            "2007-12-31    0.007970\n",
            "2008-12-31    0.007505\n",
            "2009-12-31    0.009889\n",
            "2010-12-31    0.010081\n",
            "2011-12-31    0.009731\n",
            "2012-12-31    0.009921\n",
            "2013-12-31    0.013094\n",
            "2014-12-31    0.013826\n",
            "2015-12-31    0.012266\n",
            "Freq: A-DEC, Name: drugs_related_stop, dtype: float64\n"
          ],
          "name": "stdout"
        }
      ]
    },
    {
      "cell_type": "code",
      "metadata": {
        "id": "Y7WezyFW-X-6",
        "colab_type": "code",
        "outputId": "0c1b1f92-1a9d-4923-ef66-b258118ba939",
        "colab": {
          "base_uri": "https://localhost:8080/",
          "height": 265
        }
      },
      "source": [
        "# Create a line plot of 'annual_drug_rate'\n",
        "plt.plot(annual_drug_rate)\n",
        "\n",
        "# Display the plot\n",
        "plt.show()"
      ],
      "execution_count": 57,
      "outputs": [
        {
          "output_type": "display_data",
          "data": {
            "image/png": "[encoded data removed]",
            "text/plain": [
              "<Figure size 432x288 with 1 Axes>"
            ]
          },
          "metadata": {
            "tags": [],
            "needs_background": "light"
          }
        }
      ]
    },
    {
      "cell_type": "code",
      "metadata": {
        "id": "fIjDs7f9-bgy",
        "colab_type": "code",
        "outputId": "86e611eb-cda1-4898-923c-eba85fa6c7c6",
        "colab": {
          "base_uri": "https://localhost:8080/",
          "height": 270
        }
      },
      "source": [
        "\n",
        "# Calculate and save the annual search rate\n",
        "annual_search_rate = ri.search_conducted.resample('a').mean()\n",
        "\n",
        "# Concatenate 'annual_drug_rate' and 'annual_search_rate'\n",
        "annual = pd.concat([annual_drug_rate,annual_search_rate], axis=1)\n",
        "\n",
        "# Create subplots from 'annual'\n",
        "annual.plot(subplots=True)\n",
        "\n",
        "# Display the subplots\n",
        "plt.show()"
      ],
      "execution_count": 58,
      "outputs": [
        {
          "output_type": "display_data",
          "data": {
            "image/png": "[encoded data removed]",
            "text/plain": [
              "<Figure size 432x288 with 2 Axes>"
            ]
          },
          "metadata": {
            "tags": [],
            "needs_background": "light"
          }
        }
      ]
    },
    {
      "cell_type": "markdown",
      "metadata": {
        "id": "WnygqABx_D8j",
        "colab_type": "text"
      },
      "source": [
        "### What Violations are Caught in Each District?"
      ]
    },
    {
      "cell_type": "code",
      "metadata": {
        "id": "6UxK31K7--PX",
        "colab_type": "code",
        "outputId": "af29cd36-aaba-42ad-f041-47de1c58f073",
        "colab": {
          "base_uri": "https://localhost:8080/",
          "height": 235
        }
      },
      "source": [
        "#Computing a frequency table with .crosstab()\n",
        "table = pd.crosstab(ri.driver_race,\n",
        "            ri.driver_gender)\n",
        "table"
      ],
      "execution_count": 59,
      "outputs": [
        {
          "output_type": "execute_result",
          "data": {
            "text/html": [
              "<div>\n",
              "<style scoped>\n",
              "    .dataframe tbody tr th:only-of-type {\n",
              "        vertical-align: middle;\n",
              "    }\n",
              "\n",
              "    .dataframe tbody tr th {\n",
              "        vertical-align: top;\n",
              "    }\n",
              "\n",
              "    .dataframe thead th {\n",
              "        text-align: right;\n",
              "    }\n",
              "</style>\n",
              "<table border=\"1\" class=\"dataframe\">\n",
              "  <thead>\n",
              "    <tr style=\"text-align: right;\">\n",
              "      <th>driver_gender</th>\n",
              "      <th>F</th>\n",
              "      <th>M</th>\n",
              "    </tr>\n",
              "    <tr>\n",
              "      <th>driver_race</th>\n",
              "      <th></th>\n",
              "      <th></th>\n",
              "    </tr>\n",
              "  </thead>\n",
              "  <tbody>\n",
              "    <tr>\n",
              "      <th>Asian</th>\n",
              "      <td>551</td>\n",
              "      <td>1838</td>\n",
              "    </tr>\n",
              "    <tr>\n",
              "      <th>Black</th>\n",
              "      <td>2681</td>\n",
              "      <td>9604</td>\n",
              "    </tr>\n",
              "    <tr>\n",
              "      <th>Hispanic</th>\n",
              "      <td>1953</td>\n",
              "      <td>7774</td>\n",
              "    </tr>\n",
              "    <tr>\n",
              "      <th>Other</th>\n",
              "      <td>53</td>\n",
              "      <td>212</td>\n",
              "    </tr>\n",
              "    <tr>\n",
              "      <th>White</th>\n",
              "      <td>18536</td>\n",
              "      <td>43334</td>\n",
              "    </tr>\n",
              "  </tbody>\n",
              "</table>\n",
              "</div>"
            ],
            "text/plain": [
              "driver_gender      F      M\n",
              "driver_race                \n",
              "Asian            551   1838\n",
              "Black           2681   9604\n",
              "Hispanic        1953   7774\n",
              "Other             53    212\n",
              "White          18536  43334"
            ]
          },
          "metadata": {
            "tags": []
          },
          "execution_count": 59
        }
      ]
    },
    {
      "cell_type": "code",
      "metadata": {
        "id": "sD2bei0DOu6T",
        "colab_type": "code",
        "outputId": "a8e04046-26ea-4b42-c9f1-f2f122c231d8",
        "colab": {
          "base_uri": "https://localhost:8080/",
          "height": 173
        }
      },
      "source": [
        "table = table.loc['Asian':'Hispanic']\n",
        "table"
      ],
      "execution_count": 60,
      "outputs": [
        {
          "output_type": "execute_result",
          "data": {
            "text/html": [
              "<div>\n",
              "<style scoped>\n",
              "    .dataframe tbody tr th:only-of-type {\n",
              "        vertical-align: middle;\n",
              "    }\n",
              "\n",
              "    .dataframe tbody tr th {\n",
              "        vertical-align: top;\n",
              "    }\n",
              "\n",
              "    .dataframe thead th {\n",
              "        text-align: right;\n",
              "    }\n",
              "</style>\n",
              "<table border=\"1\" class=\"dataframe\">\n",
              "  <thead>\n",
              "    <tr style=\"text-align: right;\">\n",
              "      <th>driver_gender</th>\n",
              "      <th>F</th>\n",
              "      <th>M</th>\n",
              "    </tr>\n",
              "    <tr>\n",
              "      <th>driver_race</th>\n",
              "      <th></th>\n",
              "      <th></th>\n",
              "    </tr>\n",
              "  </thead>\n",
              "  <tbody>\n",
              "    <tr>\n",
              "      <th>Asian</th>\n",
              "      <td>551</td>\n",
              "      <td>1838</td>\n",
              "    </tr>\n",
              "    <tr>\n",
              "      <th>Black</th>\n",
              "      <td>2681</td>\n",
              "      <td>9604</td>\n",
              "    </tr>\n",
              "    <tr>\n",
              "      <th>Hispanic</th>\n",
              "      <td>1953</td>\n",
              "      <td>7774</td>\n",
              "    </tr>\n",
              "  </tbody>\n",
              "</table>\n",
              "</div>"
            ],
            "text/plain": [
              "driver_gender     F     M\n",
              "driver_race              \n",
              "Asian           551  1838\n",
              "Black          2681  9604\n",
              "Hispanic       1953  7774"
            ]
          },
          "metadata": {
            "tags": []
          },
          "execution_count": 60
        }
      ]
    },
    {
      "cell_type": "code",
      "metadata": {
        "id": "I7td7UG8PJHX",
        "colab_type": "code",
        "outputId": "4f3374b8-600b-4ec4-9449-2a67f9954737",
        "colab": {
          "base_uri": "https://localhost:8080/",
          "height": 315
        }
      },
      "source": [
        "# Basic bar plot\n",
        "table.plot(kind='bar')\n",
        "plt.show()"
      ],
      "execution_count": 61,
      "outputs": [
        {
          "output_type": "display_data",
          "data": {
            "image/png": "[encoded data removed]",
            "text/plain": [
              "<Figure size 432x288 with 1 Axes>"
            ]
          },
          "metadata": {
            "tags": [],
            "needs_background": "light"
          }
        }
      ]
    },
    {
      "cell_type": "code",
      "metadata": {
        "id": "Nr52wsPvPl-n",
        "colab_type": "code",
        "outputId": "08dd2f75-415b-41d7-89fc-13956abea3b5",
        "colab": {
          "base_uri": "https://localhost:8080/",
          "height": 313
        }
      },
      "source": [
        "# Stacked Bar Plot\n",
        "table.plot(kind='bar', stacked=True)\n",
        "plt.show()"
      ],
      "execution_count": 62,
      "outputs": [
        {
          "output_type": "display_data",
          "data": {
            "image/png": "[encoded data removed]",
            "text/plain": [
              "<Figure size 432x288 with 1 Axes>"
            ]
          },
          "metadata": {
            "tags": [],
            "needs_background": "light"
          }
        }
      ]
    },
    {
      "cell_type": "code",
      "metadata": {
        "id": "QGlOdy1oP_qT",
        "colab_type": "code",
        "outputId": "64724f2e-45a2-4108-8cc8-25f5e819acd8",
        "colab": {
          "base_uri": "https://localhost:8080/",
          "height": 306
        }
      },
      "source": [
        "# Create a frequency table of districts and violations\n",
        "print(pd.crosstab(ri.district, ri.violation))\n",
        "\n",
        "# Save the frequency table as 'all_zones'\n",
        "all_zones = pd.crosstab(ri.district, ri.violation)\n",
        "\n",
        "# Select rows 'Zone K1' through 'Zone K3'\n",
        "print(all_zones.loc['Zone K1':'Zone K3'])\n",
        "\n",
        "# Save the smaller table as 'k_zones'\n",
        "k_zones = all_zones.loc['Zone K1':'Zone K3']"
      ],
      "execution_count": 63,
      "outputs": [
        {
          "output_type": "stream",
          "text": [
            "violation  Equipment  Moving violation  ...  Seat belt  Speeding\n",
            "district                                ...                     \n",
            "Zone K1          672              1254  ...          0      5960\n",
            "Zone K2         2061              2962  ...        481     10448\n",
            "Zone K3         2302              2898  ...        638     12322\n",
            "Zone X1          296               671  ...         74      1119\n",
            "Zone X3         2049              3086  ...        820      8779\n",
            "Zone X4         3541              5353  ...        843      9795\n",
            "\n",
            "[6 rows x 6 columns]\n",
            "violation  Equipment  Moving violation  ...  Seat belt  Speeding\n",
            "district                                ...                     \n",
            "Zone K1          672              1254  ...          0      5960\n",
            "Zone K2         2061              2962  ...        481     10448\n",
            "Zone K3         2302              2898  ...        638     12322\n",
            "\n",
            "[3 rows x 6 columns]\n"
          ],
          "name": "stdout"
        }
      ]
    },
    {
      "cell_type": "code",
      "metadata": {
        "id": "MPi51KHKQ0Sc",
        "colab_type": "code",
        "outputId": "1e12f1dd-3eb7-4f77-bc93-ce51970ff648",
        "colab": {
          "base_uri": "https://localhost:8080/",
          "height": 311
        }
      },
      "source": [
        "\n",
        "# Create a bar plot of 'k_zones'\n",
        "k_zones.plot(kind='bar')\n",
        "\n",
        "# Display the plot\n",
        "plt.show()"
      ],
      "execution_count": 64,
      "outputs": [
        {
          "output_type": "display_data",
          "data": {
            "image/png": "[encoded data removed]",
            "text/plain": [
              "<Figure size 432x288 with 1 Axes>"
            ]
          },
          "metadata": {
            "tags": [],
            "needs_background": "light"
          }
        }
      ]
    },
    {
      "cell_type": "code",
      "metadata": {
        "id": "IWztsvXNRBX7",
        "colab_type": "code",
        "outputId": "4599bddf-749f-4b70-9b72-be7baf8a6a56",
        "colab": {
          "base_uri": "https://localhost:8080/",
          "height": 311
        }
      },
      "source": [
        "\n",
        "# Create a bar plot of 'k_zones'\n",
        "k_zones.plot(kind='bar',stacked=True)\n",
        "\n",
        "# Display the plot\n",
        "plt.show()"
      ],
      "execution_count": 65,
      "outputs": [
        {
          "output_type": "display_data",
          "data": {
            "image/png": "[encoded data removed]",
            "text/plain": [
              "<Figure size 432x288 with 1 Axes>"
            ]
          },
          "metadata": {
            "tags": [],
            "needs_background": "light"
          }
        }
      ]
    },
    {
      "cell_type": "markdown",
      "metadata": {
        "id": "Zqr5QgibRNx0",
        "colab_type": "text"
      },
      "source": [
        "### How Long Might You be Stopped for a Violation"
      ]
    },
    {
      "cell_type": "code",
      "metadata": {
        "id": "l8mxJEoXRKKL",
        "colab_type": "code",
        "outputId": "6e8e95f3-e818-47b1-fdf7-33a0fd100d3e",
        "colab": {
          "base_uri": "https://localhost:8080/",
          "height": 51
        }
      },
      "source": [
        "# Mapping with a dictionary to change values in a column\n",
        "# Print the unique values in 'stop_duration'\n",
        "print(ri.stop_duration.unique())\n",
        "\n",
        "# Create a dictionary that maps strings to integers\n",
        "mapping = {'0-15 Min' : 8,'16-30 Min' : 23,'30+ Min' : 45}\n",
        "\n",
        "# Convert the 'stop_duration' strings to integers using the 'mapping'\n",
        "ri['stop_minutes'] = ri.stop_duration.map(mapping)\n",
        "\n",
        "# Print the unique values in 'stop_minutes'\n",
        "print(ri.stop_minutes.unique())"
      ],
      "execution_count": 66,
      "outputs": [
        {
          "output_type": "stream",
          "text": [
            "['0-15 Min' '16-30 Min' '30+ Min']\n",
            "[ 8 23 45]\n"
          ],
          "name": "stdout"
        }
      ]
    },
    {
      "cell_type": "code",
      "metadata": {
        "id": "qWGkMWz0SFFn",
        "colab_type": "code",
        "colab": {}
      },
      "source": [
        "search_rate = ri.groupby('violation').search_conducted.mean()"
      ],
      "execution_count": 0,
      "outputs": []
    },
    {
      "cell_type": "code",
      "metadata": {
        "id": "ATjUbUBJSYH_",
        "colab_type": "code",
        "outputId": "e409bb6d-fd6a-4bbe-ef27-ab26b45207d6",
        "colab": {
          "base_uri": "https://localhost:8080/",
          "height": 363
        }
      },
      "source": [
        "search_rate.plot(kind='bar')\n",
        "plt.show()"
      ],
      "execution_count": 68,
      "outputs": [
        {
          "output_type": "display_data",
          "data": {
            "image/png": "[encoded data removed]",
            "text/plain": [
              "<Figure size 432x288 with 1 Axes>"
            ]
          },
          "metadata": {
            "tags": [],
            "needs_background": "light"
          }
        }
      ]
    },
    {
      "cell_type": "code",
      "metadata": {
        "id": "KzpzGFXZSnno",
        "colab_type": "code",
        "outputId": "4c03b7e4-013e-41f4-ed29-55249c7ed3b9",
        "colab": {
          "base_uri": "https://localhost:8080/",
          "height": 363
        }
      },
      "source": [
        "search_rate.sort_values().plot(kind='bar') # chaining plot() makes it so inplace=True is not necessary\n",
        "plt.show()"
      ],
      "execution_count": 69,
      "outputs": [
        {
          "output_type": "display_data",
          "data": {
            "image/png": "[encoded data removed]",
            "text/plain": [
              "<Figure size 432x288 with 1 Axes>"
            ]
          },
          "metadata": {
            "tags": [],
            "needs_background": "light"
          }
        }
      ]
    },
    {
      "cell_type": "code",
      "metadata": {
        "id": "Ac1sWEwjS1Sw",
        "colab_type": "code",
        "outputId": "d4447450-79c2-44b2-9ded-e7d3d71bf480",
        "colab": {
          "base_uri": "https://localhost:8080/",
          "height": 265
        }
      },
      "source": [
        "search_rate.sort_values().plot(kind='barh') \n",
        "plt.show()"
      ],
      "execution_count": 70,
      "outputs": [
        {
          "output_type": "display_data",
          "data": {
            "image/png": "[encoded data removed]",
            "text/plain": [
              "<Figure size 432x288 with 1 Axes>"
            ]
          },
          "metadata": {
            "tags": [],
            "needs_background": "light"
          }
        }
      ]
    },
    {
      "cell_type": "code",
      "metadata": {
        "id": "u_bM6e1fTaPJ",
        "colab_type": "code",
        "outputId": "0b230a8d-ed08-42f7-c1a3-ebca151eff11",
        "colab": {
          "base_uri": "https://localhost:8080/",
          "height": 503
        }
      },
      "source": [
        "# Calculate the mean 'stop_minutes' for each value in 'violation_raw'\n",
        "print(ri.groupby('violation_raw').stop_minutes.mean())\n",
        "\n",
        "# Save the resulting Series as 'stop_length'\n",
        "stop_length = ri.groupby('violation_raw').stop_minutes.mean()\n",
        "\n",
        "# Sort 'stop_length' by its values and create a horizontal bar plot\n",
        "stop_length.sort_values().plot(kind='barh')\n",
        "\n",
        "# Display the plot\n",
        "plt.show()"
      ],
      "execution_count": 71,
      "outputs": [
        {
          "output_type": "stream",
          "text": [
            "violation_raw\n",
            "APB                                 17.967033\n",
            "Call for Service                    22.124371\n",
            "Equipment/Inspection Violation      11.445655\n",
            "Motorist Assist/Courtesy            17.741463\n",
            "Other Traffic Violation             13.844490\n",
            "Registration Violation              13.736970\n",
            "Seatbelt Violation                   9.662815\n",
            "Special Detail/Directed Patrol      15.123632\n",
            "Speeding                            10.581562\n",
            "Suspicious Person                   14.910714\n",
            "Violation of City/Town Ordinance    13.254144\n",
            "Warrant                             24.055556\n",
            "Name: stop_minutes, dtype: float64\n"
          ],
          "name": "stdout"
        },
        {
          "output_type": "display_data",
          "data": {
            "image/png": "[encoded data removed]",
            "text/plain": [
              "<Figure size 432x288 with 1 Axes>"
            ]
          },
          "metadata": {
            "tags": [],
            "needs_background": "light"
          }
        }
      ]
    },
    {
      "cell_type": "markdown",
      "metadata": {
        "id": "-N_pdICUU-Uh",
        "colab_type": "text"
      },
      "source": [
        "# Analyzing the Effect of Weather on Policing\n",
        "### Exploring the Weather Dataset"
      ]
    },
    {
      "cell_type": "code",
      "metadata": {
        "id": "AyLUIMwTU1GV",
        "colab_type": "code",
        "colab": {
          "base_uri": "https://localhost:8080/",
          "height": 309
        },
        "outputId": "0e67abac-db5a-4ce6-85d8-fb283ec5957e"
      },
      "source": [
        "weather = pd.read_csv('weather.csv')\n",
        "weather.head()"
      ],
      "execution_count": 187,
      "outputs": [
        {
          "output_type": "execute_result",
          "data": {
            "text/html": [
              "<div>\n",
              "<style scoped>\n",
              "    .dataframe tbody tr th:only-of-type {\n",
              "        vertical-align: middle;\n",
              "    }\n",
              "\n",
              "    .dataframe tbody tr th {\n",
              "        vertical-align: top;\n",
              "    }\n",
              "\n",
              "    .dataframe thead th {\n",
              "        text-align: right;\n",
              "    }\n",
              "</style>\n",
              "<table border=\"1\" class=\"dataframe\">\n",
              "  <thead>\n",
              "    <tr style=\"text-align: right;\">\n",
              "      <th></th>\n",
              "      <th>STATION</th>\n",
              "      <th>DATE</th>\n",
              "      <th>TAVG</th>\n",
              "      <th>TMIN</th>\n",
              "      <th>TMAX</th>\n",
              "      <th>AWND</th>\n",
              "      <th>WSF2</th>\n",
              "      <th>WT01</th>\n",
              "      <th>WT02</th>\n",
              "      <th>WT03</th>\n",
              "      <th>WT04</th>\n",
              "      <th>WT05</th>\n",
              "      <th>WT06</th>\n",
              "      <th>WT07</th>\n",
              "      <th>WT08</th>\n",
              "      <th>WT09</th>\n",
              "      <th>WT10</th>\n",
              "      <th>WT11</th>\n",
              "      <th>WT13</th>\n",
              "      <th>WT14</th>\n",
              "      <th>WT15</th>\n",
              "      <th>WT16</th>\n",
              "      <th>WT17</th>\n",
              "      <th>WT18</th>\n",
              "      <th>WT19</th>\n",
              "      <th>WT21</th>\n",
              "      <th>WT22</th>\n",
              "    </tr>\n",
              "  </thead>\n",
              "  <tbody>\n",
              "    <tr>\n",
              "      <th>0</th>\n",
              "      <td>USW00014765</td>\n",
              "      <td>2005-01-01</td>\n",
              "      <td>44.0</td>\n",
              "      <td>35</td>\n",
              "      <td>53</td>\n",
              "      <td>8.95</td>\n",
              "      <td>25.1</td>\n",
              "      <td>1.0</td>\n",
              "      <td>NaN</td>\n",
              "      <td>NaN</td>\n",
              "      <td>NaN</td>\n",
              "      <td>NaN</td>\n",
              "      <td>NaN</td>\n",
              "      <td>NaN</td>\n",
              "      <td>NaN</td>\n",
              "      <td>NaN</td>\n",
              "      <td>NaN</td>\n",
              "      <td>NaN</td>\n",
              "      <td>1.0</td>\n",
              "      <td>NaN</td>\n",
              "      <td>NaN</td>\n",
              "      <td>NaN</td>\n",
              "      <td>NaN</td>\n",
              "      <td>NaN</td>\n",
              "      <td>NaN</td>\n",
              "      <td>NaN</td>\n",
              "      <td>NaN</td>\n",
              "    </tr>\n",
              "    <tr>\n",
              "      <th>1</th>\n",
              "      <td>USW00014765</td>\n",
              "      <td>2005-01-02</td>\n",
              "      <td>36.0</td>\n",
              "      <td>28</td>\n",
              "      <td>44</td>\n",
              "      <td>9.40</td>\n",
              "      <td>14.1</td>\n",
              "      <td>NaN</td>\n",
              "      <td>NaN</td>\n",
              "      <td>NaN</td>\n",
              "      <td>NaN</td>\n",
              "      <td>NaN</td>\n",
              "      <td>NaN</td>\n",
              "      <td>NaN</td>\n",
              "      <td>NaN</td>\n",
              "      <td>NaN</td>\n",
              "      <td>NaN</td>\n",
              "      <td>NaN</td>\n",
              "      <td>NaN</td>\n",
              "      <td>NaN</td>\n",
              "      <td>NaN</td>\n",
              "      <td>1.0</td>\n",
              "      <td>NaN</td>\n",
              "      <td>1.0</td>\n",
              "      <td>NaN</td>\n",
              "      <td>NaN</td>\n",
              "      <td>NaN</td>\n",
              "    </tr>\n",
              "    <tr>\n",
              "      <th>2</th>\n",
              "      <td>USW00014765</td>\n",
              "      <td>2005-01-03</td>\n",
              "      <td>49.0</td>\n",
              "      <td>44</td>\n",
              "      <td>53</td>\n",
              "      <td>6.93</td>\n",
              "      <td>17.0</td>\n",
              "      <td>1.0</td>\n",
              "      <td>NaN</td>\n",
              "      <td>NaN</td>\n",
              "      <td>NaN</td>\n",
              "      <td>NaN</td>\n",
              "      <td>NaN</td>\n",
              "      <td>NaN</td>\n",
              "      <td>NaN</td>\n",
              "      <td>NaN</td>\n",
              "      <td>NaN</td>\n",
              "      <td>NaN</td>\n",
              "      <td>1.0</td>\n",
              "      <td>NaN</td>\n",
              "      <td>NaN</td>\n",
              "      <td>1.0</td>\n",
              "      <td>NaN</td>\n",
              "      <td>NaN</td>\n",
              "      <td>NaN</td>\n",
              "      <td>NaN</td>\n",
              "      <td>NaN</td>\n",
              "    </tr>\n",
              "    <tr>\n",
              "      <th>3</th>\n",
              "      <td>USW00014765</td>\n",
              "      <td>2005-01-04</td>\n",
              "      <td>42.0</td>\n",
              "      <td>39</td>\n",
              "      <td>45</td>\n",
              "      <td>6.93</td>\n",
              "      <td>16.1</td>\n",
              "      <td>1.0</td>\n",
              "      <td>NaN</td>\n",
              "      <td>NaN</td>\n",
              "      <td>NaN</td>\n",
              "      <td>NaN</td>\n",
              "      <td>NaN</td>\n",
              "      <td>NaN</td>\n",
              "      <td>NaN</td>\n",
              "      <td>NaN</td>\n",
              "      <td>NaN</td>\n",
              "      <td>NaN</td>\n",
              "      <td>1.0</td>\n",
              "      <td>1.0</td>\n",
              "      <td>NaN</td>\n",
              "      <td>1.0</td>\n",
              "      <td>NaN</td>\n",
              "      <td>NaN</td>\n",
              "      <td>NaN</td>\n",
              "      <td>NaN</td>\n",
              "      <td>NaN</td>\n",
              "    </tr>\n",
              "    <tr>\n",
              "      <th>4</th>\n",
              "      <td>USW00014765</td>\n",
              "      <td>2005-01-05</td>\n",
              "      <td>36.0</td>\n",
              "      <td>28</td>\n",
              "      <td>43</td>\n",
              "      <td>7.83</td>\n",
              "      <td>17.0</td>\n",
              "      <td>1.0</td>\n",
              "      <td>NaN</td>\n",
              "      <td>NaN</td>\n",
              "      <td>NaN</td>\n",
              "      <td>NaN</td>\n",
              "      <td>NaN</td>\n",
              "      <td>NaN</td>\n",
              "      <td>NaN</td>\n",
              "      <td>NaN</td>\n",
              "      <td>NaN</td>\n",
              "      <td>NaN</td>\n",
              "      <td>1.0</td>\n",
              "      <td>NaN</td>\n",
              "      <td>NaN</td>\n",
              "      <td>1.0</td>\n",
              "      <td>NaN</td>\n",
              "      <td>1.0</td>\n",
              "      <td>NaN</td>\n",
              "      <td>NaN</td>\n",
              "      <td>NaN</td>\n",
              "    </tr>\n",
              "  </tbody>\n",
              "</table>\n",
              "</div>"
            ],
            "text/plain": [
              "       STATION        DATE  TAVG  TMIN  TMAX  ...  WT17  WT18  WT19  WT21  WT22\n",
              "0  USW00014765  2005-01-01  44.0    35    53  ...   NaN   NaN   NaN   NaN   NaN\n",
              "1  USW00014765  2005-01-02  36.0    28    44  ...   NaN   1.0   NaN   NaN   NaN\n",
              "2  USW00014765  2005-01-03  49.0    44    53  ...   NaN   NaN   NaN   NaN   NaN\n",
              "3  USW00014765  2005-01-04  42.0    39    45  ...   NaN   NaN   NaN   NaN   NaN\n",
              "4  USW00014765  2005-01-05  36.0    28    43  ...   NaN   1.0   NaN   NaN   NaN\n",
              "\n",
              "[5 rows x 27 columns]"
            ]
          },
          "metadata": {
            "tags": []
          },
          "execution_count": 187
        }
      ]
    },
    {
      "cell_type": "code",
      "metadata": {
        "id": "AHmdxQbPG_DO",
        "colab_type": "code",
        "colab": {
          "base_uri": "https://localhost:8080/",
          "height": 204
        },
        "outputId": "938a85a7-2360-4d00-829a-ab06a44bdfe3"
      },
      "source": [
        "weather[['AWND','WSF2']].head()"
      ],
      "execution_count": 188,
      "outputs": [
        {
          "output_type": "execute_result",
          "data": {
            "text/html": [
              "<div>\n",
              "<style scoped>\n",
              "    .dataframe tbody tr th:only-of-type {\n",
              "        vertical-align: middle;\n",
              "    }\n",
              "\n",
              "    .dataframe tbody tr th {\n",
              "        vertical-align: top;\n",
              "    }\n",
              "\n",
              "    .dataframe thead th {\n",
              "        text-align: right;\n",
              "    }\n",
              "</style>\n",
              "<table border=\"1\" class=\"dataframe\">\n",
              "  <thead>\n",
              "    <tr style=\"text-align: right;\">\n",
              "      <th></th>\n",
              "      <th>AWND</th>\n",
              "      <th>WSF2</th>\n",
              "    </tr>\n",
              "  </thead>\n",
              "  <tbody>\n",
              "    <tr>\n",
              "      <th>0</th>\n",
              "      <td>8.95</td>\n",
              "      <td>25.1</td>\n",
              "    </tr>\n",
              "    <tr>\n",
              "      <th>1</th>\n",
              "      <td>9.40</td>\n",
              "      <td>14.1</td>\n",
              "    </tr>\n",
              "    <tr>\n",
              "      <th>2</th>\n",
              "      <td>6.93</td>\n",
              "      <td>17.0</td>\n",
              "    </tr>\n",
              "    <tr>\n",
              "      <th>3</th>\n",
              "      <td>6.93</td>\n",
              "      <td>16.1</td>\n",
              "    </tr>\n",
              "    <tr>\n",
              "      <th>4</th>\n",
              "      <td>7.83</td>\n",
              "      <td>17.0</td>\n",
              "    </tr>\n",
              "  </tbody>\n",
              "</table>\n",
              "</div>"
            ],
            "text/plain": [
              "   AWND  WSF2\n",
              "0  8.95  25.1\n",
              "1  9.40  14.1\n",
              "2  6.93  17.0\n",
              "3  6.93  16.1\n",
              "4  7.83  17.0"
            ]
          },
          "metadata": {
            "tags": []
          },
          "execution_count": 188
        }
      ]
    },
    {
      "cell_type": "code",
      "metadata": {
        "id": "Eomos8GtH2f8",
        "colab_type": "code",
        "colab": {
          "base_uri": "https://localhost:8080/",
          "height": 297
        },
        "outputId": "6233819f-f598-41d8-a2b2-c567c080b0e9"
      },
      "source": [
        "weather[['AWND','WSF2']].describe()"
      ],
      "execution_count": 189,
      "outputs": [
        {
          "output_type": "execute_result",
          "data": {
            "text/html": [
              "<div>\n",
              "<style scoped>\n",
              "    .dataframe tbody tr th:only-of-type {\n",
              "        vertical-align: middle;\n",
              "    }\n",
              "\n",
              "    .dataframe tbody tr th {\n",
              "        vertical-align: top;\n",
              "    }\n",
              "\n",
              "    .dataframe thead th {\n",
              "        text-align: right;\n",
              "    }\n",
              "</style>\n",
              "<table border=\"1\" class=\"dataframe\">\n",
              "  <thead>\n",
              "    <tr style=\"text-align: right;\">\n",
              "      <th></th>\n",
              "      <th>AWND</th>\n",
              "      <th>WSF2</th>\n",
              "    </tr>\n",
              "  </thead>\n",
              "  <tbody>\n",
              "    <tr>\n",
              "      <th>count</th>\n",
              "      <td>4017.000000</td>\n",
              "      <td>4017.000000</td>\n",
              "    </tr>\n",
              "    <tr>\n",
              "      <th>mean</th>\n",
              "      <td>8.593707</td>\n",
              "      <td>19.274782</td>\n",
              "    </tr>\n",
              "    <tr>\n",
              "      <th>std</th>\n",
              "      <td>3.364601</td>\n",
              "      <td>5.623866</td>\n",
              "    </tr>\n",
              "    <tr>\n",
              "      <th>min</th>\n",
              "      <td>0.220000</td>\n",
              "      <td>4.900000</td>\n",
              "    </tr>\n",
              "    <tr>\n",
              "      <th>25%</th>\n",
              "      <td>6.260000</td>\n",
              "      <td>15.000000</td>\n",
              "    </tr>\n",
              "    <tr>\n",
              "      <th>50%</th>\n",
              "      <td>8.050000</td>\n",
              "      <td>17.900000</td>\n",
              "    </tr>\n",
              "    <tr>\n",
              "      <th>75%</th>\n",
              "      <td>10.290000</td>\n",
              "      <td>21.900000</td>\n",
              "    </tr>\n",
              "    <tr>\n",
              "      <th>max</th>\n",
              "      <td>26.840000</td>\n",
              "      <td>48.100000</td>\n",
              "    </tr>\n",
              "  </tbody>\n",
              "</table>\n",
              "</div>"
            ],
            "text/plain": [
              "              AWND         WSF2\n",
              "count  4017.000000  4017.000000\n",
              "mean      8.593707    19.274782\n",
              "std       3.364601     5.623866\n",
              "min       0.220000     4.900000\n",
              "25%       6.260000    15.000000\n",
              "50%       8.050000    17.900000\n",
              "75%      10.290000    21.900000\n",
              "max      26.840000    48.100000"
            ]
          },
          "metadata": {
            "tags": []
          },
          "execution_count": 189
        }
      ]
    },
    {
      "cell_type": "code",
      "metadata": {
        "id": "CeeygLyjIBUH",
        "colab_type": "code",
        "colab": {
          "base_uri": "https://localhost:8080/",
          "height": 267
        },
        "outputId": "8b8af893-9aa1-4f9c-9ec1-693a2f5be29d"
      },
      "source": [
        "weather[['AWND','WSF2']].plot(kind='box')\n",
        "plt.show()"
      ],
      "execution_count": 190,
      "outputs": [
        {
          "output_type": "display_data",
          "data": {
            "image/png": "[encoded data removed]",
            "text/plain": [
              "<Figure size 432x288 with 1 Axes>"
            ]
          },
          "metadata": {
            "tags": [],
            "needs_background": "light"
          }
        }
      ]
    },
    {
      "cell_type": "code",
      "metadata": {
        "id": "EPt9S3-ZIRU3",
        "colab_type": "code",
        "colab": {
          "base_uri": "https://localhost:8080/",
          "height": 309
        },
        "outputId": "daaa3c11-a61b-4c69-e033-cb40e97b3e29"
      },
      "source": [
        "weather['wdiff'] = weather.WSF2 - weather.AWND \n",
        "weather.head()"
      ],
      "execution_count": 191,
      "outputs": [
        {
          "output_type": "execute_result",
          "data": {
            "text/html": [
              "<div>\n",
              "<style scoped>\n",
              "    .dataframe tbody tr th:only-of-type {\n",
              "        vertical-align: middle;\n",
              "    }\n",
              "\n",
              "    .dataframe tbody tr th {\n",
              "        vertical-align: top;\n",
              "    }\n",
              "\n",
              "    .dataframe thead th {\n",
              "        text-align: right;\n",
              "    }\n",
              "</style>\n",
              "<table border=\"1\" class=\"dataframe\">\n",
              "  <thead>\n",
              "    <tr style=\"text-align: right;\">\n",
              "      <th></th>\n",
              "      <th>STATION</th>\n",
              "      <th>DATE</th>\n",
              "      <th>TAVG</th>\n",
              "      <th>TMIN</th>\n",
              "      <th>TMAX</th>\n",
              "      <th>AWND</th>\n",
              "      <th>WSF2</th>\n",
              "      <th>WT01</th>\n",
              "      <th>WT02</th>\n",
              "      <th>WT03</th>\n",
              "      <th>WT04</th>\n",
              "      <th>WT05</th>\n",
              "      <th>WT06</th>\n",
              "      <th>WT07</th>\n",
              "      <th>WT08</th>\n",
              "      <th>WT09</th>\n",
              "      <th>WT10</th>\n",
              "      <th>WT11</th>\n",
              "      <th>WT13</th>\n",
              "      <th>WT14</th>\n",
              "      <th>WT15</th>\n",
              "      <th>WT16</th>\n",
              "      <th>WT17</th>\n",
              "      <th>WT18</th>\n",
              "      <th>WT19</th>\n",
              "      <th>WT21</th>\n",
              "      <th>WT22</th>\n",
              "      <th>wdiff</th>\n",
              "    </tr>\n",
              "  </thead>\n",
              "  <tbody>\n",
              "    <tr>\n",
              "      <th>0</th>\n",
              "      <td>USW00014765</td>\n",
              "      <td>2005-01-01</td>\n",
              "      <td>44.0</td>\n",
              "      <td>35</td>\n",
              "      <td>53</td>\n",
              "      <td>8.95</td>\n",
              "      <td>25.1</td>\n",
              "      <td>1.0</td>\n",
              "      <td>NaN</td>\n",
              "      <td>NaN</td>\n",
              "      <td>NaN</td>\n",
              "      <td>NaN</td>\n",
              "      <td>NaN</td>\n",
              "      <td>NaN</td>\n",
              "      <td>NaN</td>\n",
              "      <td>NaN</td>\n",
              "      <td>NaN</td>\n",
              "      <td>NaN</td>\n",
              "      <td>1.0</td>\n",
              "      <td>NaN</td>\n",
              "      <td>NaN</td>\n",
              "      <td>NaN</td>\n",
              "      <td>NaN</td>\n",
              "      <td>NaN</td>\n",
              "      <td>NaN</td>\n",
              "      <td>NaN</td>\n",
              "      <td>NaN</td>\n",
              "      <td>16.15</td>\n",
              "    </tr>\n",
              "    <tr>\n",
              "      <th>1</th>\n",
              "      <td>USW00014765</td>\n",
              "      <td>2005-01-02</td>\n",
              "      <td>36.0</td>\n",
              "      <td>28</td>\n",
              "      <td>44</td>\n",
              "      <td>9.40</td>\n",
              "      <td>14.1</td>\n",
              "      <td>NaN</td>\n",
              "      <td>NaN</td>\n",
              "      <td>NaN</td>\n",
              "      <td>NaN</td>\n",
              "      <td>NaN</td>\n",
              "      <td>NaN</td>\n",
              "      <td>NaN</td>\n",
              "      <td>NaN</td>\n",
              "      <td>NaN</td>\n",
              "      <td>NaN</td>\n",
              "      <td>NaN</td>\n",
              "      <td>NaN</td>\n",
              "      <td>NaN</td>\n",
              "      <td>NaN</td>\n",
              "      <td>1.0</td>\n",
              "      <td>NaN</td>\n",
              "      <td>1.0</td>\n",
              "      <td>NaN</td>\n",
              "      <td>NaN</td>\n",
              "      <td>NaN</td>\n",
              "      <td>4.70</td>\n",
              "    </tr>\n",
              "    <tr>\n",
              "      <th>2</th>\n",
              "      <td>USW00014765</td>\n",
              "      <td>2005-01-03</td>\n",
              "      <td>49.0</td>\n",
              "      <td>44</td>\n",
              "      <td>53</td>\n",
              "      <td>6.93</td>\n",
              "      <td>17.0</td>\n",
              "      <td>1.0</td>\n",
              "      <td>NaN</td>\n",
              "      <td>NaN</td>\n",
              "      <td>NaN</td>\n",
              "      <td>NaN</td>\n",
              "      <td>NaN</td>\n",
              "      <td>NaN</td>\n",
              "      <td>NaN</td>\n",
              "      <td>NaN</td>\n",
              "      <td>NaN</td>\n",
              "      <td>NaN</td>\n",
              "      <td>1.0</td>\n",
              "      <td>NaN</td>\n",
              "      <td>NaN</td>\n",
              "      <td>1.0</td>\n",
              "      <td>NaN</td>\n",
              "      <td>NaN</td>\n",
              "      <td>NaN</td>\n",
              "      <td>NaN</td>\n",
              "      <td>NaN</td>\n",
              "      <td>10.07</td>\n",
              "    </tr>\n",
              "    <tr>\n",
              "      <th>3</th>\n",
              "      <td>USW00014765</td>\n",
              "      <td>2005-01-04</td>\n",
              "      <td>42.0</td>\n",
              "      <td>39</td>\n",
              "      <td>45</td>\n",
              "      <td>6.93</td>\n",
              "      <td>16.1</td>\n",
              "      <td>1.0</td>\n",
              "      <td>NaN</td>\n",
              "      <td>NaN</td>\n",
              "      <td>NaN</td>\n",
              "      <td>NaN</td>\n",
              "      <td>NaN</td>\n",
              "      <td>NaN</td>\n",
              "      <td>NaN</td>\n",
              "      <td>NaN</td>\n",
              "      <td>NaN</td>\n",
              "      <td>NaN</td>\n",
              "      <td>1.0</td>\n",
              "      <td>1.0</td>\n",
              "      <td>NaN</td>\n",
              "      <td>1.0</td>\n",
              "      <td>NaN</td>\n",
              "      <td>NaN</td>\n",
              "      <td>NaN</td>\n",
              "      <td>NaN</td>\n",
              "      <td>NaN</td>\n",
              "      <td>9.17</td>\n",
              "    </tr>\n",
              "    <tr>\n",
              "      <th>4</th>\n",
              "      <td>USW00014765</td>\n",
              "      <td>2005-01-05</td>\n",
              "      <td>36.0</td>\n",
              "      <td>28</td>\n",
              "      <td>43</td>\n",
              "      <td>7.83</td>\n",
              "      <td>17.0</td>\n",
              "      <td>1.0</td>\n",
              "      <td>NaN</td>\n",
              "      <td>NaN</td>\n",
              "      <td>NaN</td>\n",
              "      <td>NaN</td>\n",
              "      <td>NaN</td>\n",
              "      <td>NaN</td>\n",
              "      <td>NaN</td>\n",
              "      <td>NaN</td>\n",
              "      <td>NaN</td>\n",
              "      <td>NaN</td>\n",
              "      <td>1.0</td>\n",
              "      <td>NaN</td>\n",
              "      <td>NaN</td>\n",
              "      <td>1.0</td>\n",
              "      <td>NaN</td>\n",
              "      <td>1.0</td>\n",
              "      <td>NaN</td>\n",
              "      <td>NaN</td>\n",
              "      <td>NaN</td>\n",
              "      <td>9.17</td>\n",
              "    </tr>\n",
              "  </tbody>\n",
              "</table>\n",
              "</div>"
            ],
            "text/plain": [
              "       STATION        DATE  TAVG  TMIN  TMAX  ...  WT18  WT19  WT21  WT22  wdiff\n",
              "0  USW00014765  2005-01-01  44.0    35    53  ...   NaN   NaN   NaN   NaN  16.15\n",
              "1  USW00014765  2005-01-02  36.0    28    44  ...   1.0   NaN   NaN   NaN   4.70\n",
              "2  USW00014765  2005-01-03  49.0    44    53  ...   NaN   NaN   NaN   NaN  10.07\n",
              "3  USW00014765  2005-01-04  42.0    39    45  ...   NaN   NaN   NaN   NaN   9.17\n",
              "4  USW00014765  2005-01-05  36.0    28    43  ...   1.0   NaN   NaN   NaN   9.17\n",
              "\n",
              "[5 rows x 28 columns]"
            ]
          },
          "metadata": {
            "tags": []
          },
          "execution_count": 191
        }
      ]
    },
    {
      "cell_type": "code",
      "metadata": {
        "id": "oqWUXMGqPj6P",
        "colab_type": "code",
        "colab": {
          "base_uri": "https://localhost:8080/",
          "height": 34
        },
        "outputId": "e0721ff0-87ae-40a7-cbf4-7623b2a4bb5a"
      },
      "source": [
        "weather.shape"
      ],
      "execution_count": 192,
      "outputs": [
        {
          "output_type": "execute_result",
          "data": {
            "text/plain": [
              "(4017, 28)"
            ]
          },
          "metadata": {
            "tags": []
          },
          "execution_count": 192
        }
      ]
    },
    {
      "cell_type": "code",
      "metadata": {
        "id": "z52eyTh-IjpP",
        "colab_type": "code",
        "colab": {
          "base_uri": "https://localhost:8080/",
          "height": 265
        },
        "outputId": "e3f49626-2611-4f53-d629-e0e22131df26"
      },
      "source": [
        "weather.wdiff.plot(kind='hist',bins=20)\n",
        "plt.show()"
      ],
      "execution_count": 193,
      "outputs": [
        {
          "output_type": "display_data",
          "data": {
            "image/png": "[encoded data removed]",
            "text/plain": [
              "<Figure size 432x288 with 1 Axes>"
            ]
          },
          "metadata": {
            "tags": [],
            "needs_background": "light"
          }
        }
      ]
    },
    {
      "cell_type": "code",
      "metadata": {
        "id": "GSdGxV7NI04m",
        "colab_type": "code",
        "colab": {
          "base_uri": "https://localhost:8080/",
          "height": 418
        },
        "outputId": "289f668c-1147-49fa-f827-53a498d66443"
      },
      "source": [
        "# Read 'weather.csv' into a DataFrame named 'weather'\n",
        "weather = pd.read_csv('weather.csv')\n",
        "\n",
        "# Describe the temperature columns\n",
        "print(weather[['TMIN', 'TAVG', 'TMAX']].describe())\n",
        "\n",
        "# Create a box plot of the temperature columns\n",
        "weather[['TMIN', 'TAVG', 'TMAX']].plot(kind='box')\n",
        "\n",
        "# Display the plot\n",
        "plt.show()"
      ],
      "execution_count": 194,
      "outputs": [
        {
          "output_type": "stream",
          "text": [
            "              TMIN         TAVG         TMAX\n",
            "count  4017.000000  1217.000000  4017.000000\n",
            "mean     43.484441    52.493016    61.268608\n",
            "std      17.020298    17.830714    18.199517\n",
            "min      -5.000000     6.000000    15.000000\n",
            "25%      30.000000    39.000000    47.000000\n",
            "50%      44.000000    54.000000    62.000000\n",
            "75%      58.000000    68.000000    77.000000\n",
            "max      77.000000    86.000000   102.000000\n"
          ],
          "name": "stdout"
        },
        {
          "output_type": "display_data",
          "data": {
            "image/png": "[encoded data removed]",
            "text/plain": [
              "<Figure size 432x288 with 1 Axes>"
            ]
          },
          "metadata": {
            "tags": [],
            "needs_background": "light"
          }
        }
      ]
    },
    {
      "cell_type": "code",
      "metadata": {
        "id": "ClI4kUhhKOYs",
        "colab_type": "code",
        "colab": {
          "base_uri": "https://localhost:8080/",
          "height": 418
        },
        "outputId": "480ed480-40f2-41f9-c180-f49a14bc71ae"
      },
      "source": [
        "\n",
        "# Create a 'TDIFF' column that represents temperature difference\n",
        "weather['TDIFF'] = weather.TMAX - weather.TMIN\n",
        "\n",
        "# Describe the 'TDIFF' column\n",
        "print(weather.TDIFF.describe())\n",
        "\n",
        "# Create a histogram with 20 bins to visualize 'TDIFF'\n",
        "weather.TDIFF.plot(kind='hist', bins=20)\n",
        "\n",
        "# Display the plot\n",
        "plt.show()"
      ],
      "execution_count": 195,
      "outputs": [
        {
          "output_type": "stream",
          "text": [
            "count    4017.000000\n",
            "mean       17.784167\n",
            "std         6.350720\n",
            "min         2.000000\n",
            "25%        14.000000\n",
            "50%        18.000000\n",
            "75%        22.000000\n",
            "max        43.000000\n",
            "Name: TDIFF, dtype: float64\n"
          ],
          "name": "stdout"
        },
        {
          "output_type": "display_data",
          "data": {
            "image/png": "[encoded data removed]",
            "text/plain": [
              "<Figure size 432x288 with 1 Axes>"
            ]
          },
          "metadata": {
            "tags": [],
            "needs_background": "light"
          }
        }
      ]
    },
    {
      "cell_type": "markdown",
      "metadata": {
        "id": "TJFlTbP9LedS",
        "colab_type": "text"
      },
      "source": [
        "### Categorizing the Weather"
      ]
    },
    {
      "cell_type": "code",
      "metadata": {
        "id": "Y_RKmNxJK3aW",
        "colab_type": "code",
        "colab": {}
      },
      "source": [
        "temp = weather.loc[:,'TAVG':'TMAX']"
      ],
      "execution_count": 0,
      "outputs": []
    },
    {
      "cell_type": "code",
      "metadata": {
        "id": "fTjUpNwSP2VO",
        "colab_type": "code",
        "colab": {
          "base_uri": "https://localhost:8080/",
          "height": 34
        },
        "outputId": "67f21eaf-34a3-4740-e510-9e8a2fbeee60"
      },
      "source": [
        "temp.shape"
      ],
      "execution_count": 197,
      "outputs": [
        {
          "output_type": "execute_result",
          "data": {
            "text/plain": [
              "(4017, 3)"
            ]
          },
          "metadata": {
            "tags": []
          },
          "execution_count": 197
        }
      ]
    },
    {
      "cell_type": "code",
      "metadata": {
        "id": "FB48nQRTP6U-",
        "colab_type": "code",
        "colab": {
          "base_uri": "https://localhost:8080/",
          "height": 204
        },
        "outputId": "8faf6449-9764-43fc-ff79-9e438cd65803"
      },
      "source": [
        "temp.head()"
      ],
      "execution_count": 198,
      "outputs": [
        {
          "output_type": "execute_result",
          "data": {
            "text/html": [
              "<div>\n",
              "<style scoped>\n",
              "    .dataframe tbody tr th:only-of-type {\n",
              "        vertical-align: middle;\n",
              "    }\n",
              "\n",
              "    .dataframe tbody tr th {\n",
              "        vertical-align: top;\n",
              "    }\n",
              "\n",
              "    .dataframe thead th {\n",
              "        text-align: right;\n",
              "    }\n",
              "</style>\n",
              "<table border=\"1\" class=\"dataframe\">\n",
              "  <thead>\n",
              "    <tr style=\"text-align: right;\">\n",
              "      <th></th>\n",
              "      <th>TAVG</th>\n",
              "      <th>TMIN</th>\n",
              "      <th>TMAX</th>\n",
              "    </tr>\n",
              "  </thead>\n",
              "  <tbody>\n",
              "    <tr>\n",
              "      <th>0</th>\n",
              "      <td>44.0</td>\n",
              "      <td>35</td>\n",
              "      <td>53</td>\n",
              "    </tr>\n",
              "    <tr>\n",
              "      <th>1</th>\n",
              "      <td>36.0</td>\n",
              "      <td>28</td>\n",
              "      <td>44</td>\n",
              "    </tr>\n",
              "    <tr>\n",
              "      <th>2</th>\n",
              "      <td>49.0</td>\n",
              "      <td>44</td>\n",
              "      <td>53</td>\n",
              "    </tr>\n",
              "    <tr>\n",
              "      <th>3</th>\n",
              "      <td>42.0</td>\n",
              "      <td>39</td>\n",
              "      <td>45</td>\n",
              "    </tr>\n",
              "    <tr>\n",
              "      <th>4</th>\n",
              "      <td>36.0</td>\n",
              "      <td>28</td>\n",
              "      <td>43</td>\n",
              "    </tr>\n",
              "  </tbody>\n",
              "</table>\n",
              "</div>"
            ],
            "text/plain": [
              "   TAVG  TMIN  TMAX\n",
              "0  44.0    35    53\n",
              "1  36.0    28    44\n",
              "2  49.0    44    53\n",
              "3  42.0    39    45\n",
              "4  36.0    28    43"
            ]
          },
          "metadata": {
            "tags": []
          },
          "execution_count": 198
        }
      ]
    },
    {
      "cell_type": "code",
      "metadata": {
        "id": "7byuiSaXP9tW",
        "colab_type": "code",
        "colab": {
          "base_uri": "https://localhost:8080/",
          "height": 85
        },
        "outputId": "e27a2c49-761a-4097-873d-e0ad68dbab1c"
      },
      "source": [
        "# sum each column\n",
        "temp.sum()"
      ],
      "execution_count": 199,
      "outputs": [
        {
          "output_type": "execute_result",
          "data": {
            "text/plain": [
              "TAVG     63884.0\n",
              "TMIN    174677.0\n",
              "TMAX    246116.0\n",
              "dtype: float64"
            ]
          },
          "metadata": {
            "tags": []
          },
          "execution_count": 199
        }
      ]
    },
    {
      "cell_type": "code",
      "metadata": {
        "id": "49C41_TTQECO",
        "colab_type": "code",
        "colab": {
          "base_uri": "https://localhost:8080/",
          "height": 221
        },
        "outputId": "15692e1a-3f80-4cd1-9967-7ba3f3dd1283"
      },
      "source": [
        "# sum each row\n",
        "temp.sum(axis=1)"
      ],
      "execution_count": 200,
      "outputs": [
        {
          "output_type": "execute_result",
          "data": {
            "text/plain": [
              "0       132.0\n",
              "1       108.0\n",
              "2       146.0\n",
              "3       126.0\n",
              "4       107.0\n",
              "        ...  \n",
              "4012    156.0\n",
              "4013    114.0\n",
              "4014    101.0\n",
              "4015     92.0\n",
              "4016    124.0\n",
              "Length: 4017, dtype: float64"
            ]
          },
          "metadata": {
            "tags": []
          },
          "execution_count": 200
        }
      ]
    },
    {
      "cell_type": "code",
      "metadata": {
        "id": "W2G_wjStQI_l",
        "colab_type": "code",
        "colab": {
          "base_uri": "https://localhost:8080/",
          "height": 309
        },
        "outputId": "720e5438-b922-42d6-9318-5b3ebc1f603a"
      },
      "source": [
        "ri.head()"
      ],
      "execution_count": 201,
      "outputs": [
        {
          "output_type": "execute_result",
          "data": {
            "text/html": [
              "<div>\n",
              "<style scoped>\n",
              "    .dataframe tbody tr th:only-of-type {\n",
              "        vertical-align: middle;\n",
              "    }\n",
              "\n",
              "    .dataframe tbody tr th {\n",
              "        vertical-align: top;\n",
              "    }\n",
              "\n",
              "    .dataframe thead th {\n",
              "        text-align: right;\n",
              "    }\n",
              "</style>\n",
              "<table border=\"1\" class=\"dataframe\">\n",
              "  <thead>\n",
              "    <tr style=\"text-align: right;\">\n",
              "      <th></th>\n",
              "      <th>date_and_time</th>\n",
              "      <th>state</th>\n",
              "      <th>stop_date</th>\n",
              "      <th>stop_time</th>\n",
              "      <th>driver_gender</th>\n",
              "      <th>driver_race</th>\n",
              "      <th>violation_raw</th>\n",
              "      <th>violation</th>\n",
              "      <th>search_conducted</th>\n",
              "      <th>search_type</th>\n",
              "      <th>stop_outcome</th>\n",
              "      <th>is_arrested</th>\n",
              "      <th>stop_duration</th>\n",
              "      <th>drugs_related_stop</th>\n",
              "      <th>district</th>\n",
              "    </tr>\n",
              "  </thead>\n",
              "  <tbody>\n",
              "    <tr>\n",
              "      <th>0</th>\n",
              "      <td>2005-01-04 12:55:00</td>\n",
              "      <td>RI</td>\n",
              "      <td>2005/01/04</td>\n",
              "      <td>12:55</td>\n",
              "      <td>M</td>\n",
              "      <td>White</td>\n",
              "      <td>Equipment/Inspection Violation</td>\n",
              "      <td>Equipment</td>\n",
              "      <td>False</td>\n",
              "      <td>NaN</td>\n",
              "      <td>Citation</td>\n",
              "      <td>False</td>\n",
              "      <td>0-15 Min</td>\n",
              "      <td>False</td>\n",
              "      <td>Zone X4</td>\n",
              "    </tr>\n",
              "    <tr>\n",
              "      <th>1</th>\n",
              "      <td>2005-01-23 23:15:00</td>\n",
              "      <td>RI</td>\n",
              "      <td>2005/01/23</td>\n",
              "      <td>23:15</td>\n",
              "      <td>M</td>\n",
              "      <td>White</td>\n",
              "      <td>Speeding</td>\n",
              "      <td>Speeding</td>\n",
              "      <td>False</td>\n",
              "      <td>NaN</td>\n",
              "      <td>Citation</td>\n",
              "      <td>False</td>\n",
              "      <td>0-15 Min</td>\n",
              "      <td>False</td>\n",
              "      <td>Zone K3</td>\n",
              "    </tr>\n",
              "    <tr>\n",
              "      <th>2</th>\n",
              "      <td>2005-02-17 04:15:00</td>\n",
              "      <td>RI</td>\n",
              "      <td>2005/02/17</td>\n",
              "      <td>04:15</td>\n",
              "      <td>M</td>\n",
              "      <td>White</td>\n",
              "      <td>Speeding</td>\n",
              "      <td>Speeding</td>\n",
              "      <td>False</td>\n",
              "      <td>NaN</td>\n",
              "      <td>Citation</td>\n",
              "      <td>False</td>\n",
              "      <td>0-15 Min</td>\n",
              "      <td>False</td>\n",
              "      <td>Zone X4</td>\n",
              "    </tr>\n",
              "    <tr>\n",
              "      <th>3</th>\n",
              "      <td>2005-02-20 17:15:00</td>\n",
              "      <td>RI</td>\n",
              "      <td>2005/02/20</td>\n",
              "      <td>17:15</td>\n",
              "      <td>M</td>\n",
              "      <td>White</td>\n",
              "      <td>Call for Service</td>\n",
              "      <td>Other</td>\n",
              "      <td>False</td>\n",
              "      <td>NaN</td>\n",
              "      <td>Arrest Driver</td>\n",
              "      <td>True</td>\n",
              "      <td>16-30 Min</td>\n",
              "      <td>False</td>\n",
              "      <td>Zone X1</td>\n",
              "    </tr>\n",
              "    <tr>\n",
              "      <th>4</th>\n",
              "      <td>2005-02-24 01:20:00</td>\n",
              "      <td>RI</td>\n",
              "      <td>2005/02/24</td>\n",
              "      <td>01:20</td>\n",
              "      <td>F</td>\n",
              "      <td>White</td>\n",
              "      <td>Speeding</td>\n",
              "      <td>Speeding</td>\n",
              "      <td>False</td>\n",
              "      <td>NaN</td>\n",
              "      <td>Citation</td>\n",
              "      <td>False</td>\n",
              "      <td>0-15 Min</td>\n",
              "      <td>False</td>\n",
              "      <td>Zone X3</td>\n",
              "    </tr>\n",
              "  </tbody>\n",
              "</table>\n",
              "</div>"
            ],
            "text/plain": [
              "        date_and_time state  ... drugs_related_stop district\n",
              "0 2005-01-04 12:55:00    RI  ...              False  Zone X4\n",
              "1 2005-01-23 23:15:00    RI  ...              False  Zone K3\n",
              "2 2005-02-17 04:15:00    RI  ...              False  Zone X4\n",
              "3 2005-02-20 17:15:00    RI  ...              False  Zone X1\n",
              "4 2005-02-24 01:20:00    RI  ...              False  Zone X3\n",
              "\n",
              "[5 rows x 15 columns]"
            ]
          },
          "metadata": {
            "tags": []
          },
          "execution_count": 201
        }
      ]
    },
    {
      "cell_type": "code",
      "metadata": {
        "id": "HD7maq0zQaDp",
        "colab_type": "code",
        "colab": {
          "base_uri": "https://localhost:8080/",
          "height": 213
        },
        "outputId": "559171a6-a1de-409f-d923-be5d844da925"
      },
      "source": [
        "# Mapping stop length\n",
        "mapping = {'0-15 Min': 'short','16-30 Min':'medium','30-45 Min':'long'}\n",
        "ri['stop_length'] = ri.stop_duration.map(mapping)\n",
        "ri.head(3)"
      ],
      "execution_count": 202,
      "outputs": [
        {
          "output_type": "execute_result",
          "data": {
            "text/html": [
              "<div>\n",
              "<style scoped>\n",
              "    .dataframe tbody tr th:only-of-type {\n",
              "        vertical-align: middle;\n",
              "    }\n",
              "\n",
              "    .dataframe tbody tr th {\n",
              "        vertical-align: top;\n",
              "    }\n",
              "\n",
              "    .dataframe thead th {\n",
              "        text-align: right;\n",
              "    }\n",
              "</style>\n",
              "<table border=\"1\" class=\"dataframe\">\n",
              "  <thead>\n",
              "    <tr style=\"text-align: right;\">\n",
              "      <th></th>\n",
              "      <th>date_and_time</th>\n",
              "      <th>state</th>\n",
              "      <th>stop_date</th>\n",
              "      <th>stop_time</th>\n",
              "      <th>driver_gender</th>\n",
              "      <th>driver_race</th>\n",
              "      <th>violation_raw</th>\n",
              "      <th>violation</th>\n",
              "      <th>search_conducted</th>\n",
              "      <th>search_type</th>\n",
              "      <th>stop_outcome</th>\n",
              "      <th>is_arrested</th>\n",
              "      <th>stop_duration</th>\n",
              "      <th>drugs_related_stop</th>\n",
              "      <th>district</th>\n",
              "      <th>stop_length</th>\n",
              "    </tr>\n",
              "  </thead>\n",
              "  <tbody>\n",
              "    <tr>\n",
              "      <th>0</th>\n",
              "      <td>2005-01-04 12:55:00</td>\n",
              "      <td>RI</td>\n",
              "      <td>2005/01/04</td>\n",
              "      <td>12:55</td>\n",
              "      <td>M</td>\n",
              "      <td>White</td>\n",
              "      <td>Equipment/Inspection Violation</td>\n",
              "      <td>Equipment</td>\n",
              "      <td>False</td>\n",
              "      <td>NaN</td>\n",
              "      <td>Citation</td>\n",
              "      <td>False</td>\n",
              "      <td>0-15 Min</td>\n",
              "      <td>False</td>\n",
              "      <td>Zone X4</td>\n",
              "      <td>short</td>\n",
              "    </tr>\n",
              "    <tr>\n",
              "      <th>1</th>\n",
              "      <td>2005-01-23 23:15:00</td>\n",
              "      <td>RI</td>\n",
              "      <td>2005/01/23</td>\n",
              "      <td>23:15</td>\n",
              "      <td>M</td>\n",
              "      <td>White</td>\n",
              "      <td>Speeding</td>\n",
              "      <td>Speeding</td>\n",
              "      <td>False</td>\n",
              "      <td>NaN</td>\n",
              "      <td>Citation</td>\n",
              "      <td>False</td>\n",
              "      <td>0-15 Min</td>\n",
              "      <td>False</td>\n",
              "      <td>Zone K3</td>\n",
              "      <td>short</td>\n",
              "    </tr>\n",
              "    <tr>\n",
              "      <th>2</th>\n",
              "      <td>2005-02-17 04:15:00</td>\n",
              "      <td>RI</td>\n",
              "      <td>2005/02/17</td>\n",
              "      <td>04:15</td>\n",
              "      <td>M</td>\n",
              "      <td>White</td>\n",
              "      <td>Speeding</td>\n",
              "      <td>Speeding</td>\n",
              "      <td>False</td>\n",
              "      <td>NaN</td>\n",
              "      <td>Citation</td>\n",
              "      <td>False</td>\n",
              "      <td>0-15 Min</td>\n",
              "      <td>False</td>\n",
              "      <td>Zone X4</td>\n",
              "      <td>short</td>\n",
              "    </tr>\n",
              "  </tbody>\n",
              "</table>\n",
              "</div>"
            ],
            "text/plain": [
              "        date_and_time state  ... district stop_length\n",
              "0 2005-01-04 12:55:00    RI  ...  Zone X4       short\n",
              "1 2005-01-23 23:15:00    RI  ...  Zone K3       short\n",
              "2 2005-02-17 04:15:00    RI  ...  Zone X4       short\n",
              "\n",
              "[3 rows x 16 columns]"
            ]
          },
          "metadata": {
            "tags": []
          },
          "execution_count": 202
        }
      ]
    },
    {
      "cell_type": "code",
      "metadata": {
        "id": "DDNoRso7WHFg",
        "colab_type": "code",
        "colab": {
          "base_uri": "https://localhost:8080/",
          "height": 68
        },
        "outputId": "c7580626-c99c-46fb-dc8b-2544eb95f0ac"
      },
      "source": [
        "ri.stop_length.value_counts()"
      ],
      "execution_count": 203,
      "outputs": [
        {
          "output_type": "execute_result",
          "data": {
            "text/plain": [
              "short     69577\n",
              "medium    13740\n",
              "Name: stop_length, dtype: int64"
            ]
          },
          "metadata": {
            "tags": []
          },
          "execution_count": 203
        }
      ]
    },
    {
      "cell_type": "code",
      "metadata": {
        "id": "68f5YzlbSnT4",
        "colab_type": "code",
        "colab": {
          "base_uri": "https://localhost:8080/",
          "height": 34
        },
        "outputId": "1d2de78c-7e9b-4550-d764-39bb1418991e"
      },
      "source": [
        "ri.stop_length.memory_usage(deep=True)"
      ],
      "execution_count": 204,
      "outputs": [
        {
          "output_type": "execute_result",
          "data": {
            "text/plain": [
              "7337098"
            ]
          },
          "metadata": {
            "tags": []
          },
          "execution_count": 204
        }
      ]
    },
    {
      "cell_type": "code",
      "metadata": {
        "id": "UQoLtOB1Rn-5",
        "colab_type": "code",
        "colab": {
          "base_uri": "https://localhost:8080/",
          "height": 34
        },
        "outputId": "37ebfe03-c294-40ae-e738-a83a99f4081a"
      },
      "source": [
        "# Change column to category for more efficient storage,and to allow order to be assigned to values\n",
        "from pandas.api.types import CategoricalDtype\n",
        "cats = ['short','medium','long'] # Creates logical order to values\n",
        "ri['stop_length'] = ri.stop_length.astype(CategoricalDtype(categories=cats, ordered=True)) # Have to pass in CategoricalDtype not 'category'\n",
        "ri.stop_length.dtype"
      ],
      "execution_count": 205,
      "outputs": [
        {
          "output_type": "execute_result",
          "data": {
            "text/plain": [
              "CategoricalDtype(categories=['short', 'medium', 'long'], ordered=True)"
            ]
          },
          "metadata": {
            "tags": []
          },
          "execution_count": 205
        }
      ]
    },
    {
      "cell_type": "code",
      "metadata": {
        "id": "KMguhj7OTMox",
        "colab_type": "code",
        "colab": {
          "base_uri": "https://localhost:8080/",
          "height": 34
        },
        "outputId": "f5bde4ae-d25e-4890-845b-1ab25041cdff"
      },
      "source": [
        "ri.stop_length.memory_usage(deep=True)"
      ],
      "execution_count": 206,
      "outputs": [
        {
          "output_type": "execute_result",
          "data": {
            "text/plain": [
              "86982"
            ]
          },
          "metadata": {
            "tags": []
          },
          "execution_count": 206
        }
      ]
    },
    {
      "cell_type": "code",
      "metadata": {
        "id": "Tzu_jVkyVETn",
        "colab_type": "code",
        "colab": {
          "base_uri": "https://localhost:8080/",
          "height": 136
        },
        "outputId": "062d5183-b774-4693-c5a6-b2278bd807dc"
      },
      "source": [
        "ri.stop_length.head()"
      ],
      "execution_count": 207,
      "outputs": [
        {
          "output_type": "execute_result",
          "data": {
            "text/plain": [
              "0     short\n",
              "1     short\n",
              "2     short\n",
              "3    medium\n",
              "4     short\n",
              "Name: stop_length, dtype: category\n",
              "Categories (3, object): [short < medium < long]"
            ]
          },
          "metadata": {
            "tags": []
          },
          "execution_count": 207
        }
      ]
    },
    {
      "cell_type": "code",
      "metadata": {
        "id": "S99Uk-WbVWxs",
        "colab_type": "code",
        "colab": {
          "base_uri": "https://localhost:8080/",
          "height": 309
        },
        "outputId": "621bd082-cc2c-482c-aada-51d31357587d"
      },
      "source": [
        "# can filter with comoparison operators now\n",
        "ri[ri.stop_length > 'short'].head()"
      ],
      "execution_count": 208,
      "outputs": [
        {
          "output_type": "execute_result",
          "data": {
            "text/html": [
              "<div>\n",
              "<style scoped>\n",
              "    .dataframe tbody tr th:only-of-type {\n",
              "        vertical-align: middle;\n",
              "    }\n",
              "\n",
              "    .dataframe tbody tr th {\n",
              "        vertical-align: top;\n",
              "    }\n",
              "\n",
              "    .dataframe thead th {\n",
              "        text-align: right;\n",
              "    }\n",
              "</style>\n",
              "<table border=\"1\" class=\"dataframe\">\n",
              "  <thead>\n",
              "    <tr style=\"text-align: right;\">\n",
              "      <th></th>\n",
              "      <th>date_and_time</th>\n",
              "      <th>state</th>\n",
              "      <th>stop_date</th>\n",
              "      <th>stop_time</th>\n",
              "      <th>driver_gender</th>\n",
              "      <th>driver_race</th>\n",
              "      <th>violation_raw</th>\n",
              "      <th>violation</th>\n",
              "      <th>search_conducted</th>\n",
              "      <th>search_type</th>\n",
              "      <th>stop_outcome</th>\n",
              "      <th>is_arrested</th>\n",
              "      <th>stop_duration</th>\n",
              "      <th>drugs_related_stop</th>\n",
              "      <th>district</th>\n",
              "      <th>stop_length</th>\n",
              "    </tr>\n",
              "  </thead>\n",
              "  <tbody>\n",
              "    <tr>\n",
              "      <th>3</th>\n",
              "      <td>2005-02-20 17:15:00</td>\n",
              "      <td>RI</td>\n",
              "      <td>2005/02/20</td>\n",
              "      <td>17:15</td>\n",
              "      <td>M</td>\n",
              "      <td>White</td>\n",
              "      <td>Call for Service</td>\n",
              "      <td>Other</td>\n",
              "      <td>False</td>\n",
              "      <td>NaN</td>\n",
              "      <td>Arrest Driver</td>\n",
              "      <td>True</td>\n",
              "      <td>16-30 Min</td>\n",
              "      <td>False</td>\n",
              "      <td>Zone X1</td>\n",
              "      <td>medium</td>\n",
              "    </tr>\n",
              "    <tr>\n",
              "      <th>46</th>\n",
              "      <td>2005-10-01 22:40:00</td>\n",
              "      <td>RI</td>\n",
              "      <td>2005/10/01</td>\n",
              "      <td>22:40</td>\n",
              "      <td>M</td>\n",
              "      <td>White</td>\n",
              "      <td>Speeding</td>\n",
              "      <td>Speeding</td>\n",
              "      <td>False</td>\n",
              "      <td>NaN</td>\n",
              "      <td>Citation</td>\n",
              "      <td>False</td>\n",
              "      <td>16-30 Min</td>\n",
              "      <td>False</td>\n",
              "      <td>Zone K2</td>\n",
              "      <td>medium</td>\n",
              "    </tr>\n",
              "    <tr>\n",
              "      <th>47</th>\n",
              "      <td>2005-10-01 22:40:00</td>\n",
              "      <td>RI</td>\n",
              "      <td>2005/10/01</td>\n",
              "      <td>22:40</td>\n",
              "      <td>M</td>\n",
              "      <td>White</td>\n",
              "      <td>Speeding</td>\n",
              "      <td>Speeding</td>\n",
              "      <td>False</td>\n",
              "      <td>NaN</td>\n",
              "      <td>Citation</td>\n",
              "      <td>False</td>\n",
              "      <td>16-30 Min</td>\n",
              "      <td>False</td>\n",
              "      <td>Zone K2</td>\n",
              "      <td>medium</td>\n",
              "    </tr>\n",
              "    <tr>\n",
              "      <th>52</th>\n",
              "      <td>2005-10-02 02:10:00</td>\n",
              "      <td>RI</td>\n",
              "      <td>2005/10/02</td>\n",
              "      <td>02:10</td>\n",
              "      <td>F</td>\n",
              "      <td>White</td>\n",
              "      <td>Speeding</td>\n",
              "      <td>Speeding</td>\n",
              "      <td>False</td>\n",
              "      <td>NaN</td>\n",
              "      <td>Citation</td>\n",
              "      <td>False</td>\n",
              "      <td>16-30 Min</td>\n",
              "      <td>False</td>\n",
              "      <td>Zone K2</td>\n",
              "      <td>medium</td>\n",
              "    </tr>\n",
              "    <tr>\n",
              "      <th>53</th>\n",
              "      <td>2005-10-02 02:11:00</td>\n",
              "      <td>RI</td>\n",
              "      <td>2005/10/02</td>\n",
              "      <td>02:11</td>\n",
              "      <td>F</td>\n",
              "      <td>White</td>\n",
              "      <td>Speeding</td>\n",
              "      <td>Speeding</td>\n",
              "      <td>False</td>\n",
              "      <td>NaN</td>\n",
              "      <td>Citation</td>\n",
              "      <td>False</td>\n",
              "      <td>16-30 Min</td>\n",
              "      <td>False</td>\n",
              "      <td>Zone K2</td>\n",
              "      <td>medium</td>\n",
              "    </tr>\n",
              "  </tbody>\n",
              "</table>\n",
              "</div>"
            ],
            "text/plain": [
              "         date_and_time state  ... district stop_length\n",
              "3  2005-02-20 17:15:00    RI  ...  Zone X1      medium\n",
              "46 2005-10-01 22:40:00    RI  ...  Zone K2      medium\n",
              "47 2005-10-01 22:40:00    RI  ...  Zone K2      medium\n",
              "52 2005-10-02 02:10:00    RI  ...  Zone K2      medium\n",
              "53 2005-10-02 02:11:00    RI  ...  Zone K2      medium\n",
              "\n",
              "[5 rows x 16 columns]"
            ]
          },
          "metadata": {
            "tags": []
          },
          "execution_count": 208
        }
      ]
    },
    {
      "cell_type": "code",
      "metadata": {
        "id": "2N571_LBXBYk",
        "colab_type": "code",
        "colab": {
          "base_uri": "https://localhost:8080/",
          "height": 34
        },
        "outputId": "57ceb975-1bf9-48e0-97e3-b3dc1a5c63c4"
      },
      "source": [
        "ri['is_arrested'] = ri['is_arrested'].astype('bool')\n",
        "ri.is_arrested.dtype"
      ],
      "execution_count": 209,
      "outputs": [
        {
          "output_type": "execute_result",
          "data": {
            "text/plain": [
              "dtype('bool')"
            ]
          },
          "metadata": {
            "tags": []
          },
          "execution_count": 209
        }
      ]
    },
    {
      "cell_type": "code",
      "metadata": {
        "id": "EmVTR-LzVmg3",
        "colab_type": "code",
        "colab": {
          "base_uri": "https://localhost:8080/",
          "height": 102
        },
        "outputId": "ecf28dd9-6672-489a-999c-21321777ab8a"
      },
      "source": [
        "ri.groupby('stop_length').is_arrested.mean()"
      ],
      "execution_count": 210,
      "outputs": [
        {
          "output_type": "execute_result",
          "data": {
            "text/plain": [
              "stop_length\n",
              "short     0.013654\n",
              "medium    0.093595\n",
              "long           NaN\n",
              "Name: is_arrested, dtype: float64"
            ]
          },
          "metadata": {
            "tags": []
          },
          "execution_count": 210
        }
      ]
    },
    {
      "cell_type": "code",
      "metadata": {
        "id": "qE99lCxxV4la",
        "colab_type": "code",
        "colab": {
          "base_uri": "https://localhost:8080/",
          "height": 85
        },
        "outputId": "a0235101-0253-403b-cfc9-69cd790908ab"
      },
      "source": [
        "ri.stop_length.value_counts()"
      ],
      "execution_count": 211,
      "outputs": [
        {
          "output_type": "execute_result",
          "data": {
            "text/plain": [
              "short     69577\n",
              "medium    13740\n",
              "long          0\n",
              "Name: stop_length, dtype: int64"
            ]
          },
          "metadata": {
            "tags": []
          },
          "execution_count": 211
        }
      ]
    },
    {
      "cell_type": "code",
      "metadata": {
        "id": "GyC5_8xRWCoB",
        "colab_type": "code",
        "colab": {
          "base_uri": "https://localhost:8080/",
          "height": 265
        },
        "outputId": "514a16f6-85a6-4c0f-8481-bfffde38cda9"
      },
      "source": [
        "# Copy 'WT01' through 'WT22' to a new DataFrame\n",
        "WT = weather.loc[:,'WT01':'WT22']\n",
        "\n",
        "# Calculate the sum of each row in 'WT'\n",
        "weather['bad_conditions'] = WT.sum(axis=1)\n",
        "\n",
        "# Replace missing values in 'bad_conditions' with '0'\n",
        "weather['bad_conditions'] = weather.bad_conditions.fillna(0).astype('int')\n",
        "\n",
        "# Create a histogram to visualize 'bad_conditions'\n",
        "weather.bad_conditions.plot(kind='hist')\n",
        "\n",
        "# Display the plot\n",
        "plt.show()"
      ],
      "execution_count": 212,
      "outputs": [
        {
          "output_type": "display_data",
          "data": {
            "image/png": "[encoded data removed]",
            "text/plain": [
              "<Figure size 432x288 with 1 Axes>"
            ]
          },
          "metadata": {
            "tags": [],
            "needs_background": "light"
          }
        }
      ]
    },
    {
      "cell_type": "code",
      "metadata": {
        "id": "hB8t0bnuZJE1",
        "colab_type": "code",
        "colab": {
          "base_uri": "https://localhost:8080/",
          "height": 272
        },
        "outputId": "98785329-a20f-405b-cf89-caac4a34d6a9"
      },
      "source": [
        "\n",
        "# Count the unique values in 'bad_conditions' and sort the index\n",
        "print(weather.bad_conditions.value_counts().sort_index())\n",
        "\n",
        "# Create a dictionary that maps integers to strings\n",
        "mapping = {0:'good', 1:'bad', 2:'bad', 3:'bad', 4:'bad', 5:'worse', 6:'worse', 7:'worse', 8:'worse', 9:'worse'}\n",
        "\n",
        "# Convert the 'bad_conditions' integers to strings using the 'mapping'\n",
        "weather['rating'] = weather.bad_conditions.map(mapping)\n",
        "\n",
        "# Count the unique values in 'rating'\n",
        "print(weather.rating.value_counts())"
      ],
      "execution_count": 213,
      "outputs": [
        {
          "output_type": "stream",
          "text": [
            "0    1749\n",
            "1     613\n",
            "2     367\n",
            "3     380\n",
            "4     476\n",
            "5     282\n",
            "6     101\n",
            "7      41\n",
            "8       4\n",
            "9       4\n",
            "Name: bad_conditions, dtype: int64\n",
            "bad      1836\n",
            "good     1749\n",
            "worse     432\n",
            "Name: rating, dtype: int64\n"
          ],
          "name": "stdout"
        }
      ]
    },
    {
      "cell_type": "markdown",
      "metadata": {
        "id": "lyDn-xAWcvPy",
        "colab_type": "text"
      },
      "source": [
        "### Merging Data Sets"
      ]
    },
    {
      "cell_type": "code",
      "metadata": {
        "id": "c7fqxtx2aR85",
        "colab_type": "code",
        "colab": {
          "base_uri": "https://localhost:8080/",
          "height": 165
        },
        "outputId": "8792cb1a-3af0-4a47-8f97-3e40a443a642"
      },
      "source": [
        "ri.head(2)"
      ],
      "execution_count": 214,
      "outputs": [
        {
          "output_type": "execute_result",
          "data": {
            "text/html": [
              "<div>\n",
              "<style scoped>\n",
              "    .dataframe tbody tr th:only-of-type {\n",
              "        vertical-align: middle;\n",
              "    }\n",
              "\n",
              "    .dataframe tbody tr th {\n",
              "        vertical-align: top;\n",
              "    }\n",
              "\n",
              "    .dataframe thead th {\n",
              "        text-align: right;\n",
              "    }\n",
              "</style>\n",
              "<table border=\"1\" class=\"dataframe\">\n",
              "  <thead>\n",
              "    <tr style=\"text-align: right;\">\n",
              "      <th></th>\n",
              "      <th>date_and_time</th>\n",
              "      <th>state</th>\n",
              "      <th>stop_date</th>\n",
              "      <th>stop_time</th>\n",
              "      <th>driver_gender</th>\n",
              "      <th>driver_race</th>\n",
              "      <th>violation_raw</th>\n",
              "      <th>violation</th>\n",
              "      <th>search_conducted</th>\n",
              "      <th>search_type</th>\n",
              "      <th>stop_outcome</th>\n",
              "      <th>is_arrested</th>\n",
              "      <th>stop_duration</th>\n",
              "      <th>drugs_related_stop</th>\n",
              "      <th>district</th>\n",
              "      <th>stop_length</th>\n",
              "    </tr>\n",
              "  </thead>\n",
              "  <tbody>\n",
              "    <tr>\n",
              "      <th>0</th>\n",
              "      <td>2005-01-04 12:55:00</td>\n",
              "      <td>RI</td>\n",
              "      <td>2005/01/04</td>\n",
              "      <td>12:55</td>\n",
              "      <td>M</td>\n",
              "      <td>White</td>\n",
              "      <td>Equipment/Inspection Violation</td>\n",
              "      <td>Equipment</td>\n",
              "      <td>False</td>\n",
              "      <td>NaN</td>\n",
              "      <td>Citation</td>\n",
              "      <td>False</td>\n",
              "      <td>0-15 Min</td>\n",
              "      <td>False</td>\n",
              "      <td>Zone X4</td>\n",
              "      <td>short</td>\n",
              "    </tr>\n",
              "    <tr>\n",
              "      <th>1</th>\n",
              "      <td>2005-01-23 23:15:00</td>\n",
              "      <td>RI</td>\n",
              "      <td>2005/01/23</td>\n",
              "      <td>23:15</td>\n",
              "      <td>M</td>\n",
              "      <td>White</td>\n",
              "      <td>Speeding</td>\n",
              "      <td>Speeding</td>\n",
              "      <td>False</td>\n",
              "      <td>NaN</td>\n",
              "      <td>Citation</td>\n",
              "      <td>False</td>\n",
              "      <td>0-15 Min</td>\n",
              "      <td>False</td>\n",
              "      <td>Zone K3</td>\n",
              "      <td>short</td>\n",
              "    </tr>\n",
              "  </tbody>\n",
              "</table>\n",
              "</div>"
            ],
            "text/plain": [
              "        date_and_time state  ... district stop_length\n",
              "0 2005-01-04 12:55:00    RI  ...  Zone X4       short\n",
              "1 2005-01-23 23:15:00    RI  ...  Zone K3       short\n",
              "\n",
              "[2 rows x 16 columns]"
            ]
          },
          "metadata": {
            "tags": []
          },
          "execution_count": 214
        }
      ]
    },
    {
      "cell_type": "code",
      "metadata": {
        "id": "-fH0bY66dA_W",
        "colab_type": "code",
        "colab": {
          "base_uri": "https://localhost:8080/",
          "height": 165
        },
        "outputId": "26592f0f-1941-4d32-c3c2-c929ce47cbc7"
      },
      "source": [
        "ri.reset_index(inplace=True)\n",
        "ri.head(2)"
      ],
      "execution_count": 215,
      "outputs": [
        {
          "output_type": "execute_result",
          "data": {
            "text/html": [
              "<div>\n",
              "<style scoped>\n",
              "    .dataframe tbody tr th:only-of-type {\n",
              "        vertical-align: middle;\n",
              "    }\n",
              "\n",
              "    .dataframe tbody tr th {\n",
              "        vertical-align: top;\n",
              "    }\n",
              "\n",
              "    .dataframe thead th {\n",
              "        text-align: right;\n",
              "    }\n",
              "</style>\n",
              "<table border=\"1\" class=\"dataframe\">\n",
              "  <thead>\n",
              "    <tr style=\"text-align: right;\">\n",
              "      <th></th>\n",
              "      <th>index</th>\n",
              "      <th>date_and_time</th>\n",
              "      <th>state</th>\n",
              "      <th>stop_date</th>\n",
              "      <th>stop_time</th>\n",
              "      <th>driver_gender</th>\n",
              "      <th>driver_race</th>\n",
              "      <th>violation_raw</th>\n",
              "      <th>violation</th>\n",
              "      <th>search_conducted</th>\n",
              "      <th>search_type</th>\n",
              "      <th>stop_outcome</th>\n",
              "      <th>is_arrested</th>\n",
              "      <th>stop_duration</th>\n",
              "      <th>drugs_related_stop</th>\n",
              "      <th>district</th>\n",
              "      <th>stop_length</th>\n",
              "    </tr>\n",
              "  </thead>\n",
              "  <tbody>\n",
              "    <tr>\n",
              "      <th>0</th>\n",
              "      <td>0</td>\n",
              "      <td>2005-01-04 12:55:00</td>\n",
              "      <td>RI</td>\n",
              "      <td>2005/01/04</td>\n",
              "      <td>12:55</td>\n",
              "      <td>M</td>\n",
              "      <td>White</td>\n",
              "      <td>Equipment/Inspection Violation</td>\n",
              "      <td>Equipment</td>\n",
              "      <td>False</td>\n",
              "      <td>NaN</td>\n",
              "      <td>Citation</td>\n",
              "      <td>False</td>\n",
              "      <td>0-15 Min</td>\n",
              "      <td>False</td>\n",
              "      <td>Zone X4</td>\n",
              "      <td>short</td>\n",
              "    </tr>\n",
              "    <tr>\n",
              "      <th>1</th>\n",
              "      <td>1</td>\n",
              "      <td>2005-01-23 23:15:00</td>\n",
              "      <td>RI</td>\n",
              "      <td>2005/01/23</td>\n",
              "      <td>23:15</td>\n",
              "      <td>M</td>\n",
              "      <td>White</td>\n",
              "      <td>Speeding</td>\n",
              "      <td>Speeding</td>\n",
              "      <td>False</td>\n",
              "      <td>NaN</td>\n",
              "      <td>Citation</td>\n",
              "      <td>False</td>\n",
              "      <td>0-15 Min</td>\n",
              "      <td>False</td>\n",
              "      <td>Zone K3</td>\n",
              "      <td>short</td>\n",
              "    </tr>\n",
              "  </tbody>\n",
              "</table>\n",
              "</div>"
            ],
            "text/plain": [
              "   index       date_and_time state  ... drugs_related_stop district stop_length\n",
              "0      0 2005-01-04 12:55:00    RI  ...              False  Zone X4       short\n",
              "1      1 2005-01-23 23:15:00    RI  ...              False  Zone K3       short\n",
              "\n",
              "[2 rows x 17 columns]"
            ]
          },
          "metadata": {
            "tags": []
          },
          "execution_count": 215
        }
      ]
    },
    {
      "cell_type": "code",
      "metadata": {
        "id": "ZTZLZmJJdZGL",
        "colab_type": "code",
        "colab": {
          "base_uri": "https://localhost:8080/",
          "height": 165
        },
        "outputId": "3b4942da-e232-4363-d377-244b1318c0c5"
      },
      "source": [
        "weather.head(2)"
      ],
      "execution_count": 216,
      "outputs": [
        {
          "output_type": "execute_result",
          "data": {
            "text/html": [
              "<div>\n",
              "<style scoped>\n",
              "    .dataframe tbody tr th:only-of-type {\n",
              "        vertical-align: middle;\n",
              "    }\n",
              "\n",
              "    .dataframe tbody tr th {\n",
              "        vertical-align: top;\n",
              "    }\n",
              "\n",
              "    .dataframe thead th {\n",
              "        text-align: right;\n",
              "    }\n",
              "</style>\n",
              "<table border=\"1\" class=\"dataframe\">\n",
              "  <thead>\n",
              "    <tr style=\"text-align: right;\">\n",
              "      <th></th>\n",
              "      <th>STATION</th>\n",
              "      <th>DATE</th>\n",
              "      <th>TAVG</th>\n",
              "      <th>TMIN</th>\n",
              "      <th>TMAX</th>\n",
              "      <th>AWND</th>\n",
              "      <th>WSF2</th>\n",
              "      <th>WT01</th>\n",
              "      <th>WT02</th>\n",
              "      <th>WT03</th>\n",
              "      <th>WT04</th>\n",
              "      <th>WT05</th>\n",
              "      <th>WT06</th>\n",
              "      <th>WT07</th>\n",
              "      <th>WT08</th>\n",
              "      <th>WT09</th>\n",
              "      <th>WT10</th>\n",
              "      <th>WT11</th>\n",
              "      <th>WT13</th>\n",
              "      <th>WT14</th>\n",
              "      <th>WT15</th>\n",
              "      <th>WT16</th>\n",
              "      <th>WT17</th>\n",
              "      <th>WT18</th>\n",
              "      <th>WT19</th>\n",
              "      <th>WT21</th>\n",
              "      <th>WT22</th>\n",
              "      <th>TDIFF</th>\n",
              "      <th>bad_conditions</th>\n",
              "      <th>rating</th>\n",
              "    </tr>\n",
              "  </thead>\n",
              "  <tbody>\n",
              "    <tr>\n",
              "      <th>0</th>\n",
              "      <td>USW00014765</td>\n",
              "      <td>2005-01-01</td>\n",
              "      <td>44.0</td>\n",
              "      <td>35</td>\n",
              "      <td>53</td>\n",
              "      <td>8.95</td>\n",
              "      <td>25.1</td>\n",
              "      <td>1.0</td>\n",
              "      <td>NaN</td>\n",
              "      <td>NaN</td>\n",
              "      <td>NaN</td>\n",
              "      <td>NaN</td>\n",
              "      <td>NaN</td>\n",
              "      <td>NaN</td>\n",
              "      <td>NaN</td>\n",
              "      <td>NaN</td>\n",
              "      <td>NaN</td>\n",
              "      <td>NaN</td>\n",
              "      <td>1.0</td>\n",
              "      <td>NaN</td>\n",
              "      <td>NaN</td>\n",
              "      <td>NaN</td>\n",
              "      <td>NaN</td>\n",
              "      <td>NaN</td>\n",
              "      <td>NaN</td>\n",
              "      <td>NaN</td>\n",
              "      <td>NaN</td>\n",
              "      <td>18</td>\n",
              "      <td>2</td>\n",
              "      <td>bad</td>\n",
              "    </tr>\n",
              "    <tr>\n",
              "      <th>1</th>\n",
              "      <td>USW00014765</td>\n",
              "      <td>2005-01-02</td>\n",
              "      <td>36.0</td>\n",
              "      <td>28</td>\n",
              "      <td>44</td>\n",
              "      <td>9.40</td>\n",
              "      <td>14.1</td>\n",
              "      <td>NaN</td>\n",
              "      <td>NaN</td>\n",
              "      <td>NaN</td>\n",
              "      <td>NaN</td>\n",
              "      <td>NaN</td>\n",
              "      <td>NaN</td>\n",
              "      <td>NaN</td>\n",
              "      <td>NaN</td>\n",
              "      <td>NaN</td>\n",
              "      <td>NaN</td>\n",
              "      <td>NaN</td>\n",
              "      <td>NaN</td>\n",
              "      <td>NaN</td>\n",
              "      <td>NaN</td>\n",
              "      <td>1.0</td>\n",
              "      <td>NaN</td>\n",
              "      <td>1.0</td>\n",
              "      <td>NaN</td>\n",
              "      <td>NaN</td>\n",
              "      <td>NaN</td>\n",
              "      <td>16</td>\n",
              "      <td>2</td>\n",
              "      <td>bad</td>\n",
              "    </tr>\n",
              "  </tbody>\n",
              "</table>\n",
              "</div>"
            ],
            "text/plain": [
              "       STATION        DATE  TAVG  TMIN  ...  WT22  TDIFF  bad_conditions  rating\n",
              "0  USW00014765  2005-01-01  44.0    35  ...   NaN     18               2     bad\n",
              "1  USW00014765  2005-01-02  36.0    28  ...   NaN     16               2     bad\n",
              "\n",
              "[2 rows x 30 columns]"
            ]
          },
          "metadata": {
            "tags": []
          },
          "execution_count": 216
        }
      ]
    },
    {
      "cell_type": "code",
      "metadata": {
        "id": "KmFvcrfKdz39",
        "colab_type": "code",
        "colab": {
          "base_uri": "https://localhost:8080/",
          "height": 204
        },
        "outputId": "c648e26a-0034-43d6-be66-3a1b57afc71a"
      },
      "source": [
        "weather2 = weather[['DATE','rating']]\n",
        "weather2.head()"
      ],
      "execution_count": 217,
      "outputs": [
        {
          "output_type": "execute_result",
          "data": {
            "text/html": [
              "<div>\n",
              "<style scoped>\n",
              "    .dataframe tbody tr th:only-of-type {\n",
              "        vertical-align: middle;\n",
              "    }\n",
              "\n",
              "    .dataframe tbody tr th {\n",
              "        vertical-align: top;\n",
              "    }\n",
              "\n",
              "    .dataframe thead th {\n",
              "        text-align: right;\n",
              "    }\n",
              "</style>\n",
              "<table border=\"1\" class=\"dataframe\">\n",
              "  <thead>\n",
              "    <tr style=\"text-align: right;\">\n",
              "      <th></th>\n",
              "      <th>DATE</th>\n",
              "      <th>rating</th>\n",
              "    </tr>\n",
              "  </thead>\n",
              "  <tbody>\n",
              "    <tr>\n",
              "      <th>0</th>\n",
              "      <td>2005-01-01</td>\n",
              "      <td>bad</td>\n",
              "    </tr>\n",
              "    <tr>\n",
              "      <th>1</th>\n",
              "      <td>2005-01-02</td>\n",
              "      <td>bad</td>\n",
              "    </tr>\n",
              "    <tr>\n",
              "      <th>2</th>\n",
              "      <td>2005-01-03</td>\n",
              "      <td>bad</td>\n",
              "    </tr>\n",
              "    <tr>\n",
              "      <th>3</th>\n",
              "      <td>2005-01-04</td>\n",
              "      <td>bad</td>\n",
              "    </tr>\n",
              "    <tr>\n",
              "      <th>4</th>\n",
              "      <td>2005-01-05</td>\n",
              "      <td>bad</td>\n",
              "    </tr>\n",
              "  </tbody>\n",
              "</table>\n",
              "</div>"
            ],
            "text/plain": [
              "         DATE rating\n",
              "0  2005-01-01    bad\n",
              "1  2005-01-02    bad\n",
              "2  2005-01-03    bad\n",
              "3  2005-01-04    bad\n",
              "4  2005-01-05    bad"
            ]
          },
          "metadata": {
            "tags": []
          },
          "execution_count": 217
        }
      ]
    },
    {
      "cell_type": "code",
      "metadata": {
        "id": "-uYGOimeeT0Q",
        "colab_type": "code",
        "colab": {
          "base_uri": "https://localhost:8080/",
          "height": 244
        },
        "outputId": "b87eece9-1204-492b-c4da-aca7e40865c3"
      },
      "source": [
        "ri_weather = ri.join(weather2,  how='left') # Why is merge not working? .join() worked go figure\n",
        "# Set 'stop_datetime' as the index of 'ri_weather'\n",
        "ri_weather.set_index('date_and_time', inplace=True)\n",
        "ri_weather.head(3)"
      ],
      "execution_count": 224,
      "outputs": [
        {
          "output_type": "execute_result",
          "data": {
            "text/html": [
              "<div>\n",
              "<style scoped>\n",
              "    .dataframe tbody tr th:only-of-type {\n",
              "        vertical-align: middle;\n",
              "    }\n",
              "\n",
              "    .dataframe tbody tr th {\n",
              "        vertical-align: top;\n",
              "    }\n",
              "\n",
              "    .dataframe thead th {\n",
              "        text-align: right;\n",
              "    }\n",
              "</style>\n",
              "<table border=\"1\" class=\"dataframe\">\n",
              "  <thead>\n",
              "    <tr style=\"text-align: right;\">\n",
              "      <th></th>\n",
              "      <th>index</th>\n",
              "      <th>state</th>\n",
              "      <th>stop_date</th>\n",
              "      <th>stop_time</th>\n",
              "      <th>driver_gender</th>\n",
              "      <th>driver_race</th>\n",
              "      <th>violation_raw</th>\n",
              "      <th>violation</th>\n",
              "      <th>search_conducted</th>\n",
              "      <th>search_type</th>\n",
              "      <th>stop_outcome</th>\n",
              "      <th>is_arrested</th>\n",
              "      <th>stop_duration</th>\n",
              "      <th>drugs_related_stop</th>\n",
              "      <th>district</th>\n",
              "      <th>stop_length</th>\n",
              "      <th>DATE</th>\n",
              "      <th>rating</th>\n",
              "    </tr>\n",
              "    <tr>\n",
              "      <th>date_and_time</th>\n",
              "      <th></th>\n",
              "      <th></th>\n",
              "      <th></th>\n",
              "      <th></th>\n",
              "      <th></th>\n",
              "      <th></th>\n",
              "      <th></th>\n",
              "      <th></th>\n",
              "      <th></th>\n",
              "      <th></th>\n",
              "      <th></th>\n",
              "      <th></th>\n",
              "      <th></th>\n",
              "      <th></th>\n",
              "      <th></th>\n",
              "      <th></th>\n",
              "      <th></th>\n",
              "      <th></th>\n",
              "    </tr>\n",
              "  </thead>\n",
              "  <tbody>\n",
              "    <tr>\n",
              "      <th>2005-01-04 12:55:00</th>\n",
              "      <td>0</td>\n",
              "      <td>RI</td>\n",
              "      <td>2005/01/04</td>\n",
              "      <td>12:55</td>\n",
              "      <td>M</td>\n",
              "      <td>White</td>\n",
              "      <td>Equipment/Inspection Violation</td>\n",
              "      <td>Equipment</td>\n",
              "      <td>False</td>\n",
              "      <td>NaN</td>\n",
              "      <td>Citation</td>\n",
              "      <td>False</td>\n",
              "      <td>0-15 Min</td>\n",
              "      <td>False</td>\n",
              "      <td>Zone X4</td>\n",
              "      <td>short</td>\n",
              "      <td>2005-01-01</td>\n",
              "      <td>bad</td>\n",
              "    </tr>\n",
              "    <tr>\n",
              "      <th>2005-01-23 23:15:00</th>\n",
              "      <td>1</td>\n",
              "      <td>RI</td>\n",
              "      <td>2005/01/23</td>\n",
              "      <td>23:15</td>\n",
              "      <td>M</td>\n",
              "      <td>White</td>\n",
              "      <td>Speeding</td>\n",
              "      <td>Speeding</td>\n",
              "      <td>False</td>\n",
              "      <td>NaN</td>\n",
              "      <td>Citation</td>\n",
              "      <td>False</td>\n",
              "      <td>0-15 Min</td>\n",
              "      <td>False</td>\n",
              "      <td>Zone K3</td>\n",
              "      <td>short</td>\n",
              "      <td>2005-01-02</td>\n",
              "      <td>bad</td>\n",
              "    </tr>\n",
              "    <tr>\n",
              "      <th>2005-02-17 04:15:00</th>\n",
              "      <td>2</td>\n",
              "      <td>RI</td>\n",
              "      <td>2005/02/17</td>\n",
              "      <td>04:15</td>\n",
              "      <td>M</td>\n",
              "      <td>White</td>\n",
              "      <td>Speeding</td>\n",
              "      <td>Speeding</td>\n",
              "      <td>False</td>\n",
              "      <td>NaN</td>\n",
              "      <td>Citation</td>\n",
              "      <td>False</td>\n",
              "      <td>0-15 Min</td>\n",
              "      <td>False</td>\n",
              "      <td>Zone X4</td>\n",
              "      <td>short</td>\n",
              "      <td>2005-01-03</td>\n",
              "      <td>bad</td>\n",
              "    </tr>\n",
              "  </tbody>\n",
              "</table>\n",
              "</div>"
            ],
            "text/plain": [
              "                     index state   stop_date  ... stop_length        DATE rating\n",
              "date_and_time                                 ...                               \n",
              "2005-01-04 12:55:00      0    RI  2005/01/04  ...       short  2005-01-01    bad\n",
              "2005-01-23 23:15:00      1    RI  2005/01/23  ...       short  2005-01-02    bad\n",
              "2005-02-17 04:15:00      2    RI  2005/02/17  ...       short  2005-01-03    bad\n",
              "\n",
              "[3 rows x 18 columns]"
            ]
          },
          "metadata": {
            "tags": []
          },
          "execution_count": 224
        }
      ]
    },
    {
      "cell_type": "code",
      "metadata": {
        "id": "IUhqycQe4eZq",
        "colab_type": "code",
        "colab": {
          "base_uri": "https://localhost:8080/",
          "height": 340
        },
        "outputId": "ad8bcfa4-b673-4d85-9367-8d0c7d8e20a6"
      },
      "source": [
        "ri_weather.dtypes"
      ],
      "execution_count": 220,
      "outputs": [
        {
          "output_type": "execute_result",
          "data": {
            "text/plain": [
              "index                    int64\n",
              "state                   object\n",
              "stop_date               object\n",
              "stop_time               object\n",
              "driver_gender           object\n",
              "driver_race             object\n",
              "violation_raw           object\n",
              "violation               object\n",
              "search_conducted          bool\n",
              "search_type             object\n",
              "stop_outcome            object\n",
              "is_arrested               bool\n",
              "stop_duration           object\n",
              "drugs_related_stop        bool\n",
              "district                object\n",
              "stop_length           category\n",
              "DATE                    object\n",
              "rating                  object\n",
              "dtype: object"
            ]
          },
          "metadata": {
            "tags": []
          },
          "execution_count": 220
        }
      ]
    },
    {
      "cell_type": "code",
      "metadata": {
        "id": "ORYixV40eruX",
        "colab_type": "code",
        "colab": {
          "base_uri": "https://localhost:8080/",
          "height": 323
        },
        "outputId": "ce7b3b63-c2bf-4de6-bd66-13f310114755"
      },
      "source": [
        "ri_weather.isnull().sum()"
      ],
      "execution_count": 165,
      "outputs": [
        {
          "output_type": "execute_result",
          "data": {
            "text/plain": [
              "date_and_time             0\n",
              "state                     0\n",
              "stop_date                 0\n",
              "stop_time                 0\n",
              "driver_gender             0\n",
              "driver_race               0\n",
              "violation_raw             0\n",
              "violation                 0\n",
              "search_conducted          0\n",
              "search_type           83229\n",
              "stop_outcome              0\n",
              "is_arrested               0\n",
              "stop_duration             0\n",
              "drugs_related_stop        0\n",
              "district                  0\n",
              "DATE                  86536\n",
              "rating                86536\n",
              "dtype: int64"
            ]
          },
          "metadata": {
            "tags": []
          },
          "execution_count": 165
        }
      ]
    },
    {
      "cell_type": "markdown",
      "metadata": {
        "id": "_TXHtPDy2LeT",
        "colab_type": "text"
      },
      "source": [
        "### Does Weather Affect Arrest Rate?"
      ]
    },
    {
      "cell_type": "code",
      "metadata": {
        "id": "-9P2XOukfNBu",
        "colab_type": "code",
        "colab": {
          "base_uri": "https://localhost:8080/",
          "height": 255
        },
        "outputId": "1407fdda-b2cd-4b62-d0e5-02a152a7d97c"
      },
      "source": [
        "# Multi index series\n",
        "search_rate = ri.groupby(['violation',\n",
        "                          'driver_gender']).search_conducted.mean()\n",
        "\n",
        "search_rate"
      ],
      "execution_count": 226,
      "outputs": [
        {
          "output_type": "execute_result",
          "data": {
            "text/plain": [
              "violation            driver_gender\n",
              "Equipment            F                0.039984\n",
              "                     M                0.071496\n",
              "Moving violation     F                0.039257\n",
              "                     M                0.061524\n",
              "Other                F                0.041018\n",
              "                     M                0.046191\n",
              "Registration/plates  F                0.054924\n",
              "                     M                0.108802\n",
              "Seat belt            F                0.017301\n",
              "                     M                0.035119\n",
              "Speeding             F                0.008309\n",
              "                     M                0.027885\n",
              "Name: search_conducted, dtype: float64"
            ]
          },
          "metadata": {
            "tags": []
          },
          "execution_count": 226
        }
      ]
    },
    {
      "cell_type": "code",
      "metadata": {
        "id": "9ioJJaVL8RPj",
        "colab_type": "code",
        "colab": {
          "base_uri": "https://localhost:8080/",
          "height": 85
        },
        "outputId": "5df56375-cd7d-4b16-b51b-6a6350c87e63"
      },
      "source": [
        "# When working with multi index series, think of outer index as rows and inner index as columns\n",
        "search_rate.loc['Equipment']"
      ],
      "execution_count": 227,
      "outputs": [
        {
          "output_type": "execute_result",
          "data": {
            "text/plain": [
              "driver_gender\n",
              "F    0.039984\n",
              "M    0.071496\n",
              "Name: search_conducted, dtype: float64"
            ]
          },
          "metadata": {
            "tags": []
          },
          "execution_count": 227
        }
      ]
    },
    {
      "cell_type": "code",
      "metadata": {
        "id": "saBA1npw9wg5",
        "colab_type": "code",
        "colab": {
          "base_uri": "https://localhost:8080/",
          "height": 34
        },
        "outputId": "d3b318d3-e0cb-4827-d2ca-27db6f1f236f"
      },
      "source": [
        "search_rate.loc['Equipment','M']"
      ],
      "execution_count": 228,
      "outputs": [
        {
          "output_type": "execute_result",
          "data": {
            "text/plain": [
              "0.07149643705463182"
            ]
          },
          "metadata": {
            "tags": []
          },
          "execution_count": 228
        }
      ]
    },
    {
      "cell_type": "code",
      "metadata": {
        "id": "TJAeZKMY944W",
        "colab_type": "code",
        "colab": {
          "base_uri": "https://localhost:8080/",
          "height": 266
        },
        "outputId": "3043d49d-515c-425a-e14f-4ddf342ddfb1"
      },
      "source": [
        "# Use unstack() to create dataframe\n",
        "two_d = search_rate.unstack()\n",
        "two_d"
      ],
      "execution_count": 232,
      "outputs": [
        {
          "output_type": "execute_result",
          "data": {
            "text/html": [
              "<div>\n",
              "<style scoped>\n",
              "    .dataframe tbody tr th:only-of-type {\n",
              "        vertical-align: middle;\n",
              "    }\n",
              "\n",
              "    .dataframe tbody tr th {\n",
              "        vertical-align: top;\n",
              "    }\n",
              "\n",
              "    .dataframe thead th {\n",
              "        text-align: right;\n",
              "    }\n",
              "</style>\n",
              "<table border=\"1\" class=\"dataframe\">\n",
              "  <thead>\n",
              "    <tr style=\"text-align: right;\">\n",
              "      <th>driver_gender</th>\n",
              "      <th>F</th>\n",
              "      <th>M</th>\n",
              "    </tr>\n",
              "    <tr>\n",
              "      <th>violation</th>\n",
              "      <th></th>\n",
              "      <th></th>\n",
              "    </tr>\n",
              "  </thead>\n",
              "  <tbody>\n",
              "    <tr>\n",
              "      <th>Equipment</th>\n",
              "      <td>0.039984</td>\n",
              "      <td>0.071496</td>\n",
              "    </tr>\n",
              "    <tr>\n",
              "      <th>Moving violation</th>\n",
              "      <td>0.039257</td>\n",
              "      <td>0.061524</td>\n",
              "    </tr>\n",
              "    <tr>\n",
              "      <th>Other</th>\n",
              "      <td>0.041018</td>\n",
              "      <td>0.046191</td>\n",
              "    </tr>\n",
              "    <tr>\n",
              "      <th>Registration/plates</th>\n",
              "      <td>0.054924</td>\n",
              "      <td>0.108802</td>\n",
              "    </tr>\n",
              "    <tr>\n",
              "      <th>Seat belt</th>\n",
              "      <td>0.017301</td>\n",
              "      <td>0.035119</td>\n",
              "    </tr>\n",
              "    <tr>\n",
              "      <th>Speeding</th>\n",
              "      <td>0.008309</td>\n",
              "      <td>0.027885</td>\n",
              "    </tr>\n",
              "  </tbody>\n",
              "</table>\n",
              "</div>"
            ],
            "text/plain": [
              "driver_gender               F         M\n",
              "violation                              \n",
              "Equipment            0.039984  0.071496\n",
              "Moving violation     0.039257  0.061524\n",
              "Other                0.041018  0.046191\n",
              "Registration/plates  0.054924  0.108802\n",
              "Seat belt            0.017301  0.035119\n",
              "Speeding             0.008309  0.027885"
            ]
          },
          "metadata": {
            "tags": []
          },
          "execution_count": 232
        }
      ]
    },
    {
      "cell_type": "code",
      "metadata": {
        "id": "J5lw-Ee0-huS",
        "colab_type": "code",
        "colab": {
          "base_uri": "https://localhost:8080/",
          "height": 34
        },
        "outputId": "a173cc29-dad6-4c87-cf84-8993163a9ed5"
      },
      "source": [
        "type(two_d)"
      ],
      "execution_count": 234,
      "outputs": [
        {
          "output_type": "execute_result",
          "data": {
            "text/plain": [
              "pandas.core.frame.DataFrame"
            ]
          },
          "metadata": {
            "tags": []
          },
          "execution_count": 234
        }
      ]
    },
    {
      "cell_type": "code",
      "metadata": {
        "id": "e_fLBvGp-jo5",
        "colab_type": "code",
        "colab": {
          "base_uri": "https://localhost:8080/",
          "height": 266
        },
        "outputId": "2d403658-164c-40b5-c9c3-b0fb7d9662ab"
      },
      "source": [
        "# Or you can use a pivot table\n",
        "pivot = ri.pivot_table(index='violation', columns='driver_gender', values='search_conducted') # mean is default for pivot table\n",
        "pivot"
      ],
      "execution_count": 237,
      "outputs": [
        {
          "output_type": "execute_result",
          "data": {
            "text/html": [
              "<div>\n",
              "<style scoped>\n",
              "    .dataframe tbody tr th:only-of-type {\n",
              "        vertical-align: middle;\n",
              "    }\n",
              "\n",
              "    .dataframe tbody tr th {\n",
              "        vertical-align: top;\n",
              "    }\n",
              "\n",
              "    .dataframe thead th {\n",
              "        text-align: right;\n",
              "    }\n",
              "</style>\n",
              "<table border=\"1\" class=\"dataframe\">\n",
              "  <thead>\n",
              "    <tr style=\"text-align: right;\">\n",
              "      <th>driver_gender</th>\n",
              "      <th>F</th>\n",
              "      <th>M</th>\n",
              "    </tr>\n",
              "    <tr>\n",
              "      <th>violation</th>\n",
              "      <th></th>\n",
              "      <th></th>\n",
              "    </tr>\n",
              "  </thead>\n",
              "  <tbody>\n",
              "    <tr>\n",
              "      <th>Equipment</th>\n",
              "      <td>0.039984</td>\n",
              "      <td>0.071496</td>\n",
              "    </tr>\n",
              "    <tr>\n",
              "      <th>Moving violation</th>\n",
              "      <td>0.039257</td>\n",
              "      <td>0.061524</td>\n",
              "    </tr>\n",
              "    <tr>\n",
              "      <th>Other</th>\n",
              "      <td>0.041018</td>\n",
              "      <td>0.046191</td>\n",
              "    </tr>\n",
              "    <tr>\n",
              "      <th>Registration/plates</th>\n",
              "      <td>0.054924</td>\n",
              "      <td>0.108802</td>\n",
              "    </tr>\n",
              "    <tr>\n",
              "      <th>Seat belt</th>\n",
              "      <td>0.017301</td>\n",
              "      <td>0.035119</td>\n",
              "    </tr>\n",
              "    <tr>\n",
              "      <th>Speeding</th>\n",
              "      <td>0.008309</td>\n",
              "      <td>0.027885</td>\n",
              "    </tr>\n",
              "  </tbody>\n",
              "</table>\n",
              "</div>"
            ],
            "text/plain": [
              "driver_gender               F         M\n",
              "violation                              \n",
              "Equipment            0.039984  0.071496\n",
              "Moving violation     0.039257  0.061524\n",
              "Other                0.041018  0.046191\n",
              "Registration/plates  0.054924  0.108802\n",
              "Seat belt            0.017301  0.035119\n",
              "Speeding             0.008309  0.027885"
            ]
          },
          "metadata": {
            "tags": []
          },
          "execution_count": 237
        }
      ]
    },
    {
      "cell_type": "code",
      "metadata": {
        "id": "-6hUxxNB_jr1",
        "colab_type": "code",
        "colab": {
          "base_uri": "https://localhost:8080/",
          "height": 442
        },
        "outputId": "8f744e90-220a-4517-8c77-c83c5e46ac35"
      },
      "source": [
        "# Calculate the overall arrest rate\n",
        "print(ri_weather.is_arrested.mean())\n",
        "print()\n",
        "# Calculate the arrest rate for each 'rating'\n",
        "print(ri_weather.groupby('rating').is_arrested.mean())\n",
        "print()\n",
        "# Calculate the arrest rate for each 'violation' and 'rating'\n",
        "print(ri_weather.groupby(['violation', 'rating']).is_arrested.mean())"
      ],
      "execution_count": 239,
      "outputs": [
        {
          "output_type": "stream",
          "text": [
            "0.0355690117407784\n",
            "\n",
            "rating\n",
            "bad      0.062092\n",
            "good     0.055460\n",
            "worse    0.069444\n",
            "Name: is_arrested, dtype: float64\n",
            "\n",
            "violation            rating\n",
            "Equipment            bad       0.181818\n",
            "                     good      0.101010\n",
            "                     worse     0.291667\n",
            "Moving violation     bad       0.144000\n",
            "                     good      0.129032\n",
            "                     worse     0.188679\n",
            "Other                bad       0.406250\n",
            "                     good      0.217391\n",
            "                     worse     0.307692\n",
            "Registration/plates  bad       0.193548\n",
            "                     good      0.196970\n",
            "                     worse     0.375000\n",
            "Speeding             bad       0.022611\n",
            "                     good      0.027252\n",
            "                     worse     0.009202\n",
            "Name: is_arrested, dtype: float64\n"
          ],
          "name": "stdout"
        }
      ]
    },
    {
      "cell_type": "code",
      "metadata": {
        "id": "V5CcDio2B3fd",
        "colab_type": "code",
        "colab": {
          "base_uri": "https://localhost:8080/",
          "height": 714
        },
        "outputId": "4bc9dff8-1fe6-44a1-8d27-9958e9087e93"
      },
      "source": [
        "# Save the output of the groupby operation from the last exercise\n",
        "arrest_rate = ri_weather.groupby(['violation', 'rating']).is_arrested.mean()\n",
        "\n",
        "# Print the 'arrest_rate' Series\n",
        "print(arrest_rate)\n",
        "\n",
        "# Print the arrest rate for moving violations in bad weather\n",
        "print(arrest_rate.loc[:, 'bad'])\n",
        "\n",
        "# Print the arrest rates for speeding violations in all three weather conditions\n",
        "print(arrest_rate)"
      ],
      "execution_count": 240,
      "outputs": [
        {
          "output_type": "stream",
          "text": [
            "violation            rating\n",
            "Equipment            bad       0.181818\n",
            "                     good      0.101010\n",
            "                     worse     0.291667\n",
            "Moving violation     bad       0.144000\n",
            "                     good      0.129032\n",
            "                     worse     0.188679\n",
            "Other                bad       0.406250\n",
            "                     good      0.217391\n",
            "                     worse     0.307692\n",
            "Registration/plates  bad       0.193548\n",
            "                     good      0.196970\n",
            "                     worse     0.375000\n",
            "Speeding             bad       0.022611\n",
            "                     good      0.027252\n",
            "                     worse     0.009202\n",
            "Name: is_arrested, dtype: float64\n",
            "violation\n",
            "Equipment              0.181818\n",
            "Moving violation       0.144000\n",
            "Other                  0.406250\n",
            "Registration/plates    0.193548\n",
            "Speeding               0.022611\n",
            "Name: is_arrested, dtype: float64\n",
            "violation            rating\n",
            "Equipment            bad       0.181818\n",
            "                     good      0.101010\n",
            "                     worse     0.291667\n",
            "Moving violation     bad       0.144000\n",
            "                     good      0.129032\n",
            "                     worse     0.188679\n",
            "Other                bad       0.406250\n",
            "                     good      0.217391\n",
            "                     worse     0.307692\n",
            "Registration/plates  bad       0.193548\n",
            "                     good      0.196970\n",
            "                     worse     0.375000\n",
            "Speeding             bad       0.022611\n",
            "                     good      0.027252\n",
            "                     worse     0.009202\n",
            "Name: is_arrested, dtype: float64\n"
          ],
          "name": "stdout"
        }
      ]
    },
    {
      "cell_type": "code",
      "metadata": {
        "id": "oilG0Q1hCWdV",
        "colab_type": "code",
        "colab": {
          "base_uri": "https://localhost:8080/",
          "height": 34
        },
        "outputId": "459dcffe-f9c8-4b8f-ec80-4cfdb2b16029"
      },
      "source": [
        "# Print the arrest rate for moving violations in bad weather\n",
        "print(arrest_rate.loc['Moving violation', 'bad'])"
      ],
      "execution_count": 241,
      "outputs": [
        {
          "output_type": "stream",
          "text": [
            "0.144\n"
          ],
          "name": "stdout"
        }
      ]
    },
    {
      "cell_type": "code",
      "metadata": {
        "id": "f_w93kyICohv",
        "colab_type": "code",
        "colab": {
          "base_uri": "https://localhost:8080/",
          "height": 102
        },
        "outputId": "9cf56d56-b686-4b94-aff7-12b70755a678"
      },
      "source": [
        "# Print the arrest rates for speeding violations in all three weather conditions\n",
        "print(arrest_rate.loc['Speeding'])"
      ],
      "execution_count": 242,
      "outputs": [
        {
          "output_type": "stream",
          "text": [
            "rating\n",
            "bad      0.022611\n",
            "good     0.027252\n",
            "worse    0.009202\n",
            "Name: is_arrested, dtype: float64\n"
          ],
          "name": "stdout"
        }
      ]
    },
    {
      "cell_type": "code",
      "metadata": {
        "id": "uQz1wXUXC2fH",
        "colab_type": "code",
        "colab": {
          "base_uri": "https://localhost:8080/",
          "height": 255
        },
        "outputId": "f00829d0-dce2-4433-f2bf-59c447225334"
      },
      "source": [
        "# Unstack the 'arrest_rate' Series into a DataFrame\n",
        "print(arrest_rate.unstack())\n",
        "\n",
        "# Create the same DataFrame using a pivot table\n",
        "print(ri_weather.pivot_table(index='violation', columns='rating', values='is_arrested'))"
      ],
      "execution_count": 243,
      "outputs": [
        {
          "output_type": "stream",
          "text": [
            "rating                    bad      good     worse\n",
            "violation                                        \n",
            "Equipment            0.181818  0.101010  0.291667\n",
            "Moving violation     0.144000  0.129032  0.188679\n",
            "Other                0.406250  0.217391  0.307692\n",
            "Registration/plates  0.193548  0.196970  0.375000\n",
            "Speeding             0.022611  0.027252  0.009202\n",
            "rating                    bad      good     worse\n",
            "violation                                        \n",
            "Equipment            0.181818  0.101010  0.291667\n",
            "Moving violation     0.144000  0.129032  0.188679\n",
            "Other                0.406250  0.217391  0.307692\n",
            "Registration/plates  0.193548  0.196970  0.375000\n",
            "Speeding             0.022611  0.027252  0.009202\n"
          ],
          "name": "stdout"
        }
      ]
    },
    {
      "cell_type": "code",
      "metadata": {
        "id": "xiE0EUvOFjdB",
        "colab_type": "code",
        "colab": {}
      },
      "source": [
        ""
      ],
      "execution_count": 0,
      "outputs": []
    }
  ]
}