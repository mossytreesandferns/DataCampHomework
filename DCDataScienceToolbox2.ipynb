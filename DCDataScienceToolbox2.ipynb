{
  "nbformat": 4,
  "nbformat_minor": 0,
  "metadata": {
    "colab": {
      "name": "DCDataScienceToolbox2.ipynb",
      "provenance": [],
      "collapsed_sections": [
        "D9XpTESF9sO7",
        "KgYicHY5Cbah",
        "sM6fOqGlF3BK",
        "zjBUdkd5ez1G",
        "icaCAv-2e2OX",
        "N-NZRHlToMm4",
        "JF49RL9yZGUC"
      ],
      "authorship_tag": "ABX9TyMAL0KZKP4gePk1faQysuJb",
      "include_colab_link": true
    },
    "kernelspec": {
      "name": "python3",
      "display_name": "Python 3"
    }
  },
  "cells": [
    {
      "cell_type": "markdown",
      "metadata": {
        "id": "view-in-github",
        "colab_type": "text"
      },
      "source": [
        "<a href=\"https://colab.research.google.com/github/mossytreesandferns/DataCampHomework/blob/master/DCDataScienceToolbox2.ipynb\" target=\"_parent\"><img src=\"https://colab.research.google.com/assets/colab-badge.svg\" alt=\"Open In Colab\"/></a>"
      ]
    },
    {
      "cell_type": "code",
      "metadata": {
        "id": "voXlbFrosMQ2",
        "colab_type": "code",
        "outputId": "df1e6e85-da9a-4a76-9b75-fec71155e558",
        "colab": {
          "base_uri": "https://localhost:8080/",
          "height": 122
        }
      },
      "source": [
        "#Mount my drive- run the code, go to the link, accept.\n",
        "from google.colab import drive\n",
        "drive.mount('/content/gdrive')"
      ],
      "execution_count": 1,
      "outputs": [
        {
          "output_type": "stream",
          "text": [
            "Go to this URL in a browser: https://accounts.google.com/o/oauth2/auth?client_id=947318989803-6bn6qk8qdgf4n4g3pfee6491hc0brc4i.apps.googleusercontent.com&redirect_uri=urn%3aietf%3awg%3aoauth%3a2.0%3aoob&response_type=code&scope=email%20https%3a%2f%2fwww.googleapis.com%2fauth%2fdocs.test%20https%3a%2f%2fwww.googleapis.com%2fauth%2fdrive%20https%3a%2f%2fwww.googleapis.com%2fauth%2fdrive.photos.readonly%20https%3a%2f%2fwww.googleapis.com%2fauth%2fpeopleapi.readonly\n",
            "\n",
            "Enter your authorization code:\n",
            "··········\n",
            "Mounted at /content/gdrive\n"
          ],
          "name": "stdout"
        }
      ]
    },
    {
      "cell_type": "code",
      "metadata": {
        "id": "11KgCIPgsPRm",
        "colab_type": "code",
        "outputId": "5d8cb3eb-89eb-4807-bf33-9c3320f1eb15",
        "colab": {
          "base_uri": "https://localhost:8080/",
          "height": 34
        }
      },
      "source": [
        "#Change working directory to make it easier to access the files\n",
        "import os\n",
        "os.chdir(\"/content/gdrive/My Drive/Colab Notebooks/\")\n",
        "os.getcwd()"
      ],
      "execution_count": 2,
      "outputs": [
        {
          "output_type": "execute_result",
          "data": {
            "text/plain": [
              "'/content/gdrive/My Drive/Colab Notebooks'"
            ]
          },
          "metadata": {
            "tags": []
          },
          "execution_count": 2
        }
      ]
    },
    {
      "cell_type": "markdown",
      "metadata": {
        "id": "DF79jdBMsQAF",
        "colab_type": "text"
      },
      "source": [
        "# Python Data Science Toolbox II"
      ]
    },
    {
      "cell_type": "markdown",
      "metadata": {
        "id": "e2z3zWZusp_m",
        "colab_type": "text"
      },
      "source": [
        "# Intro to Iterators"
      ]
    },
    {
      "cell_type": "markdown",
      "metadata": {
        "id": "aJjPKmlUyQO4",
        "colab_type": "text"
      },
      "source": [
        "#### using the iter() object.\\"
      ]
    },
    {
      "cell_type": "code",
      "metadata": {
        "id": "n3geP0UOsmEI",
        "colab_type": "code",
        "outputId": "ce2fa9a0-a1c7-4177-cf5b-fc45283192d6",
        "colab": {
          "base_uri": "https://localhost:8080/",
          "height": 34
        }
      },
      "source": [
        "w = 'word'\n",
        "x = iter(w)\n",
        "next(x) # have to go through one at a time, doing all four at once prints 'd'\n",
        "\n"
      ],
      "execution_count": 3,
      "outputs": [
        {
          "output_type": "execute_result",
          "data": {
            "text/plain": [
              "'w'"
            ]
          },
          "metadata": {
            "tags": []
          },
          "execution_count": 3
        }
      ]
    },
    {
      "cell_type": "code",
      "metadata": {
        "id": "k2dXdK1py0fz",
        "colab_type": "code",
        "outputId": "d4a964ff-ca49-4eda-cd2a-f00d657ac4e5",
        "colab": {
          "base_uri": "https://localhost:8080/",
          "height": 34
        }
      },
      "source": [
        "next(x)\n"
      ],
      "execution_count": 0,
      "outputs": [
        {
          "output_type": "execute_result",
          "data": {
            "text/plain": [
              "'o'"
            ]
          },
          "metadata": {
            "tags": []
          },
          "execution_count": 6
        }
      ]
    },
    {
      "cell_type": "code",
      "metadata": {
        "id": "_vE9hKYhzCdY",
        "colab_type": "code",
        "outputId": "8c09ba43-b583-4c8e-cec5-0126470bfc4c",
        "colab": {
          "base_uri": "https://localhost:8080/",
          "height": 34
        }
      },
      "source": [
        "next(x)\n"
      ],
      "execution_count": 0,
      "outputs": [
        {
          "output_type": "execute_result",
          "data": {
            "text/plain": [
              "'r'"
            ]
          },
          "metadata": {
            "tags": []
          },
          "execution_count": 7
        }
      ]
    },
    {
      "cell_type": "code",
      "metadata": {
        "id": "eKOgBUVUzCgg",
        "colab_type": "code",
        "outputId": "e391b435-db23-43a3-9477-3fb943ba64f9",
        "colab": {
          "base_uri": "https://localhost:8080/",
          "height": 34
        }
      },
      "source": [
        "next(x)"
      ],
      "execution_count": 0,
      "outputs": [
        {
          "output_type": "execute_result",
          "data": {
            "text/plain": [
              "'d'"
            ]
          },
          "metadata": {
            "tags": []
          },
          "execution_count": 8
        }
      ]
    },
    {
      "cell_type": "code",
      "metadata": {
        "id": "BpRwk9OizCkQ",
        "colab_type": "code",
        "outputId": "b12453a5-fe0a-4565-ab32-3a02b86981f3",
        "colab": {
          "base_uri": "https://localhost:8080/",
          "height": 164
        }
      },
      "source": [
        "next(x)"
      ],
      "execution_count": 0,
      "outputs": [
        {
          "output_type": "error",
          "ename": "StopIteration",
          "evalue": "ignored",
          "traceback": [
            "\u001b[0;31m---------------------------------------------------------------------------\u001b[0m",
            "\u001b[0;31mStopIteration\u001b[0m                             Traceback (most recent call last)",
            "\u001b[0;32m<ipython-input-9-92de4e9f6b1e>\u001b[0m in \u001b[0;36m<module>\u001b[0;34m()\u001b[0m\n\u001b[0;32m----> 1\u001b[0;31m \u001b[0mnext\u001b[0m\u001b[0;34m(\u001b[0m\u001b[0mx\u001b[0m\u001b[0;34m)\u001b[0m\u001b[0;34m\u001b[0m\u001b[0;34m\u001b[0m\u001b[0m\n\u001b[0m",
            "\u001b[0;31mStopIteration\u001b[0m: "
          ]
        }
      ]
    },
    {
      "cell_type": "code",
      "metadata": {
        "id": "D12OoRLzzHbw",
        "colab_type": "code",
        "outputId": "fe42e3ea-e986-4314-8b55-023387b1a65e",
        "colab": {
          "base_uri": "https://localhost:8080/",
          "height": 34
        }
      },
      "source": [
        "w = 'word'\n",
        "x = iter(w)\n",
        "print(*x)"
      ],
      "execution_count": 0,
      "outputs": [
        {
          "output_type": "stream",
          "text": [
            "w o r d\n"
          ],
          "name": "stdout"
        }
      ]
    },
    {
      "cell_type": "code",
      "metadata": {
        "id": "Qf4pssnmzQbG",
        "colab_type": "code",
        "outputId": "a2fb03ed-e731-46df-a0ec-8f22fac0675e",
        "colab": {
          "base_uri": "https://localhost:8080/",
          "height": 68
        }
      },
      "source": [
        "diction = {'key':'value','one':'eleven','two':'twenty two'}\n",
        "for k, v in diction.items():\n",
        "  print(k,v)"
      ],
      "execution_count": 0,
      "outputs": [
        {
          "output_type": "stream",
          "text": [
            "key value\n",
            "one eleven\n",
            "two twenty two\n"
          ],
          "name": "stdout"
        }
      ]
    },
    {
      "cell_type": "code",
      "metadata": {
        "id": "EpaBzJfqzzlP",
        "colab_type": "code",
        "outputId": "0ac77d67-ee52-4e86-bbdf-0984eaf5a9ef",
        "colab": {
          "base_uri": "https://localhost:8080/",
          "height": 215
        }
      },
      "source": [
        "\"\"\"Code for printing over txt files\"\"\"\n",
        "file = open(filename.txt)\n",
        "it = iter(file)\n",
        "print(next(it))"
      ],
      "execution_count": 0,
      "outputs": [
        {
          "output_type": "error",
          "ename": "NameError",
          "evalue": "ignored",
          "traceback": [
            "\u001b[0;31m---------------------------------------------------------------------------\u001b[0m",
            "\u001b[0;31mNameError\u001b[0m                                 Traceback (most recent call last)",
            "\u001b[0;32m<ipython-input-14-ef1885d86266>\u001b[0m in \u001b[0;36m<module>\u001b[0;34m()\u001b[0m\n\u001b[1;32m      1\u001b[0m \u001b[0;34m\"\"\"Code for printing over txt files\"\"\"\u001b[0m\u001b[0;34m\u001b[0m\u001b[0;34m\u001b[0m\u001b[0m\n\u001b[0;32m----> 2\u001b[0;31m \u001b[0mfile\u001b[0m \u001b[0;34m=\u001b[0m \u001b[0mopen\u001b[0m\u001b[0;34m(\u001b[0m\u001b[0mfilename\u001b[0m\u001b[0;34m.\u001b[0m\u001b[0mtxt\u001b[0m\u001b[0;34m)\u001b[0m\u001b[0;34m\u001b[0m\u001b[0;34m\u001b[0m\u001b[0m\n\u001b[0m\u001b[1;32m      3\u001b[0m \u001b[0mit\u001b[0m \u001b[0;34m=\u001b[0m \u001b[0miter\u001b[0m\u001b[0;34m(\u001b[0m\u001b[0mfile\u001b[0m\u001b[0;34m)\u001b[0m\u001b[0;34m\u001b[0m\u001b[0;34m\u001b[0m\u001b[0m\n\u001b[1;32m      4\u001b[0m \u001b[0mprint\u001b[0m\u001b[0;34m(\u001b[0m\u001b[0mnext\u001b[0m\u001b[0;34m(\u001b[0m\u001b[0mit\u001b[0m\u001b[0;34m)\u001b[0m\u001b[0;34m)\u001b[0m\u001b[0;34m\u001b[0m\u001b[0;34m\u001b[0m\u001b[0m\n",
            "\u001b[0;31mNameError\u001b[0m: name 'filename' is not defined"
          ]
        }
      ]
    },
    {
      "cell_type": "code",
      "metadata": {
        "id": "ZOl-WkjQ0MAk",
        "colab_type": "code",
        "colab": {}
      },
      "source": [
        "print(next(it))"
      ],
      "execution_count": 0,
      "outputs": []
    },
    {
      "cell_type": "code",
      "metadata": {
        "id": "Niy5zpSL0qmy",
        "colab_type": "code",
        "outputId": "bdc8c770-5f97-4ec1-fcbb-4cf00b4278d9",
        "colab": {
          "base_uri": "https://localhost:8080/",
          "height": 85
        }
      },
      "source": [
        "flash = ['jay garrick', 'barry allen', 'wally west', 'bart allen']\n",
        "for item in flash:\n",
        "  print(item)"
      ],
      "execution_count": 0,
      "outputs": [
        {
          "output_type": "stream",
          "text": [
            "jay garrick\n",
            "barry allen\n",
            "wally west\n",
            "bart allen\n"
          ],
          "name": "stdout"
        }
      ]
    },
    {
      "cell_type": "code",
      "metadata": {
        "id": "3KZzRsfw0yQS",
        "colab_type": "code",
        "outputId": "f7c77338-9f92-48f9-cb61-76dd6558f248",
        "colab": {
          "base_uri": "https://localhost:8080/",
          "height": 85
        }
      },
      "source": [
        "flash = ['jay garrick', 'barry allen', 'wally west', 'bart allen']\n",
        "it = iter(flash)\n",
        "print(next(it))\n",
        "print(next(it))\n",
        "print(next(it))\n",
        "print(next(it))"
      ],
      "execution_count": 0,
      "outputs": [
        {
          "output_type": "stream",
          "text": [
            "jay garrick\n",
            "barry allen\n",
            "wally west\n",
            "bart allen\n"
          ],
          "name": "stdout"
        }
      ]
    },
    {
      "cell_type": "code",
      "metadata": {
        "id": "fP-qS_Gz1B5n",
        "colab_type": "code",
        "outputId": "ce9ed031-41fe-4cd3-b9d3-867a39f5e07b",
        "colab": {
          "base_uri": "https://localhost:8080/",
          "height": 34
        }
      },
      "source": [
        "flash = ['jay garrick', 'barry allen', 'wally west', 'bart allen']\n",
        "it = iter(flash)\n",
        "next(it)\n",
        "next(it)\n",
        "next(it)\n",
        "next(it)"
      ],
      "execution_count": 0,
      "outputs": [
        {
          "output_type": "execute_result",
          "data": {
            "text/plain": [
              "'bart allen'"
            ]
          },
          "metadata": {
            "tags": []
          },
          "execution_count": 17
        }
      ]
    },
    {
      "cell_type": "code",
      "metadata": {
        "id": "zRalGKLq1Jv1",
        "colab_type": "code",
        "outputId": "14a24306-065f-4f1e-cab8-c5ff306ca6bc",
        "colab": {
          "base_uri": "https://localhost:8080/",
          "height": 249
        }
      },
      "source": [
        "small_object = range(3)\n",
        "it = iter(small_object)\n",
        "print(next(it))\n",
        "print(next(it))\n",
        "print(next(it))\n",
        "print(next(it))"
      ],
      "execution_count": 0,
      "outputs": [
        {
          "output_type": "stream",
          "text": [
            "0\n",
            "1\n",
            "2\n"
          ],
          "name": "stdout"
        },
        {
          "output_type": "error",
          "ename": "StopIteration",
          "evalue": "ignored",
          "traceback": [
            "\u001b[0;31m---------------------------------------------------------------------------\u001b[0m",
            "\u001b[0;31mStopIteration\u001b[0m                             Traceback (most recent call last)",
            "\u001b[0;32m<ipython-input-20-d7a71bb283c3>\u001b[0m in \u001b[0;36m<module>\u001b[0;34m()\u001b[0m\n\u001b[1;32m      4\u001b[0m \u001b[0mprint\u001b[0m\u001b[0;34m(\u001b[0m\u001b[0mnext\u001b[0m\u001b[0;34m(\u001b[0m\u001b[0mit\u001b[0m\u001b[0;34m)\u001b[0m\u001b[0;34m)\u001b[0m\u001b[0;34m\u001b[0m\u001b[0;34m\u001b[0m\u001b[0m\n\u001b[1;32m      5\u001b[0m \u001b[0mprint\u001b[0m\u001b[0;34m(\u001b[0m\u001b[0mnext\u001b[0m\u001b[0;34m(\u001b[0m\u001b[0mit\u001b[0m\u001b[0;34m)\u001b[0m\u001b[0;34m)\u001b[0m\u001b[0;34m\u001b[0m\u001b[0;34m\u001b[0m\u001b[0m\n\u001b[0;32m----> 6\u001b[0;31m \u001b[0mprint\u001b[0m\u001b[0;34m(\u001b[0m\u001b[0mnext\u001b[0m\u001b[0;34m(\u001b[0m\u001b[0mit\u001b[0m\u001b[0;34m)\u001b[0m\u001b[0;34m)\u001b[0m\u001b[0;34m\u001b[0m\u001b[0;34m\u001b[0m\u001b[0m\n\u001b[0m",
            "\u001b[0;31mStopIteration\u001b[0m: "
          ]
        }
      ]
    },
    {
      "cell_type": "code",
      "metadata": {
        "id": "xQ37TNcI2D9x",
        "colab_type": "code",
        "outputId": "db5a3b0f-4274-410c-f2b9-5ae01656f930",
        "colab": {
          "base_uri": "https://localhost:8080/",
          "height": 221
        }
      },
      "source": [
        "googol = range(10**10000)\n",
        "it = iter(googol)\n",
        "print(next(it))\n",
        "print(next(it))\n",
        "print(next(it))\n",
        "print(next(it))\n",
        "print(next(it))\n",
        "print(next(it))\n",
        "print(next(it))\n",
        "print(next(it))\n",
        "print(next(it))\n",
        "print(next(it))\n",
        "print(next(it))\n",
        "print(next(it))"
      ],
      "execution_count": 0,
      "outputs": [
        {
          "output_type": "stream",
          "text": [
            "0\n",
            "1\n",
            "2\n",
            "3\n",
            "4\n",
            "5\n",
            "6\n",
            "7\n",
            "8\n",
            "9\n",
            "10\n",
            "11\n"
          ],
          "name": "stdout"
        }
      ]
    },
    {
      "cell_type": "code",
      "metadata": {
        "id": "9BtxFUWN2d_B",
        "colab_type": "code",
        "outputId": "88401345-2eaf-4be0-e71c-9c294a5e4602",
        "colab": {
          "base_uri": "https://localhost:8080/",
          "height": 34
        }
      },
      "source": [
        "values = range(10,21)\n",
        "values_list = list(values)\n",
        "values_sum = sum(values_list)\n",
        "values_sum"
      ],
      "execution_count": 0,
      "outputs": [
        {
          "output_type": "execute_result",
          "data": {
            "text/plain": [
              "165"
            ]
          },
          "metadata": {
            "tags": []
          },
          "execution_count": 22
        }
      ]
    },
    {
      "cell_type": "markdown",
      "metadata": {
        "id": "D9XpTESF9sO7",
        "colab_type": "text"
      },
      "source": [
        "### More iterators"
      ]
    },
    {
      "cell_type": "code",
      "metadata": {
        "id": "u9K0dTC93P7q",
        "colab_type": "code",
        "colab": {}
      },
      "source": [
        "mutants = ['charles xavier', \n",
        "            'bobby drake', \n",
        "            'kurt wagner', \n",
        "            'max eisenhardt', \n",
        "            'kitty pryde']\n"
      ],
      "execution_count": 0,
      "outputs": []
    },
    {
      "cell_type": "code",
      "metadata": {
        "id": "SINjxR9c-Q2m",
        "colab_type": "code",
        "outputId": "cdaa7ab5-d05f-444c-9571-cc6844973ebd",
        "colab": {
          "base_uri": "https://localhost:8080/",
          "height": 102
        }
      },
      "source": [
        "mutant_list = list(enumerate(mutants))\n",
        "mutant_list"
      ],
      "execution_count": 0,
      "outputs": [
        {
          "output_type": "execute_result",
          "data": {
            "text/plain": [
              "[(0, 'charles xavier'),\n",
              " (1, 'bobby drake'),\n",
              " (2, 'kurt wagner'),\n",
              " (3, 'max eisenhardt'),\n",
              " (4, 'kitty pryde')]"
            ]
          },
          "metadata": {
            "tags": []
          },
          "execution_count": 24
        }
      ]
    },
    {
      "cell_type": "code",
      "metadata": {
        "id": "6KK9qFN4-ncg",
        "colab_type": "code",
        "outputId": "09b5ad35-04ea-44cc-93db-bc34b3b68373",
        "colab": {
          "base_uri": "https://localhost:8080/",
          "height": 102
        }
      },
      "source": [
        "for index, value in enumerate(mutants):\n",
        "  print(index, value)"
      ],
      "execution_count": 0,
      "outputs": [
        {
          "output_type": "stream",
          "text": [
            "0 charles xavier\n",
            "1 bobby drake\n",
            "2 kurt wagner\n",
            "3 max eisenhardt\n",
            "4 kitty pryde\n"
          ],
          "name": "stdout"
        }
      ]
    },
    {
      "cell_type": "code",
      "metadata": {
        "id": "PIf9M9EO_LT1",
        "colab_type": "code",
        "outputId": "617c0128-e8e4-443b-cc49-6a51245be20b",
        "colab": {
          "base_uri": "https://localhost:8080/",
          "height": 102
        }
      },
      "source": [
        "for index, value in enumerate(mutants, start=11):\n",
        "  print(index, value)"
      ],
      "execution_count": 0,
      "outputs": [
        {
          "output_type": "stream",
          "text": [
            "11 charles xavier\n",
            "12 bobby drake\n",
            "13 kurt wagner\n",
            "14 max eisenhardt\n",
            "15 kitty pryde\n"
          ],
          "name": "stdout"
        }
      ]
    },
    {
      "cell_type": "code",
      "metadata": {
        "id": "t5xN1tmg_WiE",
        "colab_type": "code",
        "colab": {}
      },
      "source": [
        "cats = ['Isabelle','Chardonnay','Champagne']\n",
        "dogs = ['Ralphie','Dancer','BamBam']\n",
        "snakes = ['Terry','Teri','Terri']"
      ],
      "execution_count": 0,
      "outputs": []
    },
    {
      "cell_type": "code",
      "metadata": {
        "id": "IrGKkflkAcNn",
        "colab_type": "code",
        "outputId": "7638de57-7a4b-4d88-899d-5ef1a29b8237",
        "colab": {
          "base_uri": "https://localhost:8080/",
          "height": 34
        }
      },
      "source": [
        "cd = zip(cats, dogs)\n",
        "list(cd)"
      ],
      "execution_count": 0,
      "outputs": [
        {
          "output_type": "execute_result",
          "data": {
            "text/plain": [
              "[('Isabelle', 'Ralphie'), ('Chardonnay', 'Dancer'), ('Champagne', 'BamBam')]"
            ]
          },
          "metadata": {
            "tags": []
          },
          "execution_count": 29
        }
      ]
    },
    {
      "cell_type": "code",
      "metadata": {
        "id": "u0YJ-BvHAmaU",
        "colab_type": "code",
        "outputId": "1f91ec92-f767-4ccd-da75-cc9fa8da3833",
        "colab": {
          "base_uri": "https://localhost:8080/",
          "height": 34
        }
      },
      "source": [
        "cds = zip(cats, dogs, snakes)\n",
        "print(list(cds))"
      ],
      "execution_count": 0,
      "outputs": [
        {
          "output_type": "stream",
          "text": [
            "[('Isabelle', 'Ralphie', 'Terry'), ('Chardonnay', 'Dancer', 'Teri'), ('Champagne', 'BamBam', 'Terri')]\n"
          ],
          "name": "stdout"
        }
      ]
    },
    {
      "cell_type": "code",
      "metadata": {
        "id": "IEWX42XjAw7y",
        "colab_type": "code",
        "outputId": "84ee5ce2-8167-4376-87e9-dcf28b6c809b",
        "colab": {
          "base_uri": "https://localhost:8080/",
          "height": 68
        }
      },
      "source": [
        "for cat, dog, snake in zip(cats,dogs,snakes):\n",
        "  print(cat, dog, snake)"
      ],
      "execution_count": 0,
      "outputs": [
        {
          "output_type": "stream",
          "text": [
            "Isabelle Ralphie Terry\n",
            "Chardonnay Dancer Teri\n",
            "Champagne BamBam Terri\n"
          ],
          "name": "stdout"
        }
      ]
    },
    {
      "cell_type": "code",
      "metadata": {
        "id": "JD6xhtatBu3c",
        "colab_type": "code",
        "outputId": "7783dfb6-5fca-43ad-d20a-d0acebdceff2",
        "colab": {
          "base_uri": "https://localhost:8080/",
          "height": 68
        }
      },
      "source": [
        "cds = zip(cats, dogs, snakes)\n",
        "for cat, dog, snake in cds:\n",
        "  print(cat, dog, snake)"
      ],
      "execution_count": 0,
      "outputs": [
        {
          "output_type": "stream",
          "text": [
            "Isabelle Ralphie Terry\n",
            "Chardonnay Dancer Teri\n",
            "Champagne BamBam Terri\n"
          ],
          "name": "stdout"
        }
      ]
    },
    {
      "cell_type": "code",
      "metadata": {
        "id": "bG6HHgUjA68E",
        "colab_type": "code",
        "outputId": "00318438-df83-42cd-c29b-b229d214a15c",
        "colab": {
          "base_uri": "https://localhost:8080/",
          "height": 34
        }
      },
      "source": [
        "cds = zip(cats, dogs, snakes)\n",
        "print(*cds)"
      ],
      "execution_count": 0,
      "outputs": [
        {
          "output_type": "stream",
          "text": [
            "('Isabelle', 'Ralphie', 'Terry') ('Chardonnay', 'Dancer', 'Teri') ('Champagne', 'BamBam', 'Terri')\n"
          ],
          "name": "stdout"
        }
      ]
    },
    {
      "cell_type": "markdown",
      "metadata": {
        "id": "KgYicHY5Cbah",
        "colab_type": "text"
      },
      "source": [
        "#### Undoing a zip."
      ]
    },
    {
      "cell_type": "code",
      "metadata": {
        "id": "s3qeVaKdBmnp",
        "colab_type": "code",
        "outputId": "41bb04a0-ff91-4fa4-9ce6-3063129036af",
        "colab": {
          "base_uri": "https://localhost:8080/",
          "height": 34
        }
      },
      "source": [
        "cats = ['Isabelle','Chardonnay','Champagne']\n",
        "dogs = ['Ralphie','Dancer','BamBam']\n",
        "cd = zip(cats, dogs)\n",
        "print(*cd)"
      ],
      "execution_count": 0,
      "outputs": [
        {
          "output_type": "stream",
          "text": [
            "('Isabelle', 'Ralphie') ('Chardonnay', 'Dancer') ('Champagne', 'BamBam')\n"
          ],
          "name": "stdout"
        }
      ]
    },
    {
      "cell_type": "code",
      "metadata": {
        "id": "LpngyBfHClEq",
        "colab_type": "code",
        "colab": {}
      },
      "source": [
        "cd = zip(cats, dogs)"
      ],
      "execution_count": 0,
      "outputs": []
    },
    {
      "cell_type": "code",
      "metadata": {
        "id": "qmx4Z3X_DHGU",
        "colab_type": "code",
        "outputId": "841da529-f7b4-4aaf-c239-e87a85cf165e",
        "colab": {
          "base_uri": "https://localhost:8080/",
          "height": 34
        }
      },
      "source": [
        "unzip = list(zip(*cd))\n",
        "cats2 = unzip[0]\n",
        "dogs2 = unzip[1]\n",
        "cats2"
      ],
      "execution_count": 0,
      "outputs": [
        {
          "output_type": "execute_result",
          "data": {
            "text/plain": [
              "('Isabelle', 'Chardonnay', 'Champagne')"
            ]
          },
          "metadata": {
            "tags": []
          },
          "execution_count": 53
        }
      ]
    },
    {
      "cell_type": "code",
      "metadata": {
        "id": "MbMrTg46EC47",
        "colab_type": "code",
        "outputId": "9b8dd6bb-6f02-4613-d778-57134c76b2c6",
        "colab": {
          "base_uri": "https://localhost:8080/",
          "height": 34
        }
      },
      "source": [
        "cats2"
      ],
      "execution_count": 0,
      "outputs": [
        {
          "output_type": "execute_result",
          "data": {
            "text/plain": [
              "('Isabelle', 'Chardonnay', 'Champagne')"
            ]
          },
          "metadata": {
            "tags": []
          },
          "execution_count": 54
        }
      ]
    },
    {
      "cell_type": "code",
      "metadata": {
        "id": "g-4nvIfHE6to",
        "colab_type": "code",
        "outputId": "76149eb6-4788-4974-edc0-6efe9e85e3b0",
        "colab": {
          "base_uri": "https://localhost:8080/",
          "height": 34
        }
      },
      "source": [
        "dogs2"
      ],
      "execution_count": 0,
      "outputs": [
        {
          "output_type": "execute_result",
          "data": {
            "text/plain": [
              "('Ralphie', 'Dancer', 'BamBam')"
            ]
          },
          "metadata": {
            "tags": []
          },
          "execution_count": 55
        }
      ]
    },
    {
      "cell_type": "markdown",
      "metadata": {
        "id": "sM6fOqGlF3BK",
        "colab_type": "text"
      },
      "source": [
        "### Using Iterators to Load Large Files into Memory"
      ]
    },
    {
      "cell_type": "code",
      "metadata": {
        "id": "qNMpAp-rOykj",
        "colab_type": "code",
        "colab": {}
      },
      "source": [
        "import pandas as pd"
      ],
      "execution_count": 0,
      "outputs": []
    },
    {
      "cell_type": "code",
      "metadata": {
        "id": "0v1PfEv2FhTt",
        "colab_type": "code",
        "outputId": "09c43a3d-ca62-486a-aed7-a076140571aa",
        "colab": {
          "base_uri": "https://localhost:8080/",
          "height": 34
        }
      },
      "source": [
        "counts_dict = {}\n",
        "for chunk in pd.read_csv('tweets.csv', chunksize=10):\n",
        "  for entry in chunk['lang']:\n",
        "    if entry in counts_dict.keys():\n",
        "      counts_dict[entry] += 1\n",
        "    else:\n",
        "      counts_dict[entry] = 1  \n",
        "counts_dict      "
      ],
      "execution_count": 0,
      "outputs": [
        {
          "output_type": "execute_result",
          "data": {
            "text/plain": [
              "{'en': 97, 'et': 1, 'und': 2}"
            ]
          },
          "metadata": {
            "tags": []
          },
          "execution_count": 62
        }
      ]
    },
    {
      "cell_type": "code",
      "metadata": {
        "id": "JtR6cRVrOxL9",
        "colab_type": "code",
        "outputId": "cdad7290-04cd-4c12-d49c-8d8b8d5297d5",
        "colab": {
          "base_uri": "https://localhost:8080/",
          "height": 34
        }
      },
      "source": [
        "def count_entries(csv_file, c_size, col_name):\n",
        "  counts_dict = {}\n",
        "  for chunk in pd.read_csv(csv_file, chunksize=c_size):\n",
        "    for entry in chunk[col_name]:\n",
        "      if entry in counts_dict.keys():\n",
        "        counts_dict[entry] += 1\n",
        "      else:\n",
        "        counts_dict[entry] = 1 \n",
        "  return counts_dict     \n",
        "\n",
        "count_entries('tweets.csv',10,'lang')         \n"
      ],
      "execution_count": 0,
      "outputs": [
        {
          "output_type": "execute_result",
          "data": {
            "text/plain": [
              "{'en': 97, 'et': 1, 'und': 2}"
            ]
          },
          "metadata": {
            "tags": []
          },
          "execution_count": 64
        }
      ]
    },
    {
      "cell_type": "markdown",
      "metadata": {
        "id": "__EVJwwdRt1J",
        "colab_type": "text"
      },
      "source": [
        "# List Comprehensions"
      ]
    },
    {
      "cell_type": "markdown",
      "metadata": {
        "id": "zjBUdkd5ez1G",
        "colab_type": "text"
      },
      "source": [
        "### Intro"
      ]
    },
    {
      "cell_type": "code",
      "metadata": {
        "id": "MfHauvCTQQBh",
        "colab_type": "code",
        "outputId": "93f05129-6c66-4870-e4bd-f517793222de",
        "colab": {
          "base_uri": "https://localhost:8080/",
          "height": 34
        }
      },
      "source": [
        "squares = [x**2 for x in range(10)]\n",
        "squares"
      ],
      "execution_count": 0,
      "outputs": [
        {
          "output_type": "execute_result",
          "data": {
            "text/plain": [
              "[0, 1, 4, 9, 16, 25, 36, 49, 64, 81]"
            ]
          },
          "metadata": {
            "tags": []
          },
          "execution_count": 66
        }
      ]
    },
    {
      "cell_type": "code",
      "metadata": {
        "id": "s8ZW5W6kcylz",
        "colab_type": "code",
        "outputId": "1a81443b-47c5-44e8-fea5-6a43a615a270",
        "colab": {
          "base_uri": "https://localhost:8080/",
          "height": 34
        }
      },
      "source": [
        "'''Nested List Comprehension'''\n",
        "matrix = [[0,1,2,3,4] for i in range(5)]\n",
        "print(matrix)"
      ],
      "execution_count": 0,
      "outputs": [
        {
          "output_type": "stream",
          "text": [
            "[[0, 1, 2, 3, 4], [0, 1, 2, 3, 4], [0, 1, 2, 3, 4], [0, 1, 2, 3, 4], [0, 1, 2, 3, 4]]\n"
          ],
          "name": "stdout"
        }
      ]
    },
    {
      "cell_type": "markdown",
      "metadata": {
        "id": "icaCAv-2e2OX",
        "colab_type": "text"
      },
      "source": [
        "### Advanced List Comprehensions"
      ]
    },
    {
      "cell_type": "code",
      "metadata": {
        "id": "2PaSG9QEd1It",
        "colab_type": "code",
        "outputId": "d0b7b465-2ad0-48e2-ce1b-6718c1b4668b",
        "colab": {
          "base_uri": "https://localhost:8080/",
          "height": 34
        }
      },
      "source": [
        "# Conditionals\n",
        "fellowship = ['frodo', 'samwise', 'merry', 'aragorn', 'legolas', 'boromir', 'gimli']\n",
        "new_fellowship = [name for name in fellowship if len(name) >= 7]\n",
        "new_fellowship"
      ],
      "execution_count": 0,
      "outputs": [
        {
          "output_type": "execute_result",
          "data": {
            "text/plain": [
              "['samwise', 'aragorn', 'legolas', 'boromir']"
            ]
          },
          "metadata": {
            "tags": []
          },
          "execution_count": 76
        }
      ]
    },
    {
      "cell_type": "code",
      "metadata": {
        "id": "uholIMLYi9pP",
        "colab_type": "code",
        "outputId": "9258bef9-4f74-4c3e-ae9e-6b6d5a3bd0e5",
        "colab": {
          "base_uri": "https://localhost:8080/",
          "height": 34
        }
      },
      "source": [
        "fellowship = ['frodo', 'samwise', 'merry', 'aragorn', 'legolas', 'boromir', 'gimli']\n",
        "new_fellowship = [member if len(member) >= 7 else '' for member in fellowship] #input iterable has to go at the end\n",
        "new_fellowship"
      ],
      "execution_count": 0,
      "outputs": [
        {
          "output_type": "execute_result",
          "data": {
            "text/plain": [
              "['', 'samwise', '', 'aragorn', 'legolas', 'boromir', '']"
            ]
          },
          "metadata": {
            "tags": []
          },
          "execution_count": 79
        }
      ]
    },
    {
      "cell_type": "code",
      "metadata": {
        "id": "1t1UeEo0fQZq",
        "colab_type": "code",
        "outputId": "4cc29501-7e80-46cb-ea84-82707789db8f",
        "colab": {
          "base_uri": "https://localhost:8080/",
          "height": 136
        }
      },
      "source": [
        "# Dict Comprehensions\n",
        "fellowship = ['frodo', 'samwise', 'merry', 'aragorn', 'legolas', 'boromir', 'gimli']\n",
        "new_fellowship = {member: len(member) for member in fellowship}\n",
        "new_fellowship"
      ],
      "execution_count": 0,
      "outputs": [
        {
          "output_type": "execute_result",
          "data": {
            "text/plain": [
              "{'aragorn': 7,\n",
              " 'boromir': 7,\n",
              " 'frodo': 5,\n",
              " 'gimli': 5,\n",
              " 'legolas': 7,\n",
              " 'merry': 5,\n",
              " 'samwise': 7}"
            ]
          },
          "metadata": {
            "tags": []
          },
          "execution_count": 80
        }
      ]
    },
    {
      "cell_type": "markdown",
      "metadata": {
        "id": "N-NZRHlToMm4",
        "colab_type": "text"
      },
      "source": [
        "### Generators"
      ]
    },
    {
      "cell_type": "code",
      "metadata": {
        "id": "DIkRXl6HfQgp",
        "colab_type": "code",
        "colab": {}
      },
      "source": [
        "# like list comprehensions but with () instead of []\n",
        "# values not stored in memory\n"
      ],
      "execution_count": 0,
      "outputs": []
    },
    {
      "cell_type": "code",
      "metadata": {
        "id": "Jwqf2Kw5fQdO",
        "colab_type": "code",
        "outputId": "9a6dd4b2-6ae2-4c29-bea4-9fb0faf904d2",
        "colab": {
          "base_uri": "https://localhost:8080/",
          "height": 102
        }
      },
      "source": [
        "'''Generator Functions use 'yield' instead of 'return' '''\n",
        "result = (num for num in range(30))\n",
        "print(next(result))\n",
        "print(next(result))\n",
        "print(next(result))\n",
        "print(next(result))\n",
        "print(next(result))"
      ],
      "execution_count": 0,
      "outputs": [
        {
          "output_type": "stream",
          "text": [
            "0\n",
            "1\n",
            "2\n",
            "3\n",
            "4\n"
          ],
          "name": "stdout"
        }
      ]
    },
    {
      "cell_type": "code",
      "metadata": {
        "id": "5xu8ubo8p6Dx",
        "colab_type": "code",
        "outputId": "1f0a047a-a893-4ab4-e60c-7c00e9e19358",
        "colab": {
          "base_uri": "https://localhost:8080/",
          "height": 442
        }
      },
      "source": [
        "for item in list(result):\n",
        "  print(item)"
      ],
      "execution_count": 0,
      "outputs": [
        {
          "output_type": "stream",
          "text": [
            "5\n",
            "6\n",
            "7\n",
            "8\n",
            "9\n",
            "10\n",
            "11\n",
            "12\n",
            "13\n",
            "14\n",
            "15\n",
            "16\n",
            "17\n",
            "18\n",
            "19\n",
            "20\n",
            "21\n",
            "22\n",
            "23\n",
            "24\n",
            "25\n",
            "26\n",
            "27\n",
            "28\n",
            "29\n"
          ],
          "name": "stdout"
        }
      ]
    },
    {
      "cell_type": "code",
      "metadata": {
        "id": "66sE0bqkq0NF",
        "colab_type": "code",
        "outputId": "a77ede02-eec4-4c1d-b1e4-4fb87c607996",
        "colab": {
          "base_uri": "https://localhost:8080/",
          "height": 102
        }
      },
      "source": [
        "lannister = ['cersei', 'jaime', 'tywin', 'tyrion', 'joffrey']\n",
        "lengths = (len(name) for name in lannister)\n",
        "for value in lengths:\n",
        "  print(value)"
      ],
      "execution_count": 0,
      "outputs": [
        {
          "output_type": "stream",
          "text": [
            "6\n",
            "5\n",
            "5\n",
            "6\n",
            "7\n"
          ],
          "name": "stdout"
        }
      ]
    },
    {
      "cell_type": "code",
      "metadata": {
        "id": "CgoVyR_ardkb",
        "colab_type": "code",
        "outputId": "4847ad01-9fe7-4ff7-abd9-b9d703e6dcc1",
        "colab": {
          "base_uri": "https://localhost:8080/",
          "height": 34
        }
      },
      "source": [
        "lannister = ['cersei', 'jaime', 'tywin', 'tyrion', 'joffrey']\n",
        "def get_lengths(input_list):\n",
        "  for value in input_list:\n",
        "    yield len(value)\n",
        "\n",
        "print(get_lengths(lannister))"
      ],
      "execution_count": 0,
      "outputs": [
        {
          "output_type": "stream",
          "text": [
            "<generator object get_lengths at 0x7f4ec6f71570>\n"
          ],
          "name": "stdout"
        }
      ]
    },
    {
      "cell_type": "code",
      "metadata": {
        "id": "Qhetem3vsJ4F",
        "colab_type": "code",
        "outputId": "a52a1c69-121b-4f0f-e7a7-a15a933de9e1",
        "colab": {
          "base_uri": "https://localhost:8080/",
          "height": 102
        }
      },
      "source": [
        "result = get_lengths(lannister)\n",
        "for item in result:\n",
        "  print(item)"
      ],
      "execution_count": 0,
      "outputs": [
        {
          "output_type": "stream",
          "text": [
            "6\n",
            "5\n",
            "5\n",
            "6\n",
            "7\n"
          ],
          "name": "stdout"
        }
      ]
    },
    {
      "cell_type": "code",
      "metadata": {
        "id": "QzFHOKscsvc5",
        "colab_type": "code",
        "outputId": "ce73b531-9153-499f-a832-1365abdd18e0",
        "colab": {
          "base_uri": "https://localhost:8080/",
          "height": 187
        }
      },
      "source": [
        "tweets = pd.read_csv('tweets.csv')\n",
        "tweet_time = tweets['created_at']\n",
        "tweet_clock_time = [entry[12:20] for entry in tweet_time]\n",
        "tweet_clock_time[:10]"
      ],
      "execution_count": 0,
      "outputs": [
        {
          "output_type": "execute_result",
          "data": {
            "text/plain": [
              "['3:40:17 ',\n",
              " '3:40:17 ',\n",
              " '3:40:17 ',\n",
              " '3:40:17 ',\n",
              " '3:40:17 ',\n",
              " '3:40:17 ',\n",
              " '3:40:18 ',\n",
              " '3:40:17 ',\n",
              " '3:40:18 ',\n",
              " '3:40:18 ']"
            ]
          },
          "metadata": {
            "tags": []
          },
          "execution_count": 91
        }
      ]
    },
    {
      "cell_type": "code",
      "metadata": {
        "id": "grpecqLqug8u",
        "colab_type": "code",
        "outputId": "3fa2ddee-af64-4230-bba8-1c9730b216c8",
        "colab": {
          "base_uri": "https://localhost:8080/",
          "height": 595
        }
      },
      "source": [
        "tweet_clock_time = [entry[12:20] for entry in tweet_time if entry[17:19]== '19']\n",
        "tweet_clock_time"
      ],
      "execution_count": 0,
      "outputs": [
        {
          "output_type": "execute_result",
          "data": {
            "text/plain": [
              "['3:40:19 ',\n",
              " '3:40:19 ',\n",
              " '3:40:19 ',\n",
              " '3:40:19 ',\n",
              " '3:40:19 ',\n",
              " '3:40:19 ',\n",
              " '3:40:19 ',\n",
              " '3:40:19 ',\n",
              " '3:40:19 ',\n",
              " '3:40:19 ',\n",
              " '3:40:19 ',\n",
              " '3:40:19 ',\n",
              " '3:40:19 ',\n",
              " '3:40:19 ',\n",
              " '3:40:19 ',\n",
              " '3:40:19 ',\n",
              " '3:40:19 ',\n",
              " '3:40:19 ',\n",
              " '3:40:19 ',\n",
              " '3:40:19 ',\n",
              " '3:40:19 ',\n",
              " '3:40:19 ',\n",
              " '3:40:19 ',\n",
              " '3:40:19 ',\n",
              " '3:40:19 ',\n",
              " '3:40:19 ',\n",
              " '3:40:19 ',\n",
              " '3:40:19 ',\n",
              " '3:40:19 ',\n",
              " '3:40:19 ',\n",
              " '3:40:19 ',\n",
              " '3:40:19 ',\n",
              " '3:40:19 ',\n",
              " '3:40:19 ']"
            ]
          },
          "metadata": {
            "tags": []
          },
          "execution_count": 92
        }
      ]
    },
    {
      "cell_type": "markdown",
      "metadata": {
        "id": "WUeJZlZdvWkt",
        "colab_type": "text"
      },
      "source": [
        "# Bringing it all together"
      ]
    },
    {
      "cell_type": "code",
      "metadata": {
        "id": "JPxbwI0GvOjS",
        "colab_type": "code",
        "outputId": "5eefda6f-931d-4685-941a-ac2bbabca725",
        "colab": {
          "base_uri": "https://localhost:8080/",
          "height": 204
        }
      },
      "source": [
        "data = pd.read_csv('world_ind_pop_data.csv')\n",
        "data.head()"
      ],
      "execution_count": 5,
      "outputs": [
        {
          "output_type": "execute_result",
          "data": {
            "text/html": [
              "<div>\n",
              "<style scoped>\n",
              "    .dataframe tbody tr th:only-of-type {\n",
              "        vertical-align: middle;\n",
              "    }\n",
              "\n",
              "    .dataframe tbody tr th {\n",
              "        vertical-align: top;\n",
              "    }\n",
              "\n",
              "    .dataframe thead th {\n",
              "        text-align: right;\n",
              "    }\n",
              "</style>\n",
              "<table border=\"1\" class=\"dataframe\">\n",
              "  <thead>\n",
              "    <tr style=\"text-align: right;\">\n",
              "      <th></th>\n",
              "      <th>CountryName</th>\n",
              "      <th>CountryCode</th>\n",
              "      <th>Year</th>\n",
              "      <th>Total Population</th>\n",
              "      <th>Urban population (% of total)</th>\n",
              "    </tr>\n",
              "  </thead>\n",
              "  <tbody>\n",
              "    <tr>\n",
              "      <th>0</th>\n",
              "      <td>Arab World</td>\n",
              "      <td>ARB</td>\n",
              "      <td>1960</td>\n",
              "      <td>9.249590e+07</td>\n",
              "      <td>31.285384</td>\n",
              "    </tr>\n",
              "    <tr>\n",
              "      <th>1</th>\n",
              "      <td>Caribbean small states</td>\n",
              "      <td>CSS</td>\n",
              "      <td>1960</td>\n",
              "      <td>4.190810e+06</td>\n",
              "      <td>31.597490</td>\n",
              "    </tr>\n",
              "    <tr>\n",
              "      <th>2</th>\n",
              "      <td>Central Europe and the Baltics</td>\n",
              "      <td>CEB</td>\n",
              "      <td>1960</td>\n",
              "      <td>9.140158e+07</td>\n",
              "      <td>44.507921</td>\n",
              "    </tr>\n",
              "    <tr>\n",
              "      <th>3</th>\n",
              "      <td>East Asia &amp; Pacific (all income levels)</td>\n",
              "      <td>EAS</td>\n",
              "      <td>1960</td>\n",
              "      <td>1.042475e+09</td>\n",
              "      <td>22.471132</td>\n",
              "    </tr>\n",
              "    <tr>\n",
              "      <th>4</th>\n",
              "      <td>East Asia &amp; Pacific (developing only)</td>\n",
              "      <td>EAP</td>\n",
              "      <td>1960</td>\n",
              "      <td>8.964930e+08</td>\n",
              "      <td>16.917679</td>\n",
              "    </tr>\n",
              "  </tbody>\n",
              "</table>\n",
              "</div>"
            ],
            "text/plain": [
              "                               CountryName  ... Urban population (% of total)\n",
              "0                               Arab World  ...                     31.285384\n",
              "1                   Caribbean small states  ...                     31.597490\n",
              "2           Central Europe and the Baltics  ...                     44.507921\n",
              "3  East Asia & Pacific (all income levels)  ...                     22.471132\n",
              "4    East Asia & Pacific (developing only)  ...                     16.917679\n",
              "\n",
              "[5 rows x 5 columns]"
            ]
          },
          "metadata": {
            "tags": []
          },
          "execution_count": 5
        }
      ]
    },
    {
      "cell_type": "code",
      "metadata": {
        "id": "goKJnkQDavVl",
        "colab_type": "code",
        "outputId": "b679a0ba-6460-42ae-bc03-2868f53697b9",
        "colab": {
          "base_uri": "https://localhost:8080/",
          "height": 34
        }
      },
      "source": [
        "data.shape"
      ],
      "execution_count": 6,
      "outputs": [
        {
          "output_type": "execute_result",
          "data": {
            "text/plain": [
              "(13374, 5)"
            ]
          },
          "metadata": {
            "tags": []
          },
          "execution_count": 6
        }
      ]
    },
    {
      "cell_type": "code",
      "metadata": {
        "id": "eaiyvscf6XPF",
        "colab_type": "code",
        "outputId": "14adb86a-c0d5-4e06-b1b1-7f45be397494",
        "colab": {
          "base_uri": "https://localhost:8080/",
          "height": 119
        }
      },
      "source": [
        "feature_names = list(data.columns)\n",
        "row_values = list(data.loc[2])\n",
        "feature_names,row_values"
      ],
      "execution_count": 8,
      "outputs": [
        {
          "output_type": "execute_result",
          "data": {
            "text/plain": [
              "(['CountryName',\n",
              "  'CountryCode',\n",
              "  'Year',\n",
              "  'Total Population',\n",
              "  'Urban population (% of total)'],\n",
              " ['Central Europe and the Baltics', 'CEB', 1960, 91401583.0, 44.5079211390026])"
            ]
          },
          "metadata": {
            "tags": []
          },
          "execution_count": 8
        }
      ]
    },
    {
      "cell_type": "code",
      "metadata": {
        "id": "OD9boyou9KVb",
        "colab_type": "code",
        "colab": {}
      },
      "source": [
        "zipped_lists = zip(feature_names, row_values)"
      ],
      "execution_count": 0,
      "outputs": []
    },
    {
      "cell_type": "code",
      "metadata": {
        "id": "mleFu_pl_Tdk",
        "colab_type": "code",
        "outputId": "eb16968b-955b-4aa3-ac18-7cb2cf0f6a74",
        "colab": {
          "base_uri": "https://localhost:8080/",
          "height": 102
        }
      },
      "source": [
        "rs_dict = dict(zipped_lists)\n",
        "rs_dict"
      ],
      "execution_count": 10,
      "outputs": [
        {
          "output_type": "execute_result",
          "data": {
            "text/plain": [
              "{'CountryCode': 'CEB',\n",
              " 'CountryName': 'Central Europe and the Baltics',\n",
              " 'Total Population': 91401583.0,\n",
              " 'Urban population (% of total)': 44.5079211390026,\n",
              " 'Year': 1960}"
            ]
          },
          "metadata": {
            "tags": []
          },
          "execution_count": 10
        }
      ]
    },
    {
      "cell_type": "code",
      "metadata": {
        "id": "KLeqJRn0_0w7",
        "colab_type": "code",
        "outputId": "6cf13ef0-2628-4df5-cd4b-a6ae76ce74dd",
        "colab": {
          "base_uri": "https://localhost:8080/",
          "height": 102
        }
      },
      "source": [
        "def lists_to_dict(list1, list2):\n",
        "  zipped_list = zip(list1,list2)\n",
        "  #rs_dict = dict(zip(list1, list2))\n",
        "  rs_dict = dict(zipped_list)\n",
        "  return rs_dict\n",
        "\n",
        "lists_to_dict(feature_names,row_values)\n"
      ],
      "execution_count": 11,
      "outputs": [
        {
          "output_type": "execute_result",
          "data": {
            "text/plain": [
              "{'CountryCode': 'CEB',\n",
              " 'CountryName': 'Central Europe and the Baltics',\n",
              " 'Total Population': 91401583.0,\n",
              " 'Urban population (% of total)': 44.5079211390026,\n",
              " 'Year': 1960}"
            ]
          },
          "metadata": {
            "tags": []
          },
          "execution_count": 11
        }
      ]
    },
    {
      "cell_type": "code",
      "metadata": {
        "id": "YvswBl2mAlZ3",
        "colab_type": "code",
        "outputId": "f1243e17-0569-4276-d1c5-f9968c029a17",
        "colab": {
          "base_uri": "https://localhost:8080/",
          "height": 680
        }
      },
      "source": [
        "feature_names = list(data.columns)\n",
        "row_values = data.iloc[0:10].values.tolist()\n",
        "feature_names, row_values"
      ],
      "execution_count": 12,
      "outputs": [
        {
          "output_type": "execute_result",
          "data": {
            "text/plain": [
              "(['CountryName',\n",
              "  'CountryCode',\n",
              "  'Year',\n",
              "  'Total Population',\n",
              "  'Urban population (% of total)'],\n",
              " [['Arab World', 'ARB', 1960, 92495902.0, 31.285384211605397],\n",
              "  ['Caribbean small states', 'CSS', 1960, 4190810.0, 31.5974898513652],\n",
              "  ['Central Europe and the Baltics',\n",
              "   'CEB',\n",
              "   1960,\n",
              "   91401583.0,\n",
              "   44.5079211390026],\n",
              "  ['East Asia & Pacific (all income levels)',\n",
              "   'EAS',\n",
              "   1960,\n",
              "   1042475394.0,\n",
              "   22.471132204295397],\n",
              "  ['East Asia & Pacific (developing only)',\n",
              "   'EAP',\n",
              "   1960,\n",
              "   896492991.0,\n",
              "   16.917678848089302],\n",
              "  ['Euro area', 'EMU', 1960, 265396501.0, 62.096946901677505],\n",
              "  ['Europe & Central Asia (all income levels)',\n",
              "   'ECS',\n",
              "   1960,\n",
              "   667489033.0,\n",
              "   55.378977445327905],\n",
              "  ['Europe & Central Asia (developing only)',\n",
              "   'ECA',\n",
              "   1960,\n",
              "   155317369.0,\n",
              "   38.0661286852531],\n",
              "  ['European Union', 'EUU', 1960, 409498462.0, 61.212897757742994],\n",
              "  ['Fragile and conflict affected situations',\n",
              "   'FCS',\n",
              "   1960,\n",
              "   120354582.0,\n",
              "   17.891972253143898]])"
            ]
          },
          "metadata": {
            "tags": []
          },
          "execution_count": 12
        }
      ]
    },
    {
      "cell_type": "code",
      "metadata": {
        "id": "kkK2p91ECmF4",
        "colab_type": "code",
        "outputId": "5264921d-c86f-44b1-a84a-e2c334b5404c",
        "colab": {
          "base_uri": "https://localhost:8080/",
          "height": 867
        }
      },
      "source": [
        "'''List Comprehenstion: List of Dictionaries'''\n",
        "def lists_to_dict(list1, list2):\n",
        "  zipped_list = zip(list1,list2)\n",
        "  rs_dict = dict(zipped_list)\n",
        "  return rs_dict\n",
        "\n",
        "feature_names = list(data.columns)\n",
        "row_values = data.iloc[0:10].values.tolist()\n",
        "list_of_dicts = [lists_to_dict(feature_names, sublist) for sublist in row_values]\n",
        "list_of_dicts"
      ],
      "execution_count": 13,
      "outputs": [
        {
          "output_type": "execute_result",
          "data": {
            "text/plain": [
              "[{'CountryCode': 'ARB',\n",
              "  'CountryName': 'Arab World',\n",
              "  'Total Population': 92495902.0,\n",
              "  'Urban population (% of total)': 31.285384211605397,\n",
              "  'Year': 1960},\n",
              " {'CountryCode': 'CSS',\n",
              "  'CountryName': 'Caribbean small states',\n",
              "  'Total Population': 4190810.0,\n",
              "  'Urban population (% of total)': 31.5974898513652,\n",
              "  'Year': 1960},\n",
              " {'CountryCode': 'CEB',\n",
              "  'CountryName': 'Central Europe and the Baltics',\n",
              "  'Total Population': 91401583.0,\n",
              "  'Urban population (% of total)': 44.5079211390026,\n",
              "  'Year': 1960},\n",
              " {'CountryCode': 'EAS',\n",
              "  'CountryName': 'East Asia & Pacific (all income levels)',\n",
              "  'Total Population': 1042475394.0,\n",
              "  'Urban population (% of total)': 22.471132204295397,\n",
              "  'Year': 1960},\n",
              " {'CountryCode': 'EAP',\n",
              "  'CountryName': 'East Asia & Pacific (developing only)',\n",
              "  'Total Population': 896492991.0,\n",
              "  'Urban population (% of total)': 16.917678848089302,\n",
              "  'Year': 1960},\n",
              " {'CountryCode': 'EMU',\n",
              "  'CountryName': 'Euro area',\n",
              "  'Total Population': 265396501.0,\n",
              "  'Urban population (% of total)': 62.096946901677505,\n",
              "  'Year': 1960},\n",
              " {'CountryCode': 'ECS',\n",
              "  'CountryName': 'Europe & Central Asia (all income levels)',\n",
              "  'Total Population': 667489033.0,\n",
              "  'Urban population (% of total)': 55.378977445327905,\n",
              "  'Year': 1960},\n",
              " {'CountryCode': 'ECA',\n",
              "  'CountryName': 'Europe & Central Asia (developing only)',\n",
              "  'Total Population': 155317369.0,\n",
              "  'Urban population (% of total)': 38.0661286852531,\n",
              "  'Year': 1960},\n",
              " {'CountryCode': 'EUU',\n",
              "  'CountryName': 'European Union',\n",
              "  'Total Population': 409498462.0,\n",
              "  'Urban population (% of total)': 61.212897757742994,\n",
              "  'Year': 1960},\n",
              " {'CountryCode': 'FCS',\n",
              "  'CountryName': 'Fragile and conflict affected situations',\n",
              "  'Total Population': 120354582.0,\n",
              "  'Urban population (% of total)': 17.891972253143898,\n",
              "  'Year': 1960}]"
            ]
          },
          "metadata": {
            "tags": []
          },
          "execution_count": 13
        }
      ]
    },
    {
      "cell_type": "code",
      "metadata": {
        "id": "Fbk4JeWmLCvv",
        "colab_type": "code",
        "outputId": "ae758933-eb24-4e9a-81d8-9491eab9330f",
        "colab": {
          "base_uri": "https://localhost:8080/",
          "height": 359
        }
      },
      "source": [
        "'''Turning the Dictionary into a DataFrame'''\n",
        "data_frame = pd.DataFrame(list_of_dicts)\n",
        "data_frame"
      ],
      "execution_count": 14,
      "outputs": [
        {
          "output_type": "execute_result",
          "data": {
            "text/html": [
              "<div>\n",
              "<style scoped>\n",
              "    .dataframe tbody tr th:only-of-type {\n",
              "        vertical-align: middle;\n",
              "    }\n",
              "\n",
              "    .dataframe tbody tr th {\n",
              "        vertical-align: top;\n",
              "    }\n",
              "\n",
              "    .dataframe thead th {\n",
              "        text-align: right;\n",
              "    }\n",
              "</style>\n",
              "<table border=\"1\" class=\"dataframe\">\n",
              "  <thead>\n",
              "    <tr style=\"text-align: right;\">\n",
              "      <th></th>\n",
              "      <th>CountryName</th>\n",
              "      <th>CountryCode</th>\n",
              "      <th>Year</th>\n",
              "      <th>Total Population</th>\n",
              "      <th>Urban population (% of total)</th>\n",
              "    </tr>\n",
              "  </thead>\n",
              "  <tbody>\n",
              "    <tr>\n",
              "      <th>0</th>\n",
              "      <td>Arab World</td>\n",
              "      <td>ARB</td>\n",
              "      <td>1960</td>\n",
              "      <td>9.249590e+07</td>\n",
              "      <td>31.285384</td>\n",
              "    </tr>\n",
              "    <tr>\n",
              "      <th>1</th>\n",
              "      <td>Caribbean small states</td>\n",
              "      <td>CSS</td>\n",
              "      <td>1960</td>\n",
              "      <td>4.190810e+06</td>\n",
              "      <td>31.597490</td>\n",
              "    </tr>\n",
              "    <tr>\n",
              "      <th>2</th>\n",
              "      <td>Central Europe and the Baltics</td>\n",
              "      <td>CEB</td>\n",
              "      <td>1960</td>\n",
              "      <td>9.140158e+07</td>\n",
              "      <td>44.507921</td>\n",
              "    </tr>\n",
              "    <tr>\n",
              "      <th>3</th>\n",
              "      <td>East Asia &amp; Pacific (all income levels)</td>\n",
              "      <td>EAS</td>\n",
              "      <td>1960</td>\n",
              "      <td>1.042475e+09</td>\n",
              "      <td>22.471132</td>\n",
              "    </tr>\n",
              "    <tr>\n",
              "      <th>4</th>\n",
              "      <td>East Asia &amp; Pacific (developing only)</td>\n",
              "      <td>EAP</td>\n",
              "      <td>1960</td>\n",
              "      <td>8.964930e+08</td>\n",
              "      <td>16.917679</td>\n",
              "    </tr>\n",
              "    <tr>\n",
              "      <th>5</th>\n",
              "      <td>Euro area</td>\n",
              "      <td>EMU</td>\n",
              "      <td>1960</td>\n",
              "      <td>2.653965e+08</td>\n",
              "      <td>62.096947</td>\n",
              "    </tr>\n",
              "    <tr>\n",
              "      <th>6</th>\n",
              "      <td>Europe &amp; Central Asia (all income levels)</td>\n",
              "      <td>ECS</td>\n",
              "      <td>1960</td>\n",
              "      <td>6.674890e+08</td>\n",
              "      <td>55.378977</td>\n",
              "    </tr>\n",
              "    <tr>\n",
              "      <th>7</th>\n",
              "      <td>Europe &amp; Central Asia (developing only)</td>\n",
              "      <td>ECA</td>\n",
              "      <td>1960</td>\n",
              "      <td>1.553174e+08</td>\n",
              "      <td>38.066129</td>\n",
              "    </tr>\n",
              "    <tr>\n",
              "      <th>8</th>\n",
              "      <td>European Union</td>\n",
              "      <td>EUU</td>\n",
              "      <td>1960</td>\n",
              "      <td>4.094985e+08</td>\n",
              "      <td>61.212898</td>\n",
              "    </tr>\n",
              "    <tr>\n",
              "      <th>9</th>\n",
              "      <td>Fragile and conflict affected situations</td>\n",
              "      <td>FCS</td>\n",
              "      <td>1960</td>\n",
              "      <td>1.203546e+08</td>\n",
              "      <td>17.891972</td>\n",
              "    </tr>\n",
              "  </tbody>\n",
              "</table>\n",
              "</div>"
            ],
            "text/plain": [
              "                                 CountryName  ... Urban population (% of total)\n",
              "0                                 Arab World  ...                     31.285384\n",
              "1                     Caribbean small states  ...                     31.597490\n",
              "2             Central Europe and the Baltics  ...                     44.507921\n",
              "3    East Asia & Pacific (all income levels)  ...                     22.471132\n",
              "4      East Asia & Pacific (developing only)  ...                     16.917679\n",
              "5                                  Euro area  ...                     62.096947\n",
              "6  Europe & Central Asia (all income levels)  ...                     55.378977\n",
              "7    Europe & Central Asia (developing only)  ...                     38.066129\n",
              "8                             European Union  ...                     61.212898\n",
              "9   Fragile and conflict affected situations  ...                     17.891972\n",
              "\n",
              "[10 rows x 5 columns]"
            ]
          },
          "metadata": {
            "tags": []
          },
          "execution_count": 14
        }
      ]
    },
    {
      "cell_type": "markdown",
      "metadata": {
        "id": "JF49RL9yZGUC",
        "colab_type": "text"
      },
      "source": [
        "### Using Python Generators to Stream Data"
      ]
    },
    {
      "cell_type": "code",
      "metadata": {
        "id": "0IpYdTRCYbDv",
        "colab_type": "code",
        "colab": {
          "base_uri": "https://localhost:8080/",
          "height": 34
        },
        "outputId": "1defb120-224d-4e93-da19-5fda75a92e90"
      },
      "source": [
        "with open('world_ind_pop_data.csv') as file:\n",
        "  # read file one line at a time\n",
        "  file.readline()\n",
        "  # initialize dictionary\n",
        "  counts_dict = {}\n",
        "\n",
        "  for i in range(1000):\n",
        "    # split line into list\n",
        "    line = file.readline().split(',')\n",
        "    # get first item of every row processed\n",
        "    col_call = line[3]\n",
        "  print(col_call)\n",
        "\n",
        "\n"
      ],
      "execution_count": 18,
      "outputs": [
        {
          "output_type": "stream",
          "text": [
            "1098336367.0\n"
          ],
          "name": "stdout"
        }
      ]
    },
    {
      "cell_type": "code",
      "metadata": {
        "id": "OrPt_9_1cuR_",
        "colab_type": "code",
        "colab": {
          "base_uri": "https://localhost:8080/",
          "height": 68
        },
        "outputId": "ecc1089b-d6a6-493c-a9a9-e5e2879bfc67"
      },
      "source": [
        "def read_large_file(file_object):\n",
        "  \"\"\"A generator function to read a large file lazily.\"\"\"\n",
        "    # Loop indefinitely until the end of the file\n",
        "  while True:\n",
        "    data = file_object.readline()\n",
        "    if not data:\n",
        "        break\n",
        "    # Yield the line of data\n",
        "    yield data\n",
        "\n",
        "\n",
        "with open('world_ind_pop_data.csv') as file:\n",
        "  # Create a generator object for the file: gen_file\n",
        "    gen_file = (read_large_file(file) for line in file)\n",
        "    print(next(gen_file))\n",
        "    print(next(gen_file))\n",
        "    print(next(gen_file))\n"
      ],
      "execution_count": 19,
      "outputs": [
        {
          "output_type": "stream",
          "text": [
            "<generator object read_large_file at 0x7f796ec2baf0>\n",
            "<generator object read_large_file at 0x7f796ec2baf0>\n",
            "<generator object read_large_file at 0x7f796ec2baf0>\n"
          ],
          "name": "stdout"
        }
      ]
    },
    {
      "cell_type": "code",
      "metadata": {
        "id": "nRmE_58rElBl",
        "colab_type": "code",
        "colab": {
          "base_uri": "https://localhost:8080/",
          "height": 54
        },
        "outputId": "5a500fe2-19e6-4457-81b5-f08d1c4fb6a3"
      },
      "source": [
        "# Initialize an empty dictionary: counts_dict\n",
        "counts_dict = {}\n",
        "\n",
        "# Open a connection to the file\n",
        "with open('world_ind_pop_data.csv') as file:\n",
        "\n",
        "    # Iterate over the generator from read_large_file()\n",
        "    for line in file:\n",
        "\n",
        "        row = line.split(',')\n",
        "        first_col = row[0]\n",
        "\n",
        "        if first_col in counts_dict.keys():\n",
        "            counts_dict[first_col] += 1\n",
        "        else:\n",
        "            counts_dict[first_col] = 1\n",
        "\n",
        "# Print            \n",
        "print(counts_dict)"
      ],
      "execution_count": 20,
      "outputs": [
        {
          "output_type": "stream",
          "text": [
            "{'CountryName': 1, 'Arab World': 55, 'Caribbean small states': 55, 'Central Europe and the Baltics': 55, 'East Asia & Pacific (all income levels)': 55, 'East Asia & Pacific (developing only)': 55, 'Euro area': 55, 'Europe & Central Asia (all income levels)': 55, 'Europe & Central Asia (developing only)': 55, 'European Union': 55, 'Fragile and conflict affected situations': 55, 'Heavily indebted poor countries (HIPC)': 55, 'High income': 55, 'High income: nonOECD': 55, 'High income: OECD': 55, 'Latin America & Caribbean (all income levels)': 55, 'Latin America & Caribbean (developing only)': 55, 'Least developed countries: UN classification': 55, 'Low & middle income': 55, 'Low income': 55, 'Lower middle income': 55, 'Middle East & North Africa (all income levels)': 55, 'Middle East & North Africa (developing only)': 55, 'Middle income': 55, 'North America': 55, 'OECD members': 55, 'Other small states': 55, 'Pacific island small states': 55, 'Small states': 55, 'South Asia': 55, 'Sub-Saharan Africa (all income levels)': 55, 'Sub-Saharan Africa (developing only)': 55, 'Upper middle income': 55, 'World': 55, 'Afghanistan': 55, 'Albania': 55, 'Algeria': 55, 'American Samoa': 55, 'Andorra': 55, 'Angola': 55, 'Antigua and Barbuda': 55, 'Argentina': 55, 'Armenia': 55, 'Aruba': 55, 'Australia': 55, 'Austria': 55, 'Azerbaijan': 55, '\"Bahamas': 55, 'Bahrain': 55, 'Bangladesh': 55, 'Barbados': 55, 'Belarus': 55, 'Belgium': 55, 'Belize': 55, 'Benin': 55, 'Bermuda': 55, 'Bhutan': 55, 'Bolivia': 55, 'Bosnia and Herzegovina': 55, 'Botswana': 55, 'Brazil': 55, 'Brunei Darussalam': 55, 'Bulgaria': 55, 'Burkina Faso': 55, 'Burundi': 55, 'Cabo Verde': 55, 'Cambodia': 55, 'Cameroon': 55, 'Canada': 55, 'Cayman Islands': 55, 'Central African Republic': 55, 'Chad': 55, 'Channel Islands': 55, 'Chile': 55, 'China': 55, 'Colombia': 55, 'Comoros': 55, '\"Congo': 110, 'Costa Rica': 55, \"Cote d'Ivoire\": 55, 'Croatia': 55, 'Cuba': 55, 'Curacao': 55, 'Cyprus': 55, 'Czech Republic': 55, 'Denmark': 55, 'Djibouti': 55, 'Dominica': 55, 'Dominican Republic': 55, 'Ecuador': 55, '\"Egypt': 55, 'El Salvador': 55, 'Equatorial Guinea': 55, 'Eritrea': 55, 'Estonia': 55, 'Ethiopia': 55, 'Faeroe Islands': 55, 'Fiji': 55, 'Finland': 55, 'France': 55, 'French Polynesia': 55, 'Gabon': 55, '\"Gambia': 55, 'Georgia': 55, 'Germany': 55, 'Ghana': 55, 'Greece': 55, 'Greenland': 55, 'Grenada': 55, 'Guam': 55, 'Guatemala': 55, 'Guinea': 55, 'Guinea-Bissau': 55, 'Guyana': 55, 'Haiti': 55, 'Honduras': 55, '\"Hong Kong SAR': 55, 'Hungary': 55, 'Iceland': 55, 'India': 55, 'Indonesia': 55, '\"Iran': 55, 'Iraq': 55, 'Ireland': 55, 'Isle of Man': 55, 'Israel': 55, 'Italy': 55, 'Jamaica': 55, 'Japan': 55, 'Jordan': 55, 'Kazakhstan': 55, 'Kenya': 55, 'Kiribati': 55, '\"Korea': 110, 'Kuwait': 52, 'Kyrgyz Republic': 55, 'Lao PDR': 55, 'Latvia': 55, 'Lebanon': 55, 'Lesotho': 55, 'Liberia': 55, 'Libya': 55, 'Liechtenstein': 55, 'Lithuania': 55, 'Luxembourg': 55, '\"Macao SAR': 55, '\"Macedonia': 55, 'Madagascar': 55, 'Malawi': 55, 'Malaysia': 55, 'Maldives': 55, 'Mali': 55, 'Malta': 55, 'Marshall Islands': 55, 'Mauritania': 55, 'Mauritius': 55, 'Mexico': 55, '\"Micronesia': 55, 'Moldova': 55, 'Monaco': 55, 'Mongolia': 55, 'Montenegro': 55, 'Morocco': 55, 'Mozambique': 55, 'Myanmar': 55, 'Namibia': 55, 'Nepal': 55, 'Netherlands': 55, 'New Caledonia': 55, 'New Zealand': 55, 'Nicaragua': 55, 'Niger': 55, 'Nigeria': 55, 'Northern Mariana Islands': 55, 'Norway': 55, 'Oman': 55, 'Pakistan': 55, 'Palau': 55, 'Panama': 55, 'Papua New Guinea': 55, 'Paraguay': 55, 'Peru': 55, 'Philippines': 55, 'Poland': 55, 'Portugal': 55, 'Puerto Rico': 55, 'Qatar': 55, 'Romania': 55, 'Russian Federation': 55, 'Rwanda': 55, 'Samoa': 55, 'San Marino': 55, 'Sao Tome and Principe': 55, 'Saudi Arabia': 55, 'Senegal': 55, 'Seychelles': 55, 'Sierra Leone': 55, 'Singapore': 55, 'Slovak Republic': 55, 'Slovenia': 55, 'Solomon Islands': 55, 'Somalia': 55, 'South Africa': 55, 'South Sudan': 55, 'Spain': 55, 'Sri Lanka': 55, 'St. Kitts and Nevis': 55, 'St. Lucia': 55, 'St. Vincent and the Grenadines': 55, 'Sudan': 55, 'Suriname': 55, 'Swaziland': 55, 'Sweden': 55, 'Switzerland': 55, 'Syrian Arab Republic': 55, 'Tajikistan': 55, 'Tanzania': 55, 'Thailand': 55, 'Timor-Leste': 55, 'Togo': 55, 'Tonga': 55, 'Trinidad and Tobago': 55, 'Tunisia': 55, 'Turkey': 55, 'Turkmenistan': 55, 'Turks and Caicos Islands': 55, 'Tuvalu': 55, 'Uganda': 55, 'Ukraine': 55, 'United Arab Emirates': 55, 'United Kingdom': 55, 'United States': 55, 'Uruguay': 55, 'Uzbekistan': 55, 'Vanuatu': 55, '\"Venezuela': 55, 'Vietnam': 55, 'Virgin Islands (U.S.)': 55, '\"Yemen': 55, 'Zambia': 55, 'Zimbabwe': 55, 'Serbia': 25, 'West Bank and Gaza': 25, 'Sint Maarten (Dutch part)': 17}\n"
          ],
          "name": "stdout"
        }
      ]
    },
    {
      "cell_type": "markdown",
      "metadata": {
        "id": "WhvR-wpTGjs-",
        "colab_type": "text"
      },
      "source": [
        "### Using pd.read_csv (iterator) for streaming data"
      ]
    },
    {
      "cell_type": "code",
      "metadata": {
        "id": "siLP2ShhGZna",
        "colab_type": "code",
        "colab": {
          "base_uri": "https://localhost:8080/",
          "height": 238
        },
        "outputId": "357a3d4a-0ce6-4be3-c700-c799c6e1a9dc"
      },
      "source": [
        "'''Using chunksize and next()'''\n",
        "import pandas as pd\n",
        "\n",
        "# Initialize reader object: df_reader\n",
        "df_reader = pd.read_csv('world_ind_pop_data.csv',chunksize=10)\n",
        "\n",
        "# Print two chunks\n",
        "print(next(df_reader))"
      ],
      "execution_count": 25,
      "outputs": [
        {
          "output_type": "stream",
          "text": [
            "                                 CountryName  ... Urban population (% of total)\n",
            "0                                 Arab World  ...                     31.285384\n",
            "1                     Caribbean small states  ...                     31.597490\n",
            "2             Central Europe and the Baltics  ...                     44.507921\n",
            "3    East Asia & Pacific (all income levels)  ...                     22.471132\n",
            "4      East Asia & Pacific (developing only)  ...                     16.917679\n",
            "5                                  Euro area  ...                     62.096947\n",
            "6  Europe & Central Asia (all income levels)  ...                     55.378977\n",
            "7    Europe & Central Asia (developing only)  ...                     38.066129\n",
            "8                             European Union  ...                     61.212898\n",
            "9   Fragile and conflict affected situations  ...                     17.891972\n",
            "\n",
            "[10 rows x 5 columns]\n"
          ],
          "name": "stdout"
        }
      ]
    },
    {
      "cell_type": "code",
      "metadata": {
        "id": "JIiNgqNsHov_",
        "colab_type": "code",
        "colab": {
          "base_uri": "https://localhost:8080/",
          "height": 238
        },
        "outputId": "8cf9075a-5681-4f25-e940-40fadff89906"
      },
      "source": [
        "print(next(df_reader))"
      ],
      "execution_count": 26,
      "outputs": [
        {
          "output_type": "stream",
          "text": [
            "                                      CountryName  ... Urban population (% of total)\n",
            "10         Heavily indebted poor countries (HIPC)  ...                     12.236046\n",
            "11                                    High income  ...                     62.680332\n",
            "12                           High income: nonOECD  ...                     56.107863\n",
            "13                              High income: OECD  ...                     64.285435\n",
            "14  Latin America & Caribbean (all income levels)  ...                     49.284688\n",
            "15    Latin America & Caribbean (developing only)  ...                     44.863308\n",
            "16   Least developed countries: UN classification  ...                      9.616261\n",
            "17                            Low & middle income  ...                     21.272894\n",
            "18                                     Low income  ...                     11.498396\n",
            "19                            Lower middle income  ...                     19.810513\n",
            "\n",
            "[10 rows x 5 columns]\n"
          ],
          "name": "stdout"
        }
      ]
    },
    {
      "cell_type": "code",
      "metadata": {
        "id": "jD_6GVUaHrR6",
        "colab_type": "code",
        "colab": {
          "base_uri": "https://localhost:8080/",
          "height": 153
        },
        "outputId": "cd6ef54f-506e-4f65-aa08-d06dfd969a5a"
      },
      "source": [
        "'''Using next(), zip(), and list()'''\n",
        "thou_data = pd.read_csv('world_ind_pop_data.csv',chunksize=1000)\n",
        "\n",
        "#df_thou_data = next(thou_data)\n",
        "print(df_thou_data.head())"
      ],
      "execution_count": 50,
      "outputs": [
        {
          "output_type": "stream",
          "text": [
            "                               CountryName  ... Urban population (% of total)\n",
            "0                               Arab World  ...                     31.285384\n",
            "1                   Caribbean small states  ...                     31.597490\n",
            "2           Central Europe and the Baltics  ...                     44.507921\n",
            "3  East Asia & Pacific (all income levels)  ...                     22.471132\n",
            "4    East Asia & Pacific (developing only)  ...                     16.917679\n",
            "\n",
            "[5 rows x 5 columns]\n"
          ],
          "name": "stdout"
        }
      ]
    },
    {
      "cell_type": "code",
      "metadata": {
        "id": "LU_RKjONRfBy",
        "colab_type": "code",
        "colab": {
          "base_uri": "https://localhost:8080/",
          "height": 54
        },
        "outputId": "3f65214d-5d32-4aaf-89a0-7b7c9887c416"
      },
      "source": [
        "# Extracting where country code is CEB\n",
        "df_thou_CEB = df_thou_data[df_thou_data['CountryCode']=='CEB']\n",
        "#df_thou_CEB.head()\n",
        "total = df_thou_CEB['Total Population']\n",
        "urban = df_thou_CEB['Urban population (% of total)']\n",
        "pops = zip(total, urban)\n",
        "pops_list = list(pops)\n",
        "print(pops_list)\n"
      ],
      "execution_count": 51,
      "outputs": [
        {
          "output_type": "stream",
          "text": [
            "[(91401583.0, 44.5079211390026), (92237118.0, 45.206665319194), (93014890.0, 45.866564696018), (93845749.0, 46.5340927663649), (94722599.0, 47.2087429803526)]\n"
          ],
          "name": "stdout"
        }
      ]
    },
    {
      "cell_type": "code",
      "metadata": {
        "id": "ea5Da5-7dDoA",
        "colab_type": "code",
        "colab": {
          "base_uri": "https://localhost:8080/",
          "height": 34
        },
        "outputId": "c8767ff1-8bae-41e8-d6a4-a4ca7375f029"
      },
      "source": [
        "df_thou_CEB.shape"
      ],
      "execution_count": 52,
      "outputs": [
        {
          "output_type": "execute_result",
          "data": {
            "text/plain": [
              "(5, 5)"
            ]
          },
          "metadata": {
            "tags": []
          },
          "execution_count": 52
        }
      ]
    },
    {
      "cell_type": "code",
      "metadata": {
        "id": "m7IrXQyLSHAb",
        "colab_type": "code",
        "colab": {
          "base_uri": "https://localhost:8080/",
          "height": 326
        },
        "outputId": "0528fb49-5cb8-41ef-9d6c-1225bc9aa889"
      },
      "source": [
        "\"\"\"Adding a new column and Creating a Vizualization\"\"\"\n",
        "import pandas as pd\n",
        "import matplotlib.pyplot as plt\n",
        "\n",
        "df_thou_CEB = df_thou_data[df_thou_data['CountryCode']=='CEB']\n",
        "total = df_thou_CEB['Total Population']\n",
        "urban = df_thou_CEB['Urban population (% of total)']\n",
        "pops = zip(total, urban)\n",
        "pops_list = list(pops)\n",
        "\n",
        "# Using a list comprehenstion to generate new column values\n",
        "df_thou_CEB['Total Urban Population'] = [int((element[1]/100)*element[0]) for element in pops_list]\n",
        "df_thou_CEB.head()\n",
        "\n",
        "\n"
      ],
      "execution_count": 53,
      "outputs": [
        {
          "output_type": "stream",
          "text": [
            "/usr/local/lib/python3.6/dist-packages/ipykernel_launcher.py:12: SettingWithCopyWarning: \n",
            "A value is trying to be set on a copy of a slice from a DataFrame.\n",
            "Try using .loc[row_indexer,col_indexer] = value instead\n",
            "\n",
            "See the caveats in the documentation: https://pandas.pydata.org/pandas-docs/stable/user_guide/indexing.html#returning-a-view-versus-a-copy\n",
            "  if sys.path[0] == '':\n"
          ],
          "name": "stderr"
        },
        {
          "output_type": "execute_result",
          "data": {
            "text/html": [
              "<div>\n",
              "<style scoped>\n",
              "    .dataframe tbody tr th:only-of-type {\n",
              "        vertical-align: middle;\n",
              "    }\n",
              "\n",
              "    .dataframe tbody tr th {\n",
              "        vertical-align: top;\n",
              "    }\n",
              "\n",
              "    .dataframe thead th {\n",
              "        text-align: right;\n",
              "    }\n",
              "</style>\n",
              "<table border=\"1\" class=\"dataframe\">\n",
              "  <thead>\n",
              "    <tr style=\"text-align: right;\">\n",
              "      <th></th>\n",
              "      <th>CountryName</th>\n",
              "      <th>CountryCode</th>\n",
              "      <th>Year</th>\n",
              "      <th>Total Population</th>\n",
              "      <th>Urban population (% of total)</th>\n",
              "      <th>Total Urban Population</th>\n",
              "    </tr>\n",
              "  </thead>\n",
              "  <tbody>\n",
              "    <tr>\n",
              "      <th>2</th>\n",
              "      <td>Central Europe and the Baltics</td>\n",
              "      <td>CEB</td>\n",
              "      <td>1960</td>\n",
              "      <td>91401583.0</td>\n",
              "      <td>44.507921</td>\n",
              "      <td>40680944</td>\n",
              "    </tr>\n",
              "    <tr>\n",
              "      <th>244</th>\n",
              "      <td>Central Europe and the Baltics</td>\n",
              "      <td>CEB</td>\n",
              "      <td>1961</td>\n",
              "      <td>92237118.0</td>\n",
              "      <td>45.206665</td>\n",
              "      <td>41697325</td>\n",
              "    </tr>\n",
              "    <tr>\n",
              "      <th>486</th>\n",
              "      <td>Central Europe and the Baltics</td>\n",
              "      <td>CEB</td>\n",
              "      <td>1962</td>\n",
              "      <td>93014890.0</td>\n",
              "      <td>45.866565</td>\n",
              "      <td>42662734</td>\n",
              "    </tr>\n",
              "    <tr>\n",
              "      <th>728</th>\n",
              "      <td>Central Europe and the Baltics</td>\n",
              "      <td>CEB</td>\n",
              "      <td>1963</td>\n",
              "      <td>93845749.0</td>\n",
              "      <td>46.534093</td>\n",
              "      <td>43670267</td>\n",
              "    </tr>\n",
              "    <tr>\n",
              "      <th>970</th>\n",
              "      <td>Central Europe and the Baltics</td>\n",
              "      <td>CEB</td>\n",
              "      <td>1964</td>\n",
              "      <td>94722599.0</td>\n",
              "      <td>47.208743</td>\n",
              "      <td>44717348</td>\n",
              "    </tr>\n",
              "  </tbody>\n",
              "</table>\n",
              "</div>"
            ],
            "text/plain": [
              "                        CountryName  ... Total Urban Population\n",
              "2    Central Europe and the Baltics  ...               40680944\n",
              "244  Central Europe and the Baltics  ...               41697325\n",
              "486  Central Europe and the Baltics  ...               42662734\n",
              "728  Central Europe and the Baltics  ...               43670267\n",
              "970  Central Europe and the Baltics  ...               44717348\n",
              "\n",
              "[5 rows x 6 columns]"
            ]
          },
          "metadata": {
            "tags": []
          },
          "execution_count": 53
        }
      ]
    },
    {
      "cell_type": "code",
      "metadata": {
        "id": "RURiptupbZCp",
        "colab_type": "code",
        "colab": {
          "base_uri": "https://localhost:8080/",
          "height": 34
        },
        "outputId": "fea77711-8318-4205-b17f-45f7e2574646"
      },
      "source": [
        "df_thou_CEB.shape"
      ],
      "execution_count": 54,
      "outputs": [
        {
          "output_type": "execute_result",
          "data": {
            "text/plain": [
              "(5, 6)"
            ]
          },
          "metadata": {
            "tags": []
          },
          "execution_count": 54
        }
      ]
    },
    {
      "cell_type": "code",
      "metadata": {
        "id": "_isvopKEVsO9",
        "colab_type": "code",
        "colab": {
          "base_uri": "https://localhost:8080/",
          "height": 290
        },
        "outputId": "ec2b4c0f-ab46-40e1-fb91-09ee18bf0cdb"
      },
      "source": [
        "df_thou_CEB.plot(x='Year',y='Total Urban Population',kind='scatter')\n",
        "plt.show()"
      ],
      "execution_count": 55,
      "outputs": [
        {
          "output_type": "display_data",
          "data": {
            "image/png": "[encoded data removed]",
            "text/plain": [
              "<Figure size 432x288 with 1 Axes>"
            ]
          },
          "metadata": {
            "tags": []
          }
        }
      ]
    },
    {
      "cell_type": "code",
      "metadata": {
        "id": "OnYbZwNhWeZs",
        "colab_type": "code",
        "colab": {
          "base_uri": "https://localhost:8080/",
          "height": 326
        },
        "outputId": "3ff1a2ec-1682-4673-8146-f09081512d55"
      },
      "source": [
        "'''Appending into an empty dataframe'''\n",
        "#read in data\n",
        "c_data = pd.read_csv('world_ind_pop_data.csv', chunksize=1000)\n",
        "# initialize empty dataframe\n",
        "data = pd.DataFrame()\n",
        "\n",
        "for chunk in c_data:\n",
        "  CEB = chunk[chunk['CountryCode']=='CEB']\n",
        "  pops = zip(CEB['Total Population'],CEB['Urban population (% of total)'])\n",
        "  pops_list = list(pops)\n",
        "  CEB['Total Urban Population'] = [int((element[1]/100)*element[0]) for element in pops_list]\n",
        "  data = data.append(CEB)\n",
        "\n",
        "data.head()\n",
        "\n"
      ],
      "execution_count": 56,
      "outputs": [
        {
          "output_type": "stream",
          "text": [
            "/usr/local/lib/python3.6/dist-packages/ipykernel_launcher.py:11: SettingWithCopyWarning: \n",
            "A value is trying to be set on a copy of a slice from a DataFrame.\n",
            "Try using .loc[row_indexer,col_indexer] = value instead\n",
            "\n",
            "See the caveats in the documentation: https://pandas.pydata.org/pandas-docs/stable/user_guide/indexing.html#returning-a-view-versus-a-copy\n",
            "  # This is added back by InteractiveShellApp.init_path()\n"
          ],
          "name": "stderr"
        },
        {
          "output_type": "execute_result",
          "data": {
            "text/html": [
              "<div>\n",
              "<style scoped>\n",
              "    .dataframe tbody tr th:only-of-type {\n",
              "        vertical-align: middle;\n",
              "    }\n",
              "\n",
              "    .dataframe tbody tr th {\n",
              "        vertical-align: top;\n",
              "    }\n",
              "\n",
              "    .dataframe thead th {\n",
              "        text-align: right;\n",
              "    }\n",
              "</style>\n",
              "<table border=\"1\" class=\"dataframe\">\n",
              "  <thead>\n",
              "    <tr style=\"text-align: right;\">\n",
              "      <th></th>\n",
              "      <th>CountryName</th>\n",
              "      <th>CountryCode</th>\n",
              "      <th>Year</th>\n",
              "      <th>Total Population</th>\n",
              "      <th>Urban population (% of total)</th>\n",
              "      <th>Total Urban Population</th>\n",
              "    </tr>\n",
              "  </thead>\n",
              "  <tbody>\n",
              "    <tr>\n",
              "      <th>2</th>\n",
              "      <td>Central Europe and the Baltics</td>\n",
              "      <td>CEB</td>\n",
              "      <td>1960</td>\n",
              "      <td>91401583.0</td>\n",
              "      <td>44.507921</td>\n",
              "      <td>40680944</td>\n",
              "    </tr>\n",
              "    <tr>\n",
              "      <th>244</th>\n",
              "      <td>Central Europe and the Baltics</td>\n",
              "      <td>CEB</td>\n",
              "      <td>1961</td>\n",
              "      <td>92237118.0</td>\n",
              "      <td>45.206665</td>\n",
              "      <td>41697325</td>\n",
              "    </tr>\n",
              "    <tr>\n",
              "      <th>486</th>\n",
              "      <td>Central Europe and the Baltics</td>\n",
              "      <td>CEB</td>\n",
              "      <td>1962</td>\n",
              "      <td>93014890.0</td>\n",
              "      <td>45.866565</td>\n",
              "      <td>42662734</td>\n",
              "    </tr>\n",
              "    <tr>\n",
              "      <th>728</th>\n",
              "      <td>Central Europe and the Baltics</td>\n",
              "      <td>CEB</td>\n",
              "      <td>1963</td>\n",
              "      <td>93845749.0</td>\n",
              "      <td>46.534093</td>\n",
              "      <td>43670267</td>\n",
              "    </tr>\n",
              "    <tr>\n",
              "      <th>970</th>\n",
              "      <td>Central Europe and the Baltics</td>\n",
              "      <td>CEB</td>\n",
              "      <td>1964</td>\n",
              "      <td>94722599.0</td>\n",
              "      <td>47.208743</td>\n",
              "      <td>44717348</td>\n",
              "    </tr>\n",
              "  </tbody>\n",
              "</table>\n",
              "</div>"
            ],
            "text/plain": [
              "                        CountryName  ... Total Urban Population\n",
              "2    Central Europe and the Baltics  ...               40680944\n",
              "244  Central Europe and the Baltics  ...               41697325\n",
              "486  Central Europe and the Baltics  ...               42662734\n",
              "728  Central Europe and the Baltics  ...               43670267\n",
              "970  Central Europe and the Baltics  ...               44717348\n",
              "\n",
              "[5 rows x 6 columns]"
            ]
          },
          "metadata": {
            "tags": []
          },
          "execution_count": 56
        }
      ]
    },
    {
      "cell_type": "code",
      "metadata": {
        "id": "OW1LDAqJaskE",
        "colab_type": "code",
        "colab": {
          "base_uri": "https://localhost:8080/",
          "height": 34
        },
        "outputId": "659fec64-e0c2-4068-dc0c-2a685e24835f"
      },
      "source": [
        "data.shape"
      ],
      "execution_count": 57,
      "outputs": [
        {
          "output_type": "execute_result",
          "data": {
            "text/plain": [
              "(55, 6)"
            ]
          },
          "metadata": {
            "tags": []
          },
          "execution_count": 57
        }
      ]
    },
    {
      "cell_type": "code",
      "metadata": {
        "id": "ijWeI4KPbWGS",
        "colab_type": "code",
        "colab": {
          "base_uri": "https://localhost:8080/",
          "height": 290
        },
        "outputId": "21831b85-d9c1-48f4-ce23-4f873efc6865"
      },
      "source": [
        "data.plot(x='Year',y='Total Urban Population',kind='scatter')\n",
        "plt.show()"
      ],
      "execution_count": 61,
      "outputs": [
        {
          "output_type": "display_data",
          "data": {
            "image/png": "[encoded data removed]",
            "text/plain": [
              "<Figure size 432x288 with 1 Axes>"
            ]
          },
          "metadata": {
            "tags": []
          }
        }
      ]
    },
    {
      "cell_type": "code",
      "metadata": {
        "id": "YUAK3qkIcAUW",
        "colab_type": "code",
        "colab": {}
      },
      "source": [
        "'''Writing a reusable function for processing data in chunks'''\n",
        "\n",
        "def plot_pop(file_name, country_code):\n",
        "\n",
        "    #read in data\n",
        "  file_data = pd.read_csv(file_name, chunksize=1000)\n",
        "  # initialize empty dataframe\n",
        "  data = pd.DataFrame()\n",
        "\n",
        "  for chunk in file_data:\n",
        "    country = chunk[chunk['CountryCode']==country_code]\n",
        "    pops = zip(country['Total Population'],country['Urban population (% of total)'])\n",
        "    pops_list = list(pops)\n",
        "    country['Total Urban Population'] = [int((element[1]/100)*element[0]) for element in pops_list]\n",
        "    data = data.append(country)\n",
        "    return data.head()"
      ],
      "execution_count": 0,
      "outputs": []
    },
    {
      "cell_type": "code",
      "metadata": {
        "id": "3Rx6R_1v_UqC",
        "colab_type": "code",
        "colab": {
          "base_uri": "https://localhost:8080/",
          "height": 326
        },
        "outputId": "0efd5798-528a-439d-bbb1-04487ce30640"
      },
      "source": [
        "plot_pop('world_ind_pop_data.csv', 'CEB')"
      ],
      "execution_count": 63,
      "outputs": [
        {
          "output_type": "stream",
          "text": [
            "/usr/local/lib/python3.6/dist-packages/ipykernel_launcher.py:14: SettingWithCopyWarning: \n",
            "A value is trying to be set on a copy of a slice from a DataFrame.\n",
            "Try using .loc[row_indexer,col_indexer] = value instead\n",
            "\n",
            "See the caveats in the documentation: https://pandas.pydata.org/pandas-docs/stable/user_guide/indexing.html#returning-a-view-versus-a-copy\n",
            "  \n"
          ],
          "name": "stderr"
        },
        {
          "output_type": "execute_result",
          "data": {
            "text/html": [
              "<div>\n",
              "<style scoped>\n",
              "    .dataframe tbody tr th:only-of-type {\n",
              "        vertical-align: middle;\n",
              "    }\n",
              "\n",
              "    .dataframe tbody tr th {\n",
              "        vertical-align: top;\n",
              "    }\n",
              "\n",
              "    .dataframe thead th {\n",
              "        text-align: right;\n",
              "    }\n",
              "</style>\n",
              "<table border=\"1\" class=\"dataframe\">\n",
              "  <thead>\n",
              "    <tr style=\"text-align: right;\">\n",
              "      <th></th>\n",
              "      <th>CountryName</th>\n",
              "      <th>CountryCode</th>\n",
              "      <th>Year</th>\n",
              "      <th>Total Population</th>\n",
              "      <th>Urban population (% of total)</th>\n",
              "      <th>Total Urban Population</th>\n",
              "    </tr>\n",
              "  </thead>\n",
              "  <tbody>\n",
              "    <tr>\n",
              "      <th>2</th>\n",
              "      <td>Central Europe and the Baltics</td>\n",
              "      <td>CEB</td>\n",
              "      <td>1960</td>\n",
              "      <td>91401583.0</td>\n",
              "      <td>44.507921</td>\n",
              "      <td>40680944</td>\n",
              "    </tr>\n",
              "    <tr>\n",
              "      <th>244</th>\n",
              "      <td>Central Europe and the Baltics</td>\n",
              "      <td>CEB</td>\n",
              "      <td>1961</td>\n",
              "      <td>92237118.0</td>\n",
              "      <td>45.206665</td>\n",
              "      <td>41697325</td>\n",
              "    </tr>\n",
              "    <tr>\n",
              "      <th>486</th>\n",
              "      <td>Central Europe and the Baltics</td>\n",
              "      <td>CEB</td>\n",
              "      <td>1962</td>\n",
              "      <td>93014890.0</td>\n",
              "      <td>45.866565</td>\n",
              "      <td>42662734</td>\n",
              "    </tr>\n",
              "    <tr>\n",
              "      <th>728</th>\n",
              "      <td>Central Europe and the Baltics</td>\n",
              "      <td>CEB</td>\n",
              "      <td>1963</td>\n",
              "      <td>93845749.0</td>\n",
              "      <td>46.534093</td>\n",
              "      <td>43670267</td>\n",
              "    </tr>\n",
              "    <tr>\n",
              "      <th>970</th>\n",
              "      <td>Central Europe and the Baltics</td>\n",
              "      <td>CEB</td>\n",
              "      <td>1964</td>\n",
              "      <td>94722599.0</td>\n",
              "      <td>47.208743</td>\n",
              "      <td>44717348</td>\n",
              "    </tr>\n",
              "  </tbody>\n",
              "</table>\n",
              "</div>"
            ],
            "text/plain": [
              "                        CountryName  ... Total Urban Population\n",
              "2    Central Europe and the Baltics  ...               40680944\n",
              "244  Central Europe and the Baltics  ...               41697325\n",
              "486  Central Europe and the Baltics  ...               42662734\n",
              "728  Central Europe and the Baltics  ...               43670267\n",
              "970  Central Europe and the Baltics  ...               44717348\n",
              "\n",
              "[5 rows x 6 columns]"
            ]
          },
          "metadata": {
            "tags": []
          },
          "execution_count": 63
        }
      ]
    },
    {
      "cell_type": "code",
      "metadata": {
        "id": "D5ZPSjDK_exj",
        "colab_type": "code",
        "colab": {
          "base_uri": "https://localhost:8080/",
          "height": 326
        },
        "outputId": "79801e96-d5c3-4edf-8119-727991475d90"
      },
      "source": [
        "plot_pop('world_ind_pop_data.csv', 'ARB')"
      ],
      "execution_count": 64,
      "outputs": [
        {
          "output_type": "stream",
          "text": [
            "/usr/local/lib/python3.6/dist-packages/ipykernel_launcher.py:14: SettingWithCopyWarning: \n",
            "A value is trying to be set on a copy of a slice from a DataFrame.\n",
            "Try using .loc[row_indexer,col_indexer] = value instead\n",
            "\n",
            "See the caveats in the documentation: https://pandas.pydata.org/pandas-docs/stable/user_guide/indexing.html#returning-a-view-versus-a-copy\n",
            "  \n"
          ],
          "name": "stderr"
        },
        {
          "output_type": "execute_result",
          "data": {
            "text/html": [
              "<div>\n",
              "<style scoped>\n",
              "    .dataframe tbody tr th:only-of-type {\n",
              "        vertical-align: middle;\n",
              "    }\n",
              "\n",
              "    .dataframe tbody tr th {\n",
              "        vertical-align: top;\n",
              "    }\n",
              "\n",
              "    .dataframe thead th {\n",
              "        text-align: right;\n",
              "    }\n",
              "</style>\n",
              "<table border=\"1\" class=\"dataframe\">\n",
              "  <thead>\n",
              "    <tr style=\"text-align: right;\">\n",
              "      <th></th>\n",
              "      <th>CountryName</th>\n",
              "      <th>CountryCode</th>\n",
              "      <th>Year</th>\n",
              "      <th>Total Population</th>\n",
              "      <th>Urban population (% of total)</th>\n",
              "      <th>Total Urban Population</th>\n",
              "    </tr>\n",
              "  </thead>\n",
              "  <tbody>\n",
              "    <tr>\n",
              "      <th>0</th>\n",
              "      <td>Arab World</td>\n",
              "      <td>ARB</td>\n",
              "      <td>1960</td>\n",
              "      <td>92495902.0</td>\n",
              "      <td>31.285384</td>\n",
              "      <td>28937698</td>\n",
              "    </tr>\n",
              "    <tr>\n",
              "      <th>242</th>\n",
              "      <td>Arab World</td>\n",
              "      <td>ARB</td>\n",
              "      <td>1961</td>\n",
              "      <td>95041593.0</td>\n",
              "      <td>32.029076</td>\n",
              "      <td>30440943</td>\n",
              "    </tr>\n",
              "    <tr>\n",
              "      <th>484</th>\n",
              "      <td>Arab World</td>\n",
              "      <td>ARB</td>\n",
              "      <td>1962</td>\n",
              "      <td>97691498.0</td>\n",
              "      <td>32.780323</td>\n",
              "      <td>32023588</td>\n",
              "    </tr>\n",
              "    <tr>\n",
              "      <th>726</th>\n",
              "      <td>Arab World</td>\n",
              "      <td>ARB</td>\n",
              "      <td>1963</td>\n",
              "      <td>100438281.0</td>\n",
              "      <td>33.555881</td>\n",
              "      <td>33702949</td>\n",
              "    </tr>\n",
              "    <tr>\n",
              "      <th>968</th>\n",
              "      <td>Arab World</td>\n",
              "      <td>ARB</td>\n",
              "      <td>1964</td>\n",
              "      <td>103273929.0</td>\n",
              "      <td>34.358432</td>\n",
              "      <td>35483302</td>\n",
              "    </tr>\n",
              "  </tbody>\n",
              "</table>\n",
              "</div>"
            ],
            "text/plain": [
              "    CountryName  ... Total Urban Population\n",
              "0    Arab World  ...               28937698\n",
              "242  Arab World  ...               30440943\n",
              "484  Arab World  ...               32023588\n",
              "726  Arab World  ...               33702949\n",
              "968  Arab World  ...               35483302\n",
              "\n",
              "[5 rows x 6 columns]"
            ]
          },
          "metadata": {
            "tags": []
          },
          "execution_count": 64
        }
      ]
    },
    {
      "cell_type": "code",
      "metadata": {
        "id": "XN34NC7r_jNT",
        "colab_type": "code",
        "colab": {}
      },
      "source": [
        ""
      ],
      "execution_count": 0,
      "outputs": []
    }
  ]
}