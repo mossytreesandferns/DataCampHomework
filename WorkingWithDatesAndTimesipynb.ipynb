{
  "nbformat": 4,
  "nbformat_minor": 0,
  "metadata": {
    "colab": {
      "name": "WorkingWithDatesAndTimesipynb",
      "provenance": [],
      "authorship_tag": "ABX9TyMa4VQVrGUfUMfNDaW85b2K",
      "include_colab_link": true
    },
    "kernelspec": {
      "name": "python3",
      "display_name": "Python 3"
    }
  },
  "cells": [
    {
      "cell_type": "markdown",
      "metadata": {
        "id": "view-in-github",
        "colab_type": "text"
      },
      "source": [
        "<a href=\"https://colab.research.google.com/github/mossytreesandferns/DataCampHomework/blob/master/WorkingWithDatesAndTimesipynb.ipynb\" target=\"_parent\"><img src=\"https://colab.research.google.com/assets/colab-badge.svg\" alt=\"Open In Colab\"/></a>"
      ]
    },
    {
      "cell_type": "code",
      "metadata": {
        "id": "1IcTbilVn_v_",
        "colab_type": "code",
        "outputId": "2913c75c-e866-4615-edde-dfaf0979a3e1",
        "colab": {
          "base_uri": "https://localhost:8080/",
          "height": 122
        }
      },
      "source": [
        "#Mount my drive- run the code, go to the link, accept.\n",
        "from google.colab import drive\n",
        "drive.mount('/content/gdrive')"
      ],
      "execution_count": 2,
      "outputs": [
        {
          "output_type": "stream",
          "text": [
            "Go to this URL in a browser: https://accounts.google.com/o/oauth2/auth?client_id=947318989803-6bn6qk8qdgf4n4g3pfee6491hc0brc4i.apps.googleusercontent.com&redirect_uri=urn%3aietf%3awg%3aoauth%3a2.0%3aoob&response_type=code&scope=email%20https%3a%2f%2fwww.googleapis.com%2fauth%2fdocs.test%20https%3a%2f%2fwww.googleapis.com%2fauth%2fdrive%20https%3a%2f%2fwww.googleapis.com%2fauth%2fdrive.photos.readonly%20https%3a%2f%2fwww.googleapis.com%2fauth%2fpeopleapi.readonly\n",
            "\n",
            "Enter your authorization code:\n",
            "··········\n",
            "Mounted at /content/gdrive\n"
          ],
          "name": "stdout"
        }
      ]
    },
    {
      "cell_type": "code",
      "metadata": {
        "id": "_9h37ECEoCwN",
        "colab_type": "code",
        "outputId": "3eaa9a4d-b4d9-47f1-9c1e-a60c0be5ce72",
        "colab": {
          "base_uri": "https://localhost:8080/",
          "height": 34
        }
      },
      "source": [
        "#Change working directory to make it easier to access the files\n",
        "import os\n",
        "os.chdir(\"/content/gdrive/My Drive/DCWorkingWithDatesandTimes/\")\n",
        "os.getcwd()"
      ],
      "execution_count": 3,
      "outputs": [
        {
          "output_type": "execute_result",
          "data": {
            "text/plain": [
              "'/content/gdrive/My Drive/DCWorkingWithDatesandTimes'"
            ]
          },
          "metadata": {
            "tags": []
          },
          "execution_count": 3
        }
      ]
    },
    {
      "cell_type": "markdown",
      "metadata": {
        "id": "COBfMt9voC91",
        "colab_type": "text"
      },
      "source": [
        "# Dates and Calenders"
      ]
    },
    {
      "cell_type": "markdown",
      "metadata": {
        "id": "-08epORdo-nA",
        "colab_type": "text"
      },
      "source": [
        "### Dates in Python"
      ]
    },
    {
      "cell_type": "code",
      "metadata": {
        "id": "1EyEEOHeoDgP",
        "colab_type": "code",
        "colab": {}
      },
      "source": [
        "import pandas as pd\n",
        "import datetime\n",
        "from datetime import date"
      ],
      "execution_count": 0,
      "outputs": []
    },
    {
      "cell_type": "code",
      "metadata": {
        "id": "R7h-l-FnpAPs",
        "colab_type": "code",
        "outputId": "c028266d-13e2-4f1e-fd26-cef003d505f7",
        "colab": {
          "base_uri": "https://localhost:8080/",
          "height": 34
        }
      },
      "source": [
        "# What day of the week was Hurricane Andrew?\n",
        "hurricane = date(1992,8,24)\n",
        "hurricane.weekday()"
      ],
      "execution_count": 5,
      "outputs": [
        {
          "output_type": "execute_result",
          "data": {
            "text/plain": [
              "0"
            ]
          },
          "metadata": {
            "tags": []
          },
          "execution_count": 5
        }
      ]
    },
    {
      "cell_type": "code",
      "metadata": {
        "id": "99IkS1yMpfRX",
        "colab_type": "code",
        "outputId": "e708d018-26fb-4d15-f826-ee80d4f584cc",
        "colab": {
          "base_uri": "https://localhost:8080/",
          "height": 34
        }
      },
      "source": [
        "hurr = pd.read_pickle('florida_hurricane_dates.pkl.txt')\n",
        "type(hurr)"
      ],
      "execution_count": 6,
      "outputs": [
        {
          "output_type": "execute_result",
          "data": {
            "text/plain": [
              "list"
            ]
          },
          "metadata": {
            "tags": []
          },
          "execution_count": 6
        }
      ]
    },
    {
      "cell_type": "code",
      "metadata": {
        "id": "_Rf6kxJ9p7X0",
        "colab_type": "code",
        "outputId": "b8dad0ba-3018-41ad-8e6e-50a5c8c9ee1c",
        "colab": {
          "base_uri": "https://localhost:8080/",
          "height": 34
        }
      },
      "source": [
        "early_hurricanes = 0\n",
        "for hurricane in hurr:\n",
        "  if hurricane.month < 6:\n",
        "    early_hurricanes += 1\n",
        "print(early_hurricanes)    "
      ],
      "execution_count": 7,
      "outputs": [
        {
          "output_type": "stream",
          "text": [
            "10\n"
          ],
          "name": "stdout"
        }
      ]
    },
    {
      "cell_type": "markdown",
      "metadata": {
        "id": "82jKda34sdoW",
        "colab_type": "text"
      },
      "source": [
        "### Math with dates"
      ]
    },
    {
      "cell_type": "code",
      "metadata": {
        "id": "fvVLKHDpqvut",
        "colab_type": "code",
        "colab": {}
      },
      "source": [
        "# Time deltas give elapsed time between two dates\n",
        "from datetime import timedelta"
      ],
      "execution_count": 0,
      "outputs": []
    },
    {
      "cell_type": "code",
      "metadata": {
        "id": "4g2MSz5lwDBJ",
        "colab_type": "code",
        "outputId": "cbce079a-c17e-43b5-f5fd-18b8e2745d32",
        "colab": {
          "base_uri": "https://localhost:8080/",
          "height": 34
        }
      },
      "source": [
        "# Create a date object for May 9th, 2007\n",
        "start = date(2007,5,9)\n",
        "\n",
        "# Create a date object for December 13th, 2007\n",
        "end = date(2007, 12, 13)\n",
        "\n",
        "# Subtract the two dates and print the number of days\n",
        "print((end- start).days)"
      ],
      "execution_count": 9,
      "outputs": [
        {
          "output_type": "stream",
          "text": [
            "218\n"
          ],
          "name": "stdout"
        }
      ]
    },
    {
      "cell_type": "code",
      "metadata": {
        "id": "yAd4KsXWwZLt",
        "colab_type": "code",
        "outputId": "09d33263-b26e-4a6e-a091-e93468883786",
        "colab": {
          "base_uri": "https://localhost:8080/",
          "height": 34
        }
      },
      "source": [
        "# A dictionary to count hurricanes per calendar month\n",
        "hurricanes_each_month = {1: 0, 2: 0, 3: 0, 4: 0, 5: 0, 6:0,\n",
        "\t\t  \t\t\t\t 7: 0, 8:0, 9:0, 10:0, 11:0, 12:0}\n",
        "\n",
        "# Loop over all hurricanes\n",
        "for hurricane in hurr:\n",
        "  # Pull out the month\n",
        "  month = hurricane.month\n",
        "  # Increment the count in your dictionary by one\n",
        "  hurricanes_each_month[month] += 1\n",
        "  \n",
        "print(hurricanes_each_month)"
      ],
      "execution_count": 10,
      "outputs": [
        {
          "output_type": "stream",
          "text": [
            "{1: 0, 2: 1, 3: 0, 4: 1, 5: 8, 6: 32, 7: 21, 8: 49, 9: 70, 10: 43, 11: 9, 12: 1}\n"
          ],
          "name": "stdout"
        }
      ]
    },
    {
      "cell_type": "code",
      "metadata": {
        "id": "N40vHTx3yDqy",
        "colab_type": "code",
        "colab": {}
      },
      "source": [
        "# Use sorted() to sort list of dates and print desired entries"
      ],
      "execution_count": 0,
      "outputs": []
    },
    {
      "cell_type": "markdown",
      "metadata": {
        "id": "MtwlyjR_zA92",
        "colab_type": "text"
      },
      "source": [
        "### Turning dates back into strings"
      ]
    },
    {
      "cell_type": "code",
      "metadata": {
        "id": "X_Mh_EHmy7jj",
        "colab_type": "code",
        "colab": {}
      },
      "source": [
        "# Turning dates back into strings is necessary when writing to a csv, putting into a file name, or printing date\n",
        "# ISO 8601 format: YYYY-MM-DD --> .isoformat(), sorted() works well with .isoformat()\n",
        "# .strftime() %Y%m%d"
      ],
      "execution_count": 0,
      "outputs": []
    },
    {
      "cell_type": "code",
      "metadata": {
        "id": "CzWhn4y20RO8",
        "colab_type": "code",
        "outputId": "a5ca971c-ec04-43ee-eb6f-9fa5c2db1a3e",
        "colab": {
          "base_uri": "https://localhost:8080/",
          "height": 68
        }
      },
      "source": [
        "# Assign the earliest date to first_date\n",
        "first_date = min(hurr)\n",
        "\n",
        "# Convert to ISO and US formats\n",
        "iso = \"Our earliest hurricane date: \" + first_date.isoformat() # use with date in list so that it will be a string\n",
        "us = \"Our earliest hurricane date: \" + first_date.strftime(\"%Y %m %d\")\n",
        "us2 = \"Our earliest hurricane date: \" + first_date.strftime(\"%Y/%m/%d\")\n",
        "print(\"ISO: \" + iso)\n",
        "print(\"US: \" + us)\n",
        "print(us2)"
      ],
      "execution_count": 13,
      "outputs": [
        {
          "output_type": "stream",
          "text": [
            "ISO: Our earliest hurricane date: 1950-08-31\n",
            "US: Our earliest hurricane date: 1950 08 31\n",
            "Our earliest hurricane date: 1950/08/31\n"
          ],
          "name": "stdout"
        }
      ]
    },
    {
      "cell_type": "code",
      "metadata": {
        "id": "uhHuiiXm06z0",
        "colab_type": "code",
        "outputId": "f16f4356-d38d-4a86-8d48-bb2de3d8b2df",
        "colab": {
          "base_uri": "https://localhost:8080/",
          "height": 85
        }
      },
      "source": [
        "# Create a date object\n",
        "andrew = date(1992, 8, 26)\n",
        "\n",
        "# Print the date in the format 'YYYY-MM'\n",
        "print(andrew.strftime('%Y-%m'))\n",
        "\n",
        "# Print the date in the format 'MONTH (YYYY)'\n",
        "print(andrew.strftime('%m (%Y)'))\n",
        "print(andrew.strftime('%B (%Y)')) # strftime cheatsheets online\n",
        "\n",
        "# Print the date in the format 'YYYY-DDD'\n",
        "print(andrew.strftime('%Y-%a %b %e'))"
      ],
      "execution_count": 14,
      "outputs": [
        {
          "output_type": "stream",
          "text": [
            "1992-08\n",
            "08 (1992)\n",
            "August (1992)\n",
            "1992-Wed Aug 26\n"
          ],
          "name": "stdout"
        }
      ]
    },
    {
      "cell_type": "markdown",
      "metadata": {
        "id": "nIADa-S333Ga",
        "colab_type": "text"
      },
      "source": [
        "# Combining Dates and Times"
      ]
    },
    {
      "cell_type": "markdown",
      "metadata": {
        "id": "yGwXtkFg4LY9",
        "colab_type": "text"
      },
      "source": [
        "### Dates and times"
      ]
    },
    {
      "cell_type": "code",
      "metadata": {
        "id": "iiEv0GhZ2LAJ",
        "colab_type": "code",
        "outputId": "18bf749c-1807-40f6-df3b-65e92f1ddb3e",
        "colab": {
          "base_uri": "https://localhost:8080/",
          "height": 34
        }
      },
      "source": [
        "# import datetime\n",
        "from datetime import datetime\n",
        "# October 1, 2017, 3:23:25 pm\n",
        "dt = datetime(2017,10,1,15,23,25) # add a half a second by adding 500k microseconds (year=2017,month=10,dat=1,hour=15,minute=23,second=25,microsecond=500000) nanoseconds covered later\n",
        "print(dt)"
      ],
      "execution_count": 15,
      "outputs": [
        {
          "output_type": "stream",
          "text": [
            "2017-10-01 15:23:25\n"
          ],
          "name": "stdout"
        }
      ]
    },
    {
      "cell_type": "code",
      "metadata": {
        "id": "JUDIp9FFCBng",
        "colab_type": "code",
        "outputId": "d1b47258-1a1b-4e92-810b-306398dbfce2",
        "colab": {
          "base_uri": "https://localhost:8080/",
          "height": 34
        }
      },
      "source": [
        "dt_hr = dt.replace(minute=0,second=0,microsecond=0)\n",
        "print(dt_hr)"
      ],
      "execution_count": 16,
      "outputs": [
        {
          "output_type": "stream",
          "text": [
            "2017-10-01 15:00:00\n"
          ],
          "name": "stdout"
        }
      ]
    },
    {
      "cell_type": "code",
      "metadata": {
        "id": "CCDZhinLC30J",
        "colab_type": "code",
        "outputId": "696af7de-55fd-4aea-8bdc-9b9afe512771",
        "colab": {
          "base_uri": "https://localhost:8080/",
          "height": 34
        }
      },
      "source": [
        "print(dt.isoformat())"
      ],
      "execution_count": 17,
      "outputs": [
        {
          "output_type": "stream",
          "text": [
            "2017-10-01T15:23:25\n"
          ],
          "name": "stdout"
        }
      ]
    },
    {
      "cell_type": "code",
      "metadata": {
        "id": "ir29BAhODjZg",
        "colab_type": "code",
        "outputId": "4e5e51db-272f-40cc-dfb9-a28e5927557a",
        "colab": {
          "base_uri": "https://localhost:8080/",
          "height": 34
        }
      },
      "source": [
        "# Import datetime\n",
        "from datetime import datetime\n",
        "\n",
        "# Create a datetime object\n",
        "dt = datetime(2017,12,31,15,19,13)\n",
        "\n",
        "# Print the results in ISO 8601 format\n",
        "print(dt.isoformat())"
      ],
      "execution_count": 18,
      "outputs": [
        {
          "output_type": "stream",
          "text": [
            "2017-12-31T15:19:13\n"
          ],
          "name": "stdout"
        }
      ]
    },
    {
      "cell_type": "code",
      "metadata": {
        "id": "Bnsv4iy5ENjH",
        "colab_type": "code",
        "outputId": "6be9a949-2829-4ef6-d9e7-734d13e80d3c",
        "colab": {
          "base_uri": "https://localhost:8080/",
          "height": 34
        }
      },
      "source": [
        "dt_yr = dt.replace(year=1917)\n",
        "print(dt_yr)"
      ],
      "execution_count": 19,
      "outputs": [
        {
          "output_type": "stream",
          "text": [
            "1917-12-31 15:19:13\n"
          ],
          "name": "stdout"
        }
      ]
    },
    {
      "cell_type": "code",
      "metadata": {
        "id": "uIkbzCJ4EbKA",
        "colab_type": "code",
        "outputId": "1e720b77-eff1-49cf-e87e-803000821828",
        "colab": {
          "base_uri": "https://localhost:8080/",
          "height": 210
        }
      },
      "source": [
        "bikes = pd.read_csv('capital-onebike.csv')\n",
        "bikes.head(3)"
      ],
      "execution_count": 20,
      "outputs": [
        {
          "output_type": "execute_result",
          "data": {
            "text/html": [
              "<div>\n",
              "<style scoped>\n",
              "    .dataframe tbody tr th:only-of-type {\n",
              "        vertical-align: middle;\n",
              "    }\n",
              "\n",
              "    .dataframe tbody tr th {\n",
              "        vertical-align: top;\n",
              "    }\n",
              "\n",
              "    .dataframe thead th {\n",
              "        text-align: right;\n",
              "    }\n",
              "</style>\n",
              "<table border=\"1\" class=\"dataframe\">\n",
              "  <thead>\n",
              "    <tr style=\"text-align: right;\">\n",
              "      <th></th>\n",
              "      <th>Start date</th>\n",
              "      <th>End date</th>\n",
              "      <th>Start station number</th>\n",
              "      <th>Start station</th>\n",
              "      <th>End station number</th>\n",
              "      <th>End station</th>\n",
              "      <th>Bike number</th>\n",
              "      <th>Member type</th>\n",
              "    </tr>\n",
              "  </thead>\n",
              "  <tbody>\n",
              "    <tr>\n",
              "      <th>0</th>\n",
              "      <td>2017-10-01 15:23:25</td>\n",
              "      <td>2017-10-01 15:26:26</td>\n",
              "      <td>31038</td>\n",
              "      <td>Glebe Rd &amp; 11th St N</td>\n",
              "      <td>31036</td>\n",
              "      <td>George Mason Dr &amp; Wilson Blvd</td>\n",
              "      <td>W20529</td>\n",
              "      <td>Member</td>\n",
              "    </tr>\n",
              "    <tr>\n",
              "      <th>1</th>\n",
              "      <td>2017-10-01 15:42:57</td>\n",
              "      <td>2017-10-01 17:49:59</td>\n",
              "      <td>31036</td>\n",
              "      <td>George Mason Dr &amp; Wilson Blvd</td>\n",
              "      <td>31036</td>\n",
              "      <td>George Mason Dr &amp; Wilson Blvd</td>\n",
              "      <td>W20529</td>\n",
              "      <td>Casual</td>\n",
              "    </tr>\n",
              "    <tr>\n",
              "      <th>2</th>\n",
              "      <td>2017-10-02 06:37:10</td>\n",
              "      <td>2017-10-02 06:42:53</td>\n",
              "      <td>31036</td>\n",
              "      <td>George Mason Dr &amp; Wilson Blvd</td>\n",
              "      <td>31037</td>\n",
              "      <td>Ballston Metro / N Stuart &amp; 9th St N</td>\n",
              "      <td>W20529</td>\n",
              "      <td>Member</td>\n",
              "    </tr>\n",
              "  </tbody>\n",
              "</table>\n",
              "</div>"
            ],
            "text/plain": [
              "            Start date             End date  ...  Bike number Member type\n",
              "0  2017-10-01 15:23:25  2017-10-01 15:26:26  ...       W20529      Member\n",
              "1  2017-10-01 15:42:57  2017-10-01 17:49:59  ...       W20529      Casual\n",
              "2  2017-10-02 06:37:10  2017-10-02 06:42:53  ...       W20529      Member\n",
              "\n",
              "[3 rows x 8 columns]"
            ]
          },
          "metadata": {
            "tags": []
          },
          "execution_count": 20
        }
      ]
    },
    {
      "cell_type": "code",
      "metadata": {
        "id": "JOK4yilDHcoo",
        "colab_type": "code",
        "outputId": "dfe0f342-c1f7-4710-bd4d-f68cecc93d8f",
        "colab": {
          "base_uri": "https://localhost:8080/",
          "height": 272
        }
      },
      "source": [
        "bikes.info()"
      ],
      "execution_count": 21,
      "outputs": [
        {
          "output_type": "stream",
          "text": [
            "<class 'pandas.core.frame.DataFrame'>\n",
            "RangeIndex: 290 entries, 0 to 289\n",
            "Data columns (total 8 columns):\n",
            " #   Column                Non-Null Count  Dtype \n",
            "---  ------                --------------  ----- \n",
            " 0   Start date            290 non-null    object\n",
            " 1   End date              290 non-null    object\n",
            " 2   Start station number  290 non-null    int64 \n",
            " 3   Start station         290 non-null    object\n",
            " 4   End station number    290 non-null    int64 \n",
            " 5   End station           290 non-null    object\n",
            " 6   Bike number           290 non-null    object\n",
            " 7   Member type           290 non-null    object\n",
            "dtypes: int64(2), object(6)\n",
            "memory usage: 18.2+ KB\n"
          ],
          "name": "stdout"
        }
      ]
    },
    {
      "cell_type": "code",
      "metadata": {
        "id": "ah2P6e9qFiv9",
        "colab_type": "code",
        "outputId": "e9cad64f-d66a-4aa6-c765-43046a91a375",
        "colab": {
          "base_uri": "https://localhost:8080/",
          "height": 34
        }
      },
      "source": [
        "type(bikes['Start date']),type(bikes['End date'])"
      ],
      "execution_count": 22,
      "outputs": [
        {
          "output_type": "execute_result",
          "data": {
            "text/plain": [
              "(pandas.core.series.Series, pandas.core.series.Series)"
            ]
          },
          "metadata": {
            "tags": []
          },
          "execution_count": 22
        }
      ]
    },
    {
      "cell_type": "code",
      "metadata": {
        "id": "FHsyeFRuE6Aw",
        "colab_type": "code",
        "outputId": "98f2ffd3-c83d-4be1-8273-34af8a920b52",
        "colab": {
          "base_uri": "https://localhost:8080/",
          "height": 34
        }
      },
      "source": [
        "# Create dictionary to hold results \n",
        "bikes['Start date'] = pd.to_datetime(bikes['Start date'])\n",
        "onebike_datetimes = bikes['Start date'] # Datacamp console has start date and end date loaded as a dictionary\n",
        "trip_counts = {'AM': 0, 'PM': 0}\n",
        "  \n",
        "# Loop over all trips\n",
        "for trip in onebike_datetimes:\n",
        "  # Check to see if the trip starts before noon\n",
        "  if trip.hour < 12:\n",
        "    # Increment the counter for before noon\n",
        "    trip_counts['AM'] += 1\n",
        "  else:\n",
        "    # Increment the counter for after noon\n",
        "    trip_counts['PM'] += 1\n",
        "  \n",
        "print(trip_counts)"
      ],
      "execution_count": 23,
      "outputs": [
        {
          "output_type": "stream",
          "text": [
            "{'AM': 94, 'PM': 196}\n"
          ],
          "name": "stdout"
        }
      ]
    },
    {
      "cell_type": "markdown",
      "metadata": {
        "id": "_IVWKbgyHxi3",
        "colab_type": "text"
      },
      "source": [
        "### Printing and Parsing Datetimes"
      ]
    },
    {
      "cell_type": "code",
      "metadata": {
        "id": "Qc3z2u8SHF9A",
        "colab_type": "code",
        "outputId": "9d6ff055-c6d9-439d-9520-d105bebb05a8",
        "colab": {
          "base_uri": "https://localhost:8080/",
          "height": 34
        }
      },
      "source": [
        "dt = datetime(2017,12,30,15,19,13)\n",
        "print(dt.strftime('%Y-%m-%d'))"
      ],
      "execution_count": 24,
      "outputs": [
        {
          "output_type": "stream",
          "text": [
            "2017-12-30\n"
          ],
          "name": "stdout"
        }
      ]
    },
    {
      "cell_type": "code",
      "metadata": {
        "id": "cxjxOrcURQCn",
        "colab_type": "code",
        "outputId": "deb3c9cd-397c-4b48-cf36-ccf5d93a334e",
        "colab": {
          "base_uri": "https://localhost:8080/",
          "height": 34
        }
      },
      "source": [
        "print(dt.strftime('%Y-%m-%d %H:%M:%S'))"
      ],
      "execution_count": 25,
      "outputs": [
        {
          "output_type": "stream",
          "text": [
            "2017-12-30 15:19:13\n"
          ],
          "name": "stdout"
        }
      ]
    },
    {
      "cell_type": "code",
      "metadata": {
        "id": "sGpLT9HHRmq3",
        "colab_type": "code",
        "outputId": "71b5033b-5ccf-4c99-fb4f-62878788cb1b",
        "colab": {
          "base_uri": "https://localhost:8080/",
          "height": 34
        }
      },
      "source": [
        "print(dt.isoformat())"
      ],
      "execution_count": 26,
      "outputs": [
        {
          "output_type": "stream",
          "text": [
            "2017-12-30T15:19:13\n"
          ],
          "name": "stdout"
        }
      ]
    },
    {
      "cell_type": "code",
      "metadata": {
        "id": "wgLM0YqRRzS6",
        "colab_type": "code",
        "outputId": "ee0970e6-7173-4387-db56-2b2ae44054e1",
        "colab": {
          "base_uri": "https://localhost:8080/",
          "height": 34
        }
      },
      "source": [
        "# datetime.strptime(stringtoturnintodate, formatstring)    'string parse time'\n",
        "dt = datetime.strptime('12/30/2017 15:19:13','%m/%d/%Y %H:%M:%S') #format has to match exactly\n",
        "type(dt)"
      ],
      "execution_count": 27,
      "outputs": [
        {
          "output_type": "execute_result",
          "data": {
            "text/plain": [
              "datetime.datetime"
            ]
          },
          "metadata": {
            "tags": []
          },
          "execution_count": 27
        }
      ]
    },
    {
      "cell_type": "code",
      "metadata": {
        "id": "sBjhHS1oS1Ma",
        "colab_type": "code",
        "outputId": "6d6658a3-6669-4b6c-b355-39f54f9c072b",
        "colab": {
          "base_uri": "https://localhost:8080/",
          "height": 34
        }
      },
      "source": [
        "print(dt)"
      ],
      "execution_count": 28,
      "outputs": [
        {
          "output_type": "stream",
          "text": [
            "2017-12-30 15:19:13\n"
          ],
          "name": "stdout"
        }
      ]
    },
    {
      "cell_type": "code",
      "metadata": {
        "id": "uEbdJlrLTFFP",
        "colab_type": "code",
        "outputId": "ac3a7b47-4c5f-43c0-c1d2-f359045d07e9",
        "colab": {
          "base_uri": "https://localhost:8080/",
          "height": 34
        }
      },
      "source": [
        "# Reading from Unix timestamp (seconds from 1/1/1970)\n",
        "ts = 1514665153.0\n",
        "print(datetime.fromtimestamp(ts))"
      ],
      "execution_count": 29,
      "outputs": [
        {
          "output_type": "stream",
          "text": [
            "2017-12-30 20:19:13\n"
          ],
          "name": "stdout"
        }
      ]
    },
    {
      "cell_type": "code",
      "metadata": {
        "id": "M7ubhPb4TnU3",
        "colab_type": "code",
        "outputId": "e2b0092e-9508-4168-8760-49f03e676576",
        "colab": {
          "base_uri": "https://localhost:8080/",
          "height": 34
        }
      },
      "source": [
        "# Import the datetime class\n",
        "from datetime import datetime\n",
        "\n",
        "# Starting string, in YYYY-MM-DD HH:MM:SS format\n",
        "s = '2017-02-03 00:00:01'\n",
        "\n",
        "# Write a format string to parse s\n",
        "fmt = '%Y-%m-%d %H:%M:%S'\n",
        "\n",
        "# Create a datetime object d\n",
        "d = datetime.strptime(s, fmt)\n",
        "\n",
        "# Print d\n",
        "print(d)"
      ],
      "execution_count": 30,
      "outputs": [
        {
          "output_type": "stream",
          "text": [
            "2017-02-03 00:00:01\n"
          ],
          "name": "stdout"
        }
      ]
    },
    {
      "cell_type": "code",
      "metadata": {
        "id": "AZ-PEejMUcW1",
        "colab_type": "code",
        "outputId": "5def507a-4fc4-43fc-d80d-9dfda715da64",
        "colab": {
          "base_uri": "https://localhost:8080/",
          "height": 34
        }
      },
      "source": [
        "# Import the datetime class\n",
        "from datetime import datetime\n",
        "\n",
        "# Starting string, in YYYY-MM-DD format\n",
        "s = '2030-10-15'\n",
        "\n",
        "# Write a format string to parse s\n",
        "fmt = '%Y-%m-%d'\n",
        "\n",
        "# Create a datetime object d\n",
        "d = datetime.strptime(s, fmt)\n",
        "\n",
        "# Print d\n",
        "print(d)"
      ],
      "execution_count": 31,
      "outputs": [
        {
          "output_type": "stream",
          "text": [
            "2030-10-15 00:00:00\n"
          ],
          "name": "stdout"
        }
      ]
    },
    {
      "cell_type": "code",
      "metadata": {
        "id": "KZblCvIrU6Ya",
        "colab_type": "code",
        "outputId": "e95cbafc-4a59-4731-82d1-09fc531b193e",
        "colab": {
          "base_uri": "https://localhost:8080/",
          "height": 34
        }
      },
      "source": [
        "# Import the datetime class\n",
        "from datetime import datetime\n",
        "\n",
        "# Starting string, in MM/DD/YYYY HH:MM:SS format\n",
        "s = '12/15/1986 08:00:00'\n",
        "\n",
        "# Write a format string to parse s\n",
        "fmt = '%m/%d/%Y %H:%M:%S'\n",
        "\n",
        "# Create a datetime object d\n",
        "d = datetime.strptime(s,fmt)\n",
        "\n",
        "# Print d\n",
        "print(d)"
      ],
      "execution_count": 32,
      "outputs": [
        {
          "output_type": "stream",
          "text": [
            "1986-12-15 08:00:00\n"
          ],
          "name": "stdout"
        }
      ]
    },
    {
      "cell_type": "code",
      "metadata": {
        "id": "8jz0Jpz5X2U1",
        "colab_type": "code",
        "colab": {}
      },
      "source": [
        "bikes = pd.read_csv('capital-onebike.csv')"
      ],
      "execution_count": 0,
      "outputs": []
    },
    {
      "cell_type": "code",
      "metadata": {
        "id": "AJhWFRA0VQwW",
        "colab_type": "code",
        "outputId": "04ad0b50-3064-4271-c8f3-8230f68f61c2",
        "colab": {
          "base_uri": "https://localhost:8080/",
          "height": 187
        }
      },
      "source": [
        "tuple_list = zip(bikes['Start date'],bikes['End date'])\n",
        "#print(next(tuple_list)) don't forget to listify\n",
        "tuple_list = list(tuple_list)\n",
        "tuple_list[:10]"
      ],
      "execution_count": 34,
      "outputs": [
        {
          "output_type": "execute_result",
          "data": {
            "text/plain": [
              "[('2017-10-01 15:23:25', '2017-10-01 15:26:26'),\n",
              " ('2017-10-01 15:42:57', '2017-10-01 17:49:59'),\n",
              " ('2017-10-02 06:37:10', '2017-10-02 06:42:53'),\n",
              " ('2017-10-02 08:56:45', '2017-10-02 09:18:03'),\n",
              " ('2017-10-02 18:23:48', '2017-10-02 18:45:05'),\n",
              " ('2017-10-02 18:48:08', '2017-10-02 19:10:54'),\n",
              " ('2017-10-02 19:18:10', '2017-10-02 19:31:45'),\n",
              " ('2017-10-02 19:37:32', '2017-10-02 19:46:37'),\n",
              " ('2017-10-03 08:24:16', '2017-10-03 08:32:27'),\n",
              " ('2017-10-03 18:17:07', '2017-10-03 18:27:46')]"
            ]
          },
          "metadata": {
            "tags": []
          },
          "execution_count": 34
        }
      ]
    },
    {
      "cell_type": "code",
      "metadata": {
        "id": "C36En97LXqiU",
        "colab_type": "code",
        "outputId": "1ffca2a3-20d7-47cc-d5e6-055aff921249",
        "colab": {
          "base_uri": "https://localhost:8080/",
          "height": 187
        }
      },
      "source": [
        "fmt = \"%Y-%m-%d %H:%M:%S\"\n",
        "datetime_list = []\n",
        "# loop over list of tuplefied start and end times\n",
        "for (start, end) in tuple_list:\n",
        "  # create dictionary inside of for loop\n",
        "  trip = {'start': datetime.strptime(start,fmt),\n",
        "          'end': datetime.strptime(end,fmt)}\n",
        "  datetime_list.append(trip) \n",
        "\n",
        "datetime_list[:5]         "
      ],
      "execution_count": 35,
      "outputs": [
        {
          "output_type": "execute_result",
          "data": {
            "text/plain": [
              "[{'end': datetime.datetime(2017, 10, 1, 15, 26, 26),\n",
              "  'start': datetime.datetime(2017, 10, 1, 15, 23, 25)},\n",
              " {'end': datetime.datetime(2017, 10, 1, 17, 49, 59),\n",
              "  'start': datetime.datetime(2017, 10, 1, 15, 42, 57)},\n",
              " {'end': datetime.datetime(2017, 10, 2, 6, 42, 53),\n",
              "  'start': datetime.datetime(2017, 10, 2, 6, 37, 10)},\n",
              " {'end': datetime.datetime(2017, 10, 2, 9, 18, 3),\n",
              "  'start': datetime.datetime(2017, 10, 2, 8, 56, 45)},\n",
              " {'end': datetime.datetime(2017, 10, 2, 18, 45, 5),\n",
              "  'start': datetime.datetime(2017, 10, 2, 18, 23, 48)}]"
            ]
          },
          "metadata": {
            "tags": []
          },
          "execution_count": 35
        }
      ]
    },
    {
      "cell_type": "code",
      "metadata": {
        "id": "hbPmJ5whbSR2",
        "colab_type": "code",
        "outputId": "f031781e-66cd-41f1-a65b-109ae63c18d1",
        "colab": {
          "base_uri": "https://localhost:8080/",
          "height": 51
        }
      },
      "source": [
        "one = datetime_list[0]['start']\n",
        "fmt = \"%Y-%m-%d %H:%M:%S\"\n",
        "print(one.isoformat())\n",
        "print(one.strftime(fmt))"
      ],
      "execution_count": 36,
      "outputs": [
        {
          "output_type": "stream",
          "text": [
            "2017-10-01T15:23:25\n",
            "2017-10-01 15:23:25\n"
          ],
          "name": "stdout"
        }
      ]
    },
    {
      "cell_type": "code",
      "metadata": {
        "id": "3sLpGRAxdB5C",
        "colab_type": "code",
        "outputId": "55987ac3-64de-4c8e-98be-55fedc5a7f9f",
        "colab": {
          "base_uri": "https://localhost:8080/",
          "height": 34
        }
      },
      "source": [
        "# Starting timestamps\n",
        "timestamps = [1514665153, 1514664543]\n",
        "\n",
        "# Datetime objects\n",
        "dts = []\n",
        "\n",
        "# Loop\n",
        "for ts in timestamps:\n",
        "  dts.append(datetime.fromtimestamp(ts))\n",
        "  \n",
        "# Print results\n",
        "print(dts)"
      ],
      "execution_count": 37,
      "outputs": [
        {
          "output_type": "stream",
          "text": [
            "[datetime.datetime(2017, 12, 30, 20, 19, 13), datetime.datetime(2017, 12, 30, 20, 9, 3)]\n"
          ],
          "name": "stdout"
        }
      ]
    },
    {
      "cell_type": "markdown",
      "metadata": {
        "id": "SXiY0FuFd3Aj",
        "colab_type": "text"
      },
      "source": [
        "### Working with Durations"
      ]
    },
    {
      "cell_type": "code",
      "metadata": {
        "id": "TsYGJJqLdrxI",
        "colab_type": "code",
        "outputId": "76c876b0-2d90-44ab-d843-401c86ebee87",
        "colab": {
          "base_uri": "https://localhost:8080/",
          "height": 34
        }
      },
      "source": [
        "start = datetime(2017,10,8,23,46,47)\n",
        "end = datetime(2017,10,9,0,10,57)\n",
        "duration = end-start\n",
        "print(duration)"
      ],
      "execution_count": 38,
      "outputs": [
        {
          "output_type": "stream",
          "text": [
            "0:24:10\n"
          ],
          "name": "stdout"
        }
      ]
    },
    {
      "cell_type": "code",
      "metadata": {
        "id": "GTr8PhhkjFnN",
        "colab_type": "code",
        "outputId": "72770877-5a68-4e9a-c5c2-bf38f1072ade",
        "colab": {
          "base_uri": "https://localhost:8080/",
          "height": 34
        }
      },
      "source": [
        "duration.total_seconds()"
      ],
      "execution_count": 39,
      "outputs": [
        {
          "output_type": "execute_result",
          "data": {
            "text/plain": [
              "1450.0"
            ]
          },
          "metadata": {
            "tags": []
          },
          "execution_count": 39
        }
      ]
    },
    {
      "cell_type": "code",
      "metadata": {
        "id": "7nvlDdrYjjxz",
        "colab_type": "code",
        "outputId": "703c39bc-629e-43d3-b267-ff7855974fb1",
        "colab": {
          "base_uri": "https://localhost:8080/",
          "height": 51
        }
      },
      "source": [
        "# Creating a timedelta by hand timedelta(weeks=,days=,hours=,minutes=,seconds=,microseconds=)\n",
        "#  -timedeltas can be negative\n",
        "from datetime import timedelta\n",
        "delta1 = timedelta(seconds=1)\n",
        "print(start)\n",
        "print(start + delta1)"
      ],
      "execution_count": 40,
      "outputs": [
        {
          "output_type": "stream",
          "text": [
            "2017-10-08 23:46:47\n",
            "2017-10-08 23:46:48\n"
          ],
          "name": "stdout"
        }
      ]
    },
    {
      "cell_type": "code",
      "metadata": {
        "id": "qrJGyS-DkJ6i",
        "colab_type": "code",
        "outputId": "2be192e3-fb9e-4078-9134-94b8bb02f9a2",
        "colab": {
          "base_uri": "https://localhost:8080/",
          "height": 51
        }
      },
      "source": [
        "delta2 = timedelta(days=1, seconds = 2)\n",
        "print(start)\n",
        "print(start + delta2)"
      ],
      "execution_count": 41,
      "outputs": [
        {
          "output_type": "stream",
          "text": [
            "2017-10-08 23:46:47\n",
            "2017-10-09 23:46:49\n"
          ],
          "name": "stdout"
        }
      ]
    },
    {
      "cell_type": "code",
      "metadata": {
        "id": "hBh2B9bhkdHV",
        "colab_type": "code",
        "outputId": "70bec1d5-3e3d-4a2b-ffeb-9782a0c54a7e",
        "colab": {
          "base_uri": "https://localhost:8080/",
          "height": 34
        }
      },
      "source": [
        "# Initialize a list for all the trip durations\n",
        "onebike_durations = []\n",
        "\n",
        "for trip in datetime_list:\n",
        "  # Create a timedelta object corresponding to the length of the trip\n",
        "  trip_duration = trip['end'] - trip['start']\n",
        "  \n",
        "  # Get the total elapsed seconds in trip_duration\n",
        "  trip_length_seconds = trip_duration.total_seconds()\n",
        "  \n",
        "  # Append the results to our list\n",
        "  onebike_durations.append(trip_length_seconds)\n",
        "onebike_durations[:5]  "
      ],
      "execution_count": 42,
      "outputs": [
        {
          "output_type": "execute_result",
          "data": {
            "text/plain": [
              "[181.0, 7622.0, 343.0, 1278.0, 1277.0]"
            ]
          },
          "metadata": {
            "tags": []
          },
          "execution_count": 42
        }
      ]
    },
    {
      "cell_type": "code",
      "metadata": {
        "id": "PixY1erEm-yB",
        "colab_type": "code",
        "outputId": "7d020d3f-aabe-4bd2-fc8c-27868b50020d",
        "colab": {
          "base_uri": "https://localhost:8080/",
          "height": 34
        }
      },
      "source": [
        "# What was the total duration of all trips?\n",
        "total_elapsed_time = sum(onebike_durations)\n",
        "\n",
        "# What was the total number of trips?\n",
        "number_of_trips = len(onebike_durations)\n",
        "  \n",
        "# Divide the total duration by the number of trips to get avg secondsper trip\n",
        "print(total_elapsed_time / number_of_trips)"
      ],
      "execution_count": 43,
      "outputs": [
        {
          "output_type": "stream",
          "text": [
            "1178.9310344827586\n"
          ],
          "name": "stdout"
        }
      ]
    },
    {
      "cell_type": "code",
      "metadata": {
        "id": "JVxLHs_JoFXA",
        "colab_type": "code",
        "outputId": "7ef6c6f0-faac-4ef8-cf13-af3b6e2eabdc",
        "colab": {
          "base_uri": "https://localhost:8080/",
          "height": 51
        }
      },
      "source": [
        "# Calculate shortest and longest trips\n",
        "shortest_trip = min(onebike_durations)\n",
        "longest_trip = max(onebike_durations)\n",
        "\n",
        "# Print out the results\n",
        "print(\"The shortest trip was \" + str(shortest_trip) + \" seconds\")\n",
        "print(\"The longest trip was \" + str(longest_trip) + \" seconds\")"
      ],
      "execution_count": 44,
      "outputs": [
        {
          "output_type": "stream",
          "text": [
            "The shortest trip was -3346.0 seconds\n",
            "The longest trip was 76913.0 seconds\n"
          ],
          "name": "stdout"
        }
      ]
    },
    {
      "cell_type": "markdown",
      "metadata": {
        "id": "-rCLHT-wcC2f",
        "colab_type": "text"
      },
      "source": [
        "# Timezones and Daylight Savings"
      ]
    },
    {
      "cell_type": "markdown",
      "metadata": {
        "id": "LkhAyKKccIGT",
        "colab_type": "text"
      },
      "source": [
        "### UTC offsets"
      ]
    },
    {
      "cell_type": "code",
      "metadata": {
        "id": "suEY08BGouX9",
        "colab_type": "code",
        "outputId": "2bd7d7d2-8955-45eb-b8a0-ad1d461d32de",
        "colab": {
          "base_uri": "https://localhost:8080/",
          "height": 34
        }
      },
      "source": [
        "from datetime import datetime, timedelta, timezone\n",
        "# Eastern standard time\n",
        "ET = timezone(timedelta(hours=-5))\n",
        "# Timezone aware datetime\n",
        "dt = datetime(2017, 10,1,23,15,3,tzinfo=ET) # This recorded time is 5 hours behind UTC\n",
        "# printing with UTC offset\n",
        "print(dt)"
      ],
      "execution_count": 45,
      "outputs": [
        {
          "output_type": "stream",
          "text": [
            "2017-10-01 23:15:03-05:00\n"
          ],
          "name": "stdout"
        }
      ]
    },
    {
      "cell_type": "code",
      "metadata": {
        "id": "kjly0kHIdzhS",
        "colab_type": "code",
        "outputId": "1d84f20d-8b1c-41b4-a3f9-6a2f2a430e04",
        "colab": {
          "base_uri": "https://localhost:8080/",
          "height": 34
        }
      },
      "source": [
        "# India standard time\n",
        "IST = timezone(timedelta(hours=5,minutes=30))\n",
        "#astimezone() method\n",
        "print(dt.astimezone(IST))"
      ],
      "execution_count": 46,
      "outputs": [
        {
          "output_type": "stream",
          "text": [
            "2017-10-02 09:45:03+05:30\n"
          ],
          "name": "stdout"
        }
      ]
    },
    {
      "cell_type": "code",
      "metadata": {
        "id": "8jmCBoRKe37V",
        "colab_type": "code",
        "outputId": "5a1c5866-5914-41d4-8f9d-11f6a15a6744",
        "colab": {
          "base_uri": "https://localhost:8080/",
          "height": 51
        }
      },
      "source": [
        "# replace tzinfo:\n",
        "print(dt.replace(tzinfo=timezone.utc))\n",
        "\n",
        "# change original to match UTC\n",
        "print(dt.astimezone(timezone.utc))"
      ],
      "execution_count": 47,
      "outputs": [
        {
          "output_type": "stream",
          "text": [
            "2017-10-01 23:15:03+00:00\n",
            "2017-10-02 04:15:03+00:00\n"
          ],
          "name": "stdout"
        }
      ]
    },
    {
      "cell_type": "code",
      "metadata": {
        "id": "P8xxA_3R7VVY",
        "colab_type": "code",
        "colab": {}
      },
      "source": [
        ""
      ],
      "execution_count": 0,
      "outputs": []
    },
    {
      "cell_type": "code",
      "metadata": {
        "id": "5i748nN9gHJQ",
        "colab_type": "code",
        "outputId": "a30799fe-d2d7-40ba-a508-5e2aff507f75",
        "colab": {
          "base_uri": "https://localhost:8080/",
          "height": 71
        }
      },
      "source": [
        "# Create a timezone object corresponding to UTC-4\n",
        "edt = timezone(timedelta(hours=-4))\n",
        "print(datetime_list[:3])\n",
        "\n",
        "# Loop over trips, updating the start and end datetimes to be in UTC-4\n",
        "for trip in datetime_list[:10]:\n",
        "  # Update trip['start'] and trip['end']\n",
        "  trip['start'] = trip['start'].astimezone(edt)\n",
        "  trip['end'] = trip['end'].astimezone(edt)\n",
        "print(datetime_list[:3])  "
      ],
      "execution_count": 48,
      "outputs": [
        {
          "output_type": "stream",
          "text": [
            "[{'start': datetime.datetime(2017, 10, 1, 15, 23, 25), 'end': datetime.datetime(2017, 10, 1, 15, 26, 26)}, {'start': datetime.datetime(2017, 10, 1, 15, 42, 57), 'end': datetime.datetime(2017, 10, 1, 17, 49, 59)}, {'start': datetime.datetime(2017, 10, 2, 6, 37, 10), 'end': datetime.datetime(2017, 10, 2, 6, 42, 53)}]\n",
            "[{'start': datetime.datetime(2017, 10, 1, 11, 23, 25, tzinfo=datetime.timezone(datetime.timedelta(-1, 72000))), 'end': datetime.datetime(2017, 10, 1, 11, 26, 26, tzinfo=datetime.timezone(datetime.timedelta(-1, 72000)))}, {'start': datetime.datetime(2017, 10, 1, 11, 42, 57, tzinfo=datetime.timezone(datetime.timedelta(-1, 72000))), 'end': datetime.datetime(2017, 10, 1, 13, 49, 59, tzinfo=datetime.timezone(datetime.timedelta(-1, 72000)))}, {'start': datetime.datetime(2017, 10, 2, 2, 37, 10, tzinfo=datetime.timezone(datetime.timedelta(-1, 72000))), 'end': datetime.datetime(2017, 10, 2, 2, 42, 53, tzinfo=datetime.timezone(datetime.timedelta(-1, 72000)))}]\n"
          ],
          "name": "stdout"
        }
      ]
    },
    {
      "cell_type": "code",
      "metadata": {
        "id": "41bu_d7h6c8E",
        "colab_type": "code",
        "outputId": "21f99ff2-bd6e-41d1-f950-f0dcb9eb6820",
        "colab": {
          "base_uri": "https://localhost:8080/",
          "height": 54
        }
      },
      "source": [
        "\n",
        "# Create a timezone object corresponding to UTC-4\n",
        "edt = timezone(timedelta(hours=-4))\n",
        "\n",
        "# Loop over trips, updating the start and end datetimes to be in UTC-4\n",
        "for trip in datetime_list[:10]:\n",
        "  # Update trip['start'] and trip['end']\n",
        "  trip['start'] = trip['start'].replace(tzinfo=edt)\n",
        "  trip['end'] = trip['end'].replace(tzinfo=edt)\n",
        "print(datetime_list[:3])  "
      ],
      "execution_count": 49,
      "outputs": [
        {
          "output_type": "stream",
          "text": [
            "[{'start': datetime.datetime(2017, 10, 1, 11, 23, 25, tzinfo=datetime.timezone(datetime.timedelta(-1, 72000))), 'end': datetime.datetime(2017, 10, 1, 11, 26, 26, tzinfo=datetime.timezone(datetime.timedelta(-1, 72000)))}, {'start': datetime.datetime(2017, 10, 1, 11, 42, 57, tzinfo=datetime.timezone(datetime.timedelta(-1, 72000))), 'end': datetime.datetime(2017, 10, 1, 13, 49, 59, tzinfo=datetime.timezone(datetime.timedelta(-1, 72000)))}, {'start': datetime.datetime(2017, 10, 2, 2, 37, 10, tzinfo=datetime.timezone(datetime.timedelta(-1, 72000))), 'end': datetime.datetime(2017, 10, 2, 2, 42, 53, tzinfo=datetime.timezone(datetime.timedelta(-1, 72000)))}]\n"
          ],
          "name": "stdout"
        }
      ]
    },
    {
      "cell_type": "code",
      "metadata": {
        "id": "KokxaMhd-Ni1",
        "colab_type": "code",
        "outputId": "60903907-673a-4b8e-9e27-525e7e0b36bd",
        "colab": {
          "base_uri": "https://localhost:8080/",
          "height": 187
        }
      },
      "source": [
        "# Loop over the trips\n",
        "for trip in datetime_list[:10]:\n",
        "  # Pull out the start and set it to UTC\n",
        "  dt = trip['start'].replace(tzinfo=timezone.utc)\n",
        "  \n",
        "  # Print the start time in UTC\n",
        "  print('Original:', trip['start'], '| UTC:', dt.isoformat())"
      ],
      "execution_count": 50,
      "outputs": [
        {
          "output_type": "stream",
          "text": [
            "Original: 2017-10-01 11:23:25-04:00 | UTC: 2017-10-01T11:23:25+00:00\n",
            "Original: 2017-10-01 11:42:57-04:00 | UTC: 2017-10-01T11:42:57+00:00\n",
            "Original: 2017-10-02 02:37:10-04:00 | UTC: 2017-10-02T02:37:10+00:00\n",
            "Original: 2017-10-02 04:56:45-04:00 | UTC: 2017-10-02T04:56:45+00:00\n",
            "Original: 2017-10-02 14:23:48-04:00 | UTC: 2017-10-02T14:23:48+00:00\n",
            "Original: 2017-10-02 14:48:08-04:00 | UTC: 2017-10-02T14:48:08+00:00\n",
            "Original: 2017-10-02 15:18:10-04:00 | UTC: 2017-10-02T15:18:10+00:00\n",
            "Original: 2017-10-02 15:37:32-04:00 | UTC: 2017-10-02T15:37:32+00:00\n",
            "Original: 2017-10-03 04:24:16-04:00 | UTC: 2017-10-03T04:24:16+00:00\n",
            "Original: 2017-10-03 14:17:07-04:00 | UTC: 2017-10-03T14:17:07+00:00\n"
          ],
          "name": "stdout"
        }
      ]
    },
    {
      "cell_type": "code",
      "metadata": {
        "id": "aGHOj_hk_R4v",
        "colab_type": "code",
        "outputId": "468f6498-8e8a-47bc-fcc3-eb8db26c93cd",
        "colab": {
          "base_uri": "https://localhost:8080/",
          "height": 187
        }
      },
      "source": [
        "# Loop over the trips\n",
        "for trip in datetime_list[:10]:\n",
        "  # Pull out the start and set it to UTC\n",
        "  dt = trip['start'].astimezone(timezone.utc)\n",
        "  \n",
        "  # Print the start time in UTC\n",
        "  print('Original:', trip['start'], '| UTC:', dt.isoformat())"
      ],
      "execution_count": 51,
      "outputs": [
        {
          "output_type": "stream",
          "text": [
            "Original: 2017-10-01 11:23:25-04:00 | UTC: 2017-10-01T15:23:25+00:00\n",
            "Original: 2017-10-01 11:42:57-04:00 | UTC: 2017-10-01T15:42:57+00:00\n",
            "Original: 2017-10-02 02:37:10-04:00 | UTC: 2017-10-02T06:37:10+00:00\n",
            "Original: 2017-10-02 04:56:45-04:00 | UTC: 2017-10-02T08:56:45+00:00\n",
            "Original: 2017-10-02 14:23:48-04:00 | UTC: 2017-10-02T18:23:48+00:00\n",
            "Original: 2017-10-02 14:48:08-04:00 | UTC: 2017-10-02T18:48:08+00:00\n",
            "Original: 2017-10-02 15:18:10-04:00 | UTC: 2017-10-02T19:18:10+00:00\n",
            "Original: 2017-10-02 15:37:32-04:00 | UTC: 2017-10-02T19:37:32+00:00\n",
            "Original: 2017-10-03 04:24:16-04:00 | UTC: 2017-10-03T08:24:16+00:00\n",
            "Original: 2017-10-03 14:17:07-04:00 | UTC: 2017-10-03T18:17:07+00:00\n"
          ],
          "name": "stdout"
        }
      ]
    },
    {
      "cell_type": "markdown",
      "metadata": {
        "id": "GpuSQiaMCdii",
        "colab_type": "text"
      },
      "source": [
        "### Timezone database"
      ]
    },
    {
      "cell_type": "code",
      "metadata": {
        "id": "vEP8285mCWQF",
        "colab_type": "code",
        "outputId": "a6dc3743-f543-4704-e8e2-ea606b8fd46c",
        "colab": {
          "base_uri": "https://localhost:8080/",
          "height": 34
        }
      },
      "source": [
        "from datetime import datetime\n",
        "from dateutil import tz\n",
        "\n",
        "# Eastern time\n",
        "et = tz.gettz('America/New York') # Continent/City\n",
        "\n",
        "date_object = datetime(2018, 4,6,22,34,12,tzinfo=et)\n",
        "print(date_object)"
      ],
      "execution_count": 52,
      "outputs": [
        {
          "output_type": "stream",
          "text": [
            "2018-04-06 22:34:12-04:00\n"
          ],
          "name": "stdout"
        }
      ]
    },
    {
      "cell_type": "code",
      "metadata": {
        "id": "QVLjy2YXFwGG",
        "colab_type": "code",
        "outputId": "35f9f4a5-c395-4ef9-8a64-b198723c07b5",
        "colab": {
          "base_uri": "https://localhost:8080/",
          "height": 119
        }
      },
      "source": [
        "# Import tz\n",
        "from dateutil import tz\n",
        "\n",
        "# Create a timezone object for Eastern Time\n",
        "et = tz.gettz('America/New_York')\n",
        "\n",
        "# Loop over trips, updating the datetimes to be in Eastern Time\n",
        "for trip in datetime_list[:10]:\n",
        "  # Update trip['start'] and trip['end']\n",
        "  trip['start'] = trip['start'].replace(tzinfo=et)\n",
        "  trip['end'] = trip['end'].replace(tzinfo=et)\n",
        "datetime_list[:3]  "
      ],
      "execution_count": 53,
      "outputs": [
        {
          "output_type": "execute_result",
          "data": {
            "text/plain": [
              "[{'end': datetime.datetime(2017, 10, 1, 11, 26, 26, tzinfo=tzfile('/usr/share/zoneinfo/America/New_York')),\n",
              "  'start': datetime.datetime(2017, 10, 1, 11, 23, 25, tzinfo=tzfile('/usr/share/zoneinfo/America/New_York'))},\n",
              " {'end': datetime.datetime(2017, 10, 1, 13, 49, 59, tzinfo=tzfile('/usr/share/zoneinfo/America/New_York')),\n",
              "  'start': datetime.datetime(2017, 10, 1, 11, 42, 57, tzinfo=tzfile('/usr/share/zoneinfo/America/New_York'))},\n",
              " {'end': datetime.datetime(2017, 10, 2, 2, 42, 53, tzinfo=tzfile('/usr/share/zoneinfo/America/New_York')),\n",
              "  'start': datetime.datetime(2017, 10, 2, 2, 37, 10, tzinfo=tzfile('/usr/share/zoneinfo/America/New_York'))}]"
            ]
          },
          "metadata": {
            "tags": []
          },
          "execution_count": 53
        }
      ]
    },
    {
      "cell_type": "code",
      "metadata": {
        "id": "GW6LfjXUG6Wz",
        "colab_type": "code",
        "outputId": "00c5bcf5-ba34-46de-f3dc-d11228bf4680",
        "colab": {
          "base_uri": "https://localhost:8080/",
          "height": 51
        }
      },
      "source": [
        "# Create the timezone object\n",
        "uk = tz.gettz('Europe/London')\n",
        "\n",
        "# Pull out the start of the first trip\n",
        "local = datetime_list[0]['start']\n",
        "\n",
        "# What time was it in the UK?\n",
        "notlocal = local.replace(tzinfo=uk)\n",
        "\n",
        "# Print them out and see the difference\n",
        "print(local.isoformat())\n",
        "print(notlocal.isoformat())"
      ],
      "execution_count": 54,
      "outputs": [
        {
          "output_type": "stream",
          "text": [
            "2017-10-01T11:23:25-04:00\n",
            "2017-10-01T11:23:25+01:00\n"
          ],
          "name": "stdout"
        }
      ]
    },
    {
      "cell_type": "code",
      "metadata": {
        "id": "adV7YvOhHdvN",
        "colab_type": "code",
        "outputId": "cf63d25c-b3df-4c63-8df0-e49f44f76ced",
        "colab": {
          "base_uri": "https://localhost:8080/",
          "height": 51
        }
      },
      "source": [
        "# Create the timezone object\n",
        "uk = tz.gettz('Europe/London')\n",
        "\n",
        "# Pull out the start of the first trip\n",
        "local = datetime_list[0]['start']\n",
        "\n",
        "# What time was it in the UK?\n",
        "notlocal = local.astimezone(uk)\n",
        "\n",
        "# Print them out and see the difference\n",
        "print(local.isoformat())\n",
        "print(notlocal.isoformat())"
      ],
      "execution_count": 55,
      "outputs": [
        {
          "output_type": "stream",
          "text": [
            "2017-10-01T11:23:25-04:00\n",
            "2017-10-01T16:23:25+01:00\n"
          ],
          "name": "stdout"
        }
      ]
    },
    {
      "cell_type": "code",
      "metadata": {
        "id": "HMP4oruOHvfi",
        "colab_type": "code",
        "outputId": "5ac8331d-bce1-4b40-dc5d-e49f60d158fa",
        "colab": {
          "base_uri": "https://localhost:8080/",
          "height": 51
        }
      },
      "source": [
        "# Create the timezone object\n",
        "ist = tz.gettz('Asia/Kolkata')\n",
        "\n",
        "# Pull out the start of the first trip\n",
        "local = datetime_list[0]['start']\n",
        "\n",
        "# What time was it in India?\n",
        "notlocal = local.astimezone(ist)\n",
        "\n",
        "# Print them out and see the difference\n",
        "print(local.isoformat())\n",
        "print(notlocal.isoformat())"
      ],
      "execution_count": 56,
      "outputs": [
        {
          "output_type": "stream",
          "text": [
            "2017-10-01T11:23:25-04:00\n",
            "2017-10-01T20:53:25+05:30\n"
          ],
          "name": "stdout"
        }
      ]
    },
    {
      "cell_type": "code",
      "metadata": {
        "id": "_LbvE1UNIU7_",
        "colab_type": "code",
        "outputId": "669e1e1a-65cb-4b14-b33f-6d32fcf772ba",
        "colab": {
          "base_uri": "https://localhost:8080/",
          "height": 51
        }
      },
      "source": [
        "# Create the timezone object\n",
        "sm = tz.gettz('Pacific/Apia')\n",
        "\n",
        "# Pull out the start of the first trip\n",
        "local = datetime_list[0]['start']\n",
        "\n",
        "# What time was it in Samoa?\n",
        "notlocal = local.astimezone(sm)\n",
        "\n",
        "# Print them out and see the difference\n",
        "print(local.isoformat())\n",
        "print(notlocal.isoformat())"
      ],
      "execution_count": 57,
      "outputs": [
        {
          "output_type": "stream",
          "text": [
            "2017-10-01T11:23:25-04:00\n",
            "2017-10-02T05:23:25+14:00\n"
          ],
          "name": "stdout"
        }
      ]
    },
    {
      "cell_type": "markdown",
      "metadata": {
        "id": "Gpyr9BHZIyJv",
        "colab_type": "text"
      },
      "source": [
        "### Starting Daylilght Savings Time"
      ]
    },
    {
      "cell_type": "code",
      "metadata": {
        "id": "Mgs2FhM7ItOt",
        "colab_type": "code",
        "outputId": "7a761775-c8a6-4884-e062-194227075082",
        "colab": {
          "base_uri": "https://localhost:8080/",
          "height": 34
        }
      },
      "source": [
        "spring_ahead = datetime(2017, 3, 12, 1, 59, 59) # daylight savings begins on east coast\n",
        "spring_ahead.isoformat()"
      ],
      "execution_count": 58,
      "outputs": [
        {
          "output_type": "execute_result",
          "data": {
            "text/plain": [
              "'2017-03-12T01:59:59'"
            ]
          },
          "metadata": {
            "tags": []
          },
          "execution_count": 58
        }
      ]
    },
    {
      "cell_type": "code",
      "metadata": {
        "id": "gVqM298dLQwz",
        "colab_type": "code",
        "outputId": "316a62ef-1862-4107-a498-d9d809946060",
        "colab": {
          "base_uri": "https://localhost:8080/",
          "height": 34
        }
      },
      "source": [
        "spring_ahead3 = datetime(2017, 3, 12, 3, 0, 0) # new time\n",
        "spring_ahead3.isoformat()"
      ],
      "execution_count": 59,
      "outputs": [
        {
          "output_type": "execute_result",
          "data": {
            "text/plain": [
              "'2017-03-12T03:00:00'"
            ]
          },
          "metadata": {
            "tags": []
          },
          "execution_count": 59
        }
      ]
    },
    {
      "cell_type": "code",
      "metadata": {
        "id": "yT3mAqL_Lh73",
        "colab_type": "code",
        "outputId": "dbe02633-8f77-4ec4-87e3-bf09b686da97",
        "colab": {
          "base_uri": "https://localhost:8080/",
          "height": 34
        }
      },
      "source": [
        "(spring_ahead3 - spring_ahead).total_seconds() # no automatic understanding of daylight savings by computer/python"
      ],
      "execution_count": 60,
      "outputs": [
        {
          "output_type": "execute_result",
          "data": {
            "text/plain": [
              "3601.0"
            ]
          },
          "metadata": {
            "tags": []
          },
          "execution_count": 60
        }
      ]
    },
    {
      "cell_type": "code",
      "metadata": {
        "id": "7nUzoJq2LvIV",
        "colab_type": "code",
        "outputId": "a617e020-d9fc-449e-8052-7af2a75319f9",
        "colab": {
          "base_uri": "https://localhost:8080/",
          "height": 34
        }
      },
      "source": [
        "from datetime import timezone, timedelta\n",
        "\n",
        "est = timezone(timedelta(hours=-5))\n",
        "edt = timezone(timedelta(hours=-4)) # Daylight savings time\n",
        "\n",
        "\n",
        "spring_ahead.replace(tzinfo=est)\n",
        "spring_ahead3.replace(tzinfo=edt)\n",
        "(spring_ahead3 - spring_ahead).seconds # This should be working and it's not..."
      ],
      "execution_count": 61,
      "outputs": [
        {
          "output_type": "execute_result",
          "data": {
            "text/plain": [
              "3601"
            ]
          },
          "metadata": {
            "tags": []
          },
          "execution_count": 61
        }
      ]
    },
    {
      "cell_type": "code",
      "metadata": {
        "id": "3Snk7jMKMzpw",
        "colab_type": "code",
        "outputId": "fcf88b8c-0caa-4e2d-aae6-c7c7d5ebb9f3",
        "colab": {
          "base_uri": "https://localhost:8080/",
          "height": 34
        }
      },
      "source": [
        "### Use tz.gettz() to avoid having to look up time differences\n",
        "\n",
        "from dateutil import tz\n",
        "\n",
        "eastern = tz.gettz('America/New York')\n",
        "\n",
        "spring_ahead = datetime(2017, 3, 12, 1, 59, 59, tzinfo = eastern)\n",
        "spring_ahead3 = datetime(2017, 3, 12, 3, 0, 0, tzinfo = eastern) \n",
        "\n",
        "(spring_ahead3 - spring_ahead).seconds # still didn't work"
      ],
      "execution_count": 62,
      "outputs": [
        {
          "output_type": "execute_result",
          "data": {
            "text/plain": [
              "3601"
            ]
          },
          "metadata": {
            "tags": []
          },
          "execution_count": 62
        }
      ]
    },
    {
      "cell_type": "code",
      "metadata": {
        "id": "w-ZzkT5kOMMl",
        "colab_type": "code",
        "outputId": "06f92cf4-8615-4d82-f2a7-16910455b238",
        "colab": {
          "base_uri": "https://localhost:8080/",
          "height": 34
        }
      },
      "source": [
        "# Import datetime, timedelta, tz, timezone\n",
        "from datetime import datetime, timedelta, timezone\n",
        "from dateutil import tz\n",
        "\n",
        "# Start on March 12, 2017, midnight, then add 6 hours\n",
        "start = datetime(2017, 3, 12, tzinfo = tz.gettz('America/New_York'))\n",
        "end = start + timedelta(hours=6)\n",
        "print(start.isoformat() + \" to \" + end.isoformat())"
      ],
      "execution_count": 63,
      "outputs": [
        {
          "output_type": "stream",
          "text": [
            "2017-03-12T00:00:00-05:00 to 2017-03-12T06:00:00-04:00\n"
          ],
          "name": "stdout"
        }
      ]
    },
    {
      "cell_type": "code",
      "metadata": {
        "id": "oTInXdJBU_-Z",
        "colab_type": "code",
        "outputId": "bdb7b2bd-6e56-4e3f-96dd-61d80a692679",
        "colab": {
          "base_uri": "https://localhost:8080/",
          "height": 34
        }
      },
      "source": [
        "# How many hours have elapsed?\n",
        "print((end - start).seconds/(60*60))"
      ],
      "execution_count": 64,
      "outputs": [
        {
          "output_type": "stream",
          "text": [
            "6.0\n"
          ],
          "name": "stdout"
        }
      ]
    },
    {
      "cell_type": "code",
      "metadata": {
        "id": "5-Md8FAFV7Oz",
        "colab_type": "code",
        "outputId": "9db74cae-e9ca-4130-a6c4-25b80cfea12c",
        "colab": {
          "base_uri": "https://localhost:8080/",
          "height": 34
        }
      },
      "source": [
        "# What if we move to UTC?\n",
        "print((end.astimezone(timezone.utc) - start.astimezone(timezone.utc))\\\n",
        "      .total_seconds()/(60*60))"
      ],
      "execution_count": 65,
      "outputs": [
        {
          "output_type": "stream",
          "text": [
            "5.0\n"
          ],
          "name": "stdout"
        }
      ]
    },
    {
      "cell_type": "code",
      "metadata": {
        "id": "Dd-XoV_6WtaT",
        "colab_type": "code",
        "outputId": "39ad4431-fc3b-450a-bcf3-2b18cd81c220",
        "colab": {
          "base_uri": "https://localhost:8080/",
          "height": 204
        }
      },
      "source": [
        "\n",
        "# Create starting date\n",
        "dt = datetime(2000, 3, 29, tzinfo = tz.gettz('Europe/London'))\n",
        "\n",
        "# Loop over the dates, replacing the year, and print the ISO timestamp\n",
        "for y in range(2000, 2011):\n",
        "  print(dt.replace(year=y).isoformat())"
      ],
      "execution_count": 66,
      "outputs": [
        {
          "output_type": "stream",
          "text": [
            "2000-03-29T00:00:00+01:00\n",
            "2001-03-29T00:00:00+01:00\n",
            "2002-03-29T00:00:00+00:00\n",
            "2003-03-29T00:00:00+00:00\n",
            "2004-03-29T00:00:00+01:00\n",
            "2005-03-29T00:00:00+01:00\n",
            "2006-03-29T00:00:00+01:00\n",
            "2007-03-29T00:00:00+01:00\n",
            "2008-03-29T00:00:00+00:00\n",
            "2009-03-29T00:00:00+00:00\n",
            "2010-03-29T00:00:00+01:00\n"
          ],
          "name": "stdout"
        }
      ]
    },
    {
      "cell_type": "markdown",
      "metadata": {
        "id": "kIxwNEYFaGro",
        "colab_type": "text"
      },
      "source": [
        "### Ending Daylight Savings"
      ]
    },
    {
      "cell_type": "code",
      "metadata": {
        "id": "BMM2nJ6xX7G3",
        "colab_type": "code",
        "outputId": "9d8c42a2-a607-4e57-a191-f1da68077db1",
        "colab": {
          "base_uri": "https://localhost:8080/",
          "height": 34
        }
      },
      "source": [
        "# Dealing with 'Fall Backwards'\n",
        "\n",
        "eastern = tz.gettz('US/Eastern')\n",
        "first_1am = datetime(2017,11,5,1,0,0, tzinfo=eastern)\n",
        "tz.datetime_ambiguous(first_1am)"
      ],
      "execution_count": 67,
      "outputs": [
        {
          "output_type": "execute_result",
          "data": {
            "text/plain": [
              "True"
            ]
          },
          "metadata": {
            "tags": []
          },
          "execution_count": 67
        }
      ]
    },
    {
      "cell_type": "code",
      "metadata": {
        "id": "R0n9kcomatmf",
        "colab_type": "code",
        "colab": {}
      },
      "source": [
        "second_1am = datetime(2017,11,5,1,0,0, tzinfo=eastern)\n",
        "second_1am = tz.enfold(second_1am) # enfold() says this date and time belongs to the second instance"
      ],
      "execution_count": 0,
      "outputs": []
    },
    {
      "cell_type": "code",
      "metadata": {
        "id": "2lXmP8lNbD92",
        "colab_type": "code",
        "outputId": "5aa88cf5-d666-423d-affd-a567c0d987a3",
        "colab": {
          "base_uri": "https://localhost:8080/",
          "height": 34
        }
      },
      "source": [
        "(first_1am -second_1am).seconds "
      ],
      "execution_count": 69,
      "outputs": [
        {
          "output_type": "execute_result",
          "data": {
            "text/plain": [
              "0"
            ]
          },
          "metadata": {
            "tags": []
          },
          "execution_count": 69
        }
      ]
    },
    {
      "cell_type": "code",
      "metadata": {
        "id": "FsDExbMQbax6",
        "colab_type": "code",
        "outputId": "5370f2d6-6029-4f84-d3b4-60686e79e598",
        "colab": {
          "base_uri": "https://localhost:8080/",
          "height": 34
        }
      },
      "source": [
        "(first_1am -second_1am).total_seconds() "
      ],
      "execution_count": 70,
      "outputs": [
        {
          "output_type": "execute_result",
          "data": {
            "text/plain": [
              "0.0"
            ]
          },
          "metadata": {
            "tags": []
          },
          "execution_count": 70
        }
      ]
    },
    {
      "cell_type": "code",
      "metadata": {
        "id": "lhtUG-_8bfi1",
        "colab_type": "code",
        "outputId": "8cc95429-ac30-4ad0-a176-66c3e1ac815f",
        "colab": {
          "base_uri": "https://localhost:8080/",
          "height": 34
        }
      },
      "source": [
        "# Convert to UTC to get accurate absolute elapsed time\n",
        "\n",
        "first_1am = first_1am.astimezone(tz.UTC) #tz.UTC == timezone.utc\n",
        "second_1am = second_1am.astimezone(tz.UTC)\n",
        "\n",
        "(first_1am - second_1am).total_seconds(), (second_1am - first_1am).total_seconds()\n"
      ],
      "execution_count": 71,
      "outputs": [
        {
          "output_type": "execute_result",
          "data": {
            "text/plain": [
              "(-3600.0, 3600.0)"
            ]
          },
          "metadata": {
            "tags": []
          },
          "execution_count": 71
        }
      ]
    },
    {
      "cell_type": "markdown",
      "metadata": {
        "id": "VzXZoHCoco3j",
        "colab_type": "text"
      },
      "source": [
        "#### ..... Convert to UTC if you want to do math with time zones"
      ]
    },
    {
      "cell_type": "code",
      "metadata": {
        "id": "d2rZAwqIfZom",
        "colab_type": "code",
        "outputId": "d9e7f020-8a4a-48d2-adfb-58c635a1e88f",
        "colab": {
          "base_uri": "https://localhost:8080/",
          "height": 34
        }
      },
      "source": [
        "# est = tz.gettz('America/New York')\n",
        "# for trip in datetime_list:\n",
        "#   trip['start'] == trip['start'].astimezone(est)\n",
        "#   trip['end'] == trip['end'].astimezone(est)\n",
        "# datetime_list[:2]  \n",
        "type(datetime_list[0]['start'])"
      ],
      "execution_count": 72,
      "outputs": [
        {
          "output_type": "execute_result",
          "data": {
            "text/plain": [
              "datetime.datetime"
            ]
          },
          "metadata": {
            "tags": []
          },
          "execution_count": 72
        }
      ]
    },
    {
      "cell_type": "code",
      "metadata": {
        "id": "iu_gBymEcMm-",
        "colab_type": "code",
        "outputId": "6f827d0a-cb60-4066-851e-079dbed41d0b",
        "colab": {
          "base_uri": "https://localhost:8080/",
          "height": 351
        }
      },
      "source": [
        "# Loop over trips\n",
        "for trip in datetime_list:\n",
        "  # Rides with ambiguous start\n",
        "  if tz.datetime_ambiguous(trip['start']):\n",
        "    print(\"Ambiguous start at \" + str(trip['start']))\n",
        "  # Rides with ambiguous end \n",
        "  if tz.datetime_ambiguous(trip['end']):\n",
        "    print(\"Ambiguous end at \" + str(trip['end']))  ### THIS WORKS IN DATACAMP CONSOLE"
      ],
      "execution_count": 73,
      "outputs": [
        {
          "output_type": "error",
          "ename": "ValueError",
          "evalue": "ignored",
          "traceback": [
            "\u001b[0;31m---------------------------------------------------------------------------\u001b[0m",
            "\u001b[0;31mValueError\u001b[0m                                Traceback (most recent call last)",
            "\u001b[0;32m<ipython-input-73-fd723f692dc6>\u001b[0m in \u001b[0;36m<module>\u001b[0;34m()\u001b[0m\n\u001b[1;32m      1\u001b[0m \u001b[0;32mfor\u001b[0m \u001b[0mtrip\u001b[0m \u001b[0;32min\u001b[0m \u001b[0mdatetime_list\u001b[0m\u001b[0;34m:\u001b[0m\u001b[0;34m\u001b[0m\u001b[0;34m\u001b[0m\u001b[0m\n\u001b[1;32m      2\u001b[0m   \u001b[0;31m# Rides with ambiguous start\u001b[0m\u001b[0;34m\u001b[0m\u001b[0;34m\u001b[0m\u001b[0;34m\u001b[0m\u001b[0m\n\u001b[0;32m----> 3\u001b[0;31m   \u001b[0;32mif\u001b[0m \u001b[0mtz\u001b[0m\u001b[0;34m.\u001b[0m\u001b[0mdatetime_ambiguous\u001b[0m\u001b[0;34m(\u001b[0m\u001b[0mtrip\u001b[0m\u001b[0;34m[\u001b[0m\u001b[0;34m'start'\u001b[0m\u001b[0;34m]\u001b[0m\u001b[0;34m)\u001b[0m\u001b[0;34m:\u001b[0m\u001b[0;34m\u001b[0m\u001b[0;34m\u001b[0m\u001b[0m\n\u001b[0m\u001b[1;32m      4\u001b[0m     \u001b[0mprint\u001b[0m\u001b[0;34m(\u001b[0m\u001b[0;34m\"Ambiguous start at \"\u001b[0m \u001b[0;34m+\u001b[0m \u001b[0mstr\u001b[0m\u001b[0;34m(\u001b[0m\u001b[0mtrip\u001b[0m\u001b[0;34m[\u001b[0m\u001b[0;34m'start'\u001b[0m\u001b[0;34m]\u001b[0m\u001b[0;34m)\u001b[0m\u001b[0;34m)\u001b[0m\u001b[0;34m\u001b[0m\u001b[0;34m\u001b[0m\u001b[0m\n\u001b[1;32m      5\u001b[0m   \u001b[0;31m# Rides with ambiguous end\u001b[0m\u001b[0;34m\u001b[0m\u001b[0;34m\u001b[0m\u001b[0;34m\u001b[0m\u001b[0m\n",
            "\u001b[0;32m/usr/local/lib/python3.6/dist-packages/dateutil/tz/tz.py\u001b[0m in \u001b[0;36mdatetime_ambiguous\u001b[0;34m(dt, tz)\u001b[0m\n\u001b[1;32m   1737\u001b[0m     \u001b[0;32mif\u001b[0m \u001b[0mtz\u001b[0m \u001b[0;32mis\u001b[0m \u001b[0;32mNone\u001b[0m\u001b[0;34m:\u001b[0m\u001b[0;34m\u001b[0m\u001b[0;34m\u001b[0m\u001b[0m\n\u001b[1;32m   1738\u001b[0m         \u001b[0;32mif\u001b[0m \u001b[0mdt\u001b[0m\u001b[0;34m.\u001b[0m\u001b[0mtzinfo\u001b[0m \u001b[0;32mis\u001b[0m \u001b[0;32mNone\u001b[0m\u001b[0;34m:\u001b[0m\u001b[0;34m\u001b[0m\u001b[0;34m\u001b[0m\u001b[0m\n\u001b[0;32m-> 1739\u001b[0;31m             \u001b[0;32mraise\u001b[0m \u001b[0mValueError\u001b[0m\u001b[0;34m(\u001b[0m\u001b[0;34m'Datetime is naive and no time zone provided.'\u001b[0m\u001b[0;34m)\u001b[0m\u001b[0;34m\u001b[0m\u001b[0;34m\u001b[0m\u001b[0m\n\u001b[0m\u001b[1;32m   1740\u001b[0m \u001b[0;34m\u001b[0m\u001b[0m\n\u001b[1;32m   1741\u001b[0m         \u001b[0mtz\u001b[0m \u001b[0;34m=\u001b[0m \u001b[0mdt\u001b[0m\u001b[0;34m.\u001b[0m\u001b[0mtzinfo\u001b[0m\u001b[0;34m\u001b[0m\u001b[0;34m\u001b[0m\u001b[0m\n",
            "\u001b[0;31mValueError\u001b[0m: Datetime is naive and no time zone provided."
          ]
        }
      ]
    },
    {
      "cell_type": "code",
      "metadata": {
        "id": "PZHNA4ymdlbl",
        "colab_type": "code",
        "outputId": "919c4cea-555e-4ff7-e2bc-4e8f8497dcd0",
        "colab": {
          "base_uri": "https://localhost:8080/",
          "height": 34
        }
      },
      "source": [
        "trip_durations = []\n",
        "for trip in datetime_list:\n",
        "  # When the start is later than the end, set the fold to be 1\n",
        "  if trip['start'] > trip['end']:\n",
        "    trip['end'] = tz.enfold(trip['end']) # enfold before converting to UTC\n",
        "  # Convert to UTC\n",
        "  start = trip['start'].astimezone(tz.UTC)\n",
        "  end = trip['end'].astimezone(tz.UTC)\n",
        "\n",
        "  # Subtract the difference\n",
        "  trip_length_seconds = (end-start).total_seconds()\n",
        "  trip_durations.append(trip_length_seconds)\n",
        "\n",
        "# Take the shortest trip duration\n",
        "print(\"Shortest trip: \" + str(min(trip_durations)))  #### AGAIN WORKS iN DATACAMP CONSOLE "
      ],
      "execution_count": 74,
      "outputs": [
        {
          "output_type": "stream",
          "text": [
            "Shortest trip: -3346.0\n"
          ],
          "name": "stdout"
        }
      ]
    },
    {
      "cell_type": "markdown",
      "metadata": {
        "id": "e1zVO9yNh0x0",
        "colab_type": "text"
      },
      "source": [
        "# Dates and Times in Pandas"
      ]
    },
    {
      "cell_type": "markdown",
      "metadata": {
        "id": "FbKtbMcIh1Di",
        "colab_type": "text"
      },
      "source": [
        "### Reading Dates and Times in Pandas"
      ]
    },
    {
      "cell_type": "code",
      "metadata": {
        "id": "f2CN6qJqe2xu",
        "colab_type": "code",
        "colab": {
          "base_uri": "https://localhost:8080/",
          "height": 162
        },
        "outputId": "084dcc31-8474-4af1-f385-c5fe9d9d8730"
      },
      "source": [
        "import pandas as pd\n",
        "rides = pd.read_csv('capital-onebike.csv')\n",
        "rides.head(2)"
      ],
      "execution_count": 75,
      "outputs": [
        {
          "output_type": "execute_result",
          "data": {
            "text/html": [
              "<div>\n",
              "<style scoped>\n",
              "    .dataframe tbody tr th:only-of-type {\n",
              "        vertical-align: middle;\n",
              "    }\n",
              "\n",
              "    .dataframe tbody tr th {\n",
              "        vertical-align: top;\n",
              "    }\n",
              "\n",
              "    .dataframe thead th {\n",
              "        text-align: right;\n",
              "    }\n",
              "</style>\n",
              "<table border=\"1\" class=\"dataframe\">\n",
              "  <thead>\n",
              "    <tr style=\"text-align: right;\">\n",
              "      <th></th>\n",
              "      <th>Start date</th>\n",
              "      <th>End date</th>\n",
              "      <th>Start station number</th>\n",
              "      <th>Start station</th>\n",
              "      <th>End station number</th>\n",
              "      <th>End station</th>\n",
              "      <th>Bike number</th>\n",
              "      <th>Member type</th>\n",
              "    </tr>\n",
              "  </thead>\n",
              "  <tbody>\n",
              "    <tr>\n",
              "      <th>0</th>\n",
              "      <td>2017-10-01 15:23:25</td>\n",
              "      <td>2017-10-01 15:26:26</td>\n",
              "      <td>31038</td>\n",
              "      <td>Glebe Rd &amp; 11th St N</td>\n",
              "      <td>31036</td>\n",
              "      <td>George Mason Dr &amp; Wilson Blvd</td>\n",
              "      <td>W20529</td>\n",
              "      <td>Member</td>\n",
              "    </tr>\n",
              "    <tr>\n",
              "      <th>1</th>\n",
              "      <td>2017-10-01 15:42:57</td>\n",
              "      <td>2017-10-01 17:49:59</td>\n",
              "      <td>31036</td>\n",
              "      <td>George Mason Dr &amp; Wilson Blvd</td>\n",
              "      <td>31036</td>\n",
              "      <td>George Mason Dr &amp; Wilson Blvd</td>\n",
              "      <td>W20529</td>\n",
              "      <td>Casual</td>\n",
              "    </tr>\n",
              "  </tbody>\n",
              "</table>\n",
              "</div>"
            ],
            "text/plain": [
              "            Start date             End date  ...  Bike number Member type\n",
              "0  2017-10-01 15:23:25  2017-10-01 15:26:26  ...       W20529      Member\n",
              "1  2017-10-01 15:42:57  2017-10-01 17:49:59  ...       W20529      Casual\n",
              "\n",
              "[2 rows x 8 columns]"
            ]
          },
          "metadata": {
            "tags": []
          },
          "execution_count": 75
        }
      ]
    },
    {
      "cell_type": "code",
      "metadata": {
        "id": "lABHrT8DLLOT",
        "colab_type": "code",
        "colab": {
          "base_uri": "https://localhost:8080/",
          "height": 170
        },
        "outputId": "469b627a-2371-4539-ff54-8d9afb81e2be"
      },
      "source": [
        "rides.iloc[2]"
      ],
      "execution_count": 76,
      "outputs": [
        {
          "output_type": "execute_result",
          "data": {
            "text/plain": [
              "Start date                               2017-10-02 06:37:10\n",
              "End date                                 2017-10-02 06:42:53\n",
              "Start station number                                   31036\n",
              "Start station                  George Mason Dr & Wilson Blvd\n",
              "End station number                                     31037\n",
              "End station             Ballston Metro / N Stuart & 9th St N\n",
              "Bike number                                           W20529\n",
              "Member type                                           Member\n",
              "Name: 2, dtype: object"
            ]
          },
          "metadata": {
            "tags": []
          },
          "execution_count": 76
        }
      ]
    },
    {
      "cell_type": "code",
      "metadata": {
        "id": "AoBEeTDyLhiX",
        "colab_type": "code",
        "colab": {
          "base_uri": "https://localhost:8080/",
          "height": 162
        },
        "outputId": "bad42644-d41d-4ca7-9c78-34e8988f391e"
      },
      "source": [
        "# Use parse_dates=[datetime columns] when reading in csv to autumatically convert to datetime objects\n",
        "\n",
        "rides = pd.read_csv('capital-onebike.csv', parse_dates=['Start date','End date'])\n",
        "rides.head(2)"
      ],
      "execution_count": 77,
      "outputs": [
        {
          "output_type": "execute_result",
          "data": {
            "text/html": [
              "<div>\n",
              "<style scoped>\n",
              "    .dataframe tbody tr th:only-of-type {\n",
              "        vertical-align: middle;\n",
              "    }\n",
              "\n",
              "    .dataframe tbody tr th {\n",
              "        vertical-align: top;\n",
              "    }\n",
              "\n",
              "    .dataframe thead th {\n",
              "        text-align: right;\n",
              "    }\n",
              "</style>\n",
              "<table border=\"1\" class=\"dataframe\">\n",
              "  <thead>\n",
              "    <tr style=\"text-align: right;\">\n",
              "      <th></th>\n",
              "      <th>Start date</th>\n",
              "      <th>End date</th>\n",
              "      <th>Start station number</th>\n",
              "      <th>Start station</th>\n",
              "      <th>End station number</th>\n",
              "      <th>End station</th>\n",
              "      <th>Bike number</th>\n",
              "      <th>Member type</th>\n",
              "    </tr>\n",
              "  </thead>\n",
              "  <tbody>\n",
              "    <tr>\n",
              "      <th>0</th>\n",
              "      <td>2017-10-01 15:23:25</td>\n",
              "      <td>2017-10-01 15:26:26</td>\n",
              "      <td>31038</td>\n",
              "      <td>Glebe Rd &amp; 11th St N</td>\n",
              "      <td>31036</td>\n",
              "      <td>George Mason Dr &amp; Wilson Blvd</td>\n",
              "      <td>W20529</td>\n",
              "      <td>Member</td>\n",
              "    </tr>\n",
              "    <tr>\n",
              "      <th>1</th>\n",
              "      <td>2017-10-01 15:42:57</td>\n",
              "      <td>2017-10-01 17:49:59</td>\n",
              "      <td>31036</td>\n",
              "      <td>George Mason Dr &amp; Wilson Blvd</td>\n",
              "      <td>31036</td>\n",
              "      <td>George Mason Dr &amp; Wilson Blvd</td>\n",
              "      <td>W20529</td>\n",
              "      <td>Casual</td>\n",
              "    </tr>\n",
              "  </tbody>\n",
              "</table>\n",
              "</div>"
            ],
            "text/plain": [
              "           Start date            End date  ...  Bike number Member type\n",
              "0 2017-10-01 15:23:25 2017-10-01 15:26:26  ...       W20529      Member\n",
              "1 2017-10-01 15:42:57 2017-10-01 17:49:59  ...       W20529      Casual\n",
              "\n",
              "[2 rows x 8 columns]"
            ]
          },
          "metadata": {
            "tags": []
          },
          "execution_count": 77
        }
      ]
    },
    {
      "cell_type": "code",
      "metadata": {
        "id": "ndVeJRwIMBTZ",
        "colab_type": "code",
        "colab": {
          "base_uri": "https://localhost:8080/",
          "height": 221
        },
        "outputId": "d0a94e68-170e-4c6f-b606-397a2fd8d616"
      },
      "source": [
        "rides['Start date']"
      ],
      "execution_count": 78,
      "outputs": [
        {
          "output_type": "execute_result",
          "data": {
            "text/plain": [
              "0     2017-10-01 15:23:25\n",
              "1     2017-10-01 15:42:57\n",
              "2     2017-10-02 06:37:10\n",
              "3     2017-10-02 08:56:45\n",
              "4     2017-10-02 18:23:48\n",
              "              ...        \n",
              "285   2017-12-29 14:32:55\n",
              "286   2017-12-29 15:08:26\n",
              "287   2017-12-29 20:33:34\n",
              "288   2017-12-30 13:51:03\n",
              "289   2017-12-30 15:09:03\n",
              "Name: Start date, Length: 290, dtype: datetime64[ns]"
            ]
          },
          "metadata": {
            "tags": []
          },
          "execution_count": 78
        }
      ]
    },
    {
      "cell_type": "code",
      "metadata": {
        "id": "fwgW8GRwMFbM",
        "colab_type": "code",
        "colab": {
          "base_uri": "https://localhost:8080/",
          "height": 272
        },
        "outputId": "2bd5f87d-01e1-4a19-f8b3-a48f37325307"
      },
      "source": [
        "# Manually\n",
        "rides['Start date'] = pd.to_datetime(rides['Start date'], format = ('%Y-%m-%d %H:%M:%S'))\n",
        "rides['End date'] = pd.to_datetime(rides['End date'], format = ('%Y-%m-%d %H:%M:%S'))\n",
        "rides.info()"
      ],
      "execution_count": 79,
      "outputs": [
        {
          "output_type": "stream",
          "text": [
            "<class 'pandas.core.frame.DataFrame'>\n",
            "RangeIndex: 290 entries, 0 to 289\n",
            "Data columns (total 8 columns):\n",
            " #   Column                Non-Null Count  Dtype         \n",
            "---  ------                --------------  -----         \n",
            " 0   Start date            290 non-null    datetime64[ns]\n",
            " 1   End date              290 non-null    datetime64[ns]\n",
            " 2   Start station number  290 non-null    int64         \n",
            " 3   Start station         290 non-null    object        \n",
            " 4   End station number    290 non-null    int64         \n",
            " 5   End station           290 non-null    object        \n",
            " 6   Bike number           290 non-null    object        \n",
            " 7   Member type           290 non-null    object        \n",
            "dtypes: datetime64[ns](2), int64(2), object(4)\n",
            "memory usage: 18.2+ KB\n"
          ],
          "name": "stdout"
        }
      ]
    },
    {
      "cell_type": "code",
      "metadata": {
        "id": "ydHPmRtjOOpK",
        "colab_type": "code",
        "colab": {
          "base_uri": "https://localhost:8080/",
          "height": 34
        },
        "outputId": "7fed71dd-da0a-41de-88dc-8499686f5db1"
      },
      "source": [
        "rides['Start date'].iloc[2]"
      ],
      "execution_count": 80,
      "outputs": [
        {
          "output_type": "execute_result",
          "data": {
            "text/plain": [
              "Timestamp('2017-10-02 06:37:10')"
            ]
          },
          "metadata": {
            "tags": []
          },
          "execution_count": 80
        }
      ]
    },
    {
      "cell_type": "code",
      "metadata": {
        "id": "y30pU3XEOXu8",
        "colab_type": "code",
        "colab": {
          "base_uri": "https://localhost:8080/",
          "height": 210
        },
        "outputId": "051e112e-cee8-4e7c-f416-76d599fb2dd5"
      },
      "source": [
        "rides['Duration'] = rides['End date'] - rides['Start date']\n",
        "rides.head(3)"
      ],
      "execution_count": 81,
      "outputs": [
        {
          "output_type": "execute_result",
          "data": {
            "text/html": [
              "<div>\n",
              "<style scoped>\n",
              "    .dataframe tbody tr th:only-of-type {\n",
              "        vertical-align: middle;\n",
              "    }\n",
              "\n",
              "    .dataframe tbody tr th {\n",
              "        vertical-align: top;\n",
              "    }\n",
              "\n",
              "    .dataframe thead th {\n",
              "        text-align: right;\n",
              "    }\n",
              "</style>\n",
              "<table border=\"1\" class=\"dataframe\">\n",
              "  <thead>\n",
              "    <tr style=\"text-align: right;\">\n",
              "      <th></th>\n",
              "      <th>Start date</th>\n",
              "      <th>End date</th>\n",
              "      <th>Start station number</th>\n",
              "      <th>Start station</th>\n",
              "      <th>End station number</th>\n",
              "      <th>End station</th>\n",
              "      <th>Bike number</th>\n",
              "      <th>Member type</th>\n",
              "      <th>Duration</th>\n",
              "    </tr>\n",
              "  </thead>\n",
              "  <tbody>\n",
              "    <tr>\n",
              "      <th>0</th>\n",
              "      <td>2017-10-01 15:23:25</td>\n",
              "      <td>2017-10-01 15:26:26</td>\n",
              "      <td>31038</td>\n",
              "      <td>Glebe Rd &amp; 11th St N</td>\n",
              "      <td>31036</td>\n",
              "      <td>George Mason Dr &amp; Wilson Blvd</td>\n",
              "      <td>W20529</td>\n",
              "      <td>Member</td>\n",
              "      <td>00:03:01</td>\n",
              "    </tr>\n",
              "    <tr>\n",
              "      <th>1</th>\n",
              "      <td>2017-10-01 15:42:57</td>\n",
              "      <td>2017-10-01 17:49:59</td>\n",
              "      <td>31036</td>\n",
              "      <td>George Mason Dr &amp; Wilson Blvd</td>\n",
              "      <td>31036</td>\n",
              "      <td>George Mason Dr &amp; Wilson Blvd</td>\n",
              "      <td>W20529</td>\n",
              "      <td>Casual</td>\n",
              "      <td>02:07:02</td>\n",
              "    </tr>\n",
              "    <tr>\n",
              "      <th>2</th>\n",
              "      <td>2017-10-02 06:37:10</td>\n",
              "      <td>2017-10-02 06:42:53</td>\n",
              "      <td>31036</td>\n",
              "      <td>George Mason Dr &amp; Wilson Blvd</td>\n",
              "      <td>31037</td>\n",
              "      <td>Ballston Metro / N Stuart &amp; 9th St N</td>\n",
              "      <td>W20529</td>\n",
              "      <td>Member</td>\n",
              "      <td>00:05:43</td>\n",
              "    </tr>\n",
              "  </tbody>\n",
              "</table>\n",
              "</div>"
            ],
            "text/plain": [
              "           Start date            End date  ...  Member type Duration\n",
              "0 2017-10-01 15:23:25 2017-10-01 15:26:26  ...       Member 00:03:01\n",
              "1 2017-10-01 15:42:57 2017-10-01 17:49:59  ...       Casual 02:07:02\n",
              "2 2017-10-02 06:37:10 2017-10-02 06:42:53  ...       Member 00:05:43\n",
              "\n",
              "[3 rows x 9 columns]"
            ]
          },
          "metadata": {
            "tags": []
          },
          "execution_count": 81
        }
      ]
    },
    {
      "cell_type": "code",
      "metadata": {
        "id": "XXVMdf-POkqa",
        "colab_type": "code",
        "colab": {
          "base_uri": "https://localhost:8080/",
          "height": 119
        },
        "outputId": "873bd525-1532-49fb-f012-3af7644dde01"
      },
      "source": [
        "rides['Duration'].dt.total_seconds().head()"
      ],
      "execution_count": 82,
      "outputs": [
        {
          "output_type": "execute_result",
          "data": {
            "text/plain": [
              "0     181.0\n",
              "1    7622.0\n",
              "2     343.0\n",
              "3    1278.0\n",
              "4    1277.0\n",
              "Name: Duration, dtype: float64"
            ]
          },
          "metadata": {
            "tags": []
          },
          "execution_count": 82
        }
      ]
    },
    {
      "cell_type": "code",
      "metadata": {
        "id": "OpIMLm1zO4VQ",
        "colab_type": "code",
        "colab": {
          "base_uri": "https://localhost:8080/",
          "height": 34
        },
        "outputId": "2e0f21c5-5115-471f-9c3a-22097380e276"
      },
      "source": [
        "rides['Duration'].mean()"
      ],
      "execution_count": 83,
      "outputs": [
        {
          "output_type": "execute_result",
          "data": {
            "text/plain": [
              "Timedelta('0 days 00:19:38.931034')"
            ]
          },
          "metadata": {
            "tags": []
          },
          "execution_count": 83
        }
      ]
    },
    {
      "cell_type": "code",
      "metadata": {
        "id": "-fWtjlzXbMwY",
        "colab_type": "code",
        "colab": {
          "base_uri": "https://localhost:8080/",
          "height": 34
        },
        "outputId": "e3b093eb-9a58-4841-922b-dd557205d2a5"
      },
      "source": [
        "rides['Duration'].sum()"
      ],
      "execution_count": 84,
      "outputs": [
        {
          "output_type": "execute_result",
          "data": {
            "text/plain": [
              "Timedelta('3 days 22:58:10')"
            ]
          },
          "metadata": {
            "tags": []
          },
          "execution_count": 84
        }
      ]
    },
    {
      "cell_type": "code",
      "metadata": {
        "id": "eyfEB_SXbXub",
        "colab_type": "code",
        "colab": {
          "base_uri": "https://localhost:8080/",
          "height": 34
        },
        "outputId": "454d903c-38a0-430e-ffac-120306d925b1"
      },
      "source": [
        "rides['Duration'].sum()/(timedelta(days=91)) # days out/total days == percent of time bikes were out"
      ],
      "execution_count": 85,
      "outputs": [
        {
          "output_type": "execute_result",
          "data": {
            "text/plain": [
              "0.04348417785917786"
            ]
          },
          "metadata": {
            "tags": []
          },
          "execution_count": 85
        }
      ]
    },
    {
      "cell_type": "code",
      "metadata": {
        "id": "D2t7VG7KbliD",
        "colab_type": "code",
        "colab": {
          "base_uri": "https://localhost:8080/",
          "height": 68
        },
        "outputId": "64b0c131-d2f2-48ce-ffae-47816421cc3a"
      },
      "source": [
        "rides['Member type'].value_counts()"
      ],
      "execution_count": 86,
      "outputs": [
        {
          "output_type": "execute_result",
          "data": {
            "text/plain": [
              "Member    236\n",
              "Casual     54\n",
              "Name: Member type, dtype: int64"
            ]
          },
          "metadata": {
            "tags": []
          },
          "execution_count": 86
        }
      ]
    },
    {
      "cell_type": "code",
      "metadata": {
        "id": "HdBwKn1lbzfY",
        "colab_type": "code",
        "colab": {
          "base_uri": "https://localhost:8080/",
          "height": 68
        },
        "outputId": "9ec555df-3441-4a56-d0b8-efb69af5fc01"
      },
      "source": [
        "rides['Member type'].value_counts()/len(rides) # Percentage each subgroup of bike user is of total number of bike users"
      ],
      "execution_count": 88,
      "outputs": [
        {
          "output_type": "execute_result",
          "data": {
            "text/plain": [
              "Member    0.813793\n",
              "Casual    0.186207\n",
              "Name: Member type, dtype: float64"
            ]
          },
          "metadata": {
            "tags": []
          },
          "execution_count": 88
        }
      ]
    },
    {
      "cell_type": "code",
      "metadata": {
        "id": "WRSNIxhGb98u",
        "colab_type": "code",
        "colab": {}
      },
      "source": [
        "rides['Duration seconds'] = rides['Duration'].dt.total_seconds()"
      ],
      "execution_count": 0,
      "outputs": []
    },
    {
      "cell_type": "code",
      "metadata": {
        "id": "CHTsDIFJcVUa",
        "colab_type": "code",
        "colab": {
          "base_uri": "https://localhost:8080/",
          "height": 85
        },
        "outputId": "1cd78a12-73ae-45d7-bed6-29adadc5f3f4"
      },
      "source": [
        "rides.groupby('Member type')['Duration seconds'].mean()"
      ],
      "execution_count": 94,
      "outputs": [
        {
          "output_type": "execute_result",
          "data": {
            "text/plain": [
              "Member type\n",
              "Casual    1994.666667\n",
              "Member     992.279661\n",
              "Name: Duration seconds, dtype: float64"
            ]
          },
          "metadata": {
            "tags": []
          },
          "execution_count": 94
        }
      ]
    },
    {
      "cell_type": "code",
      "metadata": {
        "id": "WQv_xXNfcu0G",
        "colab_type": "code",
        "colab": {
          "base_uri": "https://localhost:8080/",
          "height": 102
        },
        "outputId": "03c65ccb-9260-4697-dfc0-8612fd556c0a"
      },
      "source": [
        "# resample() is a way to group by a datetime time unit for applying aggregation methods\n",
        "\n",
        "rides.resample('M', on='Start date')['Duration seconds'].mean()"
      ],
      "execution_count": 95,
      "outputs": [
        {
          "output_type": "execute_result",
          "data": {
            "text/plain": [
              "Start date\n",
              "2017-10-31    1886.453704\n",
              "2017-11-30     854.174757\n",
              "2017-12-31     635.101266\n",
              "Freq: M, Name: Duration seconds, dtype: float64"
            ]
          },
          "metadata": {
            "tags": []
          },
          "execution_count": 95
        }
      ]
    },
    {
      "cell_type": "code",
      "metadata": {
        "id": "MTCx8bL0dTYm",
        "colab_type": "code",
        "colab": {
          "base_uri": "https://localhost:8080/",
          "height": 85
        },
        "outputId": "a47caf09-5fa3-485a-d28e-39a1267a6ecf"
      },
      "source": [
        "rides.groupby('Member type').size() # size of each group"
      ],
      "execution_count": 96,
      "outputs": [
        {
          "output_type": "execute_result",
          "data": {
            "text/plain": [
              "Member type\n",
              "Casual     54\n",
              "Member    236\n",
              "dtype: int64"
            ]
          },
          "metadata": {
            "tags": []
          },
          "execution_count": 96
        }
      ]
    },
    {
      "cell_type": "code",
      "metadata": {
        "id": "Vr_vRI2Mdh2W",
        "colab_type": "code",
        "colab": {
          "base_uri": "https://localhost:8080/",
          "height": 210
        },
        "outputId": "9c014967-0d93-4224-f548-475543d5e3e1"
      },
      "source": [
        "rides.groupby('Member type').first() # First instances of subset sliced by groupby()"
      ],
      "execution_count": 98,
      "outputs": [
        {
          "output_type": "execute_result",
          "data": {
            "text/html": [
              "<div>\n",
              "<style scoped>\n",
              "    .dataframe tbody tr th:only-of-type {\n",
              "        vertical-align: middle;\n",
              "    }\n",
              "\n",
              "    .dataframe tbody tr th {\n",
              "        vertical-align: top;\n",
              "    }\n",
              "\n",
              "    .dataframe thead th {\n",
              "        text-align: right;\n",
              "    }\n",
              "</style>\n",
              "<table border=\"1\" class=\"dataframe\">\n",
              "  <thead>\n",
              "    <tr style=\"text-align: right;\">\n",
              "      <th></th>\n",
              "      <th>Start date</th>\n",
              "      <th>End date</th>\n",
              "      <th>Start station number</th>\n",
              "      <th>Start station</th>\n",
              "      <th>End station number</th>\n",
              "      <th>End station</th>\n",
              "      <th>Bike number</th>\n",
              "      <th>Duration</th>\n",
              "      <th>Duration seconds</th>\n",
              "    </tr>\n",
              "    <tr>\n",
              "      <th>Member type</th>\n",
              "      <th></th>\n",
              "      <th></th>\n",
              "      <th></th>\n",
              "      <th></th>\n",
              "      <th></th>\n",
              "      <th></th>\n",
              "      <th></th>\n",
              "      <th></th>\n",
              "      <th></th>\n",
              "    </tr>\n",
              "  </thead>\n",
              "  <tbody>\n",
              "    <tr>\n",
              "      <th>Casual</th>\n",
              "      <td>2017-10-01 15:42:57</td>\n",
              "      <td>2017-10-01 17:49:59</td>\n",
              "      <td>31036</td>\n",
              "      <td>George Mason Dr &amp; Wilson Blvd</td>\n",
              "      <td>31036</td>\n",
              "      <td>George Mason Dr &amp; Wilson Blvd</td>\n",
              "      <td>W20529</td>\n",
              "      <td>02:07:02</td>\n",
              "      <td>7622.0</td>\n",
              "    </tr>\n",
              "    <tr>\n",
              "      <th>Member</th>\n",
              "      <td>2017-10-01 15:23:25</td>\n",
              "      <td>2017-10-01 15:26:26</td>\n",
              "      <td>31038</td>\n",
              "      <td>Glebe Rd &amp; 11th St N</td>\n",
              "      <td>31036</td>\n",
              "      <td>George Mason Dr &amp; Wilson Blvd</td>\n",
              "      <td>W20529</td>\n",
              "      <td>00:03:01</td>\n",
              "      <td>181.0</td>\n",
              "    </tr>\n",
              "  </tbody>\n",
              "</table>\n",
              "</div>"
            ],
            "text/plain": [
              "                     Start date            End date  ...  Duration Duration seconds\n",
              "Member type                                          ...                           \n",
              "Casual      2017-10-01 15:42:57 2017-10-01 17:49:59  ...  02:07:02           7622.0\n",
              "Member      2017-10-01 15:23:25 2017-10-01 15:26:26  ...  00:03:01            181.0\n",
              "\n",
              "[2 rows x 9 columns]"
            ]
          },
          "metadata": {
            "tags": []
          },
          "execution_count": 98
        }
      ]
    },
    {
      "cell_type": "code",
      "metadata": {
        "id": "WbB-dujSdq29",
        "colab_type": "code",
        "colab": {
          "base_uri": "https://localhost:8080/",
          "height": 306
        },
        "outputId": "0b58efb5-f043-4b68-f658-bb18e7383379"
      },
      "source": [
        " rides.resample('M', on='Start date')['Duration seconds'].mean().plot() # plotting results by month"
      ],
      "execution_count": 100,
      "outputs": [
        {
          "output_type": "execute_result",
          "data": {
            "text/plain": [
              "<matplotlib.axes._subplots.AxesSubplot at 0x7fe64a5dedd8>"
            ]
          },
          "metadata": {
            "tags": []
          },
          "execution_count": 100
        },
        {
          "output_type": "display_data",
          "data": {
            "image/png": "[encoded data removed]",
            "text/plain": [
              "<Figure size 432x288 with 1 Axes>"
            ]
          },
          "metadata": {
            "tags": [],
            "needs_background": "light"
          }
        }
      ]
    },
    {
      "cell_type": "code",
      "metadata": {
        "id": "7Hw-XQJFeChA",
        "colab_type": "code",
        "colab": {
          "base_uri": "https://localhost:8080/",
          "height": 331
        },
        "outputId": "9b86c40b-66ff-4b30-b978-0b5fdee78aed"
      },
      "source": [
        "rides.resample('D', on='Start date')['Duration seconds'].mean().plot() # plotting results by day"
      ],
      "execution_count": 101,
      "outputs": [
        {
          "output_type": "execute_result",
          "data": {
            "text/plain": [
              "<matplotlib.axes._subplots.AxesSubplot at 0x7fe64a181320>"
            ]
          },
          "metadata": {
            "tags": []
          },
          "execution_count": 101
        },
        {
          "output_type": "display_data",
          "data": {
            "image/png": "[encoded data removed]",
            "text/plain": [
              "<Figure size 432x288 with 1 Axes>"
            ]
          },
          "metadata": {
            "tags": [],
            "needs_background": "light"
          }
        }
      ]
    },
    {
      "cell_type": "code",
      "metadata": {
        "id": "mzXZq6LjeY_Y",
        "colab_type": "code",
        "colab": {
          "base_uri": "https://localhost:8080/",
          "height": 68
        },
        "outputId": "82a17667-1439-450f-cbcf-0a0a5240b357"
      },
      "source": [
        "# Create joyrides\n",
        "joyrides = (rides['Start station'] == rides['End station'])\n",
        "\n",
        "# Total number of joyrides\n",
        "print(\"{} rides were joyrides\".format(joyrides.sum()))\n",
        "\n",
        "# Median of all rides\n",
        "print(\"The median duration overall was {} seconds\" \n",
        "      .format(rides['Duration'].median()))\n",
        "\n",
        "# Median of joyrides\n",
        "print(\"The median duration for joyrides was {} seconds\"\n",
        "      .format(rides[joyrides]['Duration'].median()))     # Passing in a slice"
      ],
      "execution_count": 105,
      "outputs": [
        {
          "output_type": "stream",
          "text": [
            "6 rides were joyrides\n",
            "The median duration overall was 0 days 00:11:00 seconds\n",
            "The median duration for joyrides was 0 days 00:44:02.500000 seconds\n"
          ],
          "name": "stdout"
        }
      ]
    },
    {
      "cell_type": "code",
      "metadata": {
        "id": "tzd0K5m_fzcx",
        "colab_type": "code",
        "colab": {
          "base_uri": "https://localhost:8080/",
          "height": 314
        },
        "outputId": "867a9c55-c208-4c2f-ac1b-df19b32e4c3c"
      },
      "source": [
        "# Import matplotlib\n",
        "import matplotlib.pyplot as plt\n",
        "\n",
        "# Resample rides to daily, take the size, plot the results\n",
        "rides.resample('D', on = 'Start date')\\\n",
        "  .size()\\\n",
        "  .plot(ylim = [0, 15])\n",
        "\n",
        "# Show the results\n",
        "plt.show()"
      ],
      "execution_count": 106,
      "outputs": [
        {
          "output_type": "display_data",
          "data": {
            "image/png": "[encoded data removed]",
            "text/plain": [
              "<Figure size 432x288 with 1 Axes>"
            ]
          },
          "metadata": {
            "tags": [],
            "needs_background": "light"
          }
        }
      ]
    },
    {
      "cell_type": "code",
      "metadata": {
        "id": "A1TT2yUaglk0",
        "colab_type": "code",
        "colab": {
          "base_uri": "https://localhost:8080/",
          "height": 289
        },
        "outputId": "9f456df2-c3c3-44fb-bac5-fb682c83f7ab"
      },
      "source": [
        "# Resample rides to monthly, take the size, plot the results\n",
        "rides.resample('M', on = 'Start date')\\\n",
        "  .size()\\\n",
        "  .plot(ylim = [0, 150])\n",
        "\n",
        "# Show the results\n",
        "plt.show()"
      ],
      "execution_count": 107,
      "outputs": [
        {
          "output_type": "display_data",
          "data": {
            "image/png": "[encoded data removed]",
            "text/plain": [
              "<Figure size 432x288 with 1 Axes>"
            ]
          },
          "metadata": {
            "tags": [],
            "needs_background": "light"
          }
        }
      ]
    },
    {
      "cell_type": "code",
      "metadata": {
        "id": "Yn6ArSazg713",
        "colab_type": "code",
        "colab": {
          "base_uri": "https://localhost:8080/",
          "height": 153
        },
        "outputId": "ba899d5f-0506-4a2e-9738-a00f84d623a1"
      },
      "source": [
        "# Resample rides to be monthly on the basis of Start date\n",
        "monthly_rides = rides.resample('M', on='Start date')['Member type']\n",
        "\n",
        "# Take the ratio of the .value_counts() over the total number of rides\n",
        "print(monthly_rides.value_counts() / monthly_rides.size())"
      ],
      "execution_count": 108,
      "outputs": [
        {
          "output_type": "stream",
          "text": [
            "Start date  Member type\n",
            "2017-10-31  Member         0.768519\n",
            "            Casual         0.231481\n",
            "2017-11-30  Member         0.825243\n",
            "            Casual         0.174757\n",
            "2017-12-31  Member         0.860759\n",
            "            Casual         0.139241\n",
            "Name: Member type, dtype: float64\n"
          ],
          "name": "stdout"
        }
      ]
    },
    {
      "cell_type": "code",
      "metadata": {
        "id": "bQvg7pIHhgh9",
        "colab_type": "code",
        "colab": {
          "base_uri": "https://localhost:8080/",
          "height": 34
        },
        "outputId": "19c18c5b-3915-4f55-a9f3-0d57f0668cb9"
      },
      "source": [
        "# Group rides by member type, and resample to the month\n",
        "grouped = rides.groupby('Member type').resample('M', on='Start date')\n",
        "\n",
        "# # Print the median duration for each group\n",
        "# print(grouped['Duration'].median())             #DOES NOT RETURN DATA FRAME THAT CAN HANDLE AGGREGATIONS IN COLAB ENVIRONMENT. Does in Datacamp console.\n",
        "grouped"
      ],
      "execution_count": 115,
      "outputs": [
        {
          "output_type": "execute_result",
          "data": {
            "text/plain": [
              "<pandas.core.resample.DatetimeIndexResamplerGroupby object at 0x7fe649e7aef0>"
            ]
          },
          "metadata": {
            "tags": []
          },
          "execution_count": 115
        }
      ]
    },
    {
      "cell_type": "markdown",
      "metadata": {
        "id": "ovbsy7QVjc0t",
        "colab_type": "text"
      },
      "source": [
        "### Additional Datetime Methods in Pandas"
      ]
    },
    {
      "cell_type": "code",
      "metadata": {
        "id": "VklsR4POoYM2",
        "colab_type": "code",
        "colab": {
          "base_uri": "https://localhost:8080/",
          "height": 306
        },
        "outputId": "8cf74deb-b2a4-483e-9d76-67ad032faa68"
      },
      "source": [
        "rides=pd.read_csv('capital-onebike.csv',parse_dates=['Start date','End date'])\n",
        "rides['Duration'] = rides['End date'] - rides['Start date']\n",
        "rides.head()"
      ],
      "execution_count": 208,
      "outputs": [
        {
          "output_type": "execute_result",
          "data": {
            "text/html": [
              "<div>\n",
              "<style scoped>\n",
              "    .dataframe tbody tr th:only-of-type {\n",
              "        vertical-align: middle;\n",
              "    }\n",
              "\n",
              "    .dataframe tbody tr th {\n",
              "        vertical-align: top;\n",
              "    }\n",
              "\n",
              "    .dataframe thead th {\n",
              "        text-align: right;\n",
              "    }\n",
              "</style>\n",
              "<table border=\"1\" class=\"dataframe\">\n",
              "  <thead>\n",
              "    <tr style=\"text-align: right;\">\n",
              "      <th></th>\n",
              "      <th>Start date</th>\n",
              "      <th>End date</th>\n",
              "      <th>Start station number</th>\n",
              "      <th>Start station</th>\n",
              "      <th>End station number</th>\n",
              "      <th>End station</th>\n",
              "      <th>Bike number</th>\n",
              "      <th>Member type</th>\n",
              "      <th>Duration</th>\n",
              "    </tr>\n",
              "  </thead>\n",
              "  <tbody>\n",
              "    <tr>\n",
              "      <th>0</th>\n",
              "      <td>2017-10-01 15:23:25</td>\n",
              "      <td>2017-10-01 15:26:26</td>\n",
              "      <td>31038</td>\n",
              "      <td>Glebe Rd &amp; 11th St N</td>\n",
              "      <td>31036</td>\n",
              "      <td>George Mason Dr &amp; Wilson Blvd</td>\n",
              "      <td>W20529</td>\n",
              "      <td>Member</td>\n",
              "      <td>00:03:01</td>\n",
              "    </tr>\n",
              "    <tr>\n",
              "      <th>1</th>\n",
              "      <td>2017-10-01 15:42:57</td>\n",
              "      <td>2017-10-01 17:49:59</td>\n",
              "      <td>31036</td>\n",
              "      <td>George Mason Dr &amp; Wilson Blvd</td>\n",
              "      <td>31036</td>\n",
              "      <td>George Mason Dr &amp; Wilson Blvd</td>\n",
              "      <td>W20529</td>\n",
              "      <td>Casual</td>\n",
              "      <td>02:07:02</td>\n",
              "    </tr>\n",
              "    <tr>\n",
              "      <th>2</th>\n",
              "      <td>2017-10-02 06:37:10</td>\n",
              "      <td>2017-10-02 06:42:53</td>\n",
              "      <td>31036</td>\n",
              "      <td>George Mason Dr &amp; Wilson Blvd</td>\n",
              "      <td>31037</td>\n",
              "      <td>Ballston Metro / N Stuart &amp; 9th St N</td>\n",
              "      <td>W20529</td>\n",
              "      <td>Member</td>\n",
              "      <td>00:05:43</td>\n",
              "    </tr>\n",
              "    <tr>\n",
              "      <th>3</th>\n",
              "      <td>2017-10-02 08:56:45</td>\n",
              "      <td>2017-10-02 09:18:03</td>\n",
              "      <td>31037</td>\n",
              "      <td>Ballston Metro / N Stuart &amp; 9th St N</td>\n",
              "      <td>31295</td>\n",
              "      <td>Potomac &amp; M St NW</td>\n",
              "      <td>W20529</td>\n",
              "      <td>Member</td>\n",
              "      <td>00:21:18</td>\n",
              "    </tr>\n",
              "    <tr>\n",
              "      <th>4</th>\n",
              "      <td>2017-10-02 18:23:48</td>\n",
              "      <td>2017-10-02 18:45:05</td>\n",
              "      <td>31295</td>\n",
              "      <td>Potomac &amp; M St NW</td>\n",
              "      <td>31230</td>\n",
              "      <td>Metro Center / 12th &amp; G St NW</td>\n",
              "      <td>W20529</td>\n",
              "      <td>Member</td>\n",
              "      <td>00:21:17</td>\n",
              "    </tr>\n",
              "  </tbody>\n",
              "</table>\n",
              "</div>"
            ],
            "text/plain": [
              "           Start date            End date  ...  Member type Duration\n",
              "0 2017-10-01 15:23:25 2017-10-01 15:26:26  ...       Member 00:03:01\n",
              "1 2017-10-01 15:42:57 2017-10-01 17:49:59  ...       Casual 02:07:02\n",
              "2 2017-10-02 06:37:10 2017-10-02 06:42:53  ...       Member 00:05:43\n",
              "3 2017-10-02 08:56:45 2017-10-02 09:18:03  ...       Member 00:21:18\n",
              "4 2017-10-02 18:23:48 2017-10-02 18:45:05  ...       Member 00:21:17\n",
              "\n",
              "[5 rows x 9 columns]"
            ]
          },
          "metadata": {
            "tags": []
          },
          "execution_count": 208
        }
      ]
    },
    {
      "cell_type": "code",
      "metadata": {
        "id": "7IDnMoo5ij2z",
        "colab_type": "code",
        "colab": {
          "base_uri": "https://localhost:8080/",
          "height": 34
        },
        "outputId": "49f7b921-50ed-4dee-c4e1-857df3e8996e"
      },
      "source": [
        "rides['Duration'].dt.total_seconds().min() # Unreasonable minimum trip length because of daylight savings shift"
      ],
      "execution_count": 209,
      "outputs": [
        {
          "output_type": "execute_result",
          "data": {
            "text/plain": [
              "-3346.0"
            ]
          },
          "metadata": {
            "tags": []
          },
          "execution_count": 209
        }
      ]
    },
    {
      "cell_type": "code",
      "metadata": {
        "id": "294keDRWmDNg",
        "colab_type": "code",
        "colab": {
          "base_uri": "https://localhost:8080/",
          "height": 85
        },
        "outputId": "4a0bfa70-34ed-4936-bffb-da35e98647bd"
      },
      "source": [
        "rides['Start date'].head(3) # checking for a UTC offset"
      ],
      "execution_count": 210,
      "outputs": [
        {
          "output_type": "execute_result",
          "data": {
            "text/plain": [
              "0   2017-10-01 15:23:25\n",
              "1   2017-10-01 15:42:57\n",
              "2   2017-10-02 06:37:10\n",
              "Name: Start date, dtype: datetime64[ns]"
            ]
          },
          "metadata": {
            "tags": []
          },
          "execution_count": 210
        }
      ]
    },
    {
      "cell_type": "code",
      "metadata": {
        "id": "XD7usVSvmVxK",
        "colab_type": "code",
        "colab": {}
      },
      "source": [
        "# rides['Start date'].head(3).dt.tz_localize('America/New_York') # put entries into desired time zone, note underscore, "
      ],
      "execution_count": 0,
      "outputs": []
    },
    {
      "cell_type": "code",
      "metadata": {
        "id": "xJKLdQlXmh6I",
        "colab_type": "code",
        "colab": {}
      },
      "source": [
        "#rides['Start date'].dt.tz_localize('America/New_York') #can't convert whole column because of daylight savings shift in data"
      ],
      "execution_count": 0,
      "outputs": []
    },
    {
      "cell_type": "code",
      "metadata": {
        "id": "TghRxqPwnJL9",
        "colab_type": "code",
        "colab": {
          "base_uri": "https://localhost:8080/",
          "height": 221
        },
        "outputId": "e772193e-92d1-4e53-d003-1acac1f55d4c"
      },
      "source": [
        "rides['Start date'].dt.tz_localize('America/New_York', ambiguous='NaT') # This code causes dataframe to be converted to a nonetype object\n",
        "rides['End date'].dt.tz_localize('America/New_York',ambiguous='NaT')"
      ],
      "execution_count": 213,
      "outputs": [
        {
          "output_type": "execute_result",
          "data": {
            "text/plain": [
              "0     2017-10-01 15:26:26-04:00\n",
              "1     2017-10-01 17:49:59-04:00\n",
              "2     2017-10-02 06:42:53-04:00\n",
              "3     2017-10-02 09:18:03-04:00\n",
              "4     2017-10-02 18:45:05-04:00\n",
              "                 ...           \n",
              "285   2017-12-29 14:43:46-05:00\n",
              "286   2017-12-29 15:18:51-05:00\n",
              "287   2017-12-29 20:38:13-05:00\n",
              "288   2017-12-30 13:54:33-05:00\n",
              "289   2017-12-30 15:19:13-05:00\n",
              "Name: End date, Length: 290, dtype: datetime64[ns, America/New_York]"
            ]
          },
          "metadata": {
            "tags": []
          },
          "execution_count": 213
        }
      ]
    },
    {
      "cell_type": "code",
      "metadata": {
        "id": "NS3HGtOao7XS",
        "colab_type": "code",
        "colab": {
          "base_uri": "https://localhost:8080/",
          "height": 162
        },
        "outputId": "7a50fa20-44e7-499e-fe7e-c325e289e242"
      },
      "source": [
        "rides.head(2)"
      ],
      "execution_count": 214,
      "outputs": [
        {
          "output_type": "execute_result",
          "data": {
            "text/html": [
              "<div>\n",
              "<style scoped>\n",
              "    .dataframe tbody tr th:only-of-type {\n",
              "        vertical-align: middle;\n",
              "    }\n",
              "\n",
              "    .dataframe tbody tr th {\n",
              "        vertical-align: top;\n",
              "    }\n",
              "\n",
              "    .dataframe thead th {\n",
              "        text-align: right;\n",
              "    }\n",
              "</style>\n",
              "<table border=\"1\" class=\"dataframe\">\n",
              "  <thead>\n",
              "    <tr style=\"text-align: right;\">\n",
              "      <th></th>\n",
              "      <th>Start date</th>\n",
              "      <th>End date</th>\n",
              "      <th>Start station number</th>\n",
              "      <th>Start station</th>\n",
              "      <th>End station number</th>\n",
              "      <th>End station</th>\n",
              "      <th>Bike number</th>\n",
              "      <th>Member type</th>\n",
              "      <th>Duration</th>\n",
              "    </tr>\n",
              "  </thead>\n",
              "  <tbody>\n",
              "    <tr>\n",
              "      <th>0</th>\n",
              "      <td>2017-10-01 15:23:25</td>\n",
              "      <td>2017-10-01 15:26:26</td>\n",
              "      <td>31038</td>\n",
              "      <td>Glebe Rd &amp; 11th St N</td>\n",
              "      <td>31036</td>\n",
              "      <td>George Mason Dr &amp; Wilson Blvd</td>\n",
              "      <td>W20529</td>\n",
              "      <td>Member</td>\n",
              "      <td>00:03:01</td>\n",
              "    </tr>\n",
              "    <tr>\n",
              "      <th>1</th>\n",
              "      <td>2017-10-01 15:42:57</td>\n",
              "      <td>2017-10-01 17:49:59</td>\n",
              "      <td>31036</td>\n",
              "      <td>George Mason Dr &amp; Wilson Blvd</td>\n",
              "      <td>31036</td>\n",
              "      <td>George Mason Dr &amp; Wilson Blvd</td>\n",
              "      <td>W20529</td>\n",
              "      <td>Casual</td>\n",
              "      <td>02:07:02</td>\n",
              "    </tr>\n",
              "  </tbody>\n",
              "</table>\n",
              "</div>"
            ],
            "text/plain": [
              "           Start date            End date  ...  Member type Duration\n",
              "0 2017-10-01 15:23:25 2017-10-01 15:26:26  ...       Member 00:03:01\n",
              "1 2017-10-01 15:42:57 2017-10-01 17:49:59  ...       Casual 02:07:02\n",
              "\n",
              "[2 rows x 9 columns]"
            ]
          },
          "metadata": {
            "tags": []
          },
          "execution_count": 214
        }
      ]
    },
    {
      "cell_type": "code",
      "metadata": {
        "id": "KEtxvu55pmPl",
        "colab_type": "code",
        "colab": {
          "base_uri": "https://localhost:8080/",
          "height": 289
        },
        "outputId": "b37d4e63-9cc7-4d94-8153-1bdd960a76db"
      },
      "source": [
        "rides.info()"
      ],
      "execution_count": 215,
      "outputs": [
        {
          "output_type": "stream",
          "text": [
            "<class 'pandas.core.frame.DataFrame'>\n",
            "RangeIndex: 290 entries, 0 to 289\n",
            "Data columns (total 9 columns):\n",
            " #   Column                Non-Null Count  Dtype          \n",
            "---  ------                --------------  -----          \n",
            " 0   Start date            290 non-null    datetime64[ns] \n",
            " 1   End date              290 non-null    datetime64[ns] \n",
            " 2   Start station number  290 non-null    int64          \n",
            " 3   Start station         290 non-null    object         \n",
            " 4   End station number    290 non-null    int64          \n",
            " 5   End station           290 non-null    object         \n",
            " 6   Bike number           290 non-null    object         \n",
            " 7   Member type           290 non-null    object         \n",
            " 8   Duration              290 non-null    timedelta64[ns]\n",
            "dtypes: datetime64[ns](2), int64(2), object(4), timedelta64[ns](1)\n",
            "memory usage: 20.5+ KB\n"
          ],
          "name": "stdout"
        }
      ]
    },
    {
      "cell_type": "code",
      "metadata": {
        "id": "W2Rioe8nn2Zg",
        "colab_type": "code",
        "colab": {
          "base_uri": "https://localhost:8080/",
          "height": 162
        },
        "outputId": "c16b8560-f4c1-4396-8fde-32eb749d4bab"
      },
      "source": [
        "rides = rides.drop(columns='Duration', axis=1) # this time inplace=True caused a nonetype error\n",
        "rides.head(2)"
      ],
      "execution_count": 216,
      "outputs": [
        {
          "output_type": "execute_result",
          "data": {
            "text/html": [
              "<div>\n",
              "<style scoped>\n",
              "    .dataframe tbody tr th:only-of-type {\n",
              "        vertical-align: middle;\n",
              "    }\n",
              "\n",
              "    .dataframe tbody tr th {\n",
              "        vertical-align: top;\n",
              "    }\n",
              "\n",
              "    .dataframe thead th {\n",
              "        text-align: right;\n",
              "    }\n",
              "</style>\n",
              "<table border=\"1\" class=\"dataframe\">\n",
              "  <thead>\n",
              "    <tr style=\"text-align: right;\">\n",
              "      <th></th>\n",
              "      <th>Start date</th>\n",
              "      <th>End date</th>\n",
              "      <th>Start station number</th>\n",
              "      <th>Start station</th>\n",
              "      <th>End station number</th>\n",
              "      <th>End station</th>\n",
              "      <th>Bike number</th>\n",
              "      <th>Member type</th>\n",
              "    </tr>\n",
              "  </thead>\n",
              "  <tbody>\n",
              "    <tr>\n",
              "      <th>0</th>\n",
              "      <td>2017-10-01 15:23:25</td>\n",
              "      <td>2017-10-01 15:26:26</td>\n",
              "      <td>31038</td>\n",
              "      <td>Glebe Rd &amp; 11th St N</td>\n",
              "      <td>31036</td>\n",
              "      <td>George Mason Dr &amp; Wilson Blvd</td>\n",
              "      <td>W20529</td>\n",
              "      <td>Member</td>\n",
              "    </tr>\n",
              "    <tr>\n",
              "      <th>1</th>\n",
              "      <td>2017-10-01 15:42:57</td>\n",
              "      <td>2017-10-01 17:49:59</td>\n",
              "      <td>31036</td>\n",
              "      <td>George Mason Dr &amp; Wilson Blvd</td>\n",
              "      <td>31036</td>\n",
              "      <td>George Mason Dr &amp; Wilson Blvd</td>\n",
              "      <td>W20529</td>\n",
              "      <td>Casual</td>\n",
              "    </tr>\n",
              "  </tbody>\n",
              "</table>\n",
              "</div>"
            ],
            "text/plain": [
              "           Start date            End date  ...  Bike number Member type\n",
              "0 2017-10-01 15:23:25 2017-10-01 15:26:26  ...       W20529      Member\n",
              "1 2017-10-01 15:42:57 2017-10-01 17:49:59  ...       W20529      Casual\n",
              "\n",
              "[2 rows x 8 columns]"
            ]
          },
          "metadata": {
            "tags": []
          },
          "execution_count": 216
        }
      ]
    },
    {
      "cell_type": "code",
      "metadata": {
        "id": "-GbA8usonWDv",
        "colab_type": "code",
        "colab": {
          "base_uri": "https://localhost:8080/",
          "height": 34
        },
        "outputId": "29c5c44c-f9b9-4fe3-b76f-cb5ee830aa41"
      },
      "source": [
        "# Recalculating trip durations (no -time durations)\n",
        "rides['Duration'] = rides['End date'] - rides['Start date']\n",
        "rides['Duration'].dt.total_seconds().min()        # Unreasonable minimum still present"
      ],
      "execution_count": 218,
      "outputs": [
        {
          "output_type": "execute_result",
          "data": {
            "text/plain": [
              "-3346.0"
            ]
          },
          "metadata": {
            "tags": []
          },
          "execution_count": 218
        }
      ]
    },
    {
      "cell_type": "code",
      "metadata": {
        "id": "0cjofWqnrRK4",
        "colab_type": "code",
        "colab": {
          "base_uri": "https://localhost:8080/",
          "height": 34
        },
        "outputId": "54bf444c-6d02-432d-8b33-c594f749c882"
      },
      "source": [
        "rides[rides['Duration'].dt.total_seconds()==-3346.0].index.values\n"
      ],
      "execution_count": 231,
      "outputs": [
        {
          "output_type": "execute_result",
          "data": {
            "text/plain": [
              "array([129])"
            ]
          },
          "metadata": {
            "tags": []
          },
          "execution_count": 231
        }
      ]
    },
    {
      "cell_type": "code",
      "metadata": {
        "id": "dXpdbRbjsQUt",
        "colab_type": "code",
        "colab": {
          "base_uri": "https://localhost:8080/",
          "height": 187
        },
        "outputId": "4d95a0e6-2c89-4493-96f6-a9c9ec8fba0f"
      },
      "source": [
        "rides.iloc[129] "
      ],
      "execution_count": 241,
      "outputs": [
        {
          "output_type": "execute_result",
          "data": {
            "text/plain": [
              "Start date              2017-11-05 01:56:50\n",
              "End date                2017-11-05 01:01:04\n",
              "Start station number                  31615\n",
              "Start station                 6th & H St NE\n",
              "End station number                    31627\n",
              "End station                   3rd & M St NE\n",
              "Bike number                          W20529\n",
              "Member type                          Member\n",
              "Duration                  -1 days +23:04:14\n",
              "Name: 129, dtype: object"
            ]
          },
          "metadata": {
            "tags": []
          },
          "execution_count": 241
        }
      ]
    },
    {
      "cell_type": "code",
      "metadata": {
        "id": "XgzsZE33vR1Y",
        "colab_type": "code",
        "colab": {
          "base_uri": "https://localhost:8080/",
          "height": 119
        },
        "outputId": "624cd8fa-22fb-444a-eae6-b6c12d516e25"
      },
      "source": [
        "# Accessing datetimes by parts\n",
        "rides['Start date'].dt.year.head()"
      ],
      "execution_count": 233,
      "outputs": [
        {
          "output_type": "execute_result",
          "data": {
            "text/plain": [
              "0    2017\n",
              "1    2017\n",
              "2    2017\n",
              "3    2017\n",
              "4    2017\n",
              "Name: Start date, dtype: int64"
            ]
          },
          "metadata": {
            "tags": []
          },
          "execution_count": 233
        }
      ]
    },
    {
      "cell_type": "code",
      "metadata": {
        "id": "WIkcZJ5Jvi2q",
        "colab_type": "code",
        "colab": {
          "base_uri": "https://localhost:8080/",
          "height": 164
        },
        "outputId": "a93372dc-9e12-4f86-86ef-d211b92898cc"
      },
      "source": [
        "rides['Start date'].dt.weekday_name # weekday name doesn't work in this version"
      ],
      "execution_count": 239,
      "outputs": [
        {
          "output_type": "error",
          "ename": "AttributeError",
          "evalue": "ignored",
          "traceback": [
            "\u001b[0;31m---------------------------------------------------------------------------\u001b[0m",
            "\u001b[0;31mAttributeError\u001b[0m                            Traceback (most recent call last)",
            "\u001b[0;32m<ipython-input-239-4cde4e9b258d>\u001b[0m in \u001b[0;36m<module>\u001b[0;34m()\u001b[0m\n\u001b[0;32m----> 1\u001b[0;31m \u001b[0mrides\u001b[0m\u001b[0;34m[\u001b[0m\u001b[0;34m'Start date'\u001b[0m\u001b[0;34m]\u001b[0m\u001b[0;34m.\u001b[0m\u001b[0mdt\u001b[0m\u001b[0;34m.\u001b[0m\u001b[0mweekday_name\u001b[0m\u001b[0;34m\u001b[0m\u001b[0;34m\u001b[0m\u001b[0m\n\u001b[0m",
            "\u001b[0;31mAttributeError\u001b[0m: 'DatetimeProperties' object has no attribute 'weekday_name'"
          ]
        }
      ]
    },
    {
      "cell_type": "code",
      "metadata": {
        "id": "YXFYkYZBvpoh",
        "colab_type": "code",
        "colab": {
          "base_uri": "https://localhost:8080/",
          "height": 85
        },
        "outputId": "32e9e91e-6be5-41b3-8d3d-e006285d3e7f"
      },
      "source": [
        "# shifting rows\n",
        "rides['End date'].shift(1).head(3)"
      ],
      "execution_count": 240,
      "outputs": [
        {
          "output_type": "execute_result",
          "data": {
            "text/plain": [
              "0                   NaT\n",
              "1   2017-10-01 15:26:26\n",
              "2   2017-10-01 17:49:59\n",
              "Name: End date, dtype: datetime64[ns]"
            ]
          },
          "metadata": {
            "tags": []
          },
          "execution_count": 240
        }
      ]
    },
    {
      "cell_type": "code",
      "metadata": {
        "id": "n5KgQsSdwaUX",
        "colab_type": "code",
        "colab": {
          "base_uri": "https://localhost:8080/",
          "height": 34
        },
        "outputId": "2d0fdb13-4ee2-46ac-f255-2ca5c289ba20"
      },
      "source": [
        "# Converting to European/London time\n",
        "\n",
        "# Localize the Start date column to America/New_York\n",
        "rides['Start date'] = rides['Start date'].dt.tz_localize('America/New_York', \n",
        "                                \t\t\t\t\t\t ambiguous='NaT')\n",
        "\n",
        "# Print first value\n",
        "print(rides['Start date'].iloc[0])"
      ],
      "execution_count": 242,
      "outputs": [
        {
          "output_type": "stream",
          "text": [
            "2017-10-01 15:23:25-04:00\n"
          ],
          "name": "stdout"
        }
      ]
    },
    {
      "cell_type": "code",
      "metadata": {
        "id": "K_-z125Kzvbl",
        "colab_type": "code",
        "colab": {
          "base_uri": "https://localhost:8080/",
          "height": 34
        },
        "outputId": "05937c3c-e313-4dbc-a2fb-67d799048f65"
      },
      "source": [
        "# Converting Time Zones\n",
        "\n",
        "# Convert the Start date column to Europe/London\n",
        "rides['Start date'] = rides['Start date'].dt.tz_convert(\n",
        "'Europe/London')\n",
        "\n",
        "\n",
        "# Print the new value\n",
        "print(rides['Start date'].iloc[0])  # Worked in colab but not datacamp console"
      ],
      "execution_count": 244,
      "outputs": [
        {
          "output_type": "stream",
          "text": [
            "2017-10-01 20:23:25+01:00\n"
          ],
          "name": "stdout"
        }
      ]
    },
    {
      "cell_type": "code",
      "metadata": {
        "id": "xAfZe09u0VSj",
        "colab_type": "code",
        "colab": {
          "base_uri": "https://localhost:8080/",
          "height": 215
        },
        "outputId": "ab18e9f8-2551-410d-e061-e7f6c3a34317"
      },
      "source": [
        "# How Long per Weekday\n",
        "\n",
        "# Add a column for the weekday of the start of the ride\n",
        "rides['Ride start weekday'] = rides['Start date'].dt.weekday_name\n",
        "\n",
        "# Print the median trip time per weekday\n",
        "print(rides.groupby('Ride start weekday')['Duration'].median())"
      ],
      "execution_count": 245,
      "outputs": [
        {
          "output_type": "error",
          "ename": "AttributeError",
          "evalue": "ignored",
          "traceback": [
            "\u001b[0;31m---------------------------------------------------------------------------\u001b[0m",
            "\u001b[0;31mAttributeError\u001b[0m                            Traceback (most recent call last)",
            "\u001b[0;32m<ipython-input-245-866c986745cc>\u001b[0m in \u001b[0;36m<module>\u001b[0;34m()\u001b[0m\n\u001b[0;32m----> 1\u001b[0;31m \u001b[0mrides\u001b[0m\u001b[0;34m[\u001b[0m\u001b[0;34m'Ride start weekday'\u001b[0m\u001b[0;34m]\u001b[0m \u001b[0;34m=\u001b[0m \u001b[0mrides\u001b[0m\u001b[0;34m[\u001b[0m\u001b[0;34m'Start date'\u001b[0m\u001b[0;34m]\u001b[0m\u001b[0;34m.\u001b[0m\u001b[0mdt\u001b[0m\u001b[0;34m.\u001b[0m\u001b[0mweekday_name\u001b[0m\u001b[0;34m\u001b[0m\u001b[0;34m\u001b[0m\u001b[0m\n\u001b[0m\u001b[1;32m      2\u001b[0m \u001b[0;34m\u001b[0m\u001b[0m\n\u001b[1;32m      3\u001b[0m \u001b[0;31m# Print the median trip time per weekday\u001b[0m\u001b[0;34m\u001b[0m\u001b[0;34m\u001b[0m\u001b[0;34m\u001b[0m\u001b[0m\n\u001b[1;32m      4\u001b[0m \u001b[0mprint\u001b[0m\u001b[0;34m(\u001b[0m\u001b[0mrides\u001b[0m\u001b[0;34m.\u001b[0m\u001b[0mgroupby\u001b[0m\u001b[0;34m(\u001b[0m\u001b[0;34m'Ride start weekday'\u001b[0m\u001b[0;34m)\u001b[0m\u001b[0;34m[\u001b[0m\u001b[0;34m'Duration'\u001b[0m\u001b[0;34m]\u001b[0m\u001b[0;34m.\u001b[0m\u001b[0mmedian\u001b[0m\u001b[0;34m(\u001b[0m\u001b[0;34m)\u001b[0m\u001b[0;34m)\u001b[0m\u001b[0;34m\u001b[0m\u001b[0;34m\u001b[0m\u001b[0m\n",
            "\u001b[0;31mAttributeError\u001b[0m: 'DatetimeProperties' object has no attribute 'weekday_name'"
          ]
        }
      ]
    },
    {
      "cell_type": "code",
      "metadata": {
        "id": "i1YtCEt11WCq",
        "colab_type": "code",
        "colab": {
          "base_uri": "https://localhost:8080/",
          "height": 375
        },
        "outputId": "45497a98-2f4c-41d0-c650-2f969506a902"
      },
      "source": [
        "# Shift the index of the end date up one; now subract it from the start date\n",
        "rides['Time since'] = rides['Start date'] - (rides['End date'].shift(1))\n",
        "\n",
        "# Move from a timedelta to a number of seconds, which is easier to work with\n",
        "rides['Time since'] = rides['Time since'].dt.total_seconds()\n",
        "\n",
        "# Resample to the month\n",
        "monthly = rides.resample('M',on='Start date')\n",
        "\n",
        "# Print the average hours between rides each month\n",
        "print(monthly['Time since'].mean()/(60*60))        # So it comes down to failure to skip ambiguous data"
      ],
      "execution_count": 246,
      "outputs": [
        {
          "output_type": "error",
          "ename": "TypeError",
          "evalue": "ignored",
          "traceback": [
            "\u001b[0;31m---------------------------------------------------------------------------\u001b[0m",
            "\u001b[0;31mTypeError\u001b[0m                                 Traceback (most recent call last)",
            "\u001b[0;32m<ipython-input-246-ce853566fb30>\u001b[0m in \u001b[0;36m<module>\u001b[0;34m()\u001b[0m\n\u001b[0;32m----> 1\u001b[0;31m \u001b[0mrides\u001b[0m\u001b[0;34m[\u001b[0m\u001b[0;34m'Time since'\u001b[0m\u001b[0;34m]\u001b[0m \u001b[0;34m=\u001b[0m \u001b[0mrides\u001b[0m\u001b[0;34m[\u001b[0m\u001b[0;34m'Start date'\u001b[0m\u001b[0;34m]\u001b[0m \u001b[0;34m-\u001b[0m \u001b[0;34m(\u001b[0m\u001b[0mrides\u001b[0m\u001b[0;34m[\u001b[0m\u001b[0;34m'End date'\u001b[0m\u001b[0;34m]\u001b[0m\u001b[0;34m.\u001b[0m\u001b[0mshift\u001b[0m\u001b[0;34m(\u001b[0m\u001b[0;36m1\u001b[0m\u001b[0;34m)\u001b[0m\u001b[0;34m)\u001b[0m\u001b[0;34m\u001b[0m\u001b[0;34m\u001b[0m\u001b[0m\n\u001b[0m\u001b[1;32m      2\u001b[0m \u001b[0;34m\u001b[0m\u001b[0m\n\u001b[1;32m      3\u001b[0m \u001b[0;31m# Move from a timedelta to a number of seconds, which is easier to work with\u001b[0m\u001b[0;34m\u001b[0m\u001b[0;34m\u001b[0m\u001b[0;34m\u001b[0m\u001b[0m\n\u001b[1;32m      4\u001b[0m \u001b[0mrides\u001b[0m\u001b[0;34m[\u001b[0m\u001b[0;34m'Time since'\u001b[0m\u001b[0;34m]\u001b[0m \u001b[0;34m=\u001b[0m \u001b[0mrides\u001b[0m\u001b[0;34m[\u001b[0m\u001b[0;34m'Time since'\u001b[0m\u001b[0;34m]\u001b[0m\u001b[0;34m.\u001b[0m\u001b[0mdt\u001b[0m\u001b[0;34m.\u001b[0m\u001b[0mtotal_seconds\u001b[0m\u001b[0;34m(\u001b[0m\u001b[0;34m)\u001b[0m\u001b[0;34m\u001b[0m\u001b[0;34m\u001b[0m\u001b[0m\n\u001b[1;32m      5\u001b[0m \u001b[0;34m\u001b[0m\u001b[0m\n",
            "\u001b[0;32m/usr/local/lib/python3.6/dist-packages/pandas/core/ops/common.py\u001b[0m in \u001b[0;36mnew_method\u001b[0;34m(self, other)\u001b[0m\n\u001b[1;32m     62\u001b[0m         \u001b[0mother\u001b[0m \u001b[0;34m=\u001b[0m \u001b[0mitem_from_zerodim\u001b[0m\u001b[0;34m(\u001b[0m\u001b[0mother\u001b[0m\u001b[0;34m)\u001b[0m\u001b[0;34m\u001b[0m\u001b[0;34m\u001b[0m\u001b[0m\n\u001b[1;32m     63\u001b[0m \u001b[0;34m\u001b[0m\u001b[0m\n\u001b[0;32m---> 64\u001b[0;31m         \u001b[0;32mreturn\u001b[0m \u001b[0mmethod\u001b[0m\u001b[0;34m(\u001b[0m\u001b[0mself\u001b[0m\u001b[0;34m,\u001b[0m \u001b[0mother\u001b[0m\u001b[0;34m)\u001b[0m\u001b[0;34m\u001b[0m\u001b[0;34m\u001b[0m\u001b[0m\n\u001b[0m\u001b[1;32m     65\u001b[0m \u001b[0;34m\u001b[0m\u001b[0m\n\u001b[1;32m     66\u001b[0m     \u001b[0;32mreturn\u001b[0m \u001b[0mnew_method\u001b[0m\u001b[0;34m\u001b[0m\u001b[0;34m\u001b[0m\u001b[0m\n",
            "\u001b[0;32m/usr/local/lib/python3.6/dist-packages/pandas/core/ops/__init__.py\u001b[0m in \u001b[0;36mwrapper\u001b[0;34m(left, right)\u001b[0m\n\u001b[1;32m    501\u001b[0m         \u001b[0mlvalues\u001b[0m \u001b[0;34m=\u001b[0m \u001b[0mextract_array\u001b[0m\u001b[0;34m(\u001b[0m\u001b[0mleft\u001b[0m\u001b[0;34m,\u001b[0m \u001b[0mextract_numpy\u001b[0m\u001b[0;34m=\u001b[0m\u001b[0;32mTrue\u001b[0m\u001b[0;34m)\u001b[0m\u001b[0;34m\u001b[0m\u001b[0;34m\u001b[0m\u001b[0m\n\u001b[1;32m    502\u001b[0m         \u001b[0mrvalues\u001b[0m \u001b[0;34m=\u001b[0m \u001b[0mextract_array\u001b[0m\u001b[0;34m(\u001b[0m\u001b[0mright\u001b[0m\u001b[0;34m,\u001b[0m \u001b[0mextract_numpy\u001b[0m\u001b[0;34m=\u001b[0m\u001b[0;32mTrue\u001b[0m\u001b[0;34m)\u001b[0m\u001b[0;34m\u001b[0m\u001b[0;34m\u001b[0m\u001b[0m\n\u001b[0;32m--> 503\u001b[0;31m         \u001b[0mresult\u001b[0m \u001b[0;34m=\u001b[0m \u001b[0marithmetic_op\u001b[0m\u001b[0;34m(\u001b[0m\u001b[0mlvalues\u001b[0m\u001b[0;34m,\u001b[0m \u001b[0mrvalues\u001b[0m\u001b[0;34m,\u001b[0m \u001b[0mop\u001b[0m\u001b[0;34m,\u001b[0m \u001b[0mstr_rep\u001b[0m\u001b[0;34m)\u001b[0m\u001b[0;34m\u001b[0m\u001b[0;34m\u001b[0m\u001b[0m\n\u001b[0m\u001b[1;32m    504\u001b[0m \u001b[0;34m\u001b[0m\u001b[0m\n\u001b[1;32m    505\u001b[0m         \u001b[0;32mreturn\u001b[0m \u001b[0m_construct_result\u001b[0m\u001b[0;34m(\u001b[0m\u001b[0mleft\u001b[0m\u001b[0;34m,\u001b[0m \u001b[0mresult\u001b[0m\u001b[0;34m,\u001b[0m \u001b[0mindex\u001b[0m\u001b[0;34m=\u001b[0m\u001b[0mleft\u001b[0m\u001b[0;34m.\u001b[0m\u001b[0mindex\u001b[0m\u001b[0;34m,\u001b[0m \u001b[0mname\u001b[0m\u001b[0;34m=\u001b[0m\u001b[0mres_name\u001b[0m\u001b[0;34m)\u001b[0m\u001b[0;34m\u001b[0m\u001b[0;34m\u001b[0m\u001b[0m\n",
            "\u001b[0;32m/usr/local/lib/python3.6/dist-packages/pandas/core/ops/array_ops.py\u001b[0m in \u001b[0;36marithmetic_op\u001b[0;34m(left, right, op, str_rep)\u001b[0m\n\u001b[1;32m    191\u001b[0m         \u001b[0;31m#  by dispatch_to_extension_op.\u001b[0m\u001b[0;34m\u001b[0m\u001b[0;34m\u001b[0m\u001b[0;34m\u001b[0m\u001b[0m\n\u001b[1;32m    192\u001b[0m         \u001b[0;31m# Timedelta is included because numexpr will fail on it, see GH#31457\u001b[0m\u001b[0;34m\u001b[0m\u001b[0;34m\u001b[0m\u001b[0;34m\u001b[0m\u001b[0m\n\u001b[0;32m--> 193\u001b[0;31m         \u001b[0mres_values\u001b[0m \u001b[0;34m=\u001b[0m \u001b[0mdispatch_to_extension_op\u001b[0m\u001b[0;34m(\u001b[0m\u001b[0mop\u001b[0m\u001b[0;34m,\u001b[0m \u001b[0mlvalues\u001b[0m\u001b[0;34m,\u001b[0m \u001b[0mrvalues\u001b[0m\u001b[0;34m)\u001b[0m\u001b[0;34m\u001b[0m\u001b[0;34m\u001b[0m\u001b[0m\n\u001b[0m\u001b[1;32m    194\u001b[0m \u001b[0;34m\u001b[0m\u001b[0m\n\u001b[1;32m    195\u001b[0m     \u001b[0;32melse\u001b[0m\u001b[0;34m:\u001b[0m\u001b[0;34m\u001b[0m\u001b[0;34m\u001b[0m\u001b[0m\n",
            "\u001b[0;32m/usr/local/lib/python3.6/dist-packages/pandas/core/ops/dispatch.py\u001b[0m in \u001b[0;36mdispatch_to_extension_op\u001b[0;34m(op, left, right)\u001b[0m\n\u001b[1;32m    123\u001b[0m     \u001b[0;31m# The op calls will raise TypeError if the op is not defined\u001b[0m\u001b[0;34m\u001b[0m\u001b[0;34m\u001b[0m\u001b[0;34m\u001b[0m\u001b[0m\n\u001b[1;32m    124\u001b[0m     \u001b[0;31m# on the ExtensionArray\u001b[0m\u001b[0;34m\u001b[0m\u001b[0;34m\u001b[0m\u001b[0;34m\u001b[0m\u001b[0m\n\u001b[0;32m--> 125\u001b[0;31m     \u001b[0mres_values\u001b[0m \u001b[0;34m=\u001b[0m \u001b[0mop\u001b[0m\u001b[0;34m(\u001b[0m\u001b[0mleft\u001b[0m\u001b[0;34m,\u001b[0m \u001b[0mright\u001b[0m\u001b[0;34m)\u001b[0m\u001b[0;34m\u001b[0m\u001b[0;34m\u001b[0m\u001b[0m\n\u001b[0m\u001b[1;32m    126\u001b[0m     \u001b[0;32mreturn\u001b[0m \u001b[0mres_values\u001b[0m\u001b[0;34m\u001b[0m\u001b[0;34m\u001b[0m\u001b[0m\n",
            "\u001b[0;32m/usr/local/lib/python3.6/dist-packages/pandas/core/ops/common.py\u001b[0m in \u001b[0;36mnew_method\u001b[0;34m(self, other)\u001b[0m\n\u001b[1;32m     62\u001b[0m         \u001b[0mother\u001b[0m \u001b[0;34m=\u001b[0m \u001b[0mitem_from_zerodim\u001b[0m\u001b[0;34m(\u001b[0m\u001b[0mother\u001b[0m\u001b[0;34m)\u001b[0m\u001b[0;34m\u001b[0m\u001b[0;34m\u001b[0m\u001b[0m\n\u001b[1;32m     63\u001b[0m \u001b[0;34m\u001b[0m\u001b[0m\n\u001b[0;32m---> 64\u001b[0;31m         \u001b[0;32mreturn\u001b[0m \u001b[0mmethod\u001b[0m\u001b[0;34m(\u001b[0m\u001b[0mself\u001b[0m\u001b[0;34m,\u001b[0m \u001b[0mother\u001b[0m\u001b[0;34m)\u001b[0m\u001b[0;34m\u001b[0m\u001b[0;34m\u001b[0m\u001b[0m\n\u001b[0m\u001b[1;32m     65\u001b[0m \u001b[0;34m\u001b[0m\u001b[0m\n\u001b[1;32m     66\u001b[0m     \u001b[0;32mreturn\u001b[0m \u001b[0mnew_method\u001b[0m\u001b[0;34m\u001b[0m\u001b[0;34m\u001b[0m\u001b[0m\n",
            "\u001b[0;32m/usr/local/lib/python3.6/dist-packages/pandas/core/arrays/datetimelike.py\u001b[0m in \u001b[0;36m__sub__\u001b[0;34m(self, other)\u001b[0m\n\u001b[1;32m   1404\u001b[0m         \u001b[0;32melif\u001b[0m \u001b[0mis_datetime64_dtype\u001b[0m\u001b[0;34m(\u001b[0m\u001b[0mother\u001b[0m\u001b[0;34m)\u001b[0m \u001b[0;32mor\u001b[0m \u001b[0mis_datetime64tz_dtype\u001b[0m\u001b[0;34m(\u001b[0m\u001b[0mother\u001b[0m\u001b[0;34m)\u001b[0m\u001b[0;34m:\u001b[0m\u001b[0;34m\u001b[0m\u001b[0;34m\u001b[0m\u001b[0m\n\u001b[1;32m   1405\u001b[0m             \u001b[0;31m# DatetimeIndex, ndarray[datetime64]\u001b[0m\u001b[0;34m\u001b[0m\u001b[0;34m\u001b[0m\u001b[0;34m\u001b[0m\u001b[0m\n\u001b[0;32m-> 1406\u001b[0;31m             \u001b[0mresult\u001b[0m \u001b[0;34m=\u001b[0m \u001b[0mself\u001b[0m\u001b[0;34m.\u001b[0m\u001b[0m_sub_datetime_arraylike\u001b[0m\u001b[0;34m(\u001b[0m\u001b[0mother\u001b[0m\u001b[0;34m)\u001b[0m\u001b[0;34m\u001b[0m\u001b[0;34m\u001b[0m\u001b[0m\n\u001b[0m\u001b[1;32m   1407\u001b[0m         \u001b[0;32melif\u001b[0m \u001b[0mis_period_dtype\u001b[0m\u001b[0;34m(\u001b[0m\u001b[0mother\u001b[0m\u001b[0;34m)\u001b[0m\u001b[0;34m:\u001b[0m\u001b[0;34m\u001b[0m\u001b[0;34m\u001b[0m\u001b[0m\n\u001b[1;32m   1408\u001b[0m             \u001b[0;31m# PeriodIndex\u001b[0m\u001b[0;34m\u001b[0m\u001b[0;34m\u001b[0m\u001b[0;34m\u001b[0m\u001b[0m\n",
            "\u001b[0;32m/usr/local/lib/python3.6/dist-packages/pandas/core/arrays/datetimes.py\u001b[0m in \u001b[0;36m_sub_datetime_arraylike\u001b[0;34m(self, other)\u001b[0m\n\u001b[1;32m    665\u001b[0m             \u001b[0;31m# require tz compat\u001b[0m\u001b[0;34m\u001b[0m\u001b[0;34m\u001b[0m\u001b[0;34m\u001b[0m\u001b[0m\n\u001b[1;32m    666\u001b[0m             raise TypeError(\n\u001b[0;32m--> 667\u001b[0;31m                 \u001b[0;34mf\"{type(self).__name__} subtraction must have the same \"\u001b[0m\u001b[0;34m\u001b[0m\u001b[0;34m\u001b[0m\u001b[0m\n\u001b[0m\u001b[1;32m    668\u001b[0m                 \u001b[0;34m\"timezones or no timezones\"\u001b[0m\u001b[0;34m\u001b[0m\u001b[0;34m\u001b[0m\u001b[0m\n\u001b[1;32m    669\u001b[0m             )\n",
            "\u001b[0;31mTypeError\u001b[0m: DatetimeArray subtraction must have the same timezones or no timezones"
          ]
        }
      ]
    },
    {
      "cell_type": "code",
      "metadata": {
        "id": "FcCLXw_13LtC",
        "colab_type": "code",
        "colab": {}
      },
      "source": [
        "# strptime() strings into dates\n",
        "# strftime() dates into strings"
      ],
      "execution_count": 0,
      "outputs": []
    },
    {
      "cell_type": "code",
      "metadata": {
        "id": "FuOzrQqX4aja",
        "colab_type": "code",
        "colab": {}
      },
      "source": [
        "# Set to UTC at the beginning then back to non-UTC to avoid timezone hiccups\n",
        "\n",
        "# replace() to replace timezone info but leave original timestamp in place\n",
        "# astimezone() to change timestamp to new timezone\n",
        "# dateutil.tz  timezone database\n",
        "\n",
        "# parse_dates=True, or pd.to_datetime([columns])\n",
        "# groupby(), resample('unit of time', on=column)\n",
        "# tz_localize() set new timezone, keep timestamp\n",
        "# tz_convert() change timestamp"
      ],
      "execution_count": 0,
      "outputs": []
    }
  ]
}