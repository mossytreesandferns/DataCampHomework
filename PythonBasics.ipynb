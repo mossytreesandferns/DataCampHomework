{
  "nbformat": 4,
  "nbformat_minor": 0,
  "metadata": {
    "colab": {
      "name": "PythonBasics.ipynb",
      "provenance": [],
      "authorship_tag": "ABX9TyNSVZ1fi4RrP0F5V5KBR602",
      "include_colab_link": true
    },
    "kernelspec": {
      "name": "python3",
      "display_name": "Python 3"
    }
  },
  "cells": [
    {
      "cell_type": "markdown",
      "metadata": {
        "id": "view-in-github",
        "colab_type": "text"
      },
      "source": [
        "<a href=\"https://colab.research.google.com/github/mossytreesandferns/DataCampHomework/blob/master/PythonBasics.ipynb\" target=\"_parent\"><img src=\"https://colab.research.google.com/assets/colab-badge.svg\" alt=\"Open In Colab\"/></a>"
      ]
    },
    {
      "cell_type": "code",
      "metadata": {
        "id": "i7LAtjiNLJGG",
        "colab_type": "code",
        "outputId": "1923d11c-0b88-4ccf-c7d0-53ae1b191398",
        "colab": {
          "base_uri": "https://localhost:8080/",
          "height": 122
        }
      },
      "source": [
        "#Mount my drive- run the code, go to the link, accept.\n",
        "from google.colab import drive\n",
        "drive.mount('/content/gdrive')"
      ],
      "execution_count": 0,
      "outputs": [
        {
          "output_type": "stream",
          "text": [
            "Go to this URL in a browser: https://accounts.google.com/o/oauth2/auth?client_id=947318989803-6bn6qk8qdgf4n4g3pfee6491hc0brc4i.apps.googleusercontent.com&redirect_uri=urn%3aietf%3awg%3aoauth%3a2.0%3aoob&response_type=code&scope=email%20https%3a%2f%2fwww.googleapis.com%2fauth%2fdocs.test%20https%3a%2f%2fwww.googleapis.com%2fauth%2fdrive%20https%3a%2f%2fwww.googleapis.com%2fauth%2fdrive.photos.readonly%20https%3a%2f%2fwww.googleapis.com%2fauth%2fpeopleapi.readonly\n",
            "\n",
            "Enter your authorization code:\n",
            "··········\n",
            "Mounted at /content/gdrive\n"
          ],
          "name": "stdout"
        }
      ]
    },
    {
      "cell_type": "code",
      "metadata": {
        "id": "ECHagIJqLYhg",
        "colab_type": "code",
        "outputId": "6ba1b1af-5448-4886-903e-9944f8ec7e54",
        "colab": {
          "base_uri": "https://localhost:8080/",
          "height": 34
        }
      },
      "source": [
        "#Change working directory to make it easier to access the files\n",
        "import os\n",
        "os.chdir(\"/content/gdrive/My Drive/Colab Notebooks/\")\n",
        "os.getcwd()"
      ],
      "execution_count": 0,
      "outputs": [
        {
          "output_type": "execute_result",
          "data": {
            "text/plain": [
              "'/content/gdrive/My Drive/Colab Notebooks'"
            ]
          },
          "metadata": {
            "tags": []
          },
          "execution_count": 2
        }
      ]
    },
    {
      "cell_type": "markdown",
      "metadata": {
        "id": "fWTEk6UAL0uL",
        "colab_type": "text"
      },
      "source": [
        "# Basics"
      ]
    },
    {
      "cell_type": "code",
      "metadata": {
        "id": "4yUBsVEQLYkt",
        "colab_type": "code",
        "outputId": "4023c438-b093-40b8-b614-ae9a6004f6b9",
        "colab": {
          "base_uri": "https://localhost:8080/",
          "height": 34
        }
      },
      "source": [
        "True + False"
      ],
      "execution_count": 0,
      "outputs": [
        {
          "output_type": "execute_result",
          "data": {
            "text/plain": [
              "1"
            ]
          },
          "metadata": {
            "tags": []
          },
          "execution_count": 3
        }
      ]
    },
    {
      "cell_type": "markdown",
      "metadata": {
        "id": "nTtWSqxAMqag",
        "colab_type": "text"
      },
      "source": [
        "# Lists"
      ]
    },
    {
      "cell_type": "code",
      "metadata": {
        "id": "W4xJT8RVLYoi",
        "colab_type": "code",
        "outputId": "453308b5-b45a-4365-d507-144ba67e2cf2",
        "colab": {
          "base_uri": "https://localhost:8080/",
          "height": 68
        }
      },
      "source": [
        "# area variables (in square meters)\n",
        "hall = 11.25\n",
        "kit = 18.0\n",
        "liv = 20.0\n",
        "bed = 10.75\n",
        "bath = 9.50\n",
        "\n",
        "# house information as list of lists\n",
        "house = [[\"hallway\", hall],[\"bedroom\", bed],[\"bathroom\", bath]]\n",
        "print(house)\n",
        "print(type(house))\n",
        "print(house[2])"
      ],
      "execution_count": 0,
      "outputs": [
        {
          "output_type": "stream",
          "text": [
            "[['hallway', 11.25], ['bedroom', 10.75], ['bathroom', 9.5]]\n",
            "<class 'list'>\n",
            "['bathroom', 9.5]\n"
          ],
          "name": "stdout"
        }
      ]
    },
    {
      "cell_type": "code",
      "metadata": {
        "id": "Xe-ycMQfMQUI",
        "colab_type": "code",
        "outputId": "d3929f98-fbce-4c39-d547-98ef62737548",
        "colab": {
          "base_uri": "https://localhost:8080/",
          "height": 119
        }
      },
      "source": [
        "# Create the areas list\n",
        "areas = [\"hallway\", 11.25, \"kitchen\", 18.0, \"living room\", 20.0, \"bedroom\", 10.75, \"bathroom\", 9.50]\n",
        "\n",
        "# Print out second element from areas\n",
        "print(areas[1])\n",
        "\n",
        "# Print out last element from areas\n",
        "print(areas[-1])\n",
        "print(areas[-5])\n",
        "\n",
        "eat_sleep_area = areas[3] + areas[7]\n",
        "print(eat_sleep_area)\n",
        "print()\n",
        "downstairs=areas[0:6]\n",
        "upstairs=areas[6:]\n",
        "upstairs2=areas[-4:]\n",
        "print(downstairs, upstairs, upstairs2)"
      ],
      "execution_count": 0,
      "outputs": [
        {
          "output_type": "stream",
          "text": [
            "11.25\n",
            "9.5\n",
            "20.0\n",
            "28.75\n",
            "\n",
            "['hallway', 11.25, 'kitchen', 18.0, 'living room', 20.0] ['bedroom', 10.75, 'bathroom', 9.5] ['bedroom', 10.75, 'bathroom', 9.5]\n"
          ],
          "name": "stdout"
        }
      ]
    },
    {
      "cell_type": "code",
      "metadata": {
        "id": "hUWsD8PbOttQ",
        "colab_type": "code",
        "outputId": "e421429b-39e0-4884-b059-fc7060411317",
        "colab": {
          "base_uri": "https://localhost:8080/",
          "height": 34
        }
      },
      "source": [
        "areas2 = [downstairs, upstairs]\n",
        "areas2[-1][2]"
      ],
      "execution_count": 0,
      "outputs": [
        {
          "output_type": "execute_result",
          "data": {
            "text/plain": [
              "'bathroom'"
            ]
          },
          "metadata": {
            "tags": []
          },
          "execution_count": 10
        }
      ]
    },
    {
      "cell_type": "code",
      "metadata": {
        "id": "bONoWQW0Qyyg",
        "colab_type": "code",
        "outputId": "3a15e324-0140-411a-8637-75d4564e2412",
        "colab": {
          "base_uri": "https://localhost:8080/",
          "height": 187
        }
      },
      "source": [
        "areas = [\"hallway\", 11.25, \"kitchen\", 18.0, \"living room\", 20.0, \"bedroom\", 10.75, \"bathroom\", 9.50]\n",
        "areas[4]=\"chill zone\"\n",
        "areas[-1]=10.5\n",
        "areas"
      ],
      "execution_count": 0,
      "outputs": [
        {
          "output_type": "execute_result",
          "data": {
            "text/plain": [
              "['hallway',\n",
              " 11.25,\n",
              " 'kitchen',\n",
              " 18.0,\n",
              " 'chill zone',\n",
              " 20.0,\n",
              " 'bedroom',\n",
              " 10.75,\n",
              " 'bathroom',\n",
              " 10.5]"
            ]
          },
          "metadata": {
            "tags": []
          },
          "execution_count": 11
        }
      ]
    },
    {
      "cell_type": "code",
      "metadata": {
        "id": "mMM1RWj3bDHK",
        "colab_type": "code",
        "outputId": "cad6c627-2561-4963-937a-dd4eb0a243f8",
        "colab": {
          "base_uri": "https://localhost:8080/",
          "height": 323
        }
      },
      "source": [
        "areas= areas + [\"poolhouse\", 24.5] + [\"garage\", 15.0]\n",
        "areas"
      ],
      "execution_count": 0,
      "outputs": [
        {
          "output_type": "execute_result",
          "data": {
            "text/plain": [
              "['hallway',\n",
              " 11.25,\n",
              " 'kitchen',\n",
              " 18.0,\n",
              " 'chill zone',\n",
              " 20.0,\n",
              " 'bedroom',\n",
              " 10.75,\n",
              " 'bathroom',\n",
              " 10.5,\n",
              " 'poolhouse',\n",
              " 24.5,\n",
              " 'garage',\n",
              " 15.0,\n",
              " 'poolhouse',\n",
              " 24.5,\n",
              " 'garage',\n",
              " 15.0]"
            ]
          },
          "metadata": {
            "tags": []
          },
          "execution_count": 15
        }
      ]
    },
    {
      "cell_type": "code",
      "metadata": {
        "id": "s0ATJZ1SbTjq",
        "colab_type": "code",
        "outputId": "52820b38-fb99-419e-9091-f84484cabdf4",
        "colab": {
          "base_uri": "https://localhost:8080/",
          "height": 221
        }
      },
      "source": [
        "#del(areas[-4:-2])\n",
        "areas"
      ],
      "execution_count": 0,
      "outputs": [
        {
          "output_type": "execute_result",
          "data": {
            "text/plain": [
              "['hallway',\n",
              " 'foo',\n",
              " 'kitchen',\n",
              " 18.0,\n",
              " 'chill zone',\n",
              " 20.0,\n",
              " 'bedroom',\n",
              " 10.75,\n",
              " 'bathroom',\n",
              " 10.5,\n",
              " 'garage',\n",
              " 15.0]"
            ]
          },
          "metadata": {
            "tags": []
          },
          "execution_count": 21
        }
      ]
    },
    {
      "cell_type": "code",
      "metadata": {
        "id": "Rs9VTPQ0cbKL",
        "colab_type": "code",
        "outputId": "83a28862-b9b2-42c7-b29c-ecfdc8dd3d6b",
        "colab": {
          "base_uri": "https://localhost:8080/",
          "height": 425
        }
      },
      "source": [
        "# To copy lists\n",
        "#not this:\n",
        "areas_copy = areas\n",
        "areas_copy[1]=\"foo\"\n",
        "areas, areas_copy"
      ],
      "execution_count": 0,
      "outputs": [
        {
          "output_type": "execute_result",
          "data": {
            "text/plain": [
              "(['hallway',\n",
              "  'foo',\n",
              "  'kitchen',\n",
              "  18.0,\n",
              "  'chill zone',\n",
              "  20.0,\n",
              "  'bedroom',\n",
              "  10.75,\n",
              "  'bathroom',\n",
              "  10.5,\n",
              "  'garage',\n",
              "  15.0],\n",
              " ['hallway',\n",
              "  'foo',\n",
              "  'kitchen',\n",
              "  18.0,\n",
              "  'chill zone',\n",
              "  20.0,\n",
              "  'bedroom',\n",
              "  10.75,\n",
              "  'bathroom',\n",
              "  10.5,\n",
              "  'garage',\n",
              "  15.0])"
            ]
          },
          "metadata": {
            "tags": []
          },
          "execution_count": 22
        }
      ]
    },
    {
      "cell_type": "code",
      "metadata": {
        "id": "5DfM3p4kc9v1",
        "colab_type": "code",
        "outputId": "42e61db5-ee4d-45b9-905f-affddcc50ea8",
        "colab": {
          "base_uri": "https://localhost:8080/",
          "height": 629
        }
      },
      "source": [
        "# do this\n",
        "areas_copy1 = areas[:]\n",
        "areas_copy2= list(areas)\n",
        "areas_copy1[3]=\"coin\"\n",
        "areas_copy2[4]=\"ocean\"\n",
        "areas, areas_copy1, areas_copy2"
      ],
      "execution_count": 0,
      "outputs": [
        {
          "output_type": "execute_result",
          "data": {
            "text/plain": [
              "(['hallway',\n",
              "  'foo',\n",
              "  'kitchen',\n",
              "  18.0,\n",
              "  'chill zone',\n",
              "  20.0,\n",
              "  'bedroom',\n",
              "  10.75,\n",
              "  'bathroom',\n",
              "  10.5,\n",
              "  'garage',\n",
              "  15.0],\n",
              " ['hallway',\n",
              "  'foo',\n",
              "  'kitchen',\n",
              "  'coin',\n",
              "  'chill zone',\n",
              "  20.0,\n",
              "  'bedroom',\n",
              "  10.75,\n",
              "  'bathroom',\n",
              "  10.5,\n",
              "  'garage',\n",
              "  15.0],\n",
              " ['hallway',\n",
              "  'foo',\n",
              "  'kitchen',\n",
              "  18.0,\n",
              "  'ocean',\n",
              "  20.0,\n",
              "  'bedroom',\n",
              "  10.75,\n",
              "  'bathroom',\n",
              "  10.5,\n",
              "  'garage',\n",
              "  15.0])"
            ]
          },
          "metadata": {
            "tags": []
          },
          "execution_count": 23
        }
      ]
    },
    {
      "cell_type": "markdown",
      "metadata": {
        "id": "Zep2Ez6VfVl-",
        "colab_type": "text"
      },
      "source": [
        "# Functions"
      ]
    },
    {
      "cell_type": "code",
      "metadata": {
        "id": "uf6lQQFmdphB",
        "colab_type": "code",
        "outputId": "db9f1f76-bf6e-44b0-d635-56b8be781517",
        "colab": {
          "base_uri": "https://localhost:8080/",
          "height": 34
        }
      },
      "source": [
        "# methods are functions associated with object types string methods, bool methods etc...\n",
        "words = [\"string\",'word','mot']\n",
        "mot = words[2]\n",
        "mots = mot.capitalize()\n",
        "mots # looks like you have to assign a new variable to get string methods to work"
      ],
      "execution_count": 0,
      "outputs": [
        {
          "output_type": "execute_result",
          "data": {
            "text/plain": [
              "'Mot'"
            ]
          },
          "metadata": {
            "tags": []
          },
          "execution_count": 32
        }
      ]
    },
    {
      "cell_type": "code",
      "metadata": {
        "id": "2onGiuiWf_t1",
        "colab_type": "code",
        "outputId": "51bae15c-9a19-4222-bcba-6147ee8dff1e",
        "colab": {
          "base_uri": "https://localhost:8080/",
          "height": 34
        }
      },
      "source": [
        "#string methodsnot working?\n",
        "Mot = mot.replace('m','n')\n",
        "Mot"
      ],
      "execution_count": 0,
      "outputs": [
        {
          "output_type": "execute_result",
          "data": {
            "text/plain": [
              "'not'"
            ]
          },
          "metadata": {
            "tags": []
          },
          "execution_count": 33
        }
      ]
    },
    {
      "cell_type": "code",
      "metadata": {
        "id": "o0sQz_Rdg7Zr",
        "colab_type": "code",
        "outputId": "40f0b0fe-07c4-4387-8691-ad73f23f03c4",
        "colab": {
          "base_uri": "https://localhost:8080/",
          "height": 34
        }
      },
      "source": [
        "words.append('verb')\n",
        "words"
      ],
      "execution_count": 0,
      "outputs": [
        {
          "output_type": "execute_result",
          "data": {
            "text/plain": [
              "['string', 'word', 'mot', 'verb']"
            ]
          },
          "metadata": {
            "tags": []
          },
          "execution_count": 31
        }
      ]
    },
    {
      "cell_type": "code",
      "metadata": {
        "id": "na28cV9EhPaR",
        "colab_type": "code",
        "outputId": "cc071b81-f44a-4417-fa17-ef1eb04995b6",
        "colab": {
          "base_uri": "https://localhost:8080/",
          "height": 34
        }
      },
      "source": [
        "print(Mot.count(\"n\"),mots.count(\"s\"))"
      ],
      "execution_count": 0,
      "outputs": [
        {
          "output_type": "stream",
          "text": [
            "1 0\n"
          ],
          "name": "stdout"
        }
      ]
    },
    {
      "cell_type": "code",
      "metadata": {
        "id": "A15NiQquiCn0",
        "colab_type": "code",
        "outputId": "51bd3dbb-0ff5-4df9-a735-e0a6e35a891b",
        "colab": {
          "base_uri": "https://localhost:8080/",
          "height": 34
        }
      },
      "source": [
        "words.index('mot')"
      ],
      "execution_count": 0,
      "outputs": [
        {
          "output_type": "execute_result",
          "data": {
            "text/plain": [
              "2"
            ]
          },
          "metadata": {
            "tags": []
          },
          "execution_count": 41
        }
      ]
    },
    {
      "cell_type": "code",
      "metadata": {
        "id": "sEmoskumijS3",
        "colab_type": "code",
        "outputId": "3dae7ae6-28f7-4c12-fbad-a34be5daf34f",
        "colab": {
          "base_uri": "https://localhost:8080/",
          "height": 34
        }
      },
      "source": [
        "words.count('word')"
      ],
      "execution_count": 0,
      "outputs": [
        {
          "output_type": "execute_result",
          "data": {
            "text/plain": [
              "1"
            ]
          },
          "metadata": {
            "tags": []
          },
          "execution_count": 43
        }
      ]
    },
    {
      "cell_type": "code",
      "metadata": {
        "id": "ZkpInMmVisBR",
        "colab_type": "code",
        "outputId": "9e562ae2-953d-4a0e-c105-3c8b993bf589",
        "colab": {
          "base_uri": "https://localhost:8080/",
          "height": 34
        }
      },
      "source": [
        "words.remove('string')\n",
        "words"
      ],
      "execution_count": 0,
      "outputs": [
        {
          "output_type": "execute_result",
          "data": {
            "text/plain": [
              "['word', 'mot']"
            ]
          },
          "metadata": {
            "tags": []
          },
          "execution_count": 44
        }
      ]
    },
    {
      "cell_type": "code",
      "metadata": {
        "id": "NB9Zs3folnQH",
        "colab_type": "code",
        "outputId": "8348f464-3ef6-4f21-9d24-b816e4a6481c",
        "colab": {
          "base_uri": "https://localhost:8080/",
          "height": 34
        }
      },
      "source": [
        "words.reverse()\n",
        "words"
      ],
      "execution_count": 0,
      "outputs": [
        {
          "output_type": "execute_result",
          "data": {
            "text/plain": [
              "['mot', 'word']"
            ]
          },
          "metadata": {
            "tags": []
          },
          "execution_count": 47
        }
      ]
    },
    {
      "cell_type": "code",
      "metadata": {
        "id": "jbj8jALzlpyP",
        "colab_type": "code",
        "outputId": "86abec96-29cf-4068-c551-0fd7d79bc058",
        "colab": {
          "base_uri": "https://localhost:8080/",
          "height": 34
        }
      },
      "source": [
        "words.append(\"obladi\")\n",
        "words"
      ],
      "execution_count": 0,
      "outputs": [
        {
          "output_type": "execute_result",
          "data": {
            "text/plain": [
              "['mot', 'word', 'obladi']"
            ]
          },
          "metadata": {
            "tags": []
          },
          "execution_count": 48
        }
      ]
    },
    {
      "cell_type": "code",
      "metadata": {
        "id": "eCSoELfUl1Za",
        "colab_type": "code",
        "outputId": "c1ad0696-09ef-4b90-c033-de2eac55fadb",
        "colab": {
          "base_uri": "https://localhost:8080/",
          "height": 34
        }
      },
      "source": [
        "pip install numpy"
      ],
      "execution_count": 0,
      "outputs": [
        {
          "output_type": "stream",
          "text": [
            "Requirement already satisfied: numpy in /usr/local/lib/python3.6/dist-packages (1.18.1)\n"
          ],
          "name": "stdout"
        }
      ]
    },
    {
      "cell_type": "code",
      "metadata": {
        "id": "lp6_FGhamT13",
        "colab_type": "code",
        "outputId": "de58d470-3885-4b40-8cfa-9b77a22c998f",
        "colab": {
          "base_uri": "https://localhost:8080/",
          "height": 34
        }
      },
      "source": [
        "import numpy as np\n",
        "array = np.array([1,2,3,4,5])\n",
        "array"
      ],
      "execution_count": 0,
      "outputs": [
        {
          "output_type": "execute_result",
          "data": {
            "text/plain": [
              "array([1, 2, 3, 4, 5])"
            ]
          },
          "metadata": {
            "tags": []
          },
          "execution_count": 51
        }
      ]
    },
    {
      "cell_type": "code",
      "metadata": {
        "id": "EF-Q3AaGmy1l",
        "colab_type": "code",
        "outputId": "e0af0ac7-93bb-4216-bc06-46117fd3a652",
        "colab": {
          "base_uri": "https://localhost:8080/",
          "height": 34
        }
      },
      "source": [
        "import math as m\n",
        "r=4\n",
        "area = m.pi * r**2\n",
        "area"
      ],
      "execution_count": 0,
      "outputs": [
        {
          "output_type": "execute_result",
          "data": {
            "text/plain": [
              "50.26548245743669"
            ]
          },
          "metadata": {
            "tags": []
          },
          "execution_count": 52
        }
      ]
    },
    {
      "cell_type": "code",
      "metadata": {
        "id": "8K7MsDpZnPh-",
        "colab_type": "code",
        "outputId": "7f6473c8-406f-42bb-95e3-d092aa21d867",
        "colab": {
          "base_uri": "https://localhost:8080/",
          "height": 34
        }
      },
      "source": [
        "from math import radians\n",
        "degrees = 12\n",
        "r = 192500\n",
        "distance = r * radians(degrees)\n",
        "distance"
      ],
      "execution_count": 0,
      "outputs": [
        {
          "output_type": "execute_result",
          "data": {
            "text/plain": [
              "40317.10572106901"
            ]
          },
          "metadata": {
            "tags": []
          },
          "execution_count": 53
        }
      ]
    },
    {
      "cell_type": "markdown",
      "metadata": {
        "id": "F59lIhj9oqIr",
        "colab_type": "text"
      },
      "source": [
        "# Numpy"
      ]
    },
    {
      "cell_type": "code",
      "metadata": {
        "id": "KgT4uOlNoJ6M",
        "colab_type": "code",
        "outputId": "4a34fcf7-ce35-468e-da5d-b2dde82f286b",
        "colab": {
          "base_uri": "https://localhost:8080/",
          "height": 34
        }
      },
      "source": [
        "baseball = [180, 215, 210, 210, 188, 176, 209, 200]\n",
        "np_baseball = np.array(baseball)\n",
        "np_baseball"
      ],
      "execution_count": 0,
      "outputs": [
        {
          "output_type": "execute_result",
          "data": {
            "text/plain": [
              "array([180, 215, 210, 210, 188, 176, 209, 200])"
            ]
          },
          "metadata": {
            "tags": []
          },
          "execution_count": 54
        }
      ]
    },
    {
      "cell_type": "code",
      "metadata": {
        "id": "x1DMC38Ps5p-",
        "colab_type": "code",
        "outputId": "9b12cda4-1552-4d7a-d1e5-f221c65176f7",
        "colab": {
          "base_uri": "https://localhost:8080/",
          "height": 51
        }
      },
      "source": [
        "height = [74,74,71,72,73,75,76,74,72,72,72,71,71,76,75,73,73,74,74,72,72]\n",
        "np_height = np.array(height)\n",
        "np_height"
      ],
      "execution_count": 0,
      "outputs": [
        {
          "output_type": "execute_result",
          "data": {
            "text/plain": [
              "array([74, 74, 71, 72, 73, 75, 76, 74, 72, 72, 72, 71, 71, 76, 75, 73, 73,\n",
              "       74, 74, 72, 72])"
            ]
          },
          "metadata": {
            "tags": []
          },
          "execution_count": 55
        }
      ]
    },
    {
      "cell_type": "code",
      "metadata": {
        "id": "7w7soTc0uibf",
        "colab_type": "code",
        "outputId": "69f523ea-a37e-4e7f-df5b-635ae6273ae4",
        "colab": {
          "base_uri": "https://localhost:8080/",
          "height": 68
        }
      },
      "source": [
        "np_height_meters = np_height*.0254\n",
        "np_height_meters"
      ],
      "execution_count": 0,
      "outputs": [
        {
          "output_type": "execute_result",
          "data": {
            "text/plain": [
              "array([1.8796, 1.8796, 1.8034, 1.8288, 1.8542, 1.905 , 1.9304, 1.8796,\n",
              "       1.8288, 1.8288, 1.8288, 1.8034, 1.8034, 1.9304, 1.905 , 1.8542,\n",
              "       1.8542, 1.8796, 1.8796, 1.8288, 1.8288])"
            ]
          },
          "metadata": {
            "tags": []
          },
          "execution_count": 57
        }
      ]
    },
    {
      "cell_type": "code",
      "metadata": {
        "id": "WyEEVetXutOU",
        "colab_type": "code",
        "outputId": "a22346af-569d-4f9e-ecb6-51fe50140b87",
        "colab": {
          "base_uri": "https://localhost:8080/",
          "height": 34
        }
      },
      "source": [
        "len(height)"
      ],
      "execution_count": 0,
      "outputs": [
        {
          "output_type": "execute_result",
          "data": {
            "text/plain": [
              "21"
            ]
          },
          "metadata": {
            "tags": []
          },
          "execution_count": 58
        }
      ]
    },
    {
      "cell_type": "code",
      "metadata": {
        "id": "jFvjfioGxHRH",
        "colab_type": "code",
        "colab": {}
      },
      "source": [
        "weight=[160,140,150,180,160,160,140,180,160,180,160,140,150,140,140,180,180,150,150,150,140]\n",
        "np_weight = np.array(weight)\n"
      ],
      "execution_count": 0,
      "outputs": []
    },
    {
      "cell_type": "code",
      "metadata": {
        "id": "MFlf0cPCxrJV",
        "colab_type": "code",
        "outputId": "2a393c09-fbbd-46a0-f77a-878ef7a95c2a",
        "colab": {
          "base_uri": "https://localhost:8080/",
          "height": 68
        }
      },
      "source": [
        "np_weight_kg=np_weight*.4536\n",
        "np_weight_kg"
      ],
      "execution_count": 0,
      "outputs": [
        {
          "output_type": "execute_result",
          "data": {
            "text/plain": [
              "array([72.576, 63.504, 68.04 , 81.648, 72.576, 72.576, 63.504, 81.648,\n",
              "       72.576, 81.648, 72.576, 63.504, 68.04 , 63.504, 63.504, 81.648,\n",
              "       81.648, 68.04 , 68.04 , 68.04 , 63.504])"
            ]
          },
          "metadata": {
            "tags": []
          },
          "execution_count": 62
        }
      ]
    },
    {
      "cell_type": "code",
      "metadata": {
        "id": "vzuCmV6vx0XM",
        "colab_type": "code",
        "outputId": "e344f222-fed5-4434-e9dc-c465c54c682f",
        "colab": {
          "base_uri": "https://localhost:8080/",
          "height": 102
        }
      },
      "source": [
        "bmi = np_weight_kg/np_height_meters**2\n",
        "bmi"
      ],
      "execution_count": 0,
      "outputs": [
        {
          "output_type": "execute_result",
          "data": {
            "text/plain": [
              "array([20.5429191 , 17.97505421, 20.92089088, 24.41254883, 21.10959373,\n",
              "       19.99876   , 17.04144683, 23.11078399, 21.7000434 , 24.41254883,\n",
              "       21.7000434 , 19.52616482, 20.92089088, 17.04144683, 17.498915  ,\n",
              "       23.74829295, 23.74829295, 19.25898666, 19.25898666, 20.34379069,\n",
              "       18.98753798])"
            ]
          },
          "metadata": {
            "tags": []
          },
          "execution_count": 66
        }
      ]
    },
    {
      "cell_type": "code",
      "metadata": {
        "id": "W2OUFNDVyRbJ",
        "colab_type": "code",
        "outputId": "cbe4018a-cbbf-4237-f4cf-d2fc6fb02e1d",
        "colab": {
          "base_uri": "https://localhost:8080/",
          "height": 34
        }
      },
      "source": [
        "x = [4 , 9 , 6, 3, 1]\n",
        "x[1]\n",
        "\n",
        "y = np.array(x)\n",
        "y"
      ],
      "execution_count": 0,
      "outputs": [
        {
          "output_type": "execute_result",
          "data": {
            "text/plain": [
              "array([4, 9, 6, 3, 1])"
            ]
          },
          "metadata": {
            "tags": []
          },
          "execution_count": 68
        }
      ]
    },
    {
      "cell_type": "code",
      "metadata": {
        "id": "6VKpr7dAH-0Y",
        "colab_type": "code",
        "outputId": "14cbe752-9384-458c-c8e8-270967d5825b",
        "colab": {
          "base_uri": "https://localhost:8080/",
          "height": 34
        }
      },
      "source": [
        "high = y > 4\n",
        "y[high]\n"
      ],
      "execution_count": 0,
      "outputs": [
        {
          "output_type": "execute_result",
          "data": {
            "text/plain": [
              "array([9, 6])"
            ]
          },
          "metadata": {
            "tags": []
          },
          "execution_count": 70
        }
      ]
    },
    {
      "cell_type": "code",
      "metadata": {
        "id": "eCdVG3QzIE4U",
        "colab_type": "code",
        "outputId": "76dd7876-dcb7-404f-9e57-dcd1e6ba3cf4",
        "colab": {
          "base_uri": "https://localhost:8080/",
          "height": 34
        }
      },
      "source": [
        "y[y>4]"
      ],
      "execution_count": 0,
      "outputs": [
        {
          "output_type": "execute_result",
          "data": {
            "text/plain": [
              "array([9, 6])"
            ]
          },
          "metadata": {
            "tags": []
          },
          "execution_count": 71
        }
      ]
    },
    {
      "cell_type": "code",
      "metadata": {
        "id": "G-5wEjcXIeaS",
        "colab_type": "code",
        "outputId": "96c79766-784a-48c3-e9f9-1d06a16eece3",
        "colab": {
          "base_uri": "https://localhost:8080/",
          "height": 34
        }
      },
      "source": [
        "y>4"
      ],
      "execution_count": 0,
      "outputs": [
        {
          "output_type": "execute_result",
          "data": {
            "text/plain": [
              "array([False,  True,  True, False, False])"
            ]
          },
          "metadata": {
            "tags": []
          },
          "execution_count": 72
        }
      ]
    },
    {
      "cell_type": "code",
      "metadata": {
        "id": "OKOLSmqoIsyK",
        "colab_type": "code",
        "outputId": "38e995a9-f4fc-4670-803c-9c38eaf81bdc",
        "colab": {
          "base_uri": "https://localhost:8080/",
          "height": 34
        }
      },
      "source": [
        "np.array([True, 1, 2]) + np.array([3, 4, False])"
      ],
      "execution_count": 0,
      "outputs": [
        {
          "output_type": "execute_result",
          "data": {
            "text/plain": [
              "array([4, 5, 2])"
            ]
          },
          "metadata": {
            "tags": []
          },
          "execution_count": 73
        }
      ]
    },
    {
      "cell_type": "code",
      "metadata": {
        "id": "lp7kuD9fJX9V",
        "colab_type": "code",
        "outputId": "2b343b79-6b69-454c-feb9-69a77700eeb5",
        "colab": {
          "base_uri": "https://localhost:8080/",
          "height": 34
        }
      },
      "source": [
        "y[-3:]"
      ],
      "execution_count": 0,
      "outputs": [
        {
          "output_type": "execute_result",
          "data": {
            "text/plain": [
              "array([6, 3, 1])"
            ]
          },
          "metadata": {
            "tags": []
          },
          "execution_count": 74
        }
      ]
    },
    {
      "cell_type": "code",
      "metadata": {
        "id": "dkMyTLWoUwxt",
        "colab_type": "code",
        "outputId": "80ecf2ee-5042-4511-ab7f-32bb9d032ccb",
        "colab": {
          "base_uri": "https://localhost:8080/",
          "height": 306
        }
      },
      "source": [
        "mdarray = np.zeros((3,5,2))\n",
        "mdarray"
      ],
      "execution_count": 0,
      "outputs": [
        {
          "output_type": "execute_result",
          "data": {
            "text/plain": [
              "array([[[0., 0.],\n",
              "        [0., 0.],\n",
              "        [0., 0.],\n",
              "        [0., 0.],\n",
              "        [0., 0.]],\n",
              "\n",
              "       [[0., 0.],\n",
              "        [0., 0.],\n",
              "        [0., 0.],\n",
              "        [0., 0.],\n",
              "        [0., 0.]],\n",
              "\n",
              "       [[0., 0.],\n",
              "        [0., 0.],\n",
              "        [0., 0.],\n",
              "        [0., 0.],\n",
              "        [0., 0.]]])"
            ]
          },
          "metadata": {
            "tags": []
          },
          "execution_count": 89
        }
      ]
    },
    {
      "cell_type": "code",
      "metadata": {
        "id": "E-OROn76WD1p",
        "colab_type": "code",
        "outputId": "15bde8dc-bba8-4aa6-b4c1-b8a9fbf4640a",
        "colab": {
          "base_uri": "https://localhost:8080/",
          "height": 85
        }
      },
      "source": [
        "# 2d array\n",
        "baseball = [[180, 78.4],\n",
        "            [215, 102.7],\n",
        "            [210, 98.5],\n",
        "            [188, 75.2]]\n",
        "\n",
        "np_baseball = np.array(baseball)\n",
        "np_baseball           "
      ],
      "execution_count": 0,
      "outputs": [
        {
          "output_type": "execute_result",
          "data": {
            "text/plain": [
              "array([[180. ,  78.4],\n",
              "       [215. , 102.7],\n",
              "       [210. ,  98.5],\n",
              "       [188. ,  75.2]])"
            ]
          },
          "metadata": {
            "tags": []
          },
          "execution_count": 90
        }
      ]
    },
    {
      "cell_type": "code",
      "metadata": {
        "id": "PXWzgzF4sze7",
        "colab_type": "code",
        "outputId": "44990338-d55e-4c21-8b11-f3180251b3ca",
        "colab": {
          "base_uri": "https://localhost:8080/",
          "height": 34
        }
      },
      "source": [
        "type(np_baseball)"
      ],
      "execution_count": 0,
      "outputs": [
        {
          "output_type": "execute_result",
          "data": {
            "text/plain": [
              "numpy.ndarray"
            ]
          },
          "metadata": {
            "tags": []
          },
          "execution_count": 91
        }
      ]
    },
    {
      "cell_type": "code",
      "metadata": {
        "id": "NrlXRIMWs_P2",
        "colab_type": "code",
        "outputId": "923282cd-09c3-430d-bf2f-699c061673d8",
        "colab": {
          "base_uri": "https://localhost:8080/",
          "height": 34
        }
      },
      "source": [
        "np_baseball.shape"
      ],
      "execution_count": 0,
      "outputs": [
        {
          "output_type": "execute_result",
          "data": {
            "text/plain": [
              "(4, 2)"
            ]
          },
          "metadata": {
            "tags": []
          },
          "execution_count": 92
        }
      ]
    },
    {
      "cell_type": "code",
      "metadata": {
        "id": "Jc_UgyuitFhk",
        "colab_type": "code",
        "outputId": "cd4d75af-c667-472c-aec3-7191c1f0f67b",
        "colab": {
          "base_uri": "https://localhost:8080/",
          "height": 34
        }
      },
      "source": [
        "# regular list of lists\n",
        "x = [[\"a\",\"b\"], [\"c\",\"d\"],[\"e\",\"f\"],[\"g\",\"h\"],[\"i\",\"j\"]]\n",
        "x[0][1], x[1][1],x[2][1],x[3][1], x[4][1]\n",
        "\n"
      ],
      "execution_count": 0,
      "outputs": [
        {
          "output_type": "execute_result",
          "data": {
            "text/plain": [
              "('b', 'd', 'f', 'h', 'j')"
            ]
          },
          "metadata": {
            "tags": []
          },
          "execution_count": 102
        }
      ]
    },
    {
      "cell_type": "code",
      "metadata": {
        "id": "I-cPX2Vzt3ff",
        "colab_type": "code",
        "outputId": "28d9ffb6-6d8d-4ae9-faeb-c0345171230d",
        "colab": {
          "base_uri": "https://localhost:8080/",
          "height": 34
        }
      },
      "source": [
        "np_x = np.array(x)\n",
        "np_x[:,1]"
      ],
      "execution_count": 0,
      "outputs": [
        {
          "output_type": "execute_result",
          "data": {
            "text/plain": [
              "array(['b', 'd', 'f', 'h', 'j'], dtype='<U1')"
            ]
          },
          "metadata": {
            "tags": []
          },
          "execution_count": 101
        }
      ]
    },
    {
      "cell_type": "code",
      "metadata": {
        "id": "3mVlrvBzvae6",
        "colab_type": "code",
        "outputId": "7b0a2556-d5c2-4ff3-e301-160163e9f1b3",
        "colab": {
          "base_uri": "https://localhost:8080/",
          "height": 34
        }
      },
      "source": [
        "#Basic statistics\n",
        "x = [1, 4, 8, 10, 12]\n",
        "np.mean(x), np.median(x)"
      ],
      "execution_count": 0,
      "outputs": [
        {
          "output_type": "execute_result",
          "data": {
            "text/plain": [
              "(7.0, 8.0)"
            ]
          },
          "metadata": {
            "tags": []
          },
          "execution_count": 105
        }
      ]
    },
    {
      "cell_type": "code",
      "metadata": {
        "id": "iSuffucow_HO",
        "colab_type": "code",
        "outputId": "092aec82-8369-47ba-f6a3-1e29bdd7cc4f",
        "colab": {
          "base_uri": "https://localhost:8080/",
          "height": 34
        }
      },
      "source": [
        "import random\n",
        "from random import randint\n",
        "u = list([randint(0,50) for x in range(7)])\n",
        "u\n"
      ],
      "execution_count": 0,
      "outputs": [
        {
          "output_type": "execute_result",
          "data": {
            "text/plain": [
              "[27, 2, 32, 46, 29, 20, 3]"
            ]
          },
          "metadata": {
            "tags": []
          },
          "execution_count": 116
        }
      ]
    },
    {
      "cell_type": "code",
      "metadata": {
        "id": "15kzXkapyFFn",
        "colab_type": "code",
        "outputId": "6d890266-4f1f-4c23-d877-80a7de9601b4",
        "colab": {
          "base_uri": "https://localhost:8080/",
          "height": 34
        }
      },
      "source": [
        "v =[randint(0,50) for y in range(7)]\n",
        "v"
      ],
      "execution_count": 0,
      "outputs": [
        {
          "output_type": "execute_result",
          "data": {
            "text/plain": [
              "[27, 4, 32, 44, 32, 2, 35]"
            ]
          },
          "metadata": {
            "tags": []
          },
          "execution_count": 122
        }
      ]
    },
    {
      "cell_type": "code",
      "metadata": {
        "id": "u2jdtVdxziEQ",
        "colab_type": "code",
        "outputId": "4e82805c-8b14-40ad-f253-b546f8b4d1f0",
        "colab": {
          "base_uri": "https://localhost:8080/",
          "height": 34
        }
      },
      "source": [
        "vmedian = np.median(v)\n",
        "vmean= np.mean(v)\n",
        "vstd = np.std(v)\n",
        "vmedian, vmean, vstd"
      ],
      "execution_count": 0,
      "outputs": [
        {
          "output_type": "execute_result",
          "data": {
            "text/plain": [
              "(32.0, 25.142857142857142, 14.797959042946925)"
            ]
          },
          "metadata": {
            "tags": []
          },
          "execution_count": 123
        }
      ]
    },
    {
      "cell_type": "code",
      "metadata": {
        "id": "jXqwIIagziJJ",
        "colab_type": "code",
        "outputId": "45b2cdc8-ecff-4c80-d253-823fbbab5103",
        "colab": {
          "base_uri": "https://localhost:8080/",
          "height": 34
        }
      },
      "source": [
        "rand = [u,v]\n",
        "rand"
      ],
      "execution_count": 0,
      "outputs": [
        {
          "output_type": "execute_result",
          "data": {
            "text/plain": [
              "[[27, 2, 32, 46, 29, 20, 3], [27, 4, 32, 44, 32, 2, 35]]"
            ]
          },
          "metadata": {
            "tags": []
          },
          "execution_count": 124
        }
      ]
    },
    {
      "cell_type": "code",
      "metadata": {
        "id": "HNzSUkAlycvn",
        "colab_type": "code",
        "outputId": "5c53ce59-a658-40e8-b4e9-92216e705660",
        "colab": {
          "base_uri": "https://localhost:8080/",
          "height": 51
        }
      },
      "source": [
        "\n",
        "nprand = np.array(rand)\n",
        "nprand"
      ],
      "execution_count": 0,
      "outputs": [
        {
          "output_type": "execute_result",
          "data": {
            "text/plain": [
              "array([[27,  2, 32, 46, 29, 20,  3],\n",
              "       [27,  4, 32, 44, 32,  2, 35]])"
            ]
          },
          "metadata": {
            "tags": []
          },
          "execution_count": 126
        }
      ]
    },
    {
      "cell_type": "code",
      "metadata": {
        "id": "P8LZytpiym0H",
        "colab_type": "code",
        "outputId": "05bb6163-ef52-4b92-b053-81b575105d48",
        "colab": {
          "base_uri": "https://localhost:8080/",
          "height": 119
        }
      },
      "source": [
        "corr = np.corrcoef(nprand[:,0], nprand[:,1])\n",
        "corr"
      ],
      "execution_count": 0,
      "outputs": [
        {
          "output_type": "stream",
          "text": [
            "/usr/local/lib/python3.6/dist-packages/numpy/lib/function_base.py:2534: RuntimeWarning: invalid value encountered in true_divide\n",
            "  c /= stddev[:, None]\n",
            "/usr/local/lib/python3.6/dist-packages/numpy/lib/function_base.py:2535: RuntimeWarning: invalid value encountered in true_divide\n",
            "  c /= stddev[None, :]\n"
          ],
          "name": "stderr"
        },
        {
          "output_type": "execute_result",
          "data": {
            "text/plain": [
              "array([[nan, nan],\n",
              "       [nan,  1.]])"
            ]
          },
          "metadata": {
            "tags": []
          },
          "execution_count": 128
        }
      ]
    },
    {
      "cell_type": "code",
      "metadata": {
        "id": "iHERka8E1aVm",
        "colab_type": "code",
        "colab": {}
      },
      "source": [
        "height = np.round(np.random.normal(1.75,.3,5000),2)\n",
        "weight = np.round(np.random.normal(60.32,15,5000),2)\n",
        "np_city = np.column_stack((height,weight))\n"
      ],
      "execution_count": 0,
      "outputs": []
    },
    {
      "cell_type": "code",
      "metadata": {
        "id": "1vfaY7-H2o3a",
        "colab_type": "code",
        "outputId": "6bc6f9f7-5fbe-4cd0-898c-0c90495355b8",
        "colab": {
          "base_uri": "https://localhost:8080/",
          "height": 136
        }
      },
      "source": [
        "np_city"
      ],
      "execution_count": 0,
      "outputs": [
        {
          "output_type": "execute_result",
          "data": {
            "text/plain": [
              "array([[  1.73,  43.58],\n",
              "       [  2.05,  54.35],\n",
              "       [  2.15,  47.55],\n",
              "       ...,\n",
              "       [  1.46, 101.01],\n",
              "       [  2.88,  77.84],\n",
              "       [  2.01,  58.82]])"
            ]
          },
          "metadata": {
            "tags": []
          },
          "execution_count": 134
        }
      ]
    },
    {
      "cell_type": "code",
      "metadata": {
        "id": "8j8Ic2YP2wtd",
        "colab_type": "code",
        "outputId": "5085da3b-1efe-4905-afbe-e85003e7d10e",
        "colab": {
          "base_uri": "https://localhost:8080/",
          "height": 34
        }
      },
      "source": [
        "np.median(np_city[:,0]), np.median(np_city[:,1])"
      ],
      "execution_count": 0,
      "outputs": [
        {
          "output_type": "execute_result",
          "data": {
            "text/plain": [
              "(1.75, 60.57)"
            ]
          },
          "metadata": {
            "tags": []
          },
          "execution_count": 139
        }
      ]
    },
    {
      "cell_type": "code",
      "metadata": {
        "id": "e_bBT6PW3dSi",
        "colab_type": "code",
        "outputId": "ea469f10-d40e-4ef3-e575-83258ae2b8db",
        "colab": {
          "base_uri": "https://localhost:8080/",
          "height": 34
        }
      },
      "source": [
        "np.mean(np_city[:,0]), np.mean(np_city[:,1])"
      ],
      "execution_count": 0,
      "outputs": [
        {
          "output_type": "execute_result",
          "data": {
            "text/plain": [
              "(1.7546739999999998, 60.2532)"
            ]
          },
          "metadata": {
            "tags": []
          },
          "execution_count": 140
        }
      ]
    },
    {
      "cell_type": "code",
      "metadata": {
        "id": "WLFAHwmz30N2",
        "colab_type": "code",
        "outputId": "9a833a08-d179-4e7d-9217-532d21e107c5",
        "colab": {
          "base_uri": "https://localhost:8080/",
          "height": 51
        }
      },
      "source": [
        "np.corrcoef(np_city[:,0], np_city[:,1])"
      ],
      "execution_count": 0,
      "outputs": [
        {
          "output_type": "execute_result",
          "data": {
            "text/plain": [
              "array([[ 1.        , -0.01325805],\n",
              "       [-0.01325805,  1.        ]])"
            ]
          },
          "metadata": {
            "tags": []
          },
          "execution_count": 143
        }
      ]
    },
    {
      "cell_type": "code",
      "metadata": {
        "id": "CoUzA-783_T5",
        "colab_type": "code",
        "colab": {}
      },
      "source": [
        "positions = ['GK', 'M', 'A', 'D','M','M','M','D','D','D', 'A']\n",
        "heights = [191, 184, 185, 180, 191, 184, 185, 180, 168, 190, 187]"
      ],
      "execution_count": 0,
      "outputs": []
    },
    {
      "cell_type": "code",
      "metadata": {
        "id": "gLdQYxlM6idM",
        "colab_type": "code",
        "colab": {}
      },
      "source": [
        "np_heights = np.array(heights)\n",
        "np_positions = np.array(positions)"
      ],
      "execution_count": 0,
      "outputs": []
    },
    {
      "cell_type": "code",
      "metadata": {
        "id": "Slp83SEb6o4m",
        "colab_type": "code",
        "outputId": "9fd8f346-a831-47c9-d18d-2439860e5847",
        "colab": {
          "base_uri": "https://localhost:8080/",
          "height": 34
        }
      },
      "source": [
        "np_heights[np_positions=='GK']"
      ],
      "execution_count": 0,
      "outputs": [
        {
          "output_type": "execute_result",
          "data": {
            "text/plain": [
              "array([191])"
            ]
          },
          "metadata": {
            "tags": []
          },
          "execution_count": 146
        }
      ]
    },
    {
      "cell_type": "code",
      "metadata": {
        "id": "mBMwuI9X7S0G",
        "colab_type": "code",
        "outputId": "997b0149-2ea0-47d0-8c2f-cfda04763cda",
        "colab": {
          "base_uri": "https://localhost:8080/",
          "height": 34
        }
      },
      "source": [
        "np_heights[np_positions=='A'],np_heights[np_positions=='M'],np_heights[np_positions=='D']"
      ],
      "execution_count": 0,
      "outputs": [
        {
          "output_type": "execute_result",
          "data": {
            "text/plain": [
              "(array([185, 187]), array([184, 191, 184, 185]), array([180, 180, 168, 190]))"
            ]
          },
          "metadata": {
            "tags": []
          },
          "execution_count": 147
        }
      ]
    },
    {
      "cell_type": "code",
      "metadata": {
        "id": "9OpFWQwL7fTA",
        "colab_type": "code",
        "outputId": "9ef2469b-6808-4223-f6cd-e2a304aa319b",
        "colab": {
          "base_uri": "https://localhost:8080/",
          "height": 34
        }
      },
      "source": [
        "np.median(np_heights[np_positions=='A']),np.median(np_heights[np_positions=='M']),np.median(np_heights[np_positions=='D'])"
      ],
      "execution_count": 0,
      "outputs": [
        {
          "output_type": "execute_result",
          "data": {
            "text/plain": [
              "(186.0, 184.5, 180.0)"
            ]
          },
          "metadata": {
            "tags": []
          },
          "execution_count": 148
        }
      ]
    },
    {
      "cell_type": "code",
      "metadata": {
        "id": "W89GnSok7xou",
        "colab_type": "code",
        "colab": {}
      },
      "source": [
        ""
      ],
      "execution_count": 0,
      "outputs": []
    }
  ]
}