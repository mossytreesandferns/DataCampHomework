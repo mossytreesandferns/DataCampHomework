{
  "nbformat": 4,
  "nbformat_minor": 0,
  "metadata": {
    "colab": {
      "name": "DCStatisticalThinking2.ipynb",
      "provenance": [],
      "collapsed_sections": [],
      "authorship_tag": "ABX9TyNEe164aw2j2l+wkG+ffkfV",
      "include_colab_link": true
    },
    "kernelspec": {
      "name": "python3",
      "display_name": "Python 3"
    }
  },
  "cells": [
    {
      "cell_type": "markdown",
      "metadata": {
        "id": "view-in-github",
        "colab_type": "text"
      },
      "source": [
        "<a href=\"https://colab.research.google.com/github/mossytreesandferns/DataCampHomework/blob/master/DCStatisticalThinking2.ipynb\" target=\"_parent\"><img src=\"https://colab.research.google.com/assets/colab-badge.svg\" alt=\"Open In Colab\"/></a>"
      ]
    },
    {
      "cell_type": "code",
      "metadata": {
        "id": "EE65Hnv0WLlP",
        "colab_type": "code",
        "colab": {
          "base_uri": "https://localhost:8080/",
          "height": 122
        },
        "outputId": "a3535d29-7aab-46df-b60c-4414ddfd6508"
      },
      "source": [
        "#Mount my drive- run the code, go to the link, accept.\n",
        "from google.colab import drive\n",
        "drive.mount('/content/gdrive')"
      ],
      "execution_count": null,
      "outputs": [
        {
          "output_type": "stream",
          "text": [
            "Go to this URL in a browser: https://accounts.google.com/o/oauth2/auth?client_id=947318989803-6bn6qk8qdgf4n4g3pfee6491hc0brc4i.apps.googleusercontent.com&redirect_uri=urn%3aietf%3awg%3aoauth%3a2.0%3aoob&response_type=code&scope=email%20https%3a%2f%2fwww.googleapis.com%2fauth%2fdocs.test%20https%3a%2f%2fwww.googleapis.com%2fauth%2fdrive%20https%3a%2f%2fwww.googleapis.com%2fauth%2fdrive.photos.readonly%20https%3a%2f%2fwww.googleapis.com%2fauth%2fpeopleapi.readonly\n",
            "\n",
            "Enter your authorization code:\n",
            "··········\n",
            "Mounted at /content/gdrive\n"
          ],
          "name": "stdout"
        }
      ]
    },
    {
      "cell_type": "code",
      "metadata": {
        "id": "qYpMYmM6WRPB",
        "colab_type": "code",
        "colab": {
          "base_uri": "https://localhost:8080/",
          "height": 34
        },
        "outputId": "868a7b8d-b54a-4d2a-9177-3e6bce31e72a"
      },
      "source": [
        "#Change working directory to make it easier to access the files\n",
        "import os\n",
        "os.chdir(\"/content/gdrive/My Drive/DCStatisticalThinking1and2/\")\n",
        "os.getcwd()"
      ],
      "execution_count": null,
      "outputs": [
        {
          "output_type": "execute_result",
          "data": {
            "text/plain": [
              "'/content/gdrive/My Drive/DCStatisticalThinking1and2'"
            ]
          },
          "metadata": {
            "tags": []
          },
          "execution_count": 2
        }
      ]
    },
    {
      "cell_type": "markdown",
      "metadata": {
        "id": "XkTakhF1WRZ6",
        "colab_type": "text"
      },
      "source": [
        "# Parameter estimation by optimization\n",
        "### Optimal parameters\n",
        "The values that cause the model to be in closest agreement with the data are the mean and the standard deviation that are computed from the data: optimal parameters.  Won't work if model is wrong."
      ]
    },
    {
      "cell_type": "code",
      "metadata": {
        "id": "PJuTvsLlWRjM",
        "colab_type": "code",
        "colab": {
          "base_uri": "https://localhost:8080/",
          "height": 221
        },
        "outputId": "c29a69eb-167e-4f1a-b1e0-265fa02bbe3d"
      },
      "source": [
        "import pandas as pd\n",
        "import numpy as np\n",
        "import matplotlib.pyplot as plt\n",
        "\n",
        "no_hitters = pd.read_csv('mlb_nohitters.csv')\n",
        "no_hitters.head(), no_hitters.tail()"
      ],
      "execution_count": null,
      "outputs": [
        {
          "output_type": "execute_result",
          "data": {
            "text/plain": [
              "(       date  game_number winning_team losing_team winning_pitcher\n",
              " 0  18760715          140          NaN         NaN             NaN\n",
              " 1  18800612         1035          NaN         NaN             NaN\n",
              " 2  18800617         1046          NaN         NaN             NaN\n",
              " 3  18800819         1177          NaN         NaN             NaN\n",
              " 4  18800820         1179          NaN         NaN             NaN,\n",
              "          date  game_number winning_team losing_team  winning_pitcher\n",
              " 289  20150725       210250          PHI         CHN      Cole Hamels\n",
              " 290  20150812       210490          SEA         BAL  Hisashi Iwakuma\n",
              " 291  20150821       210610          HOU         LAN    Michael Fiers\n",
              " 292  20150830       210740          CHN         LAN     Jake Arrieta\n",
              " 293  20151003       211208          WAS         NYN     Max Scherzer)"
            ]
          },
          "metadata": {
            "tags": []
          },
          "execution_count": 3
        }
      ]
    },
    {
      "cell_type": "code",
      "metadata": {
        "id": "y4SwB9Xcb8p0",
        "colab_type": "code",
        "colab": {
          "base_uri": "https://localhost:8080/",
          "height": 119
        },
        "outputId": "b346a3c4-5ce1-4353-bf32-d671f7483725"
      },
      "source": [
        "no_hitters.isnull().sum()"
      ],
      "execution_count": null,
      "outputs": [
        {
          "output_type": "execute_result",
          "data": {
            "text/plain": [
              "date                0\n",
              "game_number         0\n",
              "winning_team       66\n",
              "losing_team        66\n",
              "winning_pitcher    66\n",
              "dtype: int64"
            ]
          },
          "metadata": {
            "tags": []
          },
          "execution_count": 4
        }
      ]
    },
    {
      "cell_type": "code",
      "metadata": {
        "id": "f0Tr8LFIcIs-",
        "colab_type": "code",
        "colab": {
          "base_uri": "https://localhost:8080/",
          "height": 34
        },
        "outputId": "a4596ba6-97ff-48a6-a1dc-7cfe1b6c1d41"
      },
      "source": [
        "no_hitters.shape"
      ],
      "execution_count": null,
      "outputs": [
        {
          "output_type": "execute_result",
          "data": {
            "text/plain": [
              "(294, 5)"
            ]
          },
          "metadata": {
            "tags": []
          },
          "execution_count": 5
        }
      ]
    },
    {
      "cell_type": "code",
      "metadata": {
        "id": "zQ91cN-CcUxI",
        "colab_type": "code",
        "colab": {}
      },
      "source": [
        "#no_hitters.losing_team.value_counts()#"
      ],
      "execution_count": null,
      "outputs": []
    },
    {
      "cell_type": "code",
      "metadata": {
        "id": "BGKVLlCvcdz_",
        "colab_type": "code",
        "colab": {
          "base_uri": "https://localhost:8080/",
          "height": 34
        },
        "outputId": "ec73abe2-56ab-4b56-de6b-cd8cd00ab9d4"
      },
      "source": [
        "len(no_hitters.game_number)"
      ],
      "execution_count": null,
      "outputs": [
        {
          "output_type": "execute_result",
          "data": {
            "text/plain": [
              "294"
            ]
          },
          "metadata": {
            "tags": []
          },
          "execution_count": 7
        }
      ]
    },
    {
      "cell_type": "code",
      "metadata": {
        "id": "kQXUwvN9fbuf",
        "colab_type": "code",
        "colab": {}
      },
      "source": [
        "nohitter_times = []\n",
        "for i in range(1,len(no_hitters.game_number)):\n",
        "  nohitter_times.append(no_hitters.game_number[i] - no_hitters.game_number[i-1] -1)\n",
        "#games_betw  "
      ],
      "execution_count": null,
      "outputs": []
    },
    {
      "cell_type": "code",
      "metadata": {
        "id": "e0A42osugdrv",
        "colab_type": "code",
        "colab": {}
      },
      "source": [
        "nohitter_times = np.array(nohitter_times)"
      ],
      "execution_count": null,
      "outputs": []
    },
    {
      "cell_type": "code",
      "metadata": {
        "id": "fk9M0K2UguRX",
        "colab_type": "code",
        "colab": {
          "base_uri": "https://localhost:8080/",
          "height": 279
        },
        "outputId": "29e2efb6-a683-4a5a-9f55-79366bef6261"
      },
      "source": [
        "# Seed random number generator\n",
        "np.random.seed(42)\n",
        "\n",
        "# Compute mean no-hitter time: tau\n",
        "tau = np.mean(nohitter_times)\n",
        "\n",
        "# Draw out of an exponential distribution with parameter tau: inter_nohitter_time\n",
        "inter_nohitter_time = np.random.exponential(tau, 100000)\n",
        "\n",
        "# Plot the PDF and label axes\n",
        "_ = plt.hist(inter_nohitter_time,\n",
        "             bins=50, density=True, histtype='step')\n",
        "_ = plt.xlabel('Games between no-hitters')\n",
        "_ = plt.ylabel('PDF')\n",
        "\n",
        "# Show the plot\n",
        "plt.show()"
      ],
      "execution_count": null,
      "outputs": [
        {
          "output_type": "display_data",
          "data": {
            "image/png": "[encoded data removed]",
            "text/plain": [
              "<Figure size 432x288 with 1 Axes>"
            ]
          },
          "metadata": {
            "tags": [],
            "needs_background": "light"
          }
        }
      ]
    },
    {
      "cell_type": "code",
      "metadata": {
        "id": "xq3EXlsjjgEd",
        "colab_type": "code",
        "colab": {}
      },
      "source": [
        "# Remember ecdf()\n",
        "def ecdf(data):\n",
        "    \"\"\"Compute ECDF for a one-dimensional array of measurements.\"\"\"\n",
        "    # Number of data points: n\n",
        "    n = len(data)\n",
        "\n",
        "    # x-data for the ECDF: x\n",
        "    x = np.sort(data)\n",
        "\n",
        "    # y-data for the ECDF: y\n",
        "    y = np.arange(1, n+1) / n\n",
        "\n",
        "    return x, y"
      ],
      "execution_count": null,
      "outputs": []
    },
    {
      "cell_type": "code",
      "metadata": {
        "id": "E9RftuXrkPud",
        "colab_type": "code",
        "colab": {
          "base_uri": "https://localhost:8080/",
          "height": 279
        },
        "outputId": "1f31de50-8dd4-4f98-f262-40d790bb467c"
      },
      "source": [
        "\n",
        "# Create an ECDF from real data: x, y\n",
        "x, y = ecdf(nohitter_times)\n",
        "\n",
        "# Create a CDF from theoretical samples: x_theor, y_theor\n",
        "x_theor, y_theor = ecdf(inter_nohitter_time)\n",
        "\n",
        "# Overlay the plots\n",
        "plt.plot(x_theor, y_theor)\n",
        "plt.plot(x, y, marker='.', linestyle='none')\n",
        "\n",
        "# Margins and axis labels\n",
        "plt.margins(0.02)\n",
        "plt.xlabel('Games between no-hitters')\n",
        "plt.ylabel('CDF')\n",
        "\n",
        "# Show the plot\n",
        "plt.show()"
      ],
      "execution_count": null,
      "outputs": [
        {
          "output_type": "display_data",
          "data": {
            "image/png": "[encoded data removed]",
            "text/plain": [
              "<Figure size 432x288 with 1 Axes>"
            ]
          },
          "metadata": {
            "tags": [],
            "needs_background": "light"
          }
        }
      ]
    },
    {
      "cell_type": "markdown",
      "metadata": {
        "id": "lEkESjnelgCx",
        "colab_type": "text"
      },
      "source": [
        "Data fits model very well."
      ]
    },
    {
      "cell_type": "code",
      "metadata": {
        "id": "E22C7KUnleaz",
        "colab_type": "code",
        "colab": {
          "base_uri": "https://localhost:8080/",
          "height": 279
        },
        "outputId": "744fea05-10ab-4caa-e8e5-e02f6e1cde4c"
      },
      "source": [
        "# Plotting half and double the mean\n",
        "# Plot the theoretical CDFs\n",
        "plt.plot(x_theor, y_theor)\n",
        "plt.plot(x, y, marker='.', linestyle='none')\n",
        "plt.margins(0.02)\n",
        "plt.xlabel('Games between no-hitters')\n",
        "plt.ylabel('CDF')\n",
        "\n",
        "# Take samples with half tau: samples_half\n",
        "samples_half = np.random.exponential(tau/2,10000)\n",
        "\n",
        "# Take samples with double tau: samples_double\n",
        "samples_double = np.random.exponential(tau*2,10000)\n",
        "\n",
        "# Generate CDFs from these samples\n",
        "x_half, y_half = ecdf(samples_half)\n",
        "x_double, y_double = ecdf(samples_double)\n",
        "\n",
        "# Plot these CDFs as lines\n",
        "_ = plt.plot(x_half, y_half)\n",
        "_ = plt.plot(x_double, y_double)\n",
        "\n",
        "# Show the plot\n",
        "plt.show()"
      ],
      "execution_count": null,
      "outputs": [
        {
          "output_type": "display_data",
          "data": {
            "image/png": "[encoded data removed]",
            "text/plain": [
              "<Figure size 432x288 with 1 Axes>"
            ]
          },
          "metadata": {
            "tags": [],
            "needs_background": "light"
          }
        }
      ]
    },
    {
      "cell_type": "markdown",
      "metadata": {
        "id": "_OwZ1QNCmrEI",
        "colab_type": "text"
      },
      "source": [
        "### Linear regression by least squares\n",
        "Parameters-slope and intercept. Best fitting line minimizes the the sum of the squares of the residuals. <br>\n",
        "np.polyfit() (x, y, degree of polynomial to fit)<br>\n",
        "slope, intercept = np.polyfit(parameters)-function returns slope and intercept parameters<br>\n"
      ]
    },
    {
      "cell_type": "code",
      "metadata": {
        "id": "PwzYDY1TmiQF",
        "colab_type": "code",
        "colab": {
          "base_uri": "https://localhost:8080/",
          "height": 142
        },
        "outputId": "3f92ebd6-2a0f-4adc-8b25-1a637d22f77c"
      },
      "source": [
        "df = pd.read_csv('female_literacy_fertility.csv')\n",
        "df.head(3)"
      ],
      "execution_count": null,
      "outputs": [
        {
          "output_type": "execute_result",
          "data": {
            "text/html": [
              "<div>\n",
              "<style scoped>\n",
              "    .dataframe tbody tr th:only-of-type {\n",
              "        vertical-align: middle;\n",
              "    }\n",
              "\n",
              "    .dataframe tbody tr th {\n",
              "        vertical-align: top;\n",
              "    }\n",
              "\n",
              "    .dataframe thead th {\n",
              "        text-align: right;\n",
              "    }\n",
              "</style>\n",
              "<table border=\"1\" class=\"dataframe\">\n",
              "  <thead>\n",
              "    <tr style=\"text-align: right;\">\n",
              "      <th></th>\n",
              "      <th>Country</th>\n",
              "      <th>Continent</th>\n",
              "      <th>female literacy</th>\n",
              "      <th>fertility</th>\n",
              "      <th>population</th>\n",
              "    </tr>\n",
              "  </thead>\n",
              "  <tbody>\n",
              "    <tr>\n",
              "      <th>0</th>\n",
              "      <td>Chine</td>\n",
              "      <td>ASI</td>\n",
              "      <td>90.5</td>\n",
              "      <td>1.769</td>\n",
              "      <td>1,324,655,000</td>\n",
              "    </tr>\n",
              "    <tr>\n",
              "      <th>1</th>\n",
              "      <td>Inde</td>\n",
              "      <td>ASI</td>\n",
              "      <td>50.8</td>\n",
              "      <td>2.682</td>\n",
              "      <td>1,139,964,932</td>\n",
              "    </tr>\n",
              "    <tr>\n",
              "      <th>2</th>\n",
              "      <td>USA</td>\n",
              "      <td>NAM</td>\n",
              "      <td>99.0</td>\n",
              "      <td>2.077</td>\n",
              "      <td>304,060,000</td>\n",
              "    </tr>\n",
              "  </tbody>\n",
              "</table>\n",
              "</div>"
            ],
            "text/plain": [
              "  Country  Continent  female literacy  fertility     population\n",
              "0    Chine       ASI             90.5      1.769  1,324,655,000\n",
              "1     Inde       ASI             50.8      2.682  1,139,964,932\n",
              "2      USA       NAM             99.0      2.077    304,060,000"
            ]
          },
          "metadata": {
            "tags": []
          },
          "execution_count": 14
        }
      ]
    },
    {
      "cell_type": "code",
      "metadata": {
        "id": "ZPGeVTjGqnM7",
        "colab_type": "code",
        "colab": {}
      },
      "source": [
        "fertility = df['fertility']\n",
        "illiteracy = 100 - df['female literacy']\n",
        "#illiteracy"
      ],
      "execution_count": null,
      "outputs": []
    },
    {
      "cell_type": "code",
      "metadata": {
        "id": "ZdsmhZ-nqtCw",
        "colab_type": "code",
        "colab": {}
      },
      "source": [
        "# Recall pearson_r()\n",
        "def pearson_r(x, y):\n",
        "    \"\"\"Compute Pearson correlation coefficient between two arrays.\"\"\"\n",
        "    # Compute correlation matrix: corr_mat\n",
        "    corr_mat = np.corrcoef(x,y)\n",
        "\n",
        "    # Return entry [0,1]\n",
        "    return corr_mat[0,1]"
      ],
      "execution_count": null,
      "outputs": []
    },
    {
      "cell_type": "code",
      "metadata": {
        "id": "j-idBdtQrkKa",
        "colab_type": "code",
        "colab": {
          "base_uri": "https://localhost:8080/",
          "height": 296
        },
        "outputId": "5afe862c-3444-453e-b010-1697dd47b8ce"
      },
      "source": [
        "# Plot the illiteracy rate versus fertility\n",
        "_ = plt.plot(illiteracy, fertility, marker='.', linestyle='none')\n",
        "\n",
        "# Set the margins and label axes\n",
        "plt.margins(0.02)\n",
        "_ = plt.xlabel('percent illiterate')\n",
        "_ = plt.ylabel('fertility')\n",
        "\n",
        "# Show the plot\n",
        "plt.show()\n",
        "\n",
        "# Show the Pearson correlation coefficient\n",
        "print(pearson_r(illiteracy, fertility))"
      ],
      "execution_count": null,
      "outputs": [
        {
          "output_type": "display_data",
          "data": {
            "image/png": "[encoded data removed]",
            "text/plain": [
              "<Figure size 432x288 with 1 Axes>"
            ]
          },
          "metadata": {
            "tags": [],
            "needs_background": "light"
          }
        },
        {
          "output_type": "stream",
          "text": [
            "0.8041324026815344\n"
          ],
          "name": "stdout"
        }
      ]
    },
    {
      "cell_type": "code",
      "metadata": {
        "id": "PNWeKLVRr0Zm",
        "colab_type": "code",
        "colab": {
          "base_uri": "https://localhost:8080/",
          "height": 153
        },
        "outputId": "ec89b27e-2232-4100-fb96-a4696184a1b8"
      },
      "source": [
        "x = np.arange(1,101)\n",
        "x"
      ],
      "execution_count": null,
      "outputs": [
        {
          "output_type": "execute_result",
          "data": {
            "text/plain": [
              "array([  1,   2,   3,   4,   5,   6,   7,   8,   9,  10,  11,  12,  13,\n",
              "        14,  15,  16,  17,  18,  19,  20,  21,  22,  23,  24,  25,  26,\n",
              "        27,  28,  29,  30,  31,  32,  33,  34,  35,  36,  37,  38,  39,\n",
              "        40,  41,  42,  43,  44,  45,  46,  47,  48,  49,  50,  51,  52,\n",
              "        53,  54,  55,  56,  57,  58,  59,  60,  61,  62,  63,  64,  65,\n",
              "        66,  67,  68,  69,  70,  71,  72,  73,  74,  75,  76,  77,  78,\n",
              "        79,  80,  81,  82,  83,  84,  85,  86,  87,  88,  89,  90,  91,\n",
              "        92,  93,  94,  95,  96,  97,  98,  99, 100])"
            ]
          },
          "metadata": {
            "tags": []
          },
          "execution_count": 18
        }
      ]
    },
    {
      "cell_type": "code",
      "metadata": {
        "id": "Da0AmUxhucom",
        "colab_type": "code",
        "colab": {
          "base_uri": "https://localhost:8080/",
          "height": 313
        },
        "outputId": "c1c718d9-d4c2-4306-f7f8-7f733d70fc7a"
      },
      "source": [
        "\n",
        "# Plot the illiteracy rate versus fertility\n",
        "_ = plt.plot(illiteracy, fertility, marker='.', linestyle='none')\n",
        "plt.margins(0.02)\n",
        "_ = plt.xlabel('percent illiterate')\n",
        "_ = plt.ylabel('fertility')\n",
        "\n",
        "# Perform a linear regression using np.polyfit(): a, b\n",
        "a, b = np.polyfit(illiteracy,fertility,1)\n",
        "\n",
        "# Print the results to the screen\n",
        "print('slope =', a, 'children per woman / percent illiterate')\n",
        "print('intercept =', b, 'children per woman')\n",
        "\n",
        "# Make theoretical line to plot\n",
        "x = np.arange(1,101)\n",
        "y = a * x + b\n",
        "\n",
        "# Add regression line to your plot\n",
        "_ = plt.plot(x, y)\n",
        "\n",
        "# Draw the plot\n",
        "plt.show()"
      ],
      "execution_count": null,
      "outputs": [
        {
          "output_type": "stream",
          "text": [
            "slope = 0.04979854809063423 children per woman / percent illiterate\n",
            "intercept = 1.888050610636557 children per woman\n"
          ],
          "name": "stdout"
        },
        {
          "output_type": "display_data",
          "data": {
            "image/png": "[encoded data removed]",
            "text/plain": [
              "<Figure size 432x288 with 1 Axes>"
            ]
          },
          "metadata": {
            "tags": [],
            "needs_background": "light"
          }
        }
      ]
    },
    {
      "cell_type": "code",
      "metadata": {
        "id": "iRv4v8Jnu2JM",
        "colab_type": "code",
        "colab": {
          "base_uri": "https://localhost:8080/",
          "height": 34
        },
        "outputId": "a693095f-2f15-43a5-cf10-53e0517be284"
      },
      "source": [
        "x=np.array([1,50])\n",
        "x"
      ],
      "execution_count": null,
      "outputs": [
        {
          "output_type": "execute_result",
          "data": {
            "text/plain": [
              "array([ 1, 50])"
            ]
          },
          "metadata": {
            "tags": []
          },
          "execution_count": 20
        }
      ]
    },
    {
      "cell_type": "code",
      "metadata": {
        "id": "nGKfjBtQvDLa",
        "colab_type": "code",
        "colab": {
          "base_uri": "https://localhost:8080/",
          "height": 313
        },
        "outputId": "fa9ae1dd-a8c5-4fc6-c449-9464d15a57ec"
      },
      "source": [
        "\n",
        "# Plot the illiteracy rate versus fertility\n",
        "_ = plt.plot(illiteracy, fertility, marker='.', linestyle='none')\n",
        "plt.margins(0.02)\n",
        "_ = plt.xlabel('percent illiterate')\n",
        "_ = plt.ylabel('fertility')\n",
        "\n",
        "# Perform a linear regression using np.polyfit(): a, b\n",
        "a, b = np.polyfit(illiteracy,fertility,1)\n",
        "\n",
        "# Print the results to the screen\n",
        "print('slope =', a, 'children per woman / percent illiterate')\n",
        "print('intercept =', b, 'children per woman')\n",
        "\n",
        "# Make theoretical line to plot\n",
        "x = np.array([0, 100]) # Same best fit line with only two x values\n",
        "y = a * x + b\n",
        "\n",
        "# Add regression line to your plot\n",
        "_ = plt.plot(x, y)\n",
        "\n",
        "# Draw the plot\n",
        "plt.show()\n"
      ],
      "execution_count": null,
      "outputs": [
        {
          "output_type": "stream",
          "text": [
            "slope = 0.04979854809063423 children per woman / percent illiterate\n",
            "intercept = 1.888050610636557 children per woman\n"
          ],
          "name": "stdout"
        },
        {
          "output_type": "display_data",
          "data": {
            "image/png": "[encoded data removed]",
            "text/plain": [
              "<Figure size 432x288 with 1 Axes>"
            ]
          },
          "metadata": {
            "tags": [],
            "needs_background": "light"
          }
        }
      ]
    },
    {
      "cell_type": "code",
      "metadata": {
        "id": "rdhiN_aFvPBp",
        "colab_type": "code",
        "colab": {
          "base_uri": "https://localhost:8080/",
          "height": 357
        },
        "outputId": "1a6ff5b5-ebe9-442a-aa57-615c56eff6ba"
      },
      "source": [
        "a = np.linspace(1,2,100)\n",
        "a"
      ],
      "execution_count": null,
      "outputs": [
        {
          "output_type": "execute_result",
          "data": {
            "text/plain": [
              "array([1.        , 1.01010101, 1.02020202, 1.03030303, 1.04040404,\n",
              "       1.05050505, 1.06060606, 1.07070707, 1.08080808, 1.09090909,\n",
              "       1.1010101 , 1.11111111, 1.12121212, 1.13131313, 1.14141414,\n",
              "       1.15151515, 1.16161616, 1.17171717, 1.18181818, 1.19191919,\n",
              "       1.2020202 , 1.21212121, 1.22222222, 1.23232323, 1.24242424,\n",
              "       1.25252525, 1.26262626, 1.27272727, 1.28282828, 1.29292929,\n",
              "       1.3030303 , 1.31313131, 1.32323232, 1.33333333, 1.34343434,\n",
              "       1.35353535, 1.36363636, 1.37373737, 1.38383838, 1.39393939,\n",
              "       1.4040404 , 1.41414141, 1.42424242, 1.43434343, 1.44444444,\n",
              "       1.45454545, 1.46464646, 1.47474747, 1.48484848, 1.49494949,\n",
              "       1.50505051, 1.51515152, 1.52525253, 1.53535354, 1.54545455,\n",
              "       1.55555556, 1.56565657, 1.57575758, 1.58585859, 1.5959596 ,\n",
              "       1.60606061, 1.61616162, 1.62626263, 1.63636364, 1.64646465,\n",
              "       1.65656566, 1.66666667, 1.67676768, 1.68686869, 1.6969697 ,\n",
              "       1.70707071, 1.71717172, 1.72727273, 1.73737374, 1.74747475,\n",
              "       1.75757576, 1.76767677, 1.77777778, 1.78787879, 1.7979798 ,\n",
              "       1.80808081, 1.81818182, 1.82828283, 1.83838384, 1.84848485,\n",
              "       1.85858586, 1.86868687, 1.87878788, 1.88888889, 1.8989899 ,\n",
              "       1.90909091, 1.91919192, 1.92929293, 1.93939394, 1.94949495,\n",
              "       1.95959596, 1.96969697, 1.97979798, 1.98989899, 2.        ])"
            ]
          },
          "metadata": {
            "tags": []
          },
          "execution_count": 22
        }
      ]
    },
    {
      "cell_type": "code",
      "metadata": {
        "id": "nlmh2KApvqXB",
        "colab_type": "code",
        "colab": {
          "base_uri": "https://localhost:8080/",
          "height": 357
        },
        "outputId": "f9c3e84d-29e8-44ff-da48-dc9e8721bec2"
      },
      "source": [
        "rss = np.empty_like(a)\n",
        "rss"
      ],
      "execution_count": null,
      "outputs": [
        {
          "output_type": "execute_result",
          "data": {
            "text/plain": [
              "array([1.        , 1.01010101, 1.02020202, 1.03030303, 1.04040404,\n",
              "       1.05050505, 1.06060606, 1.07070707, 1.08080808, 1.09090909,\n",
              "       1.1010101 , 1.11111111, 1.12121212, 1.13131313, 1.14141414,\n",
              "       1.15151515, 1.16161616, 1.17171717, 1.18181818, 1.19191919,\n",
              "       1.2020202 , 1.21212121, 1.22222222, 1.23232323, 1.24242424,\n",
              "       1.25252525, 1.26262626, 1.27272727, 1.28282828, 1.29292929,\n",
              "       1.3030303 , 1.31313131, 1.32323232, 1.33333333, 1.34343434,\n",
              "       1.35353535, 1.36363636, 1.37373737, 1.38383838, 1.39393939,\n",
              "       1.4040404 , 1.41414141, 1.42424242, 1.43434343, 1.44444444,\n",
              "       1.45454545, 1.46464646, 1.47474747, 1.48484848, 1.49494949,\n",
              "       1.50505051, 1.51515152, 1.52525253, 1.53535354, 1.54545455,\n",
              "       1.55555556, 1.56565657, 1.57575758, 1.58585859, 1.5959596 ,\n",
              "       1.60606061, 1.61616162, 1.62626263, 1.63636364, 1.64646465,\n",
              "       1.65656566, 1.66666667, 1.67676768, 1.68686869, 1.6969697 ,\n",
              "       1.70707071, 1.71717172, 1.72727273, 1.73737374, 1.74747475,\n",
              "       1.75757576, 1.76767677, 1.77777778, 1.78787879, 1.7979798 ,\n",
              "       1.80808081, 1.81818182, 1.82828283, 1.83838384, 1.84848485,\n",
              "       1.85858586, 1.86868687, 1.87878788, 1.88888889, 1.8989899 ,\n",
              "       1.90909091, 1.91919192, 1.92929293, 1.93939394, 1.94949495,\n",
              "       1.95959596, 1.96969697, 1.97979798, 1.98989899, 2.        ])"
            ]
          },
          "metadata": {
            "tags": []
          },
          "execution_count": 23
        }
      ]
    },
    {
      "cell_type": "code",
      "metadata": {
        "id": "puyGc8-Ewnfm",
        "colab_type": "code",
        "colab": {
          "base_uri": "https://localhost:8080/",
          "height": 279
        },
        "outputId": "f607120d-7c40-4f5b-a45f-5d77446cecb9"
      },
      "source": [
        "\n",
        "# Specify slopes to consider: a_vals\n",
        "a_vals = np.linspace(0,0.1,200)\n",
        "\n",
        "# Initialize sum of square of residuals: rss\n",
        "rss = np.empty_like(a_vals)\n",
        "\n",
        "# Compute sum of square of residuals for each value of a_vals\n",
        "for i, a in enumerate(a_vals):\n",
        "    rss[i] = np.sum((fertility - a*illiteracy - b)**2)\n",
        "\n",
        "# Plot the RSS\n",
        "plt.plot(a_vals, rss, '-')\n",
        "plt.xlabel('slope (children per woman / percent illiterate)')\n",
        "plt.ylabel('sum of square of residuals')\n",
        "\n",
        "plt.show()"
      ],
      "execution_count": null,
      "outputs": [
        {
          "output_type": "display_data",
          "data": {
            "image/png": "[encoded data removed]",
            "text/plain": [
              "<Figure size 432x288 with 1 Axes>"
            ]
          },
          "metadata": {
            "tags": [],
            "needs_background": "light"
          }
        }
      ]
    },
    {
      "cell_type": "markdown",
      "metadata": {
        "id": "4YxZB7key0sJ",
        "colab_type": "text"
      },
      "source": [
        "### The importance of EDA: Anscombe's quartet\n",
        "avg x and y values, sum of squares of residuals, and regression are the same for four very different graphs.  Moral: do graphical exploratory data analysis first!!!"
      ]
    },
    {
      "cell_type": "code",
      "metadata": {
        "id": "8A0IZyfExtIg",
        "colab_type": "code",
        "colab": {
          "base_uri": "https://localhost:8080/",
          "height": 421
        },
        "outputId": "a0d50934-fadd-4c11-e2f7-c941b8a8aada"
      },
      "source": [
        "df = pd.read_csv('anscombe.csv')\n",
        "df.head(12)"
      ],
      "execution_count": null,
      "outputs": [
        {
          "output_type": "execute_result",
          "data": {
            "text/html": [
              "<div>\n",
              "<style scoped>\n",
              "    .dataframe tbody tr th:only-of-type {\n",
              "        vertical-align: middle;\n",
              "    }\n",
              "\n",
              "    .dataframe tbody tr th {\n",
              "        vertical-align: top;\n",
              "    }\n",
              "\n",
              "    .dataframe thead th {\n",
              "        text-align: right;\n",
              "    }\n",
              "</style>\n",
              "<table border=\"1\" class=\"dataframe\">\n",
              "  <thead>\n",
              "    <tr style=\"text-align: right;\">\n",
              "      <th></th>\n",
              "      <th>0</th>\n",
              "      <th>0.1</th>\n",
              "      <th>1</th>\n",
              "      <th>1.1</th>\n",
              "      <th>2</th>\n",
              "      <th>2.1</th>\n",
              "      <th>3</th>\n",
              "      <th>3.1</th>\n",
              "    </tr>\n",
              "  </thead>\n",
              "  <tbody>\n",
              "    <tr>\n",
              "      <th>0</th>\n",
              "      <td>x</td>\n",
              "      <td>y</td>\n",
              "      <td>x</td>\n",
              "      <td>y</td>\n",
              "      <td>x</td>\n",
              "      <td>y</td>\n",
              "      <td>x</td>\n",
              "      <td>y</td>\n",
              "    </tr>\n",
              "    <tr>\n",
              "      <th>1</th>\n",
              "      <td>10.0</td>\n",
              "      <td>8.04</td>\n",
              "      <td>10.0</td>\n",
              "      <td>9.14</td>\n",
              "      <td>10.0</td>\n",
              "      <td>7.46</td>\n",
              "      <td>8.0</td>\n",
              "      <td>6.58</td>\n",
              "    </tr>\n",
              "    <tr>\n",
              "      <th>2</th>\n",
              "      <td>8.0</td>\n",
              "      <td>6.95</td>\n",
              "      <td>8.0</td>\n",
              "      <td>8.14</td>\n",
              "      <td>8.0</td>\n",
              "      <td>6.77</td>\n",
              "      <td>8.0</td>\n",
              "      <td>5.76</td>\n",
              "    </tr>\n",
              "    <tr>\n",
              "      <th>3</th>\n",
              "      <td>13.0</td>\n",
              "      <td>7.58</td>\n",
              "      <td>13.0</td>\n",
              "      <td>8.74</td>\n",
              "      <td>13.0</td>\n",
              "      <td>12.74</td>\n",
              "      <td>8.0</td>\n",
              "      <td>7.71</td>\n",
              "    </tr>\n",
              "    <tr>\n",
              "      <th>4</th>\n",
              "      <td>9.0</td>\n",
              "      <td>8.81</td>\n",
              "      <td>9.0</td>\n",
              "      <td>8.77</td>\n",
              "      <td>9.0</td>\n",
              "      <td>7.11</td>\n",
              "      <td>8.0</td>\n",
              "      <td>8.84</td>\n",
              "    </tr>\n",
              "    <tr>\n",
              "      <th>5</th>\n",
              "      <td>11.0</td>\n",
              "      <td>8.33</td>\n",
              "      <td>11.0</td>\n",
              "      <td>9.26</td>\n",
              "      <td>11.0</td>\n",
              "      <td>7.81</td>\n",
              "      <td>8.0</td>\n",
              "      <td>8.47</td>\n",
              "    </tr>\n",
              "    <tr>\n",
              "      <th>6</th>\n",
              "      <td>14.0</td>\n",
              "      <td>9.96</td>\n",
              "      <td>14.0</td>\n",
              "      <td>8.10</td>\n",
              "      <td>14.0</td>\n",
              "      <td>8.84</td>\n",
              "      <td>8.0</td>\n",
              "      <td>7.04</td>\n",
              "    </tr>\n",
              "    <tr>\n",
              "      <th>7</th>\n",
              "      <td>6.0</td>\n",
              "      <td>7.24</td>\n",
              "      <td>6.0</td>\n",
              "      <td>6.13</td>\n",
              "      <td>6.0</td>\n",
              "      <td>6.08</td>\n",
              "      <td>8.0</td>\n",
              "      <td>5.25</td>\n",
              "    </tr>\n",
              "    <tr>\n",
              "      <th>8</th>\n",
              "      <td>4.0</td>\n",
              "      <td>4.26</td>\n",
              "      <td>4.0</td>\n",
              "      <td>3.10</td>\n",
              "      <td>4.0</td>\n",
              "      <td>5.39</td>\n",
              "      <td>19.0</td>\n",
              "      <td>12.50</td>\n",
              "    </tr>\n",
              "    <tr>\n",
              "      <th>9</th>\n",
              "      <td>12.0</td>\n",
              "      <td>10.84</td>\n",
              "      <td>12.0</td>\n",
              "      <td>9.13</td>\n",
              "      <td>12.0</td>\n",
              "      <td>8.15</td>\n",
              "      <td>8.0</td>\n",
              "      <td>5.56</td>\n",
              "    </tr>\n",
              "    <tr>\n",
              "      <th>10</th>\n",
              "      <td>7.0</td>\n",
              "      <td>4.82</td>\n",
              "      <td>7.0</td>\n",
              "      <td>7.26</td>\n",
              "      <td>7.0</td>\n",
              "      <td>6.42</td>\n",
              "      <td>8.0</td>\n",
              "      <td>7.91</td>\n",
              "    </tr>\n",
              "    <tr>\n",
              "      <th>11</th>\n",
              "      <td>5.0</td>\n",
              "      <td>5.68</td>\n",
              "      <td>5.0</td>\n",
              "      <td>4.74</td>\n",
              "      <td>5.0</td>\n",
              "      <td>5.73</td>\n",
              "      <td>8.0</td>\n",
              "      <td>6.89</td>\n",
              "    </tr>\n",
              "  </tbody>\n",
              "</table>\n",
              "</div>"
            ],
            "text/plain": [
              "       0    0.1     1   1.1     2    2.1     3    3.1\n",
              "0      x      y     x     y     x      y     x      y\n",
              "1   10.0   8.04  10.0  9.14  10.0   7.46   8.0   6.58\n",
              "2    8.0   6.95   8.0  8.14   8.0   6.77   8.0   5.76\n",
              "3   13.0   7.58  13.0  8.74  13.0  12.74   8.0   7.71\n",
              "4    9.0   8.81   9.0  8.77   9.0   7.11   8.0   8.84\n",
              "5   11.0   8.33  11.0  9.26  11.0   7.81   8.0   8.47\n",
              "6   14.0   9.96  14.0  8.10  14.0   8.84   8.0   7.04\n",
              "7    6.0   7.24   6.0  6.13   6.0   6.08   8.0   5.25\n",
              "8    4.0   4.26   4.0  3.10   4.0   5.39  19.0  12.50\n",
              "9   12.0  10.84  12.0  9.13  12.0   8.15   8.0   5.56\n",
              "10   7.0   4.82   7.0  7.26   7.0   6.42   8.0   7.91\n",
              "11   5.0   5.68   5.0  4.74   5.0   5.73   8.0   6.89"
            ]
          },
          "metadata": {
            "tags": []
          },
          "execution_count": 25
        }
      ]
    },
    {
      "cell_type": "code",
      "metadata": {
        "id": "DzJvuRhH0FUS",
        "colab_type": "code",
        "colab": {
          "base_uri": "https://localhost:8080/",
          "height": 204
        },
        "outputId": "9455b505-6c73-47ee-acda-daa672641b02"
      },
      "source": [
        "columns = ['x1','y1','x2','y2','x3','y3','x4','y4']\n",
        "df.columns = columns\n",
        "df.drop([0], inplace=True)\n",
        "\n",
        "df.head()"
      ],
      "execution_count": null,
      "outputs": [
        {
          "output_type": "execute_result",
          "data": {
            "text/html": [
              "<div>\n",
              "<style scoped>\n",
              "    .dataframe tbody tr th:only-of-type {\n",
              "        vertical-align: middle;\n",
              "    }\n",
              "\n",
              "    .dataframe tbody tr th {\n",
              "        vertical-align: top;\n",
              "    }\n",
              "\n",
              "    .dataframe thead th {\n",
              "        text-align: right;\n",
              "    }\n",
              "</style>\n",
              "<table border=\"1\" class=\"dataframe\">\n",
              "  <thead>\n",
              "    <tr style=\"text-align: right;\">\n",
              "      <th></th>\n",
              "      <th>x1</th>\n",
              "      <th>y1</th>\n",
              "      <th>x2</th>\n",
              "      <th>y2</th>\n",
              "      <th>x3</th>\n",
              "      <th>y3</th>\n",
              "      <th>x4</th>\n",
              "      <th>y4</th>\n",
              "    </tr>\n",
              "  </thead>\n",
              "  <tbody>\n",
              "    <tr>\n",
              "      <th>1</th>\n",
              "      <td>10.0</td>\n",
              "      <td>8.04</td>\n",
              "      <td>10.0</td>\n",
              "      <td>9.14</td>\n",
              "      <td>10.0</td>\n",
              "      <td>7.46</td>\n",
              "      <td>8.0</td>\n",
              "      <td>6.58</td>\n",
              "    </tr>\n",
              "    <tr>\n",
              "      <th>2</th>\n",
              "      <td>8.0</td>\n",
              "      <td>6.95</td>\n",
              "      <td>8.0</td>\n",
              "      <td>8.14</td>\n",
              "      <td>8.0</td>\n",
              "      <td>6.77</td>\n",
              "      <td>8.0</td>\n",
              "      <td>5.76</td>\n",
              "    </tr>\n",
              "    <tr>\n",
              "      <th>3</th>\n",
              "      <td>13.0</td>\n",
              "      <td>7.58</td>\n",
              "      <td>13.0</td>\n",
              "      <td>8.74</td>\n",
              "      <td>13.0</td>\n",
              "      <td>12.74</td>\n",
              "      <td>8.0</td>\n",
              "      <td>7.71</td>\n",
              "    </tr>\n",
              "    <tr>\n",
              "      <th>4</th>\n",
              "      <td>9.0</td>\n",
              "      <td>8.81</td>\n",
              "      <td>9.0</td>\n",
              "      <td>8.77</td>\n",
              "      <td>9.0</td>\n",
              "      <td>7.11</td>\n",
              "      <td>8.0</td>\n",
              "      <td>8.84</td>\n",
              "    </tr>\n",
              "    <tr>\n",
              "      <th>5</th>\n",
              "      <td>11.0</td>\n",
              "      <td>8.33</td>\n",
              "      <td>11.0</td>\n",
              "      <td>9.26</td>\n",
              "      <td>11.0</td>\n",
              "      <td>7.81</td>\n",
              "      <td>8.0</td>\n",
              "      <td>8.47</td>\n",
              "    </tr>\n",
              "  </tbody>\n",
              "</table>\n",
              "</div>"
            ],
            "text/plain": [
              "     x1    y1    x2    y2    x3     y3   x4    y4\n",
              "1  10.0  8.04  10.0  9.14  10.0   7.46  8.0  6.58\n",
              "2   8.0  6.95   8.0  8.14   8.0   6.77  8.0  5.76\n",
              "3  13.0  7.58  13.0  8.74  13.0  12.74  8.0  7.71\n",
              "4   9.0  8.81   9.0  8.77   9.0   7.11  8.0  8.84\n",
              "5  11.0  8.33  11.0  9.26  11.0   7.81  8.0  8.47"
            ]
          },
          "metadata": {
            "tags": []
          },
          "execution_count": 26
        }
      ]
    },
    {
      "cell_type": "code",
      "metadata": {
        "id": "hr6cjmjl4FnK",
        "colab_type": "code",
        "colab": {
          "base_uri": "https://localhost:8080/",
          "height": 34
        },
        "outputId": "2a79653c-b67c-430e-966a-fca06648f2f6"
      },
      "source": [
        "x = df['x1'].astype(float)\n",
        "y = df['y1'].astype(float)\n",
        "x.dtype, y.dtype"
      ],
      "execution_count": null,
      "outputs": [
        {
          "output_type": "execute_result",
          "data": {
            "text/plain": [
              "(dtype('float64'), dtype('float64'))"
            ]
          },
          "metadata": {
            "tags": []
          },
          "execution_count": 27
        }
      ]
    },
    {
      "cell_type": "code",
      "metadata": {
        "id": "rIEK9ifS0nUa",
        "colab_type": "code",
        "colab": {
          "base_uri": "https://localhost:8080/",
          "height": 296
        },
        "outputId": "f5d8fcbe-f7af-4f0f-99d3-573219470858"
      },
      "source": [
        "# Perform linear regression: a, b\n",
        "a, b = np.polyfit(x, y, 1)\n",
        "\n",
        "# Print the slope and intercept\n",
        "print(a, b)\n",
        "\n",
        "# Generate theoretical x and y data: x_theor, y_theor\n",
        "x_theor = np.array([3, 15])\n",
        "y_theor = a * x_theor + b\n",
        "\n",
        "# Plot the Anscombe data and theoretical line\n",
        "_ = plt.plot(x, y, marker='.', linestyle='none')\n",
        "_ = plt.plot(x_theor, y_theor)\n",
        "\n",
        "# Label the axes\n",
        "plt.xlabel('x')\n",
        "plt.ylabel('y')\n",
        "\n",
        "# Show the plot\n",
        "plt.show()"
      ],
      "execution_count": null,
      "outputs": [
        {
          "output_type": "stream",
          "text": [
            "0.5000909090909095 3.000090909090909\n"
          ],
          "name": "stdout"
        },
        {
          "output_type": "display_data",
          "data": {
            "image/png": "[encoded data removed]",
            "text/plain": [
              "<Figure size 432x288 with 1 Axes>"
            ]
          },
          "metadata": {
            "tags": [],
            "needs_background": "light"
          }
        }
      ]
    },
    {
      "cell_type": "code",
      "metadata": {
        "id": "A4ujzp291s8h",
        "colab_type": "code",
        "colab": {
          "base_uri": "https://localhost:8080/",
          "height": 85
        },
        "outputId": "d4e9a4d6-6c40-4510-83e1-d94fb24eecef"
      },
      "source": [
        "x1 = df['x1'].astype(float)\n",
        "y1 = df['y1'].astype(float)\n",
        "x2 = df['x2'].astype(float)\n",
        "y2 = df['y2'].astype(float)\n",
        "x3 = df['x3'].astype(float)\n",
        "y3 = df['y3'].astype(float)\n",
        "x4 = df['x4'].astype(float)\n",
        "y4 = df['y4'].astype(float)\n",
        "\n",
        "anscombe_x = [x1, x2, x3, x4] \n",
        "anscombe_y = [y1, y2, y3, y4]\n",
        "# Iterate through x,y pairs\n",
        "for x, y in zip(anscombe_x, anscombe_y):\n",
        "    # Compute the slope and intercept: a, b\n",
        "    a, b = np.polyfit(x, y, 1)\n",
        "\n",
        "    # Print the result\n",
        "    print('slope:', a, 'intercept:', b)\n"
      ],
      "execution_count": null,
      "outputs": [
        {
          "output_type": "stream",
          "text": [
            "slope: 0.5000909090909095 intercept: 3.000090909090909\n",
            "slope: 0.5000000000000004 intercept: 3.0009090909090896\n",
            "slope: 0.4997272727272731 intercept: 3.0024545454545453\n",
            "slope: 0.4999090909090908 intercept: 3.0017272727272735\n"
          ],
          "name": "stdout"
        }
      ]
    },
    {
      "cell_type": "markdown",
      "metadata": {
        "id": "PUUf_vXt6uOV",
        "colab_type": "text"
      },
      "source": [
        "# Bootstrap confidence intervals\n",
        "### Generating bootstrap replicates\n",
        "Randomly resample data set a desired number of times to recalculate mean, std, etc..."
      ]
    },
    {
      "cell_type": "code",
      "metadata": {
        "id": "ntbR_l5_5uzM",
        "colab_type": "code",
        "colab": {
          "base_uri": "https://localhost:8080/",
          "height": 301
        },
        "outputId": "7e5bf62b-1b2c-411c-b3ad-dbf3d3844edd"
      },
      "source": [
        "import numpy as np\n",
        "df = pd.read_csv('michelson_speed_of_light.csv')\n",
        "df.head(2)"
      ],
      "execution_count": null,
      "outputs": [
        {
          "output_type": "execute_result",
          "data": {
            "text/html": [
              "<div>\n",
              "<style scoped>\n",
              "    .dataframe tbody tr th:only-of-type {\n",
              "        vertical-align: middle;\n",
              "    }\n",
              "\n",
              "    .dataframe tbody tr th {\n",
              "        vertical-align: top;\n",
              "    }\n",
              "\n",
              "    .dataframe thead th {\n",
              "        text-align: right;\n",
              "    }\n",
              "</style>\n",
              "<table border=\"1\" class=\"dataframe\">\n",
              "  <thead>\n",
              "    <tr style=\"text-align: right;\">\n",
              "      <th></th>\n",
              "      <th>Unnamed: 0</th>\n",
              "      <th>date</th>\n",
              "      <th>distinctness of image</th>\n",
              "      <th>temperature (F)</th>\n",
              "      <th>position of deflected image</th>\n",
              "      <th>position of slit</th>\n",
              "      <th>displacement of image in divisions</th>\n",
              "      <th>difference between greatest and least</th>\n",
              "      <th>B</th>\n",
              "      <th>Cor</th>\n",
              "      <th>revolutions per second</th>\n",
              "      <th>radius (ft)</th>\n",
              "      <th>value of one turn of screw</th>\n",
              "      <th>velocity of light in air (km/s)</th>\n",
              "      <th>remarks</th>\n",
              "    </tr>\n",
              "  </thead>\n",
              "  <tbody>\n",
              "    <tr>\n",
              "      <th>0</th>\n",
              "      <td>0</td>\n",
              "      <td>June  5</td>\n",
              "      <td>3</td>\n",
              "      <td>76</td>\n",
              "      <td>114.85</td>\n",
              "      <td>0.300</td>\n",
              "      <td>114.55</td>\n",
              "      <td>0.17</td>\n",
              "      <td>1.423</td>\n",
              "      <td>-0.132</td>\n",
              "      <td>257.36</td>\n",
              "      <td>28.672</td>\n",
              "      <td>0.99614</td>\n",
              "      <td>299850</td>\n",
              "      <td>Electric light.</td>\n",
              "    </tr>\n",
              "    <tr>\n",
              "      <th>1</th>\n",
              "      <td>1</td>\n",
              "      <td>June  7</td>\n",
              "      <td>2</td>\n",
              "      <td>72</td>\n",
              "      <td>114.64</td>\n",
              "      <td>0.074</td>\n",
              "      <td>114.56</td>\n",
              "      <td>0.10</td>\n",
              "      <td>1.533</td>\n",
              "      <td>-0.084</td>\n",
              "      <td>257.52</td>\n",
              "      <td>28.655</td>\n",
              "      <td>0.99614</td>\n",
              "      <td>299740</td>\n",
              "      <td>P.M. Frame inclined at various angles</td>\n",
              "    </tr>\n",
              "  </tbody>\n",
              "</table>\n",
              "</div>"
            ],
            "text/plain": [
              "   Unnamed: 0  ...                                remarks\n",
              "0           0  ...                        Electric light.\n",
              "1           1  ...  P.M. Frame inclined at various angles\n",
              "\n",
              "[2 rows x 15 columns]"
            ]
          },
          "metadata": {
            "tags": []
          },
          "execution_count": 30
        }
      ]
    },
    {
      "cell_type": "code",
      "metadata": {
        "id": "6VIWLCo9WWjz",
        "colab_type": "code",
        "colab": {
          "base_uri": "https://localhost:8080/",
          "height": 34
        },
        "outputId": "454241df-43b9-4910-fdc9-ab50df05dc67"
      },
      "source": [
        "# General description of taking a random sample of an array\n",
        "arr = np.array([1,2,3,4,5])\n",
        "sample = np.random.choice(arr, 5)\n",
        "sample, np.mean(arr), np.mean(sample)"
      ],
      "execution_count": null,
      "outputs": [
        {
          "output_type": "execute_result",
          "data": {
            "text/plain": [
              "(array([4, 5, 4, 1, 3]), 3.0, 3.4)"
            ]
          },
          "metadata": {
            "tags": []
          },
          "execution_count": 31
        }
      ]
    },
    {
      "cell_type": "code",
      "metadata": {
        "id": "p8XSX2nwXLP0",
        "colab_type": "code",
        "colab": {
          "base_uri": "https://localhost:8080/",
          "height": 34
        },
        "outputId": "e6595b7a-2b1e-4e92-8881-373c088b8c89"
      },
      "source": [
        "len(df['velocity of light in air (km/s)'])"
      ],
      "execution_count": null,
      "outputs": [
        {
          "output_type": "execute_result",
          "data": {
            "text/plain": [
              "100"
            ]
          },
          "metadata": {
            "tags": []
          },
          "execution_count": 32
        }
      ]
    },
    {
      "cell_type": "code",
      "metadata": {
        "id": "nvm8Z8XXW0dG",
        "colab_type": "code",
        "colab": {
          "base_uri": "https://localhost:8080/",
          "height": 238
        },
        "outputId": "fea6738f-f076-410c-b911-d8f942e6fec4"
      },
      "source": [
        "michelson_sample = np.random.choice(df['velocity of light in air (km/s)'], 100)\n",
        "michelson_sample, np.mean(michelson_sample)"
      ],
      "execution_count": null,
      "outputs": [
        {
          "output_type": "execute_result",
          "data": {
            "text/plain": [
              "(array([299910, 299840, 299720, 299790, 299850, 299840, 299840, 299880,\n",
              "        299950, 299950, 299760, 299850, 299880, 299880, 299980, 299840,\n",
              "        299740, 300000, 299960, 299870, 299810, 299960, 299760, 299830,\n",
              "        299860, 299920, 299850, 299850, 299970, 299880, 299800, 299870,\n",
              "        299840, 299810, 299880, 299850, 299830, 299870, 299880, 299880,\n",
              "        299830, 299880, 299740, 299840, 299930, 299720, 299740, 299980,\n",
              "        299880, 299860, 299970, 299760, 300070, 299930, 299890, 299860,\n",
              "        299850, 299860, 299850, 299810, 299880, 299770, 299880, 299900,\n",
              "        299920, 299780, 299620, 299980, 299720, 299850, 299880, 299810,\n",
              "        299810, 299870, 299840, 299790, 299950, 299840, 299760, 299860,\n",
              "        299760, 299880, 299910, 299910, 299880, 299620, 299840, 299810,\n",
              "        299880, 299880, 299800, 299950, 299890, 299850, 299800, 299840,\n",
              "        299860, 299950, 299800, 299900]), 299855.0)"
            ]
          },
          "metadata": {
            "tags": []
          },
          "execution_count": 33
        }
      ]
    },
    {
      "cell_type": "code",
      "metadata": {
        "id": "iwPNE9ARZTty",
        "colab_type": "code",
        "colab": {
          "base_uri": "https://localhost:8080/",
          "height": 359
        },
        "outputId": "db6e84d5-62a2-4b36-92b0-5a752b5bbb8a"
      },
      "source": [
        "# Rainfall data from the Sheffield weather station\n",
        "rain = pd.read_csv('sheffield_weather_station.csv', header=None, sep='\\n')\n",
        "#df = df[0].str.split(',', expand=True)\n",
        "rain.head(10)"
      ],
      "execution_count": null,
      "outputs": [
        {
          "output_type": "execute_result",
          "data": {
            "text/html": [
              "<div>\n",
              "<style scoped>\n",
              "    .dataframe tbody tr th:only-of-type {\n",
              "        vertical-align: middle;\n",
              "    }\n",
              "\n",
              "    .dataframe tbody tr th {\n",
              "        vertical-align: top;\n",
              "    }\n",
              "\n",
              "    .dataframe thead th {\n",
              "        text-align: right;\n",
              "    }\n",
              "</style>\n",
              "<table border=\"1\" class=\"dataframe\">\n",
              "  <thead>\n",
              "    <tr style=\"text-align: right;\">\n",
              "      <th></th>\n",
              "      <th>0</th>\n",
              "    </tr>\n",
              "  </thead>\n",
              "  <tbody>\n",
              "    <tr>\n",
              "      <th>0</th>\n",
              "      <td># Cleaned up from http://www.metoffice.gov.uk/...</td>\n",
              "    </tr>\n",
              "    <tr>\n",
              "      <th>1</th>\n",
              "      <td># More info: https://data.gov.uk/dataset/histo...</td>\n",
              "    </tr>\n",
              "    <tr>\n",
              "      <th>2</th>\n",
              "      <td># Sheffield</td>\n",
              "    </tr>\n",
              "    <tr>\n",
              "      <th>3</th>\n",
              "      <td># Location 433900E 387200N, Lat 53.381 Lon -1....</td>\n",
              "    </tr>\n",
              "    <tr>\n",
              "      <th>4</th>\n",
              "      <td># Missing data (more than 2 days missing in mo...</td>\n",
              "    </tr>\n",
              "    <tr>\n",
              "      <th>5</th>\n",
              "      <td># (af is air frost)</td>\n",
              "    </tr>\n",
              "    <tr>\n",
              "      <th>6</th>\n",
              "      <td>#    yyyy  mm   tmax    tmin      af    rain  ...</td>\n",
              "    </tr>\n",
              "    <tr>\n",
              "      <th>7</th>\n",
              "      <td>#               degC    degC    days      mm  ...</td>\n",
              "    </tr>\n",
              "    <tr>\n",
              "      <th>8</th>\n",
              "      <td>yyyy  mm   tmax    tmin      af    rain    ...</td>\n",
              "    </tr>\n",
              "    <tr>\n",
              "      <th>9</th>\n",
              "      <td>1883   1    6.3     1.7       6   122.1    ...</td>\n",
              "    </tr>\n",
              "  </tbody>\n",
              "</table>\n",
              "</div>"
            ],
            "text/plain": [
              "                                                   0\n",
              "0  # Cleaned up from http://www.metoffice.gov.uk/...\n",
              "1  # More info: https://data.gov.uk/dataset/histo...\n",
              "2                                        # Sheffield\n",
              "3  # Location 433900E 387200N, Lat 53.381 Lon -1....\n",
              "4  # Missing data (more than 2 days missing in mo...\n",
              "5                                # (af is air frost)\n",
              "6  #    yyyy  mm   tmax    tmin      af    rain  ...\n",
              "7  #               degC    degC    days      mm  ...\n",
              "8     yyyy  mm   tmax    tmin      af    rain    ...\n",
              "9     1883   1    6.3     1.7       6   122.1    ..."
            ]
          },
          "metadata": {
            "tags": []
          },
          "execution_count": 34
        }
      ]
    },
    {
      "cell_type": "code",
      "metadata": {
        "id": "Awo1oXsAcnDd",
        "colab_type": "code",
        "colab": {}
      },
      "source": [
        "rain.drop([0,1,2,3,4,5,6,7,8], inplace=True)"
      ],
      "execution_count": null,
      "outputs": []
    },
    {
      "cell_type": "code",
      "metadata": {
        "id": "ytHeIi0hcy1x",
        "colab_type": "code",
        "colab": {
          "base_uri": "https://localhost:8080/",
          "height": 204
        },
        "outputId": "8375dc10-cf12-4e15-e448-34bbbf327399"
      },
      "source": [
        "rain.head()"
      ],
      "execution_count": null,
      "outputs": [
        {
          "output_type": "execute_result",
          "data": {
            "text/html": [
              "<div>\n",
              "<style scoped>\n",
              "    .dataframe tbody tr th:only-of-type {\n",
              "        vertical-align: middle;\n",
              "    }\n",
              "\n",
              "    .dataframe tbody tr th {\n",
              "        vertical-align: top;\n",
              "    }\n",
              "\n",
              "    .dataframe thead th {\n",
              "        text-align: right;\n",
              "    }\n",
              "</style>\n",
              "<table border=\"1\" class=\"dataframe\">\n",
              "  <thead>\n",
              "    <tr style=\"text-align: right;\">\n",
              "      <th></th>\n",
              "      <th>0</th>\n",
              "    </tr>\n",
              "  </thead>\n",
              "  <tbody>\n",
              "    <tr>\n",
              "      <th>9</th>\n",
              "      <td>1883   1    6.3     1.7       6   122.1    ...</td>\n",
              "    </tr>\n",
              "    <tr>\n",
              "      <th>10</th>\n",
              "      <td>1883   2    8.0     2.8       2    69.8    ...</td>\n",
              "    </tr>\n",
              "    <tr>\n",
              "      <th>11</th>\n",
              "      <td>1883   3    4.8    -1.6      23    29.6    ...</td>\n",
              "    </tr>\n",
              "    <tr>\n",
              "      <th>12</th>\n",
              "      <td>1883   4   12.2     3.8       2    74.0    ...</td>\n",
              "    </tr>\n",
              "    <tr>\n",
              "      <th>13</th>\n",
              "      <td>1883   5   14.7     6.2       0    31.2    ...</td>\n",
              "    </tr>\n",
              "  </tbody>\n",
              "</table>\n",
              "</div>"
            ],
            "text/plain": [
              "                                                    0\n",
              "9      1883   1    6.3     1.7       6   122.1    ...\n",
              "10     1883   2    8.0     2.8       2    69.8    ...\n",
              "11     1883   3    4.8    -1.6      23    29.6    ...\n",
              "12     1883   4   12.2     3.8       2    74.0    ...\n",
              "13     1883   5   14.7     6.2       0    31.2    ..."
            ]
          },
          "metadata": {
            "tags": []
          },
          "execution_count": 36
        }
      ]
    },
    {
      "cell_type": "code",
      "metadata": {
        "id": "sQKeeehXn9y9",
        "colab_type": "code",
        "colab": {
          "base_uri": "https://localhost:8080/",
          "height": 51
        },
        "outputId": "334f8deb-c66d-4c83-ddab-6fc41d72929a"
      },
      "source": [
        "rain.dtypes"
      ],
      "execution_count": null,
      "outputs": [
        {
          "output_type": "execute_result",
          "data": {
            "text/plain": [
              "0    object\n",
              "dtype: object"
            ]
          },
          "metadata": {
            "tags": []
          },
          "execution_count": 37
        }
      ]
    },
    {
      "cell_type": "code",
      "metadata": {
        "id": "J1W5DgLJdEOw",
        "colab_type": "code",
        "colab": {
          "base_uri": "https://localhost:8080/",
          "height": 204
        },
        "outputId": "ee1dafce-6752-469c-a915-59181dd38fa5"
      },
      "source": [
        "rain[['yyyy', 'mm', 'tmax', 'tmin', 'af', 'rain', '...']] = rain[0].str.split(expand=True)\n",
        "# columns = ['yyyy', 'mm', 'tmax', 'tmin', 'af', 'rain', '...']\n",
        "# df.columns = columns\n",
        "rain.head()"
      ],
      "execution_count": null,
      "outputs": [
        {
          "output_type": "execute_result",
          "data": {
            "text/html": [
              "<div>\n",
              "<style scoped>\n",
              "    .dataframe tbody tr th:only-of-type {\n",
              "        vertical-align: middle;\n",
              "    }\n",
              "\n",
              "    .dataframe tbody tr th {\n",
              "        vertical-align: top;\n",
              "    }\n",
              "\n",
              "    .dataframe thead th {\n",
              "        text-align: right;\n",
              "    }\n",
              "</style>\n",
              "<table border=\"1\" class=\"dataframe\">\n",
              "  <thead>\n",
              "    <tr style=\"text-align: right;\">\n",
              "      <th></th>\n",
              "      <th>0</th>\n",
              "      <th>yyyy</th>\n",
              "      <th>mm</th>\n",
              "      <th>tmax</th>\n",
              "      <th>tmin</th>\n",
              "      <th>af</th>\n",
              "      <th>rain</th>\n",
              "      <th>...</th>\n",
              "    </tr>\n",
              "  </thead>\n",
              "  <tbody>\n",
              "    <tr>\n",
              "      <th>9</th>\n",
              "      <td>1883   1    6.3     1.7       6   122.1    ...</td>\n",
              "      <td>1883</td>\n",
              "      <td>1</td>\n",
              "      <td>6.3</td>\n",
              "      <td>1.7</td>\n",
              "      <td>6</td>\n",
              "      <td>122.1</td>\n",
              "      <td>---</td>\n",
              "    </tr>\n",
              "    <tr>\n",
              "      <th>10</th>\n",
              "      <td>1883   2    8.0     2.8       2    69.8    ...</td>\n",
              "      <td>1883</td>\n",
              "      <td>2</td>\n",
              "      <td>8.0</td>\n",
              "      <td>2.8</td>\n",
              "      <td>2</td>\n",
              "      <td>69.8</td>\n",
              "      <td>---</td>\n",
              "    </tr>\n",
              "    <tr>\n",
              "      <th>11</th>\n",
              "      <td>1883   3    4.8    -1.6      23    29.6    ...</td>\n",
              "      <td>1883</td>\n",
              "      <td>3</td>\n",
              "      <td>4.8</td>\n",
              "      <td>-1.6</td>\n",
              "      <td>23</td>\n",
              "      <td>29.6</td>\n",
              "      <td>---</td>\n",
              "    </tr>\n",
              "    <tr>\n",
              "      <th>12</th>\n",
              "      <td>1883   4   12.2     3.8       2    74.0    ...</td>\n",
              "      <td>1883</td>\n",
              "      <td>4</td>\n",
              "      <td>12.2</td>\n",
              "      <td>3.8</td>\n",
              "      <td>2</td>\n",
              "      <td>74.0</td>\n",
              "      <td>---</td>\n",
              "    </tr>\n",
              "    <tr>\n",
              "      <th>13</th>\n",
              "      <td>1883   5   14.7     6.2       0    31.2    ...</td>\n",
              "      <td>1883</td>\n",
              "      <td>5</td>\n",
              "      <td>14.7</td>\n",
              "      <td>6.2</td>\n",
              "      <td>0</td>\n",
              "      <td>31.2</td>\n",
              "      <td>---</td>\n",
              "    </tr>\n",
              "  </tbody>\n",
              "</table>\n",
              "</div>"
            ],
            "text/plain": [
              "                                                    0  yyyy mm  ...  af   rain  ...\n",
              "9      1883   1    6.3     1.7       6   122.1    ...  1883  1  ...   6  122.1  ---\n",
              "10     1883   2    8.0     2.8       2    69.8    ...  1883  2  ...   2   69.8  ---\n",
              "11     1883   3    4.8    -1.6      23    29.6    ...  1883  3  ...  23   29.6  ---\n",
              "12     1883   4   12.2     3.8       2    74.0    ...  1883  4  ...   2   74.0  ---\n",
              "13     1883   5   14.7     6.2       0    31.2    ...  1883  5  ...   0   31.2  ---\n",
              "\n",
              "[5 rows x 8 columns]"
            ]
          },
          "metadata": {
            "tags": []
          },
          "execution_count": 38
        }
      ]
    },
    {
      "cell_type": "code",
      "metadata": {
        "id": "nO4jZKtmd49b",
        "colab_type": "code",
        "colab": {
          "base_uri": "https://localhost:8080/",
          "height": 34
        },
        "outputId": "ae4e1f96-b58e-496f-a375-955ff8a3802e"
      },
      "source": [
        "rain.columns"
      ],
      "execution_count": null,
      "outputs": [
        {
          "output_type": "execute_result",
          "data": {
            "text/plain": [
              "Index([0, 'yyyy', 'mm', 'tmax', 'tmin', 'af', 'rain', '...'], dtype='object')"
            ]
          },
          "metadata": {
            "tags": []
          },
          "execution_count": 39
        }
      ]
    },
    {
      "cell_type": "code",
      "metadata": {
        "id": "0DOO58UWp7A8",
        "colab_type": "code",
        "colab": {
          "base_uri": "https://localhost:8080/",
          "height": 204
        },
        "outputId": "ebd21ae4-4446-498e-e69d-4bc9e5f5b59d"
      },
      "source": [
        "columns = [0, '...']\n",
        "rain.drop(columns=columns, inplace=True)\n",
        "rain.head()"
      ],
      "execution_count": null,
      "outputs": [
        {
          "output_type": "execute_result",
          "data": {
            "text/html": [
              "<div>\n",
              "<style scoped>\n",
              "    .dataframe tbody tr th:only-of-type {\n",
              "        vertical-align: middle;\n",
              "    }\n",
              "\n",
              "    .dataframe tbody tr th {\n",
              "        vertical-align: top;\n",
              "    }\n",
              "\n",
              "    .dataframe thead th {\n",
              "        text-align: right;\n",
              "    }\n",
              "</style>\n",
              "<table border=\"1\" class=\"dataframe\">\n",
              "  <thead>\n",
              "    <tr style=\"text-align: right;\">\n",
              "      <th></th>\n",
              "      <th>yyyy</th>\n",
              "      <th>mm</th>\n",
              "      <th>tmax</th>\n",
              "      <th>tmin</th>\n",
              "      <th>af</th>\n",
              "      <th>rain</th>\n",
              "    </tr>\n",
              "  </thead>\n",
              "  <tbody>\n",
              "    <tr>\n",
              "      <th>9</th>\n",
              "      <td>1883</td>\n",
              "      <td>1</td>\n",
              "      <td>6.3</td>\n",
              "      <td>1.7</td>\n",
              "      <td>6</td>\n",
              "      <td>122.1</td>\n",
              "    </tr>\n",
              "    <tr>\n",
              "      <th>10</th>\n",
              "      <td>1883</td>\n",
              "      <td>2</td>\n",
              "      <td>8.0</td>\n",
              "      <td>2.8</td>\n",
              "      <td>2</td>\n",
              "      <td>69.8</td>\n",
              "    </tr>\n",
              "    <tr>\n",
              "      <th>11</th>\n",
              "      <td>1883</td>\n",
              "      <td>3</td>\n",
              "      <td>4.8</td>\n",
              "      <td>-1.6</td>\n",
              "      <td>23</td>\n",
              "      <td>29.6</td>\n",
              "    </tr>\n",
              "    <tr>\n",
              "      <th>12</th>\n",
              "      <td>1883</td>\n",
              "      <td>4</td>\n",
              "      <td>12.2</td>\n",
              "      <td>3.8</td>\n",
              "      <td>2</td>\n",
              "      <td>74.0</td>\n",
              "    </tr>\n",
              "    <tr>\n",
              "      <th>13</th>\n",
              "      <td>1883</td>\n",
              "      <td>5</td>\n",
              "      <td>14.7</td>\n",
              "      <td>6.2</td>\n",
              "      <td>0</td>\n",
              "      <td>31.2</td>\n",
              "    </tr>\n",
              "  </tbody>\n",
              "</table>\n",
              "</div>"
            ],
            "text/plain": [
              "    yyyy mm  tmax  tmin  af   rain\n",
              "9   1883  1   6.3   1.7   6  122.1\n",
              "10  1883  2   8.0   2.8   2   69.8\n",
              "11  1883  3   4.8  -1.6  23   29.6\n",
              "12  1883  4  12.2   3.8   2   74.0\n",
              "13  1883  5  14.7   6.2   0   31.2"
            ]
          },
          "metadata": {
            "tags": []
          },
          "execution_count": 40
        }
      ]
    },
    {
      "cell_type": "code",
      "metadata": {
        "id": "-fKF3VPDzczy",
        "colab_type": "code",
        "colab": {}
      },
      "source": [
        "rain['rain'] = rain.rain.astype(float)"
      ],
      "execution_count": null,
      "outputs": []
    },
    {
      "cell_type": "code",
      "metadata": {
        "id": "4FOpL4PBzZO6",
        "colab_type": "code",
        "colab": {
          "base_uri": "https://localhost:8080/",
          "height": 136
        },
        "outputId": "63f228d6-41ce-4029-a71a-72598801c218"
      },
      "source": [
        "rain.dtypes"
      ],
      "execution_count": null,
      "outputs": [
        {
          "output_type": "execute_result",
          "data": {
            "text/plain": [
              "yyyy     object\n",
              "mm       object\n",
              "tmax     object\n",
              "tmin     object\n",
              "af       object\n",
              "rain    float64\n",
              "dtype: object"
            ]
          },
          "metadata": {
            "tags": []
          },
          "execution_count": 42
        }
      ]
    },
    {
      "cell_type": "code",
      "metadata": {
        "id": "RmJI0j4OXTMM",
        "colab_type": "code",
        "colab": {
          "base_uri": "https://localhost:8080/",
          "height": 279
        },
        "outputId": "529402d9-5f8f-47be-c3e8-81c442c7e6bd"
      },
      "source": [
        "rainfall = rain.rain\n",
        "for _ in range(50):\n",
        "    # Generate bootstrap sample: bs_sample\n",
        "    bs_sample = np.random.choice(rainfall, size=len(rainfall))\n",
        "\n",
        "    # Compute and plot ECDF from bootstrap sample\n",
        "    x, y = ecdf(bs_sample)\n",
        "    _ = plt.plot(x, y, color = 'gray', alpha=0.1)\n",
        "\n",
        "# Compute and plot ECDF from original data\n",
        "x, y = ecdf(rainfall)\n",
        "_ = plt.plot(x, y, marker='.')\n",
        "\n",
        "# Make margins and label axes\n",
        "plt.margins(0.02)\n",
        "_ = plt.xlabel('yearly rainfall (mm)')\n",
        "_ = plt.ylabel('ECDF')\n",
        "\n",
        "# Show the plot\n",
        "plt.show()"
      ],
      "execution_count": null,
      "outputs": [
        {
          "output_type": "display_data",
          "data": {
            "image/png": "[encoded data removed]",
            "text/plain": [
              "<Figure size 432x288 with 1 Axes>"
            ]
          },
          "metadata": {
            "tags": [],
            "needs_background": "light"
          }
        }
      ]
    },
    {
      "cell_type": "code",
      "metadata": {
        "id": "gAN2i5VWy9fY",
        "colab_type": "code",
        "colab": {
          "base_uri": "https://localhost:8080/",
          "height": 34
        },
        "outputId": "bd873d37-119f-477c-9584-c27b4e2ccd4b"
      },
      "source": [
        "type(rainfall)"
      ],
      "execution_count": null,
      "outputs": [
        {
          "output_type": "execute_result",
          "data": {
            "text/plain": [
              "pandas.core.series.Series"
            ]
          },
          "metadata": {
            "tags": []
          },
          "execution_count": 44
        }
      ]
    },
    {
      "cell_type": "code",
      "metadata": {
        "id": "qz0gWsK6qcbl",
        "colab_type": "code",
        "colab": {
          "base_uri": "https://localhost:8080/",
          "height": 279
        },
        "outputId": "3804fbc0-292d-4855-bc6f-b358a793d03b"
      },
      "source": [
        "# Generate bootstrap sample: bs_sample\n",
        "bs_sample = np.random.choice(rainfall, size=len(rainfall))\n",
        "\n",
        "# Compute and plot ECDF from bootstrap sample\n",
        "x, y = ecdf(bs_sample)\n",
        "_ = plt.plot(x, y, color = 'gray', alpha=0.1)\n",
        "\n",
        "# Compute and plot ECDF from original data\n",
        "x, y = ecdf(rainfall)\n",
        "_ = plt.plot(x, y, marker='.')\n",
        "\n",
        "# Make margins and label axes\n",
        "plt.margins(0.02)\n",
        "_ = plt.xlabel('yearly rainfall (mm)')\n",
        "_ = plt.ylabel('ECDF')\n",
        "\n",
        "# Show the plot\n",
        "plt.show() "
      ],
      "execution_count": null,
      "outputs": [
        {
          "output_type": "display_data",
          "data": {
            "image/png": "[encoded data removed]",
            "text/plain": [
              "<Figure size 432x288 with 1 Axes>"
            ]
          },
          "metadata": {
            "tags": [],
            "needs_background": "light"
          }
        }
      ]
    },
    {
      "cell_type": "markdown",
      "metadata": {
        "id": "YJPMETUqrKjq",
        "colab_type": "text"
      },
      "source": [
        "### Bootstrap confidence intervals\n"
      ]
    },
    {
      "cell_type": "code",
      "metadata": {
        "id": "V9l7hInxq71I",
        "colab_type": "code",
        "colab": {}
      },
      "source": [
        "df = pd.read_csv('michelson_speed_of_light.csv')\n",
        "michelson_sample = np.random.choice(df['velocity of light in air (km/s)'], 100)"
      ],
      "execution_count": null,
      "outputs": []
    },
    {
      "cell_type": "code",
      "metadata": {
        "id": "3sCg2P_Esvck",
        "colab_type": "code",
        "colab": {
          "base_uri": "https://localhost:8080/",
          "height": 34
        },
        "outputId": "2ecc2b45-bec7-4109-e9f0-50f6d1e67528"
      },
      "source": [
        "# Creating function to create replicates\n",
        "def bootstrap_replicate_1d(data, func):\n",
        "  bs_sample = np.random.choice(data, len(data))\n",
        "  return func(bs_sample)\n",
        "bootstrap_replicate_1d(michelson_sample, np.mean)  "
      ],
      "execution_count": null,
      "outputs": [
        {
          "output_type": "execute_result",
          "data": {
            "text/plain": [
              "299854.4"
            ]
          },
          "metadata": {
            "tags": []
          },
          "execution_count": 47
        }
      ]
    },
    {
      "cell_type": "code",
      "metadata": {
        "id": "k_71hnRhtWmv",
        "colab_type": "code",
        "colab": {}
      },
      "source": [
        "# Creating many replicates\n",
        "bs_replicates = np.empty(10000)\n",
        "for i in range(10000):\n",
        "  bs_replicates[i] = bootstrap_replicate_1d(michelson_sample, np.mean)"
      ],
      "execution_count": null,
      "outputs": []
    },
    {
      "cell_type": "code",
      "metadata": {
        "id": "tj4d7AzNtx8o",
        "colab_type": "code",
        "colab": {
          "base_uri": "https://localhost:8080/",
          "height": 279
        },
        "outputId": "c95b03ea-21d3-4b27-e227-1ad1a9048257"
      },
      "source": [
        "plt.hist(bs_replicates, bins=30, density=True)\n",
        "plt.xlabel('Mean speed of light (km/s)')\n",
        "plt.ylabel('PDF')\n",
        "plt.show()"
      ],
      "execution_count": null,
      "outputs": [
        {
          "output_type": "display_data",
          "data": {
            "image/png": "[encoded data removed]",
            "text/plain": [
              "<Figure size 432x288 with 1 Axes>"
            ]
          },
          "metadata": {
            "tags": [],
            "needs_background": "light"
          }
        }
      ]
    },
    {
      "cell_type": "code",
      "metadata": {
        "id": "H07e6SoYuQqY",
        "colab_type": "code",
        "colab": {
          "base_uri": "https://localhost:8080/",
          "height": 34
        },
        "outputId": "bf301756-4847-4976-fa79-15554aa6d0dc"
      },
      "source": [
        "# Compute the 95% confidence interval of mean for a good-as-histogram measure of data\n",
        "confidence = np.percentile(bs_replicates,[2.5,97.5])\n",
        "confidence"
      ],
      "execution_count": null,
      "outputs": [
        {
          "output_type": "execute_result",
          "data": {
            "text/plain": [
              "array([299833.4, 299863.2])"
            ]
          },
          "metadata": {
            "tags": []
          },
          "execution_count": 50
        }
      ]
    },
    {
      "cell_type": "code",
      "metadata": {
        "id": "0JWsAqN8u5ch",
        "colab_type": "code",
        "colab": {}
      },
      "source": [
        "def draw_bs_reps(data, func, size=1):\n",
        "    \"\"\"Draw bootstrap replicates.\"\"\"\n",
        "\n",
        "    # Initialize array of replicates: bs_replicates\n",
        "    bs_replicates = np.empty(size)\n",
        "\n",
        "    # Generate replicates\n",
        "    for i in range(size):\n",
        "        bs_replicates[i] = bootstrap_replicate_1d(data, func)\n",
        "\n",
        "    return bs_replicates"
      ],
      "execution_count": null,
      "outputs": []
    },
    {
      "cell_type": "code",
      "metadata": {
        "id": "0n0K8VxPwSw5",
        "colab_type": "code",
        "colab": {
          "base_uri": "https://localhost:8080/",
          "height": 313
        },
        "outputId": "74159b01-2a59-444a-d25b-d436538e4bce"
      },
      "source": [
        "\n",
        "# Take 10,000 bootstrap replicates of the mean: bs_replicates\n",
        "bs_replicates = draw_bs_reps(rainfall, np.mean, 10000)\n",
        "\n",
        "# Compute and print SEM Standard Error\n",
        "sem =  np.std(bs_replicates) / np.sqrt(len(bs_replicates))\n",
        "print(sem)\n",
        "\n",
        "# Compute and print standard deviation of bootstrap replicates\n",
        "bs_std = np.std(bs_replicates)\n",
        "print(bs_std)\n",
        "\n",
        "# Make a histogram of the results\n",
        "_ = plt.hist(bs_replicates, bins=50, density=True)\n",
        "_ = plt.xlabel('mean annual rainfall (mm)')\n",
        "_ = plt.ylabel('PDF')\n",
        "\n",
        "# Show the plot\n",
        "plt.show()"
      ],
      "execution_count": null,
      "outputs": [
        {
          "output_type": "stream",
          "text": [
            "0.009443980786657044\n",
            "0.9443980786657045\n"
          ],
          "name": "stdout"
        },
        {
          "output_type": "display_data",
          "data": {
            "image/png": "[encoded data removed]",
            "text/plain": [
              "<Figure size 432x288 with 1 Axes>"
            ]
          },
          "metadata": {
            "tags": [],
            "needs_background": "light"
          }
        }
      ]
    },
    {
      "cell_type": "code",
      "metadata": {
        "id": "j6IjCbf4yb-w",
        "colab_type": "code",
        "colab": {
          "base_uri": "https://localhost:8080/",
          "height": 34
        },
        "outputId": "e6cf1af6-9a4a-46c5-ab04-8f04f6851925"
      },
      "source": [
        "# Compute Confidence Interval\n",
        "np.percentile(bs_replicates,[2.5,97.5])"
      ],
      "execution_count": null,
      "outputs": [
        {
          "output_type": "execute_result",
          "data": {
            "text/plain": [
              "array([64.91590668, 68.62696161])"
            ]
          },
          "metadata": {
            "tags": []
          },
          "execution_count": 53
        }
      ]
    },
    {
      "cell_type": "code",
      "metadata": {
        "id": "oqcaP5euQ3L8",
        "colab_type": "code",
        "colab": {
          "base_uri": "https://localhost:8080/",
          "height": 279
        },
        "outputId": "47a63be6-454b-4c4e-9c85-2c60a36635f1"
      },
      "source": [
        "# Generate 10,000 bootstrap replicates of the variance: bs_replicates\n",
        "bs_replicates = draw_bs_reps(rainfall, np.var, size=10000)\n",
        "\n",
        "# Put the variance in units of square centimeters\n",
        "bs_replicates /= 100\n",
        "\n",
        "# Make a histogram of the results\n",
        "_ = plt.hist(bs_replicates, bins=50, density=True)\n",
        "_ = plt.xlabel('variance of annual rainfall (sq. cm)')\n",
        "_ = plt.ylabel('PDF')\n",
        "\n",
        "# Show the plot\n",
        "plt.show()"
      ],
      "execution_count": null,
      "outputs": [
        {
          "output_type": "display_data",
          "data": {
            "image/png": "[encoded data removed]",
            "text/plain": [
              "<Figure size 432x288 with 1 Axes>"
            ]
          },
          "metadata": {
            "tags": [],
            "needs_background": "light"
          }
        }
      ]
    },
    {
      "cell_type": "code",
      "metadata": {
        "id": "kLUSADMdTI4J",
        "colab_type": "code",
        "colab": {
          "base_uri": "https://localhost:8080/",
          "height": 300
        },
        "outputId": "03b1fb2a-4081-4b0e-d763-bd10c065435e"
      },
      "source": [
        "# Draw bootstrap replicates of the mean no-hitter time (equal to tau): bs_replicates\n",
        "bs_replicates = draw_bs_reps(nohitter_times, np.mean, 10000)\n",
        "\n",
        "# Compute the 95% confidence interval: conf_int\n",
        "conf_int = np.percentile(bs_replicates, [2.5,97.5])\n",
        "\n",
        "# Print the confidence interval\n",
        "print('95% confidence interval =', conf_int, 'games')\n",
        "\n",
        "# Plot the histogram of the replicates\n",
        "_ = plt.hist(bs_replicates, bins=50, density=True)\n",
        "_ = plt.xlabel(r'$\\tau$ (games)')\n",
        "_ = plt.ylabel('PDF')\n",
        "\n",
        "# Show the plot\n",
        "plt.show()"
      ],
      "execution_count": null,
      "outputs": [
        {
          "output_type": "stream",
          "text": [
            "95% confidence interval = [628.1109215  815.64573379] games\n"
          ],
          "name": "stdout"
        },
        {
          "output_type": "display_data",
          "data": {
            "image/png": "[encoded data removed]",
            "text/plain": [
              "<Figure size 432x288 with 1 Axes>"
            ]
          },
          "metadata": {
            "tags": [],
            "needs_background": "light"
          }
        }
      ]
    },
    {
      "cell_type": "markdown",
      "metadata": {
        "id": "WcRfdRpyUFlj",
        "colab_type": "text"
      },
      "source": [
        "### Pairs Bootstrap\n",
        "Using bootstrap techniques to estimate parameter values e.g. slope and intercept."
      ]
    },
    {
      "cell_type": "code",
      "metadata": {
        "id": "gNZ5WSjdT74l",
        "colab_type": "code",
        "colab": {}
      },
      "source": [
        "def draw_bs_pairs_linreg(x, y, size=1):\n",
        "    \"\"\"Perform pairs bootstrap for linear regression.\"\"\"\n",
        "\n",
        "    # Set up array of indices to sample from: inds\n",
        "    inds = np.arange(len(x))\n",
        "\n",
        "    # Initialize replicates: bs_slope_reps, bs_intercept_reps\n",
        "    bs_slope_reps = np.empty(size)\n",
        "    bs_intercept_reps = np.empty(size)\n",
        "\n",
        "    # Generate replicates\n",
        "    for i in range(size):\n",
        "        bs_inds = np.random.choice(inds, size=len(inds))\n",
        "        bs_x, bs_y = x[bs_inds], y[bs_inds]\n",
        "        bs_slope_reps[i], bs_intercept_reps[i] = np.polyfit(bs_x, bs_y, 1)\n",
        "\n",
        "    return bs_slope_reps, bs_intercept_reps"
      ],
      "execution_count": null,
      "outputs": []
    },
    {
      "cell_type": "code",
      "metadata": {
        "id": "vHiFMgLbUqpp",
        "colab_type": "code",
        "colab": {
          "base_uri": "https://localhost:8080/",
          "height": 356
        },
        "outputId": "942025f4-9c4a-4026-8a50-890ae0b7c12c"
      },
      "source": [
        "# Generate replicates of slope and intercept using pairs bootstrap\n",
        "import seaborn as sns\n",
        "sns.set()\n",
        "bs_slope_reps, bs_intercept_reps = draw_bs_pairs_linreg(illiteracy, fertility, 1000)\n",
        "\n",
        "# Compute and print 95% CI for slope\n",
        "print(np.percentile(bs_slope_reps, [2.5, 97.5]))\n",
        "\n",
        "# Plot the histogram\n",
        "_ = plt.hist(bs_slope_reps, bins=50, density=True)\n",
        "_ = plt.xlabel('slope')\n",
        "_ = plt.ylabel('PDF')\n",
        "plt.show()"
      ],
      "execution_count": null,
      "outputs": [
        {
          "output_type": "stream",
          "text": [
            "/usr/local/lib/python3.6/dist-packages/statsmodels/tools/_testing.py:19: FutureWarning: pandas.util.testing is deprecated. Use the functions in the public API at pandas.testing instead.\n",
            "  import pandas.util.testing as tm\n"
          ],
          "name": "stderr"
        },
        {
          "output_type": "stream",
          "text": [
            "[0.04399799 0.05535502]\n"
          ],
          "name": "stdout"
        },
        {
          "output_type": "display_data",
          "data": {
            "image/png": "[encoded data removed]",
            "text/plain": [
              "<Figure size 432x288 with 1 Axes>"
            ]
          },
          "metadata": {
            "tags": []
          }
        }
      ]
    },
    {
      "cell_type": "code",
      "metadata": {
        "id": "LrsrIND9UsyZ",
        "colab_type": "code",
        "colab": {
          "base_uri": "https://localhost:8080/",
          "height": 285
        },
        "outputId": "9fe8b6b9-1633-4c34-d974-007f31546c9c"
      },
      "source": [
        "# Generate array of x-values for bootstrap lines: x\n",
        "x = np.array([0,100])\n",
        "\n",
        "# Plot the bootstrap lines\n",
        "for i in range(0,100):\n",
        "    _ = plt.plot(x, \n",
        "                 bs_slope_reps[i]*x + bs_intercept_reps[i],\n",
        "                 linewidth=0.5, alpha=0.2, color='red')\n",
        "\n",
        "# Plot the data\n",
        "_ = plt.scatter(illiteracy, fertility, marker='.', linestyle='None')\n",
        "_\n",
        "# Label axes, set the margins, and show the plot\n",
        "_ = plt.xlabel('illiteracy')\n",
        "_ = plt.ylabel('fertility')\n",
        "plt.margins(0.02)\n",
        "plt.show()"
      ],
      "execution_count": null,
      "outputs": [
        {
          "output_type": "display_data",
          "data": {
            "image/png": "[encoded data removed]",
            "text/plain": [
              "<Figure size 432x288 with 1 Axes>"
            ]
          },
          "metadata": {
            "tags": []
          }
        }
      ]
    },
    {
      "cell_type": "code",
      "metadata": {
        "id": "X1NJSEf3XRQm",
        "colab_type": "code",
        "colab": {
          "base_uri": "https://localhost:8080/",
          "height": 553
        },
        "outputId": "a6bab368-b63c-42ca-e021-d424643c58ee"
      },
      "source": [
        "# Generate array of x-values for bootstrap lines: x\n",
        "x = np.array([0,100])\n",
        "\n",
        "# Plot the bootstrap lines\n",
        "for i in range(0,100):\n",
        "    _ = plt.plot(x, \n",
        "bs_slope_reps[i]*x + bs_intercept_reps[i],\n",
        "linewidth=0.5, alpha=0.2, color='red')\n",
        "\n",
        "# Plot the data\n",
        "_ = plt.scatter(illiteracy, fertility, marker='.', linestyle='None')\n",
        "_\n",
        "# Label axes, set the margins, and show the plot\n",
        "_ = plt.xlabel('illiteracy')\n",
        "_ = plt.ylabel('fertility')\n",
        "plt.margins(0.02)\n",
        "plt.show()\n",
        "\n",
        "# Generate array of x-values for bootstrap lines: x\n",
        "x = np.array([0, 100])\n",
        "\n",
        "# Plot the bootstrap lines\n",
        "for i in range(100):\n",
        "    _ = plt.plot(x, \n",
        "                 bs_slope_reps[i] * x + bs_intercept_reps[i],\n",
        "                 linewidth=0.5, alpha=0.2, color='red')\n",
        "\n",
        "# Plot the data\n",
        "_ = plt.plot(illiteracy, fertility, marker='.', linestyle='none')\n",
        "\n",
        "# Label axes, set the margins, and show the plot\n",
        "_ = plt.xlabel('illiteracy')\n",
        "_ = plt.ylabel('fertility')\n",
        "plt.margins(0.02)\n",
        "plt.show()"
      ],
      "execution_count": null,
      "outputs": [
        {
          "output_type": "display_data",
          "data": {
            "image/png": "[encoded data removed]",
            "text/plain": [
              "<Figure size 432x288 with 1 Axes>"
            ]
          },
          "metadata": {
            "tags": []
          }
        },
        {
          "output_type": "display_data",
          "data": {
            "image/png": "[encoded data removed]",
            "text/plain": [
              "<Figure size 432x288 with 1 Axes>"
            ]
          },
          "metadata": {
            "tags": []
          }
        }
      ]
    },
    {
      "cell_type": "markdown",
      "metadata": {
        "id": "zbFjAsZiYcdc",
        "colab_type": "text"
      },
      "source": [
        "# Introduction to hypothesis testing\n",
        "### Formulating and simulating a hypothesis\n",
        "Testing whether what the model says is accurate to a desired degree. <br>\n",
        "Permutation: reordering an array of data joine from two datasets that are assumed to be the same and normally distributed."
      ]
    },
    {
      "cell_type": "code",
      "metadata": {
        "id": "KLS00yVGYjfK",
        "colab_type": "code",
        "colab": {
          "base_uri": "https://localhost:8080/",
          "height": 111
        },
        "outputId": "18b37275-bf92-402f-b2a5-a87f48189d3b"
      },
      "source": [
        "swing = pd.read_csv('2008_swing_states.csv')\n",
        "swing.head(2)"
      ],
      "execution_count": null,
      "outputs": [
        {
          "output_type": "execute_result",
          "data": {
            "text/html": [
              "<div>\n",
              "<style scoped>\n",
              "    .dataframe tbody tr th:only-of-type {\n",
              "        vertical-align: middle;\n",
              "    }\n",
              "\n",
              "    .dataframe tbody tr th {\n",
              "        vertical-align: top;\n",
              "    }\n",
              "\n",
              "    .dataframe thead th {\n",
              "        text-align: right;\n",
              "    }\n",
              "</style>\n",
              "<table border=\"1\" class=\"dataframe\">\n",
              "  <thead>\n",
              "    <tr style=\"text-align: right;\">\n",
              "      <th></th>\n",
              "      <th>state</th>\n",
              "      <th>county</th>\n",
              "      <th>total_votes</th>\n",
              "      <th>dem_votes</th>\n",
              "      <th>rep_votes</th>\n",
              "      <th>dem_share</th>\n",
              "    </tr>\n",
              "  </thead>\n",
              "  <tbody>\n",
              "    <tr>\n",
              "      <th>0</th>\n",
              "      <td>PA</td>\n",
              "      <td>Erie County</td>\n",
              "      <td>127691</td>\n",
              "      <td>75775</td>\n",
              "      <td>50351</td>\n",
              "      <td>60.08</td>\n",
              "    </tr>\n",
              "    <tr>\n",
              "      <th>1</th>\n",
              "      <td>PA</td>\n",
              "      <td>Bradford County</td>\n",
              "      <td>25787</td>\n",
              "      <td>10306</td>\n",
              "      <td>15057</td>\n",
              "      <td>40.64</td>\n",
              "    </tr>\n",
              "  </tbody>\n",
              "</table>\n",
              "</div>"
            ],
            "text/plain": [
              "  state           county  total_votes  dem_votes  rep_votes  dem_share\n",
              "0    PA      Erie County       127691      75775      50351      60.08\n",
              "1    PA  Bradford County        25787      10306      15057      40.64"
            ]
          },
          "metadata": {
            "tags": []
          },
          "execution_count": 60
        }
      ]
    },
    {
      "cell_type": "code",
      "metadata": {
        "id": "eECwIn4aacPH",
        "colab_type": "code",
        "colab": {
          "base_uri": "https://localhost:8080/",
          "height": 111
        },
        "outputId": "c8b64c6e-78e3-4291-f779-ff1d07fcefa8"
      },
      "source": [
        "swing['rep_share'] = swing.rep_votes/swing.total_votes * 100\n",
        "swing.head(2)"
      ],
      "execution_count": null,
      "outputs": [
        {
          "output_type": "execute_result",
          "data": {
            "text/html": [
              "<div>\n",
              "<style scoped>\n",
              "    .dataframe tbody tr th:only-of-type {\n",
              "        vertical-align: middle;\n",
              "    }\n",
              "\n",
              "    .dataframe tbody tr th {\n",
              "        vertical-align: top;\n",
              "    }\n",
              "\n",
              "    .dataframe thead th {\n",
              "        text-align: right;\n",
              "    }\n",
              "</style>\n",
              "<table border=\"1\" class=\"dataframe\">\n",
              "  <thead>\n",
              "    <tr style=\"text-align: right;\">\n",
              "      <th></th>\n",
              "      <th>state</th>\n",
              "      <th>county</th>\n",
              "      <th>total_votes</th>\n",
              "      <th>dem_votes</th>\n",
              "      <th>rep_votes</th>\n",
              "      <th>dem_share</th>\n",
              "      <th>rep_share</th>\n",
              "    </tr>\n",
              "  </thead>\n",
              "  <tbody>\n",
              "    <tr>\n",
              "      <th>0</th>\n",
              "      <td>PA</td>\n",
              "      <td>Erie County</td>\n",
              "      <td>127691</td>\n",
              "      <td>75775</td>\n",
              "      <td>50351</td>\n",
              "      <td>60.08</td>\n",
              "      <td>39.431910</td>\n",
              "    </tr>\n",
              "    <tr>\n",
              "      <th>1</th>\n",
              "      <td>PA</td>\n",
              "      <td>Bradford County</td>\n",
              "      <td>25787</td>\n",
              "      <td>10306</td>\n",
              "      <td>15057</td>\n",
              "      <td>40.64</td>\n",
              "      <td>58.389886</td>\n",
              "    </tr>\n",
              "  </tbody>\n",
              "</table>\n",
              "</div>"
            ],
            "text/plain": [
              "  state           county  total_votes  ...  rep_votes  dem_share  rep_share\n",
              "0    PA      Erie County       127691  ...      50351      60.08  39.431910\n",
              "1    PA  Bradford County        25787  ...      15057      40.64  58.389886\n",
              "\n",
              "[2 rows x 7 columns]"
            ]
          },
          "metadata": {
            "tags": []
          },
          "execution_count": 61
        }
      ]
    },
    {
      "cell_type": "code",
      "metadata": {
        "id": "2YCgjnrEa7Xo",
        "colab_type": "code",
        "colab": {}
      },
      "source": [
        "def permutation_sample(data1, data2):\n",
        "    \"\"\"Generate a permutation sample from two data sets.\"\"\"\n",
        "\n",
        "    # Concatenate the data sets: data\n",
        "    data = np.concatenate((data1,data2))\n",
        "\n",
        "    # Permute the concatenated array: permuted_data\n",
        "    permuted_data = np.random.permutation(data)\n",
        "\n",
        "    # Split the permuted array into two: perm_sample_1, perm_sample_2\n",
        "    perm_sample_1 = permuted_data[:len(data1)]\n",
        "    perm_sample_2 = permuted_data[len(data1):]\n",
        "\n",
        "    return perm_sample_1, perm_sample_2"
      ],
      "execution_count": null,
      "outputs": []
    },
    {
      "cell_type": "code",
      "metadata": {
        "id": "4NGRxydScKOf",
        "colab_type": "code",
        "colab": {
          "base_uri": "https://localhost:8080/",
          "height": 285
        },
        "outputId": "5a2322ab-ffa6-4124-d9b5-42bb0205687b"
      },
      "source": [
        "for _ in range(50):\n",
        "    # Generate permutation samples\n",
        "    perm_sample_1, perm_sample_2 = permutation_sample(swing.rep_share, swing.dem_share)\n",
        "\n",
        "\n",
        "    # Compute ECDFs\n",
        "    x_1, y_1 = ecdf(perm_sample_1)\n",
        "    x_2, y_2 = ecdf(perm_sample_2)\n",
        "    \n",
        "    # Plot ECDFs of permutation sample\n",
        "    _ = plt.plot(x_1, y_1, marker='.', linestyle='none',\n",
        "                 color='red', alpha=0.02)\n",
        "    _ = plt.plot(x_2, y_2, marker='.', linestyle='none',\n",
        "                 color='blue', alpha=0.02)\n",
        "\n",
        "# Create and plot ECDFs from original data\n",
        "x_1, y_1 = ecdf(swing.rep_share)\n",
        "x_2, y_2 = ecdf(swing.dem_share)\n",
        "_ = plt.plot(x_1, y_1, marker='.', linestyle='none', color='red')\n",
        "_ = plt.plot(x_2, y_2, marker='.', linestyle='none', color='blue')\n",
        "\n",
        "# Label axes, set margin, and show plot\n",
        "plt.margins(0.02)\n",
        "_ = plt.xlabel('Party vote shares')\n",
        "_ = plt.ylabel('ECDF')\n",
        "plt.show()"
      ],
      "execution_count": null,
      "outputs": [
        {
          "output_type": "display_data",
          "data": {
            "image/png": "[encoded data removed]",
            "text/plain": [
              "<Figure size 432x288 with 1 Axes>"
            ]
          },
          "metadata": {
            "tags": []
          }
        }
      ]
    },
    {
      "cell_type": "markdown",
      "metadata": {
        "id": "3a0-6u3yeHzX",
        "colab_type": "text"
      },
      "source": [
        "### Test statistics and p values"
      ]
    },
    {
      "cell_type": "code",
      "metadata": {
        "id": "LbL1V1yQd0QB",
        "colab_type": "code",
        "colab": {}
      },
      "source": [
        "def draw_perm_reps(data_1, data_2, func, size=1):\n",
        "    \"\"\"Generate multiple permutation replicates.\"\"\"\n",
        "\n",
        "    # Initialize array of replicates: perm_replicates\n",
        "    perm_replicates = np.empty(size)\n",
        "\n",
        "    for i in range(size):\n",
        "        # Generate permutation sample\n",
        "        perm_sample_1, perm_sample_2 = permutation_sample(data_1, data_2)\n",
        "\n",
        "        # Compute the test statistic\n",
        "        perm_replicates[i] = func(perm_sample_1, perm_sample_2)\n",
        "\n",
        "    return perm_replicates"
      ],
      "execution_count": null,
      "outputs": []
    },
    {
      "cell_type": "code",
      "metadata": {
        "id": "5eFgVm2ZTE1u",
        "colab_type": "code",
        "colab": {
          "base_uri": "https://localhost:8080/",
          "height": 204
        },
        "outputId": "449ae1e6-d420-457e-9554-0d0627f37dbc"
      },
      "source": [
        "df = pd.read_csv('finch_beaks_1975.csv', error_bad_lines=False)\n",
        "df.head()"
      ],
      "execution_count": null,
      "outputs": [
        {
          "output_type": "execute_result",
          "data": {
            "text/html": [
              "<div>\n",
              "<style scoped>\n",
              "    .dataframe tbody tr th:only-of-type {\n",
              "        vertical-align: middle;\n",
              "    }\n",
              "\n",
              "    .dataframe tbody tr th {\n",
              "        vertical-align: top;\n",
              "    }\n",
              "\n",
              "    .dataframe thead th {\n",
              "        text-align: right;\n",
              "    }\n",
              "</style>\n",
              "<table border=\"1\" class=\"dataframe\">\n",
              "  <thead>\n",
              "    <tr style=\"text-align: right;\">\n",
              "      <th></th>\n",
              "      <th>band</th>\n",
              "      <th>species</th>\n",
              "      <th>Beak length, mm</th>\n",
              "      <th>Beak depth, mm</th>\n",
              "    </tr>\n",
              "  </thead>\n",
              "  <tbody>\n",
              "    <tr>\n",
              "      <th>0</th>\n",
              "      <td>2</td>\n",
              "      <td>fortis</td>\n",
              "      <td>9.4</td>\n",
              "      <td>8.0</td>\n",
              "    </tr>\n",
              "    <tr>\n",
              "      <th>1</th>\n",
              "      <td>9</td>\n",
              "      <td>fortis</td>\n",
              "      <td>9.2</td>\n",
              "      <td>8.3</td>\n",
              "    </tr>\n",
              "    <tr>\n",
              "      <th>2</th>\n",
              "      <td>12</td>\n",
              "      <td>fortis</td>\n",
              "      <td>9.5</td>\n",
              "      <td>7.5</td>\n",
              "    </tr>\n",
              "    <tr>\n",
              "      <th>3</th>\n",
              "      <td>15</td>\n",
              "      <td>fortis</td>\n",
              "      <td>9.5</td>\n",
              "      <td>8.0</td>\n",
              "    </tr>\n",
              "    <tr>\n",
              "      <th>4</th>\n",
              "      <td>305</td>\n",
              "      <td>fortis</td>\n",
              "      <td>11.5</td>\n",
              "      <td>9.9</td>\n",
              "    </tr>\n",
              "  </tbody>\n",
              "</table>\n",
              "</div>"
            ],
            "text/plain": [
              "   band species  Beak length, mm  Beak depth, mm\n",
              "0     2  fortis              9.4             8.0\n",
              "1     9  fortis              9.2             8.3\n",
              "2    12  fortis              9.5             7.5\n",
              "3    15  fortis              9.5             8.0\n",
              "4   305  fortis             11.5             9.9"
            ]
          },
          "metadata": {
            "tags": []
          },
          "execution_count": 65
        }
      ]
    },
    {
      "cell_type": "code",
      "metadata": {
        "id": "aC8R7tHKRu4_",
        "colab_type": "code",
        "colab": {
          "base_uri": "https://localhost:8080/",
          "height": 285
        },
        "outputId": "bcf4e99d-f784-4258-ef79-9207282b42e6"
      },
      "source": [
        "# Make bee swarm plot\n",
        "_ = sns.swarmplot(x='species',y='Beak length, mm',data=df)\n",
        "\n",
        "# Label axes\n",
        "_ = plt.xlabel('Finch species')\n",
        "_ = plt.ylabel('Beak length (mm)')\n",
        "\n",
        "# Show the plot\n",
        "plt.show()"
      ],
      "execution_count": null,
      "outputs": [
        {
          "output_type": "display_data",
          "data": {
            "image/png": "[encoded data removed]",
            "text/plain": [
              "<Figure size 432x288 with 1 Axes>"
            ]
          },
          "metadata": {
            "tags": []
          }
        }
      ]
    },
    {
      "cell_type": "code",
      "metadata": {
        "id": "HLWne2ivUErc",
        "colab_type": "code",
        "colab": {
          "base_uri": "https://localhost:8080/",
          "height": 232
        },
        "outputId": "0405ba47-2caa-4cc9-a7e5-2528cf65a1c1"
      },
      "source": [
        "def diff_of_means(data_1, data_2):\n",
        "    \"\"\"Difference in means of two arrays.\"\"\"\n",
        "\n",
        "    # The difference of means of data_1, data_2: diff\n",
        "    diff = np.mean(data_2) - np.mean(data_1)\n",
        "\n",
        "    return diff\n",
        "\n",
        "# Compute difference of mean impact force from experiment: empirical_diff_means\n",
        "empirical_diff_means = diff_of_means(force_a, force_b)\n",
        "\n",
        "# Draw 10,000 permutation replicates: perm_replicates\n",
        "perm_replicates = draw_perm_reps(force_a, force_b,\n",
        "                                 diff_of_means, size=10000)\n",
        "\n",
        "# Compute p-value: p\n",
        "p = np.sum(perm_replicates >= empirical_diff_means) / len(perm_replicates)\n",
        "\n",
        "# Print the result\n",
        "print('p-value =', p)"
      ],
      "execution_count": null,
      "outputs": [
        {
          "output_type": "error",
          "ename": "NameError",
          "evalue": "ignored",
          "traceback": [
            "\u001b[0;31m---------------------------------------------------------------------------\u001b[0m",
            "\u001b[0;31mNameError\u001b[0m                                 Traceback (most recent call last)",
            "\u001b[0;32m<ipython-input-67-2217aaa1c42c>\u001b[0m in \u001b[0;36m<module>\u001b[0;34m()\u001b[0m\n\u001b[1;32m      8\u001b[0m \u001b[0;34m\u001b[0m\u001b[0m\n\u001b[1;32m      9\u001b[0m \u001b[0;31m# Compute difference of mean impact force from experiment: empirical_diff_means\u001b[0m\u001b[0;34m\u001b[0m\u001b[0;34m\u001b[0m\u001b[0;34m\u001b[0m\u001b[0m\n\u001b[0;32m---> 10\u001b[0;31m \u001b[0mempirical_diff_means\u001b[0m \u001b[0;34m=\u001b[0m \u001b[0mdiff_of_means\u001b[0m\u001b[0;34m(\u001b[0m\u001b[0mforce_a\u001b[0m\u001b[0;34m,\u001b[0m \u001b[0mforce_b\u001b[0m\u001b[0;34m)\u001b[0m\u001b[0;34m\u001b[0m\u001b[0;34m\u001b[0m\u001b[0m\n\u001b[0m\u001b[1;32m     11\u001b[0m \u001b[0;34m\u001b[0m\u001b[0m\n\u001b[1;32m     12\u001b[0m \u001b[0;31m# Draw 10,000 permutation replicates: perm_replicates\u001b[0m\u001b[0;34m\u001b[0m\u001b[0;34m\u001b[0m\u001b[0;34m\u001b[0m\u001b[0m\n",
            "\u001b[0;31mNameError\u001b[0m: name 'force_a' is not defined"
          ]
        }
      ]
    },
    {
      "cell_type": "markdown",
      "metadata": {
        "id": "7DUVSju3WyrG",
        "colab_type": "text"
      },
      "source": [
        "### Bootstrap hypothesis test\n",
        "Pipeline: state null hypotheses, define test statistic, generate simulated data, compute the test statistic for each simulated data set, the overall p value is the percentage of teh simulated data that has a test statistic that is at least as large as the test statistic."
      ]
    },
    {
      "cell_type": "code",
      "metadata": {
        "id": "I0yM8oejW1cQ",
        "colab_type": "code",
        "colab": {
          "base_uri": "https://localhost:8080/",
          "height": 232
        },
        "outputId": "a5fdc457-41f1-42b3-de3d-4d0395cc55ab"
      },
      "source": [
        "# Make an array of translated impact forces: translated_force_b\n",
        "translated_force_b = force_b - np.mean(force_b) + 0.55\n",
        "\n",
        "# Take bootstrap replicates of Frog B's translated impact forces: bs_replicates\n",
        "bs_replicates = draw_bs_reps(translated_force_b, np.mean, 10000)\n",
        "\n",
        "# Compute fraction of replicates that are less than the observed Frog B force: p\n",
        "p = np.sum(bs_replicates <= np.mean(force_b)) / 10000\n",
        "\n",
        "# Print the p-value\n",
        "print('p = ', p)"
      ],
      "execution_count": null,
      "outputs": [
        {
          "output_type": "error",
          "ename": "NameError",
          "evalue": "ignored",
          "traceback": [
            "\u001b[0;31m---------------------------------------------------------------------------\u001b[0m",
            "\u001b[0;31mNameError\u001b[0m                                 Traceback (most recent call last)",
            "\u001b[0;32m<ipython-input-68-ae92417d8909>\u001b[0m in \u001b[0;36m<module>\u001b[0;34m()\u001b[0m\n\u001b[1;32m      1\u001b[0m \u001b[0;31m# Make an array of translated impact forces: translated_force_b\u001b[0m\u001b[0;34m\u001b[0m\u001b[0;34m\u001b[0m\u001b[0;34m\u001b[0m\u001b[0m\n\u001b[0;32m----> 2\u001b[0;31m \u001b[0mtranslated_force_b\u001b[0m \u001b[0;34m=\u001b[0m \u001b[0mforce_b\u001b[0m \u001b[0;34m-\u001b[0m \u001b[0mnp\u001b[0m\u001b[0;34m.\u001b[0m\u001b[0mmean\u001b[0m\u001b[0;34m(\u001b[0m\u001b[0mforce_b\u001b[0m\u001b[0;34m)\u001b[0m \u001b[0;34m+\u001b[0m \u001b[0;36m0.55\u001b[0m\u001b[0;34m\u001b[0m\u001b[0;34m\u001b[0m\u001b[0m\n\u001b[0m\u001b[1;32m      3\u001b[0m \u001b[0;34m\u001b[0m\u001b[0m\n\u001b[1;32m      4\u001b[0m \u001b[0;31m# Take bootstrap replicates of Frog B's translated impact forces: bs_replicates\u001b[0m\u001b[0;34m\u001b[0m\u001b[0;34m\u001b[0m\u001b[0;34m\u001b[0m\u001b[0m\n\u001b[1;32m      5\u001b[0m \u001b[0mbs_replicates\u001b[0m \u001b[0;34m=\u001b[0m \u001b[0mdraw_bs_reps\u001b[0m\u001b[0;34m(\u001b[0m\u001b[0mtranslated_force_b\u001b[0m\u001b[0;34m,\u001b[0m \u001b[0mnp\u001b[0m\u001b[0;34m.\u001b[0m\u001b[0mmean\u001b[0m\u001b[0;34m,\u001b[0m \u001b[0;36m10000\u001b[0m\u001b[0;34m)\u001b[0m\u001b[0;34m\u001b[0m\u001b[0;34m\u001b[0m\u001b[0m\n",
            "\u001b[0;31mNameError\u001b[0m: name 'force_b' is not defined"
          ]
        }
      ]
    },
    {
      "cell_type": "code",
      "metadata": {
        "id": "yvbJTkKjeyzI",
        "colab_type": "code",
        "colab": {
          "base_uri": "https://localhost:8080/",
          "height": 232
        },
        "outputId": "71d6f12c-173b-4199-bbb0-10cedf0b59cc"
      },
      "source": [
        "# Compute mean of all forces: mean_force\n",
        "mean_force = np.mean(forces_concat)\n",
        "\n",
        "# Generate shifted arrays\n",
        "force_a_shifted = force_a - np.mean(force_a) + mean_force\n",
        "force_b_shifted = force_b - np.mean(force_b) + mean_force\n",
        "\n",
        "# Compute 10,000 bootstrap replicates from shifted arrays\n",
        "bs_replicates_a = draw_bs_reps(force_a_shifted, np.mean, size=10000)\n",
        "bs_replicates_b = draw_bs_reps(force_b_shifted, np.mean, size=10000)\n",
        "\n",
        "# Get replicates of difference of means: bs_replicates\n",
        "bs_replicates = bs_replicates_a - bs_replicates_b\n",
        "\n",
        "# Compute and print p-value: p\n",
        "p = np.sum(bs_replicates >= empirical_diff_means) / len(bs_replicates)\n",
        "print('p-value =', p)"
      ],
      "execution_count": null,
      "outputs": [
        {
          "output_type": "error",
          "ename": "NameError",
          "evalue": "ignored",
          "traceback": [
            "\u001b[0;31m---------------------------------------------------------------------------\u001b[0m",
            "\u001b[0;31mNameError\u001b[0m                                 Traceback (most recent call last)",
            "\u001b[0;32m<ipython-input-69-69bb7ca9904f>\u001b[0m in \u001b[0;36m<module>\u001b[0;34m()\u001b[0m\n\u001b[1;32m      1\u001b[0m \u001b[0;31m# Compute mean of all forces: mean_force\u001b[0m\u001b[0;34m\u001b[0m\u001b[0;34m\u001b[0m\u001b[0;34m\u001b[0m\u001b[0m\n\u001b[0;32m----> 2\u001b[0;31m \u001b[0mmean_force\u001b[0m \u001b[0;34m=\u001b[0m \u001b[0mnp\u001b[0m\u001b[0;34m.\u001b[0m\u001b[0mmean\u001b[0m\u001b[0;34m(\u001b[0m\u001b[0mforces_concat\u001b[0m\u001b[0;34m)\u001b[0m\u001b[0;34m\u001b[0m\u001b[0;34m\u001b[0m\u001b[0m\n\u001b[0m\u001b[1;32m      3\u001b[0m \u001b[0;34m\u001b[0m\u001b[0m\n\u001b[1;32m      4\u001b[0m \u001b[0;31m# Generate shifted arrays\u001b[0m\u001b[0;34m\u001b[0m\u001b[0;34m\u001b[0m\u001b[0;34m\u001b[0m\u001b[0m\n\u001b[1;32m      5\u001b[0m \u001b[0mforce_a_shifted\u001b[0m \u001b[0;34m=\u001b[0m \u001b[0mforce_a\u001b[0m \u001b[0;34m-\u001b[0m \u001b[0mnp\u001b[0m\u001b[0;34m.\u001b[0m\u001b[0mmean\u001b[0m\u001b[0;34m(\u001b[0m\u001b[0mforce_a\u001b[0m\u001b[0;34m)\u001b[0m \u001b[0;34m+\u001b[0m \u001b[0mmean_force\u001b[0m\u001b[0;34m\u001b[0m\u001b[0;34m\u001b[0m\u001b[0m\n",
            "\u001b[0;31mNameError\u001b[0m: name 'forces_concat' is not defined"
          ]
        }
      ]
    },
    {
      "cell_type": "markdown",
      "metadata": {
        "id": "vMWMqyn5feJ7",
        "colab_type": "text"
      },
      "source": [
        "# Hypothesis test examples\n",
        "### A/B test examples\n",
        "A/B testing: using hypothesis testing to see if there is a statistically significant difference between the data of two different groups observations.\n"
      ]
    },
    {
      "cell_type": "code",
      "metadata": {
        "id": "UNnp26JliCRk",
        "colab_type": "code",
        "colab": {}
      },
      "source": [
        "# Construct arrays of data: dems, reps\n",
        "dems = np.array([True] * 153 + [False] * 91)\n",
        "reps = np.array([True] * 136 + [False] * 35)\n",
        "\n",
        "def frac_yea_dems(dems, reps):\n",
        "    \"\"\"Compute fraction of Democrat yea votes.\"\"\"\n",
        "    frac = np.sum(dems)/len(dems)\n",
        "    return frac\n",
        "\n",
        "# Acquire permutation samples: perm_replicates\n",
        "perm_replicates = draw_perm_reps(dems, reps, frac_yea_dems, size=10000)\n",
        "\n",
        "# Compute and print p-value: p\n",
        "p = np.sum(perm_replicates <= 153/244) / len(perm_replicates)\n",
        "print('p-value =', p)"
      ],
      "execution_count": null,
      "outputs": []
    },
    {
      "cell_type": "code",
      "metadata": {
        "id": "dfo0DTPNp6cj",
        "colab_type": "code",
        "colab": {}
      },
      "source": [
        "# Compute the observed difference in mean inter-no-hitter times: nht_diff_obs\n",
        "nht_diff_obs = diff_of_means(nht_dead, nht_live)\n",
        "\n",
        "# Acquire 10,000 permutation replicates of difference in mean no-hitter time: perm_replicates\n",
        "perm_replicates = draw_perm_reps(nht_dead, nht_live,diff_of_means, 10000 )\n",
        "\n",
        "\n",
        "# Compute and print the p-value: p\n",
        "p = np.sum(perm_replicates <= nht_diff_obs)/len(perm_replicates)\n",
        "print('p-val =', p)"
      ],
      "execution_count": null,
      "outputs": []
    },
    {
      "cell_type": "markdown",
      "metadata": {
        "id": "g7-p2TM5qIjL",
        "colab_type": "text"
      },
      "source": [
        "### Test of correlation"
      ]
    },
    {
      "cell_type": "code",
      "metadata": {
        "id": "23Aqi2M1qKM9",
        "colab_type": "code",
        "colab": {}
      },
      "source": [
        "# Compute observed correlation: r_obs\n",
        "r_obs = pearson_r(illiteracy, fertility)\n",
        "\n",
        "# Initialize permutation replicates: perm_replicates\n",
        "perm_replicates = np.empty(10000)\n",
        "\n",
        "# Draw replicates\n",
        "for i in range(10000):\n",
        "    # Permute illiteracy measurments: illiteracy_permuted\n",
        "    illiteracy_permuted = np.random.permutation(illiteracy)\n",
        "\n",
        "    # Compute Pearson correlation\n",
        "    perm_replicates[i] = pearson_r(illiteracy_permuted, fertility)\n",
        "\n",
        "# Compute p-value: p\n",
        "p = np.sum(perm_replicates >= r_obs)/len(perm_replicates)\n",
        "print('p-val =', p)"
      ],
      "execution_count": null,
      "outputs": []
    },
    {
      "cell_type": "code",
      "metadata": {
        "id": "YFZq6914uHHa",
        "colab_type": "code",
        "colab": {}
      },
      "source": [
        "# Compute x,y values for ECDFs\n",
        "x_control, y_control = ecdf(control)\n",
        "x_treated, y_treated = ecdf(treated)\n",
        "\n",
        "# Plot the ECDFs\n",
        "plt.plot(x_control, y_control, marker='.', linestyle='none')\n",
        "plt.plot(x_treated, y_treated, marker='.', linestyle='none')\n",
        "\n",
        "# Set the margins\n",
        "plt.margins(0.02)\n",
        "\n",
        "# Add a legend\n",
        "plt.legend(('control', 'treated'), loc='lower right')\n",
        "\n",
        "# Label axes and show plot\n",
        "plt.xlabel('millions of alive sperm per mL')\n",
        "plt.ylabel('ECDF')\n",
        "plt.show()"
      ],
      "execution_count": null,
      "outputs": []
    },
    {
      "cell_type": "code",
      "metadata": {
        "id": "k9BwTiJbwicL",
        "colab_type": "code",
        "colab": {}
      },
      "source": [
        "# Compute the difference in mean sperm count: diff_means\n",
        "diff_means = np.mean(control) - np.mean(treated)\n",
        "\n",
        "# Compute mean of pooled data: mean_count\n",
        "mean_count = np.mean(np.concatenate((control, treated)))\n",
        "\n",
        "# Generate shifted data sets\n",
        "control_shifted = control - np.mean(control) + mean_count\n",
        "treated_shifted = treated - np.mean(treated) + mean_count\n",
        "\n",
        "# Generate bootstrap replicates\n",
        "bs_reps_control = draw_bs_reps(control_shifted,\n",
        "                               np.mean, size=10000)\n",
        "bs_reps_treated = draw_bs_reps(treated_shifted,\n",
        "                               np.mean, size=10000)\n",
        "\n",
        "# Get replicates of difference of means: bs_replicates\n",
        "bs_replicates = bs_reps_control - bs_reps_treated\n",
        "\n",
        "# Compute and print p-value: p\n",
        "p = np.sum(bs_replicates >= np.mean(control) - np.mean(treated)) \\\n",
        "            / len(bs_replicates)\n",
        "print('p-value =', p)"
      ],
      "execution_count": null,
      "outputs": []
    },
    {
      "cell_type": "markdown",
      "metadata": {
        "id": "R960nFYnwpOS",
        "colab_type": "text"
      },
      "source": [
        "# Putting it all together: a case study\n",
        "### Finch beaks and the need for case studies\n"
      ]
    },
    {
      "cell_type": "code",
      "metadata": {
        "id": "lgb_a1pwwtNL",
        "colab_type": "code",
        "colab": {
          "base_uri": "https://localhost:8080/",
          "height": 142
        },
        "outputId": "d2f820f2-ed43-42f6-c936-123530651e9a"
      },
      "source": [
        "beaks2012 = pd.read_csv('finch_beaks_2012.csv')\n",
        "beaks2012['year'] = '2012'\n",
        "beaks2012.head(3)"
      ],
      "execution_count": null,
      "outputs": [
        {
          "output_type": "execute_result",
          "data": {
            "text/html": [
              "<div>\n",
              "<style scoped>\n",
              "    .dataframe tbody tr th:only-of-type {\n",
              "        vertical-align: middle;\n",
              "    }\n",
              "\n",
              "    .dataframe tbody tr th {\n",
              "        vertical-align: top;\n",
              "    }\n",
              "\n",
              "    .dataframe thead th {\n",
              "        text-align: right;\n",
              "    }\n",
              "</style>\n",
              "<table border=\"1\" class=\"dataframe\">\n",
              "  <thead>\n",
              "    <tr style=\"text-align: right;\">\n",
              "      <th></th>\n",
              "      <th>band</th>\n",
              "      <th>species</th>\n",
              "      <th>blength</th>\n",
              "      <th>bdepth</th>\n",
              "      <th>year</th>\n",
              "    </tr>\n",
              "  </thead>\n",
              "  <tbody>\n",
              "    <tr>\n",
              "      <th>0</th>\n",
              "      <td>19022</td>\n",
              "      <td>fortis</td>\n",
              "      <td>10.0</td>\n",
              "      <td>8.5</td>\n",
              "      <td>2012</td>\n",
              "    </tr>\n",
              "    <tr>\n",
              "      <th>1</th>\n",
              "      <td>19028</td>\n",
              "      <td>fortis</td>\n",
              "      <td>12.5</td>\n",
              "      <td>8.9</td>\n",
              "      <td>2012</td>\n",
              "    </tr>\n",
              "    <tr>\n",
              "      <th>2</th>\n",
              "      <td>19032</td>\n",
              "      <td>fortis</td>\n",
              "      <td>9.3</td>\n",
              "      <td>7.5</td>\n",
              "      <td>2012</td>\n",
              "    </tr>\n",
              "  </tbody>\n",
              "</table>\n",
              "</div>"
            ],
            "text/plain": [
              "    band species  blength  bdepth  year\n",
              "0  19022  fortis     10.0     8.5  2012\n",
              "1  19028  fortis     12.5     8.9  2012\n",
              "2  19032  fortis      9.3     7.5  2012"
            ]
          },
          "metadata": {
            "tags": []
          },
          "execution_count": 70
        }
      ]
    },
    {
      "cell_type": "code",
      "metadata": {
        "id": "KmB6bls0G39y",
        "colab_type": "code",
        "colab": {
          "base_uri": "https://localhost:8080/",
          "height": 142
        },
        "outputId": "7171d276-6216-4da8-870e-2070a184590e"
      },
      "source": [
        "beaks1975 = pd.read_csv('finch_beaks_1975.csv')\n",
        "beaks1975['year'] = '1975'\n",
        "columns = ['band','species','blength','bdepth','year']\n",
        "beaks1975.columns = columns\n",
        "beaks1975.head(3)"
      ],
      "execution_count": null,
      "outputs": [
        {
          "output_type": "execute_result",
          "data": {
            "text/html": [
              "<div>\n",
              "<style scoped>\n",
              "    .dataframe tbody tr th:only-of-type {\n",
              "        vertical-align: middle;\n",
              "    }\n",
              "\n",
              "    .dataframe tbody tr th {\n",
              "        vertical-align: top;\n",
              "    }\n",
              "\n",
              "    .dataframe thead th {\n",
              "        text-align: right;\n",
              "    }\n",
              "</style>\n",
              "<table border=\"1\" class=\"dataframe\">\n",
              "  <thead>\n",
              "    <tr style=\"text-align: right;\">\n",
              "      <th></th>\n",
              "      <th>band</th>\n",
              "      <th>species</th>\n",
              "      <th>blength</th>\n",
              "      <th>bdepth</th>\n",
              "      <th>year</th>\n",
              "    </tr>\n",
              "  </thead>\n",
              "  <tbody>\n",
              "    <tr>\n",
              "      <th>0</th>\n",
              "      <td>2</td>\n",
              "      <td>fortis</td>\n",
              "      <td>9.4</td>\n",
              "      <td>8.0</td>\n",
              "      <td>1975</td>\n",
              "    </tr>\n",
              "    <tr>\n",
              "      <th>1</th>\n",
              "      <td>9</td>\n",
              "      <td>fortis</td>\n",
              "      <td>9.2</td>\n",
              "      <td>8.3</td>\n",
              "      <td>1975</td>\n",
              "    </tr>\n",
              "    <tr>\n",
              "      <th>2</th>\n",
              "      <td>12</td>\n",
              "      <td>fortis</td>\n",
              "      <td>9.5</td>\n",
              "      <td>7.5</td>\n",
              "      <td>1975</td>\n",
              "    </tr>\n",
              "  </tbody>\n",
              "</table>\n",
              "</div>"
            ],
            "text/plain": [
              "   band species  blength  bdepth  year\n",
              "0     2  fortis      9.4     8.0  1975\n",
              "1     9  fortis      9.2     8.3  1975\n",
              "2    12  fortis      9.5     7.5  1975"
            ]
          },
          "metadata": {
            "tags": []
          },
          "execution_count": 71
        }
      ]
    },
    {
      "cell_type": "code",
      "metadata": {
        "id": "1H8-yZUKHAJ8",
        "colab_type": "code",
        "colab": {
          "base_uri": "https://localhost:8080/",
          "height": 153
        },
        "outputId": "e317ec06-38e4-48a7-ecac-20267ba4fdaa"
      },
      "source": [
        "fortis1975 = beaks1975[beaks1975.species == 'fortis']\n",
        "fortis2012 = beaks2012[beaks2012.species == 'fortis']\n",
        "concat_fortis = pd.concat([fortis1975,fortis2012], ignore_index=True)\n",
        "concat_fortis.head(3), concat_fortis.tail(3)"
      ],
      "execution_count": null,
      "outputs": [
        {
          "output_type": "execute_result",
          "data": {
            "text/plain": [
              "(   band species  blength  bdepth  year\n",
              " 0     2  fortis      9.4     8.0  1975\n",
              " 1     9  fortis      9.2     8.3  1975\n",
              " 2    12  fortis      9.5     7.5  1975,\n",
              "       band species  blength  bdepth  year\n",
              " 434  21343  fortis     10.1     8.2  2012\n",
              " 435  21349  fortis     10.6     9.2  2012\n",
              " 436  22000  fortis     10.6     9.0  2012)"
            ]
          },
          "metadata": {
            "tags": []
          },
          "execution_count": 72
        }
      ]
    },
    {
      "cell_type": "code",
      "metadata": {
        "id": "pRJ0jT8KKjsB",
        "colab_type": "code",
        "colab": {
          "base_uri": "https://localhost:8080/",
          "height": 34
        },
        "outputId": "deec10de-a6e4-466e-ff12-a9d4fc51ebfc"
      },
      "source": [
        "concat_fortis.columns"
      ],
      "execution_count": null,
      "outputs": [
        {
          "output_type": "execute_result",
          "data": {
            "text/plain": [
              "Index(['band', 'species', 'blength', 'bdepth', 'year'], dtype='object')"
            ]
          },
          "metadata": {
            "tags": []
          },
          "execution_count": 73
        }
      ]
    },
    {
      "cell_type": "code",
      "metadata": {
        "id": "M5o-WOn0MqHa",
        "colab_type": "code",
        "colab": {
          "base_uri": "https://localhost:8080/",
          "height": 119
        },
        "outputId": "f7086578-8b4a-4350-8c9d-3d7416bc0834"
      },
      "source": [
        "concat_fortis.dtypes"
      ],
      "execution_count": null,
      "outputs": [
        {
          "output_type": "execute_result",
          "data": {
            "text/plain": [
              "band         int64\n",
              "species     object\n",
              "blength    float64\n",
              "bdepth     float64\n",
              "year        object\n",
              "dtype: object"
            ]
          },
          "metadata": {
            "tags": []
          },
          "execution_count": 74
        }
      ]
    },
    {
      "cell_type": "code",
      "metadata": {
        "id": "OAKa98GCO_Bb",
        "colab_type": "code",
        "colab": {
          "base_uri": "https://localhost:8080/",
          "height": 34
        },
        "outputId": "89c9f796-41b9-48e1-8b2f-fa91ec1a2be0"
      },
      "source": [
        "type(concat_fortis)"
      ],
      "execution_count": null,
      "outputs": [
        {
          "output_type": "execute_result",
          "data": {
            "text/plain": [
              "pandas.core.frame.DataFrame"
            ]
          },
          "metadata": {
            "tags": []
          },
          "execution_count": 75
        }
      ]
    },
    {
      "cell_type": "code",
      "metadata": {
        "id": "hf5sHWblIA8E",
        "colab_type": "code",
        "colab": {
          "base_uri": "https://localhost:8080/",
          "height": 285
        },
        "outputId": "855fef5e-2fb6-459d-ea10-4a08bba410c5"
      },
      "source": [
        "_ = sns.swarmplot(x='year',y='bdepth',data=concat_fortis)\n",
        "\n",
        "# Label the axes\n",
        "_ = plt.xlabel('year')\n",
        "_ = plt.ylabel('beak depth (mm)')\n",
        "\n",
        "# Show the plot\n",
        "plt.show()"
      ],
      "execution_count": null,
      "outputs": [
        {
          "output_type": "display_data",
          "data": {
            "image/png": "[encoded data removed]",
            "text/plain": [
              "<Figure size 432x288 with 1 Axes>"
            ]
          },
          "metadata": {
            "tags": []
          }
        }
      ]
    },
    {
      "cell_type": "code",
      "metadata": {
        "id": "IcjHTuc2PKDO",
        "colab_type": "code",
        "colab": {
          "base_uri": "https://localhost:8080/",
          "height": 221
        },
        "outputId": "b37e8781-e41d-4775-e806-a6facbaf9775"
      },
      "source": [
        "bd_1975 = concat_fortis.bdepth[concat_fortis.year == '1975']\n",
        "bd_1975"
      ],
      "execution_count": null,
      "outputs": [
        {
          "output_type": "execute_result",
          "data": {
            "text/plain": [
              "0       8.00\n",
              "1       8.30\n",
              "2       7.50\n",
              "3       8.00\n",
              "4       9.90\n",
              "       ...  \n",
              "311     8.45\n",
              "312     8.85\n",
              "313    10.25\n",
              "314     9.75\n",
              "315     8.95\n",
              "Name: bdepth, Length: 316, dtype: float64"
            ]
          },
          "metadata": {
            "tags": []
          },
          "execution_count": 77
        }
      ]
    },
    {
      "cell_type": "code",
      "metadata": {
        "id": "888BepzPPN4z",
        "colab_type": "code",
        "colab": {
          "base_uri": "https://localhost:8080/",
          "height": 221
        },
        "outputId": "58b77538-2e30-42d0-af32-54dd16b7219f"
      },
      "source": [
        "bd_2012 = concat_fortis.bdepth[concat_fortis.year == '2012']\n",
        "bd_2012"
      ],
      "execution_count": null,
      "outputs": [
        {
          "output_type": "execute_result",
          "data": {
            "text/plain": [
              "316    8.5\n",
              "317    8.9\n",
              "318    7.5\n",
              "319    9.6\n",
              "320    9.2\n",
              "      ... \n",
              "432    7.8\n",
              "433    8.5\n",
              "434    8.2\n",
              "435    9.2\n",
              "436    9.0\n",
              "Name: bdepth, Length: 121, dtype: float64"
            ]
          },
          "metadata": {
            "tags": []
          },
          "execution_count": 78
        }
      ]
    },
    {
      "cell_type": "code",
      "metadata": {
        "id": "bAIySJVlKdfr",
        "colab_type": "code",
        "colab": {
          "base_uri": "https://localhost:8080/",
          "height": 285
        },
        "outputId": "d9ceb8e2-1194-4509-966a-992b44d20dba"
      },
      "source": [
        "\n",
        "# Compute ECDFs\n",
        "x_1975, y_1975 = ecdf(bd_1975)\n",
        "x_2012, y_2012 = ecdf(bd_2012)\n",
        "\n",
        "# Plot the ECDFs\n",
        "_ = plt.plot(x_1975, y_1975, marker='.', linestyle='none')\n",
        "_ = plt.plot(x_2012, y_2012, marker='.', linestyle='none')\n",
        "\n",
        "# Set margins\n",
        "plt.margins(.02)\n",
        "\n",
        "# Add axis labels and legend\n",
        "_ = plt.xlabel('beak depth (mm)')\n",
        "_ = plt.ylabel('ECDF')\n",
        "_ = plt.legend(('1975', '2012'), loc='lower right')\n",
        "\n",
        "# Show the plot\n",
        "plt.show()      # Why is there no plot for bdepth of 1975?"
      ],
      "execution_count": null,
      "outputs": [
        {
          "output_type": "display_data",
          "data": {
            "image/png": "[encoded data removed]",
            "text/plain": [
              "<Figure size 432x288 with 1 Axes>"
            ]
          },
          "metadata": {
            "tags": []
          }
        }
      ]
    },
    {
      "cell_type": "code",
      "metadata": {
        "id": "XkwotRmdL1ps",
        "colab_type": "code",
        "colab": {
          "base_uri": "https://localhost:8080/",
          "height": 34
        },
        "outputId": "eb26dae3-4236-4c67-ad38-785886a20506"
      },
      "source": [
        "np.mean(bd_1975)"
      ],
      "execution_count": null,
      "outputs": [
        {
          "output_type": "execute_result",
          "data": {
            "text/plain": [
              "9.171645569620255"
            ]
          },
          "metadata": {
            "tags": []
          },
          "execution_count": 80
        }
      ]
    },
    {
      "cell_type": "code",
      "metadata": {
        "id": "jLKpqxydM2gD",
        "colab_type": "code",
        "colab": {
          "base_uri": "https://localhost:8080/",
          "height": 51
        },
        "outputId": "84ce3a95-1240-48f9-8532-8866ae453479"
      },
      "source": [
        "# Compute the difference of the sample means: mean_diff\n",
        "mean_diff = np.mean(bd_1975) - np.mean(bd_2012)\n",
        "\n",
        "# Get bootstrap replicates of means\n",
        "bs_replicates_1975 = draw_bs_reps(bd_1975, np.mean, 10000)\n",
        "bs_replicates_2012 = draw_bs_reps(bd_2012, np.mean, 10000)\n",
        "\n",
        "# Compute samples of difference of means: bs_diff_replicates\n",
        "bs_diff_replicates = bs_replicates_1975 - bs_replicates_2012\n",
        "\n",
        "# Compute 95% confidence interval: conf_int\n",
        "conf_int = np.percentile(bs_diff_replicates,[2.5,97.5])\n",
        "\n",
        "# Print the results\n",
        "print('difference of means =', mean_diff, 'mm')\n",
        "print('95% confidence interval =', conf_int, 'mm')"
      ],
      "execution_count": null,
      "outputs": [
        {
          "output_type": "stream",
          "text": [
            "difference of means = 0.5662736687938086 mm\n",
            "95% confidence interval = [0.41160193 0.71504599] mm\n"
          ],
          "name": "stdout"
        }
      ]
    },
    {
      "cell_type": "code",
      "metadata": {
        "id": "UluNlW4WR1Gz",
        "colab_type": "code",
        "colab": {
          "base_uri": "https://localhost:8080/",
          "height": 34
        },
        "outputId": "4df46602-8dcb-435a-b96b-2491a25aef5f"
      },
      "source": [
        "# Compute mean of combined data set: combined_mean\n",
        "combined_mean = np.mean(np.concatenate((bd_1975, bd_2012)))\n",
        "\n",
        "# Shift the samples\n",
        "bd_1975_shifted = bd_1975 -np.mean(bd_1975) + combined_mean\n",
        "bd_2012_shifted = bd_2012 - np.mean(bd_2012) + combined_mean\n",
        "\n",
        "# Get bootstrap replicates of shifted data sets\n",
        "bs_replicates_1975 = draw_bs_reps(bd_1975_shifted, np.mean, 10000)\n",
        "bs_replicates_2012 = draw_bs_reps(bd_2012_shifted, np.mean, 10000)\n",
        "\n",
        "# Compute replicates of difference of means: bs_diff_replicates\n",
        "bs_diff_replicates = bs_replicates_2012 - bs_replicates_1975\n",
        "\n",
        "# Compute the p-value\n",
        "p = np.sum(bs_diff_replicates >= mean_diff) / len(bs_diff_replicates)\n",
        "\n",
        "# Print p-value\n",
        "print('p =', p)"
      ],
      "execution_count": null,
      "outputs": [
        {
          "output_type": "stream",
          "text": [
            "p = 0.0\n"
          ],
          "name": "stdout"
        }
      ]
    },
    {
      "cell_type": "markdown",
      "metadata": {
        "id": "A6KQADsxYMt_",
        "colab_type": "text"
      },
      "source": [
        "### Variation in beak shapes"
      ]
    },
    {
      "cell_type": "code",
      "metadata": {
        "id": "QupkhDcYVICr",
        "colab_type": "code",
        "colab": {}
      },
      "source": [
        "bl_1975 = concat_fortis.blength[concat_fortis.year == '1975']\n",
        "bl_2012 = concat_fortis.blength[concat_fortis.year == '2012']"
      ],
      "execution_count": null,
      "outputs": []
    },
    {
      "cell_type": "code",
      "metadata": {
        "id": "CqLuON1Eemma",
        "colab_type": "code",
        "colab": {
          "base_uri": "https://localhost:8080/",
          "height": 285
        },
        "outputId": "7989994c-f874-4af9-9e39-d80b3ed79bcd"
      },
      "source": [
        "# Make scatter plot of 1975 data\n",
        "_ = plt.scatter(bl_1975, bd_1975, marker='.',\n",
        "             linestyle='None', color='blue', alpha=0.5)\n",
        "\n",
        "# Make scatter plot of 2012 data\n",
        "_ = plt.scatter(bl_2012, bd_2012, marker='.',\n",
        "             linestyle='None', color='red', alpha=0.5)\n",
        "\n",
        "# Label axes and make legend\n",
        "_ = plt.xlabel('beak length (mm)')\n",
        "_ = plt.ylabel('beak depth (mm)')\n",
        "_ = plt.legend(('1975', '2012'), loc='upper left')\n",
        "\n",
        "# Show the plot\n",
        "plt.show()"
      ],
      "execution_count": null,
      "outputs": [
        {
          "output_type": "display_data",
          "data": {
            "image/png": "[encoded data removed]",
            "text/plain": [
              "<Figure size 432x288 with 1 Axes>"
            ]
          },
          "metadata": {
            "tags": []
          }
        }
      ]
    },
    {
      "cell_type": "code",
      "metadata": {
        "id": "i3YKamvie37h",
        "colab_type": "code",
        "colab": {
          "base_uri": "https://localhost:8080/",
          "height": 85
        },
        "outputId": "3f367351-059a-4902-f8b7-b27749a811a3"
      },
      "source": [
        "# Compute the linear regressions\n",
        "slope_1975, intercept_1975 = np.polyfit(bl_1975, bd_1975, 1)\n",
        "slope_2012, intercept_2012 = np.polyfit(bl_2012, bd_2012, 1)\n",
        "\n",
        "# Perform pairs bootstrap for the linear regressions\n",
        "bs_slope_reps_1975, bs_intercept_reps_1975 = draw_bs_pairs_linreg(bl_1975, bd_1975, 1000)\n",
        "bs_slope_reps_2012, bs_intercept_reps_2012 = draw_bs_pairs_linreg(bl_1975, bd_1975, 1000) # Had to change to 1975 values to get to work\n",
        "\n",
        "# Compute confidence intervals of slopes\n",
        "slope_conf_int_1975 = np.percentile(bs_slope_reps_1975,[2.5,97.5])\n",
        "slope_conf_int_2012 = np.percentile(bs_slope_reps_2012,[2.5,97.5])\n",
        "intercept_conf_int_1975 = np.percentile(bs_intercept_reps_1975,[2.5,97.5])\n",
        "\n",
        "intercept_conf_int_2012 = np.percentile(bs_intercept_reps_2012,[2.5,97.5])\n",
        "\n",
        "\n",
        "# Print the results\n",
        "print('1975: slope =', slope_1975,\n",
        "      'conf int =', slope_conf_int_1975)\n",
        "print('1975: intercept =', intercept_1975,\n",
        "      'conf int =', intercept_conf_int_1975)\n",
        "print('2012: slope =', slope_2012,\n",
        "      'conf int =', slope_conf_int_2012)\n",
        "print('2012: intercept =', intercept_2012,\n",
        "      'conf int =', intercept_conf_int_2012) # I don't know why this isnt' working when it worked in dc console"
      ],
      "execution_count": null,
      "outputs": [
        {
          "output_type": "stream",
          "text": [
            "1975: slope = 0.9006947853756156 conf int = [0.83508696 0.96632763]\n",
            "1975: intercept = -0.34436585587035207 conf int = [-1.05007127  0.33043357]\n",
            "2012: slope = 0.6561040669149377 conf int = [0.83128039 0.96309981]\n",
            "2012: intercept = 1.704892268132645 conf int = [-1.01083365  0.38525611]\n"
          ],
          "name": "stdout"
        }
      ]
    },
    {
      "cell_type": "code",
      "metadata": {
        "id": "zUIL0joojY7Y",
        "colab_type": "code",
        "colab": {
          "base_uri": "https://localhost:8080/",
          "height": 287
        },
        "outputId": "c951fa70-5884-474a-d97a-daf4e8de8a89"
      },
      "source": [
        "# Make scatter plot of 1975 data\n",
        "_ = plt.plot(bl_1975, bd_1975, marker='.',\n",
        "             linestyle='none', color='blue', alpha=0.5)\n",
        "\n",
        "# Make scatter plot of 2012 data\n",
        "_ = plt.plot(bl_2012, bd_2012, marker='.',\n",
        "             linestyle='none', color='red', alpha=0.5)\n",
        "\n",
        "# Label axes and make legend\n",
        "_ = plt.xlabel('beak length (mm)')\n",
        "_ = plt.ylabel('beak depth (mm)')\n",
        "_ = plt.legend(('1975', '2012'), loc='upper left')\n",
        "\n",
        "# Generate x-values for bootstrap lines: x\n",
        "x = np.array([10, 17])\n",
        "\n",
        "# Plot the bootstrap lines\n",
        "for i in range(100):\n",
        "    plt.plot(x, bs_slope_reps_1975[i]*x+bs_intercept_reps_1975[i],\n",
        "             linewidth=0.5, alpha=0.2, color='blue')\n",
        "    plt.plot(x, bs_slope_reps_2012[i]*x+bs_intercept_reps_2012[i],\n",
        "             linewidth=0.5, alpha=0.2, color='red')\n",
        "\n",
        "# Draw the plot again\n",
        "plt.show()"
      ],
      "execution_count": null,
      "outputs": [
        {
          "output_type": "display_data",
          "data": {
            "image/png": "[encoded data removed]",
            "text/plain": [
              "<Figure size 432x288 with 1 Axes>"
            ]
          },
          "metadata": {
            "tags": []
          }
        }
      ]
    },
    {
      "cell_type": "code",
      "metadata": {
        "id": "rJiXZePDtc5f",
        "colab_type": "code",
        "colab": {
          "base_uri": "https://localhost:8080/",
          "height": 51
        },
        "outputId": "80ded3fb-5660-419a-e000-570111b57582"
      },
      "source": [
        "# Compute length-to-depth ratios\n",
        "ratio_1975 = bl_1975/bd_1975\n",
        "ratio_2012 = bl_2012/bd_2012\n",
        "\n",
        "# Compute means\n",
        "mean_ratio_1975 = np.mean(ratio_1975)\n",
        "mean_ratio_2012 = np.mean(ratio_2012)\n",
        "\n",
        "# Generate bootstrap replicates of the means\n",
        "bs_replicates_1975 = draw_bs_reps(ratio_1975,np.mean , 10000)\n",
        "bs_replicates_2012 = draw_bs_reps(ratio_2012,np.mean , 10000)\n",
        "\n",
        "# Compute the 99% confidence intervals\n",
        "conf_int_1975 = np.percentile(bs_replicates_1975, [0.5,99.5])\n",
        "conf_int_2012 = np.percentile(bs_replicates_2012, [0.5,99.5])\n",
        "\n",
        "# Print the results\n",
        "print('1975: mean ratio =', mean_ratio_1975,\n",
        "      'conf int =', conf_int_1975)\n",
        "print('2012: mean ratio =', mean_ratio_2012,\n",
        "      'conf int =', conf_int_2012)\n"
      ],
      "execution_count": null,
      "outputs": [
        {
          "output_type": "stream",
          "text": [
            "1975: mean ratio = 1.154557328563076 conf int = [1.14672095 1.16222691]\n",
            "2012: mean ratio = 1.2250642338241673 conf int = [1.20855345 1.24202537]\n"
          ],
          "name": "stdout"
        }
      ]
    },
    {
      "cell_type": "markdown",
      "metadata": {
        "id": "-efWao1Ev4Ix",
        "colab_type": "text"
      },
      "source": [
        "### Calculation of heritability"
      ]
    },
    {
      "cell_type": "code",
      "metadata": {
        "id": "rW4hGmiJuuGI",
        "colab_type": "code",
        "colab": {}
      },
      "source": [
        "# Noway to convert downloadable data without gymnastics\n",
        "# Make scatter plots\n",
        "_ = plt.plot(bd_parent_fortis, bd_offspring_fortis,\n",
        "             marker='.', linestyle='none', color='blue', alpha=0.5)\n",
        "_ = plt.plot(bd_parent_scandens, bd_offspring_scandens,\n",
        "             marker='.', linestyle='none', color='red', alpha=0.5)\n",
        "\n",
        "# Label axes\n",
        "_ = plt.xlabel('parental beak depth (mm)')\n",
        "_ = plt.ylabel('offspring beak depth (mm)')\n",
        "\n",
        "# Add legend\n",
        "_ = plt.legend(('G. fortis', 'G. scandens'), loc='lower right')\n",
        "\n",
        "# Show plot\n",
        "plt.show()\n"
      ],
      "execution_count": null,
      "outputs": []
    },
    {
      "cell_type": "code",
      "metadata": {
        "id": "1TM9UQdtmQD5",
        "colab_type": "code",
        "colab": {}
      },
      "source": [
        "def draw_bs_pairs(x, y, func, size=1):\n",
        "    \"\"\"Perform pairs bootstrap for a single statistic.\"\"\"\n",
        "\n",
        "    # Set up array of indices to sample from: inds\n",
        "    inds = np.arange(len(x))\n",
        "\n",
        "    # Initialize replicates: bs_replicates\n",
        "    bs_replicates = np.empty(size)\n",
        "\n",
        "    # Generate replicates\n",
        "    for i in range(size):\n",
        "        bs_inds = np.random.choice(inds, size=len(inds))\n",
        "        bs_x, bs_y = x[bs_inds], y[bs_inds]\n",
        "        bs_replicates[i] = func(bs_x, bs_y)\n",
        "\n",
        "    return bs_replicates"
      ],
      "execution_count": null,
      "outputs": []
    },
    {
      "cell_type": "code",
      "metadata": {
        "id": "xboYEKCCqrUJ",
        "colab_type": "code",
        "colab": {}
      },
      "source": [
        "# Compute the Pearson correlation coefficients\n",
        "r_scandens = pearson_r(bd_parent_scandens, bd_offspring_scandens)\n",
        "r_fortis = pearson_r(bd_parent_fortis,bd_offspring_fortis)\n",
        "\n",
        "# Acquire 1000 bootstrap replicates of Pearson r\n",
        "bs_replicates_scandens = draw_bs_pairs(bd_parent_scandens, bd_offspring_scandens, pearson_r,1000)\n",
        "\n",
        "bs_replicates_fortis = draw_bs_pairs(bd_parent_fortis,bd_offspring_fortis, pearson_r,1000)\n",
        "\n",
        "\n",
        "# Compute 95% confidence intervals\n",
        "conf_int_scandens = np.percentile(bs_replicates_scandens,[2.5,97.5])\n",
        "conf_int_fortis = np.percentile(bs_replicates_fortis,[2.5,97.5])\n",
        "\n",
        "# Print results\n",
        "print('G. scandens:', r_scandens, conf_int_scandens)\n",
        "print('G. fortis:', r_fortis, conf_int_fortis)"
      ],
      "execution_count": null,
      "outputs": []
    },
    {
      "cell_type": "code",
      "metadata": {
        "id": "7yG_gzZsuSCo",
        "colab_type": "code",
        "colab": {}
      },
      "source": [
        "def heritability(parents, offspring):\n",
        "    \"\"\"Compute the heritability from parent and offspring samples.\"\"\"\n",
        "    covariance_matrix = np.cov(parents, offspring)\n",
        "    return covariance_matrix[0,1] / covariance_matrix[0,0]\n",
        "\n",
        "# Compute the heritability\n",
        "heritability_scandens = heritability(bd_parent_scandens,\n",
        "                                     bd_offspring_scandens)\n",
        "heritability_fortis = heritability(bd_parent_fortis,\n",
        "                                   bd_offspring_fortis)\n",
        "\n",
        "# Acquire 1000 bootstrap replicates of heritability\n",
        "replicates_scandens = draw_bs_pairs(\n",
        "        bd_parent_scandens, bd_offspring_scandens, heritability, size=1000)\n",
        "replicates_fortis = draw_bs_pairs(\n",
        "        bd_parent_fortis, bd_offspring_fortis, heritability, size=1000)\n",
        "\n",
        "# Compute 95% confidence intervals\n",
        "conf_int_scandens = np.percentile(replicates_scandens, [2.5, 97.5])\n",
        "conf_int_fortis = np.percentile(replicates_fortis, [2.5, 97.5])\n",
        "\n",
        "# Print results\n",
        "print('G. scandens:', heritability_scandens, conf_int_scandens)\n",
        "print('G. fortis:', heritability_fortis, conf_int_fortis)"
      ],
      "execution_count": null,
      "outputs": []
    },
    {
      "cell_type": "code",
      "metadata": {
        "id": "uEEuKT6pxMgZ",
        "colab_type": "code",
        "colab": {}
      },
      "source": [
        "# Initialize array of replicates: perm_replicates\n",
        "perm_replicates = np.empty(10000)\n",
        "\n",
        "# Draw replicates\n",
        "for i in range(10000):\n",
        "    # Permute parent beak depths\n",
        "    bd_parent_permuted = np.random.permutation(bd_parent_scandens)\n",
        "    perm_replicates[i] = heritability(bd_parent_permuted,\n",
        "                                      bd_offspring_scandens)\n",
        "\n",
        "# Compute p-value: p\n",
        "p = np.sum(perm_replicates >= heritability_scandens) / len(perm_replicates)\n",
        "\n",
        "# Print the p-value\n",
        "print('p-val =', p)"
      ],
      "execution_count": null,
      "outputs": []
    }
  ]
}