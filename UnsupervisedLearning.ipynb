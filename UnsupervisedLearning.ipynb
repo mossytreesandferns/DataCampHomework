{
  "nbformat": 4,
  "nbformat_minor": 0,
  "metadata": {
    "colab": {
      "name": "UnsupervisedLearning.ipynb",
      "provenance": [],
      "collapsed_sections": [],
      "authorship_tag": "ABX9TyNaAx19YCMvPs4Wr1ToGW1e",
      "include_colab_link": true
    },
    "kernelspec": {
      "name": "python3",
      "display_name": "Python 3"
    }
  },
  "cells": [
    {
      "cell_type": "markdown",
      "metadata": {
        "id": "view-in-github",
        "colab_type": "text"
      },
      "source": [
        "<a href=\"https://colab.research.google.com/github/mossytreesandferns/DataCampHomework/blob/master/UnsupervisedLearning.ipynb\" target=\"_parent\"><img src=\"https://colab.research.google.com/assets/colab-badge.svg\" alt=\"Open In Colab\"/></a>"
      ]
    },
    {
      "cell_type": "code",
      "metadata": {
        "id": "FygOwrpXKnEy",
        "colab_type": "code",
        "colab": {
          "base_uri": "https://localhost:8080/",
          "height": 122
        },
        "outputId": "04f46bb6-07de-45ea-c0ad-1dd3137341ec"
      },
      "source": [
        "#Mount my drive- run the code, go to the link, accept.\n",
        "from google.colab import drive\n",
        "drive.mount('/content/gdrive')"
      ],
      "execution_count": 1,
      "outputs": [
        {
          "output_type": "stream",
          "text": [
            "Go to this URL in a browser: https://accounts.google.com/o/oauth2/auth?client_id=947318989803-6bn6qk8qdgf4n4g3pfee6491hc0brc4i.apps.googleusercontent.com&redirect_uri=urn%3aietf%3awg%3aoauth%3a2.0%3aoob&response_type=code&scope=email%20https%3a%2f%2fwww.googleapis.com%2fauth%2fdocs.test%20https%3a%2f%2fwww.googleapis.com%2fauth%2fdrive%20https%3a%2f%2fwww.googleapis.com%2fauth%2fdrive.photos.readonly%20https%3a%2f%2fwww.googleapis.com%2fauth%2fpeopleapi.readonly\n",
            "\n",
            "Enter your authorization code:\n",
            "··········\n",
            "Mounted at /content/gdrive\n"
          ],
          "name": "stdout"
        }
      ]
    },
    {
      "cell_type": "code",
      "metadata": {
        "id": "MPHqBtx-Ky1U",
        "colab_type": "code",
        "colab": {
          "base_uri": "https://localhost:8080/",
          "height": 35
        },
        "outputId": "fb4190b6-df97-41c1-cc85-8af8ad720495"
      },
      "source": [
        "#Change working directory to make it easier to access the files\n",
        "import os\n",
        "os.chdir(\"/content/gdrive/My Drive/DCUnsupervisedLearning/\")\n",
        "os.getcwd()"
      ],
      "execution_count": 2,
      "outputs": [
        {
          "output_type": "execute_result",
          "data": {
            "application/vnd.google.colaboratory.intrinsic": {
              "type": "string"
            },
            "text/plain": [
              "'/content/gdrive/My Drive/DCUnsupervisedLearning'"
            ]
          },
          "metadata": {
            "tags": []
          },
          "execution_count": 2
        }
      ]
    },
    {
      "cell_type": "markdown",
      "metadata": {
        "id": "FTsDojoQKzBK",
        "colab_type": "text"
      },
      "source": [
        "# Clustering for data exploration\n",
        "### Unsupervised learning\n",
        "No labels. Pattern discovery not only pattern recognition. Number of features is number of dimensions. K means clustering. model.predict(samples) not .predict(X_test). average of cluster-> assign new data to clusters."
      ]
    },
    {
      "cell_type": "code",
      "metadata": {
        "id": "GMxNMDSLKzQ1",
        "colab_type": "code",
        "colab": {
          "base_uri": "https://localhost:8080/",
          "height": 204
        },
        "outputId": "2bd108c5-d0b4-4b59-facf-b3ebf1e2155b"
      },
      "source": [
        "# make scatterplot to look for natural clusters of data\n",
        "import pandas as pd\n",
        "import numpy as np\n",
        "import matplotlib.pyplot as plt\n",
        "\n",
        "fish = pd.read_csv('fish.csv')\n",
        "columns = ['species','weight','vertical_length','diagonal_length','cross_length','height','diagonal_width']\n",
        "fish.columns = columns\n",
        "fish.head()"
      ],
      "execution_count": 3,
      "outputs": [
        {
          "output_type": "execute_result",
          "data": {
            "text/html": [
              "<div>\n",
              "<style scoped>\n",
              "    .dataframe tbody tr th:only-of-type {\n",
              "        vertical-align: middle;\n",
              "    }\n",
              "\n",
              "    .dataframe tbody tr th {\n",
              "        vertical-align: top;\n",
              "    }\n",
              "\n",
              "    .dataframe thead th {\n",
              "        text-align: right;\n",
              "    }\n",
              "</style>\n",
              "<table border=\"1\" class=\"dataframe\">\n",
              "  <thead>\n",
              "    <tr style=\"text-align: right;\">\n",
              "      <th></th>\n",
              "      <th>species</th>\n",
              "      <th>weight</th>\n",
              "      <th>vertical_length</th>\n",
              "      <th>diagonal_length</th>\n",
              "      <th>cross_length</th>\n",
              "      <th>height</th>\n",
              "      <th>diagonal_width</th>\n",
              "    </tr>\n",
              "  </thead>\n",
              "  <tbody>\n",
              "    <tr>\n",
              "      <th>0</th>\n",
              "      <td>Bream</td>\n",
              "      <td>290.0</td>\n",
              "      <td>24.0</td>\n",
              "      <td>26.3</td>\n",
              "      <td>31.2</td>\n",
              "      <td>40.0</td>\n",
              "      <td>13.8</td>\n",
              "    </tr>\n",
              "    <tr>\n",
              "      <th>1</th>\n",
              "      <td>Bream</td>\n",
              "      <td>340.0</td>\n",
              "      <td>23.9</td>\n",
              "      <td>26.5</td>\n",
              "      <td>31.1</td>\n",
              "      <td>39.8</td>\n",
              "      <td>15.1</td>\n",
              "    </tr>\n",
              "    <tr>\n",
              "      <th>2</th>\n",
              "      <td>Bream</td>\n",
              "      <td>363.0</td>\n",
              "      <td>26.3</td>\n",
              "      <td>29.0</td>\n",
              "      <td>33.5</td>\n",
              "      <td>38.0</td>\n",
              "      <td>13.3</td>\n",
              "    </tr>\n",
              "    <tr>\n",
              "      <th>3</th>\n",
              "      <td>Bream</td>\n",
              "      <td>430.0</td>\n",
              "      <td>26.5</td>\n",
              "      <td>29.0</td>\n",
              "      <td>34.0</td>\n",
              "      <td>36.6</td>\n",
              "      <td>15.1</td>\n",
              "    </tr>\n",
              "    <tr>\n",
              "      <th>4</th>\n",
              "      <td>Bream</td>\n",
              "      <td>450.0</td>\n",
              "      <td>26.8</td>\n",
              "      <td>29.7</td>\n",
              "      <td>34.7</td>\n",
              "      <td>39.2</td>\n",
              "      <td>14.2</td>\n",
              "    </tr>\n",
              "  </tbody>\n",
              "</table>\n",
              "</div>"
            ],
            "text/plain": [
              "  species  weight  vertical_length  ...  cross_length  height  diagonal_width\n",
              "0   Bream   290.0             24.0  ...          31.2    40.0            13.8\n",
              "1   Bream   340.0             23.9  ...          31.1    39.8            15.1\n",
              "2   Bream   363.0             26.3  ...          33.5    38.0            13.3\n",
              "3   Bream   430.0             26.5  ...          34.0    36.6            15.1\n",
              "4   Bream   450.0             26.8  ...          34.7    39.2            14.2\n",
              "\n",
              "[5 rows x 7 columns]"
            ]
          },
          "metadata": {
            "tags": []
          },
          "execution_count": 3
        }
      ]
    },
    {
      "cell_type": "code",
      "metadata": {
        "id": "AuZ4VXvVSKwM",
        "colab_type": "code",
        "colab": {
          "base_uri": "https://localhost:8080/",
          "height": 265
        },
        "outputId": "962a2261-d4a9-46d6-a0ff-27ed71042d3c"
      },
      "source": [
        "weight = fish.iloc[:,1]\n",
        "length = fish.iloc[:,3]\n",
        "plt.scatter(weight, length)\n",
        "plt.show()"
      ],
      "execution_count": 4,
      "outputs": [
        {
          "output_type": "display_data",
          "data": {
            "image/png": "[encoded data removed]",
            "text/plain": [
              "<Figure size 432x288 with 1 Axes>"
            ]
          },
          "metadata": {
            "tags": [],
            "needs_background": "light"
          }
        }
      ]
    },
    {
      "cell_type": "code",
      "metadata": {
        "id": "4caOMkUFqOg_",
        "colab_type": "code",
        "colab": {
          "base_uri": "https://localhost:8080/",
          "height": 102
        },
        "outputId": "37f127db-05b8-4f7d-e267-098088b3ec62"
      },
      "source": [
        "fish.species.value_counts()"
      ],
      "execution_count": 5,
      "outputs": [
        {
          "output_type": "execute_result",
          "data": {
            "text/plain": [
              "Bream    33\n",
              "Roach    20\n",
              "Pike     17\n",
              "Smelt    14\n",
              "Name: species, dtype: int64"
            ]
          },
          "metadata": {
            "tags": []
          },
          "execution_count": 5
        }
      ]
    },
    {
      "cell_type": "code",
      "metadata": {
        "id": "m-VOXZKnqhFG",
        "colab_type": "code",
        "colab": {
          "base_uri": "https://localhost:8080/",
          "height": 153
        },
        "outputId": "11417391-378f-48b0-fbb1-73d3e712b57e"
      },
      "source": [
        "fish.isna().sum()"
      ],
      "execution_count": 6,
      "outputs": [
        {
          "output_type": "execute_result",
          "data": {
            "text/plain": [
              "species            0\n",
              "weight             0\n",
              "vertical_length    0\n",
              "diagonal_length    0\n",
              "cross_length       0\n",
              "height             0\n",
              "diagonal_width     0\n",
              "dtype: int64"
            ]
          },
          "metadata": {
            "tags": []
          },
          "execution_count": 6
        }
      ]
    },
    {
      "cell_type": "code",
      "metadata": {
        "id": "bn2h54VNTGe9",
        "colab_type": "code",
        "colab": {
          "base_uri": "https://localhost:8080/",
          "height": 68
        },
        "outputId": "75a58e98-50e5-4319-94fa-d3590e393a07"
      },
      "source": [
        "fishsize = np.array([weight,length]).reshape(len(weight),2)\n",
        "\n",
        "\n",
        "# Import KMeans\n",
        "from sklearn.cluster import KMeans\n",
        "\n",
        "# Create a KMeans instance with 3 clusters: model\n",
        "model = KMeans(n_clusters=4)\n",
        "\n",
        "# Fit model to points\n",
        "model.fit(fishsize)\n",
        "\n",
        "# Determine the cluster labels of new_points: labels\n",
        "labels = model.predict(fishsize) # Can use to predict values fro new array, e.g. new_seeds\n",
        "\n",
        "# Print cluster labels of new_points\n",
        "print(labels)"
      ],
      "execution_count": 7,
      "outputs": [
        {
          "output_type": "stream",
          "text": [
            "[0 0 0 0 0 0 1 1 1 1 1 1 1 1 1 1 0 3 3 3 3 3 3 3 3 0 3 3 3 3 3 3 3 3 0 0 0\n",
            " 0 0 1 2 2 3 3 3 3 3 3 3 3 3 3 3 3 3 3 3 3 3 3 3 3 3 3 3 3 3 3 3 3 3 3 3 3\n",
            " 3 3 3 3 3 3 3 3 3 3]\n"
          ],
          "name": "stdout"
        }
      ]
    },
    {
      "cell_type": "code",
      "metadata": {
        "id": "X2E6TT8RU6ku",
        "colab_type": "code",
        "colab": {
          "base_uri": "https://localhost:8080/",
          "height": 265
        },
        "outputId": "f213783f-82d2-455c-d3fb-b99684728d14"
      },
      "source": [
        "# Import pyplot\n",
        "import matplotlib.pyplot as plt\n",
        "\n",
        "# Assign the columns of new_points: xs and ys\n",
        "xs = fishsize[:,0]\n",
        "ys = fishsize[:,1]\n",
        "\n",
        "# Make a scatter plot of xs and ys, using labels to define the colors\n",
        "plt.scatter(xs, ys, c=labels, alpha=0.5)\n",
        "\n",
        "# Assign the cluster centers: centroids\n",
        "centroids = model.cluster_centers_\n",
        "\n",
        "# Assign the columns of centroids: centroids_x, centroids_y\n",
        "centroids_x = centroids[:,0]\n",
        "centroids_y = centroids[:,1]\n",
        "\n",
        "# Make a scatter plot of centroids_x and centroids_y\n",
        "plt.scatter(centroids_x,centroids_y,marker='D', s=50)\n",
        "plt.show()"
      ],
      "execution_count": 8,
      "outputs": [
        {
          "output_type": "display_data",
          "data": {
            "image/png": "[encoded data removed]",
            "text/plain": [
              "<Figure size 432x288 with 1 Axes>"
            ]
          },
          "metadata": {
            "tags": [],
            "needs_background": "light"
          }
        }
      ]
    },
    {
      "cell_type": "markdown",
      "metadata": {
        "id": "tSYw0z4GjqZo",
        "colab_type": "text"
      },
      "source": [
        "### Evaluating a clustering\n",
        "create a new df with predicted labels in one column and correct labels in another and crosstab.<br>\n",
        "If the data doesn't have labels, tightness of clusters is measured (lack of inertia)."
      ]
    },
    {
      "cell_type": "code",
      "metadata": {
        "id": "OxGiOUhDjNum",
        "colab_type": "code",
        "colab": {
          "base_uri": "https://localhost:8080/",
          "height": 204
        },
        "outputId": "7d32bb72-5f58-495b-96d0-c2efc20d9f81"
      },
      "source": [
        "df = pd.DataFrame({'labels': labels, 'fish': fish.species})\n",
        "df.head()"
      ],
      "execution_count": 9,
      "outputs": [
        {
          "output_type": "execute_result",
          "data": {
            "text/html": [
              "<div>\n",
              "<style scoped>\n",
              "    .dataframe tbody tr th:only-of-type {\n",
              "        vertical-align: middle;\n",
              "    }\n",
              "\n",
              "    .dataframe tbody tr th {\n",
              "        vertical-align: top;\n",
              "    }\n",
              "\n",
              "    .dataframe thead th {\n",
              "        text-align: right;\n",
              "    }\n",
              "</style>\n",
              "<table border=\"1\" class=\"dataframe\">\n",
              "  <thead>\n",
              "    <tr style=\"text-align: right;\">\n",
              "      <th></th>\n",
              "      <th>labels</th>\n",
              "      <th>fish</th>\n",
              "    </tr>\n",
              "  </thead>\n",
              "  <tbody>\n",
              "    <tr>\n",
              "      <th>0</th>\n",
              "      <td>0</td>\n",
              "      <td>Bream</td>\n",
              "    </tr>\n",
              "    <tr>\n",
              "      <th>1</th>\n",
              "      <td>0</td>\n",
              "      <td>Bream</td>\n",
              "    </tr>\n",
              "    <tr>\n",
              "      <th>2</th>\n",
              "      <td>0</td>\n",
              "      <td>Bream</td>\n",
              "    </tr>\n",
              "    <tr>\n",
              "      <th>3</th>\n",
              "      <td>0</td>\n",
              "      <td>Bream</td>\n",
              "    </tr>\n",
              "    <tr>\n",
              "      <th>4</th>\n",
              "      <td>0</td>\n",
              "      <td>Bream</td>\n",
              "    </tr>\n",
              "  </tbody>\n",
              "</table>\n",
              "</div>"
            ],
            "text/plain": [
              "   labels   fish\n",
              "0       0  Bream\n",
              "1       0  Bream\n",
              "2       0  Bream\n",
              "3       0  Bream\n",
              "4       0  Bream"
            ]
          },
          "metadata": {
            "tags": []
          },
          "execution_count": 9
        }
      ]
    },
    {
      "cell_type": "code",
      "metadata": {
        "id": "W64WdRXdmgFN",
        "colab_type": "code",
        "colab": {
          "base_uri": "https://localhost:8080/",
          "height": 187
        },
        "outputId": "cd8e357c-3c69-48d7-ab59-9005141960e9"
      },
      "source": [
        "cross = pd.crosstab(df.labels, df.fish)\n",
        "cross, fish.species.value_counts()"
      ],
      "execution_count": 10,
      "outputs": [
        {
          "output_type": "execute_result",
          "data": {
            "text/plain": [
              "(fish    Bream  Pike  Roach  Smelt\n",
              " labels                           \n",
              " 0           8     0      5      0\n",
              " 1          10     0      1      0\n",
              " 2           0     0      2      0\n",
              " 3          15    17     12     14, Bream    33\n",
              " Roach    20\n",
              " Pike     17\n",
              " Smelt    14\n",
              " Name: species, dtype: int64)"
            ]
          },
          "metadata": {
            "tags": []
          },
          "execution_count": 10
        }
      ]
    },
    {
      "cell_type": "code",
      "metadata": {
        "id": "A_3k9Q4qrRDg",
        "colab_type": "code",
        "colab": {
          "base_uri": "https://localhost:8080/",
          "height": 34
        },
        "outputId": "e13d21df-46e7-47d0-e969-999d840b754f"
      },
      "source": [
        "model = KMeans(n_clusters=4)\n",
        "model.fit(fishsize)\n",
        "model.inertia_\n",
        "# not very good inertia"
      ],
      "execution_count": 11,
      "outputs": [
        {
          "output_type": "execute_result",
          "data": {
            "text/plain": [
              "1390306.2498902818"
            ]
          },
          "metadata": {
            "tags": []
          },
          "execution_count": 11
        }
      ]
    },
    {
      "cell_type": "markdown",
      "metadata": {
        "id": "BWE8UATuszqU",
        "colab_type": "text"
      },
      "source": [
        "Make elbow plot to see what number of clusters is most ideal."
      ]
    },
    {
      "cell_type": "code",
      "metadata": {
        "id": "fpehGxLysa67",
        "colab_type": "code",
        "colab": {
          "base_uri": "https://localhost:8080/",
          "height": 204
        },
        "outputId": "8ed8c857-b5da-4d96-a3fe-d55fdda6166d"
      },
      "source": [
        "grain = pd.read_csv('seeds.csv',header=None)\n",
        "grain.head()"
      ],
      "execution_count": 12,
      "outputs": [
        {
          "output_type": "execute_result",
          "data": {
            "text/html": [
              "<div>\n",
              "<style scoped>\n",
              "    .dataframe tbody tr th:only-of-type {\n",
              "        vertical-align: middle;\n",
              "    }\n",
              "\n",
              "    .dataframe tbody tr th {\n",
              "        vertical-align: top;\n",
              "    }\n",
              "\n",
              "    .dataframe thead th {\n",
              "        text-align: right;\n",
              "    }\n",
              "</style>\n",
              "<table border=\"1\" class=\"dataframe\">\n",
              "  <thead>\n",
              "    <tr style=\"text-align: right;\">\n",
              "      <th></th>\n",
              "      <th>0</th>\n",
              "      <th>1</th>\n",
              "      <th>2</th>\n",
              "      <th>3</th>\n",
              "      <th>4</th>\n",
              "      <th>5</th>\n",
              "      <th>6</th>\n",
              "      <th>7</th>\n",
              "    </tr>\n",
              "  </thead>\n",
              "  <tbody>\n",
              "    <tr>\n",
              "      <th>0</th>\n",
              "      <td>15.26</td>\n",
              "      <td>14.84</td>\n",
              "      <td>0.8710</td>\n",
              "      <td>5.763</td>\n",
              "      <td>3.312</td>\n",
              "      <td>2.221</td>\n",
              "      <td>5.220</td>\n",
              "      <td>1</td>\n",
              "    </tr>\n",
              "    <tr>\n",
              "      <th>1</th>\n",
              "      <td>14.88</td>\n",
              "      <td>14.57</td>\n",
              "      <td>0.8811</td>\n",
              "      <td>5.554</td>\n",
              "      <td>3.333</td>\n",
              "      <td>1.018</td>\n",
              "      <td>4.956</td>\n",
              "      <td>1</td>\n",
              "    </tr>\n",
              "    <tr>\n",
              "      <th>2</th>\n",
              "      <td>14.29</td>\n",
              "      <td>14.09</td>\n",
              "      <td>0.9050</td>\n",
              "      <td>5.291</td>\n",
              "      <td>3.337</td>\n",
              "      <td>2.699</td>\n",
              "      <td>4.825</td>\n",
              "      <td>1</td>\n",
              "    </tr>\n",
              "    <tr>\n",
              "      <th>3</th>\n",
              "      <td>13.84</td>\n",
              "      <td>13.94</td>\n",
              "      <td>0.8955</td>\n",
              "      <td>5.324</td>\n",
              "      <td>3.379</td>\n",
              "      <td>2.259</td>\n",
              "      <td>4.805</td>\n",
              "      <td>1</td>\n",
              "    </tr>\n",
              "    <tr>\n",
              "      <th>4</th>\n",
              "      <td>16.14</td>\n",
              "      <td>14.99</td>\n",
              "      <td>0.9034</td>\n",
              "      <td>5.658</td>\n",
              "      <td>3.562</td>\n",
              "      <td>1.355</td>\n",
              "      <td>5.175</td>\n",
              "      <td>1</td>\n",
              "    </tr>\n",
              "  </tbody>\n",
              "</table>\n",
              "</div>"
            ],
            "text/plain": [
              "       0      1       2      3      4      5      6  7\n",
              "0  15.26  14.84  0.8710  5.763  3.312  2.221  5.220  1\n",
              "1  14.88  14.57  0.8811  5.554  3.333  1.018  4.956  1\n",
              "2  14.29  14.09  0.9050  5.291  3.337  2.699  4.825  1\n",
              "3  13.84  13.94  0.8955  5.324  3.379  2.259  4.805  1\n",
              "4  16.14  14.99  0.9034  5.658  3.562  1.355  5.175  1"
            ]
          },
          "metadata": {
            "tags": []
          },
          "execution_count": 12
        }
      ]
    },
    {
      "cell_type": "code",
      "metadata": {
        "id": "Om0iFUHRtcAD",
        "colab_type": "code",
        "colab": {
          "base_uri": "https://localhost:8080/",
          "height": 279
        },
        "outputId": "89ea4815-3d1a-4de1-9263-6f0702fc43dc"
      },
      "source": [
        "ks = range(1, 6)\n",
        "inertias = []\n",
        "\n",
        "for k in ks:\n",
        "    # Create a KMeans instance with k clusters: model\n",
        "    model = KMeans(n_clusters=k)\n",
        "    \n",
        "    # Fit model to samples\n",
        "    model.fit(grain)\n",
        "    \n",
        "    # Append the inertia to the list of inertias\n",
        "    inertias.append(model.inertia_)\n",
        "    \n",
        "# Plot ks vs inertias\n",
        "plt.plot(ks, inertias, '-o')\n",
        "plt.xlabel('number of clusters, k')\n",
        "plt.ylabel('inertia')\n",
        "plt.xticks(ks)\n",
        "plt.show()"
      ],
      "execution_count": 13,
      "outputs": [
        {
          "output_type": "display_data",
          "data": {
            "image/png": "[encoded data removed]",
            "text/plain": [
              "<Figure size 432x288 with 1 Axes>"
            ]
          },
          "metadata": {
            "tags": [],
            "needs_background": "light"
          }
        }
      ]
    },
    {
      "cell_type": "markdown",
      "metadata": {
        "id": "VZwQ0E5FusUp",
        "colab_type": "text"
      },
      "source": [
        "3 is a good number of clusters"
      ]
    },
    {
      "cell_type": "code",
      "metadata": {
        "id": "srx-cbjQvlV1",
        "colab_type": "code",
        "colab": {}
      },
      "source": [
        "varieties = ['Kama wheat','Kama wheat','Kama wheat','Kama wheat',\n",
        " 'Kama wheat',\n",
        " 'Kama wheat',\n",
        " 'Kama wheat',\n",
        " 'Kama wheat',\n",
        " 'Kama wheat',\n",
        " 'Kama wheat',\n",
        " 'Kama wheat',\n",
        " 'Kama wheat',\n",
        " 'Kama wheat',\n",
        " 'Kama wheat',\n",
        " 'Kama wheat',\n",
        " 'Kama wheat',\n",
        " 'Kama wheat',\n",
        " 'Kama wheat',\n",
        " 'Kama wheat',\n",
        " 'Kama wheat',\n",
        " 'Kama wheat',\n",
        " 'Kama wheat',\n",
        " 'Kama wheat',\n",
        " 'Kama wheat',\n",
        " 'Kama wheat',\n",
        " 'Kama wheat',\n",
        " 'Kama wheat',\n",
        " 'Kama wheat',\n",
        " 'Kama wheat',\n",
        " 'Kama wheat',\n",
        " 'Kama wheat',\n",
        " 'Kama wheat',\n",
        " 'Kama wheat',\n",
        " 'Kama wheat',\n",
        " 'Kama wheat',\n",
        " 'Kama wheat',\n",
        " 'Kama wheat',\n",
        " 'Kama wheat',\n",
        " 'Kama wheat',\n",
        " 'Kama wheat',\n",
        " 'Kama wheat',\n",
        " 'Kama wheat',\n",
        " 'Kama wheat',\n",
        " 'Kama wheat',\n",
        " 'Kama wheat',\n",
        " 'Kama wheat',\n",
        " 'Kama wheat',\n",
        " 'Kama wheat',\n",
        " 'Kama wheat',\n",
        " 'Kama wheat',\n",
        " 'Kama wheat',\n",
        " 'Kama wheat',\n",
        " 'Kama wheat',\n",
        " 'Kama wheat',\n",
        " 'Kama wheat',\n",
        " 'Kama wheat',\n",
        " 'Kama wheat',\n",
        " 'Kama wheat',\n",
        " 'Kama wheat',\n",
        " 'Kama wheat',\n",
        " 'Kama wheat',\n",
        " 'Kama wheat',\n",
        " 'Kama wheat',\n",
        " 'Kama wheat',\n",
        " 'Kama wheat',\n",
        " 'Kama wheat',\n",
        " 'Kama wheat',\n",
        " 'Kama wheat',\n",
        " 'Kama wheat',\n",
        " 'Kama wheat',\n",
        " 'Rosa wheat',\n",
        " 'Rosa wheat',\n",
        " 'Rosa wheat',\n",
        " 'Rosa wheat',\n",
        " 'Rosa wheat',\n",
        " 'Rosa wheat',\n",
        " 'Rosa wheat',\n",
        " 'Rosa wheat',\n",
        " 'Rosa wheat',\n",
        " 'Rosa wheat',\n",
        " 'Rosa wheat',\n",
        " 'Rosa wheat',\n",
        " 'Rosa wheat',\n",
        " 'Rosa wheat',\n",
        " 'Rosa wheat',\n",
        " 'Rosa wheat',\n",
        " 'Rosa wheat',\n",
        " 'Rosa wheat',\n",
        " 'Rosa wheat',\n",
        " 'Rosa wheat',\n",
        " 'Rosa wheat',\n",
        " 'Rosa wheat',\n",
        " 'Rosa wheat',\n",
        " 'Rosa wheat',\n",
        " 'Rosa wheat',\n",
        " 'Rosa wheat',\n",
        " 'Rosa wheat',\n",
        " 'Rosa wheat',\n",
        " 'Rosa wheat',\n",
        " 'Rosa wheat',\n",
        " 'Rosa wheat',\n",
        " 'Rosa wheat',\n",
        " 'Rosa wheat',\n",
        " 'Rosa wheat',\n",
        " 'Rosa wheat',\n",
        " 'Rosa wheat',\n",
        " 'Rosa wheat',\n",
        " 'Rosa wheat',\n",
        " 'Rosa wheat',\n",
        " 'Rosa wheat',\n",
        " 'Rosa wheat',\n",
        " 'Rosa wheat',\n",
        " 'Rosa wheat',\n",
        " 'Rosa wheat',\n",
        " 'Rosa wheat',\n",
        " 'Rosa wheat',\n",
        " 'Rosa wheat',\n",
        " 'Rosa wheat',\n",
        " 'Rosa wheat',\n",
        " 'Rosa wheat',\n",
        " 'Rosa wheat',\n",
        " 'Rosa wheat',\n",
        " 'Rosa wheat',\n",
        " 'Rosa wheat',\n",
        " 'Rosa wheat',\n",
        " 'Rosa wheat',\n",
        " 'Rosa wheat',\n",
        " 'Rosa wheat',\n",
        " 'Rosa wheat',\n",
        " 'Rosa wheat',\n",
        " 'Rosa wheat',\n",
        " 'Rosa wheat',\n",
        " 'Rosa wheat',\n",
        " 'Rosa wheat',\n",
        " 'Rosa wheat',\n",
        " 'Rosa wheat',\n",
        " 'Rosa wheat',\n",
        " 'Rosa wheat',\n",
        " 'Rosa wheat',\n",
        " 'Rosa wheat',\n",
        " 'Canadian wheat',\n",
        " 'Canadian wheat',\n",
        " 'Canadian wheat',\n",
        " 'Canadian wheat',\n",
        " 'Canadian wheat',\n",
        " 'Canadian wheat',\n",
        " 'Canadian wheat',\n",
        " 'Canadian wheat',\n",
        " 'Canadian wheat',\n",
        " 'Canadian wheat',\n",
        " 'Canadian wheat',\n",
        " 'Canadian wheat',\n",
        " 'Canadian wheat',\n",
        " 'Canadian wheat',\n",
        " 'Canadian wheat',\n",
        " 'Canadian wheat',\n",
        " 'Canadian wheat',\n",
        " 'Canadian wheat',\n",
        " 'Canadian wheat',\n",
        " 'Canadian wheat',\n",
        " 'Canadian wheat',\n",
        " 'Canadian wheat',\n",
        " 'Canadian wheat',\n",
        " 'Canadian wheat',\n",
        " 'Canadian wheat',\n",
        " 'Canadian wheat',\n",
        " 'Canadian wheat',\n",
        " 'Canadian wheat',\n",
        " 'Canadian wheat',\n",
        " 'Canadian wheat',\n",
        " 'Canadian wheat',\n",
        " 'Canadian wheat',\n",
        " 'Canadian wheat',\n",
        " 'Canadian wheat',\n",
        " 'Canadian wheat',\n",
        " 'Canadian wheat',\n",
        " 'Canadian wheat',\n",
        " 'Canadian wheat',\n",
        " 'Canadian wheat',\n",
        " 'Canadian wheat',\n",
        " 'Canadian wheat',\n",
        " 'Canadian wheat',\n",
        " 'Canadian wheat',\n",
        " 'Canadian wheat',\n",
        " 'Canadian wheat',\n",
        " 'Canadian wheat',\n",
        " 'Canadian wheat',\n",
        " 'Canadian wheat',\n",
        " 'Canadian wheat',\n",
        " 'Canadian wheat',\n",
        " 'Canadian wheat',\n",
        " 'Canadian wheat',\n",
        " 'Canadian wheat',\n",
        " 'Canadian wheat',\n",
        " 'Canadian wheat',\n",
        " 'Canadian wheat',\n",
        " 'Canadian wheat',\n",
        " 'Canadian wheat',\n",
        " 'Canadian wheat',\n",
        " 'Canadian wheat',\n",
        " 'Canadian wheat',\n",
        " 'Canadian wheat',\n",
        " 'Canadian wheat',\n",
        " 'Canadian wheat',\n",
        " 'Canadian wheat',\n",
        " 'Canadian wheat',\n",
        " 'Canadian wheat',\n",
        " 'Canadian wheat',\n",
        " 'Canadian wheat',\n",
        " 'Canadian wheat']\n"
      ],
      "execution_count": 14,
      "outputs": []
    },
    {
      "cell_type": "code",
      "metadata": {
        "id": "MAmGv-CnunOF",
        "colab_type": "code",
        "colab": {
          "base_uri": "https://localhost:8080/",
          "height": 102
        },
        "outputId": "d703e22a-35f6-4afc-aa6f-ddf64901a413"
      },
      "source": [
        "# Create a KMeans model with 3 clusters: model\n",
        "model = KMeans(n_clusters=3)\n",
        "\n",
        "# Use fit_predict to fit model and obtain cluster labels: labels\n",
        "labels = model.fit_predict(grain) # same as fit() + predict()\n",
        "\n",
        "# Create a DataFrame with labels and varieties as columns: df\n",
        "df = pd.DataFrame({'labels': labels, 'varieties': varieties})\n",
        "\n",
        "# Create crosstab: ct\n",
        "ct = pd.crosstab(df['labels'],df['varieties'])\n",
        "\n",
        "# Display ct\n",
        "print(ct)"
      ],
      "execution_count": 15,
      "outputs": [
        {
          "output_type": "stream",
          "text": [
            "varieties  Canadian wheat  Kama wheat  Rosa wheat\n",
            "labels                                           \n",
            "0                      70           5           0\n",
            "1                       0           1          60\n",
            "2                       0          64          10\n"
          ],
          "name": "stdout"
        }
      ]
    },
    {
      "cell_type": "markdown",
      "metadata": {
        "id": "PYybeb1gv3Xr",
        "colab_type": "text"
      },
      "source": [
        "### Transforming features for better clustering\n",
        "Use a scaling method, like StandardScaler(), to offset the effect of variable variance scales among features."
      ]
    },
    {
      "cell_type": "code",
      "metadata": {
        "id": "e--TxK9rvVKv",
        "colab_type": "code",
        "colab": {
          "base_uri": "https://localhost:8080/",
          "height": 224
        },
        "outputId": "e4481a36-a79b-4ec2-9435-6c79bdd9e4da"
      },
      "source": [
        "wine = pd.read_csv('wine.csv')\n",
        "wine.head()"
      ],
      "execution_count": 16,
      "outputs": [
        {
          "output_type": "execute_result",
          "data": {
            "text/html": [
              "<div>\n",
              "<style scoped>\n",
              "    .dataframe tbody tr th:only-of-type {\n",
              "        vertical-align: middle;\n",
              "    }\n",
              "\n",
              "    .dataframe tbody tr th {\n",
              "        vertical-align: top;\n",
              "    }\n",
              "\n",
              "    .dataframe thead th {\n",
              "        text-align: right;\n",
              "    }\n",
              "</style>\n",
              "<table border=\"1\" class=\"dataframe\">\n",
              "  <thead>\n",
              "    <tr style=\"text-align: right;\">\n",
              "      <th></th>\n",
              "      <th>class_label</th>\n",
              "      <th>class_name</th>\n",
              "      <th>alcohol</th>\n",
              "      <th>malic_acid</th>\n",
              "      <th>ash</th>\n",
              "      <th>alcalinity_of_ash</th>\n",
              "      <th>magnesium</th>\n",
              "      <th>total_phenols</th>\n",
              "      <th>flavanoids</th>\n",
              "      <th>nonflavanoid_phenols</th>\n",
              "      <th>proanthocyanins</th>\n",
              "      <th>color_intensity</th>\n",
              "      <th>hue</th>\n",
              "      <th>od280</th>\n",
              "      <th>proline</th>\n",
              "    </tr>\n",
              "  </thead>\n",
              "  <tbody>\n",
              "    <tr>\n",
              "      <th>0</th>\n",
              "      <td>1</td>\n",
              "      <td>Barolo</td>\n",
              "      <td>14.23</td>\n",
              "      <td>1.71</td>\n",
              "      <td>2.43</td>\n",
              "      <td>15.6</td>\n",
              "      <td>127</td>\n",
              "      <td>2.80</td>\n",
              "      <td>3.06</td>\n",
              "      <td>0.28</td>\n",
              "      <td>2.29</td>\n",
              "      <td>5.64</td>\n",
              "      <td>1.04</td>\n",
              "      <td>3.92</td>\n",
              "      <td>1065</td>\n",
              "    </tr>\n",
              "    <tr>\n",
              "      <th>1</th>\n",
              "      <td>1</td>\n",
              "      <td>Barolo</td>\n",
              "      <td>13.20</td>\n",
              "      <td>1.78</td>\n",
              "      <td>2.14</td>\n",
              "      <td>11.2</td>\n",
              "      <td>100</td>\n",
              "      <td>2.65</td>\n",
              "      <td>2.76</td>\n",
              "      <td>0.26</td>\n",
              "      <td>1.28</td>\n",
              "      <td>4.38</td>\n",
              "      <td>1.05</td>\n",
              "      <td>3.40</td>\n",
              "      <td>1050</td>\n",
              "    </tr>\n",
              "    <tr>\n",
              "      <th>2</th>\n",
              "      <td>1</td>\n",
              "      <td>Barolo</td>\n",
              "      <td>13.16</td>\n",
              "      <td>2.36</td>\n",
              "      <td>2.67</td>\n",
              "      <td>18.6</td>\n",
              "      <td>101</td>\n",
              "      <td>2.80</td>\n",
              "      <td>3.24</td>\n",
              "      <td>0.30</td>\n",
              "      <td>2.81</td>\n",
              "      <td>5.68</td>\n",
              "      <td>1.03</td>\n",
              "      <td>3.17</td>\n",
              "      <td>1185</td>\n",
              "    </tr>\n",
              "    <tr>\n",
              "      <th>3</th>\n",
              "      <td>1</td>\n",
              "      <td>Barolo</td>\n",
              "      <td>14.37</td>\n",
              "      <td>1.95</td>\n",
              "      <td>2.50</td>\n",
              "      <td>16.8</td>\n",
              "      <td>113</td>\n",
              "      <td>3.85</td>\n",
              "      <td>3.49</td>\n",
              "      <td>0.24</td>\n",
              "      <td>2.18</td>\n",
              "      <td>7.80</td>\n",
              "      <td>0.86</td>\n",
              "      <td>3.45</td>\n",
              "      <td>1480</td>\n",
              "    </tr>\n",
              "    <tr>\n",
              "      <th>4</th>\n",
              "      <td>1</td>\n",
              "      <td>Barolo</td>\n",
              "      <td>13.24</td>\n",
              "      <td>2.59</td>\n",
              "      <td>2.87</td>\n",
              "      <td>21.0</td>\n",
              "      <td>118</td>\n",
              "      <td>2.80</td>\n",
              "      <td>2.69</td>\n",
              "      <td>0.39</td>\n",
              "      <td>1.82</td>\n",
              "      <td>4.32</td>\n",
              "      <td>1.04</td>\n",
              "      <td>2.93</td>\n",
              "      <td>735</td>\n",
              "    </tr>\n",
              "  </tbody>\n",
              "</table>\n",
              "</div>"
            ],
            "text/plain": [
              "   class_label class_name  alcohol  ...   hue  od280  proline\n",
              "0            1     Barolo    14.23  ...  1.04   3.92     1065\n",
              "1            1     Barolo    13.20  ...  1.05   3.40     1050\n",
              "2            1     Barolo    13.16  ...  1.03   3.17     1185\n",
              "3            1     Barolo    14.37  ...  0.86   3.45     1480\n",
              "4            1     Barolo    13.24  ...  1.04   2.93      735\n",
              "\n",
              "[5 rows x 15 columns]"
            ]
          },
          "metadata": {
            "tags": []
          },
          "execution_count": 16
        }
      ]
    },
    {
      "cell_type": "code",
      "metadata": {
        "id": "Yrxb66ZG3mRa",
        "colab_type": "code",
        "colab": {
          "base_uri": "https://localhost:8080/",
          "height": 85
        },
        "outputId": "fc06616e-cd4c-4065-8d3b-e5a18b240cc5"
      },
      "source": [
        "wine.class_name.value_counts()"
      ],
      "execution_count": 17,
      "outputs": [
        {
          "output_type": "execute_result",
          "data": {
            "text/plain": [
              "Grignolino    71\n",
              "Barolo        59\n",
              "Barbera       48\n",
              "Name: class_name, dtype: int64"
            ]
          },
          "metadata": {
            "tags": []
          },
          "execution_count": 17
        }
      ]
    },
    {
      "cell_type": "code",
      "metadata": {
        "id": "jUJ7V3jqzdJG",
        "colab_type": "code",
        "colab": {}
      },
      "source": [
        "props = wine.drop(['class_label','class_name'], axis=1).values\n",
        "varieties = wine.class_name.values"
      ],
      "execution_count": 18,
      "outputs": []
    },
    {
      "cell_type": "code",
      "metadata": {
        "id": "2q2tJYsb3jbU",
        "colab_type": "code",
        "colab": {
          "base_uri": "https://localhost:8080/",
          "height": 102
        },
        "outputId": "ee00fd2a-4e20-46c3-fe79-c321ebc442c4"
      },
      "source": [
        "model = KMeans(n_clusters=3)\n",
        "labels = model.fit_predict(props)\n",
        "df = pd.DataFrame({'labels': labels, 'varieties': varieties})\n",
        "ct = pd.crosstab(df['labels'],df['varieties'])\n",
        "print(ct)"
      ],
      "execution_count": 19,
      "outputs": [
        {
          "output_type": "stream",
          "text": [
            "varieties  Barbera  Barolo  Grignolino\n",
            "labels                                \n",
            "0               19       0          50\n",
            "1                0      46           1\n",
            "2               29      13          20\n"
          ],
          "name": "stdout"
        }
      ]
    },
    {
      "cell_type": "code",
      "metadata": {
        "id": "Tmg1PJws4a48",
        "colab_type": "code",
        "colab": {}
      },
      "source": [
        "# Scale data for better performance\n",
        "from sklearn.preprocessing import StandardScaler\n",
        "\n",
        "scaler = StandardScaler()\n",
        "scaler.fit(props)\n",
        "StandardScaler(copy=True, with_mean=True, with_std=True)\n",
        "props_scaled = scaler.transform(props)"
      ],
      "execution_count": 20,
      "outputs": []
    },
    {
      "cell_type": "code",
      "metadata": {
        "id": "LDgsmc7e5dNl",
        "colab_type": "code",
        "colab": {
          "base_uri": "https://localhost:8080/",
          "height": 102
        },
        "outputId": "07b4e327-5dc3-482e-faa6-5722c5804786"
      },
      "source": [
        "model = KMeans(n_clusters=3)\n",
        "labels = model.fit_predict(props_scaled)\n",
        "df = pd.DataFrame({'labels': labels, 'varieties': varieties})\n",
        "ct = pd.crosstab(df['labels'],df['varieties'])\n",
        "print(ct)"
      ],
      "execution_count": 21,
      "outputs": [
        {
          "output_type": "stream",
          "text": [
            "varieties  Barbera  Barolo  Grignolino\n",
            "labels                                \n",
            "0                0       0          65\n",
            "1                0      59           3\n",
            "2               48       0           3\n"
          ],
          "name": "stdout"
        }
      ]
    },
    {
      "cell_type": "markdown",
      "metadata": {
        "id": "sn_rrVqn5q0c",
        "colab_type": "text"
      },
      "source": [
        "So much better. <br>\n",
        "Combining steps into a pipeline:"
      ]
    },
    {
      "cell_type": "code",
      "metadata": {
        "id": "7FAevCCB5ouE",
        "colab_type": "code",
        "colab": {
          "base_uri": "https://localhost:8080/",
          "height": 102
        },
        "outputId": "e0f8e592-cab7-44bb-ec31-a239d4746d21"
      },
      "source": [
        "from sklearn.preprocessing import StandardScaler\n",
        "from sklearn.cluster import KMeans\n",
        "\n",
        "wine = pd.read_csv('wine.csv')\n",
        "props = wine.drop(['class_label','class_name'], axis=1).values\n",
        "varieties = wine.class_name.values\n",
        "\n",
        "scaler = StandardScaler()\n",
        "kmeans = KMeans(n_clusters=3)\n",
        "\n",
        "from sklearn.pipeline import make_pipeline\n",
        "pipeline = make_pipeline(scaler, kmeans)\n",
        "pipeline.fit(props)\n",
        "labels = pipeline.predict(props)\n",
        "\n",
        "df = pd.DataFrame({'labels': labels, 'varieties': varieties})\n",
        "ct = pd.crosstab(df['labels'],df['varieties'])\n",
        "print(ct)\n"
      ],
      "execution_count": 22,
      "outputs": [
        {
          "output_type": "stream",
          "text": [
            "varieties  Barbera  Barolo  Grignolino\n",
            "labels                                \n",
            "0                0       0          65\n",
            "1                0      59           3\n",
            "2               48       0           3\n"
          ],
          "name": "stdout"
        }
      ]
    },
    {
      "cell_type": "markdown",
      "metadata": {
        "id": "7qMFVT9u8Nff",
        "colab_type": "text"
      },
      "source": [
        "Again with fish"
      ]
    },
    {
      "cell_type": "code",
      "metadata": {
        "id": "CsFY1klb8MoT",
        "colab_type": "code",
        "colab": {}
      },
      "source": [
        "fish = pd.read_csv('fish.csv')\n",
        "columns = ['species','weight','vertical_length','diagonal_length','cross_length','height','diagonal_width']\n",
        "fish.columns = columns\n",
        "\n",
        "features = fish.drop('species', axis=1).values\n",
        "species = fish.species.values"
      ],
      "execution_count": 23,
      "outputs": []
    },
    {
      "cell_type": "code",
      "metadata": {
        "id": "evbom--q7Mk6",
        "colab_type": "code",
        "colab": {}
      },
      "source": [
        "# Perform the necessary imports\n",
        "from sklearn.pipeline import make_pipeline\n",
        "from sklearn.preprocessing import StandardScaler\n",
        "from sklearn.cluster import KMeans\n",
        "\n",
        "# Create scaler: scaler\n",
        "scaler = StandardScaler()\n",
        "\n",
        "# Create KMeans instance: kmeans\n",
        "kmeans = KMeans(n_clusters=4)\n",
        "\n",
        "# Create pipeline: pipeline\n",
        "pipeline = make_pipeline(scaler, kmeans)"
      ],
      "execution_count": 24,
      "outputs": []
    },
    {
      "cell_type": "code",
      "metadata": {
        "id": "eIq3kWXP8_b3",
        "colab_type": "code",
        "colab": {
          "base_uri": "https://localhost:8080/",
          "height": 119
        },
        "outputId": "ace07def-ddfe-4195-a1e2-1b92b0155b6a"
      },
      "source": [
        "# Fit the pipeline to samples\n",
        "pipeline.fit(features)\n",
        "\n",
        "# Calculate the cluster labels: labels\n",
        "labels = pipeline.predict(features)\n",
        "\n",
        "# Create a DataFrame with labels and species as columns: df\n",
        "df = pd.DataFrame({'labels': labels,'species': species})\n",
        "\n",
        "# Create crosstab: ct\n",
        "ct = pd.crosstab(df.labels, df.species)\n",
        "\n",
        "# Display ct\n",
        "print(ct)"
      ],
      "execution_count": 25,
      "outputs": [
        {
          "output_type": "stream",
          "text": [
            "species  Bream  Pike  Roach  Smelt\n",
            "labels                            \n",
            "0           33     0      1      0\n",
            "1            0     0      0     13\n",
            "2            0    17      0      0\n",
            "3            0     0     19      1\n"
          ],
          "name": "stdout"
        }
      ]
    },
    {
      "cell_type": "markdown",
      "metadata": {
        "id": "-mK2DnIM9X-T",
        "colab_type": "text"
      },
      "source": [
        "Normalizer() rescales each feature independent of others."
      ]
    },
    {
      "cell_type": "code",
      "metadata": {
        "id": "a5_8Vxwx9EDZ",
        "colab_type": "code",
        "colab": {
          "base_uri": "https://localhost:8080/",
          "height": 177
        },
        "outputId": "db6fd17a-d24f-4cd3-919f-400125b387bd"
      },
      "source": [
        "stocks = pd.read_csv('company-stock-movements-2010-2015-incl.csv')\n",
        "stocks.head(2)"
      ],
      "execution_count": 26,
      "outputs": [
        {
          "output_type": "execute_result",
          "data": {
            "text/html": [
              "<div>\n",
              "<style scoped>\n",
              "    .dataframe tbody tr th:only-of-type {\n",
              "        vertical-align: middle;\n",
              "    }\n",
              "\n",
              "    .dataframe tbody tr th {\n",
              "        vertical-align: top;\n",
              "    }\n",
              "\n",
              "    .dataframe thead th {\n",
              "        text-align: right;\n",
              "    }\n",
              "</style>\n",
              "<table border=\"1\" class=\"dataframe\">\n",
              "  <thead>\n",
              "    <tr style=\"text-align: right;\">\n",
              "      <th></th>\n",
              "      <th>Unnamed: 0</th>\n",
              "      <th>2010-01-04</th>\n",
              "      <th>2010-01-05</th>\n",
              "      <th>2010-01-06</th>\n",
              "      <th>2010-01-07</th>\n",
              "      <th>2010-01-08</th>\n",
              "      <th>2010-01-11</th>\n",
              "      <th>2010-01-12</th>\n",
              "      <th>2010-01-13</th>\n",
              "      <th>2010-01-14</th>\n",
              "      <th>2010-01-15</th>\n",
              "      <th>2010-01-19</th>\n",
              "      <th>2010-01-20</th>\n",
              "      <th>2010-01-21</th>\n",
              "      <th>2010-01-22</th>\n",
              "      <th>2010-01-25</th>\n",
              "      <th>2010-01-26</th>\n",
              "      <th>2010-01-27</th>\n",
              "      <th>2010-01-28</th>\n",
              "      <th>2010-01-29</th>\n",
              "      <th>2010-02-01</th>\n",
              "      <th>2010-02-02</th>\n",
              "      <th>2010-02-03</th>\n",
              "      <th>2010-02-04</th>\n",
              "      <th>2010-02-05</th>\n",
              "      <th>2010-02-08</th>\n",
              "      <th>2010-02-09</th>\n",
              "      <th>2010-02-10</th>\n",
              "      <th>2010-02-11</th>\n",
              "      <th>2010-02-12</th>\n",
              "      <th>2010-02-16</th>\n",
              "      <th>2010-02-17</th>\n",
              "      <th>2010-02-18</th>\n",
              "      <th>2010-02-19</th>\n",
              "      <th>2010-02-22</th>\n",
              "      <th>2010-02-23</th>\n",
              "      <th>2010-02-24</th>\n",
              "      <th>2010-02-25</th>\n",
              "      <th>2010-02-26</th>\n",
              "      <th>2010-03-01</th>\n",
              "      <th>...</th>\n",
              "      <th>2013-09-04</th>\n",
              "      <th>2013-09-05</th>\n",
              "      <th>2013-09-06</th>\n",
              "      <th>2013-09-09</th>\n",
              "      <th>2013-09-10</th>\n",
              "      <th>2013-09-11</th>\n",
              "      <th>2013-09-12</th>\n",
              "      <th>2013-09-13</th>\n",
              "      <th>2013-09-16</th>\n",
              "      <th>2013-09-17</th>\n",
              "      <th>2013-09-18</th>\n",
              "      <th>2013-09-19</th>\n",
              "      <th>2013-09-20</th>\n",
              "      <th>2013-09-23</th>\n",
              "      <th>2013-09-24</th>\n",
              "      <th>2013-09-25</th>\n",
              "      <th>2013-09-26</th>\n",
              "      <th>2013-09-27</th>\n",
              "      <th>2013-09-30</th>\n",
              "      <th>2013-10-01</th>\n",
              "      <th>2013-10-02</th>\n",
              "      <th>2013-10-03</th>\n",
              "      <th>2013-10-04</th>\n",
              "      <th>2013-10-07</th>\n",
              "      <th>2013-10-08</th>\n",
              "      <th>2013-10-09</th>\n",
              "      <th>2013-10-10</th>\n",
              "      <th>2013-10-11</th>\n",
              "      <th>2013-10-14</th>\n",
              "      <th>2013-10-15</th>\n",
              "      <th>2013-10-16</th>\n",
              "      <th>2013-10-17</th>\n",
              "      <th>2013-10-18</th>\n",
              "      <th>2013-10-21</th>\n",
              "      <th>2013-10-22</th>\n",
              "      <th>2013-10-23</th>\n",
              "      <th>2013-10-24</th>\n",
              "      <th>2013-10-25</th>\n",
              "      <th>2013-10-28</th>\n",
              "      <th>2013-10-29</th>\n",
              "    </tr>\n",
              "  </thead>\n",
              "  <tbody>\n",
              "    <tr>\n",
              "      <th>0</th>\n",
              "      <td>Apple</td>\n",
              "      <td>0.580000</td>\n",
              "      <td>-0.220005</td>\n",
              "      <td>-3.409998</td>\n",
              "      <td>-1.17</td>\n",
              "      <td>1.680011</td>\n",
              "      <td>-2.689994</td>\n",
              "      <td>-1.469994</td>\n",
              "      <td>2.779997</td>\n",
              "      <td>-0.680003</td>\n",
              "      <td>-4.999995</td>\n",
              "      <td>6.709993</td>\n",
              "      <td>-3.180006</td>\n",
              "      <td>-4.009998</td>\n",
              "      <td>-9.030006</td>\n",
              "      <td>0.56</td>\n",
              "      <td>-0.010000</td>\n",
              "      <td>1.03001</td>\n",
              "      <td>-5.640009</td>\n",
              "      <td>-9.019993</td>\n",
              "      <td>2.360001</td>\n",
              "      <td>-0.050001</td>\n",
              "      <td>4.060000</td>\n",
              "      <td>-4.680000</td>\n",
              "      <td>2.829998</td>\n",
              "      <td>-1.570009</td>\n",
              "      <td>-0.229992</td>\n",
              "      <td>-0.769990</td>\n",
              "      <td>3.789993</td>\n",
              "      <td>2.269998</td>\n",
              "      <td>1.459994</td>\n",
              "      <td>-1.639998</td>\n",
              "      <td>1.300003</td>\n",
              "      <td>-0.190005</td>\n",
              "      <td>-1.920004</td>\n",
              "      <td>-2.940000</td>\n",
              "      <td>2.430002</td>\n",
              "      <td>4.619999</td>\n",
              "      <td>2.239998</td>\n",
              "      <td>3.240008</td>\n",
              "      <td>...</td>\n",
              "      <td>-0.86998</td>\n",
              "      <td>-4.980034</td>\n",
              "      <td>-0.219979</td>\n",
              "      <td>1.169960</td>\n",
              "      <td>-11.559998</td>\n",
              "      <td>0.699989</td>\n",
              "      <td>4.190003</td>\n",
              "      <td>-4.439995</td>\n",
              "      <td>-10.879982</td>\n",
              "      <td>7.360008</td>\n",
              "      <td>1.500008</td>\n",
              "      <td>1.599983</td>\n",
              "      <td>-10.589988</td>\n",
              "      <td>-5.459991</td>\n",
              "      <td>-5.779999</td>\n",
              "      <td>-7.669976</td>\n",
              "      <td>0.219979</td>\n",
              "      <td>-1.029983</td>\n",
              "      <td>-0.500038</td>\n",
              "      <td>9.510018</td>\n",
              "      <td>3.929970</td>\n",
              "      <td>-7.100029</td>\n",
              "      <td>-0.829979</td>\n",
              "      <td>1.190040</td>\n",
              "      <td>-9.000045</td>\n",
              "      <td>1.950005</td>\n",
              "      <td>-1.679985</td>\n",
              "      <td>5.820000</td>\n",
              "      <td>6.209969</td>\n",
              "      <td>1.16996</td>\n",
              "      <td>0.320008</td>\n",
              "      <td>4.519997</td>\n",
              "      <td>2.899987</td>\n",
              "      <td>9.590019</td>\n",
              "      <td>-6.540016</td>\n",
              "      <td>5.959976</td>\n",
              "      <td>6.910011</td>\n",
              "      <td>-5.359962</td>\n",
              "      <td>0.840019</td>\n",
              "      <td>-19.589981</td>\n",
              "    </tr>\n",
              "    <tr>\n",
              "      <th>1</th>\n",
              "      <td>AIG</td>\n",
              "      <td>-0.640002</td>\n",
              "      <td>-0.650000</td>\n",
              "      <td>-0.210001</td>\n",
              "      <td>-0.42</td>\n",
              "      <td>0.710001</td>\n",
              "      <td>-0.200001</td>\n",
              "      <td>-1.130001</td>\n",
              "      <td>0.069999</td>\n",
              "      <td>-0.119999</td>\n",
              "      <td>-0.500000</td>\n",
              "      <td>0.200001</td>\n",
              "      <td>-0.100000</td>\n",
              "      <td>-0.460001</td>\n",
              "      <td>-1.190001</td>\n",
              "      <td>-0.65</td>\n",
              "      <td>-1.300001</td>\n",
              "      <td>0.43000</td>\n",
              "      <td>-1.690000</td>\n",
              "      <td>-0.300001</td>\n",
              "      <td>-0.420000</td>\n",
              "      <td>-0.020001</td>\n",
              "      <td>-0.099998</td>\n",
              "      <td>-0.940001</td>\n",
              "      <td>-0.090000</td>\n",
              "      <td>-0.250000</td>\n",
              "      <td>0.760000</td>\n",
              "      <td>3.710001</td>\n",
              "      <td>-0.200001</td>\n",
              "      <td>1.000000</td>\n",
              "      <td>0.000000</td>\n",
              "      <td>-0.630001</td>\n",
              "      <td>0.299999</td>\n",
              "      <td>-0.010000</td>\n",
              "      <td>1.540001</td>\n",
              "      <td>-1.459999</td>\n",
              "      <td>0.830000</td>\n",
              "      <td>0.069999</td>\n",
              "      <td>-0.900000</td>\n",
              "      <td>-2.179998</td>\n",
              "      <td>...</td>\n",
              "      <td>0.68000</td>\n",
              "      <td>0.229999</td>\n",
              "      <td>-0.720002</td>\n",
              "      <td>0.829998</td>\n",
              "      <td>-0.130001</td>\n",
              "      <td>0.340000</td>\n",
              "      <td>-0.620003</td>\n",
              "      <td>0.320000</td>\n",
              "      <td>-0.470001</td>\n",
              "      <td>0.790001</td>\n",
              "      <td>0.279999</td>\n",
              "      <td>-0.930000</td>\n",
              "      <td>-0.020000</td>\n",
              "      <td>-0.439998</td>\n",
              "      <td>0.100003</td>\n",
              "      <td>0.190003</td>\n",
              "      <td>-0.239998</td>\n",
              "      <td>-0.029998</td>\n",
              "      <td>0.020000</td>\n",
              "      <td>0.579998</td>\n",
              "      <td>0.350002</td>\n",
              "      <td>-0.210003</td>\n",
              "      <td>0.660000</td>\n",
              "      <td>-0.310001</td>\n",
              "      <td>-1.099998</td>\n",
              "      <td>0.050000</td>\n",
              "      <td>1.290001</td>\n",
              "      <td>0.330002</td>\n",
              "      <td>0.599999</td>\n",
              "      <td>-0.16000</td>\n",
              "      <td>0.919998</td>\n",
              "      <td>0.709999</td>\n",
              "      <td>0.119999</td>\n",
              "      <td>-0.480000</td>\n",
              "      <td>0.010002</td>\n",
              "      <td>-0.279998</td>\n",
              "      <td>-0.190003</td>\n",
              "      <td>-0.040001</td>\n",
              "      <td>-0.400002</td>\n",
              "      <td>0.660000</td>\n",
              "    </tr>\n",
              "  </tbody>\n",
              "</table>\n",
              "<p>2 rows × 964 columns</p>\n",
              "</div>"
            ],
            "text/plain": [
              "  Unnamed: 0  2010-01-04  2010-01-05  ...  2013-10-25  2013-10-28  2013-10-29\n",
              "0      Apple    0.580000   -0.220005  ...   -5.359962    0.840019  -19.589981\n",
              "1        AIG   -0.640002   -0.650000  ...   -0.040001   -0.400002    0.660000\n",
              "\n",
              "[2 rows x 964 columns]"
            ]
          },
          "metadata": {
            "tags": []
          },
          "execution_count": 26
        }
      ]
    },
    {
      "cell_type": "code",
      "metadata": {
        "id": "HALd6v7p9v9n",
        "colab_type": "code",
        "colab": {}
      },
      "source": [
        "features = stocks.drop('Unnamed: 0', axis=1).values\n",
        "companies = stocks['Unnamed: 0'].values"
      ],
      "execution_count": 27,
      "outputs": []
    },
    {
      "cell_type": "code",
      "metadata": {
        "id": "3Khojuce98gE",
        "colab_type": "code",
        "colab": {
          "base_uri": "https://localhost:8080/",
          "height": 153
        },
        "outputId": "4291e3cb-edb5-43db-f15f-2683276daa77"
      },
      "source": [
        "from sklearn.preprocessing import Normalizer\n",
        "\n",
        "# Create a normalizer: normalizer\n",
        "normalizer = Normalizer()\n",
        "\n",
        "# Create a KMeans model with 10 clusters: kmeans\n",
        "kmeans = KMeans(n_clusters=10)\n",
        "\n",
        "# Make a pipeline chaining normalizer and kmeans: pipeline\n",
        "pipeline = make_pipeline(normalizer, kmeans)\n",
        "\n",
        "# Fit pipeline to the daily price movements\n",
        "pipeline.fit(features)"
      ],
      "execution_count": 28,
      "outputs": [
        {
          "output_type": "execute_result",
          "data": {
            "text/plain": [
              "Pipeline(memory=None,\n",
              "         steps=[('normalizer', Normalizer(copy=True, norm='l2')),\n",
              "                ('kmeans',\n",
              "                 KMeans(algorithm='auto', copy_x=True, init='k-means++',\n",
              "                        max_iter=300, n_clusters=10, n_init=10, n_jobs=None,\n",
              "                        precompute_distances='auto', random_state=None,\n",
              "                        tol=0.0001, verbose=0))],\n",
              "         verbose=False)"
            ]
          },
          "metadata": {
            "tags": []
          },
          "execution_count": 28
        }
      ]
    },
    {
      "cell_type": "code",
      "metadata": {
        "id": "ZyqjhTbz-dHe",
        "colab_type": "code",
        "colab": {
          "base_uri": "https://localhost:8080/",
          "height": 1000
        },
        "outputId": "ce2977b2-ff28-486f-943d-feef2c2861f3"
      },
      "source": [
        "# Predict the cluster labels: labels\n",
        "labels = pipeline.predict(features)\n",
        "\n",
        "# Create a DataFrame aligning labels and companies: df\n",
        "df = pd.DataFrame({'labels': labels, 'companies': companies})\n",
        "\n",
        "# Display df sorted by cluster label\n",
        "print(df.sort_values('labels'))"
      ],
      "execution_count": 29,
      "outputs": [
        {
          "output_type": "stream",
          "text": [
            "    labels                           companies\n",
            "21       0                               Honda\n",
            "34       0                          Mitsubishi\n",
            "45       0                                Sony\n",
            "7        0                               Canon\n",
            "48       0                              Toyota\n",
            "35       1                            Navistar\n",
            "32       1                                  3M\n",
            "44       1                        Schlumberger\n",
            "58       1                               Xerox\n",
            "20       1                          Home Depot\n",
            "13       1                   DuPont de Nemours\n",
            "12       1                             Chevron\n",
            "59       1                               Yahoo\n",
            "10       1                      ConocoPhillips\n",
            "57       1                               Exxon\n",
            "53       1                       Valero Energy\n",
            "8        1                         Caterpillar\n",
            "39       2                              Pfizer\n",
            "56       2                            Wal-Mart\n",
            "25       2                   Johnson & Johnson\n",
            "40       3                      Procter Gamble\n",
            "38       3                               Pepsi\n",
            "28       3                           Coca Cola\n",
            "27       3                      Kimberly-Clark\n",
            "9        3                   Colgate-Palmolive\n",
            "24       4                               Intel\n",
            "14       4                                Dell\n",
            "50       4  Taiwan Semiconductor Manufacturing\n",
            "51       4                   Texas instruments\n",
            "33       4                           Microsoft\n",
            "11       4                               Cisco\n",
            "22       4                                  HP\n",
            "52       5                            Unilever\n",
            "31       5                           McDonalds\n",
            "19       5                     GlaxoSmithKline\n",
            "46       5                      Sanofi-Aventis\n",
            "37       5                            Novartis\n",
            "49       5                               Total\n",
            "6        5            British American Tobacco\n",
            "41       5                       Philip Morris\n",
            "42       5                   Royal Dutch Shell\n",
            "47       6                            Symantec\n",
            "43       6                                 SAP\n",
            "0        6                               Apple\n",
            "30       6                          MasterCard\n",
            "23       6                                 IBM\n",
            "17       6                     Google/Alphabet\n",
            "2        6                              Amazon\n",
            "4        7                              Boeing\n",
            "36       7                    Northrop Grumman\n",
            "29       7                     Lookheed Martin\n",
            "26       8                      JPMorgan Chase\n",
            "18       8                       Goldman Sachs\n",
            "16       8                   General Electrics\n",
            "15       8                                Ford\n",
            "5        8                     Bank of America\n",
            "3        8                    American express\n",
            "55       8                         Wells Fargo\n",
            "1        8                                 AIG\n",
            "54       9                            Walgreen\n"
          ],
          "name": "stdout"
        }
      ]
    },
    {
      "cell_type": "markdown",
      "metadata": {
        "id": "a2xmNTIo_HzF",
        "colab_type": "text"
      },
      "source": [
        "# Visualization with hierarchical clustering and t-SNE\n",
        "### Visualizing hierarchies\n",
        "algorithms that arrange things into hierarchies-dendrograms. <br>\n",
        "N data points produce N-1 merges.\n"
      ]
    },
    {
      "cell_type": "code",
      "metadata": {
        "id": "vDQGUkQM-_WX",
        "colab_type": "code",
        "colab": {
          "base_uri": "https://localhost:8080/",
          "height": 204
        },
        "outputId": "031fbeb8-f7da-47f2-e0cb-91062cf6e986"
      },
      "source": [
        "grain.head()"
      ],
      "execution_count": 30,
      "outputs": [
        {
          "output_type": "execute_result",
          "data": {
            "text/html": [
              "<div>\n",
              "<style scoped>\n",
              "    .dataframe tbody tr th:only-of-type {\n",
              "        vertical-align: middle;\n",
              "    }\n",
              "\n",
              "    .dataframe tbody tr th {\n",
              "        vertical-align: top;\n",
              "    }\n",
              "\n",
              "    .dataframe thead th {\n",
              "        text-align: right;\n",
              "    }\n",
              "</style>\n",
              "<table border=\"1\" class=\"dataframe\">\n",
              "  <thead>\n",
              "    <tr style=\"text-align: right;\">\n",
              "      <th></th>\n",
              "      <th>0</th>\n",
              "      <th>1</th>\n",
              "      <th>2</th>\n",
              "      <th>3</th>\n",
              "      <th>4</th>\n",
              "      <th>5</th>\n",
              "      <th>6</th>\n",
              "      <th>7</th>\n",
              "    </tr>\n",
              "  </thead>\n",
              "  <tbody>\n",
              "    <tr>\n",
              "      <th>0</th>\n",
              "      <td>15.26</td>\n",
              "      <td>14.84</td>\n",
              "      <td>0.8710</td>\n",
              "      <td>5.763</td>\n",
              "      <td>3.312</td>\n",
              "      <td>2.221</td>\n",
              "      <td>5.220</td>\n",
              "      <td>1</td>\n",
              "    </tr>\n",
              "    <tr>\n",
              "      <th>1</th>\n",
              "      <td>14.88</td>\n",
              "      <td>14.57</td>\n",
              "      <td>0.8811</td>\n",
              "      <td>5.554</td>\n",
              "      <td>3.333</td>\n",
              "      <td>1.018</td>\n",
              "      <td>4.956</td>\n",
              "      <td>1</td>\n",
              "    </tr>\n",
              "    <tr>\n",
              "      <th>2</th>\n",
              "      <td>14.29</td>\n",
              "      <td>14.09</td>\n",
              "      <td>0.9050</td>\n",
              "      <td>5.291</td>\n",
              "      <td>3.337</td>\n",
              "      <td>2.699</td>\n",
              "      <td>4.825</td>\n",
              "      <td>1</td>\n",
              "    </tr>\n",
              "    <tr>\n",
              "      <th>3</th>\n",
              "      <td>13.84</td>\n",
              "      <td>13.94</td>\n",
              "      <td>0.8955</td>\n",
              "      <td>5.324</td>\n",
              "      <td>3.379</td>\n",
              "      <td>2.259</td>\n",
              "      <td>4.805</td>\n",
              "      <td>1</td>\n",
              "    </tr>\n",
              "    <tr>\n",
              "      <th>4</th>\n",
              "      <td>16.14</td>\n",
              "      <td>14.99</td>\n",
              "      <td>0.9034</td>\n",
              "      <td>5.658</td>\n",
              "      <td>3.562</td>\n",
              "      <td>1.355</td>\n",
              "      <td>5.175</td>\n",
              "      <td>1</td>\n",
              "    </tr>\n",
              "  </tbody>\n",
              "</table>\n",
              "</div>"
            ],
            "text/plain": [
              "       0      1       2      3      4      5      6  7\n",
              "0  15.26  14.84  0.8710  5.763  3.312  2.221  5.220  1\n",
              "1  14.88  14.57  0.8811  5.554  3.333  1.018  4.956  1\n",
              "2  14.29  14.09  0.9050  5.291  3.337  2.699  4.825  1\n",
              "3  13.84  13.94  0.8955  5.324  3.379  2.259  4.805  1\n",
              "4  16.14  14.99  0.9034  5.658  3.562  1.355  5.175  1"
            ]
          },
          "metadata": {
            "tags": []
          },
          "execution_count": 30
        }
      ]
    },
    {
      "cell_type": "code",
      "metadata": {
        "id": "AgYx7RWNltwO",
        "colab_type": "code",
        "colab": {
          "base_uri": "https://localhost:8080/",
          "height": 34
        },
        "outputId": "d6517e97-9ffd-451e-8314-de3ed5919583"
      },
      "source": [
        "grain.shape, len(varieties)"
      ],
      "execution_count": 31,
      "outputs": [
        {
          "output_type": "execute_result",
          "data": {
            "text/plain": [
              "((210, 8), 178)"
            ]
          },
          "metadata": {
            "tags": []
          },
          "execution_count": 31
        }
      ]
    },
    {
      "cell_type": "code",
      "metadata": {
        "id": "HK1abzMimjhi",
        "colab_type": "code",
        "colab": {}
      },
      "source": [
        "w_varieties = ['Kama wheat','Kama wheat','Kama wheat','Kama wheat','Kama wheat','Kama wheat',\n",
        " 'Kama wheat',\n",
        " 'Kama wheat',\n",
        " 'Kama wheat',\n",
        " 'Kama wheat',\n",
        " 'Kama wheat',\n",
        " 'Kama wheat',\n",
        " 'Kama wheat',\n",
        " 'Kama wheat',\n",
        " 'Kama wheat',\n",
        " 'Kama wheat',\n",
        " 'Kama wheat',\n",
        " 'Kama wheat',\n",
        " 'Kama wheat',\n",
        " 'Kama wheat',\n",
        " 'Kama wheat',\n",
        " 'Kama wheat',\n",
        " 'Kama wheat',\n",
        " 'Kama wheat',\n",
        " 'Kama wheat',\n",
        " 'Kama wheat',\n",
        " 'Kama wheat',\n",
        " 'Kama wheat',\n",
        " 'Kama wheat',\n",
        " 'Kama wheat',\n",
        " 'Kama wheat',\n",
        " 'Kama wheat',\n",
        " 'Kama wheat',\n",
        " 'Kama wheat',\n",
        " 'Kama wheat',\n",
        " 'Kama wheat',\n",
        " 'Kama wheat',\n",
        " 'Kama wheat',\n",
        " 'Kama wheat',\n",
        " 'Kama wheat',\n",
        " 'Kama wheat',\n",
        " 'Kama wheat',\n",
        " 'Kama wheat',\n",
        " 'Kama wheat',\n",
        " 'Kama wheat',\n",
        " 'Kama wheat',\n",
        " 'Kama wheat',\n",
        " 'Kama wheat',\n",
        " 'Kama wheat',\n",
        " 'Kama wheat',\n",
        " 'Kama wheat',\n",
        " 'Kama wheat',\n",
        " 'Kama wheat',\n",
        " 'Kama wheat',\n",
        " 'Kama wheat',\n",
        " 'Kama wheat',\n",
        " 'Kama wheat',\n",
        " 'Kama wheat',\n",
        " 'Kama wheat',\n",
        " 'Kama wheat',\n",
        " 'Kama wheat',\n",
        " 'Kama wheat',\n",
        " 'Kama wheat',\n",
        " 'Kama wheat',\n",
        " 'Kama wheat',\n",
        " 'Kama wheat',\n",
        " 'Kama wheat',\n",
        " 'Kama wheat',\n",
        " 'Kama wheat',\n",
        " 'Kama wheat',\n",
        " 'Rosa wheat',\n",
        " 'Rosa wheat',\n",
        " 'Rosa wheat',\n",
        " 'Rosa wheat',\n",
        " 'Rosa wheat',\n",
        " 'Rosa wheat',\n",
        " 'Rosa wheat',\n",
        " 'Rosa wheat',\n",
        " 'Rosa wheat',\n",
        " 'Rosa wheat',\n",
        " 'Rosa wheat',\n",
        " 'Rosa wheat',\n",
        " 'Rosa wheat',\n",
        " 'Rosa wheat',\n",
        " 'Rosa wheat',\n",
        " 'Rosa wheat',\n",
        " 'Rosa wheat',\n",
        " 'Rosa wheat',\n",
        " 'Rosa wheat',\n",
        " 'Rosa wheat',\n",
        " 'Rosa wheat',\n",
        " 'Rosa wheat',\n",
        " 'Rosa wheat',\n",
        " 'Rosa wheat',\n",
        " 'Rosa wheat',\n",
        " 'Rosa wheat',\n",
        " 'Rosa wheat',\n",
        " 'Rosa wheat',\n",
        " 'Rosa wheat',\n",
        " 'Rosa wheat',\n",
        " 'Rosa wheat',\n",
        " 'Rosa wheat',\n",
        " 'Rosa wheat',\n",
        " 'Rosa wheat',\n",
        " 'Rosa wheat',\n",
        " 'Rosa wheat',\n",
        " 'Rosa wheat',\n",
        " 'Rosa wheat',\n",
        " 'Rosa wheat',\n",
        " 'Rosa wheat',\n",
        " 'Rosa wheat',\n",
        " 'Rosa wheat',\n",
        " 'Rosa wheat',\n",
        " 'Rosa wheat',\n",
        " 'Rosa wheat',\n",
        " 'Rosa wheat',\n",
        " 'Rosa wheat',\n",
        " 'Rosa wheat',\n",
        " 'Rosa wheat',\n",
        " 'Rosa wheat',\n",
        " 'Rosa wheat',\n",
        " 'Rosa wheat',\n",
        " 'Rosa wheat',\n",
        " 'Rosa wheat',\n",
        " 'Rosa wheat',\n",
        " 'Rosa wheat',\n",
        " 'Rosa wheat',\n",
        " 'Rosa wheat',\n",
        " 'Rosa wheat',\n",
        " 'Rosa wheat',\n",
        " 'Rosa wheat',\n",
        " 'Rosa wheat',\n",
        " 'Rosa wheat',\n",
        " 'Rosa wheat',\n",
        " 'Rosa wheat',\n",
        " 'Rosa wheat',\n",
        " 'Rosa wheat',\n",
        " 'Rosa wheat',\n",
        " 'Rosa wheat',\n",
        " 'Rosa wheat',\n",
        " 'Canadian wheat',\n",
        " 'Canadian wheat',\n",
        " 'Canadian wheat',\n",
        " 'Canadian wheat',\n",
        " 'Canadian wheat',\n",
        " 'Canadian wheat',\n",
        " 'Canadian wheat',\n",
        " 'Canadian wheat',\n",
        " 'Canadian wheat',\n",
        " 'Canadian wheat',\n",
        " 'Canadian wheat',\n",
        " 'Canadian wheat',\n",
        " 'Canadian wheat',\n",
        " 'Canadian wheat',\n",
        " 'Canadian wheat',\n",
        " 'Canadian wheat',\n",
        " 'Canadian wheat',\n",
        " 'Canadian wheat',\n",
        " 'Canadian wheat',\n",
        " 'Canadian wheat',\n",
        " 'Canadian wheat',\n",
        " 'Canadian wheat',\n",
        " 'Canadian wheat',\n",
        " 'Canadian wheat',\n",
        " 'Canadian wheat',\n",
        " 'Canadian wheat',\n",
        " 'Canadian wheat',\n",
        " 'Canadian wheat',\n",
        " 'Canadian wheat',\n",
        " 'Canadian wheat',\n",
        " 'Canadian wheat',\n",
        " 'Canadian wheat',\n",
        " 'Canadian wheat',\n",
        " 'Canadian wheat',\n",
        " 'Canadian wheat',\n",
        " 'Canadian wheat',\n",
        " 'Canadian wheat',\n",
        " 'Canadian wheat',\n",
        " 'Canadian wheat',\n",
        " 'Canadian wheat',\n",
        " 'Canadian wheat',\n",
        " 'Canadian wheat',\n",
        " 'Canadian wheat',\n",
        " 'Canadian wheat',\n",
        " 'Canadian wheat',\n",
        " 'Canadian wheat',\n",
        " 'Canadian wheat',\n",
        " 'Canadian wheat',\n",
        " 'Canadian wheat',\n",
        " 'Canadian wheat',\n",
        " 'Canadian wheat',\n",
        " 'Canadian wheat',\n",
        " 'Canadian wheat',\n",
        " 'Canadian wheat',\n",
        " 'Canadian wheat',\n",
        " 'Canadian wheat',\n",
        " 'Canadian wheat',\n",
        " 'Canadian wheat',\n",
        " 'Canadian wheat',\n",
        " 'Canadian wheat',\n",
        " 'Canadian wheat',\n",
        " 'Canadian wheat',\n",
        " 'Canadian wheat',\n",
        " 'Canadian wheat',\n",
        " 'Canadian wheat',\n",
        " 'Canadian wheat',\n",
        " 'Canadian wheat',\n",
        " 'Canadian wheat',\n",
        " 'Canadian wheat',\n",
        " 'Canadian wheat']"
      ],
      "execution_count": 32,
      "outputs": []
    },
    {
      "cell_type": "code",
      "metadata": {
        "id": "0XhI1nF7i5xB",
        "colab_type": "code",
        "colab": {
          "base_uri": "https://localhost:8080/",
          "height": 304
        },
        "outputId": "c8e103cf-e93f-4142-927b-a4487f51b9d1"
      },
      "source": [
        "# Perform the necessary imports\n",
        "from scipy.cluster.hierarchy import linkage, dendrogram\n",
        "import matplotlib.pyplot as plt\n",
        "\n",
        "# Calculate the linkage: mergings\n",
        "mergings = linkage(grain, method='complete')\n",
        "\n",
        "# Plot the dendrogram, using varieties as labels\n",
        "dendrogram(mergings,\n",
        "           labels=w_varieties,\n",
        "           leaf_rotation=90,\n",
        "           leaf_font_size=6,\n",
        ")\n",
        "plt.show()"
      ],
      "execution_count": 33,
      "outputs": [
        {
          "output_type": "display_data",
          "data": {
            "image/png": "[encoded data removed]",
            "text/plain": [
              "<Figure size 432x288 with 1 Axes>"
            ]
          },
          "metadata": {
            "tags": [],
            "needs_background": "light"
          }
        }
      ]
    },
    {
      "cell_type": "code",
      "metadata": {
        "id": "7AQ961Xoo6EL",
        "colab_type": "code",
        "colab": {
          "base_uri": "https://localhost:8080/",
          "height": 287
        },
        "outputId": "f3fe455a-874f-4dcf-9639-d474be14b3f0"
      },
      "source": [
        "stocks.head()"
      ],
      "execution_count": 34,
      "outputs": [
        {
          "output_type": "execute_result",
          "data": {
            "text/html": [
              "<div>\n",
              "<style scoped>\n",
              "    .dataframe tbody tr th:only-of-type {\n",
              "        vertical-align: middle;\n",
              "    }\n",
              "\n",
              "    .dataframe tbody tr th {\n",
              "        vertical-align: top;\n",
              "    }\n",
              "\n",
              "    .dataframe thead th {\n",
              "        text-align: right;\n",
              "    }\n",
              "</style>\n",
              "<table border=\"1\" class=\"dataframe\">\n",
              "  <thead>\n",
              "    <tr style=\"text-align: right;\">\n",
              "      <th></th>\n",
              "      <th>Unnamed: 0</th>\n",
              "      <th>2010-01-04</th>\n",
              "      <th>2010-01-05</th>\n",
              "      <th>2010-01-06</th>\n",
              "      <th>2010-01-07</th>\n",
              "      <th>2010-01-08</th>\n",
              "      <th>2010-01-11</th>\n",
              "      <th>2010-01-12</th>\n",
              "      <th>2010-01-13</th>\n",
              "      <th>2010-01-14</th>\n",
              "      <th>2010-01-15</th>\n",
              "      <th>2010-01-19</th>\n",
              "      <th>2010-01-20</th>\n",
              "      <th>2010-01-21</th>\n",
              "      <th>2010-01-22</th>\n",
              "      <th>2010-01-25</th>\n",
              "      <th>2010-01-26</th>\n",
              "      <th>2010-01-27</th>\n",
              "      <th>2010-01-28</th>\n",
              "      <th>2010-01-29</th>\n",
              "      <th>2010-02-01</th>\n",
              "      <th>2010-02-02</th>\n",
              "      <th>2010-02-03</th>\n",
              "      <th>2010-02-04</th>\n",
              "      <th>2010-02-05</th>\n",
              "      <th>2010-02-08</th>\n",
              "      <th>2010-02-09</th>\n",
              "      <th>2010-02-10</th>\n",
              "      <th>2010-02-11</th>\n",
              "      <th>2010-02-12</th>\n",
              "      <th>2010-02-16</th>\n",
              "      <th>2010-02-17</th>\n",
              "      <th>2010-02-18</th>\n",
              "      <th>2010-02-19</th>\n",
              "      <th>2010-02-22</th>\n",
              "      <th>2010-02-23</th>\n",
              "      <th>2010-02-24</th>\n",
              "      <th>2010-02-25</th>\n",
              "      <th>2010-02-26</th>\n",
              "      <th>2010-03-01</th>\n",
              "      <th>...</th>\n",
              "      <th>2013-09-04</th>\n",
              "      <th>2013-09-05</th>\n",
              "      <th>2013-09-06</th>\n",
              "      <th>2013-09-09</th>\n",
              "      <th>2013-09-10</th>\n",
              "      <th>2013-09-11</th>\n",
              "      <th>2013-09-12</th>\n",
              "      <th>2013-09-13</th>\n",
              "      <th>2013-09-16</th>\n",
              "      <th>2013-09-17</th>\n",
              "      <th>2013-09-18</th>\n",
              "      <th>2013-09-19</th>\n",
              "      <th>2013-09-20</th>\n",
              "      <th>2013-09-23</th>\n",
              "      <th>2013-09-24</th>\n",
              "      <th>2013-09-25</th>\n",
              "      <th>2013-09-26</th>\n",
              "      <th>2013-09-27</th>\n",
              "      <th>2013-09-30</th>\n",
              "      <th>2013-10-01</th>\n",
              "      <th>2013-10-02</th>\n",
              "      <th>2013-10-03</th>\n",
              "      <th>2013-10-04</th>\n",
              "      <th>2013-10-07</th>\n",
              "      <th>2013-10-08</th>\n",
              "      <th>2013-10-09</th>\n",
              "      <th>2013-10-10</th>\n",
              "      <th>2013-10-11</th>\n",
              "      <th>2013-10-14</th>\n",
              "      <th>2013-10-15</th>\n",
              "      <th>2013-10-16</th>\n",
              "      <th>2013-10-17</th>\n",
              "      <th>2013-10-18</th>\n",
              "      <th>2013-10-21</th>\n",
              "      <th>2013-10-22</th>\n",
              "      <th>2013-10-23</th>\n",
              "      <th>2013-10-24</th>\n",
              "      <th>2013-10-25</th>\n",
              "      <th>2013-10-28</th>\n",
              "      <th>2013-10-29</th>\n",
              "    </tr>\n",
              "  </thead>\n",
              "  <tbody>\n",
              "    <tr>\n",
              "      <th>0</th>\n",
              "      <td>Apple</td>\n",
              "      <td>0.580000</td>\n",
              "      <td>-0.220005</td>\n",
              "      <td>-3.409998</td>\n",
              "      <td>-1.170000</td>\n",
              "      <td>1.680011</td>\n",
              "      <td>-2.689994</td>\n",
              "      <td>-1.469994</td>\n",
              "      <td>2.779997</td>\n",
              "      <td>-0.680003</td>\n",
              "      <td>-4.999995</td>\n",
              "      <td>6.709993</td>\n",
              "      <td>-3.180006</td>\n",
              "      <td>-4.009998</td>\n",
              "      <td>-9.030006</td>\n",
              "      <td>0.560000</td>\n",
              "      <td>-0.010000</td>\n",
              "      <td>1.030010</td>\n",
              "      <td>-5.640009</td>\n",
              "      <td>-9.019993</td>\n",
              "      <td>2.360001</td>\n",
              "      <td>-0.050001</td>\n",
              "      <td>4.060000</td>\n",
              "      <td>-4.680000</td>\n",
              "      <td>2.829998</td>\n",
              "      <td>-1.570009</td>\n",
              "      <td>-0.229992</td>\n",
              "      <td>-0.769990</td>\n",
              "      <td>3.789993</td>\n",
              "      <td>2.269998</td>\n",
              "      <td>1.459994</td>\n",
              "      <td>-1.639998</td>\n",
              "      <td>1.300003</td>\n",
              "      <td>-0.190005</td>\n",
              "      <td>-1.920004</td>\n",
              "      <td>-2.940000</td>\n",
              "      <td>2.430002</td>\n",
              "      <td>4.619999</td>\n",
              "      <td>2.239998</td>\n",
              "      <td>3.240008</td>\n",
              "      <td>...</td>\n",
              "      <td>-0.869980</td>\n",
              "      <td>-4.980034</td>\n",
              "      <td>-0.219979</td>\n",
              "      <td>1.169960</td>\n",
              "      <td>-11.559998</td>\n",
              "      <td>0.699989</td>\n",
              "      <td>4.190003</td>\n",
              "      <td>-4.439995</td>\n",
              "      <td>-10.879982</td>\n",
              "      <td>7.360008</td>\n",
              "      <td>1.500008</td>\n",
              "      <td>1.599983</td>\n",
              "      <td>-10.589988</td>\n",
              "      <td>-5.459991</td>\n",
              "      <td>-5.779999</td>\n",
              "      <td>-7.669976</td>\n",
              "      <td>0.219979</td>\n",
              "      <td>-1.029983</td>\n",
              "      <td>-0.500038</td>\n",
              "      <td>9.510018</td>\n",
              "      <td>3.929970</td>\n",
              "      <td>-7.100029</td>\n",
              "      <td>-0.829979</td>\n",
              "      <td>1.190040</td>\n",
              "      <td>-9.000045</td>\n",
              "      <td>1.950005</td>\n",
              "      <td>-1.679985</td>\n",
              "      <td>5.820000</td>\n",
              "      <td>6.209969</td>\n",
              "      <td>1.169960</td>\n",
              "      <td>0.320008</td>\n",
              "      <td>4.519997</td>\n",
              "      <td>2.899987</td>\n",
              "      <td>9.590019</td>\n",
              "      <td>-6.540016</td>\n",
              "      <td>5.959976</td>\n",
              "      <td>6.910011</td>\n",
              "      <td>-5.359962</td>\n",
              "      <td>0.840019</td>\n",
              "      <td>-19.589981</td>\n",
              "    </tr>\n",
              "    <tr>\n",
              "      <th>1</th>\n",
              "      <td>AIG</td>\n",
              "      <td>-0.640002</td>\n",
              "      <td>-0.650000</td>\n",
              "      <td>-0.210001</td>\n",
              "      <td>-0.420000</td>\n",
              "      <td>0.710001</td>\n",
              "      <td>-0.200001</td>\n",
              "      <td>-1.130001</td>\n",
              "      <td>0.069999</td>\n",
              "      <td>-0.119999</td>\n",
              "      <td>-0.500000</td>\n",
              "      <td>0.200001</td>\n",
              "      <td>-0.100000</td>\n",
              "      <td>-0.460001</td>\n",
              "      <td>-1.190001</td>\n",
              "      <td>-0.650000</td>\n",
              "      <td>-1.300001</td>\n",
              "      <td>0.430000</td>\n",
              "      <td>-1.690000</td>\n",
              "      <td>-0.300001</td>\n",
              "      <td>-0.420000</td>\n",
              "      <td>-0.020001</td>\n",
              "      <td>-0.099998</td>\n",
              "      <td>-0.940001</td>\n",
              "      <td>-0.090000</td>\n",
              "      <td>-0.250000</td>\n",
              "      <td>0.760000</td>\n",
              "      <td>3.710001</td>\n",
              "      <td>-0.200001</td>\n",
              "      <td>1.000000</td>\n",
              "      <td>0.000000</td>\n",
              "      <td>-0.630001</td>\n",
              "      <td>0.299999</td>\n",
              "      <td>-0.010000</td>\n",
              "      <td>1.540001</td>\n",
              "      <td>-1.459999</td>\n",
              "      <td>0.830000</td>\n",
              "      <td>0.069999</td>\n",
              "      <td>-0.900000</td>\n",
              "      <td>-2.179998</td>\n",
              "      <td>...</td>\n",
              "      <td>0.680000</td>\n",
              "      <td>0.229999</td>\n",
              "      <td>-0.720002</td>\n",
              "      <td>0.829998</td>\n",
              "      <td>-0.130001</td>\n",
              "      <td>0.340000</td>\n",
              "      <td>-0.620003</td>\n",
              "      <td>0.320000</td>\n",
              "      <td>-0.470001</td>\n",
              "      <td>0.790001</td>\n",
              "      <td>0.279999</td>\n",
              "      <td>-0.930000</td>\n",
              "      <td>-0.020000</td>\n",
              "      <td>-0.439998</td>\n",
              "      <td>0.100003</td>\n",
              "      <td>0.190003</td>\n",
              "      <td>-0.239998</td>\n",
              "      <td>-0.029998</td>\n",
              "      <td>0.020000</td>\n",
              "      <td>0.579998</td>\n",
              "      <td>0.350002</td>\n",
              "      <td>-0.210003</td>\n",
              "      <td>0.660000</td>\n",
              "      <td>-0.310001</td>\n",
              "      <td>-1.099998</td>\n",
              "      <td>0.050000</td>\n",
              "      <td>1.290001</td>\n",
              "      <td>0.330002</td>\n",
              "      <td>0.599999</td>\n",
              "      <td>-0.160000</td>\n",
              "      <td>0.919998</td>\n",
              "      <td>0.709999</td>\n",
              "      <td>0.119999</td>\n",
              "      <td>-0.480000</td>\n",
              "      <td>0.010002</td>\n",
              "      <td>-0.279998</td>\n",
              "      <td>-0.190003</td>\n",
              "      <td>-0.040001</td>\n",
              "      <td>-0.400002</td>\n",
              "      <td>0.660000</td>\n",
              "    </tr>\n",
              "    <tr>\n",
              "      <th>2</th>\n",
              "      <td>Amazon</td>\n",
              "      <td>-2.350006</td>\n",
              "      <td>1.260009</td>\n",
              "      <td>-2.350006</td>\n",
              "      <td>-2.009995</td>\n",
              "      <td>2.960006</td>\n",
              "      <td>-2.309997</td>\n",
              "      <td>-1.640007</td>\n",
              "      <td>1.209999</td>\n",
              "      <td>-1.790001</td>\n",
              "      <td>-2.039994</td>\n",
              "      <td>1.300003</td>\n",
              "      <td>-1.349998</td>\n",
              "      <td>-0.639999</td>\n",
              "      <td>-4.169998</td>\n",
              "      <td>-1.790000</td>\n",
              "      <td>-1.079995</td>\n",
              "      <td>1.720001</td>\n",
              "      <td>1.599999</td>\n",
              "      <td>-4.360000</td>\n",
              "      <td>-4.309997</td>\n",
              "      <td>-0.669998</td>\n",
              "      <td>1.979995</td>\n",
              "      <td>-2.699997</td>\n",
              "      <td>1.510002</td>\n",
              "      <td>-2.549995</td>\n",
              "      <td>-0.169998</td>\n",
              "      <td>-0.639999</td>\n",
              "      <td>2.879997</td>\n",
              "      <td>0.670006</td>\n",
              "      <td>-2.529999</td>\n",
              "      <td>-0.760002</td>\n",
              "      <td>2.240006</td>\n",
              "      <td>-0.390007</td>\n",
              "      <td>0.639999</td>\n",
              "      <td>-0.770004</td>\n",
              "      <td>1.760002</td>\n",
              "      <td>0.029999</td>\n",
              "      <td>0.520005</td>\n",
              "      <td>5.840004</td>\n",
              "      <td>...</td>\n",
              "      <td>5.310028</td>\n",
              "      <td>0.470001</td>\n",
              "      <td>0.529998</td>\n",
              "      <td>2.489990</td>\n",
              "      <td>-0.190003</td>\n",
              "      <td>0.730011</td>\n",
              "      <td>-0.530030</td>\n",
              "      <td>-2.220002</td>\n",
              "      <td>-3.760009</td>\n",
              "      <td>6.540008</td>\n",
              "      <td>7.970001</td>\n",
              "      <td>-1.709991</td>\n",
              "      <td>3.799987</td>\n",
              "      <td>-2.520020</td>\n",
              "      <td>1.700012</td>\n",
              "      <td>-1.880005</td>\n",
              "      <td>4.220001</td>\n",
              "      <td>-0.910003</td>\n",
              "      <td>-0.769989</td>\n",
              "      <td>6.730011</td>\n",
              "      <td>2.470001</td>\n",
              "      <td>-5.630005</td>\n",
              "      <td>3.910004</td>\n",
              "      <td>-5.209991</td>\n",
              "      <td>-8.269989</td>\n",
              "      <td>-5.190002</td>\n",
              "      <td>0.540008</td>\n",
              "      <td>6.120026</td>\n",
              "      <td>1.480011</td>\n",
              "      <td>-3.470001</td>\n",
              "      <td>2.109985</td>\n",
              "      <td>3.699982</td>\n",
              "      <td>9.570008</td>\n",
              "      <td>-3.450013</td>\n",
              "      <td>4.820008</td>\n",
              "      <td>-4.079986</td>\n",
              "      <td>2.579986</td>\n",
              "      <td>4.790009</td>\n",
              "      <td>-1.760009</td>\n",
              "      <td>3.740021</td>\n",
              "    </tr>\n",
              "    <tr>\n",
              "      <th>3</th>\n",
              "      <td>American express</td>\n",
              "      <td>0.109997</td>\n",
              "      <td>0.000000</td>\n",
              "      <td>0.260002</td>\n",
              "      <td>0.720002</td>\n",
              "      <td>0.190003</td>\n",
              "      <td>-0.270001</td>\n",
              "      <td>0.750000</td>\n",
              "      <td>0.300004</td>\n",
              "      <td>0.639999</td>\n",
              "      <td>-0.130001</td>\n",
              "      <td>0.719997</td>\n",
              "      <td>0.050000</td>\n",
              "      <td>-0.830002</td>\n",
              "      <td>-2.770001</td>\n",
              "      <td>-1.309997</td>\n",
              "      <td>0.559997</td>\n",
              "      <td>0.709999</td>\n",
              "      <td>-1.239998</td>\n",
              "      <td>0.060002</td>\n",
              "      <td>0.369999</td>\n",
              "      <td>0.340000</td>\n",
              "      <td>-0.579998</td>\n",
              "      <td>-0.500000</td>\n",
              "      <td>0.189998</td>\n",
              "      <td>-0.969997</td>\n",
              "      <td>0.270001</td>\n",
              "      <td>0.169998</td>\n",
              "      <td>0.480000</td>\n",
              "      <td>0.629997</td>\n",
              "      <td>0.809998</td>\n",
              "      <td>-0.480000</td>\n",
              "      <td>0.080002</td>\n",
              "      <td>0.170002</td>\n",
              "      <td>-0.169998</td>\n",
              "      <td>-0.810002</td>\n",
              "      <td>0.310002</td>\n",
              "      <td>0.370003</td>\n",
              "      <td>0.039997</td>\n",
              "      <td>-0.070000</td>\n",
              "      <td>...</td>\n",
              "      <td>0.620002</td>\n",
              "      <td>0.639999</td>\n",
              "      <td>-0.570000</td>\n",
              "      <td>0.070008</td>\n",
              "      <td>0.379997</td>\n",
              "      <td>0.480003</td>\n",
              "      <td>0.000000</td>\n",
              "      <td>-0.279999</td>\n",
              "      <td>-0.739998</td>\n",
              "      <td>1.320000</td>\n",
              "      <td>0.650001</td>\n",
              "      <td>-0.239998</td>\n",
              "      <td>-0.300003</td>\n",
              "      <td>-0.849999</td>\n",
              "      <td>-0.319999</td>\n",
              "      <td>-0.139999</td>\n",
              "      <td>0.320000</td>\n",
              "      <td>-0.169999</td>\n",
              "      <td>0.549996</td>\n",
              "      <td>0.290001</td>\n",
              "      <td>-0.549995</td>\n",
              "      <td>-0.090004</td>\n",
              "      <td>0.430001</td>\n",
              "      <td>-0.559998</td>\n",
              "      <td>-0.809998</td>\n",
              "      <td>-0.159996</td>\n",
              "      <td>1.470002</td>\n",
              "      <td>0.730004</td>\n",
              "      <td>0.739998</td>\n",
              "      <td>-0.379997</td>\n",
              "      <td>0.680001</td>\n",
              "      <td>2.290001</td>\n",
              "      <td>0.409996</td>\n",
              "      <td>-0.069999</td>\n",
              "      <td>0.100006</td>\n",
              "      <td>0.069999</td>\n",
              "      <td>0.130005</td>\n",
              "      <td>1.849999</td>\n",
              "      <td>0.040001</td>\n",
              "      <td>0.540001</td>\n",
              "    </tr>\n",
              "    <tr>\n",
              "      <th>4</th>\n",
              "      <td>Boeing</td>\n",
              "      <td>0.459999</td>\n",
              "      <td>1.770000</td>\n",
              "      <td>1.549999</td>\n",
              "      <td>2.690003</td>\n",
              "      <td>0.059997</td>\n",
              "      <td>-1.080002</td>\n",
              "      <td>0.360000</td>\n",
              "      <td>0.549999</td>\n",
              "      <td>0.530002</td>\n",
              "      <td>-0.709999</td>\n",
              "      <td>0.050004</td>\n",
              "      <td>-0.130001</td>\n",
              "      <td>-1.099998</td>\n",
              "      <td>-0.849999</td>\n",
              "      <td>-0.569999</td>\n",
              "      <td>0.169998</td>\n",
              "      <td>3.090000</td>\n",
              "      <td>0.409999</td>\n",
              "      <td>-2.200001</td>\n",
              "      <td>0.959999</td>\n",
              "      <td>0.649998</td>\n",
              "      <td>-0.060001</td>\n",
              "      <td>-1.630001</td>\n",
              "      <td>-0.809997</td>\n",
              "      <td>-0.440003</td>\n",
              "      <td>1.120003</td>\n",
              "      <td>-0.169998</td>\n",
              "      <td>0.840000</td>\n",
              "      <td>-0.219997</td>\n",
              "      <td>0.840000</td>\n",
              "      <td>0.430001</td>\n",
              "      <td>1.110000</td>\n",
              "      <td>0.939998</td>\n",
              "      <td>0.389999</td>\n",
              "      <td>-1.040001</td>\n",
              "      <td>0.480000</td>\n",
              "      <td>0.149998</td>\n",
              "      <td>0.070000</td>\n",
              "      <td>0.950001</td>\n",
              "      <td>...</td>\n",
              "      <td>1.320000</td>\n",
              "      <td>0.489998</td>\n",
              "      <td>-0.930000</td>\n",
              "      <td>0.610000</td>\n",
              "      <td>0.529999</td>\n",
              "      <td>0.980003</td>\n",
              "      <td>0.610001</td>\n",
              "      <td>1.400002</td>\n",
              "      <td>1.939995</td>\n",
              "      <td>1.330002</td>\n",
              "      <td>1.120003</td>\n",
              "      <td>-0.180000</td>\n",
              "      <td>-2.520005</td>\n",
              "      <td>0.360000</td>\n",
              "      <td>1.809998</td>\n",
              "      <td>-0.809998</td>\n",
              "      <td>0.669998</td>\n",
              "      <td>0.229996</td>\n",
              "      <td>0.150002</td>\n",
              "      <td>-0.220001</td>\n",
              "      <td>0.459999</td>\n",
              "      <td>-2.110000</td>\n",
              "      <td>1.930000</td>\n",
              "      <td>1.180000</td>\n",
              "      <td>-1.229996</td>\n",
              "      <td>-0.930001</td>\n",
              "      <td>2.800004</td>\n",
              "      <td>-0.619995</td>\n",
              "      <td>2.040001</td>\n",
              "      <td>-1.239998</td>\n",
              "      <td>1.559997</td>\n",
              "      <td>2.480003</td>\n",
              "      <td>0.019997</td>\n",
              "      <td>-1.220001</td>\n",
              "      <td>0.480003</td>\n",
              "      <td>3.020004</td>\n",
              "      <td>-0.029999</td>\n",
              "      <td>1.940002</td>\n",
              "      <td>1.130005</td>\n",
              "      <td>0.309998</td>\n",
              "    </tr>\n",
              "  </tbody>\n",
              "</table>\n",
              "<p>5 rows × 964 columns</p>\n",
              "</div>"
            ],
            "text/plain": [
              "         Unnamed: 0  2010-01-04  2010-01-05  ...  2013-10-25  2013-10-28  2013-10-29\n",
              "0             Apple    0.580000   -0.220005  ...   -5.359962    0.840019  -19.589981\n",
              "1               AIG   -0.640002   -0.650000  ...   -0.040001   -0.400002    0.660000\n",
              "2            Amazon   -2.350006    1.260009  ...    4.790009   -1.760009    3.740021\n",
              "3  American express    0.109997    0.000000  ...    1.849999    0.040001    0.540001\n",
              "4            Boeing    0.459999    1.770000  ...    1.940002    1.130005    0.309998\n",
              "\n",
              "[5 rows x 964 columns]"
            ]
          },
          "metadata": {
            "tags": []
          },
          "execution_count": 34
        }
      ]
    },
    {
      "cell_type": "code",
      "metadata": {
        "id": "AWT3VAubni--",
        "colab_type": "code",
        "colab": {}
      },
      "source": [
        "companies = ['Apple',\n",
        " 'AIG',\n",
        " 'Amazon',\n",
        " 'American express',\n",
        " 'Boeing',\n",
        " 'Bank of America',\n",
        " 'British American Tobacco',\n",
        " 'Canon',\n",
        " 'Caterpillar',\n",
        " 'Colgate-Palmolive',\n",
        " 'ConocoPhillips',\n",
        " 'Cisco',\n",
        " 'Chevron',\n",
        " 'DuPont de Nemours',\n",
        " 'Dell',\n",
        " 'Ford',\n",
        " 'General Electrics',\n",
        " 'Google/Alphabet',\n",
        " 'Goldman Sachs',\n",
        " 'GlaxoSmithKline',\n",
        " 'Home Depot',\n",
        " 'Honda',\n",
        " 'HP',\n",
        " 'IBM',\n",
        " 'Intel',\n",
        " 'Johnson & Johnson',\n",
        " 'JPMorgan Chase',\n",
        " 'Kimberly-Clark',\n",
        " 'Coca Cola',\n",
        " 'Lookheed Martin',\n",
        " 'MasterCard',\n",
        " 'McDonalds',\n",
        " '3M',\n",
        " 'Microsoft',\n",
        " 'Mitsubishi',\n",
        " 'Navistar',\n",
        " 'Northrop Grumman',\n",
        " 'Novartis',\n",
        " 'Pepsi',\n",
        " 'Pfizer',\n",
        " 'Procter Gamble',\n",
        " 'Philip Morris',\n",
        " 'Royal Dutch Shell',\n",
        " 'SAP',\n",
        " 'Schlumberger',\n",
        " 'Sony',\n",
        " 'Sanofi-Aventis',\n",
        " 'Symantec',\n",
        " 'Toyota',\n",
        " 'Total',\n",
        " 'Taiwan Semiconductor Manufacturing',\n",
        " 'Texas instruments',\n",
        " 'Unilever',\n",
        " 'Valero Energy',\n",
        " 'Walgreen',\n",
        " 'Wells Fargo',\n",
        " 'Wal-Mart',\n",
        " 'Exxon',\n",
        " 'Xerox',\n",
        " 'Yahoo']"
      ],
      "execution_count": 35,
      "outputs": []
    },
    {
      "cell_type": "code",
      "metadata": {
        "id": "ZA1dgI1KoWnU",
        "colab_type": "code",
        "colab": {
          "base_uri": "https://localhost:8080/",
          "height": 375
        },
        "outputId": "bff34b10-ae8f-49b6-9818-d9cceda9adf1"
      },
      "source": [
        "# Import normalize\n",
        "from sklearn.preprocessing import normalize\n",
        "\n",
        "# Normalize the movements: normalized_movements\n",
        "normalized_movements = normalize(stocks)\n",
        "\n",
        "# Calculate the linkage: mergings\n",
        "mergings = linkage(normalized_movements, method='complete')\n",
        "\n",
        "# Plot the dendrogram\n",
        "dendrogram(mergings,\n",
        "           labels=companies,\n",
        "           leaf_rotation=90,\n",
        "           leaf_font_size=6,)\n",
        "plt.show()"
      ],
      "execution_count": 36,
      "outputs": [
        {
          "output_type": "error",
          "ename": "ValueError",
          "evalue": "ignored",
          "traceback": [
            "\u001b[0;31m---------------------------------------------------------------------------\u001b[0m",
            "\u001b[0;31mValueError\u001b[0m                                Traceback (most recent call last)",
            "\u001b[0;32m<ipython-input-36-c1d394024215>\u001b[0m in \u001b[0;36m<module>\u001b[0;34m()\u001b[0m\n\u001b[1;32m      3\u001b[0m \u001b[0;34m\u001b[0m\u001b[0m\n\u001b[1;32m      4\u001b[0m \u001b[0;31m# Normalize the movements: normalized_movements\u001b[0m\u001b[0;34m\u001b[0m\u001b[0;34m\u001b[0m\u001b[0;34m\u001b[0m\u001b[0m\n\u001b[0;32m----> 5\u001b[0;31m \u001b[0mnormalized_movements\u001b[0m \u001b[0;34m=\u001b[0m \u001b[0mnormalize\u001b[0m\u001b[0;34m(\u001b[0m\u001b[0mstocks\u001b[0m\u001b[0;34m)\u001b[0m\u001b[0;34m\u001b[0m\u001b[0;34m\u001b[0m\u001b[0m\n\u001b[0m\u001b[1;32m      6\u001b[0m \u001b[0;34m\u001b[0m\u001b[0m\n\u001b[1;32m      7\u001b[0m \u001b[0;31m# Calculate the linkage: mergings\u001b[0m\u001b[0;34m\u001b[0m\u001b[0;34m\u001b[0m\u001b[0;34m\u001b[0m\u001b[0m\n",
            "\u001b[0;32m/usr/local/lib/python3.6/dist-packages/sklearn/preprocessing/_data.py\u001b[0m in \u001b[0;36mnormalize\u001b[0;34m(X, norm, axis, copy, return_norm)\u001b[0m\n\u001b[1;32m   1703\u001b[0m \u001b[0;34m\u001b[0m\u001b[0m\n\u001b[1;32m   1704\u001b[0m     X = check_array(X, sparse_format, copy=copy,\n\u001b[0;32m-> 1705\u001b[0;31m                     estimator='the normalize function', dtype=FLOAT_DTYPES)\n\u001b[0m\u001b[1;32m   1706\u001b[0m     \u001b[0;32mif\u001b[0m \u001b[0maxis\u001b[0m \u001b[0;34m==\u001b[0m \u001b[0;36m0\u001b[0m\u001b[0;34m:\u001b[0m\u001b[0;34m\u001b[0m\u001b[0;34m\u001b[0m\u001b[0m\n\u001b[1;32m   1707\u001b[0m         \u001b[0mX\u001b[0m \u001b[0;34m=\u001b[0m \u001b[0mX\u001b[0m\u001b[0;34m.\u001b[0m\u001b[0mT\u001b[0m\u001b[0;34m\u001b[0m\u001b[0;34m\u001b[0m\u001b[0m\n",
            "\u001b[0;32m/usr/local/lib/python3.6/dist-packages/sklearn/utils/validation.py\u001b[0m in \u001b[0;36mcheck_array\u001b[0;34m(array, accept_sparse, accept_large_sparse, dtype, order, copy, force_all_finite, ensure_2d, allow_nd, ensure_min_samples, ensure_min_features, warn_on_dtype, estimator)\u001b[0m\n\u001b[1;32m    529\u001b[0m                     \u001b[0marray\u001b[0m \u001b[0;34m=\u001b[0m \u001b[0marray\u001b[0m\u001b[0;34m.\u001b[0m\u001b[0mastype\u001b[0m\u001b[0;34m(\u001b[0m\u001b[0mdtype\u001b[0m\u001b[0;34m,\u001b[0m \u001b[0mcasting\u001b[0m\u001b[0;34m=\u001b[0m\u001b[0;34m\"unsafe\"\u001b[0m\u001b[0;34m,\u001b[0m \u001b[0mcopy\u001b[0m\u001b[0;34m=\u001b[0m\u001b[0;32mFalse\u001b[0m\u001b[0;34m)\u001b[0m\u001b[0;34m\u001b[0m\u001b[0;34m\u001b[0m\u001b[0m\n\u001b[1;32m    530\u001b[0m                 \u001b[0;32melse\u001b[0m\u001b[0;34m:\u001b[0m\u001b[0;34m\u001b[0m\u001b[0;34m\u001b[0m\u001b[0m\n\u001b[0;32m--> 531\u001b[0;31m                     \u001b[0marray\u001b[0m \u001b[0;34m=\u001b[0m \u001b[0mnp\u001b[0m\u001b[0;34m.\u001b[0m\u001b[0masarray\u001b[0m\u001b[0;34m(\u001b[0m\u001b[0marray\u001b[0m\u001b[0;34m,\u001b[0m \u001b[0morder\u001b[0m\u001b[0;34m=\u001b[0m\u001b[0morder\u001b[0m\u001b[0;34m,\u001b[0m \u001b[0mdtype\u001b[0m\u001b[0;34m=\u001b[0m\u001b[0mdtype\u001b[0m\u001b[0;34m)\u001b[0m\u001b[0;34m\u001b[0m\u001b[0;34m\u001b[0m\u001b[0m\n\u001b[0m\u001b[1;32m    532\u001b[0m             \u001b[0;32mexcept\u001b[0m \u001b[0mComplexWarning\u001b[0m\u001b[0;34m:\u001b[0m\u001b[0;34m\u001b[0m\u001b[0;34m\u001b[0m\u001b[0m\n\u001b[1;32m    533\u001b[0m                 raise ValueError(\"Complex data not supported\\n\"\n",
            "\u001b[0;32m/usr/local/lib/python3.6/dist-packages/numpy/core/_asarray.py\u001b[0m in \u001b[0;36masarray\u001b[0;34m(a, dtype, order)\u001b[0m\n\u001b[1;32m     83\u001b[0m \u001b[0;34m\u001b[0m\u001b[0m\n\u001b[1;32m     84\u001b[0m     \"\"\"\n\u001b[0;32m---> 85\u001b[0;31m     \u001b[0;32mreturn\u001b[0m \u001b[0marray\u001b[0m\u001b[0;34m(\u001b[0m\u001b[0ma\u001b[0m\u001b[0;34m,\u001b[0m \u001b[0mdtype\u001b[0m\u001b[0;34m,\u001b[0m \u001b[0mcopy\u001b[0m\u001b[0;34m=\u001b[0m\u001b[0;32mFalse\u001b[0m\u001b[0;34m,\u001b[0m \u001b[0morder\u001b[0m\u001b[0;34m=\u001b[0m\u001b[0morder\u001b[0m\u001b[0;34m)\u001b[0m\u001b[0;34m\u001b[0m\u001b[0;34m\u001b[0m\u001b[0m\n\u001b[0m\u001b[1;32m     86\u001b[0m \u001b[0;34m\u001b[0m\u001b[0m\n\u001b[1;32m     87\u001b[0m \u001b[0;34m\u001b[0m\u001b[0m\n",
            "\u001b[0;31mValueError\u001b[0m: could not convert string to float: 'Apple'"
          ]
        }
      ]
    },
    {
      "cell_type": "markdown",
      "metadata": {
        "id": "ZWNhSYgbpKe8",
        "colab_type": "text"
      },
      "source": [
        "### Cluster labels in hierarchical clustering\n",
        "Retrieving cluster labels in intermediate stages, use in cross tabulations.<br>\n",
        "Height on a dendrogram is the max distance between merging clusters. Don't merge farther apart than this.<br>\n",
        "Linkage method determines cluster distance.<br>\n",
        "fcluster() returns cluster labels"
      ]
    },
    {
      "cell_type": "code",
      "metadata": {
        "id": "y3hai0iooa0U",
        "colab_type": "code",
        "colab": {
          "base_uri": "https://localhost:8080/",
          "height": 204
        },
        "outputId": "346ec5ab-1adf-431c-d760-f260001f962d"
      },
      "source": [
        "euro = pd.read_csv('eurovision-2016.csv')\n",
        "euro.head()"
      ],
      "execution_count": 37,
      "outputs": [
        {
          "output_type": "execute_result",
          "data": {
            "text/html": [
              "<div>\n",
              "<style scoped>\n",
              "    .dataframe tbody tr th:only-of-type {\n",
              "        vertical-align: middle;\n",
              "    }\n",
              "\n",
              "    .dataframe tbody tr th {\n",
              "        vertical-align: top;\n",
              "    }\n",
              "\n",
              "    .dataframe thead th {\n",
              "        text-align: right;\n",
              "    }\n",
              "</style>\n",
              "<table border=\"1\" class=\"dataframe\">\n",
              "  <thead>\n",
              "    <tr style=\"text-align: right;\">\n",
              "      <th></th>\n",
              "      <th>From country</th>\n",
              "      <th>To country</th>\n",
              "      <th>Jury A</th>\n",
              "      <th>Jury B</th>\n",
              "      <th>Jury C</th>\n",
              "      <th>Jury D</th>\n",
              "      <th>Jury E</th>\n",
              "      <th>Jury Rank</th>\n",
              "      <th>Televote Rank</th>\n",
              "      <th>Jury Points</th>\n",
              "      <th>Televote Points</th>\n",
              "    </tr>\n",
              "  </thead>\n",
              "  <tbody>\n",
              "    <tr>\n",
              "      <th>0</th>\n",
              "      <td>Albania</td>\n",
              "      <td>Belgium</td>\n",
              "      <td>20</td>\n",
              "      <td>16</td>\n",
              "      <td>24</td>\n",
              "      <td>22</td>\n",
              "      <td>24</td>\n",
              "      <td>25</td>\n",
              "      <td>14</td>\n",
              "      <td>NaN</td>\n",
              "      <td>NaN</td>\n",
              "    </tr>\n",
              "    <tr>\n",
              "      <th>1</th>\n",
              "      <td>Albania</td>\n",
              "      <td>Czech Republic</td>\n",
              "      <td>21</td>\n",
              "      <td>15</td>\n",
              "      <td>25</td>\n",
              "      <td>23</td>\n",
              "      <td>16</td>\n",
              "      <td>22</td>\n",
              "      <td>22</td>\n",
              "      <td>NaN</td>\n",
              "      <td>NaN</td>\n",
              "    </tr>\n",
              "    <tr>\n",
              "      <th>2</th>\n",
              "      <td>Albania</td>\n",
              "      <td>The Netherlands</td>\n",
              "      <td>22</td>\n",
              "      <td>14</td>\n",
              "      <td>23</td>\n",
              "      <td>24</td>\n",
              "      <td>21</td>\n",
              "      <td>24</td>\n",
              "      <td>24</td>\n",
              "      <td>NaN</td>\n",
              "      <td>NaN</td>\n",
              "    </tr>\n",
              "    <tr>\n",
              "      <th>3</th>\n",
              "      <td>Albania</td>\n",
              "      <td>Azerbaijan</td>\n",
              "      <td>19</td>\n",
              "      <td>12</td>\n",
              "      <td>11</td>\n",
              "      <td>21</td>\n",
              "      <td>11</td>\n",
              "      <td>13</td>\n",
              "      <td>19</td>\n",
              "      <td>NaN</td>\n",
              "      <td>NaN</td>\n",
              "    </tr>\n",
              "    <tr>\n",
              "      <th>4</th>\n",
              "      <td>Albania</td>\n",
              "      <td>Hungary</td>\n",
              "      <td>8</td>\n",
              "      <td>13</td>\n",
              "      <td>9</td>\n",
              "      <td>14</td>\n",
              "      <td>9</td>\n",
              "      <td>10</td>\n",
              "      <td>10</td>\n",
              "      <td>1.0</td>\n",
              "      <td>1.0</td>\n",
              "    </tr>\n",
              "  </tbody>\n",
              "</table>\n",
              "</div>"
            ],
            "text/plain": [
              "  From country       To country  ...  Jury Points  Televote Points\n",
              "0      Albania          Belgium  ...          NaN              NaN\n",
              "1      Albania   Czech Republic  ...          NaN              NaN\n",
              "2      Albania  The Netherlands  ...          NaN              NaN\n",
              "3      Albania       Azerbaijan  ...          NaN              NaN\n",
              "4      Albania          Hungary  ...          1.0              1.0\n",
              "\n",
              "[5 rows x 11 columns]"
            ]
          },
          "metadata": {
            "tags": []
          },
          "execution_count": 37
        }
      ]
    },
    {
      "cell_type": "code",
      "metadata": {
        "id": "MspUhiW3xcOb",
        "colab_type": "code",
        "colab": {
          "base_uri": "https://localhost:8080/",
          "height": 34
        },
        "outputId": "35bcc558-7c5e-467b-c830-4ad2734d31cb"
      },
      "source": [
        "euro.shape"
      ],
      "execution_count": 38,
      "outputs": [
        {
          "output_type": "execute_result",
          "data": {
            "text/plain": [
              "(1066, 11)"
            ]
          },
          "metadata": {
            "tags": []
          },
          "execution_count": 38
        }
      ]
    },
    {
      "cell_type": "code",
      "metadata": {
        "id": "vVH0Y3tsxM7P",
        "colab_type": "code",
        "colab": {
          "base_uri": "https://localhost:8080/",
          "height": 204
        },
        "outputId": "3ebe8b6a-2b4c-4378-a595-cecb91de8742"
      },
      "source": [
        "samples = euro.iloc[:,2:9]\n",
        "samples.head()"
      ],
      "execution_count": 39,
      "outputs": [
        {
          "output_type": "execute_result",
          "data": {
            "text/html": [
              "<div>\n",
              "<style scoped>\n",
              "    .dataframe tbody tr th:only-of-type {\n",
              "        vertical-align: middle;\n",
              "    }\n",
              "\n",
              "    .dataframe tbody tr th {\n",
              "        vertical-align: top;\n",
              "    }\n",
              "\n",
              "    .dataframe thead th {\n",
              "        text-align: right;\n",
              "    }\n",
              "</style>\n",
              "<table border=\"1\" class=\"dataframe\">\n",
              "  <thead>\n",
              "    <tr style=\"text-align: right;\">\n",
              "      <th></th>\n",
              "      <th>Jury A</th>\n",
              "      <th>Jury B</th>\n",
              "      <th>Jury C</th>\n",
              "      <th>Jury D</th>\n",
              "      <th>Jury E</th>\n",
              "      <th>Jury Rank</th>\n",
              "      <th>Televote Rank</th>\n",
              "    </tr>\n",
              "  </thead>\n",
              "  <tbody>\n",
              "    <tr>\n",
              "      <th>0</th>\n",
              "      <td>20</td>\n",
              "      <td>16</td>\n",
              "      <td>24</td>\n",
              "      <td>22</td>\n",
              "      <td>24</td>\n",
              "      <td>25</td>\n",
              "      <td>14</td>\n",
              "    </tr>\n",
              "    <tr>\n",
              "      <th>1</th>\n",
              "      <td>21</td>\n",
              "      <td>15</td>\n",
              "      <td>25</td>\n",
              "      <td>23</td>\n",
              "      <td>16</td>\n",
              "      <td>22</td>\n",
              "      <td>22</td>\n",
              "    </tr>\n",
              "    <tr>\n",
              "      <th>2</th>\n",
              "      <td>22</td>\n",
              "      <td>14</td>\n",
              "      <td>23</td>\n",
              "      <td>24</td>\n",
              "      <td>21</td>\n",
              "      <td>24</td>\n",
              "      <td>24</td>\n",
              "    </tr>\n",
              "    <tr>\n",
              "      <th>3</th>\n",
              "      <td>19</td>\n",
              "      <td>12</td>\n",
              "      <td>11</td>\n",
              "      <td>21</td>\n",
              "      <td>11</td>\n",
              "      <td>13</td>\n",
              "      <td>19</td>\n",
              "    </tr>\n",
              "    <tr>\n",
              "      <th>4</th>\n",
              "      <td>8</td>\n",
              "      <td>13</td>\n",
              "      <td>9</td>\n",
              "      <td>14</td>\n",
              "      <td>9</td>\n",
              "      <td>10</td>\n",
              "      <td>10</td>\n",
              "    </tr>\n",
              "  </tbody>\n",
              "</table>\n",
              "</div>"
            ],
            "text/plain": [
              "   Jury A  Jury B  Jury C  Jury D  Jury E  Jury Rank  Televote Rank\n",
              "0      20      16      24      22      24         25             14\n",
              "1      21      15      25      23      16         22             22\n",
              "2      22      14      23      24      21         24             24\n",
              "3      19      12      11      21      11         13             19\n",
              "4       8      13       9      14       9         10             10"
            ]
          },
          "metadata": {
            "tags": []
          },
          "execution_count": 39
        }
      ]
    },
    {
      "cell_type": "code",
      "metadata": {
        "id": "e687bkfkxM_w",
        "colab_type": "code",
        "colab": {}
      },
      "source": [
        "country_names = euro['From country'].values"
      ],
      "execution_count": 40,
      "outputs": []
    },
    {
      "cell_type": "code",
      "metadata": {
        "id": "qPB8l7Mbv1za",
        "colab_type": "code",
        "colab": {
          "base_uri": "https://localhost:8080/",
          "height": 322
        },
        "outputId": "475b3cb0-a236-4377-aad7-c3d150832c4d"
      },
      "source": [
        "# Perform the necessary imports\n",
        "import matplotlib.pyplot as plt\n",
        "from scipy.cluster.hierarchy import linkage, dendrogram\n",
        "\n",
        "# Calculate the linkage: mergings\n",
        "mergings = linkage(samples, method='single')\n",
        "\n",
        "# Plot the dendrogram\n",
        "dendrogram(mergings, labels=country_names,leaf_rotation=90,leaf_font_size=6)\n",
        "plt.show()"
      ],
      "execution_count": 41,
      "outputs": [
        {
          "output_type": "display_data",
          "data": {
            "image/png": "[encoded data removed]",
            "text/plain": [
              "<Figure size 432x288 with 1 Axes>"
            ]
          },
          "metadata": {
            "tags": [],
            "needs_background": "light"
          }
        }
      ]
    },
    {
      "cell_type": "code",
      "metadata": {
        "id": "zDTUfy3r1uSA",
        "colab_type": "code",
        "colab": {}
      },
      "source": [
        ""
      ],
      "execution_count": 41,
      "outputs": []
    },
    {
      "cell_type": "code",
      "metadata": {
        "id": "hBYKJuGoxysk",
        "colab_type": "code",
        "colab": {
          "base_uri": "https://localhost:8080/",
          "height": 68
        },
        "outputId": "f4adfc54-105c-473d-e766-b857649c1524"
      },
      "source": [
        "# Perform the necessary imports\n",
        "import pandas as pd\n",
        "from scipy.cluster.hierarchy import fcluster\n",
        "\n",
        "mergings = linkage(grain, method='single')\n",
        "\n",
        "# Use fcluster to extract labels: labels\n",
        "labels = fcluster(mergings,6,criterion='distance' )\n",
        "\n",
        "# Create a DataFrame with labels and varieties as columns: df\n",
        "df = pd.DataFrame({'labels': labels, 'varieties': w_varieties})\n",
        "\n",
        "# Create crosstab: ct\n",
        "ct = pd.crosstab(df.labels, df.varieties)\n",
        "\n",
        "# Display ct\n",
        "print(ct)"
      ],
      "execution_count": 42,
      "outputs": [
        {
          "output_type": "stream",
          "text": [
            "varieties  Canadian wheat  Kama wheat  Rosa wheat\n",
            "labels                                           \n",
            "1                      70          70          70\n"
          ],
          "name": "stdout"
        }
      ]
    },
    {
      "cell_type": "markdown",
      "metadata": {
        "id": "nKAKtLkJ2c9Z",
        "colab_type": "text"
      },
      "source": [
        "### t-SNE for 2-dimensional maps\n",
        "t-SNE reduces multidimensional data into 2 or 3 dimensions for the purpose of visualization.  Axes have no meaning in t-SNE"
      ]
    },
    {
      "cell_type": "code",
      "metadata": {
        "id": "pstzvT9TKSJU",
        "colab_type": "code",
        "colab": {
          "base_uri": "https://localhost:8080/",
          "height": 34
        },
        "outputId": "59731951-1d65-48f6-cb5f-66c31ee027dc"
      },
      "source": [
        "import numpy as np\n",
        "from sklearn import datasets\n",
        "iris = datasets.load_iris()\n",
        "iris.keys()"
      ],
      "execution_count": 43,
      "outputs": [
        {
          "output_type": "execute_result",
          "data": {
            "text/plain": [
              "dict_keys(['data', 'target', 'target_names', 'DESCR', 'feature_names', 'filename'])"
            ]
          },
          "metadata": {
            "tags": []
          },
          "execution_count": 43
        }
      ]
    },
    {
      "cell_type": "code",
      "metadata": {
        "id": "TBjlxYM0KseP",
        "colab_type": "code",
        "colab": {
          "base_uri": "https://localhost:8080/",
          "height": 34
        },
        "outputId": "fd6136a8-97c5-4022-b4a5-351e079d2add"
      },
      "source": [
        "iris.target_names"
      ],
      "execution_count": 44,
      "outputs": [
        {
          "output_type": "execute_result",
          "data": {
            "text/plain": [
              "array(['setosa', 'versicolor', 'virginica'], dtype='<U10')"
            ]
          },
          "metadata": {
            "tags": []
          },
          "execution_count": 44
        }
      ]
    },
    {
      "cell_type": "code",
      "metadata": {
        "id": "LUvmLkrh2T8W",
        "colab_type": "code",
        "colab": {
          "base_uri": "https://localhost:8080/",
          "height": 204
        },
        "outputId": "de2850c6-42c0-4848-fe88-f8f32b30d766"
      },
      "source": [
        "\n",
        "X = iris.data\n",
        "y = iris.target\n",
        "\n",
        "df = pd.DataFrame(X, columns=iris.feature_names)\n",
        "df.head()"
      ],
      "execution_count": 45,
      "outputs": [
        {
          "output_type": "execute_result",
          "data": {
            "text/html": [
              "<div>\n",
              "<style scoped>\n",
              "    .dataframe tbody tr th:only-of-type {\n",
              "        vertical-align: middle;\n",
              "    }\n",
              "\n",
              "    .dataframe tbody tr th {\n",
              "        vertical-align: top;\n",
              "    }\n",
              "\n",
              "    .dataframe thead th {\n",
              "        text-align: right;\n",
              "    }\n",
              "</style>\n",
              "<table border=\"1\" class=\"dataframe\">\n",
              "  <thead>\n",
              "    <tr style=\"text-align: right;\">\n",
              "      <th></th>\n",
              "      <th>sepal length (cm)</th>\n",
              "      <th>sepal width (cm)</th>\n",
              "      <th>petal length (cm)</th>\n",
              "      <th>petal width (cm)</th>\n",
              "    </tr>\n",
              "  </thead>\n",
              "  <tbody>\n",
              "    <tr>\n",
              "      <th>0</th>\n",
              "      <td>5.1</td>\n",
              "      <td>3.5</td>\n",
              "      <td>1.4</td>\n",
              "      <td>0.2</td>\n",
              "    </tr>\n",
              "    <tr>\n",
              "      <th>1</th>\n",
              "      <td>4.9</td>\n",
              "      <td>3.0</td>\n",
              "      <td>1.4</td>\n",
              "      <td>0.2</td>\n",
              "    </tr>\n",
              "    <tr>\n",
              "      <th>2</th>\n",
              "      <td>4.7</td>\n",
              "      <td>3.2</td>\n",
              "      <td>1.3</td>\n",
              "      <td>0.2</td>\n",
              "    </tr>\n",
              "    <tr>\n",
              "      <th>3</th>\n",
              "      <td>4.6</td>\n",
              "      <td>3.1</td>\n",
              "      <td>1.5</td>\n",
              "      <td>0.2</td>\n",
              "    </tr>\n",
              "    <tr>\n",
              "      <th>4</th>\n",
              "      <td>5.0</td>\n",
              "      <td>3.6</td>\n",
              "      <td>1.4</td>\n",
              "      <td>0.2</td>\n",
              "    </tr>\n",
              "  </tbody>\n",
              "</table>\n",
              "</div>"
            ],
            "text/plain": [
              "   sepal length (cm)  sepal width (cm)  petal length (cm)  petal width (cm)\n",
              "0                5.1               3.5                1.4               0.2\n",
              "1                4.9               3.0                1.4               0.2\n",
              "2                4.7               3.2                1.3               0.2\n",
              "3                4.6               3.1                1.5               0.2\n",
              "4                5.0               3.6                1.4               0.2"
            ]
          },
          "metadata": {
            "tags": []
          },
          "execution_count": 45
        }
      ]
    },
    {
      "cell_type": "code",
      "metadata": {
        "id": "kotGKD_98LTp",
        "colab_type": "code",
        "colab": {
          "base_uri": "https://localhost:8080/",
          "height": 265
        },
        "outputId": "0f5dba86-7839-493c-fbbe-3002bcb23790"
      },
      "source": [
        "# Import TSNE\n",
        "from sklearn.manifold import TSNE\n",
        "\n",
        "# Create a TSNE instance: model\n",
        "model = TSNE(learning_rate=200)\n",
        "\n",
        "# Apply fit_transform to samples: tsne_features\n",
        "tsne_features = model.fit_transform(X)\n",
        "\n",
        "# Select the 0th feature: xs\n",
        "xs = tsne_features[:,0]\n",
        "\n",
        "# Select the 1st feature: ys\n",
        "ys = tsne_features[:,1]\n",
        "\n",
        "# Scatter plot, coloring by variety_numbers\n",
        "plt.scatter(xs, ys, c=y)\n",
        "plt.show()"
      ],
      "execution_count": 46,
      "outputs": [
        {
          "output_type": "display_data",
          "data": {
            "image/png": "[encoded data removed]",
            "text/plain": [
              "<Figure size 432x288 with 1 Axes>"
            ]
          },
          "metadata": {
            "tags": [],
            "needs_background": "light"
          }
        }
      ]
    },
    {
      "cell_type": "code",
      "metadata": {
        "id": "4cDtAPeUBx3f",
        "colab_type": "code",
        "colab": {
          "base_uri": "https://localhost:8080/",
          "height": 287
        },
        "outputId": "52a6ec2a-209a-4bd0-a540-3b2fe845f623"
      },
      "source": [
        "stocks.head()"
      ],
      "execution_count": 47,
      "outputs": [
        {
          "output_type": "execute_result",
          "data": {
            "text/html": [
              "<div>\n",
              "<style scoped>\n",
              "    .dataframe tbody tr th:only-of-type {\n",
              "        vertical-align: middle;\n",
              "    }\n",
              "\n",
              "    .dataframe tbody tr th {\n",
              "        vertical-align: top;\n",
              "    }\n",
              "\n",
              "    .dataframe thead th {\n",
              "        text-align: right;\n",
              "    }\n",
              "</style>\n",
              "<table border=\"1\" class=\"dataframe\">\n",
              "  <thead>\n",
              "    <tr style=\"text-align: right;\">\n",
              "      <th></th>\n",
              "      <th>Unnamed: 0</th>\n",
              "      <th>2010-01-04</th>\n",
              "      <th>2010-01-05</th>\n",
              "      <th>2010-01-06</th>\n",
              "      <th>2010-01-07</th>\n",
              "      <th>2010-01-08</th>\n",
              "      <th>2010-01-11</th>\n",
              "      <th>2010-01-12</th>\n",
              "      <th>2010-01-13</th>\n",
              "      <th>2010-01-14</th>\n",
              "      <th>2010-01-15</th>\n",
              "      <th>2010-01-19</th>\n",
              "      <th>2010-01-20</th>\n",
              "      <th>2010-01-21</th>\n",
              "      <th>2010-01-22</th>\n",
              "      <th>2010-01-25</th>\n",
              "      <th>2010-01-26</th>\n",
              "      <th>2010-01-27</th>\n",
              "      <th>2010-01-28</th>\n",
              "      <th>2010-01-29</th>\n",
              "      <th>2010-02-01</th>\n",
              "      <th>2010-02-02</th>\n",
              "      <th>2010-02-03</th>\n",
              "      <th>2010-02-04</th>\n",
              "      <th>2010-02-05</th>\n",
              "      <th>2010-02-08</th>\n",
              "      <th>2010-02-09</th>\n",
              "      <th>2010-02-10</th>\n",
              "      <th>2010-02-11</th>\n",
              "      <th>2010-02-12</th>\n",
              "      <th>2010-02-16</th>\n",
              "      <th>2010-02-17</th>\n",
              "      <th>2010-02-18</th>\n",
              "      <th>2010-02-19</th>\n",
              "      <th>2010-02-22</th>\n",
              "      <th>2010-02-23</th>\n",
              "      <th>2010-02-24</th>\n",
              "      <th>2010-02-25</th>\n",
              "      <th>2010-02-26</th>\n",
              "      <th>2010-03-01</th>\n",
              "      <th>...</th>\n",
              "      <th>2013-09-04</th>\n",
              "      <th>2013-09-05</th>\n",
              "      <th>2013-09-06</th>\n",
              "      <th>2013-09-09</th>\n",
              "      <th>2013-09-10</th>\n",
              "      <th>2013-09-11</th>\n",
              "      <th>2013-09-12</th>\n",
              "      <th>2013-09-13</th>\n",
              "      <th>2013-09-16</th>\n",
              "      <th>2013-09-17</th>\n",
              "      <th>2013-09-18</th>\n",
              "      <th>2013-09-19</th>\n",
              "      <th>2013-09-20</th>\n",
              "      <th>2013-09-23</th>\n",
              "      <th>2013-09-24</th>\n",
              "      <th>2013-09-25</th>\n",
              "      <th>2013-09-26</th>\n",
              "      <th>2013-09-27</th>\n",
              "      <th>2013-09-30</th>\n",
              "      <th>2013-10-01</th>\n",
              "      <th>2013-10-02</th>\n",
              "      <th>2013-10-03</th>\n",
              "      <th>2013-10-04</th>\n",
              "      <th>2013-10-07</th>\n",
              "      <th>2013-10-08</th>\n",
              "      <th>2013-10-09</th>\n",
              "      <th>2013-10-10</th>\n",
              "      <th>2013-10-11</th>\n",
              "      <th>2013-10-14</th>\n",
              "      <th>2013-10-15</th>\n",
              "      <th>2013-10-16</th>\n",
              "      <th>2013-10-17</th>\n",
              "      <th>2013-10-18</th>\n",
              "      <th>2013-10-21</th>\n",
              "      <th>2013-10-22</th>\n",
              "      <th>2013-10-23</th>\n",
              "      <th>2013-10-24</th>\n",
              "      <th>2013-10-25</th>\n",
              "      <th>2013-10-28</th>\n",
              "      <th>2013-10-29</th>\n",
              "    </tr>\n",
              "  </thead>\n",
              "  <tbody>\n",
              "    <tr>\n",
              "      <th>0</th>\n",
              "      <td>Apple</td>\n",
              "      <td>0.580000</td>\n",
              "      <td>-0.220005</td>\n",
              "      <td>-3.409998</td>\n",
              "      <td>-1.170000</td>\n",
              "      <td>1.680011</td>\n",
              "      <td>-2.689994</td>\n",
              "      <td>-1.469994</td>\n",
              "      <td>2.779997</td>\n",
              "      <td>-0.680003</td>\n",
              "      <td>-4.999995</td>\n",
              "      <td>6.709993</td>\n",
              "      <td>-3.180006</td>\n",
              "      <td>-4.009998</td>\n",
              "      <td>-9.030006</td>\n",
              "      <td>0.560000</td>\n",
              "      <td>-0.010000</td>\n",
              "      <td>1.030010</td>\n",
              "      <td>-5.640009</td>\n",
              "      <td>-9.019993</td>\n",
              "      <td>2.360001</td>\n",
              "      <td>-0.050001</td>\n",
              "      <td>4.060000</td>\n",
              "      <td>-4.680000</td>\n",
              "      <td>2.829998</td>\n",
              "      <td>-1.570009</td>\n",
              "      <td>-0.229992</td>\n",
              "      <td>-0.769990</td>\n",
              "      <td>3.789993</td>\n",
              "      <td>2.269998</td>\n",
              "      <td>1.459994</td>\n",
              "      <td>-1.639998</td>\n",
              "      <td>1.300003</td>\n",
              "      <td>-0.190005</td>\n",
              "      <td>-1.920004</td>\n",
              "      <td>-2.940000</td>\n",
              "      <td>2.430002</td>\n",
              "      <td>4.619999</td>\n",
              "      <td>2.239998</td>\n",
              "      <td>3.240008</td>\n",
              "      <td>...</td>\n",
              "      <td>-0.869980</td>\n",
              "      <td>-4.980034</td>\n",
              "      <td>-0.219979</td>\n",
              "      <td>1.169960</td>\n",
              "      <td>-11.559998</td>\n",
              "      <td>0.699989</td>\n",
              "      <td>4.190003</td>\n",
              "      <td>-4.439995</td>\n",
              "      <td>-10.879982</td>\n",
              "      <td>7.360008</td>\n",
              "      <td>1.500008</td>\n",
              "      <td>1.599983</td>\n",
              "      <td>-10.589988</td>\n",
              "      <td>-5.459991</td>\n",
              "      <td>-5.779999</td>\n",
              "      <td>-7.669976</td>\n",
              "      <td>0.219979</td>\n",
              "      <td>-1.029983</td>\n",
              "      <td>-0.500038</td>\n",
              "      <td>9.510018</td>\n",
              "      <td>3.929970</td>\n",
              "      <td>-7.100029</td>\n",
              "      <td>-0.829979</td>\n",
              "      <td>1.190040</td>\n",
              "      <td>-9.000045</td>\n",
              "      <td>1.950005</td>\n",
              "      <td>-1.679985</td>\n",
              "      <td>5.820000</td>\n",
              "      <td>6.209969</td>\n",
              "      <td>1.169960</td>\n",
              "      <td>0.320008</td>\n",
              "      <td>4.519997</td>\n",
              "      <td>2.899987</td>\n",
              "      <td>9.590019</td>\n",
              "      <td>-6.540016</td>\n",
              "      <td>5.959976</td>\n",
              "      <td>6.910011</td>\n",
              "      <td>-5.359962</td>\n",
              "      <td>0.840019</td>\n",
              "      <td>-19.589981</td>\n",
              "    </tr>\n",
              "    <tr>\n",
              "      <th>1</th>\n",
              "      <td>AIG</td>\n",
              "      <td>-0.640002</td>\n",
              "      <td>-0.650000</td>\n",
              "      <td>-0.210001</td>\n",
              "      <td>-0.420000</td>\n",
              "      <td>0.710001</td>\n",
              "      <td>-0.200001</td>\n",
              "      <td>-1.130001</td>\n",
              "      <td>0.069999</td>\n",
              "      <td>-0.119999</td>\n",
              "      <td>-0.500000</td>\n",
              "      <td>0.200001</td>\n",
              "      <td>-0.100000</td>\n",
              "      <td>-0.460001</td>\n",
              "      <td>-1.190001</td>\n",
              "      <td>-0.650000</td>\n",
              "      <td>-1.300001</td>\n",
              "      <td>0.430000</td>\n",
              "      <td>-1.690000</td>\n",
              "      <td>-0.300001</td>\n",
              "      <td>-0.420000</td>\n",
              "      <td>-0.020001</td>\n",
              "      <td>-0.099998</td>\n",
              "      <td>-0.940001</td>\n",
              "      <td>-0.090000</td>\n",
              "      <td>-0.250000</td>\n",
              "      <td>0.760000</td>\n",
              "      <td>3.710001</td>\n",
              "      <td>-0.200001</td>\n",
              "      <td>1.000000</td>\n",
              "      <td>0.000000</td>\n",
              "      <td>-0.630001</td>\n",
              "      <td>0.299999</td>\n",
              "      <td>-0.010000</td>\n",
              "      <td>1.540001</td>\n",
              "      <td>-1.459999</td>\n",
              "      <td>0.830000</td>\n",
              "      <td>0.069999</td>\n",
              "      <td>-0.900000</td>\n",
              "      <td>-2.179998</td>\n",
              "      <td>...</td>\n",
              "      <td>0.680000</td>\n",
              "      <td>0.229999</td>\n",
              "      <td>-0.720002</td>\n",
              "      <td>0.829998</td>\n",
              "      <td>-0.130001</td>\n",
              "      <td>0.340000</td>\n",
              "      <td>-0.620003</td>\n",
              "      <td>0.320000</td>\n",
              "      <td>-0.470001</td>\n",
              "      <td>0.790001</td>\n",
              "      <td>0.279999</td>\n",
              "      <td>-0.930000</td>\n",
              "      <td>-0.020000</td>\n",
              "      <td>-0.439998</td>\n",
              "      <td>0.100003</td>\n",
              "      <td>0.190003</td>\n",
              "      <td>-0.239998</td>\n",
              "      <td>-0.029998</td>\n",
              "      <td>0.020000</td>\n",
              "      <td>0.579998</td>\n",
              "      <td>0.350002</td>\n",
              "      <td>-0.210003</td>\n",
              "      <td>0.660000</td>\n",
              "      <td>-0.310001</td>\n",
              "      <td>-1.099998</td>\n",
              "      <td>0.050000</td>\n",
              "      <td>1.290001</td>\n",
              "      <td>0.330002</td>\n",
              "      <td>0.599999</td>\n",
              "      <td>-0.160000</td>\n",
              "      <td>0.919998</td>\n",
              "      <td>0.709999</td>\n",
              "      <td>0.119999</td>\n",
              "      <td>-0.480000</td>\n",
              "      <td>0.010002</td>\n",
              "      <td>-0.279998</td>\n",
              "      <td>-0.190003</td>\n",
              "      <td>-0.040001</td>\n",
              "      <td>-0.400002</td>\n",
              "      <td>0.660000</td>\n",
              "    </tr>\n",
              "    <tr>\n",
              "      <th>2</th>\n",
              "      <td>Amazon</td>\n",
              "      <td>-2.350006</td>\n",
              "      <td>1.260009</td>\n",
              "      <td>-2.350006</td>\n",
              "      <td>-2.009995</td>\n",
              "      <td>2.960006</td>\n",
              "      <td>-2.309997</td>\n",
              "      <td>-1.640007</td>\n",
              "      <td>1.209999</td>\n",
              "      <td>-1.790001</td>\n",
              "      <td>-2.039994</td>\n",
              "      <td>1.300003</td>\n",
              "      <td>-1.349998</td>\n",
              "      <td>-0.639999</td>\n",
              "      <td>-4.169998</td>\n",
              "      <td>-1.790000</td>\n",
              "      <td>-1.079995</td>\n",
              "      <td>1.720001</td>\n",
              "      <td>1.599999</td>\n",
              "      <td>-4.360000</td>\n",
              "      <td>-4.309997</td>\n",
              "      <td>-0.669998</td>\n",
              "      <td>1.979995</td>\n",
              "      <td>-2.699997</td>\n",
              "      <td>1.510002</td>\n",
              "      <td>-2.549995</td>\n",
              "      <td>-0.169998</td>\n",
              "      <td>-0.639999</td>\n",
              "      <td>2.879997</td>\n",
              "      <td>0.670006</td>\n",
              "      <td>-2.529999</td>\n",
              "      <td>-0.760002</td>\n",
              "      <td>2.240006</td>\n",
              "      <td>-0.390007</td>\n",
              "      <td>0.639999</td>\n",
              "      <td>-0.770004</td>\n",
              "      <td>1.760002</td>\n",
              "      <td>0.029999</td>\n",
              "      <td>0.520005</td>\n",
              "      <td>5.840004</td>\n",
              "      <td>...</td>\n",
              "      <td>5.310028</td>\n",
              "      <td>0.470001</td>\n",
              "      <td>0.529998</td>\n",
              "      <td>2.489990</td>\n",
              "      <td>-0.190003</td>\n",
              "      <td>0.730011</td>\n",
              "      <td>-0.530030</td>\n",
              "      <td>-2.220002</td>\n",
              "      <td>-3.760009</td>\n",
              "      <td>6.540008</td>\n",
              "      <td>7.970001</td>\n",
              "      <td>-1.709991</td>\n",
              "      <td>3.799987</td>\n",
              "      <td>-2.520020</td>\n",
              "      <td>1.700012</td>\n",
              "      <td>-1.880005</td>\n",
              "      <td>4.220001</td>\n",
              "      <td>-0.910003</td>\n",
              "      <td>-0.769989</td>\n",
              "      <td>6.730011</td>\n",
              "      <td>2.470001</td>\n",
              "      <td>-5.630005</td>\n",
              "      <td>3.910004</td>\n",
              "      <td>-5.209991</td>\n",
              "      <td>-8.269989</td>\n",
              "      <td>-5.190002</td>\n",
              "      <td>0.540008</td>\n",
              "      <td>6.120026</td>\n",
              "      <td>1.480011</td>\n",
              "      <td>-3.470001</td>\n",
              "      <td>2.109985</td>\n",
              "      <td>3.699982</td>\n",
              "      <td>9.570008</td>\n",
              "      <td>-3.450013</td>\n",
              "      <td>4.820008</td>\n",
              "      <td>-4.079986</td>\n",
              "      <td>2.579986</td>\n",
              "      <td>4.790009</td>\n",
              "      <td>-1.760009</td>\n",
              "      <td>3.740021</td>\n",
              "    </tr>\n",
              "    <tr>\n",
              "      <th>3</th>\n",
              "      <td>American express</td>\n",
              "      <td>0.109997</td>\n",
              "      <td>0.000000</td>\n",
              "      <td>0.260002</td>\n",
              "      <td>0.720002</td>\n",
              "      <td>0.190003</td>\n",
              "      <td>-0.270001</td>\n",
              "      <td>0.750000</td>\n",
              "      <td>0.300004</td>\n",
              "      <td>0.639999</td>\n",
              "      <td>-0.130001</td>\n",
              "      <td>0.719997</td>\n",
              "      <td>0.050000</td>\n",
              "      <td>-0.830002</td>\n",
              "      <td>-2.770001</td>\n",
              "      <td>-1.309997</td>\n",
              "      <td>0.559997</td>\n",
              "      <td>0.709999</td>\n",
              "      <td>-1.239998</td>\n",
              "      <td>0.060002</td>\n",
              "      <td>0.369999</td>\n",
              "      <td>0.340000</td>\n",
              "      <td>-0.579998</td>\n",
              "      <td>-0.500000</td>\n",
              "      <td>0.189998</td>\n",
              "      <td>-0.969997</td>\n",
              "      <td>0.270001</td>\n",
              "      <td>0.169998</td>\n",
              "      <td>0.480000</td>\n",
              "      <td>0.629997</td>\n",
              "      <td>0.809998</td>\n",
              "      <td>-0.480000</td>\n",
              "      <td>0.080002</td>\n",
              "      <td>0.170002</td>\n",
              "      <td>-0.169998</td>\n",
              "      <td>-0.810002</td>\n",
              "      <td>0.310002</td>\n",
              "      <td>0.370003</td>\n",
              "      <td>0.039997</td>\n",
              "      <td>-0.070000</td>\n",
              "      <td>...</td>\n",
              "      <td>0.620002</td>\n",
              "      <td>0.639999</td>\n",
              "      <td>-0.570000</td>\n",
              "      <td>0.070008</td>\n",
              "      <td>0.379997</td>\n",
              "      <td>0.480003</td>\n",
              "      <td>0.000000</td>\n",
              "      <td>-0.279999</td>\n",
              "      <td>-0.739998</td>\n",
              "      <td>1.320000</td>\n",
              "      <td>0.650001</td>\n",
              "      <td>-0.239998</td>\n",
              "      <td>-0.300003</td>\n",
              "      <td>-0.849999</td>\n",
              "      <td>-0.319999</td>\n",
              "      <td>-0.139999</td>\n",
              "      <td>0.320000</td>\n",
              "      <td>-0.169999</td>\n",
              "      <td>0.549996</td>\n",
              "      <td>0.290001</td>\n",
              "      <td>-0.549995</td>\n",
              "      <td>-0.090004</td>\n",
              "      <td>0.430001</td>\n",
              "      <td>-0.559998</td>\n",
              "      <td>-0.809998</td>\n",
              "      <td>-0.159996</td>\n",
              "      <td>1.470002</td>\n",
              "      <td>0.730004</td>\n",
              "      <td>0.739998</td>\n",
              "      <td>-0.379997</td>\n",
              "      <td>0.680001</td>\n",
              "      <td>2.290001</td>\n",
              "      <td>0.409996</td>\n",
              "      <td>-0.069999</td>\n",
              "      <td>0.100006</td>\n",
              "      <td>0.069999</td>\n",
              "      <td>0.130005</td>\n",
              "      <td>1.849999</td>\n",
              "      <td>0.040001</td>\n",
              "      <td>0.540001</td>\n",
              "    </tr>\n",
              "    <tr>\n",
              "      <th>4</th>\n",
              "      <td>Boeing</td>\n",
              "      <td>0.459999</td>\n",
              "      <td>1.770000</td>\n",
              "      <td>1.549999</td>\n",
              "      <td>2.690003</td>\n",
              "      <td>0.059997</td>\n",
              "      <td>-1.080002</td>\n",
              "      <td>0.360000</td>\n",
              "      <td>0.549999</td>\n",
              "      <td>0.530002</td>\n",
              "      <td>-0.709999</td>\n",
              "      <td>0.050004</td>\n",
              "      <td>-0.130001</td>\n",
              "      <td>-1.099998</td>\n",
              "      <td>-0.849999</td>\n",
              "      <td>-0.569999</td>\n",
              "      <td>0.169998</td>\n",
              "      <td>3.090000</td>\n",
              "      <td>0.409999</td>\n",
              "      <td>-2.200001</td>\n",
              "      <td>0.959999</td>\n",
              "      <td>0.649998</td>\n",
              "      <td>-0.060001</td>\n",
              "      <td>-1.630001</td>\n",
              "      <td>-0.809997</td>\n",
              "      <td>-0.440003</td>\n",
              "      <td>1.120003</td>\n",
              "      <td>-0.169998</td>\n",
              "      <td>0.840000</td>\n",
              "      <td>-0.219997</td>\n",
              "      <td>0.840000</td>\n",
              "      <td>0.430001</td>\n",
              "      <td>1.110000</td>\n",
              "      <td>0.939998</td>\n",
              "      <td>0.389999</td>\n",
              "      <td>-1.040001</td>\n",
              "      <td>0.480000</td>\n",
              "      <td>0.149998</td>\n",
              "      <td>0.070000</td>\n",
              "      <td>0.950001</td>\n",
              "      <td>...</td>\n",
              "      <td>1.320000</td>\n",
              "      <td>0.489998</td>\n",
              "      <td>-0.930000</td>\n",
              "      <td>0.610000</td>\n",
              "      <td>0.529999</td>\n",
              "      <td>0.980003</td>\n",
              "      <td>0.610001</td>\n",
              "      <td>1.400002</td>\n",
              "      <td>1.939995</td>\n",
              "      <td>1.330002</td>\n",
              "      <td>1.120003</td>\n",
              "      <td>-0.180000</td>\n",
              "      <td>-2.520005</td>\n",
              "      <td>0.360000</td>\n",
              "      <td>1.809998</td>\n",
              "      <td>-0.809998</td>\n",
              "      <td>0.669998</td>\n",
              "      <td>0.229996</td>\n",
              "      <td>0.150002</td>\n",
              "      <td>-0.220001</td>\n",
              "      <td>0.459999</td>\n",
              "      <td>-2.110000</td>\n",
              "      <td>1.930000</td>\n",
              "      <td>1.180000</td>\n",
              "      <td>-1.229996</td>\n",
              "      <td>-0.930001</td>\n",
              "      <td>2.800004</td>\n",
              "      <td>-0.619995</td>\n",
              "      <td>2.040001</td>\n",
              "      <td>-1.239998</td>\n",
              "      <td>1.559997</td>\n",
              "      <td>2.480003</td>\n",
              "      <td>0.019997</td>\n",
              "      <td>-1.220001</td>\n",
              "      <td>0.480003</td>\n",
              "      <td>3.020004</td>\n",
              "      <td>-0.029999</td>\n",
              "      <td>1.940002</td>\n",
              "      <td>1.130005</td>\n",
              "      <td>0.309998</td>\n",
              "    </tr>\n",
              "  </tbody>\n",
              "</table>\n",
              "<p>5 rows × 964 columns</p>\n",
              "</div>"
            ],
            "text/plain": [
              "         Unnamed: 0  2010-01-04  2010-01-05  ...  2013-10-25  2013-10-28  2013-10-29\n",
              "0             Apple    0.580000   -0.220005  ...   -5.359962    0.840019  -19.589981\n",
              "1               AIG   -0.640002   -0.650000  ...   -0.040001   -0.400002    0.660000\n",
              "2            Amazon   -2.350006    1.260009  ...    4.790009   -1.760009    3.740021\n",
              "3  American express    0.109997    0.000000  ...    1.849999    0.040001    0.540001\n",
              "4            Boeing    0.459999    1.770000  ...    1.940002    1.130005    0.309998\n",
              "\n",
              "[5 rows x 964 columns]"
            ]
          },
          "metadata": {
            "tags": []
          },
          "execution_count": 47
        }
      ]
    },
    {
      "cell_type": "code",
      "metadata": {
        "id": "-_5cU63gBOWX",
        "colab_type": "code",
        "colab": {}
      },
      "source": [
        "features = stocks.drop('Unnamed: 0', axis=1).values\n",
        "companies = stocks['Unnamed: 0'].values\n",
        "\n",
        "from sklearn.preprocessing import Normalizer\n",
        "normalizer = Normalizer()\n",
        "normalized = normalizer.fit_transform(features)"
      ],
      "execution_count": 48,
      "outputs": []
    },
    {
      "cell_type": "code",
      "metadata": {
        "id": "ylrWERJb-HOa",
        "colab_type": "code",
        "colab": {
          "base_uri": "https://localhost:8080/",
          "height": 265
        },
        "outputId": "e2016b59-60c9-4bc7-fb22-cdeeb8cdf5e1"
      },
      "source": [
        "# Import TSNE\n",
        "from sklearn.manifold import TSNE\n",
        "\n",
        "# Create a TSNE instance: model\n",
        "model = TSNE(learning_rate=50)\n",
        "\n",
        "# Apply fit_transform to normalized_movements: tsne_features\n",
        "tsne_features = model.fit_transform(normalized)\n",
        "\n",
        "# Select the 0th feature: xs\n",
        "xs = tsne_features[:,0]\n",
        "\n",
        "# Select the 1th feature: ys\n",
        "ys = tsne_features[:,1]\n",
        "\n",
        "# Scatter plot\n",
        "plt.scatter(xs, ys, alpha=0.5)\n",
        "\n",
        "# Annotate the points\n",
        "for x, y, company in zip(xs, ys, companies):\n",
        "    plt.annotate(company, (x, y), fontsize=5, alpha=0.75)\n",
        "plt.show()"
      ],
      "execution_count": 49,
      "outputs": [
        {
          "output_type": "display_data",
          "data": {
            "image/png": "[encoded data removed]",
            "text/plain": [
              "<Figure size 432x288 with 1 Axes>"
            ]
          },
          "metadata": {
            "tags": [],
            "needs_background": "light"
          }
        }
      ]
    },
    {
      "cell_type": "markdown",
      "metadata": {
        "id": "3GGPRTDOCPFH",
        "colab_type": "text"
      },
      "source": [
        "# Decorrelating your data and dimension reduction\n",
        "### Visualizing the PCA transformation\n",
        "Dimension reduction summarizes a dataset using its common occuring patterns for better memory and storage usage.<br>\n",
        "First step 'decorrelation': kind of like resid plots, shifts data so that principal components are lined up with axes and makes mean 0.<br>\n"
      ]
    },
    {
      "cell_type": "code",
      "metadata": {
        "id": "bnTQiyftCGX6",
        "colab_type": "code",
        "colab": {
          "base_uri": "https://localhost:8080/",
          "height": 204
        },
        "outputId": "44f9958c-60bd-4d6c-ed5a-fb117945109e"
      },
      "source": [
        "grain.head()"
      ],
      "execution_count": 50,
      "outputs": [
        {
          "output_type": "execute_result",
          "data": {
            "text/html": [
              "<div>\n",
              "<style scoped>\n",
              "    .dataframe tbody tr th:only-of-type {\n",
              "        vertical-align: middle;\n",
              "    }\n",
              "\n",
              "    .dataframe tbody tr th {\n",
              "        vertical-align: top;\n",
              "    }\n",
              "\n",
              "    .dataframe thead th {\n",
              "        text-align: right;\n",
              "    }\n",
              "</style>\n",
              "<table border=\"1\" class=\"dataframe\">\n",
              "  <thead>\n",
              "    <tr style=\"text-align: right;\">\n",
              "      <th></th>\n",
              "      <th>0</th>\n",
              "      <th>1</th>\n",
              "      <th>2</th>\n",
              "      <th>3</th>\n",
              "      <th>4</th>\n",
              "      <th>5</th>\n",
              "      <th>6</th>\n",
              "      <th>7</th>\n",
              "    </tr>\n",
              "  </thead>\n",
              "  <tbody>\n",
              "    <tr>\n",
              "      <th>0</th>\n",
              "      <td>15.26</td>\n",
              "      <td>14.84</td>\n",
              "      <td>0.8710</td>\n",
              "      <td>5.763</td>\n",
              "      <td>3.312</td>\n",
              "      <td>2.221</td>\n",
              "      <td>5.220</td>\n",
              "      <td>1</td>\n",
              "    </tr>\n",
              "    <tr>\n",
              "      <th>1</th>\n",
              "      <td>14.88</td>\n",
              "      <td>14.57</td>\n",
              "      <td>0.8811</td>\n",
              "      <td>5.554</td>\n",
              "      <td>3.333</td>\n",
              "      <td>1.018</td>\n",
              "      <td>4.956</td>\n",
              "      <td>1</td>\n",
              "    </tr>\n",
              "    <tr>\n",
              "      <th>2</th>\n",
              "      <td>14.29</td>\n",
              "      <td>14.09</td>\n",
              "      <td>0.9050</td>\n",
              "      <td>5.291</td>\n",
              "      <td>3.337</td>\n",
              "      <td>2.699</td>\n",
              "      <td>4.825</td>\n",
              "      <td>1</td>\n",
              "    </tr>\n",
              "    <tr>\n",
              "      <th>3</th>\n",
              "      <td>13.84</td>\n",
              "      <td>13.94</td>\n",
              "      <td>0.8955</td>\n",
              "      <td>5.324</td>\n",
              "      <td>3.379</td>\n",
              "      <td>2.259</td>\n",
              "      <td>4.805</td>\n",
              "      <td>1</td>\n",
              "    </tr>\n",
              "    <tr>\n",
              "      <th>4</th>\n",
              "      <td>16.14</td>\n",
              "      <td>14.99</td>\n",
              "      <td>0.9034</td>\n",
              "      <td>5.658</td>\n",
              "      <td>3.562</td>\n",
              "      <td>1.355</td>\n",
              "      <td>5.175</td>\n",
              "      <td>1</td>\n",
              "    </tr>\n",
              "  </tbody>\n",
              "</table>\n",
              "</div>"
            ],
            "text/plain": [
              "       0      1       2      3      4      5      6  7\n",
              "0  15.26  14.84  0.8710  5.763  3.312  2.221  5.220  1\n",
              "1  14.88  14.57  0.8811  5.554  3.333  1.018  4.956  1\n",
              "2  14.29  14.09  0.9050  5.291  3.337  2.699  4.825  1\n",
              "3  13.84  13.94  0.8955  5.324  3.379  2.259  4.805  1\n",
              "4  16.14  14.99  0.9034  5.658  3.562  1.355  5.175  1"
            ]
          },
          "metadata": {
            "tags": []
          },
          "execution_count": 50
        }
      ]
    },
    {
      "cell_type": "code",
      "metadata": {
        "id": "A-uyGYQTYKBF",
        "colab_type": "code",
        "colab": {
          "base_uri": "https://localhost:8080/",
          "height": 285
        },
        "outputId": "7bca69f2-9ba2-4df1-e635-1d7aeeb3c329"
      },
      "source": [
        "# Perform the necessary imports\n",
        "import matplotlib.pyplot as plt\n",
        "from scipy.stats import pearsonr\n",
        "\n",
        "grain = pd.read_csv('seeds-width-vs-length.csv')\n",
        "\n",
        "# Assign the 0th column of grains: width\n",
        "#width = grain[:,0] # it seems like slicing doesn't work in colab notebooks, this works in dc console\n",
        "\n",
        "width = grain.iloc[:,0]\n",
        "# Assign the 1st column of grains: length\n",
        "length = grain.iloc[:,1]\n",
        "\n",
        "# Scatter plot width vs length\n",
        "plt.scatter(width, length)\n",
        "plt.axis('equal')\n",
        "plt.show()\n",
        "\n",
        "# Calculate the Pearson correlation\n",
        "correlation, pvalue = pearsonr(width, length)\n",
        "\n",
        "# Display the correlation\n",
        "print(correlation)"
      ],
      "execution_count": 51,
      "outputs": [
        {
          "output_type": "display_data",
          "data": {
            "image/png": "[encoded data removed]",
            "text/plain": [
              "<Figure size 432x288 with 1 Axes>"
            ]
          },
          "metadata": {
            "tags": [],
            "needs_background": "light"
          }
        },
        {
          "output_type": "stream",
          "text": [
            "0.8604405325922296\n"
          ],
          "name": "stdout"
        }
      ]
    },
    {
      "cell_type": "code",
      "metadata": {
        "id": "Iy035BM9Ys0i",
        "colab_type": "code",
        "colab": {
          "base_uri": "https://localhost:8080/",
          "height": 282
        },
        "outputId": "4a6886a5-1c2c-456f-e060-b25be611b597"
      },
      "source": [
        "# Import PCA\n",
        "from sklearn.decomposition import PCA\n",
        "\n",
        "# Create PCA instance: model\n",
        "model = PCA()\n",
        "\n",
        "# Apply the fit_transform method of model to grains: pca_features\n",
        "pca_features = model.fit_transform(grain)\n",
        "\n",
        "# Assign 0th column of pca_features: xs\n",
        "xs = pca_features[:,0] # Why did taking slices work here?\n",
        "\n",
        "# Assign 1st column of pca_features: ys\n",
        "ys = pca_features[:,1]\n",
        "\n",
        "# Scatter plot xs vs ys\n",
        "plt.scatter(xs, ys)\n",
        "plt.axis('equal')\n",
        "plt.show()\n",
        "\n",
        "# Calculate the Pearson correlation of xs and ys\n",
        "correlation, pvalue = pearsonr(xs, ys)\n",
        "\n",
        "# Display the correlation\n",
        "print(correlation)"
      ],
      "execution_count": 52,
      "outputs": [
        {
          "output_type": "display_data",
          "data": {
            "image/png": "[encoded data removed]",
            "text/plain": [
              "<Figure size 432x288 with 1 Axes>"
            ]
          },
          "metadata": {
            "tags": [],
            "needs_background": "light"
          }
        },
        {
          "output_type": "stream",
          "text": [
            "-2.413434035952733e-16\n"
          ],
          "name": "stdout"
        }
      ]
    },
    {
      "cell_type": "markdown",
      "metadata": {
        "id": "D88zBHGkcGzD",
        "colab_type": "text"
      },
      "source": [
        "### Intrinsic dimension\n",
        "intrinsic dimension: number of dimensions needed to approximate the dataset i.e. how much the data can be reduced.  It is the number of PCA features that have a high variance. Over 5%?"
      ]
    },
    {
      "cell_type": "code",
      "metadata": {
        "id": "BY_dqcO7bpdk",
        "colab_type": "code",
        "colab": {
          "base_uri": "https://localhost:8080/",
          "height": 268
        },
        "outputId": "ed312c5f-03b7-439e-97d2-afd97d575a44"
      },
      "source": [
        "# Make a scatter plot of the untransformed points\n",
        "plt.scatter(grain.iloc[:,0], grain.iloc[:,1])\n",
        "\n",
        "# Create a PCA instance: model\n",
        "model = PCA()\n",
        "\n",
        "# Fit model to points\n",
        "model.fit(grain)\n",
        "\n",
        "# Get the mean of the grain samples: mean\n",
        "mean = model.mean_\n",
        "\n",
        "# Get the first principal component: first_pc\n",
        "first_pc = model.components_[0,:]\n",
        "\n",
        "# Plot first_pc as an arrow, starting at mean\n",
        "plt.arrow(mean[0], mean[1], first_pc[0], first_pc[1], color='red', width=0.01)\n",
        "\n",
        "# Keep axes on same scale\n",
        "plt.axis('equal')\n",
        "plt.show()"
      ],
      "execution_count": 53,
      "outputs": [
        {
          "output_type": "display_data",
          "data": {
            "image/png": "[encoded data removed]",
            "text/plain": [
              "<Figure size 432x288 with 1 Axes>"
            ]
          },
          "metadata": {
            "tags": [],
            "needs_background": "light"
          }
        }
      ]
    },
    {
      "cell_type": "code",
      "metadata": {
        "id": "FuG30p3UffNV",
        "colab_type": "code",
        "colab": {
          "base_uri": "https://localhost:8080/",
          "height": 204
        },
        "outputId": "27404162-a620-493f-ad0f-b66a3e0d1b9f"
      },
      "source": [
        "fish.head()"
      ],
      "execution_count": 54,
      "outputs": [
        {
          "output_type": "execute_result",
          "data": {
            "text/html": [
              "<div>\n",
              "<style scoped>\n",
              "    .dataframe tbody tr th:only-of-type {\n",
              "        vertical-align: middle;\n",
              "    }\n",
              "\n",
              "    .dataframe tbody tr th {\n",
              "        vertical-align: top;\n",
              "    }\n",
              "\n",
              "    .dataframe thead th {\n",
              "        text-align: right;\n",
              "    }\n",
              "</style>\n",
              "<table border=\"1\" class=\"dataframe\">\n",
              "  <thead>\n",
              "    <tr style=\"text-align: right;\">\n",
              "      <th></th>\n",
              "      <th>species</th>\n",
              "      <th>weight</th>\n",
              "      <th>vertical_length</th>\n",
              "      <th>diagonal_length</th>\n",
              "      <th>cross_length</th>\n",
              "      <th>height</th>\n",
              "      <th>diagonal_width</th>\n",
              "    </tr>\n",
              "  </thead>\n",
              "  <tbody>\n",
              "    <tr>\n",
              "      <th>0</th>\n",
              "      <td>Bream</td>\n",
              "      <td>290.0</td>\n",
              "      <td>24.0</td>\n",
              "      <td>26.3</td>\n",
              "      <td>31.2</td>\n",
              "      <td>40.0</td>\n",
              "      <td>13.8</td>\n",
              "    </tr>\n",
              "    <tr>\n",
              "      <th>1</th>\n",
              "      <td>Bream</td>\n",
              "      <td>340.0</td>\n",
              "      <td>23.9</td>\n",
              "      <td>26.5</td>\n",
              "      <td>31.1</td>\n",
              "      <td>39.8</td>\n",
              "      <td>15.1</td>\n",
              "    </tr>\n",
              "    <tr>\n",
              "      <th>2</th>\n",
              "      <td>Bream</td>\n",
              "      <td>363.0</td>\n",
              "      <td>26.3</td>\n",
              "      <td>29.0</td>\n",
              "      <td>33.5</td>\n",
              "      <td>38.0</td>\n",
              "      <td>13.3</td>\n",
              "    </tr>\n",
              "    <tr>\n",
              "      <th>3</th>\n",
              "      <td>Bream</td>\n",
              "      <td>430.0</td>\n",
              "      <td>26.5</td>\n",
              "      <td>29.0</td>\n",
              "      <td>34.0</td>\n",
              "      <td>36.6</td>\n",
              "      <td>15.1</td>\n",
              "    </tr>\n",
              "    <tr>\n",
              "      <th>4</th>\n",
              "      <td>Bream</td>\n",
              "      <td>450.0</td>\n",
              "      <td>26.8</td>\n",
              "      <td>29.7</td>\n",
              "      <td>34.7</td>\n",
              "      <td>39.2</td>\n",
              "      <td>14.2</td>\n",
              "    </tr>\n",
              "  </tbody>\n",
              "</table>\n",
              "</div>"
            ],
            "text/plain": [
              "  species  weight  vertical_length  ...  cross_length  height  diagonal_width\n",
              "0   Bream   290.0             24.0  ...          31.2    40.0            13.8\n",
              "1   Bream   340.0             23.9  ...          31.1    39.8            15.1\n",
              "2   Bream   363.0             26.3  ...          33.5    38.0            13.3\n",
              "3   Bream   430.0             26.5  ...          34.0    36.6            15.1\n",
              "4   Bream   450.0             26.8  ...          34.7    39.2            14.2\n",
              "\n",
              "[5 rows x 7 columns]"
            ]
          },
          "metadata": {
            "tags": []
          },
          "execution_count": 54
        }
      ]
    },
    {
      "cell_type": "code",
      "metadata": {
        "id": "75Pb_vyAeUQ2",
        "colab_type": "code",
        "colab": {
          "base_uri": "https://localhost:8080/",
          "height": 279
        },
        "outputId": "482d3075-d4b0-4db7-a6d9-c1e21cb7dcc6"
      },
      "source": [
        "samples = fish.drop('species', axis=1).values\n",
        "\n",
        "# Perform the necessary imports\n",
        "from sklearn.decomposition import PCA\n",
        "from sklearn.preprocessing import StandardScaler\n",
        "from sklearn.pipeline import make_pipeline\n",
        "import matplotlib.pyplot as plt\n",
        "\n",
        "# Create scaler: scaler\n",
        "scaler = StandardScaler()\n",
        "\n",
        "# Create a PCA instance: pca\n",
        "pca = PCA()\n",
        "\n",
        "# Create pipeline: pipeline\n",
        "pipeline = make_pipeline(scaler, pca)\n",
        "\n",
        "# Fit the pipeline to 'samples'\n",
        "pipeline.fit(samples)\n",
        "\n",
        "# Plot the explained variances\n",
        "features = range(pca.n_components_)\n",
        "plt.bar(features, pca.explained_variance_)\n",
        "plt.xlabel('PCA feature')\n",
        "plt.ylabel('variance')\n",
        "plt.xticks(features)\n",
        "plt.show()"
      ],
      "execution_count": 55,
      "outputs": [
        {
          "output_type": "display_data",
          "data": {
            "image/png": "[encoded data removed]",
            "text/plain": [
              "<Figure size 432x288 with 1 Axes>"
            ]
          },
          "metadata": {
            "tags": [],
            "needs_background": "light"
          }
        }
      ]
    },
    {
      "cell_type": "markdown",
      "metadata": {
        "id": "XM77h_anf3zh",
        "colab_type": "text"
      },
      "source": [
        "### Dimension reduction with PCA"
      ]
    },
    {
      "cell_type": "code",
      "metadata": {
        "id": "q_kBGeqpkDnl",
        "colab_type": "code",
        "colab": {
          "base_uri": "https://localhost:8080/",
          "height": 102
        },
        "outputId": "06b84dcc-f7ab-400d-e9c0-7da56c49fd6f"
      },
      "source": [
        "samples[:5]"
      ],
      "execution_count": 56,
      "outputs": [
        {
          "output_type": "execute_result",
          "data": {
            "text/plain": [
              "array([[290. ,  24. ,  26.3,  31.2,  40. ,  13.8],\n",
              "       [340. ,  23.9,  26.5,  31.1,  39.8,  15.1],\n",
              "       [363. ,  26.3,  29. ,  33.5,  38. ,  13.3],\n",
              "       [430. ,  26.5,  29. ,  34. ,  36.6,  15.1],\n",
              "       [450. ,  26.8,  29.7,  34.7,  39.2,  14.2]])"
            ]
          },
          "metadata": {
            "tags": []
          },
          "execution_count": 56
        }
      ]
    },
    {
      "cell_type": "code",
      "metadata": {
        "id": "vNVoLERDfuUa",
        "colab_type": "code",
        "colab": {
          "base_uri": "https://localhost:8080/",
          "height": 187
        },
        "outputId": "219ff2c4-d52f-4e6a-9c4c-f5c2ee69432b"
      },
      "source": [
        "from sklearn.preprocessing import StandardScaler\n",
        "scaler = StandardScaler()\n",
        "scaler.fit(samples)\n",
        "scaled_samples = scaler.transform(samples)\n",
        "scaled_samples[:5]"
      ],
      "execution_count": 57,
      "outputs": [
        {
          "output_type": "execute_result",
          "data": {
            "text/plain": [
              "array([[-0.37863149, -0.30035487, -0.2716005 , -0.14834877,  1.1707675 ,\n",
              "         0.44432002],\n",
              "       [-0.24717853, -0.30921988, -0.25517542, -0.15592863,  1.15132991,\n",
              "         1.05849403],\n",
              "       [-0.18671016, -0.09645972, -0.04986186,  0.02598811,  0.97639163,\n",
              "         0.20809925],\n",
              "       [-0.01056318, -0.0787297 , -0.04986186,  0.06388743,  0.84032853,\n",
              "         1.05849403],\n",
              "       [ 0.042018  , -0.05213468,  0.00762593,  0.11694647,  1.09301715,\n",
              "         0.63329664]])"
            ]
          },
          "metadata": {
            "tags": []
          },
          "execution_count": 57
        }
      ]
    },
    {
      "cell_type": "code",
      "metadata": {
        "id": "Mdcvc-KKjrs2",
        "colab_type": "code",
        "colab": {
          "base_uri": "https://localhost:8080/",
          "height": 34
        },
        "outputId": "e9ad2294-025f-459e-f581-284b1f23702d"
      },
      "source": [
        "# Import PCA\n",
        "from sklearn.decomposition import PCA\n",
        "\n",
        "# Create a PCA model with 2 components: pca\n",
        "pca = PCA(n_components = 2)\n",
        "\n",
        "# Fit the PCA instance to the scaled samples\n",
        "pca.fit(scaled_samples)\n",
        "\n",
        "# Transform the scaled samples: pca_features\n",
        "pca_features = pca.transform(scaled_samples)\n",
        "\n",
        "# Print the shape of pca_features\n",
        "print(pca_features.shape)"
      ],
      "execution_count": 58,
      "outputs": [
        {
          "output_type": "stream",
          "text": [
            "(84, 2)\n"
          ],
          "name": "stdout"
        }
      ]
    },
    {
      "cell_type": "markdown",
      "metadata": {
        "id": "piaKC32ElQhz",
        "colab_type": "text"
      },
      "source": [
        "TFIDF VECTORIZER"
      ]
    },
    {
      "cell_type": "code",
      "metadata": {
        "id": "rFtSA-uBkcPh",
        "colab_type": "code",
        "colab": {
          "base_uri": "https://localhost:8080/",
          "height": 85
        },
        "outputId": "4979e4f2-836f-40ac-f5d3-236ac2c9d31c"
      },
      "source": [
        "documents = ['cats say meow', 'dogs say woof', 'dogs chase cats']\n",
        "\n",
        "# Import TfidfVectorizer\n",
        "from sklearn.feature_extraction.text import TfidfVectorizer\n",
        "\n",
        "# Create a TfidfVectorizer: tfidf\n",
        "tfidf = TfidfVectorizer()\n",
        "\n",
        "# Apply fit_transform to document: csr_mat\n",
        "csr_mat = tfidf.fit_transform(documents)\n",
        "\n",
        "# Print result of toarray() method\n",
        "print(csr_mat.toarray())\n",
        "\n",
        "# Get the words: words\n",
        "words = tfidf.get_feature_names()\n",
        "\n",
        "# Print words\n",
        "print(words)"
      ],
      "execution_count": 59,
      "outputs": [
        {
          "output_type": "stream",
          "text": [
            "[[0.51785612 0.         0.         0.68091856 0.51785612 0.        ]\n",
            " [0.         0.         0.51785612 0.         0.51785612 0.68091856]\n",
            " [0.51785612 0.68091856 0.51785612 0.         0.         0.        ]]\n",
            "['cats', 'chase', 'dogs', 'meow', 'say', 'woof']\n"
          ],
          "name": "stdout"
        }
      ]
    },
    {
      "cell_type": "code",
      "metadata": {
        "id": "vLUBvYxTljxs",
        "colab_type": "code",
        "colab": {}
      },
      "source": [
        "# Perform the necessary imports\n",
        "from sklearn.decomposition import TruncatedSVD\n",
        "from sklearn.cluster import KMeans\n",
        "from sklearn.pipeline import make_pipeline\n",
        "\n",
        "# Create a TruncatedSVD instance: svd\n",
        "svd = TruncatedSVD(n_components=50)\n",
        "\n",
        "# Create a KMeans instance: kmeans\n",
        "kmeans = KMeans(n_clusters=6)\n",
        "\n",
        "# Create a pipeline: pipeline\n",
        "pipeline = make_pipeline(svd, kmeans)"
      ],
      "execution_count": 60,
      "outputs": []
    },
    {
      "cell_type": "code",
      "metadata": {
        "id": "q-W-rWxSnimJ",
        "colab_type": "code",
        "colab": {
          "base_uri": "https://localhost:8080/",
          "height": 216
        },
        "outputId": "4ee66c9d-3afa-41cf-a8eb-9ccad138e785"
      },
      "source": [
        "articles = pd.read_csv('wikipedia-vectors.csv').drop('Unnamed: 0', axis=1)\n",
        "articles.head(2)"
      ],
      "execution_count": 67,
      "outputs": [
        {
          "output_type": "execute_result",
          "data": {
            "text/html": [
              "<div>\n",
              "<style scoped>\n",
              "    .dataframe tbody tr th:only-of-type {\n",
              "        vertical-align: middle;\n",
              "    }\n",
              "\n",
              "    .dataframe tbody tr th {\n",
              "        vertical-align: top;\n",
              "    }\n",
              "\n",
              "    .dataframe thead th {\n",
              "        text-align: right;\n",
              "    }\n",
              "</style>\n",
              "<table border=\"1\" class=\"dataframe\">\n",
              "  <thead>\n",
              "    <tr style=\"text-align: right;\">\n",
              "      <th></th>\n",
              "      <th>HTTP 404</th>\n",
              "      <th>Alexa Internet</th>\n",
              "      <th>Internet Explorer</th>\n",
              "      <th>HTTP cookie</th>\n",
              "      <th>Google Search</th>\n",
              "      <th>Tumblr</th>\n",
              "      <th>Hypertext Transfer Protocol</th>\n",
              "      <th>Social search</th>\n",
              "      <th>Firefox</th>\n",
              "      <th>LinkedIn</th>\n",
              "      <th>Global warming</th>\n",
              "      <th>Nationally Appropriate Mitigation Action</th>\n",
              "      <th>Nigel Lawson</th>\n",
              "      <th>Connie Hedegaard</th>\n",
              "      <th>Climate change</th>\n",
              "      <th>Kyoto Protocol</th>\n",
              "      <th>350.org</th>\n",
              "      <th>Greenhouse gas emissions by the United States</th>\n",
              "      <th>2010 United Nations Climate Change Conference</th>\n",
              "      <th>2007 United Nations Climate Change Conference</th>\n",
              "      <th>Angelina Jolie</th>\n",
              "      <th>Michael Fassbender</th>\n",
              "      <th>Denzel Washington</th>\n",
              "      <th>Catherine Zeta-Jones</th>\n",
              "      <th>Jessica Biel</th>\n",
              "      <th>Russell Crowe</th>\n",
              "      <th>Mila Kunis</th>\n",
              "      <th>Dakota Fanning</th>\n",
              "      <th>Anne Hathaway</th>\n",
              "      <th>Jennifer Aniston</th>\n",
              "      <th>France national football team</th>\n",
              "      <th>Cristiano Ronaldo</th>\n",
              "      <th>Arsenal F.C.</th>\n",
              "      <th>Radamel Falcao</th>\n",
              "      <th>Zlatan Ibrahimović</th>\n",
              "      <th>Colombia national football team</th>\n",
              "      <th>2014 FIFA World Cup qualification</th>\n",
              "      <th>Football</th>\n",
              "      <th>Neymar</th>\n",
              "      <th>Franck Ribéry</th>\n",
              "      <th>Tonsillitis</th>\n",
              "      <th>Hepatitis B</th>\n",
              "      <th>Doxycycline</th>\n",
              "      <th>Leukemia</th>\n",
              "      <th>Gout</th>\n",
              "      <th>Hepatitis C</th>\n",
              "      <th>Prednisone</th>\n",
              "      <th>Fever</th>\n",
              "      <th>Gabapentin</th>\n",
              "      <th>Lymphoma</th>\n",
              "      <th>Chad Kroeger</th>\n",
              "      <th>Nate Ruess</th>\n",
              "      <th>The Wanted</th>\n",
              "      <th>Stevie Nicks</th>\n",
              "      <th>Arctic Monkeys</th>\n",
              "      <th>Black Sabbath</th>\n",
              "      <th>Skrillex</th>\n",
              "      <th>Red Hot Chili Peppers</th>\n",
              "      <th>Sepsis</th>\n",
              "      <th>Adam Levine</th>\n",
              "    </tr>\n",
              "  </thead>\n",
              "  <tbody>\n",
              "    <tr>\n",
              "      <th>0</th>\n",
              "      <td>0.0</td>\n",
              "      <td>0.0</td>\n",
              "      <td>0.0</td>\n",
              "      <td>0.0</td>\n",
              "      <td>0.0</td>\n",
              "      <td>0.0</td>\n",
              "      <td>0.0</td>\n",
              "      <td>0.0</td>\n",
              "      <td>0.0</td>\n",
              "      <td>0.0</td>\n",
              "      <td>0.0</td>\n",
              "      <td>0.0</td>\n",
              "      <td>0.0</td>\n",
              "      <td>0.0</td>\n",
              "      <td>0.0</td>\n",
              "      <td>0.0</td>\n",
              "      <td>0.0</td>\n",
              "      <td>0.0</td>\n",
              "      <td>0.0</td>\n",
              "      <td>0.0</td>\n",
              "      <td>0.0</td>\n",
              "      <td>0.0</td>\n",
              "      <td>0.0</td>\n",
              "      <td>0.020076</td>\n",
              "      <td>0.0</td>\n",
              "      <td>0.0</td>\n",
              "      <td>0.0</td>\n",
              "      <td>0.0</td>\n",
              "      <td>0.0</td>\n",
              "      <td>0.0</td>\n",
              "      <td>0.0</td>\n",
              "      <td>0.0</td>\n",
              "      <td>0.0</td>\n",
              "      <td>0.0</td>\n",
              "      <td>0.0</td>\n",
              "      <td>0.0</td>\n",
              "      <td>0.0</td>\n",
              "      <td>0.0</td>\n",
              "      <td>0.0</td>\n",
              "      <td>0.0</td>\n",
              "      <td>0.0</td>\n",
              "      <td>0.0</td>\n",
              "      <td>0.0</td>\n",
              "      <td>0.0</td>\n",
              "      <td>0.0</td>\n",
              "      <td>0.0</td>\n",
              "      <td>0.0</td>\n",
              "      <td>0.0</td>\n",
              "      <td>0.0</td>\n",
              "      <td>0.0</td>\n",
              "      <td>0.0</td>\n",
              "      <td>0.0</td>\n",
              "      <td>0.0</td>\n",
              "      <td>0.008878</td>\n",
              "      <td>0.0</td>\n",
              "      <td>0.0</td>\n",
              "      <td>0.049502</td>\n",
              "      <td>0.0</td>\n",
              "      <td>0.00000</td>\n",
              "      <td>0.0</td>\n",
              "    </tr>\n",
              "    <tr>\n",
              "      <th>1</th>\n",
              "      <td>0.0</td>\n",
              "      <td>0.0</td>\n",
              "      <td>0.0</td>\n",
              "      <td>0.0</td>\n",
              "      <td>0.0</td>\n",
              "      <td>0.0</td>\n",
              "      <td>0.0</td>\n",
              "      <td>0.0</td>\n",
              "      <td>0.0</td>\n",
              "      <td>0.0</td>\n",
              "      <td>0.0</td>\n",
              "      <td>0.0</td>\n",
              "      <td>0.0</td>\n",
              "      <td>0.0</td>\n",
              "      <td>0.0</td>\n",
              "      <td>0.0</td>\n",
              "      <td>0.0</td>\n",
              "      <td>0.0</td>\n",
              "      <td>0.0</td>\n",
              "      <td>0.0</td>\n",
              "      <td>0.0</td>\n",
              "      <td>0.0</td>\n",
              "      <td>0.0</td>\n",
              "      <td>0.000000</td>\n",
              "      <td>0.0</td>\n",
              "      <td>0.0</td>\n",
              "      <td>0.0</td>\n",
              "      <td>0.0</td>\n",
              "      <td>0.0</td>\n",
              "      <td>0.0</td>\n",
              "      <td>0.0</td>\n",
              "      <td>0.0</td>\n",
              "      <td>0.0</td>\n",
              "      <td>0.0</td>\n",
              "      <td>0.0</td>\n",
              "      <td>0.0</td>\n",
              "      <td>0.0</td>\n",
              "      <td>0.0</td>\n",
              "      <td>0.0</td>\n",
              "      <td>0.0</td>\n",
              "      <td>0.0</td>\n",
              "      <td>0.0</td>\n",
              "      <td>0.0</td>\n",
              "      <td>0.0</td>\n",
              "      <td>0.0</td>\n",
              "      <td>0.0</td>\n",
              "      <td>0.0</td>\n",
              "      <td>0.0</td>\n",
              "      <td>0.0</td>\n",
              "      <td>0.0</td>\n",
              "      <td>0.0</td>\n",
              "      <td>0.0</td>\n",
              "      <td>0.0</td>\n",
              "      <td>0.000000</td>\n",
              "      <td>0.0</td>\n",
              "      <td>0.0</td>\n",
              "      <td>0.000000</td>\n",
              "      <td>0.0</td>\n",
              "      <td>0.00611</td>\n",
              "      <td>0.0</td>\n",
              "    </tr>\n",
              "  </tbody>\n",
              "</table>\n",
              "</div>"
            ],
            "text/plain": [
              "   HTTP 404  Alexa Internet  ...   Sepsis  Adam Levine\n",
              "0       0.0             0.0  ...  0.00000          0.0\n",
              "1       0.0             0.0  ...  0.00611          0.0\n",
              "\n",
              "[2 rows x 60 columns]"
            ]
          },
          "metadata": {
            "tags": []
          },
          "execution_count": 67
        }
      ]
    },
    {
      "cell_type": "code",
      "metadata": {
        "id": "C3s3imETpc_E",
        "colab_type": "code",
        "colab": {
          "base_uri": "https://localhost:8080/",
          "height": 34
        },
        "outputId": "bf0a1997-dd6e-4415-9f40-7ae054c41cae"
      },
      "source": [
        "#articles = np.array(articles)\n",
        "titles = articles.columns.to_list()\n",
        "type(titles)"
      ],
      "execution_count": 68,
      "outputs": [
        {
          "output_type": "execute_result",
          "data": {
            "text/plain": [
              "list"
            ]
          },
          "metadata": {
            "tags": []
          },
          "execution_count": 68
        }
      ]
    },
    {
      "cell_type": "code",
      "metadata": {
        "id": "BsL43DcvASY3",
        "colab_type": "code",
        "colab": {
          "base_uri": "https://localhost:8080/",
          "height": 34
        },
        "outputId": "ac3e0035-2619-411e-b2cf-c4345bec1925"
      },
      "source": [
        "articles.shape, len(titles)"
      ],
      "execution_count": 75,
      "outputs": [
        {
          "output_type": "execute_result",
          "data": {
            "text/plain": [
              "((13125, 60), 60)"
            ]
          },
          "metadata": {
            "tags": []
          },
          "execution_count": 75
        }
      ]
    },
    {
      "cell_type": "code",
      "metadata": {
        "id": "89SfXHMannAx",
        "colab_type": "code",
        "colab": {
          "base_uri": "https://localhost:8080/",
          "height": 375
        },
        "outputId": "613a0a0d-7d55-40a1-c94f-8c9429f916b8"
      },
      "source": [
        "# Import pandas\n",
        "import pandas as pd\n",
        "\n",
        "# Fit the pipeline to articles\n",
        "pipeline.fit(articles)\n",
        "\n",
        "# Calculate the cluster labels: labels\n",
        "labels = pipeline.predict(articles)  # Somehow not converting correctly\n",
        "\n",
        "# Create a DataFrame aligning labels and titles: df\n",
        "df = pd.DataFrame({'label': labels, 'article': titles})\n",
        "\n",
        "# Display df sorted by cluster label\n",
        "print(df.sort_values('label'))"
      ],
      "execution_count": 80,
      "outputs": [
        {
          "output_type": "error",
          "ename": "ValueError",
          "evalue": "ignored",
          "traceback": [
            "\u001b[0;31m---------------------------------------------------------------------------\u001b[0m",
            "\u001b[0;31mValueError\u001b[0m                                Traceback (most recent call last)",
            "\u001b[0;32m<ipython-input-80-045c29b04fb6>\u001b[0m in \u001b[0;36m<module>\u001b[0;34m()\u001b[0m\n\u001b[1;32m      9\u001b[0m \u001b[0;34m\u001b[0m\u001b[0m\n\u001b[1;32m     10\u001b[0m \u001b[0;31m# Create a DataFrame aligning labels and titles: df\u001b[0m\u001b[0;34m\u001b[0m\u001b[0;34m\u001b[0m\u001b[0;34m\u001b[0m\u001b[0m\n\u001b[0;32m---> 11\u001b[0;31m \u001b[0mdf\u001b[0m \u001b[0;34m=\u001b[0m \u001b[0mpd\u001b[0m\u001b[0;34m.\u001b[0m\u001b[0mDataFrame\u001b[0m\u001b[0;34m(\u001b[0m\u001b[0;34m{\u001b[0m\u001b[0;34m'label'\u001b[0m\u001b[0;34m:\u001b[0m \u001b[0mlabels\u001b[0m\u001b[0;34m,\u001b[0m \u001b[0;34m'article'\u001b[0m\u001b[0;34m:\u001b[0m \u001b[0mtitles\u001b[0m\u001b[0;34m}\u001b[0m\u001b[0;34m)\u001b[0m\u001b[0;34m\u001b[0m\u001b[0;34m\u001b[0m\u001b[0m\n\u001b[0m\u001b[1;32m     12\u001b[0m \u001b[0;34m\u001b[0m\u001b[0m\n\u001b[1;32m     13\u001b[0m \u001b[0;31m# Display df sorted by cluster label\u001b[0m\u001b[0;34m\u001b[0m\u001b[0;34m\u001b[0m\u001b[0;34m\u001b[0m\u001b[0m\n",
            "\u001b[0;32m/usr/local/lib/python3.6/dist-packages/pandas/core/frame.py\u001b[0m in \u001b[0;36m__init__\u001b[0;34m(self, data, index, columns, dtype, copy)\u001b[0m\n\u001b[1;32m    433\u001b[0m             )\n\u001b[1;32m    434\u001b[0m         \u001b[0;32melif\u001b[0m \u001b[0misinstance\u001b[0m\u001b[0;34m(\u001b[0m\u001b[0mdata\u001b[0m\u001b[0;34m,\u001b[0m \u001b[0mdict\u001b[0m\u001b[0;34m)\u001b[0m\u001b[0;34m:\u001b[0m\u001b[0;34m\u001b[0m\u001b[0;34m\u001b[0m\u001b[0m\n\u001b[0;32m--> 435\u001b[0;31m             \u001b[0mmgr\u001b[0m \u001b[0;34m=\u001b[0m \u001b[0minit_dict\u001b[0m\u001b[0;34m(\u001b[0m\u001b[0mdata\u001b[0m\u001b[0;34m,\u001b[0m \u001b[0mindex\u001b[0m\u001b[0;34m,\u001b[0m \u001b[0mcolumns\u001b[0m\u001b[0;34m,\u001b[0m \u001b[0mdtype\u001b[0m\u001b[0;34m=\u001b[0m\u001b[0mdtype\u001b[0m\u001b[0;34m)\u001b[0m\u001b[0;34m\u001b[0m\u001b[0;34m\u001b[0m\u001b[0m\n\u001b[0m\u001b[1;32m    436\u001b[0m         \u001b[0;32melif\u001b[0m \u001b[0misinstance\u001b[0m\u001b[0;34m(\u001b[0m\u001b[0mdata\u001b[0m\u001b[0;34m,\u001b[0m \u001b[0mma\u001b[0m\u001b[0;34m.\u001b[0m\u001b[0mMaskedArray\u001b[0m\u001b[0;34m)\u001b[0m\u001b[0;34m:\u001b[0m\u001b[0;34m\u001b[0m\u001b[0;34m\u001b[0m\u001b[0m\n\u001b[1;32m    437\u001b[0m             \u001b[0;32mimport\u001b[0m \u001b[0mnumpy\u001b[0m\u001b[0;34m.\u001b[0m\u001b[0mma\u001b[0m\u001b[0;34m.\u001b[0m\u001b[0mmrecords\u001b[0m \u001b[0;32mas\u001b[0m \u001b[0mmrecords\u001b[0m\u001b[0;34m\u001b[0m\u001b[0;34m\u001b[0m\u001b[0m\n",
            "\u001b[0;32m/usr/local/lib/python3.6/dist-packages/pandas/core/internals/construction.py\u001b[0m in \u001b[0;36minit_dict\u001b[0;34m(data, index, columns, dtype)\u001b[0m\n\u001b[1;32m    252\u001b[0m             \u001b[0marr\u001b[0m \u001b[0;32mif\u001b[0m \u001b[0;32mnot\u001b[0m \u001b[0mis_datetime64tz_dtype\u001b[0m\u001b[0;34m(\u001b[0m\u001b[0marr\u001b[0m\u001b[0;34m)\u001b[0m \u001b[0;32melse\u001b[0m \u001b[0marr\u001b[0m\u001b[0;34m.\u001b[0m\u001b[0mcopy\u001b[0m\u001b[0;34m(\u001b[0m\u001b[0;34m)\u001b[0m \u001b[0;32mfor\u001b[0m \u001b[0marr\u001b[0m \u001b[0;32min\u001b[0m \u001b[0marrays\u001b[0m\u001b[0;34m\u001b[0m\u001b[0;34m\u001b[0m\u001b[0m\n\u001b[1;32m    253\u001b[0m         ]\n\u001b[0;32m--> 254\u001b[0;31m     \u001b[0;32mreturn\u001b[0m \u001b[0marrays_to_mgr\u001b[0m\u001b[0;34m(\u001b[0m\u001b[0marrays\u001b[0m\u001b[0;34m,\u001b[0m \u001b[0mdata_names\u001b[0m\u001b[0;34m,\u001b[0m \u001b[0mindex\u001b[0m\u001b[0;34m,\u001b[0m \u001b[0mcolumns\u001b[0m\u001b[0;34m,\u001b[0m \u001b[0mdtype\u001b[0m\u001b[0;34m=\u001b[0m\u001b[0mdtype\u001b[0m\u001b[0;34m)\u001b[0m\u001b[0;34m\u001b[0m\u001b[0;34m\u001b[0m\u001b[0m\n\u001b[0m\u001b[1;32m    255\u001b[0m \u001b[0;34m\u001b[0m\u001b[0m\n\u001b[1;32m    256\u001b[0m \u001b[0;34m\u001b[0m\u001b[0m\n",
            "\u001b[0;32m/usr/local/lib/python3.6/dist-packages/pandas/core/internals/construction.py\u001b[0m in \u001b[0;36marrays_to_mgr\u001b[0;34m(arrays, arr_names, index, columns, dtype)\u001b[0m\n\u001b[1;32m     62\u001b[0m     \u001b[0;31m# figure out the index, if necessary\u001b[0m\u001b[0;34m\u001b[0m\u001b[0;34m\u001b[0m\u001b[0;34m\u001b[0m\u001b[0m\n\u001b[1;32m     63\u001b[0m     \u001b[0;32mif\u001b[0m \u001b[0mindex\u001b[0m \u001b[0;32mis\u001b[0m \u001b[0;32mNone\u001b[0m\u001b[0;34m:\u001b[0m\u001b[0;34m\u001b[0m\u001b[0;34m\u001b[0m\u001b[0m\n\u001b[0;32m---> 64\u001b[0;31m         \u001b[0mindex\u001b[0m \u001b[0;34m=\u001b[0m \u001b[0mextract_index\u001b[0m\u001b[0;34m(\u001b[0m\u001b[0marrays\u001b[0m\u001b[0;34m)\u001b[0m\u001b[0;34m\u001b[0m\u001b[0;34m\u001b[0m\u001b[0m\n\u001b[0m\u001b[1;32m     65\u001b[0m     \u001b[0;32melse\u001b[0m\u001b[0;34m:\u001b[0m\u001b[0;34m\u001b[0m\u001b[0;34m\u001b[0m\u001b[0m\n\u001b[1;32m     66\u001b[0m         \u001b[0mindex\u001b[0m \u001b[0;34m=\u001b[0m \u001b[0mensure_index\u001b[0m\u001b[0;34m(\u001b[0m\u001b[0mindex\u001b[0m\u001b[0;34m)\u001b[0m\u001b[0;34m\u001b[0m\u001b[0;34m\u001b[0m\u001b[0m\n",
            "\u001b[0;32m/usr/local/lib/python3.6/dist-packages/pandas/core/internals/construction.py\u001b[0m in \u001b[0;36mextract_index\u001b[0;34m(data)\u001b[0m\n\u001b[1;32m    363\u001b[0m             \u001b[0mlengths\u001b[0m \u001b[0;34m=\u001b[0m \u001b[0mlist\u001b[0m\u001b[0;34m(\u001b[0m\u001b[0mset\u001b[0m\u001b[0;34m(\u001b[0m\u001b[0mraw_lengths\u001b[0m\u001b[0;34m)\u001b[0m\u001b[0;34m)\u001b[0m\u001b[0;34m\u001b[0m\u001b[0;34m\u001b[0m\u001b[0m\n\u001b[1;32m    364\u001b[0m             \u001b[0;32mif\u001b[0m \u001b[0mlen\u001b[0m\u001b[0;34m(\u001b[0m\u001b[0mlengths\u001b[0m\u001b[0;34m)\u001b[0m \u001b[0;34m>\u001b[0m \u001b[0;36m1\u001b[0m\u001b[0;34m:\u001b[0m\u001b[0;34m\u001b[0m\u001b[0;34m\u001b[0m\u001b[0m\n\u001b[0;32m--> 365\u001b[0;31m                 \u001b[0;32mraise\u001b[0m \u001b[0mValueError\u001b[0m\u001b[0;34m(\u001b[0m\u001b[0;34m\"arrays must all be same length\"\u001b[0m\u001b[0;34m)\u001b[0m\u001b[0;34m\u001b[0m\u001b[0;34m\u001b[0m\u001b[0m\n\u001b[0m\u001b[1;32m    366\u001b[0m \u001b[0;34m\u001b[0m\u001b[0m\n\u001b[1;32m    367\u001b[0m             \u001b[0;32mif\u001b[0m \u001b[0mhave_dicts\u001b[0m\u001b[0;34m:\u001b[0m\u001b[0;34m\u001b[0m\u001b[0;34m\u001b[0m\u001b[0m\n",
            "\u001b[0;31mValueError\u001b[0m: arrays must all be same length"
          ]
        }
      ]
    },
    {
      "cell_type": "code",
      "metadata": {
        "id": "sZNnm87rAepS",
        "colab_type": "code",
        "colab": {
          "base_uri": "https://localhost:8080/",
          "height": 34
        },
        "outputId": "c308c859-62ff-445b-954a-95ab72ded7a7"
      },
      "source": [
        "len(labels)"
      ],
      "execution_count": 76,
      "outputs": [
        {
          "output_type": "execute_result",
          "data": {
            "text/plain": [
              "13125"
            ]
          },
          "metadata": {
            "tags": []
          },
          "execution_count": 76
        }
      ]
    },
    {
      "cell_type": "markdown",
      "metadata": {
        "id": "lpRuXFx_rR2Y",
        "colab_type": "text"
      },
      "source": [
        "# Discovering interpretable features\n",
        "### Non-negative matrix factorization (NMF)\n",
        "NMF are dimension reduction techniques that can be interpreted more easily than PCA. All sample features must be >= 0. Images, audiofiles, web histories."
      ]
    },
    {
      "cell_type": "code",
      "metadata": {
        "id": "wGTz7Omco3M_",
        "colab_type": "code",
        "colab": {
          "base_uri": "https://localhost:8080/",
          "height": 255
        },
        "outputId": "967ce88b-fef9-4751-94b9-04df7843dbc5"
      },
      "source": [
        "# Import NMF\n",
        "from sklearn.decomposition import NMF\n",
        "\n",
        "# Create an NMF instance: model\n",
        "model = NMF(n_components = 6)\n",
        "\n",
        "# Fit the model to articles\n",
        "model.fit(articles)\n",
        "\n",
        "# Transform the articles: nmf_features\n",
        "nmf_features = model.transform(articles)\n",
        "\n",
        "# Print the NMF features\n",
        "print(nmf_features)\n",
        "print(len(nmf_features))\n"
      ],
      "execution_count": 79,
      "outputs": [
        {
          "output_type": "stream",
          "text": [
            "[[7.69997265e-03 0.00000000e+00 0.00000000e+00 5.16329090e-03\n",
            "  0.00000000e+00 1.55658816e-04]\n",
            " [8.18901807e-04 1.09532056e-05 8.49175311e-06 0.00000000e+00\n",
            "  6.02424274e-04 0.00000000e+00]\n",
            " [0.00000000e+00 6.47423419e-03 0.00000000e+00 3.80350997e-03\n",
            "  5.21232863e-03 9.82384896e-03]\n",
            " ...\n",
            " [0.00000000e+00 3.21559542e-03 0.00000000e+00 2.16802050e-03\n",
            "  2.03096032e-04 2.69599701e-03]\n",
            " [2.86798810e-04 3.39605373e-04 1.46321928e-04 8.36345525e-03\n",
            "  1.43232295e-03 1.88876123e-03]\n",
            " [0.00000000e+00 0.00000000e+00 0.00000000e+00 0.00000000e+00\n",
            "  0.00000000e+00 0.00000000e+00]]\n",
            "13125\n"
          ],
          "name": "stdout"
        }
      ]
    },
    {
      "cell_type": "code",
      "metadata": {
        "id": "KkqT296iA9fC",
        "colab_type": "code",
        "colab": {
          "base_uri": "https://localhost:8080/",
          "height": 375
        },
        "outputId": "d8883b88-0962-40eb-f3d7-300c647bd412"
      },
      "source": [
        "# Import pandas\n",
        "import pandas as pd\n",
        "\n",
        "# Create a pandas DataFrame: df\n",
        "df = pd.DataFrame(nmf_features, index=titles)\n",
        "\n",
        "# Print the row for 'Anne Hathaway'\n",
        "print(df.loc['Anne Hathaway'])\n",
        "\n",
        "# Print the row for 'Denzel Washington'\n",
        "print(df.loc['Denzel Washington'])\n"
      ],
      "execution_count": 81,
      "outputs": [
        {
          "output_type": "error",
          "ename": "ValueError",
          "evalue": "ignored",
          "traceback": [
            "\u001b[0;31m---------------------------------------------------------------------------\u001b[0m",
            "\u001b[0;31mValueError\u001b[0m                                Traceback (most recent call last)",
            "\u001b[0;32m<ipython-input-81-dd7cdd41d31c>\u001b[0m in \u001b[0;36m<module>\u001b[0;34m()\u001b[0m\n\u001b[1;32m      3\u001b[0m \u001b[0;34m\u001b[0m\u001b[0m\n\u001b[1;32m      4\u001b[0m \u001b[0;31m# Create a pandas DataFrame: df\u001b[0m\u001b[0;34m\u001b[0m\u001b[0;34m\u001b[0m\u001b[0;34m\u001b[0m\u001b[0m\n\u001b[0;32m----> 5\u001b[0;31m \u001b[0mdf\u001b[0m \u001b[0;34m=\u001b[0m \u001b[0mpd\u001b[0m\u001b[0;34m.\u001b[0m\u001b[0mDataFrame\u001b[0m\u001b[0;34m(\u001b[0m\u001b[0;34m[\u001b[0m\u001b[0mnmf_features\u001b[0m\u001b[0;34m]\u001b[0m\u001b[0;34m,\u001b[0m \u001b[0mindex\u001b[0m\u001b[0;34m=\u001b[0m\u001b[0mtitles\u001b[0m\u001b[0;34m)\u001b[0m\u001b[0;34m\u001b[0m\u001b[0;34m\u001b[0m\u001b[0m\n\u001b[0m\u001b[1;32m      6\u001b[0m \u001b[0;34m\u001b[0m\u001b[0m\n\u001b[1;32m      7\u001b[0m \u001b[0;31m# Print the row for 'Anne Hathaway'\u001b[0m\u001b[0;34m\u001b[0m\u001b[0;34m\u001b[0m\u001b[0;34m\u001b[0m\u001b[0m\n",
            "\u001b[0;32m/usr/local/lib/python3.6/dist-packages/pandas/core/frame.py\u001b[0m in \u001b[0;36m__init__\u001b[0;34m(self, data, index, columns, dtype, copy)\u001b[0m\n\u001b[1;32m    486\u001b[0m                     \u001b[0mmgr\u001b[0m \u001b[0;34m=\u001b[0m \u001b[0marrays_to_mgr\u001b[0m\u001b[0;34m(\u001b[0m\u001b[0marrays\u001b[0m\u001b[0;34m,\u001b[0m \u001b[0mcolumns\u001b[0m\u001b[0;34m,\u001b[0m \u001b[0mindex\u001b[0m\u001b[0;34m,\u001b[0m \u001b[0mcolumns\u001b[0m\u001b[0;34m,\u001b[0m \u001b[0mdtype\u001b[0m\u001b[0;34m=\u001b[0m\u001b[0mdtype\u001b[0m\u001b[0;34m)\u001b[0m\u001b[0;34m\u001b[0m\u001b[0;34m\u001b[0m\u001b[0m\n\u001b[1;32m    487\u001b[0m                 \u001b[0;32melse\u001b[0m\u001b[0;34m:\u001b[0m\u001b[0;34m\u001b[0m\u001b[0;34m\u001b[0m\u001b[0m\n\u001b[0;32m--> 488\u001b[0;31m                     \u001b[0mmgr\u001b[0m \u001b[0;34m=\u001b[0m \u001b[0minit_ndarray\u001b[0m\u001b[0;34m(\u001b[0m\u001b[0mdata\u001b[0m\u001b[0;34m,\u001b[0m \u001b[0mindex\u001b[0m\u001b[0;34m,\u001b[0m \u001b[0mcolumns\u001b[0m\u001b[0;34m,\u001b[0m \u001b[0mdtype\u001b[0m\u001b[0;34m=\u001b[0m\u001b[0mdtype\u001b[0m\u001b[0;34m,\u001b[0m \u001b[0mcopy\u001b[0m\u001b[0;34m=\u001b[0m\u001b[0mcopy\u001b[0m\u001b[0;34m)\u001b[0m\u001b[0;34m\u001b[0m\u001b[0;34m\u001b[0m\u001b[0m\n\u001b[0m\u001b[1;32m    489\u001b[0m             \u001b[0;32melse\u001b[0m\u001b[0;34m:\u001b[0m\u001b[0;34m\u001b[0m\u001b[0;34m\u001b[0m\u001b[0m\n\u001b[1;32m    490\u001b[0m                 \u001b[0mmgr\u001b[0m \u001b[0;34m=\u001b[0m \u001b[0minit_dict\u001b[0m\u001b[0;34m(\u001b[0m\u001b[0;34m{\u001b[0m\u001b[0;34m}\u001b[0m\u001b[0;34m,\u001b[0m \u001b[0mindex\u001b[0m\u001b[0;34m,\u001b[0m \u001b[0mcolumns\u001b[0m\u001b[0;34m,\u001b[0m \u001b[0mdtype\u001b[0m\u001b[0;34m=\u001b[0m\u001b[0mdtype\u001b[0m\u001b[0;34m)\u001b[0m\u001b[0;34m\u001b[0m\u001b[0;34m\u001b[0m\u001b[0m\n",
            "\u001b[0;32m/usr/local/lib/python3.6/dist-packages/pandas/core/internals/construction.py\u001b[0m in \u001b[0;36minit_ndarray\u001b[0;34m(values, index, columns, dtype, copy)\u001b[0m\n\u001b[1;32m    167\u001b[0m     \u001b[0;31m# by definition an array here\u001b[0m\u001b[0;34m\u001b[0m\u001b[0;34m\u001b[0m\u001b[0;34m\u001b[0m\u001b[0m\n\u001b[1;32m    168\u001b[0m     \u001b[0;31m# the dtypes will be coerced to a single dtype\u001b[0m\u001b[0;34m\u001b[0m\u001b[0;34m\u001b[0m\u001b[0;34m\u001b[0m\u001b[0m\n\u001b[0;32m--> 169\u001b[0;31m     \u001b[0mvalues\u001b[0m \u001b[0;34m=\u001b[0m \u001b[0mprep_ndarray\u001b[0m\u001b[0;34m(\u001b[0m\u001b[0mvalues\u001b[0m\u001b[0;34m,\u001b[0m \u001b[0mcopy\u001b[0m\u001b[0;34m=\u001b[0m\u001b[0mcopy\u001b[0m\u001b[0;34m)\u001b[0m\u001b[0;34m\u001b[0m\u001b[0;34m\u001b[0m\u001b[0m\n\u001b[0m\u001b[1;32m    170\u001b[0m \u001b[0;34m\u001b[0m\u001b[0m\n\u001b[1;32m    171\u001b[0m     \u001b[0;32mif\u001b[0m \u001b[0mdtype\u001b[0m \u001b[0;32mis\u001b[0m \u001b[0;32mnot\u001b[0m \u001b[0;32mNone\u001b[0m\u001b[0;34m:\u001b[0m\u001b[0;34m\u001b[0m\u001b[0;34m\u001b[0m\u001b[0m\n",
            "\u001b[0;32m/usr/local/lib/python3.6/dist-packages/pandas/core/internals/construction.py\u001b[0m in \u001b[0;36mprep_ndarray\u001b[0;34m(values, copy)\u001b[0m\n\u001b[1;32m    293\u001b[0m         \u001b[0mvalues\u001b[0m \u001b[0;34m=\u001b[0m \u001b[0mvalues\u001b[0m\u001b[0;34m.\u001b[0m\u001b[0mreshape\u001b[0m\u001b[0;34m(\u001b[0m\u001b[0;34m(\u001b[0m\u001b[0mvalues\u001b[0m\u001b[0;34m.\u001b[0m\u001b[0mshape\u001b[0m\u001b[0;34m[\u001b[0m\u001b[0;36m0\u001b[0m\u001b[0;34m]\u001b[0m\u001b[0;34m,\u001b[0m \u001b[0;36m1\u001b[0m\u001b[0;34m)\u001b[0m\u001b[0;34m)\u001b[0m\u001b[0;34m\u001b[0m\u001b[0;34m\u001b[0m\u001b[0m\n\u001b[1;32m    294\u001b[0m     \u001b[0;32melif\u001b[0m \u001b[0mvalues\u001b[0m\u001b[0;34m.\u001b[0m\u001b[0mndim\u001b[0m \u001b[0;34m!=\u001b[0m \u001b[0;36m2\u001b[0m\u001b[0;34m:\u001b[0m\u001b[0;34m\u001b[0m\u001b[0;34m\u001b[0m\u001b[0m\n\u001b[0;32m--> 295\u001b[0;31m         \u001b[0;32mraise\u001b[0m \u001b[0mValueError\u001b[0m\u001b[0;34m(\u001b[0m\u001b[0;34m\"Must pass 2-d input\"\u001b[0m\u001b[0;34m)\u001b[0m\u001b[0;34m\u001b[0m\u001b[0;34m\u001b[0m\u001b[0m\n\u001b[0m\u001b[1;32m    296\u001b[0m \u001b[0;34m\u001b[0m\u001b[0m\n\u001b[1;32m    297\u001b[0m     \u001b[0;32mreturn\u001b[0m \u001b[0mvalues\u001b[0m\u001b[0;34m\u001b[0m\u001b[0;34m\u001b[0m\u001b[0m\n",
            "\u001b[0;31mValueError\u001b[0m: Must pass 2-d input"
          ]
        }
      ]
    },
    {
      "cell_type": "markdown",
      "metadata": {
        "id": "BxuRSgahHrRG",
        "colab_type": "text"
      },
      "source": [
        "\n",
        "### NMF learns interpretable parts"
      ]
    },
    {
      "cell_type": "code",
      "metadata": {
        "id": "VtwvWE6UBkMP",
        "colab_type": "code",
        "colab": {
          "base_uri": "https://localhost:8080/",
          "height": 253
        },
        "outputId": "7a428da6-c307-44a6-823f-9c97aef1b688"
      },
      "source": [
        "img = pd.read_csv('lcd-digits.csv',header=None)\n",
        "img.head()"
      ],
      "execution_count": 92,
      "outputs": [
        {
          "output_type": "execute_result",
          "data": {
            "text/html": [
              "<div>\n",
              "<style scoped>\n",
              "    .dataframe tbody tr th:only-of-type {\n",
              "        vertical-align: middle;\n",
              "    }\n",
              "\n",
              "    .dataframe tbody tr th {\n",
              "        vertical-align: top;\n",
              "    }\n",
              "\n",
              "    .dataframe thead th {\n",
              "        text-align: right;\n",
              "    }\n",
              "</style>\n",
              "<table border=\"1\" class=\"dataframe\">\n",
              "  <thead>\n",
              "    <tr style=\"text-align: right;\">\n",
              "      <th></th>\n",
              "      <th>0</th>\n",
              "      <th>1</th>\n",
              "      <th>2</th>\n",
              "      <th>3</th>\n",
              "      <th>4</th>\n",
              "      <th>5</th>\n",
              "      <th>6</th>\n",
              "      <th>7</th>\n",
              "      <th>8</th>\n",
              "      <th>9</th>\n",
              "      <th>10</th>\n",
              "      <th>11</th>\n",
              "      <th>12</th>\n",
              "      <th>13</th>\n",
              "      <th>14</th>\n",
              "      <th>15</th>\n",
              "      <th>16</th>\n",
              "      <th>17</th>\n",
              "      <th>18</th>\n",
              "      <th>19</th>\n",
              "      <th>20</th>\n",
              "      <th>21</th>\n",
              "      <th>22</th>\n",
              "      <th>23</th>\n",
              "      <th>24</th>\n",
              "      <th>25</th>\n",
              "      <th>26</th>\n",
              "      <th>27</th>\n",
              "      <th>28</th>\n",
              "      <th>29</th>\n",
              "      <th>30</th>\n",
              "      <th>31</th>\n",
              "      <th>32</th>\n",
              "      <th>33</th>\n",
              "      <th>34</th>\n",
              "      <th>35</th>\n",
              "      <th>36</th>\n",
              "      <th>37</th>\n",
              "      <th>38</th>\n",
              "      <th>39</th>\n",
              "      <th>...</th>\n",
              "      <th>64</th>\n",
              "      <th>65</th>\n",
              "      <th>66</th>\n",
              "      <th>67</th>\n",
              "      <th>68</th>\n",
              "      <th>69</th>\n",
              "      <th>70</th>\n",
              "      <th>71</th>\n",
              "      <th>72</th>\n",
              "      <th>73</th>\n",
              "      <th>74</th>\n",
              "      <th>75</th>\n",
              "      <th>76</th>\n",
              "      <th>77</th>\n",
              "      <th>78</th>\n",
              "      <th>79</th>\n",
              "      <th>80</th>\n",
              "      <th>81</th>\n",
              "      <th>82</th>\n",
              "      <th>83</th>\n",
              "      <th>84</th>\n",
              "      <th>85</th>\n",
              "      <th>86</th>\n",
              "      <th>87</th>\n",
              "      <th>88</th>\n",
              "      <th>89</th>\n",
              "      <th>90</th>\n",
              "      <th>91</th>\n",
              "      <th>92</th>\n",
              "      <th>93</th>\n",
              "      <th>94</th>\n",
              "      <th>95</th>\n",
              "      <th>96</th>\n",
              "      <th>97</th>\n",
              "      <th>98</th>\n",
              "      <th>99</th>\n",
              "      <th>100</th>\n",
              "      <th>101</th>\n",
              "      <th>102</th>\n",
              "      <th>103</th>\n",
              "    </tr>\n",
              "  </thead>\n",
              "  <tbody>\n",
              "    <tr>\n",
              "      <th>0</th>\n",
              "      <td>0.0</td>\n",
              "      <td>0.0</td>\n",
              "      <td>0.0</td>\n",
              "      <td>0.0</td>\n",
              "      <td>0.0</td>\n",
              "      <td>0.0</td>\n",
              "      <td>0.0</td>\n",
              "      <td>0.0</td>\n",
              "      <td>0.0</td>\n",
              "      <td>0.0</td>\n",
              "      <td>1.0</td>\n",
              "      <td>1.0</td>\n",
              "      <td>1.0</td>\n",
              "      <td>1.0</td>\n",
              "      <td>0.0</td>\n",
              "      <td>0.0</td>\n",
              "      <td>0.0</td>\n",
              "      <td>0.0</td>\n",
              "      <td>0.0</td>\n",
              "      <td>0.0</td>\n",
              "      <td>0.0</td>\n",
              "      <td>0.0</td>\n",
              "      <td>1.0</td>\n",
              "      <td>0.0</td>\n",
              "      <td>0.0</td>\n",
              "      <td>0.0</td>\n",
              "      <td>0.0</td>\n",
              "      <td>0.0</td>\n",
              "      <td>0.0</td>\n",
              "      <td>0.0</td>\n",
              "      <td>1.0</td>\n",
              "      <td>0.0</td>\n",
              "      <td>0.0</td>\n",
              "      <td>0.0</td>\n",
              "      <td>0.0</td>\n",
              "      <td>0.0</td>\n",
              "      <td>0.0</td>\n",
              "      <td>0.0</td>\n",
              "      <td>1.0</td>\n",
              "      <td>0.0</td>\n",
              "      <td>...</td>\n",
              "      <td>0.0</td>\n",
              "      <td>0.0</td>\n",
              "      <td>0.0</td>\n",
              "      <td>0.0</td>\n",
              "      <td>0.0</td>\n",
              "      <td>0.0</td>\n",
              "      <td>1.0</td>\n",
              "      <td>0.0</td>\n",
              "      <td>0.0</td>\n",
              "      <td>0.0</td>\n",
              "      <td>0.0</td>\n",
              "      <td>0.0</td>\n",
              "      <td>0.0</td>\n",
              "      <td>0.0</td>\n",
              "      <td>1.0</td>\n",
              "      <td>0.0</td>\n",
              "      <td>0.0</td>\n",
              "      <td>0.0</td>\n",
              "      <td>0.0</td>\n",
              "      <td>0.0</td>\n",
              "      <td>0.0</td>\n",
              "      <td>0.0</td>\n",
              "      <td>1.0</td>\n",
              "      <td>0.0</td>\n",
              "      <td>0.0</td>\n",
              "      <td>0.0</td>\n",
              "      <td>0.0</td>\n",
              "      <td>0.0</td>\n",
              "      <td>0.0</td>\n",
              "      <td>0.0</td>\n",
              "      <td>0.0</td>\n",
              "      <td>0.0</td>\n",
              "      <td>0.0</td>\n",
              "      <td>0.0</td>\n",
              "      <td>0.0</td>\n",
              "      <td>0.0</td>\n",
              "      <td>0.0</td>\n",
              "      <td>0.0</td>\n",
              "      <td>0.0</td>\n",
              "      <td>0.0</td>\n",
              "    </tr>\n",
              "    <tr>\n",
              "      <th>1</th>\n",
              "      <td>0.0</td>\n",
              "      <td>0.0</td>\n",
              "      <td>0.0</td>\n",
              "      <td>0.0</td>\n",
              "      <td>0.0</td>\n",
              "      <td>0.0</td>\n",
              "      <td>0.0</td>\n",
              "      <td>0.0</td>\n",
              "      <td>0.0</td>\n",
              "      <td>0.0</td>\n",
              "      <td>1.0</td>\n",
              "      <td>1.0</td>\n",
              "      <td>1.0</td>\n",
              "      <td>1.0</td>\n",
              "      <td>0.0</td>\n",
              "      <td>0.0</td>\n",
              "      <td>0.0</td>\n",
              "      <td>1.0</td>\n",
              "      <td>0.0</td>\n",
              "      <td>0.0</td>\n",
              "      <td>0.0</td>\n",
              "      <td>0.0</td>\n",
              "      <td>1.0</td>\n",
              "      <td>0.0</td>\n",
              "      <td>0.0</td>\n",
              "      <td>1.0</td>\n",
              "      <td>0.0</td>\n",
              "      <td>0.0</td>\n",
              "      <td>0.0</td>\n",
              "      <td>0.0</td>\n",
              "      <td>1.0</td>\n",
              "      <td>0.0</td>\n",
              "      <td>0.0</td>\n",
              "      <td>1.0</td>\n",
              "      <td>0.0</td>\n",
              "      <td>0.0</td>\n",
              "      <td>0.0</td>\n",
              "      <td>0.0</td>\n",
              "      <td>1.0</td>\n",
              "      <td>0.0</td>\n",
              "      <td>...</td>\n",
              "      <td>0.0</td>\n",
              "      <td>0.0</td>\n",
              "      <td>0.0</td>\n",
              "      <td>0.0</td>\n",
              "      <td>0.0</td>\n",
              "      <td>0.0</td>\n",
              "      <td>0.0</td>\n",
              "      <td>0.0</td>\n",
              "      <td>0.0</td>\n",
              "      <td>0.0</td>\n",
              "      <td>0.0</td>\n",
              "      <td>0.0</td>\n",
              "      <td>0.0</td>\n",
              "      <td>0.0</td>\n",
              "      <td>0.0</td>\n",
              "      <td>0.0</td>\n",
              "      <td>0.0</td>\n",
              "      <td>0.0</td>\n",
              "      <td>0.0</td>\n",
              "      <td>0.0</td>\n",
              "      <td>0.0</td>\n",
              "      <td>0.0</td>\n",
              "      <td>0.0</td>\n",
              "      <td>0.0</td>\n",
              "      <td>0.0</td>\n",
              "      <td>0.0</td>\n",
              "      <td>0.0</td>\n",
              "      <td>0.0</td>\n",
              "      <td>0.0</td>\n",
              "      <td>0.0</td>\n",
              "      <td>0.0</td>\n",
              "      <td>0.0</td>\n",
              "      <td>0.0</td>\n",
              "      <td>0.0</td>\n",
              "      <td>0.0</td>\n",
              "      <td>0.0</td>\n",
              "      <td>0.0</td>\n",
              "      <td>0.0</td>\n",
              "      <td>0.0</td>\n",
              "      <td>0.0</td>\n",
              "    </tr>\n",
              "    <tr>\n",
              "      <th>2</th>\n",
              "      <td>0.0</td>\n",
              "      <td>0.0</td>\n",
              "      <td>0.0</td>\n",
              "      <td>0.0</td>\n",
              "      <td>0.0</td>\n",
              "      <td>0.0</td>\n",
              "      <td>0.0</td>\n",
              "      <td>0.0</td>\n",
              "      <td>0.0</td>\n",
              "      <td>0.0</td>\n",
              "      <td>0.0</td>\n",
              "      <td>0.0</td>\n",
              "      <td>0.0</td>\n",
              "      <td>0.0</td>\n",
              "      <td>0.0</td>\n",
              "      <td>0.0</td>\n",
              "      <td>0.0</td>\n",
              "      <td>1.0</td>\n",
              "      <td>0.0</td>\n",
              "      <td>0.0</td>\n",
              "      <td>0.0</td>\n",
              "      <td>0.0</td>\n",
              "      <td>0.0</td>\n",
              "      <td>0.0</td>\n",
              "      <td>0.0</td>\n",
              "      <td>1.0</td>\n",
              "      <td>0.0</td>\n",
              "      <td>0.0</td>\n",
              "      <td>0.0</td>\n",
              "      <td>0.0</td>\n",
              "      <td>0.0</td>\n",
              "      <td>0.0</td>\n",
              "      <td>0.0</td>\n",
              "      <td>1.0</td>\n",
              "      <td>0.0</td>\n",
              "      <td>0.0</td>\n",
              "      <td>0.0</td>\n",
              "      <td>0.0</td>\n",
              "      <td>0.0</td>\n",
              "      <td>0.0</td>\n",
              "      <td>...</td>\n",
              "      <td>0.0</td>\n",
              "      <td>0.0</td>\n",
              "      <td>0.0</td>\n",
              "      <td>0.0</td>\n",
              "      <td>0.0</td>\n",
              "      <td>0.0</td>\n",
              "      <td>0.0</td>\n",
              "      <td>0.0</td>\n",
              "      <td>0.0</td>\n",
              "      <td>0.0</td>\n",
              "      <td>0.0</td>\n",
              "      <td>0.0</td>\n",
              "      <td>0.0</td>\n",
              "      <td>0.0</td>\n",
              "      <td>0.0</td>\n",
              "      <td>0.0</td>\n",
              "      <td>0.0</td>\n",
              "      <td>0.0</td>\n",
              "      <td>0.0</td>\n",
              "      <td>0.0</td>\n",
              "      <td>0.0</td>\n",
              "      <td>0.0</td>\n",
              "      <td>0.0</td>\n",
              "      <td>0.0</td>\n",
              "      <td>0.0</td>\n",
              "      <td>0.0</td>\n",
              "      <td>1.0</td>\n",
              "      <td>1.0</td>\n",
              "      <td>1.0</td>\n",
              "      <td>1.0</td>\n",
              "      <td>0.0</td>\n",
              "      <td>0.0</td>\n",
              "      <td>0.0</td>\n",
              "      <td>0.0</td>\n",
              "      <td>0.0</td>\n",
              "      <td>0.0</td>\n",
              "      <td>0.0</td>\n",
              "      <td>0.0</td>\n",
              "      <td>0.0</td>\n",
              "      <td>0.0</td>\n",
              "    </tr>\n",
              "    <tr>\n",
              "      <th>3</th>\n",
              "      <td>0.0</td>\n",
              "      <td>0.0</td>\n",
              "      <td>0.0</td>\n",
              "      <td>0.0</td>\n",
              "      <td>0.0</td>\n",
              "      <td>0.0</td>\n",
              "      <td>0.0</td>\n",
              "      <td>0.0</td>\n",
              "      <td>0.0</td>\n",
              "      <td>0.0</td>\n",
              "      <td>1.0</td>\n",
              "      <td>1.0</td>\n",
              "      <td>1.0</td>\n",
              "      <td>1.0</td>\n",
              "      <td>0.0</td>\n",
              "      <td>0.0</td>\n",
              "      <td>0.0</td>\n",
              "      <td>0.0</td>\n",
              "      <td>0.0</td>\n",
              "      <td>0.0</td>\n",
              "      <td>0.0</td>\n",
              "      <td>0.0</td>\n",
              "      <td>0.0</td>\n",
              "      <td>0.0</td>\n",
              "      <td>0.0</td>\n",
              "      <td>0.0</td>\n",
              "      <td>0.0</td>\n",
              "      <td>0.0</td>\n",
              "      <td>0.0</td>\n",
              "      <td>0.0</td>\n",
              "      <td>0.0</td>\n",
              "      <td>0.0</td>\n",
              "      <td>0.0</td>\n",
              "      <td>0.0</td>\n",
              "      <td>0.0</td>\n",
              "      <td>0.0</td>\n",
              "      <td>0.0</td>\n",
              "      <td>0.0</td>\n",
              "      <td>0.0</td>\n",
              "      <td>0.0</td>\n",
              "      <td>...</td>\n",
              "      <td>0.0</td>\n",
              "      <td>0.0</td>\n",
              "      <td>0.0</td>\n",
              "      <td>0.0</td>\n",
              "      <td>0.0</td>\n",
              "      <td>0.0</td>\n",
              "      <td>0.0</td>\n",
              "      <td>0.0</td>\n",
              "      <td>0.0</td>\n",
              "      <td>0.0</td>\n",
              "      <td>0.0</td>\n",
              "      <td>0.0</td>\n",
              "      <td>0.0</td>\n",
              "      <td>0.0</td>\n",
              "      <td>0.0</td>\n",
              "      <td>0.0</td>\n",
              "      <td>0.0</td>\n",
              "      <td>0.0</td>\n",
              "      <td>0.0</td>\n",
              "      <td>0.0</td>\n",
              "      <td>0.0</td>\n",
              "      <td>0.0</td>\n",
              "      <td>0.0</td>\n",
              "      <td>0.0</td>\n",
              "      <td>0.0</td>\n",
              "      <td>0.0</td>\n",
              "      <td>0.0</td>\n",
              "      <td>0.0</td>\n",
              "      <td>0.0</td>\n",
              "      <td>0.0</td>\n",
              "      <td>0.0</td>\n",
              "      <td>0.0</td>\n",
              "      <td>0.0</td>\n",
              "      <td>0.0</td>\n",
              "      <td>0.0</td>\n",
              "      <td>0.0</td>\n",
              "      <td>0.0</td>\n",
              "      <td>0.0</td>\n",
              "      <td>0.0</td>\n",
              "      <td>0.0</td>\n",
              "    </tr>\n",
              "    <tr>\n",
              "      <th>4</th>\n",
              "      <td>0.0</td>\n",
              "      <td>0.0</td>\n",
              "      <td>0.0</td>\n",
              "      <td>0.0</td>\n",
              "      <td>0.0</td>\n",
              "      <td>0.0</td>\n",
              "      <td>0.0</td>\n",
              "      <td>0.0</td>\n",
              "      <td>0.0</td>\n",
              "      <td>0.0</td>\n",
              "      <td>0.0</td>\n",
              "      <td>0.0</td>\n",
              "      <td>0.0</td>\n",
              "      <td>0.0</td>\n",
              "      <td>0.0</td>\n",
              "      <td>0.0</td>\n",
              "      <td>0.0</td>\n",
              "      <td>0.0</td>\n",
              "      <td>0.0</td>\n",
              "      <td>0.0</td>\n",
              "      <td>0.0</td>\n",
              "      <td>0.0</td>\n",
              "      <td>1.0</td>\n",
              "      <td>0.0</td>\n",
              "      <td>0.0</td>\n",
              "      <td>0.0</td>\n",
              "      <td>0.0</td>\n",
              "      <td>0.0</td>\n",
              "      <td>0.0</td>\n",
              "      <td>0.0</td>\n",
              "      <td>1.0</td>\n",
              "      <td>0.0</td>\n",
              "      <td>0.0</td>\n",
              "      <td>0.0</td>\n",
              "      <td>0.0</td>\n",
              "      <td>0.0</td>\n",
              "      <td>0.0</td>\n",
              "      <td>0.0</td>\n",
              "      <td>1.0</td>\n",
              "      <td>0.0</td>\n",
              "      <td>...</td>\n",
              "      <td>0.0</td>\n",
              "      <td>0.0</td>\n",
              "      <td>0.0</td>\n",
              "      <td>0.0</td>\n",
              "      <td>0.0</td>\n",
              "      <td>0.0</td>\n",
              "      <td>0.0</td>\n",
              "      <td>0.0</td>\n",
              "      <td>0.0</td>\n",
              "      <td>0.0</td>\n",
              "      <td>0.0</td>\n",
              "      <td>0.0</td>\n",
              "      <td>0.0</td>\n",
              "      <td>0.0</td>\n",
              "      <td>0.0</td>\n",
              "      <td>0.0</td>\n",
              "      <td>0.0</td>\n",
              "      <td>0.0</td>\n",
              "      <td>0.0</td>\n",
              "      <td>0.0</td>\n",
              "      <td>0.0</td>\n",
              "      <td>0.0</td>\n",
              "      <td>0.0</td>\n",
              "      <td>0.0</td>\n",
              "      <td>0.0</td>\n",
              "      <td>0.0</td>\n",
              "      <td>1.0</td>\n",
              "      <td>1.0</td>\n",
              "      <td>1.0</td>\n",
              "      <td>1.0</td>\n",
              "      <td>0.0</td>\n",
              "      <td>0.0</td>\n",
              "      <td>0.0</td>\n",
              "      <td>0.0</td>\n",
              "      <td>0.0</td>\n",
              "      <td>0.0</td>\n",
              "      <td>0.0</td>\n",
              "      <td>0.0</td>\n",
              "      <td>0.0</td>\n",
              "      <td>0.0</td>\n",
              "    </tr>\n",
              "  </tbody>\n",
              "</table>\n",
              "<p>5 rows × 104 columns</p>\n",
              "</div>"
            ],
            "text/plain": [
              "   0    1    2    3    4    5    6    ...  97   98   99   100  101  102  103\n",
              "0  0.0  0.0  0.0  0.0  0.0  0.0  0.0  ...  0.0  0.0  0.0  0.0  0.0  0.0  0.0\n",
              "1  0.0  0.0  0.0  0.0  0.0  0.0  0.0  ...  0.0  0.0  0.0  0.0  0.0  0.0  0.0\n",
              "2  0.0  0.0  0.0  0.0  0.0  0.0  0.0  ...  0.0  0.0  0.0  0.0  0.0  0.0  0.0\n",
              "3  0.0  0.0  0.0  0.0  0.0  0.0  0.0  ...  0.0  0.0  0.0  0.0  0.0  0.0  0.0\n",
              "4  0.0  0.0  0.0  0.0  0.0  0.0  0.0  ...  0.0  0.0  0.0  0.0  0.0  0.0  0.0\n",
              "\n",
              "[5 rows x 104 columns]"
            ]
          },
          "metadata": {
            "tags": []
          },
          "execution_count": 92
        }
      ]
    },
    {
      "cell_type": "code",
      "metadata": {
        "id": "rtu7iBLlQ9j2",
        "colab_type": "code",
        "colab": {
          "base_uri": "https://localhost:8080/",
          "height": 34
        },
        "outputId": "dd14fc4a-7591-4c5b-ac15-4fa45225a142"
      },
      "source": [
        "img.shape"
      ],
      "execution_count": 93,
      "outputs": [
        {
          "output_type": "execute_result",
          "data": {
            "text/plain": [
              "(100, 104)"
            ]
          },
          "metadata": {
            "tags": []
          },
          "execution_count": 93
        }
      ]
    },
    {
      "cell_type": "code",
      "metadata": {
        "id": "146nTWphLUtU",
        "colab_type": "code",
        "colab": {
          "base_uri": "https://localhost:8080/",
          "height": 426
        },
        "outputId": "842509c9-ae21-4ce4-f42d-5acb9b779ca4"
      },
      "source": [
        "# Import pandas\n",
        "import pandas as pd\n",
        "\n",
        "# Create a DataFrame: components_df\n",
        "components_df = pd.DataFrame(model.components_, columns=words)\n",
        "\n",
        "# Print the shape of the DataFrame\n",
        "print(components_df.shape)\n",
        "\n",
        "# Select row 3: component\n",
        "component = components_df.iloc[3,:]\n",
        "\n",
        "# Print result of nlargest\n",
        "print(component.nlargest())\n"
      ],
      "execution_count": 83,
      "outputs": [
        {
          "output_type": "error",
          "ename": "ValueError",
          "evalue": "ignored",
          "traceback": [
            "\u001b[0;31m---------------------------------------------------------------------------\u001b[0m",
            "\u001b[0;31mValueError\u001b[0m                                Traceback (most recent call last)",
            "\u001b[0;32m/usr/local/lib/python3.6/dist-packages/pandas/core/internals/managers.py\u001b[0m in \u001b[0;36mcreate_block_manager_from_blocks\u001b[0;34m(blocks, axes)\u001b[0m\n\u001b[1;32m   1653\u001b[0m                 blocks = [\n\u001b[0;32m-> 1654\u001b[0;31m                     \u001b[0mmake_block\u001b[0m\u001b[0;34m(\u001b[0m\u001b[0mvalues\u001b[0m\u001b[0;34m=\u001b[0m\u001b[0mblocks\u001b[0m\u001b[0;34m[\u001b[0m\u001b[0;36m0\u001b[0m\u001b[0;34m]\u001b[0m\u001b[0;34m,\u001b[0m \u001b[0mplacement\u001b[0m\u001b[0;34m=\u001b[0m\u001b[0mslice\u001b[0m\u001b[0;34m(\u001b[0m\u001b[0;36m0\u001b[0m\u001b[0;34m,\u001b[0m \u001b[0mlen\u001b[0m\u001b[0;34m(\u001b[0m\u001b[0maxes\u001b[0m\u001b[0;34m[\u001b[0m\u001b[0;36m0\u001b[0m\u001b[0;34m]\u001b[0m\u001b[0;34m)\u001b[0m\u001b[0;34m)\u001b[0m\u001b[0;34m)\u001b[0m\u001b[0;34m\u001b[0m\u001b[0;34m\u001b[0m\u001b[0m\n\u001b[0m\u001b[1;32m   1655\u001b[0m                 ]\n",
            "\u001b[0;32m/usr/local/lib/python3.6/dist-packages/pandas/core/internals/blocks.py\u001b[0m in \u001b[0;36mmake_block\u001b[0;34m(values, placement, klass, ndim, dtype)\u001b[0m\n\u001b[1;32m   3052\u001b[0m \u001b[0;34m\u001b[0m\u001b[0m\n\u001b[0;32m-> 3053\u001b[0;31m     \u001b[0;32mreturn\u001b[0m \u001b[0mklass\u001b[0m\u001b[0;34m(\u001b[0m\u001b[0mvalues\u001b[0m\u001b[0;34m,\u001b[0m \u001b[0mndim\u001b[0m\u001b[0;34m=\u001b[0m\u001b[0mndim\u001b[0m\u001b[0;34m,\u001b[0m \u001b[0mplacement\u001b[0m\u001b[0;34m=\u001b[0m\u001b[0mplacement\u001b[0m\u001b[0;34m)\u001b[0m\u001b[0;34m\u001b[0m\u001b[0;34m\u001b[0m\u001b[0m\n\u001b[0m\u001b[1;32m   3054\u001b[0m \u001b[0;34m\u001b[0m\u001b[0m\n",
            "\u001b[0;32m/usr/local/lib/python3.6/dist-packages/pandas/core/internals/blocks.py\u001b[0m in \u001b[0;36m__init__\u001b[0;34m(self, values, placement, ndim)\u001b[0m\n\u001b[1;32m    124\u001b[0m             raise ValueError(\n\u001b[0;32m--> 125\u001b[0;31m                 \u001b[0;34mf\"Wrong number of items passed {len(self.values)}, \"\u001b[0m\u001b[0;34m\u001b[0m\u001b[0;34m\u001b[0m\u001b[0m\n\u001b[0m\u001b[1;32m    126\u001b[0m                 \u001b[0;34mf\"placement implies {len(self.mgr_locs)}\"\u001b[0m\u001b[0;34m\u001b[0m\u001b[0;34m\u001b[0m\u001b[0m\n",
            "\u001b[0;31mValueError\u001b[0m: Wrong number of items passed 60, placement implies 6",
            "\nDuring handling of the above exception, another exception occurred:\n",
            "\u001b[0;31mValueError\u001b[0m                                Traceback (most recent call last)",
            "\u001b[0;32m<ipython-input-83-7378a15ddd45>\u001b[0m in \u001b[0;36m<module>\u001b[0;34m()\u001b[0m\n\u001b[1;32m      3\u001b[0m \u001b[0;34m\u001b[0m\u001b[0m\n\u001b[1;32m      4\u001b[0m \u001b[0;31m# Create a DataFrame: components_df\u001b[0m\u001b[0;34m\u001b[0m\u001b[0;34m\u001b[0m\u001b[0;34m\u001b[0m\u001b[0m\n\u001b[0;32m----> 5\u001b[0;31m \u001b[0mcomponents_df\u001b[0m \u001b[0;34m=\u001b[0m \u001b[0mpd\u001b[0m\u001b[0;34m.\u001b[0m\u001b[0mDataFrame\u001b[0m\u001b[0;34m(\u001b[0m\u001b[0mmodel\u001b[0m\u001b[0;34m.\u001b[0m\u001b[0mcomponents_\u001b[0m\u001b[0;34m,\u001b[0m \u001b[0mcolumns\u001b[0m\u001b[0;34m=\u001b[0m\u001b[0mwords\u001b[0m\u001b[0;34m)\u001b[0m\u001b[0;34m\u001b[0m\u001b[0;34m\u001b[0m\u001b[0m\n\u001b[0m\u001b[1;32m      6\u001b[0m \u001b[0;34m\u001b[0m\u001b[0m\n\u001b[1;32m      7\u001b[0m \u001b[0;31m# Print the shape of the DataFrame\u001b[0m\u001b[0;34m\u001b[0m\u001b[0;34m\u001b[0m\u001b[0;34m\u001b[0m\u001b[0m\n",
            "\u001b[0;32m/usr/local/lib/python3.6/dist-packages/pandas/core/frame.py\u001b[0m in \u001b[0;36m__init__\u001b[0;34m(self, data, index, columns, dtype, copy)\u001b[0m\n\u001b[1;32m    462\u001b[0m                 \u001b[0mmgr\u001b[0m \u001b[0;34m=\u001b[0m \u001b[0minit_dict\u001b[0m\u001b[0;34m(\u001b[0m\u001b[0;34m{\u001b[0m\u001b[0mdata\u001b[0m\u001b[0;34m.\u001b[0m\u001b[0mname\u001b[0m\u001b[0;34m:\u001b[0m \u001b[0mdata\u001b[0m\u001b[0;34m}\u001b[0m\u001b[0;34m,\u001b[0m \u001b[0mindex\u001b[0m\u001b[0;34m,\u001b[0m \u001b[0mcolumns\u001b[0m\u001b[0;34m,\u001b[0m \u001b[0mdtype\u001b[0m\u001b[0;34m=\u001b[0m\u001b[0mdtype\u001b[0m\u001b[0;34m)\u001b[0m\u001b[0;34m\u001b[0m\u001b[0;34m\u001b[0m\u001b[0m\n\u001b[1;32m    463\u001b[0m             \u001b[0;32melse\u001b[0m\u001b[0;34m:\u001b[0m\u001b[0;34m\u001b[0m\u001b[0;34m\u001b[0m\u001b[0m\n\u001b[0;32m--> 464\u001b[0;31m                 \u001b[0mmgr\u001b[0m \u001b[0;34m=\u001b[0m \u001b[0minit_ndarray\u001b[0m\u001b[0;34m(\u001b[0m\u001b[0mdata\u001b[0m\u001b[0;34m,\u001b[0m \u001b[0mindex\u001b[0m\u001b[0;34m,\u001b[0m \u001b[0mcolumns\u001b[0m\u001b[0;34m,\u001b[0m \u001b[0mdtype\u001b[0m\u001b[0;34m=\u001b[0m\u001b[0mdtype\u001b[0m\u001b[0;34m,\u001b[0m \u001b[0mcopy\u001b[0m\u001b[0;34m=\u001b[0m\u001b[0mcopy\u001b[0m\u001b[0;34m)\u001b[0m\u001b[0;34m\u001b[0m\u001b[0;34m\u001b[0m\u001b[0m\n\u001b[0m\u001b[1;32m    465\u001b[0m \u001b[0;34m\u001b[0m\u001b[0m\n\u001b[1;32m    466\u001b[0m         \u001b[0;31m# For data is list-like, or Iterable (will consume into list)\u001b[0m\u001b[0;34m\u001b[0m\u001b[0;34m\u001b[0m\u001b[0;34m\u001b[0m\u001b[0m\n",
            "\u001b[0;32m/usr/local/lib/python3.6/dist-packages/pandas/core/internals/construction.py\u001b[0m in \u001b[0;36minit_ndarray\u001b[0;34m(values, index, columns, dtype, copy)\u001b[0m\n\u001b[1;32m    208\u001b[0m         \u001b[0mblock_values\u001b[0m \u001b[0;34m=\u001b[0m \u001b[0;34m[\u001b[0m\u001b[0mvalues\u001b[0m\u001b[0;34m]\u001b[0m\u001b[0;34m\u001b[0m\u001b[0;34m\u001b[0m\u001b[0m\n\u001b[1;32m    209\u001b[0m \u001b[0;34m\u001b[0m\u001b[0m\n\u001b[0;32m--> 210\u001b[0;31m     \u001b[0;32mreturn\u001b[0m \u001b[0mcreate_block_manager_from_blocks\u001b[0m\u001b[0;34m(\u001b[0m\u001b[0mblock_values\u001b[0m\u001b[0;34m,\u001b[0m \u001b[0;34m[\u001b[0m\u001b[0mcolumns\u001b[0m\u001b[0;34m,\u001b[0m \u001b[0mindex\u001b[0m\u001b[0;34m]\u001b[0m\u001b[0;34m)\u001b[0m\u001b[0;34m\u001b[0m\u001b[0;34m\u001b[0m\u001b[0m\n\u001b[0m\u001b[1;32m    211\u001b[0m \u001b[0;34m\u001b[0m\u001b[0m\n\u001b[1;32m    212\u001b[0m \u001b[0;34m\u001b[0m\u001b[0m\n",
            "\u001b[0;32m/usr/local/lib/python3.6/dist-packages/pandas/core/internals/managers.py\u001b[0m in \u001b[0;36mcreate_block_manager_from_blocks\u001b[0;34m(blocks, axes)\u001b[0m\n\u001b[1;32m   1662\u001b[0m         \u001b[0mblocks\u001b[0m \u001b[0;34m=\u001b[0m \u001b[0;34m[\u001b[0m\u001b[0mgetattr\u001b[0m\u001b[0;34m(\u001b[0m\u001b[0mb\u001b[0m\u001b[0;34m,\u001b[0m \u001b[0;34m\"values\"\u001b[0m\u001b[0;34m,\u001b[0m \u001b[0mb\u001b[0m\u001b[0;34m)\u001b[0m \u001b[0;32mfor\u001b[0m \u001b[0mb\u001b[0m \u001b[0;32min\u001b[0m \u001b[0mblocks\u001b[0m\u001b[0;34m]\u001b[0m\u001b[0;34m\u001b[0m\u001b[0;34m\u001b[0m\u001b[0m\n\u001b[1;32m   1663\u001b[0m         \u001b[0mtot_items\u001b[0m \u001b[0;34m=\u001b[0m \u001b[0msum\u001b[0m\u001b[0;34m(\u001b[0m\u001b[0mb\u001b[0m\u001b[0;34m.\u001b[0m\u001b[0mshape\u001b[0m\u001b[0;34m[\u001b[0m\u001b[0;36m0\u001b[0m\u001b[0;34m]\u001b[0m \u001b[0;32mfor\u001b[0m \u001b[0mb\u001b[0m \u001b[0;32min\u001b[0m \u001b[0mblocks\u001b[0m\u001b[0;34m)\u001b[0m\u001b[0;34m\u001b[0m\u001b[0;34m\u001b[0m\u001b[0m\n\u001b[0;32m-> 1664\u001b[0;31m         \u001b[0mconstruction_error\u001b[0m\u001b[0;34m(\u001b[0m\u001b[0mtot_items\u001b[0m\u001b[0;34m,\u001b[0m \u001b[0mblocks\u001b[0m\u001b[0;34m[\u001b[0m\u001b[0;36m0\u001b[0m\u001b[0;34m]\u001b[0m\u001b[0;34m.\u001b[0m\u001b[0mshape\u001b[0m\u001b[0;34m[\u001b[0m\u001b[0;36m1\u001b[0m\u001b[0;34m:\u001b[0m\u001b[0;34m]\u001b[0m\u001b[0;34m,\u001b[0m \u001b[0maxes\u001b[0m\u001b[0;34m,\u001b[0m \u001b[0me\u001b[0m\u001b[0;34m)\u001b[0m\u001b[0;34m\u001b[0m\u001b[0;34m\u001b[0m\u001b[0m\n\u001b[0m\u001b[1;32m   1665\u001b[0m \u001b[0;34m\u001b[0m\u001b[0m\n\u001b[1;32m   1666\u001b[0m \u001b[0;34m\u001b[0m\u001b[0m\n",
            "\u001b[0;32m/usr/local/lib/python3.6/dist-packages/pandas/core/internals/managers.py\u001b[0m in \u001b[0;36mconstruction_error\u001b[0;34m(tot_items, block_shape, axes, e)\u001b[0m\n\u001b[1;32m   1692\u001b[0m     \u001b[0;32mif\u001b[0m \u001b[0mblock_shape\u001b[0m\u001b[0;34m[\u001b[0m\u001b[0;36m0\u001b[0m\u001b[0;34m]\u001b[0m \u001b[0;34m==\u001b[0m \u001b[0;36m0\u001b[0m\u001b[0;34m:\u001b[0m\u001b[0;34m\u001b[0m\u001b[0;34m\u001b[0m\u001b[0m\n\u001b[1;32m   1693\u001b[0m         \u001b[0;32mraise\u001b[0m \u001b[0mValueError\u001b[0m\u001b[0;34m(\u001b[0m\u001b[0;34m\"Empty data passed with indices specified.\"\u001b[0m\u001b[0;34m)\u001b[0m\u001b[0;34m\u001b[0m\u001b[0;34m\u001b[0m\u001b[0m\n\u001b[0;32m-> 1694\u001b[0;31m     \u001b[0;32mraise\u001b[0m \u001b[0mValueError\u001b[0m\u001b[0;34m(\u001b[0m\u001b[0;34mf\"Shape of passed values is {passed}, indices imply {implied}\"\u001b[0m\u001b[0;34m)\u001b[0m\u001b[0;34m\u001b[0m\u001b[0;34m\u001b[0m\u001b[0m\n\u001b[0m\u001b[1;32m   1695\u001b[0m \u001b[0;34m\u001b[0m\u001b[0m\n\u001b[1;32m   1696\u001b[0m \u001b[0;34m\u001b[0m\u001b[0m\n",
            "\u001b[0;31mValueError\u001b[0m: Shape of passed values is (6, 60), indices imply (6, 6)"
          ]
        }
      ]
    },
    {
      "cell_type": "code",
      "metadata": {
        "id": "vYl7O9n-M01F",
        "colab_type": "code",
        "colab": {
          "base_uri": "https://localhost:8080/",
          "height": 694
        },
        "outputId": "7a615b3b-8dbe-44cd-e756-4a15e783e5c1"
      },
      "source": [
        "# Import pyplot\n",
        "from matplotlib import pyplot as plt\n",
        "\n",
        "# Select the 0th row: digit\n",
        "digit = img.iloc[0]\n",
        "\n",
        "# Print digit\n",
        "print(digit)\n",
        "\n",
        "# Reshape digit to a 13x8 array: bitmap\n",
        "bitmap = digit.values.reshape((13,8)) # had to add .values\n",
        "\n",
        "# Print bitmap\n",
        "print(bitmap)\n",
        "\n",
        "# Use plt.imshow to display bitmap\n",
        "plt.imshow(bitmap, cmap='gray', interpolation='nearest')\n",
        "plt.colorbar()\n",
        "plt.show()"
      ],
      "execution_count": 90,
      "outputs": [
        {
          "output_type": "stream",
          "text": [
            "0.0       0.0\n",
            "0.0.1     0.0\n",
            "0.0.2     0.0\n",
            "0.0.3     0.0\n",
            "0.0.4     0.0\n",
            "         ... \n",
            "0.0.87    0.0\n",
            "0.0.88    0.0\n",
            "0.0.89    0.0\n",
            "0.0.90    0.0\n",
            "0.0.91    0.0\n",
            "Name: 0, Length: 104, dtype: float64\n",
            "[[0. 0. 0. 0. 0. 0. 0. 0.]\n",
            " [0. 0. 1. 1. 1. 1. 0. 0.]\n",
            " [0. 1. 0. 0. 0. 0. 1. 0.]\n",
            " [0. 1. 0. 0. 0. 0. 1. 0.]\n",
            " [0. 1. 0. 0. 0. 0. 1. 0.]\n",
            " [0. 1. 0. 0. 0. 0. 1. 0.]\n",
            " [0. 0. 1. 1. 1. 1. 0. 0.]\n",
            " [0. 0. 0. 0. 0. 0. 0. 0.]\n",
            " [0. 0. 0. 0. 0. 0. 0. 0.]\n",
            " [0. 0. 0. 0. 0. 0. 0. 0.]\n",
            " [0. 0. 0. 0. 0. 0. 0. 0.]\n",
            " [0. 0. 0. 0. 0. 0. 0. 0.]\n",
            " [0. 0. 0. 0. 0. 0. 0. 0.]]\n"
          ],
          "name": "stdout"
        },
        {
          "output_type": "display_data",
          "data": {
            "image/png": "[encoded data removed]",
            "text/plain": [
              "<Figure size 432x288 with 2 Axes>"
            ]
          },
          "metadata": {
            "tags": [],
            "needs_background": "light"
          }
        }
      ]
    },
    {
      "cell_type": "code",
      "metadata": {
        "id": "g6ZOQYUaReZ3",
        "colab_type": "code",
        "colab": {}
      },
      "source": [
        "def show_as_image(sample):\n",
        "    bitmap = sample.reshape((13, 8))\n",
        "    plt.figure()\n",
        "    plt.imshow(bitmap, cmap='gray', interpolation='nearest')\n",
        "    plt.colorbar()\n",
        "    plt.show()"
      ],
      "execution_count": 91,
      "outputs": []
    },
    {
      "cell_type": "code",
      "metadata": {
        "id": "Rsqa2zcfT53J",
        "colab_type": "code",
        "colab": {
          "base_uri": "https://localhost:8080/",
          "height": 1000
        },
        "outputId": "7c3cbe02-b20b-4183-c201-2da06c709779"
      },
      "source": [
        "# Import NMF\n",
        "from sklearn.decomposition import NMF\n",
        "\n",
        "# Create an NMF model: model\n",
        "model = NMF(n_components=7)\n",
        "\n",
        "# Apply fit_transform to samples: features\n",
        "features = model.fit_transform(img)\n",
        "\n",
        "# Call show_as_image on each component\n",
        "for component in model.components_:\n",
        "    show_as_image(component)\n",
        "\n",
        "# Assign the 0th row of features: digit_features\n",
        "digit_features = features[0]\n",
        "\n",
        "# Print digit_features\n",
        "print(digit_features)"
      ],
      "execution_count": 94,
      "outputs": [
        {
          "output_type": "display_data",
          "data": {
            "image/png": "[encoded data removed]",
            "text/plain": [
              "<Figure size 432x288 with 2 Axes>"
            ]
          },
          "metadata": {
            "tags": [],
            "needs_background": "light"
          }
        },
        {
          "output_type": "display_data",
          "data": {
            "image/png": "[encoded data removed]",
            "text/plain": [
              "<Figure size 432x288 with 2 Axes>"
            ]
          },
          "metadata": {
            "tags": [],
            "needs_background": "light"
          }
        },
        {
          "output_type": "display_data",
          "data": {
            "image/png": "[encoded data removed]",
            "text/plain": [
              "<Figure size 432x288 with 2 Axes>"
            ]
          },
          "metadata": {
            "tags": [],
            "needs_background": "light"
          }
        },
        {
          "output_type": "display_data",
          "data": {
            "image/png": "[encoded data removed]",
            "text/plain": [
              "<Figure size 432x288 with 2 Axes>"
            ]
          },
          "metadata": {
            "tags": [],
            "needs_background": "light"
          }
        },
        {
          "output_type": "display_data",
          "data": {
            "image/png": "[encoded data removed]",
            "text/plain": [
              "<Figure size 432x288 with 2 Axes>"
            ]
          },
          "metadata": {
            "tags": [],
            "needs_background": "light"
          }
        },
        {
          "output_type": "display_data",
          "data": {
            "image/png": "[encoded data removed]",
            "text/plain": [
              "<Figure size 432x288 with 2 Axes>"
            ]
          },
          "metadata": {
            "tags": [],
            "needs_background": "light"
          }
        },
        {
          "output_type": "display_data",
          "data": {
            "image/png": "[encoded data removed]",
            "text/plain": [
              "<Figure size 432x288 with 2 Axes>"
            ]
          },
          "metadata": {
            "tags": [],
            "needs_background": "light"
          }
        },
        {
          "output_type": "stream",
          "text": [
            "[4.76823559e-01 0.00000000e+00 0.00000000e+00 5.90605054e-01\n",
            " 4.81559442e-01 0.00000000e+00 7.37562716e-16]\n"
          ],
          "name": "stdout"
        }
      ]
    },
    {
      "cell_type": "code",
      "metadata": {
        "id": "aCQmamn3VGJ1",
        "colab_type": "code",
        "colab": {
          "base_uri": "https://localhost:8080/",
          "height": 1000
        },
        "outputId": "2fdb5b32-9811-4ba4-b7ee-1b14f46ad4b6"
      },
      "source": [
        "# Import PCA\n",
        "from sklearn.decomposition import PCA\n",
        "\n",
        "# Create a PCA instance: model\n",
        "model = PCA(n_components=7)\n",
        "\n",
        "# Apply fit_transform to samples: features\n",
        "features = model.fit_transform(img)\n",
        "\n",
        "# Call show_as_image on each component\n",
        "for component in model.components_:\n",
        "    show_as_image(component)"
      ],
      "execution_count": 96,
      "outputs": [
        {
          "output_type": "display_data",
          "data": {
            "image/png": "[encoded data removed]",
            "text/plain": [
              "<Figure size 432x288 with 2 Axes>"
            ]
          },
          "metadata": {
            "tags": [],
            "needs_background": "light"
          }
        },
        {
          "output_type": "display_data",
          "data": {
            "image/png": "[encoded data removed]",
            "text/plain": [
              "<Figure size 432x288 with 2 Axes>"
            ]
          },
          "metadata": {
            "tags": [],
            "needs_background": "light"
          }
        },
        {
          "output_type": "display_data",
          "data": {
            "image/png": "[encoded data removed]",
            "text/plain": [
              "<Figure size 432x288 with 2 Axes>"
            ]
          },
          "metadata": {
            "tags": [],
            "needs_background": "light"
          }
        },
        {
          "output_type": "display_data",
          "data": {
            "image/png": "[encoded data removed]",
            "text/plain": [
              "<Figure size 432x288 with 2 Axes>"
            ]
          },
          "metadata": {
            "tags": [],
            "needs_background": "light"
          }
        },
        {
          "output_type": "display_data",
          "data": {
            "image/png": "[encoded data removed]",
            "text/plain": [
              "<Figure size 432x288 with 2 Axes>"
            ]
          },
          "metadata": {
            "tags": [],
            "needs_background": "light"
          }
        },
        {
          "output_type": "display_data",
          "data": {
            "image/png": "[encoded data removed]",
            "text/plain": [
              "<Figure size 432x288 with 2 Axes>"
            ]
          },
          "metadata": {
            "tags": [],
            "needs_background": "light"
          }
        },
        {
          "output_type": "display_data",
          "data": {
            "image/png": "[encoded data removed]",
            "text/plain": [
              "<Figure size 432x288 with 2 Axes>"
            ]
          },
          "metadata": {
            "tags": [],
            "needs_background": "light"
          }
        }
      ]
    },
    {
      "cell_type": "markdown",
      "metadata": {
        "id": "MwB1f9UrYVch",
        "colab_type": "text"
      },
      "source": [
        "### Building recommender systems using NMF\n"
      ]
    },
    {
      "cell_type": "code",
      "metadata": {
        "id": "NyZirr8AV4f0",
        "colab_type": "code",
        "colab": {
          "base_uri": "https://localhost:8080/",
          "height": 426
        },
        "outputId": "3bb22602-0199-4a08-e8ee-47abd26135bb"
      },
      "source": [
        "# Perform the necessary imports\n",
        "import pandas as pd\n",
        "from sklearn.preprocessing import normalize\n",
        "\n",
        "# Normalize the NMF features: norm_features\n",
        "norm_features = normalize(nmf_features)\n",
        "\n",
        "# Create a DataFrame: df\n",
        "df = pd.DataFrame(norm_features, index=titles)\n",
        "\n",
        "# Select the row corresponding to 'Cristiano Ronaldo': article\n",
        "article = df.loc['Cristiano Ronaldo']\n",
        "\n",
        "# Compute the dot products: similarities\n",
        "similarities = df.dot(article)\n",
        "\n",
        "# Display those with the largest cosine similarity\n",
        "print(similarities.nlargest())"
      ],
      "execution_count": 97,
      "outputs": [
        {
          "output_type": "error",
          "ename": "ValueError",
          "evalue": "ignored",
          "traceback": [
            "\u001b[0;31m---------------------------------------------------------------------------\u001b[0m",
            "\u001b[0;31mValueError\u001b[0m                                Traceback (most recent call last)",
            "\u001b[0;32m/usr/local/lib/python3.6/dist-packages/pandas/core/internals/managers.py\u001b[0m in \u001b[0;36mcreate_block_manager_from_blocks\u001b[0;34m(blocks, axes)\u001b[0m\n\u001b[1;32m   1656\u001b[0m \u001b[0;34m\u001b[0m\u001b[0m\n\u001b[0;32m-> 1657\u001b[0;31m         \u001b[0mmgr\u001b[0m \u001b[0;34m=\u001b[0m \u001b[0mBlockManager\u001b[0m\u001b[0;34m(\u001b[0m\u001b[0mblocks\u001b[0m\u001b[0;34m,\u001b[0m \u001b[0maxes\u001b[0m\u001b[0;34m)\u001b[0m\u001b[0;34m\u001b[0m\u001b[0;34m\u001b[0m\u001b[0m\n\u001b[0m\u001b[1;32m   1658\u001b[0m         \u001b[0mmgr\u001b[0m\u001b[0;34m.\u001b[0m\u001b[0m_consolidate_inplace\u001b[0m\u001b[0;34m(\u001b[0m\u001b[0;34m)\u001b[0m\u001b[0;34m\u001b[0m\u001b[0;34m\u001b[0m\u001b[0m\n",
            "\u001b[0;32m/usr/local/lib/python3.6/dist-packages/pandas/core/internals/managers.py\u001b[0m in \u001b[0;36m__init__\u001b[0;34m(self, blocks, axes, do_integrity_check)\u001b[0m\n\u001b[1;32m    138\u001b[0m         \u001b[0;32mif\u001b[0m \u001b[0mdo_integrity_check\u001b[0m\u001b[0;34m:\u001b[0m\u001b[0;34m\u001b[0m\u001b[0;34m\u001b[0m\u001b[0m\n\u001b[0;32m--> 139\u001b[0;31m             \u001b[0mself\u001b[0m\u001b[0;34m.\u001b[0m\u001b[0m_verify_integrity\u001b[0m\u001b[0;34m(\u001b[0m\u001b[0;34m)\u001b[0m\u001b[0;34m\u001b[0m\u001b[0;34m\u001b[0m\u001b[0m\n\u001b[0m\u001b[1;32m    140\u001b[0m \u001b[0;34m\u001b[0m\u001b[0m\n",
            "\u001b[0;32m/usr/local/lib/python3.6/dist-packages/pandas/core/internals/managers.py\u001b[0m in \u001b[0;36m_verify_integrity\u001b[0;34m(self)\u001b[0m\n\u001b[1;32m    333\u001b[0m             \u001b[0;32mif\u001b[0m \u001b[0mblock\u001b[0m\u001b[0;34m.\u001b[0m\u001b[0m_verify_integrity\u001b[0m \u001b[0;32mand\u001b[0m \u001b[0mblock\u001b[0m\u001b[0;34m.\u001b[0m\u001b[0mshape\u001b[0m\u001b[0;34m[\u001b[0m\u001b[0;36m1\u001b[0m\u001b[0;34m:\u001b[0m\u001b[0;34m]\u001b[0m \u001b[0;34m!=\u001b[0m \u001b[0mmgr_shape\u001b[0m\u001b[0;34m[\u001b[0m\u001b[0;36m1\u001b[0m\u001b[0;34m:\u001b[0m\u001b[0;34m]\u001b[0m\u001b[0;34m:\u001b[0m\u001b[0;34m\u001b[0m\u001b[0;34m\u001b[0m\u001b[0m\n\u001b[0;32m--> 334\u001b[0;31m                 \u001b[0mconstruction_error\u001b[0m\u001b[0;34m(\u001b[0m\u001b[0mtot_items\u001b[0m\u001b[0;34m,\u001b[0m \u001b[0mblock\u001b[0m\u001b[0;34m.\u001b[0m\u001b[0mshape\u001b[0m\u001b[0;34m[\u001b[0m\u001b[0;36m1\u001b[0m\u001b[0;34m:\u001b[0m\u001b[0;34m]\u001b[0m\u001b[0;34m,\u001b[0m \u001b[0mself\u001b[0m\u001b[0;34m.\u001b[0m\u001b[0maxes\u001b[0m\u001b[0;34m)\u001b[0m\u001b[0;34m\u001b[0m\u001b[0;34m\u001b[0m\u001b[0m\n\u001b[0m\u001b[1;32m    335\u001b[0m         \u001b[0;32mif\u001b[0m \u001b[0mlen\u001b[0m\u001b[0;34m(\u001b[0m\u001b[0mself\u001b[0m\u001b[0;34m.\u001b[0m\u001b[0mitems\u001b[0m\u001b[0;34m)\u001b[0m \u001b[0;34m!=\u001b[0m \u001b[0mtot_items\u001b[0m\u001b[0;34m:\u001b[0m\u001b[0;34m\u001b[0m\u001b[0;34m\u001b[0m\u001b[0m\n",
            "\u001b[0;32m/usr/local/lib/python3.6/dist-packages/pandas/core/internals/managers.py\u001b[0m in \u001b[0;36mconstruction_error\u001b[0;34m(tot_items, block_shape, axes, e)\u001b[0m\n\u001b[1;32m   1693\u001b[0m         \u001b[0;32mraise\u001b[0m \u001b[0mValueError\u001b[0m\u001b[0;34m(\u001b[0m\u001b[0;34m\"Empty data passed with indices specified.\"\u001b[0m\u001b[0;34m)\u001b[0m\u001b[0;34m\u001b[0m\u001b[0;34m\u001b[0m\u001b[0m\n\u001b[0;32m-> 1694\u001b[0;31m     \u001b[0;32mraise\u001b[0m \u001b[0mValueError\u001b[0m\u001b[0;34m(\u001b[0m\u001b[0;34mf\"Shape of passed values is {passed}, indices imply {implied}\"\u001b[0m\u001b[0;34m)\u001b[0m\u001b[0;34m\u001b[0m\u001b[0;34m\u001b[0m\u001b[0m\n\u001b[0m\u001b[1;32m   1695\u001b[0m \u001b[0;34m\u001b[0m\u001b[0m\n",
            "\u001b[0;31mValueError\u001b[0m: Shape of passed values is (13125, 6), indices imply (60, 6)",
            "\nDuring handling of the above exception, another exception occurred:\n",
            "\u001b[0;31mValueError\u001b[0m                                Traceback (most recent call last)",
            "\u001b[0;32m<ipython-input-97-7b6035ee523a>\u001b[0m in \u001b[0;36m<module>\u001b[0;34m()\u001b[0m\n\u001b[1;32m      7\u001b[0m \u001b[0;34m\u001b[0m\u001b[0m\n\u001b[1;32m      8\u001b[0m \u001b[0;31m# Create a DataFrame: df\u001b[0m\u001b[0;34m\u001b[0m\u001b[0;34m\u001b[0m\u001b[0;34m\u001b[0m\u001b[0m\n\u001b[0;32m----> 9\u001b[0;31m \u001b[0mdf\u001b[0m \u001b[0;34m=\u001b[0m \u001b[0mpd\u001b[0m\u001b[0;34m.\u001b[0m\u001b[0mDataFrame\u001b[0m\u001b[0;34m(\u001b[0m\u001b[0mnorm_features\u001b[0m\u001b[0;34m,\u001b[0m \u001b[0mindex\u001b[0m\u001b[0;34m=\u001b[0m\u001b[0mtitles\u001b[0m\u001b[0;34m)\u001b[0m\u001b[0;34m\u001b[0m\u001b[0;34m\u001b[0m\u001b[0m\n\u001b[0m\u001b[1;32m     10\u001b[0m \u001b[0;34m\u001b[0m\u001b[0m\n\u001b[1;32m     11\u001b[0m \u001b[0;31m# Select the row corresponding to 'Cristiano Ronaldo': article\u001b[0m\u001b[0;34m\u001b[0m\u001b[0;34m\u001b[0m\u001b[0;34m\u001b[0m\u001b[0m\n",
            "\u001b[0;32m/usr/local/lib/python3.6/dist-packages/pandas/core/frame.py\u001b[0m in \u001b[0;36m__init__\u001b[0;34m(self, data, index, columns, dtype, copy)\u001b[0m\n\u001b[1;32m    462\u001b[0m                 \u001b[0mmgr\u001b[0m \u001b[0;34m=\u001b[0m \u001b[0minit_dict\u001b[0m\u001b[0;34m(\u001b[0m\u001b[0;34m{\u001b[0m\u001b[0mdata\u001b[0m\u001b[0;34m.\u001b[0m\u001b[0mname\u001b[0m\u001b[0;34m:\u001b[0m \u001b[0mdata\u001b[0m\u001b[0;34m}\u001b[0m\u001b[0;34m,\u001b[0m \u001b[0mindex\u001b[0m\u001b[0;34m,\u001b[0m \u001b[0mcolumns\u001b[0m\u001b[0;34m,\u001b[0m \u001b[0mdtype\u001b[0m\u001b[0;34m=\u001b[0m\u001b[0mdtype\u001b[0m\u001b[0;34m)\u001b[0m\u001b[0;34m\u001b[0m\u001b[0;34m\u001b[0m\u001b[0m\n\u001b[1;32m    463\u001b[0m             \u001b[0;32melse\u001b[0m\u001b[0;34m:\u001b[0m\u001b[0;34m\u001b[0m\u001b[0;34m\u001b[0m\u001b[0m\n\u001b[0;32m--> 464\u001b[0;31m                 \u001b[0mmgr\u001b[0m \u001b[0;34m=\u001b[0m \u001b[0minit_ndarray\u001b[0m\u001b[0;34m(\u001b[0m\u001b[0mdata\u001b[0m\u001b[0;34m,\u001b[0m \u001b[0mindex\u001b[0m\u001b[0;34m,\u001b[0m \u001b[0mcolumns\u001b[0m\u001b[0;34m,\u001b[0m \u001b[0mdtype\u001b[0m\u001b[0;34m=\u001b[0m\u001b[0mdtype\u001b[0m\u001b[0;34m,\u001b[0m \u001b[0mcopy\u001b[0m\u001b[0;34m=\u001b[0m\u001b[0mcopy\u001b[0m\u001b[0;34m)\u001b[0m\u001b[0;34m\u001b[0m\u001b[0;34m\u001b[0m\u001b[0m\n\u001b[0m\u001b[1;32m    465\u001b[0m \u001b[0;34m\u001b[0m\u001b[0m\n\u001b[1;32m    466\u001b[0m         \u001b[0;31m# For data is list-like, or Iterable (will consume into list)\u001b[0m\u001b[0;34m\u001b[0m\u001b[0;34m\u001b[0m\u001b[0;34m\u001b[0m\u001b[0m\n",
            "\u001b[0;32m/usr/local/lib/python3.6/dist-packages/pandas/core/internals/construction.py\u001b[0m in \u001b[0;36minit_ndarray\u001b[0;34m(values, index, columns, dtype, copy)\u001b[0m\n\u001b[1;32m    208\u001b[0m         \u001b[0mblock_values\u001b[0m \u001b[0;34m=\u001b[0m \u001b[0;34m[\u001b[0m\u001b[0mvalues\u001b[0m\u001b[0;34m]\u001b[0m\u001b[0;34m\u001b[0m\u001b[0;34m\u001b[0m\u001b[0m\n\u001b[1;32m    209\u001b[0m \u001b[0;34m\u001b[0m\u001b[0m\n\u001b[0;32m--> 210\u001b[0;31m     \u001b[0;32mreturn\u001b[0m \u001b[0mcreate_block_manager_from_blocks\u001b[0m\u001b[0;34m(\u001b[0m\u001b[0mblock_values\u001b[0m\u001b[0;34m,\u001b[0m \u001b[0;34m[\u001b[0m\u001b[0mcolumns\u001b[0m\u001b[0;34m,\u001b[0m \u001b[0mindex\u001b[0m\u001b[0;34m]\u001b[0m\u001b[0;34m)\u001b[0m\u001b[0;34m\u001b[0m\u001b[0;34m\u001b[0m\u001b[0m\n\u001b[0m\u001b[1;32m    211\u001b[0m \u001b[0;34m\u001b[0m\u001b[0m\n\u001b[1;32m    212\u001b[0m \u001b[0;34m\u001b[0m\u001b[0m\n",
            "\u001b[0;32m/usr/local/lib/python3.6/dist-packages/pandas/core/internals/managers.py\u001b[0m in \u001b[0;36mcreate_block_manager_from_blocks\u001b[0;34m(blocks, axes)\u001b[0m\n\u001b[1;32m   1662\u001b[0m         \u001b[0mblocks\u001b[0m \u001b[0;34m=\u001b[0m \u001b[0;34m[\u001b[0m\u001b[0mgetattr\u001b[0m\u001b[0;34m(\u001b[0m\u001b[0mb\u001b[0m\u001b[0;34m,\u001b[0m \u001b[0;34m\"values\"\u001b[0m\u001b[0;34m,\u001b[0m \u001b[0mb\u001b[0m\u001b[0;34m)\u001b[0m \u001b[0;32mfor\u001b[0m \u001b[0mb\u001b[0m \u001b[0;32min\u001b[0m \u001b[0mblocks\u001b[0m\u001b[0;34m]\u001b[0m\u001b[0;34m\u001b[0m\u001b[0;34m\u001b[0m\u001b[0m\n\u001b[1;32m   1663\u001b[0m         \u001b[0mtot_items\u001b[0m \u001b[0;34m=\u001b[0m \u001b[0msum\u001b[0m\u001b[0;34m(\u001b[0m\u001b[0mb\u001b[0m\u001b[0;34m.\u001b[0m\u001b[0mshape\u001b[0m\u001b[0;34m[\u001b[0m\u001b[0;36m0\u001b[0m\u001b[0;34m]\u001b[0m \u001b[0;32mfor\u001b[0m \u001b[0mb\u001b[0m \u001b[0;32min\u001b[0m \u001b[0mblocks\u001b[0m\u001b[0;34m)\u001b[0m\u001b[0;34m\u001b[0m\u001b[0;34m\u001b[0m\u001b[0m\n\u001b[0;32m-> 1664\u001b[0;31m         \u001b[0mconstruction_error\u001b[0m\u001b[0;34m(\u001b[0m\u001b[0mtot_items\u001b[0m\u001b[0;34m,\u001b[0m \u001b[0mblocks\u001b[0m\u001b[0;34m[\u001b[0m\u001b[0;36m0\u001b[0m\u001b[0;34m]\u001b[0m\u001b[0;34m.\u001b[0m\u001b[0mshape\u001b[0m\u001b[0;34m[\u001b[0m\u001b[0;36m1\u001b[0m\u001b[0;34m:\u001b[0m\u001b[0;34m]\u001b[0m\u001b[0;34m,\u001b[0m \u001b[0maxes\u001b[0m\u001b[0;34m,\u001b[0m \u001b[0me\u001b[0m\u001b[0;34m)\u001b[0m\u001b[0;34m\u001b[0m\u001b[0;34m\u001b[0m\u001b[0m\n\u001b[0m\u001b[1;32m   1665\u001b[0m \u001b[0;34m\u001b[0m\u001b[0m\n\u001b[1;32m   1666\u001b[0m \u001b[0;34m\u001b[0m\u001b[0m\n",
            "\u001b[0;32m/usr/local/lib/python3.6/dist-packages/pandas/core/internals/managers.py\u001b[0m in \u001b[0;36mconstruction_error\u001b[0;34m(tot_items, block_shape, axes, e)\u001b[0m\n\u001b[1;32m   1692\u001b[0m     \u001b[0;32mif\u001b[0m \u001b[0mblock_shape\u001b[0m\u001b[0;34m[\u001b[0m\u001b[0;36m0\u001b[0m\u001b[0;34m]\u001b[0m \u001b[0;34m==\u001b[0m \u001b[0;36m0\u001b[0m\u001b[0;34m:\u001b[0m\u001b[0;34m\u001b[0m\u001b[0;34m\u001b[0m\u001b[0m\n\u001b[1;32m   1693\u001b[0m         \u001b[0;32mraise\u001b[0m \u001b[0mValueError\u001b[0m\u001b[0;34m(\u001b[0m\u001b[0;34m\"Empty data passed with indices specified.\"\u001b[0m\u001b[0;34m)\u001b[0m\u001b[0;34m\u001b[0m\u001b[0;34m\u001b[0m\u001b[0m\n\u001b[0;32m-> 1694\u001b[0;31m     \u001b[0;32mraise\u001b[0m \u001b[0mValueError\u001b[0m\u001b[0;34m(\u001b[0m\u001b[0;34mf\"Shape of passed values is {passed}, indices imply {implied}\"\u001b[0m\u001b[0;34m)\u001b[0m\u001b[0;34m\u001b[0m\u001b[0;34m\u001b[0m\u001b[0m\n\u001b[0m\u001b[1;32m   1695\u001b[0m \u001b[0;34m\u001b[0m\u001b[0m\n\u001b[1;32m   1696\u001b[0m \u001b[0;34m\u001b[0m\u001b[0m\n",
            "\u001b[0;31mValueError\u001b[0m: Shape of passed values is (13125, 6), indices imply (60, 6)"
          ]
        }
      ]
    },
    {
      "cell_type": "code",
      "metadata": {
        "id": "_AcDdm3WbRvP",
        "colab_type": "code",
        "colab": {}
      },
      "source": [
        "# Perform the necessary imports\n",
        "from sklearn.decomposition import NMF\n",
        "from sklearn.preprocessing import Normalizer, MaxAbsScaler\n",
        "from sklearn.pipeline import make_pipeline\n",
        "\n",
        "# Create a MaxAbsScaler: scaler\n",
        "scaler = MaxAbsScaler()\n",
        "\n",
        "# Create an NMF model: nmf\n",
        "nmf = NMF(n_components=20)\n",
        "\n",
        "# Create a Normalizer: normalizer\n",
        "normalizer = Normalizer()\n",
        "\n",
        "# Create a pipeline: pipeline\n",
        "pipeline = make_pipeline(scaler, nmf, normalizer)\n",
        "\n",
        "# Apply fit_transform to artists: norm_features\n",
        "norm_features = pipeline.fit_transform(artists)"
      ],
      "execution_count": null,
      "outputs": []
    },
    {
      "cell_type": "code",
      "metadata": {
        "id": "VhcpfyG7fqHV",
        "colab_type": "code",
        "colab": {}
      },
      "source": [
        "# Import pandas\n",
        "import pandas as pd\n",
        "\n",
        "# Create a DataFrame: df\n",
        "df = pd.DataFrame(norm_features, index=artist_names)\n",
        "\n",
        "# Select row of 'Bruce Springsteen': artist\n",
        "artist = df.loc['Bruce Springsteen']\n",
        "\n",
        "# Compute cosine similarities: similarities\n",
        "similarities = df.dot(artist)\n",
        "\n",
        "# Display those with highest cosine similarity\n",
        "print(similarities.nlargest())"
      ],
      "execution_count": null,
      "outputs": []
    },
    {
      "cell_type": "code",
      "metadata": {
        "id": "oFUvkCnBfqML",
        "colab_type": "code",
        "colab": {}
      },
      "source": [
        ""
      ],
      "execution_count": null,
      "outputs": []
    }
  ]
}