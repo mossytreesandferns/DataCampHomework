{
  "nbformat": 4,
  "nbformat_minor": 0,
  "metadata": {
    "colab": {
      "name": "DCImportingIntermediate.ipynb",
      "provenance": [],
      "authorship_tag": "ABX9TyMuwyTnJKYPypuJyvKGuH5y",
      "include_colab_link": true
    },
    "kernelspec": {
      "name": "python3",
      "display_name": "Python 3"
    }
  },
  "cells": [
    {
      "cell_type": "markdown",
      "metadata": {
        "id": "view-in-github",
        "colab_type": "text"
      },
      "source": [
        "<a href=\"https://colab.research.google.com/github/mossytreesandferns/DataCampHomework/blob/master/DCImportingIntermediate.ipynb\" target=\"_parent\"><img src=\"https://colab.research.google.com/assets/colab-badge.svg\" alt=\"Open In Colab\"/></a>"
      ]
    },
    {
      "cell_type": "code",
      "metadata": {
        "id": "EglB7mcg9vkz",
        "colab_type": "code",
        "outputId": "f3f93260-c1df-4644-bc16-4f824b83e67b",
        "colab": {
          "base_uri": "https://localhost:8080/",
          "height": 122
        }
      },
      "source": [
        "#Mount my drive- run the code, go to the link, accept.\n",
        "from google.colab import drive\n",
        "drive.mount('/content/gdrive')"
      ],
      "execution_count": 1,
      "outputs": [
        {
          "output_type": "stream",
          "text": [
            "Go to this URL in a browser: https://accounts.google.com/o/oauth2/auth?client_id=947318989803-6bn6qk8qdgf4n4g3pfee6491hc0brc4i.apps.googleusercontent.com&redirect_uri=urn%3aietf%3awg%3aoauth%3a2.0%3aoob&response_type=code&scope=email%20https%3a%2f%2fwww.googleapis.com%2fauth%2fdocs.test%20https%3a%2f%2fwww.googleapis.com%2fauth%2fdrive%20https%3a%2f%2fwww.googleapis.com%2fauth%2fdrive.photos.readonly%20https%3a%2f%2fwww.googleapis.com%2fauth%2fpeopleapi.readonly\n",
            "\n",
            "Enter your authorization code:\n",
            "··········\n",
            "Mounted at /content/gdrive\n"
          ],
          "name": "stdout"
        }
      ]
    },
    {
      "cell_type": "code",
      "metadata": {
        "id": "uosh7Vqr97cU",
        "colab_type": "code",
        "outputId": "ee4da673-68a2-48c2-da02-a2f0a3d05540",
        "colab": {
          "base_uri": "https://localhost:8080/",
          "height": 34
        }
      },
      "source": [
        "#Change working directory to make it easier to access the files\n",
        "import os\n",
        "os.chdir(\"/content/gdrive/My Drive/DCImportingData/\")\n",
        "os.getcwd()"
      ],
      "execution_count": 2,
      "outputs": [
        {
          "output_type": "execute_result",
          "data": {
            "text/plain": [
              "'/content/gdrive/My Drive/DCImportingData'"
            ]
          },
          "metadata": {
            "tags": []
          },
          "execution_count": 2
        }
      ]
    },
    {
      "cell_type": "markdown",
      "metadata": {
        "id": "npZ69zB897wF",
        "colab_type": "text"
      },
      "source": [
        "# Importing Data From the Internet"
      ]
    },
    {
      "cell_type": "markdown",
      "metadata": {
        "id": "c5pQ7ZHD-ZK3",
        "colab_type": "text"
      },
      "source": [
        "### Importing Flat Files from the Web"
      ]
    },
    {
      "cell_type": "code",
      "metadata": {
        "id": "v9XW25tx-Ygo",
        "colab_type": "code",
        "colab": {}
      },
      "source": [
        "from urllib.request import urlretrieve\n",
        "import pandas as pd"
      ],
      "execution_count": 0,
      "outputs": []
    },
    {
      "cell_type": "code",
      "metadata": {
        "id": "U4La41xl-v5q",
        "colab_type": "code",
        "outputId": "34038f3a-0958-4b65-c03e-19f5b428d1ed",
        "colab": {
          "base_uri": "https://localhost:8080/",
          "height": 34
        }
      },
      "source": [
        "'''CSV Files'''\n",
        "url = 'https://s3.amazonaws.com/assets.datacamp.com/production/course_1606/datasets/winequality-red.csv'\n",
        "urlretrieve(url,'winequality-red1.csv')\n"
      ],
      "execution_count": 4,
      "outputs": [
        {
          "output_type": "execute_result",
          "data": {
            "text/plain": [
              "('winequality-red1.csv', <http.client.HTTPMessage at 0x7fa6fdd602e8>)"
            ]
          },
          "metadata": {
            "tags": []
          },
          "execution_count": 4
        }
      ]
    },
    {
      "cell_type": "code",
      "metadata": {
        "id": "sGO3i9R0_mfG",
        "colab_type": "code",
        "outputId": "68e42ff9-4046-46d5-f11b-93a8d33cfa7f",
        "colab": {
          "base_uri": "https://localhost:8080/",
          "height": 221
        }
      },
      "source": [
        "data = pd.read_csv('winequality-red1.csv',sep=';')\n",
        "data.head()"
      ],
      "execution_count": 5,
      "outputs": [
        {
          "output_type": "execute_result",
          "data": {
            "text/html": [
              "<div>\n",
              "<style scoped>\n",
              "    .dataframe tbody tr th:only-of-type {\n",
              "        vertical-align: middle;\n",
              "    }\n",
              "\n",
              "    .dataframe tbody tr th {\n",
              "        vertical-align: top;\n",
              "    }\n",
              "\n",
              "    .dataframe thead th {\n",
              "        text-align: right;\n",
              "    }\n",
              "</style>\n",
              "<table border=\"1\" class=\"dataframe\">\n",
              "  <thead>\n",
              "    <tr style=\"text-align: right;\">\n",
              "      <th></th>\n",
              "      <th>fixed acidity</th>\n",
              "      <th>volatile acidity</th>\n",
              "      <th>citric acid</th>\n",
              "      <th>residual sugar</th>\n",
              "      <th>chlorides</th>\n",
              "      <th>free sulfur dioxide</th>\n",
              "      <th>total sulfur dioxide</th>\n",
              "      <th>density</th>\n",
              "      <th>pH</th>\n",
              "      <th>sulphates</th>\n",
              "      <th>alcohol</th>\n",
              "      <th>quality</th>\n",
              "    </tr>\n",
              "  </thead>\n",
              "  <tbody>\n",
              "    <tr>\n",
              "      <th>0</th>\n",
              "      <td>7.4</td>\n",
              "      <td>0.70</td>\n",
              "      <td>0.00</td>\n",
              "      <td>1.9</td>\n",
              "      <td>0.076</td>\n",
              "      <td>11.0</td>\n",
              "      <td>34.0</td>\n",
              "      <td>0.9978</td>\n",
              "      <td>3.51</td>\n",
              "      <td>0.56</td>\n",
              "      <td>9.4</td>\n",
              "      <td>5</td>\n",
              "    </tr>\n",
              "    <tr>\n",
              "      <th>1</th>\n",
              "      <td>7.8</td>\n",
              "      <td>0.88</td>\n",
              "      <td>0.00</td>\n",
              "      <td>2.6</td>\n",
              "      <td>0.098</td>\n",
              "      <td>25.0</td>\n",
              "      <td>67.0</td>\n",
              "      <td>0.9968</td>\n",
              "      <td>3.20</td>\n",
              "      <td>0.68</td>\n",
              "      <td>9.8</td>\n",
              "      <td>5</td>\n",
              "    </tr>\n",
              "    <tr>\n",
              "      <th>2</th>\n",
              "      <td>7.8</td>\n",
              "      <td>0.76</td>\n",
              "      <td>0.04</td>\n",
              "      <td>2.3</td>\n",
              "      <td>0.092</td>\n",
              "      <td>15.0</td>\n",
              "      <td>54.0</td>\n",
              "      <td>0.9970</td>\n",
              "      <td>3.26</td>\n",
              "      <td>0.65</td>\n",
              "      <td>9.8</td>\n",
              "      <td>5</td>\n",
              "    </tr>\n",
              "    <tr>\n",
              "      <th>3</th>\n",
              "      <td>11.2</td>\n",
              "      <td>0.28</td>\n",
              "      <td>0.56</td>\n",
              "      <td>1.9</td>\n",
              "      <td>0.075</td>\n",
              "      <td>17.0</td>\n",
              "      <td>60.0</td>\n",
              "      <td>0.9980</td>\n",
              "      <td>3.16</td>\n",
              "      <td>0.58</td>\n",
              "      <td>9.8</td>\n",
              "      <td>6</td>\n",
              "    </tr>\n",
              "    <tr>\n",
              "      <th>4</th>\n",
              "      <td>7.4</td>\n",
              "      <td>0.70</td>\n",
              "      <td>0.00</td>\n",
              "      <td>1.9</td>\n",
              "      <td>0.076</td>\n",
              "      <td>11.0</td>\n",
              "      <td>34.0</td>\n",
              "      <td>0.9978</td>\n",
              "      <td>3.51</td>\n",
              "      <td>0.56</td>\n",
              "      <td>9.4</td>\n",
              "      <td>5</td>\n",
              "    </tr>\n",
              "  </tbody>\n",
              "</table>\n",
              "</div>"
            ],
            "text/plain": [
              "   fixed acidity  volatile acidity  citric acid  ...  sulphates  alcohol  quality\n",
              "0            7.4              0.70         0.00  ...       0.56      9.4        5\n",
              "1            7.8              0.88         0.00  ...       0.68      9.8        5\n",
              "2            7.8              0.76         0.04  ...       0.65      9.8        5\n",
              "3           11.2              0.28         0.56  ...       0.58      9.8        6\n",
              "4            7.4              0.70         0.00  ...       0.56      9.4        5\n",
              "\n",
              "[5 rows x 12 columns]"
            ]
          },
          "metadata": {
            "tags": []
          },
          "execution_count": 5
        }
      ]
    },
    {
      "cell_type": "code",
      "metadata": {
        "id": "fXxmGlNl_vJq",
        "colab_type": "code",
        "outputId": "ad443c4c-1b76-4253-cfb7-3fc4de89e5d7",
        "colab": {
          "base_uri": "https://localhost:8080/",
          "height": 301
        }
      },
      "source": [
        "import matplotlib.pyplot as plt\n",
        "pd.DataFrame.hist(data.iloc[:, 0:1]) #df.ix[] is label and integer based slicing command that has been deprecated, use iloc\n",
        "plt.xlabel('fixed acidity (g(tartaric acid)/dm$^3$)')\n",
        "plt.ylabel('count')\n",
        "plt.show()"
      ],
      "execution_count": 7,
      "outputs": [
        {
          "output_type": "display_data",
          "data": {
            "image/png": "[encoded data removed]",
            "text/plain": [
              "<Figure size 432x288 with 1 Axes>"
            ]
          },
          "metadata": {
            "tags": [],
            "needs_background": "light"
          }
        }
      ]
    },
    {
      "cell_type": "code",
      "metadata": {
        "id": "SVtRGzkcApwI",
        "colab_type": "code",
        "outputId": "f47cf3f2-b29b-4d39-b937-4f57be711e3e",
        "colab": {
          "base_uri": "https://localhost:8080/",
          "height": 34
        }
      },
      "source": [
        "pd.__version__"
      ],
      "execution_count": 8,
      "outputs": [
        {
          "output_type": "execute_result",
          "data": {
            "text/plain": [
              "'1.0.3'"
            ]
          },
          "metadata": {
            "tags": []
          },
          "execution_count": 8
        }
      ]
    },
    {
      "cell_type": "code",
      "metadata": {
        "id": "MzQlnCYfBh55",
        "colab_type": "code",
        "outputId": "2b733a8f-bc98-4cf1-df33-2efba21e60ac",
        "colab": {
          "base_uri": "https://localhost:8080/",
          "height": 34
        }
      },
      "source": [
        "'''XLS files'''\n",
        "url = 'http://s3.amazonaws.com/assets.datacamp.com/course/importing_data_into_r/latitude.xls'\n",
        "urlretrieve(url,'latitude.xls')"
      ],
      "execution_count": 9,
      "outputs": [
        {
          "output_type": "execute_result",
          "data": {
            "text/plain": [
              "('latitude.xls', <http.client.HTTPMessage at 0x7fa6fd2da3c8>)"
            ]
          },
          "metadata": {
            "tags": []
          },
          "execution_count": 9
        }
      ]
    },
    {
      "cell_type": "code",
      "metadata": {
        "id": "gURRbs7NCqfS",
        "colab_type": "code",
        "outputId": "4cc9934d-d0bb-41d5-93ae-a2a217a072f2",
        "colab": {
          "base_uri": "https://localhost:8080/",
          "height": 34
        }
      },
      "source": [
        "data = pd.read_excel('latitude.xls',sheet_name=None)\n",
        "data.keys()"
      ],
      "execution_count": 10,
      "outputs": [
        {
          "output_type": "execute_result",
          "data": {
            "text/plain": [
              "dict_keys(['1700', '1900'])"
            ]
          },
          "metadata": {
            "tags": []
          },
          "execution_count": 10
        }
      ]
    },
    {
      "cell_type": "code",
      "metadata": {
        "id": "R2eZ_fJ3Cv5X",
        "colab_type": "code",
        "outputId": "67c05513-b627-44a6-b74b-d9c9cae23e59",
        "colab": {
          "base_uri": "https://localhost:8080/",
          "height": 204
        }
      },
      "source": [
        "data1 = data['1700']\n",
        "data1.head()"
      ],
      "execution_count": 11,
      "outputs": [
        {
          "output_type": "execute_result",
          "data": {
            "text/html": [
              "<div>\n",
              "<style scoped>\n",
              "    .dataframe tbody tr th:only-of-type {\n",
              "        vertical-align: middle;\n",
              "    }\n",
              "\n",
              "    .dataframe tbody tr th {\n",
              "        vertical-align: top;\n",
              "    }\n",
              "\n",
              "    .dataframe thead th {\n",
              "        text-align: right;\n",
              "    }\n",
              "</style>\n",
              "<table border=\"1\" class=\"dataframe\">\n",
              "  <thead>\n",
              "    <tr style=\"text-align: right;\">\n",
              "      <th></th>\n",
              "      <th>country</th>\n",
              "      <th>1700</th>\n",
              "    </tr>\n",
              "  </thead>\n",
              "  <tbody>\n",
              "    <tr>\n",
              "      <th>0</th>\n",
              "      <td>Afghanistan</td>\n",
              "      <td>34.565000</td>\n",
              "    </tr>\n",
              "    <tr>\n",
              "      <th>1</th>\n",
              "      <td>Akrotiri and Dhekelia</td>\n",
              "      <td>34.616667</td>\n",
              "    </tr>\n",
              "    <tr>\n",
              "      <th>2</th>\n",
              "      <td>Albania</td>\n",
              "      <td>41.312000</td>\n",
              "    </tr>\n",
              "    <tr>\n",
              "      <th>3</th>\n",
              "      <td>Algeria</td>\n",
              "      <td>36.720000</td>\n",
              "    </tr>\n",
              "    <tr>\n",
              "      <th>4</th>\n",
              "      <td>American Samoa</td>\n",
              "      <td>-14.307000</td>\n",
              "    </tr>\n",
              "  </tbody>\n",
              "</table>\n",
              "</div>"
            ],
            "text/plain": [
              "                 country       1700\n",
              "0            Afghanistan  34.565000\n",
              "1  Akrotiri and Dhekelia  34.616667\n",
              "2                Albania  41.312000\n",
              "3                Algeria  36.720000\n",
              "4         American Samoa -14.307000"
            ]
          },
          "metadata": {
            "tags": []
          },
          "execution_count": 11
        }
      ]
    },
    {
      "cell_type": "markdown",
      "metadata": {
        "id": "CCG5SuyZGemr",
        "colab_type": "text"
      },
      "source": [
        "### HTTP requests from the Web"
      ]
    },
    {
      "cell_type": "code",
      "metadata": {
        "id": "6L-braFVDCdX",
        "colab_type": "code",
        "colab": {}
      },
      "source": [
        "# http protocol identifier\n",
        "# website.com resource name\n",
        "# GET request- what you send every time you go to a website"
      ],
      "execution_count": 0,
      "outputs": []
    },
    {
      "cell_type": "code",
      "metadata": {
        "id": "ZZkNe8KnHYB0",
        "colab_type": "code",
        "colab": {}
      },
      "source": [
        "'''Extracting HTML using urllib'''\n",
        "from urllib.request import urlopen, Request\n",
        "url = 'https://www.wikipedia.org'\n",
        "request = Request(url)\n",
        "response = urlopen(request)\n",
        "html = response.read()\n",
        "response.close()"
      ],
      "execution_count": 0,
      "outputs": []
    },
    {
      "cell_type": "code",
      "metadata": {
        "id": "KsbPk8XAG6Xw",
        "colab_type": "code",
        "colab": {
          "base_uri": "https://localhost:8080/",
          "height": 54
        },
        "outputId": "84e4df93-d9d7-459a-dfa4-6659a05d4bfd"
      },
      "source": [
        "html"
      ],
      "execution_count": 16,
      "outputs": [
        {
          "output_type": "execute_result",
          "data": {
            "text/plain": [
              "b'<!DOCTYPE html>\\n<html lang=\"mul\" class=\"no-js\">\\n<head>\\n<meta charset=\"utf-8\">\\n<title>Wikipedia</title>\\n<meta name=\"description\" content=\"Wikipedia is a free online encyclopedia, created and edited by volunteers around the world and hosted by the Wikimedia Foundation.\">\\n<![if gt IE 7]>\\n<script>\\ndocument.documentElement.className = document.documentElement.className.replace( /(^|\\\\s)no-js(\\\\s|$)/, \"$1js-enabled$2\" );\\n</script>\\n<![endif]>\\n<!--[if lt IE 7]><meta http-equiv=\"imagetoolbar\" content=\"no\"><![endif]-->\\n<meta name=\"viewport\" content=\"initial-scale=1,user-scalable=yes\">\\n<link rel=\"apple-touch-icon\" href=\"/static/apple-touch/wikipedia.png\">\\n<link rel=\"shortcut icon\" href=\"/static/favicon/wikipedia.ico\">\\n<link rel=\"license\" href=\"//creativecommons.org/licenses/by-sa/3.0/\">\\n<style>\\n.sprite{background-image:url(portal/wikipedia.org/assets/img/sprite-81a290a5.png);background-image:linear-gradient(transparent,transparent),url(portal/wikipedia.org/assets/img/sprite-81a290a5.svg);background-repeat:no-repeat;display:inline-block;vertical-align:middle}.svg-Commons-logo_sister{background-position:0 0;width:47px;height:47px}.svg-MediaWiki-logo_sister{background-position:0 -47px;width:42px;height:42px}.svg-Meta-Wiki-logo_sister{background-position:0 -89px;width:37px;height:37px}.svg-Wikibooks-logo_sister{background-position:0 -126px;width:37px;height:37px}.svg-Wikidata-logo_sister{background-position:0 -163px;width:49px;height:49px}.svg-Wikimedia-logo_black{background-position:0 -212px;width:42px;height:42px}.svg-Wikipedia_wordmark{background-position:0 -254px;width:176px;height:32px}.svg-Wikiquote-logo_sister{background-position:0 -286px;width:42px;height:42px}.svg-Wikisource-logo_sister{background-position:0 -328px;width:39px;height:39px}.svg-Wikispecies-logo_sister{background-position:0 -367px;width:42px;height:42px}.svg-Wikiversity-logo_sister{background-position:0 -409px;width:43px;height:37px}.svg-Wikivoyage-logo_sister{background-position:0 -446px;width:36px;height:36px}.svg-Wiktionary-logo_sister{background-position:0 -482px;width:37px;height:37px}.svg-arrow-down{background-position:0 -519px;width:12px;height:8px}.svg-arrow-down-blue{background-position:0 -527px;width:12px;height:8px}.svg-badge_google_play_store{background-position:0 -535px;width:124px;height:38px}.svg-badge_ios_app_store{background-position:0 -573px;width:110px;height:38px}.svg-noimage{background-position:0 -611px;width:58px;height:58px}.svg-search-icon{background-position:0 -669px;width:22px;height:22px}.svg-translate-icon{background-position:0 -691px;width:25px;height:18px}.svg-wikipedia_app_tile{background-position:0 -709px;width:42px;height:42px}\\n</style>\\n<style>\\nhtml{font-family:sans-serif;-ms-text-size-adjust:100%;-webkit-text-size-adjust:100%;font-size:62.5%}body{margin:0}article,aside,details,figcaption,figure,footer,header,hgroup,main,menu,nav,section,summary{display:block}audio,canvas,progress,video{display:inline-block;vertical-align:baseline}audio:not([controls]){display:none;height:0}[hidden],template{display:none}a{background-color:transparent}a:active,a:hover{outline:0}abbr[title]{border-bottom:1px dotted}b,strong{font-weight:700}dfn{font-style:italic}h1{font-size:32px;font-size:3.2rem;margin:10.7px 0;margin:1.07rem 0}mark{background:#fc3;color:#000}small{font-size:12px;font-size:1.2rem}sub,sup{font-size:75%;line-height:0;position:relative;vertical-align:baseline}sup{top:-.5em}sub{bottom:-.25em}svg:not(:root){overflow:hidden}figure{margin:16px 40px;margin:1.6rem 4rem}hr{box-sizing:content-box}pre{overflow:auto}code,kbd,pre,samp{font-family:monospace,monospace;font-size:14px;font-size:1.4rem}button,input,optgroup,select,textarea{color:inherit;font:inherit;margin:0}button{overflow:visible}button,select{text-transform:none}button,html input[type=button],input[type=reset],input[type=submit]{-webkit-appearance:button;cursor:pointer}button[disabled],html input[disabled]{cursor:default}button::-moz-focus-inner,input::-moz-focus-inner{border:0;padding:0}input{line-height:normal}input[type=checkbox],input[type=radio]{box-sizing:border-box;padding:0}input[type=number]::-webkit-inner-spin-button,input[type=number]::-webkit-outer-spin-button{height:auto}input[type=search]{-webkit-appearance:none;box-sizing:content-box}input[type=search]::-webkit-search-cancel-button,input[type=search]::-webkit-search-decoration{-webkit-appearance:none}input[type=search]:focus{outline-offset:-2px}fieldset{border:1px solid silver;margin:0 2px;margin:0 .2rem;padding:5.6px 10px 12px;padding:.56rem 1rem 1.2rem}legend{border:0;padding:0}textarea{overflow:auto}optgroup{font-weight:700}table{border-collapse:collapse;border-spacing:0}td,th{padding:0}.hidden,[hidden]{display:none!important}.screen-reader-text{display:block;position:absolute!important;clip:rect(1px,1px,1px,1px);width:1px;height:1px;margin:-1px;border:0;padding:0;overflow:hidden}body{background-color:#fff;font-family:-apple-system,BlinkMacSystemFont,Segoe UI,Roboto,Lato,Helvetica,Arial,sans-serif;font-size:14px;font-size:1.4rem;line-height:1.5;margin:4px 0;margin:.4rem 0}a{-ms-touch-action:manipulation;touch-action:manipulation}a,a:active,a:focus{unicode-bidi:embed;outline:0;color:#36c;text-decoration:none}a:focus{outline:1px solid #36c}a:hover{text-decoration:underline}img{vertical-align:middle}hr,img{border:0}hr{clear:both;height:0;border-bottom:1px solid #c8ccd1;margin:2.6px 13px;margin:.26rem 1.3rem}.pure-button{display:inline-block;zoom:1;line-height:normal;white-space:nowrap;text-align:center;cursor:pointer;-webkit-user-drag:none;-webkit-user-select:none;-moz-user-select:none;-ms-user-select:none;user-select:none;box-sizing:border-box;background-color:#f8f9fa;color:#222;position:relative;min-height:19.2px;min-height:1.92rem;min-width:16px;min-width:1.6rem;margin:1.6px 0;margin:.16rem 0;border:1px solid #a2a9b1;border-radius:2px;padding:8px 16px;padding:.8rem 1.6rem;font-family:inherit;font-size:inherit;font-weight:700;text-decoration:none;vertical-align:top;transition:background .1s ease,color .1s ease,border-color .1s ease,box-shadow .1s ease}.pure-button::-moz-focus-inner{padding:0;border:0}.pure-button-hover,.pure-button:hover{background-color:#fff;border-color:#a2a9b1;color:#444}.pure-button-active,.pure-button:active{background-color:#c8ccd1;border-color:#72777d;color:#000}.pure-button:focus{outline:0;border-color:#36c;box-shadow:inset 0 0 0 1px #36c}.pure-button-primary-progressive{background-color:#36c;border-color:#36c;color:#fff}.pure-button-primary-progressive:hover{background:#447ff5;border-color:#447ff5}.pure-button-primary-progressive:active{background-color:#2a4b8d;border-color:#2a4b8d;box-shadow:none;color:#fff}.pure-button-primary-progressive:focus{box-shadow:inset 0 0 0 1px #36c,inset 0 0 0 2px #fff;border-color:#36c}.pure-form input[type=search]{background-color:#fff;display:inline-block;box-sizing:border-box;border:1px solid #a2a9b1;border-radius:2px;padding:8px;padding:.8rem;box-shadow:inset 0 0 0 1px #fff;vertical-align:middle}.pure-form input:focus:invalid{color:#b32424;border-color:#d33}.pure-form fieldset{margin:0;padding:5.6px 0 12px;padding:.56rem 0 1.2rem;border:0}@media only screen and (max-width:480px){.pure-form input[type=search]{display:block}}.central-textlogo-wrapper{display:inline-block;vertical-align:bottom}.central-textlogo{position:relative;margin:40px auto 5px;margin:4rem auto .5rem;width:270px;font-family:Linux Libertine,Hoefler Text,Georgia,Times New Roman,Times,serif;font-size:30px;font-size:3rem;font-weight:400;line-height:33px;line-height:3.3rem;text-align:center;-ms-font-feature-settings:\"ss05\";font-feature-settings:\"ss05\"}.localized-slogan{display:block;font-family:Linux Libertine,Georgia,Times,serif;font-size:15px;font-size:1.5rem;font-weight:400}.central-textlogo__image{color:transparent;display:inline-block;overflow:hidden;text-indent:-10000px}.central-featured-logo{position:absolute;top:136px;left:35px}@media (max-width:480px){.central-textlogo{position:relative;height:70px;width:auto;margin:0;margin-top:20px;margin-top:2rem;text-align:center;line-height:25px;line-height:2.5rem;text-indent:-10px;text-indent:-1rem}.central-textlogo-wrapper{position:relative;top:2px;text-indent:2px;text-indent:.2rem}.svg-Wikipedia_wordmark{width:150px;height:25px;background-position:0 -218px;background-size:100%}.localized-slogan{font-size:14px;font-size:1.4rem}.central-featured-logo{position:relative;display:inline-block;width:57px;height:auto;left:0;top:0}}@media (max-width:240px){.central-textlogo__image{height:auto}}.central-featured{position:relative;height:325px;height:32.5rem;width:546px;width:54.6rem;max-width:100%;margin:0 auto;text-align:center;vertical-align:middle}.central-featured-lang{position:absolute;width:156px;width:15.6rem}.central-featured-lang .link-box{display:block;padding:0;text-decoration:none;white-space:normal}.central-featured-lang .link-box:hover strong{text-decoration:underline}.central-featured-lang strong{display:block;font-size:16px;font-size:1.6rem}.central-featured-lang small{color:#54595d;display:inline-block;font-size:12px;font-size:1.2rem;line-height:1.6}.central-featured-lang em{font-style:italic}.central-featured-lang .emNonItalicLang{font-style:normal}.lang1{top:0;right:60%}.lang2{top:0;left:60%}.lang3{top:20%;right:70%}.lang4{top:20%;left:70%}.lang5{top:40%;right:72%}.lang6{top:40%;left:72%}.lang7{top:60%;right:70%}.lang8{top:60%;left:70%}.lang9{top:80%;right:60%}.lang10{top:80%;left:60%}@media (max-width:480px){.central-featured{width:auto;height:auto;margin-top:70px;margin-top:7rem;font-size:12px;font-size:1.2rem;text-align:left}.central-featured:after{content:\" \";display:block;visibility:hidden;clear:both;height:0;font-size:0}.central-featured-lang{display:block;float:left;position:relative;top:auto;left:auto;right:auto;box-sizing:border-box;height:64px;height:6.4rem;width:33%;margin:0;padding:0 16px;padding:0 1.6rem;text-align:center}.central-featured-lang,.central-featured-lang strong{font-size:14px;font-size:1.4rem}.central-featured-lang small{font-size:11px;font-size:1.1rem;line-height:1.5}}@media (max-width:375px){.central-featured-lang{font-size:12px;font-size:1.2rem}}@media (max-width:240px){.central-featured-lang{width:100%}}.search-container{float:none;max-width:95%;width:540px;margin:4px auto 19.5px;margin:.4rem auto 1.95rem;text-align:center;vertical-align:middle}.search-container fieldset{word-spacing:-4px}.search-container button{margin:0;border-radius:0 2px 2px 0;padding:8px 16px;padding:.8rem 1.6rem;font-size:16px;font-size:1.6rem;line-height:1.6;vertical-align:middle;z-index:2}.search-container button .svg-search-icon{text-indent:-99990px;text-indent:-9999rem}.search-container input[type=search]::-webkit-search-results-button,.search-container input[type=search]::-webkit-search-results-decoration{-webkit-appearance:none}.search-container input::-webkit-calendar-picker-indicator{display:none}.search-container .sprite.svg-arrow-down{position:absolute;top:7px;top:.7rem;right:6.5px;right:.65rem;margin:0}#searchInput{-webkit-appearance:textfield;width:100%;height:43.2px;height:4.32rem;border-radius:2px 0 0 2px;padding:8px 102.4px 8px 8px;padding:.8rem 10.24rem .8rem .8rem;font-size:16px;font-size:1.6rem;line-height:1.6;transition:background .1s ease,border-color .1s ease,box-shadow .1s ease}#searchInput:hover{border-color:#72777d}#searchInput:focus{border-color:#36c;box-shadow:inset 0 0 0 1px #36c;outline:0}.search-container .search-input{display:inline-block;position:relative;width:73%;vertical-align:top}@media only screen and (max-width:480px){.search-container .pure-form fieldset{margin-left:10px;margin-left:1rem;margin-right:66px;margin-right:6.6rem}.search-container .search-input{width:100%;margin-right:-66px;margin-right:-6.6rem}.search-container .pure-form button{float:right;right:-56px;right:-5.6rem}}.suggestions-dropdown{background-color:#fff;display:inline-block;position:absolute;left:0;z-index:2;margin:0;padding:0;border:1px solid #a2a9b1;border-top:0;box-shadow:0 2px 2px 0 rgba(0,0,0,.25);list-style-type:none;word-spacing:normal}.suggestion-link,.suggestions-dropdown{box-sizing:border-box;width:100%;text-align:left}.suggestion-link{display:block;position:relative;min-height:70px;min-height:7rem;padding:10px 10px 10px 85px;padding:1rem 1rem 1rem 8.5rem;border-bottom:1px solid #eaecf0;color:inherit;text-decoration:none;text-align:initial;white-space:normal}.suggestion-link.active{background-color:#eaf3ff}a.suggestion-link:hover{text-decoration:none}a.suggestion-link:active,a.suggestion-link:focus{outline:0;white-space:normal}.suggestion-thumbnail{background-color:#eaecf0;background-image:url(portal/wikipedia.org/assets/img/noimage.png);background-image:linear-gradient(transparent,transparent),url(\"data:image/svg+xml;charset=utf-8,%3Csvg xmlns=\\'http://www.w3.org/2000/svg\\' viewBox=\\'0 0 56 56\\'%3E%3Cpath fill=\\'%23eee\\' d=\\'M0 0h56v56H0z\\'/%3E%3Cpath fill=\\'%23999\\' d=\\'M36.4 13.5H17.8v24.9c0 1.4.9 2.3 2.3 2.3h18.7v-25c.1-1.4-1-2.2-2.4-2.2zM30.2 17h5.1v6.4h-5.1V17zm-8.8 0h6v1.8h-6V17zm0 4.6h6v1.8h-6v-1.8zm0 15.5v-1.8h13.8v1.8H21.4zm13.8-4.5H21.4v-1.8h13.8v1.8zm0-4.7H21.4v-1.8h13.8v1.8z\\'/%3E%3C/svg%3E\");background-image:linear-gradient(transparent,transparent),url(portal/wikipedia.org/assets/img/noimage.svg) !ie;background-image:-o-linear-gradient(transparent,transparent),url(portal/wikipedia.org/assets/img/noimage.png);background-position:50%;background-repeat:no-repeat;background-size:100% auto;background-size:cover;height:100%;width:70px;width:7rem;position:absolute;top:0;left:0}.suggestion-title{margin:0 0 7.8px;margin:0 0 .78rem;color:#54595d;font-size:16px;font-size:1.6rem;line-height:18.72px;line-height:1.872rem}.suggestion-link.active .suggestion-title{color:#36c}.suggestion-highlight{font-style:normal;text-decoration:underline}.suggestion-description{color:#72777d;margin:0;font-size:13px;font-size:1.3rem;line-height:14.299px;line-height:1.43rem}.styled-select{display:none;position:absolute;top:10px;top:1rem;bottom:12px;bottom:1.2rem;right:12px;right:1.2rem;max-width:95px;max-width:9.5rem;height:24px;height:2.4rem;margin:0;padding:0;border-radius:2px}.styled-select:hover{background-color:#f8f9fa}.styled-select .hide-arrow{right:32px;right:3.2rem;max-width:68px;max-width:6.8rem;height:24px;height:2.4rem;padding:0;overflow:hidden;text-align:right}.styled-select select{background:transparent;display:inline;overflow:hidden;height:24px;height:2.4rem;min-width:110px;min-width:11rem;max-width:110px;max-width:11rem;width:110px;width:11rem;outline:0;box-sizing:border-box;border:0;line-height:19.5px;line-height:1.95rem;-webkit-appearance:none;-moz-appearance:window;text-indent:.01px;text-overflow:\"\";-o-appearance:none!important;opacity:0;-moz-appearance:none;appearance:none;cursor:pointer}.styled-select.no-js{width:95px;width:9.5rem}.styled-select.no-js select{opacity:1;margin:0;padding:0 24px 0 8px;padding:0 2.4rem 0 .8rem;color:#54595d}.styled-select.no-js .hide-arrow{width:68px;width:6.8rem}.search-container .styled-select.no-js .js-langpicker-label{display:none}.styled-select.js-enabled .hide-arrow{padding:0 24px 0 8px;padding:0 2.4rem 0 .8rem}.styled-select.js-enabled select{background:transparent;position:absolute;top:0;left:0;height:100%;z-index:1;width:100%;border:0;margin:0;padding:0 24px;padding:0 2.4rem;color:transparent;color:hsla(0,0%,100%,0)}.styled-select.js-enabled select option{color:#54595d}.styled-select.js-enabled select:hover{background-color:transparent}.styled-select-active-helper{display:none}.styled-select.js-enabled select:focus+.styled-select-active-helper{display:block;position:absolute;top:0;left:0;z-index:0;width:100%;height:100%;outline:1px solid #36c}.search-container .js-langpicker-label{display:inline-block;margin:0;color:#54595d;font-size:13px;font-size:1.3rem;line-height:24px;line-height:2.4rem;text-transform:uppercase}.styled-select select:hover{background-color:#f8f9fa}.styled-select select::-ms-expand{display:none}.styled-select select:focus{outline:0;box-shadow:none}@-moz-document url-prefix(){.styled-select select{width:110%}}.other-projects{display:inline-block;width:65%}.other-project{float:left;position:relative;width:33%;height:90px;height:9rem}.other-project-link{display:inline-block;min-height:50px;width:100%;white-space:nowrap}a.other-project-link{text-decoration:none}.other-project-icon{display:inline-block;width:50px;text-align:center}.svg-Wikinews-logo_sister{background-image:url(portal/wikipedia.org/assets/img/Wikinews-logo_sister.png);background-position:0 0;background-size:47px 26px;width:47px;height:26px}@media (-webkit-min-device-pixel-ratio:1.25),(min-resolution:120dpi){.svg-Wikinews-logo_sister{background-image:url(portal/wikipedia.org/assets/img/Wikinews-logo_sister@2x.png)}}.other-project-text,.other-project .sprite-project-logos{display:inline-block}.other-project-text{max-width:65%;font-size:14px;font-size:1.4rem;vertical-align:middle;white-space:normal}.other-project-tagline,.other-project-title{display:block}.other-project-tagline{color:#54595d;font-size:12px;font-size:1.2rem}@media screen and (max-width:768px){.other-projects{width:100%}.other-project{width:33%}}@media screen and (max-width:480px){.other-project{width:50%}}@media screen and (max-width:320px){.other-project-text{margin-right:5px;font-size:11.52px;font-size:1.152rem}.other-project-tagline{font-size:10.944px;font-size:1.0944rem}}.lang-list-container{background-color:#f8f9fa;overflow:hidden;position:relative;box-sizing:border-box;max-height:0;width:80%;margin:-16px auto 48px;margin:-1.6rem auto 4.8rem;transition:max-height .5s ease-out,visibility .5s ease-in 1s}.js-enabled .lang-list-container{visibility:hidden}.lang-list-active .lang-list-container,.no-js .lang-list-container{visibility:visible;max-height:10000px;transition:max-height 1s ease-in .2s,visibility 1000s ease-in 0ms}.no-js .lang-list-button{display:none}.lang-list-button-wrapper{text-align:center}.lang-list-button{background-color:#f8f9fa;display:inline;position:relative;z-index:1;margin:0 auto;padding:6.4px 12.8px;padding:.64rem 1.28rem;outline:16px solid #fff;outline:1.6rem solid #fff;border:1px solid #a2a9b1;border-radius:2px;color:#36c;font-size:13px;font-size:1.3rem;font-weight:400;line-height:1;transition:outline-width .1s ease-in .5s}.lang-list-button:hover{background-color:#fff;border-color:#a2a9b1}.lang-list-button:focus{border-color:#36c;box-shadow:inset 0 0 0 1px #36c}.lang-list-active .lang-list-button{background-color:#fff;outline:1px solid #fff;border-color:#72777d;transition-delay:0s}.lang-list-button-text{padding:0 6.4px;padding:0 .64rem;vertical-align:middle}.lang-list-button i{display:inline-block;vertical-align:middle}.no-js .lang-list-border,.no-js .lang-list-button{display:none}.lang-list-border{background-color:#c8ccd1;display:block;position:relative;max-width:460px;width:80%;margin:-16px auto 16px;margin:-1.6rem auto 1.6rem;height:1px;transition:max-width .2s ease-out 400s}.lang-list-active .lang-list-border{max-width:85%;transition-delay:0s}.no-js .lang-list-content{padding:0}.lang-list-content{position:relative;box-sizing:border-box;width:100%;padding:16px 16px 0;padding:1.6rem 1.6rem 0}.svg-arrow-down-blue{transition:transform .2s ease-out}.lang-list-active .svg-arrow-down-blue{transform:rotate(180deg)}.langlist{width:auto;margin:16px 0;margin:1.6rem 0;text-align:left}.langlist-others{font-weight:700}.hlist ul{margin:0;padding:0}.hlist li,.hlist ul ul{display:inline}.hlist li:before{content:\" \\xc2\\xb7 \";font-weight:700}.hlist li:first-child:before{content:none}.hlist li>ul:before{content:\"\\\\00a0(\"}.hlist li>ul:after{content:\") \"}.langlist>ul{column-width:11.2rem}.langlist>ul>li{display:block;line-height:1.7;break-inside:avoid}.no-js .langlist>ul{text-align:center;list-style-type:circle}.no-js .langlist>ul>li{display:inline-block;padding:0 8px;padding:0 .8rem}.langlist>ul>li:before{content:none}.langlist>ul>li a{white-space:normal}.langlist-others>ul{text-align:center;column-count:1}.langlist-others>ul li{display:inline}.langlist-others>ul li:before{content:\" \\xc2\\xb7 \"}.langlist-others>ul li:first-child:before{content:none}@media (max-width:480px){.langlist{font-size:inherit}.langlist a{word-wrap:break-word;white-space:normal}.lang-list-container{width:auto;margin-left:8px;margin-left:.8rem;margin-right:8px;margin-right:.8rem}.bookshelf{overflow:visible}}.bookshelf{display:block;border-top:1px solid #c8ccd1;box-shadow:0 -1px 0 #fff;text-align:center;white-space:nowrap}.bookshelf .text{background-color:#f8f9fa;position:relative;top:-11.2px;top:-1.12rem;font-weight:400;padding:0 9.92px;padding:0 .992rem}.bookshelf-container{display:block;overflow:visible;height:1px;width:100%;margin:24px 0 16px;margin:2.4rem 0 1.6rem;font-size:13px;font-size:1.3rem;font-weight:700;line-height:20px;line-height:2rem}@media (max-width:480px){.bookshelf{width:auto;left:auto}.bookshelf-container{text-align:left;width:auto}}.app-badges .footer-sidebar-content{background-color:#f8f9fa}.app-badges .footer-sidebar-text{padding-top:8px;padding-top:.8rem;padding-bottom:8px;padding-bottom:.8rem}.app-badges .sprite.footer-sidebar-icon{top:8px;top:.8rem}.app-badges ul{margin:0;padding:0;list-style-type:none}.app-badge{display:inline-block}@media screen and (max-width:768px){.app-badges .footer-sidebar-content{text-align:center}.app-badges .sprite.footer-sidebar-icon{display:inline-block;position:relative;margin:0;top:-3px;left:0;vertical-align:middle;transform:scale(.7)}}.footer{overflow:hidden;max-width:100%;margin:0 auto;padding:41.6px 12.8px 12.8px;padding:4.16rem 1.28rem 1.28rem;font-size:13px;font-size:1.3rem}.footer:after,.footer:before{content:\" \";display:table}.footer:after{clear:both}.footer-sidebar{width:35%;float:left;clear:left;margin-bottom:32px;margin-bottom:3.2rem;vertical-align:top}.footer-sidebar-content{position:relative;max-width:350px;margin:0 auto}.sprite.footer-sidebar-icon{position:absolute;top:0;left:8px;left:.8rem}.footer-sidebar-text{position:relative;margin:0;padding-left:60px;padding-left:6rem;padding-right:20px;padding-right:2rem;color:#54595d}.site-license{margin:0;color:#54595d;text-align:center}.site-license small:after{content:\"\\\\2022\";display:inline-block;font-size:13px;font-size:1.3rem;line-height:inherit;margin-left:8px;margin-left:.8rem;margin-right:5px;margin-right:.5rem}.site-license small:last-child:after{display:none}@media screen and (max-width:768px){.footer{display:-ms-flexbox;display:flex;-ms-flex-direction:column;flex-direction:column;padding-top:12.8px;padding-top:1.28rem}.footer .footer-sidebar{-ms-flex-order:1;order:1}.footer .other-projects{-ms-flex-order:2;order:2}.footer .app-badges{-ms-flex-order:3;order:3}.footer-sidebar{width:100%}.sprite.footer-sidebar-icon{display:block;position:relative;left:0;margin:0 auto 12.8px;margin:0 auto 1.28rem}.footer-sidebar-content{max-width:none}.footer-sidebar-text{margin:0;padding:0;text-align:center}}@media screen and (max-width:480px){.footer{padding:9.6px 6.4px 12.8px;padding:.96rem .64rem 1.28rem}}@media (max-width:480px){.search-container{margin-top:0;height:78px;height:7.8rem;position:absolute;top:90px;top:9rem;left:0;right:0;max-width:100%;width:auto;padding:0;text-align:left}.search-container label{display:none}.search-form #searchInput{max-width:40%;vertical-align:middle}.search-form .formBtn{max-width:25%;vertical-align:middle}form fieldset{margin:0;border-left:0;border-right:0}hr{margin-top:6.5px;margin-top:.65rem}}@media (-webkit-min-device-pixel-ratio:2),(min--moz-device-pixel-ratio:2),(min-resolution:2dppx),(min-resolution:192dpi){hr{border-bottom-width:.5px}}@supports (-webkit-marquee-style:slide){hr{border-bottom-width:1px}}.js-enabled .central-featured,.js-enabled .jsl10n{visibility:hidden}.jsl10n-visible .central-featured,.jsl10n-visible .jsl10n{visibility:visible}.otherprojects-icon{*zoom:1;*display:inline}.suggestion-item{*width:auto}.search-container button{*display:inline}#searchInput{*padding:8px 0 0 8px;*width:90%;*height:34px}#search-input{*display:inline}.langlist ul{*text-align:center}.langlist ul li{*display:inline!important;*padding-left:5px;*padding-right:5px}@media print{body{background-color:transparent}a{color:#000!important;background:none!important;padding:0!important}a:link,a:visited{color:#520;background:transparent}img{border:0}}\\n</style>\\n<link rel=\"preload\" as=\"image\" href=\"portal/wikipedia.org/assets/img/sprite-81a290a5.svg\">\\n<link rel=\"preconnect\" href=\"//upload.wikimedia.org\">\\n</head>\\n<body id=\"www-wikipedia-org\">\\n<h1 class=\"central-textlogo\" style=\"font-size: 1em;\" title=\"Wikipedia\">\\n<img class=\"central-featured-logo\" src=\"portal/wikipedia.org/assets/img/Wikipedia-logo-v2.png\" srcset=\"portal/wikipedia.org/assets/img/Wikipedia-logo-v2@1.5x.png 1.5x, portal/wikipedia.org/assets/img/Wikipedia-logo-v2@2x.png 2x\" width=\"200\" height=\"183\" alt=\"Wikipedia\">\\n<div class=\"central-textlogo-wrapper\">\\n<div class=\"central-textlogo__image sprite svg-Wikipedia_wordmark\">\\nWikipedia\\n</div>\\n<strong class=\"jsl10n localized-slogan\" data-jsl10n=\"slogan\">The Free Encyclopedia</strong>\\n</div>\\n</h1>\\n<!-- container div for the central logo and the links to the most viewed language editions -->\\n<div class=\"central-featured\" data-el-section=\"primary links\">\\n<!-- Rankings from http://stats.wikimedia.org/EN/Sitemap.htm -->\\n<!-- Article counts from http://meta.wikimedia.org/wiki/List_of_Wikipedias/Table -->\\n<!-- #1. en.wikipedia.org - 2 139 518 000 views/day -->\\n<div class=\"central-featured-lang lang1\" lang=\"en\" dir=\"ltr\">\\n<a id=\"js-link-box-en\" href=\"//en.wikipedia.org/\" title=\"English \\xe2\\x80\\x94 Wikipedia \\xe2\\x80\\x94 The Free Encyclopedia\" class=\"link-box\" data-slogan=\"The Free Encyclopedia\">\\n<strong>English</strong>\\n<small><bdi dir=\"ltr\">6&nbsp;050&nbsp;000+</bdi> <span>articles</span></small>\\n</a>\\n</div>\\n<!-- #2. es.wikipedia.org - 324 863 000 views/day -->\\n<div class=\"central-featured-lang lang2\" lang=\"es\" dir=\"ltr\">\\n<a id=\"js-link-box-es\" href=\"//es.wikipedia.org/\" title=\"Espa\\xc3\\xb1ol \\xe2\\x80\\x94 Wikipedia \\xe2\\x80\\x94 La enciclopedia libre\" class=\"link-box\" data-slogan=\"La enciclopedia libre\">\\n<strong>Espa\\xc3\\xb1ol</strong>\\n<small><bdi dir=\"ltr\">1&nbsp;588&nbsp;000+</bdi> <span>art\\xc3\\xadculos</span></small>\\n</a>\\n</div>\\n<!-- #3. ja.wikipedia.org - 248 047 000 views/day -->\\n<div class=\"central-featured-lang lang3\" lang=\"ja\" dir=\"ltr\">\\n<a id=\"js-link-box-ja\" href=\"//ja.wikipedia.org/\" title=\"Nihongo \\xe2\\x80\\x94 \\xe3\\x82\\xa6\\xe3\\x82\\xa3\\xe3\\x82\\xad\\xe3\\x83\\x9a\\xe3\\x83\\x87\\xe3\\x82\\xa3\\xe3\\x82\\xa2 \\xe2\\x80\\x94 \\xe3\\x83\\x95\\xe3\\x83\\xaa\\xe3\\x83\\xbc\\xe7\\x99\\xbe\\xe7\\xa7\\x91\\xe4\\xba\\x8b\\xe5\\x85\\xb8\" class=\"link-box\" data-slogan=\"\\xe3\\x83\\x95\\xe3\\x83\\xaa\\xe3\\x83\\xbc\\xe7\\x99\\xbe\\xe7\\xa7\\x91\\xe4\\xba\\x8b\\xe5\\x85\\xb8\">\\n<strong>\\xe6\\x97\\xa5\\xe6\\x9c\\xac\\xe8\\xaa\\x9e</strong>\\n<small><bdi dir=\"ltr\">1&nbsp;198&nbsp;000+</bdi> <span>\\xe8\\xa8\\x98\\xe4\\xba\\x8b</span></small>\\n</a>\\n</div>\\n<!-- #4. de.wikipedia.org - 245 145 000 views/day -->\\n<div class=\"central-featured-lang lang4\" lang=\"de\" dir=\"ltr\">\\n<a id=\"js-link-box-de\" href=\"//de.wikipedia.org/\" title=\"Deutsch \\xe2\\x80\\x94 Wikipedia \\xe2\\x80\\x94 Die freie Enzyklop\\xc3\\xa4die\" class=\"link-box\" data-slogan=\"Die freie Enzyklop\\xc3\\xa4die\">\\n<strong>Deutsch</strong>\\n<small><bdi dir=\"ltr\">2&nbsp;416&nbsp;000+</bdi> <span>Artikel</span></small>\\n</a>\\n</div>\\n<!-- #5. fr.wikipedia.org - 211 049 000 views/day -->\\n<div class=\"central-featured-lang lang5\" lang=\"fr\" dir=\"ltr\">\\n<a id=\"js-link-box-fr\" href=\"//fr.wikipedia.org/\" title=\"Fran\\xc3\\xa7ais \\xe2\\x80\\x94 Wikip\\xc3\\xa9dia \\xe2\\x80\\x94 L\\xe2\\x80\\x99encyclop\\xc3\\xa9die libre\" class=\"link-box\" data-slogan=\"L\\xe2\\x80\\x99encyclop\\xc3\\xa9die libre\">\\n<strong>Fran\\xc3\\xa7ais</strong>\\n<small><bdi dir=\"ltr\">2&nbsp;197&nbsp;000+</bdi> <span>articles</span></small>\\n</a>\\n</div>\\n<!-- #6. ru.wikipedia.org - 205 643 000 views/day -->\\n<div class=\"central-featured-lang lang6\" lang=\"ru\" dir=\"ltr\">\\n<a id=\"js-link-box-ru\" href=\"//ru.wikipedia.org/\" title=\"Russkiy \\xe2\\x80\\x94 \\xd0\\x92\\xd0\\xb8\\xd0\\xba\\xd0\\xb8\\xd0\\xbf\\xd0\\xb5\\xd0\\xb4\\xd0\\xb8\\xd1\\x8f \\xe2\\x80\\x94 \\xd0\\xa1\\xd0\\xb2\\xd0\\xbe\\xd0\\xb1\\xd0\\xbe\\xd0\\xb4\\xd0\\xbd\\xd0\\xb0\\xd1\\x8f \\xd1\\x8d\\xd0\\xbd\\xd1\\x86\\xd0\\xb8\\xd0\\xba\\xd0\\xbb\\xd0\\xbe\\xd0\\xbf\\xd0\\xb5\\xd0\\xb4\\xd0\\xb8\\xd1\\x8f\" class=\"link-box\" data-slogan=\"\\xd0\\xa1\\xd0\\xb2\\xd0\\xbe\\xd0\\xb1\\xd0\\xbe\\xd0\\xb4\\xd0\\xbd\\xd0\\xb0\\xd1\\x8f \\xd1\\x8d\\xd0\\xbd\\xd1\\x86\\xd0\\xb8\\xd0\\xba\\xd0\\xbb\\xd0\\xbe\\xd0\\xbf\\xd0\\xb5\\xd0\\xb4\\xd0\\xb8\\xd1\\x8f\">\\n<strong>\\xd0\\xa0\\xd1\\x83\\xd1\\x81\\xd1\\x81\\xd0\\xba\\xd0\\xb8\\xd0\\xb9</strong>\\n<small><bdi dir=\"ltr\">1&nbsp;611&nbsp;000+</bdi> <span>\\xd1\\x81\\xd1\\x82\\xd0\\xb0\\xd1\\x82\\xd0\\xb5\\xd0\\xb9</span></small>\\n</a>\\n</div>\\n<!-- #7. it.wikipedia.org - 180 029 000 views/day -->\\n<div class=\"central-featured-lang lang7\" lang=\"it\" dir=\"ltr\">\\n<a id=\"js-link-box-it\" href=\"//it.wikipedia.org/\" title=\"Italiano \\xe2\\x80\\x94 Wikipedia \\xe2\\x80\\x94 L&#x27;enciclopedia libera\" class=\"link-box\" data-slogan=\"L&#x27;enciclopedia libera\">\\n<strong>Italiano</strong>\\n<small><bdi dir=\"ltr\">1&nbsp;595&nbsp;000+</bdi> <span>voci</span></small>\\n</a>\\n</div>\\n<!-- #8. zh.wikipedia.org - 103 278 000 views/day -->\\n<div class=\"central-featured-lang lang8\" lang=\"zh\" dir=\"ltr\">\\n<a id=\"js-link-box-zh\" href=\"//zh.wikipedia.org/\" title=\"Zh\\xc5\\x8dngw\\xc3\\xa9n \\xe2\\x80\\x94 \\xe7\\xb6\\xad\\xe5\\x9f\\xba\\xe7\\x99\\xbe\\xe7\\xa7\\x91 \\xe2\\x80\\x94 \\xe8\\x87\\xaa\\xe7\\x94\\xb1\\xe7\\x9a\\x84\\xe7\\x99\\xbe\\xe7\\xa7\\x91\\xe5\\x85\\xa8\\xe6\\x9b\\xb8\" class=\"link-box\" data-converttitle-hans=\"Zh\\xc5\\x8dngw\\xc3\\xa9n \\xe2\\x80\\x94 \\xe7\\xbb\\xb4\\xe5\\x9f\\xba\\xe7\\x99\\xbe\\xe7\\xa7\\x91 \\xe2\\x80\\x94 \\xe8\\x87\\xaa\\xe7\\x94\\xb1\\xe7\\x9a\\x84\\xe7\\x99\\xbe\\xe7\\xa7\\x91\\xe5\\x85\\xa8\\xe4\\xb9\\xa6\" data-slogan=\"\\xe8\\x87\\xaa\\xe7\\x94\\xb1\\xe7\\x9a\\x84\\xe7\\x99\\xbe\\xe7\\xa7\\x91\\xe5\\x85\\xa8\\xe6\\x9b\\xb8\">\\n<strong>\\xe4\\xb8\\xad\\xe6\\x96\\x87</strong>\\n<small><bdi dir=\"ltr\">1&nbsp;109&nbsp;000+</bdi> <span data-convert-hans=\"\\xe6\\x9d\\xa1\\xe7\\x9b\\xae\" id=\"zh_art\">\\xe6\\xa2\\x9d\\xe7\\x9b\\xae</span></small>\\n</a>\\n</div>\\n<!-- #9. pt.wikipedia.org - 93 554 000 views/day -->\\n<div class=\"central-featured-lang lang9\" lang=\"pt\" dir=\"ltr\">\\n<a id=\"js-link-box-pt\" href=\"//pt.wikipedia.org/\" title=\"Portugu\\xc3\\xaas \\xe2\\x80\\x94 Wikip\\xc3\\xa9dia \\xe2\\x80\\x94 A enciclop\\xc3\\xa9dia livre\" class=\"link-box\" data-slogan=\"A enciclop\\xc3\\xa9dia livre\">\\n<strong>Portugu\\xc3\\xaas</strong>\\n<small><bdi dir=\"ltr\">1&nbsp;027&nbsp;000+</bdi> <span>artigos</span></small>\\n</a>\\n</div>\\n<!-- #10. pl.wikipedia.org - 79 547 000 views/day -->\\n<div class=\"central-featured-lang lang10\" lang=\"pl\" dir=\"ltr\">\\n<a id=\"js-link-box-pl\" href=\"//pl.wikipedia.org/\" title=\"Polski \\xe2\\x80\\x94 Wikipedia \\xe2\\x80\\x94 Wolna encyklopedia\" class=\"link-box\" data-slogan=\"Wolna encyklopedia\">\\n<strong>Polski</strong>\\n<small><bdi dir=\"ltr\">1&nbsp;399&nbsp;000+</bdi> <span>hase\\xc5\\x82</span></small>\\n</a>\\n</div>\\n</div>\\n<!-- Search form -->\\n<div class=\"search-container\">\\n<form class=\"pure-form\" id=\"search-form\" action=\"//www.wikipedia.org/search-redirect.php\" data-el-section=\"search\">\\n<fieldset>\\n<!-- search-redirect.php is project-independent, requires a family -->\\n<input type=\"hidden\" name=\"family\" value=\"wikipedia\">\\n<input type=\"hidden\" id=\"hiddenLanguageInput\" name=\"language\" value=\"en\">\\n<div class=\"search-input\" id=\"search-input\">\\n<label for=\"searchInput\" class=\"screen-reader-text\" data-jsl10n=\"search-input-label\">Search Wikipedia</label>\\n<input id=\"searchInput\" name=\"search\" type=\"search\" size=\"20\" autofocus=\"autofocus\" accesskey=\"F\" dir=\"auto\" autocomplete=\"off\" list=\"suggestions\">\\n<div class=\"styled-select no-js\">\\n<div class=\"hide-arrow\">\\n<select id=\"searchLanguage\" name=\"language\">\\n<!-- 100,000+ content pages, sorted by romanization -->\\n<option value=\"ar\" lang=\"ar\">\\xd8\\xa7\\xd9\\x84\\xd8\\xb9\\xd8\\xb1\\xd8\\xa8\\xd9\\x8a\\xd8\\xa9</option><!-- Al-\\xca\\xbfArab\\xc4\\xabyah -->\\n<option value=\"ast\" lang=\"ast\">Asturianu</option>\\n<option value=\"az\" lang=\"az\">Az\\xc9\\x99rbaycanca</option>\\n<option value=\"bg\" lang=\"bg\">\\xd0\\x91\\xd1\\x8a\\xd0\\xbb\\xd0\\xb3\\xd0\\xb0\\xd1\\x80\\xd1\\x81\\xd0\\xba\\xd0\\xb8</option><!-- B\\xc7\\x8elgarski -->\\n<option value=\"nan\" lang=\"nan\">B\\xc3\\xa2n-l\\xc3\\xa2m-g\\xc3\\xba / H\\xc5\\x8d-l\\xc3\\xb3-o\\xc4\\x93</option>\\n<option value=\"be\" lang=\"be\">\\xd0\\x91\\xd0\\xb5\\xd0\\xbb\\xd0\\xb0\\xd1\\x80\\xd1\\x83\\xd1\\x81\\xd0\\xba\\xd0\\xb0\\xd1\\x8f</option><!-- Belaruskaya -->\\n<option value=\"ca\" lang=\"ca\">Catal\\xc3\\xa0</option>\\n<option value=\"cs\" lang=\"cs\">\\xc4\\x8ce\\xc5\\xa1tina</option><!-- \\xc4\\x8de\\xc5\\xa1tina -->\\n<option value=\"da\" lang=\"da\">Dansk</option>\\n<option value=\"de\" lang=\"de\">Deutsch</option>\\n<option value=\"et\" lang=\"et\">Eesti</option>\\n<option value=\"el\" lang=\"el\">\\xce\\x95\\xce\\xbb\\xce\\xbb\\xce\\xb7\\xce\\xbd\\xce\\xb9\\xce\\xba\\xce\\xac</option><!-- Ell\\xc4\\xabnik\\xc3\\xa1 -->\\n<option value=\"en\" lang=\"en\" selected=selected>English</option><!-- English -->\\n<option value=\"es\" lang=\"es\">Espa\\xc3\\xb1ol</option>\\n<option value=\"eo\" lang=\"eo\">Esperanto</option>\\n<option value=\"eu\" lang=\"eu\">Euskara</option>\\n<option value=\"fa\" lang=\"fa\">\\xd9\\x81\\xd8\\xa7\\xd8\\xb1\\xd8\\xb3\\xdb\\x8c</option><!-- F\\xc4\\x81rsi -->\\n<option value=\"fr\" lang=\"fr\">Fran\\xc3\\xa7ais</option>\\n<option value=\"gl\" lang=\"gl\">Galego</option>\\n<option value=\"hy\" lang=\"hy\">\\xd5\\x80\\xd5\\xa1\\xd5\\xb5\\xd5\\xa5\\xd6\\x80\\xd5\\xa5\\xd5\\xb6</option><!-- Hayeren -->\\n<option value=\"hi\" lang=\"hi\">\\xe0\\xa4\\xb9\\xe0\\xa4\\xbf\\xe0\\xa4\\xa8\\xe0\\xa5\\x8d\\xe0\\xa4\\xa6\\xe0\\xa5\\x80</option><!-- Hind\\xc4\\xab -->\\n<option value=\"hr\" lang=\"hr\">Hrvatski</option>\\n<option value=\"id\" lang=\"id\">Bahasa Indonesia</option>\\n<option value=\"it\" lang=\"it\">Italiano</option>\\n<option value=\"he\" lang=\"he\">\\xd7\\xa2\\xd7\\x91\\xd7\\xa8\\xd7\\x99\\xd7\\xaa</option><!-- \\xca\\xbfIvrit -->\\n<option value=\"ka\" lang=\"ka\">\\xe1\\x83\\xa5\\xe1\\x83\\x90\\xe1\\x83\\xa0\\xe1\\x83\\x97\\xe1\\x83\\xa3\\xe1\\x83\\x9a\\xe1\\x83\\x98</option><!-- Kartuli -->\\n<option value=\"la\" lang=\"la\">Latina</option>\\n<option value=\"lv\" lang=\"lv\">Latvie\\xc5\\xa1u</option>\\n<option value=\"lt\" lang=\"lt\">Lietuvi\\xc5\\xb3</option>\\n<option value=\"hu\" lang=\"hu\">Magyar</option>\\n<option value=\"mk\" lang=\"mk\">\\xd0\\x9c\\xd0\\xb0\\xd0\\xba\\xd0\\xb5\\xd0\\xb4\\xd0\\xbe\\xd0\\xbd\\xd1\\x81\\xd0\\xba\\xd0\\xb8</option><!-- Makedonski -->\\n<option value=\"arz\" lang=\"arz\">\\xd9\\x85\\xd8\\xb5\\xd8\\xb1\\xd9\\x89</option><!-- Ma\\xe1\\xb9\\xa3r\\xc4\\xab -->\\n<option value=\"ms\" lang=\"ms\">Bahasa Melayu</option>\\n<option value=\"min\" lang=\"min\">Bahaso Minangkabau</option>\\n<option value=\"nl\" lang=\"nl\">Nederlands</option>\\n<option value=\"ja\" lang=\"ja\">\\xe6\\x97\\xa5\\xe6\\x9c\\xac\\xe8\\xaa\\x9e</option><!-- Nihongo -->\\n<option value=\"no\" lang=\"nb\">Norsk (bokm\\xc3\\xa5l)</option>\\n<option value=\"nn\" lang=\"nn\">Norsk (nynorsk)</option>\\n<option value=\"ce\" lang=\"ce\">\\xd0\\x9d\\xd0\\xbe\\xd1\\x85\\xd1\\x87\\xd0\\xb8\\xd0\\xb9\\xd0\\xbd</option><!-- Nox\\xc3\\xa7iyn -->\\n<option value=\"uz\" lang=\"uz\">O\\xca\\xbbzbekcha / \\xd0\\x8e\\xd0\\xb7\\xd0\\xb1\\xd0\\xb5\\xd0\\xba\\xd1\\x87\\xd0\\xb0</option>\\n<option value=\"pl\" lang=\"pl\">Polski</option>\\n<option value=\"pt\" lang=\"pt\">Portugu\\xc3\\xaas</option>\\n<option value=\"kk\" lang=\"kk\">\\xd2\\x9a\\xd0\\xb0\\xd0\\xb7\\xd0\\xb0\\xd2\\x9b\\xd1\\x88\\xd0\\xb0 / Qazaq\\xc5\\x9fa / \\xd9\\x82\\xd8\\xa7\\xd8\\xb2\\xd8\\xa7\\xd9\\x82\\xd8\\xb4\\xd8\\xa7</option>\\n<option value=\"ro\" lang=\"ro\">Rom\\xc3\\xa2n\\xc4\\x83</option>\\n<option value=\"ru\" lang=\"ru\">\\xd0\\xa0\\xd1\\x83\\xd1\\x81\\xd1\\x81\\xd0\\xba\\xd0\\xb8\\xd0\\xb9</option><!-- Russkiy -->\\n<option value=\"cy\" lang=\"cy\">Cymraeg</option><!-- Saesneg -->\\n<option value=\"simple\" lang=\"en\">Simple English</option>\\n<option value=\"ceb\" lang=\"ceb\">Sinugboanong Binisaya</option>\\n<option value=\"sk\" lang=\"sk\">Sloven\\xc4\\x8dina</option>\\n<option value=\"sl\" lang=\"sl\">Sloven\\xc5\\xa1\\xc4\\x8dina</option>\\n<option value=\"sr\" lang=\"sr\">\\xd0\\xa1\\xd1\\x80\\xd0\\xbf\\xd1\\x81\\xd0\\xba\\xd0\\xb8 / Srpski</option>\\n<option value=\"sh\" lang=\"sh\">Srpskohrvatski / \\xd0\\xa1\\xd1\\x80\\xd0\\xbf\\xd1\\x81\\xd0\\xba\\xd0\\xbe\\xd1\\x85\\xd1\\x80\\xd0\\xb2\\xd0\\xb0\\xd1\\x82\\xd1\\x81\\xd0\\xba\\xd0\\xb8</option>\\n<option value=\"fi\" lang=\"fi\">Suomi</option><!-- suomi -->\\n<option value=\"sv\" lang=\"sv\">Svenska</option>\\n<option value=\"ta\" lang=\"ta\">\\xe0\\xae\\xa4\\xe0\\xae\\xae\\xe0\\xae\\xbf\\xe0\\xae\\xb4\\xe0\\xaf\\x8d</option><!-- Tami\\xe1\\xb8\\xbb -->\\n<option value=\"th\" lang=\"th\">\\xe0\\xb8\\xa0\\xe0\\xb8\\xb2\\xe0\\xb8\\xa9\\xe0\\xb8\\xb2\\xe0\\xb9\\x84\\xe0\\xb8\\x97\\xe0\\xb8\\xa2</option><!-- Phasa Thai -->\\n<option value=\"tg\" lang=\"tg\">\\xd0\\xa2\\xd0\\xbe\\xd2\\xb7\\xd0\\xb8\\xd0\\xba\\xd3\\xa3</option><!-- Tojik\\xc4\\xab -->\\n<option value=\"azb\" lang=\"azb\">\\xd8\\xaa\\xdb\\x86\\xd8\\xb1\\xda\\xa9\\xd8\\xac\\xd9\\x87</option><!-- T\\xc3\\xbcrkce -->\\n<option value=\"tr\" lang=\"tr\">T\\xc3\\xbcrk\\xc3\\xa7e</option><!-- T\\xc3\\xbcrk\\xc3\\xa7e -->\\n<option value=\"uk\" lang=\"uk\">\\xd0\\xa3\\xd0\\xba\\xd1\\x80\\xd0\\xb0\\xd1\\x97\\xd0\\xbd\\xd1\\x81\\xd1\\x8c\\xd0\\xba\\xd0\\xb0</option><!-- Ukrayins\\xe2\\x80\\x99ka -->\\n<option value=\"ur\" lang=\"ur\">\\xd8\\xa7\\xd8\\xb1\\xd8\\xaf\\xd9\\x88</option><!-- Urdu -->\\n<option value=\"vi\" lang=\"vi\">Ti\\xe1\\xba\\xbfng Vi\\xe1\\xbb\\x87t</option>\\n<option value=\"vo\" lang=\"vo\">Volap\\xc3\\xbck</option>\\n<option value=\"war\" lang=\"war\">Winaray</option>\\n<option value=\"zh\" lang=\"zh\">\\xe4\\xb8\\xad\\xe6\\x96\\x87</option><!-- Zh\\xc5\\x8dngw\\xc3\\xa9n -->\\n<option value=\"ko\" lang=\"ko\">\\xed\\x95\\x9c\\xea\\xb5\\xad\\xec\\x96\\xb4</option><!-- Hangugeo -->\\n</select>\\n<div class=\"styled-select-active-helper\"></div>\\n</div>\\n<i class=\"sprite svg-arrow-down\"></i>\\n</div>\\n</div>\\n<button class=\"pure-button pure-button-primary-progressive\" type=\"submit\">\\n<i class=\"sprite svg-search-icon\" data-jsl10n=\"search-input-button\">Search</i>\\n</button>\\n<input type=\"hidden\" value=\"Go\" name=\"go\">\\n</fieldset>\\n</form>\\n</div>\\n<div class=\"lang-list-button-wrapper\">\\n<button id=\"js-lang-list-button\" class=\"lang-list-button\">\\n<i class=\"sprite svg-translate-icon\"></i>\\n<span class=\"lang-list-button-text jsl10n\" data-jsl10n=\"language-button-text\">Read Wikipedia in your language </span>\\n<i class=\"sprite svg-arrow-down-blue\"></i>\\n</button>\\n</div>\\n<div class=\"lang-list-border\"></div>\\n<div class=\"lang-list-container\">\\n<div id=\"js-lang-lists\" class=\"lang-list-content\">\\n<!-- Bookshelves -->\\n<h2 class=\"bookshelf-container\">\\n<span class=\"bookshelf\">\\n<span class=\"text\">\\n<bdi dir=\"ltr\">\\n1&nbsp;000&nbsp;000+\\n</bdi>\\n<span class=\"jsl10n\" data-jsl10n=\"entries\">\\narticles\\n</span>\\n</span>\\n</span>\\n</h2>\\n<!-- 1,000,000+ content pages -->\\n<div class=\"langlist langlist-large hlist\" data-el-section=\"secondary links\">\\n<ul>\\n<li><a href=\"//ar.wikipedia.org/\" lang=\"ar\" title=\"Al-\\xca\\xbfArab\\xc4\\xabyah\"><bdi dir=\"rtl\">\\xd8\\xa7\\xd9\\x84\\xd8\\xb9\\xd8\\xb1\\xd8\\xa8\\xd9\\x8a\\xd8\\xa9</bdi></a></li>\\n<li><a href=\"//de.wikipedia.org/\" lang=\"de\">Deutsch</a></li>\\n<li><a href=\"//en.wikipedia.org/\" lang=\"en\" title=\"English\">English</a></li>\\n<li><a href=\"//es.wikipedia.org/\" lang=\"es\">Espa\\xc3\\xb1ol</a></li>\\n<li><a href=\"//fr.wikipedia.org/\" lang=\"fr\">Fran\\xc3\\xa7ais</a></li>\\n<li><a href=\"//it.wikipedia.org/\" lang=\"it\">Italiano</a></li>\\n<li><a href=\"//nl.wikipedia.org/\" lang=\"nl\">Nederlands</a></li>\\n<li><a href=\"//ja.wikipedia.org/\" lang=\"ja\" title=\"Nihongo\">\\xe6\\x97\\xa5\\xe6\\x9c\\xac\\xe8\\xaa\\x9e</a></li>\\n<li><a href=\"//pl.wikipedia.org/\" lang=\"pl\">Polski</a></li>\\n<li><a href=\"//pt.wikipedia.org/\" lang=\"pt\">Portugu\\xc3\\xaas</a></li>\\n<li><a href=\"//ru.wikipedia.org/\" lang=\"ru\" title=\"Russkiy\">\\xd0\\xa0\\xd1\\x83\\xd1\\x81\\xd1\\x81\\xd0\\xba\\xd0\\xb8\\xd0\\xb9</a></li>\\n<li><a href=\"//ceb.wikipedia.org/\" lang=\"ceb\">Sinugboanong Binisaya</a></li>\\n<li><a href=\"//sv.wikipedia.org/\" lang=\"sv\">Svenska</a></li>\\n<li><a href=\"//uk.wikipedia.org/\" lang=\"uk\" title=\"Ukrayins\\xe2\\x80\\x99ka\">\\xd0\\xa3\\xd0\\xba\\xd1\\x80\\xd0\\xb0\\xd1\\x97\\xd0\\xbd\\xd1\\x81\\xd1\\x8c\\xd0\\xba\\xd0\\xb0</a></li>\\n<li><a href=\"//vi.wikipedia.org/\" lang=\"vi\">Ti\\xe1\\xba\\xbfng Vi\\xe1\\xbb\\x87t</a></li>\\n<li><a href=\"//war.wikipedia.org/\" lang=\"war\">Winaray</a></li>\\n<li><a href=\"//zh.wikipedia.org/\" lang=\"zh\" title=\"Zh\\xc5\\x8dngw\\xc3\\xa9n\">\\xe4\\xb8\\xad\\xe6\\x96\\x87</a></li>\\n</ul>\\n</div>\\n<!-- Bookshelves -->\\n<h2 class=\"bookshelf-container\">\\n<span class=\"bookshelf\">\\n<span class=\"text\">\\n<bdi dir=\"ltr\">\\n100&nbsp;000+\\n</bdi>\\n<span class=\"jsl10n\" data-jsl10n=\"entries\">\\narticles\\n</span>\\n</span>\\n</span>\\n</h2>\\n<!-- 100,000+ content pages -->\\n<div class=\"langlist langlist-large hlist\" data-el-section=\"secondary links\">\\n<ul>\\n<li><a href=\"//ast.wikipedia.org/\" lang=\"ast\">Asturianu</a></li>\\n<li><a href=\"//az.wikipedia.org/\" lang=\"az\">Az\\xc9\\x99rbaycanca</a></li>\\n<li><a href=\"//bg.wikipedia.org/\" lang=\"bg\" title=\"B\\xc7\\x8elgarski\">\\xd0\\x91\\xd1\\x8a\\xd0\\xbb\\xd0\\xb3\\xd0\\xb0\\xd1\\x80\\xd1\\x81\\xd0\\xba\\xd0\\xb8</a></li>\\n<li><a href=\"//zh-min-nan.wikipedia.org/\" lang=\"nan\">B\\xc3\\xa2n-l\\xc3\\xa2m-g\\xc3\\xba / H\\xc5\\x8d-l\\xc3\\xb3-o\\xc4\\x93</a></li>\\n<li><a href=\"//be.wikipedia.org/\" lang=\"be\" title=\"Belaruskaya\">\\xd0\\x91\\xd0\\xb5\\xd0\\xbb\\xd0\\xb0\\xd1\\x80\\xd1\\x83\\xd1\\x81\\xd0\\xba\\xd0\\xb0\\xd1\\x8f</a></li>\\n<li><a href=\"//ca.wikipedia.org/\" lang=\"ca\">Catal\\xc3\\xa0</a></li>\\n<li><a href=\"//cs.wikipedia.org/\" lang=\"cs\" title=\"\\xc4\\x8de\\xc5\\xa1tina\">\\xc4\\x8ce\\xc5\\xa1tina</a></li>\\n<li><a href=\"//da.wikipedia.org/\" lang=\"da\">Dansk</a></li>\\n<li><a href=\"//et.wikipedia.org/\" lang=\"et\">Eesti</a></li>\\n<li><a href=\"//el.wikipedia.org/\" lang=\"el\" title=\"Ell\\xc4\\xabnik\\xc3\\xa1\">\\xce\\x95\\xce\\xbb\\xce\\xbb\\xce\\xb7\\xce\\xbd\\xce\\xb9\\xce\\xba\\xce\\xac</a></li>\\n<li><a href=\"//eo.wikipedia.org/\" lang=\"eo\">Esperanto</a></li>\\n<li><a href=\"//eu.wikipedia.org/\" lang=\"eu\">Euskara</a></li>\\n<li><a href=\"//fa.wikipedia.org/\" lang=\"fa\" title=\"F\\xc4\\x81rsi\"><bdi dir=\"rtl\">\\xd9\\x81\\xd8\\xa7\\xd8\\xb1\\xd8\\xb3\\xdb\\x8c</bdi></a></li>\\n<li><a href=\"//gl.wikipedia.org/\" lang=\"gl\">Galego</a></li>\\n<li><a href=\"//hy.wikipedia.org/\" lang=\"hy\" title=\"Hayeren\">\\xd5\\x80\\xd5\\xa1\\xd5\\xb5\\xd5\\xa5\\xd6\\x80\\xd5\\xa5\\xd5\\xb6</a></li>\\n<li><a href=\"//hi.wikipedia.org/\" lang=\"hi\" title=\"Hind\\xc4\\xab\">\\xe0\\xa4\\xb9\\xe0\\xa4\\xbf\\xe0\\xa4\\xa8\\xe0\\xa5\\x8d\\xe0\\xa4\\xa6\\xe0\\xa5\\x80</a></li>\\n<li><a href=\"//hr.wikipedia.org/\" lang=\"hr\">Hrvatski</a></li>\\n<li><a href=\"//id.wikipedia.org/\" lang=\"id\">Bahasa Indonesia</a></li>\\n<li><a href=\"//he.wikipedia.org/\" lang=\"he\" title=\"\\xca\\xbfIvrit\"><bdi dir=\"rtl\">\\xd7\\xa2\\xd7\\x91\\xd7\\xa8\\xd7\\x99\\xd7\\xaa</bdi></a></li>\\n<li><a href=\"//ka.wikipedia.org/\" lang=\"ka\" title=\"Kartuli\">\\xe1\\x83\\xa5\\xe1\\x83\\x90\\xe1\\x83\\xa0\\xe1\\x83\\x97\\xe1\\x83\\xa3\\xe1\\x83\\x9a\\xe1\\x83\\x98</a></li>\\n<li><a href=\"//la.wikipedia.org/\" lang=\"la\">Latina</a></li>\\n<li><a href=\"//lv.wikipedia.org/\" lang=\"lv\">Latvie\\xc5\\xa1u</a></li>\\n<li><a href=\"//lt.wikipedia.org/\" lang=\"lt\">Lietuvi\\xc5\\xb3</a></li>\\n<li><a href=\"//hu.wikipedia.org/\" lang=\"hu\">Magyar</a></li>\\n<li><a href=\"//mk.wikipedia.org/\" lang=\"mk\" title=\"Makedonski\">\\xd0\\x9c\\xd0\\xb0\\xd0\\xba\\xd0\\xb5\\xd0\\xb4\\xd0\\xbe\\xd0\\xbd\\xd1\\x81\\xd0\\xba\\xd0\\xb8</a></li>\\n<li><a href=\"//arz.wikipedia.org/\" lang=\"arz\" title=\"Ma\\xe1\\xb9\\xa3r\\xc4\\xab\"><bdi dir=\"rtl\">\\xd9\\x85\\xd8\\xb5\\xd8\\xb1\\xd9\\x89</bdi></a></li>\\n<li><a href=\"//ms.wikipedia.org/\" lang=\"ms\">Bahasa Melayu</a></li>\\n<li><a href=\"//min.wikipedia.org/\" lang=\"min\">Bahaso Minangkabau</a></li>\\n<li lang=\"no\">Norsk<ul><li><a href=\"//no.wikipedia.org/\" lang=\"nb\">bokm\\xc3\\xa5l</a></li><li><a href=\"//nn.wikipedia.org/\" lang=\"nn\">nynorsk</a></li></ul></li>\\n<li><a href=\"//ce.wikipedia.org/\" lang=\"ce\" title=\"Nox\\xc3\\xa7iyn\">\\xd0\\x9d\\xd0\\xbe\\xd1\\x85\\xd1\\x87\\xd0\\xb8\\xd0\\xb9\\xd0\\xbd</a></li>\\n<li><a href=\"//uz.wikipedia.org/\" lang=\"uz\">O\\xca\\xbbzbekcha / \\xd0\\x8e\\xd0\\xb7\\xd0\\xb1\\xd0\\xb5\\xd0\\xba\\xd1\\x87\\xd0\\xb0</a></li>\\n<li><a href=\"//kk.wikipedia.org/\" lang=\"kk\"><span lang=\"kk-Cyrl\">\\xd2\\x9a\\xd0\\xb0\\xd0\\xb7\\xd0\\xb0\\xd2\\x9b\\xd1\\x88\\xd0\\xb0</span> / <span lang=\"kk-Latn\">Qazaq\\xc5\\x9fa</span> / <bdi lang=\"kk-Arab\" dir=\"rtl\">\\xd9\\x82\\xd8\\xa7\\xd8\\xb2\\xd8\\xa7\\xd9\\x82\\xd8\\xb4\\xd8\\xa7</bdi></a></li>\\n<li><a href=\"//ro.wikipedia.org/\" lang=\"ro\">Rom\\xc3\\xa2n\\xc4\\x83</a></li>\\n<li><a href=\"//cy.wikipedia.org/\" lang=\"cy\" title=\"Saesneg\">Cymraeg</a></li>\\n<li><a href=\"//simple.wikipedia.org/\" lang=\"en\">Simple English</a></li>\\n<li><a href=\"//sk.wikipedia.org/\" lang=\"sk\">Sloven\\xc4\\x8dina</a></li>\\n<li><a href=\"//sl.wikipedia.org/\" lang=\"sl\">Sloven\\xc5\\xa1\\xc4\\x8dina</a></li>\\n<li><a href=\"//sr.wikipedia.org/\" lang=\"sr\">\\xd0\\xa1\\xd1\\x80\\xd0\\xbf\\xd1\\x81\\xd0\\xba\\xd0\\xb8 / Srpski</a></li>\\n<li><a href=\"//sh.wikipedia.org/\" lang=\"sh\">Srpskohrvatski / \\xd0\\xa1\\xd1\\x80\\xd0\\xbf\\xd1\\x81\\xd0\\xba\\xd0\\xbe\\xd1\\x85\\xd1\\x80\\xd0\\xb2\\xd0\\xb0\\xd1\\x82\\xd1\\x81\\xd0\\xba\\xd0\\xb8</a></li>\\n<li><a href=\"//fi.wikipedia.org/\" lang=\"fi\" title=\"suomi\">Suomi</a></li>\\n<li><a href=\"//ta.wikipedia.org/\" lang=\"ta\" title=\"Tami\\xe1\\xb8\\xbb\">\\xe0\\xae\\xa4\\xe0\\xae\\xae\\xe0\\xae\\xbf\\xe0\\xae\\xb4\\xe0\\xaf\\x8d</a></li>\\n<li><a href=\"//th.wikipedia.org/\" lang=\"th\" title=\"Phasa Thai\">\\xe0\\xb8\\xa0\\xe0\\xb8\\xb2\\xe0\\xb8\\xa9\\xe0\\xb8\\xb2\\xe0\\xb9\\x84\\xe0\\xb8\\x97\\xe0\\xb8\\xa2</a></li>\\n<li><a href=\"//tg.wikipedia.org/\" lang=\"tg\" title=\"Tojik\\xc4\\xab\">\\xd0\\xa2\\xd0\\xbe\\xd2\\xb7\\xd0\\xb8\\xd0\\xba\\xd3\\xa3</a></li>\\n<li><a href=\"//azb.wikipedia.org/\" lang=\"azb\" title=\"T\\xc3\\xbcrkce\"><bdi dir=\"rtl\">\\xd8\\xaa\\xdb\\x86\\xd8\\xb1\\xda\\xa9\\xd8\\xac\\xd9\\x87</bdi></a></li>\\n<li><a href=\"//tr.wikipedia.org/\" lang=\"tr\" title=\"T\\xc3\\xbcrk\\xc3\\xa7e\">T\\xc3\\xbcrk\\xc3\\xa7e</a></li>\\n<li><a href=\"//ur.wikipedia.org/\" lang=\"ur\" title=\"Urdu\"><bdi dir=\"rtl\">\\xd8\\xa7\\xd8\\xb1\\xd8\\xaf\\xd9\\x88</bdi></a></li>\\n<li><a href=\"//vo.wikipedia.org/\" lang=\"vo\">Volap\\xc3\\xbck</a></li>\\n<li><a href=\"//ko.wikipedia.org/\" lang=\"ko\" title=\"Hangugeo\">\\xed\\x95\\x9c\\xea\\xb5\\xad\\xec\\x96\\xb4</a></li>\\n</ul>\\n</div>\\n<!-- Bookshelves -->\\n<h2 class=\"bookshelf-container\">\\n<span class=\"bookshelf\">\\n<span class=\"text\">\\n<bdi dir=\"ltr\">\\n10&nbsp;000+\\n</bdi>\\n<span class=\"jsl10n\" data-jsl10n=\"entries\">\\narticles\\n</span>\\n</span>\\n</span>\\n</h2>\\n<!-- 10,000+ content pages -->\\n<div class=\"langlist hlist\" data-el-section=\"secondary links\">\\n<ul>\\n<li><a href=\"//ace.wikipedia.org/\" lang=\"ace\">Bahsa Ac\\xc3\\xa8h</a></li>\\n<li><a href=\"//af.wikipedia.org/\" lang=\"af\">Afrikaans</a></li>\\n<li><a href=\"//als.wikipedia.org/\" lang=\"gsw\">Alemannisch</a></li>\\n<li><a href=\"//am.wikipedia.org/\" lang=\"am\" title=\"\\xc4\\x80mari\\xc3\\xb1\\xc3\\xb1\\xc4\\x81\">\\xe1\\x8a\\xa0\\xe1\\x88\\x9b\\xe1\\x88\\xad\\xe1\\x8a\\x9b</a></li>\\n<li><a href=\"//an.wikipedia.org/\" lang=\"an\">Aragon\\xc3\\xa9s</a></li>\\n<li><a href=\"//bn.wikipedia.org/\" lang=\"bn\" title=\"Bangla\">\\xe0\\xa6\\xac\\xe0\\xa6\\xbe\\xe0\\xa6\\x82\\xe0\\xa6\\xb2\\xe0\\xa6\\xbe</a></li>\\n<li><a href=\"//map-bms.wikipedia.org/\" lang=\"map-x-bms\">Basa Banyumasan</a></li>\\n<li><a href=\"//ba.wikipedia.org/\" lang=\"ba\" title=\"Ba\\xc5\\x9fqortsa\">\\xd0\\x91\\xd0\\xb0\\xd1\\x88\\xd2\\xa1\\xd0\\xbe\\xd1\\x80\\xd1\\x82\\xd1\\x81\\xd0\\xb0</a></li>\\n<li><a href=\"//be-tarask.wikipedia.org/\" lang=\"be\" title=\"Belaruskaya (Tara\\xc5\\xa1kievica)\">\\xd0\\x91\\xd0\\xb5\\xd0\\xbb\\xd0\\xb0\\xd1\\x80\\xd1\\x83\\xd1\\x81\\xd0\\xba\\xd0\\xb0\\xd1\\x8f (\\xd0\\xa2\\xd0\\xb0\\xd1\\x80\\xd0\\xb0\\xd1\\x88\\xd0\\xba\\xd0\\xb5\\xd0\\xb2\\xd1\\x96\\xd1\\x86\\xd0\\xb0)</a></li>\\n<li><a href=\"//bcl.wikipedia.org/\" lang=\"bcl\">Bikol Central</a></li>\\n<li><a href=\"//bpy.wikipedia.org/\" lang=\"bpy\" title=\"Bishnupriya Manipuri\">\\xe0\\xa6\\xac\\xe0\\xa6\\xbf\\xe0\\xa6\\xb7\\xe0\\xa7\\x8d\\xe0\\xa6\\xa3\\xe0\\xa7\\x81\\xe0\\xa6\\xaa\\xe0\\xa7\\x8d\\xe0\\xa6\\xb0\\xe0\\xa6\\xbf\\xe0\\xa6\\xaf\\xe0\\xa6\\xbc\\xe0\\xa6\\xbe \\xe0\\xa6\\xae\\xe0\\xa6\\xa3\\xe0\\xa6\\xbf\\xe0\\xa6\\xaa\\xe0\\xa7\\x81\\xe0\\xa6\\xb0\\xe0\\xa7\\x80</a></li>\\n<li><a href=\"//bar.wikipedia.org/\" lang=\"bar\">Boarisch</a></li>\\n<li><a href=\"//bs.wikipedia.org/\" lang=\"bs\">Bosanski</a></li>\\n<li><a href=\"//br.wikipedia.org/\" lang=\"br\">Brezhoneg</a></li>\\n<li><a href=\"//cv.wikipedia.org/\" lang=\"cv\" title=\"\\xc4\\x8c\\xc4\\x83va\\xc5\\xa1la\">\\xd0\\xa7\\xd3\\x91\\xd0\\xb2\\xd0\\xb0\\xd1\\x88\\xd0\\xbb\\xd0\\xb0</a></li>\\n<li><a href=\"//nv.wikipedia.org/\" lang=\"nv\">Din\\xc3\\xa9 Bizaad</a></li>\\n<li><a href=\"//eml.wikipedia.org/\" lang=\"roa-x-eml\">Emigli\\xc3\\xa0n\\xe2\\x80\\x93Rumagn\\xc3\\xb2l</a></li>\\n<li><a href=\"//fo.wikipedia.org/\" lang=\"fo\">F\\xc3\\xb8royskt</a></li>\\n<li><a href=\"//fy.wikipedia.org/\" lang=\"fy\">Frysk</a></li>\\n<li><a href=\"//ga.wikipedia.org/\" lang=\"ga\">Gaeilge</a></li>\\n<li><a href=\"//gd.wikipedia.org/\" lang=\"gd\">G\\xc3\\xa0idhlig</a></li>\\n<li><a href=\"//gu.wikipedia.org/\" lang=\"gu\" title=\"Gujarati\">\\xe0\\xaa\\x97\\xe0\\xab\\x81\\xe0\\xaa\\x9c\\xe0\\xaa\\xb0\\xe0\\xaa\\xbe\\xe0\\xaa\\xa4\\xe0\\xab\\x80</a></li>\\n<li><a href=\"//hsb.wikipedia.org/\" lang=\"hsb\">Hornjoserbsce</a></li>\\n<li><a href=\"//io.wikipedia.org/\" lang=\"io\">Ido</a></li>\\n<li><a href=\"//ilo.wikipedia.org/\" lang=\"ilo\">Ilokano</a></li>\\n<li><a href=\"//ia.wikipedia.org/\" lang=\"ia\">Interlingua</a></li>\\n<li><a href=\"//os.wikipedia.org/\" lang=\"os\" title=\"Iron \\xc3\\x86vzag\">\\xd0\\x98\\xd1\\x80\\xd0\\xbe\\xd0\\xbd \\xc3\\xa6\\xd0\\xb2\\xd0\\xb7\\xd0\\xb0\\xd0\\xb3</a></li>\\n<li><a href=\"//is.wikipedia.org/\" lang=\"is\">\\xc3\\x8dslenska</a></li>\\n<li><a href=\"//jv.wikipedia.org/\" lang=\"jv\">Jawa</a></li>\\n<li><a href=\"//kn.wikipedia.org/\" lang=\"kn\" title=\"Kannada\">\\xe0\\xb2\\x95\\xe0\\xb2\\xa8\\xe0\\xb3\\x8d\\xe0\\xb2\\xa8\\xe0\\xb2\\xa1</a></li>\\n<li><a href=\"//ht.wikipedia.org/\" lang=\"ht\">Krey\\xc3\\xb2l Ayisyen</a></li>\\n<li><a href=\"//ku.wikipedia.org/\" lang=\"ku\"><span lang=\"ku-Latn\">Kurd\\xc3\\xae</span> / <bdi lang=\"ku-Arab\" dir=\"rtl\">\\xd9\\x83\\xd9\\x88\\xd8\\xb1\\xd8\\xaf\\xdb\\x8c</bdi></a></li>\\n<li><a href=\"//ckb.wikipedia.org/\" lang=\"ckb\" title=\"Kurd\\xc3\\xaey Nawend\\xc3\\xae\"><bdi dir=\"rtl\">\\xda\\xa9\\xd9\\x88\\xd8\\xb1\\xd8\\xaf\\xdb\\x8c\\xdb\\x8c \\xd9\\x86\\xd8\\xa7\\xd9\\x88\\xdb\\x95\\xd9\\x86\\xd8\\xaf\\xdb\\x8c</bdi></a></li>\\n<li><a href=\"//ky.wikipedia.org/\" lang=\"ky\" title=\"Kyrgyz\\xc4\\x8da\">\\xd0\\x9a\\xd1\\x8b\\xd1\\x80\\xd0\\xb3\\xd1\\x8b\\xd0\\xb7\\xd1\\x87\\xd0\\xb0</a></li>\\n<li><a href=\"//mrj.wikipedia.org/\" lang=\"mjr\" title=\"Kyryk Mary\">\\xd0\\x9a\\xd1\\x8b\\xd1\\x80\\xd1\\x8b\\xd0\\xba \\xd0\\x9c\\xd0\\xb0\\xd1\\x80\\xd1\\x8b</a></li>\\n<li><a href=\"//lb.wikipedia.org/\" lang=\"lb\">L\\xc3\\xabtzebuergesch</a></li>\\n<li><a href=\"//li.wikipedia.org/\" lang=\"li\">Limburgs</a></li>\\n<li><a href=\"//lmo.wikipedia.org/\" lang=\"lmo\">Lumbaart</a></li>\\n<li><a href=\"//mai.wikipedia.org/\" lang=\"mai\" title=\"Maithil\\xc4\\xab\">\\xe0\\xa4\\xae\\xe0\\xa5\\x88\\xe0\\xa4\\xa5\\xe0\\xa4\\xbf\\xe0\\xa4\\xb2\\xe0\\xa5\\x80</a></li>\\n<li><a href=\"//mg.wikipedia.org/\" lang=\"mg\">Malagasy</a></li>\\n<li><a href=\"//ml.wikipedia.org/\" lang=\"ml\" title=\"Malayalam\">\\xe0\\xb4\\xae\\xe0\\xb4\\xb2\\xe0\\xb4\\xaf\\xe0\\xb4\\xbe\\xe0\\xb4\\xb3\\xe0\\xb4\\x82</a></li>\\n<li><a href=\"//zh-classical.wikipedia.org/\" lang=\"lzh\" title=\"Man4jin4 / W\\xc3\\xa9ny\\xc3\\xa1n\">\\xe6\\x96\\x87\\xe8\\xa8\\x80</a></li>\\n<li><a href=\"//mr.wikipedia.org/\" lang=\"mr\" title=\"Marathi\">\\xe0\\xa4\\xae\\xe0\\xa4\\xb0\\xe0\\xa4\\xbe\\xe0\\xa4\\xa0\\xe0\\xa5\\x80</a></li>\\n<li><a href=\"//xmf.wikipedia.org/\" lang=\"xmf\" title=\"Margaluri\">\\xe1\\x83\\x9b\\xe1\\x83\\x90\\xe1\\x83\\xa0\\xe1\\x83\\x92\\xe1\\x83\\x90\\xe1\\x83\\x9a\\xe1\\x83\\xa3\\xe1\\x83\\xa0\\xe1\\x83\\x98</a></li>\\n<li><a href=\"//mzn.wikipedia.org/\" lang=\"mzn\" title=\"M\\xc3\\xa4zeruni\"><bdi dir=\"rtl\">\\xd9\\x85\\xd8\\xa7\\xd8\\xb2\\xd9\\x90\\xd8\\xb1\\xd9\\x88\\xd9\\x86\\xdb\\x8c</bdi></a></li>\\n<li><a href=\"//cdo.wikipedia.org/\" lang=\"cdo\" title=\"Ming-deng-ngu\">M\\xc3\\xacng-d\\xc4\\x95\\xcc\\xa4ng-ng\\xe1\\xb9\\xb3\\xcc\\x84 / \\xe9\\x96\\xa9\\xe6\\x9d\\xb1\\xe8\\xaa\\x9e</a></li>\\n<li><a href=\"//mn.wikipedia.org/\" lang=\"mn\" title=\"Mongol\">\\xd0\\x9c\\xd0\\xbe\\xd0\\xbd\\xd0\\xb3\\xd0\\xbe\\xd0\\xbb</a></li>\\n<li><a href=\"//my.wikipedia.org/\" lang=\"my\" title=\"Myanmarsar\">\\xe1\\x80\\x99\\xe1\\x80\\xbc\\xe1\\x80\\x94\\xe1\\x80\\xba\\xe1\\x80\\x99\\xe1\\x80\\xac\\xe1\\x80\\x98\\xe1\\x80\\xac\\xe1\\x80\\x9e\\xe1\\x80\\xac</a></li>\\n<li><a href=\"//new.wikipedia.org/\" lang=\"new\" title=\"Nepal Bhasa\">\\xe0\\xa4\\xa8\\xe0\\xa5\\x87\\xe0\\xa4\\xaa\\xe0\\xa4\\xbe\\xe0\\xa4\\xb2 \\xe0\\xa4\\xad\\xe0\\xa4\\xbe\\xe0\\xa4\\xb7\\xe0\\xa4\\xbe</a></li>\\n<li><a href=\"//ne.wikipedia.org/\" lang=\"ne\" title=\"Nep\\xc4\\x81l\\xc4\\xab\">\\xe0\\xa4\\xa8\\xe0\\xa5\\x87\\xe0\\xa4\\xaa\\xe0\\xa4\\xbe\\xe0\\xa4\\xb2\\xe0\\xa5\\x80</a></li>\\n<li><a href=\"//nap.wikipedia.org/\" lang=\"nap\">Nnapulitano</a></li>\\n<li><a href=\"//frr.wikipedia.org/\" lang=\"frr\">Nordfriisk</a></li>\\n<li><a href=\"//oc.wikipedia.org/\" lang=\"oc\">Occitan</a></li>\\n<li><a href=\"//mhr.wikipedia.org/\" lang=\"mhr\" title=\"Olyk Marij\">\\xd0\\x9c\\xd0\\xb0\\xd1\\x80\\xd0\\xb8\\xd0\\xb9</a></li>\\n<li><a href=\"//or.wikipedia.org/\" lang=\"or\" title=\"O\\xe1\\xb9\\x9bi\\xc4\\x81\">\\xe0\\xac\\x93\\xe0\\xac\\xa1\\xe0\\xac\\xbf\\xe0\\xac\\xbc\\xe0\\xac\\x86</a></li>\\n<li><a href=\"//pa.wikipedia.org/\" lang=\"pa\" title=\"Pa\\xc3\\xb1j\\xc4\\x81b\\xc4\\xab (Gurmukh\\xc4\\xab)\">\\xe0\\xa8\\xaa\\xe0\\xa9\\xb0\\xe0\\xa8\\x9c\\xe0\\xa8\\xbe\\xe0\\xa8\\xac\\xe0\\xa9\\x80 (\\xe0\\xa8\\x97\\xe0\\xa9\\x81\\xe0\\xa8\\xb0\\xe0\\xa8\\xae\\xe0\\xa9\\x81\\xe0\\xa8\\x96\\xe0\\xa9\\x80)</a></li>\\n<li><a href=\"//pnb.wikipedia.org/\" lang=\"pnb\" title=\"Pa\\xc3\\xb1j\\xc4\\x81b\\xc4\\xab (Sh\\xc4\\x81hmukh\\xc4\\xab)\"><bdi dir=\"rtl\">\\xd9\\xbe\\xd9\\x86\\xd8\\xac\\xd8\\xa7\\xd8\\xa8\\xdb\\x8c (\\xd8\\xb4\\xd8\\xa7\\xdb\\x81 \\xd9\\x85\\xda\\xa9\\xda\\xbe\\xdb\\x8c)</bdi></a></li>\\n<li><a href=\"//ps.wikipedia.org/\" lang=\"ps\" title=\"Pa\\xca\\x82to\"><bdi dir=\"rtl\">\\xd9\\xbe\\xda\\x9a\\xd8\\xaa\\xd9\\x88</bdi></a></li>\\n<li><a href=\"//pms.wikipedia.org/\" lang=\"pms\">Piemont\\xc3\\xa8is</a></li>\\n<li><a href=\"//nds.wikipedia.org/\" lang=\"nds\">Plattd\\xc3\\xbc\\xc3\\xbctsch</a></li>\\n<li><a href=\"//qu.wikipedia.org/\" lang=\"qu\">Runa Simi</a></li>\\n<li><a href=\"//sa.wikipedia.org/\" lang=\"sa\" title=\"Sa\\xe1\\xb9\\x83sk\\xe1\\xb9\\x9btam\">\\xe0\\xa4\\xb8\\xe0\\xa4\\x82\\xe0\\xa4\\xb8\\xe0\\xa5\\x8d\\xe0\\xa4\\x95\\xe0\\xa5\\x83\\xe0\\xa4\\xa4\\xe0\\xa4\\xae\\xe0\\xa5\\x8d</a></li>\\n<li><a href=\"//sah.wikipedia.org/\" lang=\"sah\" title=\"Saxa Tyla\">\\xd0\\xa1\\xd0\\xb0\\xd1\\x85\\xd0\\xb0 \\xd0\\xa2\\xd1\\x8b\\xd0\\xbb\\xd0\\xb0</a></li>\\n<li><a href=\"//sco.wikipedia.org/\" lang=\"sco\">Scots</a></li>\\n<li><a href=\"//sq.wikipedia.org/\" lang=\"sq\">Shqip</a></li>\\n<li><a href=\"//scn.wikipedia.org/\" lang=\"scn\">Sicilianu</a></li>\\n<li><a href=\"//si.wikipedia.org/\" lang=\"si\" title=\"Si\\xe1\\xb9\\x83hala\">\\xe0\\xb7\\x83\\xe0\\xb7\\x92\\xe0\\xb6\\x82\\xe0\\xb7\\x84\\xe0\\xb6\\xbd</a></li>\\n<li><a href=\"//sd.wikipedia.org/\" lang=\"sd\" title=\"Sindh\\xc4\\xab\"><bdi dir=\"rtl\">\\xd8\\xb3\\xd9\\x86\\xda\\x8c\\xd9\\x8a</bdi></a></li>\\n<li><a href=\"//szl.wikipedia.org/\" lang=\"szl\">\\xc5\\x9al\\xc5\\xafnski</a></li>\\n<li><a href=\"//su.wikipedia.org/\" lang=\"su\">Basa Sunda</a></li>\\n<li><a href=\"//sw.wikipedia.org/\" lang=\"sw\">Kiswahili</a></li>\\n<li><a href=\"//tl.wikipedia.org/\" lang=\"tl\">Tagalog</a></li>\\n<li><a href=\"//tt.wikipedia.org/\" lang=\"tt\">\\xd0\\xa2\\xd0\\xb0\\xd1\\x82\\xd0\\xb0\\xd1\\x80\\xd1\\x87\\xd0\\xb0 / Tatar\\xc3\\xa7a</a></li>\\n<li><a href=\"//te.wikipedia.org/\" lang=\"te\" title=\"Telugu\">\\xe0\\xb0\\xa4\\xe0\\xb1\\x86\\xe0\\xb0\\xb2\\xe0\\xb1\\x81\\xe0\\xb0\\x97\\xe0\\xb1\\x81</a></li>\\n<li><a href=\"//bug.wikipedia.org/\" lang=\"bug\">\\xe1\\xa8\\x85\\xe1\\xa8\\x94 \\xe1\\xa8\\x95\\xe1\\xa8\\x99\\xe1\\xa8\\x81\\xe1\\xa8\\x97 / Basa Ugi</a></li>\\n<li><a href=\"//vec.wikipedia.org/\" lang=\"vec\">V\\xc3\\xa8neto</a></li>\\n<li><a href=\"//wa.wikipedia.org/\" lang=\"wa\">Walon</a></li>\\n<li><a href=\"//wuu.wikipedia.org/\" lang=\"wuu\" title=\"W\\xc3\\xba Y\\xc7\\x94\" data-convert-hans=\"\\xe5\\x90\\xb4\\xe8\\xaf\\xad\" id=\"wuu_wiki\">\\xe5\\x90\\xb3\\xe8\\xaa\\x9e</a></li>\\n<li><a href=\"//yi.wikipedia.org/\" lang=\"yi\" title=\"Yidi\\xc5\\xa1\"><bdi dir=\"rtl\">\\xd7\\x99\\xd7\\x99\\xd6\\xb4\\xd7\\x93\\xd7\\x99\\xd7\\xa9</bdi></a></li>\\n<li><a href=\"//yo.wikipedia.org/\" lang=\"yo\">Yor\\xc3\\xb9b\\xc3\\xa1</a></li>\\n<li><a href=\"//zh-yue.wikipedia.org/\" lang=\"yue\" title=\"Yuht Y\\xc3\\xbah / Jyut6 jyu5\" data-convert-hans=\"\\xe7\\xb2\\xa4\\xe8\\xaf\\xad\" id=\"zh-yue_wiki\">\\xe7\\xb2\\xb5\\xe8\\xaa\\x9e</a></li>\\n<li><a href=\"//diq.wikipedia.org/\" lang=\"diq\" title=\"Zazaki\">Zazaki</a></li>\\n<li><a href=\"//bat-smg.wikipedia.org/\" lang=\"sgs\">\\xc5\\xbdemait\\xc4\\x97\\xc5\\xa1ka</a></li>\\n</ul>\\n</div>\\n<!-- Bookshelves -->\\n<h2 class=\"bookshelf-container\">\\n<span class=\"bookshelf\">\\n<span class=\"text\">\\n<bdi dir=\"ltr\">\\n1&nbsp;000+\\n</bdi>\\n<span class=\"jsl10n\" data-jsl10n=\"entries\">\\narticles\\n</span>\\n</span>\\n</span>\\n</h2>\\n<!-- 1,000+ content pages -->\\n<div class=\"langlist hlist\" data-el-section=\"secondary links\">\\n<ul>\\n<li><a href=\"//kbd.wikipedia.org/\" lang=\"kbd\" title=\"Adighabze\">\\xd0\\x90\\xd0\\xb4\\xd1\\x8b\\xd0\\xb3\\xd1\\x8d\\xd0\\xb1\\xd0\\xb7\\xd1\\x8d</a></li>\\n<li><a href=\"//ang.wikipedia.org/\" lang=\"ang\">\\xc3\\x86nglisc</a></li>\\n<li><a href=\"//ak.wikipedia.org/\" lang=\"ak\">Akan</a></li>\\n<li><a href=\"//ab.wikipedia.org/\" lang=\"ab\" title=\"A\\xe1\\xb9\\x97sua\">\\xd0\\x90\\xd2\\xa7\\xd1\\x81\\xd1\\x83\\xd0\\xb0</a></li>\\n<li><a href=\"//hyw.wikipedia.org/\" lang=\"hyw\" title=\"Arevmdahayeren\">\\xd4\\xb1\\xd6\\x80\\xd5\\xa5\\xd6\\x82\\xd5\\xb4\\xd5\\xbf\\xd5\\xa1\\xd5\\xb0\\xd5\\xa1\\xd5\\xb5\\xd5\\xa5\\xd6\\x80\\xd5\\xa7\\xd5\\xb6</a></li>\\n<li><a href=\"//roa-rup.wikipedia.org/\" lang=\"roa-rup\">Arm\\xc3\\xa3neashce</a></li>\\n<li><a href=\"//frp.wikipedia.org/\" lang=\"frp\">Arpitan</a></li>\\n<li><a href=\"//ig.wikipedia.org/\" lang=\"ig\">as\\xe1\\xbb\\xa5s\\xe1\\xbb\\xa5 bekee ma\\xe1\\xbb\\x8db\\xe1\\xbb\\xa5 as\\xe1\\xbb\\xa5s\\xe1\\xbb\\xa5 oyibo</a></li>\\n<li><a href=\"//arc.wikipedia.org/\" lang=\"arc\" title=\"\\xc4\\x80t\\xc3\\xbbr\\xc4\\x81y\\xc3\\xa2\"><bdi dir=\"rtl\">\\xdc\\x90\\xdc\\xac\\xdc\\x98\\xdc\\xaa\\xdc\\x9d\\xdc\\x90</bdi></a></li>\\n<li><a href=\"//gn.wikipedia.org/\" lang=\"gn\">Ava\\xc3\\xb1e\\xe2\\x80\\x99\\xe1\\xba\\xbd</a></li>\\n<li><a href=\"//av.wikipedia.org/\" lang=\"av\" title=\"Avar\">\\xd0\\x90\\xd0\\xb2\\xd0\\xb0\\xd1\\x80</a></li>\\n<li><a href=\"//ay.wikipedia.org/\" lang=\"ay\">Aymar</a></li>\\n<li><a href=\"//bjn.wikipedia.org/\" lang=\"bjn\">Bahasa Banjar</a></li>\\n<li><a href=\"//bh.wikipedia.org/\" lang=\"bh\" title=\"Bh\\xc5\\x8djapur\\xc4\\xab\">\\xe0\\xa4\\xad\\xe0\\xa5\\x8b\\xe0\\xa4\\x9c\\xe0\\xa4\\xaa\\xe0\\xa5\\x81\\xe0\\xa4\\xb0\\xe0\\xa5\\x80</a></li>\\n<li><a href=\"//bi.wikipedia.org/\" lang=\"bi\">Bislama</a></li>\\n<li><a href=\"//bo.wikipedia.org/\" lang=\"bo\" title=\"Bod Skad\">\\xe0\\xbd\\x96\\xe0\\xbd\\xbc\\xe0\\xbd\\x91\\xe0\\xbc\\x8b\\xe0\\xbd\\xa1\\xe0\\xbd\\xb2\\xe0\\xbd\\x82</a></li>\\n<li><a href=\"//bxr.wikipedia.org/\" lang=\"bxr\" title=\"Buryad\">\\xd0\\x91\\xd1\\x83\\xd1\\x80\\xd1\\x8f\\xd0\\xb0\\xd0\\xb4</a></li>\\n<li><a href=\"//cbk-zam.wikipedia.org/\" lang=\"cbk-x-zam\">Chavacano de Zamboanga</a></li>\\n<li><a href=\"//co.wikipedia.org/\" lang=\"co\">Corsu</a></li>\\n<li><a href=\"//za.wikipedia.org/\" lang=\"za\">Vahcuengh / \\xe8\\xa9\\xb1\\xe5\\x83\\xae</a></li>\\n<li><a href=\"//se.wikipedia.org/\" lang=\"se\">Davvis\\xc3\\xa1megiella</a></li>\\n<li><a href=\"//pdc.wikipedia.org/\" lang=\"pdc\">Deitsch</a></li>\\n<li><a href=\"//dsb.wikipedia.org/\" lang=\"dsb\">Dolnoserbski</a></li>\\n<li><a href=\"//myv.wikipedia.org/\" lang=\"myv\" title=\"Erzjanj\">\\xd0\\xad\\xd1\\x80\\xd0\\xb7\\xd1\\x8f\\xd0\\xbd\\xd1\\x8c</a></li>\\n<li><a href=\"//ext.wikipedia.org/\" lang=\"ext\">Estreme\\xc3\\xb1u</a></li>\\n<li><a href=\"//hif.wikipedia.org/\" lang=\"hif\">Fiji Hindi</a></li>\\n<li><a href=\"//fur.wikipedia.org/\" lang=\"fur\">Furlan</a></li>\\n<li><a href=\"//gv.wikipedia.org/\" lang=\"gv\">Gaelg</a></li>\\n<li><a href=\"//gag.wikipedia.org/\" lang=\"gag\">Gagauz</a></li>\\n<li><a href=\"//ki.wikipedia.org/\" lang=\"ki\">G\\xc4\\xa9k\\xc5\\xa9y\\xc5\\xa9</a></li>\\n<li><a href=\"//glk.wikipedia.org/\" lang=\"glk\" title=\"Gil\\xc9\\x99ki\"><bdi dir=\"rtl\">\\xda\\xaf\\xdb\\x8c\\xd9\\x84\\xda\\xa9\\xdb\\x8c</bdi></a></li>\\n<li><a href=\"//gan.wikipedia.org/\" lang=\"gan\" title=\"Gon ua\" data-convert-hans=\"\\xe8\\xb5\\xa3\\xe8\\xaf\\xad\" id=\"gan_wiki\">\\xe8\\xb4\\x9b\\xe8\\xaa\\x9e</a></li>\\n<li><a href=\"//hak.wikipedia.org/\" lang=\"hak\">Hak-k\\xc3\\xa2-ng\\xc3\\xae / \\xe5\\xae\\xa2\\xe5\\xae\\xb6\\xe8\\xaa\\x9e</a></li>\\n<li><a href=\"//xal.wikipedia.org/\" lang=\"xal\" title=\"Hal\\xca\\xb9mg\">\\xd0\\xa5\\xd0\\xb0\\xd0\\xbb\\xd1\\x8c\\xd0\\xbc\\xd0\\xb3</a></li>\\n<li><a href=\"//ha.wikipedia.org/\" lang=\"ha\"><span lang=\"ha-Latn\">Hausa</span> / <bdi lang=\"ha-Arab\" dir=\"rtl\">\\xd9\\x87\\xd9\\x8e\\xd9\\x88\\xd9\\x8f\\xd8\\xb3\\xd9\\x8e\\xd8\\xa7</bdi></a></li>\\n<li><a href=\"//haw.wikipedia.org/\" lang=\"haw\">\\xca\\xbb\\xc5\\x8clelo Hawai\\xca\\xbbi</a></li>\\n<li><a href=\"//ie.wikipedia.org/\" lang=\"ie\">Interlingue</a></li>\\n<li><a href=\"//kl.wikipedia.org/\" lang=\"kl\">Kalaallisut</a></li>\\n<li><a href=\"//pam.wikipedia.org/\" lang=\"pam\">Kapampangan</a></li>\\n<li><a href=\"//csb.wikipedia.org/\" lang=\"csb\">Kasz\\xc3\\xabbsczi</a></li>\\n<li><a href=\"//kw.wikipedia.org/\" lang=\"kw\">Kernewek</a></li>\\n<li><a href=\"//km.wikipedia.org/\" lang=\"km\" title=\"Ph\\xc3\\xa9asa Khm\\xc3\\xa9r\">\\xe1\\x9e\\x97\\xe1\\x9e\\xb6\\xe1\\x9e\\x9f\\xe1\\x9e\\xb6\\xe1\\x9e\\x81\\xe1\\x9f\\x92\\xe1\\x9e\\x98\\xe1\\x9f\\x82\\xe1\\x9e\\x9a</a></li>\\n<li><a href=\"//rw.wikipedia.org/\" lang=\"rw\">Kinyarwanda</a></li>\\n<li><a href=\"//kv.wikipedia.org/\" lang=\"kv\" title=\"Komi\">\\xd0\\x9a\\xd0\\xbe\\xd0\\xbc\\xd0\\xb8</a></li>\\n<li><a href=\"//kg.wikipedia.org/\" lang=\"kg\">Kongo</a></li>\\n<li><a href=\"//gom.wikipedia.org/\" lang=\"gom\">\\xe0\\xa4\\x95\\xe0\\xa5\\x8b\\xe0\\xa4\\x82\\xe0\\xa4\\x95\\xe0\\xa4\\xa3\\xe0\\xa5\\x80 / Konknni</a></li>\\n<li><a href=\"//gcr.wikipedia.org/\" lang=\"gcr\" title=\"Kriy\\xc3\\xb2l Gwiyannen\">Kriy\\xc3\\xb2l Gwiyannen</a></li>\\n<li><a href=\"//lo.wikipedia.org/\" lang=\"lo\" title=\"Phaasaa Laao\">\\xe0\\xba\\x9e\\xe0\\xba\\xb2\\xe0\\xba\\xaa\\xe0\\xba\\xb2\\xe0\\xba\\xa5\\xe0\\xba\\xb2\\xe0\\xba\\xa7</a></li>\\n<li><a href=\"//lad.wikipedia.org/\" lang=\"lad\" title=\"Ladino\"><span lang=\"lad-Latn\">Dzhudezmo</span> / <bdi lang=\"lad-Hebr\" dir=\"rtl\">\\xd7\\x9c\\xd7\\x90\\xd7\\x93\\xd7\\x99\\xd7\\xa0\\xd7\\x95</bdi></a></li>\\n<li><a href=\"//lbe.wikipedia.org/\" lang=\"lbe\" title=\"Lak\\xcb\\x90u\">\\xd0\\x9b\\xd0\\xb0\\xd0\\xba\\xd0\\xba\\xd1\\x83</a></li>\\n<li><a href=\"//lez.wikipedia.org/\" lang=\"lez\" title=\"Lezgi\">\\xd0\\x9b\\xd0\\xb5\\xd0\\xb7\\xd0\\xb3\\xd0\\xb8</a></li>\\n<li><a href=\"//ln.wikipedia.org/\" lang=\"ln\">Ling\\xc3\\xa1la</a></li>\\n<li><a href=\"//jbo.wikipedia.org/\" lang=\"jbo\">lojban</a></li>\\n<li><a href=\"//lrc.wikipedia.org/\" lang=\"lrc\" title=\"L\\xc3\\xb6riy\\xc3\\xa9-\\xc5\\xa0om\\xc4\\x81l\\xc4\\xab\"><bdi dir=\"rtl\">\\xd9\\x84\\xdb\\x8a\\xd8\\xb1\\xdb\\x8c \\xd8\\xb4\\xd9\\x88\\xd9\\x85\\xd8\\xa7\\xd9\\x84\\xdb\\x8c</bdi></a></li>\\n<li><a href=\"//lg.wikipedia.org/\" lang=\"lg\">Luganda</a></li>\\n<li><a href=\"//lij.wikipedia.org/\" lang=\"lij\">L\\xc3\\xacgure</a></li>\\n<li><a href=\"//mt.wikipedia.org/\" lang=\"mt\">Malti</a></li>\\n<li><a href=\"//ty.wikipedia.org/\" lang=\"ty\">Reo M\\xc4\\x81\\xe2\\x80\\x99ohi</a></li>\\n<li><a href=\"//mi.wikipedia.org/\" lang=\"mi\">M\\xc4\\x81ori</a></li>\\n<li><a href=\"//mwl.wikipedia.org/\" lang=\"mwl\">Mirand\\xc3\\xa9s</a></li>\\n<li><a href=\"//mdf.wikipedia.org/\" lang=\"mdf\" title=\"Mok\\xc5\\xa1enj\">\\xd0\\x9c\\xd0\\xbe\\xd0\\xba\\xd1\\x88\\xd0\\xb5\\xd0\\xbd\\xd1\\x8c</a></li>\\n<li><a href=\"//nah.wikipedia.org/\" lang=\"nah\">N\\xc4\\x81huatlaht\\xc5\\x8dlli</a></li>\\n<li><a href=\"//na.wikipedia.org/\" lang=\"na\">Dorerin Naoero</a></li>\\n<li><a href=\"//nds-nl.wikipedia.org/\" lang=\"nds-nl\">Nedersaksisch</a></li>\\n<li><a href=\"//nrm.wikipedia.org/\" lang=\"roa-x-nrm\">Nouormand / Normaund</a></li>\\n<li><a href=\"//nov.wikipedia.org/\" lang=\"nov\">Novial</a></li>\\n<li><a href=\"//as.wikipedia.org/\" lang=\"as\" title=\"\\xc3\\x94x\\xc3\\xb4miya\">\\xe0\\xa6\\x85\\xe0\\xa6\\xb8\\xe0\\xa6\\xae\\xe0\\xa7\\x80\\xe0\\xa6\\xaf\\xe0\\xa6\\xbe\\xe0\\xa6\\xbc</a></li>\\n<li><a href=\"//pi.wikipedia.org/\" lang=\"pi\" title=\"P\\xc4\\x81\\xe1\\xb8\\xb7i\">\\xe0\\xa4\\xaa\\xe0\\xa4\\xbe\\xe0\\xa4\\xb2\\xe0\\xa4\\xbf</a></li>\\n<li><a href=\"//pag.wikipedia.org/\" lang=\"pag\">Pangasin\\xc3\\xa1n</a></li>\\n<li><a href=\"//pap.wikipedia.org/\" lang=\"pap\">Papiamentu</a></li>\\n<li><a href=\"//koi.wikipedia.org/\" lang=\"koi\" title=\"Perem Komi\">\\xd0\\x9f\\xd0\\xb5\\xd1\\x80\\xd0\\xb5\\xd0\\xbc \\xd0\\x9a\\xd0\\xbe\\xd0\\xbc\\xd0\\xb8</a></li>\\n<li><a href=\"//pfl.wikipedia.org/\" lang=\"pfl\">Pf\\xc3\\xa4lzisch</a></li>\\n<li><a href=\"//pcd.wikipedia.org/\" lang=\"pcd\">Picard</a></li>\\n<li><a href=\"//krc.wikipedia.org/\" lang=\"krc\" title=\"Qara\\xc3\\xa7ay\\xe2\\x80\\x93Malqar\">\\xd0\\x9a\\xd1\\x8a\\xd0\\xb0\\xd1\\x80\\xd0\\xb0\\xd1\\x87\\xd0\\xb0\\xd0\\xb9\\xe2\\x80\\x93\\xd0\\x9c\\xd0\\xb0\\xd0\\xbb\\xd0\\xba\\xd1\\x8a\\xd0\\xb0\\xd1\\x80</a></li>\\n<li><a href=\"//kaa.wikipedia.org/\" lang=\"kaa\">Qaraqalpaqsha</a></li>\\n<li><a href=\"//crh.wikipedia.org/\" lang=\"crh\">Q\\xc4\\xb1r\\xc4\\xb1mtatarca</a></li>\\n<li><a href=\"//ksh.wikipedia.org/\" lang=\"ksh\">Ripoarisch</a></li>\\n<li><a href=\"//rm.wikipedia.org/\" lang=\"rm\">Rumantsch</a></li>\\n<li><a href=\"//rue.wikipedia.org/\" lang=\"rue\" title=\"Rusin\\xe2\\x80\\x99skyj Yazyk\">\\xd0\\xa0\\xd1\\x83\\xd1\\x81\\xd0\\xb8\\xd0\\xbd\\xd1\\x8c\\xd1\\x81\\xd0\\xba\\xd1\\x8b\\xd0\\xb9 \\xd0\\xaf\\xd0\\xb7\\xd1\\x8b\\xd0\\xba</a></li>\\n<li><a href=\"//sc.wikipedia.org/\" lang=\"sc\">Sardu</a></li>\\n<li><a href=\"//stq.wikipedia.org/\" lang=\"stq\">Seeltersk</a></li>\\n<li><a href=\"//nso.wikipedia.org/\" lang=\"nso\">Sesotho sa Leboa</a></li>\\n<li><a href=\"//sn.wikipedia.org/\" lang=\"sn\">ChiShona</a></li>\\n<li><a href=\"//so.wikipedia.org/\" lang=\"so\">Soomaaliga</a></li>\\n<li><a href=\"//srn.wikipedia.org/\" lang=\"srn\">Sranantongo</a></li>\\n<li><a href=\"//kab.wikipedia.org/\" lang=\"kab\" title=\"Taqbaylit\">Taqbaylit</a></li>\\n<li><a href=\"//roa-tara.wikipedia.org/\" lang=\"roa\">Tarand\\xc3\\xadne</a></li>\\n<li><a href=\"//tet.wikipedia.org/\" lang=\"tet\">Tetun</a></li>\\n<li><a href=\"//tpi.wikipedia.org/\" lang=\"tpi\">Tok Pisin</a></li>\\n<li><a href=\"//to.wikipedia.org/\" lang=\"to\">faka Tonga</a></li>\\n<li><a href=\"//tk.wikipedia.org/\" lang=\"tk\">T\\xc3\\xbcrkmen\\xc3\\xa7e</a></li>\\n<li><a href=\"//tyv.wikipedia.org/\" lang=\"tyv\" title=\"Tyva dyl\">\\xd0\\xa2\\xd1\\x8b\\xd0\\xb2\\xd0\\xb0 \\xd0\\xb4\\xd1\\x8b\\xd0\\xbb</a></li>\\n<li><a href=\"//udm.wikipedia.org/\" lang=\"udm\" title=\"Udmurt\">\\xd0\\xa3\\xd0\\xb4\\xd0\\xbc\\xd1\\x83\\xd1\\x80\\xd1\\x82</a></li>\\n<li><a href=\"//ug.wikipedia.org/\" lang=\"ug\"><bdi dir=\"rtl\">\\xd8\\xa6\\xdb\\x87\\xd9\\x8a\\xd8\\xba\\xdb\\x87\\xd8\\xb1\\xda\\x86\\xd9\\x87</bdi></a></li>\\n<li><a href=\"//vep.wikipedia.org/\" lang=\"vep\">Veps\\xc3\\xa4n</a></li>\\n<li><a href=\"//fiu-vro.wikipedia.org/\" lang=\"fiu-vro\">V\\xc3\\xb5ro</a></li>\\n<li><a href=\"//vls.wikipedia.org/\" lang=\"vls\">West-Vlams</a></li>\\n<li><a href=\"//wo.wikipedia.org/\" lang=\"wo\">Wolof</a></li>\\n<li><a href=\"//xh.wikipedia.org/\" lang=\"xh\">isiXhosa</a></li>\\n<li><a href=\"//zea.wikipedia.org/\" lang=\"zea\">Ze\\xc3\\xaauws</a></li>\\n<li><a href=\"//zu.wikipedia.org/\" lang=\"zu\">isiZulu</a></li>\\n<li><a href=\"//dv.wikipedia.org/\" lang=\"dv\" title=\"\\xde\\x87\\xde\\xa8\\xde\\x82\\xde\\x8e\\xde\\xa8\\xde\\x83\\xde\\xad\\xde\\x90\\xde\\xa8\"><bdi dir=\"rtl\">\\xde\\x8b\\xde\\xa8\\xde\\x88\\xde\\xac\\xde\\x80\\xde\\xa8\\xde\\x84\\xde\\xa6\\xde\\x90\\xde\\xb0</bdi></a></li>\\n</ul>\\n</div>\\n<!-- Bookshelves -->\\n<h2 class=\"bookshelf-container\">\\n<span class=\"bookshelf\">\\n<span class=\"text\">\\n<bdi dir=\"ltr\">\\n100+\\n</bdi>\\n<span class=\"jsl10n\" data-jsl10n=\"entries\">\\narticles\\n</span>\\n</span>\\n</span>\\n</h2>\\n<!-- 100+ content pages -->\\n<div class=\"langlist langlist-tiny hlist\" data-el-section=\"secondary links\">\\n<ul>\\n<li><a href=\"//bm.wikipedia.org/\" lang=\"bm\">Bamanankan</a></li>\\n<li><a href=\"//ch.wikipedia.org/\" lang=\"ch\">Chamoru</a></li>\\n<li><a href=\"//ny.wikipedia.org/\" lang=\"ny\">Chichewa</a></li>\\n<li><a href=\"//ee.wikipedia.org/\" lang=\"ee\">E\\xca\\x8begbe</a></li>\\n<li><a href=\"//ff.wikipedia.org/\" lang=\"ff\">Fulfulde</a></li>\\n<li><a href=\"//got.wikipedia.org/\" lang=\"got\" title=\"Gutisk\">\\xf0\\x90\\x8c\\xb2\\xf0\\x90\\x8c\\xbf\\xf0\\x90\\x8d\\x84\\xf0\\x90\\x8c\\xb9\\xf0\\x90\\x8d\\x83\\xf0\\x90\\x8c\\xba</a></li>\\n<li><a href=\"//iu.wikipedia.org/\" lang=\"iu\">\\xe1\\x90\\x83\\xe1\\x93\\x84\\xe1\\x92\\x83\\xe1\\x91\\x8e\\xe1\\x91\\x90\\xe1\\x91\\xa6 / Inuktitut</a></li>\\n<li><a href=\"//ik.wikipedia.org/\" lang=\"ik\">I\\xc3\\xb1upiak</a></li>\\n<li><a href=\"//ks.wikipedia.org/\" lang=\"ks\" title=\"Kashmiri\"><bdi dir=\"rtl\">\\xd9\\x83\\xd8\\xb4\\xd9\\x85\\xd9\\x8a\\xd8\\xb1\\xd9\\x8a</bdi></a></li>\\n<li><a href=\"//ltg.wikipedia.org/\" lang=\"ltg\">Latga\\xc4\\xbcu</a></li>\\n<li><a href=\"//fj.wikipedia.org/\" lang=\"fj\">Na Vosa Vaka-Viti</a></li>\\n<li><a href=\"//cr.wikipedia.org/\" lang=\"cr\">N\\xc4\\x93hiyaw\\xc4\\x93win / \\xe1\\x93\\x80\\xe1\\x90\\xa6\\xe1\\x90\\x83\\xe1\\x94\\xad\\xe1\\x90\\x8d\\xe1\\x90\\x8f\\xe1\\x90\\xa3</a></li>\\n<li><a href=\"//pih.wikipedia.org/\" lang=\"pih\">Norfuk / Pitkern</a></li>\\n<li><a href=\"//om.wikipedia.org/\" lang=\"om\">Afaan Oromoo</a></li>\\n<li><a href=\"//pnt.wikipedia.org/\" lang=\"pnt\" title=\"Pontiak\\xc3\\xa1\">\\xce\\xa0\\xce\\xbf\\xce\\xbd\\xcf\\x84\\xce\\xb9\\xce\\xb1\\xce\\xba\\xce\\xac</a></li>\\n<li><a href=\"//dz.wikipedia.org/\" lang=\"dz\" title=\"Rdzong-Kha\">\\xe0\\xbd\\xa2\\xe0\\xbe\\xab\\xe0\\xbd\\xbc\\xe0\\xbd\\x84\\xe0\\xbc\\x8b\\xe0\\xbd\\x81</a></li>\\n<li><a href=\"//rmy.wikipedia.org/\" lang=\"rmy\">Romani</a></li>\\n<li><a href=\"//rn.wikipedia.org/\" lang=\"rn\">Kirundi</a></li>\\n<li><a href=\"//sm.wikipedia.org/\" lang=\"sm\">Gagana S\\xc4\\x81moa</a></li>\\n<li><a href=\"//sg.wikipedia.org/\" lang=\"sg\">S\\xc3\\xa4ng\\xc3\\xb6</a></li>\\n<li><a href=\"//st.wikipedia.org/\" lang=\"st\">Sesotho</a></li>\\n<li><a href=\"//tn.wikipedia.org/\" lang=\"tn\">Setswana</a></li>\\n<li><a href=\"//cu.wikipedia.org/\" lang=\"cu\" title=\"Slov\\xc4\\x9bn\\xc4\\xadsk\\xc5\\xad\">\\xd0\\xa1\\xd0\\xbb\\xd0\\xbe\\xd0\\xb2\\xd1\\xa3\\xcc\\x81\\xd0\\xbd\\xd1\\x8c\\xd1\\x81\\xd0\\xba\\xd1\\x8a / \\xe2\\xb0\\x94\\xe2\\xb0\\x8e\\xe2\\xb0\\x91\\xe2\\xb0\\x82\\xe2\\xb0\\xa1\\xe2\\xb0\\x90\\xe2\\xb0\\xa0\\xe2\\xb0\\x94\\xe2\\xb0\\x8d\\xe2\\xb0\\x9f</a></li>\\n<li><a href=\"//ss.wikipedia.org/\" lang=\"ss\">SiSwati</a></li>\\n<li><a href=\"//chr.wikipedia.org/\" lang=\"chr\" title=\"Tsalagi\">\\xe1\\x8f\\xa3\\xe1\\x8e\\xb3\\xe1\\x8e\\xa9</a></li>\\n<li><a href=\"//chy.wikipedia.org/\" lang=\"chy\">Ts\\xc4\\x97hesen\\xc4\\x97stsestotse</a></li>\\n<li><a href=\"//ve.wikipedia.org/\" lang=\"ve\">Tshiven\\xe1\\xb8\\x93a</a></li>\\n<li><a href=\"//ts.wikipedia.org/\" lang=\"ts\">Xitsonga</a></li>\\n<li><a href=\"//tum.wikipedia.org/\" lang=\"tum\">chiTumbuka</a></li>\\n<li><a href=\"//tw.wikipedia.org/\" lang=\"tw\">Twi</a></li>\\n<li><a href=\"//ti.wikipedia.org/\" lang=\"ti\" title=\"T\\xc9\\x99g\\xc9\\x99r\\xc9\\x99\\xc3\\xb1a\">\\xe1\\x89\\xb5\\xe1\\x8c\\x8d\\xe1\\x88\\xad\\xe1\\x8a\\x9b</a></li>\\n<li><a href=\"//nqo.wikipedia.org/\" lang=\"nqo\" title=\"N&#x27;Ko\">\\xdf\\x92\\xdf\\x9e\\xdf\\x8f</a></li>\\n</ul>\\n</div>\\n<!-- Other languages -->\\n<div class=\"langlist langlist-others hlist\" data-el-section=\"other languages\">\\n<ul>\\n<li><a href=\"//meta.wikimedia.org/wiki/List_of_Wikipedias\" lang=\"en\">Other languages</a></li>\\n<li><a href=\"//de.wikipedia.org/wiki/Wikipedia:Sprachen\" lang=\"de\">Weitere Sprachen</a></li>\\n<li><a href=\"//meta.wikimedia.org/wiki/Liste_des_Wikip%C3%A9dias\" lang=\"fr\">Autres langues</a></li>\\n<li><a href=\"//pl.wikipedia.org/wiki/Wikipedia:Lista_wersji_j%C4%99zykowych\" lang=\"pl\">Kompletna lista j\\xc4\\x99zyk\\xc3\\xb3w</a></li>\\n<li><a href=\"//ja.wikipedia.org/wiki/Wikipedia:%E5%A4%9A%E8%A8%80%E8%AA%9E%E3%83%97%E3%83%AD%E3%82%B8%E3%82%A7%E3%82%AF%E3%83%88%E3%81%A8%E3%81%97%E3%81%A6%E3%81%AE%E3%82%A6%E3%82%A3%E3%82%AD%E3%83%9A%E3%83%87%E3%82%A3%E3%82%A2\" lang=\"ja\">\\xe4\\xbb\\x96\\xe3\\x81\\xae\\xe8\\xa8\\x80\\xe8\\xaa\\x9e</a></li>\\n<li><a href=\"//meta.wikimedia.org/wiki/Lista_de_Wikipedias\" lang=\"es\">Otros idiomas</a></li>\\n<li><a href=\"//zh.wikipedia.org/wiki/Wikipedia:%E7%BB%B4%E5%9F%BA%E7%99%BE%E7%A7%91%E8%AF%AD%E8%A8%80%E5%88%97%E8%A1%A8\" lang=\"zh\" data-convert-hans=\"\\xe5\\x85\\xb6\\xe4\\xbb\\x96\\xe8\\xaf\\xad\\xe8\\xa8\\x80\" id=\"zh_others\">\\xe5\\x85\\xb6\\xe4\\xbb\\x96\\xe8\\xaa\\x9e\\xe8\\xa8\\x80</a></li>\\n<li><a href=\"//ru.wikipedia.org/wiki/%D0%92%D0%B8%D0%BA%D0%B8%D0%BF%D0%B5%D0%B4%D0%B8%D1%8F:%D0%A1%D0%92\" lang=\"ru\">\\xd0\\x94\\xd1\\x80\\xd1\\x83\\xd0\\xb3\\xd0\\xb8\\xd0\\xb5 \\xd1\\x8f\\xd0\\xb7\\xd1\\x8b\\xd0\\xba\\xd0\\xb8</a></li>\\n<li><a href=\"//eo.wikipedia.org/wiki/Vikipedio:Internacia_Vikipedio\" lang=\"eo\">Aliaj lingvoj</a></li>\\n<li><a href=\"//meta.wikimedia.org/wiki/%EC%9C%84%ED%82%A4%EB%B0%B1%EA%B3%BC%EC%9D%98_%EB%AA%A9%EB%A1%9D\" lang=\"ko\">\\xeb\\x8b\\xa4\\xeb\\xa5\\xb8 \\xec\\x96\\xb8\\xec\\x96\\xb4</a></li>\\n<li><a href=\"//vi.wikipedia.org/wiki/Wikipedia:Phi%C3%AAn_b%E1%BA%A3n_ng%C3%B4n_ng%E1%BB%AF\" lang=\"vi\">Ng\\xc3\\xb4n ng\\xe1\\xbb\\xaf kh\\xc3\\xa1c</a></li>\\n</ul>\\n</div>\\n</div>\\n</div>\\n<hr>\\n<div class=\"footer\" data-el-section=\"other projects\">\\n<div class=\"footer-sidebar\">\\n<div class=\"footer-sidebar-content\">\\n<div class=\"footer-sidebar-icon sprite svg-Wikimedia-logo_black\">\\n</div>\\n<div class=\"footer-sidebar-text jsl10n\" data-jsl10n=\"footer-description\">\\nWikipedia is hosted by the <a href=\"//wikimediafoundation.org/\">Wikimedia Foundation</a>, a non-profit organization that also hosts a range of other projects.\\n</div>\\n</div>\\n</div>\\n<div class=\"footer-sidebar app-badges\">\\n<div class=\"footer-sidebar-content\">\\n<div class=\"footer-sidebar-text\">\\n<div class=\"footer-sidebar-icon sprite svg-wikipedia_app_tile\"></div>\\n<strong class=\"jsl10n\" data-jsl10n=\"app-links.title\">\\n<a class=\"jsl10n\" data-jsl10n=\"app-links.url\" href=\"https://en.wikipedia.org/wiki/List_of_Wikipedia_mobile_applications\">\\nDownload Wikipedia for Android or iOS\\n</a>\\n</strong>\\n<p class=\"jsl10n\" data-jsl10n=\"app-links.description\">\\nSave your favorite articles to read offline, sync your reading lists across devices and customize your reading experience with the official Wikipedia app.\\n</p>\\n<ul>\\n<li class=\"app-badge app-badge-android\">\\n<a target=\"_blank\" href=\"//play.google.com/store/apps/details?id=org.wikipedia&referrer=utm_source%3Dportal%26utm_medium%3Dbutton%26anid%3Dadmob\">\\n<span class=\"sprite svg-badge_google_play_store\">\\n</span></a>\\n</li>\\n<li class=\"app-badge app-badge-ios\">\\n<a target=\"_blank\" href=\"//itunes.apple.com/app/apple-store/id324715238?pt=208305&ct=portal&mt=8\">\\n<span class=\"sprite svg-badge_ios_app_store\">\\n</span></a>\\n</li>\\n</ul>\\n</div>\\n</div>\\n</div>\\n<div class=\"other-projects\">\\n<div class=\"other-project\">\\n<a class=\"other-project-link\" href=\"//commons.wikimedia.org/\">\\n<div class=\"other-project-icon\">\\n<div class=\"sprite svg-Commons-logo_sister\"></div>\\n</div>\\n<div class=\"other-project-text\">\\n<span class=\"other-project-title jsl10n\" data-jsl10n=\"commons.name\">Commons</span>\\n<span class=\"other-project-tagline jsl10n\" data-jsl10n=\"commons.slogan\">Freely usable photos &amp; more</span>\\n</div>\\n</a>\\n</div>\\n<div class=\"other-project\">\\n<a class=\"other-project-link\" href=\"//www.wikivoyage.org/\">\\n<div class=\"other-project-icon\">\\n<div class=\"sprite svg-Wikivoyage-logo_sister\"></div>\\n</div>\\n<div class=\"other-project-text\">\\n<span class=\"other-project-title jsl10n\" data-jsl10n=\"wikivoyage.name\">Wikivoyage</span>\\n<span class=\"other-project-tagline jsl10n\" data-jsl10n=\"wikivoyage.slogan\">Free travel guide</span>\\n</div>\\n</a>\\n</div>\\n<div class=\"other-project\">\\n<a class=\"other-project-link\" href=\"//www.wiktionary.org/\">\\n<div class=\"other-project-icon\">\\n<div class=\"sprite svg-Wiktionary-logo_sister\"></div>\\n</div>\\n<div class=\"other-project-text\">\\n<span class=\"other-project-title jsl10n\" data-jsl10n=\"wiktionary.name\">Wiktionary</span>\\n<span class=\"other-project-tagline jsl10n\" data-jsl10n=\"wiktionary.slogan\">Free dictionary</span>\\n</div>\\n</a>\\n</div>\\n<div class=\"other-project\">\\n<a class=\"other-project-link\" href=\"//www.wikibooks.org/\">\\n<div class=\"other-project-icon\">\\n<div class=\"sprite svg-Wikibooks-logo_sister\"></div>\\n</div>\\n<div class=\"other-project-text\">\\n<span class=\"other-project-title jsl10n\" data-jsl10n=\"wikibooks.name\">Wikibooks</span>\\n<span class=\"other-project-tagline jsl10n\" data-jsl10n=\"wikibooks.slogan\">Free textbooks</span>\\n</div>\\n</a>\\n</div>\\n<div class=\"other-project\">\\n<a class=\"other-project-link\" href=\"//www.wikinews.org/\">\\n<div class=\"other-project-icon\">\\n<div class=\"sprite svg-Wikinews-logo_sister\"></div>\\n</div>\\n<div class=\"other-project-text\">\\n<span class=\"other-project-title jsl10n\" data-jsl10n=\"wikinews.name\">Wikinews</span>\\n<span class=\"other-project-tagline jsl10n\" data-jsl10n=\"wikinews.slogan\">Free news source</span>\\n</div>\\n</a>\\n</div>\\n<div class=\"other-project\">\\n<a class=\"other-project-link\" href=\"//www.wikidata.org/\">\\n<div class=\"other-project-icon\">\\n<div class=\"sprite svg-Wikidata-logo_sister\"></div>\\n</div>\\n<div class=\"other-project-text\">\\n<span class=\"other-project-title jsl10n\" data-jsl10n=\"wikidata.name\">Wikidata</span>\\n<span class=\"other-project-tagline jsl10n\" data-jsl10n=\"wikidata.slogan\">Free knowledge base</span>\\n</div>\\n</a>\\n</div>\\n<div class=\"other-project\">\\n<a class=\"other-project-link\" href=\"//www.wikiversity.org/\">\\n<div class=\"other-project-icon\">\\n<div class=\"sprite svg-Wikiversity-logo_sister\"></div>\\n</div>\\n<div class=\"other-project-text\">\\n<span class=\"other-project-title jsl10n\" data-jsl10n=\"wikiversity.name\">Wikiversity</span>\\n<span class=\"other-project-tagline jsl10n\" data-jsl10n=\"wikiversity.slogan\">Free course materials</span>\\n</div>\\n</a>\\n</div>\\n<div class=\"other-project\">\\n<a class=\"other-project-link\" href=\"//www.wikiquote.org/\">\\n<div class=\"other-project-icon\">\\n<div class=\"sprite svg-Wikiquote-logo_sister\"></div>\\n</div>\\n<div class=\"other-project-text\">\\n<span class=\"other-project-title jsl10n\" data-jsl10n=\"wikiquote.name\">Wikiquote</span>\\n<span class=\"other-project-tagline jsl10n\" data-jsl10n=\"wikiquote.slogan\">Free quote compendium</span>\\n</div>\\n</a>\\n</div>\\n<div class=\"other-project\">\\n<a class=\"other-project-link\" href=\"//www.mediawiki.org/\">\\n<div class=\"other-project-icon\">\\n<div class=\"sprite svg-MediaWiki-logo_sister\"></div>\\n</div>\\n<div class=\"other-project-text\">\\n<span class=\"other-project-title jsl10n\" data-jsl10n=\"mediawiki.name\">MediaWiki</span>\\n<span class=\"other-project-tagline jsl10n\" data-jsl10n=\"mediawiki.slogan\">Free &amp; open wiki application</span>\\n</div>\\n</a>\\n</div>\\n<div class=\"other-project\">\\n<a class=\"other-project-link\" href=\"//www.wikisource.org/\">\\n<div class=\"other-project-icon\">\\n<div class=\"sprite svg-Wikisource-logo_sister\"></div>\\n</div>\\n<div class=\"other-project-text\">\\n<span class=\"other-project-title jsl10n\" data-jsl10n=\"wikisource.name\">Wikisource</span>\\n<span class=\"other-project-tagline jsl10n\" data-jsl10n=\"wikisource.slogan\">Free library</span>\\n</div>\\n</a>\\n</div>\\n<div class=\"other-project\">\\n<a class=\"other-project-link\" href=\"//species.wikimedia.org/\">\\n<div class=\"other-project-icon\">\\n<div class=\"sprite svg-Wikispecies-logo_sister\"></div>\\n</div>\\n<div class=\"other-project-text\">\\n<span class=\"other-project-title jsl10n\" data-jsl10n=\"wikispecies.name\">Wikispecies</span>\\n<span class=\"other-project-tagline jsl10n\" data-jsl10n=\"wikispecies.slogan\">Free species directory</span>\\n</div>\\n</a>\\n</div>\\n<div class=\"other-project\">\\n<a class=\"other-project-link\" href=\"//meta.wikimedia.org/\">\\n<div class=\"other-project-icon\">\\n<div class=\"sprite svg-Meta-Wiki-logo_sister\"></div>\\n</div>\\n<div class=\"other-project-text\">\\n<span class=\"other-project-title jsl10n\" data-jsl10n=\"metawiki.name\">Meta-Wiki</span>\\n<span class=\"other-project-tagline jsl10n\" data-jsl10n=\"metawiki.slogan\">Community coordination &amp; documentation</span>\\n</div>\\n</a>\\n</div>\\n</div>\\n</div>\\n<p class=\"site-license\">\\n<small class=\"jsl10n\" data-jsl10n=\"license\">This page is available under the <a href=\"https://creativecommons.org/licenses/by-sa/3.0/\">Creative Commons Attribution-ShareAlike License</a></small>\\n<small class=\"jsl10n\" data-jsl10n=\"terms\"><a href=\"//meta.wikimedia.org/wiki/Terms_of_Use\">Terms of Use</a></small>\\n<small class=\"jsl10n\" data-jsl10n=\"Privacy Policy\"><a href=\"//meta.wikimedia.org/wiki/Privacy_policy\">Privacy Policy</a></small>\\n</p>\\n<![if gt IE 7]>\\n<script>\\nvar rtlLangs = [\\'ar\\',\\'arc\\',\\'arz\\',\\'bcc\\',\\'bgn\\',\\'bqi\\',\\'ckb\\',\\'dv\\',\\'fa\\',\\'glk\\',\\'he\\',\\'kk-cn\\',\\'kk-arab\\',\\'khw\\',\\'ks\\',\\'ku-arab\\',\\'lki\\',\\'lrc\\',\\'luz\\',\\'mzn\\',\\'nqo\\',\\'pnb\\',\\'ps\\',\\'sd\\',\\'sdh\\',\\'ug\\',\\'ur\\',\\'yi\\'],\\n    translationsHash = \\'8e4dbe68\\',\\n    /*\\n     This object is used by l10n scripts (page-localized.js, topten-localized.js)\\n     to reveal the page content after l10n json is loaded.\\n     A timer is also set to prevent JS from hiding page content indefinitelty.\\n     This script is inlined to safeguard againt script loading errors and placed\\n     at the top of the page to safeguard against any HTML loading/parsing errors.\\n    */\\n    wmL10nVisible = {\\n        ready: false,\\n        makeVisible: function(){\\n            if ( !wmL10nVisible.ready ) {\\n                wmL10nVisible.ready = true;\\n                document.body.className += \\' jsl10n-visible\\';\\n            }\\n        }\\n    };\\n    window.setTimeout( wmL10nVisible.makeVisible, 1000 )\\n</script>\\n<script src=\"portal/wikipedia.org/assets/js/index-0875d644b5.js\"></script>\\n<![endif]>\\n<![if gt IE 9]>\\n<script src=\"portal/wikipedia.org/assets/js/gt-ie9-eb680c4142.js\"></script>\\n<![endif]>\\n<![if lte IE 9]>\\n<style>\\n.styled-select {\\n        display: block;\\n    }\\n</style>\\n<![endif]>\\n<!--[if lte IE 9]>\\n<style>\\n    .langlist > ul {\\n        text-align: center;\\n    }\\n    .langlist > ul > li {\\n        display: inline;\\n        padding: 0 0.5em;\\n    }\\n</style>\\n<![endif]-->\\n</body>\\n</html>\\n'"
            ]
          },
          "metadata": {
            "tags": []
          },
          "execution_count": 16
        }
      ]
    },
    {
      "cell_type": "code",
      "metadata": {
        "id": "WNO-CpLeIFIY",
        "colab_type": "code",
        "colab": {
          "base_uri": "https://localhost:8080/",
          "height": 54
        },
        "outputId": "222e0da5-a159-4ef0-e4de-fb87995ee595"
      },
      "source": [
        "'''Extracting HTML using requests'''\n",
        "import requests\n",
        "url = 'https://www.wikipedia.org'\n",
        "r = requests.get(url)\n",
        "text = r.text\n",
        "text"
      ],
      "execution_count": 17,
      "outputs": [
        {
          "output_type": "execute_result",
          "data": {
            "text/plain": [
              "'<!DOCTYPE html>\\n<html lang=\"mul\" class=\"no-js\">\\n<head>\\n<meta charset=\"utf-8\">\\n<title>Wikipedia</title>\\n<meta name=\"description\" content=\"Wikipedia is a free online encyclopedia, created and edited by volunteers around the world and hosted by the Wikimedia Foundation.\">\\n<![if gt IE 7]>\\n<script>\\ndocument.documentElement.className = document.documentElement.className.replace( /(^|\\\\s)no-js(\\\\s|$)/, \"$1js-enabled$2\" );\\n</script>\\n<![endif]>\\n<!--[if lt IE 7]><meta http-equiv=\"imagetoolbar\" content=\"no\"><![endif]-->\\n<meta name=\"viewport\" content=\"initial-scale=1,user-scalable=yes\">\\n<link rel=\"apple-touch-icon\" href=\"/static/apple-touch/wikipedia.png\">\\n<link rel=\"shortcut icon\" href=\"/static/favicon/wikipedia.ico\">\\n<link rel=\"license\" href=\"//creativecommons.org/licenses/by-sa/3.0/\">\\n<style>\\n.sprite{background-image:url(portal/wikipedia.org/assets/img/sprite-81a290a5.png);background-image:linear-gradient(transparent,transparent),url(portal/wikipedia.org/assets/img/sprite-81a290a5.svg);background-repeat:no-repeat;display:inline-block;vertical-align:middle}.svg-Commons-logo_sister{background-position:0 0;width:47px;height:47px}.svg-MediaWiki-logo_sister{background-position:0 -47px;width:42px;height:42px}.svg-Meta-Wiki-logo_sister{background-position:0 -89px;width:37px;height:37px}.svg-Wikibooks-logo_sister{background-position:0 -126px;width:37px;height:37px}.svg-Wikidata-logo_sister{background-position:0 -163px;width:49px;height:49px}.svg-Wikimedia-logo_black{background-position:0 -212px;width:42px;height:42px}.svg-Wikipedia_wordmark{background-position:0 -254px;width:176px;height:32px}.svg-Wikiquote-logo_sister{background-position:0 -286px;width:42px;height:42px}.svg-Wikisource-logo_sister{background-position:0 -328px;width:39px;height:39px}.svg-Wikispecies-logo_sister{background-position:0 -367px;width:42px;height:42px}.svg-Wikiversity-logo_sister{background-position:0 -409px;width:43px;height:37px}.svg-Wikivoyage-logo_sister{background-position:0 -446px;width:36px;height:36px}.svg-Wiktionary-logo_sister{background-position:0 -482px;width:37px;height:37px}.svg-arrow-down{background-position:0 -519px;width:12px;height:8px}.svg-arrow-down-blue{background-position:0 -527px;width:12px;height:8px}.svg-badge_google_play_store{background-position:0 -535px;width:124px;height:38px}.svg-badge_ios_app_store{background-position:0 -573px;width:110px;height:38px}.svg-noimage{background-position:0 -611px;width:58px;height:58px}.svg-search-icon{background-position:0 -669px;width:22px;height:22px}.svg-translate-icon{background-position:0 -691px;width:25px;height:18px}.svg-wikipedia_app_tile{background-position:0 -709px;width:42px;height:42px}\\n</style>\\n<style>\\nhtml{font-family:sans-serif;-ms-text-size-adjust:100%;-webkit-text-size-adjust:100%;font-size:62.5%}body{margin:0}article,aside,details,figcaption,figure,footer,header,hgroup,main,menu,nav,section,summary{display:block}audio,canvas,progress,video{display:inline-block;vertical-align:baseline}audio:not([controls]){display:none;height:0}[hidden],template{display:none}a{background-color:transparent}a:active,a:hover{outline:0}abbr[title]{border-bottom:1px dotted}b,strong{font-weight:700}dfn{font-style:italic}h1{font-size:32px;font-size:3.2rem;margin:10.7px 0;margin:1.07rem 0}mark{background:#fc3;color:#000}small{font-size:12px;font-size:1.2rem}sub,sup{font-size:75%;line-height:0;position:relative;vertical-align:baseline}sup{top:-.5em}sub{bottom:-.25em}svg:not(:root){overflow:hidden}figure{margin:16px 40px;margin:1.6rem 4rem}hr{box-sizing:content-box}pre{overflow:auto}code,kbd,pre,samp{font-family:monospace,monospace;font-size:14px;font-size:1.4rem}button,input,optgroup,select,textarea{color:inherit;font:inherit;margin:0}button{overflow:visible}button,select{text-transform:none}button,html input[type=button],input[type=reset],input[type=submit]{-webkit-appearance:button;cursor:pointer}button[disabled],html input[disabled]{cursor:default}button::-moz-focus-inner,input::-moz-focus-inner{border:0;padding:0}input{line-height:normal}input[type=checkbox],input[type=radio]{box-sizing:border-box;padding:0}input[type=number]::-webkit-inner-spin-button,input[type=number]::-webkit-outer-spin-button{height:auto}input[type=search]{-webkit-appearance:none;box-sizing:content-box}input[type=search]::-webkit-search-cancel-button,input[type=search]::-webkit-search-decoration{-webkit-appearance:none}input[type=search]:focus{outline-offset:-2px}fieldset{border:1px solid silver;margin:0 2px;margin:0 .2rem;padding:5.6px 10px 12px;padding:.56rem 1rem 1.2rem}legend{border:0;padding:0}textarea{overflow:auto}optgroup{font-weight:700}table{border-collapse:collapse;border-spacing:0}td,th{padding:0}.hidden,[hidden]{display:none!important}.screen-reader-text{display:block;position:absolute!important;clip:rect(1px,1px,1px,1px);width:1px;height:1px;margin:-1px;border:0;padding:0;overflow:hidden}body{background-color:#fff;font-family:-apple-system,BlinkMacSystemFont,Segoe UI,Roboto,Lato,Helvetica,Arial,sans-serif;font-size:14px;font-size:1.4rem;line-height:1.5;margin:4px 0;margin:.4rem 0}a{-ms-touch-action:manipulation;touch-action:manipulation}a,a:active,a:focus{unicode-bidi:embed;outline:0;color:#36c;text-decoration:none}a:focus{outline:1px solid #36c}a:hover{text-decoration:underline}img{vertical-align:middle}hr,img{border:0}hr{clear:both;height:0;border-bottom:1px solid #c8ccd1;margin:2.6px 13px;margin:.26rem 1.3rem}.pure-button{display:inline-block;zoom:1;line-height:normal;white-space:nowrap;text-align:center;cursor:pointer;-webkit-user-drag:none;-webkit-user-select:none;-moz-user-select:none;-ms-user-select:none;user-select:none;box-sizing:border-box;background-color:#f8f9fa;color:#222;position:relative;min-height:19.2px;min-height:1.92rem;min-width:16px;min-width:1.6rem;margin:1.6px 0;margin:.16rem 0;border:1px solid #a2a9b1;border-radius:2px;padding:8px 16px;padding:.8rem 1.6rem;font-family:inherit;font-size:inherit;font-weight:700;text-decoration:none;vertical-align:top;transition:background .1s ease,color .1s ease,border-color .1s ease,box-shadow .1s ease}.pure-button::-moz-focus-inner{padding:0;border:0}.pure-button-hover,.pure-button:hover{background-color:#fff;border-color:#a2a9b1;color:#444}.pure-button-active,.pure-button:active{background-color:#c8ccd1;border-color:#72777d;color:#000}.pure-button:focus{outline:0;border-color:#36c;box-shadow:inset 0 0 0 1px #36c}.pure-button-primary-progressive{background-color:#36c;border-color:#36c;color:#fff}.pure-button-primary-progressive:hover{background:#447ff5;border-color:#447ff5}.pure-button-primary-progressive:active{background-color:#2a4b8d;border-color:#2a4b8d;box-shadow:none;color:#fff}.pure-button-primary-progressive:focus{box-shadow:inset 0 0 0 1px #36c,inset 0 0 0 2px #fff;border-color:#36c}.pure-form input[type=search]{background-color:#fff;display:inline-block;box-sizing:border-box;border:1px solid #a2a9b1;border-radius:2px;padding:8px;padding:.8rem;box-shadow:inset 0 0 0 1px #fff;vertical-align:middle}.pure-form input:focus:invalid{color:#b32424;border-color:#d33}.pure-form fieldset{margin:0;padding:5.6px 0 12px;padding:.56rem 0 1.2rem;border:0}@media only screen and (max-width:480px){.pure-form input[type=search]{display:block}}.central-textlogo-wrapper{display:inline-block;vertical-align:bottom}.central-textlogo{position:relative;margin:40px auto 5px;margin:4rem auto .5rem;width:270px;font-family:Linux Libertine,Hoefler Text,Georgia,Times New Roman,Times,serif;font-size:30px;font-size:3rem;font-weight:400;line-height:33px;line-height:3.3rem;text-align:center;-ms-font-feature-settings:\"ss05\";font-feature-settings:\"ss05\"}.localized-slogan{display:block;font-family:Linux Libertine,Georgia,Times,serif;font-size:15px;font-size:1.5rem;font-weight:400}.central-textlogo__image{color:transparent;display:inline-block;overflow:hidden;text-indent:-10000px}.central-featured-logo{position:absolute;top:136px;left:35px}@media (max-width:480px){.central-textlogo{position:relative;height:70px;width:auto;margin:0;margin-top:20px;margin-top:2rem;text-align:center;line-height:25px;line-height:2.5rem;text-indent:-10px;text-indent:-1rem}.central-textlogo-wrapper{position:relative;top:2px;text-indent:2px;text-indent:.2rem}.svg-Wikipedia_wordmark{width:150px;height:25px;background-position:0 -218px;background-size:100%}.localized-slogan{font-size:14px;font-size:1.4rem}.central-featured-logo{position:relative;display:inline-block;width:57px;height:auto;left:0;top:0}}@media (max-width:240px){.central-textlogo__image{height:auto}}.central-featured{position:relative;height:325px;height:32.5rem;width:546px;width:54.6rem;max-width:100%;margin:0 auto;text-align:center;vertical-align:middle}.central-featured-lang{position:absolute;width:156px;width:15.6rem}.central-featured-lang .link-box{display:block;padding:0;text-decoration:none;white-space:normal}.central-featured-lang .link-box:hover strong{text-decoration:underline}.central-featured-lang strong{display:block;font-size:16px;font-size:1.6rem}.central-featured-lang small{color:#54595d;display:inline-block;font-size:12px;font-size:1.2rem;line-height:1.6}.central-featured-lang em{font-style:italic}.central-featured-lang .emNonItalicLang{font-style:normal}.lang1{top:0;right:60%}.lang2{top:0;left:60%}.lang3{top:20%;right:70%}.lang4{top:20%;left:70%}.lang5{top:40%;right:72%}.lang6{top:40%;left:72%}.lang7{top:60%;right:70%}.lang8{top:60%;left:70%}.lang9{top:80%;right:60%}.lang10{top:80%;left:60%}@media (max-width:480px){.central-featured{width:auto;height:auto;margin-top:70px;margin-top:7rem;font-size:12px;font-size:1.2rem;text-align:left}.central-featured:after{content:\" \";display:block;visibility:hidden;clear:both;height:0;font-size:0}.central-featured-lang{display:block;float:left;position:relative;top:auto;left:auto;right:auto;box-sizing:border-box;height:64px;height:6.4rem;width:33%;margin:0;padding:0 16px;padding:0 1.6rem;text-align:center}.central-featured-lang,.central-featured-lang strong{font-size:14px;font-size:1.4rem}.central-featured-lang small{font-size:11px;font-size:1.1rem;line-height:1.5}}@media (max-width:375px){.central-featured-lang{font-size:12px;font-size:1.2rem}}@media (max-width:240px){.central-featured-lang{width:100%}}.search-container{float:none;max-width:95%;width:540px;margin:4px auto 19.5px;margin:.4rem auto 1.95rem;text-align:center;vertical-align:middle}.search-container fieldset{word-spacing:-4px}.search-container button{margin:0;border-radius:0 2px 2px 0;padding:8px 16px;padding:.8rem 1.6rem;font-size:16px;font-size:1.6rem;line-height:1.6;vertical-align:middle;z-index:2}.search-container button .svg-search-icon{text-indent:-99990px;text-indent:-9999rem}.search-container input[type=search]::-webkit-search-results-button,.search-container input[type=search]::-webkit-search-results-decoration{-webkit-appearance:none}.search-container input::-webkit-calendar-picker-indicator{display:none}.search-container .sprite.svg-arrow-down{position:absolute;top:7px;top:.7rem;right:6.5px;right:.65rem;margin:0}#searchInput{-webkit-appearance:textfield;width:100%;height:43.2px;height:4.32rem;border-radius:2px 0 0 2px;padding:8px 102.4px 8px 8px;padding:.8rem 10.24rem .8rem .8rem;font-size:16px;font-size:1.6rem;line-height:1.6;transition:background .1s ease,border-color .1s ease,box-shadow .1s ease}#searchInput:hover{border-color:#72777d}#searchInput:focus{border-color:#36c;box-shadow:inset 0 0 0 1px #36c;outline:0}.search-container .search-input{display:inline-block;position:relative;width:73%;vertical-align:top}@media only screen and (max-width:480px){.search-container .pure-form fieldset{margin-left:10px;margin-left:1rem;margin-right:66px;margin-right:6.6rem}.search-container .search-input{width:100%;margin-right:-66px;margin-right:-6.6rem}.search-container .pure-form button{float:right;right:-56px;right:-5.6rem}}.suggestions-dropdown{background-color:#fff;display:inline-block;position:absolute;left:0;z-index:2;margin:0;padding:0;border:1px solid #a2a9b1;border-top:0;box-shadow:0 2px 2px 0 rgba(0,0,0,.25);list-style-type:none;word-spacing:normal}.suggestion-link,.suggestions-dropdown{box-sizing:border-box;width:100%;text-align:left}.suggestion-link{display:block;position:relative;min-height:70px;min-height:7rem;padding:10px 10px 10px 85px;padding:1rem 1rem 1rem 8.5rem;border-bottom:1px solid #eaecf0;color:inherit;text-decoration:none;text-align:initial;white-space:normal}.suggestion-link.active{background-color:#eaf3ff}a.suggestion-link:hover{text-decoration:none}a.suggestion-link:active,a.suggestion-link:focus{outline:0;white-space:normal}.suggestion-thumbnail{background-color:#eaecf0;background-image:url(portal/wikipedia.org/assets/img/noimage.png);background-image:linear-gradient(transparent,transparent),url(\"data:image/svg+xml;charset=utf-8,%3Csvg xmlns=\\'http://www.w3.org/2000/svg\\' viewBox=\\'0 0 56 56\\'%3E%3Cpath fill=\\'%23eee\\' d=\\'M0 0h56v56H0z\\'/%3E%3Cpath fill=\\'%23999\\' d=\\'M36.4 13.5H17.8v24.9c0 1.4.9 2.3 2.3 2.3h18.7v-25c.1-1.4-1-2.2-2.4-2.2zM30.2 17h5.1v6.4h-5.1V17zm-8.8 0h6v1.8h-6V17zm0 4.6h6v1.8h-6v-1.8zm0 15.5v-1.8h13.8v1.8H21.4zm13.8-4.5H21.4v-1.8h13.8v1.8zm0-4.7H21.4v-1.8h13.8v1.8z\\'/%3E%3C/svg%3E\");background-image:linear-gradient(transparent,transparent),url(portal/wikipedia.org/assets/img/noimage.svg) !ie;background-image:-o-linear-gradient(transparent,transparent),url(portal/wikipedia.org/assets/img/noimage.png);background-position:50%;background-repeat:no-repeat;background-size:100% auto;background-size:cover;height:100%;width:70px;width:7rem;position:absolute;top:0;left:0}.suggestion-title{margin:0 0 7.8px;margin:0 0 .78rem;color:#54595d;font-size:16px;font-size:1.6rem;line-height:18.72px;line-height:1.872rem}.suggestion-link.active .suggestion-title{color:#36c}.suggestion-highlight{font-style:normal;text-decoration:underline}.suggestion-description{color:#72777d;margin:0;font-size:13px;font-size:1.3rem;line-height:14.299px;line-height:1.43rem}.styled-select{display:none;position:absolute;top:10px;top:1rem;bottom:12px;bottom:1.2rem;right:12px;right:1.2rem;max-width:95px;max-width:9.5rem;height:24px;height:2.4rem;margin:0;padding:0;border-radius:2px}.styled-select:hover{background-color:#f8f9fa}.styled-select .hide-arrow{right:32px;right:3.2rem;max-width:68px;max-width:6.8rem;height:24px;height:2.4rem;padding:0;overflow:hidden;text-align:right}.styled-select select{background:transparent;display:inline;overflow:hidden;height:24px;height:2.4rem;min-width:110px;min-width:11rem;max-width:110px;max-width:11rem;width:110px;width:11rem;outline:0;box-sizing:border-box;border:0;line-height:19.5px;line-height:1.95rem;-webkit-appearance:none;-moz-appearance:window;text-indent:.01px;text-overflow:\"\";-o-appearance:none!important;opacity:0;-moz-appearance:none;appearance:none;cursor:pointer}.styled-select.no-js{width:95px;width:9.5rem}.styled-select.no-js select{opacity:1;margin:0;padding:0 24px 0 8px;padding:0 2.4rem 0 .8rem;color:#54595d}.styled-select.no-js .hide-arrow{width:68px;width:6.8rem}.search-container .styled-select.no-js .js-langpicker-label{display:none}.styled-select.js-enabled .hide-arrow{padding:0 24px 0 8px;padding:0 2.4rem 0 .8rem}.styled-select.js-enabled select{background:transparent;position:absolute;top:0;left:0;height:100%;z-index:1;width:100%;border:0;margin:0;padding:0 24px;padding:0 2.4rem;color:transparent;color:hsla(0,0%,100%,0)}.styled-select.js-enabled select option{color:#54595d}.styled-select.js-enabled select:hover{background-color:transparent}.styled-select-active-helper{display:none}.styled-select.js-enabled select:focus+.styled-select-active-helper{display:block;position:absolute;top:0;left:0;z-index:0;width:100%;height:100%;outline:1px solid #36c}.search-container .js-langpicker-label{display:inline-block;margin:0;color:#54595d;font-size:13px;font-size:1.3rem;line-height:24px;line-height:2.4rem;text-transform:uppercase}.styled-select select:hover{background-color:#f8f9fa}.styled-select select::-ms-expand{display:none}.styled-select select:focus{outline:0;box-shadow:none}@-moz-document url-prefix(){.styled-select select{width:110%}}.other-projects{display:inline-block;width:65%}.other-project{float:left;position:relative;width:33%;height:90px;height:9rem}.other-project-link{display:inline-block;min-height:50px;width:100%;white-space:nowrap}a.other-project-link{text-decoration:none}.other-project-icon{display:inline-block;width:50px;text-align:center}.svg-Wikinews-logo_sister{background-image:url(portal/wikipedia.org/assets/img/Wikinews-logo_sister.png);background-position:0 0;background-size:47px 26px;width:47px;height:26px}@media (-webkit-min-device-pixel-ratio:1.25),(min-resolution:120dpi){.svg-Wikinews-logo_sister{background-image:url(portal/wikipedia.org/assets/img/Wikinews-logo_sister@2x.png)}}.other-project-text,.other-project .sprite-project-logos{display:inline-block}.other-project-text{max-width:65%;font-size:14px;font-size:1.4rem;vertical-align:middle;white-space:normal}.other-project-tagline,.other-project-title{display:block}.other-project-tagline{color:#54595d;font-size:12px;font-size:1.2rem}@media screen and (max-width:768px){.other-projects{width:100%}.other-project{width:33%}}@media screen and (max-width:480px){.other-project{width:50%}}@media screen and (max-width:320px){.other-project-text{margin-right:5px;font-size:11.52px;font-size:1.152rem}.other-project-tagline{font-size:10.944px;font-size:1.0944rem}}.lang-list-container{background-color:#f8f9fa;overflow:hidden;position:relative;box-sizing:border-box;max-height:0;width:80%;margin:-16px auto 48px;margin:-1.6rem auto 4.8rem;transition:max-height .5s ease-out,visibility .5s ease-in 1s}.js-enabled .lang-list-container{visibility:hidden}.lang-list-active .lang-list-container,.no-js .lang-list-container{visibility:visible;max-height:10000px;transition:max-height 1s ease-in .2s,visibility 1000s ease-in 0ms}.no-js .lang-list-button{display:none}.lang-list-button-wrapper{text-align:center}.lang-list-button{background-color:#f8f9fa;display:inline;position:relative;z-index:1;margin:0 auto;padding:6.4px 12.8px;padding:.64rem 1.28rem;outline:16px solid #fff;outline:1.6rem solid #fff;border:1px solid #a2a9b1;border-radius:2px;color:#36c;font-size:13px;font-size:1.3rem;font-weight:400;line-height:1;transition:outline-width .1s ease-in .5s}.lang-list-button:hover{background-color:#fff;border-color:#a2a9b1}.lang-list-button:focus{border-color:#36c;box-shadow:inset 0 0 0 1px #36c}.lang-list-active .lang-list-button{background-color:#fff;outline:1px solid #fff;border-color:#72777d;transition-delay:0s}.lang-list-button-text{padding:0 6.4px;padding:0 .64rem;vertical-align:middle}.lang-list-button i{display:inline-block;vertical-align:middle}.no-js .lang-list-border,.no-js .lang-list-button{display:none}.lang-list-border{background-color:#c8ccd1;display:block;position:relative;max-width:460px;width:80%;margin:-16px auto 16px;margin:-1.6rem auto 1.6rem;height:1px;transition:max-width .2s ease-out 400s}.lang-list-active .lang-list-border{max-width:85%;transition-delay:0s}.no-js .lang-list-content{padding:0}.lang-list-content{position:relative;box-sizing:border-box;width:100%;padding:16px 16px 0;padding:1.6rem 1.6rem 0}.svg-arrow-down-blue{transition:transform .2s ease-out}.lang-list-active .svg-arrow-down-blue{transform:rotate(180deg)}.langlist{width:auto;margin:16px 0;margin:1.6rem 0;text-align:left}.langlist-others{font-weight:700}.hlist ul{margin:0;padding:0}.hlist li,.hlist ul ul{display:inline}.hlist li:before{content:\" Â· \";font-weight:700}.hlist li:first-child:before{content:none}.hlist li>ul:before{content:\"\\\\00a0(\"}.hlist li>ul:after{content:\") \"}.langlist>ul{column-width:11.2rem}.langlist>ul>li{display:block;line-height:1.7;break-inside:avoid}.no-js .langlist>ul{text-align:center;list-style-type:circle}.no-js .langlist>ul>li{display:inline-block;padding:0 8px;padding:0 .8rem}.langlist>ul>li:before{content:none}.langlist>ul>li a{white-space:normal}.langlist-others>ul{text-align:center;column-count:1}.langlist-others>ul li{display:inline}.langlist-others>ul li:before{content:\" Â· \"}.langlist-others>ul li:first-child:before{content:none}@media (max-width:480px){.langlist{font-size:inherit}.langlist a{word-wrap:break-word;white-space:normal}.lang-list-container{width:auto;margin-left:8px;margin-left:.8rem;margin-right:8px;margin-right:.8rem}.bookshelf{overflow:visible}}.bookshelf{display:block;border-top:1px solid #c8ccd1;box-shadow:0 -1px 0 #fff;text-align:center;white-space:nowrap}.bookshelf .text{background-color:#f8f9fa;position:relative;top:-11.2px;top:-1.12rem;font-weight:400;padding:0 9.92px;padding:0 .992rem}.bookshelf-container{display:block;overflow:visible;height:1px;width:100%;margin:24px 0 16px;margin:2.4rem 0 1.6rem;font-size:13px;font-size:1.3rem;font-weight:700;line-height:20px;line-height:2rem}@media (max-width:480px){.bookshelf{width:auto;left:auto}.bookshelf-container{text-align:left;width:auto}}.app-badges .footer-sidebar-content{background-color:#f8f9fa}.app-badges .footer-sidebar-text{padding-top:8px;padding-top:.8rem;padding-bottom:8px;padding-bottom:.8rem}.app-badges .sprite.footer-sidebar-icon{top:8px;top:.8rem}.app-badges ul{margin:0;padding:0;list-style-type:none}.app-badge{display:inline-block}@media screen and (max-width:768px){.app-badges .footer-sidebar-content{text-align:center}.app-badges .sprite.footer-sidebar-icon{display:inline-block;position:relative;margin:0;top:-3px;left:0;vertical-align:middle;transform:scale(.7)}}.footer{overflow:hidden;max-width:100%;margin:0 auto;padding:41.6px 12.8px 12.8px;padding:4.16rem 1.28rem 1.28rem;font-size:13px;font-size:1.3rem}.footer:after,.footer:before{content:\" \";display:table}.footer:after{clear:both}.footer-sidebar{width:35%;float:left;clear:left;margin-bottom:32px;margin-bottom:3.2rem;vertical-align:top}.footer-sidebar-content{position:relative;max-width:350px;margin:0 auto}.sprite.footer-sidebar-icon{position:absolute;top:0;left:8px;left:.8rem}.footer-sidebar-text{position:relative;margin:0;padding-left:60px;padding-left:6rem;padding-right:20px;padding-right:2rem;color:#54595d}.site-license{margin:0;color:#54595d;text-align:center}.site-license small:after{content:\"\\\\2022\";display:inline-block;font-size:13px;font-size:1.3rem;line-height:inherit;margin-left:8px;margin-left:.8rem;margin-right:5px;margin-right:.5rem}.site-license small:last-child:after{display:none}@media screen and (max-width:768px){.footer{display:-ms-flexbox;display:flex;-ms-flex-direction:column;flex-direction:column;padding-top:12.8px;padding-top:1.28rem}.footer .footer-sidebar{-ms-flex-order:1;order:1}.footer .other-projects{-ms-flex-order:2;order:2}.footer .app-badges{-ms-flex-order:3;order:3}.footer-sidebar{width:100%}.sprite.footer-sidebar-icon{display:block;position:relative;left:0;margin:0 auto 12.8px;margin:0 auto 1.28rem}.footer-sidebar-content{max-width:none}.footer-sidebar-text{margin:0;padding:0;text-align:center}}@media screen and (max-width:480px){.footer{padding:9.6px 6.4px 12.8px;padding:.96rem .64rem 1.28rem}}@media (max-width:480px){.search-container{margin-top:0;height:78px;height:7.8rem;position:absolute;top:90px;top:9rem;left:0;right:0;max-width:100%;width:auto;padding:0;text-align:left}.search-container label{display:none}.search-form #searchInput{max-width:40%;vertical-align:middle}.search-form .formBtn{max-width:25%;vertical-align:middle}form fieldset{margin:0;border-left:0;border-right:0}hr{margin-top:6.5px;margin-top:.65rem}}@media (-webkit-min-device-pixel-ratio:2),(min--moz-device-pixel-ratio:2),(min-resolution:2dppx),(min-resolution:192dpi){hr{border-bottom-width:.5px}}@supports (-webkit-marquee-style:slide){hr{border-bottom-width:1px}}.js-enabled .central-featured,.js-enabled .jsl10n{visibility:hidden}.jsl10n-visible .central-featured,.jsl10n-visible .jsl10n{visibility:visible}.otherprojects-icon{*zoom:1;*display:inline}.suggestion-item{*width:auto}.search-container button{*display:inline}#searchInput{*padding:8px 0 0 8px;*width:90%;*height:34px}#search-input{*display:inline}.langlist ul{*text-align:center}.langlist ul li{*display:inline!important;*padding-left:5px;*padding-right:5px}@media print{body{background-color:transparent}a{color:#000!important;background:none!important;padding:0!important}a:link,a:visited{color:#520;background:transparent}img{border:0}}\\n</style>\\n<link rel=\"preload\" as=\"image\" href=\"portal/wikipedia.org/assets/img/sprite-81a290a5.svg\">\\n<link rel=\"preconnect\" href=\"//upload.wikimedia.org\">\\n</head>\\n<body id=\"www-wikipedia-org\">\\n<h1 class=\"central-textlogo\" style=\"font-size: 1em;\" title=\"Wikipedia\">\\n<img class=\"central-featured-logo\" src=\"portal/wikipedia.org/assets/img/Wikipedia-logo-v2.png\" srcset=\"portal/wikipedia.org/assets/img/Wikipedia-logo-v2@1.5x.png 1.5x, portal/wikipedia.org/assets/img/Wikipedia-logo-v2@2x.png 2x\" width=\"200\" height=\"183\" alt=\"Wikipedia\">\\n<div class=\"central-textlogo-wrapper\">\\n<div class=\"central-textlogo__image sprite svg-Wikipedia_wordmark\">\\nWikipedia\\n</div>\\n<strong class=\"jsl10n localized-slogan\" data-jsl10n=\"slogan\">The Free Encyclopedia</strong>\\n</div>\\n</h1>\\n<!-- container div for the central logo and the links to the most viewed language editions -->\\n<div class=\"central-featured\" data-el-section=\"primary links\">\\n<!-- Rankings from http://stats.wikimedia.org/EN/Sitemap.htm -->\\n<!-- Article counts from http://meta.wikimedia.org/wiki/List_of_Wikipedias/Table -->\\n<!-- #1. en.wikipedia.org - 2 139 518 000 views/day -->\\n<div class=\"central-featured-lang lang1\" lang=\"en\" dir=\"ltr\">\\n<a id=\"js-link-box-en\" href=\"//en.wikipedia.org/\" title=\"English â\\x80\\x94 Wikipedia â\\x80\\x94 The Free Encyclopedia\" class=\"link-box\" data-slogan=\"The Free Encyclopedia\">\\n<strong>English</strong>\\n<small><bdi dir=\"ltr\">6&nbsp;050&nbsp;000+</bdi> <span>articles</span></small>\\n</a>\\n</div>\\n<!-- #2. es.wikipedia.org - 324 863 000 views/day -->\\n<div class=\"central-featured-lang lang2\" lang=\"es\" dir=\"ltr\">\\n<a id=\"js-link-box-es\" href=\"//es.wikipedia.org/\" title=\"EspaÃ±ol â\\x80\\x94 Wikipedia â\\x80\\x94 La enciclopedia libre\" class=\"link-box\" data-slogan=\"La enciclopedia libre\">\\n<strong>EspaÃ±ol</strong>\\n<small><bdi dir=\"ltr\">1&nbsp;588&nbsp;000+</bdi> <span>artÃ\\xadculos</span></small>\\n</a>\\n</div>\\n<!-- #3. ja.wikipedia.org - 248 047 000 views/day -->\\n<div class=\"central-featured-lang lang3\" lang=\"ja\" dir=\"ltr\">\\n<a id=\"js-link-box-ja\" href=\"//ja.wikipedia.org/\" title=\"Nihongo â\\x80\\x94 ã\\x82¦ã\\x82£ã\\x82\\xadã\\x83\\x9aã\\x83\\x87ã\\x82£ã\\x82¢ â\\x80\\x94 ã\\x83\\x95ã\\x83ªã\\x83¼ç\\x99¾ç§\\x91äº\\x8bå\\x85¸\" class=\"link-box\" data-slogan=\"ã\\x83\\x95ã\\x83ªã\\x83¼ç\\x99¾ç§\\x91äº\\x8bå\\x85¸\">\\n<strong>æ\\x97¥æ\\x9c¬èª\\x9e</strong>\\n<small><bdi dir=\"ltr\">1&nbsp;198&nbsp;000+</bdi> <span>è¨\\x98äº\\x8b</span></small>\\n</a>\\n</div>\\n<!-- #4. de.wikipedia.org - 245 145 000 views/day -->\\n<div class=\"central-featured-lang lang4\" lang=\"de\" dir=\"ltr\">\\n<a id=\"js-link-box-de\" href=\"//de.wikipedia.org/\" title=\"Deutsch â\\x80\\x94 Wikipedia â\\x80\\x94 Die freie EnzyklopÃ¤die\" class=\"link-box\" data-slogan=\"Die freie EnzyklopÃ¤die\">\\n<strong>Deutsch</strong>\\n<small><bdi dir=\"ltr\">2&nbsp;416&nbsp;000+</bdi> <span>Artikel</span></small>\\n</a>\\n</div>\\n<!-- #5. fr.wikipedia.org - 211 049 000 views/day -->\\n<div class=\"central-featured-lang lang5\" lang=\"fr\" dir=\"ltr\">\\n<a id=\"js-link-box-fr\" href=\"//fr.wikipedia.org/\" title=\"FranÃ§ais â\\x80\\x94 WikipÃ©dia â\\x80\\x94 Lâ\\x80\\x99encyclopÃ©die libre\" class=\"link-box\" data-slogan=\"Lâ\\x80\\x99encyclopÃ©die libre\">\\n<strong>FranÃ§ais</strong>\\n<small><bdi dir=\"ltr\">2&nbsp;197&nbsp;000+</bdi> <span>articles</span></small>\\n</a>\\n</div>\\n<!-- #6. ru.wikipedia.org - 205 643 000 views/day -->\\n<div class=\"central-featured-lang lang6\" lang=\"ru\" dir=\"ltr\">\\n<a id=\"js-link-box-ru\" href=\"//ru.wikipedia.org/\" title=\"Russkiy â\\x80\\x94 Ð\\x92Ð¸ÐºÐ¸Ð¿ÐµÐ´Ð¸Ñ\\x8f â\\x80\\x94 Ð¡Ð²Ð¾Ð±Ð¾Ð´Ð½Ð°Ñ\\x8f Ñ\\x8dÐ½Ñ\\x86Ð¸ÐºÐ»Ð¾Ð¿ÐµÐ´Ð¸Ñ\\x8f\" class=\"link-box\" data-slogan=\"Ð¡Ð²Ð¾Ð±Ð¾Ð´Ð½Ð°Ñ\\x8f Ñ\\x8dÐ½Ñ\\x86Ð¸ÐºÐ»Ð¾Ð¿ÐµÐ´Ð¸Ñ\\x8f\">\\n<strong>Ð\\xa0Ñ\\x83Ñ\\x81Ñ\\x81ÐºÐ¸Ð¹</strong>\\n<small><bdi dir=\"ltr\">1&nbsp;611&nbsp;000+</bdi> <span>Ñ\\x81Ñ\\x82Ð°Ñ\\x82ÐµÐ¹</span></small>\\n</a>\\n</div>\\n<!-- #7. it.wikipedia.org - 180 029 000 views/day -->\\n<div class=\"central-featured-lang lang7\" lang=\"it\" dir=\"ltr\">\\n<a id=\"js-link-box-it\" href=\"//it.wikipedia.org/\" title=\"Italiano â\\x80\\x94 Wikipedia â\\x80\\x94 L&#x27;enciclopedia libera\" class=\"link-box\" data-slogan=\"L&#x27;enciclopedia libera\">\\n<strong>Italiano</strong>\\n<small><bdi dir=\"ltr\">1&nbsp;595&nbsp;000+</bdi> <span>voci</span></small>\\n</a>\\n</div>\\n<!-- #8. zh.wikipedia.org - 103 278 000 views/day -->\\n<div class=\"central-featured-lang lang8\" lang=\"zh\" dir=\"ltr\">\\n<a id=\"js-link-box-zh\" href=\"//zh.wikipedia.org/\" title=\"ZhÅ\\x8dngwÃ©n â\\x80\\x94 ç¶\\xadå\\x9fºç\\x99¾ç§\\x91 â\\x80\\x94 è\\x87ªç\\x94±ç\\x9a\\x84ç\\x99¾ç§\\x91å\\x85¨æ\\x9b¸\" class=\"link-box\" data-converttitle-hans=\"ZhÅ\\x8dngwÃ©n â\\x80\\x94 ç»´å\\x9fºç\\x99¾ç§\\x91 â\\x80\\x94 è\\x87ªç\\x94±ç\\x9a\\x84ç\\x99¾ç§\\x91å\\x85¨ä¹¦\" data-slogan=\"è\\x87ªç\\x94±ç\\x9a\\x84ç\\x99¾ç§\\x91å\\x85¨æ\\x9b¸\">\\n<strong>ä¸\\xadæ\\x96\\x87</strong>\\n<small><bdi dir=\"ltr\">1&nbsp;109&nbsp;000+</bdi> <span data-convert-hans=\"æ\\x9d¡ç\\x9b®\" id=\"zh_art\">æ¢\\x9dç\\x9b®</span></small>\\n</a>\\n</div>\\n<!-- #9. pt.wikipedia.org - 93 554 000 views/day -->\\n<div class=\"central-featured-lang lang9\" lang=\"pt\" dir=\"ltr\">\\n<a id=\"js-link-box-pt\" href=\"//pt.wikipedia.org/\" title=\"PortuguÃªs â\\x80\\x94 WikipÃ©dia â\\x80\\x94 A enciclopÃ©dia livre\" class=\"link-box\" data-slogan=\"A enciclopÃ©dia livre\">\\n<strong>PortuguÃªs</strong>\\n<small><bdi dir=\"ltr\">1&nbsp;027&nbsp;000+</bdi> <span>artigos</span></small>\\n</a>\\n</div>\\n<!-- #10. pl.wikipedia.org - 79 547 000 views/day -->\\n<div class=\"central-featured-lang lang10\" lang=\"pl\" dir=\"ltr\">\\n<a id=\"js-link-box-pl\" href=\"//pl.wikipedia.org/\" title=\"Polski â\\x80\\x94 Wikipedia â\\x80\\x94 Wolna encyklopedia\" class=\"link-box\" data-slogan=\"Wolna encyklopedia\">\\n<strong>Polski</strong>\\n<small><bdi dir=\"ltr\">1&nbsp;399&nbsp;000+</bdi> <span>haseÅ\\x82</span></small>\\n</a>\\n</div>\\n</div>\\n<!-- Search form -->\\n<div class=\"search-container\">\\n<form class=\"pure-form\" id=\"search-form\" action=\"//www.wikipedia.org/search-redirect.php\" data-el-section=\"search\">\\n<fieldset>\\n<!-- search-redirect.php is project-independent, requires a family -->\\n<input type=\"hidden\" name=\"family\" value=\"wikipedia\">\\n<input type=\"hidden\" id=\"hiddenLanguageInput\" name=\"language\" value=\"en\">\\n<div class=\"search-input\" id=\"search-input\">\\n<label for=\"searchInput\" class=\"screen-reader-text\" data-jsl10n=\"search-input-label\">Search Wikipedia</label>\\n<input id=\"searchInput\" name=\"search\" type=\"search\" size=\"20\" autofocus=\"autofocus\" accesskey=\"F\" dir=\"auto\" autocomplete=\"off\" list=\"suggestions\">\\n<div class=\"styled-select no-js\">\\n<div class=\"hide-arrow\">\\n<select id=\"searchLanguage\" name=\"language\">\\n<!-- 100,000+ content pages, sorted by romanization -->\\n<option value=\"ar\" lang=\"ar\">Ø§Ù\\x84Ø¹Ø±Ø¨Ù\\x8aØ©</option><!-- Al-Ê¿ArabÄ«yah -->\\n<option value=\"ast\" lang=\"ast\">Asturianu</option>\\n<option value=\"az\" lang=\"az\">AzÉ\\x99rbaycanca</option>\\n<option value=\"bg\" lang=\"bg\">Ð\\x91Ñ\\x8aÐ»Ð³Ð°Ñ\\x80Ñ\\x81ÐºÐ¸</option><!-- BÇ\\x8elgarski -->\\n<option value=\"nan\" lang=\"nan\">BÃ¢n-lÃ¢m-gÃº / HÅ\\x8d-lÃ³-oÄ\\x93</option>\\n<option value=\"be\" lang=\"be\">Ð\\x91ÐµÐ»Ð°Ñ\\x80Ñ\\x83Ñ\\x81ÐºÐ°Ñ\\x8f</option><!-- Belaruskaya -->\\n<option value=\"ca\" lang=\"ca\">CatalÃ\\xa0</option>\\n<option value=\"cs\" lang=\"cs\">Ä\\x8ceÅ¡tina</option><!-- Ä\\x8deÅ¡tina -->\\n<option value=\"da\" lang=\"da\">Dansk</option>\\n<option value=\"de\" lang=\"de\">Deutsch</option>\\n<option value=\"et\" lang=\"et\">Eesti</option>\\n<option value=\"el\" lang=\"el\">Î\\x95Î»Î»Î·Î½Î¹ÎºÎ¬</option><!-- EllÄ«nikÃ¡ -->\\n<option value=\"en\" lang=\"en\" selected=selected>English</option><!-- English -->\\n<option value=\"es\" lang=\"es\">EspaÃ±ol</option>\\n<option value=\"eo\" lang=\"eo\">Esperanto</option>\\n<option value=\"eu\" lang=\"eu\">Euskara</option>\\n<option value=\"fa\" lang=\"fa\">Ù\\x81Ø§Ø±Ø³Û\\x8c</option><!-- FÄ\\x81rsi -->\\n<option value=\"fr\" lang=\"fr\">FranÃ§ais</option>\\n<option value=\"gl\" lang=\"gl\">Galego</option>\\n<option value=\"hy\" lang=\"hy\">Õ\\x80Õ¡ÕµÕ¥Ö\\x80Õ¥Õ¶</option><!-- Hayeren -->\\n<option value=\"hi\" lang=\"hi\">à¤¹à¤¿à¤¨à¥\\x8dà¤¦à¥\\x80</option><!-- HindÄ« -->\\n<option value=\"hr\" lang=\"hr\">Hrvatski</option>\\n<option value=\"id\" lang=\"id\">Bahasa Indonesia</option>\\n<option value=\"it\" lang=\"it\">Italiano</option>\\n<option value=\"he\" lang=\"he\">×¢×\\x91×¨×\\x99×ª</option><!-- Ê¿Ivrit -->\\n<option value=\"ka\" lang=\"ka\">á\\x83¥á\\x83\\x90á\\x83\\xa0á\\x83\\x97á\\x83£á\\x83\\x9aá\\x83\\x98</option><!-- Kartuli -->\\n<option value=\"la\" lang=\"la\">Latina</option>\\n<option value=\"lv\" lang=\"lv\">LatvieÅ¡u</option>\\n<option value=\"lt\" lang=\"lt\">LietuviÅ³</option>\\n<option value=\"hu\" lang=\"hu\">Magyar</option>\\n<option value=\"mk\" lang=\"mk\">Ð\\x9cÐ°ÐºÐµÐ´Ð¾Ð½Ñ\\x81ÐºÐ¸</option><!-- Makedonski -->\\n<option value=\"arz\" lang=\"arz\">Ù\\x85ØµØ±Ù\\x89</option><!-- Maá¹£rÄ« -->\\n<option value=\"ms\" lang=\"ms\">Bahasa Melayu</option>\\n<option value=\"min\" lang=\"min\">Bahaso Minangkabau</option>\\n<option value=\"nl\" lang=\"nl\">Nederlands</option>\\n<option value=\"ja\" lang=\"ja\">æ\\x97¥æ\\x9c¬èª\\x9e</option><!-- Nihongo -->\\n<option value=\"no\" lang=\"nb\">Norsk (bokmÃ¥l)</option>\\n<option value=\"nn\" lang=\"nn\">Norsk (nynorsk)</option>\\n<option value=\"ce\" lang=\"ce\">Ð\\x9dÐ¾Ñ\\x85Ñ\\x87Ð¸Ð¹Ð½</option><!-- NoxÃ§iyn -->\\n<option value=\"uz\" lang=\"uz\">OÊ»zbekcha / Ð\\x8eÐ·Ð±ÐµÐºÑ\\x87Ð°</option>\\n<option value=\"pl\" lang=\"pl\">Polski</option>\\n<option value=\"pt\" lang=\"pt\">PortuguÃªs</option>\\n<option value=\"kk\" lang=\"kk\">Ò\\x9aÐ°Ð·Ð°Ò\\x9bÑ\\x88Ð° / QazaqÅ\\x9fa / Ù\\x82Ø§Ø²Ø§Ù\\x82Ø´Ø§</option>\\n<option value=\"ro\" lang=\"ro\">RomÃ¢nÄ\\x83</option>\\n<option value=\"ru\" lang=\"ru\">Ð\\xa0Ñ\\x83Ñ\\x81Ñ\\x81ÐºÐ¸Ð¹</option><!-- Russkiy -->\\n<option value=\"cy\" lang=\"cy\">Cymraeg</option><!-- Saesneg -->\\n<option value=\"simple\" lang=\"en\">Simple English</option>\\n<option value=\"ceb\" lang=\"ceb\">Sinugboanong Binisaya</option>\\n<option value=\"sk\" lang=\"sk\">SlovenÄ\\x8dina</option>\\n<option value=\"sl\" lang=\"sl\">SlovenÅ¡Ä\\x8dina</option>\\n<option value=\"sr\" lang=\"sr\">Ð¡Ñ\\x80Ð¿Ñ\\x81ÐºÐ¸ / Srpski</option>\\n<option value=\"sh\" lang=\"sh\">Srpskohrvatski / Ð¡Ñ\\x80Ð¿Ñ\\x81ÐºÐ¾Ñ\\x85Ñ\\x80Ð²Ð°Ñ\\x82Ñ\\x81ÐºÐ¸</option>\\n<option value=\"fi\" lang=\"fi\">Suomi</option><!-- suomi -->\\n<option value=\"sv\" lang=\"sv\">Svenska</option>\\n<option value=\"ta\" lang=\"ta\">à®¤à®®à®¿à®´à¯\\x8d</option><!-- Tamiá¸» -->\\n<option value=\"th\" lang=\"th\">à¸\\xa0à¸²à¸©à¸²à¹\\x84à¸\\x97à¸¢</option><!-- Phasa Thai -->\\n<option value=\"tg\" lang=\"tg\">Ð¢Ð¾Ò·Ð¸ÐºÓ£</option><!-- TojikÄ« -->\\n<option value=\"azb\" lang=\"azb\">ØªÛ\\x86Ø±Ú©Ø¬Ù\\x87</option><!-- TÃ¼rkce -->\\n<option value=\"tr\" lang=\"tr\">TÃ¼rkÃ§e</option><!-- TÃ¼rkÃ§e -->\\n<option value=\"uk\" lang=\"uk\">Ð£ÐºÑ\\x80Ð°Ñ\\x97Ð½Ñ\\x81Ñ\\x8cÐºÐ°</option><!-- Ukrayinsâ\\x80\\x99ka -->\\n<option value=\"ur\" lang=\"ur\">Ø§Ø±Ø¯Ù\\x88</option><!-- Urdu -->\\n<option value=\"vi\" lang=\"vi\">Tiáº¿ng Viá»\\x87t</option>\\n<option value=\"vo\" lang=\"vo\">VolapÃ¼k</option>\\n<option value=\"war\" lang=\"war\">Winaray</option>\\n<option value=\"zh\" lang=\"zh\">ä¸\\xadæ\\x96\\x87</option><!-- ZhÅ\\x8dngwÃ©n -->\\n<option value=\"ko\" lang=\"ko\">í\\x95\\x9cêµ\\xadì\\x96´</option><!-- Hangugeo -->\\n</select>\\n<div class=\"styled-select-active-helper\"></div>\\n</div>\\n<i class=\"sprite svg-arrow-down\"></i>\\n</div>\\n</div>\\n<button class=\"pure-button pure-button-primary-progressive\" type=\"submit\">\\n<i class=\"sprite svg-search-icon\" data-jsl10n=\"search-input-button\">Search</i>\\n</button>\\n<input type=\"hidden\" value=\"Go\" name=\"go\">\\n</fieldset>\\n</form>\\n</div>\\n<div class=\"lang-list-button-wrapper\">\\n<button id=\"js-lang-list-button\" class=\"lang-list-button\">\\n<i class=\"sprite svg-translate-icon\"></i>\\n<span class=\"lang-list-button-text jsl10n\" data-jsl10n=\"language-button-text\">Read Wikipedia in your language </span>\\n<i class=\"sprite svg-arrow-down-blue\"></i>\\n</button>\\n</div>\\n<div class=\"lang-list-border\"></div>\\n<div class=\"lang-list-container\">\\n<div id=\"js-lang-lists\" class=\"lang-list-content\">\\n<!-- Bookshelves -->\\n<h2 class=\"bookshelf-container\">\\n<span class=\"bookshelf\">\\n<span class=\"text\">\\n<bdi dir=\"ltr\">\\n1&nbsp;000&nbsp;000+\\n</bdi>\\n<span class=\"jsl10n\" data-jsl10n=\"entries\">\\narticles\\n</span>\\n</span>\\n</span>\\n</h2>\\n<!-- 1,000,000+ content pages -->\\n<div class=\"langlist langlist-large hlist\" data-el-section=\"secondary links\">\\n<ul>\\n<li><a href=\"//ar.wikipedia.org/\" lang=\"ar\" title=\"Al-Ê¿ArabÄ«yah\"><bdi dir=\"rtl\">Ø§Ù\\x84Ø¹Ø±Ø¨Ù\\x8aØ©</bdi></a></li>\\n<li><a href=\"//de.wikipedia.org/\" lang=\"de\">Deutsch</a></li>\\n<li><a href=\"//en.wikipedia.org/\" lang=\"en\" title=\"English\">English</a></li>\\n<li><a href=\"//es.wikipedia.org/\" lang=\"es\">EspaÃ±ol</a></li>\\n<li><a href=\"//fr.wikipedia.org/\" lang=\"fr\">FranÃ§ais</a></li>\\n<li><a href=\"//it.wikipedia.org/\" lang=\"it\">Italiano</a></li>\\n<li><a href=\"//nl.wikipedia.org/\" lang=\"nl\">Nederlands</a></li>\\n<li><a href=\"//ja.wikipedia.org/\" lang=\"ja\" title=\"Nihongo\">æ\\x97¥æ\\x9c¬èª\\x9e</a></li>\\n<li><a href=\"//pl.wikipedia.org/\" lang=\"pl\">Polski</a></li>\\n<li><a href=\"//pt.wikipedia.org/\" lang=\"pt\">PortuguÃªs</a></li>\\n<li><a href=\"//ru.wikipedia.org/\" lang=\"ru\" title=\"Russkiy\">Ð\\xa0Ñ\\x83Ñ\\x81Ñ\\x81ÐºÐ¸Ð¹</a></li>\\n<li><a href=\"//ceb.wikipedia.org/\" lang=\"ceb\">Sinugboanong Binisaya</a></li>\\n<li><a href=\"//sv.wikipedia.org/\" lang=\"sv\">Svenska</a></li>\\n<li><a href=\"//uk.wikipedia.org/\" lang=\"uk\" title=\"Ukrayinsâ\\x80\\x99ka\">Ð£ÐºÑ\\x80Ð°Ñ\\x97Ð½Ñ\\x81Ñ\\x8cÐºÐ°</a></li>\\n<li><a href=\"//vi.wikipedia.org/\" lang=\"vi\">Tiáº¿ng Viá»\\x87t</a></li>\\n<li><a href=\"//war.wikipedia.org/\" lang=\"war\">Winaray</a></li>\\n<li><a href=\"//zh.wikipedia.org/\" lang=\"zh\" title=\"ZhÅ\\x8dngwÃ©n\">ä¸\\xadæ\\x96\\x87</a></li>\\n</ul>\\n</div>\\n<!-- Bookshelves -->\\n<h2 class=\"bookshelf-container\">\\n<span class=\"bookshelf\">\\n<span class=\"text\">\\n<bdi dir=\"ltr\">\\n100&nbsp;000+\\n</bdi>\\n<span class=\"jsl10n\" data-jsl10n=\"entries\">\\narticles\\n</span>\\n</span>\\n</span>\\n</h2>\\n<!-- 100,000+ content pages -->\\n<div class=\"langlist langlist-large hlist\" data-el-section=\"secondary links\">\\n<ul>\\n<li><a href=\"//ast.wikipedia.org/\" lang=\"ast\">Asturianu</a></li>\\n<li><a href=\"//az.wikipedia.org/\" lang=\"az\">AzÉ\\x99rbaycanca</a></li>\\n<li><a href=\"//bg.wikipedia.org/\" lang=\"bg\" title=\"BÇ\\x8elgarski\">Ð\\x91Ñ\\x8aÐ»Ð³Ð°Ñ\\x80Ñ\\x81ÐºÐ¸</a></li>\\n<li><a href=\"//zh-min-nan.wikipedia.org/\" lang=\"nan\">BÃ¢n-lÃ¢m-gÃº / HÅ\\x8d-lÃ³-oÄ\\x93</a></li>\\n<li><a href=\"//be.wikipedia.org/\" lang=\"be\" title=\"Belaruskaya\">Ð\\x91ÐµÐ»Ð°Ñ\\x80Ñ\\x83Ñ\\x81ÐºÐ°Ñ\\x8f</a></li>\\n<li><a href=\"//ca.wikipedia.org/\" lang=\"ca\">CatalÃ\\xa0</a></li>\\n<li><a href=\"//cs.wikipedia.org/\" lang=\"cs\" title=\"Ä\\x8deÅ¡tina\">Ä\\x8ceÅ¡tina</a></li>\\n<li><a href=\"//da.wikipedia.org/\" lang=\"da\">Dansk</a></li>\\n<li><a href=\"//et.wikipedia.org/\" lang=\"et\">Eesti</a></li>\\n<li><a href=\"//el.wikipedia.org/\" lang=\"el\" title=\"EllÄ«nikÃ¡\">Î\\x95Î»Î»Î·Î½Î¹ÎºÎ¬</a></li>\\n<li><a href=\"//eo.wikipedia.org/\" lang=\"eo\">Esperanto</a></li>\\n<li><a href=\"//eu.wikipedia.org/\" lang=\"eu\">Euskara</a></li>\\n<li><a href=\"//fa.wikipedia.org/\" lang=\"fa\" title=\"FÄ\\x81rsi\"><bdi dir=\"rtl\">Ù\\x81Ø§Ø±Ø³Û\\x8c</bdi></a></li>\\n<li><a href=\"//gl.wikipedia.org/\" lang=\"gl\">Galego</a></li>\\n<li><a href=\"//hy.wikipedia.org/\" lang=\"hy\" title=\"Hayeren\">Õ\\x80Õ¡ÕµÕ¥Ö\\x80Õ¥Õ¶</a></li>\\n<li><a href=\"//hi.wikipedia.org/\" lang=\"hi\" title=\"HindÄ«\">à¤¹à¤¿à¤¨à¥\\x8dà¤¦à¥\\x80</a></li>\\n<li><a href=\"//hr.wikipedia.org/\" lang=\"hr\">Hrvatski</a></li>\\n<li><a href=\"//id.wikipedia.org/\" lang=\"id\">Bahasa Indonesia</a></li>\\n<li><a href=\"//he.wikipedia.org/\" lang=\"he\" title=\"Ê¿Ivrit\"><bdi dir=\"rtl\">×¢×\\x91×¨×\\x99×ª</bdi></a></li>\\n<li><a href=\"//ka.wikipedia.org/\" lang=\"ka\" title=\"Kartuli\">á\\x83¥á\\x83\\x90á\\x83\\xa0á\\x83\\x97á\\x83£á\\x83\\x9aá\\x83\\x98</a></li>\\n<li><a href=\"//la.wikipedia.org/\" lang=\"la\">Latina</a></li>\\n<li><a href=\"//lv.wikipedia.org/\" lang=\"lv\">LatvieÅ¡u</a></li>\\n<li><a href=\"//lt.wikipedia.org/\" lang=\"lt\">LietuviÅ³</a></li>\\n<li><a href=\"//hu.wikipedia.org/\" lang=\"hu\">Magyar</a></li>\\n<li><a href=\"//mk.wikipedia.org/\" lang=\"mk\" title=\"Makedonski\">Ð\\x9cÐ°ÐºÐµÐ´Ð¾Ð½Ñ\\x81ÐºÐ¸</a></li>\\n<li><a href=\"//arz.wikipedia.org/\" lang=\"arz\" title=\"Maá¹£rÄ«\"><bdi dir=\"rtl\">Ù\\x85ØµØ±Ù\\x89</bdi></a></li>\\n<li><a href=\"//ms.wikipedia.org/\" lang=\"ms\">Bahasa Melayu</a></li>\\n<li><a href=\"//min.wikipedia.org/\" lang=\"min\">Bahaso Minangkabau</a></li>\\n<li lang=\"no\">Norsk<ul><li><a href=\"//no.wikipedia.org/\" lang=\"nb\">bokmÃ¥l</a></li><li><a href=\"//nn.wikipedia.org/\" lang=\"nn\">nynorsk</a></li></ul></li>\\n<li><a href=\"//ce.wikipedia.org/\" lang=\"ce\" title=\"NoxÃ§iyn\">Ð\\x9dÐ¾Ñ\\x85Ñ\\x87Ð¸Ð¹Ð½</a></li>\\n<li><a href=\"//uz.wikipedia.org/\" lang=\"uz\">OÊ»zbekcha / Ð\\x8eÐ·Ð±ÐµÐºÑ\\x87Ð°</a></li>\\n<li><a href=\"//kk.wikipedia.org/\" lang=\"kk\"><span lang=\"kk-Cyrl\">Ò\\x9aÐ°Ð·Ð°Ò\\x9bÑ\\x88Ð°</span> / <span lang=\"kk-Latn\">QazaqÅ\\x9fa</span> / <bdi lang=\"kk-Arab\" dir=\"rtl\">Ù\\x82Ø§Ø²Ø§Ù\\x82Ø´Ø§</bdi></a></li>\\n<li><a href=\"//ro.wikipedia.org/\" lang=\"ro\">RomÃ¢nÄ\\x83</a></li>\\n<li><a href=\"//cy.wikipedia.org/\" lang=\"cy\" title=\"Saesneg\">Cymraeg</a></li>\\n<li><a href=\"//simple.wikipedia.org/\" lang=\"en\">Simple English</a></li>\\n<li><a href=\"//sk.wikipedia.org/\" lang=\"sk\">SlovenÄ\\x8dina</a></li>\\n<li><a href=\"//sl.wikipedia.org/\" lang=\"sl\">SlovenÅ¡Ä\\x8dina</a></li>\\n<li><a href=\"//sr.wikipedia.org/\" lang=\"sr\">Ð¡Ñ\\x80Ð¿Ñ\\x81ÐºÐ¸ / Srpski</a></li>\\n<li><a href=\"//sh.wikipedia.org/\" lang=\"sh\">Srpskohrvatski / Ð¡Ñ\\x80Ð¿Ñ\\x81ÐºÐ¾Ñ\\x85Ñ\\x80Ð²Ð°Ñ\\x82Ñ\\x81ÐºÐ¸</a></li>\\n<li><a href=\"//fi.wikipedia.org/\" lang=\"fi\" title=\"suomi\">Suomi</a></li>\\n<li><a href=\"//ta.wikipedia.org/\" lang=\"ta\" title=\"Tamiá¸»\">à®¤à®®à®¿à®´à¯\\x8d</a></li>\\n<li><a href=\"//th.wikipedia.org/\" lang=\"th\" title=\"Phasa Thai\">à¸\\xa0à¸²à¸©à¸²à¹\\x84à¸\\x97à¸¢</a></li>\\n<li><a href=\"//tg.wikipedia.org/\" lang=\"tg\" title=\"TojikÄ«\">Ð¢Ð¾Ò·Ð¸ÐºÓ£</a></li>\\n<li><a href=\"//azb.wikipedia.org/\" lang=\"azb\" title=\"TÃ¼rkce\"><bdi dir=\"rtl\">ØªÛ\\x86Ø±Ú©Ø¬Ù\\x87</bdi></a></li>\\n<li><a href=\"//tr.wikipedia.org/\" lang=\"tr\" title=\"TÃ¼rkÃ§e\">TÃ¼rkÃ§e</a></li>\\n<li><a href=\"//ur.wikipedia.org/\" lang=\"ur\" title=\"Urdu\"><bdi dir=\"rtl\">Ø§Ø±Ø¯Ù\\x88</bdi></a></li>\\n<li><a href=\"//vo.wikipedia.org/\" lang=\"vo\">VolapÃ¼k</a></li>\\n<li><a href=\"//ko.wikipedia.org/\" lang=\"ko\" title=\"Hangugeo\">í\\x95\\x9cêµ\\xadì\\x96´</a></li>\\n</ul>\\n</div>\\n<!-- Bookshelves -->\\n<h2 class=\"bookshelf-container\">\\n<span class=\"bookshelf\">\\n<span class=\"text\">\\n<bdi dir=\"ltr\">\\n10&nbsp;000+\\n</bdi>\\n<span class=\"jsl10n\" data-jsl10n=\"entries\">\\narticles\\n</span>\\n</span>\\n</span>\\n</h2>\\n<!-- 10,000+ content pages -->\\n<div class=\"langlist hlist\" data-el-section=\"secondary links\">\\n<ul>\\n<li><a href=\"//ace.wikipedia.org/\" lang=\"ace\">Bahsa AcÃ¨h</a></li>\\n<li><a href=\"//af.wikipedia.org/\" lang=\"af\">Afrikaans</a></li>\\n<li><a href=\"//als.wikipedia.org/\" lang=\"gsw\">Alemannisch</a></li>\\n<li><a href=\"//am.wikipedia.org/\" lang=\"am\" title=\"Ä\\x80mariÃ±Ã±Ä\\x81\">á\\x8a\\xa0á\\x88\\x9bá\\x88\\xadá\\x8a\\x9b</a></li>\\n<li><a href=\"//an.wikipedia.org/\" lang=\"an\">AragonÃ©s</a></li>\\n<li><a href=\"//bn.wikipedia.org/\" lang=\"bn\" title=\"Bangla\">à¦¬à¦¾à¦\\x82à¦²à¦¾</a></li>\\n<li><a href=\"//map-bms.wikipedia.org/\" lang=\"map-x-bms\">Basa Banyumasan</a></li>\\n<li><a href=\"//ba.wikipedia.org/\" lang=\"ba\" title=\"BaÅ\\x9fqortsa\">Ð\\x91Ð°Ñ\\x88Ò¡Ð¾Ñ\\x80Ñ\\x82Ñ\\x81Ð°</a></li>\\n<li><a href=\"//be-tarask.wikipedia.org/\" lang=\"be\" title=\"Belaruskaya (TaraÅ¡kievica)\">Ð\\x91ÐµÐ»Ð°Ñ\\x80Ñ\\x83Ñ\\x81ÐºÐ°Ñ\\x8f (Ð¢Ð°Ñ\\x80Ð°Ñ\\x88ÐºÐµÐ²Ñ\\x96Ñ\\x86Ð°)</a></li>\\n<li><a href=\"//bcl.wikipedia.org/\" lang=\"bcl\">Bikol Central</a></li>\\n<li><a href=\"//bpy.wikipedia.org/\" lang=\"bpy\" title=\"Bishnupriya Manipuri\">à¦¬à¦¿à¦·à§\\x8dà¦£à§\\x81à¦ªà§\\x8dà¦°à¦¿à¦¯à¦¼à¦¾ à¦®à¦£à¦¿à¦ªà§\\x81à¦°à§\\x80</a></li>\\n<li><a href=\"//bar.wikipedia.org/\" lang=\"bar\">Boarisch</a></li>\\n<li><a href=\"//bs.wikipedia.org/\" lang=\"bs\">Bosanski</a></li>\\n<li><a href=\"//br.wikipedia.org/\" lang=\"br\">Brezhoneg</a></li>\\n<li><a href=\"//cv.wikipedia.org/\" lang=\"cv\" title=\"Ä\\x8cÄ\\x83vaÅ¡la\">Ð§Ó\\x91Ð²Ð°Ñ\\x88Ð»Ð°</a></li>\\n<li><a href=\"//nv.wikipedia.org/\" lang=\"nv\">DinÃ© Bizaad</a></li>\\n<li><a href=\"//eml.wikipedia.org/\" lang=\"roa-x-eml\">EmigliÃ\\xa0nâ\\x80\\x93RumagnÃ²l</a></li>\\n<li><a href=\"//fo.wikipedia.org/\" lang=\"fo\">FÃ¸royskt</a></li>\\n<li><a href=\"//fy.wikipedia.org/\" lang=\"fy\">Frysk</a></li>\\n<li><a href=\"//ga.wikipedia.org/\" lang=\"ga\">Gaeilge</a></li>\\n<li><a href=\"//gd.wikipedia.org/\" lang=\"gd\">GÃ\\xa0idhlig</a></li>\\n<li><a href=\"//gu.wikipedia.org/\" lang=\"gu\" title=\"Gujarati\">àª\\x97à«\\x81àª\\x9càª°àª¾àª¤à«\\x80</a></li>\\n<li><a href=\"//hsb.wikipedia.org/\" lang=\"hsb\">Hornjoserbsce</a></li>\\n<li><a href=\"//io.wikipedia.org/\" lang=\"io\">Ido</a></li>\\n<li><a href=\"//ilo.wikipedia.org/\" lang=\"ilo\">Ilokano</a></li>\\n<li><a href=\"//ia.wikipedia.org/\" lang=\"ia\">Interlingua</a></li>\\n<li><a href=\"//os.wikipedia.org/\" lang=\"os\" title=\"Iron Ã\\x86vzag\">Ð\\x98Ñ\\x80Ð¾Ð½ Ã¦Ð²Ð·Ð°Ð³</a></li>\\n<li><a href=\"//is.wikipedia.org/\" lang=\"is\">Ã\\x8dslenska</a></li>\\n<li><a href=\"//jv.wikipedia.org/\" lang=\"jv\">Jawa</a></li>\\n<li><a href=\"//kn.wikipedia.org/\" lang=\"kn\" title=\"Kannada\">à²\\x95à²¨à³\\x8dà²¨à²¡</a></li>\\n<li><a href=\"//ht.wikipedia.org/\" lang=\"ht\">KreyÃ²l Ayisyen</a></li>\\n<li><a href=\"//ku.wikipedia.org/\" lang=\"ku\"><span lang=\"ku-Latn\">KurdÃ®</span> / <bdi lang=\"ku-Arab\" dir=\"rtl\">Ù\\x83Ù\\x88Ø±Ø¯Û\\x8c</bdi></a></li>\\n<li><a href=\"//ckb.wikipedia.org/\" lang=\"ckb\" title=\"KurdÃ®y NawendÃ®\"><bdi dir=\"rtl\">Ú©Ù\\x88Ø±Ø¯Û\\x8cÛ\\x8c Ù\\x86Ø§Ù\\x88Û\\x95Ù\\x86Ø¯Û\\x8c</bdi></a></li>\\n<li><a href=\"//ky.wikipedia.org/\" lang=\"ky\" title=\"KyrgyzÄ\\x8da\">Ð\\x9aÑ\\x8bÑ\\x80Ð³Ñ\\x8bÐ·Ñ\\x87Ð°</a></li>\\n<li><a href=\"//mrj.wikipedia.org/\" lang=\"mjr\" title=\"Kyryk Mary\">Ð\\x9aÑ\\x8bÑ\\x80Ñ\\x8bÐº Ð\\x9cÐ°Ñ\\x80Ñ\\x8b</a></li>\\n<li><a href=\"//lb.wikipedia.org/\" lang=\"lb\">LÃ«tzebuergesch</a></li>\\n<li><a href=\"//li.wikipedia.org/\" lang=\"li\">Limburgs</a></li>\\n<li><a href=\"//lmo.wikipedia.org/\" lang=\"lmo\">Lumbaart</a></li>\\n<li><a href=\"//mai.wikipedia.org/\" lang=\"mai\" title=\"MaithilÄ«\">à¤®à¥\\x88à¤¥à¤¿à¤²à¥\\x80</a></li>\\n<li><a href=\"//mg.wikipedia.org/\" lang=\"mg\">Malagasy</a></li>\\n<li><a href=\"//ml.wikipedia.org/\" lang=\"ml\" title=\"Malayalam\">à´®à´²à´¯à´¾à´³à´\\x82</a></li>\\n<li><a href=\"//zh-classical.wikipedia.org/\" lang=\"lzh\" title=\"Man4jin4 / WÃ©nyÃ¡n\">æ\\x96\\x87è¨\\x80</a></li>\\n<li><a href=\"//mr.wikipedia.org/\" lang=\"mr\" title=\"Marathi\">à¤®à¤°à¤¾à¤\\xa0à¥\\x80</a></li>\\n<li><a href=\"//xmf.wikipedia.org/\" lang=\"xmf\" title=\"Margaluri\">á\\x83\\x9bá\\x83\\x90á\\x83\\xa0á\\x83\\x92á\\x83\\x90á\\x83\\x9aá\\x83£á\\x83\\xa0á\\x83\\x98</a></li>\\n<li><a href=\"//mzn.wikipedia.org/\" lang=\"mzn\" title=\"MÃ¤zeruni\"><bdi dir=\"rtl\">Ù\\x85Ø§Ø²Ù\\x90Ø±Ù\\x88Ù\\x86Û\\x8c</bdi></a></li>\\n<li><a href=\"//cdo.wikipedia.org/\" lang=\"cdo\" title=\"Ming-deng-ngu\">MÃ¬ng-dÄ\\x95Ì¤ng-ngá¹³Ì\\x84 / é\\x96©æ\\x9d±èª\\x9e</a></li>\\n<li><a href=\"//mn.wikipedia.org/\" lang=\"mn\" title=\"Mongol\">Ð\\x9cÐ¾Ð½Ð³Ð¾Ð»</a></li>\\n<li><a href=\"//my.wikipedia.org/\" lang=\"my\" title=\"Myanmarsar\">á\\x80\\x99á\\x80¼á\\x80\\x94á\\x80ºá\\x80\\x99á\\x80¬á\\x80\\x98á\\x80¬á\\x80\\x9eá\\x80¬</a></li>\\n<li><a href=\"//new.wikipedia.org/\" lang=\"new\" title=\"Nepal Bhasa\">à¤¨à¥\\x87à¤ªà¤¾à¤² à¤\\xadà¤¾à¤·à¤¾</a></li>\\n<li><a href=\"//ne.wikipedia.org/\" lang=\"ne\" title=\"NepÄ\\x81lÄ«\">à¤¨à¥\\x87à¤ªà¤¾à¤²à¥\\x80</a></li>\\n<li><a href=\"//nap.wikipedia.org/\" lang=\"nap\">Nnapulitano</a></li>\\n<li><a href=\"//frr.wikipedia.org/\" lang=\"frr\">Nordfriisk</a></li>\\n<li><a href=\"//oc.wikipedia.org/\" lang=\"oc\">Occitan</a></li>\\n<li><a href=\"//mhr.wikipedia.org/\" lang=\"mhr\" title=\"Olyk Marij\">Ð\\x9cÐ°Ñ\\x80Ð¸Ð¹</a></li>\\n<li><a href=\"//or.wikipedia.org/\" lang=\"or\" title=\"Oá¹\\x9biÄ\\x81\">à¬\\x93à¬¡à¬¿à¬¼à¬\\x86</a></li>\\n<li><a href=\"//pa.wikipedia.org/\" lang=\"pa\" title=\"PaÃ±jÄ\\x81bÄ« (GurmukhÄ«)\">à¨ªà©°à¨\\x9cà¨¾à¨¬à©\\x80 (à¨\\x97à©\\x81à¨°à¨®à©\\x81à¨\\x96à©\\x80)</a></li>\\n<li><a href=\"//pnb.wikipedia.org/\" lang=\"pnb\" title=\"PaÃ±jÄ\\x81bÄ« (ShÄ\\x81hmukhÄ«)\"><bdi dir=\"rtl\">Ù¾Ù\\x86Ø¬Ø§Ø¨Û\\x8c (Ø´Ø§Û\\x81 Ù\\x85Ú©Ú¾Û\\x8c)</bdi></a></li>\\n<li><a href=\"//ps.wikipedia.org/\" lang=\"ps\" title=\"PaÊ\\x82to\"><bdi dir=\"rtl\">Ù¾Ú\\x9aØªÙ\\x88</bdi></a></li>\\n<li><a href=\"//pms.wikipedia.org/\" lang=\"pms\">PiemontÃ¨is</a></li>\\n<li><a href=\"//nds.wikipedia.org/\" lang=\"nds\">PlattdÃ¼Ã¼tsch</a></li>\\n<li><a href=\"//qu.wikipedia.org/\" lang=\"qu\">Runa Simi</a></li>\\n<li><a href=\"//sa.wikipedia.org/\" lang=\"sa\" title=\"Saá¹\\x83ská¹\\x9btam\">à¤¸à¤\\x82à¤¸à¥\\x8dà¤\\x95à¥\\x83à¤¤à¤®à¥\\x8d</a></li>\\n<li><a href=\"//sah.wikipedia.org/\" lang=\"sah\" title=\"Saxa Tyla\">Ð¡Ð°Ñ\\x85Ð° Ð¢Ñ\\x8bÐ»Ð°</a></li>\\n<li><a href=\"//sco.wikipedia.org/\" lang=\"sco\">Scots</a></li>\\n<li><a href=\"//sq.wikipedia.org/\" lang=\"sq\">Shqip</a></li>\\n<li><a href=\"//scn.wikipedia.org/\" lang=\"scn\">Sicilianu</a></li>\\n<li><a href=\"//si.wikipedia.org/\" lang=\"si\" title=\"Siá¹\\x83hala\">à·\\x83à·\\x92à¶\\x82à·\\x84à¶½</a></li>\\n<li><a href=\"//sd.wikipedia.org/\" lang=\"sd\" title=\"SindhÄ«\"><bdi dir=\"rtl\">Ø³Ù\\x86Ú\\x8cÙ\\x8a</bdi></a></li>\\n<li><a href=\"//szl.wikipedia.org/\" lang=\"szl\">Å\\x9alÅ¯nski</a></li>\\n<li><a href=\"//su.wikipedia.org/\" lang=\"su\">Basa Sunda</a></li>\\n<li><a href=\"//sw.wikipedia.org/\" lang=\"sw\">Kiswahili</a></li>\\n<li><a href=\"//tl.wikipedia.org/\" lang=\"tl\">Tagalog</a></li>\\n<li><a href=\"//tt.wikipedia.org/\" lang=\"tt\">Ð¢Ð°Ñ\\x82Ð°Ñ\\x80Ñ\\x87Ð° / TatarÃ§a</a></li>\\n<li><a href=\"//te.wikipedia.org/\" lang=\"te\" title=\"Telugu\">à°¤à±\\x86à°²à±\\x81à°\\x97à±\\x81</a></li>\\n<li><a href=\"//bug.wikipedia.org/\" lang=\"bug\">á¨\\x85á¨\\x94 á¨\\x95á¨\\x99á¨\\x81á¨\\x97 / Basa Ugi</a></li>\\n<li><a href=\"//vec.wikipedia.org/\" lang=\"vec\">VÃ¨neto</a></li>\\n<li><a href=\"//wa.wikipedia.org/\" lang=\"wa\">Walon</a></li>\\n<li><a href=\"//wuu.wikipedia.org/\" lang=\"wuu\" title=\"WÃº YÇ\\x94\" data-convert-hans=\"å\\x90´è¯\\xad\" id=\"wuu_wiki\">å\\x90³èª\\x9e</a></li>\\n<li><a href=\"//yi.wikipedia.org/\" lang=\"yi\" title=\"YidiÅ¡\"><bdi dir=\"rtl\">×\\x99×\\x99Ö´×\\x93×\\x99×©</bdi></a></li>\\n<li><a href=\"//yo.wikipedia.org/\" lang=\"yo\">YorÃ¹bÃ¡</a></li>\\n<li><a href=\"//zh-yue.wikipedia.org/\" lang=\"yue\" title=\"Yuht YÃºh / Jyut6 jyu5\" data-convert-hans=\"ç²¤è¯\\xad\" id=\"zh-yue_wiki\">ç²µèª\\x9e</a></li>\\n<li><a href=\"//diq.wikipedia.org/\" lang=\"diq\" title=\"Zazaki\">Zazaki</a></li>\\n<li><a href=\"//bat-smg.wikipedia.org/\" lang=\"sgs\">Å½emaitÄ\\x97Å¡ka</a></li>\\n</ul>\\n</div>\\n<!-- Bookshelves -->\\n<h2 class=\"bookshelf-container\">\\n<span class=\"bookshelf\">\\n<span class=\"text\">\\n<bdi dir=\"ltr\">\\n1&nbsp;000+\\n</bdi>\\n<span class=\"jsl10n\" data-jsl10n=\"entries\">\\narticles\\n</span>\\n</span>\\n</span>\\n</h2>\\n<!-- 1,000+ content pages -->\\n<div class=\"langlist hlist\" data-el-section=\"secondary links\">\\n<ul>\\n<li><a href=\"//kbd.wikipedia.org/\" lang=\"kbd\" title=\"Adighabze\">Ð\\x90Ð´Ñ\\x8bÐ³Ñ\\x8dÐ±Ð·Ñ\\x8d</a></li>\\n<li><a href=\"//ang.wikipedia.org/\" lang=\"ang\">Ã\\x86nglisc</a></li>\\n<li><a href=\"//ak.wikipedia.org/\" lang=\"ak\">Akan</a></li>\\n<li><a href=\"//ab.wikipedia.org/\" lang=\"ab\" title=\"Aá¹\\x97sua\">Ð\\x90Ò§Ñ\\x81Ñ\\x83Ð°</a></li>\\n<li><a href=\"//hyw.wikipedia.org/\" lang=\"hyw\" title=\"Arevmdahayeren\">Ô±Ö\\x80Õ¥Ö\\x82Õ´Õ¿Õ¡Õ°Õ¡ÕµÕ¥Ö\\x80Õ§Õ¶</a></li>\\n<li><a href=\"//roa-rup.wikipedia.org/\" lang=\"roa-rup\">ArmÃ£neashce</a></li>\\n<li><a href=\"//frp.wikipedia.org/\" lang=\"frp\">Arpitan</a></li>\\n<li><a href=\"//ig.wikipedia.org/\" lang=\"ig\">asá»¥sá»¥ bekee maá»\\x8dbá»¥ asá»¥sá»¥ oyibo</a></li>\\n<li><a href=\"//arc.wikipedia.org/\" lang=\"arc\" title=\"Ä\\x80tÃ»rÄ\\x81yÃ¢\"><bdi dir=\"rtl\">Ü\\x90Ü¬Ü\\x98ÜªÜ\\x9dÜ\\x90</bdi></a></li>\\n<li><a href=\"//gn.wikipedia.org/\" lang=\"gn\">AvaÃ±eâ\\x80\\x99áº½</a></li>\\n<li><a href=\"//av.wikipedia.org/\" lang=\"av\" title=\"Avar\">Ð\\x90Ð²Ð°Ñ\\x80</a></li>\\n<li><a href=\"//ay.wikipedia.org/\" lang=\"ay\">Aymar</a></li>\\n<li><a href=\"//bjn.wikipedia.org/\" lang=\"bjn\">Bahasa Banjar</a></li>\\n<li><a href=\"//bh.wikipedia.org/\" lang=\"bh\" title=\"BhÅ\\x8djapurÄ«\">à¤\\xadà¥\\x8bà¤\\x9cà¤ªà¥\\x81à¤°à¥\\x80</a></li>\\n<li><a href=\"//bi.wikipedia.org/\" lang=\"bi\">Bislama</a></li>\\n<li><a href=\"//bo.wikipedia.org/\" lang=\"bo\" title=\"Bod Skad\">à½\\x96à½¼à½\\x91à¼\\x8bà½¡à½²à½\\x82</a></li>\\n<li><a href=\"//bxr.wikipedia.org/\" lang=\"bxr\" title=\"Buryad\">Ð\\x91Ñ\\x83Ñ\\x80Ñ\\x8fÐ°Ð´</a></li>\\n<li><a href=\"//cbk-zam.wikipedia.org/\" lang=\"cbk-x-zam\">Chavacano de Zamboanga</a></li>\\n<li><a href=\"//co.wikipedia.org/\" lang=\"co\">Corsu</a></li>\\n<li><a href=\"//za.wikipedia.org/\" lang=\"za\">Vahcuengh / è©±å\\x83®</a></li>\\n<li><a href=\"//se.wikipedia.org/\" lang=\"se\">DavvisÃ¡megiella</a></li>\\n<li><a href=\"//pdc.wikipedia.org/\" lang=\"pdc\">Deitsch</a></li>\\n<li><a href=\"//dsb.wikipedia.org/\" lang=\"dsb\">Dolnoserbski</a></li>\\n<li><a href=\"//myv.wikipedia.org/\" lang=\"myv\" title=\"Erzjanj\">Ð\\xadÑ\\x80Ð·Ñ\\x8fÐ½Ñ\\x8c</a></li>\\n<li><a href=\"//ext.wikipedia.org/\" lang=\"ext\">EstremeÃ±u</a></li>\\n<li><a href=\"//hif.wikipedia.org/\" lang=\"hif\">Fiji Hindi</a></li>\\n<li><a href=\"//fur.wikipedia.org/\" lang=\"fur\">Furlan</a></li>\\n<li><a href=\"//gv.wikipedia.org/\" lang=\"gv\">Gaelg</a></li>\\n<li><a href=\"//gag.wikipedia.org/\" lang=\"gag\">Gagauz</a></li>\\n<li><a href=\"//ki.wikipedia.org/\" lang=\"ki\">GÄ©kÅ©yÅ©</a></li>\\n<li><a href=\"//glk.wikipedia.org/\" lang=\"glk\" title=\"GilÉ\\x99ki\"><bdi dir=\"rtl\">Ú¯Û\\x8cÙ\\x84Ú©Û\\x8c</bdi></a></li>\\n<li><a href=\"//gan.wikipedia.org/\" lang=\"gan\" title=\"Gon ua\" data-convert-hans=\"èµ£è¯\\xad\" id=\"gan_wiki\">è´\\x9bèª\\x9e</a></li>\\n<li><a href=\"//hak.wikipedia.org/\" lang=\"hak\">Hak-kÃ¢-ngÃ® / å®¢å®¶èª\\x9e</a></li>\\n<li><a href=\"//xal.wikipedia.org/\" lang=\"xal\" title=\"HalÊ¹mg\">Ð¥Ð°Ð»Ñ\\x8cÐ¼Ð³</a></li>\\n<li><a href=\"//ha.wikipedia.org/\" lang=\"ha\"><span lang=\"ha-Latn\">Hausa</span> / <bdi lang=\"ha-Arab\" dir=\"rtl\">Ù\\x87Ù\\x8eÙ\\x88Ù\\x8fØ³Ù\\x8eØ§</bdi></a></li>\\n<li><a href=\"//haw.wikipedia.org/\" lang=\"haw\">Ê»Å\\x8clelo HawaiÊ»i</a></li>\\n<li><a href=\"//ie.wikipedia.org/\" lang=\"ie\">Interlingue</a></li>\\n<li><a href=\"//kl.wikipedia.org/\" lang=\"kl\">Kalaallisut</a></li>\\n<li><a href=\"//pam.wikipedia.org/\" lang=\"pam\">Kapampangan</a></li>\\n<li><a href=\"//csb.wikipedia.org/\" lang=\"csb\">KaszÃ«bsczi</a></li>\\n<li><a href=\"//kw.wikipedia.org/\" lang=\"kw\">Kernewek</a></li>\\n<li><a href=\"//km.wikipedia.org/\" lang=\"km\" title=\"PhÃ©asa KhmÃ©r\">á\\x9e\\x97á\\x9e¶á\\x9e\\x9fá\\x9e¶á\\x9e\\x81á\\x9f\\x92á\\x9e\\x98á\\x9f\\x82á\\x9e\\x9a</a></li>\\n<li><a href=\"//rw.wikipedia.org/\" lang=\"rw\">Kinyarwanda</a></li>\\n<li><a href=\"//kv.wikipedia.org/\" lang=\"kv\" title=\"Komi\">Ð\\x9aÐ¾Ð¼Ð¸</a></li>\\n<li><a href=\"//kg.wikipedia.org/\" lang=\"kg\">Kongo</a></li>\\n<li><a href=\"//gom.wikipedia.org/\" lang=\"gom\">à¤\\x95à¥\\x8bà¤\\x82à¤\\x95à¤£à¥\\x80 / Konknni</a></li>\\n<li><a href=\"//gcr.wikipedia.org/\" lang=\"gcr\" title=\"KriyÃ²l Gwiyannen\">KriyÃ²l Gwiyannen</a></li>\\n<li><a href=\"//lo.wikipedia.org/\" lang=\"lo\" title=\"Phaasaa Laao\">àº\\x9eàº²àºªàº²àº¥àº²àº§</a></li>\\n<li><a href=\"//lad.wikipedia.org/\" lang=\"lad\" title=\"Ladino\"><span lang=\"lad-Latn\">Dzhudezmo</span> / <bdi lang=\"lad-Hebr\" dir=\"rtl\">×\\x9c×\\x90×\\x93×\\x99×\\xa0×\\x95</bdi></a></li>\\n<li><a href=\"//lbe.wikipedia.org/\" lang=\"lbe\" title=\"LakË\\x90u\">Ð\\x9bÐ°ÐºÐºÑ\\x83</a></li>\\n<li><a href=\"//lez.wikipedia.org/\" lang=\"lez\" title=\"Lezgi\">Ð\\x9bÐµÐ·Ð³Ð¸</a></li>\\n<li><a href=\"//ln.wikipedia.org/\" lang=\"ln\">LingÃ¡la</a></li>\\n<li><a href=\"//jbo.wikipedia.org/\" lang=\"jbo\">lojban</a></li>\\n<li><a href=\"//lrc.wikipedia.org/\" lang=\"lrc\" title=\"LÃ¶riyÃ©-Å\\xa0omÄ\\x81lÄ«\"><bdi dir=\"rtl\">Ù\\x84Û\\x8aØ±Û\\x8c Ø´Ù\\x88Ù\\x85Ø§Ù\\x84Û\\x8c</bdi></a></li>\\n<li><a href=\"//lg.wikipedia.org/\" lang=\"lg\">Luganda</a></li>\\n<li><a href=\"//lij.wikipedia.org/\" lang=\"lij\">LÃ¬gure</a></li>\\n<li><a href=\"//mt.wikipedia.org/\" lang=\"mt\">Malti</a></li>\\n<li><a href=\"//ty.wikipedia.org/\" lang=\"ty\">Reo MÄ\\x81â\\x80\\x99ohi</a></li>\\n<li><a href=\"//mi.wikipedia.org/\" lang=\"mi\">MÄ\\x81ori</a></li>\\n<li><a href=\"//mwl.wikipedia.org/\" lang=\"mwl\">MirandÃ©s</a></li>\\n<li><a href=\"//mdf.wikipedia.org/\" lang=\"mdf\" title=\"MokÅ¡enj\">Ð\\x9cÐ¾ÐºÑ\\x88ÐµÐ½Ñ\\x8c</a></li>\\n<li><a href=\"//nah.wikipedia.org/\" lang=\"nah\">NÄ\\x81huatlahtÅ\\x8dlli</a></li>\\n<li><a href=\"//na.wikipedia.org/\" lang=\"na\">Dorerin Naoero</a></li>\\n<li><a href=\"//nds-nl.wikipedia.org/\" lang=\"nds-nl\">Nedersaksisch</a></li>\\n<li><a href=\"//nrm.wikipedia.org/\" lang=\"roa-x-nrm\">Nouormand / Normaund</a></li>\\n<li><a href=\"//nov.wikipedia.org/\" lang=\"nov\">Novial</a></li>\\n<li><a href=\"//as.wikipedia.org/\" lang=\"as\" title=\"Ã\\x94xÃ´miya\">à¦\\x85à¦¸à¦®à§\\x80à¦¯à¦¾à¦¼</a></li>\\n<li><a href=\"//pi.wikipedia.org/\" lang=\"pi\" title=\"PÄ\\x81á¸·i\">à¤ªà¤¾à¤²à¤¿</a></li>\\n<li><a href=\"//pag.wikipedia.org/\" lang=\"pag\">PangasinÃ¡n</a></li>\\n<li><a href=\"//pap.wikipedia.org/\" lang=\"pap\">Papiamentu</a></li>\\n<li><a href=\"//koi.wikipedia.org/\" lang=\"koi\" title=\"Perem Komi\">Ð\\x9fÐµÑ\\x80ÐµÐ¼ Ð\\x9aÐ¾Ð¼Ð¸</a></li>\\n<li><a href=\"//pfl.wikipedia.org/\" lang=\"pfl\">PfÃ¤lzisch</a></li>\\n<li><a href=\"//pcd.wikipedia.org/\" lang=\"pcd\">Picard</a></li>\\n<li><a href=\"//krc.wikipedia.org/\" lang=\"krc\" title=\"QaraÃ§ayâ\\x80\\x93Malqar\">Ð\\x9aÑ\\x8aÐ°Ñ\\x80Ð°Ñ\\x87Ð°Ð¹â\\x80\\x93Ð\\x9cÐ°Ð»ÐºÑ\\x8aÐ°Ñ\\x80</a></li>\\n<li><a href=\"//kaa.wikipedia.org/\" lang=\"kaa\">Qaraqalpaqsha</a></li>\\n<li><a href=\"//crh.wikipedia.org/\" lang=\"crh\">QÄ±rÄ±mtatarca</a></li>\\n<li><a href=\"//ksh.wikipedia.org/\" lang=\"ksh\">Ripoarisch</a></li>\\n<li><a href=\"//rm.wikipedia.org/\" lang=\"rm\">Rumantsch</a></li>\\n<li><a href=\"//rue.wikipedia.org/\" lang=\"rue\" title=\"Rusinâ\\x80\\x99skyj Yazyk\">Ð\\xa0Ñ\\x83Ñ\\x81Ð¸Ð½Ñ\\x8cÑ\\x81ÐºÑ\\x8bÐ¹ Ð¯Ð·Ñ\\x8bÐº</a></li>\\n<li><a href=\"//sc.wikipedia.org/\" lang=\"sc\">Sardu</a></li>\\n<li><a href=\"//stq.wikipedia.org/\" lang=\"stq\">Seeltersk</a></li>\\n<li><a href=\"//nso.wikipedia.org/\" lang=\"nso\">Sesotho sa Leboa</a></li>\\n<li><a href=\"//sn.wikipedia.org/\" lang=\"sn\">ChiShona</a></li>\\n<li><a href=\"//so.wikipedia.org/\" lang=\"so\">Soomaaliga</a></li>\\n<li><a href=\"//srn.wikipedia.org/\" lang=\"srn\">Sranantongo</a></li>\\n<li><a href=\"//kab.wikipedia.org/\" lang=\"kab\" title=\"Taqbaylit\">Taqbaylit</a></li>\\n<li><a href=\"//roa-tara.wikipedia.org/\" lang=\"roa\">TarandÃ\\xadne</a></li>\\n<li><a href=\"//tet.wikipedia.org/\" lang=\"tet\">Tetun</a></li>\\n<li><a href=\"//tpi.wikipedia.org/\" lang=\"tpi\">Tok Pisin</a></li>\\n<li><a href=\"//to.wikipedia.org/\" lang=\"to\">faka Tonga</a></li>\\n<li><a href=\"//tk.wikipedia.org/\" lang=\"tk\">TÃ¼rkmenÃ§e</a></li>\\n<li><a href=\"//tyv.wikipedia.org/\" lang=\"tyv\" title=\"Tyva dyl\">Ð¢Ñ\\x8bÐ²Ð° Ð´Ñ\\x8bÐ»</a></li>\\n<li><a href=\"//udm.wikipedia.org/\" lang=\"udm\" title=\"Udmurt\">Ð£Ð´Ð¼Ñ\\x83Ñ\\x80Ñ\\x82</a></li>\\n<li><a href=\"//ug.wikipedia.org/\" lang=\"ug\"><bdi dir=\"rtl\">Ø¦Û\\x87Ù\\x8aØºÛ\\x87Ø±Ú\\x86Ù\\x87</bdi></a></li>\\n<li><a href=\"//vep.wikipedia.org/\" lang=\"vep\">VepsÃ¤n</a></li>\\n<li><a href=\"//fiu-vro.wikipedia.org/\" lang=\"fiu-vro\">VÃµro</a></li>\\n<li><a href=\"//vls.wikipedia.org/\" lang=\"vls\">West-Vlams</a></li>\\n<li><a href=\"//wo.wikipedia.org/\" lang=\"wo\">Wolof</a></li>\\n<li><a href=\"//xh.wikipedia.org/\" lang=\"xh\">isiXhosa</a></li>\\n<li><a href=\"//zea.wikipedia.org/\" lang=\"zea\">ZeÃªuws</a></li>\\n<li><a href=\"//zu.wikipedia.org/\" lang=\"zu\">isiZulu</a></li>\\n<li><a href=\"//dv.wikipedia.org/\" lang=\"dv\" title=\"Þ\\x87Þ¨Þ\\x82Þ\\x8eÞ¨Þ\\x83Þ\\xadÞ\\x90Þ¨\"><bdi dir=\"rtl\">Þ\\x8bÞ¨Þ\\x88Þ¬Þ\\x80Þ¨Þ\\x84Þ¦Þ\\x90Þ°</bdi></a></li>\\n</ul>\\n</div>\\n<!-- Bookshelves -->\\n<h2 class=\"bookshelf-container\">\\n<span class=\"bookshelf\">\\n<span class=\"text\">\\n<bdi dir=\"ltr\">\\n100+\\n</bdi>\\n<span class=\"jsl10n\" data-jsl10n=\"entries\">\\narticles\\n</span>\\n</span>\\n</span>\\n</h2>\\n<!-- 100+ content pages -->\\n<div class=\"langlist langlist-tiny hlist\" data-el-section=\"secondary links\">\\n<ul>\\n<li><a href=\"//bm.wikipedia.org/\" lang=\"bm\">Bamanankan</a></li>\\n<li><a href=\"//ch.wikipedia.org/\" lang=\"ch\">Chamoru</a></li>\\n<li><a href=\"//ny.wikipedia.org/\" lang=\"ny\">Chichewa</a></li>\\n<li><a href=\"//ee.wikipedia.org/\" lang=\"ee\">EÊ\\x8begbe</a></li>\\n<li><a href=\"//ff.wikipedia.org/\" lang=\"ff\">Fulfulde</a></li>\\n<li><a href=\"//got.wikipedia.org/\" lang=\"got\" title=\"Gutisk\">ð\\x90\\x8c²ð\\x90\\x8c¿ð\\x90\\x8d\\x84ð\\x90\\x8c¹ð\\x90\\x8d\\x83ð\\x90\\x8cº</a></li>\\n<li><a href=\"//iu.wikipedia.org/\" lang=\"iu\">á\\x90\\x83á\\x93\\x84á\\x92\\x83á\\x91\\x8eá\\x91\\x90á\\x91¦ / Inuktitut</a></li>\\n<li><a href=\"//ik.wikipedia.org/\" lang=\"ik\">IÃ±upiak</a></li>\\n<li><a href=\"//ks.wikipedia.org/\" lang=\"ks\" title=\"Kashmiri\"><bdi dir=\"rtl\">Ù\\x83Ø´Ù\\x85Ù\\x8aØ±Ù\\x8a</bdi></a></li>\\n<li><a href=\"//ltg.wikipedia.org/\" lang=\"ltg\">LatgaÄ¼u</a></li>\\n<li><a href=\"//fj.wikipedia.org/\" lang=\"fj\">Na Vosa Vaka-Viti</a></li>\\n<li><a href=\"//cr.wikipedia.org/\" lang=\"cr\">NÄ\\x93hiyawÄ\\x93win / á\\x93\\x80á\\x90¦á\\x90\\x83á\\x94\\xadá\\x90\\x8dá\\x90\\x8fá\\x90£</a></li>\\n<li><a href=\"//pih.wikipedia.org/\" lang=\"pih\">Norfuk / Pitkern</a></li>\\n<li><a href=\"//om.wikipedia.org/\" lang=\"om\">Afaan Oromoo</a></li>\\n<li><a href=\"//pnt.wikipedia.org/\" lang=\"pnt\" title=\"PontiakÃ¡\">Î\\xa0Î¿Î½Ï\\x84Î¹Î±ÎºÎ¬</a></li>\\n<li><a href=\"//dz.wikipedia.org/\" lang=\"dz\" title=\"Rdzong-Kha\">à½¢à¾«à½¼à½\\x84à¼\\x8bà½\\x81</a></li>\\n<li><a href=\"//rmy.wikipedia.org/\" lang=\"rmy\">Romani</a></li>\\n<li><a href=\"//rn.wikipedia.org/\" lang=\"rn\">Kirundi</a></li>\\n<li><a href=\"//sm.wikipedia.org/\" lang=\"sm\">Gagana SÄ\\x81moa</a></li>\\n<li><a href=\"//sg.wikipedia.org/\" lang=\"sg\">SÃ¤ngÃ¶</a></li>\\n<li><a href=\"//st.wikipedia.org/\" lang=\"st\">Sesotho</a></li>\\n<li><a href=\"//tn.wikipedia.org/\" lang=\"tn\">Setswana</a></li>\\n<li><a href=\"//cu.wikipedia.org/\" lang=\"cu\" title=\"SlovÄ\\x9bnÄ\\xadskÅ\\xad\">Ð¡Ð»Ð¾Ð²Ñ£Ì\\x81Ð½Ñ\\x8cÑ\\x81ÐºÑ\\x8a / â°\\x94â°\\x8eâ°\\x91â°\\x82â°¡â°\\x90â°\\xa0â°\\x94â°\\x8dâ°\\x9f</a></li>\\n<li><a href=\"//ss.wikipedia.org/\" lang=\"ss\">SiSwati</a></li>\\n<li><a href=\"//chr.wikipedia.org/\" lang=\"chr\" title=\"Tsalagi\">á\\x8f£á\\x8e³á\\x8e©</a></li>\\n<li><a href=\"//chy.wikipedia.org/\" lang=\"chy\">TsÄ\\x97hesenÄ\\x97stsestotse</a></li>\\n<li><a href=\"//ve.wikipedia.org/\" lang=\"ve\">Tshivená¸\\x93a</a></li>\\n<li><a href=\"//ts.wikipedia.org/\" lang=\"ts\">Xitsonga</a></li>\\n<li><a href=\"//tum.wikipedia.org/\" lang=\"tum\">chiTumbuka</a></li>\\n<li><a href=\"//tw.wikipedia.org/\" lang=\"tw\">Twi</a></li>\\n<li><a href=\"//ti.wikipedia.org/\" lang=\"ti\" title=\"TÉ\\x99gÉ\\x99rÉ\\x99Ã±a\">á\\x89µá\\x8c\\x8dá\\x88\\xadá\\x8a\\x9b</a></li>\\n<li><a href=\"//nqo.wikipedia.org/\" lang=\"nqo\" title=\"N&#x27;Ko\">ß\\x92ß\\x9eß\\x8f</a></li>\\n</ul>\\n</div>\\n<!-- Other languages -->\\n<div class=\"langlist langlist-others hlist\" data-el-section=\"other languages\">\\n<ul>\\n<li><a href=\"//meta.wikimedia.org/wiki/List_of_Wikipedias\" lang=\"en\">Other languages</a></li>\\n<li><a href=\"//de.wikipedia.org/wiki/Wikipedia:Sprachen\" lang=\"de\">Weitere Sprachen</a></li>\\n<li><a href=\"//meta.wikimedia.org/wiki/Liste_des_Wikip%C3%A9dias\" lang=\"fr\">Autres langues</a></li>\\n<li><a href=\"//pl.wikipedia.org/wiki/Wikipedia:Lista_wersji_j%C4%99zykowych\" lang=\"pl\">Kompletna lista jÄ\\x99zykÃ³w</a></li>\\n<li><a href=\"//ja.wikipedia.org/wiki/Wikipedia:%E5%A4%9A%E8%A8%80%E8%AA%9E%E3%83%97%E3%83%AD%E3%82%B8%E3%82%A7%E3%82%AF%E3%83%88%E3%81%A8%E3%81%97%E3%81%A6%E3%81%AE%E3%82%A6%E3%82%A3%E3%82%AD%E3%83%9A%E3%83%87%E3%82%A3%E3%82%A2\" lang=\"ja\">ä»\\x96ã\\x81®è¨\\x80èª\\x9e</a></li>\\n<li><a href=\"//meta.wikimedia.org/wiki/Lista_de_Wikipedias\" lang=\"es\">Otros idiomas</a></li>\\n<li><a href=\"//zh.wikipedia.org/wiki/Wikipedia:%E7%BB%B4%E5%9F%BA%E7%99%BE%E7%A7%91%E8%AF%AD%E8%A8%80%E5%88%97%E8%A1%A8\" lang=\"zh\" data-convert-hans=\"å\\x85¶ä»\\x96è¯\\xadè¨\\x80\" id=\"zh_others\">å\\x85¶ä»\\x96èª\\x9eè¨\\x80</a></li>\\n<li><a href=\"//ru.wikipedia.org/wiki/%D0%92%D0%B8%D0%BA%D0%B8%D0%BF%D0%B5%D0%B4%D0%B8%D1%8F:%D0%A1%D0%92\" lang=\"ru\">Ð\\x94Ñ\\x80Ñ\\x83Ð³Ð¸Ðµ Ñ\\x8fÐ·Ñ\\x8bÐºÐ¸</a></li>\\n<li><a href=\"//eo.wikipedia.org/wiki/Vikipedio:Internacia_Vikipedio\" lang=\"eo\">Aliaj lingvoj</a></li>\\n<li><a href=\"//meta.wikimedia.org/wiki/%EC%9C%84%ED%82%A4%EB%B0%B1%EA%B3%BC%EC%9D%98_%EB%AA%A9%EB%A1%9D\" lang=\"ko\">ë\\x8b¤ë¥¸ ì\\x96¸ì\\x96´</a></li>\\n<li><a href=\"//vi.wikipedia.org/wiki/Wikipedia:Phi%C3%AAn_b%E1%BA%A3n_ng%C3%B4n_ng%E1%BB%AF\" lang=\"vi\">NgÃ´n ngá»¯ khÃ¡c</a></li>\\n</ul>\\n</div>\\n</div>\\n</div>\\n<hr>\\n<div class=\"footer\" data-el-section=\"other projects\">\\n<div class=\"footer-sidebar\">\\n<div class=\"footer-sidebar-content\">\\n<div class=\"footer-sidebar-icon sprite svg-Wikimedia-logo_black\">\\n</div>\\n<div class=\"footer-sidebar-text jsl10n\" data-jsl10n=\"footer-description\">\\nWikipedia is hosted by the <a href=\"//wikimediafoundation.org/\">Wikimedia Foundation</a>, a non-profit organization that also hosts a range of other projects.\\n</div>\\n</div>\\n</div>\\n<div class=\"footer-sidebar app-badges\">\\n<div class=\"footer-sidebar-content\">\\n<div class=\"footer-sidebar-text\">\\n<div class=\"footer-sidebar-icon sprite svg-wikipedia_app_tile\"></div>\\n<strong class=\"jsl10n\" data-jsl10n=\"app-links.title\">\\n<a class=\"jsl10n\" data-jsl10n=\"app-links.url\" href=\"https://en.wikipedia.org/wiki/List_of_Wikipedia_mobile_applications\">\\nDownload Wikipedia for Android or iOS\\n</a>\\n</strong>\\n<p class=\"jsl10n\" data-jsl10n=\"app-links.description\">\\nSave your favorite articles to read offline, sync your reading lists across devices and customize your reading experience with the official Wikipedia app.\\n</p>\\n<ul>\\n<li class=\"app-badge app-badge-android\">\\n<a target=\"_blank\" href=\"//play.google.com/store/apps/details?id=org.wikipedia&referrer=utm_source%3Dportal%26utm_medium%3Dbutton%26anid%3Dadmob\">\\n<span class=\"sprite svg-badge_google_play_store\">\\n</span></a>\\n</li>\\n<li class=\"app-badge app-badge-ios\">\\n<a target=\"_blank\" href=\"//itunes.apple.com/app/apple-store/id324715238?pt=208305&ct=portal&mt=8\">\\n<span class=\"sprite svg-badge_ios_app_store\">\\n</span></a>\\n</li>\\n</ul>\\n</div>\\n</div>\\n</div>\\n<div class=\"other-projects\">\\n<div class=\"other-project\">\\n<a class=\"other-project-link\" href=\"//commons.wikimedia.org/\">\\n<div class=\"other-project-icon\">\\n<div class=\"sprite svg-Commons-logo_sister\"></div>\\n</div>\\n<div class=\"other-project-text\">\\n<span class=\"other-project-title jsl10n\" data-jsl10n=\"commons.name\">Commons</span>\\n<span class=\"other-project-tagline jsl10n\" data-jsl10n=\"commons.slogan\">Freely usable photos &amp; more</span>\\n</div>\\n</a>\\n</div>\\n<div class=\"other-project\">\\n<a class=\"other-project-link\" href=\"//www.wikivoyage.org/\">\\n<div class=\"other-project-icon\">\\n<div class=\"sprite svg-Wikivoyage-logo_sister\"></div>\\n</div>\\n<div class=\"other-project-text\">\\n<span class=\"other-project-title jsl10n\" data-jsl10n=\"wikivoyage.name\">Wikivoyage</span>\\n<span class=\"other-project-tagline jsl10n\" data-jsl10n=\"wikivoyage.slogan\">Free travel guide</span>\\n</div>\\n</a>\\n</div>\\n<div class=\"other-project\">\\n<a class=\"other-project-link\" href=\"//www.wiktionary.org/\">\\n<div class=\"other-project-icon\">\\n<div class=\"sprite svg-Wiktionary-logo_sister\"></div>\\n</div>\\n<div class=\"other-project-text\">\\n<span class=\"other-project-title jsl10n\" data-jsl10n=\"wiktionary.name\">Wiktionary</span>\\n<span class=\"other-project-tagline jsl10n\" data-jsl10n=\"wiktionary.slogan\">Free dictionary</span>\\n</div>\\n</a>\\n</div>\\n<div class=\"other-project\">\\n<a class=\"other-project-link\" href=\"//www.wikibooks.org/\">\\n<div class=\"other-project-icon\">\\n<div class=\"sprite svg-Wikibooks-logo_sister\"></div>\\n</div>\\n<div class=\"other-project-text\">\\n<span class=\"other-project-title jsl10n\" data-jsl10n=\"wikibooks.name\">Wikibooks</span>\\n<span class=\"other-project-tagline jsl10n\" data-jsl10n=\"wikibooks.slogan\">Free textbooks</span>\\n</div>\\n</a>\\n</div>\\n<div class=\"other-project\">\\n<a class=\"other-project-link\" href=\"//www.wikinews.org/\">\\n<div class=\"other-project-icon\">\\n<div class=\"sprite svg-Wikinews-logo_sister\"></div>\\n</div>\\n<div class=\"other-project-text\">\\n<span class=\"other-project-title jsl10n\" data-jsl10n=\"wikinews.name\">Wikinews</span>\\n<span class=\"other-project-tagline jsl10n\" data-jsl10n=\"wikinews.slogan\">Free news source</span>\\n</div>\\n</a>\\n</div>\\n<div class=\"other-project\">\\n<a class=\"other-project-link\" href=\"//www.wikidata.org/\">\\n<div class=\"other-project-icon\">\\n<div class=\"sprite svg-Wikidata-logo_sister\"></div>\\n</div>\\n<div class=\"other-project-text\">\\n<span class=\"other-project-title jsl10n\" data-jsl10n=\"wikidata.name\">Wikidata</span>\\n<span class=\"other-project-tagline jsl10n\" data-jsl10n=\"wikidata.slogan\">Free knowledge base</span>\\n</div>\\n</a>\\n</div>\\n<div class=\"other-project\">\\n<a class=\"other-project-link\" href=\"//www.wikiversity.org/\">\\n<div class=\"other-project-icon\">\\n<div class=\"sprite svg-Wikiversity-logo_sister\"></div>\\n</div>\\n<div class=\"other-project-text\">\\n<span class=\"other-project-title jsl10n\" data-jsl10n=\"wikiversity.name\">Wikiversity</span>\\n<span class=\"other-project-tagline jsl10n\" data-jsl10n=\"wikiversity.slogan\">Free course materials</span>\\n</div>\\n</a>\\n</div>\\n<div class=\"other-project\">\\n<a class=\"other-project-link\" href=\"//www.wikiquote.org/\">\\n<div class=\"other-project-icon\">\\n<div class=\"sprite svg-Wikiquote-logo_sister\"></div>\\n</div>\\n<div class=\"other-project-text\">\\n<span class=\"other-project-title jsl10n\" data-jsl10n=\"wikiquote.name\">Wikiquote</span>\\n<span class=\"other-project-tagline jsl10n\" data-jsl10n=\"wikiquote.slogan\">Free quote compendium</span>\\n</div>\\n</a>\\n</div>\\n<div class=\"other-project\">\\n<a class=\"other-project-link\" href=\"//www.mediawiki.org/\">\\n<div class=\"other-project-icon\">\\n<div class=\"sprite svg-MediaWiki-logo_sister\"></div>\\n</div>\\n<div class=\"other-project-text\">\\n<span class=\"other-project-title jsl10n\" data-jsl10n=\"mediawiki.name\">MediaWiki</span>\\n<span class=\"other-project-tagline jsl10n\" data-jsl10n=\"mediawiki.slogan\">Free &amp; open wiki application</span>\\n</div>\\n</a>\\n</div>\\n<div class=\"other-project\">\\n<a class=\"other-project-link\" href=\"//www.wikisource.org/\">\\n<div class=\"other-project-icon\">\\n<div class=\"sprite svg-Wikisource-logo_sister\"></div>\\n</div>\\n<div class=\"other-project-text\">\\n<span class=\"other-project-title jsl10n\" data-jsl10n=\"wikisource.name\">Wikisource</span>\\n<span class=\"other-project-tagline jsl10n\" data-jsl10n=\"wikisource.slogan\">Free library</span>\\n</div>\\n</a>\\n</div>\\n<div class=\"other-project\">\\n<a class=\"other-project-link\" href=\"//species.wikimedia.org/\">\\n<div class=\"other-project-icon\">\\n<div class=\"sprite svg-Wikispecies-logo_sister\"></div>\\n</div>\\n<div class=\"other-project-text\">\\n<span class=\"other-project-title jsl10n\" data-jsl10n=\"wikispecies.name\">Wikispecies</span>\\n<span class=\"other-project-tagline jsl10n\" data-jsl10n=\"wikispecies.slogan\">Free species directory</span>\\n</div>\\n</a>\\n</div>\\n<div class=\"other-project\">\\n<a class=\"other-project-link\" href=\"//meta.wikimedia.org/\">\\n<div class=\"other-project-icon\">\\n<div class=\"sprite svg-Meta-Wiki-logo_sister\"></div>\\n</div>\\n<div class=\"other-project-text\">\\n<span class=\"other-project-title jsl10n\" data-jsl10n=\"metawiki.name\">Meta-Wiki</span>\\n<span class=\"other-project-tagline jsl10n\" data-jsl10n=\"metawiki.slogan\">Community coordination &amp; documentation</span>\\n</div>\\n</a>\\n</div>\\n</div>\\n</div>\\n<p class=\"site-license\">\\n<small class=\"jsl10n\" data-jsl10n=\"license\">This page is available under the <a href=\"https://creativecommons.org/licenses/by-sa/3.0/\">Creative Commons Attribution-ShareAlike License</a></small>\\n<small class=\"jsl10n\" data-jsl10n=\"terms\"><a href=\"//meta.wikimedia.org/wiki/Terms_of_Use\">Terms of Use</a></small>\\n<small class=\"jsl10n\" data-jsl10n=\"Privacy Policy\"><a href=\"//meta.wikimedia.org/wiki/Privacy_policy\">Privacy Policy</a></small>\\n</p>\\n<![if gt IE 7]>\\n<script>\\nvar rtlLangs = [\\'ar\\',\\'arc\\',\\'arz\\',\\'bcc\\',\\'bgn\\',\\'bqi\\',\\'ckb\\',\\'dv\\',\\'fa\\',\\'glk\\',\\'he\\',\\'kk-cn\\',\\'kk-arab\\',\\'khw\\',\\'ks\\',\\'ku-arab\\',\\'lki\\',\\'lrc\\',\\'luz\\',\\'mzn\\',\\'nqo\\',\\'pnb\\',\\'ps\\',\\'sd\\',\\'sdh\\',\\'ug\\',\\'ur\\',\\'yi\\'],\\n    translationsHash = \\'8e4dbe68\\',\\n    /*\\n     This object is used by l10n scripts (page-localized.js, topten-localized.js)\\n     to reveal the page content after l10n json is loaded.\\n     A timer is also set to prevent JS from hiding page content indefinitelty.\\n     This script is inlined to safeguard againt script loading errors and placed\\n     at the top of the page to safeguard against any HTML loading/parsing errors.\\n    */\\n    wmL10nVisible = {\\n        ready: false,\\n        makeVisible: function(){\\n            if ( !wmL10nVisible.ready ) {\\n                wmL10nVisible.ready = true;\\n                document.body.className += \\' jsl10n-visible\\';\\n            }\\n        }\\n    };\\n    window.setTimeout( wmL10nVisible.makeVisible, 1000 )\\n</script>\\n<script src=\"portal/wikipedia.org/assets/js/index-0875d644b5.js\"></script>\\n<![endif]>\\n<![if gt IE 9]>\\n<script src=\"portal/wikipedia.org/assets/js/gt-ie9-eb680c4142.js\"></script>\\n<![endif]>\\n<![if lte IE 9]>\\n<style>\\n.styled-select {\\n        display: block;\\n    }\\n</style>\\n<![endif]>\\n<!--[if lte IE 9]>\\n<style>\\n    .langlist > ul {\\n        text-align: center;\\n    }\\n    .langlist > ul > li {\\n        display: inline;\\n        padding: 0 0.5em;\\n    }\\n</style>\\n<![endif]-->\\n</body>\\n</html>\\n'"
            ]
          },
          "metadata": {
            "tags": []
          },
          "execution_count": 17
        }
      ]
    },
    {
      "cell_type": "code",
      "metadata": {
        "id": "o4VM-5OdIxTE",
        "colab_type": "code",
        "colab": {
          "base_uri": "https://localhost:8080/",
          "height": 54
        },
        "outputId": "cfb36f46-8958-402f-f819-fb9008d9bb8f"
      },
      "source": [
        "import requests\n",
        "url = \"http://www.datacamp.com/teach/documentation\"\n",
        "r = requests.get(url)\n",
        "text = r.text\n",
        "text"
      ],
      "execution_count": 18,
      "outputs": [
        {
          "output_type": "execute_result",
          "data": {
            "text/plain": [
              "'<!doctype html>\\n<html lang=\"en\" data-direction=\"ltr\">\\n  <head>\\n    <link href=\"https://fonts.intercomcdn.com\" rel=\"preconnect\" crossorigin>\\n      <script src=\"https://www.googletagmanager.com/gtag/js?id=UA-39297847-9\" async=\"async\" nonce=\"iF5VzYlhsPXMz/RoEdXIdJiPzqwh0q4ARiOyFCoCJuo=\"></script>\\n      <script nonce=\"iF5VzYlhsPXMz/RoEdXIdJiPzqwh0q4ARiOyFCoCJuo=\">\\n        window.dataLayer = window.dataLayer || [];\\n        function gtag(){dataLayer.push(arguments);}\\n        gtag(\\'js\\', new Date());\\n        gtag(\\'config\\', \\'UA-39297847-9\\');\\n</script>\\n    <meta charset=\"utf-8\">\\n    <meta http-equiv=\"X-UA-Compatible\" content=\"IE=edge\">\\n    <title>DataCamp Help Center</title>\\n    <meta name=\"description\" content=\"\">\\n    <meta name=\"viewport\" content=\"width=device-width, initial-scale=1\">\\n\\n      <link rel=\"alternate\" href=\"http://instructor-support.datacamp.com/en/\" hreflang=\"en\">\\n\\n      <meta name=\"intercom:trackingEvent\" content=\"{&quot;name&quot;:&quot;Viewed Help Center&quot;,&quot;metadata&quot;:{&quot;action&quot;:&quot;viewed&quot;,&quot;object&quot;:&quot;educate_home&quot;,&quot;place&quot;:&quot;help_center&quot;,&quot;owner&quot;:&quot;educate&quot;,&quot;default_locale&quot;:&quot;en&quot;,&quot;current_locale&quot;:&quot;en&quot;,&quot;is_default_locale&quot;:true}}\" />\\n\\n    <link rel=\"stylesheet\" media=\"all\" href=\"https://static.intercomassets.com/alexandria/assets/application-b3750abf208645a6a5adeb2483d82eb195fa8e813407f0dd63425a7f74062490.css\" />\\n    <link rel=\"canonical\" href=\"http://instructor-support.datacamp.com/en/\"/>\\n\\n        <link href=\"https://static.intercomassets.com/assets/educate/educate-favicon-64x64-at-2x-52016a3500a250d0b118c0a04ddd13b1a7364a27759483536dd1940bccdefc20.png\" rel=\"shortcut icon\" type=\"image/png\" />\\n      <style>\\n        .header, .avatar__image-extra { background-color: #263e63; }\\n        .article a, .c__primary { color: #263e63; }\\n        .avatar__fallback { background-color: #263e63; }\\n        article a.intercom-h2b-button { background-color: #263e63; border: 0; }\\n      </style>\\n\\n      <meta property=\"og:title\" content=\"DataCamp Help Center\" />\\n  <meta name=\"twitter:title\" content=\"DataCamp Help Center\" />\\n\\n\\n<meta property=\"og:type\" content=\"website\" />\\n<meta property=\"og:image\" content=\"\" />\\n\\n<meta name=\"twitter:image\" content=\"\" />\\n\\n  </head>\\n  <body class=\"\">\\n    <header class=\"header\">\\n  <div class=\"container header__container o__ltr\" dir=\"ltr\">\\n    <div class=\"content\">\\n      <div class=\"mo o__centered o__reversed header__meta_wrapper\">\\n        <div class=\"mo__body header__site_name\">\\n          <div class=\"header__logo\">\\n            <a href=\"/en/\">\\n                <img alt=\"DataCamp Help Center\" src=\"https://downloads.intercomcdn.com/i/o/81221/856b63d438031754b681746b/4ea2737e4266936fb423911d9c587812.png\" />\\n            </a>\\n          </div>\\n        </div>\\n        <div class=\"mo__aside\">\\n          <div class=\"header__links\">\\n              <a target=\"_blank\" rel=\\'noopener\\' href=\"http://www.datacamp.com/teach\" class=\"header__home__url\"><svg width=\"14\" height=\"14\" viewBox=\"0 0 14 14\" xmlns=\"http://www.w3.org/2000/svg\"><title>Group 65</title><g stroke=\"#FFF\" fill=\"none\" fill-rule=\"evenodd\" stroke-linecap=\"round\" stroke-linejoin=\"round\"><path d=\"M11.5 6.73v6.77H.5v-11h7.615M4.5 9.5l7-7M13.5 5.5v-5h-5\"/></g></svg><span>Go to DataCamp</span></a>\\n            \\n          </div>\\n        </div>\\n      </div>\\n          <h1 class=\"header__headline\">Advice and answers from the DataCamp Team</h1>\\n      <form action=\"/en/\" autocomplete=\"off\" class=\"header__form search\">\\n        <input type=\"text\" autocomplete=\"off\" class=\"search__input js__search-input o__ltr\" placeholder=\"Search for articles...\" tabindex=\"1\" name=\"q\" value=\"\">\\n        <div class=\"search_icons\">\\n          <button type=\"submit\" class=\"search__submit o__ltr\"></button>\\n          <a class=\"search__clear-text__icon\">\\n            <svg class=\"interface-icon\" xmlns=\"http://www.w3.org/2000/svg\" width=\"16\" height=\"16\" viewBox=\"0 0 16 16\">\\n              <path d=\"M8.018 6.643L5.375 4 4 5.375l2.643 2.643L4 10.643 5.375 12l2.643-2.625L10.625 12 12 10.643 9.357 8.018 12 5.375 10.643 4z\" />\\n            </svg>\\n          </a>\\n      </form>\\n      </div>\\n    </div>\\n  </div>\\n</header>\\n\\n    <div class=\"container\">\\n      <div class=\"content educate_content\"><section class=\"section\">\\n    <div class=\"g__space\">\\n      <a href=\"/en/collections/1256585-getting-started\" class=\"paper \">\\n        <div class=\"collection o__ltr\">\\n          <div class=\"collection__photo\">\\n            <svg role=\\'img\\' viewBox=\\'0 0 48 48\\'><g id=\"chat-star\" stroke-width=\"2\" fill=\"none\" fill-rule=\"evenodd\" stroke-linejoin=\"round\"><path d=\"M20 34.942c-2.083-.12-4.292-.42-6-.942L3 39l4-9c-3.858-3.086-6-7.246-6-12C1 8.61 10.328 1 21.835 1 33.343 1 43 8.61 43 18c0 1.044-.117 2.065-.342 3.057\"></path><path d=\"M36.016 25L40 33h7l-6 5 3 9-8-5.494L28 47l3-9-6-5h7l4.016-8z\"></path></g></svg>\\n          </div>\\n          <div class=\"collection_meta\" dir=\"ltr\">\\n            <h2 class=\"t__h3 c__primary\">Getting Started</h2>\\n            <p class=\"paper__preview\">Everything you need to know to begin your DataCamp journey!</p>\\n            <div class=\"avatar\">\\n  <div class=\"avatar__photo avatars__images o__ltr\">\\n        <img src=\"https://static.intercomassets.com/avatars/2352718/square_128/Rebecca_Robins_-_Headshot-1535969735.jpg?1535969735\" alt=\"Becca Robins avatar\" class=\"avatar__image\">\\n\\n        <img src=\"https://static.intercomassets.com/avatars/2637958/square_128/YR_Headshot-1539175806.JPG?1539175806\" alt=\"Yashas Roy avatar\" class=\"avatar__image\">\\n\\n        <img src=\"https://static.intercomassets.com/avatars/2678519/square_128/pic2-1539176502.JPG?1539176502\" alt=\"Jen Bricker avatar\" class=\"avatar__image\">\\n\\n      <span class=\"avatar__image avatar__fallback\">+1</span>\\n  </div>\\n  <div class=\"avatar__info\">\\n    <div>\\n      <span class=\"c__darker\">\\n        11 articles in this collection\\n      </span>\\n      <br>\\n      Written by <span class=\\'c__darker\\'> Becca Robins,</span> <span class=\\'c__darker\\'> Yashas Roy,</span> <span class=\\'c__darker\\'> Jen Bricker</span> and 1 other\\n    </div>\\n  </div>\\n</div>\\n\\n          </div>\\n        </div>\\n      </a>\\n    </div>\\n    <div class=\"g__space\">\\n      <a href=\"/en/collections/1256578-courses\" class=\"paper \">\\n        <div class=\"collection o__ltr\">\\n          <div class=\"collection__photo\">\\n            <svg role=\\'img\\' viewBox=\\'0 0 48 48\\'><g id=\"devices-laptop\" stroke-width=\"2\" fill=\"none\" fill-rule=\"evenodd\" stroke-linecap=\"round\"><path d=\"M41 31H7V11h34v20z\"></path><path d=\"M3 35V10a3 3 0 0 1 3-3h36a3 3 0 0 1 3 3v25m-16 0v2H19v-2H1v4a2 2 0 0 0 2 2h42a2 2 0 0 0 2-2v-4H29z\" stroke-linejoin=\"round\"></path></g></svg>\\n          </div>\\n          <div class=\"collection_meta\" dir=\"ltr\">\\n            <h2 class=\"t__h3 c__primary\">Courses</h2>\\n            <p class=\"paper__preview\">Everything you need to know about creating DataCamp courses.</p>\\n            <div class=\"avatar\">\\n  <div class=\"avatar__photo avatars__images o__ltr\">\\n        <img src=\"https://static.intercomassets.com/avatars/2298587/square_128/about_pic-1539247923.jpg?1539247923\" alt=\"Vincent Vankrunkelsven avatar\" class=\"avatar__image\">\\n\\n        <span class=\"avatar__image avatar__fallback\"> D </span>\\n\\n        <img src=\"https://static.intercomassets.com/avatars/2352718/square_128/Rebecca_Robins_-_Headshot-1535969735.jpg?1535969735\" alt=\"Becca Robins avatar\" class=\"avatar__image\">\\n\\n      <span class=\"avatar__image avatar__fallback\">+6</span>\\n  </div>\\n  <div class=\"avatar__info\">\\n    <div>\\n      <span class=\"c__darker\">\\n        86 articles in this collection\\n      </span>\\n      <br>\\n      Written by <span class=\\'c__darker\\'> Vincent Vankrunkelsven,</span> <span class=\\'c__darker\\'> Dieter De Mesmaeker,</span> <span class=\\'c__darker\\'> Becca Robins</span> and 6 others\\n    </div>\\n  </div>\\n</div>\\n\\n          </div>\\n        </div>\\n      </a>\\n    </div>\\n    <div class=\"g__space\">\\n      <a href=\"/en/collections/1256594-daily-practice\" class=\"paper \">\\n        <div class=\"collection o__ltr\">\\n          <div class=\"collection__photo\">\\n            <svg role=\\'img\\' viewBox=\\'0 0 48 48\\'><g id=\"tools-dashboard\" stroke-width=\"2\" fill=\"none\" fill-rule=\"evenodd\" stroke-linecap=\"round\" stroke-linejoin=\"round\"><path d=\"M27 31a3 3 0 0 1-6 0 3 3 0 0 1 6 0zm-.88-2.12l9.9-9.9M5 32h4m34 .002L39 32m2.553-8.27l-3.696 1.53M31.27 13.447l-1.53 3.695M24 12v4m-7.27-2.553l1.53 3.695m-7.694.422l2.826 2.83M6.447 23.73l3.695 1.53\"></path><path d=\"M24 8C11.297 8 1 18.3 1 31v9h46v-9C47 18.3 36.703 8 24 8z\"></path></g></svg>\\n          </div>\\n          <div class=\"collection_meta\" dir=\"ltr\">\\n            <h2 class=\"t__h3 c__primary\">Daily Practice</h2>\\n            <p class=\"paper__preview\">Everything you need to know about creating DataCamp Daily Practice.</p>\\n            <div class=\"avatar\">\\n  <div class=\"avatar__photo avatars__images o__ltr\">\\n        <img src=\"https://static.intercomassets.com/avatars/2734728/square_128/Anneleen_Beckers-xtra-small-1541624054.jpg?1541624054\" alt=\"Anneleen Beckers avatar\" class=\"avatar__image\">\\n\\n  </div>\\n  <div class=\"avatar__info\">\\n    <div>\\n      <span class=\"c__darker\">\\n        15 articles in this collection\\n      </span>\\n      <br>\\n      Written by <span class=\\'c__darker\\'> Anneleen Beckers</span>\\n    </div>\\n  </div>\\n</div>\\n\\n          </div>\\n        </div>\\n      </a>\\n    </div>\\n    <div class=\"g__space\">\\n      <a href=\"/en/collections/1256569-projects\" class=\"paper \">\\n        <div class=\"collection o__ltr\">\\n          <div class=\"collection__photo\">\\n            <svg role=\\'img\\' viewBox=\\'0 0 48 48\\'><g id=\"book-opened2\"><path d=\"M24 11c0-3.866 10.297-7 23-7v33c-12.703 0-23 3.134-23 7 0-3.866-10.3-7-23-7V4c12.7 0 23 3.134 23 7zm0 0v32m-5-27.52c-3.22-1.232-7.773-2.128-13-2.48m13 8.48c-3.22-1.232-7.773-2.128-13-2.48m13 8.48c-3.22-1.232-7.773-2.128-13-2.48m13 8.48c-3.22-1.23-7.773-2.127-13-2.48m23-15.52c3.223-1.232 7.773-2.128 13-2.48m-13 8.48c3.223-1.232 7.773-2.128 13-2.48m-13 8.48c3.223-1.232 7.773-2.128 13-2.48m-13 8.48c3.223-1.23 7.773-2.127 13-2.48\" stroke-width=\"2\" fill=\"none\" stroke-linecap=\"round\" stroke-linejoin=\"round\"></path></g></svg>\\n          </div>\\n          <div class=\"collection_meta\" dir=\"ltr\">\\n            <h2 class=\"t__h3 c__primary\">Projects</h2>\\n            <p class=\"paper__preview\">Everything you need to know about creating DataCamp projects.</p>\\n            <div class=\"avatar\">\\n  <div class=\"avatar__photo avatars__images o__ltr\">\\n        <img src=\"https://static.intercomassets.com/avatars/2352718/square_128/Rebecca_Robins_-_Headshot-1535969735.jpg?1535969735\" alt=\"Becca Robins avatar\" class=\"avatar__image\">\\n\\n        <img src=\"https://static.intercomassets.com/avatars/2366194/square_128/richie-in-hairnet-1537451295.JPG?1537451295\" alt=\"Richie Cotton avatar\" class=\"avatar__image\">\\n\\n  </div>\\n  <div class=\"avatar__info\">\\n    <div>\\n      <span class=\"c__darker\">\\n        20 articles in this collection\\n      </span>\\n      <br>\\n      Written by <span class=\\'c__darker\\'> Becca Robins</span> and <span class=\\'c__darker\\'> Richie Cotton</span>\\n    </div>\\n  </div>\\n</div>\\n\\n          </div>\\n        </div>\\n      </a>\\n    </div>\\n    <div class=\"g__space\">\\n      <a href=\"/en/collections/1256556-course-editor-basics\" class=\"paper \">\\n        <div class=\"collection o__ltr\">\\n          <div class=\"collection__photo\">\\n            <svg role=\\'img\\' viewBox=\\'0 0 48 48\\'><g id=\"book-bookmark\" stroke-width=\"2\" fill=\"none\" fill-rule=\"evenodd\" stroke-linecap=\"round\"><path d=\"M35 31l-6-6-6 6V7h12v24z\"></path><path d=\"M35 9h6v38H11a4 4 0 0 1-4-4V5\" stroke-linejoin=\"round\"></path><path d=\"M39 9V1H11a4 4 0 0 0 0 8h12\" stroke-linejoin=\"round\"></path></g></svg>\\n          </div>\\n          <div class=\"collection_meta\" dir=\"ltr\">\\n            <h2 class=\"t__h3 c__primary\">Course Editor Basics</h2>\\n            <p class=\"paper__preview\">Everything you need to know to get going with our online course editor.</p>\\n            <div class=\"avatar\">\\n  <div class=\"avatar__photo avatars__images o__ltr\">\\n        <img src=\"https://static.intercomassets.com/avatars/2352718/square_128/Rebecca_Robins_-_Headshot-1535969735.jpg?1535969735\" alt=\"Becca Robins avatar\" class=\"avatar__image\">\\n\\n        <img src=\"https://static.intercomassets.com/avatars/2678765/square_128/peterson-1539265042.jpg?1539265042\" alt=\"Amy Peterson avatar\" class=\"avatar__image\">\\n\\n        <img src=\"https://static.intercomassets.com/avatars/2914180/square_128/Sara_Billen_Photo-1555505647.png?1555505647\" alt=\"Sara Billen avatar\" class=\"avatar__image\">\\n\\n  </div>\\n  <div class=\"avatar__info\">\\n    <div>\\n      <span class=\"c__darker\">\\n        5 articles in this collection\\n      </span>\\n      <br>\\n      Written by <span class=\\'c__darker\\'> Becca Robins,</span> <span class=\\'c__darker\\'> Amy Peterson,</span> and <span class=\\'c__darker\\'> Sara Billen</span>\\n    </div>\\n  </div>\\n</div>\\n\\n          </div>\\n        </div>\\n      </a>\\n    </div>\\n    <div class=\"g__space\">\\n      <a href=\"/en/collections/2184250-live-courses-and-maintenance\" class=\"paper \">\\n        <div class=\"collection o__ltr\">\\n          <div class=\"collection__photo\">\\n            <svg role=\\'img\\' viewBox=\\'0 0 48 48\\'><g id=\"book-bookmark\" stroke-width=\"2\" fill=\"none\" fill-rule=\"evenodd\" stroke-linecap=\"round\"><path d=\"M35 31l-6-6-6 6V7h12v24z\"></path><path d=\"M35 9h6v38H11a4 4 0 0 1-4-4V5\" stroke-linejoin=\"round\"></path><path d=\"M39 9V1H11a4 4 0 0 0 0 8h12\" stroke-linejoin=\"round\"></path></g></svg>\\n          </div>\\n          <div class=\"collection_meta\" dir=\"ltr\">\\n            <h2 class=\"t__h3 c__primary\">Live Courses and Maintenance </h2>\\n            <p class=\"paper__preview\">Everything you need to know about maintaining your Live Content on DataCamp</p>\\n            <div class=\"avatar\">\\n  <div class=\"avatar__photo avatars__images o__ltr\">\\n        <img src=\"https://static.intercomassets.com/avatars/3848524/square_128/profile_pic-1583526870.jpg?1583526870\" alt=\"Kelsey McNeillie avatar\" class=\"avatar__image\">\\n\\n  </div>\\n  <div class=\"avatar__info\">\\n    <div>\\n      <span class=\"c__darker\">\\n        21 articles in this collection\\n      </span>\\n      <br>\\n      Written by <span class=\\'c__darker\\'> Kelsey McNeillie</span>\\n    </div>\\n  </div>\\n</div>\\n\\n          </div>\\n        </div>\\n      </a>\\n    </div>\\n    <div class=\"g__space\">\\n      <a href=\"/en/collections/2052717-instructor-advisory-board\" class=\"paper \">\\n        <div class=\"collection o__ltr\">\\n          <div class=\"collection__photo\">\\n            <svg role=\\'img\\' viewBox=\\'0 0 48 48\\'><g id=\"chat-star\" stroke-width=\"2\" fill=\"none\" fill-rule=\"evenodd\" stroke-linejoin=\"round\"><path d=\"M20 34.942c-2.083-.12-4.292-.42-6-.942L3 39l4-9c-3.858-3.086-6-7.246-6-12C1 8.61 10.328 1 21.835 1 33.343 1 43 8.61 43 18c0 1.044-.117 2.065-.342 3.057\"></path><path d=\"M36.016 25L40 33h7l-6 5 3 9-8-5.494L28 47l3-9-6-5h7l4.016-8z\"></path></g></svg>\\n          </div>\\n          <div class=\"collection_meta\" dir=\"ltr\">\\n            <h2 class=\"t__h3 c__primary\">Instructor Advisory Board</h2>\\n            <p class=\"paper__preview\">Learn more about the DataCamp Instructor Advisory Board</p>\\n            <div class=\"avatar\">\\n  <div class=\"avatar__photo avatars__images o__ltr\">\\n        <img src=\"https://static.intercomassets.com/avatars/2678519/square_128/pic2-1539176502.JPG?1539176502\" alt=\"Jen Bricker avatar\" class=\"avatar__image\">\\n\\n  </div>\\n  <div class=\"avatar__info\">\\n    <div>\\n      <span class=\"c__darker\">\\n        2 articles in this collection\\n      </span>\\n      <br>\\n      Written by <span class=\\'c__darker\\'> Jen Bricker</span>\\n    </div>\\n  </div>\\n</div>\\n\\n          </div>\\n        </div>\\n      </a>\\n    </div>\\n    <div class=\"g__space\">\\n      <a href=\"/en/collections/1335793-tips-tricks\" class=\"paper \">\\n        <div class=\"collection o__ltr\">\\n          <div class=\"collection__photo\">\\n            <svg role=\\'img\\' viewBox=\\'0 0 48 48\\'><g id=\"comms-mail\" stroke-width=\"2\" fill=\"none\" fill-rule=\"evenodd\" stroke-linejoin=\"round\"><path d=\"M47 3L1 22l18 7L47 3z\"></path><path d=\"M47 3l-8 37-20-11L47 3zM19 29v16l7-12\"></path></g></svg>\\n          </div>\\n          <div class=\"collection_meta\" dir=\"ltr\">\\n            <h2 class=\"t__h3 c__primary\">Tips &amp; Tricks</h2>\\n            <p class=\"paper__preview\">Become a DataCamp wizard!</p>\\n            <div class=\"avatar\">\\n  <div class=\"avatar__photo avatars__images o__ltr\">\\n        <img src=\"https://static.intercomassets.com/avatars/2352718/square_128/Rebecca_Robins_-_Headshot-1535969735.jpg?1535969735\" alt=\"Becca Robins avatar\" class=\"avatar__image\">\\n\\n        <img src=\"https://static.intercomassets.com/avatars/3421044/square_128/19412139-1572371206.png?1572371206\" alt=\"Maggie Matsui avatar\" class=\"avatar__image\">\\n\\n  </div>\\n  <div class=\"avatar__info\">\\n    <div>\\n      <span class=\"c__darker\">\\n        6 articles in this collection\\n      </span>\\n      <br>\\n      Written by <span class=\\'c__darker\\'> Becca Robins</span> and <span class=\\'c__darker\\'> Maggie Matsui</span>\\n    </div>\\n  </div>\\n</div>\\n\\n          </div>\\n        </div>\\n      </a>\\n    </div>\\n    <div class=\"g__space\">\\n      <a href=\"/en/collections/1256565-frequently-asked-questions-faq\" class=\"paper \">\\n        <div class=\"collection o__ltr\">\\n          <div class=\"collection__photo\">\\n            <svg role=\\'img\\' viewBox=\\'0 0 48 48\\'><g id=\"chat-question\" fill=\"none\" fill-rule=\"evenodd\"><path d=\"M47 21.268c0 10.363-10.297 18.765-23 18.765-2.835 0-5.55-.418-8.058-1.184L2.725 45 7.9 34.668c-4.258-3.406-6.9-8.15-6.9-13.4C1 10.904 11.297 2.502 24 2.502s23 8.402 23 18.766z\" stroke-width=\"2\" stroke-linejoin=\"round\"></path><path d=\"M25 28.502a2 2 0 1 0 0 4 2 2 0 0 0 0-4\" fill=\"#231F1F\"></path><path d=\"M19 17.75c0-3.312 2.686-6.124 6-6.124 3.313 0 6 2.626 6 5.938 0 3.315-2.687 5.938-6 5.938V26\" stroke-width=\"2\" stroke-linecap=\"round\" stroke-linejoin=\"round\"></path></g></svg>\\n          </div>\\n          <div class=\"collection_meta\" dir=\"ltr\">\\n            <h2 class=\"t__h3 c__primary\">Frequently Asked Questions (FAQ)</h2>\\n            <p class=\"paper__preview\">Common questions that arise during content creation.</p>\\n            <div class=\"avatar\">\\n  <div class=\"avatar__photo avatars__images o__ltr\">\\n        <img src=\"https://static.intercomassets.com/avatars/2352718/square_128/Rebecca_Robins_-_Headshot-1535969735.jpg?1535969735\" alt=\"Becca Robins avatar\" class=\"avatar__image\">\\n\\n        <span class=\"avatar__image avatar__fallback\"> B </span>\\n\\n        <img src=\"https://static.intercomassets.com/avatars/2366194/square_128/richie-in-hairnet-1537451295.JPG?1537451295\" alt=\"Richie Cotton avatar\" class=\"avatar__image\">\\n\\n      <span class=\"avatar__image avatar__fallback\">+2</span>\\n  </div>\\n  <div class=\"avatar__info\">\\n    <div>\\n      <span class=\"c__darker\">\\n        43 articles in this collection\\n      </span>\\n      <br>\\n      Written by <span class=\\'c__darker\\'> Becca Robins,</span> <span class=\\'c__darker\\'> Boris Gordts,</span> <span class=\\'c__darker\\'> Richie Cotton</span> and 2 others\\n    </div>\\n  </div>\\n</div>\\n\\n          </div>\\n        </div>\\n      </a>\\n    </div>\\n    <div class=\"g__space\">\\n      <a href=\"/en/collections/1340920-miscellaneous\" class=\"paper \">\\n        <div class=\"collection o__ltr\">\\n          <div class=\"collection__photo\">\\n            <svg role=\\'img\\' viewBox=\\'0 0 48 48\\'><g id=\"tools-edit\"><path d=\"M14.932 43.968L2 47l3.033-12.93 31.2-31.203a4 4 0 0 1 5.658 0l4.247 4.243a4 4 0 0 1 0 5.656L14.932 43.968zm29.84-29.735L34.82 4.28m7.125 12.782L31.992 7.11M15.436 43.465l-9.9-9.9\" stroke-width=\"2\" fill=\"none\" stroke-linecap=\"round\" stroke-linejoin=\"round\"></path></g></svg>\\n          </div>\\n          <div class=\"collection_meta\" dir=\"ltr\">\\n            <h2 class=\"t__h3 c__primary\">Miscellaneous</h2>\\n            <p class=\"paper__preview\">Have a question for DataCamp, but not about creating content? You&#39;ll probably find the answer here.</p>\\n            <div class=\"avatar\">\\n  <div class=\"avatar__photo avatars__images o__ltr\">\\n        <img src=\"https://static.intercomassets.com/avatars/2352718/square_128/Rebecca_Robins_-_Headshot-1535969735.jpg?1535969735\" alt=\"Becca Robins avatar\" class=\"avatar__image\">\\n\\n        <img src=\"https://static.intercomassets.com/avatars/2830289/square_128/IMG_0665_a-1545331304.jpg?1545331304\" alt=\"Lisa Monteleone avatar\" class=\"avatar__image\">\\n\\n        <img src=\"https://static.intercomassets.com/avatars/2859053/square_128/gabriel_about_pic-1546620603.jpg?1546620603\" alt=\"Gabriel de Selding avatar\" class=\"avatar__image\">\\n\\n  </div>\\n  <div class=\"avatar__info\">\\n    <div>\\n      <span class=\"c__darker\">\\n        9 articles in this collection\\n      </span>\\n      <br>\\n      Written by <span class=\\'c__darker\\'> Becca Robins,</span> <span class=\\'c__darker\\'> Lisa Monteleone,</span> and <span class=\\'c__darker\\'> Gabriel de Selding</span>\\n    </div>\\n  </div>\\n</div>\\n\\n          </div>\\n        </div>\\n      </a>\\n    </div>\\n</section>\\n</div>\\n    </div>\\n    <footer class=\"footer\">\\n  <div class=\"container\">\\n    <div class=\"content\">\\n      <div class=\"u__cf\"  dir=\"ltr\">\\n        <div class=\"footer__logo\">\\n          <a href=\"/en/\">\\n              <img alt=\"DataCamp Help Center\" src=\"https://downloads.intercomcdn.com/i/o/81221/856b63d438031754b681746b/4ea2737e4266936fb423911d9c587812.png\" />\\n          </a>\\n        </div>\\n          <div class=\"footer__advert logo\">\\n            <img src=\"https://static.intercomassets.com/alexandria/assets/intercom-a6a6ac0f033657af1aebe2e9e15b94a3cd5eabf6ae8b9916df6ea49099a894d8.png\" alt=\"Intercom\" />\\n            <a href=\"https://www.intercom.com/intercom-link?company=DataCamp&amp;solution=customer-support&amp;utm_campaign=intercom-link&amp;utm_content=We+run+on+Intercom&amp;utm_medium=help-center&amp;utm_referrer=http%3A%2F%2Finstructor-support.datacamp.com%2Fen&amp;utm_source=desktop-web\">We run on Intercom</a>\\n          </div>\\n      </div>\\n    </div>\\n  </div>\\n</footer>\\n\\n    \\n  <script nonce=\"iF5VzYlhsPXMz/RoEdXIdJiPzqwh0q4ARiOyFCoCJuo=\">\\n    window.intercomSettings = {\"app_id\":\"ug0ps1rq\"};\\n</script>\\n  <script nonce=\"iF5VzYlhsPXMz/RoEdXIdJiPzqwh0q4ARiOyFCoCJuo=\">\\n    (function(){var w=window;var ic=w.Intercom;if(typeof ic===\"function\"){ic(\\'reattach_activator\\');ic(\\'update\\',intercomSettings);}else{var d=document;var i=function(){i.c(arguments)};i.q=[];i.c=function(args){i.q.push(args)};w.Intercom=i;function l(){var s=d.createElement(\\'script\\');s.type=\\'text/javascript\\';s.async=true;s.src=\"https://widget.intercom.io/widget/ug0ps1rq\";var x=d.getElementsByTagName(\\'script\\')[0];x.parentNode.insertBefore(s,x);}if(w.attachEvent){w.attachEvent(\\'onload\\',l);}else{w.addEventListener(\\'load\\',l,false);}}})()\\n</script>\\n\\n    \\n\\n    <script src=\"https://static.intercomassets.com/alexandria/assets/application-d1f56ac2d9a90e64c3156d7ef53701ccbc10cc933f0ef6f3aba2dc9ffd0b9e86.js\" nonce=\"iF5VzYlhsPXMz/RoEdXIdJiPzqwh0q4ARiOyFCoCJuo=\"></script>\\n    \\n  </body>\\n</html>\\n'"
            ]
          },
          "metadata": {
            "tags": []
          },
          "execution_count": 18
        }
      ]
    },
    {
      "cell_type": "markdown",
      "metadata": {
        "id": "0jsIuD90Jmsa",
        "colab_type": "text"
      },
      "source": [
        "### Scraping the Web in Python"
      ]
    },
    {
      "cell_type": "code",
      "metadata": {
        "id": "3ApRSq4BJfVB",
        "colab_type": "code",
        "colab": {
          "base_uri": "https://localhost:8080/",
          "height": 1000
        },
        "outputId": "0c19f0c2-568b-489f-8a3c-632215727746"
      },
      "source": [
        "'''Using Beautiful Soup and requests'''\n",
        "from bs4 import BeautifulSoup\n",
        "import requests\n",
        "\n",
        "url = 'https://www.crummy.com/software/BeautifulSoup'\n",
        "r = requests.get(url)\n",
        "html_doc = r.text\n",
        "soup = BeautifulSoup(html_doc)\n",
        "soup"
      ],
      "execution_count": 19,
      "outputs": [
        {
          "output_type": "execute_result",
          "data": {
            "text/plain": [
              "<!DOCTYPE HTML PUBLIC \"-//W3C//DTD HTML 4.0 Transitional//EN\" \"http://www.w3.org/TR/REC-html40/transitional.dtd\">\n",
              "<html>\n",
              "<head>\n",
              "<meta content=\"text/html; charset=utf-8\" http-equiv=\"Content-Type\"/>\n",
              "<title>Beautiful Soup: We called him Tortoise because he taught us.</title>\n",
              "<link href=\"mailto:leonardr@segfault.org\" rev=\"made\"/>\n",
              "<link href=\"/nb/themes/Default/nb.css\" rel=\"stylesheet\" type=\"text/css\"/>\n",
              "<meta content=\"Beautiful Soup: a library designed for screen-scraping HTML and XML.\" name=\"Description\"/>\n",
              "<meta content=\"Markov Approximation 1.4 (module: leonardr)\" name=\"generator\"/>\n",
              "<meta content=\"Leonard Richardson\" name=\"author\"/>\n",
              "</head>\n",
              "<body alink=\"red\" bgcolor=\"white\" link=\"blue\" text=\"black\" vlink=\"660066\">\n",
              "<style>\n",
              "#tidelift { }\n",
              "\n",
              "#tidelift a {\n",
              " border: 1px solid #666666;\n",
              " margin-left: auto;\n",
              " padding: 10px;\n",
              " text-decoration: none;\n",
              "}\n",
              "\n",
              "#tidelift .cta {\n",
              " background: url(\"tidelift.svg\") no-repeat;\n",
              " padding-left: 30px;\n",
              "}\n",
              "</style>\n",
              "<img align=\"right\" src=\"10.1.jpg\" width=\"250\"/><br/>\n",
              "<p>[ <a href=\"#Download\">Download</a> | <a href=\"bs4/doc/\">Documentation</a> | <a href=\"#HallOfFame\">Hall of Fame</a> | <a href=\"enterprise.html\">For enterprise</a> | <a href=\"https://code.launchpad.net/beautifulsoup\">Source</a> | <a href=\"https://bazaar.launchpad.net/%7Eleonardr/beautifulsoup/bs4/view/head:/CHANGELOG\">Changelog</a> | <a href=\"https://groups.google.com/forum/?fromgroups#!forum/beautifulsoup\">Discussion group</a>  | <a href=\"zine/\">Zine</a> ]</p>\n",
              "<div align=\"center\">\n",
              "<a href=\"bs4/download/\"><h1>Beautiful Soup</h1></a>\n",
              "</div>\n",
              "<p>You didn't write that awful page. You're just trying to get some\n",
              "data out of it. Beautiful Soup is here to help. Since 2004, it's been\n",
              "saving programmers hours or days of work on quick-turnaround\n",
              "screen scraping projects.</p>\n",
              "<p>Beautiful Soup is a Python library designed for quick turnaround\n",
              "projects like screen-scraping. Three features make it powerful:\n",
              "\n",
              "</p><ol>\n",
              "<li>Beautiful Soup provides a few simple methods and Pythonic idioms\n",
              "for navigating, searching, and modifying a parse tree: a toolkit for\n",
              "dissecting a document and extracting what you need. It doesn't take\n",
              "much code to write an application\n",
              "\n",
              "</li><li>Beautiful Soup automatically converts incoming documents to\n",
              "Unicode and outgoing documents to UTF-8. You don't have to think\n",
              "about encodings, unless the document doesn't specify an encoding and\n",
              "Beautiful Soup can't detect one. Then you just have to specify the\n",
              "original encoding.\n",
              "\n",
              "</li><li>Beautiful Soup sits on top of popular Python parsers like <a href=\"http://lxml.de/\">lxml</a> and <a href=\"http://code.google.com/p/html5lib/\">html5lib</a>, allowing you\n",
              "to try out different parsing strategies or trade speed for\n",
              "flexibility.\n",
              "\n",
              "</li></ol>\n",
              "<p>Beautiful Soup parses anything you give it, and does the tree\n",
              "traversal stuff for you. You can tell it \"Find all the links\", or\n",
              "\"Find all the links of class <tt>externalLink</tt>\", or \"Find all the\n",
              "links whose urls match \"foo.com\", or \"Find the table heading that's\n",
              "got bold text, then give me that text.\"\n",
              "\n",
              "</p><p>Valuable data that was once locked up in poorly-designed websites\n",
              "is now within your reach. Projects that would have taken hours take\n",
              "only minutes with Beautiful Soup.\n",
              "\n",
              "</p><p>Interested? <a href=\"bs4/doc/\">Read more.</a>\n",
              "</p><h3>Getting and giving support</h3>\n",
              "<div align=\"center\" id=\"tidelift\">\n",
              "<a href=\"https://tidelift.com/subscription/pkg/pypi-beautifulsoup4?utm_source=pypi-beautifulsoup4&amp;utm_medium=referral&amp;utm_campaign=enterprise\" target=\"_blank\">\n",
              "<span class=\"cta\">\n",
              "  Beautiful Soup for enterprise available via Tidelift\n",
              " </span>\n",
              "</a>\n",
              "</div>\n",
              "<p>If you have questions, send them to <a href=\"https://groups.google.com/forum/?fromgroups#!forum/beautifulsoup\">the discussion\n",
              "group</a>. If you find a bug, <a href=\"https://bugs.launchpad.net/beautifulsoup/\">file it on Launchpad</a>. If it's a security vulnerability, report it confidentially through <a href=\"https://tidelift.com/security\">Tidelift</a>.</p>\n",
              "<p>If you use Beautiful Soup as part of your work, please consider a <a href=\"https://tidelift.com/subscription/pkg/pypi-beautifulsoup4?utm_source=pypi-beautifulsoup4&amp;utm_medium=referral&amp;utm_campaign=website\">Tidelift subscription</a>. This will support many of the free software projects your organization depends on, not just Beautiful Soup.\n",
              "\n",
              "\n",
              "</p><p>If Beautiful Soup is useful to you on a personal level, you might like to read <a href=\"zine/\"><i>Tool Safety</i></a>, a short zine I wrote about what I learned about software development from working on Beautiful Soup. Thanks!</p>\n",
              "<a name=\"Download\"><h2>Download Beautiful Soup</h2></a>\n",
              "<p>The current release is <a href=\"bs4/download/\">Beautiful Soup\n",
              "4.9.0</a> (April 5, 2020). You can install Beautiful Soup 4 with\n",
              "<code>pip install beautifulsoup4</code>.\n",
              "\n",
              "</p><p>In Debian and Ubuntu, Beautiful Soup is available as the\n",
              "<code>python-bs4</code> package (for Python 2) or the\n",
              "<code>python3-bs4</code> package (for Python 3). In Fedora it's\n",
              "available as the <code>python-beautifulsoup4</code> package.\n",
              "\n",
              "</p><p>Beautiful Soup is licensed under the MIT license, so you can also\n",
              "download the tarball, drop the <code>bs4/</code> directory into almost\n",
              "any Python application (or into your library path) and start using it\n",
              "immediately. (If you want to do this under Python 3, you will need to\n",
              "manually convert the code using <code>2to3</code>.)\n",
              "\n",
              "</p><p>Beautiful Soup 4 works on both Python 2 (2.7+) and Python\n",
              "3. Support for Python 2 will be discontinued on or after December 31,\n",
              "2020—one year after the Python 2 sunsetting date.\n",
              "\n",
              "</p><h3>Beautiful Soup 3</h3>\n",
              "<p>Beautiful Soup 3 was the official release line of Beautiful Soup\n",
              "from May 2006 to March 2012. It does not support Python 3 and it will\n",
              "be discontinued on or after December 31, 2020—one year after the\n",
              "Python 2 sunsetting date. If you have any active projects using\n",
              "Beautiful Soup 3, you should migrate to Beautiful Soup 4 as part of\n",
              "your Python 3 conversion.\n",
              "\n",
              "</p><p><a href=\"http://www.crummy.com/software/BeautifulSoup/bs3/documentation.html\">Here's\n",
              "the Beautiful Soup 3 documentation.</a>\n",
              "</p><p>The current and hopefully final release of Beautiful Soup 3 is <a href=\"download/3.x/BeautifulSoup-3.2.2.tar.gz\">3.2.2</a> (October 5,\n",
              "2019). It's the <code>BeautifulSoup</code> package on pip. It's also\n",
              "available as <code>python-beautifulsoup</code> in Debian and Ubuntu,\n",
              "and as <code>python-BeautifulSoup</code> in Fedora.\n",
              "\n",
              "</p><p>Once Beautiful Soup 3 is discontinued, these package names will be available for use by a more recent version of Beautiful Soup.\n",
              "\n",
              "</p><p>Beautiful Soup 3, like Beautiful Soup 4, is <a href=\"https://tidelift.com/subscription/pkg/pypi-beautifulsoup?utm_source=pypi-beautifulsoup&amp;utm_medium=referral&amp;utm_campaign=website\">supported through Tidelift</a>.</p>\n",
              "<a name=\"HallOfFame\"><h2>Hall of Fame</h2></a>\n",
              "<p>Over the years, Beautiful Soup has been used in hundreds of\n",
              "different projects. There's no way I can list them all, but I want to\n",
              "highlight a few high-profile projects. Beautiful Soup isn't what makes\n",
              "these projects interesting, but it did make their completion easier:\n",
              "\n",
              "</p><ul>\n",
              "<li><a href=\"http://www.nytimes.com/2007/10/25/arts/design/25vide.html\">\"Movable\n",
              " Type\"</a>, a work of digital art on display in the lobby of the New\n",
              " York Times building, uses Beautiful Soup to scrape news feeds.\n",
              "\n",
              "</li><li>Jiabao Lin's <a href=\"https://github.com/BlankerL/DXY-COVID-19-Crawler\">DXY-COVID-19-Crawler</a>\n",
              "uses Beautiful Soup to scrape a Chinese medical site for information\n",
              "about COVID-19, making it easier for researchers to track the spread\n",
              "of the virus. (Source: <a href=\"https://blog.tidelift.com/how-open-source-software-is-fighting-covid-19\">\"How open source software is fighting COVID-19\"</a>)\n",
              "\n",
              "</li><li>Reddit uses Beautiful Soup to <a href=\"https://github.com/reddit/reddit/blob/85f9cff3e2ab9bb8f19b96acd8da4ebacc079f04/r2/r2/lib/media.py\">parse\n",
              "a page that's been linked to and find a representative image</a>.\n",
              "\n",
              "</li><li>Alexander Harrowell uses Beautiful Soup to <a href=\"http://www.harrowell.org.uk/viktormap.html\">track the business\n",
              " activities</a> of an arms merchant.\n",
              "\n",
              "</li><li>The developers of Python itself used Beautiful Soup to <a href=\"http://svn.python.org/view/tracker/importer/\">migrate the Python\n",
              "bug tracker from Sourceforge to Roundup</a>.\n",
              "\n",
              "</li><li>The <a href=\"http://www2.ljworld.com/\">Lawrence Journal-World</a>\n",
              "uses Beautiful Soup to <a href=\"http://www.b-list.org/weblog/2010/nov/02/news-done-broke/\">gather\n",
              "statewide election results</a>.\n",
              "\n",
              "</li><li>The <a href=\"http://esrl.noaa.gov/gsd/fab/\">NOAA's Forecast\n",
              "Applications Branch</a> uses Beautiful Soup in <a href=\"http://laps.noaa.gov/topograbber/\">TopoGrabber</a>, a script for\n",
              "downloading \"high resolution USGS datasets.\"\n",
              "\n",
              "</li></ul>\n",
              "<p>If you've used Beautiful Soup in a project you'd like me to know\n",
              "about, please do send email to me or <a href=\"http://groups.google.com/group/beautifulsoup/\">the discussion\n",
              "group</a>.\n",
              "\n",
              "</p><h2>Development</h2>\n",
              "<p>Development happens at <a href=\"https://launchpad.net/beautifulsoup\">Launchpad</a>. You can <a href=\"https://code.launchpad.net/beautifulsoup/\">get the source\n",
              "code</a> or <a href=\"https://bugs.launchpad.net/beautifulsoup/\">file\n",
              "bugs</a>.</p><hr/><table><tr><td valign=\"top\">\n",
              "<p>This document (<a href=\"/source/software/BeautifulSoup/index.bhtml\">source</a>) is part of Crummy, the webspace of <a href=\"/self/\">Leonard Richardson</a> (<a href=\"/self/contact.html\">contact information</a>). It was last modified on Monday, April 06 2020, 17:23:04 Nowhere Standard Time and last built on Friday, April 10 2020, 17:00:01 Nowhere Standard Time.</p><p></p><table class=\"licenseText\"><tr><td><a href=\"http://creativecommons.org/licenses/by-sa/2.0/\"><img border=\"0\" src=\"/nb//resources/img/somerights20.jpg\"/></a></td><td valign=\"top\">Crummy is © 1996-2020 Leonard Richardson. Unless otherwise noted, all text licensed under a <a href=\"http://creativecommons.org/licenses/by-sa/2.0/\">Creative Commons License</a>.</td></tr></table><!--<rdf:RDF xmlns=\"http://web.resource.org/cc/\" xmlns:dc=\"http://purl.org/dc/elements/1.1/\" xmlns:rdf=\"http://www.w3.org/1999/02/22-rdf-syntax-ns#\"><Work rdf:about=\"http://www.crummy.com/\"><dc:title>Crummy: The Site</dc:title><dc:rights><Agent><dc:title>Crummy: the Site</dc:title></Agent></dc:rights><dc:format>text/html</dc:format><license rdf:resource=http://creativecommons.org/licenses/by-sa/2.0//></Work><License rdf:about=\"http://creativecommons.org/licenses/by-sa/2.0/\"></License></rdf:RDF>--></td><td valign=\"top\"><p><b>Document tree:</b>\n",
              "</p><dl><dd><a href=\"http://www.crummy.com/\">http://www.crummy.com/</a><dl><dd><a href=\"http://www.crummy.com/software/\">software/</a><dl><dd><a href=\"http://www.crummy.com/software/BeautifulSoup/\">BeautifulSoup/</a></dd></dl>\n",
              "</dd></dl>\n",
              "</dd></dl>\n",
              "\n",
              "\n",
              "Site Search:\n",
              "\n",
              "<form action=\"/search/\" method=\"get\">\n",
              "<input maxlength=\"255\" name=\"q\" type=\"text\" value=\"\"/>\n",
              "</form>\n",
              "</td>\n",
              "</tr>\n",
              "</table>\n",
              "</body>\n",
              "</html>"
            ]
          },
          "metadata": {
            "tags": []
          },
          "execution_count": 19
        }
      ]
    },
    {
      "cell_type": "code",
      "metadata": {
        "id": "sPuCJq_OLLTo",
        "colab_type": "code",
        "colab": {
          "base_uri": "https://localhost:8080/",
          "height": 1000
        },
        "outputId": "a534bfdd-620e-412d-9e03-37822167985e"
      },
      "source": [
        "soup.prettify"
      ],
      "execution_count": 20,
      "outputs": [
        {
          "output_type": "execute_result",
          "data": {
            "text/plain": [
              "<bound method Tag.prettify of <!DOCTYPE HTML PUBLIC \"-//W3C//DTD HTML 4.0 Transitional//EN\" \"http://www.w3.org/TR/REC-html40/transitional.dtd\">\n",
              "<html>\n",
              "<head>\n",
              "<meta content=\"text/html; charset=utf-8\" http-equiv=\"Content-Type\"/>\n",
              "<title>Beautiful Soup: We called him Tortoise because he taught us.</title>\n",
              "<link href=\"mailto:leonardr@segfault.org\" rev=\"made\"/>\n",
              "<link href=\"/nb/themes/Default/nb.css\" rel=\"stylesheet\" type=\"text/css\"/>\n",
              "<meta content=\"Beautiful Soup: a library designed for screen-scraping HTML and XML.\" name=\"Description\"/>\n",
              "<meta content=\"Markov Approximation 1.4 (module: leonardr)\" name=\"generator\"/>\n",
              "<meta content=\"Leonard Richardson\" name=\"author\"/>\n",
              "</head>\n",
              "<body alink=\"red\" bgcolor=\"white\" link=\"blue\" text=\"black\" vlink=\"660066\">\n",
              "<style>\n",
              "#tidelift { }\n",
              "\n",
              "#tidelift a {\n",
              " border: 1px solid #666666;\n",
              " margin-left: auto;\n",
              " padding: 10px;\n",
              " text-decoration: none;\n",
              "}\n",
              "\n",
              "#tidelift .cta {\n",
              " background: url(\"tidelift.svg\") no-repeat;\n",
              " padding-left: 30px;\n",
              "}\n",
              "</style>\n",
              "<img align=\"right\" src=\"10.1.jpg\" width=\"250\"/><br/>\n",
              "<p>[ <a href=\"#Download\">Download</a> | <a href=\"bs4/doc/\">Documentation</a> | <a href=\"#HallOfFame\">Hall of Fame</a> | <a href=\"enterprise.html\">For enterprise</a> | <a href=\"https://code.launchpad.net/beautifulsoup\">Source</a> | <a href=\"https://bazaar.launchpad.net/%7Eleonardr/beautifulsoup/bs4/view/head:/CHANGELOG\">Changelog</a> | <a href=\"https://groups.google.com/forum/?fromgroups#!forum/beautifulsoup\">Discussion group</a>  | <a href=\"zine/\">Zine</a> ]</p>\n",
              "<div align=\"center\">\n",
              "<a href=\"bs4/download/\"><h1>Beautiful Soup</h1></a>\n",
              "</div>\n",
              "<p>You didn't write that awful page. You're just trying to get some\n",
              "data out of it. Beautiful Soup is here to help. Since 2004, it's been\n",
              "saving programmers hours or days of work on quick-turnaround\n",
              "screen scraping projects.</p>\n",
              "<p>Beautiful Soup is a Python library designed for quick turnaround\n",
              "projects like screen-scraping. Three features make it powerful:\n",
              "\n",
              "</p><ol>\n",
              "<li>Beautiful Soup provides a few simple methods and Pythonic idioms\n",
              "for navigating, searching, and modifying a parse tree: a toolkit for\n",
              "dissecting a document and extracting what you need. It doesn't take\n",
              "much code to write an application\n",
              "\n",
              "</li><li>Beautiful Soup automatically converts incoming documents to\n",
              "Unicode and outgoing documents to UTF-8. You don't have to think\n",
              "about encodings, unless the document doesn't specify an encoding and\n",
              "Beautiful Soup can't detect one. Then you just have to specify the\n",
              "original encoding.\n",
              "\n",
              "</li><li>Beautiful Soup sits on top of popular Python parsers like <a href=\"http://lxml.de/\">lxml</a> and <a href=\"http://code.google.com/p/html5lib/\">html5lib</a>, allowing you\n",
              "to try out different parsing strategies or trade speed for\n",
              "flexibility.\n",
              "\n",
              "</li></ol>\n",
              "<p>Beautiful Soup parses anything you give it, and does the tree\n",
              "traversal stuff for you. You can tell it \"Find all the links\", or\n",
              "\"Find all the links of class <tt>externalLink</tt>\", or \"Find all the\n",
              "links whose urls match \"foo.com\", or \"Find the table heading that's\n",
              "got bold text, then give me that text.\"\n",
              "\n",
              "</p><p>Valuable data that was once locked up in poorly-designed websites\n",
              "is now within your reach. Projects that would have taken hours take\n",
              "only minutes with Beautiful Soup.\n",
              "\n",
              "</p><p>Interested? <a href=\"bs4/doc/\">Read more.</a>\n",
              "</p><h3>Getting and giving support</h3>\n",
              "<div align=\"center\" id=\"tidelift\">\n",
              "<a href=\"https://tidelift.com/subscription/pkg/pypi-beautifulsoup4?utm_source=pypi-beautifulsoup4&amp;utm_medium=referral&amp;utm_campaign=enterprise\" target=\"_blank\">\n",
              "<span class=\"cta\">\n",
              "  Beautiful Soup for enterprise available via Tidelift\n",
              " </span>\n",
              "</a>\n",
              "</div>\n",
              "<p>If you have questions, send them to <a href=\"https://groups.google.com/forum/?fromgroups#!forum/beautifulsoup\">the discussion\n",
              "group</a>. If you find a bug, <a href=\"https://bugs.launchpad.net/beautifulsoup/\">file it on Launchpad</a>. If it's a security vulnerability, report it confidentially through <a href=\"https://tidelift.com/security\">Tidelift</a>.</p>\n",
              "<p>If you use Beautiful Soup as part of your work, please consider a <a href=\"https://tidelift.com/subscription/pkg/pypi-beautifulsoup4?utm_source=pypi-beautifulsoup4&amp;utm_medium=referral&amp;utm_campaign=website\">Tidelift subscription</a>. This will support many of the free software projects your organization depends on, not just Beautiful Soup.\n",
              "\n",
              "\n",
              "</p><p>If Beautiful Soup is useful to you on a personal level, you might like to read <a href=\"zine/\"><i>Tool Safety</i></a>, a short zine I wrote about what I learned about software development from working on Beautiful Soup. Thanks!</p>\n",
              "<a name=\"Download\"><h2>Download Beautiful Soup</h2></a>\n",
              "<p>The current release is <a href=\"bs4/download/\">Beautiful Soup\n",
              "4.9.0</a> (April 5, 2020). You can install Beautiful Soup 4 with\n",
              "<code>pip install beautifulsoup4</code>.\n",
              "\n",
              "</p><p>In Debian and Ubuntu, Beautiful Soup is available as the\n",
              "<code>python-bs4</code> package (for Python 2) or the\n",
              "<code>python3-bs4</code> package (for Python 3). In Fedora it's\n",
              "available as the <code>python-beautifulsoup4</code> package.\n",
              "\n",
              "</p><p>Beautiful Soup is licensed under the MIT license, so you can also\n",
              "download the tarball, drop the <code>bs4/</code> directory into almost\n",
              "any Python application (or into your library path) and start using it\n",
              "immediately. (If you want to do this under Python 3, you will need to\n",
              "manually convert the code using <code>2to3</code>.)\n",
              "\n",
              "</p><p>Beautiful Soup 4 works on both Python 2 (2.7+) and Python\n",
              "3. Support for Python 2 will be discontinued on or after December 31,\n",
              "2020—one year after the Python 2 sunsetting date.\n",
              "\n",
              "</p><h3>Beautiful Soup 3</h3>\n",
              "<p>Beautiful Soup 3 was the official release line of Beautiful Soup\n",
              "from May 2006 to March 2012. It does not support Python 3 and it will\n",
              "be discontinued on or after December 31, 2020—one year after the\n",
              "Python 2 sunsetting date. If you have any active projects using\n",
              "Beautiful Soup 3, you should migrate to Beautiful Soup 4 as part of\n",
              "your Python 3 conversion.\n",
              "\n",
              "</p><p><a href=\"http://www.crummy.com/software/BeautifulSoup/bs3/documentation.html\">Here's\n",
              "the Beautiful Soup 3 documentation.</a>\n",
              "</p><p>The current and hopefully final release of Beautiful Soup 3 is <a href=\"download/3.x/BeautifulSoup-3.2.2.tar.gz\">3.2.2</a> (October 5,\n",
              "2019). It's the <code>BeautifulSoup</code> package on pip. It's also\n",
              "available as <code>python-beautifulsoup</code> in Debian and Ubuntu,\n",
              "and as <code>python-BeautifulSoup</code> in Fedora.\n",
              "\n",
              "</p><p>Once Beautiful Soup 3 is discontinued, these package names will be available for use by a more recent version of Beautiful Soup.\n",
              "\n",
              "</p><p>Beautiful Soup 3, like Beautiful Soup 4, is <a href=\"https://tidelift.com/subscription/pkg/pypi-beautifulsoup?utm_source=pypi-beautifulsoup&amp;utm_medium=referral&amp;utm_campaign=website\">supported through Tidelift</a>.</p>\n",
              "<a name=\"HallOfFame\"><h2>Hall of Fame</h2></a>\n",
              "<p>Over the years, Beautiful Soup has been used in hundreds of\n",
              "different projects. There's no way I can list them all, but I want to\n",
              "highlight a few high-profile projects. Beautiful Soup isn't what makes\n",
              "these projects interesting, but it did make their completion easier:\n",
              "\n",
              "</p><ul>\n",
              "<li><a href=\"http://www.nytimes.com/2007/10/25/arts/design/25vide.html\">\"Movable\n",
              " Type\"</a>, a work of digital art on display in the lobby of the New\n",
              " York Times building, uses Beautiful Soup to scrape news feeds.\n",
              "\n",
              "</li><li>Jiabao Lin's <a href=\"https://github.com/BlankerL/DXY-COVID-19-Crawler\">DXY-COVID-19-Crawler</a>\n",
              "uses Beautiful Soup to scrape a Chinese medical site for information\n",
              "about COVID-19, making it easier for researchers to track the spread\n",
              "of the virus. (Source: <a href=\"https://blog.tidelift.com/how-open-source-software-is-fighting-covid-19\">\"How open source software is fighting COVID-19\"</a>)\n",
              "\n",
              "</li><li>Reddit uses Beautiful Soup to <a href=\"https://github.com/reddit/reddit/blob/85f9cff3e2ab9bb8f19b96acd8da4ebacc079f04/r2/r2/lib/media.py\">parse\n",
              "a page that's been linked to and find a representative image</a>.\n",
              "\n",
              "</li><li>Alexander Harrowell uses Beautiful Soup to <a href=\"http://www.harrowell.org.uk/viktormap.html\">track the business\n",
              " activities</a> of an arms merchant.\n",
              "\n",
              "</li><li>The developers of Python itself used Beautiful Soup to <a href=\"http://svn.python.org/view/tracker/importer/\">migrate the Python\n",
              "bug tracker from Sourceforge to Roundup</a>.\n",
              "\n",
              "</li><li>The <a href=\"http://www2.ljworld.com/\">Lawrence Journal-World</a>\n",
              "uses Beautiful Soup to <a href=\"http://www.b-list.org/weblog/2010/nov/02/news-done-broke/\">gather\n",
              "statewide election results</a>.\n",
              "\n",
              "</li><li>The <a href=\"http://esrl.noaa.gov/gsd/fab/\">NOAA's Forecast\n",
              "Applications Branch</a> uses Beautiful Soup in <a href=\"http://laps.noaa.gov/topograbber/\">TopoGrabber</a>, a script for\n",
              "downloading \"high resolution USGS datasets.\"\n",
              "\n",
              "</li></ul>\n",
              "<p>If you've used Beautiful Soup in a project you'd like me to know\n",
              "about, please do send email to me or <a href=\"http://groups.google.com/group/beautifulsoup/\">the discussion\n",
              "group</a>.\n",
              "\n",
              "</p><h2>Development</h2>\n",
              "<p>Development happens at <a href=\"https://launchpad.net/beautifulsoup\">Launchpad</a>. You can <a href=\"https://code.launchpad.net/beautifulsoup/\">get the source\n",
              "code</a> or <a href=\"https://bugs.launchpad.net/beautifulsoup/\">file\n",
              "bugs</a>.</p><hr/><table><tr><td valign=\"top\">\n",
              "<p>This document (<a href=\"/source/software/BeautifulSoup/index.bhtml\">source</a>) is part of Crummy, the webspace of <a href=\"/self/\">Leonard Richardson</a> (<a href=\"/self/contact.html\">contact information</a>). It was last modified on Monday, April 06 2020, 17:23:04 Nowhere Standard Time and last built on Friday, April 10 2020, 17:00:01 Nowhere Standard Time.</p><p></p><table class=\"licenseText\"><tr><td><a href=\"http://creativecommons.org/licenses/by-sa/2.0/\"><img border=\"0\" src=\"/nb//resources/img/somerights20.jpg\"/></a></td><td valign=\"top\">Crummy is © 1996-2020 Leonard Richardson. Unless otherwise noted, all text licensed under a <a href=\"http://creativecommons.org/licenses/by-sa/2.0/\">Creative Commons License</a>.</td></tr></table><!--<rdf:RDF xmlns=\"http://web.resource.org/cc/\" xmlns:dc=\"http://purl.org/dc/elements/1.1/\" xmlns:rdf=\"http://www.w3.org/1999/02/22-rdf-syntax-ns#\"><Work rdf:about=\"http://www.crummy.com/\"><dc:title>Crummy: The Site</dc:title><dc:rights><Agent><dc:title>Crummy: the Site</dc:title></Agent></dc:rights><dc:format>text/html</dc:format><license rdf:resource=http://creativecommons.org/licenses/by-sa/2.0//></Work><License rdf:about=\"http://creativecommons.org/licenses/by-sa/2.0/\"></License></rdf:RDF>--></td><td valign=\"top\"><p><b>Document tree:</b>\n",
              "</p><dl><dd><a href=\"http://www.crummy.com/\">http://www.crummy.com/</a><dl><dd><a href=\"http://www.crummy.com/software/\">software/</a><dl><dd><a href=\"http://www.crummy.com/software/BeautifulSoup/\">BeautifulSoup/</a></dd></dl>\n",
              "</dd></dl>\n",
              "</dd></dl>\n",
              "\n",
              "\n",
              "Site Search:\n",
              "\n",
              "<form action=\"/search/\" method=\"get\">\n",
              "<input maxlength=\"255\" name=\"q\" type=\"text\" value=\"\"/>\n",
              "</form>\n",
              "</td>\n",
              "</tr>\n",
              "</table>\n",
              "</body>\n",
              "</html>\n",
              ">"
            ]
          },
          "metadata": {
            "tags": []
          },
          "execution_count": 20
        }
      ]
    },
    {
      "cell_type": "code",
      "metadata": {
        "id": "MeYPEBeVLWGG",
        "colab_type": "code",
        "colab": {
          "base_uri": "https://localhost:8080/",
          "height": 34
        },
        "outputId": "706acff5-2928-4a1a-f0bf-305207582c0b"
      },
      "source": [
        "print(soup.title)"
      ],
      "execution_count": 25,
      "outputs": [
        {
          "output_type": "stream",
          "text": [
            "<title>Beautiful Soup: We called him Tortoise because he taught us.</title>\n"
          ],
          "name": "stdout"
        }
      ]
    },
    {
      "cell_type": "code",
      "metadata": {
        "id": "1kIYdZBSLfN-",
        "colab_type": "code",
        "colab": {
          "base_uri": "https://localhost:8080/",
          "height": 1000
        },
        "outputId": "fb007f9a-bb38-4d3e-cc27-c045d2561942"
      },
      "source": [
        "print(soup.get_text()) #not using print in this case leaves tags in the text"
      ],
      "execution_count": 24,
      "outputs": [
        {
          "output_type": "stream",
          "text": [
            "\n",
            "\n",
            "\n",
            "Beautiful Soup: We called him Tortoise because he taught us.\n",
            "\n",
            "\n",
            "\n",
            "\n",
            "\n",
            "\n",
            "\n",
            "\n",
            "#tidelift { }\n",
            "\n",
            "#tidelift a {\n",
            " border: 1px solid #666666;\n",
            " margin-left: auto;\n",
            " padding: 10px;\n",
            " text-decoration: none;\n",
            "}\n",
            "\n",
            "#tidelift .cta {\n",
            " background: url(\"tidelift.svg\") no-repeat;\n",
            " padding-left: 30px;\n",
            "}\n",
            "\n",
            "\n",
            "[ Download | Documentation | Hall of Fame | For enterprise | Source | Changelog | Discussion group  | Zine ]\n",
            "\n",
            "Beautiful Soup\n",
            "\n",
            "You didn't write that awful page. You're just trying to get some\n",
            "data out of it. Beautiful Soup is here to help. Since 2004, it's been\n",
            "saving programmers hours or days of work on quick-turnaround\n",
            "screen scraping projects.\n",
            "Beautiful Soup is a Python library designed for quick turnaround\n",
            "projects like screen-scraping. Three features make it powerful:\n",
            "\n",
            "\n",
            "Beautiful Soup provides a few simple methods and Pythonic idioms\n",
            "for navigating, searching, and modifying a parse tree: a toolkit for\n",
            "dissecting a document and extracting what you need. It doesn't take\n",
            "much code to write an application\n",
            "\n",
            "Beautiful Soup automatically converts incoming documents to\n",
            "Unicode and outgoing documents to UTF-8. You don't have to think\n",
            "about encodings, unless the document doesn't specify an encoding and\n",
            "Beautiful Soup can't detect one. Then you just have to specify the\n",
            "original encoding.\n",
            "\n",
            "Beautiful Soup sits on top of popular Python parsers like lxml and html5lib, allowing you\n",
            "to try out different parsing strategies or trade speed for\n",
            "flexibility.\n",
            "\n",
            "\n",
            "Beautiful Soup parses anything you give it, and does the tree\n",
            "traversal stuff for you. You can tell it \"Find all the links\", or\n",
            "\"Find all the links of class externalLink\", or \"Find all the\n",
            "links whose urls match \"foo.com\", or \"Find the table heading that's\n",
            "got bold text, then give me that text.\"\n",
            "\n",
            "Valuable data that was once locked up in poorly-designed websites\n",
            "is now within your reach. Projects that would have taken hours take\n",
            "only minutes with Beautiful Soup.\n",
            "\n",
            "Interested? Read more.\n",
            "Getting and giving support\n",
            "\n",
            "\n",
            "\n",
            "  Beautiful Soup for enterprise available via Tidelift\n",
            " \n",
            "\n",
            "\n",
            "If you have questions, send them to the discussion\n",
            "group. If you find a bug, file it on Launchpad. If it's a security vulnerability, report it confidentially through Tidelift.\n",
            "If you use Beautiful Soup as part of your work, please consider a Tidelift subscription. This will support many of the free software projects your organization depends on, not just Beautiful Soup.\n",
            "\n",
            "\n",
            "If Beautiful Soup is useful to you on a personal level, you might like to read Tool Safety, a short zine I wrote about what I learned about software development from working on Beautiful Soup. Thanks!\n",
            "Download Beautiful Soup\n",
            "The current release is Beautiful Soup\n",
            "4.9.0 (April 5, 2020). You can install Beautiful Soup 4 with\n",
            "pip install beautifulsoup4.\n",
            "\n",
            "In Debian and Ubuntu, Beautiful Soup is available as the\n",
            "python-bs4 package (for Python 2) or the\n",
            "python3-bs4 package (for Python 3). In Fedora it's\n",
            "available as the python-beautifulsoup4 package.\n",
            "\n",
            "Beautiful Soup is licensed under the MIT license, so you can also\n",
            "download the tarball, drop the bs4/ directory into almost\n",
            "any Python application (or into your library path) and start using it\n",
            "immediately. (If you want to do this under Python 3, you will need to\n",
            "manually convert the code using 2to3.)\n",
            "\n",
            "Beautiful Soup 4 works on both Python 2 (2.7+) and Python\n",
            "3. Support for Python 2 will be discontinued on or after December 31,\n",
            "2020—one year after the Python 2 sunsetting date.\n",
            "\n",
            "Beautiful Soup 3\n",
            "Beautiful Soup 3 was the official release line of Beautiful Soup\n",
            "from May 2006 to March 2012. It does not support Python 3 and it will\n",
            "be discontinued on or after December 31, 2020—one year after the\n",
            "Python 2 sunsetting date. If you have any active projects using\n",
            "Beautiful Soup 3, you should migrate to Beautiful Soup 4 as part of\n",
            "your Python 3 conversion.\n",
            "\n",
            "Here's\n",
            "the Beautiful Soup 3 documentation.\n",
            "The current and hopefully final release of Beautiful Soup 3 is 3.2.2 (October 5,\n",
            "2019). It's the BeautifulSoup package on pip. It's also\n",
            "available as python-beautifulsoup in Debian and Ubuntu,\n",
            "and as python-BeautifulSoup in Fedora.\n",
            "\n",
            "Once Beautiful Soup 3 is discontinued, these package names will be available for use by a more recent version of Beautiful Soup.\n",
            "\n",
            "Beautiful Soup 3, like Beautiful Soup 4, is supported through Tidelift.\n",
            "Hall of Fame\n",
            "Over the years, Beautiful Soup has been used in hundreds of\n",
            "different projects. There's no way I can list them all, but I want to\n",
            "highlight a few high-profile projects. Beautiful Soup isn't what makes\n",
            "these projects interesting, but it did make their completion easier:\n",
            "\n",
            "\n",
            "\"Movable\n",
            " Type\", a work of digital art on display in the lobby of the New\n",
            " York Times building, uses Beautiful Soup to scrape news feeds.\n",
            "\n",
            "Jiabao Lin's DXY-COVID-19-Crawler\n",
            "uses Beautiful Soup to scrape a Chinese medical site for information\n",
            "about COVID-19, making it easier for researchers to track the spread\n",
            "of the virus. (Source: \"How open source software is fighting COVID-19\")\n",
            "\n",
            "Reddit uses Beautiful Soup to parse\n",
            "a page that's been linked to and find a representative image.\n",
            "\n",
            "Alexander Harrowell uses Beautiful Soup to track the business\n",
            " activities of an arms merchant.\n",
            "\n",
            "The developers of Python itself used Beautiful Soup to migrate the Python\n",
            "bug tracker from Sourceforge to Roundup.\n",
            "\n",
            "The Lawrence Journal-World\n",
            "uses Beautiful Soup to gather\n",
            "statewide election results.\n",
            "\n",
            "The NOAA's Forecast\n",
            "Applications Branch uses Beautiful Soup in TopoGrabber, a script for\n",
            "downloading \"high resolution USGS datasets.\"\n",
            "\n",
            "\n",
            "If you've used Beautiful Soup in a project you'd like me to know\n",
            "about, please do send email to me or the discussion\n",
            "group.\n",
            "\n",
            "Development\n",
            "Development happens at Launchpad. You can get the source\n",
            "code or file\n",
            "bugs.\n",
            "This document (source) is part of Crummy, the webspace of Leonard Richardson (contact information). It was last modified on Monday, April 06 2020, 17:23:04 Nowhere Standard Time and last built on Friday, April 10 2020, 17:00:01 Nowhere Standard Time.Crummy is © 1996-2020 Leonard Richardson. Unless otherwise noted, all text licensed under a Creative Commons License.Document tree:\n",
            "http://www.crummy.com/software/BeautifulSoup/\n",
            "\n",
            "\n",
            "\n",
            "\n",
            "Site Search:\n",
            "\n",
            "\n",
            "\n",
            "\n",
            "\n",
            "\n",
            "\n",
            "\n",
            "\n",
            "\n"
          ],
          "name": "stdout"
        }
      ]
    },
    {
      "cell_type": "code",
      "metadata": {
        "id": "ocmK3XFmLg4G",
        "colab_type": "code",
        "colab": {
          "base_uri": "https://localhost:8080/",
          "height": 819
        },
        "outputId": "182c5bc1-0036-44e6-f311-2d134ae6d5c7"
      },
      "source": [
        "for link in soup.find_all('a'):\n",
        "  print(link.get('href'))"
      ],
      "execution_count": 26,
      "outputs": [
        {
          "output_type": "stream",
          "text": [
            "#Download\n",
            "bs4/doc/\n",
            "#HallOfFame\n",
            "enterprise.html\n",
            "https://code.launchpad.net/beautifulsoup\n",
            "https://bazaar.launchpad.net/%7Eleonardr/beautifulsoup/bs4/view/head:/CHANGELOG\n",
            "https://groups.google.com/forum/?fromgroups#!forum/beautifulsoup\n",
            "zine/\n",
            "bs4/download/\n",
            "http://lxml.de/\n",
            "http://code.google.com/p/html5lib/\n",
            "bs4/doc/\n",
            "https://tidelift.com/subscription/pkg/pypi-beautifulsoup4?utm_source=pypi-beautifulsoup4&utm_medium=referral&utm_campaign=enterprise\n",
            "https://groups.google.com/forum/?fromgroups#!forum/beautifulsoup\n",
            "https://bugs.launchpad.net/beautifulsoup/\n",
            "https://tidelift.com/security\n",
            "https://tidelift.com/subscription/pkg/pypi-beautifulsoup4?utm_source=pypi-beautifulsoup4&utm_medium=referral&utm_campaign=website\n",
            "zine/\n",
            "None\n",
            "bs4/download/\n",
            "http://www.crummy.com/software/BeautifulSoup/bs3/documentation.html\n",
            "download/3.x/BeautifulSoup-3.2.2.tar.gz\n",
            "https://tidelift.com/subscription/pkg/pypi-beautifulsoup?utm_source=pypi-beautifulsoup&utm_medium=referral&utm_campaign=website\n",
            "None\n",
            "http://www.nytimes.com/2007/10/25/arts/design/25vide.html\n",
            "https://github.com/BlankerL/DXY-COVID-19-Crawler\n",
            "https://blog.tidelift.com/how-open-source-software-is-fighting-covid-19\n",
            "https://github.com/reddit/reddit/blob/85f9cff3e2ab9bb8f19b96acd8da4ebacc079f04/r2/r2/lib/media.py\n",
            "http://www.harrowell.org.uk/viktormap.html\n",
            "http://svn.python.org/view/tracker/importer/\n",
            "http://www2.ljworld.com/\n",
            "http://www.b-list.org/weblog/2010/nov/02/news-done-broke/\n",
            "http://esrl.noaa.gov/gsd/fab/\n",
            "http://laps.noaa.gov/topograbber/\n",
            "http://groups.google.com/group/beautifulsoup/\n",
            "https://launchpad.net/beautifulsoup\n",
            "https://code.launchpad.net/beautifulsoup/\n",
            "https://bugs.launchpad.net/beautifulsoup/\n",
            "/source/software/BeautifulSoup/index.bhtml\n",
            "/self/\n",
            "/self/contact.html\n",
            "http://creativecommons.org/licenses/by-sa/2.0/\n",
            "http://creativecommons.org/licenses/by-sa/2.0/\n",
            "http://www.crummy.com/\n",
            "http://www.crummy.com/software/\n",
            "http://www.crummy.com/software/BeautifulSoup/\n"
          ],
          "name": "stdout"
        }
      ]
    },
    {
      "cell_type": "markdown",
      "metadata": {
        "id": "nHmvxiXGM4a0",
        "colab_type": "text"
      },
      "source": [
        "# Interacting with API's"
      ]
    },
    {
      "cell_type": "markdown",
      "metadata": {
        "id": "K85_HgNnWAZi",
        "colab_type": "text"
      },
      "source": [
        "### Intro to API's and JSON"
      ]
    },
    {
      "cell_type": "code",
      "metadata": {
        "id": "jrl6CICWM6eF",
        "colab_type": "code",
        "colab": {}
      },
      "source": [
        "# JSON format most common to get from api's, dictionaries, keys always strings"
      ],
      "execution_count": 0,
      "outputs": []
    },
    {
      "cell_type": "code",
      "metadata": {
        "id": "voc8CIcIXRQc",
        "colab_type": "code",
        "colab": {}
      },
      "source": [
        "'''Importing local JSON file'''\n",
        "import json\n",
        "with open('features.json','r') as json_file:\n",
        "  json_data = json.load(json_file)"
      ],
      "execution_count": 0,
      "outputs": []
    },
    {
      "cell_type": "code",
      "metadata": {
        "id": "GGCs3nXjX2nW",
        "colab_type": "code",
        "colab": {
          "base_uri": "https://localhost:8080/",
          "height": 34
        },
        "outputId": "24990577-0285-46eb-b91c-8c7242cf359f"
      },
      "source": [
        "type(json_data)"
      ],
      "execution_count": 30,
      "outputs": [
        {
          "output_type": "execute_result",
          "data": {
            "text/plain": [
              "dict"
            ]
          },
          "metadata": {
            "tags": []
          },
          "execution_count": 30
        }
      ]
    },
    {
      "cell_type": "code",
      "metadata": {
        "id": "-TuNejauX5S1",
        "colab_type": "code",
        "colab": {
          "base_uri": "https://localhost:8080/",
          "height": 119
        },
        "outputId": "bd404f61-96f4-4e40-e24f-8e48703340f4"
      },
      "source": [
        "json_data"
      ],
      "execution_count": 31,
      "outputs": [
        {
          "output_type": "execute_result",
          "data": {
            "text/plain": [
              "{'discoverEEV1': {'description': '', 'ratio': 1},\n",
              " 'dockerCloudFederationV1': {'description': '', 'ratio': 1},\n",
              " 'passthroughHTTPProxy': {'description': '', 'ratio': 1},\n",
              " 'releaseNotesV1': {'description': '', 'ratio': 1},\n",
              " 'settingsV0': {'force-disable': True, 'ratio': 0},\n",
              " 'swarmFederation': {'description': '', 'force-disable': True, 'ratio': 1}}"
            ]
          },
          "metadata": {
            "tags": []
          },
          "execution_count": 31
        }
      ]
    },
    {
      "cell_type": "code",
      "metadata": {
        "id": "8yVG_ZG5X6j9",
        "colab_type": "code",
        "colab": {
          "base_uri": "https://localhost:8080/",
          "height": 119
        },
        "outputId": "0e3de5f5-c1a9-4946-d601-92d3b5ab151c"
      },
      "source": [
        "for key, value in json_data.items():\n",
        "  print(key, value)"
      ],
      "execution_count": 32,
      "outputs": [
        {
          "output_type": "stream",
          "text": [
            "passthroughHTTPProxy {'ratio': 1, 'description': ''}\n",
            "releaseNotesV1 {'ratio': 1, 'description': ''}\n",
            "swarmFederation {'force-disable': True, 'ratio': 1, 'description': ''}\n",
            "dockerCloudFederationV1 {'ratio': 1, 'description': ''}\n",
            "discoverEEV1 {'ratio': 1, 'description': ''}\n",
            "settingsV0 {'force-disable': True, 'ratio': 0}\n"
          ],
          "name": "stdout"
        }
      ]
    },
    {
      "cell_type": "code",
      "metadata": {
        "id": "NbYG3icjYIT9",
        "colab_type": "code",
        "colab": {
          "base_uri": "https://localhost:8080/",
          "height": 139
        },
        "outputId": "09a29d6f-8d94-4bc1-a4f5-282bbe1e4cc8"
      },
      "source": [
        "# printing values without referencing them in the for loop\n",
        "for key in json_data.keys():\n",
        "  print(key + ': ', json_data.values())"
      ],
      "execution_count": 35,
      "outputs": [
        {
          "output_type": "stream",
          "text": [
            "passthroughHTTPProxy:  dict_values([{'ratio': 1, 'description': ''}, {'ratio': 1, 'description': ''}, {'force-disable': True, 'ratio': 1, 'description': ''}, {'ratio': 1, 'description': ''}, {'ratio': 1, 'description': ''}, {'force-disable': True, 'ratio': 0}])\n",
            "releaseNotesV1:  dict_values([{'ratio': 1, 'description': ''}, {'ratio': 1, 'description': ''}, {'force-disable': True, 'ratio': 1, 'description': ''}, {'ratio': 1, 'description': ''}, {'ratio': 1, 'description': ''}, {'force-disable': True, 'ratio': 0}])\n",
            "swarmFederation:  dict_values([{'ratio': 1, 'description': ''}, {'ratio': 1, 'description': ''}, {'force-disable': True, 'ratio': 1, 'description': ''}, {'ratio': 1, 'description': ''}, {'ratio': 1, 'description': ''}, {'force-disable': True, 'ratio': 0}])\n",
            "dockerCloudFederationV1:  dict_values([{'ratio': 1, 'description': ''}, {'ratio': 1, 'description': ''}, {'force-disable': True, 'ratio': 1, 'description': ''}, {'ratio': 1, 'description': ''}, {'ratio': 1, 'description': ''}, {'force-disable': True, 'ratio': 0}])\n",
            "discoverEEV1:  dict_values([{'ratio': 1, 'description': ''}, {'ratio': 1, 'description': ''}, {'force-disable': True, 'ratio': 1, 'description': ''}, {'ratio': 1, 'description': ''}, {'ratio': 1, 'description': ''}, {'force-disable': True, 'ratio': 0}])\n",
            "settingsV0:  dict_values([{'ratio': 1, 'description': ''}, {'ratio': 1, 'description': ''}, {'force-disable': True, 'ratio': 1, 'description': ''}, {'ratio': 1, 'description': ''}, {'ratio': 1, 'description': ''}, {'force-disable': True, 'ratio': 0}])\n"
          ],
          "name": "stdout"
        }
      ]
    },
    {
      "cell_type": "markdown",
      "metadata": {
        "id": "jFmKmGo6ZgQ6",
        "colab_type": "text"
      },
      "source": [
        "### APIs and the web"
      ]
    },
    {
      "cell_type": "code",
      "metadata": {
        "id": "TQpdwZv8Y3Av",
        "colab_type": "code",
        "colab": {}
      },
      "source": [
        "# api: code that allows software programs to interact with each other"
      ],
      "execution_count": 0,
      "outputs": []
    },
    {
      "cell_type": "code",
      "metadata": {
        "id": "_54g4w3aZ7sk",
        "colab_type": "code",
        "colab": {
          "base_uri": "https://localhost:8080/",
          "height": 51
        },
        "outputId": "eb7cb1a9-1db3-4080-e1fb-5badc4254bf9"
      },
      "source": [
        "import requests\n",
        "url = 'https://www.omdbapi.com/?t=hackers' #send all data requests to: http://www.omdbapi.com/?apikey=[yourkey]&\n",
        "r = requests.get(url)           #? is the query string, question being asked of the api, i.e. asking about the movie 'Hackers'\n",
        "json_data = r.json()\n",
        "for k, v in json_data.items():\n",
        "  print(k, v)"
      ],
      "execution_count": 39,
      "outputs": [
        {
          "output_type": "stream",
          "text": [
            "Response False\n",
            "Error No API key provided.\n"
          ],
          "name": "stdout"
        }
      ]
    },
    {
      "cell_type": "code",
      "metadata": {
        "id": "kSV5FUdTbAt0",
        "colab_type": "code",
        "colab": {
          "base_uri": "https://localhost:8080/",
          "height": 462
        },
        "outputId": "2ecafedd-d5b7-4de3-f360-fd9e3deaa1a7"
      },
      "source": [
        "import requests\n",
        "url='http://www.omdbapi.com/?i=tt3896198&apikey=4f075074'\n",
        "#url = 'https://www.omdbapi.com/?apikey=4f075074' didn't work \n",
        "r = requests.get(url)\n",
        "json_data = r.json()\n",
        "for k, v in json_data.items():\n",
        "  print(k, v)"
      ],
      "execution_count": 47,
      "outputs": [
        {
          "output_type": "stream",
          "text": [
            "Title Guardians of the Galaxy Vol. 2\n",
            "Year 2017\n",
            "Rated PG-13\n",
            "Released 05 May 2017\n",
            "Runtime 136 min\n",
            "Genre Action, Adventure, Comedy, Sci-Fi\n",
            "Director James Gunn\n",
            "Writer James Gunn, Dan Abnett (based on the Marvel comics by), Andy Lanning (based on the Marvel comics by), Steve Englehart (Star-Lord created by), Steve Gan (Star-Lord created by), Jim Starlin (Gamora and Drax created by), Stan Lee (Groot created by), Larry Lieber (Groot created by), Jack Kirby (Groot created by), Bill Mantlo (Rocket Raccoon created by), Keith Giffen (Rocket Raccoon created by), Steve Gerber (Howard the Duck created by), Val Mayerik (Howard the Duck created by)\n",
            "Actors Chris Pratt, Zoe Saldana, Dave Bautista, Vin Diesel\n",
            "Plot The Guardians struggle to keep together as a team while dealing with their personal family issues, notably Star-Lord's encounter with his father the ambitious celestial being Ego.\n",
            "Language English\n",
            "Country USA\n",
            "Awards Nominated for 1 Oscar. Another 14 wins & 52 nominations.\n",
            "Poster https://m.media-amazon.com/images/M/MV5BNjM0NTc0NzItM2FlYS00YzEwLWE0YmUtNTA2ZWIzODc2OTgxXkEyXkFqcGdeQXVyNTgwNzIyNzg@._V1_SX300.jpg\n",
            "Ratings [{'Source': 'Internet Movie Database', 'Value': '7.6/10'}, {'Source': 'Rotten Tomatoes', 'Value': '85%'}, {'Source': 'Metacritic', 'Value': '67/100'}]\n",
            "Metascore 67\n",
            "imdbRating 7.6\n",
            "imdbVotes 526,626\n",
            "imdbID tt3896198\n",
            "Type movie\n",
            "DVD 22 Aug 2017\n",
            "BoxOffice $389,804,217\n",
            "Production Walt Disney Pictures\n",
            "Website N/A\n",
            "Response True\n"
          ],
          "name": "stdout"
        }
      ]
    },
    {
      "cell_type": "code",
      "metadata": {
        "id": "yCue4GSUeOls",
        "colab_type": "code",
        "colab": {
          "base_uri": "https://localhost:8080/",
          "height": 462
        },
        "outputId": "7081e011-4325-4b62-8ce9-64a7f485e1c3"
      },
      "source": [
        "# Tacking on api key to the url\n",
        "url = 'https://www.omdbapi.com/?t=hackers&apikey=4f075074' \n",
        "r = requests.get(url)           \n",
        "json_data = r.json()\n",
        "for k, v in json_data.items():\n",
        "  print(k, v)"
      ],
      "execution_count": 49,
      "outputs": [
        {
          "output_type": "stream",
          "text": [
            "Title Hackers\n",
            "Year 1995\n",
            "Rated PG-13\n",
            "Released 15 Sep 1995\n",
            "Runtime 105 min\n",
            "Genre Comedy, Crime, Drama, Thriller\n",
            "Director Iain Softley\n",
            "Writer Rafael Moreu\n",
            "Actors Jonny Lee Miller, Angelina Jolie, Jesse Bradford, Matthew Lillard\n",
            "Plot Hackers are blamed for making a virus that will capsize five oil tankers.\n",
            "Language English, Italian, Japanese, Russian\n",
            "Country USA\n",
            "Awards N/A\n",
            "Poster https://m.media-amazon.com/images/M/MV5BNmExMTkyYjItZTg0YS00NWYzLTkwMjItZWJiOWQ2M2ZkYjE4XkEyXkFqcGdeQXVyMTQxNzMzNDI@._V1_SX300.jpg\n",
            "Ratings [{'Source': 'Internet Movie Database', 'Value': '6.3/10'}, {'Source': 'Rotten Tomatoes', 'Value': '33%'}, {'Source': 'Metacritic', 'Value': '46/100'}]\n",
            "Metascore 46\n",
            "imdbRating 6.3\n",
            "imdbVotes 63,220\n",
            "imdbID tt0113243\n",
            "Type movie\n",
            "DVD 24 Apr 2001\n",
            "BoxOffice N/A\n",
            "Production MGM\n",
            "Website N/A\n",
            "Response True\n"
          ],
          "name": "stdout"
        }
      ]
    },
    {
      "cell_type": "code",
      "metadata": {
        "id": "i6Y2hJL-e_N8",
        "colab_type": "code",
        "colab": {
          "base_uri": "https://localhost:8080/",
          "height": 88
        },
        "outputId": "19a60550-0de9-4a81-beda-21f3682fc9ec"
      },
      "source": [
        "url = 'https://en.wikipedia.org/w/api.php?action=query&prop=extracts&format=json&exintro=&titles=pizza' \n",
        "r = requests.get(url)           \n",
        "json_data = r.json()\n",
        "for k, v in json_data.items():\n",
        "  print(k, v)"
      ],
      "execution_count": 50,
      "outputs": [
        {
          "output_type": "stream",
          "text": [
            "batchcomplete \n",
            "warnings {'extracts': {'*': 'HTML may be malformed and/or unbalanced and may omit inline images. Use at your own risk. Known problems are listed at https://www.mediawiki.org/wiki/Extension:TextExtracts#Caveats.'}}\n",
            "query {'normalized': [{'from': 'pizza', 'to': 'Pizza'}], 'pages': {'24768': {'pageid': 24768, 'ns': 0, 'title': 'Pizza', 'extract': '<p class=\"mw-empty-elt\">\\n</p>\\n\\n<p><b>Pizza</b> (<small>Italian:\\xa0</small><span title=\"Representation in the International Phonetic Alphabet (IPA)\">[ˈpittsa]</span>, <small>Neapolitan:\\xa0</small><span title=\"Representation in the International Phonetic Alphabet (IPA)\">[ˈpittsə]</span>) is a savory dish of Italian origin, consisting of a usually round, flattened base of leavened wheat-based dough topped with tomatoes, cheese, and often various other ingredients (anchovies, olives, meat, etc.) baked at a high temperature, traditionally in a wood-fired oven. A small pizza is sometimes called a pizzetta.\\n</p><p>In Italy, pizza served in formal settings, such as at a restaurant, is presented unsliced and eaten with the use of a knife and fork. In casual settings it is cut into wedges to be eaten while held in the hand.\\n</p><p>The term <i>pizza</i> was first recorded in the 10th century in a Latin manuscript from the Southern Italian town of Gaeta in Lazio, on the border with Campania. Modern pizza was invented in Naples, and the dish and its variants have since become popular in many countries. It has become one of the most popular foods in the world and a common fast food item in Europe and North America, available at pizzerias (restaurants specializing in pizza),  restaurants offering Mediterranean cuisine, and via pizza delivery. Many companies sell ready-baked frozen pizzas to be reheated in an ordinary home oven.\\n</p><p>The <i>Associazione Verace Pizza Napoletana</i> (lit. True Neapolitan Pizza Association) is a non-profit organization founded in 1984 with headquarters in Naples that aims to promote traditional Neapolitan pizza. In 2009, upon Italy\\'s request, Neapolitan pizza was registered with the European Union as a Traditional Speciality Guaranteed dish, and in 2017 the art of its making was included on UNESCO\\'s list of intangible cultural heritage.</p>'}}}\n"
          ],
          "name": "stdout"
        }
      ]
    },
    {
      "cell_type": "code",
      "metadata": {
        "id": "EWZe43hsfwg1",
        "colab_type": "code",
        "colab": {
          "base_uri": "https://localhost:8080/",
          "height": 156
        },
        "outputId": "ec8e1589-55d2-4ab1-e063-bbeaac2e1062"
      },
      "source": [
        "pizza_extract = json_data['query']['pages']['24768']['extract']\n",
        "print(pizza_extract)"
      ],
      "execution_count": 52,
      "outputs": [
        {
          "output_type": "stream",
          "text": [
            "<p class=\"mw-empty-elt\">\n",
            "</p>\n",
            "\n",
            "<p><b>Pizza</b> (<small>Italian: </small><span title=\"Representation in the International Phonetic Alphabet (IPA)\">[ˈpittsa]</span>, <small>Neapolitan: </small><span title=\"Representation in the International Phonetic Alphabet (IPA)\">[ˈpittsə]</span>) is a savory dish of Italian origin, consisting of a usually round, flattened base of leavened wheat-based dough topped with tomatoes, cheese, and often various other ingredients (anchovies, olives, meat, etc.) baked at a high temperature, traditionally in a wood-fired oven. A small pizza is sometimes called a pizzetta.\n",
            "</p><p>In Italy, pizza served in formal settings, such as at a restaurant, is presented unsliced and eaten with the use of a knife and fork. In casual settings it is cut into wedges to be eaten while held in the hand.\n",
            "</p><p>The term <i>pizza</i> was first recorded in the 10th century in a Latin manuscript from the Southern Italian town of Gaeta in Lazio, on the border with Campania. Modern pizza was invented in Naples, and the dish and its variants have since become popular in many countries. It has become one of the most popular foods in the world and a common fast food item in Europe and North America, available at pizzerias (restaurants specializing in pizza),  restaurants offering Mediterranean cuisine, and via pizza delivery. Many companies sell ready-baked frozen pizzas to be reheated in an ordinary home oven.\n",
            "</p><p>The <i>Associazione Verace Pizza Napoletana</i> (lit. True Neapolitan Pizza Association) is a non-profit organization founded in 1984 with headquarters in Naples that aims to promote traditional Neapolitan pizza. In 2009, upon Italy's request, Neapolitan pizza was registered with the European Union as a Traditional Speciality Guaranteed dish, and in 2017 the art of its making was included on UNESCO's list of intangible cultural heritage.</p>\n"
          ],
          "name": "stdout"
        }
      ]
    },
    {
      "cell_type": "markdown",
      "metadata": {
        "id": "YXNMUHvkgHYl",
        "colab_type": "text"
      },
      "source": [
        "# Diving in Twitter API"
      ]
    },
    {
      "cell_type": "markdown",
      "metadata": {
        "id": "oGrCUnX3qh7n",
        "colab_type": "text"
      },
      "source": [
        "### Twitter api authentification: See TwitterAnalysis.ipynb"
      ]
    },
    {
      "cell_type": "code",
      "metadata": {
        "id": "ZDtng1VrgArB",
        "colab_type": "code",
        "colab": {}
      },
      "source": [
        ""
      ],
      "execution_count": 0,
      "outputs": []
    }
  ]
}